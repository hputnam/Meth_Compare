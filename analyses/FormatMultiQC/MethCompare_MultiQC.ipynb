{
 "cells": [
  {
   "cell_type": "code",
   "execution_count": null,
   "metadata": {},
   "outputs": [],
   "source": [
    "# run MultiQC on trimmed data and all alignments"
   ]
  },
  {
   "cell_type": "code",
   "execution_count": 13,
   "metadata": {},
   "outputs": [
    {
     "name": "stdout",
     "output_type": "stream",
     "text": [
      "\u001b[1;30m[INFO   ]\u001b[0m         multiqc : This is MultiQC v1.8\n",
      "\u001b[1;30m[INFO   ]\u001b[0m         multiqc : Template    : default\n",
      "\u001b[1;30m[INFO   ]\u001b[0m         multiqc : Prepending directory to sample names\n",
      "\u001b[1;30m[INFO   ]\u001b[0m         multiqc : Searching   : /Volumes/web/metacarcinus/FROGER_meth_compare/20200311/WGBS_MBD\n",
      "\u001b[1;30m[INFO   ]\u001b[0m         multiqc : Searching   : /Volumes/web/metacarcinus/FROGER_meth_compare/20200311/RRBS\n",
      "\u001b[1;30m[INFO   ]\u001b[0m         multiqc : Searching   : /Volumes/web/seashell/bu-mox/scrubbed/031520-TG-bs/Mcap_tg\n",
      "\u001b[1;30m[INFO   ]\u001b[0m         multiqc : Searching   : /Volumes/web/seashell/bu-mox/scrubbed/031520-TG-bs/Pact_tg\n",
      "\u001b[1;30m[INFO   ]\u001b[0m         multiqc : Searching   : /Volumes/web/seashell/bu-mox/scrubbed/032320-Pact-C1/Pact_C1\n",
      "\u001b[?25lSearching 990 files..  [####################################]  100%          \u001b[?25h\n",
      "\u001b[1;30m[INFO   ]\u001b[0m         bismark : Found 27 bismark alignment reports\n",
      "\u001b[1;30m[INFO   ]\u001b[0m         bismark : Found 18 bismark dedup reports\n",
      "\u001b[1;30m[INFO   ]\u001b[0m         bismark : Found 27 bismark methextract reports\n",
      "\u001b[1;30m[INFO   ]\u001b[0m        cutadapt : Found 36 reports\n",
      "\u001b[1;30m[INFO   ]\u001b[0m          fastqc : Found 36 reports\n",
      "\u001b[1;30m[INFO   ]\u001b[0m         multiqc : Compressing plot data\n",
      "\u001b[1;30m[INFO   ]\u001b[0m         multiqc : Report      : multiqc_report.html\n",
      "\u001b[1;30m[INFO   ]\u001b[0m         multiqc : Data        : multiqc_data\n",
      "\u001b[1;30m[INFO   ]\u001b[0m         multiqc : MultiQC complete\n"
     ]
    }
   ],
   "source": [
    "! /Users/strigg/anaconda3/bin/multiqc \\\n",
    "-d \\\n",
    "-o /Volumes/web/metacarcinus/FROGER_meth_compare/20200413 \\\n",
    "/Volumes/web/metacarcinus/FROGER_meth_compare/20200311/WGBS_MBD \\\n",
    "/Volumes/web/metacarcinus/FROGER_meth_compare/20200311/RRBS \\\n",
    "/Volumes/web/seashell/bu-mox/scrubbed/031520-TG-bs/Mcap_tg \\\n",
    "/Volumes/web/seashell/bu-mox/scrubbed/031520-TG-bs/Pact_tg \\\n",
    "/Volumes/web/seashell/bu-mox/scrubbed/032320-Pact-C1/Pact_C1/\n"
   ]
  },
  {
   "cell_type": "code",
   "execution_count": null,
   "metadata": {},
   "outputs": [],
   "source": [
    "#preview report"
   ]
  },
  {
   "cell_type": "code",
   "execution_count": 14,
   "metadata": {},
   "outputs": [
    {
     "name": "stdout",
     "output_type": "stream",
     "text": [
      "Sample\tFastQC_mqc-generalstats-fastqc-percent_duplicates\tFastQC_mqc-generalstats-fastqc-percent_gc\tFastQC_mqc-generalstats-fastqc-avg_sequence_length\tFastQC_mqc-generalstats-fastqc-percent_fails\tFastQC_mqc-generalstats-fastqc-total_sequences\tCutadapt_mqc-generalstats-cutadapt-percent_trimmed\tBismark_mqc-generalstats-bismark-aligned_reads\tBismark_mqc-generalstats-bismark-percent_aligned\tBismark_mqc-generalstats-bismark-percent_cpg_meth\tBismark_mqc-generalstats-bismark-percent_chg_meth\tBismark_mqc-generalstats-bismark-percent_chh_meth\tBismark_mqc-generalstats-bismark-total_c\tBismark_mqc-generalstats-bismark-dup_reads_percent\tBismark_mqc-generalstats-bismark-dedup_reads\r\n",
      "Volumes | web | metacarcinus | FROGER_meth_compare | 20200311 | RRBS | FASTQC | Meth13_R1_001_val_1\t86.80843637889598\t22.0\t110.13262236284821\t18.181818181818183\t100607927.0\t\t\t\t\t\t\t\t\t\r\n",
      "Volumes | web | metacarcinus | FROGER_meth_compare | 20200311 | RRBS | FASTQC | Meth13_R2_001_val_2\t85.01708988329253\t23.0\t111.00148021139528\t27.27272727272727\t100607927.0\t\t\t\t\t\t\t\t\t\r\n",
      "Volumes | web | metacarcinus | FROGER_meth_compare | 20200311 | RRBS | FASTQC | Meth14_R1_001_val_1\t88.0755971196875\t23.0\t103.35173899067667\t18.181818181818183\t69159859.0\t\t\t\t\t\t\t\t\t\r\n",
      "Volumes | web | metacarcinus | FROGER_meth_compare | 20200311 | RRBS | FASTQC | Meth14_R2_001_val_2\t86.77579274621927\t24.0\t104.28066553750493\t27.27272727272727\t69159859.0\t\t\t\t\t\t\t\t\t\r\n",
      "Volumes | web | metacarcinus | FROGER_meth_compare | 20200311 | RRBS | FASTQC | Meth15_R1_001_val_1\t87.47430372395183\t23.0\t105.37495891494108\t18.181818181818183\t108911247.0\t\t\t\t\t\t\t\t\t\r\n",
      "Volumes | web | metacarcinus | FROGER_meth_compare | 20200311 | RRBS | FASTQC | Meth15_R2_001_val_2\t85.9691255576247\t24.0\t106.43497217509594\t27.27272727272727\t108911247.0\t\t\t\t\t\t\t\t\t\r\n",
      "Volumes | web | metacarcinus | FROGER_meth_compare | 20200311 | RRBS | FASTQC | Meth4_R1_001_val_1\t89.47612370769869\t23.0\t102.83421625332632\t18.181818181818183\t149828789.0\t\t\t\t\t\t\t\t\t\r\n",
      "Volumes | web | metacarcinus | FROGER_meth_compare | 20200311 | RRBS | FASTQC | Meth4_R2_001_val_2\t88.35187911295702\t25.0\t104.00309441198246\t27.27272727272727\t149828789.0\t\t\t\t\t\t\t\t\t\r\n",
      "Volumes | web | metacarcinus | FROGER_meth_compare | 20200311 | RRBS | FASTQC | Meth5_R1_001_val_1\t91.84350027418398\t23.0\t103.78223643009376\t18.181818181818183\t284116370.0\t\t\t\t\t\t\t\t\t\r\n"
     ]
    }
   ],
   "source": [
    "!head /Volumes/web/metacarcinus/FROGER_meth_compare/20200413/multiqc_data/multiqc_general_stats.txt\n"
   ]
  },
  {
   "cell_type": "code",
   "execution_count": null,
   "metadata": {},
   "outputs": [],
   "source": [
    "#replace ' | ' with '_'\n",
    "#replace \"Volumes_web_metacarcinus_FROGER_meth_compare_20200311\" with \"Trim\"\n",
    "#replace 'FastQC_mqc-generalstats-' with nothing\n",
    "#replace 'Bismark_mqc-generalstats-' with nothing\n"
   ]
  },
  {
   "cell_type": "code",
   "execution_count": 4,
   "metadata": {},
   "outputs": [
    {
     "name": "stdout",
     "output_type": "stream",
     "text": [
      "Sample\tFastQC_mqc-generalstats-fastqc-percent_duplicates\tFastQC_mqc-generalstats-fastqc-percent_gc\tFastQC_mqc-generalstats-fastqc-avg_sequence_length\tFastQC_mqc-generalstats-fastqc-percent_fails\tFastQC_mqc-generalstats-fastqc-total_sequences\tBismark_mqc-generalstats-bismark-percent_cpg_meth\tBismark_mqc-generalstats-bismark-percent_chg_meth\tBismark_mqc-generalstats-bismark-percent_chh_meth\tBismark_mqc-generalstats-bismark-total_c\tBismark_mqc-generalstats-bismark-dup_reads_percent\tBismark_mqc-generalstats-bismark-dedup_reads\r\n",
      "Volumes_web_metacarcinus_FROGER_meth_compare_20200311_RRBS_FASTQC_Meth13_R1_001_val_1\t86.80843637889598\t22.0\t110.13262236284821\t18.181818181818183\t100607927.0\t\t\t\t\t\t\r\n",
      "Volumes_web_metacarcinus_FROGER_meth_compare_20200311_RRBS_FASTQC_Meth13_R2_001_val_2\t85.01708988329253\t23.0\t111.00148021139528\t27.27272727272727\t100607927.0\t\t\t\t\t\t\r\n",
      "Volumes_web_metacarcinus_FROGER_meth_compare_20200311_RRBS_FASTQC_Meth14_R1_001_val_1\t88.0755971196875\t23.0\t103.35173899067667\t18.181818181818183\t69159859.0\t\t\t\t\t\t\r",
      "\r\n",
      "Volumes_web_metacarcinus_FROGER_meth_compare_20200311_RRBS_FASTQC_Meth14_R2_001_val_2\t86.77579274621927\t24.0\t104.28066553750493\t27.27272727272727\t69159859.0\t\t\t\t\t\t\r\n",
      "Volumes_web_metacarcinus_FROGER_meth_compare_20200311_RRBS_FASTQC_Meth15_R1_001_val_1\t87.47430372395183\t23.0\t105.37495891494108\t18.181818181818183\t108911247.0\t\t\t\t\t\t\r\n",
      "Volumes_web_metacarcinus_FROGER_meth_compare_20200311_RRBS_FASTQC_Meth15_R2_001_val_2\t85.9691255576247\t24.0\t106.43497217509594\t27.27272727272727\t108911247.0\t\t\t\t\t\t\r\n",
      "Volumes_web_metacarcinus_FROGER_meth_compare_20200311_RRBS_FASTQC_Meth4_R1_001_val_1\t89.47612370769869\t23.0\t102.83421625332632\t18.181818181818183\t149828789.0\t\t\t\t\t\t\r\n",
      "Volumes_web_metacarcinus_FROGER_meth_compare_20200311_RRBS_FASTQC_Meth4_R2_001_val_2\t88.35187911295702\t25.0\t104.00309441198246\t27.27272727272727\t149828789.0\t\t\t\t\t\t\r\n",
      "Volumes_web_metacarcinus_FROGER_meth_compare_20200311_RRBS_FASTQC_Meth5_R1_001_val_1\t91.84350027418398\t23.0\t103.78223643009376\t18.181818181818183\t284116370.0\t\t\t\t\t\t\r\n"
     ]
    }
   ],
   "source": [
    "!sed 's/ \\| /_/g' \\\n",
    "/Volumes/web/metacarcinus/FROGER_meth_compare/20200413/multiqc_data/multiqc_general_stats.txt |\\\n",
    "head"
   ]
  },
  {
   "cell_type": "code",
   "execution_count": null,
   "metadata": {},
   "outputs": [],
   "source": []
  },
  {
   "cell_type": "code",
   "execution_count": 10,
   "metadata": {
    "scrolled": false
   },
   "outputs": [
    {
     "name": "stdout",
     "output_type": "stream",
     "text": [
      "Sample\tFastQC_mqc-generalstats-fastqc-percent_duplicates\tFastQC_mqc-generalstats-fastqc-percent_gc\tFastQC_mqc-generalstats-fastqc-avg_sequence_length\tFastQC_mqc-generalstats-fastqc-percent_fails\tFastQC_mqc-generalstats-fastqc-total_sequences\tBismark_mqc-generalstats-bismark-percent_cpg_meth\tBismark_mqc-generalstats-bismark-percent_chg_meth\tBismark_mqc-generalstats-bismark-percent_chh_meth\tBismark_mqc-generalstats-bismark-total_c\tBismark_mqc-generalstats-bismark-dup_reads_percent\tBismark_mqc-generalstats-bismark-dedup_reads\r\n",
      "TRIM_RRBS_FASTQC_Meth13_R1_001_val_1\t86.80843637889598\t22.0\t110.13262236284821\t18.181818181818183\t100607927.0\t\t\t\t\t\t\r\n",
      "TRIM_RRBS_FASTQC_Meth13_R2_001_val_2\t85.01708988329253\t23.0\t111.00148021139528\t27.27272727272727\t100607927.0\t\t\t\t\t\t\r\n",
      "TRIM_RRBS_FASTQC_Meth14_R1_001_val_1\t88.0755971196875\t23.0\t103.35173899067667\t18.181818181818183\t69159859.0\t\t\t\t\t\t\r\n",
      "TRIM_RRBS_FASTQC_Meth14_R2_001_val_2\t86.77579274621927\t24.0\t104.28066553750493\t27.27272727272727\t69159859.0\t\t\t\t\t\t\r\n",
      "TRIM_RRBS_FASTQC_Meth15_R1_001_val_1\t87.47430372395183\t23.0\t105.37495891494108\t18.181818181818183\t108911247.0\t\t\t\t\t\t\r\n",
      "TRIM_RRBS_FASTQC_Meth15_R2_001_val_2\t85.9691255576247\t24.0\t106.43497217509594\t27.27272727272727\t108911247.0\t\t\t\t\t\t\r\n",
      "TRIM_RRBS_FASTQC_Meth4_R1_001_val_1\t89.47612370769869\t23.0\t102.83421625332632\t18.181818181818183\t149828789.0\t\t\t\t\t\t\r\n",
      "TRIM_RRBS_FASTQC_Meth4_R2_001_val_2\t88.35187911295702\t25.0\t104.00309441198246\t27.27272727272727\t149828789.0\t\t\t\t\t\t\r\n",
      "TRIM_RRBS_FASTQC_Meth5_R1_001_val_1\t91.84350027418398\t23.0\t103.78223643009376\t18.181818181818183\t284116370.0\t\t\t\t\t\t\r\n",
      "TRIM_RRBS_FASTQC_Meth5_R2_001_val_2\t90.11833814787411\t24.0\t104.91505913580411\t27.27272727272727\t284116370.0\t\t\t\t\t\t\r\n",
      "TRIM_RRBS_FASTQC_Meth6_R1_001_val_1\t89.22168285375037\t23.0\t103.12301993192081\t18.181818181818183\t140382105.0\t\t\t\t\t\t\r\n",
      "TRIM_RRBS_FASTQC_Meth6_R2_001_val_2\t87.69705338222235\t24.0\t104.30189024448664\t27.27272727272727\t140382105.0\t\t\t\t\t\t\r\n",
      "TRIM_WGBS_MBD_FASTQC_Meth10_R1_001_val_1\t53.404740643233396\t22.0\t112.56254459921864\t9.090909090909092\t83382907.0\t\t\t\t\t\t\r\n",
      "TRIM_WGBS_MBD_FASTQC_Meth10_R2_001_val_2\t51.90618899753201\t23.0\t112.9956281567396\t18.181818181818183\t83382907.0\t\t\t\t\t\t\r\n",
      "TRIM_WGBS_MBD_FASTQC_Meth11_R1_001_val_1\t39.47401715416046\t22.0\t113.71314606310087\t0.0\t56845589.0\t\t\t\t\t\t\r\n",
      "TRIM_WGBS_MBD_FASTQC_Meth11_R2_001_val_2\t38.51201690016598\t23.0\t113.99796474973634\t9.090909090909092\t56845589.0\t\t\t\t\t\t\r\n",
      "TRIM_WGBS_MBD_FASTQC_Meth12_R1_001_val_1\t42.96567548802719\t22.0\t115.89201814330568\t0.0\t94422705.0\t\t\t\t\t\t\r\n",
      "TRIM_WGBS_MBD_FASTQC_Meth12_R2_001_val_2\t42.37455273826632\t23.0\t116.33368471068479\t18.181818181818183\t94422705.0\t\t\t\t\t\t\r\n",
      "TRIM_WGBS_MBD_FASTQC_Meth16_R1_001_val_1\t64.68816198487195\t24.0\t112.72176000518171\t9.090909090909092\t73273057.0\t\t\t\t\t\t\r\n",
      "TRIM_WGBS_MBD_FASTQC_Meth16_R2_001_val_2\t60.92435039896552\t26.0\t113.31756017767896\t27.27272727272727\t73273057.0\t\t\t\t\t\t\r\n",
      "TRIM_WGBS_MBD_FASTQC_Meth17_R1_001_val_1\t74.36157001656045\t27.0\t111.50306274407086\t18.181818181818183\t81609496.0\t\t\t\t\t\t\r\n",
      "TRIM_WGBS_MBD_FASTQC_Meth17_R2_001_val_2\t72.32626121735512\t29.0\t112.03811702255825\t27.27272727272727\t81609496.0\t\t\t\t\t\t\r\n",
      "TRIM_WGBS_MBD_FASTQC_Meth18_R1_001_val_1\t72.50722705941891\t24.0\t113.0152686675738\t9.090909090909092\t61585400.0\t\t\t\t\t\t\r\n",
      "TRIM_WGBS_MBD_FASTQC_Meth18_R2_001_val_2\t70.23031426614408\t26.0\t113.49916856917386\t27.27272727272727\t61585400.0\t\t\t\t\t\t\r\n",
      "TRIM_WGBS_MBD_FASTQC_Meth1_R1_001_val_1\t46.057605205622295\t21.0\t113.84973900128176\t0.0\t74424695.0\t\t\t\t\t\t\r\n",
      "TRIM_WGBS_MBD_FASTQC_Meth1_R2_001_val_2\t45.15535247513971\t22.0\t114.22255270243298\t18.181818181818183\t74424695.0\t\t\t\t\t\t\r\n",
      "TRIM_WGBS_MBD_FASTQC_Meth2_R1_001_val_1\t39.88507514587929\t21.0\t111.25369573199227\t0.0\t84959218.0\t\t\t\t\t\t\r\n",
      "TRIM_WGBS_MBD_FASTQC_Meth2_R2_001_val_2\t39.37244764455101\t22.0\t111.59678934427103\t18.181818181818183\t84959218.0\t\t\t\t\t\t\r\n",
      "TRIM_WGBS_MBD_FASTQC_Meth3_R1_001_val_1\t41.29391433665619\t21.0\t113.48935994186755\t0.0\t77672273.0\t\t\t\t\t\t\r\n",
      "TRIM_WGBS_MBD_FASTQC_Meth3_R2_001_val_2\t41.11592150390446\t22.0\t113.89556843534115\t18.181818181818183\t77672273.0\t\t\t\t\t\t\r\n",
      "TRIM_WGBS_MBD_FASTQC_Meth7_R1_001_val_1\t45.52510252348706\t24.0\t109.04828130785533\t0.0\t95537325.0\t\t\t\t\t\t\r\n",
      "TRIM_WGBS_MBD_FASTQC_Meth7_R2_001_val_2\t44.7721229617166\t25.0\t109.48419242426978\t18.181818181818183\t95537325.0\t\t\t\t\t\t\r\n",
      "TRIM_WGBS_MBD_FASTQC_Meth8_R1_001_val_1\t43.5694202100285\t27.0\t108.25933274473638\t0.0\t85174300.0\t\t\t\t\t\t\r\n",
      "TRIM_WGBS_MBD_FASTQC_Meth8_R2_001_val_2\t43.14732472469868\t27.0\t108.82947938521362\t0.0\t85174300.0\t\t\t\t\t\t\r\n",
      "TRIM_WGBS_MBD_FASTQC_Meth9_R1_001_val_1\t45.85056707748818\t24.0\t107.86788838637479\t0.0\t87033711.0\t\t\t\t\t\t\r\n",
      "TRIM_WGBS_MBD_FASTQC_Meth9_R2_001_val_2\t45.39674011666875\t25.0\t108.61608928751757\t18.181818181818183\t87033711.0\t\t\t\t\t\t\r\n",
      "Mcap_tg_dedup_Meth10_R1_001_val_1\t\t\t\t\t\t12.2\t1.4\t1.3\t377801526.0\t61.89\t12586555.0\r\n",
      "Mcap_tg_dedup_Meth11_R1_001_val_1\t\t\t\t\t\t13.1\t1.2\t1.2\t377810828.0\t47.14\t12310469.0\r\n",
      "Mcap_tg_dedup_Meth12_R1_001_val_1\t\t\t\t\t\t13.3\t1.4\t1.3\t585966050.0\t50.92\t18456841.0\r\n",
      "Mcap_tg_dedup_Meth16_R1_001_val_1\t\t\t\t\t\t16.4\t1.6\t1.6\t147847655.0\t71.16\t5122054.0\r\n",
      "Mcap_tg_dedup_Meth17_R1_001_val_1\t\t\t\t\t\t14.5\t1.5\t1.8\t96210834.0\t81.38\t3562643.0\r\n",
      "Mcap_tg_dedup_Meth18_R1_001_val_1\t\t\t\t\t\t14.0\t1.5\t1.7\t79363772.0\t80.01\t2799287.0\r\n",
      "Mcap_tg_nodedup_Meth13_R1_001_val_1\t\t\t\t\t\t4.4\t0.7\t0.6\t1822294914.0\t\t\r\n",
      "Mcap_tg_nodedup_Meth14_R1_001_val_1\t\t\t\t\t\t4.1\t0.6\t0.6\t1063289928.0\t\t\r\n",
      "Mcap_tg_nodedup_Meth15_R1_001_val_1\t\t\t\t\t\t4.4\t1.0\t0.9\t1737850815.0\t\t\r\n",
      "Pact_tg_dedup_Meth1_R1_001_val_1\t\t\t\t\t\t3.3\t1.2\t1.2\t459787306.0\t55.35\t16148753.0\r\n",
      "Pact_tg_dedup_Meth2_R1_001_val_1\t\t\t\t\t\t3.1\t1.2\t1.2\t614704685.0\t47.94\t22670867.0\r\n",
      "Pact_tg_dedup_Meth3_R1_001_val_1\t\t\t\t\t\t3.4\t1.2\t1.2\t509040541.0\t49.75\t18438800.0\r\n",
      "Pact_tg_dedup_Meth7_R1_001_val_1\t\t\t\t\t\t25.1\t1.6\t1.7\t352414595.0\t55.12\t13654838.0\r\n",
      "Pact_tg_dedup_Meth8_R1_001_val_1\t\t\t\t\t\t41.7\t1.9\t2.5\t166459693.0\t53.21\t6138217.0\r\n",
      "Pact_tg_dedup_Meth9_R1_001_val_1\t\t\t\t\t\t20.4\t1.7\t1.8\t322173438.0\t55.17\t12868822.0\r\n",
      "Pact_tg_nodedup_Meth4_R1_001_val_1\t\t\t\t\t\t2.4\t0.9\t1.0\t2362581637.0\t\t\r\n",
      "Pact_tg_nodedup_Meth5_R1_001_val_1\t\t\t\t\t\t1.8\t0.6\t0.7\t4957355626.0\t\t\r\n",
      "Pact_tg_nodedup_Meth6_R1_001_val_1\t\t\t\t\t\t2.4\t0.8\t0.9\t2304373949.0\t\t\r\n",
      "Pact-C1_Pact_C1_dedup_Meth1_R1_001_val_1\t\t\t\t\t\t79.6\t3.5\t9.3\t27552872.0\t51.66\t570159.0\r\n",
      "Pact-C1_Pact_C1_dedup_Meth2_R1_001_val_1\t\t\t\t\t\t84.5\t3.7\t11.6\t21313791.0\t45.75\t1002712.0\r\n",
      "Pact-C1_Pact_C1_dedup_Meth3_R1_001_val_1\t\t\t\t\t\t82.9\t3.5\t10.1\t19770644.0\t47.09\t821827.0\r\n",
      "Pact-C1_Pact_C1_dedup_Meth7_R1_001_val_1\t\t\t\t\t\t92.5\t2.9\t3.4\t222906237.0\t53.59\t8194473.0\r\n",
      "Pact-C1_Pact_C1_dedup_Meth8_R1_001_val_1\t\t\t\t\t\t92.9\t3.0\t3.0\t416257728.0\t51.92\t14663030.0\r\n",
      "Pact-C1_Pact_C1_dedup_Meth9_R1_001_val_1\t\t\t\t\t\t92.1\t3.1\t3.7\t173811616.0\t54.33\t6540717.0\r\n",
      "Pact-C1_Pact_C1_nodedup_Meth4_R1_001_val_1\t\t\t\t\t\t28.6\t4.3\t22.4\t90522097.0\t\t\r\n",
      "Pact-C1_Pact_C1_nodedup_Meth5_R1_001_val_1\t\t\t\t\t\t38.7\t3.9\t21.0\t197309115.0\t\t\r\n",
      "Pact-C1_Pact_C1_nodedup_Meth6_R1_001_val_1\t\t\t\t\t\t36.4\t3.7\t19.6\t106572438.0\t\t\r\n"
     ]
    }
   ],
   "source": [
    "!sed 's/ \\| /_/g' \\\n",
    "/Volumes/web/metacarcinus/FROGER_meth_compare/20200413/multiqc_data/multiqc_general_stats.txt |\\\n",
    "sed 's/Volumes_web_metacarcinus_FROGER_meth_compare_20200311/TRIM/g' |\\\n",
    "sed 's/Volumes_web_seashell_bu-mox_scrubbed_031520-TG-bs_//g' |\\\n",
    "sed 's/Volumes_web_seashell_bu-mox_scrubbed_032320-//g'"
   ]
  },
  {
   "cell_type": "code",
   "execution_count": null,
   "metadata": {},
   "outputs": [],
   "source": []
  },
  {
   "cell_type": "code",
   "execution_count": null,
   "metadata": {},
   "outputs": [],
   "source": []
  },
  {
   "cell_type": "code",
   "execution_count": null,
   "metadata": {},
   "outputs": [],
   "source": []
  },
  {
   "cell_type": "code",
   "execution_count": null,
   "metadata": {},
   "outputs": [],
   "source": []
  },
  {
   "cell_type": "code",
   "execution_count": null,
   "metadata": {},
   "outputs": [],
   "source": []
  },
  {
   "cell_type": "code",
   "execution_count": null,
   "metadata": {},
   "outputs": [],
   "source": []
  },
  {
   "cell_type": "code",
   "execution_count": null,
   "metadata": {},
   "outputs": [],
   "source": []
  },
  {
   "cell_type": "code",
   "execution_count": null,
   "metadata": {},
   "outputs": [],
   "source": []
  },
  {
   "cell_type": "code",
   "execution_count": null,
   "metadata": {},
   "outputs": [],
   "source": []
  },
  {
   "cell_type": "code",
   "execution_count": null,
   "metadata": {},
   "outputs": [],
   "source": []
  },
  {
   "cell_type": "code",
   "execution_count": null,
   "metadata": {},
   "outputs": [],
   "source": []
  }
 ],
 "metadata": {
  "kernelspec": {
   "display_name": "Python 3",
   "language": "python",
   "name": "python3"
  },
  "language_info": {
   "codemirror_mode": {
    "name": "ipython",
    "version": 3
   },
   "file_extension": ".py",
   "mimetype": "text/x-python",
   "name": "python",
   "nbconvert_exporter": "python",
   "pygments_lexer": "ipython3",
   "version": "3.6.8"
  }
 },
 "nbformat": 4,
 "nbformat_minor": 4
}
