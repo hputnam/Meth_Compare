{
 "cells": [
  {
   "cell_type": "markdown",
   "metadata": {},
   "source": [
    "# Here we see how many of all the CpGs are captured ..."
   ]
  },
  {
   "cell_type": "markdown",
   "metadata": {
    "ExecuteTime": {
     "end_time": "2020-04-03T04:58:54.070909Z",
     "start_time": "2020-04-03T04:58:54.063291Z"
    }
   },
   "source": [
    "## In combined Pact\n"
   ]
  },
  {
   "cell_type": "code",
   "execution_count": 6,
   "metadata": {
    "ExecuteTime": {
     "end_time": "2020-04-03T04:46:17.072356Z",
     "start_time": "2020-04-03T04:46:16.927056Z"
    }
   },
   "outputs": [
    {
     "name": "stdout",
     "output_type": "stream",
     "text": [
      "-rw-r--r--@ 1 sr320  staff   3.6G Mar 29 11:49 ../genome-feature-files/C1_CpG.gff\r\n",
      "-rw-r--r--@ 1 sr320  staff   2.5G Mar 29 11:12 ../genome-feature-files/Mcap_CpG.gff\r\n",
      "-rw-r--r--@ 1 sr320  staff   1.0G Mar 29 09:30 ../genome-feature-files/Pact_CpG.gff\r\n"
     ]
    }
   ],
   "source": [
    "!ls -lh ../genome-feature-files/*CpG.gff"
   ]
  },
  {
   "cell_type": "code",
   "execution_count": 1,
   "metadata": {
    "ExecuteTime": {
     "end_time": "2020-04-03T05:17:02.214407Z",
     "start_time": "2020-04-03T05:17:02.055910Z"
    }
   },
   "outputs": [
    {
     "name": "stdout",
     "output_type": "stream",
     "text": [
      "chrom\tstart\tend\t1\t2\t3\t4\t5\t6\t7\t8\t9\r\n",
      "scaffold1_cov55\t49\t51\tN/A\t0.000000\tN/A\tN/A\tN/A\tN/A\tN/A\tN/A\tN/A\r\n",
      "scaffold1_cov55\t84\t86\tN/A\t0.000000\tN/A\tN/A\tN/A\tN/A\tN/A\tN/A\tN/A\r\n",
      "scaffold1_cov55\t92\t94\tN/A\t0.000000\tN/A\tN/A\tN/A\tN/A\tN/A\tN/A\tN/A\r\n",
      "scaffold1_cov55\t102\t104\t16.666667\t0.000000\tN/A\tN/A\tN/A\tN/A\tN/A\tN/A\tN/A\r\n",
      "scaffold1_cov55\t105\t107\t0.000000\t12.500000\tN/A\tN/A\tN/A\tN/A\tN/A\tN/A\tN/A\r\n",
      "scaffold1_cov55\t116\t118\t0.000000\t0.000000\tN/A\tN/A\tN/A\tN/A\tN/A\tN/A\tN/A\r\n",
      "scaffold1_cov55\t119\t121\t0.000000\t0.000000\t20.000000\tN/A\tN/A\tN/A\tN/A\tN/A\tN/A\r\n",
      "scaffold1_cov55\t146\t148\t0.000000\t0.000000\tN/A\tN/A\tN/A\tN/A\tN/A\tN/A\tN/A\r\n",
      "scaffold1_cov55\t169\t171\tN/A\t0.000000\tN/A\tN/A\tN/A\tN/A\tN/A\tN/A\tN/A\r\n"
     ]
    }
   ],
   "source": [
    "!head ../analyses/10-unionbedg/Pact_union_5x.bedgraph"
   ]
  },
  {
   "cell_type": "code",
   "execution_count": 9,
   "metadata": {
    "ExecuteTime": {
     "end_time": "2020-04-03T05:22:07.327924Z",
     "start_time": "2020-04-03T05:22:07.180159Z"
    }
   },
   "outputs": [
    {
     "name": "stdout",
     "output_type": "stream",
     "text": [
      "scaffold168460_cov188\t280\t282\tN/A\t0.000000\t0.000000\tN/A\tN/A\tN/A\tN/A\tN/A\tN/A\r\n",
      "scaffold168461_cov203\t69\t71\tN/A\tN/A\t0.000000\tN/A\tN/A\tN/A\tN/A\tN/A\tN/A\r\n",
      "scaffold168461_cov203\t142\t144\tN/A\tN/A\t0.000000\tN/A\tN/A\tN/A\tN/A\tN/A\tN/A\r\n",
      "scaffold168461_cov203\t148\t150\tN/A\tN/A\t12.500000\tN/A\tN/A\tN/A\tN/A\tN/A\tN/A\r\n",
      "scaffold168463_cov229\t14\t16\tN/A\t10.000000\tN/A\tN/A\tN/A\tN/A\tN/A\tN/A\tN/A\r\n",
      "scaffold168463_cov229\t95\t97\tN/A\t5.555556\t0.000000\tN/A\tN/A\tN/A\tN/A\tN/A\tN/A\r\n",
      "scaffold168463_cov229\t106\t108\tN/A\t0.000000\t0.000000\tN/A\tN/A\tN/A\tN/A\tN/A\tN/A\r\n",
      "scaffold168465_cov225\t45\t47\tN/A\t0.000000\tN/A\tN/A\tN/A\tN/A\tN/A\tN/A\tN/A\r\n",
      "scaffold168465_cov225\t48\t50\tN/A\t0.000000\tN/A\tN/A\tN/A\tN/A\tN/A\tN/A\tN/A\r\n",
      "scaffold168465_cov225\t59\t61\tN/A\t0.000000\t0.000000\tN/A\tN/A\tN/A\tN/A\tN/A\tN/A\r\n"
     ]
    }
   ],
   "source": [
    "!tail ../analyses/10-unionbedg/Pact_union_5x.bedgraph"
   ]
  },
  {
   "cell_type": "code",
   "execution_count": 8,
   "metadata": {
    "ExecuteTime": {
     "end_time": "2020-04-03T05:21:39.168535Z",
     "start_time": "2020-04-03T05:21:36.677325Z"
    }
   },
   "outputs": [
    {
     "name": "stdout",
     "output_type": "stream",
     "text": [
      " 15758676 ../analyses/10-unionbedg/Pact_union_5x.bedgraph\r\n"
     ]
    }
   ],
   "source": [
    "!wc -l ../analyses/10-unionbedg/Pact_union_5x.bedgraph"
   ]
  },
  {
   "cell_type": "code",
   "execution_count": 5,
   "metadata": {
    "ExecuteTime": {
     "end_time": "2020-04-03T05:18:02.413896Z",
     "start_time": "2020-04-03T05:18:02.381673Z"
    }
   },
   "outputs": [
    {
     "data": {
      "text/plain": [
       "1.7212024963901953"
      ]
     },
     "execution_count": 5,
     "metadata": {},
     "output_type": "execute_result"
    }
   ],
   "source": [
    "15758676/9155620"
   ]
  },
  {
   "cell_type": "markdown",
   "metadata": {},
   "source": [
    "# something is messed up!"
   ]
  },
  {
   "cell_type": "code",
   "execution_count": 3,
   "metadata": {
    "ExecuteTime": {
     "end_time": "2020-04-03T05:17:33.998614Z",
     "start_time": "2020-04-03T05:17:33.859427Z"
    }
   },
   "outputs": [
    {
     "name": "stdout",
     "output_type": "stream",
     "text": [
      "##gff-version 2.0\r\n",
      "##date 2020-03-29\r\n",
      "##Type DNA scaffold1_cov55\r\n",
      "scaffold1_cov55\tfuzznuc\tmisc_feature\t23\t24\t2.000\t+\t.\tSequence \"scaffold1_cov55.1\" ; note \"*pat pattern1\"\r\n",
      "scaffold1_cov55\tfuzznuc\tmisc_feature\t35\t36\t2.000\t+\t.\tSequence \"scaffold1_cov55.2\" ; note \"*pat pattern1\"\r\n",
      "scaffold1_cov55\tfuzznuc\tmisc_feature\t50\t51\t2.000\t+\t.\tSequence \"scaffold1_cov55.3\" ; note \"*pat pattern1\"\r\n",
      "scaffold1_cov55\tfuzznuc\tmisc_feature\t85\t86\t2.000\t+\t.\tSequence \"scaffold1_cov55.4\" ; note \"*pat pattern1\"\r\n",
      "scaffold1_cov55\tfuzznuc\tmisc_feature\t93\t94\t2.000\t+\t.\tSequence \"scaffold1_cov55.5\" ; note \"*pat pattern1\"\r\n",
      "scaffold1_cov55\tfuzznuc\tmisc_feature\t103\t104\t2.000\t+\t.\tSequence \"scaffold1_cov55.6\" ; note \"*pat pattern1\"\r\n",
      "scaffold1_cov55\tfuzznuc\tmisc_feature\t106\t107\t2.000\t+\t.\tSequence \"scaffold1_cov55.7\" ; note \"*pat pattern1\"\r\n"
     ]
    }
   ],
   "source": [
    "!head ../genome-feature-files/Pact_CpG.gff"
   ]
  },
  {
   "cell_type": "code",
   "execution_count": 10,
   "metadata": {
    "ExecuteTime": {
     "end_time": "2020-04-03T05:22:25.854658Z",
     "start_time": "2020-04-03T05:22:25.713455Z"
    }
   },
   "outputs": [
    {
     "name": "stdout",
     "output_type": "stream",
     "text": [
      "scaffold168464_cov461\tfuzznuc\tmisc_feature\t177\t178\t2.000\t+\t.\tSequence \"scaffold168464_cov461.1\" ; note \"*pat pattern1\"\r\n",
      "scaffold168464_cov461\tfuzznuc\tmisc_feature\t311\t312\t2.000\t+\t.\tSequence \"scaffold168464_cov461.2\" ; note \"*pat pattern1\"\r\n",
      "scaffold168464_cov461\tfuzznuc\tmisc_feature\t341\t342\t2.000\t+\t.\tSequence \"scaffold168464_cov461.3\" ; note \"*pat pattern1\"\r\n",
      "scaffold168464_cov461\tfuzznuc\tmisc_feature\t373\t374\t2.000\t+\t.\tSequence \"scaffold168464_cov461.4\" ; note \"*pat pattern1\"\r\n",
      "##gff-version 2.0\r\n",
      "##date 2020-03-29\r\n",
      "##Type DNA scaffold168465_cov225\r\n",
      "scaffold168465_cov225\tfuzznuc\tmisc_feature\t46\t47\t2.000\t+\t.\tSequence \"scaffold168465_cov225.1\" ; note \"*pat pattern1\"\r\n",
      "scaffold168465_cov225\tfuzznuc\tmisc_feature\t49\t50\t2.000\t+\t.\tSequence \"scaffold168465_cov225.2\" ; note \"*pat pattern1\"\r\n",
      "scaffold168465_cov225\tfuzznuc\tmisc_feature\t60\t61\t2.000\t+\t.\tSequence \"scaffold168465_cov225.3\" ; note \"*pat pattern1\"\r\n"
     ]
    }
   ],
   "source": [
    "!tail ../genome-feature-files/Pact_CpG.gff"
   ]
  },
  {
   "cell_type": "code",
   "execution_count": 4,
   "metadata": {
    "ExecuteTime": {
     "end_time": "2020-04-03T05:17:55.451607Z",
     "start_time": "2020-04-03T05:17:43.948492Z"
    }
   },
   "outputs": [
    {
     "name": "stdout",
     "output_type": "stream",
     "text": [
      "9155620\r\n"
     ]
    }
   ],
   "source": [
    "!fgrep -c \"fuzznuc\tmisc_feature\" ../genome-feature-files/Pact_CpG.gff"
   ]
  },
  {
   "cell_type": "code",
   "execution_count": 7,
   "metadata": {
    "ExecuteTime": {
     "end_time": "2020-04-03T05:19:53.587887Z",
     "start_time": "2020-04-03T05:19:44.127003Z"
    }
   },
   "outputs": [
    {
     "name": "stdout",
     "output_type": "stream",
     "text": [
      "9155620\r\n"
     ]
    }
   ],
   "source": [
    "!fgrep -c \"2.000\" ../genome-feature-files/Pact_CpG.gff"
   ]
  },
  {
   "cell_type": "code",
   "execution_count": 6,
   "metadata": {
    "ExecuteTime": {
     "end_time": "2020-04-03T05:19:17.781454Z",
     "start_time": "2020-04-03T05:19:15.225255Z"
    }
   },
   "outputs": [
    {
     "name": "stdout",
     "output_type": "stream",
     "text": [
      " 9639415\r\n"
     ]
    }
   ],
   "source": [
    "!cat ../genome-feature-files/Pact_CpG.gff | wc -l"
   ]
  },
  {
   "cell_type": "code",
   "execution_count": null,
   "metadata": {},
   "outputs": [],
   "source": []
  }
 ],
 "metadata": {
  "kernelspec": {
   "display_name": "Python 3",
   "language": "python",
   "name": "python3"
  },
  "language_info": {
   "codemirror_mode": {
    "name": "ipython",
    "version": 3
   },
   "file_extension": ".py",
   "mimetype": "text/x-python",
   "name": "python",
   "nbconvert_exporter": "python",
   "pygments_lexer": "ipython3",
   "version": "3.6.8"
  }
 },
 "nbformat": 4,
 "nbformat_minor": 2
}
