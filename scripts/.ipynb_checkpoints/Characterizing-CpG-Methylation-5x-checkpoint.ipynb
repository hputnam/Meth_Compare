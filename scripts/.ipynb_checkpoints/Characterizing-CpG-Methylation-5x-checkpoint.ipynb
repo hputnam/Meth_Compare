{
 "cells": [
  {
   "cell_type": "markdown",
   "metadata": {},
   "source": [
    "# Characterizing CpG Methylation (5x data)\n",
    "\n",
    "In this notebook, general methylation landscapes in *Montipora capitata* and *Pocillopora acuta* will be characterized based on WGSB, RRBS, and MBD-BSseq data. I will also assess CG motif overlaps with various genome feature tracks to understand where methylation may occur across the genome. I will use 5x data.\n",
    "\n",
    "1. Characterize overlap between CG motifs and genome feature tracks\n",
    "1. Download coverage files\n",
    "2. Characterize methylation for each CpG dinucleotide\n",
    "3. Characterize genomic locations of all sequenced data, methylated CpGs, sparsely methylated CpGs, and unmethylated CpGs for each sequencing type"
   ]
  },
  {
   "cell_type": "markdown",
   "metadata": {},
   "source": [
    "## 0. Set working directory and obtain checksums"
   ]
  },
  {
   "cell_type": "code",
   "execution_count": 1,
   "metadata": {
    "collapsed": false
   },
   "outputs": [
    {
     "name": "stdout",
     "output_type": "stream",
     "text": [
      "/Users/yaamini/Documents/Meth_Compare/scripts\r\n"
     ]
    }
   ],
   "source": [
    "!pwd"
   ]
  },
  {
   "cell_type": "code",
   "execution_count": 2,
   "metadata": {
    "collapsed": false
   },
   "outputs": [
    {
     "name": "stdout",
     "output_type": "stream",
     "text": [
      "/Users/yaamini/Documents/Meth_Compare/analyses\n"
     ]
    }
   ],
   "source": [
    "cd ../analyses/"
   ]
  },
  {
   "cell_type": "code",
   "execution_count": 3,
   "metadata": {
    "collapsed": true
   },
   "outputs": [],
   "source": [
    "#!mkdir Characterizing-CpG-Methylation-5x"
   ]
  },
  {
   "cell_type": "code",
   "execution_count": 4,
   "metadata": {
    "collapsed": false,
    "scrolled": true
   },
   "outputs": [
    {
     "name": "stdout",
     "output_type": "stream",
     "text": [
      "/Users/yaamini/Documents/Meth_Compare/analyses/Characterizing-CpG-Methylation-5x\n"
     ]
    }
   ],
   "source": [
    "cd Characterizing-CpG-Methylation-5x/"
   ]
  },
  {
   "cell_type": "code",
   "execution_count": 5,
   "metadata": {
    "collapsed": false,
    "scrolled": true
   },
   "outputs": [
    {
     "name": "stdout",
     "output_type": "stream",
     "text": [
      "--2020-06-11 11:42:02--  https://gannet.fish.washington.edu/metacarcinus/FROGER_meth_compare/20200410/all_031520-TG-bs_files_GANNET_md5sum.txt\n",
      "Resolving gannet.fish.washington.edu (gannet.fish.washington.edu)... 128.95.149.52\n",
      "Connecting to gannet.fish.washington.edu (gannet.fish.washington.edu)|128.95.149.52|:443... connected.\n",
      "HTTP request sent, awaiting response... 200 OK\n",
      "Length: 90413 (88K) [text/plain]\n",
      "Saving to: ‘all_031520-TG-bs_files_GANNET_md5sum.txt.1’\n",
      "\n",
      "all_031520-TG-bs_fi 100%[===================>]  88.29K  --.-KB/s    in 0.001s  \n",
      "\n",
      "2020-06-11 11:42:02 (65.4 MB/s) - ‘all_031520-TG-bs_files_GANNET_md5sum.txt.1’ saved [90413/90413]\n",
      "\n"
     ]
    }
   ],
   "source": [
    "!wget https://gannet.fish.washington.edu/metacarcinus/FROGER_meth_compare/20200410/all_031520-TG-bs_files_GANNET_md5sum.txt"
   ]
  },
  {
   "cell_type": "code",
   "execution_count": 6,
   "metadata": {
    "collapsed": false,
    "scrolled": false
   },
   "outputs": [
    {
     "name": "stdout",
     "output_type": "stream",
     "text": [
      "04829778554df5986ae415fcda3b7e81  /Volumes/web/seashell/bu-mox/scrubbed/031520-TG-bs/Meth9_R1_001_val_1.fq.gz\r\n",
      "e1048fea898bc32cb03ff801534183d9  /Volumes/web/seashell/bu-mox/scrubbed/031520-TG-bs/Meth15_R2_001_val_2.fq.gz\r\n",
      "d6e026bb59b10a11ad9b51b8acdd18a7  /Volumes/web/seashell/bu-mox/scrubbed/031520-TG-bs/Meth5_R2_001_val_2.fq.gz\r\n",
      "bfe70cae27f3251ead4e6686391940ca  /Volumes/web/seashell/bu-mox/scrubbed/031520-TG-bs/Meth8_R1_001_val_1.fq.gz_G_to_A.fastq\r\n",
      "26c6f90dd9cef5e30f32e312007f3176  /Volumes/web/seashell/bu-mox/scrubbed/031520-TG-bs/Meth15_R2_001_val_2.fq.gz_G_to_A.fastq\r\n",
      "f41790ce58777f20ee742cba75692065  /Volumes/web/seashell/bu-mox/scrubbed/031520-TG-bs/Meth1_R1_001_val_1.fq.gz\r\n",
      "4ed014c23ba4c28681d5b4af17e95346  /Volumes/web/seashell/bu-mox/scrubbed/031520-TG-bs/Meth14_R1_001_val_1.fq.gz\r\n",
      "fc3ad5f9624c63e28bab515b5848158c  /Volumes/web/seashell/bu-mox/scrubbed/031520-TG-bs/Meth13_R2_001_val_2.fq.gz_C_to_T.fastq\r\n",
      "8b2c14989c4638fa2cdd7d16a36a7b99  /Volumes/web/seashell/bu-mox/scrubbed/031520-TG-bs/Pact_tg/Meth6_R1_001_val_1_bismark_bt2_PE_report.txt\r\n",
      "edeeb18d68c753dfb2a0cd197123d847  /Volumes/web/seashell/bu-mox/scrubbed/031520-TG-bs/Pact_tg/Meth6_R1_001_val_1_bismark_bt2_pe.bam\r\n"
     ]
    }
   ],
   "source": [
    "!head all_031520-TG-bs_files_GANNET_md5sum.txt"
   ]
  },
  {
   "cell_type": "markdown",
   "metadata": {},
   "source": [
    "### *M. capitata*"
   ]
  },
  {
   "cell_type": "code",
   "execution_count": 7,
   "metadata": {
    "collapsed": true
   },
   "outputs": [],
   "source": [
    "#Get all lines from original checksum document\n",
    "#Extract information for 5x bedgraphs\n",
    "#Extract information for Mcap data only\n",
    "#Only keep the first 32 characters in each line (md5sum hashes)\n",
    "#Save hashes\n",
    "!cat all_031520-TG-bs_files_GANNET_md5sum.txt \\\n",
    "| grep 5x.bedgraph \\\n",
    "| grep Mcap \\\n",
    "| cut -c1-32 \\\n",
    "> Mcap-5xbedgraph-GANNET-md5sum-hashes.txt"
   ]
  },
  {
   "cell_type": "code",
   "execution_count": 8,
   "metadata": {
    "collapsed": true
   },
   "outputs": [],
   "source": [
    "#Get all lines from original checksum document\n",
    "#Extract information for 5x bedgraphs\n",
    "#Extract information for Mcap data only\n",
    "#Reverse order of characters in each line\n",
    "#Only keep the first 48 characters in each line\n",
    "#actually the last 48 characters in the original file, which maps to paths locally\n",
    "#Reverse characters\n",
    "#Save paths\n",
    "!cat all_031520-TG-bs_files_GANNET_md5sum.txt \\\n",
    "| grep 5x.bedgraph \\\n",
    "| grep Mcap \\\n",
    "| rev \\\n",
    "| cut -c1-47 \\\n",
    "| rev \\\n",
    "> Mcap-5xbedgraph-GANNET-md5sum-paths.txt"
   ]
  },
  {
   "cell_type": "code",
   "execution_count": 9,
   "metadata": {
    "collapsed": false
   },
   "outputs": [
    {
     "name": "stdout",
     "output_type": "stream",
     "text": [
      "04fb72d5df60656e6cec15637164fbec\tMeth16_R1_001_val_1_bismark_bt2_pe._5x.bedgraph\n",
      "b2f097299df0cb7d518d22338fdcf39f\tMeth12_R1_001_val_1_bismark_bt2_pe._5x.bedgraph\n",
      "073d1c40116a3f93f7a7022cfb4cd3d2\tMeth17_R1_001_val_1_bismark_bt2_pe._5x.bedgraph\n",
      "83035e7e47b8ad486de22dacc17ae8ed\tMeth10_R1_001_val_1_bismark_bt2_pe._5x.bedgraph\n",
      "a255210553db073e5458ccb523a34798\tMeth18_R1_001_val_1_bismark_bt2_pe._5x.bedgraph\n",
      "6493359aad0b4228f65b5e563d337ceb\tMeth11_R1_001_val_1_bismark_bt2_pe._5x.bedgraph\n",
      "fc0f66cf04ffebe76d61c1db75cfed6e\tMeth14_R1_001_val_1_bismark_bt2_pe._5x.bedgraph\n",
      "1d7c24b238dc72cd92346213b3523611\tMeth15_R1_001_val_1_bismark_bt2_pe._5x.bedgraph\n",
      "2bb476cb98072f0e76bfb5c318246c38\tMeth13_R1_001_val_1_bismark_bt2_pe._5x.bedgraph\n",
      "       9 Mcap-5xbedgraph-GANNET-md5sum.txt\n"
     ]
    }
   ],
   "source": [
    "#Paste hashes and paths to create a md5sum file\n",
    "#Save checksum file\n",
    "#Check output\n",
    "#Count number of lines        \n",
    "!paste Mcap-5xbedgraph-GANNET-md5sum-hashes.txt Mcap-5xbedgraph-GANNET-md5sum-paths.txt \\\n",
    "> Mcap-5xbedgraph-GANNET-md5sum.txt\n",
    "!head Mcap-5xbedgraph-GANNET-md5sum.txt\n",
    "!wc -l Mcap-5xbedgraph-GANNET-md5sum.txt"
   ]
  },
  {
   "cell_type": "markdown",
   "metadata": {},
   "source": [
    "### *P. acuta*"
   ]
  },
  {
   "cell_type": "code",
   "execution_count": 10,
   "metadata": {
    "collapsed": true
   },
   "outputs": [],
   "source": [
    "#Get all lines from original checksum document\n",
    "#Extract information for 5x bedgraphs\n",
    "#Extract information for Pact data only\n",
    "#Only keep the first 32 characters in each line (md5sum hashes)\n",
    "#Save hashes\n",
    "!cat all_031520-TG-bs_files_GANNET_md5sum.txt \\\n",
    "| grep 5x.bedgraph \\\n",
    "| grep Pact \\\n",
    "| cut -c1-32 \\\n",
    "> Pact-5xbedgraph-GANNET-md5sum-hashes.txt"
   ]
  },
  {
   "cell_type": "code",
   "execution_count": 11,
   "metadata": {
    "collapsed": true
   },
   "outputs": [],
   "source": [
    "#Get all lines from original checksum document\n",
    "#Extract information for 5x bedgraphs\n",
    "#Extract information for Pact data only\n",
    "#Reverse order of characters in each line\n",
    "#Only keep the first 48 characters in each line\n",
    "#actually the last 48 characters in the original file, which maps to paths locally\n",
    "#Reverse characters\n",
    "#Save paths\n",
    "!cat all_031520-TG-bs_files_GANNET_md5sum.txt \\\n",
    "| grep 5x.bedgraph \\\n",
    "| grep Pact \\\n",
    "| rev \\\n",
    "| cut -c1-46 \\\n",
    "| rev \\\n",
    "> Pact-5xbedgraph-GANNET-md5sum-paths.txt"
   ]
  },
  {
   "cell_type": "code",
   "execution_count": 12,
   "metadata": {
    "collapsed": false,
    "scrolled": true
   },
   "outputs": [
    {
     "name": "stdout",
     "output_type": "stream",
     "text": [
      "c838562956c7abe3656a2b7438a40dc1\tMeth8_R1_001_val_1_bismark_bt2_pe._5x.bedgraph\n",
      "c9a4b002113e2501d81e4762cf952b79\tMeth9_R1_001_val_1_bismark_bt2_pe._5x.bedgraph\n",
      "1ec934f5b4ce012b64b77dd69d70ee5f\tMeth2_R1_001_val_1_bismark_bt2_pe._5x.bedgraph\n",
      "c456156b7f6a11543d8dc697e8e74b4e\tMeth3_R1_001_val_1_bismark_bt2_pe._5x.bedgraph\n",
      "d634ffc3f062d248e36b8dddc9a315e0\tMeth1_R1_001_val_1_bismark_bt2_pe._5x.bedgraph\n",
      "a2b842c439c3df3fb699690cd5b55d5a\tMeth7_R1_001_val_1_bismark_bt2_pe._5x.bedgraph\n",
      "5994ba73d412d8992f2465b148f5ae80\tMeth6_R1_001_val_1_bismark_bt2_pe._5x.bedgraph\n",
      "ed4428a6c8cb6a4964687d91c0d8ccb3\tMeth5_R1_001_val_1_bismark_bt2_pe._5x.bedgraph\n",
      "736fd3802ce1b45b6eb32abf6e1bcb3f\tMeth4_R1_001_val_1_bismark_bt2_pe._5x.bedgraph\n",
      "       9 Pact-5xbedgraph-GANNET-md5sum.txt\n"
     ]
    }
   ],
   "source": [
    "#Paste hashes and paths to create a md5sum file\n",
    "#Save checksum file\n",
    "#Check output\n",
    "#Count number of lines        \n",
    "!paste Pact-5xbedgraph-GANNET-md5sum-hashes.txt Pact-5xbedgraph-GANNET-md5sum-paths.txt \\\n",
    "> Pact-5xbedgraph-GANNET-md5sum.txt\n",
    "!head Pact-5xbedgraph-GANNET-md5sum.txt\n",
    "!wc -l Pact-5xbedgraph-GANNET-md5sum.txt"
   ]
  },
  {
   "cell_type": "markdown",
   "metadata": {},
   "source": [
    "## *M. capitata*"
   ]
  },
  {
   "cell_type": "code",
   "execution_count": 13,
   "metadata": {
    "collapsed": true
   },
   "outputs": [],
   "source": [
    "#Make a directory for Mcap output\n",
    "#!mkdir Mcap"
   ]
  },
  {
   "cell_type": "code",
   "execution_count": 14,
   "metadata": {
    "collapsed": false,
    "scrolled": true
   },
   "outputs": [
    {
     "name": "stdout",
     "output_type": "stream",
     "text": [
      "/Users/yaamini/Documents/Meth_Compare/analyses/Characterizing-CpG-Methylation-5x/Mcap\n"
     ]
    }
   ],
   "source": [
    "cd Mcap/"
   ]
  },
  {
   "cell_type": "markdown",
   "metadata": {},
   "source": [
    "### 1. Characterize CG motif locations in feature tracks"
   ]
  },
  {
   "cell_type": "markdown",
   "metadata": {},
   "source": [
    "#### 1a. Set variable paths"
   ]
  },
  {
   "cell_type": "code",
   "execution_count": 15,
   "metadata": {
    "collapsed": true
   },
   "outputs": [],
   "source": [
    "bedtoolsDirectory = \"/usr/local/bin/\""
   ]
  },
  {
   "cell_type": "code",
   "execution_count": 16,
   "metadata": {
    "collapsed": true
   },
   "outputs": [],
   "source": [
    "mcGenes = \"../../../genome-feature-files/Mcap.GFFannotation.gene.gff\""
   ]
  },
  {
   "cell_type": "code",
   "execution_count": 17,
   "metadata": {
    "collapsed": true
   },
   "outputs": [],
   "source": [
    "mcCDS = \"../../../genome-feature-files/Mcap.GFFannotation.CDS.gff\""
   ]
  },
  {
   "cell_type": "code",
   "execution_count": 18,
   "metadata": {
    "collapsed": true
   },
   "outputs": [],
   "source": [
    "mcIntron = \"../../../genome-feature-files/Mcap.GFFannotation.intron.gff\""
   ]
  },
  {
   "cell_type": "code",
   "execution_count": 19,
   "metadata": {
    "collapsed": true
   },
   "outputs": [],
   "source": [
    "mcFlanks = \"../../../genome-feature-files/Mcap.GFFannotation.flanks.gff\""
   ]
  },
  {
   "cell_type": "code",
   "execution_count": 20,
   "metadata": {
    "collapsed": true
   },
   "outputs": [],
   "source": [
    "mcUpstream = \"../../../genome-feature-files/Mcap.GFFannotation.flanks.Upstream.gff\""
   ]
  },
  {
   "cell_type": "code",
   "execution_count": 21,
   "metadata": {
    "collapsed": true
   },
   "outputs": [],
   "source": [
    "mcDownstream = \"../../../genome-feature-files/Mcap.GFFannotation.flanks.Downstream.gff\""
   ]
  },
  {
   "cell_type": "code",
   "execution_count": 22,
   "metadata": {
    "collapsed": true
   },
   "outputs": [],
   "source": [
    "mcIntergenic = \"../../../genome-feature-files/Mcap.GFFannotation.intergenic.bed\""
   ]
  },
  {
   "cell_type": "code",
   "execution_count": 23,
   "metadata": {
    "collapsed": true
   },
   "outputs": [],
   "source": [
    "mcCGMotifs = \"../../../genome-feature-files/Mcap_CpG.gff\""
   ]
  },
  {
   "cell_type": "markdown",
   "metadata": {},
   "source": [
    "#### 1b. Check variable paths"
   ]
  },
  {
   "cell_type": "code",
   "execution_count": 24,
   "metadata": {
    "collapsed": false
   },
   "outputs": [
    {
     "name": "stdout",
     "output_type": "stream",
     "text": [
      "1\tAUGUSTUS\tgene\t18387\t18755\t0.97\t-\t.\tg21532\n",
      "1\tAUGUSTUS\tgene\t22321\t27293\t0.23\t-\t.\tg21533\n",
      "1\tAUGUSTUS\tgene\t37447\t52266\t1\t+\t.\tg21534\n",
      "1\tAUGUSTUS\tgene\t58322\t62557\t1\t-\t.\tg21535\n",
      "1\tAUGUSTUS\tgene\t64466\t84798\t1\t+\t.\tg21536\n",
      "1\tAUGUSTUS\tgene\t88347\t97184\t1\t+\t.\tg21537\n",
      "1\tAUGUSTUS\tgene\t100215\t109729\t0.99\t-\t.\tg21538\n",
      "1\tAUGUSTUS\tgene\t109867\t128510\t0.89\t+\t.\tg21539\n",
      "1\tAUGUSTUS\tgene\t132854\t139285\t1\t-\t.\tg21540\n",
      "1\tAUGUSTUS\tgene\t148344\t149588\t0.44\t+\t.\tg21541\n",
      "   53875 ../../../genome-feature-files/Mcap.GFFannotation.gene.gff\n"
     ]
    }
   ],
   "source": [
    "!head {mcGenes}\n",
    "!wc -l {mcGenes}"
   ]
  },
  {
   "cell_type": "code",
   "execution_count": 25,
   "metadata": {
    "collapsed": false
   },
   "outputs": [
    {
     "name": "stdout",
     "output_type": "stream",
     "text": [
      "1\tAUGUSTUS\tCDS\t18387\t18755\t0.97\t-\t0\ttranscript_id \"g21532.t1\"; gene_id \"g21532\";\n",
      "1\tAUGUSTUS\tCDS\t22321\t22608\t0.55\t-\t0\ttranscript_id \"g21533.t1\"; gene_id \"g21533\";\n",
      "1\tAUGUSTUS\tCDS\t26301\t27293\t0.29\t-\t0\ttranscript_id \"g21533.t1\"; gene_id \"g21533\";\n",
      "1\tAUGUSTUS\tCDS\t37447\t37810\t1\t+\t0\ttranscript_id \"g21534.t1\"; gene_id \"g21534\";\n",
      "1\tAUGUSTUS\tCDS\t45038\t45208\t1\t+\t2\ttranscript_id \"g21534.t1\"; gene_id \"g21534\";\n",
      "1\tAUGUSTUS\tCDS\t46625\t47272\t1\t+\t2\ttranscript_id \"g21534.t1\"; gene_id \"g21534\";\n",
      "1\tAUGUSTUS\tCDS\t49943\t50132\t1\t+\t2\ttranscript_id \"g21534.t1\"; gene_id \"g21534\";\n",
      "1\tAUGUSTUS\tCDS\t51903\t52266\t1\t+\t1\ttranscript_id \"g21534.t1\"; gene_id \"g21534\";\n",
      "1\tAUGUSTUS\tCDS\t58322\t59506\t1\t-\t0\ttranscript_id \"g21535.t1\"; gene_id \"g21535\";\n",
      "1\tAUGUSTUS\tCDS\t62261\t62557\t1\t-\t0\ttranscript_id \"g21535.t1\"; gene_id \"g21535\";\n",
      "  224096 ../../../genome-feature-files/Mcap.GFFannotation.CDS.gff\n"
     ]
    }
   ],
   "source": [
    "!head {mcCDS}\n",
    "!wc -l {mcCDS}"
   ]
  },
  {
   "cell_type": "code",
   "execution_count": 26,
   "metadata": {
    "collapsed": false,
    "scrolled": true
   },
   "outputs": [
    {
     "name": "stdout",
     "output_type": "stream",
     "text": [
      "1\tAUGUSTUS\tintron\t22609\t26300\t0.25\t-\t.\ttranscript_id \"g21533.t1\"; gene_id \"g21533\";\n",
      "1\tAUGUSTUS\tintron\t37811\t45037\t1\t+\t.\ttranscript_id \"g21534.t1\"; gene_id \"g21534\";\n",
      "1\tAUGUSTUS\tintron\t45209\t46624\t1\t+\t.\ttranscript_id \"g21534.t1\"; gene_id \"g21534\";\n",
      "1\tAUGUSTUS\tintron\t47273\t49942\t1\t+\t.\ttranscript_id \"g21534.t1\"; gene_id \"g21534\";\n",
      "1\tAUGUSTUS\tintron\t50133\t51902\t1\t+\t.\ttranscript_id \"g21534.t1\"; gene_id \"g21534\";\n",
      "1\tAUGUSTUS\tintron\t59507\t62260\t1\t-\t.\ttranscript_id \"g21535.t1\"; gene_id \"g21535\";\n",
      "1\tAUGUSTUS\tintron\t64578\t64654\t1\t+\t.\ttranscript_id \"g21536.t1\"; gene_id \"g21536\";\n",
      "1\tAUGUSTUS\tintron\t64735\t67263\t1\t+\t.\ttranscript_id \"g21536.t1\"; gene_id \"g21536\";\n",
      "1\tAUGUSTUS\tintron\t67319\t71345\t1\t+\t.\ttranscript_id \"g21536.t1\"; gene_id \"g21536\";\n",
      "1\tAUGUSTUS\tintron\t71456\t72865\t1\t+\t.\ttranscript_id \"g21536.t1\"; gene_id \"g21536\";\n",
      "  170950 ../../../genome-feature-files/Mcap.GFFannotation.intron.gff\n"
     ]
    }
   ],
   "source": [
    "!head {mcIntron}\n",
    "!wc -l {mcIntron}"
   ]
  },
  {
   "cell_type": "code",
   "execution_count": 27,
   "metadata": {
    "collapsed": false,
    "scrolled": false
   },
   "outputs": [
    {
     "name": "stdout",
     "output_type": "stream",
     "text": [
      "1\tAUGUSTUS\tgene\t17387\t18386\t0.97\t-\t.\tg21532\n",
      "1\tAUGUSTUS\tgene\t18756\t19755\t0.97\t-\t.\tg21532\n",
      "1\tAUGUSTUS\tgene\t21321\t22320\t0.23\t-\t.\tg21533\n",
      "1\tAUGUSTUS\tgene\t27294\t28293\t0.23\t-\t.\tg21533\n",
      "1\tAUGUSTUS\tgene\t36447\t37446\t1\t+\t.\tg21534\n",
      "1\tAUGUSTUS\tgene\t52267\t53266\t1\t+\t.\tg21534\n",
      "1\tAUGUSTUS\tgene\t57322\t58321\t1\t-\t.\tg21535\n",
      "1\tAUGUSTUS\tgene\t62558\t63557\t1\t-\t.\tg21535\n",
      "1\tAUGUSTUS\tgene\t63466\t64465\t1\t+\t.\tg21536\n",
      "1\tAUGUSTUS\tgene\t84799\t85798\t1\t+\t.\tg21536\n",
      "  114420 ../../../genome-feature-files/Mcap.GFFannotation.flanks.gff\n"
     ]
    }
   ],
   "source": [
    "!head {mcFlanks}\n",
    "!wc -l {mcFlanks}"
   ]
  },
  {
   "cell_type": "code",
   "execution_count": 28,
   "metadata": {
    "collapsed": false
   },
   "outputs": [
    {
     "name": "stdout",
     "output_type": "stream",
     "text": [
      "1\tAUGUSTUS\tgene\t18756\t19755\t0.97\t-\t.\tg21532\n",
      "1\tAUGUSTUS\tgene\t27294\t28293\t0.23\t-\t.\tg21533\n",
      "1\tAUGUSTUS\tgene\t36447\t37446\t1\t+\t.\tg21534\n",
      "1\tAUGUSTUS\tgene\t62558\t63557\t1\t-\t.\tg21535\n",
      "1\tAUGUSTUS\tgene\t63466\t64465\t1\t+\t.\tg21536\n",
      "1\tAUGUSTUS\tgene\t87347\t88346\t1\t+\t.\tg21537\n",
      "1\tAUGUSTUS\tgene\t109730\t109866\t0.99\t-\t.\tg21538\n",
      "1\tAUGUSTUS\tgene\t109730\t109866\t0.89\t+\t.\tg21539\n",
      "1\tAUGUSTUS\tgene\t139286\t140285\t1\t-\t.\tg21540\n",
      "1\tAUGUSTUS\tgene\t147344\t148343\t0.44\t+\t.\tg21541\n",
      "   57349 ../../../genome-feature-files/Mcap.GFFannotation.flanks.Upstream.gff\n"
     ]
    }
   ],
   "source": [
    "!head {mcUpstream}\n",
    "!wc -l {mcUpstream}"
   ]
  },
  {
   "cell_type": "code",
   "execution_count": 29,
   "metadata": {
    "collapsed": false,
    "scrolled": true
   },
   "outputs": [
    {
     "name": "stdout",
     "output_type": "stream",
     "text": [
      "1\tAUGUSTUS\tgene\t17387\t18386\t0.97\t-\t.\tg21532\n",
      "1\tAUGUSTUS\tgene\t21321\t22320\t0.23\t-\t.\tg21533\n",
      "1\tAUGUSTUS\tgene\t52267\t53266\t1\t+\t.\tg21534\n",
      "1\tAUGUSTUS\tgene\t57322\t58321\t1\t-\t.\tg21535\n",
      "1\tAUGUSTUS\tgene\t84799\t85798\t1\t+\t.\tg21536\n",
      "1\tAUGUSTUS\tgene\t97185\t98184\t1\t+\t.\tg21537\n",
      "1\tAUGUSTUS\tgene\t99215\t100214\t0.99\t-\t.\tg21538\n",
      "1\tAUGUSTUS\tgene\t128511\t129510\t0.89\t+\t.\tg21539\n",
      "1\tAUGUSTUS\tgene\t131854\t132853\t1\t-\t.\tg21540\n",
      "1\tAUGUSTUS\tgene\t149589\t150588\t0.44\t+\t.\tg21541\n",
      "   57406 ../../../genome-feature-files/Mcap.GFFannotation.flanks.Downstream.gff\n"
     ]
    }
   ],
   "source": [
    "!head {mcDownstream}\n",
    "!wc -l {mcDownstream}"
   ]
  },
  {
   "cell_type": "code",
   "execution_count": 30,
   "metadata": {
    "collapsed": false
   },
   "outputs": [
    {
     "name": "stdout",
     "output_type": "stream",
     "text": [
      "1\t0\t17386\n",
      "1\t19755\t21320\n",
      "1\t28293\t36446\n",
      "1\t53266\t57321\n",
      "1\t85798\t87346\n",
      "1\t98184\t99214\n",
      "1\t129510\t131853\n",
      "1\t140285\t147343\n",
      "1\t150588\t155443\n",
      "1\t158268\t171840\n",
      "   38845 ../../../genome-feature-files/Mcap.GFFannotation.intergenic.bed\n"
     ]
    }
   ],
   "source": [
    "!head {mcIntergenic}\n",
    "!wc -l {mcIntergenic}"
   ]
  },
  {
   "cell_type": "code",
   "execution_count": 31,
   "metadata": {
    "collapsed": false,
    "scrolled": true
   },
   "outputs": [
    {
     "name": "stdout",
     "output_type": "stream",
     "text": [
      "##gff-version 2.0\n",
      "##date 2020-03-29\n",
      "##Type DNA 1\n",
      "1\tfuzznuc\tmisc_feature\t37\t38\t2.000\t+\t.\tSequence \"1.1\" ; note \"*pat pattern1\"\n",
      "1\tfuzznuc\tmisc_feature\t90\t91\t2.000\t+\t.\tSequence \"1.2\" ; note \"*pat pattern1\"\n",
      "1\tfuzznuc\tmisc_feature\t121\t122\t2.000\t+\t.\tSequence \"1.3\" ; note \"*pat pattern1\"\n",
      "1\tfuzznuc\tmisc_feature\t132\t133\t2.000\t+\t.\tSequence \"1.4\" ; note \"*pat pattern1\"\n",
      "1\tfuzznuc\tmisc_feature\t153\t154\t2.000\t+\t.\tSequence \"1.5\" ; note \"*pat pattern1\"\n",
      "1\tfuzznuc\tmisc_feature\t170\t171\t2.000\t+\t.\tSequence \"1.6\" ; note \"*pat pattern1\"\n",
      "1\tfuzznuc\tmisc_feature\t220\t221\t2.000\t+\t.\tSequence \"1.7\" ; note \"*pat pattern1\"\n",
      " 28684519 ../../../genome-feature-files/Mcap_CpG.gff\n"
     ]
    }
   ],
   "source": [
    "!head {mcCGMotifs}\n",
    "!wc -l {mcCGMotifs}"
   ]
  },
  {
   "cell_type": "markdown",
   "metadata": {},
   "source": [
    "#### 1c. Characterize overlaps with `bedtools`"
   ]
  },
  {
   "cell_type": "code",
   "execution_count": 32,
   "metadata": {
    "collapsed": false,
    "scrolled": true
   },
   "outputs": [
    {
     "name": "stdout",
     "output_type": "stream",
     "text": [
      "\r\n",
      "Tool:    bedtools intersect (aka intersectBed)\r\n",
      "Version: v2.17.0\r\n",
      "Summary: Report overlaps between two feature files.\r\n",
      "\r\n",
      "Usage:   bedtools intersect [OPTIONS] -a <bed/gff/vcf> -b <bed/gff/vcf>\r\n",
      "\r\n",
      "Options: \r\n",
      "\t-abam\tThe A input file is in BAM format.  Output will be BAM as well.\r\n",
      "\r\n",
      "\t-ubam\tWrite uncompressed BAM output. Default writes compressed BAM.\r\n",
      "\r\n",
      "\t-bed\tWhen using BAM input (-abam), write output as BED. The default\r\n",
      "\t\tis to write output in BAM when using -abam.\r\n",
      "\r\n",
      "\t-wa\tWrite the original entry in A for each overlap.\r\n",
      "\r\n",
      "\t-wb\tWrite the original entry in B for each overlap.\r\n",
      "\t\t- Useful for knowing _what_ A overlaps. Restricted by -f and -r.\r\n",
      "\r\n",
      "\t-loj\tPerform a \"left outer join\". That is, for each feature in A\r\n",
      "\t\treport each overlap with B.  If no overlaps are found, \r\n",
      "\t\treport a NULL feature for B.\r\n",
      "\r\n",
      "\t-wo\tWrite the original A and B entries plus the number of base\r\n",
      "\t\tpairs of overlap between the two features.\r\n",
      "\t\t- Overlaps restricted by -f and -r.\r\n",
      "\t\t  Only A features with overlap are reported.\r\n",
      "\r\n",
      "\t-wao\tWrite the original A and B entries plus the number of base\r\n",
      "\t\tpairs of overlap between the two features.\r\n",
      "\t\t- Overlapping features restricted by -f and -r.\r\n",
      "\t\t  However, A features w/o overlap are also reported\r\n",
      "\t\t  with a NULL B feature and overlap = 0.\r\n",
      "\r\n",
      "\t-u\tWrite the original A entry _once_ if _any_ overlaps found in B.\r\n",
      "\t\t- In other words, just report the fact >=1 hit was found.\r\n",
      "\t\t- Overlaps restricted by -f and -r.\r\n",
      "\r\n",
      "\t-c\tFor each entry in A, report the number of overlaps with B.\r\n",
      "\t\t- Reports 0 for A entries that have no overlap with B.\r\n",
      "\t\t- Overlaps restricted by -f and -r.\r\n",
      "\r\n",
      "\t-v\tOnly report those entries in A that have _no overlaps_ with B.\r\n",
      "\t\t- Similar to \"grep -v\" (an homage).\r\n",
      "\r\n",
      "\t-f\tMinimum overlap required as a fraction of A.\r\n",
      "\t\t- Default is 1E-9 (i.e., 1bp).\r\n",
      "\t\t- FLOAT (e.g. 0.50)\r\n",
      "\r\n",
      "\t-r\tRequire that the fraction overlap be reciprocal for A and B.\r\n",
      "\t\t- In other words, if -f is 0.90 and -r is used, this requires\r\n",
      "\t\t  that B overlap 90% of A and A _also_ overlaps 90% of B.\r\n",
      "\r\n",
      "\t-s\tRequire same strandedness.  That is, only report hits in B\r\n",
      "\t\tthat overlap A on the _same_ strand.\r\n",
      "\t\t- By default, overlaps are reported without respect to strand.\r\n",
      "\r\n",
      "\t-S\tRequire different strandedness.  That is, only report hits in B\r\n",
      "\t\tthat overlap A on the _opposite_ strand.\r\n",
      "\t\t- By default, overlaps are reported without respect to strand.\r\n",
      "\r\n",
      "\t-split\tTreat \"split\" BAM or BED12 entries as distinct BED intervals.\r\n",
      "\r\n",
      "\t-sorted\tUse the \"chromsweep\" algorithm for sorted (-k1,1 -k2,2n) input\r\n",
      "\r\n",
      "\t-header\tPrint the header from the A file prior to results.\r\n",
      "\r\n",
      "Notes: \r\n",
      "\t(1) When a BAM file is used for the A file, the alignment is retained if overlaps exist,\r\n",
      "\tand exlcuded if an overlap cannot be found.  If multiple overlaps exist, they are not\r\n",
      "\treported, as we are only testing for one or more overlaps.\r\n",
      "\r\n"
     ]
    }
   ],
   "source": [
    "!{bedtoolsDirectory}intersectBed -h"
   ]
  },
  {
   "cell_type": "code",
   "execution_count": 33,
   "metadata": {
    "collapsed": false
   },
   "outputs": [],
   "source": [
    "!{bedtoolsDirectory}intersectBed \\\n",
    "-u \\\n",
    "-a {mcCGMotifs} \\\n",
    "-b {mcGenes} \\\n",
    "> Mcap-CGMotif-Gene-Overlaps.txt"
   ]
  },
  {
   "cell_type": "code",
   "execution_count": 34,
   "metadata": {
    "collapsed": false
   },
   "outputs": [],
   "source": [
    "!{bedtoolsDirectory}intersectBed \\\n",
    "-u \\\n",
    "-a {mcCGMotifs} \\\n",
    "-b {mcCDS} \\\n",
    "> Mcap-CGMotif-CDS-Overlaps.txt"
   ]
  },
  {
   "cell_type": "code",
   "execution_count": 35,
   "metadata": {
    "collapsed": false
   },
   "outputs": [],
   "source": [
    "!{bedtoolsDirectory}intersectBed \\\n",
    "-u \\\n",
    "-a {mcCGMotifs} \\\n",
    "-b {mcIntron} \\\n",
    "> Mcap-CGMotif-Intron-Overlaps.txt"
   ]
  },
  {
   "cell_type": "code",
   "execution_count": 36,
   "metadata": {
    "collapsed": false
   },
   "outputs": [],
   "source": [
    "!{bedtoolsDirectory}intersectBed \\\n",
    "-u \\\n",
    "-a {mcCGMotifs} \\\n",
    "-b {mcFlanks} \\\n",
    "> Mcap-CGMotif-Flanks-Overlaps.txt"
   ]
  },
  {
   "cell_type": "code",
   "execution_count": 37,
   "metadata": {
    "collapsed": true
   },
   "outputs": [],
   "source": [
    "!{bedtoolsDirectory}intersectBed \\\n",
    "-u \\\n",
    "-a {mcCGMotifs} \\\n",
    "-b {mcUpstream} \\\n",
    "> Mcap-CGMotif-Flanks-Upstream-Overlaps.txt"
   ]
  },
  {
   "cell_type": "code",
   "execution_count": 38,
   "metadata": {
    "collapsed": true
   },
   "outputs": [],
   "source": [
    "!{bedtoolsDirectory}intersectBed \\\n",
    "-u \\\n",
    "-a {mcCGMotifs} \\\n",
    "-b {mcDownstream} \\\n",
    "> Mcap-CGMotif-Flanks-Downstream-Overlaps.txt"
   ]
  },
  {
   "cell_type": "code",
   "execution_count": 39,
   "metadata": {
    "collapsed": false,
    "scrolled": true
   },
   "outputs": [],
   "source": [
    "!{bedtoolsDirectory}intersectBed \\\n",
    "-u \\\n",
    "-a {mcCGMotifs} \\\n",
    "-b {mcIntergenic} \\\n",
    "> Mcap-CGMotif-Intergenic-Overlaps.txt"
   ]
  },
  {
   "cell_type": "code",
   "execution_count": 40,
   "metadata": {
    "collapsed": false
   },
   "outputs": [],
   "source": [
    "!wc -l *CGMotif* > Mcap-CGMotif-Overlaps-counts.txt"
   ]
  },
  {
   "cell_type": "markdown",
   "metadata": {},
   "source": [
    "#### 1d. Summary"
   ]
  },
  {
   "cell_type": "markdown",
   "metadata": {},
   "source": [
    "| *M. capitata* Genome Feature \t| Number individual features \t| **Overlaps with CG Motifs** \t| **% Total CG Motifs** \t|\n",
    "|:----------------------------------:\t|:------------------------------:\t|:---------------------------:\t|:--------------------:\t|\n",
    "|                Genes               \t|             458273             \t|           9450564          \t|         32.9         \t|\n",
    "|          Coding Sequences          \t|             283926             \t|           1953206           \t|          6.8         \t|\n",
    "|               Introns              \t|             221428             \t|           7503314          \t|         26.2         \t|\n",
    "|               Flanking Regions              \t|             114420             \t|           2758953          \t|         9.6         \t|\n",
    "|               Upstream Flanks              \t|             57349             \t|           1505544          \t|         5.2         \t|\n",
    "|               Downstream Flanks              \t|             57406             \t|           1365975          \t|         4.8         \t|\n",
    "|         Intergenic Regions         \t|               38845              \t|           16468305          \t|         57.4         \t|"
   ]
  },
  {
   "cell_type": "markdown",
   "metadata": {},
   "source": [
    "### 2. Download coverage files"
   ]
  },
  {
   "cell_type": "code",
   "execution_count": 41,
   "metadata": {
    "collapsed": false,
    "scrolled": true
   },
   "outputs": [
    {
     "name": "stdout",
     "output_type": "stream",
     "text": [
      "--2020-06-11 12:03:33--  https://gannet.fish.washington.edu/seashell/bu-mox/scrubbed/031520-TG-bs/Mcap_tg/dedup/\n",
      "Resolving gannet.fish.washington.edu (gannet.fish.washington.edu)... 128.95.149.52\n",
      "Connecting to gannet.fish.washington.edu (gannet.fish.washington.edu)|128.95.149.52|:443... connected.\n",
      "HTTP request sent, awaiting response... 200 OK\n",
      "Length: unspecified [text/html]\n",
      "Saving to: ‘gannet.fish.washington.edu/seashell/bu-mox/scrubbed/031520-TG-bs/Mcap_tg/dedup/index.html.tmp’\n",
      "\n",
      "gannet.fish.washing     [ <=>                ]  42.27K  --.-KB/s    in 0.001s  \n",
      "\n",
      "2020-06-11 12:03:35 (33.1 MB/s) - ‘gannet.fish.washington.edu/seashell/bu-mox/scrubbed/031520-TG-bs/Mcap_tg/dedup/index.html.tmp’ saved [43285]\n",
      "\n",
      "Loading robots.txt; please ignore errors.\n",
      "--2020-06-11 12:03:35--  https://gannet.fish.washington.edu/robots.txt\n",
      "Reusing existing connection to gannet.fish.washington.edu:443.\n",
      "HTTP request sent, awaiting response... 404 Not Found\n",
      "2020-06-11 12:03:35 ERROR 404: Not Found.\n",
      "\n",
      "Removing gannet.fish.washington.edu/seashell/bu-mox/scrubbed/031520-TG-bs/Mcap_tg/dedup/index.html.tmp since it should be rejected.\n",
      "\n",
      "--2020-06-11 12:03:35--  https://gannet.fish.washington.edu/seashell/bu-mox/scrubbed/031520-TG-bs/Mcap_tg/dedup/?C=N;O=D\n",
      "Reusing existing connection to gannet.fish.washington.edu:443.\n",
      "HTTP request sent, awaiting response... 200 OK\n",
      "Length: unspecified [text/html]\n",
      "Saving to: ‘gannet.fish.washington.edu/seashell/bu-mox/scrubbed/031520-TG-bs/Mcap_tg/dedup/index.html?C=N;O=D.tmp’\n",
      "\n",
      "gannet.fish.washing     [ <=>                ]  42.27K  --.-KB/s    in 0.001s  \n",
      "\n",
      "2020-06-11 12:03:36 (27.7 MB/s) - ‘gannet.fish.washington.edu/seashell/bu-mox/scrubbed/031520-TG-bs/Mcap_tg/dedup/index.html?C=N;O=D.tmp’ saved [43285]\n",
      "\n",
      "Removing gannet.fish.washington.edu/seashell/bu-mox/scrubbed/031520-TG-bs/Mcap_tg/dedup/index.html?C=N;O=D.tmp since it should be rejected.\n",
      "\n",
      "--2020-06-11 12:03:36--  https://gannet.fish.washington.edu/seashell/bu-mox/scrubbed/031520-TG-bs/Mcap_tg/dedup/?C=M;O=A\n",
      "Reusing existing connection to gannet.fish.washington.edu:443.\n",
      "HTTP request sent, awaiting response... 200 OK\n",
      "Length: unspecified [text/html]\n",
      "Saving to: ‘gannet.fish.washington.edu/seashell/bu-mox/scrubbed/031520-TG-bs/Mcap_tg/dedup/index.html?C=M;O=A.tmp’\n",
      "\n",
      "gannet.fish.washing     [ <=>                ]  42.27K  --.-KB/s    in 0.005s  \n",
      "\n",
      "2020-06-11 12:03:37 (8.17 MB/s) - ‘gannet.fish.washington.edu/seashell/bu-mox/scrubbed/031520-TG-bs/Mcap_tg/dedup/index.html?C=M;O=A.tmp’ saved [43285]\n",
      "\n",
      "Removing gannet.fish.washington.edu/seashell/bu-mox/scrubbed/031520-TG-bs/Mcap_tg/dedup/index.html?C=M;O=A.tmp since it should be rejected.\n",
      "\n",
      "--2020-06-11 12:03:37--  https://gannet.fish.washington.edu/seashell/bu-mox/scrubbed/031520-TG-bs/Mcap_tg/dedup/?C=S;O=A\n",
      "Reusing existing connection to gannet.fish.washington.edu:443.\n",
      "HTTP request sent, awaiting response... 200 OK\n",
      "Length: unspecified [text/html]\n",
      "Saving to: ‘gannet.fish.washington.edu/seashell/bu-mox/scrubbed/031520-TG-bs/Mcap_tg/dedup/index.html?C=S;O=A.tmp’\n",
      "\n",
      "gannet.fish.washing     [ <=>                ]  42.27K  --.-KB/s    in 0.001s  \n",
      "\n",
      "2020-06-11 12:03:38 (36.1 MB/s) - ‘gannet.fish.washington.edu/seashell/bu-mox/scrubbed/031520-TG-bs/Mcap_tg/dedup/index.html?C=S;O=A.tmp’ saved [43285]\n",
      "\n",
      "Removing gannet.fish.washington.edu/seashell/bu-mox/scrubbed/031520-TG-bs/Mcap_tg/dedup/index.html?C=S;O=A.tmp since it should be rejected.\n",
      "\n",
      "--2020-06-11 12:03:38--  https://gannet.fish.washington.edu/seashell/bu-mox/scrubbed/031520-TG-bs/Mcap_tg/dedup/?C=D;O=A\n",
      "Reusing existing connection to gannet.fish.washington.edu:443.\n",
      "HTTP request sent, awaiting response... 200 OK\n",
      "Length: unspecified [text/html]\n",
      "Saving to: ‘gannet.fish.washington.edu/seashell/bu-mox/scrubbed/031520-TG-bs/Mcap_tg/dedup/index.html?C=D;O=A.tmp’\n",
      "\n",
      "gannet.fish.washing     [ <=>                ]  42.27K  --.-KB/s    in 0.001s  \n",
      "\n",
      "2020-06-11 12:03:39 (32.2 MB/s) - ‘gannet.fish.washington.edu/seashell/bu-mox/scrubbed/031520-TG-bs/Mcap_tg/dedup/index.html?C=D;O=A.tmp’ saved [43285]\n",
      "\n",
      "Removing gannet.fish.washington.edu/seashell/bu-mox/scrubbed/031520-TG-bs/Mcap_tg/dedup/index.html?C=D;O=A.tmp since it should be rejected.\n",
      "\n",
      "--2020-06-11 12:03:39--  https://gannet.fish.washington.edu/seashell/bu-mox/scrubbed/031520-TG-bs/Mcap_tg/dedup/Meth10_R1_001_val_1_bismark_bt2_pe._5x.bedgraph\n",
      "Reusing existing connection to gannet.fish.washington.edu:443.\n",
      "HTTP request sent, awaiting response... 200 OK\n",
      "Length: 123101388 (117M)\n",
      "Saving to: ‘gannet.fish.washington.edu/seashell/bu-mox/scrubbed/031520-TG-bs/Mcap_tg/dedup/Meth10_R1_001_val_1_bismark_bt2_pe._5x.bedgraph’\n",
      "\n",
      "gannet.fish.washing 100%[===================>] 117.40M  86.7MB/s    in 1.4s    \n",
      "\n",
      "2020-06-11 12:03:40 (86.7 MB/s) - ‘gannet.fish.washington.edu/seashell/bu-mox/scrubbed/031520-TG-bs/Mcap_tg/dedup/Meth10_R1_001_val_1_bismark_bt2_pe._5x.bedgraph’ saved [123101388/123101388]\n",
      "\n",
      "--2020-06-11 12:03:40--  https://gannet.fish.washington.edu/seashell/bu-mox/scrubbed/031520-TG-bs/Mcap_tg/dedup/Meth11_R1_001_val_1_bismark_bt2_pe._5x.bedgraph\n",
      "Reusing existing connection to gannet.fish.washington.edu:443.\n",
      "HTTP request sent, awaiting response... 200 OK\n",
      "Length: 125607408 (120M)\n",
      "Saving to: ‘gannet.fish.washington.edu/seashell/bu-mox/scrubbed/031520-TG-bs/Mcap_tg/dedup/Meth11_R1_001_val_1_bismark_bt2_pe._5x.bedgraph’\n",
      "\n",
      "gannet.fish.washing 100%[===================>] 119.79M  97.6MB/s    in 1.2s    \n",
      "\n",
      "2020-06-11 12:03:41 (97.6 MB/s) - ‘gannet.fish.washington.edu/seashell/bu-mox/scrubbed/031520-TG-bs/Mcap_tg/dedup/Meth11_R1_001_val_1_bismark_bt2_pe._5x.bedgraph’ saved [125607408/125607408]\n",
      "\n",
      "--2020-06-11 12:03:41--  https://gannet.fish.washington.edu/seashell/bu-mox/scrubbed/031520-TG-bs/Mcap_tg/dedup/Meth12_R1_001_val_1_bismark_bt2_pe._5x.bedgraph\n",
      "Reusing existing connection to gannet.fish.washington.edu:443.\n",
      "HTTP request sent, awaiting response... 200 OK\n",
      "Length: 236954482 (226M)\n",
      "Saving to: ‘gannet.fish.washington.edu/seashell/bu-mox/scrubbed/031520-TG-bs/Mcap_tg/dedup/Meth12_R1_001_val_1_bismark_bt2_pe._5x.bedgraph’\n",
      "\n",
      "gannet.fish.washing 100%[===================>] 225.98M  92.3MB/s    in 2.4s    \n",
      "\n",
      "2020-06-11 12:03:44 (92.3 MB/s) - ‘gannet.fish.washington.edu/seashell/bu-mox/scrubbed/031520-TG-bs/Mcap_tg/dedup/Meth12_R1_001_val_1_bismark_bt2_pe._5x.bedgraph’ saved [236954482/236954482]\n",
      "\n",
      "--2020-06-11 12:03:44--  https://gannet.fish.washington.edu/seashell/bu-mox/scrubbed/031520-TG-bs/Mcap_tg/dedup/Meth16_R1_001_val_1_bismark_bt2_pe._5x.bedgraph\n",
      "Reusing existing connection to gannet.fish.washington.edu:443.\n",
      "HTTP request sent, awaiting response... 200 OK\n",
      "Length: 15778525 (15M)\n",
      "Saving to: ‘gannet.fish.washington.edu/seashell/bu-mox/scrubbed/031520-TG-bs/Mcap_tg/dedup/Meth16_R1_001_val_1_bismark_bt2_pe._5x.bedgraph’\n",
      "\n",
      "gannet.fish.washing 100%[===================>]  15.05M  71.3MB/s    in 0.2s    \n",
      "\n",
      "2020-06-11 12:03:44 (71.3 MB/s) - ‘gannet.fish.washington.edu/seashell/bu-mox/scrubbed/031520-TG-bs/Mcap_tg/dedup/Meth16_R1_001_val_1_bismark_bt2_pe._5x.bedgraph’ saved [15778525/15778525]\n",
      "\n",
      "--2020-06-11 12:03:44--  https://gannet.fish.washington.edu/seashell/bu-mox/scrubbed/031520-TG-bs/Mcap_tg/dedup/Meth17_R1_001_val_1_bismark_bt2_pe._5x.bedgraph\n",
      "Reusing existing connection to gannet.fish.washington.edu:443.\n",
      "HTTP request sent, awaiting response... 200 OK\n",
      "Length: 6552639 (6.2M)\n",
      "Saving to: ‘gannet.fish.washington.edu/seashell/bu-mox/scrubbed/031520-TG-bs/Mcap_tg/dedup/Meth17_R1_001_val_1_bismark_bt2_pe._5x.bedgraph’\n",
      "\n",
      "gannet.fish.washing 100%[===================>]   6.25M  --.-KB/s    in 0.08s   \n",
      "\n",
      "2020-06-11 12:03:44 (78.9 MB/s) - ‘gannet.fish.washington.edu/seashell/bu-mox/scrubbed/031520-TG-bs/Mcap_tg/dedup/Meth17_R1_001_val_1_bismark_bt2_pe._5x.bedgraph’ saved [6552639/6552639]\n",
      "\n",
      "--2020-06-11 12:03:44--  https://gannet.fish.washington.edu/seashell/bu-mox/scrubbed/031520-TG-bs/Mcap_tg/dedup/Meth18_R1_001_val_1_bismark_bt2_pe._5x.bedgraph\n",
      "Reusing existing connection to gannet.fish.washington.edu:443.\n",
      "HTTP request sent, awaiting response... 200 OK\n",
      "Length: 4146851 (4.0M)\n",
      "Saving to: ‘gannet.fish.washington.edu/seashell/bu-mox/scrubbed/031520-TG-bs/Mcap_tg/dedup/Meth18_R1_001_val_1_bismark_bt2_pe._5x.bedgraph’\n",
      "\n",
      "gannet.fish.washing 100%[===================>]   3.95M  --.-KB/s    in 0.05s   \n",
      "\n",
      "2020-06-11 12:03:44 (84.8 MB/s) - ‘gannet.fish.washington.edu/seashell/bu-mox/scrubbed/031520-TG-bs/Mcap_tg/dedup/Meth18_R1_001_val_1_bismark_bt2_pe._5x.bedgraph’ saved [4146851/4146851]\n",
      "\n",
      "FINISHED --2020-06-11 12:03:44--\n",
      "Total wall clock time: 11s\n",
      "Downloaded: 11 files, 489M in 5.4s (90.9 MB/s)\n"
     ]
    }
   ],
   "source": [
    "#Download Mcap WGBS and MBD-BS 5x sample bedgraphs\n",
    "!wget -r -l1 --no-parent -A \"*5x.bedgraph\" https://gannet.fish.washington.edu/seashell/bu-mox/scrubbed/031520-TG-bs/Mcap_tg/dedup/"
   ]
  },
  {
   "cell_type": "code",
   "execution_count": 42,
   "metadata": {
    "collapsed": true
   },
   "outputs": [],
   "source": [
    "#Move samples from directory structure on gannet to cd\n",
    "!mv gannet.fish.washington.edu/seashell/bu-mox/scrubbed/031520-TG-bs/Mcap_tg/dedup/* ."
   ]
  },
  {
   "cell_type": "code",
   "execution_count": 43,
   "metadata": {
    "collapsed": true
   },
   "outputs": [],
   "source": [
    "#Remove empty directory\n",
    "!rm -r gannet.fish.washington.edu/"
   ]
  },
  {
   "cell_type": "code",
   "execution_count": 44,
   "metadata": {
    "collapsed": false
   },
   "outputs": [
    {
     "name": "stdout",
     "output_type": "stream",
     "text": [
      "Meth10_R1_001_val_1_bismark_bt2_pe._5x.bedgraph\r\n",
      "Meth11_R1_001_val_1_bismark_bt2_pe._5x.bedgraph\r\n",
      "Meth12_R1_001_val_1_bismark_bt2_pe._5x.bedgraph\r\n",
      "Meth16_R1_001_val_1_bismark_bt2_pe._5x.bedgraph\r\n",
      "Meth17_R1_001_val_1_bismark_bt2_pe._5x.bedgraph\r\n",
      "Meth18_R1_001_val_1_bismark_bt2_pe._5x.bedgraph\r\n"
     ]
    }
   ],
   "source": [
    "#Check downloaded files\n",
    "!ls *bedgraph"
   ]
  },
  {
   "cell_type": "code",
   "execution_count": 45,
   "metadata": {
    "collapsed": false,
    "scrolled": true
   },
   "outputs": [
    {
     "name": "stdout",
     "output_type": "stream",
     "text": [
      "--2020-06-11 12:03:45--  https://gannet.fish.washington.edu/seashell/bu-mox/scrubbed/031520-TG-bs/Mcap_tg/nodedup/\n",
      "Resolving gannet.fish.washington.edu (gannet.fish.washington.edu)... 128.95.149.52\n",
      "Connecting to gannet.fish.washington.edu (gannet.fish.washington.edu)|128.95.149.52|:443... connected.\n",
      "HTTP request sent, awaiting response... 200 OK\n",
      "Length: unspecified [text/html]\n",
      "Saving to: ‘gannet.fish.washington.edu/seashell/bu-mox/scrubbed/031520-TG-bs/Mcap_tg/nodedup/index.html.tmp’\n",
      "\n",
      "gannet.fish.washing     [ <=>                ]  19.31K  --.-KB/s    in 0.001s  \n",
      "\n",
      "2020-06-11 12:03:46 (27.2 MB/s) - ‘gannet.fish.washington.edu/seashell/bu-mox/scrubbed/031520-TG-bs/Mcap_tg/nodedup/index.html.tmp’ saved [19778]\n",
      "\n",
      "Loading robots.txt; please ignore errors.\n",
      "--2020-06-11 12:03:46--  https://gannet.fish.washington.edu/robots.txt\n",
      "Reusing existing connection to gannet.fish.washington.edu:443.\n",
      "HTTP request sent, awaiting response... 404 Not Found\n",
      "2020-06-11 12:03:46 ERROR 404: Not Found.\n",
      "\n",
      "Removing gannet.fish.washington.edu/seashell/bu-mox/scrubbed/031520-TG-bs/Mcap_tg/nodedup/index.html.tmp since it should be rejected.\n",
      "\n",
      "--2020-06-11 12:03:46--  https://gannet.fish.washington.edu/seashell/bu-mox/scrubbed/031520-TG-bs/Mcap_tg/nodedup/?C=N;O=D\n",
      "Reusing existing connection to gannet.fish.washington.edu:443.\n",
      "HTTP request sent, awaiting response... 200 OK\n",
      "Length: unspecified [text/html]\n",
      "Saving to: ‘gannet.fish.washington.edu/seashell/bu-mox/scrubbed/031520-TG-bs/Mcap_tg/nodedup/index.html?C=N;O=D.tmp’\n",
      "\n",
      "gannet.fish.washing     [ <=>                ]  19.31K  --.-KB/s    in 0.001s  \n",
      "\n",
      "2020-06-11 12:03:46 (30.0 MB/s) - ‘gannet.fish.washington.edu/seashell/bu-mox/scrubbed/031520-TG-bs/Mcap_tg/nodedup/index.html?C=N;O=D.tmp’ saved [19778]\n",
      "\n",
      "Removing gannet.fish.washington.edu/seashell/bu-mox/scrubbed/031520-TG-bs/Mcap_tg/nodedup/index.html?C=N;O=D.tmp since it should be rejected.\n",
      "\n",
      "--2020-06-11 12:03:46--  https://gannet.fish.washington.edu/seashell/bu-mox/scrubbed/031520-TG-bs/Mcap_tg/nodedup/?C=M;O=A\n",
      "Reusing existing connection to gannet.fish.washington.edu:443.\n",
      "HTTP request sent, awaiting response... 200 OK\n",
      "Length: unspecified [text/html]\n",
      "Saving to: ‘gannet.fish.washington.edu/seashell/bu-mox/scrubbed/031520-TG-bs/Mcap_tg/nodedup/index.html?C=M;O=A.tmp’\n",
      "\n",
      "gannet.fish.washing     [ <=>                ]  19.31K  --.-KB/s    in 0.001s  \n",
      "\n",
      "2020-06-11 12:03:46 (29.5 MB/s) - ‘gannet.fish.washington.edu/seashell/bu-mox/scrubbed/031520-TG-bs/Mcap_tg/nodedup/index.html?C=M;O=A.tmp’ saved [19778]\n",
      "\n",
      "Removing gannet.fish.washington.edu/seashell/bu-mox/scrubbed/031520-TG-bs/Mcap_tg/nodedup/index.html?C=M;O=A.tmp since it should be rejected.\n",
      "\n",
      "--2020-06-11 12:03:46--  https://gannet.fish.washington.edu/seashell/bu-mox/scrubbed/031520-TG-bs/Mcap_tg/nodedup/?C=S;O=A\n",
      "Reusing existing connection to gannet.fish.washington.edu:443.\n",
      "HTTP request sent, awaiting response... 200 OK\n",
      "Length: unspecified [text/html]\n",
      "Saving to: ‘gannet.fish.washington.edu/seashell/bu-mox/scrubbed/031520-TG-bs/Mcap_tg/nodedup/index.html?C=S;O=A.tmp’\n",
      "\n",
      "gannet.fish.washing     [ <=>                ]  19.31K  --.-KB/s    in 0.001s  \n",
      "\n",
      "2020-06-11 12:03:47 (29.4 MB/s) - ‘gannet.fish.washington.edu/seashell/bu-mox/scrubbed/031520-TG-bs/Mcap_tg/nodedup/index.html?C=S;O=A.tmp’ saved [19778]\n",
      "\n",
      "Removing gannet.fish.washington.edu/seashell/bu-mox/scrubbed/031520-TG-bs/Mcap_tg/nodedup/index.html?C=S;O=A.tmp since it should be rejected.\n",
      "\n",
      "--2020-06-11 12:03:47--  https://gannet.fish.washington.edu/seashell/bu-mox/scrubbed/031520-TG-bs/Mcap_tg/nodedup/?C=D;O=A\n",
      "Reusing existing connection to gannet.fish.washington.edu:443.\n",
      "HTTP request sent, awaiting response... 200 OK\n",
      "Length: unspecified [text/html]\n",
      "Saving to: ‘gannet.fish.washington.edu/seashell/bu-mox/scrubbed/031520-TG-bs/Mcap_tg/nodedup/index.html?C=D;O=A.tmp’\n",
      "\n",
      "gannet.fish.washing     [ <=>                ]  19.31K  --.-KB/s    in 0.001s  \n",
      "\n",
      "2020-06-11 12:03:47 (28.8 MB/s) - ‘gannet.fish.washington.edu/seashell/bu-mox/scrubbed/031520-TG-bs/Mcap_tg/nodedup/index.html?C=D;O=A.tmp’ saved [19778]\n",
      "\n",
      "Removing gannet.fish.washington.edu/seashell/bu-mox/scrubbed/031520-TG-bs/Mcap_tg/nodedup/index.html?C=D;O=A.tmp since it should be rejected.\n",
      "\n",
      "--2020-06-11 12:03:47--  https://gannet.fish.washington.edu/seashell/bu-mox/scrubbed/031520-TG-bs/Mcap_tg/nodedup/Meth13_R1_001_val_1_bismark_bt2_pe._5x.bedgraph\n",
      "Reusing existing connection to gannet.fish.washington.edu:443.\n",
      "HTTP request sent, awaiting response... 200 OK\n",
      "Length: 84952729 (81M)\n",
      "Saving to: ‘gannet.fish.washington.edu/seashell/bu-mox/scrubbed/031520-TG-bs/Mcap_tg/nodedup/Meth13_R1_001_val_1_bismark_bt2_pe._5x.bedgraph’\n",
      "\n",
      "gannet.fish.washing 100%[===================>]  81.02M  97.7MB/s    in 0.8s    \n",
      "\n",
      "2020-06-11 12:03:48 (97.7 MB/s) - ‘gannet.fish.washington.edu/seashell/bu-mox/scrubbed/031520-TG-bs/Mcap_tg/nodedup/Meth13_R1_001_val_1_bismark_bt2_pe._5x.bedgraph’ saved [84952729/84952729]\n",
      "\n",
      "--2020-06-11 12:03:48--  https://gannet.fish.washington.edu/seashell/bu-mox/scrubbed/031520-TG-bs/Mcap_tg/nodedup/Meth14_R1_001_val_1_bismark_bt2_pe._5x.bedgraph\n",
      "Reusing existing connection to gannet.fish.washington.edu:443.\n",
      "HTTP request sent, awaiting response... 200 OK\n",
      "Length: 70900427 (68M)\n",
      "Saving to: ‘gannet.fish.washington.edu/seashell/bu-mox/scrubbed/031520-TG-bs/Mcap_tg/nodedup/Meth14_R1_001_val_1_bismark_bt2_pe._5x.bedgraph’\n",
      "\n",
      "gannet.fish.washing 100%[===================>]  67.62M  97.4MB/s    in 0.7s    \n",
      "\n",
      "2020-06-11 12:03:49 (97.4 MB/s) - ‘gannet.fish.washington.edu/seashell/bu-mox/scrubbed/031520-TG-bs/Mcap_tg/nodedup/Meth14_R1_001_val_1_bismark_bt2_pe._5x.bedgraph’ saved [70900427/70900427]\n",
      "\n",
      "--2020-06-11 12:03:49--  https://gannet.fish.washington.edu/seashell/bu-mox/scrubbed/031520-TG-bs/Mcap_tg/nodedup/Meth15_R1_001_val_1_bismark_bt2_pe._5x.bedgraph\n",
      "Reusing existing connection to gannet.fish.washington.edu:443.\n",
      "HTTP request sent, awaiting response... 200 OK\n",
      "Length: 85048595 (81M)\n",
      "Saving to: ‘gannet.fish.washington.edu/seashell/bu-mox/scrubbed/031520-TG-bs/Mcap_tg/nodedup/Meth15_R1_001_val_1_bismark_bt2_pe._5x.bedgraph’\n",
      "\n",
      "gannet.fish.washing 100%[===================>]  81.11M  99.6MB/s    in 0.8s    \n",
      "\n",
      "2020-06-11 12:03:49 (99.6 MB/s) - ‘gannet.fish.washington.edu/seashell/bu-mox/scrubbed/031520-TG-bs/Mcap_tg/nodedup/Meth15_R1_001_val_1_bismark_bt2_pe._5x.bedgraph’ saved [85048595/85048595]\n",
      "\n",
      "FINISHED --2020-06-11 12:03:49--\n",
      "Total wall clock time: 4.5s\n",
      "Downloaded: 8 files, 230M in 2.3s (98.2 MB/s)\n"
     ]
    }
   ],
   "source": [
    "#Download Mcap RRBS 5x sample bedgraphs\n",
    "!wget -r -l1 --no-parent -A \"*5x.bedgraph\" https://gannet.fish.washington.edu/seashell/bu-mox/scrubbed/031520-TG-bs/Mcap_tg/nodedup/"
   ]
  },
  {
   "cell_type": "code",
   "execution_count": 46,
   "metadata": {
    "collapsed": true
   },
   "outputs": [],
   "source": [
    "#Move samples from directory structure on gannet to cd\n",
    "!mv gannet.fish.washington.edu/seashell/bu-mox/scrubbed/031520-TG-bs/Mcap_tg/nodedup/* ."
   ]
  },
  {
   "cell_type": "code",
   "execution_count": 47,
   "metadata": {
    "collapsed": true
   },
   "outputs": [],
   "source": [
    "#Remove empty directory\n",
    "!rm -r gannet.fish.washington.edu/"
   ]
  },
  {
   "cell_type": "code",
   "execution_count": 48,
   "metadata": {
    "collapsed": false,
    "scrolled": true
   },
   "outputs": [
    {
     "name": "stdout",
     "output_type": "stream",
     "text": [
      "Meth10_R1_001_val_1_bismark_bt2_pe._5x.bedgraph\r\n",
      "Meth11_R1_001_val_1_bismark_bt2_pe._5x.bedgraph\r\n",
      "Meth12_R1_001_val_1_bismark_bt2_pe._5x.bedgraph\r\n",
      "Meth13_R1_001_val_1_bismark_bt2_pe._5x.bedgraph\r\n",
      "Meth14_R1_001_val_1_bismark_bt2_pe._5x.bedgraph\r\n",
      "Meth15_R1_001_val_1_bismark_bt2_pe._5x.bedgraph\r\n",
      "Meth16_R1_001_val_1_bismark_bt2_pe._5x.bedgraph\r\n",
      "Meth17_R1_001_val_1_bismark_bt2_pe._5x.bedgraph\r\n",
      "Meth18_R1_001_val_1_bismark_bt2_pe._5x.bedgraph\r\n"
     ]
    }
   ],
   "source": [
    "!find *bedgraph"
   ]
  },
  {
   "cell_type": "code",
   "execution_count": 49,
   "metadata": {
    "collapsed": false,
    "scrolled": true
   },
   "outputs": [
    {
     "name": "stdout",
     "output_type": "stream",
     "text": [
      "Meth16_R1_001_val_1_bismark_bt2_pe._5x.bedgraph: OK\n",
      "Meth12_R1_001_val_1_bismark_bt2_pe._5x.bedgraph: OK\n",
      "Meth17_R1_001_val_1_bismark_bt2_pe._5x.bedgraph: OK\n",
      "Meth10_R1_001_val_1_bismark_bt2_pe._5x.bedgraph: OK\n",
      "Meth18_R1_001_val_1_bismark_bt2_pe._5x.bedgraph: OK\n",
      "Meth11_R1_001_val_1_bismark_bt2_pe._5x.bedgraph: OK\n",
      "Meth14_R1_001_val_1_bismark_bt2_pe._5x.bedgraph: OK\n",
      "Meth15_R1_001_val_1_bismark_bt2_pe._5x.bedgraph: OK\n",
      "Meth13_R1_001_val_1_bismark_bt2_pe._5x.bedgraph: OK\n"
     ]
    }
   ],
   "source": [
    "#Verify checksums from gannet\n",
    "!md5sum -c ../Mcap-5xbedgraph-GANNET-md5sum.txt"
   ]
  },
  {
   "cell_type": "code",
   "execution_count": 50,
   "metadata": {
    "collapsed": false,
    "scrolled": true
   },
   "outputs": [
    {
     "name": "stdout",
     "output_type": "stream",
     "text": [
      " 4571288 Meth10_R1_001_val_1_bismark_bt2_pe._5x.bedgraph\n",
      " 4661716 Meth11_R1_001_val_1_bismark_bt2_pe._5x.bedgraph\n",
      " 8791700 Meth12_R1_001_val_1_bismark_bt2_pe._5x.bedgraph\n",
      " 3173254 Meth13_R1_001_val_1_bismark_bt2_pe._5x.bedgraph\n",
      " 2648697 Meth14_R1_001_val_1_bismark_bt2_pe._5x.bedgraph\n",
      " 3176517 Meth15_R1_001_val_1_bismark_bt2_pe._5x.bedgraph\n",
      "  583599 Meth16_R1_001_val_1_bismark_bt2_pe._5x.bedgraph\n",
      "  242390 Meth17_R1_001_val_1_bismark_bt2_pe._5x.bedgraph\n",
      "  153392 Meth18_R1_001_val_1_bismark_bt2_pe._5x.bedgraph\n",
      " 28002553 total\n"
     ]
    }
   ],
   "source": [
    "!wc -l *bedgraph"
   ]
  },
  {
   "cell_type": "code",
   "execution_count": 51,
   "metadata": {
    "collapsed": true
   },
   "outputs": [],
   "source": [
    "!wc -l *bedgraph > Mcap-5x-bedgraph-counts.txt"
   ]
  },
  {
   "cell_type": "markdown",
   "metadata": {},
   "source": [
    "### 3. Characterize methylation for each CpG dinucleotide\n",
    "\n",
    "- Methylated: > 50% methylation\n",
    "- Sparsely methylated: 10-50% methylation\n",
    "- Unmethylated: < 10% methylation"
   ]
  },
  {
   "cell_type": "markdown",
   "metadata": {},
   "source": [
    "##### Methylated loci"
   ]
  },
  {
   "cell_type": "code",
   "execution_count": 52,
   "metadata": {
    "collapsed": true
   },
   "outputs": [],
   "source": [
    "%%bash\n",
    "for f in *bedgraph\n",
    "do\n",
    "    awk '{if ($4 >= 50) { print $1, $2, $3, $4 }}' ${f} \\\n",
    "    > ${f}-Meth\n",
    "done"
   ]
  },
  {
   "cell_type": "code",
   "execution_count": 53,
   "metadata": {
    "collapsed": false,
    "scrolled": true
   },
   "outputs": [
    {
     "name": "stdout",
     "output_type": "stream",
     "text": [
      "==> Meth10_R1_001_val_1_bismark_bt2_pe._5x.bedgraph-Meth <==\r\n",
      "1 58745 58747 100.000000\r\n",
      "1 103334 103336 100.000000\r\n",
      "1 103347 103349 100.000000\r\n",
      "1 103356 103358 100.000000\r\n",
      "1 103360 103362 100.000000\r\n",
      "1 103398 103400 100.000000\r\n",
      "1 105953 105955 80.000000\r\n",
      "1 106012 106014 50.000000\r\n",
      "1 106155 106157 60.000000\r\n",
      "1 106173 106175 66.666667\r\n",
      "\r\n",
      "==> Meth11_R1_001_val_1_bismark_bt2_pe._5x.bedgraph-Meth <==\r\n",
      "1 6905 6907 60.000000\r\n",
      "1 7273 7275 80.000000\r\n",
      "1 58745 58747 100.000000\r\n",
      "1 59207 59209 100.000000\r\n",
      "1 69235 69237 100.000000\r\n",
      "1 69271 69273 80.000000\r\n",
      "1 69275 69277 100.000000\r\n",
      "1 69451 69453 100.000000\r\n",
      "1 69580 69582 100.000000\r\n",
      "1 69584 69586 100.000000\r\n",
      "\r\n",
      "==> Meth12_R1_001_val_1_bismark_bt2_pe._5x.bedgraph-Meth <==\r\n",
      "1 4948 4950 50.000000\r\n",
      "1 4967 4969 50.000000\r\n",
      "1 4986 4988 50.000000\r\n",
      "1 57065 57067 80.000000\r\n",
      "1 58609 58611 100.000000\r\n",
      "1 58618 58620 100.000000\r\n",
      "1 59207 59209 100.000000\r\n",
      "1 59277 59279 100.000000\r\n",
      "1 59393 59395 100.000000\r\n",
      "1 59438 59440 100.000000\r\n",
      "\r\n",
      "==> Meth13_R1_001_val_1_bismark_bt2_pe._5x.bedgraph-Meth <==\r\n",
      "1 58618 58620 100.000000\r\n",
      "1 58745 58747 97.959184\r\n",
      "1 58764 58766 100.000000\r\n",
      "1 58792 58794 92.592593\r\n",
      "1 66041 66043 100.000000\r\n",
      "1 66050 66052 100.000000\r\n",
      "1 66339 66341 88.888889\r\n",
      "1 66345 66347 77.777778\r\n",
      "1 66354 66356 77.777778\r\n",
      "1 66400 66402 100.000000\r\n",
      "\r\n",
      "==> Meth14_R1_001_val_1_bismark_bt2_pe._5x.bedgraph-Meth <==\r\n",
      "1 32228 32230 100.000000\r\n",
      "1 58618 58620 94.117647\r\n",
      "1 58745 58747 100.000000\r\n",
      "1 58764 58766 100.000000\r\n",
      "1 58792 58794 100.000000\r\n",
      "1 105822 105824 100.000000\r\n",
      "1 105825 105827 100.000000\r\n",
      "1 105836 105838 100.000000\r\n",
      "1 105874 105876 100.000000\r\n",
      "1 105883 105885 87.500000\r\n",
      "\r\n",
      "==> Meth15_R1_001_val_1_bismark_bt2_pe._5x.bedgraph-Meth <==\r\n",
      "1 58618 58620 92.857143\r\n",
      "1 58745 58747 92.500000\r\n",
      "1 58764 58766 97.500000\r\n",
      "1 58792 58794 57.692308\r\n",
      "1 101462 101464 90.476190\r\n",
      "1 101535 101537 100.000000\r\n",
      "1 108751 108753 100.000000\r\n",
      "1 108778 108780 100.000000\r\n",
      "1 108787 108789 82.758621\r\n",
      "1 108803 108805 100.000000\r\n",
      "\r\n",
      "==> Meth16_R1_001_val_1_bismark_bt2_pe._5x.bedgraph-Meth <==\r\n",
      "1 344031 344033 50.000000\r\n",
      "1 344044 344046 60.000000\r\n",
      "1 446326 446328 80.000000\r\n",
      "1 446344 446346 100.000000\r\n",
      "1 446367 446369 100.000000\r\n",
      "1 446376 446378 100.000000\r\n",
      "1 786125 786127 60.000000\r\n",
      "1 786144 786146 100.000000\r\n",
      "1 786151 786153 100.000000\r\n",
      "1 789213 789215 60.000000\r\n",
      "\r\n",
      "==> Meth17_R1_001_val_1_bismark_bt2_pe._5x.bedgraph-Meth <==\r\n",
      "1 59438 59440 100.000000\r\n",
      "1 106173 106175 100.000000\r\n",
      "1 106202 106204 100.000000\r\n",
      "1 1243019 1243021 60.000000\r\n",
      "1 1409734 1409736 100.000000\r\n",
      "1 1419093 1419095 87.500000\r\n",
      "1 1457412 1457414 100.000000\r\n",
      "1 1457444 1457446 80.000000\r\n",
      "1 1457447 1457449 100.000000\r\n",
      "1 1457450 1457452 100.000000\r\n",
      "\r\n",
      "==> Meth18_R1_001_val_1_bismark_bt2_pe._5x.bedgraph-Meth <==\r\n",
      "1 1002973 1002975 50.000000\r\n",
      "1 1343240 1343242 100.000000\r\n",
      "1 1343249 1343251 100.000000\r\n",
      "1 1343263 1343265 83.333333\r\n",
      "1 1343265 1343267 100.000000\r\n",
      "1 1343295 1343297 100.000000\r\n",
      "1 1343304 1343306 100.000000\r\n",
      "1 1343320 1343322 100.000000\r\n",
      "1 1451821 1451823 60.000000\r\n",
      "1 1468323 1468325 100.000000\r\n"
     ]
    }
   ],
   "source": [
    "!head *Meth"
   ]
  },
  {
   "cell_type": "code",
   "execution_count": 54,
   "metadata": {
    "collapsed": false,
    "scrolled": true
   },
   "outputs": [
    {
     "name": "stdout",
     "output_type": "stream",
     "text": [
      "  450582 Meth10_R1_001_val_1_bismark_bt2_pe._5x.bedgraph-Meth\n",
      "  528902 Meth11_R1_001_val_1_bismark_bt2_pe._5x.bedgraph-Meth\n",
      " 1059904 Meth12_R1_001_val_1_bismark_bt2_pe._5x.bedgraph-Meth\n",
      "  257741 Meth13_R1_001_val_1_bismark_bt2_pe._5x.bedgraph-Meth\n",
      "  184742 Meth14_R1_001_val_1_bismark_bt2_pe._5x.bedgraph-Meth\n",
      "  231347 Meth15_R1_001_val_1_bismark_bt2_pe._5x.bedgraph-Meth\n",
      "  106695 Meth16_R1_001_val_1_bismark_bt2_pe._5x.bedgraph-Meth\n",
      "   45506 Meth17_R1_001_val_1_bismark_bt2_pe._5x.bedgraph-Meth\n",
      "   29468 Meth18_R1_001_val_1_bismark_bt2_pe._5x.bedgraph-Meth\n",
      " 2894887 total\n"
     ]
    }
   ],
   "source": [
    "!wc -l *-Meth"
   ]
  },
  {
   "cell_type": "code",
   "execution_count": 55,
   "metadata": {
    "collapsed": true
   },
   "outputs": [],
   "source": [
    "!wc -l *-Meth > Mcap-5x-Meth-counts.txt"
   ]
  },
  {
   "cell_type": "markdown",
   "metadata": {},
   "source": [
    "##### Sparsely methylated loci"
   ]
  },
  {
   "cell_type": "code",
   "execution_count": 56,
   "metadata": {
    "collapsed": true
   },
   "outputs": [],
   "source": [
    "%%bash\n",
    "for f in *bedgraph\n",
    "do\n",
    "    awk '{if ($4 < 50) { print $1, $2, $3, $4}}' ${f} \\\n",
    "    | awk '{if ($4 > 10) { print $1, $2, $3, $4 }}' \\\n",
    "    > ${f}-sparseMeth\n",
    "done"
   ]
  },
  {
   "cell_type": "code",
   "execution_count": 57,
   "metadata": {
    "collapsed": false,
    "scrolled": true
   },
   "outputs": [
    {
     "name": "stdout",
     "output_type": "stream",
     "text": [
      "==> Meth10_R1_001_val_1_bismark_bt2_pe._5x.bedgraph-sparseMeth <==\r\n",
      "1 27782 27784 20.000000\r\n",
      "1 80133 80135 20.000000\r\n",
      "1 106202 106204 40.000000\r\n",
      "1 140551 140553 33.333333\r\n",
      "1 148080 148082 16.666667\r\n",
      "1 150099 150101 40.000000\r\n",
      "1 169735 169737 12.500000\r\n",
      "1 169771 169773 42.857143\r\n",
      "1 169796 169798 14.285714\r\n",
      "1 169800 169802 16.666667\r\n",
      "\r\n",
      "==> Meth11_R1_001_val_1_bismark_bt2_pe._5x.bedgraph-sparseMeth <==\r\n",
      "1 6550 6552 12.500000\r\n",
      "1 6671 6673 20.000000\r\n",
      "1 6996 6998 20.000000\r\n",
      "1 7016 7018 40.000000\r\n",
      "1 7019 7021 40.000000\r\n",
      "1 7293 7295 16.666667\r\n",
      "1 7427 7429 16.666667\r\n",
      "1 74928 74930 14.285714\r\n",
      "1 153767 153769 20.000000\r\n",
      "1 193930 193932 20.000000\r\n",
      "\r\n",
      "==> Meth12_R1_001_val_1_bismark_bt2_pe._5x.bedgraph-sparseMeth <==\r\n",
      "1 4190 4192 16.666667\r\n",
      "1 4891 4893 33.333333\r\n",
      "1 4910 4912 28.571429\r\n",
      "1 4929 4931 33.333333\r\n",
      "1 5005 5007 28.571429\r\n",
      "1 5024 5026 40.000000\r\n",
      "1 5151 5153 20.000000\r\n",
      "1 5160 5162 16.666667\r\n",
      "1 5228 5230 11.111111\r\n",
      "1 6282 6284 11.111111\r\n",
      "\r\n",
      "==> Meth13_R1_001_val_1_bismark_bt2_pe._5x.bedgraph-sparseMeth <==\r\n",
      "1 15092 15094 30.000000\r\n",
      "1 21739 21741 13.636364\r\n",
      "1 34139 34141 11.764706\r\n",
      "1 45163 45165 10.317460\r\n",
      "1 48370 48372 14.285714\r\n",
      "1 87492 87494 33.333333\r\n",
      "1 89011 89013 14.285714\r\n",
      "1 169847 169849 12.820513\r\n",
      "1 198078 198080 30.434783\r\n",
      "1 203991 203993 12.500000\r\n",
      "\r\n",
      "==> Meth14_R1_001_val_1_bismark_bt2_pe._5x.bedgraph-sparseMeth <==\r\n",
      "1 124833 124835 20.000000\r\n",
      "1 135853 135855 33.333333\r\n",
      "1 166013 166015 12.500000\r\n",
      "1 227400 227402 11.200000\r\n",
      "1 230854 230856 14.285714\r\n",
      "1 246955 246957 29.545455\r\n",
      "1 248898 248900 13.333333\r\n",
      "1 249322 249324 42.857143\r\n",
      "1 257203 257205 14.285714\r\n",
      "1 305489 305491 11.111111\r\n",
      "\r\n",
      "==> Meth15_R1_001_val_1_bismark_bt2_pe._5x.bedgraph-sparseMeth <==\r\n",
      "1 41916 41918 13.043478\r\n",
      "1 42261 42263 16.666667\r\n",
      "1 78269 78271 22.222222\r\n",
      "1 101503 101505 31.428571\r\n",
      "1 101545 101547 40.000000\r\n",
      "1 169847 169849 14.285714\r\n",
      "1 169891 169893 11.428571\r\n",
      "1 169927 169929 20.000000\r\n",
      "1 169936 169938 22.857143\r\n",
      "1 170062 170064 21.052632\r\n",
      "\r\n",
      "==> Meth16_R1_001_val_1_bismark_bt2_pe._5x.bedgraph-sparseMeth <==\r\n",
      "1 211907 211909 40.000000\r\n",
      "1 217198 217200 14.285714\r\n",
      "1 234158 234160 14.285714\r\n",
      "1 234196 234198 12.500000\r\n",
      "1 244563 244565 20.000000\r\n",
      "1 269174 269176 16.666667\r\n",
      "1 269178 269180 16.666667\r\n",
      "1 269182 269184 16.666667\r\n",
      "1 284269 284271 16.666667\r\n",
      "1 323095 323097 16.666667\r\n",
      "\r\n",
      "==> Meth17_R1_001_val_1_bismark_bt2_pe._5x.bedgraph-sparseMeth <==\r\n",
      "1 376177 376179 16.666667\r\n",
      "1 460920 460922 40.000000\r\n",
      "1 460947 460949 33.333333\r\n",
      "1 460953 460955 33.333333\r\n",
      "1 461051 461053 20.000000\r\n",
      "1 519486 519488 28.571429\r\n",
      "1 519505 519507 33.333333\r\n",
      "1 601511 601513 20.000000\r\n",
      "1 618190 618192 16.666667\r\n",
      "1 618205 618207 14.285714\r\n",
      "\r\n",
      "==> Meth18_R1_001_val_1_bismark_bt2_pe._5x.bedgraph-sparseMeth <==\r\n",
      "1 8113 8115 20.000000\r\n",
      "1 277994 277996 16.666667\r\n",
      "1 387294 387296 20.000000\r\n",
      "1 461787 461789 40.000000\r\n",
      "1 480696 480698 20.000000\r\n",
      "1 605019 605021 28.571429\r\n",
      "1 605050 605052 33.333333\r\n",
      "1 646162 646164 20.000000\r\n",
      "1 667790 667792 40.000000\r\n",
      "1 726420 726422 20.000000\r\n"
     ]
    }
   ],
   "source": [
    "!head *sparseMeth"
   ]
  },
  {
   "cell_type": "code",
   "execution_count": 58,
   "metadata": {
    "collapsed": false,
    "scrolled": false
   },
   "outputs": [
    {
     "name": "stdout",
     "output_type": "stream",
     "text": [
      "  547868 Meth10_R1_001_val_1_bismark_bt2_pe._5x.bedgraph-sparseMeth\n",
      "  517805 Meth11_R1_001_val_1_bismark_bt2_pe._5x.bedgraph-sparseMeth\n",
      " 1000337 Meth12_R1_001_val_1_bismark_bt2_pe._5x.bedgraph-sparseMeth\n",
      "  152042 Meth13_R1_001_val_1_bismark_bt2_pe._5x.bedgraph-sparseMeth\n",
      "  135052 Meth14_R1_001_val_1_bismark_bt2_pe._5x.bedgraph-sparseMeth\n",
      "  179454 Meth15_R1_001_val_1_bismark_bt2_pe._5x.bedgraph-sparseMeth\n",
      "   74839 Meth16_R1_001_val_1_bismark_bt2_pe._5x.bedgraph-sparseMeth\n",
      "   28850 Meth17_R1_001_val_1_bismark_bt2_pe._5x.bedgraph-sparseMeth\n",
      "   16793 Meth18_R1_001_val_1_bismark_bt2_pe._5x.bedgraph-sparseMeth\n",
      " 2653040 total\n"
     ]
    }
   ],
   "source": [
    "!wc -l *sparseMeth"
   ]
  },
  {
   "cell_type": "code",
   "execution_count": 59,
   "metadata": {
    "collapsed": true
   },
   "outputs": [],
   "source": [
    "!wc -l *-sparseMeth > Mcap-5x-sparseMeth-counts.txt"
   ]
  },
  {
   "cell_type": "markdown",
   "metadata": {},
   "source": [
    "##### Unmethylated loci"
   ]
  },
  {
   "cell_type": "code",
   "execution_count": 60,
   "metadata": {
    "collapsed": true
   },
   "outputs": [],
   "source": [
    "%%bash\n",
    "for f in *bedgraph\n",
    "do\n",
    "    awk '{if ($4 <= 10) { print $1, $2, $3, $4 }}' ${f} \\\n",
    "    > ${f}-unMeth\n",
    "done"
   ]
  },
  {
   "cell_type": "code",
   "execution_count": 61,
   "metadata": {
    "collapsed": false,
    "scrolled": true
   },
   "outputs": [
    {
     "name": "stdout",
     "output_type": "stream",
     "text": [
      "==> Meth10_R1_001_val_1_bismark_bt2_pe._5x.bedgraph-unMeth <==\r\n",
      "1 6570 6572 0.000000\r\n",
      "1 6713 6715 0.000000\r\n",
      "1 6780 6782 0.000000\r\n",
      "1 6813 6815 0.000000\r\n",
      "1 6818 6820 0.000000\r\n",
      "1 27606 27608 0.000000\r\n",
      "1 27613 27615 0.000000\r\n",
      "1 27641 27643 0.000000\r\n",
      "1 27643 27645 0.000000\r\n",
      "1 27674 27676 0.000000\r\n",
      "\r\n",
      "==> Meth11_R1_001_val_1_bismark_bt2_pe._5x.bedgraph-unMeth <==\r\n",
      "1 4929 4931 0.000000\r\n",
      "1 5665 5667 0.000000\r\n",
      "1 6453 6455 0.000000\r\n",
      "1 6484 6486 0.000000\r\n",
      "1 6527 6529 0.000000\r\n",
      "1 6570 6572 0.000000\r\n",
      "1 6618 6620 0.000000\r\n",
      "1 6652 6654 0.000000\r\n",
      "1 6661 6663 0.000000\r\n",
      "1 6668 6670 0.000000\r\n",
      "\r\n",
      "==> Meth12_R1_001_val_1_bismark_bt2_pe._5x.bedgraph-unMeth <==\r\n",
      "1 4062 4064 0.000000\r\n",
      "1 4069 4071 0.000000\r\n",
      "1 4077 4079 0.000000\r\n",
      "1 4086 4088 0.000000\r\n",
      "1 4146 4148 0.000000\r\n",
      "1 4150 4152 0.000000\r\n",
      "1 4155 4157 0.000000\r\n",
      "1 4172 4174 0.000000\r\n",
      "1 4184 4186 0.000000\r\n",
      "1 5043 5045 0.000000\r\n",
      "\r\n",
      "==> Meth13_R1_001_val_1_bismark_bt2_pe._5x.bedgraph-unMeth <==\r\n",
      "1 3493 3495 0.000000\r\n",
      "1 3518 3520 0.000000\r\n",
      "1 3727 3729 0.000000\r\n",
      "1 3752 3754 0.000000\r\n",
      "1 3757 3759 0.000000\r\n",
      "1 3770 3772 0.000000\r\n",
      "1 11979 11981 0.000000\r\n",
      "1 11985 11987 0.000000\r\n",
      "1 11994 11996 0.000000\r\n",
      "1 12043 12045 0.000000\r\n",
      "\r\n",
      "==> Meth14_R1_001_val_1_bismark_bt2_pe._5x.bedgraph-unMeth <==\r\n",
      "1 3727 3729 0.000000\r\n",
      "1 3752 3754 0.000000\r\n",
      "1 3757 3759 0.000000\r\n",
      "1 3770 3772 0.000000\r\n",
      "1 11876 11878 0.000000\r\n",
      "1 11887 11889 0.000000\r\n",
      "1 11894 11896 0.000000\r\n",
      "1 11941 11943 0.000000\r\n",
      "1 11954 11956 0.000000\r\n",
      "1 11975 11977 0.000000\r\n",
      "\r\n",
      "==> Meth15_R1_001_val_1_bismark_bt2_pe._5x.bedgraph-unMeth <==\r\n",
      "1 3493 3495 0.000000\r\n",
      "1 3518 3520 0.000000\r\n",
      "1 3727 3729 8.695652\r\n",
      "1 3752 3754 0.000000\r\n",
      "1 3757 3759 0.000000\r\n",
      "1 3770 3772 0.000000\r\n",
      "1 29753 29755 3.200000\r\n",
      "1 29821 29823 7.086614\r\n",
      "1 32243 32245 1.388889\r\n",
      "1 32283 32285 0.000000\r\n",
      "\r\n",
      "==> Meth16_R1_001_val_1_bismark_bt2_pe._5x.bedgraph-unMeth <==\r\n",
      "1 5228 5230 0.000000\r\n",
      "1 5243 5245 0.000000\r\n",
      "1 5247 5249 0.000000\r\n",
      "1 5296 5298 0.000000\r\n",
      "1 77096 77098 0.000000\r\n",
      "1 77145 77147 0.000000\r\n",
      "1 77151 77153 0.000000\r\n",
      "1 77179 77181 0.000000\r\n",
      "1 81812 81814 0.000000\r\n",
      "1 81817 81819 0.000000\r\n",
      "\r\n",
      "==> Meth17_R1_001_val_1_bismark_bt2_pe._5x.bedgraph-unMeth <==\r\n",
      "1 210921 210923 0.000000\r\n",
      "1 210930 210932 0.000000\r\n",
      "1 219905 219907 0.000000\r\n",
      "1 229825 229827 0.000000\r\n",
      "1 229852 229854 0.000000\r\n",
      "1 231344 231346 0.000000\r\n",
      "1 233876 233878 0.000000\r\n",
      "1 233894 233896 0.000000\r\n",
      "1 255402 255404 0.000000\r\n",
      "1 271124 271126 0.000000\r\n",
      "\r\n",
      "==> Meth18_R1_001_val_1_bismark_bt2_pe._5x.bedgraph-unMeth <==\r\n",
      "1 224609 224611 0.000000\r\n",
      "1 264560 264562 0.000000\r\n",
      "1 264598 264600 0.000000\r\n",
      "1 271145 271147 0.000000\r\n",
      "1 278004 278006 0.000000\r\n",
      "1 278039 278041 0.000000\r\n",
      "1 278049 278051 0.000000\r\n",
      "1 278067 278069 0.000000\r\n",
      "1 280413 280415 0.000000\r\n",
      "1 280448 280450 0.000000\r\n"
     ]
    }
   ],
   "source": [
    "!head *unMeth"
   ]
  },
  {
   "cell_type": "code",
   "execution_count": 62,
   "metadata": {
    "collapsed": false,
    "scrolled": true
   },
   "outputs": [
    {
     "name": "stdout",
     "output_type": "stream",
     "text": [
      " 3572838 Meth10_R1_001_val_1_bismark_bt2_pe._5x.bedgraph-unMeth\n",
      " 3615009 Meth11_R1_001_val_1_bismark_bt2_pe._5x.bedgraph-unMeth\n",
      " 6731459 Meth12_R1_001_val_1_bismark_bt2_pe._5x.bedgraph-unMeth\n",
      " 2763471 Meth13_R1_001_val_1_bismark_bt2_pe._5x.bedgraph-unMeth\n",
      " 2328903 Meth14_R1_001_val_1_bismark_bt2_pe._5x.bedgraph-unMeth\n",
      " 2765716 Meth15_R1_001_val_1_bismark_bt2_pe._5x.bedgraph-unMeth\n",
      "  402065 Meth16_R1_001_val_1_bismark_bt2_pe._5x.bedgraph-unMeth\n",
      "  168034 Meth17_R1_001_val_1_bismark_bt2_pe._5x.bedgraph-unMeth\n",
      "  107131 Meth18_R1_001_val_1_bismark_bt2_pe._5x.bedgraph-unMeth\n",
      " 22454626 total\n"
     ]
    }
   ],
   "source": [
    "!wc -l *unMeth"
   ]
  },
  {
   "cell_type": "code",
   "execution_count": 63,
   "metadata": {
    "collapsed": true
   },
   "outputs": [],
   "source": [
    "!wc -l *-unMeth > Mcap-5x-unMeth-counts.txt"
   ]
  },
  {
   "cell_type": "markdown",
   "metadata": {},
   "source": [
    "### 4. Characterize genomic locations of CpGs"
   ]
  },
  {
   "cell_type": "markdown",
   "metadata": {},
   "source": [
    "#### 4a. Create BEDfiles"
   ]
  },
  {
   "cell_type": "code",
   "execution_count": 64,
   "metadata": {
    "collapsed": false,
    "scrolled": false
   },
   "outputs": [
    {
     "name": "stdout",
     "output_type": "stream",
     "text": [
      " 4571288 Meth10_R1_001_val_1_bismark_bt2_pe._5x.bedgraph.bed\n",
      " 4661716 Meth11_R1_001_val_1_bismark_bt2_pe._5x.bedgraph.bed\n",
      " 8791700 Meth12_R1_001_val_1_bismark_bt2_pe._5x.bedgraph.bed\n",
      " 3173254 Meth13_R1_001_val_1_bismark_bt2_pe._5x.bedgraph.bed\n",
      " 2648697 Meth14_R1_001_val_1_bismark_bt2_pe._5x.bedgraph.bed\n",
      " 3176517 Meth15_R1_001_val_1_bismark_bt2_pe._5x.bedgraph.bed\n",
      "  583599 Meth16_R1_001_val_1_bismark_bt2_pe._5x.bedgraph.bed\n",
      "  242390 Meth17_R1_001_val_1_bismark_bt2_pe._5x.bedgraph.bed\n",
      "  153392 Meth18_R1_001_val_1_bismark_bt2_pe._5x.bedgraph.bed\n"
     ]
    }
   ],
   "source": [
    "%%bash\n",
    "\n",
    "for f in *bedgraph\n",
    "do\n",
    "    awk '{print $1\"\\t\"$2\"\\t\"$3}' ${f} > ${f}.bed\n",
    "    wc -l ${f}.bed\n",
    "done"
   ]
  },
  {
   "cell_type": "code",
   "execution_count": 65,
   "metadata": {
    "collapsed": false
   },
   "outputs": [
    {
     "name": "stdout",
     "output_type": "stream",
     "text": [
      "  450582 Meth10_R1_001_val_1_bismark_bt2_pe._5x.bedgraph-Meth.bed\n",
      "  528902 Meth11_R1_001_val_1_bismark_bt2_pe._5x.bedgraph-Meth.bed\n",
      " 1059904 Meth12_R1_001_val_1_bismark_bt2_pe._5x.bedgraph-Meth.bed\n",
      "  257741 Meth13_R1_001_val_1_bismark_bt2_pe._5x.bedgraph-Meth.bed\n",
      "  184742 Meth14_R1_001_val_1_bismark_bt2_pe._5x.bedgraph-Meth.bed\n",
      "  231347 Meth15_R1_001_val_1_bismark_bt2_pe._5x.bedgraph-Meth.bed\n",
      "  106695 Meth16_R1_001_val_1_bismark_bt2_pe._5x.bedgraph-Meth.bed\n",
      "   45506 Meth17_R1_001_val_1_bismark_bt2_pe._5x.bedgraph-Meth.bed\n",
      "   29468 Meth18_R1_001_val_1_bismark_bt2_pe._5x.bedgraph-Meth.bed\n"
     ]
    }
   ],
   "source": [
    "%%bash\n",
    "\n",
    "for f in *bedgraph-Meth\n",
    "do\n",
    "    awk '{print $1\"\\t\"$2\"\\t\"$3}' ${f} > ${f}.bed\n",
    "    wc -l ${f}.bed\n",
    "done"
   ]
  },
  {
   "cell_type": "code",
   "execution_count": 66,
   "metadata": {
    "collapsed": false
   },
   "outputs": [
    {
     "name": "stdout",
     "output_type": "stream",
     "text": [
      "  547868 Meth10_R1_001_val_1_bismark_bt2_pe._5x.bedgraph-sparseMeth.bed\n",
      "  517805 Meth11_R1_001_val_1_bismark_bt2_pe._5x.bedgraph-sparseMeth.bed\n",
      " 1000337 Meth12_R1_001_val_1_bismark_bt2_pe._5x.bedgraph-sparseMeth.bed\n",
      "  152042 Meth13_R1_001_val_1_bismark_bt2_pe._5x.bedgraph-sparseMeth.bed\n",
      "  135052 Meth14_R1_001_val_1_bismark_bt2_pe._5x.bedgraph-sparseMeth.bed\n",
      "  179454 Meth15_R1_001_val_1_bismark_bt2_pe._5x.bedgraph-sparseMeth.bed\n",
      "   74839 Meth16_R1_001_val_1_bismark_bt2_pe._5x.bedgraph-sparseMeth.bed\n",
      "   28850 Meth17_R1_001_val_1_bismark_bt2_pe._5x.bedgraph-sparseMeth.bed\n",
      "   16793 Meth18_R1_001_val_1_bismark_bt2_pe._5x.bedgraph-sparseMeth.bed\n"
     ]
    }
   ],
   "source": [
    "%%bash\n",
    "\n",
    "for f in *bedgraph-sparseMeth\n",
    "do\n",
    "    awk '{print $1\"\\t\"$2\"\\t\"$3}' ${f} > ${f}.bed\n",
    "    wc -l ${f}.bed\n",
    "done"
   ]
  },
  {
   "cell_type": "code",
   "execution_count": 67,
   "metadata": {
    "collapsed": false
   },
   "outputs": [
    {
     "name": "stdout",
     "output_type": "stream",
     "text": [
      " 3572838 Meth10_R1_001_val_1_bismark_bt2_pe._5x.bedgraph-unMeth.bed\n",
      " 3615009 Meth11_R1_001_val_1_bismark_bt2_pe._5x.bedgraph-unMeth.bed\n",
      " 6731459 Meth12_R1_001_val_1_bismark_bt2_pe._5x.bedgraph-unMeth.bed\n",
      " 2763471 Meth13_R1_001_val_1_bismark_bt2_pe._5x.bedgraph-unMeth.bed\n",
      " 2328903 Meth14_R1_001_val_1_bismark_bt2_pe._5x.bedgraph-unMeth.bed\n",
      " 2765716 Meth15_R1_001_val_1_bismark_bt2_pe._5x.bedgraph-unMeth.bed\n",
      "  402065 Meth16_R1_001_val_1_bismark_bt2_pe._5x.bedgraph-unMeth.bed\n",
      "  168034 Meth17_R1_001_val_1_bismark_bt2_pe._5x.bedgraph-unMeth.bed\n",
      "  107131 Meth18_R1_001_val_1_bismark_bt2_pe._5x.bedgraph-unMeth.bed\n"
     ]
    }
   ],
   "source": [
    "%%bash\n",
    "\n",
    "for f in *bedgraph-unMeth\n",
    "do\n",
    "    awk '{print $1\"\\t\"$2\"\\t\"$3}' ${f} > ${f}.bed\n",
    "    wc -l ${f}.bed\n",
    "done"
   ]
  },
  {
   "cell_type": "code",
   "execution_count": 68,
   "metadata": {
    "collapsed": false,
    "scrolled": true
   },
   "outputs": [
    {
     "name": "stdout",
     "output_type": "stream",
     "text": [
      "Meth10_R1_001_val_1_bismark_bt2_pe._5x.bedgraph-Meth.bed\r\n",
      "Meth10_R1_001_val_1_bismark_bt2_pe._5x.bedgraph-sparseMeth.bed\r\n",
      "Meth10_R1_001_val_1_bismark_bt2_pe._5x.bedgraph-unMeth.bed\r\n",
      "Meth10_R1_001_val_1_bismark_bt2_pe._5x.bedgraph.bed\r\n",
      "Meth11_R1_001_val_1_bismark_bt2_pe._5x.bedgraph-Meth.bed\r\n",
      "Meth11_R1_001_val_1_bismark_bt2_pe._5x.bedgraph-sparseMeth.bed\r\n",
      "Meth11_R1_001_val_1_bismark_bt2_pe._5x.bedgraph-unMeth.bed\r\n",
      "Meth11_R1_001_val_1_bismark_bt2_pe._5x.bedgraph.bed\r\n",
      "Meth12_R1_001_val_1_bismark_bt2_pe._5x.bedgraph-Meth.bed\r\n",
      "Meth12_R1_001_val_1_bismark_bt2_pe._5x.bedgraph-sparseMeth.bed\r\n",
      "Meth12_R1_001_val_1_bismark_bt2_pe._5x.bedgraph-unMeth.bed\r\n",
      "Meth12_R1_001_val_1_bismark_bt2_pe._5x.bedgraph.bed\r\n",
      "Meth13_R1_001_val_1_bismark_bt2_pe._5x.bedgraph-Meth.bed\r\n",
      "Meth13_R1_001_val_1_bismark_bt2_pe._5x.bedgraph-sparseMeth.bed\r\n",
      "Meth13_R1_001_val_1_bismark_bt2_pe._5x.bedgraph-unMeth.bed\r\n",
      "Meth13_R1_001_val_1_bismark_bt2_pe._5x.bedgraph.bed\r\n",
      "Meth14_R1_001_val_1_bismark_bt2_pe._5x.bedgraph-Meth.bed\r\n",
      "Meth14_R1_001_val_1_bismark_bt2_pe._5x.bedgraph-sparseMeth.bed\r\n",
      "Meth14_R1_001_val_1_bismark_bt2_pe._5x.bedgraph-unMeth.bed\r\n",
      "Meth14_R1_001_val_1_bismark_bt2_pe._5x.bedgraph.bed\r\n",
      "Meth15_R1_001_val_1_bismark_bt2_pe._5x.bedgraph-Meth.bed\r\n",
      "Meth15_R1_001_val_1_bismark_bt2_pe._5x.bedgraph-sparseMeth.bed\r\n",
      "Meth15_R1_001_val_1_bismark_bt2_pe._5x.bedgraph-unMeth.bed\r\n",
      "Meth15_R1_001_val_1_bismark_bt2_pe._5x.bedgraph.bed\r\n",
      "Meth16_R1_001_val_1_bismark_bt2_pe._5x.bedgraph-Meth.bed\r\n",
      "Meth16_R1_001_val_1_bismark_bt2_pe._5x.bedgraph-sparseMeth.bed\r\n",
      "Meth16_R1_001_val_1_bismark_bt2_pe._5x.bedgraph-unMeth.bed\r\n",
      "Meth16_R1_001_val_1_bismark_bt2_pe._5x.bedgraph.bed\r\n",
      "Meth17_R1_001_val_1_bismark_bt2_pe._5x.bedgraph-Meth.bed\r\n",
      "Meth17_R1_001_val_1_bismark_bt2_pe._5x.bedgraph-sparseMeth.bed\r\n",
      "Meth17_R1_001_val_1_bismark_bt2_pe._5x.bedgraph-unMeth.bed\r\n",
      "Meth17_R1_001_val_1_bismark_bt2_pe._5x.bedgraph.bed\r\n",
      "Meth18_R1_001_val_1_bismark_bt2_pe._5x.bedgraph-Meth.bed\r\n",
      "Meth18_R1_001_val_1_bismark_bt2_pe._5x.bedgraph-sparseMeth.bed\r\n",
      "Meth18_R1_001_val_1_bismark_bt2_pe._5x.bedgraph-unMeth.bed\r\n",
      "Meth18_R1_001_val_1_bismark_bt2_pe._5x.bedgraph.bed\r\n"
     ]
    }
   ],
   "source": [
    "#Confirm BEDfile creation\n",
    "!find *.bed"
   ]
  },
  {
   "cell_type": "code",
   "execution_count": 69,
   "metadata": {
    "collapsed": false,
    "scrolled": false
   },
   "outputs": [
    {
     "name": "stdout",
     "output_type": "stream",
     "text": [
      "1\t6570\t6572\r\n",
      "1\t6713\t6715\r\n",
      "1\t6780\t6782\r\n",
      "1\t6813\t6815\r\n",
      "1\t6818\t6820\r\n",
      "1\t27606\t27608\r\n",
      "1\t27613\t27615\r\n",
      "1\t27641\t27643\r\n",
      "1\t27643\t27645\r\n",
      "1\t27674\t27676\r\n"
     ]
    }
   ],
   "source": [
    "#Confirm file creation\n",
    "!head Meth10_R1_001_val_1_bismark_bt2_pe._5x.bedgraph.bed"
   ]
  },
  {
   "cell_type": "markdown",
   "metadata": {},
   "source": [
    "#### 4b. Genes"
   ]
  },
  {
   "cell_type": "code",
   "execution_count": null,
   "metadata": {
    "collapsed": true,
    "scrolled": true
   },
   "outputs": [],
   "source": [
    "%%bash\n",
    "\n",
    "for f in *bed\n",
    "do\n",
    "  /usr/local/bin/intersectBed \\\n",
    "  -u \\\n",
    "  -a ${f} \\\n",
    "  -b ../../../genome-feature-files/Mcap.GFFannotation.gene.gff \\\n",
    "  > ${f}-mcGenes\n",
    "done"
   ]
  },
  {
   "cell_type": "code",
   "execution_count": null,
   "metadata": {
    "collapsed": false
   },
   "outputs": [],
   "source": [
    "#Check output\n",
    "!head *mcGenes"
   ]
  },
  {
   "cell_type": "code",
   "execution_count": null,
   "metadata": {
    "collapsed": false,
    "scrolled": true
   },
   "outputs": [],
   "source": [
    "#Count number of overlaps\n",
    "!wc -l *mcGenes"
   ]
  },
  {
   "cell_type": "code",
   "execution_count": null,
   "metadata": {
    "collapsed": true
   },
   "outputs": [],
   "source": [
    "!wc -l *mcGenes > Mcap-5x-mcGenes-counts.txt"
   ]
  },
  {
   "cell_type": "markdown",
   "metadata": {},
   "source": [
    "#### 4c. Coding Sequences (CDS)"
   ]
  },
  {
   "cell_type": "code",
   "execution_count": null,
   "metadata": {
    "collapsed": true,
    "scrolled": true
   },
   "outputs": [],
   "source": [
    "%%bash\n",
    "\n",
    "for f in *bed\n",
    "do\n",
    "  /usr/local/bin/intersectBed \\\n",
    "  -u \\\n",
    "  -a ${f} \\\n",
    "  -b ../../../genome-feature-files/Mcap.GFFannotation.CDS.gff \\\n",
    "  > ${f}-mcCDS\n",
    "done"
   ]
  },
  {
   "cell_type": "code",
   "execution_count": null,
   "metadata": {
    "collapsed": false
   },
   "outputs": [],
   "source": [
    "#Check output\n",
    "!head *mcCDS"
   ]
  },
  {
   "cell_type": "code",
   "execution_count": null,
   "metadata": {
    "collapsed": false,
    "scrolled": true
   },
   "outputs": [],
   "source": [
    "#Count number of overlaps\n",
    "!wc -l *mcCDS"
   ]
  },
  {
   "cell_type": "code",
   "execution_count": null,
   "metadata": {
    "collapsed": true
   },
   "outputs": [],
   "source": [
    "!wc -l *mcCDS > Mcap-5x-mcCDS-counts.txt"
   ]
  },
  {
   "cell_type": "markdown",
   "metadata": {},
   "source": [
    "#### 4d. Introns"
   ]
  },
  {
   "cell_type": "code",
   "execution_count": null,
   "metadata": {
    "collapsed": true,
    "scrolled": true
   },
   "outputs": [],
   "source": [
    "%%bash\n",
    "\n",
    "for f in *bed\n",
    "do\n",
    "  /usr/local/bin/intersectBed \\\n",
    "  -u \\\n",
    "  -a ${f} \\\n",
    "  -b ../../../genome-feature-files/Mcap.GFFannotation.intron.gff \\\n",
    "  > ${f}-mcIntrons\n",
    "done"
   ]
  },
  {
   "cell_type": "code",
   "execution_count": null,
   "metadata": {
    "collapsed": false
   },
   "outputs": [],
   "source": [
    "#Check output\n",
    "!head *mcIntrons"
   ]
  },
  {
   "cell_type": "code",
   "execution_count": null,
   "metadata": {
    "collapsed": false,
    "scrolled": true
   },
   "outputs": [],
   "source": [
    "#Count number of overlaps\n",
    "!wc -l *mcIntrons"
   ]
  },
  {
   "cell_type": "code",
   "execution_count": null,
   "metadata": {
    "collapsed": true
   },
   "outputs": [],
   "source": [
    "!wc -l *mcIntrons > Mcap-5x-mcIntrons-counts.txt"
   ]
  },
  {
   "cell_type": "markdown",
   "metadata": {},
   "source": [
    "#### 4e. Flanking regions"
   ]
  },
  {
   "cell_type": "code",
   "execution_count": null,
   "metadata": {
    "collapsed": true,
    "scrolled": true
   },
   "outputs": [],
   "source": [
    "%%bash\n",
    "\n",
    "for f in *bed\n",
    "do\n",
    "  /usr/local/bin/intersectBed \\\n",
    "  -u \\\n",
    "  -a ${f} \\\n",
    "  -b ../../../genome-feature-files/Mcap.GFFannotation.flanks.gff \\\n",
    "  > ${f}-mcFlanks\n",
    "done"
   ]
  },
  {
   "cell_type": "code",
   "execution_count": null,
   "metadata": {
    "collapsed": false
   },
   "outputs": [],
   "source": [
    "#Check output\n",
    "!head *mcFlanks"
   ]
  },
  {
   "cell_type": "code",
   "execution_count": null,
   "metadata": {
    "collapsed": false,
    "scrolled": true
   },
   "outputs": [],
   "source": [
    "#Count number of overlaps\n",
    "!wc -l *mcFlanks"
   ]
  },
  {
   "cell_type": "code",
   "execution_count": null,
   "metadata": {
    "collapsed": true
   },
   "outputs": [],
   "source": [
    "!wc -l *mcFlanks > Mcap-5x-mcFlanks-counts.txt"
   ]
  },
  {
   "cell_type": "markdown",
   "metadata": {},
   "source": [
    "#### 4f. Upstream flanking regions"
   ]
  },
  {
   "cell_type": "code",
   "execution_count": null,
   "metadata": {
    "collapsed": true,
    "scrolled": true
   },
   "outputs": [],
   "source": [
    "%%bash\n",
    "\n",
    "for f in *bed\n",
    "do\n",
    "  /usr/local/bin/intersectBed \\\n",
    "  -u \\\n",
    "  -a ${f} \\\n",
    "  -b ../../../genome-feature-files/Mcap.GFFannotation.flanks.Upstream.gff \\\n",
    "  > ${f}-mcFlanksUpstream\n",
    "done"
   ]
  },
  {
   "cell_type": "code",
   "execution_count": null,
   "metadata": {
    "collapsed": false
   },
   "outputs": [],
   "source": [
    "#Check output\n",
    "!head *mcFlanksUpstream"
   ]
  },
  {
   "cell_type": "code",
   "execution_count": null,
   "metadata": {
    "collapsed": false,
    "scrolled": true
   },
   "outputs": [],
   "source": [
    "#Count number of overlaps\n",
    "!wc -l *mcFlanksUpstream"
   ]
  },
  {
   "cell_type": "code",
   "execution_count": null,
   "metadata": {
    "collapsed": true
   },
   "outputs": [],
   "source": [
    "!wc -l *mcFlanksUpstream > Mcap-5x-mcFlanksUpstream-counts.txt"
   ]
  },
  {
   "cell_type": "markdown",
   "metadata": {},
   "source": [
    "#### 4g. Downstream flanking regions"
   ]
  },
  {
   "cell_type": "code",
   "execution_count": null,
   "metadata": {
    "collapsed": true,
    "scrolled": true
   },
   "outputs": [],
   "source": [
    "%%bash\n",
    "\n",
    "for f in *bed\n",
    "do\n",
    "  /usr/local/bin/intersectBed \\\n",
    "  -u \\\n",
    "  -a ${f} \\\n",
    "  -b ../../../genome-feature-files/Mcap.GFFannotation.flanks.Downstream.gff \\\n",
    "  > ${f}-mcFlanksUpstream\n",
    "done"
   ]
  },
  {
   "cell_type": "code",
   "execution_count": null,
   "metadata": {
    "collapsed": false
   },
   "outputs": [],
   "source": [
    "#Check output\n",
    "!head *mcFlanksDownstream"
   ]
  },
  {
   "cell_type": "code",
   "execution_count": null,
   "metadata": {
    "collapsed": false,
    "scrolled": true
   },
   "outputs": [],
   "source": [
    "#Count number of overlaps\n",
    "!wc -l *mcFlanksDownstream"
   ]
  },
  {
   "cell_type": "code",
   "execution_count": null,
   "metadata": {
    "collapsed": true
   },
   "outputs": [],
   "source": [
    "!wc -l *mcFlanksDownstream > Mcap-5x-mcFlanksDownstream-counts.txt"
   ]
  },
  {
   "cell_type": "markdown",
   "metadata": {},
   "source": [
    "#### 4h. Intergenic"
   ]
  },
  {
   "cell_type": "code",
   "execution_count": 72,
   "metadata": {
    "collapsed": true
   },
   "outputs": [],
   "source": [
    "%%bash \n",
    "\n",
    "for f in *bed\n",
    "do\n",
    "  /usr/local/bin/intersectBed \\\n",
    "  -u \\\n",
    "  -a ${f} \\\n",
    "  -b ../../../genome-feature-files/Mcap.GFFannotation.intergenic.bed \\\n",
    "  > ${f}-mcIntergenic\n",
    "done"
   ]
  },
  {
   "cell_type": "code",
   "execution_count": 73,
   "metadata": {
    "collapsed": false
   },
   "outputs": [
    {
     "name": "stdout",
     "output_type": "stream",
     "text": [
      "==> Meth10_R1_001_val_1_bismark_bt2_pe._5x.bedgraph-Meth.bed-mcIntergenic <==\r\n",
      "1\t320600\t320602\r\n",
      "1\t320631\t320633\r\n",
      "1\t443126\t443128\r\n",
      "1\t444404\t444406\r\n",
      "1\t446577\t446579\r\n",
      "1\t446641\t446643\r\n",
      "1\t446659\t446661\r\n",
      "1\t446682\t446684\r\n",
      "1\t446691\t446693\r\n",
      "1\t446746\t446748\r\n",
      "\r\n",
      "==> Meth10_R1_001_val_1_bismark_bt2_pe._5x.bedgraph-sparseMeth.bed-mcIntergenic <==\r\n",
      "1\t27782\t27784\r\n",
      "1\t140551\t140553\r\n",
      "1\t148080\t148082\r\n",
      "1\t150099\t150101\r\n",
      "1\t169735\t169737\r\n",
      "1\t169771\t169773\r\n",
      "1\t169796\t169798\r\n",
      "1\t169800\t169802\r\n",
      "1\t182756\t182758\r\n",
      "1\t185808\t185810\r\n",
      "\r\n",
      "==> Meth10_R1_001_val_1_bismark_bt2_pe._5x.bedgraph-unMeth.bed-mcIntergenic <==\r\n",
      "1\t6570\t6572\r\n",
      "1\t6713\t6715\r\n",
      "1\t6780\t6782\r\n",
      "1\t6813\t6815\r\n",
      "1\t6818\t6820\r\n",
      "1\t27606\t27608\r\n",
      "1\t27613\t27615\r\n",
      "1\t27641\t27643\r\n",
      "1\t27643\t27645\r\n",
      "1\t27674\t27676\r\n",
      "\r\n",
      "==> Meth10_R1_001_val_1_bismark_bt2_pe._5x.bedgraph.bed-mcIntergenic <==\r\n",
      "1\t6570\t6572\r\n",
      "1\t6713\t6715\r\n",
      "1\t6780\t6782\r\n",
      "1\t6813\t6815\r\n",
      "1\t6818\t6820\r\n",
      "1\t27606\t27608\r\n",
      "1\t27613\t27615\r\n",
      "1\t27641\t27643\r\n",
      "1\t27643\t27645\r\n",
      "1\t27674\t27676\r\n",
      "\r\n",
      "==> Meth11_R1_001_val_1_bismark_bt2_pe._5x.bedgraph-Meth.bed-mcIntergenic <==\r\n",
      "1\t6905\t6907\r\n",
      "1\t7273\t7275\r\n",
      "1\t443126\t443128\r\n",
      "1\t444404\t444406\r\n",
      "1\t446465\t446467\r\n",
      "1\t446472\t446474\r\n",
      "1\t446481\t446483\r\n",
      "1\t446577\t446579\r\n",
      "1\t446641\t446643\r\n",
      "1\t446659\t446661\r\n",
      "\r\n",
      "==> Meth11_R1_001_val_1_bismark_bt2_pe._5x.bedgraph-sparseMeth.bed-mcIntergenic <==\r\n",
      "1\t6550\t6552\r\n",
      "1\t6671\t6673\r\n",
      "1\t6996\t6998\r\n",
      "1\t7016\t7018\r\n",
      "1\t7019\t7021\r\n",
      "1\t7293\t7295\r\n",
      "1\t7427\t7429\r\n",
      "1\t153767\t153769\r\n",
      "1\t193930\t193932\r\n",
      "1\t203231\t203233\r\n",
      "\r\n",
      "==> Meth11_R1_001_val_1_bismark_bt2_pe._5x.bedgraph-unMeth.bed-mcIntergenic <==\r\n",
      "1\t4929\t4931\r\n",
      "1\t5665\t5667\r\n",
      "1\t6453\t6455\r\n",
      "1\t6484\t6486\r\n",
      "1\t6527\t6529\r\n",
      "1\t6570\t6572\r\n",
      "1\t6618\t6620\r\n",
      "1\t6652\t6654\r\n",
      "1\t6661\t6663\r\n",
      "1\t6668\t6670\r\n",
      "\r\n",
      "==> Meth11_R1_001_val_1_bismark_bt2_pe._5x.bedgraph.bed-mcIntergenic <==\r\n",
      "1\t4929\t4931\r\n",
      "1\t5665\t5667\r\n",
      "1\t6453\t6455\r\n",
      "1\t6484\t6486\r\n",
      "1\t6527\t6529\r\n",
      "1\t6550\t6552\r\n",
      "1\t6570\t6572\r\n",
      "1\t6618\t6620\r\n",
      "1\t6652\t6654\r\n",
      "1\t6661\t6663\r\n",
      "\r\n",
      "==> Meth12_R1_001_val_1_bismark_bt2_pe._5x.bedgraph-Meth.bed-mcIntergenic <==\r\n",
      "1\t4948\t4950\r\n",
      "1\t4967\t4969\r\n",
      "1\t4986\t4988\r\n",
      "1\t57065\t57067\r\n",
      "1\t443089\t443091\r\n",
      "1\t443126\t443128\r\n",
      "1\t446150\t446152\r\n",
      "1\t446157\t446159\r\n",
      "1\t446262\t446264\r\n",
      "1\t446271\t446273\r\n",
      "\r\n",
      "==> Meth12_R1_001_val_1_bismark_bt2_pe._5x.bedgraph-sparseMeth.bed-mcIntergenic <==\r\n",
      "1\t4190\t4192\r\n",
      "1\t4891\t4893\r\n",
      "1\t4910\t4912\r\n",
      "1\t4929\t4931\r\n",
      "1\t5005\t5007\r\n",
      "1\t5024\t5026\r\n",
      "1\t5151\t5153\r\n",
      "1\t5160\t5162\r\n",
      "1\t5228\t5230\r\n",
      "1\t6282\t6284\r\n",
      "\r\n",
      "==> Meth12_R1_001_val_1_bismark_bt2_pe._5x.bedgraph-unMeth.bed-mcIntergenic <==\r\n",
      "1\t4062\t4064\r\n",
      "1\t4069\t4071\r\n",
      "1\t4077\t4079\r\n",
      "1\t4086\t4088\r\n",
      "1\t4146\t4148\r\n",
      "1\t4150\t4152\r\n",
      "1\t4155\t4157\r\n",
      "1\t4172\t4174\r\n",
      "1\t4184\t4186\r\n",
      "1\t5043\t5045\r\n",
      "\r\n",
      "==> Meth12_R1_001_val_1_bismark_bt2_pe._5x.bedgraph.bed-mcIntergenic <==\r\n",
      "1\t4062\t4064\r\n",
      "1\t4069\t4071\r\n",
      "1\t4077\t4079\r\n",
      "1\t4086\t4088\r\n",
      "1\t4146\t4148\r\n",
      "1\t4150\t4152\r\n",
      "1\t4155\t4157\r\n",
      "1\t4172\t4174\r\n",
      "1\t4184\t4186\r\n",
      "1\t4190\t4192\r\n",
      "\r\n",
      "==> Meth13_R1_001_val_1_bismark_bt2_pe._5x.bedgraph-Meth.bed-mcIntergenic <==\r\n",
      "1\t147722\t147724\r\n",
      "1\t147732\t147734\r\n",
      "1\t147767\t147769\r\n",
      "1\t147785\t147787\r\n",
      "1\t147794\t147796\r\n",
      "1\t147806\t147808\r\n",
      "1\t274922\t274924\r\n",
      "1\t274940\t274942\r\n",
      "1\t275004\t275006\r\n",
      "1\t275006\t275008\r\n",
      "\r\n",
      "==> Meth13_R1_001_val_1_bismark_bt2_pe._5x.bedgraph-sparseMeth.bed-mcIntergenic <==\r\n",
      "1\t15092\t15094\r\n",
      "1\t21739\t21741\r\n",
      "1\t34139\t34141\r\n",
      "1\t87492\t87494\r\n",
      "1\t169847\t169849\r\n",
      "1\t198078\t198080\r\n",
      "1\t203991\t203993\r\n",
      "1\t227400\t227402\r\n",
      "1\t227407\t227409\r\n",
      "1\t227416\t227418\r\n",
      "\r\n",
      "==> Meth13_R1_001_val_1_bismark_bt2_pe._5x.bedgraph-unMeth.bed-mcIntergenic <==\r\n",
      "1\t3493\t3495\r\n",
      "1\t3518\t3520\r\n",
      "1\t3727\t3729\r\n",
      "1\t3752\t3754\r\n",
      "1\t3757\t3759\r\n",
      "1\t3770\t3772\r\n",
      "1\t11979\t11981\r\n",
      "1\t11985\t11987\r\n",
      "1\t11994\t11996\r\n",
      "1\t12043\t12045\r\n",
      "\r\n",
      "==> Meth13_R1_001_val_1_bismark_bt2_pe._5x.bedgraph.bed-mcIntergenic <==\r\n",
      "1\t3493\t3495\r\n",
      "1\t3518\t3520\r\n",
      "1\t3727\t3729\r\n",
      "1\t3752\t3754\r\n",
      "1\t3757\t3759\r\n",
      "1\t3770\t3772\r\n",
      "1\t11979\t11981\r\n",
      "1\t11985\t11987\r\n",
      "1\t11994\t11996\r\n",
      "1\t12043\t12045\r\n",
      "\r\n",
      "==> Meth14_R1_001_val_1_bismark_bt2_pe._5x.bedgraph-Meth.bed-mcIntergenic <==\r\n",
      "1\t32228\t32230\r\n",
      "1\t246227\t246229\r\n",
      "1\t317029\t317031\r\n",
      "1\t451094\t451096\r\n",
      "1\t455318\t455320\r\n",
      "1\t455610\t455612\r\n",
      "1\t616272\t616274\r\n",
      "1\t644781\t644783\r\n",
      "1\t926227\t926229\r\n",
      "1\t926244\t926246\r\n",
      "\r\n",
      "==> Meth14_R1_001_val_1_bismark_bt2_pe._5x.bedgraph-sparseMeth.bed-mcIntergenic <==\r\n",
      "1\t166013\t166015\r\n",
      "1\t227400\t227402\r\n",
      "1\t230854\t230856\r\n",
      "1\t246955\t246957\r\n",
      "1\t248898\t248900\r\n",
      "1\t249322\t249324\r\n",
      "1\t257203\t257205\r\n",
      "1\t305489\t305491\r\n",
      "1\t309954\t309956\r\n",
      "1\t314160\t314162\r\n",
      "\r\n",
      "==> Meth14_R1_001_val_1_bismark_bt2_pe._5x.bedgraph-unMeth.bed-mcIntergenic <==\r\n",
      "1\t3727\t3729\r\n",
      "1\t3752\t3754\r\n",
      "1\t3757\t3759\r\n",
      "1\t3770\t3772\r\n",
      "1\t11876\t11878\r\n",
      "1\t11887\t11889\r\n",
      "1\t11894\t11896\r\n",
      "1\t11941\t11943\r\n",
      "1\t11954\t11956\r\n",
      "1\t11975\t11977\r\n",
      "\r\n",
      "==> Meth14_R1_001_val_1_bismark_bt2_pe._5x.bedgraph.bed-mcIntergenic <==\r\n",
      "1\t3727\t3729\r\n",
      "1\t3752\t3754\r\n",
      "1\t3757\t3759\r\n",
      "1\t3770\t3772\r\n",
      "1\t11876\t11878\r\n",
      "1\t11887\t11889\r\n",
      "1\t11894\t11896\r\n",
      "1\t11941\t11943\r\n",
      "1\t11954\t11956\r\n",
      "1\t11975\t11977\r\n",
      "\r\n",
      "==> Meth15_R1_001_val_1_bismark_bt2_pe._5x.bedgraph-Meth.bed-mcIntergenic <==\r\n",
      "1\t130507\t130509\r\n",
      "1\t241717\t241719\r\n",
      "1\t241722\t241724\r\n",
      "1\t246227\t246229\r\n",
      "1\t317029\t317031\r\n",
      "1\t384618\t384620\r\n",
      "1\t415808\t415810\r\n",
      "1\t474458\t474460\r\n",
      "1\t594989\t594991\r\n",
      "1\t615972\t615974\r\n",
      "\r\n",
      "==> Meth15_R1_001_val_1_bismark_bt2_pe._5x.bedgraph-sparseMeth.bed-mcIntergenic <==\r\n",
      "1\t169847\t169849\r\n",
      "1\t169891\t169893\r\n",
      "1\t169927\t169929\r\n",
      "1\t169936\t169938\r\n",
      "1\t170062\t170064\r\n",
      "1\t170097\t170099\r\n",
      "1\t170127\t170129\r\n",
      "1\t170144\t170146\r\n",
      "1\t170176\t170178\r\n",
      "1\t170211\t170213\r\n",
      "\r\n",
      "==> Meth15_R1_001_val_1_bismark_bt2_pe._5x.bedgraph-unMeth.bed-mcIntergenic <==\r\n",
      "1\t3493\t3495\r\n",
      "1\t3518\t3520\r\n",
      "1\t3727\t3729\r\n",
      "1\t3752\t3754\r\n",
      "1\t3757\t3759\r\n",
      "1\t3770\t3772\r\n",
      "1\t29753\t29755\r\n",
      "1\t29821\t29823\r\n",
      "1\t32243\t32245\r\n",
      "1\t32283\t32285\r\n",
      "\r\n",
      "==> Meth15_R1_001_val_1_bismark_bt2_pe._5x.bedgraph.bed-mcIntergenic <==\r\n",
      "1\t3493\t3495\r\n",
      "1\t3518\t3520\r\n",
      "1\t3727\t3729\r\n",
      "1\t3752\t3754\r\n",
      "1\t3757\t3759\r\n",
      "1\t3770\t3772\r\n",
      "1\t29753\t29755\r\n",
      "1\t29821\t29823\r\n",
      "1\t32243\t32245\r\n",
      "1\t32283\t32285\r\n",
      "\r\n",
      "==> Meth16_R1_001_val_1_bismark_bt2_pe._5x.bedgraph-Meth.bed-mcIntergenic <==\r\n",
      "1\t446326\t446328\r\n",
      "1\t446344\t446346\r\n",
      "1\t446367\t446369\r\n",
      "1\t446376\t446378\r\n",
      "1\t789213\t789215\r\n",
      "1\t1006917\t1006919\r\n",
      "1\t1006924\t1006926\r\n",
      "1\t1663145\t1663147\r\n",
      "1\t1747883\t1747885\r\n",
      "1\t1839928\t1839930\r\n",
      "\r\n",
      "==> Meth16_R1_001_val_1_bismark_bt2_pe._5x.bedgraph-sparseMeth.bed-mcIntergenic <==\r\n",
      "1\t211907\t211909\r\n",
      "1\t217198\t217200\r\n",
      "1\t234158\t234160\r\n",
      "1\t234196\t234198\r\n",
      "1\t244563\t244565\r\n",
      "1\t269174\t269176\r\n",
      "1\t269178\t269180\r\n",
      "1\t269182\t269184\r\n",
      "1\t284269\t284271\r\n",
      "1\t376288\t376290\r\n",
      "\r\n",
      "==> Meth16_R1_001_val_1_bismark_bt2_pe._5x.bedgraph-unMeth.bed-mcIntergenic <==\r\n",
      "1\t5228\t5230\r\n",
      "1\t5243\t5245\r\n",
      "1\t5247\t5249\r\n",
      "1\t5296\t5298\r\n",
      "1\t192753\t192755\r\n",
      "1\t211905\t211907\r\n",
      "1\t211917\t211919\r\n",
      "1\t211925\t211927\r\n",
      "1\t213276\t213278\r\n",
      "1\t213738\t213740\r\n",
      "\r\n",
      "==> Meth16_R1_001_val_1_bismark_bt2_pe._5x.bedgraph.bed-mcIntergenic <==\r\n",
      "1\t5228\t5230\r\n",
      "1\t5243\t5245\r\n",
      "1\t5247\t5249\r\n",
      "1\t5296\t5298\r\n",
      "1\t192753\t192755\r\n",
      "1\t211905\t211907\r\n",
      "1\t211907\t211909\r\n",
      "1\t211917\t211919\r\n",
      "1\t211925\t211927\r\n",
      "1\t213276\t213278\r\n",
      "\r\n",
      "==> Meth17_R1_001_val_1_bismark_bt2_pe._5x.bedgraph-Meth.bed-mcIntergenic <==\r\n",
      "1\t1899501\t1899503\r\n",
      "1\t2069317\t2069319\r\n",
      "1\t2069442\t2069444\r\n",
      "1\t2069451\t2069453\r\n",
      "1\t2069519\t2069521\r\n",
      "1\t2132954\t2132956\r\n",
      "1\t2133389\t2133391\r\n",
      "1\t2133406\t2133408\r\n",
      "1\t2133409\t2133411\r\n",
      "1\t2139189\t2139191\r\n",
      "\r\n",
      "==> Meth17_R1_001_val_1_bismark_bt2_pe._5x.bedgraph-sparseMeth.bed-mcIntergenic <==\r\n",
      "1\t376177\t376179\r\n",
      "1\t460920\t460922\r\n",
      "1\t460947\t460949\r\n",
      "1\t460953\t460955\r\n",
      "1\t461051\t461053\r\n",
      "1\t519486\t519488\r\n",
      "1\t519505\t519507\r\n",
      "1\t618190\t618192\r\n",
      "1\t618205\t618207\r\n",
      "1\t716952\t716954\r\n",
      "\r\n",
      "==> Meth17_R1_001_val_1_bismark_bt2_pe._5x.bedgraph-unMeth.bed-mcIntergenic <==\r\n",
      "1\t210921\t210923\r\n",
      "1\t210930\t210932\r\n",
      "1\t219905\t219907\r\n",
      "1\t229825\t229827\r\n",
      "1\t229852\t229854\r\n",
      "1\t231344\t231346\r\n",
      "1\t233876\t233878\r\n",
      "1\t233894\t233896\r\n",
      "1\t255402\t255404\r\n",
      "1\t271124\t271126\r\n",
      "\r\n",
      "==> Meth17_R1_001_val_1_bismark_bt2_pe._5x.bedgraph.bed-mcIntergenic <==\r\n",
      "1\t210921\t210923\r\n",
      "1\t210930\t210932\r\n",
      "1\t219905\t219907\r\n",
      "1\t229825\t229827\r\n",
      "1\t229852\t229854\r\n",
      "1\t231344\t231346\r\n",
      "1\t233876\t233878\r\n",
      "1\t233894\t233896\r\n",
      "1\t255402\t255404\r\n",
      "1\t271124\t271126\r\n",
      "\r\n",
      "==> Meth18_R1_001_val_1_bismark_bt2_pe._5x.bedgraph-Meth.bed-mcIntergenic <==\r\n",
      "1\t1002973\t1002975\r\n",
      "1\t1343240\t1343242\r\n",
      "1\t1343249\t1343251\r\n",
      "1\t1343263\t1343265\r\n",
      "1\t1343265\t1343267\r\n",
      "1\t1343295\t1343297\r\n",
      "1\t1343304\t1343306\r\n",
      "1\t1343320\t1343322\r\n",
      "1\t1451821\t1451823\r\n",
      "1\t1747972\t1747974\r\n",
      "\r\n",
      "==> Meth18_R1_001_val_1_bismark_bt2_pe._5x.bedgraph-sparseMeth.bed-mcIntergenic <==\r\n",
      "1\t8113\t8115\r\n",
      "1\t277994\t277996\r\n",
      "1\t387294\t387296\r\n",
      "1\t461787\t461789\r\n",
      "1\t480696\t480698\r\n",
      "1\t605019\t605021\r\n",
      "1\t605050\t605052\r\n",
      "1\t646162\t646164\r\n",
      "1\t726420\t726422\r\n",
      "1\t807639\t807641\r\n",
      "\r",
      "\r\n",
      "==> Meth18_R1_001_val_1_bismark_bt2_pe._5x.bedgraph-unMeth.bed-mcIntergenic <==\r\n",
      "1\t224609\t224611\r\n",
      "1\t264560\t264562\r\n",
      "1\t264598\t264600\r\n",
      "1\t271145\t271147\r\n",
      "1\t278004\t278006\r\n",
      "1\t278039\t278041\r\n",
      "1\t278049\t278051\r\n",
      "1\t278067\t278069\r\n",
      "1\t280413\t280415\r\n",
      "1\t280448\t280450\r\n",
      "\r\n",
      "==> Meth18_R1_001_val_1_bismark_bt2_pe._5x.bedgraph.bed-mcIntergenic <==\r\n",
      "1\t8113\t8115\r\n",
      "1\t224609\t224611\r\n",
      "1\t264560\t264562\r\n",
      "1\t264598\t264600\r\n",
      "1\t271145\t271147\r\n",
      "1\t277994\t277996\r\n",
      "1\t278004\t278006\r\n",
      "1\t278039\t278041\r\n",
      "1\t278049\t278051\r\n",
      "1\t278067\t278069\r\n"
     ]
    }
   ],
   "source": [
    "#Check output\n",
    "!head *mcIntergenic"
   ]
  },
  {
   "cell_type": "code",
   "execution_count": 74,
   "metadata": {
    "collapsed": false,
    "scrolled": false
   },
   "outputs": [
    {
     "name": "stdout",
     "output_type": "stream",
     "text": [
      "  220239 Meth10_R1_001_val_1_bismark_bt2_pe._5x.bedgraph-Meth.bed-mcIntergenic\n",
      "  351041 Meth10_R1_001_val_1_bismark_bt2_pe._5x.bedgraph-sparseMeth.bed-mcIntergenic\n",
      " 2316939 Meth10_R1_001_val_1_bismark_bt2_pe._5x.bedgraph-unMeth.bed-mcIntergenic\n",
      " 2888219 Meth10_R1_001_val_1_bismark_bt2_pe._5x.bedgraph.bed-mcIntergenic\n",
      "  261721 Meth11_R1_001_val_1_bismark_bt2_pe._5x.bedgraph-Meth.bed-mcIntergenic\n",
      "  329457 Meth11_R1_001_val_1_bismark_bt2_pe._5x.bedgraph-sparseMeth.bed-mcIntergenic\n",
      " 2330389 Meth11_R1_001_val_1_bismark_bt2_pe._5x.bedgraph-unMeth.bed-mcIntergenic\n",
      " 2921567 Meth11_R1_001_val_1_bismark_bt2_pe._5x.bedgraph.bed-mcIntergenic\n",
      "  526674 Meth12_R1_001_val_1_bismark_bt2_pe._5x.bedgraph-Meth.bed-mcIntergenic\n",
      "  651370 Meth12_R1_001_val_1_bismark_bt2_pe._5x.bedgraph-sparseMeth.bed-mcIntergenic\n",
      " 4408771 Meth12_R1_001_val_1_bismark_bt2_pe._5x.bedgraph-unMeth.bed-mcIntergenic\n",
      " 5586815 Meth12_R1_001_val_1_bismark_bt2_pe._5x.bedgraph.bed-mcIntergenic\n",
      "  134470 Meth13_R1_001_val_1_bismark_bt2_pe._5x.bedgraph-Meth.bed-mcIntergenic\n",
      "   98807 Meth13_R1_001_val_1_bismark_bt2_pe._5x.bedgraph-sparseMeth.bed-mcIntergenic\n",
      " 1877400 Meth13_R1_001_val_1_bismark_bt2_pe._5x.bedgraph-unMeth.bed-mcIntergenic\n",
      " 2110677 Meth13_R1_001_val_1_bismark_bt2_pe._5x.bedgraph.bed-mcIntergenic\n",
      "   94877 Meth14_R1_001_val_1_bismark_bt2_pe._5x.bedgraph-Meth.bed-mcIntergenic\n",
      "   86553 Meth14_R1_001_val_1_bismark_bt2_pe._5x.bedgraph-sparseMeth.bed-mcIntergenic\n",
      " 1571415 Meth14_R1_001_val_1_bismark_bt2_pe._5x.bedgraph-unMeth.bed-mcIntergenic\n",
      " 1752845 Meth14_R1_001_val_1_bismark_bt2_pe._5x.bedgraph.bed-mcIntergenic\n",
      "  118130 Meth15_R1_001_val_1_bismark_bt2_pe._5x.bedgraph-Meth.bed-mcIntergenic\n",
      "  115348 Meth15_R1_001_val_1_bismark_bt2_pe._5x.bedgraph-sparseMeth.bed-mcIntergenic\n",
      " 1878270 Meth15_R1_001_val_1_bismark_bt2_pe._5x.bedgraph-unMeth.bed-mcIntergenic\n",
      " 2111748 Meth15_R1_001_val_1_bismark_bt2_pe._5x.bedgraph.bed-mcIntergenic\n",
      "   58259 Meth16_R1_001_val_1_bismark_bt2_pe._5x.bedgraph-Meth.bed-mcIntergenic\n",
      "   49523 Meth16_R1_001_val_1_bismark_bt2_pe._5x.bedgraph-sparseMeth.bed-mcIntergenic\n",
      "  267314 Meth16_R1_001_val_1_bismark_bt2_pe._5x.bedgraph-unMeth.bed-mcIntergenic\n",
      "  375096 Meth16_R1_001_val_1_bismark_bt2_pe._5x.bedgraph.bed-mcIntergenic\n",
      "   25048 Meth17_R1_001_val_1_bismark_bt2_pe._5x.bedgraph-Meth.bed-mcIntergenic\n",
      "   19409 Meth17_R1_001_val_1_bismark_bt2_pe._5x.bedgraph-sparseMeth.bed-mcIntergenic\n",
      "  114414 Meth17_R1_001_val_1_bismark_bt2_pe._5x.bedgraph-unMeth.bed-mcIntergenic\n",
      "  158871 Meth17_R1_001_val_1_bismark_bt2_pe._5x.bedgraph.bed-mcIntergenic\n",
      "   16508 Meth18_R1_001_val_1_bismark_bt2_pe._5x.bedgraph-Meth.bed-mcIntergenic\n",
      "   11950 Meth18_R1_001_val_1_bismark_bt2_pe._5x.bedgraph-sparseMeth.bed-mcIntergenic\n",
      "   74632 Meth18_R1_001_val_1_bismark_bt2_pe._5x.bedgraph-unMeth.bed-mcIntergenic\n",
      "  103090 Meth18_R1_001_val_1_bismark_bt2_pe._5x.bedgraph.bed-mcIntergenic\n",
      " 36017856 total\n"
     ]
    }
   ],
   "source": [
    "#Count number of overlaps\n",
    "!wc -l *mcIntergenic"
   ]
  },
  {
   "cell_type": "code",
   "execution_count": 14,
   "metadata": {
    "collapsed": true
   },
   "outputs": [],
   "source": [
    "!wc -l *mcIntergenic > Mcap-5x-mcIntergenic-counts.txt"
   ]
  },
  {
   "cell_type": "markdown",
   "metadata": {},
   "source": [
    "## *P. acuta*"
   ]
  },
  {
   "cell_type": "code",
   "execution_count": 14,
   "metadata": {
    "collapsed": false
   },
   "outputs": [
    {
     "name": "stdout",
     "output_type": "stream",
     "text": [
      "/Users/yaamini/Documents/Meth_Compare/analyses/Characterizing-CpG-Methylation-5x\n"
     ]
    }
   ],
   "source": [
    "cd .."
   ]
  },
  {
   "cell_type": "code",
   "execution_count": 15,
   "metadata": {
    "collapsed": true
   },
   "outputs": [],
   "source": [
    "#Make a directory for Pact output\n",
    "#!mkdir Pact"
   ]
  },
  {
   "cell_type": "code",
   "execution_count": 16,
   "metadata": {
    "collapsed": false,
    "scrolled": true
   },
   "outputs": [
    {
     "name": "stdout",
     "output_type": "stream",
     "text": [
      "/Users/yaamini/Documents/Meth_Compare/analyses/Characterizing-CpG-Methylation-5x/Pact\n"
     ]
    }
   ],
   "source": [
    "cd Pact/"
   ]
  },
  {
   "cell_type": "markdown",
   "metadata": {},
   "source": [
    "### 1. Characterize CG motif locations in feature tracks"
   ]
  },
  {
   "cell_type": "markdown",
   "metadata": {},
   "source": [
    "#### 1a. Set variable paths"
   ]
  },
  {
   "cell_type": "code",
   "execution_count": 23,
   "metadata": {
    "collapsed": true
   },
   "outputs": [],
   "source": [
    "paGenes = \"../../../genome-feature-files/Pact.GFFannotation.Genes.gff\""
   ]
  },
  {
   "cell_type": "code",
   "execution_count": 24,
   "metadata": {
    "collapsed": true
   },
   "outputs": [],
   "source": [
    "paCDS = \"../../../genome-feature-files/Pact.GFFannotation.CDS.gff\""
   ]
  },
  {
   "cell_type": "code",
   "execution_count": 25,
   "metadata": {
    "collapsed": true
   },
   "outputs": [],
   "source": [
    "paIntron = \"../../../genome-feature-files/Pact.GFFannotation.Intron.gff\""
   ]
  },
  {
   "cell_type": "code",
   "execution_count": 26,
   "metadata": {
    "collapsed": true
   },
   "outputs": [],
   "source": [
    "paFlanks = \"../../../genome-feature-files/Pact.GFFannotation.flanks.gff\""
   ]
  },
  {
   "cell_type": "code",
   "execution_count": 19,
   "metadata": {
    "collapsed": true
   },
   "outputs": [],
   "source": [
    "paUpstream = \"../../../genome-feature-files/Pact.GFFannotation.flanks.Upstream.gff\""
   ]
  },
  {
   "cell_type": "code",
   "execution_count": 20,
   "metadata": {
    "collapsed": true
   },
   "outputs": [],
   "source": [
    "paDownstream = \"../../../genome-feature-files/Pact.GFFannotation.flanks.Downstream.gff\""
   ]
  },
  {
   "cell_type": "code",
   "execution_count": 17,
   "metadata": {
    "collapsed": true
   },
   "outputs": [],
   "source": [
    "paIntergenic = \"../../../genome-feature-files/Pact.GFFannotation.intergenic.bed\""
   ]
  },
  {
   "cell_type": "code",
   "execution_count": 18,
   "metadata": {
    "collapsed": true
   },
   "outputs": [],
   "source": [
    "paCGMotifs = \"../../../genome-feature-files/Pact_CpG.gff\""
   ]
  },
  {
   "cell_type": "markdown",
   "metadata": {},
   "source": [
    "#### 1b. Check variable paths"
   ]
  },
  {
   "cell_type": "code",
   "execution_count": 22,
   "metadata": {
    "collapsed": false
   },
   "outputs": [
    {
     "name": "stdout",
     "output_type": "stream",
     "text": [
      "scaffold6_cov64\tAUGUSTUS\tgene\t1\t5652\t0.46\t-\t.\tg1\n",
      "scaffold6_cov64\tAUGUSTUS\tgene\t5805\t6678\t0.57\t+\t.\tg2\n",
      "scaffold7_cov100\tAUGUSTUS\tgene\t1\t2566\t0.96\t+\t.\tg3\n",
      "scaffold7_cov100\tAUGUSTUS\tgene\t3467\t6217\t0.78\t-\t.\tg4\n",
      "scaffold7_cov100\tAUGUSTUS\tgene\t7069\t9073\t1\t-\t.\tg5\n",
      "scaffold7_cov100\tAUGUSTUS\tgene\t9590\t11670\t0.8\t-\t.\tg6\n",
      "scaffold7_cov100\tAUGUSTUS\tgene\t13339\t15463\t0.92\t-\t.\tg7\n",
      "scaffold7_cov100\tAUGUSTUS\tgene\t15738\t18320\t0.96\t+\t.\tg8\n",
      "scaffold7_cov100\tAUGUSTUS\tgene\t18586\t19270\t0.99\t-\t.\tg9\n",
      "scaffold7_cov100\tAUGUSTUS\tgene\t19312\t20050\t0.74\t+\t.\tg10\n",
      "   64558 ../../../genome-feature-files/Pact.GFFannotation.Genes.gff\n"
     ]
    }
   ],
   "source": [
    "!head {paGenes}\n",
    "!wc -l {paGenes}"
   ]
  },
  {
   "cell_type": "code",
   "execution_count": 23,
   "metadata": {
    "collapsed": false
   },
   "outputs": [
    {
     "name": "stdout",
     "output_type": "stream",
     "text": [
      "scaffold6_cov64\tAUGUSTUS\tCDS\t495\t842\t0.84\t-\t2\ttranscript_id \"g1.t1\"; gene_id \"g1\";\n",
      "scaffold6_cov64\tAUGUSTUS\tCDS\t1208\t1555\t0.92\t-\t2\ttranscript_id \"g1.t1\"; gene_id \"g1\";\n",
      "scaffold6_cov64\tAUGUSTUS\tCDS\t1922\t2269\t1\t-\t2\ttranscript_id \"g1.t1\"; gene_id \"g1\";\n",
      "scaffold6_cov64\tAUGUSTUS\tCDS\t5583\t5652\t0.26\t-\t0\ttranscript_id \"g1.t1\"; gene_id \"g1\";\n",
      "scaffold6_cov64\tAUGUSTUS\tCDS\t495\t842\t0.84\t-\t2\ttranscript_id \"g1.t2\"; gene_id \"g1\";\n",
      "scaffold6_cov64\tAUGUSTUS\tCDS\t1208\t1555\t0.92\t-\t2\ttranscript_id \"g1.t2\"; gene_id \"g1\";\n",
      "scaffold6_cov64\tAUGUSTUS\tCDS\t1922\t2269\t1\t-\t2\ttranscript_id \"g1.t2\"; gene_id \"g1\";\n",
      "scaffold6_cov64\tAUGUSTUS\tCDS\t4754\t4851\t0.4\t-\t1\ttranscript_id \"g1.t2\"; gene_id \"g1\";\n",
      "scaffold6_cov64\tAUGUSTUS\tCDS\t5594\t5652\t0.54\t-\t0\ttranscript_id \"g1.t2\"; gene_id \"g1\";\n",
      "scaffold6_cov64\tAUGUSTUS\tCDS\t5805\t5838\t0.98\t+\t0\ttranscript_id \"g2.t1\"; gene_id \"g2\";\n",
      "  318484 ../../../genome-feature-files/Pact.GFFannotation.CDS.gff\n"
     ]
    }
   ],
   "source": [
    "!head {paCDS}\n",
    "!wc -l {paCDS}"
   ]
  },
  {
   "cell_type": "code",
   "execution_count": 24,
   "metadata": {
    "collapsed": false,
    "scrolled": false
   },
   "outputs": [
    {
     "name": "stdout",
     "output_type": "stream",
     "text": [
      "scaffold6_cov64\tAUGUSTUS\tintron\t1\t494\t0.82\t-\t.\ttranscript_id \"g1.t1\"; gene_id \"g1\";\n",
      "scaffold6_cov64\tAUGUSTUS\tintron\t843\t1207\t0.92\t-\t.\ttranscript_id \"g1.t1\"; gene_id \"g1\";\n",
      "scaffold6_cov64\tAUGUSTUS\tintron\t1556\t1921\t1\t-\t.\ttranscript_id \"g1.t1\"; gene_id \"g1\";\n",
      "scaffold6_cov64\tAUGUSTUS\tintron\t2270\t5582\t0.23\t-\t.\ttranscript_id \"g1.t1\"; gene_id \"g1\";\n",
      "scaffold6_cov64\tAUGUSTUS\tintron\t1\t494\t0.82\t-\t.\ttranscript_id \"g1.t2\"; gene_id \"g1\";\n",
      "scaffold6_cov64\tAUGUSTUS\tintron\t843\t1207\t0.92\t-\t.\ttranscript_id \"g1.t2\"; gene_id \"g1\";\n",
      "scaffold6_cov64\tAUGUSTUS\tintron\t1556\t1921\t1\t-\t.\ttranscript_id \"g1.t2\"; gene_id \"g1\";\n",
      "scaffold6_cov64\tAUGUSTUS\tintron\t2270\t4753\t0.4\t-\t.\ttranscript_id \"g1.t2\"; gene_id \"g1\";\n",
      "scaffold6_cov64\tAUGUSTUS\tintron\t4852\t5593\t0.48\t-\t.\ttranscript_id \"g1.t2\"; gene_id \"g1\";\n",
      "scaffold6_cov64\tAUGUSTUS\tintron\t5839\t5945\t0.54\t+\t.\ttranscript_id \"g2.t1\"; gene_id \"g2\";\n",
      "  241534 ../../../genome-feature-files/Pact.GFFannotation.Intron.gff\n"
     ]
    }
   ],
   "source": [
    "!head {paIntron}\n",
    "!wc -l {paIntron}"
   ]
  },
  {
   "cell_type": "code",
   "execution_count": 32,
   "metadata": {
    "collapsed": false,
    "scrolled": true
   },
   "outputs": [
    {
     "name": "stdout",
     "output_type": "stream",
     "text": [
      "scaffold6_cov64\tAUGUSTUS\tgene\t5653\t5804\t0.46\t-\t.\tg1\n",
      "scaffold6_cov64\tAUGUSTUS\tgene\t5653\t5804\t0.57\t+\t.\tg2\n",
      "scaffold6_cov64\tAUGUSTUS\tgene\t6679\t7678\t0.57\t+\t.\tg2\n",
      "scaffold7_cov100\tAUGUSTUS\tgene\t2567\t3466\t0.96\t+\t.\tg3\n",
      "scaffold7_cov100\tAUGUSTUS\tgene\t2567\t3466\t0.78\t-\t.\tg4\n",
      "scaffold7_cov100\tAUGUSTUS\tgene\t6218\t7068\t0.78\t-\t.\tg4\n",
      "scaffold7_cov100\tAUGUSTUS\tgene\t6218\t7068\t1\t-\t.\tg5\n",
      "scaffold7_cov100\tAUGUSTUS\tgene\t9074\t9589\t1\t-\t.\tg5\n",
      "scaffold7_cov100\tAUGUSTUS\tgene\t9074\t9589\t0.8\t-\t.\tg6\n",
      "scaffold7_cov100\tAUGUSTUS\tgene\t11671\t12670\t0.8\t-\t.\tg6\n",
      "  143874 ../../../genome-feature-files/Pact.GFFannotation.flanks.gff\n"
     ]
    }
   ],
   "source": [
    "!head {paFlanks}\n",
    "!wc -l {paFlanks}"
   ]
  },
  {
   "cell_type": "code",
   "execution_count": 22,
   "metadata": {
    "collapsed": false
   },
   "outputs": [
    {
     "name": "stdout",
     "output_type": "stream",
     "text": [
      "scaffold6_cov64\tAUGUSTUS\tgene\t5653\t5804\t0.46\t-\t.\tg1\n",
      "scaffold6_cov64\tAUGUSTUS\tgene\t5653\t5804\t0.57\t+\t.\tg2\n",
      "scaffold7_cov100\tAUGUSTUS\tgene\t6218\t7068\t0.78\t-\t.\tg4\n",
      "scaffold7_cov100\tAUGUSTUS\tgene\t9074\t9589\t1\t-\t.\tg5\n",
      "scaffold7_cov100\tAUGUSTUS\tgene\t11671\t12670\t0.8\t-\t.\tg6\n",
      "scaffold7_cov100\tAUGUSTUS\tgene\t15464\t15737\t0.92\t-\t.\tg7\n",
      "scaffold7_cov100\tAUGUSTUS\tgene\t15464\t15737\t0.96\t+\t.\tg8\n",
      "scaffold7_cov100\tAUGUSTUS\tgene\t19271\t19311\t0.99\t-\t.\tg9\n",
      "scaffold7_cov100\tAUGUSTUS\tgene\t20051\t20077\t0.99\t-\t.\tg9\n",
      "scaffold7_cov100\tAUGUSTUS\tgene\t18321\t18585\t0.74\t+\t.\tg10\n",
      "   70639 ../../../genome-feature-files/Pact.GFFannotation.flanks.Upstream.gff\n"
     ]
    }
   ],
   "source": [
    "!head {paUpstream}\n",
    "!wc -l {paUpstream}"
   ]
  },
  {
   "cell_type": "code",
   "execution_count": 23,
   "metadata": {
    "collapsed": false,
    "scrolled": true
   },
   "outputs": [
    {
     "name": "stdout",
     "output_type": "stream",
     "text": [
      "scaffold6_cov64\tAUGUSTUS\tgene\t1\t0\t0.46\t-\t.\tg1\n",
      "scaffold6_cov64\tAUGUSTUS\tgene\t6679\t7678\t0.57\t+\t.\tg2\n",
      "scaffold7_cov100\tAUGUSTUS\tgene\t2567\t3466\t0.96\t+\t.\tg3\n",
      "scaffold7_cov100\tAUGUSTUS\tgene\t2567\t3466\t0.78\t-\t.\tg4\n",
      "scaffold7_cov100\tAUGUSTUS\tgene\t6218\t7068\t1\t-\t.\tg5\n",
      "scaffold7_cov100\tAUGUSTUS\tgene\t9074\t9589\t0.8\t-\t.\tg6\n",
      "scaffold7_cov100\tAUGUSTUS\tgene\t12339\t13338\t0.92\t-\t.\tg7\n",
      "scaffold7_cov100\tAUGUSTUS\tgene\t18321\t18585\t0.96\t+\t.\tg8\n",
      "scaffold7_cov100\tAUGUSTUS\tgene\t19271\t19311\t0.96\t+\t.\tg8\n",
      "scaffold7_cov100\tAUGUSTUS\tgene\t18321\t18585\t0.99\t-\t.\tg9\n",
      "   73996 ../../../genome-feature-files/Pact.GFFannotation.flanks.Downstream.gff\n"
     ]
    }
   ],
   "source": [
    "!head {paDownstream}\n",
    "!wc -l {paDownstream}"
   ]
  },
  {
   "cell_type": "code",
   "execution_count": 19,
   "metadata": {
    "collapsed": false
   },
   "outputs": [
    {
     "name": "stdout",
     "output_type": "stream",
     "text": [
      "scaffold1_cov55\t0\t421\n",
      "scaffold2_cov51\t0\t1151\n",
      "scaffold3_cov83\t0\t598\n",
      "scaffold4_cov57\t0\t192\n",
      "scaffold5_cov26\t0\t102\n",
      "scaffold6_cov64\t7678\t8236\n",
      "scaffold7_cov100\t25295\t27516\n",
      "scaffold7_cov100\t30779\t30897\n",
      "scaffold7_cov100\t38761\t40187\n",
      "scaffold7_cov100\t83819\t86977\n",
      "  185643 ../../../genome-feature-files/Pact.GFFannotation.intergenic.bed\n"
     ]
    }
   ],
   "source": [
    "!head {paIntergenic}\n",
    "!wc -l {paIntergenic}"
   ]
  },
  {
   "cell_type": "code",
   "execution_count": 28,
   "metadata": {
    "collapsed": false,
    "scrolled": false
   },
   "outputs": [
    {
     "name": "stdout",
     "output_type": "stream",
     "text": [
      "##gff-version 2.0\n",
      "##date 2020-03-29\n",
      "##Type DNA scaffold1_cov55\n",
      "scaffold1_cov55\tfuzznuc\tmisc_feature\t23\t24\t2.000\t+\t.\tSequence \"scaffold1_cov55.1\" ; note \"*pat pattern1\"\n",
      "scaffold1_cov55\tfuzznuc\tmisc_feature\t35\t36\t2.000\t+\t.\tSequence \"scaffold1_cov55.2\" ; note \"*pat pattern1\"\n",
      "scaffold1_cov55\tfuzznuc\tmisc_feature\t50\t51\t2.000\t+\t.\tSequence \"scaffold1_cov55.3\" ; note \"*pat pattern1\"\n",
      "scaffold1_cov55\tfuzznuc\tmisc_feature\t85\t86\t2.000\t+\t.\tSequence \"scaffold1_cov55.4\" ; note \"*pat pattern1\"\n",
      "scaffold1_cov55\tfuzznuc\tmisc_feature\t93\t94\t2.000\t+\t.\tSequence \"scaffold1_cov55.5\" ; note \"*pat pattern1\"\n",
      "scaffold1_cov55\tfuzznuc\tmisc_feature\t103\t104\t2.000\t+\t.\tSequence \"scaffold1_cov55.6\" ; note \"*pat pattern1\"\n",
      "scaffold1_cov55\tfuzznuc\tmisc_feature\t106\t107\t2.000\t+\t.\tSequence \"scaffold1_cov55.7\" ; note \"*pat pattern1\"\n",
      " 9639415 ../../../genome-feature-files/Pact_CpG.gff\n"
     ]
    }
   ],
   "source": [
    "!head {paCGMotifs}\n",
    "!wc -l {paCGMotifs}"
   ]
  },
  {
   "cell_type": "markdown",
   "metadata": {},
   "source": [
    "#### 1c. Characterize overlaps with `bedtools`"
   ]
  },
  {
   "cell_type": "code",
   "execution_count": 29,
   "metadata": {
    "collapsed": false
   },
   "outputs": [],
   "source": [
    "!{bedtoolsDirectory}intersectBed \\\n",
    "-u \\\n",
    "-a {paCGMotifs} \\\n",
    "-b {paGenes} \\\n",
    "> Pact-CGMotif-Gene-Overlaps.txt"
   ]
  },
  {
   "cell_type": "code",
   "execution_count": 30,
   "metadata": {
    "collapsed": false
   },
   "outputs": [],
   "source": [
    "!{bedtoolsDirectory}intersectBed \\\n",
    "-u \\\n",
    "-a {paCGMotifs} \\\n",
    "-b {paCDS} \\\n",
    "> Pact-CGMotif-CDS-Overlaps.txt"
   ]
  },
  {
   "cell_type": "code",
   "execution_count": 31,
   "metadata": {
    "collapsed": false
   },
   "outputs": [],
   "source": [
    "!{bedtoolsDirectory}intersectBed \\\n",
    "-u \\\n",
    "-a {paCGMotifs} \\\n",
    "-b {paIntron} \\\n",
    "> Pact-CGMotif-Intron-Overlaps.txt"
   ]
  },
  {
   "cell_type": "code",
   "execution_count": 32,
   "metadata": {
    "collapsed": false
   },
   "outputs": [],
   "source": [
    "!{bedtoolsDirectory}intersectBed \\\n",
    "-u \\\n",
    "-a {paCGMotifs} \\\n",
    "-b {paFlanks} \\\n",
    "> Pact-CGMotif-Flanks-Overlaps.txt"
   ]
  },
  {
   "cell_type": "code",
   "execution_count": 31,
   "metadata": {
    "collapsed": false
   },
   "outputs": [],
   "source": [
    "!{bedtoolsDirectory}intersectBed \\\n",
    "-u \\\n",
    "-a {paCGMotifs} \\\n",
    "-b {paUpstream} \\\n",
    "> Pact-CGMotif-Flanks-Upstream-Overlaps.txt"
   ]
  },
  {
   "cell_type": "code",
   "execution_count": 33,
   "metadata": {
    "collapsed": false
   },
   "outputs": [],
   "source": [
    "!{bedtoolsDirectory}intersectBed \\\n",
    "-u \\\n",
    "-a {paCGMotifs} \\\n",
    "-b {paDownstream} \\\n",
    "> Pact-CGMotif-Flanks-Downstream-Overlaps.txt"
   ]
  },
  {
   "cell_type": "code",
   "execution_count": 20,
   "metadata": {
    "collapsed": false
   },
   "outputs": [],
   "source": [
    "!{bedtoolsDirectory}intersectBed \\\n",
    "-u \\\n",
    "-a {paCGMotifs} \\\n",
    "-b {paIntergenic} \\\n",
    "> Pact-CGMotif-Intergenic-Overlaps.txt"
   ]
  },
  {
   "cell_type": "code",
   "execution_count": 22,
   "metadata": {
    "collapsed": false
   },
   "outputs": [],
   "source": [
    "!wc -l *CGMotif* > Pact-CGMotif-Overlaps-counts.txt"
   ]
  },
  {
   "cell_type": "markdown",
   "metadata": {},
   "source": [
    "#### 1d. Summary"
   ]
  },
  {
   "cell_type": "markdown",
   "metadata": {},
   "source": [
    "| *P. acuta* Genome Feature \t| **Number individual features** \t| **Overlaps with CG Motifs** \t| **% Total CG Motifs** \t|\n",
    "|:-------------------------------:\t|:------------------------------:\t|:---------------------------:\t|:---------------------:\t|\n",
    "|              Genes              \t|              64558             \t|           3434720           \t|          35.6         \t|\n",
    "|         Coding Sequences        \t|             318484             \t|           1455630           \t|          15.1         \t|\n",
    "|             Introns             \t|             241534             \t|           1999490           \t|          20.7         \t|\n",
    "|             Flanking Regions             \t|             143874             \t|           1732726           \t|          17.8         \t|\n",
    "|             Upstream Flanks             \t|             70639             \t|           1047316           \t|          10.9         \t|\n",
    "|             Downstream Flanks             \t|             73996             \t|           948914           \t|          9.8         \t|\n",
    "|        Intergenic Regions       \t|               185643              \t|           3989278           \t|          41.4         \t|"
   ]
  },
  {
   "cell_type": "markdown",
   "metadata": {},
   "source": [
    "### 2. Download coverage files"
   ]
  },
  {
   "cell_type": "code",
   "execution_count": 34,
   "metadata": {
    "collapsed": false,
    "scrolled": true
   },
   "outputs": [
    {
     "name": "stdout",
     "output_type": "stream",
     "text": [
      "--2020-05-05 13:25:32--  https://gannet.fish.washington.edu/seashell/bu-mox/scrubbed/031520-TG-bs/Pact_tg/dedup/\n",
      "Resolving gannet.fish.washington.edu (gannet.fish.washington.edu)... 128.95.149.52\n",
      "Connecting to gannet.fish.washington.edu (gannet.fish.washington.edu)|128.95.149.52|:443... connected.\n",
      "HTTP request sent, awaiting response... 200 OK\n",
      "Length: unspecified [text/html]\n",
      "Saving to: ‘gannet.fish.washington.edu/seashell/bu-mox/scrubbed/031520-TG-bs/Pact_tg/dedup/index.html.tmp’\n",
      "\n",
      "gannet.fish.washing     [ <=>                ]  42.11K  --.-KB/s    in 0.001s  \n",
      "\n",
      "2020-05-05 13:25:34 (47.9 MB/s) - ‘gannet.fish.washington.edu/seashell/bu-mox/scrubbed/031520-TG-bs/Pact_tg/dedup/index.html.tmp’ saved [43123]\n",
      "\n",
      "Loading robots.txt; please ignore errors.\n",
      "--2020-05-05 13:25:34--  https://gannet.fish.washington.edu/robots.txt\n",
      "Reusing existing connection to gannet.fish.washington.edu:443.\n",
      "HTTP request sent, awaiting response... 404 Not Found\n",
      "2020-05-05 13:25:34 ERROR 404: Not Found.\n",
      "\n",
      "Removing gannet.fish.washington.edu/seashell/bu-mox/scrubbed/031520-TG-bs/Pact_tg/dedup/index.html.tmp since it should be rejected.\n",
      "\n",
      "--2020-05-05 13:25:34--  https://gannet.fish.washington.edu/seashell/bu-mox/scrubbed/031520-TG-bs/Pact_tg/dedup/?C=N;O=D\n",
      "Reusing existing connection to gannet.fish.washington.edu:443.\n",
      "HTTP request sent, awaiting response... 200 OK\n",
      "Length: unspecified [text/html]\n",
      "Saving to: ‘gannet.fish.washington.edu/seashell/bu-mox/scrubbed/031520-TG-bs/Pact_tg/dedup/index.html?C=N;O=D.tmp’\n",
      "\n",
      "gannet.fish.washing     [ <=>                ]  42.11K  --.-KB/s    in 0.001s  \n",
      "\n",
      "2020-05-05 13:25:35 (40.5 MB/s) - ‘gannet.fish.washington.edu/seashell/bu-mox/scrubbed/031520-TG-bs/Pact_tg/dedup/index.html?C=N;O=D.tmp’ saved [43123]\n",
      "\n",
      "Removing gannet.fish.washington.edu/seashell/bu-mox/scrubbed/031520-TG-bs/Pact_tg/dedup/index.html?C=N;O=D.tmp since it should be rejected.\n",
      "\n",
      "--2020-05-05 13:25:35--  https://gannet.fish.washington.edu/seashell/bu-mox/scrubbed/031520-TG-bs/Pact_tg/dedup/?C=M;O=A\n",
      "Reusing existing connection to gannet.fish.washington.edu:443.\n",
      "HTTP request sent, awaiting response... 200 OK\n",
      "Length: unspecified [text/html]\n",
      "Saving to: ‘gannet.fish.washington.edu/seashell/bu-mox/scrubbed/031520-TG-bs/Pact_tg/dedup/index.html?C=M;O=A.tmp’\n",
      "\n",
      "gannet.fish.washing     [ <=>                ]  42.11K  --.-KB/s    in 0.001s  \n",
      "\n",
      "2020-05-05 13:25:36 (34.3 MB/s) - ‘gannet.fish.washington.edu/seashell/bu-mox/scrubbed/031520-TG-bs/Pact_tg/dedup/index.html?C=M;O=A.tmp’ saved [43123]\n",
      "\n",
      "Removing gannet.fish.washington.edu/seashell/bu-mox/scrubbed/031520-TG-bs/Pact_tg/dedup/index.html?C=M;O=A.tmp since it should be rejected.\n",
      "\n",
      "--2020-05-05 13:25:36--  https://gannet.fish.washington.edu/seashell/bu-mox/scrubbed/031520-TG-bs/Pact_tg/dedup/?C=S;O=A\n",
      "Reusing existing connection to gannet.fish.washington.edu:443.\n",
      "HTTP request sent, awaiting response... 200 OK\n",
      "Length: unspecified [text/html]\n",
      "Saving to: ‘gannet.fish.washington.edu/seashell/bu-mox/scrubbed/031520-TG-bs/Pact_tg/dedup/index.html?C=S;O=A.tmp’\n",
      "\n",
      "gannet.fish.washing     [ <=>                ]  42.11K  --.-KB/s    in 0.001s  \n",
      "\n",
      "2020-05-05 13:25:36 (36.8 MB/s) - ‘gannet.fish.washington.edu/seashell/bu-mox/scrubbed/031520-TG-bs/Pact_tg/dedup/index.html?C=S;O=A.tmp’ saved [43123]\n",
      "\n",
      "Removing gannet.fish.washington.edu/seashell/bu-mox/scrubbed/031520-TG-bs/Pact_tg/dedup/index.html?C=S;O=A.tmp since it should be rejected.\n",
      "\n",
      "--2020-05-05 13:25:36--  https://gannet.fish.washington.edu/seashell/bu-mox/scrubbed/031520-TG-bs/Pact_tg/dedup/?C=D;O=A\n",
      "Reusing existing connection to gannet.fish.washington.edu:443.\n",
      "HTTP request sent, awaiting response... 200 OK\n",
      "Length: unspecified [text/html]\n",
      "Saving to: ‘gannet.fish.washington.edu/seashell/bu-mox/scrubbed/031520-TG-bs/Pact_tg/dedup/index.html?C=D;O=A.tmp’\n",
      "\n",
      "gannet.fish.washing     [ <=>                ]  42.11K  --.-KB/s    in 0.001s  \n",
      "\n",
      "2020-05-05 13:25:37 (27.8 MB/s) - ‘gannet.fish.washington.edu/seashell/bu-mox/scrubbed/031520-TG-bs/Pact_tg/dedup/index.html?C=D;O=A.tmp’ saved [43123]\n",
      "\n",
      "Removing gannet.fish.washington.edu/seashell/bu-mox/scrubbed/031520-TG-bs/Pact_tg/dedup/index.html?C=D;O=A.tmp since it should be rejected.\n",
      "\n",
      "--2020-05-05 13:25:37--  https://gannet.fish.washington.edu/seashell/bu-mox/scrubbed/031520-TG-bs/Pact_tg/dedup/Meth1_R1_001_val_1_bismark_bt2_pe._5x.bedgraph\n",
      "Reusing existing connection to gannet.fish.washington.edu:443.\n",
      "HTTP request sent, awaiting response... 200 OK\n",
      "Length: 226808063 (216M)\n",
      "Saving to: ‘gannet.fish.washington.edu/seashell/bu-mox/scrubbed/031520-TG-bs/Pact_tg/dedup/Meth1_R1_001_val_1_bismark_bt2_pe._5x.bedgraph’\n",
      "\n",
      "gannet.fish.washing 100%[===================>] 216.30M  96.6MB/s    in 2.2s    \n",
      "\n",
      "2020-05-05 13:25:40 (96.6 MB/s) - ‘gannet.fish.washington.edu/seashell/bu-mox/scrubbed/031520-TG-bs/Pact_tg/dedup/Meth1_R1_001_val_1_bismark_bt2_pe._5x.bedgraph’ saved [226808063/226808063]\n",
      "\n",
      "--2020-05-05 13:25:40--  https://gannet.fish.washington.edu/seashell/bu-mox/scrubbed/031520-TG-bs/Pact_tg/dedup/Meth2_R1_001_val_1_bismark_bt2_pe._5x.bedgraph\n",
      "Reusing existing connection to gannet.fish.washington.edu:443.\n",
      "HTTP request sent, awaiting response... 200 OK\n",
      "Length: 259720833 (248M)\n",
      "Saving to: ‘gannet.fish.washington.edu/seashell/bu-mox/scrubbed/031520-TG-bs/Pact_tg/dedup/Meth2_R1_001_val_1_bismark_bt2_pe._5x.bedgraph’\n",
      "\n",
      "gannet.fish.washing 100%[===================>] 247.69M   101MB/s    in 2.4s    \n",
      "\n",
      "2020-05-05 13:25:42 (101 MB/s) - ‘gannet.fish.washington.edu/seashell/bu-mox/scrubbed/031520-TG-bs/Pact_tg/dedup/Meth2_R1_001_val_1_bismark_bt2_pe._5x.bedgraph’ saved [259720833/259720833]\n",
      "\n",
      "--2020-05-05 13:25:42--  https://gannet.fish.washington.edu/seashell/bu-mox/scrubbed/031520-TG-bs/Pact_tg/dedup/Meth3_R1_001_val_1_bismark_bt2_pe._5x.bedgraph\n",
      "Reusing existing connection to gannet.fish.washington.edu:443.\n",
      "HTTP request sent, awaiting response... 200 OK\n",
      "Length: 239858422 (229M)\n",
      "Saving to: ‘gannet.fish.washington.edu/seashell/bu-mox/scrubbed/031520-TG-bs/Pact_tg/dedup/Meth3_R1_001_val_1_bismark_bt2_pe._5x.bedgraph’\n",
      "\n",
      "gannet.fish.washing 100%[===================>] 228.75M  81.4MB/s    in 2.8s    \n",
      "\n",
      "2020-05-05 13:25:45 (81.4 MB/s) - ‘gannet.fish.washington.edu/seashell/bu-mox/scrubbed/031520-TG-bs/Pact_tg/dedup/Meth3_R1_001_val_1_bismark_bt2_pe._5x.bedgraph’ saved [239858422/239858422]\n",
      "\n",
      "--2020-05-05 13:25:45--  https://gannet.fish.washington.edu/seashell/bu-mox/scrubbed/031520-TG-bs/Pact_tg/dedup/Meth7_R1_001_val_1_bismark_bt2_pe._5x.bedgraph\n",
      "Reusing existing connection to gannet.fish.washington.edu:443.\n",
      "HTTP request sent, awaiting response... 200 OK\n",
      "Length: 107859832 (103M)\n",
      "Saving to: ‘gannet.fish.washington.edu/seashell/bu-mox/scrubbed/031520-TG-bs/Pact_tg/dedup/Meth7_R1_001_val_1_bismark_bt2_pe._5x.bedgraph’\n",
      "\n",
      "gannet.fish.washing 100%[===================>] 102.86M  96.9MB/s    in 1.1s    \n",
      "\n",
      "2020-05-05 13:25:46 (96.9 MB/s) - ‘gannet.fish.washington.edu/seashell/bu-mox/scrubbed/031520-TG-bs/Pact_tg/dedup/Meth7_R1_001_val_1_bismark_bt2_pe._5x.bedgraph’ saved [107859832/107859832]\n",
      "\n",
      "--2020-05-05 13:25:46--  https://gannet.fish.washington.edu/seashell/bu-mox/scrubbed/031520-TG-bs/Pact_tg/dedup/Meth8_R1_001_val_1_bismark_bt2_pe._5x.bedgraph\n",
      "Reusing existing connection to gannet.fish.washington.edu:443.\n",
      "HTTP request sent, awaiting response... 200 OK\n",
      "Length: 21772891 (21M)\n",
      "Saving to: ‘gannet.fish.washington.edu/seashell/bu-mox/scrubbed/031520-TG-bs/Pact_tg/dedup/Meth8_R1_001_val_1_bismark_bt2_pe._5x.bedgraph’\n",
      "\n",
      "gannet.fish.washing 100%[===================>]  20.76M  47.6MB/s    in 0.4s    \n",
      "\n",
      "2020-05-05 13:25:47 (47.6 MB/s) - ‘gannet.fish.washington.edu/seashell/bu-mox/scrubbed/031520-TG-bs/Pact_tg/dedup/Meth8_R1_001_val_1_bismark_bt2_pe._5x.bedgraph’ saved [21772891/21772891]\n",
      "\n",
      "--2020-05-05 13:25:47--  https://gannet.fish.washington.edu/seashell/bu-mox/scrubbed/031520-TG-bs/Pact_tg/dedup/Meth9_R1_001_val_1_bismark_bt2_pe._5x.bedgraph\n",
      "Reusing existing connection to gannet.fish.washington.edu:443.\n",
      "HTTP request sent, awaiting response... 200 OK\n",
      "Length: 111717514 (107M)\n",
      "Saving to: ‘gannet.fish.washington.edu/seashell/bu-mox/scrubbed/031520-TG-bs/Pact_tg/dedup/Meth9_R1_001_val_1_bismark_bt2_pe._5x.bedgraph’\n",
      "\n",
      "gannet.fish.washing 100%[===================>] 106.54M  84.4MB/s    in 1.3s    \n",
      "\n",
      "2020-05-05 13:25:48 (84.4 MB/s) - ‘gannet.fish.washington.edu/seashell/bu-mox/scrubbed/031520-TG-bs/Pact_tg/dedup/Meth9_R1_001_val_1_bismark_bt2_pe._5x.bedgraph’ saved [111717514/111717514]\n",
      "\n",
      "FINISHED --2020-05-05 13:25:48--\n",
      "Total wall clock time: 16s\n",
      "Downloaded: 11 files, 923M in 10s (90.0 MB/s)\n"
     ]
    }
   ],
   "source": [
    "#Download Pact WGBS and MBD-BS 5x sample bedgraphs\n",
    "!wget -r -l1 --no-parent -A \"*5x.bedgraph\" https://gannet.fish.washington.edu/seashell/bu-mox/scrubbed/031520-TG-bs/Pact_tg/dedup/"
   ]
  },
  {
   "cell_type": "code",
   "execution_count": 35,
   "metadata": {
    "collapsed": true
   },
   "outputs": [],
   "source": [
    "#Move samples from directory structure on gannet to cd\n",
    "!mv gannet.fish.washington.edu/seashell/bu-mox/scrubbed/031520-TG-bs/Pact_tg/dedup/* ."
   ]
  },
  {
   "cell_type": "code",
   "execution_count": 36,
   "metadata": {
    "collapsed": true
   },
   "outputs": [],
   "source": [
    "#Remove empty directory\n",
    "!rm -r gannet.fish.washington.edu/"
   ]
  },
  {
   "cell_type": "code",
   "execution_count": 37,
   "metadata": {
    "collapsed": false
   },
   "outputs": [
    {
     "name": "stdout",
     "output_type": "stream",
     "text": [
      "Meth1_R1_001_val_1_bismark_bt2_pe._5x.bedgraph\r\n",
      "Meth2_R1_001_val_1_bismark_bt2_pe._5x.bedgraph\r\n",
      "Meth3_R1_001_val_1_bismark_bt2_pe._5x.bedgraph\r\n",
      "Meth7_R1_001_val_1_bismark_bt2_pe._5x.bedgraph\r\n",
      "Meth8_R1_001_val_1_bismark_bt2_pe._5x.bedgraph\r\n",
      "Meth9_R1_001_val_1_bismark_bt2_pe._5x.bedgraph\r\n"
     ]
    }
   ],
   "source": [
    "#Check files\n",
    "!find *bedgraph"
   ]
  },
  {
   "cell_type": "code",
   "execution_count": 38,
   "metadata": {
    "collapsed": false,
    "scrolled": true
   },
   "outputs": [
    {
     "name": "stdout",
     "output_type": "stream",
     "text": [
      "--2020-05-05 13:25:49--  https://gannet.fish.washington.edu/seashell/bu-mox/scrubbed/031520-TG-bs/Pact_tg/nodedup/\n",
      "Resolving gannet.fish.washington.edu (gannet.fish.washington.edu)... 128.95.149.52\n",
      "Connecting to gannet.fish.washington.edu (gannet.fish.washington.edu)|128.95.149.52|:443... connected.\n",
      "HTTP request sent, awaiting response... 200 OK\n",
      "Length: unspecified [text/html]\n",
      "Saving to: ‘gannet.fish.washington.edu/seashell/bu-mox/scrubbed/031520-TG-bs/Pact_tg/nodedup/index.html.tmp’\n",
      "\n",
      "gannet.fish.washing     [ <=>                ]  19.51K  --.-KB/s    in 0.001s  \n",
      "\n",
      "2020-05-05 13:25:50 (32.7 MB/s) - ‘gannet.fish.washington.edu/seashell/bu-mox/scrubbed/031520-TG-bs/Pact_tg/nodedup/index.html.tmp’ saved [19983]\n",
      "\n",
      "Loading robots.txt; please ignore errors.\n",
      "--2020-05-05 13:25:50--  https://gannet.fish.washington.edu/robots.txt\n",
      "Reusing existing connection to gannet.fish.washington.edu:443.\n",
      "HTTP request sent, awaiting response... 404 Not Found\n",
      "2020-05-05 13:25:50 ERROR 404: Not Found.\n",
      "\n",
      "Removing gannet.fish.washington.edu/seashell/bu-mox/scrubbed/031520-TG-bs/Pact_tg/nodedup/index.html.tmp since it should be rejected.\n",
      "\n",
      "--2020-05-05 13:25:50--  https://gannet.fish.washington.edu/seashell/bu-mox/scrubbed/031520-TG-bs/Pact_tg/nodedup/?C=N;O=D\n",
      "Reusing existing connection to gannet.fish.washington.edu:443.\n",
      "HTTP request sent, awaiting response... 200 OK\n",
      "Length: unspecified [text/html]\n",
      "Saving to: ‘gannet.fish.washington.edu/seashell/bu-mox/scrubbed/031520-TG-bs/Pact_tg/nodedup/index.html?C=N;O=D.tmp’\n",
      "\n",
      "gannet.fish.washing     [ <=>                ]  19.51K  --.-KB/s    in 0.001s  \n",
      "\n",
      "2020-05-05 13:25:50 (29.0 MB/s) - ‘gannet.fish.washington.edu/seashell/bu-mox/scrubbed/031520-TG-bs/Pact_tg/nodedup/index.html?C=N;O=D.tmp’ saved [19983]\n",
      "\n",
      "Removing gannet.fish.washington.edu/seashell/bu-mox/scrubbed/031520-TG-bs/Pact_tg/nodedup/index.html?C=N;O=D.tmp since it should be rejected.\n",
      "\n",
      "--2020-05-05 13:25:50--  https://gannet.fish.washington.edu/seashell/bu-mox/scrubbed/031520-TG-bs/Pact_tg/nodedup/?C=M;O=A\n",
      "Reusing existing connection to gannet.fish.washington.edu:443.\n",
      "HTTP request sent, awaiting response... 200 OK\n",
      "Length: unspecified [text/html]\n",
      "Saving to: ‘gannet.fish.washington.edu/seashell/bu-mox/scrubbed/031520-TG-bs/Pact_tg/nodedup/index.html?C=M;O=A.tmp’\n",
      "\n",
      "gannet.fish.washing     [ <=>                ]  19.51K  --.-KB/s    in 0.001s  \n",
      "\n",
      "2020-05-05 13:25:50 (25.6 MB/s) - ‘gannet.fish.washington.edu/seashell/bu-mox/scrubbed/031520-TG-bs/Pact_tg/nodedup/index.html?C=M;O=A.tmp’ saved [19983]\n",
      "\n",
      "Removing gannet.fish.washington.edu/seashell/bu-mox/scrubbed/031520-TG-bs/Pact_tg/nodedup/index.html?C=M;O=A.tmp since it should be rejected.\n",
      "\n",
      "--2020-05-05 13:25:50--  https://gannet.fish.washington.edu/seashell/bu-mox/scrubbed/031520-TG-bs/Pact_tg/nodedup/?C=S;O=A\n",
      "Reusing existing connection to gannet.fish.washington.edu:443.\n",
      "HTTP request sent, awaiting response... 200 OK\n",
      "Length: unspecified [text/html]\n",
      "Saving to: ‘gannet.fish.washington.edu/seashell/bu-mox/scrubbed/031520-TG-bs/Pact_tg/nodedup/index.html?C=S;O=A.tmp’\n",
      "\n",
      "gannet.fish.washing     [ <=>                ]  19.51K  --.-KB/s    in 0s      \n",
      "\n",
      "2020-05-05 13:25:51 (42.8 MB/s) - ‘gannet.fish.washington.edu/seashell/bu-mox/scrubbed/031520-TG-bs/Pact_tg/nodedup/index.html?C=S;O=A.tmp’ saved [19983]\n",
      "\n",
      "Removing gannet.fish.washington.edu/seashell/bu-mox/scrubbed/031520-TG-bs/Pact_tg/nodedup/index.html?C=S;O=A.tmp since it should be rejected.\n",
      "\n",
      "--2020-05-05 13:25:51--  https://gannet.fish.washington.edu/seashell/bu-mox/scrubbed/031520-TG-bs/Pact_tg/nodedup/?C=D;O=A\n",
      "Reusing existing connection to gannet.fish.washington.edu:443.\n",
      "HTTP request sent, awaiting response... 200 OK\n",
      "Length: unspecified [text/html]\n",
      "Saving to: ‘gannet.fish.washington.edu/seashell/bu-mox/scrubbed/031520-TG-bs/Pact_tg/nodedup/index.html?C=D;O=A.tmp’\n",
      "\n",
      "gannet.fish.washing     [ <=>                ]  19.51K  --.-KB/s    in 0.001s  \n",
      "\n",
      "2020-05-05 13:25:51 (36.4 MB/s) - ‘gannet.fish.washington.edu/seashell/bu-mox/scrubbed/031520-TG-bs/Pact_tg/nodedup/index.html?C=D;O=A.tmp’ saved [19983]\n",
      "\n",
      "Removing gannet.fish.washington.edu/seashell/bu-mox/scrubbed/031520-TG-bs/Pact_tg/nodedup/index.html?C=D;O=A.tmp since it should be rejected.\n",
      "\n",
      "--2020-05-05 13:25:51--  https://gannet.fish.washington.edu/seashell/bu-mox/scrubbed/031520-TG-bs/Pact_tg/nodedup/Meth4_R1_001_val_1_bismark_bt2_pe._5x.bedgraph\n",
      "Reusing existing connection to gannet.fish.washington.edu:443.\n",
      "HTTP request sent, awaiting response... 200 OK\n",
      "Length: 74748447 (71M)\n",
      "Saving to: ‘gannet.fish.washington.edu/seashell/bu-mox/scrubbed/031520-TG-bs/Pact_tg/nodedup/Meth4_R1_001_val_1_bismark_bt2_pe._5x.bedgraph’\n",
      "\n",
      "gannet.fish.washing 100%[===================>]  71.29M  39.5MB/s    in 1.8s    \n",
      "\n",
      "2020-05-05 13:25:53 (39.5 MB/s) - ‘gannet.fish.washington.edu/seashell/bu-mox/scrubbed/031520-TG-bs/Pact_tg/nodedup/Meth4_R1_001_val_1_bismark_bt2_pe._5x.bedgraph’ saved [74748447/74748447]\n",
      "\n",
      "--2020-05-05 13:25:53--  https://gannet.fish.washington.edu/seashell/bu-mox/scrubbed/031520-TG-bs/Pact_tg/nodedup/Meth5_R1_001_val_1_bismark_bt2_pe._5x.bedgraph\n",
      "Reusing existing connection to gannet.fish.washington.edu:443.\n",
      "HTTP request sent, awaiting response... 200 OK\n",
      "Length: 58979704 (56M)\n",
      "Saving to: ‘gannet.fish.washington.edu/seashell/bu-mox/scrubbed/031520-TG-bs/Pact_tg/nodedup/Meth5_R1_001_val_1_bismark_bt2_pe._5x.bedgraph’\n",
      "\n",
      "gannet.fish.washing 100%[===================>]  56.25M  59.7MB/s    in 0.9s    \n",
      "\n",
      "2020-05-05 13:25:54 (59.7 MB/s) - ‘gannet.fish.washington.edu/seashell/bu-mox/scrubbed/031520-TG-bs/Pact_tg/nodedup/Meth5_R1_001_val_1_bismark_bt2_pe._5x.bedgraph’ saved [58979704/58979704]\n",
      "\n",
      "--2020-05-05 13:25:54--  https://gannet.fish.washington.edu/seashell/bu-mox/scrubbed/031520-TG-bs/Pact_tg/nodedup/Meth6_R1_001_val_1_bismark_bt2_pe._5x.bedgraph\n",
      "Reusing existing connection to gannet.fish.washington.edu:443.\n",
      "HTTP request sent, awaiting response... 200 OK\n",
      "Length: 61726619 (59M)\n",
      "Saving to: ‘gannet.fish.washington.edu/seashell/bu-mox/scrubbed/031520-TG-bs/Pact_tg/nodedup/Meth6_R1_001_val_1_bismark_bt2_pe._5x.bedgraph’\n",
      "\n",
      "gannet.fish.washing 100%[===================>]  58.87M  85.3MB/s    in 0.7s    \n",
      "\n",
      "2020-05-05 13:25:55 (85.3 MB/s) - ‘gannet.fish.washington.edu/seashell/bu-mox/scrubbed/031520-TG-bs/Pact_tg/nodedup/Meth6_R1_001_val_1_bismark_bt2_pe._5x.bedgraph’ saved [61726619/61726619]\n",
      "\n",
      "FINISHED --2020-05-05 13:25:55--\n",
      "Total wall clock time: 5.6s\n",
      "Downloaded: 8 files, 186M in 3.4s (54.2 MB/s)\n"
     ]
    }
   ],
   "source": [
    "#Download Pact RRBS 5x sample bedgraphs\n",
    "!wget -r -l1 --no-parent -A \"*5x.bedgraph\" https://gannet.fish.washington.edu/seashell/bu-mox/scrubbed/031520-TG-bs/Pact_tg/nodedup/"
   ]
  },
  {
   "cell_type": "code",
   "execution_count": 39,
   "metadata": {
    "collapsed": true
   },
   "outputs": [],
   "source": [
    "#Move samples from directory structure on gannet to cd\n",
    "!mv gannet.fish.washington.edu/seashell/bu-mox/scrubbed/031520-TG-bs/Pact_tg/nodedup/* ."
   ]
  },
  {
   "cell_type": "code",
   "execution_count": 40,
   "metadata": {
    "collapsed": true
   },
   "outputs": [],
   "source": [
    "#Remove empty directory\n",
    "!rm -r gannet.fish.washington.edu/"
   ]
  },
  {
   "cell_type": "code",
   "execution_count": 41,
   "metadata": {
    "collapsed": false,
    "scrolled": true
   },
   "outputs": [
    {
     "name": "stdout",
     "output_type": "stream",
     "text": [
      "Meth1_R1_001_val_1_bismark_bt2_pe._5x.bedgraph\r\n",
      "Meth2_R1_001_val_1_bismark_bt2_pe._5x.bedgraph\r\n",
      "Meth3_R1_001_val_1_bismark_bt2_pe._5x.bedgraph\r\n",
      "Meth4_R1_001_val_1_bismark_bt2_pe._5x.bedgraph\r\n",
      "Meth5_R1_001_val_1_bismark_bt2_pe._5x.bedgraph\r\n",
      "Meth6_R1_001_val_1_bismark_bt2_pe._5x.bedgraph\r\n",
      "Meth7_R1_001_val_1_bismark_bt2_pe._5x.bedgraph\r\n",
      "Meth8_R1_001_val_1_bismark_bt2_pe._5x.bedgraph\r\n",
      "Meth9_R1_001_val_1_bismark_bt2_pe._5x.bedgraph\r\n"
     ]
    }
   ],
   "source": [
    "!find *bedgraph"
   ]
  },
  {
   "cell_type": "code",
   "execution_count": 42,
   "metadata": {
    "collapsed": false,
    "scrolled": true
   },
   "outputs": [
    {
     "name": "stdout",
     "output_type": "stream",
     "text": [
      "Meth8_R1_001_val_1_bismark_bt2_pe._5x.bedgraph: OK\n",
      "Meth9_R1_001_val_1_bismark_bt2_pe._5x.bedgraph: OK\n",
      "Meth2_R1_001_val_1_bismark_bt2_pe._5x.bedgraph: OK\n",
      "Meth3_R1_001_val_1_bismark_bt2_pe._5x.bedgraph: OK\n",
      "Meth1_R1_001_val_1_bismark_bt2_pe._5x.bedgraph: OK\n",
      "Meth7_R1_001_val_1_bismark_bt2_pe._5x.bedgraph: OK\n",
      "Meth6_R1_001_val_1_bismark_bt2_pe._5x.bedgraph: OK\n",
      "Meth5_R1_001_val_1_bismark_bt2_pe._5x.bedgraph: OK\n",
      "Meth4_R1_001_val_1_bismark_bt2_pe._5x.bedgraph: OK\n"
     ]
    }
   ],
   "source": [
    "#Verify checksums from gannet\n",
    "!md5sum -c ../Pact-5xbedgraph-GANNET-md5sum.txt"
   ]
  },
  {
   "cell_type": "code",
   "execution_count": 44,
   "metadata": {
    "collapsed": false,
    "scrolled": true
   },
   "outputs": [
    {
     "name": "stdout",
     "output_type": "stream",
     "text": [
      " 5546051 Meth1_R1_001_val_1_bismark_bt2_pe._5x.bedgraph\n",
      " 6358722 Meth2_R1_001_val_1_bismark_bt2_pe._5x.bedgraph\n",
      " 5866786 Meth3_R1_001_val_1_bismark_bt2_pe._5x.bedgraph\n",
      " 1835561 Meth4_R1_001_val_1_bismark_bt2_pe._5x.bedgraph\n",
      " 1451229 Meth5_R1_001_val_1_bismark_bt2_pe._5x.bedgraph\n",
      " 1517358 Meth6_R1_001_val_1_bismark_bt2_pe._5x.bedgraph\n",
      " 2640625 Meth7_R1_001_val_1_bismark_bt2_pe._5x.bedgraph\n",
      "  539008 Meth8_R1_001_val_1_bismark_bt2_pe._5x.bedgraph\n",
      " 2732607 Meth9_R1_001_val_1_bismark_bt2_pe._5x.bedgraph\n",
      " 28487947 total\n"
     ]
    }
   ],
   "source": [
    "!wc -l *bedgraph"
   ]
  },
  {
   "cell_type": "code",
   "execution_count": 18,
   "metadata": {
    "collapsed": true
   },
   "outputs": [],
   "source": [
    "!wc -l *bedgraph > Pact-5x-bedgraph-counts.txt"
   ]
  },
  {
   "cell_type": "markdown",
   "metadata": {},
   "source": [
    "### 3. Characterize methylation for each CpG dinucleotide\n",
    "\n",
    "- Methylated: > 50% methylation\n",
    "- Sparsely methylated: 10-50% methylation\n",
    "- Unmethylated: < 10% methylation"
   ]
  },
  {
   "cell_type": "markdown",
   "metadata": {},
   "source": [
    "##### Methylated loci"
   ]
  },
  {
   "cell_type": "code",
   "execution_count": 45,
   "metadata": {
    "collapsed": true
   },
   "outputs": [],
   "source": [
    "%%bash\n",
    "for f in *bedgraph\n",
    "do\n",
    "    awk '{if ($4 >= 50) { print $1, $2, $3, $4 }}' ${f} \\\n",
    "    > ${f}-Meth\n",
    "done"
   ]
  },
  {
   "cell_type": "code",
   "execution_count": 46,
   "metadata": {
    "collapsed": false,
    "scrolled": true
   },
   "outputs": [
    {
     "name": "stdout",
     "output_type": "stream",
     "text": [
      "==> Meth1_R1_001_val_1_bismark_bt2_pe._5x.bedgraph-Meth <==\r\n",
      "scaffold7_cov100 4351 4353 50.000000\r\n",
      "scaffold7_cov100 5500 5502 83.333333\r\n",
      "scaffold7_cov100 5578 5580 57.142857\r\n",
      "scaffold7_cov100 5986 5988 100.000000\r\n",
      "scaffold7_cov100 6144 6146 100.000000\r\n",
      "scaffold7_cov100 6188 6190 100.000000\r\n",
      "scaffold7_cov100 6198 6200 88.888889\r\n",
      "scaffold7_cov100 6231 6233 100.000000\r\n",
      "scaffold7_cov100 6233 6235 100.000000\r\n",
      "scaffold7_cov100 7438 7440 100.000000\r\n",
      "\r\n",
      "==> Meth2_R1_001_val_1_bismark_bt2_pe._5x.bedgraph-Meth <==\r\n",
      "scaffold7_cov100 5500 5502 62.500000\r\n",
      "scaffold7_cov100 5986 5988 66.666667\r\n",
      "scaffold7_cov100 6144 6146 100.000000\r\n",
      "scaffold7_cov100 6188 6190 94.117647\r\n",
      "scaffold7_cov100 6198 6200 100.000000\r\n",
      "scaffold7_cov100 6231 6233 71.428571\r\n",
      "scaffold7_cov100 6233 6235 100.000000\r\n",
      "scaffold7_cov100 7438 7440 88.235294\r\n",
      "scaffold7_cov100 7696 7698 95.833333\r\n",
      "scaffold7_cov100 7796 7798 60.000000\r\n",
      "\r\n",
      "==> Meth3_R1_001_val_1_bismark_bt2_pe._5x.bedgraph-Meth <==\r\n",
      "scaffold7_cov100 5500 5502 87.500000\r\n",
      "scaffold7_cov100 5578 5580 55.555556\r\n",
      "scaffold7_cov100 5986 5988 60.000000\r\n",
      "scaffold7_cov100 6144 6146 100.000000\r\n",
      "scaffold7_cov100 6188 6190 100.000000\r\n",
      "scaffold7_cov100 6198 6200 100.000000\r\n",
      "scaffold7_cov100 6231 6233 100.000000\r\n",
      "scaffold7_cov100 6233 6235 100.000000\r\n",
      "scaffold7_cov100 7438 7440 100.000000\r\n",
      "scaffold7_cov100 7696 7698 100.000000\r\n",
      "\r\n",
      "==> Meth4_R1_001_val_1_bismark_bt2_pe._5x.bedgraph-Meth <==\r\n",
      "scaffold7_cov100 1535 1537 60.000000\r\n",
      "scaffold7_cov100 24509 24511 100.000000\r\n",
      "scaffold7_cov100 24557 24559 100.000000\r\n",
      "scaffold7_cov100 33140 33142 80.000000\r\n",
      "scaffold7_cov100 33157 33159 80.000000\r\n",
      "scaffold7_cov100 40896 40898 50.000000\r\n",
      "scaffold7_cov100 84631 84633 62.500000\r\n",
      "scaffold7_cov100 96791 96793 65.000000\r\n",
      "scaffold7_cov100 109716 109718 60.000000\r\n",
      "scaffold7_cov100 138357 138359 100.000000\r\n",
      "\r\n",
      "==> Meth5_R1_001_val_1_bismark_bt2_pe._5x.bedgraph-Meth <==\r\n",
      "scaffold6_cov64 2676 2678 77.777778\r\n",
      "scaffold7_cov100 2301 2303 50.000000\r\n",
      "scaffold7_cov100 17000 17002 100.000000\r\n",
      "scaffold7_cov100 17090 17092 100.000000\r\n",
      "scaffold7_cov100 24454 24456 100.000000\r\n",
      "scaffold7_cov100 24494 24496 87.500000\r\n",
      "scaffold7_cov100 24509 24511 100.000000\r\n",
      "scaffold7_cov100 24557 24559 100.000000\r\n",
      "scaffold7_cov100 61080 61082 57.142857\r\n",
      "scaffold7_cov100 69126 69128 80.000000\r\n",
      "\r\n",
      "==> Meth6_R1_001_val_1_bismark_bt2_pe._5x.bedgraph-Meth <==\r\n",
      "scaffold7_cov100 106242 106244 66.666667\r\n",
      "scaffold7_cov100 106251 106253 66.666667\r\n",
      "scaffold7_cov100 106254 106256 66.666667\r\n",
      "scaffold7_cov100 138357 138359 50.000000\r\n",
      "scaffold7_cov100 138372 138374 100.000000\r\n",
      "scaffold7_cov100 138390 138392 100.000000\r\n",
      "scaffold7_cov100 151631 151633 60.000000\r\n",
      "scaffold7_cov100 210167 210169 83.333333\r\n",
      "scaffold7_cov100 223257 223259 57.142857\r\n",
      "scaffold7_cov100 223265 223267 57.142857\r\n",
      "\r\n",
      "==> Meth7_R1_001_val_1_bismark_bt2_pe._5x.bedgraph-Meth <==\r\n",
      "scaffold3_cov83 118 120 60.000000\r\n",
      "scaffold3_cov83 137 139 50.000000\r\n",
      "scaffold3_cov83 261 263 69.444444\r\n",
      "scaffold3_cov83 475 477 72.727273\r\n",
      "scaffold3_cov83 484 486 64.705882\r\n",
      "scaffold3_cov83 504 506 83.333333\r\n",
      "scaffold7_cov100 5500 5502 70.000000\r\n",
      "scaffold7_cov100 5986 5988 73.333333\r\n",
      "scaffold7_cov100 6144 6146 96.666667\r\n",
      "scaffold7_cov100 6188 6190 93.181818\r\n",
      "\r\n",
      "==> Meth8_R1_001_val_1_bismark_bt2_pe._5x.bedgraph-Meth <==\r\n",
      "scaffold3_cov83 208 210 60.000000\r\n",
      "scaffold3_cov83 261 263 50.000000\r\n",
      "scaffold3_cov83 475 477 63.636364\r\n",
      "scaffold7_cov100 5986 5988 78.947368\r\n",
      "scaffold7_cov100 6144 6146 95.918367\r\n",
      "scaffold7_cov100 6188 6190 100.000000\r\n",
      "scaffold7_cov100 6198 6200 97.297297\r\n",
      "scaffold7_cov100 6233 6235 93.103448\r\n",
      "scaffold7_cov100 7696 7698 100.000000\r\n",
      "scaffold7_cov100 7796 7798 72.727273\r\n",
      "\r\n",
      "==> Meth9_R1_001_val_1_bismark_bt2_pe._5x.bedgraph-Meth <==\r\n",
      "scaffold7_cov100 5578 5580 66.666667\r\n",
      "scaffold7_cov100 5986 5988 79.166667\r\n",
      "scaffold7_cov100 6144 6146 96.296296\r\n",
      "scaffold7_cov100 6188 6190 92.592593\r\n",
      "scaffold7_cov100 6198 6200 94.339623\r\n",
      "scaffold7_cov100 6231 6233 95.555556\r\n",
      "scaffold7_cov100 6233 6235 97.619048\r\n",
      "scaffold7_cov100 7201 7203 80.000000\r\n",
      "scaffold7_cov100 7438 7440 100.000000\r\n",
      "scaffold7_cov100 7696 7698 91.304348\r\n"
     ]
    }
   ],
   "source": [
    "!head *Meth"
   ]
  },
  {
   "cell_type": "code",
   "execution_count": 47,
   "metadata": {
    "collapsed": false
   },
   "outputs": [
    {
     "name": "stdout",
     "output_type": "stream",
     "text": [
      "  110364 Meth1_R1_001_val_1_bismark_bt2_pe._5x.bedgraph-Meth\n",
      "  126440 Meth2_R1_001_val_1_bismark_bt2_pe._5x.bedgraph-Meth\n",
      "  124819 Meth3_R1_001_val_1_bismark_bt2_pe._5x.bedgraph-Meth\n",
      "   31047 Meth4_R1_001_val_1_bismark_bt2_pe._5x.bedgraph-Meth\n",
      "   30345 Meth5_R1_001_val_1_bismark_bt2_pe._5x.bedgraph-Meth\n",
      "   26617 Meth6_R1_001_val_1_bismark_bt2_pe._5x.bedgraph-Meth\n",
      "  258222 Meth7_R1_001_val_1_bismark_bt2_pe._5x.bedgraph-Meth\n",
      "  213342 Meth8_R1_001_val_1_bismark_bt2_pe._5x.bedgraph-Meth\n",
      "  255370 Meth9_R1_001_val_1_bismark_bt2_pe._5x.bedgraph-Meth\n",
      " 1176566 total\n"
     ]
    }
   ],
   "source": [
    "!wc -l *Meth"
   ]
  },
  {
   "cell_type": "code",
   "execution_count": 19,
   "metadata": {
    "collapsed": true
   },
   "outputs": [],
   "source": [
    "!wc -l *-Meth > Pact-5x-Meth-counts.txt"
   ]
  },
  {
   "cell_type": "markdown",
   "metadata": {},
   "source": [
    "##### Sparsely methylated loci"
   ]
  },
  {
   "cell_type": "code",
   "execution_count": 48,
   "metadata": {
    "collapsed": true
   },
   "outputs": [],
   "source": [
    "%%bash\n",
    "for f in *bedgraph\n",
    "do\n",
    "    awk '{if ($4 < 50) { print $1, $2, $3, $4}}' ${f} \\\n",
    "    | awk '{if ($4 > 10) { print $1, $2, $3, $4 }}' \\\n",
    "    > ${f}-sparseMeth\n",
    "done"
   ]
  },
  {
   "cell_type": "code",
   "execution_count": 49,
   "metadata": {
    "collapsed": false,
    "scrolled": true
   },
   "outputs": [
    {
     "name": "stdout",
     "output_type": "stream",
     "text": [
      "==> Meth1_R1_001_val_1_bismark_bt2_pe._5x.bedgraph-sparseMeth <==\r\n",
      "scaffold1_cov55 102 104 16.666667\r\n",
      "scaffold1_cov55 186 188 20.000000\r\n",
      "scaffold3_cov83 118 120 12.500000\r\n",
      "scaffold3_cov83 137 139 12.500000\r\n",
      "scaffold3_cov83 475 477 18.750000\r\n",
      "scaffold3_cov83 484 486 14.893617\r\n",
      "scaffold3_cov83 504 506 21.052632\r\n",
      "scaffold6_cov64 7373 7375 12.500000\r\n",
      "scaffold6_cov64 7983 7985 11.111111\r\n",
      "scaffold7_cov100 1293 1295 11.111111\r\n",
      "\r\n",
      "==> Meth2_R1_001_val_1_bismark_bt2_pe._5x.bedgraph-sparseMeth <==\r\n",
      "scaffold1_cov55 105 107 12.500000\r\n",
      "scaffold1_cov55 252 254 20.000000\r\n",
      "scaffold2_cov51 686 688 11.111111\r\n",
      "scaffold6_cov64 3978 3980 11.111111\r\n",
      "scaffold6_cov64 7077 7079 12.500000\r\n",
      "scaffold7_cov100 2652 2654 16.666667\r\n",
      "scaffold7_cov100 3994 3996 10.526316\r\n",
      "scaffold7_cov100 7121 7123 25.000000\r\n",
      "scaffold7_cov100 7201 7203 16.666667\r\n",
      "scaffold7_cov100 10755 10757 13.333333\r\n",
      "\r\n",
      "==> Meth3_R1_001_val_1_bismark_bt2_pe._5x.bedgraph-sparseMeth <==\r\n",
      "scaffold1_cov55 119 121 20.000000\r\n",
      "scaffold1_cov55 194 196 20.000000\r\n",
      "scaffold2_cov51 686 688 15.384615\r\n",
      "scaffold3_cov83 189 191 14.285714\r\n",
      "scaffold3_cov83 475 477 13.333333\r\n",
      "scaffold6_cov64 1725 1727 11.111111\r\n",
      "scaffold6_cov64 3533 3535 14.285714\r\n",
      "scaffold6_cov64 5904 5906 12.500000\r\n",
      "scaffold6_cov64 5992 5994 12.500000\r\n",
      "scaffold6_cov64 6732 6734 14.285714\r\n",
      "\r\n",
      "==> Meth4_R1_001_val_1_bismark_bt2_pe._5x.bedgraph-sparseMeth <==\r\n",
      "scaffold6_cov64 2676 2678 20.000000\r\n",
      "scaffold6_cov64 5904 5906 15.485564\r\n",
      "scaffold6_cov64 6732 6734 16.666667\r\n",
      "scaffold7_cov100 1618 1620 12.500000\r\n",
      "scaffold7_cov100 1628 1630 14.285714\r\n",
      "scaffold7_cov100 4351 4353 46.428571\r\n",
      "scaffold7_cov100 15408 15410 20.000000\r\n",
      "scaffold7_cov100 38369 38371 11.111111\r\n",
      "scaffold7_cov100 39365 39367 25.000000\r\n",
      "scaffold7_cov100 39367 39369 25.000000\r\n",
      "\r\n",
      "==> Meth5_R1_001_val_1_bismark_bt2_pe._5x.bedgraph-sparseMeth <==\r\n",
      "scaffold6_cov64 4553 4555 20.000000\r\n",
      "scaffold6_cov64 5545 5547 14.285714\r\n",
      "scaffold6_cov64 6374 6376 45.454545\r\n",
      "scaffold7_cov100 17074 17076 33.333333\r\n",
      "scaffold7_cov100 17098 17100 20.000000\r\n",
      "scaffold7_cov100 24443 24445 16.666667\r\n",
      "scaffold7_cov100 36543 36545 25.000000\r\n",
      "scaffold7_cov100 36600 36602 25.000000\r\n",
      "scaffold7_cov100 46343 46345 46.153846\r\n",
      "scaffold7_cov100 46428 46430 14.285714\r\n",
      "\r\n",
      "==> Meth6_R1_001_val_1_bismark_bt2_pe._5x.bedgraph-sparseMeth <==\r\n",
      "scaffold6_cov64 4553 4555 14.285714\r\n",
      "scaffold6_cov64 4588 4590 22.222222\r\n",
      "scaffold6_cov64 5604 5606 11.538462\r\n",
      "scaffold6_cov64 6266 6268 14.285714\r\n",
      "scaffold6_cov64 6374 6376 20.000000\r\n",
      "scaffold6_cov64 6687 6689 14.285714\r\n",
      "scaffold6_cov64 6704 6706 14.285714\r\n",
      "scaffold6_cov64 7373 7375 16.666667\r\n",
      "scaffold7_cov100 4351 4353 10.256410\r\n",
      "scaffold7_cov100 28086 28088 16.666667\r\n",
      "\r\n",
      "==> Meth7_R1_001_val_1_bismark_bt2_pe._5x.bedgraph-sparseMeth <==\r\n",
      "scaffold3_cov83 130 132 40.000000\r\n",
      "scaffold3_cov83 189 191 44.444444\r\n",
      "scaffold3_cov83 208 210 42.857143\r\n",
      "scaffold6_cov64 4146 4148 20.000000\r\n",
      "scaffold6_cov64 5561 5563 14.285714\r\n",
      "scaffold6_cov64 5644 5646 11.111111\r\n",
      "scaffold6_cov64 6805 6807 14.285714\r\n",
      "scaffold6_cov64 6880 6882 14.285714\r\n",
      "scaffold6_cov64 7609 7611 14.285714\r\n",
      "scaffold7_cov100 1422 1424 33.333333\r\n",
      "\r\n",
      "==> Meth8_R1_001_val_1_bismark_bt2_pe._5x.bedgraph-sparseMeth <==\r\n",
      "scaffold3_cov83 484 486 45.454545\r\n",
      "scaffold3_cov83 504 506 20.000000\r\n",
      "scaffold6_cov64 826 828 14.285714\r\n",
      "scaffold7_cov100 5500 5502 11.764706\r\n",
      "scaffold7_cov100 6231 6233 42.857143\r\n",
      "scaffold7_cov100 7438 7440 40.000000\r\n",
      "scaffold7_cov100 12131 12133 40.000000\r\n",
      "scaffold7_cov100 12247 12249 37.500000\r\n",
      "scaffold7_cov100 12861 12863 27.272727\r\n",
      "scaffold7_cov100 13385 13387 46.666667\r\n",
      "\r\n",
      "==> Meth9_R1_001_val_1_bismark_bt2_pe._5x.bedgraph-sparseMeth <==\r\n",
      "scaffold3_cov83 118 120 14.285714\r\n",
      "scaffold3_cov83 130 132 12.500000\r\n",
      "scaffold3_cov83 137 139 25.000000\r\n",
      "scaffold3_cov83 189 191 38.461538\r\n",
      "scaffold3_cov83 208 210 23.529412\r\n",
      "scaffold3_cov83 261 263 23.809524\r\n",
      "scaffold3_cov83 475 477 48.000000\r\n",
      "scaffold3_cov83 484 486 32.000000\r\n",
      "scaffold6_cov64 3435 3437 15.384615\r\n",
      "scaffold6_cov64 4146 4148 12.500000\r\n"
     ]
    }
   ],
   "source": [
    "!head *sparseMeth"
   ]
  },
  {
   "cell_type": "code",
   "execution_count": 50,
   "metadata": {
    "collapsed": false,
    "scrolled": false
   },
   "outputs": [
    {
     "name": "stdout",
     "output_type": "stream",
     "text": [
      "  367019 Meth1_R1_001_val_1_bismark_bt2_pe._5x.bedgraph-sparseMeth\n",
      "  345887 Meth2_R1_001_val_1_bismark_bt2_pe._5x.bedgraph-sparseMeth\n",
      "  385346 Meth3_R1_001_val_1_bismark_bt2_pe._5x.bedgraph-sparseMeth\n",
      "  137700 Meth4_R1_001_val_1_bismark_bt2_pe._5x.bedgraph-sparseMeth\n",
      "   64837 Meth5_R1_001_val_1_bismark_bt2_pe._5x.bedgraph-sparseMeth\n",
      "   89246 Meth6_R1_001_val_1_bismark_bt2_pe._5x.bedgraph-sparseMeth\n",
      "  296059 Meth7_R1_001_val_1_bismark_bt2_pe._5x.bedgraph-sparseMeth\n",
      "   80086 Meth8_R1_001_val_1_bismark_bt2_pe._5x.bedgraph-sparseMeth\n",
      "  337855 Meth9_R1_001_val_1_bismark_bt2_pe._5x.bedgraph-sparseMeth\n",
      " 2104035 total\n"
     ]
    }
   ],
   "source": [
    "!wc -l *sparseMeth"
   ]
  },
  {
   "cell_type": "code",
   "execution_count": 20,
   "metadata": {
    "collapsed": true
   },
   "outputs": [],
   "source": [
    "!wc -l *-sparseMeth > Pact-5x-sparseMeth-counts.txt"
   ]
  },
  {
   "cell_type": "markdown",
   "metadata": {},
   "source": [
    "##### Unmethylated loci"
   ]
  },
  {
   "cell_type": "code",
   "execution_count": 51,
   "metadata": {
    "collapsed": true
   },
   "outputs": [],
   "source": [
    "%%bash\n",
    "for f in *bedgraph\n",
    "do\n",
    "    awk '{if ($4 <= 10) { print $1, $2, $3, $4 }}' ${f} \\\n",
    "    > ${f}-unMeth\n",
    "done"
   ]
  },
  {
   "cell_type": "code",
   "execution_count": 52,
   "metadata": {
    "collapsed": false,
    "scrolled": true
   },
   "outputs": [
    {
     "name": "stdout",
     "output_type": "stream",
     "text": [
      "==> Meth1_R1_001_val_1_bismark_bt2_pe._5x.bedgraph-unMeth <==\n",
      "scaffold1_cov55 105 107 0.000000\n",
      "scaffold1_cov55 116 118 0.000000\n",
      "scaffold1_cov55 119 121 0.000000\n",
      "scaffold1_cov55 146 148 0.000000\n",
      "scaffold1_cov55 194 196 0.000000\n",
      "scaffold2_cov51 649 651 0.000000\n",
      "scaffold2_cov51 686 688 8.333333\n",
      "scaffold2_cov51 778 780 0.000000\n",
      "scaffold3_cov83 130 132 0.000000\n",
      "scaffold3_cov83 189 191 6.250000\n",
      "\n",
      "==> Meth2_R1_001_val_1_bismark_bt2_pe._5x.bedgraph-unMeth <==\n",
      "scaffold1_cov55 49 51 0.000000\n",
      "scaffold1_cov55 84 86 0.000000\n",
      "scaffold1_cov55 92 94 0.000000\n",
      "scaffold1_cov55 102 104 0.000000\n",
      "scaffold1_cov55 116 118 0.000000\n",
      "scaffold1_cov55 119 121 0.000000\n",
      "scaffold1_cov55 146 148 0.000000\n",
      "scaffold1_cov55 169 171 0.000000\n",
      "scaffold1_cov55 186 188 0.000000\n",
      "scaffold1_cov55 194 196 0.000000\n",
      "\n",
      "==> Meth3_R1_001_val_1_bismark_bt2_pe._5x.bedgraph-unMeth <==\n",
      "scaffold1_cov55 250 252 0.000000\n",
      "scaffold2_cov51 649 651 0.000000\n",
      "scaffold2_cov51 778 780 0.000000\n",
      "scaffold3_cov83 118 120 0.000000\n",
      "scaffold3_cov83 130 132 0.000000\n",
      "scaffold3_cov83 137 139 0.000000\n",
      "scaffold3_cov83 208 210 5.128205\n",
      "scaffold3_cov83 243 245 2.272727\n",
      "scaffold3_cov83 261 263 6.666667\n",
      "scaffold3_cov83 484 486 4.444444\n",
      "\n",
      "==> Meth4_R1_001_val_1_bismark_bt2_pe._5x.bedgraph-unMeth <==\n",
      "scaffold6_cov64 2536 2538 0.000000\n",
      "scaffold6_cov64 2584 2586 0.000000\n",
      "scaffold6_cov64 4588 4590 0.000000\n",
      "scaffold6_cov64 5101 5103 0.000000\n",
      "scaffold6_cov64 5309 5311 0.000000\n",
      "scaffold6_cov64 5456 5458 0.000000\n",
      "scaffold6_cov64 5486 5488 0.000000\n",
      "scaffold6_cov64 5545 5547 0.000000\n",
      "scaffold6_cov64 5559 5561 0.000000\n",
      "scaffold6_cov64 5561 5563 2.941176\n",
      "\n",
      "==> Meth5_R1_001_val_1_bismark_bt2_pe._5x.bedgraph-unMeth <==\n",
      "scaffold6_cov64 2584 2586 0.000000\n",
      "scaffold6_cov64 2682 2684 0.000000\n",
      "scaffold6_cov64 4588 4590 0.000000\n",
      "scaffold6_cov64 5559 5561 7.692308\n",
      "scaffold6_cov64 5561 5563 7.142857\n",
      "scaffold6_cov64 5567 5569 0.000000\n",
      "scaffold6_cov64 5574 5576 5.263158\n",
      "scaffold6_cov64 5581 5583 0.000000\n",
      "scaffold6_cov64 5583 5585 0.000000\n",
      "scaffold6_cov64 5592 5594 0.000000\n",
      "\n",
      "==> Meth6_R1_001_val_1_bismark_bt2_pe._5x.bedgraph-unMeth <==\n",
      "scaffold6_cov64 5456 5458 0.000000\n",
      "scaffold6_cov64 5486 5488 0.000000\n",
      "scaffold6_cov64 5545 5547 0.000000\n",
      "scaffold6_cov64 5559 5561 4.166667\n",
      "scaffold6_cov64 5561 5563 0.000000\n",
      "scaffold6_cov64 5567 5569 0.000000\n",
      "scaffold6_cov64 5574 5576 0.000000\n",
      "scaffold6_cov64 5581 5583 8.333333\n",
      "scaffold6_cov64 5583 5585 0.000000\n",
      "scaffold6_cov64 5592 5594 0.000000\n",
      "\n",
      "==> Meth7_R1_001_val_1_bismark_bt2_pe._5x.bedgraph-unMeth <==\n",
      "scaffold2_cov51 649 651 0.000000\n",
      "scaffold2_cov51 686 688 0.000000\n",
      "scaffold2_cov51 778 780 0.000000\n",
      "scaffold3_cov83 243 245 0.000000\n",
      "scaffold6_cov64 290 292 0.000000\n",
      "scaffold6_cov64 298 300 0.000000\n",
      "scaffold6_cov64 489 491 0.000000\n",
      "scaffold6_cov64 2179 2181 0.000000\n",
      "scaffold6_cov64 2872 2874 0.000000\n",
      "scaffold6_cov64 2876 2878 0.000000\n",
      "\n",
      "==> Meth8_R1_001_val_1_bismark_bt2_pe._5x.bedgraph-unMeth <==\n",
      "scaffold3_cov83 243 245 0.000000\n",
      "scaffold6_cov64 290 292 0.000000\n",
      "scaffold6_cov64 298 300 0.000000\n",
      "scaffold6_cov64 5101 5103 0.000000\n",
      "scaffold6_cov64 5545 5547 0.000000\n",
      "scaffold6_cov64 5559 5561 0.000000\n",
      "scaffold6_cov64 5561 5563 0.000000\n",
      "scaffold6_cov64 5567 5569 0.000000\n",
      "scaffold6_cov64 5574 5576 0.000000\n",
      "scaffold6_cov64 5581 5583 0.000000\n",
      "\n",
      "==> Meth9_R1_001_val_1_bismark_bt2_pe._5x.bedgraph-unMeth <==\n",
      "scaffold3_cov83 243 245 0.000000\n",
      "scaffold6_cov64 290 292 0.000000\n",
      "scaffold6_cov64 298 300 0.000000\n",
      "scaffold6_cov64 489 491 0.000000\n",
      "scaffold6_cov64 826 828 0.000000\n",
      "scaffold6_cov64 2097 2099 0.000000\n",
      "scaffold6_cov64 2179 2181 0.000000\n",
      "scaffold6_cov64 2805 2807 0.000000\n",
      "scaffold6_cov64 3198 3200 0.000000\n",
      "scaffold6_cov64 3343 3345 0.000000\n"
     ]
    }
   ],
   "source": [
    "!head *unMeth"
   ]
  },
  {
   "cell_type": "code",
   "execution_count": 53,
   "metadata": {
    "collapsed": false,
    "scrolled": true
   },
   "outputs": [
    {
     "name": "stdout",
     "output_type": "stream",
     "text": [
      " 5068668 Meth1_R1_001_val_1_bismark_bt2_pe._5x.bedgraph-unMeth\n",
      " 5886395 Meth2_R1_001_val_1_bismark_bt2_pe._5x.bedgraph-unMeth\n",
      " 5356621 Meth3_R1_001_val_1_bismark_bt2_pe._5x.bedgraph-unMeth\n",
      " 1666814 Meth4_R1_001_val_1_bismark_bt2_pe._5x.bedgraph-unMeth\n",
      " 1356047 Meth5_R1_001_val_1_bismark_bt2_pe._5x.bedgraph-unMeth\n",
      " 1401495 Meth6_R1_001_val_1_bismark_bt2_pe._5x.bedgraph-unMeth\n",
      " 2086344 Meth7_R1_001_val_1_bismark_bt2_pe._5x.bedgraph-unMeth\n",
      "  245580 Meth8_R1_001_val_1_bismark_bt2_pe._5x.bedgraph-unMeth\n",
      " 2139382 Meth9_R1_001_val_1_bismark_bt2_pe._5x.bedgraph-unMeth\n",
      " 25207346 total\n"
     ]
    }
   ],
   "source": [
    "!wc -l *unMeth"
   ]
  },
  {
   "cell_type": "code",
   "execution_count": 21,
   "metadata": {
    "collapsed": true
   },
   "outputs": [],
   "source": [
    "!wc -l *-unMeth > Pact-5x-unMeth-counts.txt"
   ]
  },
  {
   "cell_type": "markdown",
   "metadata": {},
   "source": [
    "### 4. Characterize genomic locations of CpGs"
   ]
  },
  {
   "cell_type": "markdown",
   "metadata": {},
   "source": [
    "#### 4a. Create BEDfiles"
   ]
  },
  {
   "cell_type": "code",
   "execution_count": 54,
   "metadata": {
    "collapsed": false,
    "scrolled": true
   },
   "outputs": [
    {
     "name": "stdout",
     "output_type": "stream",
     "text": [
      " 5546051 Meth1_R1_001_val_1_bismark_bt2_pe._5x.bedgraph.bed\n",
      " 6358722 Meth2_R1_001_val_1_bismark_bt2_pe._5x.bedgraph.bed\n",
      " 5866786 Meth3_R1_001_val_1_bismark_bt2_pe._5x.bedgraph.bed\n",
      " 1835561 Meth4_R1_001_val_1_bismark_bt2_pe._5x.bedgraph.bed\n",
      " 1451229 Meth5_R1_001_val_1_bismark_bt2_pe._5x.bedgraph.bed\n",
      " 1517358 Meth6_R1_001_val_1_bismark_bt2_pe._5x.bedgraph.bed\n",
      " 2640625 Meth7_R1_001_val_1_bismark_bt2_pe._5x.bedgraph.bed\n",
      "  539008 Meth8_R1_001_val_1_bismark_bt2_pe._5x.bedgraph.bed\n",
      " 2732607 Meth9_R1_001_val_1_bismark_bt2_pe._5x.bedgraph.bed\n"
     ]
    }
   ],
   "source": [
    "%%bash\n",
    "\n",
    "for f in *bedgraph\n",
    "do\n",
    "    awk '{print $1\"\\t\"$2\"\\t\"$3}' ${f} > ${f}.bed\n",
    "    wc -l ${f}.bed\n",
    "done"
   ]
  },
  {
   "cell_type": "code",
   "execution_count": 55,
   "metadata": {
    "collapsed": false
   },
   "outputs": [
    {
     "name": "stdout",
     "output_type": "stream",
     "text": [
      "  110364 Meth1_R1_001_val_1_bismark_bt2_pe._5x.bedgraph-Meth.bed\n",
      "  126440 Meth2_R1_001_val_1_bismark_bt2_pe._5x.bedgraph-Meth.bed\n",
      "  124819 Meth3_R1_001_val_1_bismark_bt2_pe._5x.bedgraph-Meth.bed\n",
      "   31047 Meth4_R1_001_val_1_bismark_bt2_pe._5x.bedgraph-Meth.bed\n",
      "   30345 Meth5_R1_001_val_1_bismark_bt2_pe._5x.bedgraph-Meth.bed\n",
      "   26617 Meth6_R1_001_val_1_bismark_bt2_pe._5x.bedgraph-Meth.bed\n",
      "  258222 Meth7_R1_001_val_1_bismark_bt2_pe._5x.bedgraph-Meth.bed\n",
      "  213342 Meth8_R1_001_val_1_bismark_bt2_pe._5x.bedgraph-Meth.bed\n",
      "  255370 Meth9_R1_001_val_1_bismark_bt2_pe._5x.bedgraph-Meth.bed\n"
     ]
    }
   ],
   "source": [
    "%%bash\n",
    "\n",
    "for f in *bedgraph-Meth\n",
    "do\n",
    "    awk '{print $1\"\\t\"$2\"\\t\"$3}' ${f} > ${f}.bed\n",
    "    wc -l ${f}.bed\n",
    "done"
   ]
  },
  {
   "cell_type": "code",
   "execution_count": 56,
   "metadata": {
    "collapsed": false
   },
   "outputs": [
    {
     "name": "stdout",
     "output_type": "stream",
     "text": [
      "  367019 Meth1_R1_001_val_1_bismark_bt2_pe._5x.bedgraph-sparseMeth.bed\n",
      "  345887 Meth2_R1_001_val_1_bismark_bt2_pe._5x.bedgraph-sparseMeth.bed\n",
      "  385346 Meth3_R1_001_val_1_bismark_bt2_pe._5x.bedgraph-sparseMeth.bed\n",
      "  137700 Meth4_R1_001_val_1_bismark_bt2_pe._5x.bedgraph-sparseMeth.bed\n",
      "   64837 Meth5_R1_001_val_1_bismark_bt2_pe._5x.bedgraph-sparseMeth.bed\n",
      "   89246 Meth6_R1_001_val_1_bismark_bt2_pe._5x.bedgraph-sparseMeth.bed\n",
      "  296059 Meth7_R1_001_val_1_bismark_bt2_pe._5x.bedgraph-sparseMeth.bed\n",
      "   80086 Meth8_R1_001_val_1_bismark_bt2_pe._5x.bedgraph-sparseMeth.bed\n",
      "  337855 Meth9_R1_001_val_1_bismark_bt2_pe._5x.bedgraph-sparseMeth.bed\n"
     ]
    }
   ],
   "source": [
    "%%bash\n",
    "\n",
    "for f in *bedgraph-sparseMeth\n",
    "do\n",
    "    awk '{print $1\"\\t\"$2\"\\t\"$3}' ${f} > ${f}.bed\n",
    "    wc -l ${f}.bed\n",
    "done"
   ]
  },
  {
   "cell_type": "code",
   "execution_count": 57,
   "metadata": {
    "collapsed": false
   },
   "outputs": [
    {
     "name": "stdout",
     "output_type": "stream",
     "text": [
      " 5068668 Meth1_R1_001_val_1_bismark_bt2_pe._5x.bedgraph-unMeth.bed\n",
      " 5886395 Meth2_R1_001_val_1_bismark_bt2_pe._5x.bedgraph-unMeth.bed\n",
      " 5356621 Meth3_R1_001_val_1_bismark_bt2_pe._5x.bedgraph-unMeth.bed\n",
      " 1666814 Meth4_R1_001_val_1_bismark_bt2_pe._5x.bedgraph-unMeth.bed\n",
      " 1356047 Meth5_R1_001_val_1_bismark_bt2_pe._5x.bedgraph-unMeth.bed\n",
      " 1401495 Meth6_R1_001_val_1_bismark_bt2_pe._5x.bedgraph-unMeth.bed\n",
      " 2086344 Meth7_R1_001_val_1_bismark_bt2_pe._5x.bedgraph-unMeth.bed\n",
      "  245580 Meth8_R1_001_val_1_bismark_bt2_pe._5x.bedgraph-unMeth.bed\n",
      " 2139382 Meth9_R1_001_val_1_bismark_bt2_pe._5x.bedgraph-unMeth.bed\n"
     ]
    }
   ],
   "source": [
    "%%bash\n",
    "\n",
    "for f in *bedgraph-unMeth\n",
    "do\n",
    "    awk '{print $1\"\\t\"$2\"\\t\"$3}' ${f} > ${f}.bed\n",
    "    wc -l ${f}.bed\n",
    "done"
   ]
  },
  {
   "cell_type": "code",
   "execution_count": 58,
   "metadata": {
    "collapsed": false,
    "scrolled": true
   },
   "outputs": [
    {
     "name": "stdout",
     "output_type": "stream",
     "text": [
      "Meth1_R1_001_val_1_bismark_bt2_pe._5x.bedgraph-Meth.bed\r\n",
      "Meth1_R1_001_val_1_bismark_bt2_pe._5x.bedgraph-sparseMeth.bed\r\n",
      "Meth1_R1_001_val_1_bismark_bt2_pe._5x.bedgraph-unMeth.bed\r\n",
      "Meth1_R1_001_val_1_bismark_bt2_pe._5x.bedgraph.bed\r\n",
      "Meth2_R1_001_val_1_bismark_bt2_pe._5x.bedgraph-Meth.bed\r\n",
      "Meth2_R1_001_val_1_bismark_bt2_pe._5x.bedgraph-sparseMeth.bed\r\n",
      "Meth2_R1_001_val_1_bismark_bt2_pe._5x.bedgraph-unMeth.bed\r\n",
      "Meth2_R1_001_val_1_bismark_bt2_pe._5x.bedgraph.bed\r\n",
      "Meth3_R1_001_val_1_bismark_bt2_pe._5x.bedgraph-Meth.bed\r\n",
      "Meth3_R1_001_val_1_bismark_bt2_pe._5x.bedgraph-sparseMeth.bed\r\n",
      "Meth3_R1_001_val_1_bismark_bt2_pe._5x.bedgraph-unMeth.bed\r\n",
      "Meth3_R1_001_val_1_bismark_bt2_pe._5x.bedgraph.bed\r\n",
      "Meth4_R1_001_val_1_bismark_bt2_pe._5x.bedgraph-Meth.bed\r\n",
      "Meth4_R1_001_val_1_bismark_bt2_pe._5x.bedgraph-sparseMeth.bed\r\n",
      "Meth4_R1_001_val_1_bismark_bt2_pe._5x.bedgraph-unMeth.bed\r\n",
      "Meth4_R1_001_val_1_bismark_bt2_pe._5x.bedgraph.bed\r\n",
      "Meth5_R1_001_val_1_bismark_bt2_pe._5x.bedgraph-Meth.bed\r\n",
      "Meth5_R1_001_val_1_bismark_bt2_pe._5x.bedgraph-sparseMeth.bed\r\n",
      "Meth5_R1_001_val_1_bismark_bt2_pe._5x.bedgraph-unMeth.bed\r\n",
      "Meth5_R1_001_val_1_bismark_bt2_pe._5x.bedgraph.bed\r\n",
      "Meth6_R1_001_val_1_bismark_bt2_pe._5x.bedgraph-Meth.bed\r\n",
      "Meth6_R1_001_val_1_bismark_bt2_pe._5x.bedgraph-sparseMeth.bed\r\n",
      "Meth6_R1_001_val_1_bismark_bt2_pe._5x.bedgraph-unMeth.bed\r\n",
      "Meth6_R1_001_val_1_bismark_bt2_pe._5x.bedgraph.bed\r\n",
      "Meth7_R1_001_val_1_bismark_bt2_pe._5x.bedgraph-Meth.bed\r\n",
      "Meth7_R1_001_val_1_bismark_bt2_pe._5x.bedgraph-sparseMeth.bed\r\n",
      "Meth7_R1_001_val_1_bismark_bt2_pe._5x.bedgraph-unMeth.bed\r\n",
      "Meth7_R1_001_val_1_bismark_bt2_pe._5x.bedgraph.bed\r\n",
      "Meth8_R1_001_val_1_bismark_bt2_pe._5x.bedgraph-Meth.bed\r\n",
      "Meth8_R1_001_val_1_bismark_bt2_pe._5x.bedgraph-sparseMeth.bed\r\n",
      "Meth8_R1_001_val_1_bismark_bt2_pe._5x.bedgraph-unMeth.bed\r\n",
      "Meth8_R1_001_val_1_bismark_bt2_pe._5x.bedgraph.bed\r\n",
      "Meth9_R1_001_val_1_bismark_bt2_pe._5x.bedgraph-Meth.bed\r\n",
      "Meth9_R1_001_val_1_bismark_bt2_pe._5x.bedgraph-sparseMeth.bed\r\n",
      "Meth9_R1_001_val_1_bismark_bt2_pe._5x.bedgraph-unMeth.bed\r\n",
      "Meth9_R1_001_val_1_bismark_bt2_pe._5x.bedgraph.bed\r\n"
     ]
    }
   ],
   "source": [
    "#Confirm BEDfile creation\n",
    "!find *.bed"
   ]
  },
  {
   "cell_type": "code",
   "execution_count": 60,
   "metadata": {
    "collapsed": false,
    "scrolled": false
   },
   "outputs": [
    {
     "name": "stdout",
     "output_type": "stream",
     "text": [
      "scaffold1_cov55\t102\t104\r\n",
      "scaffold1_cov55\t105\t107\r\n",
      "scaffold1_cov55\t116\t118\r\n",
      "scaffold1_cov55\t119\t121\r\n",
      "scaffold1_cov55\t146\t148\r\n",
      "scaffold1_cov55\t186\t188\r\n",
      "scaffold1_cov55\t194\t196\r\n",
      "scaffold2_cov51\t649\t651\r\n",
      "scaffold2_cov51\t686\t688\r\n",
      "scaffold2_cov51\t778\t780\r\n"
     ]
    }
   ],
   "source": [
    "#Confirm file creation\n",
    "!head Meth1_R1_001_val_1_bismark_bt2_pe._5x.bedgraph.bed"
   ]
  },
  {
   "cell_type": "markdown",
   "metadata": {},
   "source": [
    "#### 4b. Genes"
   ]
  },
  {
   "cell_type": "code",
   "execution_count": 57,
   "metadata": {
    "collapsed": true,
    "scrolled": true
   },
   "outputs": [],
   "source": [
    "%%bash\n",
    "\n",
    "for f in *bed\n",
    "do\n",
    "  /usr/local/bin/intersectBed \\\n",
    "  -wb \\\n",
    "  -a ${f} \\\n",
    "  -b ../../../genome-feature-files/Pact.GFFannotation.Genes.gff \\\n",
    "  > ${f}-paGenes\n",
    "done"
   ]
  },
  {
   "cell_type": "code",
   "execution_count": 58,
   "metadata": {
    "collapsed": false
   },
   "outputs": [
    {
     "name": "stdout",
     "output_type": "stream",
     "text": [
      "==> Meth1_R1_001_val_1_bismark_bt2_pe._5x.bedgraph-Meth.bed-paGenes <==\n",
      "scaffold7_cov100\t4351\t4353\tscaffold7_cov100\tAUGUSTUS\tgene\t3467\t6217\t0.78\t-\t.\tg4\n",
      "scaffold7_cov100\t5500\t5502\tscaffold7_cov100\tAUGUSTUS\tgene\t3467\t6217\t0.78\t-\t.\tg4\n",
      "scaffold7_cov100\t5578\t5580\tscaffold7_cov100\tAUGUSTUS\tgene\t3467\t6217\t0.78\t-\t.\tg4\n",
      "scaffold7_cov100\t5986\t5988\tscaffold7_cov100\tAUGUSTUS\tgene\t3467\t6217\t0.78\t-\t.\tg4\n",
      "scaffold7_cov100\t6144\t6146\tscaffold7_cov100\tAUGUSTUS\tgene\t3467\t6217\t0.78\t-\t.\tg4\n",
      "scaffold7_cov100\t6188\t6190\tscaffold7_cov100\tAUGUSTUS\tgene\t3467\t6217\t0.78\t-\t.\tg4\n",
      "scaffold7_cov100\t6198\t6200\tscaffold7_cov100\tAUGUSTUS\tgene\t3467\t6217\t0.78\t-\t.\tg4\n",
      "scaffold7_cov100\t7438\t7440\tscaffold7_cov100\tAUGUSTUS\tgene\t7069\t9073\t1\t-\t.\tg5\n",
      "scaffold7_cov100\t7696\t7698\tscaffold7_cov100\tAUGUSTUS\tgene\t7069\t9073\t1\t-\t.\tg5\n",
      "scaffold7_cov100\t7796\t7798\tscaffold7_cov100\tAUGUSTUS\tgene\t7069\t9073\t1\t-\t.\tg5\n",
      "\n",
      "==> Meth1_R1_001_val_1_bismark_bt2_pe._5x.bedgraph-sparseMeth.bed-paGenes <==\n",
      "scaffold7_cov100\t1293\t1295\tscaffold7_cov100\tAUGUSTUS\tgene\t1\t2566\t0.96\t+\t.\tg3\n",
      "scaffold7_cov100\t2173\t2175\tscaffold7_cov100\tAUGUSTUS\tgene\t1\t2566\t0.96\t+\t.\tg3\n",
      "scaffold7_cov100\t2289\t2291\tscaffold7_cov100\tAUGUSTUS\tgene\t1\t2566\t0.96\t+\t.\tg3\n",
      "scaffold7_cov100\t3713\t3715\tscaffold7_cov100\tAUGUSTUS\tgene\t3467\t6217\t0.78\t-\t.\tg4\n",
      "scaffold7_cov100\t3870\t3872\tscaffold7_cov100\tAUGUSTUS\tgene\t3467\t6217\t0.78\t-\t.\tg4\n",
      "scaffold7_cov100\t4481\t4483\tscaffold7_cov100\tAUGUSTUS\tgene\t3467\t6217\t0.78\t-\t.\tg4\n",
      "scaffold7_cov100\t4596\t4598\tscaffold7_cov100\tAUGUSTUS\tgene\t3467\t6217\t0.78\t-\t.\tg4\n",
      "scaffold7_cov100\t9715\t9717\tscaffold7_cov100\tAUGUSTUS\tgene\t9590\t11670\t0.8\t-\t.\tg6\n",
      "scaffold7_cov100\t11439\t11441\tscaffold7_cov100\tAUGUSTUS\tgene\t9590\t11670\t0.8\t-\t.\tg6\n",
      "scaffold7_cov100\t13441\t13443\tscaffold7_cov100\tAUGUSTUS\tgene\t13339\t15463\t0.92\t-\t.\tg7\n",
      "\n",
      "==> Meth1_R1_001_val_1_bismark_bt2_pe._5x.bedgraph-unMeth.bed-paGenes <==\n",
      "scaffold6_cov64\t167\t169\tscaffold6_cov64\tAUGUSTUS\tgene\t1\t5652\t0.46\t-\t.\tg1\n",
      "scaffold6_cov64\t290\t292\tscaffold6_cov64\tAUGUSTUS\tgene\t1\t5652\t0.46\t-\t.\tg1\n",
      "scaffold6_cov64\t298\t300\tscaffold6_cov64\tAUGUSTUS\tgene\t1\t5652\t0.46\t-\t.\tg1\n",
      "scaffold6_cov64\t489\t491\tscaffold6_cov64\tAUGUSTUS\tgene\t1\t5652\t0.46\t-\t.\tg1\n",
      "scaffold6_cov64\t826\t828\tscaffold6_cov64\tAUGUSTUS\tgene\t1\t5652\t0.46\t-\t.\tg1\n",
      "scaffold6_cov64\t1539\t1541\tscaffold6_cov64\tAUGUSTUS\tgene\t1\t5652\t0.46\t-\t.\tg1\n",
      "scaffold6_cov64\t1725\t1727\tscaffold6_cov64\tAUGUSTUS\tgene\t1\t5652\t0.46\t-\t.\tg1\n",
      "scaffold6_cov64\t2097\t2099\tscaffold6_cov64\tAUGUSTUS\tgene\t1\t5652\t0.46\t-\t.\tg1\n",
      "scaffold6_cov64\t2179\t2181\tscaffold6_cov64\tAUGUSTUS\tgene\t1\t5652\t0.46\t-\t.\tg1\n",
      "scaffold6_cov64\t2253\t2255\tscaffold6_cov64\tAUGUSTUS\tgene\t1\t5652\t0.46\t-\t.\tg1\n",
      "\n",
      "==> Meth1_R1_001_val_1_bismark_bt2_pe._5x.bedgraph.bed-paGenes <==\n",
      "scaffold6_cov64\t167\t169\tscaffold6_cov64\tAUGUSTUS\tgene\t1\t5652\t0.46\t-\t.\tg1\n",
      "scaffold6_cov64\t290\t292\tscaffold6_cov64\tAUGUSTUS\tgene\t1\t5652\t0.46\t-\t.\tg1\n",
      "scaffold6_cov64\t298\t300\tscaffold6_cov64\tAUGUSTUS\tgene\t1\t5652\t0.46\t-\t.\tg1\n",
      "scaffold6_cov64\t489\t491\tscaffold6_cov64\tAUGUSTUS\tgene\t1\t5652\t0.46\t-\t.\tg1\n",
      "scaffold6_cov64\t826\t828\tscaffold6_cov64\tAUGUSTUS\tgene\t1\t5652\t0.46\t-\t.\tg1\n",
      "scaffold6_cov64\t1539\t1541\tscaffold6_cov64\tAUGUSTUS\tgene\t1\t5652\t0.46\t-\t.\tg1\n",
      "scaffold6_cov64\t1725\t1727\tscaffold6_cov64\tAUGUSTUS\tgene\t1\t5652\t0.46\t-\t.\tg1\n",
      "scaffold6_cov64\t2097\t2099\tscaffold6_cov64\tAUGUSTUS\tgene\t1\t5652\t0.46\t-\t.\tg1\n",
      "scaffold6_cov64\t2179\t2181\tscaffold6_cov64\tAUGUSTUS\tgene\t1\t5652\t0.46\t-\t.\tg1\n",
      "scaffold6_cov64\t2253\t2255\tscaffold6_cov64\tAUGUSTUS\tgene\t1\t5652\t0.46\t-\t.\tg1\n",
      "\n",
      "==> Meth2_R1_001_val_1_bismark_bt2_pe._5x.bedgraph-Meth.bed-paGenes <==\n",
      "scaffold7_cov100\t5500\t5502\tscaffold7_cov100\tAUGUSTUS\tgene\t3467\t6217\t0.78\t-\t.\tg4\n",
      "scaffold7_cov100\t5986\t5988\tscaffold7_cov100\tAUGUSTUS\tgene\t3467\t6217\t0.78\t-\t.\tg4\n",
      "scaffold7_cov100\t6144\t6146\tscaffold7_cov100\tAUGUSTUS\tgene\t3467\t6217\t0.78\t-\t.\tg4\n",
      "scaffold7_cov100\t6188\t6190\tscaffold7_cov100\tAUGUSTUS\tgene\t3467\t6217\t0.78\t-\t.\tg4\n",
      "scaffold7_cov100\t6198\t6200\tscaffold7_cov100\tAUGUSTUS\tgene\t3467\t6217\t0.78\t-\t.\tg4\n",
      "scaffold7_cov100\t7438\t7440\tscaffold7_cov100\tAUGUSTUS\tgene\t7069\t9073\t1\t-\t.\tg5\n",
      "scaffold7_cov100\t7696\t7698\tscaffold7_cov100\tAUGUSTUS\tgene\t7069\t9073\t1\t-\t.\tg5\n",
      "scaffold7_cov100\t7796\t7798\tscaffold7_cov100\tAUGUSTUS\tgene\t7069\t9073\t1\t-\t.\tg5\n",
      "scaffold7_cov100\t7891\t7893\tscaffold7_cov100\tAUGUSTUS\tgene\t7069\t9073\t1\t-\t.\tg5\n",
      "scaffold7_cov100\t9877\t9879\tscaffold7_cov100\tAUGUSTUS\tgene\t9590\t11670\t0.8\t-\t.\tg6\n",
      "\n",
      "==> Meth2_R1_001_val_1_bismark_bt2_pe._5x.bedgraph-sparseMeth.bed-paGenes <==\n",
      "scaffold6_cov64\t3978\t3980\tscaffold6_cov64\tAUGUSTUS\tgene\t1\t5652\t0.46\t-\t.\tg1\n",
      "scaffold7_cov100\t3994\t3996\tscaffold7_cov100\tAUGUSTUS\tgene\t3467\t6217\t0.78\t-\t.\tg4\n",
      "scaffold7_cov100\t7121\t7123\tscaffold7_cov100\tAUGUSTUS\tgene\t7069\t9073\t1\t-\t.\tg5\n",
      "scaffold7_cov100\t7201\t7203\tscaffold7_cov100\tAUGUSTUS\tgene\t7069\t9073\t1\t-\t.\tg5\n",
      "scaffold7_cov100\t10755\t10757\tscaffold7_cov100\tAUGUSTUS\tgene\t9590\t11670\t0.8\t-\t.\tg6\n",
      "scaffold7_cov100\t11439\t11441\tscaffold7_cov100\tAUGUSTUS\tgene\t9590\t11670\t0.8\t-\t.\tg6\n",
      "scaffold7_cov100\t13385\t13387\tscaffold7_cov100\tAUGUSTUS\tgene\t13339\t15463\t0.92\t-\t.\tg7\n",
      "scaffold7_cov100\t15312\t15314\tscaffold7_cov100\tAUGUSTUS\tgene\t13339\t15463\t0.92\t-\t.\tg7\n",
      "scaffold7_cov100\t15455\t15457\tscaffold7_cov100\tAUGUSTUS\tgene\t13339\t15463\t0.92\t-\t.\tg7\n",
      "scaffold7_cov100\t16874\t16876\tscaffold7_cov100\tAUGUSTUS\tgene\t15738\t18320\t0.96\t+\t.\tg8\n",
      "\n",
      "==> Meth2_R1_001_val_1_bismark_bt2_pe._5x.bedgraph-unMeth.bed-paGenes <==\n",
      "scaffold6_cov64\t167\t169\tscaffold6_cov64\tAUGUSTUS\tgene\t1\t5652\t0.46\t-\t.\tg1\n",
      "scaffold6_cov64\t290\t292\tscaffold6_cov64\tAUGUSTUS\tgene\t1\t5652\t0.46\t-\t.\tg1\n",
      "scaffold6_cov64\t298\t300\tscaffold6_cov64\tAUGUSTUS\tgene\t1\t5652\t0.46\t-\t.\tg1\n",
      "scaffold6_cov64\t489\t491\tscaffold6_cov64\tAUGUSTUS\tgene\t1\t5652\t0.46\t-\t.\tg1\n",
      "scaffold6_cov64\t826\t828\tscaffold6_cov64\tAUGUSTUS\tgene\t1\t5652\t0.46\t-\t.\tg1\n",
      "scaffold6_cov64\t1539\t1541\tscaffold6_cov64\tAUGUSTUS\tgene\t1\t5652\t0.46\t-\t.\tg1\n",
      "scaffold6_cov64\t1725\t1727\tscaffold6_cov64\tAUGUSTUS\tgene\t1\t5652\t0.46\t-\t.\tg1\n",
      "scaffold6_cov64\t2097\t2099\tscaffold6_cov64\tAUGUSTUS\tgene\t1\t5652\t0.46\t-\t.\tg1\n",
      "scaffold6_cov64\t2179\t2181\tscaffold6_cov64\tAUGUSTUS\tgene\t1\t5652\t0.46\t-\t.\tg1\n",
      "scaffold6_cov64\t2253\t2255\tscaffold6_cov64\tAUGUSTUS\tgene\t1\t5652\t0.46\t-\t.\tg1\n",
      "\n",
      "==> Meth2_R1_001_val_1_bismark_bt2_pe._5x.bedgraph.bed-paGenes <==\n",
      "scaffold6_cov64\t167\t169\tscaffold6_cov64\tAUGUSTUS\tgene\t1\t5652\t0.46\t-\t.\tg1\n",
      "scaffold6_cov64\t290\t292\tscaffold6_cov64\tAUGUSTUS\tgene\t1\t5652\t0.46\t-\t.\tg1\n",
      "scaffold6_cov64\t298\t300\tscaffold6_cov64\tAUGUSTUS\tgene\t1\t5652\t0.46\t-\t.\tg1\n",
      "scaffold6_cov64\t489\t491\tscaffold6_cov64\tAUGUSTUS\tgene\t1\t5652\t0.46\t-\t.\tg1\n",
      "scaffold6_cov64\t826\t828\tscaffold6_cov64\tAUGUSTUS\tgene\t1\t5652\t0.46\t-\t.\tg1\n",
      "scaffold6_cov64\t1539\t1541\tscaffold6_cov64\tAUGUSTUS\tgene\t1\t5652\t0.46\t-\t.\tg1\n",
      "scaffold6_cov64\t1725\t1727\tscaffold6_cov64\tAUGUSTUS\tgene\t1\t5652\t0.46\t-\t.\tg1\n",
      "scaffold6_cov64\t2097\t2099\tscaffold6_cov64\tAUGUSTUS\tgene\t1\t5652\t0.46\t-\t.\tg1\n",
      "scaffold6_cov64\t2179\t2181\tscaffold6_cov64\tAUGUSTUS\tgene\t1\t5652\t0.46\t-\t.\tg1\n",
      "scaffold6_cov64\t2253\t2255\tscaffold6_cov64\tAUGUSTUS\tgene\t1\t5652\t0.46\t-\t.\tg1\n",
      "\n",
      "==> Meth3_R1_001_val_1_bismark_bt2_pe._5x.bedgraph-Meth.bed-paGenes <==\n",
      "scaffold7_cov100\t5500\t5502\tscaffold7_cov100\tAUGUSTUS\tgene\t3467\t6217\t0.78\t-\t.\tg4\n",
      "scaffold7_cov100\t5578\t5580\tscaffold7_cov100\tAUGUSTUS\tgene\t3467\t6217\t0.78\t-\t.\tg4\n",
      "scaffold7_cov100\t5986\t5988\tscaffold7_cov100\tAUGUSTUS\tgene\t3467\t6217\t0.78\t-\t.\tg4\n",
      "scaffold7_cov100\t6144\t6146\tscaffold7_cov100\tAUGUSTUS\tgene\t3467\t6217\t0.78\t-\t.\tg4\n",
      "scaffold7_cov100\t6188\t6190\tscaffold7_cov100\tAUGUSTUS\tgene\t3467\t6217\t0.78\t-\t.\tg4\n",
      "scaffold7_cov100\t6198\t6200\tscaffold7_cov100\tAUGUSTUS\tgene\t3467\t6217\t0.78\t-\t.\tg4\n",
      "scaffold7_cov100\t7438\t7440\tscaffold7_cov100\tAUGUSTUS\tgene\t7069\t9073\t1\t-\t.\tg5\n",
      "scaffold7_cov100\t7696\t7698\tscaffold7_cov100\tAUGUSTUS\tgene\t7069\t9073\t1\t-\t.\tg5\n",
      "scaffold7_cov100\t7796\t7798\tscaffold7_cov100\tAUGUSTUS\tgene\t7069\t9073\t1\t-\t.\tg5\n",
      "scaffold7_cov100\t7891\t7893\tscaffold7_cov100\tAUGUSTUS\tgene\t7069\t9073\t1\t-\t.\tg5\n",
      "\n",
      "==> Meth3_R1_001_val_1_bismark_bt2_pe._5x.bedgraph-sparseMeth.bed-paGenes <==\n",
      "scaffold6_cov64\t1725\t1727\tscaffold6_cov64\tAUGUSTUS\tgene\t1\t5652\t0.46\t-\t.\tg1\n",
      "scaffold6_cov64\t3533\t3535\tscaffold6_cov64\tAUGUSTUS\tgene\t1\t5652\t0.46\t-\t.\tg1\n",
      "scaffold6_cov64\t5904\t5906\tscaffold6_cov64\tAUGUSTUS\tgene\t5805\t6678\t0.57\t+\t.\tg2\n",
      "scaffold6_cov64\t5992\t5994\tscaffold6_cov64\tAUGUSTUS\tgene\t5805\t6678\t0.57\t+\t.\tg2\n",
      "scaffold7_cov100\t1535\t1537\tscaffold7_cov100\tAUGUSTUS\tgene\t1\t2566\t0.96\t+\t.\tg3\n",
      "scaffold7_cov100\t4305\t4307\tscaffold7_cov100\tAUGUSTUS\tgene\t3467\t6217\t0.78\t-\t.\tg4\n",
      "scaffold7_cov100\t4351\t4353\tscaffold7_cov100\tAUGUSTUS\tgene\t3467\t6217\t0.78\t-\t.\tg4\n",
      "scaffold7_cov100\t4630\t4632\tscaffold7_cov100\tAUGUSTUS\tgene\t3467\t6217\t0.78\t-\t.\tg4\n",
      "scaffold7_cov100\t4678\t4680\tscaffold7_cov100\tAUGUSTUS\tgene\t3467\t6217\t0.78\t-\t.\tg4\n",
      "scaffold7_cov100\t7121\t7123\tscaffold7_cov100\tAUGUSTUS\tgene\t7069\t9073\t1\t-\t.\tg5\n",
      "\n",
      "==> Meth3_R1_001_val_1_bismark_bt2_pe._5x.bedgraph-unMeth.bed-paGenes <==\n",
      "scaffold6_cov64\t167\t169\tscaffold6_cov64\tAUGUSTUS\tgene\t1\t5652\t0.46\t-\t.\tg1\n",
      "scaffold6_cov64\t290\t292\tscaffold6_cov64\tAUGUSTUS\tgene\t1\t5652\t0.46\t-\t.\tg1\n",
      "scaffold6_cov64\t298\t300\tscaffold6_cov64\tAUGUSTUS\tgene\t1\t5652\t0.46\t-\t.\tg1\n",
      "scaffold6_cov64\t489\t491\tscaffold6_cov64\tAUGUSTUS\tgene\t1\t5652\t0.46\t-\t.\tg1\n",
      "scaffold6_cov64\t826\t828\tscaffold6_cov64\tAUGUSTUS\tgene\t1\t5652\t0.46\t-\t.\tg1\n",
      "scaffold6_cov64\t2097\t2099\tscaffold6_cov64\tAUGUSTUS\tgene\t1\t5652\t0.46\t-\t.\tg1\n",
      "scaffold6_cov64\t2179\t2181\tscaffold6_cov64\tAUGUSTUS\tgene\t1\t5652\t0.46\t-\t.\tg1\n",
      "scaffold6_cov64\t2253\t2255\tscaffold6_cov64\tAUGUSTUS\tgene\t1\t5652\t0.46\t-\t.\tg1\n",
      "scaffold6_cov64\t2386\t2388\tscaffold6_cov64\tAUGUSTUS\tgene\t1\t5652\t0.46\t-\t.\tg1\n",
      "scaffold6_cov64\t2676\t2678\tscaffold6_cov64\tAUGUSTUS\tgene\t1\t5652\t0.46\t-\t.\tg1\n",
      "\n",
      "==> Meth3_R1_001_val_1_bismark_bt2_pe._5x.bedgraph.bed-paGenes <==\n",
      "scaffold6_cov64\t167\t169\tscaffold6_cov64\tAUGUSTUS\tgene\t1\t5652\t0.46\t-\t.\tg1\n",
      "scaffold6_cov64\t290\t292\tscaffold6_cov64\tAUGUSTUS\tgene\t1\t5652\t0.46\t-\t.\tg1\n",
      "scaffold6_cov64\t298\t300\tscaffold6_cov64\tAUGUSTUS\tgene\t1\t5652\t0.46\t-\t.\tg1\n",
      "scaffold6_cov64\t489\t491\tscaffold6_cov64\tAUGUSTUS\tgene\t1\t5652\t0.46\t-\t.\tg1\n",
      "scaffold6_cov64\t826\t828\tscaffold6_cov64\tAUGUSTUS\tgene\t1\t5652\t0.46\t-\t.\tg1\n",
      "scaffold6_cov64\t1725\t1727\tscaffold6_cov64\tAUGUSTUS\tgene\t1\t5652\t0.46\t-\t.\tg1\n",
      "scaffold6_cov64\t2097\t2099\tscaffold6_cov64\tAUGUSTUS\tgene\t1\t5652\t0.46\t-\t.\tg1\n",
      "scaffold6_cov64\t2179\t2181\tscaffold6_cov64\tAUGUSTUS\tgene\t1\t5652\t0.46\t-\t.\tg1\n",
      "scaffold6_cov64\t2253\t2255\tscaffold6_cov64\tAUGUSTUS\tgene\t1\t5652\t0.46\t-\t.\tg1\n",
      "scaffold6_cov64\t2386\t2388\tscaffold6_cov64\tAUGUSTUS\tgene\t1\t5652\t0.46\t-\t.\tg1\n",
      "\n",
      "==> Meth4_R1_001_val_1_bismark_bt2_pe._5x.bedgraph-Meth.bed-paGenes <==\n",
      "scaffold7_cov100\t1535\t1537\tscaffold7_cov100\tAUGUSTUS\tgene\t1\t2566\t0.96\t+\t.\tg3\n",
      "scaffold7_cov100\t33140\t33142\tscaffold7_cov100\tAUGUSTUS\tgene\t31898\t37761\t0.64\t-\t.\tg13\n",
      "scaffold7_cov100\t33157\t33159\tscaffold7_cov100\tAUGUSTUS\tgene\t31898\t37761\t0.64\t-\t.\tg13\n",
      "scaffold7_cov100\t96791\t96793\tscaffold7_cov100\tAUGUSTUS\tgene\t92374\t98904\t0.33\t-\t.\tg24\n",
      "scaffold7_cov100\t109716\t109718\tscaffold7_cov100\tAUGUSTUS\tgene\t109033\t116378\t0.55\t+\t.\tg28\n",
      "scaffold7_cov100\t138357\t138359\tscaffold7_cov100\tAUGUSTUS\tgene\t138095\t138451\t0.76\t-\t.\tg33\n",
      "scaffold7_cov100\t138372\t138374\tscaffold7_cov100\tAUGUSTUS\tgene\t138095\t138451\t0.76\t-\t.\tg33\n",
      "scaffold7_cov100\t138390\t138392\tscaffold7_cov100\tAUGUSTUS\tgene\t138095\t138451\t0.76\t-\t.\tg33\n",
      "scaffold7_cov100\t201089\t201091\tscaffold7_cov100\tAUGUSTUS\tgene\t199926\t204500\t0.34\t-\t.\tg47\n",
      "scaffold7_cov100\t201104\t201106\tscaffold7_cov100\tAUGUSTUS\tgene\t199926\t204500\t0.34\t-\t.\tg47\n",
      "\n",
      "==> Meth4_R1_001_val_1_bismark_bt2_pe._5x.bedgraph-sparseMeth.bed-paGenes <==\n",
      "scaffold6_cov64\t2676\t2678\tscaffold6_cov64\tAUGUSTUS\tgene\t1\t5652\t0.46\t-\t.\tg1\n",
      "scaffold6_cov64\t5904\t5906\tscaffold6_cov64\tAUGUSTUS\tgene\t5805\t6678\t0.57\t+\t.\tg2\n",
      "scaffold7_cov100\t1618\t1620\tscaffold7_cov100\tAUGUSTUS\tgene\t1\t2566\t0.96\t+\t.\tg3\n",
      "scaffold7_cov100\t1628\t1630\tscaffold7_cov100\tAUGUSTUS\tgene\t1\t2566\t0.96\t+\t.\tg3\n",
      "scaffold7_cov100\t4351\t4353\tscaffold7_cov100\tAUGUSTUS\tgene\t3467\t6217\t0.78\t-\t.\tg4\n",
      "scaffold7_cov100\t15408\t15410\tscaffold7_cov100\tAUGUSTUS\tgene\t13339\t15463\t0.92\t-\t.\tg7\n",
      "scaffold7_cov100\t46343\t46345\tscaffold7_cov100\tAUGUSTUS\tgene\t41188\t47537\t0.97\t+\t.\tg14\n",
      "scaffold7_cov100\t46397\t46399\tscaffold7_cov100\tAUGUSTUS\tgene\t41188\t47537\t0.97\t+\t.\tg14\n",
      "scaffold7_cov100\t46898\t46900\tscaffold7_cov100\tAUGUSTUS\tgene\t41188\t47537\t0.97\t+\t.\tg14\n",
      "scaffold7_cov100\t48729\t48731\tscaffold7_cov100\tAUGUSTUS\tgene\t48036\t49271\t0.54\t-\t.\tg15\n",
      "\n",
      "==> Meth4_R1_001_val_1_bismark_bt2_pe._5x.bedgraph-unMeth.bed-paGenes <==\n",
      "scaffold6_cov64\t2536\t2538\tscaffold6_cov64\tAUGUSTUS\tgene\t1\t5652\t0.46\t-\t.\tg1\n",
      "scaffold6_cov64\t2584\t2586\tscaffold6_cov64\tAUGUSTUS\tgene\t1\t5652\t0.46\t-\t.\tg1\n",
      "scaffold6_cov64\t4588\t4590\tscaffold6_cov64\tAUGUSTUS\tgene\t1\t5652\t0.46\t-\t.\tg1\n",
      "scaffold6_cov64\t5101\t5103\tscaffold6_cov64\tAUGUSTUS\tgene\t1\t5652\t0.46\t-\t.\tg1\n",
      "scaffold6_cov64\t5309\t5311\tscaffold6_cov64\tAUGUSTUS\tgene\t1\t5652\t0.46\t-\t.\tg1\n",
      "scaffold6_cov64\t5456\t5458\tscaffold6_cov64\tAUGUSTUS\tgene\t1\t5652\t0.46\t-\t.\tg1\n",
      "scaffold6_cov64\t5486\t5488\tscaffold6_cov64\tAUGUSTUS\tgene\t1\t5652\t0.46\t-\t.\tg1\n",
      "scaffold6_cov64\t5545\t5547\tscaffold6_cov64\tAUGUSTUS\tgene\t1\t5652\t0.46\t-\t.\tg1\n",
      "scaffold6_cov64\t5559\t5561\tscaffold6_cov64\tAUGUSTUS\tgene\t1\t5652\t0.46\t-\t.\tg1\n",
      "scaffold6_cov64\t5561\t5563\tscaffold6_cov64\tAUGUSTUS\tgene\t1\t5652\t0.46\t-\t.\tg1\n",
      "\n",
      "==> Meth4_R1_001_val_1_bismark_bt2_pe._5x.bedgraph.bed-paGenes <==\n",
      "scaffold6_cov64\t2536\t2538\tscaffold6_cov64\tAUGUSTUS\tgene\t1\t5652\t0.46\t-\t.\tg1\n",
      "scaffold6_cov64\t2584\t2586\tscaffold6_cov64\tAUGUSTUS\tgene\t1\t5652\t0.46\t-\t.\tg1\n",
      "scaffold6_cov64\t2676\t2678\tscaffold6_cov64\tAUGUSTUS\tgene\t1\t5652\t0.46\t-\t.\tg1\n",
      "scaffold6_cov64\t4588\t4590\tscaffold6_cov64\tAUGUSTUS\tgene\t1\t5652\t0.46\t-\t.\tg1\n",
      "scaffold6_cov64\t5101\t5103\tscaffold6_cov64\tAUGUSTUS\tgene\t1\t5652\t0.46\t-\t.\tg1\n",
      "scaffold6_cov64\t5309\t5311\tscaffold6_cov64\tAUGUSTUS\tgene\t1\t5652\t0.46\t-\t.\tg1\n",
      "scaffold6_cov64\t5456\t5458\tscaffold6_cov64\tAUGUSTUS\tgene\t1\t5652\t0.46\t-\t.\tg1\n",
      "scaffold6_cov64\t5486\t5488\tscaffold6_cov64\tAUGUSTUS\tgene\t1\t5652\t0.46\t-\t.\tg1\n",
      "scaffold6_cov64\t5545\t5547\tscaffold6_cov64\tAUGUSTUS\tgene\t1\t5652\t0.46\t-\t.\tg1\n",
      "scaffold6_cov64\t5559\t5561\tscaffold6_cov64\tAUGUSTUS\tgene\t1\t5652\t0.46\t-\t.\tg1\n",
      "\n",
      "==> Meth5_R1_001_val_1_bismark_bt2_pe._5x.bedgraph-Meth.bed-paGenes <==\n",
      "scaffold6_cov64\t2676\t2678\tscaffold6_cov64\tAUGUSTUS\tgene\t1\t5652\t0.46\t-\t.\tg1\n",
      "scaffold7_cov100\t2301\t2303\tscaffold7_cov100\tAUGUSTUS\tgene\t1\t2566\t0.96\t+\t.\tg3\n",
      "scaffold7_cov100\t17000\t17002\tscaffold7_cov100\tAUGUSTUS\tgene\t15738\t18320\t0.96\t+\t.\tg8\n",
      "scaffold7_cov100\t17090\t17092\tscaffold7_cov100\tAUGUSTUS\tgene\t15738\t18320\t0.96\t+\t.\tg8\n",
      "scaffold7_cov100\t61080\t61082\tscaffold7_cov100\tAUGUSTUS\tgene\t50051\t63721\t1\t+\t.\tg16\n",
      "scaffold7_cov100\t69126\t69128\tscaffold7_cov100\tAUGUSTUS\tgene\t68185\t73140\t1\t-\t.\tg18\n",
      "scaffold7_cov100\t96721\t96723\tscaffold7_cov100\tAUGUSTUS\tgene\t92374\t98904\t0.33\t-\t.\tg24\n",
      "scaffold7_cov100\t96740\t96742\tscaffold7_cov100\tAUGUSTUS\tgene\t92374\t98904\t0.33\t-\t.\tg24\n",
      "scaffold7_cov100\t96787\t96789\tscaffold7_cov100\tAUGUSTUS\tgene\t92374\t98904\t0.33\t-\t.\tg24\n",
      "scaffold7_cov100\t96791\t96793\tscaffold7_cov100\tAUGUSTUS\tgene\t92374\t98904\t0.33\t-\t.\tg24\n",
      "\n",
      "==> Meth5_R1_001_val_1_bismark_bt2_pe._5x.bedgraph-sparseMeth.bed-paGenes <==\n",
      "scaffold6_cov64\t4553\t4555\tscaffold6_cov64\tAUGUSTUS\tgene\t1\t5652\t0.46\t-\t.\tg1\n",
      "scaffold6_cov64\t5545\t5547\tscaffold6_cov64\tAUGUSTUS\tgene\t1\t5652\t0.46\t-\t.\tg1\n",
      "scaffold6_cov64\t6374\t6376\tscaffold6_cov64\tAUGUSTUS\tgene\t5805\t6678\t0.57\t+\t.\tg2\n",
      "scaffold7_cov100\t17074\t17076\tscaffold7_cov100\tAUGUSTUS\tgene\t15738\t18320\t0.96\t+\t.\tg8\n",
      "scaffold7_cov100\t17098\t17100\tscaffold7_cov100\tAUGUSTUS\tgene\t15738\t18320\t0.96\t+\t.\tg8\n",
      "scaffold7_cov100\t36543\t36545\tscaffold7_cov100\tAUGUSTUS\tgene\t31898\t37761\t0.64\t-\t.\tg13\n",
      "scaffold7_cov100\t36600\t36602\tscaffold7_cov100\tAUGUSTUS\tgene\t31898\t37761\t0.64\t-\t.\tg13\n",
      "scaffold7_cov100\t46343\t46345\tscaffold7_cov100\tAUGUSTUS\tgene\t41188\t47537\t0.97\t+\t.\tg14\n",
      "scaffold7_cov100\t46428\t46430\tscaffold7_cov100\tAUGUSTUS\tgene\t41188\t47537\t0.97\t+\t.\tg14\n",
      "scaffold7_cov100\t94139\t94141\tscaffold7_cov100\tAUGUSTUS\tgene\t92374\t98904\t0.33\t-\t.\tg24\n",
      "\n",
      "==> Meth5_R1_001_val_1_bismark_bt2_pe._5x.bedgraph-unMeth.bed-paGenes <==\n",
      "scaffold6_cov64\t2584\t2586\tscaffold6_cov64\tAUGUSTUS\tgene\t1\t5652\t0.46\t-\t.\tg1\n",
      "scaffold6_cov64\t2682\t2684\tscaffold6_cov64\tAUGUSTUS\tgene\t1\t5652\t0.46\t-\t.\tg1\n",
      "scaffold6_cov64\t4588\t4590\tscaffold6_cov64\tAUGUSTUS\tgene\t1\t5652\t0.46\t-\t.\tg1\n",
      "scaffold6_cov64\t5559\t5561\tscaffold6_cov64\tAUGUSTUS\tgene\t1\t5652\t0.46\t-\t.\tg1\n",
      "scaffold6_cov64\t5561\t5563\tscaffold6_cov64\tAUGUSTUS\tgene\t1\t5652\t0.46\t-\t.\tg1\n",
      "scaffold6_cov64\t5567\t5569\tscaffold6_cov64\tAUGUSTUS\tgene\t1\t5652\t0.46\t-\t.\tg1\n",
      "scaffold6_cov64\t5574\t5576\tscaffold6_cov64\tAUGUSTUS\tgene\t1\t5652\t0.46\t-\t.\tg1\n",
      "scaffold6_cov64\t5581\t5583\tscaffold6_cov64\tAUGUSTUS\tgene\t1\t5652\t0.46\t-\t.\tg1\n",
      "scaffold6_cov64\t5583\t5585\tscaffold6_cov64\tAUGUSTUS\tgene\t1\t5652\t0.46\t-\t.\tg1\n",
      "scaffold6_cov64\t5592\t5594\tscaffold6_cov64\tAUGUSTUS\tgene\t1\t5652\t0.46\t-\t.\tg1\n",
      "\n",
      "==> Meth5_R1_001_val_1_bismark_bt2_pe._5x.bedgraph.bed-paGenes <==\n",
      "scaffold6_cov64\t2584\t2586\tscaffold6_cov64\tAUGUSTUS\tgene\t1\t5652\t0.46\t-\t.\tg1\n",
      "scaffold6_cov64\t2676\t2678\tscaffold6_cov64\tAUGUSTUS\tgene\t1\t5652\t0.46\t-\t.\tg1\n",
      "scaffold6_cov64\t2682\t2684\tscaffold6_cov64\tAUGUSTUS\tgene\t1\t5652\t0.46\t-\t.\tg1\n",
      "scaffold6_cov64\t4553\t4555\tscaffold6_cov64\tAUGUSTUS\tgene\t1\t5652\t0.46\t-\t.\tg1\n",
      "scaffold6_cov64\t4588\t4590\tscaffold6_cov64\tAUGUSTUS\tgene\t1\t5652\t0.46\t-\t.\tg1\n",
      "scaffold6_cov64\t5545\t5547\tscaffold6_cov64\tAUGUSTUS\tgene\t1\t5652\t0.46\t-\t.\tg1\n",
      "scaffold6_cov64\t5559\t5561\tscaffold6_cov64\tAUGUSTUS\tgene\t1\t5652\t0.46\t-\t.\tg1\n",
      "scaffold6_cov64\t5561\t5563\tscaffold6_cov64\tAUGUSTUS\tgene\t1\t5652\t0.46\t-\t.\tg1\n",
      "scaffold6_cov64\t5567\t5569\tscaffold6_cov64\tAUGUSTUS\tgene\t1\t5652\t0.46\t-\t.\tg1\n",
      "scaffold6_cov64\t5574\t5576\tscaffold6_cov64\tAUGUSTUS\tgene\t1\t5652\t0.46\t-\t.\tg1\n",
      "\n",
      "==> Meth6_R1_001_val_1_bismark_bt2_pe._5x.bedgraph-Meth.bed-paGenes <==\n",
      "scaffold7_cov100\t106242\t106244\tscaffold7_cov100\tAUGUSTUS\tgene\t105977\t107566\t0.86\t+\t.\tg27\n",
      "scaffold7_cov100\t106251\t106253\tscaffold7_cov100\tAUGUSTUS\tgene\t105977\t107566\t0.86\t+\t.\tg27\n",
      "scaffold7_cov100\t106254\t106256\tscaffold7_cov100\tAUGUSTUS\tgene\t105977\t107566\t0.86\t+\t.\tg27\n",
      "scaffold7_cov100\t138357\t138359\tscaffold7_cov100\tAUGUSTUS\tgene\t138095\t138451\t0.76\t-\t.\tg33\n",
      "scaffold7_cov100\t138372\t138374\tscaffold7_cov100\tAUGUSTUS\tgene\t138095\t138451\t0.76\t-\t.\tg33\n",
      "scaffold7_cov100\t138390\t138392\tscaffold7_cov100\tAUGUSTUS\tgene\t138095\t138451\t0.76\t-\t.\tg33\n",
      "scaffold7_cov100\t277720\t277722\tscaffold7_cov100\tAUGUSTUS\tgene\t274795\t281182\t0.95\t-\t.\tg57\n",
      "scaffold7_cov100\t346786\t346788\tscaffold7_cov100\tAUGUSTUS\tgene\t346473\t355075\t0.09\t+\t.\tg78\n",
      "scaffold7_cov100\t360165\t360167\tscaffold7_cov100\tAUGUSTUS\tgene\t357089\t366361\t0.39\t-\t.\tg79\n",
      "scaffold7_cov100\t383785\t383787\tscaffold7_cov100\tAUGUSTUS\tgene\t383391\t384503\t0.49\t+\t.\tg83\n",
      "\n",
      "==> Meth6_R1_001_val_1_bismark_bt2_pe._5x.bedgraph-sparseMeth.bed-paGenes <==\n",
      "scaffold6_cov64\t4553\t4555\tscaffold6_cov64\tAUGUSTUS\tgene\t1\t5652\t0.46\t-\t.\tg1\n",
      "scaffold6_cov64\t4588\t4590\tscaffold6_cov64\tAUGUSTUS\tgene\t1\t5652\t0.46\t-\t.\tg1\n",
      "scaffold6_cov64\t5604\t5606\tscaffold6_cov64\tAUGUSTUS\tgene\t1\t5652\t0.46\t-\t.\tg1\n",
      "scaffold6_cov64\t6266\t6268\tscaffold6_cov64\tAUGUSTUS\tgene\t5805\t6678\t0.57\t+\t.\tg2\n",
      "scaffold6_cov64\t6374\t6376\tscaffold6_cov64\tAUGUSTUS\tgene\t5805\t6678\t0.57\t+\t.\tg2\n",
      "scaffold7_cov100\t4351\t4353\tscaffold7_cov100\tAUGUSTUS\tgene\t3467\t6217\t0.78\t-\t.\tg4\n",
      "scaffold7_cov100\t32521\t32523\tscaffold7_cov100\tAUGUSTUS\tgene\t31898\t37761\t0.64\t-\t.\tg13\n",
      "scaffold7_cov100\t32984\t32986\tscaffold7_cov100\tAUGUSTUS\tgene\t31898\t37761\t0.64\t-\t.\tg13\n",
      "scaffold7_cov100\t37484\t37486\tscaffold7_cov100\tAUGUSTUS\tgene\t31898\t37761\t0.64\t-\t.\tg13\n",
      "scaffold7_cov100\t37506\t37508\tscaffold7_cov100\tAUGUSTUS\tgene\t31898\t37761\t0.64\t-\t.\tg13\n",
      "\n",
      "==> Meth6_R1_001_val_1_bismark_bt2_pe._5x.bedgraph-unMeth.bed-paGenes <==\n",
      "scaffold6_cov64\t5456\t5458\tscaffold6_cov64\tAUGUSTUS\tgene\t1\t5652\t0.46\t-\t.\tg1\n",
      "scaffold6_cov64\t5486\t5488\tscaffold6_cov64\tAUGUSTUS\tgene\t1\t5652\t0.46\t-\t.\tg1\n",
      "scaffold6_cov64\t5545\t5547\tscaffold6_cov64\tAUGUSTUS\tgene\t1\t5652\t0.46\t-\t.\tg1\n",
      "scaffold6_cov64\t5559\t5561\tscaffold6_cov64\tAUGUSTUS\tgene\t1\t5652\t0.46\t-\t.\tg1\n",
      "scaffold6_cov64\t5561\t5563\tscaffold6_cov64\tAUGUSTUS\tgene\t1\t5652\t0.46\t-\t.\tg1\n",
      "scaffold6_cov64\t5567\t5569\tscaffold6_cov64\tAUGUSTUS\tgene\t1\t5652\t0.46\t-\t.\tg1\n",
      "scaffold6_cov64\t5574\t5576\tscaffold6_cov64\tAUGUSTUS\tgene\t1\t5652\t0.46\t-\t.\tg1\n",
      "scaffold6_cov64\t5581\t5583\tscaffold6_cov64\tAUGUSTUS\tgene\t1\t5652\t0.46\t-\t.\tg1\n",
      "scaffold6_cov64\t5583\t5585\tscaffold6_cov64\tAUGUSTUS\tgene\t1\t5652\t0.46\t-\t.\tg1\n",
      "scaffold6_cov64\t5592\t5594\tscaffold6_cov64\tAUGUSTUS\tgene\t1\t5652\t0.46\t-\t.\tg1\n",
      "\n",
      "==> Meth6_R1_001_val_1_bismark_bt2_pe._5x.bedgraph.bed-paGenes <==\n",
      "scaffold6_cov64\t4553\t4555\tscaffold6_cov64\tAUGUSTUS\tgene\t1\t5652\t0.46\t-\t.\tg1\n",
      "scaffold6_cov64\t4588\t4590\tscaffold6_cov64\tAUGUSTUS\tgene\t1\t5652\t0.46\t-\t.\tg1\n",
      "scaffold6_cov64\t5456\t5458\tscaffold6_cov64\tAUGUSTUS\tgene\t1\t5652\t0.46\t-\t.\tg1\n",
      "scaffold6_cov64\t5486\t5488\tscaffold6_cov64\tAUGUSTUS\tgene\t1\t5652\t0.46\t-\t.\tg1\n",
      "scaffold6_cov64\t5545\t5547\tscaffold6_cov64\tAUGUSTUS\tgene\t1\t5652\t0.46\t-\t.\tg1\n",
      "scaffold6_cov64\t5559\t5561\tscaffold6_cov64\tAUGUSTUS\tgene\t1\t5652\t0.46\t-\t.\tg1\n",
      "scaffold6_cov64\t5561\t5563\tscaffold6_cov64\tAUGUSTUS\tgene\t1\t5652\t0.46\t-\t.\tg1\n",
      "scaffold6_cov64\t5567\t5569\tscaffold6_cov64\tAUGUSTUS\tgene\t1\t5652\t0.46\t-\t.\tg1\n",
      "scaffold6_cov64\t5574\t5576\tscaffold6_cov64\tAUGUSTUS\tgene\t1\t5652\t0.46\t-\t.\tg1\n",
      "scaffold6_cov64\t5581\t5583\tscaffold6_cov64\tAUGUSTUS\tgene\t1\t5652\t0.46\t-\t.\tg1\n",
      "\n",
      "==> Meth7_R1_001_val_1_bismark_bt2_pe._5x.bedgraph-Meth.bed-paGenes <==\n",
      "scaffold7_cov100\t5500\t5502\tscaffold7_cov100\tAUGUSTUS\tgene\t3467\t6217\t0.78\t-\t.\tg4\n",
      "scaffold7_cov100\t5986\t5988\tscaffold7_cov100\tAUGUSTUS\tgene\t3467\t6217\t0.78\t-\t.\tg4\n",
      "scaffold7_cov100\t6144\t6146\tscaffold7_cov100\tAUGUSTUS\tgene\t3467\t6217\t0.78\t-\t.\tg4\n",
      "scaffold7_cov100\t6188\t6190\tscaffold7_cov100\tAUGUSTUS\tgene\t3467\t6217\t0.78\t-\t.\tg4\n",
      "scaffold7_cov100\t6198\t6200\tscaffold7_cov100\tAUGUSTUS\tgene\t3467\t6217\t0.78\t-\t.\tg4\n",
      "scaffold7_cov100\t7438\t7440\tscaffold7_cov100\tAUGUSTUS\tgene\t7069\t9073\t1\t-\t.\tg5\n",
      "scaffold7_cov100\t7696\t7698\tscaffold7_cov100\tAUGUSTUS\tgene\t7069\t9073\t1\t-\t.\tg5\n",
      "scaffold7_cov100\t7796\t7798\tscaffold7_cov100\tAUGUSTUS\tgene\t7069\t9073\t1\t-\t.\tg5\n",
      "scaffold7_cov100\t7891\t7893\tscaffold7_cov100\tAUGUSTUS\tgene\t7069\t9073\t1\t-\t.\tg5\n",
      "scaffold7_cov100\t9715\t9717\tscaffold7_cov100\tAUGUSTUS\tgene\t9590\t11670\t0.8\t-\t.\tg6\n",
      "\n",
      "==> Meth7_R1_001_val_1_bismark_bt2_pe._5x.bedgraph-sparseMeth.bed-paGenes <==\n",
      "scaffold6_cov64\t4146\t4148\tscaffold6_cov64\tAUGUSTUS\tgene\t1\t5652\t0.46\t-\t.\tg1\n",
      "scaffold6_cov64\t5561\t5563\tscaffold6_cov64\tAUGUSTUS\tgene\t1\t5652\t0.46\t-\t.\tg1\n",
      "scaffold6_cov64\t5644\t5646\tscaffold6_cov64\tAUGUSTUS\tgene\t1\t5652\t0.46\t-\t.\tg1\n",
      "scaffold7_cov100\t1422\t1424\tscaffold7_cov100\tAUGUSTUS\tgene\t1\t2566\t0.96\t+\t.\tg3\n",
      "scaffold7_cov100\t1651\t1653\tscaffold7_cov100\tAUGUSTUS\tgene\t1\t2566\t0.96\t+\t.\tg3\n",
      "scaffold7_cov100\t2080\t2082\tscaffold7_cov100\tAUGUSTUS\tgene\t1\t2566\t0.96\t+\t.\tg3\n",
      "scaffold7_cov100\t3629\t3631\tscaffold7_cov100\tAUGUSTUS\tgene\t3467\t6217\t0.78\t-\t.\tg4\n",
      "scaffold7_cov100\t5578\t5580\tscaffold7_cov100\tAUGUSTUS\tgene\t3467\t6217\t0.78\t-\t.\tg4\n",
      "scaffold7_cov100\t11439\t11441\tscaffold7_cov100\tAUGUSTUS\tgene\t9590\t11670\t0.8\t-\t.\tg6\n",
      "scaffold7_cov100\t14042\t14044\tscaffold7_cov100\tAUGUSTUS\tgene\t13339\t15463\t0.92\t-\t.\tg7\n",
      "\n",
      "==> Meth7_R1_001_val_1_bismark_bt2_pe._5x.bedgraph-unMeth.bed-paGenes <==\n",
      "scaffold6_cov64\t290\t292\tscaffold6_cov64\tAUGUSTUS\tgene\t1\t5652\t0.46\t-\t.\tg1\n",
      "scaffold6_cov64\t298\t300\tscaffold6_cov64\tAUGUSTUS\tgene\t1\t5652\t0.46\t-\t.\tg1\n",
      "scaffold6_cov64\t489\t491\tscaffold6_cov64\tAUGUSTUS\tgene\t1\t5652\t0.46\t-\t.\tg1\n",
      "scaffold6_cov64\t2179\t2181\tscaffold6_cov64\tAUGUSTUS\tgene\t1\t5652\t0.46\t-\t.\tg1\n",
      "scaffold6_cov64\t2872\t2874\tscaffold6_cov64\tAUGUSTUS\tgene\t1\t5652\t0.46\t-\t.\tg1\n",
      "scaffold6_cov64\t2876\t2878\tscaffold6_cov64\tAUGUSTUS\tgene\t1\t5652\t0.46\t-\t.\tg1\n",
      "scaffold6_cov64\t3198\t3200\tscaffold6_cov64\tAUGUSTUS\tgene\t1\t5652\t0.46\t-\t.\tg1\n",
      "scaffold6_cov64\t3343\t3345\tscaffold6_cov64\tAUGUSTUS\tgene\t1\t5652\t0.46\t-\t.\tg1\n",
      "scaffold6_cov64\t3397\t3399\tscaffold6_cov64\tAUGUSTUS\tgene\t1\t5652\t0.46\t-\t.\tg1\n",
      "scaffold6_cov64\t3412\t3414\tscaffold6_cov64\tAUGUSTUS\tgene\t1\t5652\t0.46\t-\t.\tg1\n",
      "\n",
      "==> Meth7_R1_001_val_1_bismark_bt2_pe._5x.bedgraph.bed-paGenes <==\n",
      "scaffold6_cov64\t290\t292\tscaffold6_cov64\tAUGUSTUS\tgene\t1\t5652\t0.46\t-\t.\tg1\n",
      "scaffold6_cov64\t298\t300\tscaffold6_cov64\tAUGUSTUS\tgene\t1\t5652\t0.46\t-\t.\tg1\n",
      "scaffold6_cov64\t489\t491\tscaffold6_cov64\tAUGUSTUS\tgene\t1\t5652\t0.46\t-\t.\tg1\n",
      "scaffold6_cov64\t2179\t2181\tscaffold6_cov64\tAUGUSTUS\tgene\t1\t5652\t0.46\t-\t.\tg1\n",
      "scaffold6_cov64\t2872\t2874\tscaffold6_cov64\tAUGUSTUS\tgene\t1\t5652\t0.46\t-\t.\tg1\n",
      "scaffold6_cov64\t2876\t2878\tscaffold6_cov64\tAUGUSTUS\tgene\t1\t5652\t0.46\t-\t.\tg1\n",
      "scaffold6_cov64\t3198\t3200\tscaffold6_cov64\tAUGUSTUS\tgene\t1\t5652\t0.46\t-\t.\tg1\n",
      "scaffold6_cov64\t3343\t3345\tscaffold6_cov64\tAUGUSTUS\tgene\t1\t5652\t0.46\t-\t.\tg1\n",
      "scaffold6_cov64\t3397\t3399\tscaffold6_cov64\tAUGUSTUS\tgene\t1\t5652\t0.46\t-\t.\tg1\n",
      "scaffold6_cov64\t3412\t3414\tscaffold6_cov64\tAUGUSTUS\tgene\t1\t5652\t0.46\t-\t.\tg1\n",
      "\n",
      "==> Meth8_R1_001_val_1_bismark_bt2_pe._5x.bedgraph-Meth.bed-paGenes <==\n",
      "scaffold7_cov100\t5986\t5988\tscaffold7_cov100\tAUGUSTUS\tgene\t3467\t6217\t0.78\t-\t.\tg4\n",
      "scaffold7_cov100\t6144\t6146\tscaffold7_cov100\tAUGUSTUS\tgene\t3467\t6217\t0.78\t-\t.\tg4\n",
      "scaffold7_cov100\t6188\t6190\tscaffold7_cov100\tAUGUSTUS\tgene\t3467\t6217\t0.78\t-\t.\tg4\n",
      "scaffold7_cov100\t6198\t6200\tscaffold7_cov100\tAUGUSTUS\tgene\t3467\t6217\t0.78\t-\t.\tg4\n",
      "scaffold7_cov100\t7696\t7698\tscaffold7_cov100\tAUGUSTUS\tgene\t7069\t9073\t1\t-\t.\tg5\n",
      "scaffold7_cov100\t7796\t7798\tscaffold7_cov100\tAUGUSTUS\tgene\t7069\t9073\t1\t-\t.\tg5\n",
      "scaffold7_cov100\t7891\t7893\tscaffold7_cov100\tAUGUSTUS\tgene\t7069\t9073\t1\t-\t.\tg5\n",
      "scaffold7_cov100\t10216\t10218\tscaffold7_cov100\tAUGUSTUS\tgene\t9590\t11670\t0.8\t-\t.\tg6\n",
      "scaffold7_cov100\t10273\t10275\tscaffold7_cov100\tAUGUSTUS\tgene\t9590\t11670\t0.8\t-\t.\tg6\n",
      "scaffold7_cov100\t16831\t16833\tscaffold7_cov100\tAUGUSTUS\tgene\t15738\t18320\t0.96\t+\t.\tg8\n",
      "\n",
      "==> Meth8_R1_001_val_1_bismark_bt2_pe._5x.bedgraph-sparseMeth.bed-paGenes <==\n",
      "scaffold6_cov64\t826\t828\tscaffold6_cov64\tAUGUSTUS\tgene\t1\t5652\t0.46\t-\t.\tg1\n",
      "scaffold7_cov100\t5500\t5502\tscaffold7_cov100\tAUGUSTUS\tgene\t3467\t6217\t0.78\t-\t.\tg4\n",
      "scaffold7_cov100\t7438\t7440\tscaffold7_cov100\tAUGUSTUS\tgene\t7069\t9073\t1\t-\t.\tg5\n",
      "scaffold7_cov100\t13385\t13387\tscaffold7_cov100\tAUGUSTUS\tgene\t13339\t15463\t0.92\t-\t.\tg7\n",
      "scaffold7_cov100\t14083\t14085\tscaffold7_cov100\tAUGUSTUS\tgene\t13339\t15463\t0.92\t-\t.\tg7\n",
      "scaffold7_cov100\t16559\t16561\tscaffold7_cov100\tAUGUSTUS\tgene\t15738\t18320\t0.96\t+\t.\tg8\n",
      "scaffold7_cov100\t22257\t22259\tscaffold7_cov100\tAUGUSTUS\tgene\t20078\t24295\t0.39\t+\t.\tg11\n",
      "scaffold7_cov100\t34847\t34849\tscaffold7_cov100\tAUGUSTUS\tgene\t31898\t37761\t0.64\t-\t.\tg13\n",
      "scaffold7_cov100\t41743\t41745\tscaffold7_cov100\tAUGUSTUS\tgene\t41188\t47537\t0.97\t+\t.\tg14\n",
      "scaffold7_cov100\t46132\t46134\tscaffold7_cov100\tAUGUSTUS\tgene\t41188\t47537\t0.97\t+\t.\tg14\n",
      "\n",
      "==> Meth8_R1_001_val_1_bismark_bt2_pe._5x.bedgraph-unMeth.bed-paGenes <==\n",
      "scaffold6_cov64\t290\t292\tscaffold6_cov64\tAUGUSTUS\tgene\t1\t5652\t0.46\t-\t.\tg1\n",
      "scaffold6_cov64\t298\t300\tscaffold6_cov64\tAUGUSTUS\tgene\t1\t5652\t0.46\t-\t.\tg1\n",
      "scaffold6_cov64\t5101\t5103\tscaffold6_cov64\tAUGUSTUS\tgene\t1\t5652\t0.46\t-\t.\tg1\n",
      "scaffold6_cov64\t5545\t5547\tscaffold6_cov64\tAUGUSTUS\tgene\t1\t5652\t0.46\t-\t.\tg1\n",
      "scaffold6_cov64\t5559\t5561\tscaffold6_cov64\tAUGUSTUS\tgene\t1\t5652\t0.46\t-\t.\tg1\n",
      "scaffold6_cov64\t5561\t5563\tscaffold6_cov64\tAUGUSTUS\tgene\t1\t5652\t0.46\t-\t.\tg1\n",
      "scaffold6_cov64\t5567\t5569\tscaffold6_cov64\tAUGUSTUS\tgene\t1\t5652\t0.46\t-\t.\tg1\n",
      "scaffold6_cov64\t5574\t5576\tscaffold6_cov64\tAUGUSTUS\tgene\t1\t5652\t0.46\t-\t.\tg1\n",
      "scaffold6_cov64\t5581\t5583\tscaffold6_cov64\tAUGUSTUS\tgene\t1\t5652\t0.46\t-\t.\tg1\n",
      "scaffold6_cov64\t6183\t6185\tscaffold6_cov64\tAUGUSTUS\tgene\t5805\t6678\t0.57\t+\t.\tg2\n",
      "\n",
      "==> Meth8_R1_001_val_1_bismark_bt2_pe._5x.bedgraph.bed-paGenes <==\n",
      "scaffold6_cov64\t290\t292\tscaffold6_cov64\tAUGUSTUS\tgene\t1\t5652\t0.46\t-\t.\tg1\n",
      "scaffold6_cov64\t298\t300\tscaffold6_cov64\tAUGUSTUS\tgene\t1\t5652\t0.46\t-\t.\tg1\n",
      "scaffold6_cov64\t826\t828\tscaffold6_cov64\tAUGUSTUS\tgene\t1\t5652\t0.46\t-\t.\tg1\n",
      "scaffold6_cov64\t5101\t5103\tscaffold6_cov64\tAUGUSTUS\tgene\t1\t5652\t0.46\t-\t.\tg1\n",
      "scaffold6_cov64\t5545\t5547\tscaffold6_cov64\tAUGUSTUS\tgene\t1\t5652\t0.46\t-\t.\tg1\n",
      "scaffold6_cov64\t5559\t5561\tscaffold6_cov64\tAUGUSTUS\tgene\t1\t5652\t0.46\t-\t.\tg1\n",
      "scaffold6_cov64\t5561\t5563\tscaffold6_cov64\tAUGUSTUS\tgene\t1\t5652\t0.46\t-\t.\tg1\n",
      "scaffold6_cov64\t5567\t5569\tscaffold6_cov64\tAUGUSTUS\tgene\t1\t5652\t0.46\t-\t.\tg1\n",
      "scaffold6_cov64\t5574\t5576\tscaffold6_cov64\tAUGUSTUS\tgene\t1\t5652\t0.46\t-\t.\tg1\n",
      "scaffold6_cov64\t5581\t5583\tscaffold6_cov64\tAUGUSTUS\tgene\t1\t5652\t0.46\t-\t.\tg1\n",
      "\n",
      "==> Meth9_R1_001_val_1_bismark_bt2_pe._5x.bedgraph-Meth.bed-paGenes <==\n",
      "scaffold7_cov100\t5578\t5580\tscaffold7_cov100\tAUGUSTUS\tgene\t3467\t6217\t0.78\t-\t.\tg4\n",
      "scaffold7_cov100\t5986\t5988\tscaffold7_cov100\tAUGUSTUS\tgene\t3467\t6217\t0.78\t-\t.\tg4\n",
      "scaffold7_cov100\t6144\t6146\tscaffold7_cov100\tAUGUSTUS\tgene\t3467\t6217\t0.78\t-\t.\tg4\n",
      "scaffold7_cov100\t6188\t6190\tscaffold7_cov100\tAUGUSTUS\tgene\t3467\t6217\t0.78\t-\t.\tg4\n",
      "scaffold7_cov100\t6198\t6200\tscaffold7_cov100\tAUGUSTUS\tgene\t3467\t6217\t0.78\t-\t.\tg4\n",
      "scaffold7_cov100\t7201\t7203\tscaffold7_cov100\tAUGUSTUS\tgene\t7069\t9073\t1\t-\t.\tg5\n",
      "scaffold7_cov100\t7438\t7440\tscaffold7_cov100\tAUGUSTUS\tgene\t7069\t9073\t1\t-\t.\tg5\n",
      "scaffold7_cov100\t7696\t7698\tscaffold7_cov100\tAUGUSTUS\tgene\t7069\t9073\t1\t-\t.\tg5\n",
      "scaffold7_cov100\t7796\t7798\tscaffold7_cov100\tAUGUSTUS\tgene\t7069\t9073\t1\t-\t.\tg5\n",
      "scaffold7_cov100\t7891\t7893\tscaffold7_cov100\tAUGUSTUS\tgene\t7069\t9073\t1\t-\t.\tg5\n",
      "\n",
      "==> Meth9_R1_001_val_1_bismark_bt2_pe._5x.bedgraph-sparseMeth.bed-paGenes <==\n",
      "scaffold6_cov64\t3435\t3437\tscaffold6_cov64\tAUGUSTUS\tgene\t1\t5652\t0.46\t-\t.\tg1\n",
      "scaffold6_cov64\t4146\t4148\tscaffold6_cov64\tAUGUSTUS\tgene\t1\t5652\t0.46\t-\t.\tg1\n",
      "scaffold6_cov64\t5904\t5906\tscaffold6_cov64\tAUGUSTUS\tgene\t5805\t6678\t0.57\t+\t.\tg2\n",
      "scaffold7_cov100\t1390\t1392\tscaffold7_cov100\tAUGUSTUS\tgene\t1\t2566\t0.96\t+\t.\tg3\n",
      "scaffold7_cov100\t1941\t1943\tscaffold7_cov100\tAUGUSTUS\tgene\t1\t2566\t0.96\t+\t.\tg3\n",
      "scaffold7_cov100\t2043\t2045\tscaffold7_cov100\tAUGUSTUS\tgene\t1\t2566\t0.96\t+\t.\tg3\n",
      "scaffold7_cov100\t3956\t3958\tscaffold7_cov100\tAUGUSTUS\tgene\t3467\t6217\t0.78\t-\t.\tg4\n",
      "scaffold7_cov100\t4630\t4632\tscaffold7_cov100\tAUGUSTUS\tgene\t3467\t6217\t0.78\t-\t.\tg4\n",
      "scaffold7_cov100\t4678\t4680\tscaffold7_cov100\tAUGUSTUS\tgene\t3467\t6217\t0.78\t-\t.\tg4\n",
      "scaffold7_cov100\t10755\t10757\tscaffold7_cov100\tAUGUSTUS\tgene\t9590\t11670\t0.8\t-\t.\tg6\n",
      "\n",
      "==> Meth9_R1_001_val_1_bismark_bt2_pe._5x.bedgraph-unMeth.bed-paGenes <==\n",
      "scaffold6_cov64\t290\t292\tscaffold6_cov64\tAUGUSTUS\tgene\t1\t5652\t0.46\t-\t.\tg1\n",
      "scaffold6_cov64\t298\t300\tscaffold6_cov64\tAUGUSTUS\tgene\t1\t5652\t0.46\t-\t.\tg1\n",
      "scaffold6_cov64\t489\t491\tscaffold6_cov64\tAUGUSTUS\tgene\t1\t5652\t0.46\t-\t.\tg1\n",
      "scaffold6_cov64\t826\t828\tscaffold6_cov64\tAUGUSTUS\tgene\t1\t5652\t0.46\t-\t.\tg1\n",
      "scaffold6_cov64\t2097\t2099\tscaffold6_cov64\tAUGUSTUS\tgene\t1\t5652\t0.46\t-\t.\tg1\n",
      "scaffold6_cov64\t2179\t2181\tscaffold6_cov64\tAUGUSTUS\tgene\t1\t5652\t0.46\t-\t.\tg1\n",
      "scaffold6_cov64\t2805\t2807\tscaffold6_cov64\tAUGUSTUS\tgene\t1\t5652\t0.46\t-\t.\tg1\n",
      "scaffold6_cov64\t3198\t3200\tscaffold6_cov64\tAUGUSTUS\tgene\t1\t5652\t0.46\t-\t.\tg1\n",
      "scaffold6_cov64\t3343\t3345\tscaffold6_cov64\tAUGUSTUS\tgene\t1\t5652\t0.46\t-\t.\tg1\n",
      "scaffold6_cov64\t3397\t3399\tscaffold6_cov64\tAUGUSTUS\tgene\t1\t5652\t0.46\t-\t.\tg1\n",
      "\n",
      "==> Meth9_R1_001_val_1_bismark_bt2_pe._5x.bedgraph.bed-paGenes <==\n",
      "scaffold6_cov64\t290\t292\tscaffold6_cov64\tAUGUSTUS\tgene\t1\t5652\t0.46\t-\t.\tg1\n",
      "scaffold6_cov64\t298\t300\tscaffold6_cov64\tAUGUSTUS\tgene\t1\t5652\t0.46\t-\t.\tg1\n",
      "scaffold6_cov64\t489\t491\tscaffold6_cov64\tAUGUSTUS\tgene\t1\t5652\t0.46\t-\t.\tg1\n",
      "scaffold6_cov64\t826\t828\tscaffold6_cov64\tAUGUSTUS\tgene\t1\t5652\t0.46\t-\t.\tg1\n",
      "scaffold6_cov64\t2097\t2099\tscaffold6_cov64\tAUGUSTUS\tgene\t1\t5652\t0.46\t-\t.\tg1\n",
      "scaffold6_cov64\t2179\t2181\tscaffold6_cov64\tAUGUSTUS\tgene\t1\t5652\t0.46\t-\t.\tg1\n",
      "scaffold6_cov64\t2805\t2807\tscaffold6_cov64\tAUGUSTUS\tgene\t1\t5652\t0.46\t-\t.\tg1\n",
      "scaffold6_cov64\t3198\t3200\tscaffold6_cov64\tAUGUSTUS\tgene\t1\t5652\t0.46\t-\t.\tg1\n",
      "scaffold6_cov64\t3343\t3345\tscaffold6_cov64\tAUGUSTUS\tgene\t1\t5652\t0.46\t-\t.\tg1\n",
      "scaffold6_cov64\t3397\t3399\tscaffold6_cov64\tAUGUSTUS\tgene\t1\t5652\t0.46\t-\t.\tg1\n"
     ]
    }
   ],
   "source": [
    "#Check output\n",
    "!head *paGenes"
   ]
  },
  {
   "cell_type": "code",
   "execution_count": 59,
   "metadata": {
    "collapsed": false,
    "scrolled": true
   },
   "outputs": [
    {
     "name": "stdout",
     "output_type": "stream",
     "text": [
      "   73959 Meth1_R1_001_val_1_bismark_bt2_pe._5x.bedgraph-Meth.bed-paGenes\n",
      "  157337 Meth1_R1_001_val_1_bismark_bt2_pe._5x.bedgraph-sparseMeth.bed-paGenes\n",
      " 2235696 Meth1_R1_001_val_1_bismark_bt2_pe._5x.bedgraph-unMeth.bed-paGenes\n",
      " 2466992 Meth1_R1_001_val_1_bismark_bt2_pe._5x.bedgraph.bed-paGenes\n",
      "   85861 Meth2_R1_001_val_1_bismark_bt2_pe._5x.bedgraph-Meth.bed-paGenes\n",
      "  144292 Meth2_R1_001_val_1_bismark_bt2_pe._5x.bedgraph-sparseMeth.bed-paGenes\n",
      " 2531803 Meth2_R1_001_val_1_bismark_bt2_pe._5x.bedgraph-unMeth.bed-paGenes\n",
      " 2761956 Meth2_R1_001_val_1_bismark_bt2_pe._5x.bedgraph.bed-paGenes\n",
      "   82377 Meth3_R1_001_val_1_bismark_bt2_pe._5x.bedgraph-Meth.bed-paGenes\n",
      "  161791 Meth3_R1_001_val_1_bismark_bt2_pe._5x.bedgraph-sparseMeth.bed-paGenes\n",
      " 2344110 Meth3_R1_001_val_1_bismark_bt2_pe._5x.bedgraph-unMeth.bed-paGenes\n",
      " 2588278 Meth3_R1_001_val_1_bismark_bt2_pe._5x.bedgraph.bed-paGenes\n",
      "   13588 Meth4_R1_001_val_1_bismark_bt2_pe._5x.bedgraph-Meth.bed-paGenes\n",
      "   56290 Meth4_R1_001_val_1_bismark_bt2_pe._5x.bedgraph-sparseMeth.bed-paGenes\n",
      "  706245 Meth4_R1_001_val_1_bismark_bt2_pe._5x.bedgraph-unMeth.bed-paGenes\n",
      "  776123 Meth4_R1_001_val_1_bismark_bt2_pe._5x.bedgraph.bed-paGenes\n",
      "   12789 Meth5_R1_001_val_1_bismark_bt2_pe._5x.bedgraph-Meth.bed-paGenes\n",
      "   25954 Meth5_R1_001_val_1_bismark_bt2_pe._5x.bedgraph-sparseMeth.bed-paGenes\n",
      "  568482 Meth5_R1_001_val_1_bismark_bt2_pe._5x.bedgraph-unMeth.bed-paGenes\n",
      "  607225 Meth5_R1_001_val_1_bismark_bt2_pe._5x.bedgraph.bed-paGenes\n",
      "   11396 Meth6_R1_001_val_1_bismark_bt2_pe._5x.bedgraph-Meth.bed-paGenes\n",
      "   35633 Meth6_R1_001_val_1_bismark_bt2_pe._5x.bedgraph-sparseMeth.bed-paGenes\n",
      "  592541 Meth6_R1_001_val_1_bismark_bt2_pe._5x.bedgraph-unMeth.bed-paGenes\n",
      "  639570 Meth6_R1_001_val_1_bismark_bt2_pe._5x.bedgraph.bed-paGenes\n",
      "  118291 Meth7_R1_001_val_1_bismark_bt2_pe._5x.bedgraph-Meth.bed-paGenes\n",
      "  120485 Meth7_R1_001_val_1_bismark_bt2_pe._5x.bedgraph-sparseMeth.bed-paGenes\n",
      " 1015029 Meth7_R1_001_val_1_bismark_bt2_pe._5x.bedgraph-unMeth.bed-paGenes\n",
      " 1253805 Meth7_R1_001_val_1_bismark_bt2_pe._5x.bedgraph.bed-paGenes\n",
      "   86074 Meth8_R1_001_val_1_bismark_bt2_pe._5x.bedgraph-Meth.bed-paGenes\n",
      "   27902 Meth8_R1_001_val_1_bismark_bt2_pe._5x.bedgraph-sparseMeth.bed-paGenes\n",
      "  106120 Meth8_R1_001_val_1_bismark_bt2_pe._5x.bedgraph-unMeth.bed-paGenes\n",
      "  220096 Meth8_R1_001_val_1_bismark_bt2_pe._5x.bedgraph.bed-paGenes\n",
      "  125536 Meth9_R1_001_val_1_bismark_bt2_pe._5x.bedgraph-Meth.bed-paGenes\n",
      "  139034 Meth9_R1_001_val_1_bismark_bt2_pe._5x.bedgraph-sparseMeth.bed-paGenes\n",
      " 1017074 Meth9_R1_001_val_1_bismark_bt2_pe._5x.bedgraph-unMeth.bed-paGenes\n",
      " 1281644 Meth9_R1_001_val_1_bismark_bt2_pe._5x.bedgraph.bed-paGenes\n",
      " 25191378 total\n"
     ]
    }
   ],
   "source": [
    "#Count number of overlaps\n",
    "!wc -l *paGenes"
   ]
  },
  {
   "cell_type": "code",
   "execution_count": 22,
   "metadata": {
    "collapsed": true
   },
   "outputs": [],
   "source": [
    "!wc -l *paGenes > Pact-5x-paGenes-counts.txt"
   ]
  },
  {
   "cell_type": "markdown",
   "metadata": {},
   "source": [
    "#### 4c. Coding Sequences (CDS)"
   ]
  },
  {
   "cell_type": "code",
   "execution_count": 60,
   "metadata": {
    "collapsed": true,
    "scrolled": true
   },
   "outputs": [],
   "source": [
    "%%bash\n",
    "\n",
    "for f in *bed\n",
    "do\n",
    "  /usr/local/bin/intersectBed \\\n",
    "  -wb \\\n",
    "  -a ${f} \\\n",
    "  -b ../../../genome-feature-files/Pact.GFFannotation.CDS.gff \\\n",
    "  > ${f}-paCDS\n",
    "done"
   ]
  },
  {
   "cell_type": "code",
   "execution_count": 61,
   "metadata": {
    "collapsed": false
   },
   "outputs": [
    {
     "name": "stdout",
     "output_type": "stream",
     "text": [
      "==> Meth1_R1_001_val_1_bismark_bt2_pe._5x.bedgraph-Meth.bed-paCDS <==\n",
      "scaffold7_cov100\t5500\t5502\tscaffold7_cov100\tAUGUSTUS\tCDS\t5466\t5540\t1\t-\t2\ttranscript_id \"g4.t1\"; gene_id \"g4\";\n",
      "scaffold7_cov100\t5500\t5502\tscaffold7_cov100\tAUGUSTUS\tCDS\t5466\t5540\t1\t-\t2\ttranscript_id \"g4.t2\"; gene_id \"g4\";\n",
      "scaffold7_cov100\t6144\t6146\tscaffold7_cov100\tAUGUSTUS\tCDS\t6091\t6217\t0.48\t-\t0\ttranscript_id \"g4.t1\"; gene_id \"g4\";\n",
      "scaffold7_cov100\t6144\t6146\tscaffold7_cov100\tAUGUSTUS\tCDS\t6091\t6211\t0.52\t-\t0\ttranscript_id \"g4.t2\"; gene_id \"g4\";\n",
      "scaffold7_cov100\t6188\t6190\tscaffold7_cov100\tAUGUSTUS\tCDS\t6091\t6217\t0.48\t-\t0\ttranscript_id \"g4.t1\"; gene_id \"g4\";\n",
      "scaffold7_cov100\t6188\t6190\tscaffold7_cov100\tAUGUSTUS\tCDS\t6091\t6211\t0.52\t-\t0\ttranscript_id \"g4.t2\"; gene_id \"g4\";\n",
      "scaffold7_cov100\t6198\t6200\tscaffold7_cov100\tAUGUSTUS\tCDS\t6091\t6217\t0.48\t-\t0\ttranscript_id \"g4.t1\"; gene_id \"g4\";\n",
      "scaffold7_cov100\t6198\t6200\tscaffold7_cov100\tAUGUSTUS\tCDS\t6091\t6211\t0.52\t-\t0\ttranscript_id \"g4.t2\"; gene_id \"g4\";\n",
      "scaffold7_cov100\t7696\t7698\tscaffold7_cov100\tAUGUSTUS\tCDS\t7650\t7715\t1\t-\t2\ttranscript_id \"g5.t1\"; gene_id \"g5\";\n",
      "scaffold7_cov100\t7696\t7698\tscaffold7_cov100\tAUGUSTUS\tCDS\t7650\t7715\t1\t-\t2\ttranscript_id \"g5.t2\"; gene_id \"g5\";\n",
      "\n",
      "==> Meth1_R1_001_val_1_bismark_bt2_pe._5x.bedgraph-sparseMeth.bed-paCDS <==\n",
      "scaffold7_cov100\t1293\t1295\tscaffold7_cov100\tAUGUSTUS\tCDS\t1\t2566\t0.96\t+\t1\ttranscript_id \"g3.t1\"; gene_id \"g3\";\n",
      "scaffold7_cov100\t2173\t2175\tscaffold7_cov100\tAUGUSTUS\tCDS\t1\t2566\t0.96\t+\t1\ttranscript_id \"g3.t1\"; gene_id \"g3\";\n",
      "scaffold7_cov100\t2289\t2291\tscaffold7_cov100\tAUGUSTUS\tCDS\t1\t2566\t0.96\t+\t1\ttranscript_id \"g3.t1\"; gene_id \"g3\";\n",
      "scaffold7_cov100\t9715\t9717\tscaffold7_cov100\tAUGUSTUS\tCDS\t9590\t9724\t1\t-\t0\ttranscript_id \"g6.t1\"; gene_id \"g6\";\n",
      "scaffold7_cov100\t15428\t15430\tscaffold7_cov100\tAUGUSTUS\tCDS\t15379\t15463\t0.93\t-\t0\ttranscript_id \"g7.t1\"; gene_id \"g7\";\n",
      "scaffold7_cov100\t15440\t15442\tscaffold7_cov100\tAUGUSTUS\tCDS\t15379\t15463\t0.93\t-\t0\ttranscript_id \"g7.t1\"; gene_id \"g7\";\n",
      "scaffold7_cov100\t15455\t15457\tscaffold7_cov100\tAUGUSTUS\tCDS\t15379\t15463\t0.93\t-\t0\ttranscript_id \"g7.t1\"; gene_id \"g7\";\n",
      "scaffold7_cov100\t15963\t15965\tscaffold7_cov100\tAUGUSTUS\tCDS\t15738\t18320\t0.53\t+\t0\ttranscript_id \"g8.t1\"; gene_id \"g8\";\n",
      "scaffold7_cov100\t15963\t15965\tscaffold7_cov100\tAUGUSTUS\tCDS\t15789\t18320\t0.43\t+\t0\ttranscript_id \"g8.t2\"; gene_id \"g8\";\n",
      "scaffold7_cov100\t16023\t16025\tscaffold7_cov100\tAUGUSTUS\tCDS\t15738\t18320\t0.53\t+\t0\ttranscript_id \"g8.t1\"; gene_id \"g8\";\n",
      "\n",
      "==> Meth1_R1_001_val_1_bismark_bt2_pe._5x.bedgraph-unMeth.bed-paCDS <==\n",
      "scaffold6_cov64\t826\t828\tscaffold6_cov64\tAUGUSTUS\tCDS\t495\t842\t0.84\t-\t2\ttranscript_id \"g1.t1\"; gene_id \"g1\";\n",
      "scaffold6_cov64\t826\t828\tscaffold6_cov64\tAUGUSTUS\tCDS\t495\t842\t0.84\t-\t2\ttranscript_id \"g1.t2\"; gene_id \"g1\";\n",
      "scaffold6_cov64\t1539\t1541\tscaffold6_cov64\tAUGUSTUS\tCDS\t1208\t1555\t0.92\t-\t2\ttranscript_id \"g1.t1\"; gene_id \"g1\";\n",
      "scaffold6_cov64\t1539\t1541\tscaffold6_cov64\tAUGUSTUS\tCDS\t1208\t1555\t0.92\t-\t2\ttranscript_id \"g1.t2\"; gene_id \"g1\";\n",
      "scaffold6_cov64\t2097\t2099\tscaffold6_cov64\tAUGUSTUS\tCDS\t1922\t2269\t1\t-\t2\ttranscript_id \"g1.t1\"; gene_id \"g1\";\n",
      "scaffold6_cov64\t2097\t2099\tscaffold6_cov64\tAUGUSTUS\tCDS\t1922\t2269\t1\t-\t2\ttranscript_id \"g1.t2\"; gene_id \"g1\";\n",
      "scaffold6_cov64\t2179\t2181\tscaffold6_cov64\tAUGUSTUS\tCDS\t1922\t2269\t1\t-\t2\ttranscript_id \"g1.t1\"; gene_id \"g1\";\n",
      "scaffold6_cov64\t2179\t2181\tscaffold6_cov64\tAUGUSTUS\tCDS\t1922\t2269\t1\t-\t2\ttranscript_id \"g1.t2\"; gene_id \"g1\";\n",
      "scaffold6_cov64\t2253\t2255\tscaffold6_cov64\tAUGUSTUS\tCDS\t1922\t2269\t1\t-\t2\ttranscript_id \"g1.t1\"; gene_id \"g1\";\n",
      "scaffold6_cov64\t2253\t2255\tscaffold6_cov64\tAUGUSTUS\tCDS\t1922\t2269\t1\t-\t2\ttranscript_id \"g1.t2\"; gene_id \"g1\";\n",
      "\n",
      "==> Meth1_R1_001_val_1_bismark_bt2_pe._5x.bedgraph.bed-paCDS <==\n",
      "scaffold6_cov64\t826\t828\tscaffold6_cov64\tAUGUSTUS\tCDS\t495\t842\t0.84\t-\t2\ttranscript_id \"g1.t1\"; gene_id \"g1\";\n",
      "scaffold6_cov64\t826\t828\tscaffold6_cov64\tAUGUSTUS\tCDS\t495\t842\t0.84\t-\t2\ttranscript_id \"g1.t2\"; gene_id \"g1\";\n",
      "scaffold6_cov64\t1539\t1541\tscaffold6_cov64\tAUGUSTUS\tCDS\t1208\t1555\t0.92\t-\t2\ttranscript_id \"g1.t1\"; gene_id \"g1\";\n",
      "scaffold6_cov64\t1539\t1541\tscaffold6_cov64\tAUGUSTUS\tCDS\t1208\t1555\t0.92\t-\t2\ttranscript_id \"g1.t2\"; gene_id \"g1\";\n",
      "scaffold6_cov64\t2097\t2099\tscaffold6_cov64\tAUGUSTUS\tCDS\t1922\t2269\t1\t-\t2\ttranscript_id \"g1.t1\"; gene_id \"g1\";\n",
      "scaffold6_cov64\t2097\t2099\tscaffold6_cov64\tAUGUSTUS\tCDS\t1922\t2269\t1\t-\t2\ttranscript_id \"g1.t2\"; gene_id \"g1\";\n",
      "scaffold6_cov64\t2179\t2181\tscaffold6_cov64\tAUGUSTUS\tCDS\t1922\t2269\t1\t-\t2\ttranscript_id \"g1.t1\"; gene_id \"g1\";\n",
      "scaffold6_cov64\t2179\t2181\tscaffold6_cov64\tAUGUSTUS\tCDS\t1922\t2269\t1\t-\t2\ttranscript_id \"g1.t2\"; gene_id \"g1\";\n",
      "scaffold6_cov64\t2253\t2255\tscaffold6_cov64\tAUGUSTUS\tCDS\t1922\t2269\t1\t-\t2\ttranscript_id \"g1.t1\"; gene_id \"g1\";\n",
      "scaffold6_cov64\t2253\t2255\tscaffold6_cov64\tAUGUSTUS\tCDS\t1922\t2269\t1\t-\t2\ttranscript_id \"g1.t2\"; gene_id \"g1\";\n",
      "\n",
      "==> Meth2_R1_001_val_1_bismark_bt2_pe._5x.bedgraph-Meth.bed-paCDS <==\n",
      "scaffold7_cov100\t5500\t5502\tscaffold7_cov100\tAUGUSTUS\tCDS\t5466\t5540\t1\t-\t2\ttranscript_id \"g4.t1\"; gene_id \"g4\";\n",
      "scaffold7_cov100\t5500\t5502\tscaffold7_cov100\tAUGUSTUS\tCDS\t5466\t5540\t1\t-\t2\ttranscript_id \"g4.t2\"; gene_id \"g4\";\n",
      "scaffold7_cov100\t6144\t6146\tscaffold7_cov100\tAUGUSTUS\tCDS\t6091\t6217\t0.48\t-\t0\ttranscript_id \"g4.t1\"; gene_id \"g4\";\n",
      "scaffold7_cov100\t6144\t6146\tscaffold7_cov100\tAUGUSTUS\tCDS\t6091\t6211\t0.52\t-\t0\ttranscript_id \"g4.t2\"; gene_id \"g4\";\n",
      "scaffold7_cov100\t6188\t6190\tscaffold7_cov100\tAUGUSTUS\tCDS\t6091\t6217\t0.48\t-\t0\ttranscript_id \"g4.t1\"; gene_id \"g4\";\n",
      "scaffold7_cov100\t6188\t6190\tscaffold7_cov100\tAUGUSTUS\tCDS\t6091\t6211\t0.52\t-\t0\ttranscript_id \"g4.t2\"; gene_id \"g4\";\n",
      "scaffold7_cov100\t6198\t6200\tscaffold7_cov100\tAUGUSTUS\tCDS\t6091\t6217\t0.48\t-\t0\ttranscript_id \"g4.t1\"; gene_id \"g4\";\n",
      "scaffold7_cov100\t6198\t6200\tscaffold7_cov100\tAUGUSTUS\tCDS\t6091\t6211\t0.52\t-\t0\ttranscript_id \"g4.t2\"; gene_id \"g4\";\n",
      "scaffold7_cov100\t7696\t7698\tscaffold7_cov100\tAUGUSTUS\tCDS\t7650\t7715\t1\t-\t2\ttranscript_id \"g5.t1\"; gene_id \"g5\";\n",
      "scaffold7_cov100\t7696\t7698\tscaffold7_cov100\tAUGUSTUS\tCDS\t7650\t7715\t1\t-\t2\ttranscript_id \"g5.t2\"; gene_id \"g5\";\n",
      "\n",
      "==> Meth2_R1_001_val_1_bismark_bt2_pe._5x.bedgraph-sparseMeth.bed-paCDS <==\n",
      "scaffold7_cov100\t10755\t10757\tscaffold7_cov100\tAUGUSTUS\tCDS\t10595\t10789\t0.95\t-\t0\ttranscript_id \"g6.t1\"; gene_id \"g6\";\n",
      "scaffold7_cov100\t15455\t15457\tscaffold7_cov100\tAUGUSTUS\tCDS\t15379\t15463\t0.93\t-\t0\ttranscript_id \"g7.t1\"; gene_id \"g7\";\n",
      "scaffold7_cov100\t16874\t16876\tscaffold7_cov100\tAUGUSTUS\tCDS\t15738\t18320\t0.53\t+\t0\ttranscript_id \"g8.t1\"; gene_id \"g8\";\n",
      "scaffold7_cov100\t16874\t16876\tscaffold7_cov100\tAUGUSTUS\tCDS\t15789\t18320\t0.43\t+\t0\ttranscript_id \"g8.t2\"; gene_id \"g8\";\n",
      "scaffold7_cov100\t17074\t17076\tscaffold7_cov100\tAUGUSTUS\tCDS\t15738\t18320\t0.53\t+\t0\ttranscript_id \"g8.t1\"; gene_id \"g8\";\n",
      "scaffold7_cov100\t17074\t17076\tscaffold7_cov100\tAUGUSTUS\tCDS\t15789\t18320\t0.43\t+\t0\ttranscript_id \"g8.t2\"; gene_id \"g8\";\n",
      "scaffold7_cov100\t17098\t17100\tscaffold7_cov100\tAUGUSTUS\tCDS\t15738\t18320\t0.53\t+\t0\ttranscript_id \"g8.t1\"; gene_id \"g8\";\n",
      "scaffold7_cov100\t17098\t17100\tscaffold7_cov100\tAUGUSTUS\tCDS\t15789\t18320\t0.43\t+\t0\ttranscript_id \"g8.t2\"; gene_id \"g8\";\n",
      "scaffold7_cov100\t17212\t17214\tscaffold7_cov100\tAUGUSTUS\tCDS\t15738\t18320\t0.53\t+\t0\ttranscript_id \"g8.t1\"; gene_id \"g8\";\n",
      "scaffold7_cov100\t17212\t17214\tscaffold7_cov100\tAUGUSTUS\tCDS\t15789\t18320\t0.43\t+\t0\ttranscript_id \"g8.t2\"; gene_id \"g8\";\n",
      "\n",
      "==> Meth2_R1_001_val_1_bismark_bt2_pe._5x.bedgraph-unMeth.bed-paCDS <==\n",
      "scaffold6_cov64\t826\t828\tscaffold6_cov64\tAUGUSTUS\tCDS\t495\t842\t0.84\t-\t2\ttranscript_id \"g1.t1\"; gene_id \"g1\";\n",
      "scaffold6_cov64\t826\t828\tscaffold6_cov64\tAUGUSTUS\tCDS\t495\t842\t0.84\t-\t2\ttranscript_id \"g1.t2\"; gene_id \"g1\";\n",
      "scaffold6_cov64\t1539\t1541\tscaffold6_cov64\tAUGUSTUS\tCDS\t1208\t1555\t0.92\t-\t2\ttranscript_id \"g1.t1\"; gene_id \"g1\";\n",
      "scaffold6_cov64\t1539\t1541\tscaffold6_cov64\tAUGUSTUS\tCDS\t1208\t1555\t0.92\t-\t2\ttranscript_id \"g1.t2\"; gene_id \"g1\";\n",
      "scaffold6_cov64\t2097\t2099\tscaffold6_cov64\tAUGUSTUS\tCDS\t1922\t2269\t1\t-\t2\ttranscript_id \"g1.t1\"; gene_id \"g1\";\n",
      "scaffold6_cov64\t2097\t2099\tscaffold6_cov64\tAUGUSTUS\tCDS\t1922\t2269\t1\t-\t2\ttranscript_id \"g1.t2\"; gene_id \"g1\";\n",
      "scaffold6_cov64\t2179\t2181\tscaffold6_cov64\tAUGUSTUS\tCDS\t1922\t2269\t1\t-\t2\ttranscript_id \"g1.t1\"; gene_id \"g1\";\n",
      "scaffold6_cov64\t2179\t2181\tscaffold6_cov64\tAUGUSTUS\tCDS\t1922\t2269\t1\t-\t2\ttranscript_id \"g1.t2\"; gene_id \"g1\";\n",
      "scaffold6_cov64\t2253\t2255\tscaffold6_cov64\tAUGUSTUS\tCDS\t1922\t2269\t1\t-\t2\ttranscript_id \"g1.t1\"; gene_id \"g1\";\n",
      "scaffold6_cov64\t2253\t2255\tscaffold6_cov64\tAUGUSTUS\tCDS\t1922\t2269\t1\t-\t2\ttranscript_id \"g1.t2\"; gene_id \"g1\";\n",
      "\n",
      "==> Meth2_R1_001_val_1_bismark_bt2_pe._5x.bedgraph.bed-paCDS <==\n",
      "scaffold6_cov64\t826\t828\tscaffold6_cov64\tAUGUSTUS\tCDS\t495\t842\t0.84\t-\t2\ttranscript_id \"g1.t1\"; gene_id \"g1\";\n",
      "scaffold6_cov64\t826\t828\tscaffold6_cov64\tAUGUSTUS\tCDS\t495\t842\t0.84\t-\t2\ttranscript_id \"g1.t2\"; gene_id \"g1\";\n",
      "scaffold6_cov64\t1539\t1541\tscaffold6_cov64\tAUGUSTUS\tCDS\t1208\t1555\t0.92\t-\t2\ttranscript_id \"g1.t1\"; gene_id \"g1\";\n",
      "scaffold6_cov64\t1539\t1541\tscaffold6_cov64\tAUGUSTUS\tCDS\t1208\t1555\t0.92\t-\t2\ttranscript_id \"g1.t2\"; gene_id \"g1\";\n",
      "scaffold6_cov64\t2097\t2099\tscaffold6_cov64\tAUGUSTUS\tCDS\t1922\t2269\t1\t-\t2\ttranscript_id \"g1.t1\"; gene_id \"g1\";\n",
      "scaffold6_cov64\t2097\t2099\tscaffold6_cov64\tAUGUSTUS\tCDS\t1922\t2269\t1\t-\t2\ttranscript_id \"g1.t2\"; gene_id \"g1\";\n",
      "scaffold6_cov64\t2179\t2181\tscaffold6_cov64\tAUGUSTUS\tCDS\t1922\t2269\t1\t-\t2\ttranscript_id \"g1.t1\"; gene_id \"g1\";\n",
      "scaffold6_cov64\t2179\t2181\tscaffold6_cov64\tAUGUSTUS\tCDS\t1922\t2269\t1\t-\t2\ttranscript_id \"g1.t2\"; gene_id \"g1\";\n",
      "scaffold6_cov64\t2253\t2255\tscaffold6_cov64\tAUGUSTUS\tCDS\t1922\t2269\t1\t-\t2\ttranscript_id \"g1.t1\"; gene_id \"g1\";\n",
      "scaffold6_cov64\t2253\t2255\tscaffold6_cov64\tAUGUSTUS\tCDS\t1922\t2269\t1\t-\t2\ttranscript_id \"g1.t2\"; gene_id \"g1\";\n",
      "\n",
      "==> Meth3_R1_001_val_1_bismark_bt2_pe._5x.bedgraph-Meth.bed-paCDS <==\n",
      "scaffold7_cov100\t5500\t5502\tscaffold7_cov100\tAUGUSTUS\tCDS\t5466\t5540\t1\t-\t2\ttranscript_id \"g4.t1\"; gene_id \"g4\";\n",
      "scaffold7_cov100\t5500\t5502\tscaffold7_cov100\tAUGUSTUS\tCDS\t5466\t5540\t1\t-\t2\ttranscript_id \"g4.t2\"; gene_id \"g4\";\n",
      "scaffold7_cov100\t6144\t6146\tscaffold7_cov100\tAUGUSTUS\tCDS\t6091\t6217\t0.48\t-\t0\ttranscript_id \"g4.t1\"; gene_id \"g4\";\n",
      "scaffold7_cov100\t6144\t6146\tscaffold7_cov100\tAUGUSTUS\tCDS\t6091\t6211\t0.52\t-\t0\ttranscript_id \"g4.t2\"; gene_id \"g4\";\n",
      "scaffold7_cov100\t6188\t6190\tscaffold7_cov100\tAUGUSTUS\tCDS\t6091\t6217\t0.48\t-\t0\ttranscript_id \"g4.t1\"; gene_id \"g4\";\n",
      "scaffold7_cov100\t6188\t6190\tscaffold7_cov100\tAUGUSTUS\tCDS\t6091\t6211\t0.52\t-\t0\ttranscript_id \"g4.t2\"; gene_id \"g4\";\n",
      "scaffold7_cov100\t6198\t6200\tscaffold7_cov100\tAUGUSTUS\tCDS\t6091\t6217\t0.48\t-\t0\ttranscript_id \"g4.t1\"; gene_id \"g4\";\n",
      "scaffold7_cov100\t6198\t6200\tscaffold7_cov100\tAUGUSTUS\tCDS\t6091\t6211\t0.52\t-\t0\ttranscript_id \"g4.t2\"; gene_id \"g4\";\n",
      "scaffold7_cov100\t7696\t7698\tscaffold7_cov100\tAUGUSTUS\tCDS\t7650\t7715\t1\t-\t2\ttranscript_id \"g5.t1\"; gene_id \"g5\";\n",
      "scaffold7_cov100\t7696\t7698\tscaffold7_cov100\tAUGUSTUS\tCDS\t7650\t7715\t1\t-\t2\ttranscript_id \"g5.t2\"; gene_id \"g5\";\n",
      "\n",
      "==> Meth3_R1_001_val_1_bismark_bt2_pe._5x.bedgraph-sparseMeth.bed-paCDS <==\n",
      "scaffold6_cov64\t5992\t5994\tscaffold6_cov64\tAUGUSTUS\tCDS\t5946\t6267\t0.33\t+\t2\ttranscript_id \"g2.t1\"; gene_id \"g2\";\n",
      "scaffold6_cov64\t5992\t5994\tscaffold6_cov64\tAUGUSTUS\tCDS\t5982\t6267\t0.27\t+\t2\ttranscript_id \"g2.t2\"; gene_id \"g2\";\n",
      "scaffold7_cov100\t1535\t1537\tscaffold7_cov100\tAUGUSTUS\tCDS\t1\t2566\t0.96\t+\t1\ttranscript_id \"g3.t1\"; gene_id \"g3\";\n",
      "scaffold7_cov100\t4630\t4632\tscaffold7_cov100\tAUGUSTUS\tCDS\t4608\t4780\t1\t-\t2\ttranscript_id \"g4.t1\"; gene_id \"g4\";\n",
      "scaffold7_cov100\t4630\t4632\tscaffold7_cov100\tAUGUSTUS\tCDS\t4608\t4780\t1\t-\t2\ttranscript_id \"g4.t2\"; gene_id \"g4\";\n",
      "scaffold7_cov100\t4678\t4680\tscaffold7_cov100\tAUGUSTUS\tCDS\t4608\t4780\t1\t-\t2\ttranscript_id \"g4.t1\"; gene_id \"g4\";\n",
      "scaffold7_cov100\t4678\t4680\tscaffold7_cov100\tAUGUSTUS\tCDS\t4608\t4780\t1\t-\t2\ttranscript_id \"g4.t2\"; gene_id \"g4\";\n",
      "scaffold7_cov100\t9715\t9717\tscaffold7_cov100\tAUGUSTUS\tCDS\t9590\t9724\t1\t-\t0\ttranscript_id \"g6.t1\"; gene_id \"g6\";\n",
      "scaffold7_cov100\t10755\t10757\tscaffold7_cov100\tAUGUSTUS\tCDS\t10595\t10789\t0.95\t-\t0\ttranscript_id \"g6.t1\"; gene_id \"g6\";\n",
      "scaffold7_cov100\t14042\t14044\tscaffold7_cov100\tAUGUSTUS\tCDS\t13744\t14512\t1\t-\t0\ttranscript_id \"g7.t1\"; gene_id \"g7\";\n",
      "\n",
      "==> Meth3_R1_001_val_1_bismark_bt2_pe._5x.bedgraph-unMeth.bed-paCDS <==\n",
      "scaffold6_cov64\t826\t828\tscaffold6_cov64\tAUGUSTUS\tCDS\t495\t842\t0.84\t-\t2\ttranscript_id \"g1.t1\"; gene_id \"g1\";\n",
      "scaffold6_cov64\t826\t828\tscaffold6_cov64\tAUGUSTUS\tCDS\t495\t842\t0.84\t-\t2\ttranscript_id \"g1.t2\"; gene_id \"g1\";\n",
      "scaffold6_cov64\t2097\t2099\tscaffold6_cov64\tAUGUSTUS\tCDS\t1922\t2269\t1\t-\t2\ttranscript_id \"g1.t1\"; gene_id \"g1\";\n",
      "scaffold6_cov64\t2097\t2099\tscaffold6_cov64\tAUGUSTUS\tCDS\t1922\t2269\t1\t-\t2\ttranscript_id \"g1.t2\"; gene_id \"g1\";\n",
      "scaffold6_cov64\t2179\t2181\tscaffold6_cov64\tAUGUSTUS\tCDS\t1922\t2269\t1\t-\t2\ttranscript_id \"g1.t1\"; gene_id \"g1\";\n",
      "scaffold6_cov64\t2179\t2181\tscaffold6_cov64\tAUGUSTUS\tCDS\t1922\t2269\t1\t-\t2\ttranscript_id \"g1.t2\"; gene_id \"g1\";\n",
      "scaffold6_cov64\t2253\t2255\tscaffold6_cov64\tAUGUSTUS\tCDS\t1922\t2269\t1\t-\t2\ttranscript_id \"g1.t1\"; gene_id \"g1\";\n",
      "scaffold6_cov64\t2253\t2255\tscaffold6_cov64\tAUGUSTUS\tCDS\t1922\t2269\t1\t-\t2\ttranscript_id \"g1.t2\"; gene_id \"g1\";\n",
      "scaffold6_cov64\t4793\t4795\tscaffold6_cov64\tAUGUSTUS\tCDS\t4754\t4851\t0.4\t-\t1\ttranscript_id \"g1.t2\"; gene_id \"g1\";\n",
      "scaffold6_cov64\t5582\t5583\tscaffold6_cov64\tAUGUSTUS\tCDS\t5583\t5652\t0.26\t-\t0\ttranscript_id \"g1.t1\"; gene_id \"g1\";\n",
      "\n",
      "==> Meth3_R1_001_val_1_bismark_bt2_pe._5x.bedgraph.bed-paCDS <==\n",
      "scaffold6_cov64\t826\t828\tscaffold6_cov64\tAUGUSTUS\tCDS\t495\t842\t0.84\t-\t2\ttranscript_id \"g1.t1\"; gene_id \"g1\";\n",
      "scaffold6_cov64\t826\t828\tscaffold6_cov64\tAUGUSTUS\tCDS\t495\t842\t0.84\t-\t2\ttranscript_id \"g1.t2\"; gene_id \"g1\";\n",
      "scaffold6_cov64\t2097\t2099\tscaffold6_cov64\tAUGUSTUS\tCDS\t1922\t2269\t1\t-\t2\ttranscript_id \"g1.t1\"; gene_id \"g1\";\n",
      "scaffold6_cov64\t2097\t2099\tscaffold6_cov64\tAUGUSTUS\tCDS\t1922\t2269\t1\t-\t2\ttranscript_id \"g1.t2\"; gene_id \"g1\";\n",
      "scaffold6_cov64\t2179\t2181\tscaffold6_cov64\tAUGUSTUS\tCDS\t1922\t2269\t1\t-\t2\ttranscript_id \"g1.t1\"; gene_id \"g1\";\n",
      "scaffold6_cov64\t2179\t2181\tscaffold6_cov64\tAUGUSTUS\tCDS\t1922\t2269\t1\t-\t2\ttranscript_id \"g1.t2\"; gene_id \"g1\";\n",
      "scaffold6_cov64\t2253\t2255\tscaffold6_cov64\tAUGUSTUS\tCDS\t1922\t2269\t1\t-\t2\ttranscript_id \"g1.t1\"; gene_id \"g1\";\n",
      "scaffold6_cov64\t2253\t2255\tscaffold6_cov64\tAUGUSTUS\tCDS\t1922\t2269\t1\t-\t2\ttranscript_id \"g1.t2\"; gene_id \"g1\";\n",
      "scaffold6_cov64\t4793\t4795\tscaffold6_cov64\tAUGUSTUS\tCDS\t4754\t4851\t0.4\t-\t1\ttranscript_id \"g1.t2\"; gene_id \"g1\";\n",
      "scaffold6_cov64\t5582\t5583\tscaffold6_cov64\tAUGUSTUS\tCDS\t5583\t5652\t0.26\t-\t0\ttranscript_id \"g1.t1\"; gene_id \"g1\";\n",
      "\n",
      "==> Meth4_R1_001_val_1_bismark_bt2_pe._5x.bedgraph-Meth.bed-paCDS <==\n",
      "scaffold7_cov100\t1535\t1537\tscaffold7_cov100\tAUGUSTUS\tCDS\t1\t2566\t0.96\t+\t1\ttranscript_id \"g3.t1\"; gene_id \"g3\";\n",
      "scaffold7_cov100\t33140\t33142\tscaffold7_cov100\tAUGUSTUS\tCDS\t32892\t33408\t1\t-\t0\ttranscript_id \"g13.t1\"; gene_id \"g13\";\n",
      "scaffold7_cov100\t33140\t33142\tscaffold7_cov100\tAUGUSTUS\tCDS\t32892\t33408\t1\t-\t0\ttranscript_id \"g13.t2\"; gene_id \"g13\";\n",
      "scaffold7_cov100\t33157\t33159\tscaffold7_cov100\tAUGUSTUS\tCDS\t32892\t33408\t1\t-\t0\ttranscript_id \"g13.t1\"; gene_id \"g13\";\n",
      "scaffold7_cov100\t33157\t33159\tscaffold7_cov100\tAUGUSTUS\tCDS\t32892\t33408\t1\t-\t0\ttranscript_id \"g13.t2\"; gene_id \"g13\";\n",
      "scaffold7_cov100\t96791\t96793\tscaffold7_cov100\tAUGUSTUS\tCDS\t96783\t96869\t0.96\t-\t0\ttranscript_id \"g24.t1\"; gene_id \"g24\";\n",
      "scaffold7_cov100\t96791\t96793\tscaffold7_cov100\tAUGUSTUS\tCDS\t96783\t96869\t0.96\t-\t0\ttranscript_id \"g24.t2\"; gene_id \"g24\";\n",
      "scaffold7_cov100\t138357\t138359\tscaffold7_cov100\tAUGUSTUS\tCDS\t138095\t138451\t0.76\t-\t0\ttranscript_id \"g33.t1\"; gene_id \"g33\";\n",
      "scaffold7_cov100\t138372\t138374\tscaffold7_cov100\tAUGUSTUS\tCDS\t138095\t138451\t0.76\t-\t0\ttranscript_id \"g33.t1\"; gene_id \"g33\";\n",
      "scaffold7_cov100\t138390\t138392\tscaffold7_cov100\tAUGUSTUS\tCDS\t138095\t138451\t0.76\t-\t0\ttranscript_id \"g33.t1\"; gene_id \"g33\";\n",
      "\n",
      "==> Meth4_R1_001_val_1_bismark_bt2_pe._5x.bedgraph-sparseMeth.bed-paCDS <==\n",
      "scaffold7_cov100\t1618\t1620\tscaffold7_cov100\tAUGUSTUS\tCDS\t1\t2566\t0.96\t+\t1\ttranscript_id \"g3.t1\"; gene_id \"g3\";\n",
      "scaffold7_cov100\t1628\t1630\tscaffold7_cov100\tAUGUSTUS\tCDS\t1\t2566\t0.96\t+\t1\ttranscript_id \"g3.t1\"; gene_id \"g3\";\n",
      "scaffold7_cov100\t15408\t15410\tscaffold7_cov100\tAUGUSTUS\tCDS\t15379\t15463\t0.93\t-\t0\ttranscript_id \"g7.t1\"; gene_id \"g7\";\n",
      "scaffold7_cov100\t46343\t46345\tscaffold7_cov100\tAUGUSTUS\tCDS\t45637\t46757\t1\t+\t2\ttranscript_id \"g14.t1\"; gene_id \"g14\";\n",
      "scaffold7_cov100\t46397\t46399\tscaffold7_cov100\tAUGUSTUS\tCDS\t45637\t46757\t1\t+\t2\ttranscript_id \"g14.t1\"; gene_id \"g14\";\n",
      "scaffold7_cov100\t48729\t48731\tscaffold7_cov100\tAUGUSTUS\tCDS\t48036\t49271\t0.54\t-\t0\ttranscript_id \"g15.t1\"; gene_id \"g15\";\n",
      "scaffold7_cov100\t55479\t55481\tscaffold7_cov100\tAUGUSTUS\tCDS\t55439\t55521\t1\t+\t2\ttranscript_id \"g16.t1\"; gene_id \"g16\";\n",
      "scaffold7_cov100\t61080\t61082\tscaffold7_cov100\tAUGUSTUS\tCDS\t61010\t61128\t1\t+\t0\ttranscript_id \"g16.t1\"; gene_id \"g16\";\n",
      "scaffold7_cov100\t91942\t91943\tscaffold7_cov100\tAUGUSTUS\tCDS\t91943\t91989\t0.83\t-\t0\ttranscript_id \"g23.t1\"; gene_id \"g23\";\n",
      "scaffold7_cov100\t96787\t96789\tscaffold7_cov100\tAUGUSTUS\tCDS\t96783\t96869\t0.96\t-\t0\ttranscript_id \"g24.t1\"; gene_id \"g24\";\n",
      "\n",
      "==> Meth4_R1_001_val_1_bismark_bt2_pe._5x.bedgraph-unMeth.bed-paCDS <==\n",
      "scaffold6_cov64\t5582\t5583\tscaffold6_cov64\tAUGUSTUS\tCDS\t5583\t5652\t0.26\t-\t0\ttranscript_id \"g1.t1\"; gene_id \"g1\";\n",
      "scaffold6_cov64\t5583\t5585\tscaffold6_cov64\tAUGUSTUS\tCDS\t5583\t5652\t0.26\t-\t0\ttranscript_id \"g1.t1\"; gene_id \"g1\";\n",
      "scaffold6_cov64\t5592\t5594\tscaffold6_cov64\tAUGUSTUS\tCDS\t5583\t5652\t0.26\t-\t0\ttranscript_id \"g1.t1\"; gene_id \"g1\";\n",
      "scaffold6_cov64\t5593\t5594\tscaffold6_cov64\tAUGUSTUS\tCDS\t5594\t5652\t0.54\t-\t0\ttranscript_id \"g1.t2\"; gene_id \"g1\";\n",
      "scaffold6_cov64\t5594\t5596\tscaffold6_cov64\tAUGUSTUS\tCDS\t5583\t5652\t0.26\t-\t0\ttranscript_id \"g1.t1\"; gene_id \"g1\";\n",
      "scaffold6_cov64\t5594\t5596\tscaffold6_cov64\tAUGUSTUS\tCDS\t5594\t5652\t0.54\t-\t0\ttranscript_id \"g1.t2\"; gene_id \"g1\";\n",
      "scaffold6_cov64\t5604\t5606\tscaffold6_cov64\tAUGUSTUS\tCDS\t5583\t5652\t0.26\t-\t0\ttranscript_id \"g1.t1\"; gene_id \"g1\";\n",
      "scaffold6_cov64\t5604\t5606\tscaffold6_cov64\tAUGUSTUS\tCDS\t5594\t5652\t0.54\t-\t0\ttranscript_id \"g1.t2\"; gene_id \"g1\";\n",
      "scaffold6_cov64\t5644\t5646\tscaffold6_cov64\tAUGUSTUS\tCDS\t5583\t5652\t0.26\t-\t0\ttranscript_id \"g1.t1\"; gene_id \"g1\";\n",
      "scaffold6_cov64\t5644\t5646\tscaffold6_cov64\tAUGUSTUS\tCDS\t5594\t5652\t0.54\t-\t0\ttranscript_id \"g1.t2\"; gene_id \"g1\";\n",
      "\n",
      "==> Meth4_R1_001_val_1_bismark_bt2_pe._5x.bedgraph.bed-paCDS <==\n",
      "scaffold6_cov64\t5582\t5583\tscaffold6_cov64\tAUGUSTUS\tCDS\t5583\t5652\t0.26\t-\t0\ttranscript_id \"g1.t1\"; gene_id \"g1\";\n",
      "scaffold6_cov64\t5583\t5585\tscaffold6_cov64\tAUGUSTUS\tCDS\t5583\t5652\t0.26\t-\t0\ttranscript_id \"g1.t1\"; gene_id \"g1\";\n",
      "scaffold6_cov64\t5592\t5594\tscaffold6_cov64\tAUGUSTUS\tCDS\t5583\t5652\t0.26\t-\t0\ttranscript_id \"g1.t1\"; gene_id \"g1\";\n",
      "scaffold6_cov64\t5593\t5594\tscaffold6_cov64\tAUGUSTUS\tCDS\t5594\t5652\t0.54\t-\t0\ttranscript_id \"g1.t2\"; gene_id \"g1\";\n",
      "scaffold6_cov64\t5594\t5596\tscaffold6_cov64\tAUGUSTUS\tCDS\t5583\t5652\t0.26\t-\t0\ttranscript_id \"g1.t1\"; gene_id \"g1\";\n",
      "scaffold6_cov64\t5594\t5596\tscaffold6_cov64\tAUGUSTUS\tCDS\t5594\t5652\t0.54\t-\t0\ttranscript_id \"g1.t2\"; gene_id \"g1\";\n",
      "scaffold6_cov64\t5604\t5606\tscaffold6_cov64\tAUGUSTUS\tCDS\t5583\t5652\t0.26\t-\t0\ttranscript_id \"g1.t1\"; gene_id \"g1\";\n",
      "scaffold6_cov64\t5604\t5606\tscaffold6_cov64\tAUGUSTUS\tCDS\t5594\t5652\t0.54\t-\t0\ttranscript_id \"g1.t2\"; gene_id \"g1\";\n",
      "scaffold6_cov64\t5644\t5646\tscaffold6_cov64\tAUGUSTUS\tCDS\t5583\t5652\t0.26\t-\t0\ttranscript_id \"g1.t1\"; gene_id \"g1\";\n",
      "scaffold6_cov64\t5644\t5646\tscaffold6_cov64\tAUGUSTUS\tCDS\t5594\t5652\t0.54\t-\t0\ttranscript_id \"g1.t2\"; gene_id \"g1\";\n",
      "\n",
      "==> Meth5_R1_001_val_1_bismark_bt2_pe._5x.bedgraph-Meth.bed-paCDS <==\n",
      "scaffold7_cov100\t2301\t2303\tscaffold7_cov100\tAUGUSTUS\tCDS\t1\t2566\t0.96\t+\t1\ttranscript_id \"g3.t1\"; gene_id \"g3\";\n",
      "scaffold7_cov100\t17000\t17002\tscaffold7_cov100\tAUGUSTUS\tCDS\t15738\t18320\t0.53\t+\t0\ttranscript_id \"g8.t1\"; gene_id \"g8\";\n",
      "scaffold7_cov100\t17000\t17002\tscaffold7_cov100\tAUGUSTUS\tCDS\t15789\t18320\t0.43\t+\t0\ttranscript_id \"g8.t2\"; gene_id \"g8\";\n",
      "scaffold7_cov100\t17090\t17092\tscaffold7_cov100\tAUGUSTUS\tCDS\t15738\t18320\t0.53\t+\t0\ttranscript_id \"g8.t1\"; gene_id \"g8\";\n",
      "scaffold7_cov100\t17090\t17092\tscaffold7_cov100\tAUGUSTUS\tCDS\t15789\t18320\t0.43\t+\t0\ttranscript_id \"g8.t2\"; gene_id \"g8\";\n",
      "scaffold7_cov100\t61080\t61082\tscaffold7_cov100\tAUGUSTUS\tCDS\t61010\t61128\t1\t+\t0\ttranscript_id \"g16.t1\"; gene_id \"g16\";\n",
      "scaffold7_cov100\t69126\t69128\tscaffold7_cov100\tAUGUSTUS\tCDS\t69127\t69211\t1\t-\t2\ttranscript_id \"g18.t1\"; gene_id \"g18\";\n",
      "scaffold7_cov100\t96787\t96789\tscaffold7_cov100\tAUGUSTUS\tCDS\t96783\t96869\t0.96\t-\t0\ttranscript_id \"g24.t1\"; gene_id \"g24\";\n",
      "scaffold7_cov100\t96787\t96789\tscaffold7_cov100\tAUGUSTUS\tCDS\t96783\t96869\t0.96\t-\t0\ttranscript_id \"g24.t2\"; gene_id \"g24\";\n",
      "scaffold7_cov100\t96791\t96793\tscaffold7_cov100\tAUGUSTUS\tCDS\t96783\t96869\t0.96\t-\t0\ttranscript_id \"g24.t1\"; gene_id \"g24\";\n",
      "\n",
      "==> Meth5_R1_001_val_1_bismark_bt2_pe._5x.bedgraph-sparseMeth.bed-paCDS <==\n",
      "scaffold7_cov100\t17074\t17076\tscaffold7_cov100\tAUGUSTUS\tCDS\t15738\t18320\t0.53\t+\t0\ttranscript_id \"g8.t1\"; gene_id \"g8\";\n",
      "scaffold7_cov100\t17074\t17076\tscaffold7_cov100\tAUGUSTUS\tCDS\t15789\t18320\t0.43\t+\t0\ttranscript_id \"g8.t2\"; gene_id \"g8\";\n",
      "scaffold7_cov100\t17098\t17100\tscaffold7_cov100\tAUGUSTUS\tCDS\t15738\t18320\t0.53\t+\t0\ttranscript_id \"g8.t1\"; gene_id \"g8\";\n",
      "scaffold7_cov100\t17098\t17100\tscaffold7_cov100\tAUGUSTUS\tCDS\t15789\t18320\t0.43\t+\t0\ttranscript_id \"g8.t2\"; gene_id \"g8\";\n",
      "scaffold7_cov100\t46343\t46345\tscaffold7_cov100\tAUGUSTUS\tCDS\t45637\t46757\t1\t+\t2\ttranscript_id \"g14.t1\"; gene_id \"g14\";\n",
      "scaffold7_cov100\t46428\t46430\tscaffold7_cov100\tAUGUSTUS\tCDS\t45637\t46757\t1\t+\t2\ttranscript_id \"g14.t1\"; gene_id \"g14\";\n",
      "scaffold7_cov100\t94139\t94141\tscaffold7_cov100\tAUGUSTUS\tCDS\t92877\t94547\t1\t-\t1\ttranscript_id \"g24.t1\"; gene_id \"g24\";\n",
      "scaffold7_cov100\t94139\t94141\tscaffold7_cov100\tAUGUSTUS\tCDS\t92877\t94547\t1\t-\t1\ttranscript_id \"g24.t2\"; gene_id \"g24\";\n",
      "scaffold7_cov100\t94142\t94144\tscaffold7_cov100\tAUGUSTUS\tCDS\t92877\t94547\t1\t-\t1\ttranscript_id \"g24.t1\"; gene_id \"g24\";\n",
      "scaffold7_cov100\t94142\t94144\tscaffold7_cov100\tAUGUSTUS\tCDS\t92877\t94547\t1\t-\t1\ttranscript_id \"g24.t2\"; gene_id \"g24\";\n",
      "\n",
      "==> Meth5_R1_001_val_1_bismark_bt2_pe._5x.bedgraph-unMeth.bed-paCDS <==\n",
      "scaffold6_cov64\t5582\t5583\tscaffold6_cov64\tAUGUSTUS\tCDS\t5583\t5652\t0.26\t-\t0\ttranscript_id \"g1.t1\"; gene_id \"g1\";\n",
      "scaffold6_cov64\t5583\t5585\tscaffold6_cov64\tAUGUSTUS\tCDS\t5583\t5652\t0.26\t-\t0\ttranscript_id \"g1.t1\"; gene_id \"g1\";\n",
      "scaffold6_cov64\t5592\t5594\tscaffold6_cov64\tAUGUSTUS\tCDS\t5583\t5652\t0.26\t-\t0\ttranscript_id \"g1.t1\"; gene_id \"g1\";\n",
      "scaffold6_cov64\t5593\t5594\tscaffold6_cov64\tAUGUSTUS\tCDS\t5594\t5652\t0.54\t-\t0\ttranscript_id \"g1.t2\"; gene_id \"g1\";\n",
      "scaffold6_cov64\t5594\t5596\tscaffold6_cov64\tAUGUSTUS\tCDS\t5583\t5652\t0.26\t-\t0\ttranscript_id \"g1.t1\"; gene_id \"g1\";\n",
      "scaffold6_cov64\t5594\t5596\tscaffold6_cov64\tAUGUSTUS\tCDS\t5594\t5652\t0.54\t-\t0\ttranscript_id \"g1.t2\"; gene_id \"g1\";\n",
      "scaffold6_cov64\t5604\t5606\tscaffold6_cov64\tAUGUSTUS\tCDS\t5583\t5652\t0.26\t-\t0\ttranscript_id \"g1.t1\"; gene_id \"g1\";\n",
      "scaffold6_cov64\t5604\t5606\tscaffold6_cov64\tAUGUSTUS\tCDS\t5594\t5652\t0.54\t-\t0\ttranscript_id \"g1.t2\"; gene_id \"g1\";\n",
      "scaffold6_cov64\t5644\t5646\tscaffold6_cov64\tAUGUSTUS\tCDS\t5583\t5652\t0.26\t-\t0\ttranscript_id \"g1.t1\"; gene_id \"g1\";\n",
      "scaffold6_cov64\t5644\t5646\tscaffold6_cov64\tAUGUSTUS\tCDS\t5594\t5652\t0.54\t-\t0\ttranscript_id \"g1.t2\"; gene_id \"g1\";\n",
      "\n",
      "==> Meth5_R1_001_val_1_bismark_bt2_pe._5x.bedgraph.bed-paCDS <==\n",
      "scaffold6_cov64\t5582\t5583\tscaffold6_cov64\tAUGUSTUS\tCDS\t5583\t5652\t0.26\t-\t0\ttranscript_id \"g1.t1\"; gene_id \"g1\";\n",
      "scaffold6_cov64\t5583\t5585\tscaffold6_cov64\tAUGUSTUS\tCDS\t5583\t5652\t0.26\t-\t0\ttranscript_id \"g1.t1\"; gene_id \"g1\";\n",
      "scaffold6_cov64\t5592\t5594\tscaffold6_cov64\tAUGUSTUS\tCDS\t5583\t5652\t0.26\t-\t0\ttranscript_id \"g1.t1\"; gene_id \"g1\";\n",
      "scaffold6_cov64\t5593\t5594\tscaffold6_cov64\tAUGUSTUS\tCDS\t5594\t5652\t0.54\t-\t0\ttranscript_id \"g1.t2\"; gene_id \"g1\";\n",
      "scaffold6_cov64\t5594\t5596\tscaffold6_cov64\tAUGUSTUS\tCDS\t5583\t5652\t0.26\t-\t0\ttranscript_id \"g1.t1\"; gene_id \"g1\";\n",
      "scaffold6_cov64\t5594\t5596\tscaffold6_cov64\tAUGUSTUS\tCDS\t5594\t5652\t0.54\t-\t0\ttranscript_id \"g1.t2\"; gene_id \"g1\";\n",
      "scaffold6_cov64\t5604\t5606\tscaffold6_cov64\tAUGUSTUS\tCDS\t5583\t5652\t0.26\t-\t0\ttranscript_id \"g1.t1\"; gene_id \"g1\";\n",
      "scaffold6_cov64\t5604\t5606\tscaffold6_cov64\tAUGUSTUS\tCDS\t5594\t5652\t0.54\t-\t0\ttranscript_id \"g1.t2\"; gene_id \"g1\";\n",
      "scaffold6_cov64\t5644\t5646\tscaffold6_cov64\tAUGUSTUS\tCDS\t5583\t5652\t0.26\t-\t0\ttranscript_id \"g1.t1\"; gene_id \"g1\";\n",
      "scaffold6_cov64\t5644\t5646\tscaffold6_cov64\tAUGUSTUS\tCDS\t5594\t5652\t0.54\t-\t0\ttranscript_id \"g1.t2\"; gene_id \"g1\";\n",
      "\n",
      "==> Meth6_R1_001_val_1_bismark_bt2_pe._5x.bedgraph-Meth.bed-paCDS <==\n",
      "scaffold7_cov100\t106242\t106244\tscaffold7_cov100\tAUGUSTUS\tCDS\t105977\t106562\t0.92\t+\t0\ttranscript_id \"g27.t1\"; gene_id \"g27\";\n",
      "scaffold7_cov100\t106251\t106253\tscaffold7_cov100\tAUGUSTUS\tCDS\t105977\t106562\t0.92\t+\t0\ttranscript_id \"g27.t1\"; gene_id \"g27\";\n",
      "scaffold7_cov100\t106254\t106256\tscaffold7_cov100\tAUGUSTUS\tCDS\t105977\t106562\t0.92\t+\t0\ttranscript_id \"g27.t1\"; gene_id \"g27\";\n",
      "scaffold7_cov100\t138357\t138359\tscaffold7_cov100\tAUGUSTUS\tCDS\t138095\t138451\t0.76\t-\t0\ttranscript_id \"g33.t1\"; gene_id \"g33\";\n",
      "scaffold7_cov100\t138372\t138374\tscaffold7_cov100\tAUGUSTUS\tCDS\t138095\t138451\t0.76\t-\t0\ttranscript_id \"g33.t1\"; gene_id \"g33\";\n",
      "scaffold7_cov100\t138390\t138392\tscaffold7_cov100\tAUGUSTUS\tCDS\t138095\t138451\t0.76\t-\t0\ttranscript_id \"g33.t1\"; gene_id \"g33\";\n",
      "scaffold7_cov100\t277720\t277722\tscaffold7_cov100\tAUGUSTUS\tCDS\t277721\t277780\t1\t-\t0\ttranscript_id \"g57.t1\"; gene_id \"g57\";\n",
      "scaffold7_cov100\t346786\t346788\tscaffold7_cov100\tAUGUSTUS\tCDS\t346473\t346845\t1\t+\t0\ttranscript_id \"g78.t1\"; gene_id \"g78\";\n",
      "scaffold7_cov100\t346786\t346788\tscaffold7_cov100\tAUGUSTUS\tCDS\t346473\t346845\t1\t+\t0\ttranscript_id \"g78.t2\"; gene_id \"g78\";\n",
      "scaffold7_cov100\t360165\t360167\tscaffold7_cov100\tAUGUSTUS\tCDS\t359591\t360506\t0.93\t-\t1\ttranscript_id \"g79.t1\"; gene_id \"g79\";\n",
      "\n",
      "==> Meth6_R1_001_val_1_bismark_bt2_pe._5x.bedgraph-sparseMeth.bed-paCDS <==\n",
      "scaffold6_cov64\t5604\t5606\tscaffold6_cov64\tAUGUSTUS\tCDS\t5583\t5652\t0.26\t-\t0\ttranscript_id \"g1.t1\"; gene_id \"g1\";\n",
      "scaffold6_cov64\t5604\t5606\tscaffold6_cov64\tAUGUSTUS\tCDS\t5594\t5652\t0.54\t-\t0\ttranscript_id \"g1.t2\"; gene_id \"g1\";\n",
      "scaffold6_cov64\t6266\t6267\tscaffold6_cov64\tAUGUSTUS\tCDS\t5946\t6267\t0.33\t+\t2\ttranscript_id \"g2.t1\"; gene_id \"g2\";\n",
      "scaffold6_cov64\t6266\t6267\tscaffold6_cov64\tAUGUSTUS\tCDS\t5982\t6267\t0.27\t+\t2\ttranscript_id \"g2.t2\"; gene_id \"g2\";\n",
      "scaffold7_cov100\t32984\t32986\tscaffold7_cov100\tAUGUSTUS\tCDS\t32892\t33408\t1\t-\t0\ttranscript_id \"g13.t1\"; gene_id \"g13\";\n",
      "scaffold7_cov100\t32984\t32986\tscaffold7_cov100\tAUGUSTUS\tCDS\t32892\t33408\t1\t-\t0\ttranscript_id \"g13.t2\"; gene_id \"g13\";\n",
      "scaffold7_cov100\t46343\t46345\tscaffold7_cov100\tAUGUSTUS\tCDS\t45637\t46757\t1\t+\t2\ttranscript_id \"g14.t1\"; gene_id \"g14\";\n",
      "scaffold7_cov100\t61080\t61082\tscaffold7_cov100\tAUGUSTUS\tCDS\t61010\t61128\t1\t+\t0\ttranscript_id \"g16.t1\"; gene_id \"g16\";\n",
      "scaffold7_cov100\t94109\t94111\tscaffold7_cov100\tAUGUSTUS\tCDS\t92877\t94547\t1\t-\t1\ttranscript_id \"g24.t1\"; gene_id \"g24\";\n",
      "scaffold7_cov100\t94109\t94111\tscaffold7_cov100\tAUGUSTUS\tCDS\t92877\t94547\t1\t-\t1\ttranscript_id \"g24.t2\"; gene_id \"g24\";\n",
      "\n",
      "==> Meth6_R1_001_val_1_bismark_bt2_pe._5x.bedgraph-unMeth.bed-paCDS <==\n",
      "scaffold6_cov64\t5582\t5583\tscaffold6_cov64\tAUGUSTUS\tCDS\t5583\t5652\t0.26\t-\t0\ttranscript_id \"g1.t1\"; gene_id \"g1\";\n",
      "scaffold6_cov64\t5583\t5585\tscaffold6_cov64\tAUGUSTUS\tCDS\t5583\t5652\t0.26\t-\t0\ttranscript_id \"g1.t1\"; gene_id \"g1\";\n",
      "scaffold6_cov64\t5592\t5594\tscaffold6_cov64\tAUGUSTUS\tCDS\t5583\t5652\t0.26\t-\t0\ttranscript_id \"g1.t1\"; gene_id \"g1\";\n",
      "scaffold6_cov64\t5593\t5594\tscaffold6_cov64\tAUGUSTUS\tCDS\t5594\t5652\t0.54\t-\t0\ttranscript_id \"g1.t2\"; gene_id \"g1\";\n",
      "scaffold6_cov64\t5594\t5596\tscaffold6_cov64\tAUGUSTUS\tCDS\t5583\t5652\t0.26\t-\t0\ttranscript_id \"g1.t1\"; gene_id \"g1\";\n",
      "scaffold6_cov64\t5594\t5596\tscaffold6_cov64\tAUGUSTUS\tCDS\t5594\t5652\t0.54\t-\t0\ttranscript_id \"g1.t2\"; gene_id \"g1\";\n",
      "scaffold6_cov64\t5644\t5646\tscaffold6_cov64\tAUGUSTUS\tCDS\t5583\t5652\t0.26\t-\t0\ttranscript_id \"g1.t1\"; gene_id \"g1\";\n",
      "scaffold6_cov64\t5644\t5646\tscaffold6_cov64\tAUGUSTUS\tCDS\t5594\t5652\t0.54\t-\t0\ttranscript_id \"g1.t2\"; gene_id \"g1\";\n",
      "scaffold6_cov64\t5821\t5823\tscaffold6_cov64\tAUGUSTUS\tCDS\t5805\t5838\t0.98\t+\t0\ttranscript_id \"g2.t1\"; gene_id \"g2\";\n",
      "scaffold6_cov64\t5821\t5823\tscaffold6_cov64\tAUGUSTUS\tCDS\t5805\t5838\t0.98\t+\t0\ttranscript_id \"g2.t2\"; gene_id \"g2\";\n",
      "\n",
      "==> Meth6_R1_001_val_1_bismark_bt2_pe._5x.bedgraph.bed-paCDS <==\n",
      "scaffold6_cov64\t5582\t5583\tscaffold6_cov64\tAUGUSTUS\tCDS\t5583\t5652\t0.26\t-\t0\ttranscript_id \"g1.t1\"; gene_id \"g1\";\n",
      "scaffold6_cov64\t5583\t5585\tscaffold6_cov64\tAUGUSTUS\tCDS\t5583\t5652\t0.26\t-\t0\ttranscript_id \"g1.t1\"; gene_id \"g1\";\n",
      "scaffold6_cov64\t5592\t5594\tscaffold6_cov64\tAUGUSTUS\tCDS\t5583\t5652\t0.26\t-\t0\ttranscript_id \"g1.t1\"; gene_id \"g1\";\n",
      "scaffold6_cov64\t5593\t5594\tscaffold6_cov64\tAUGUSTUS\tCDS\t5594\t5652\t0.54\t-\t0\ttranscript_id \"g1.t2\"; gene_id \"g1\";\n",
      "scaffold6_cov64\t5594\t5596\tscaffold6_cov64\tAUGUSTUS\tCDS\t5583\t5652\t0.26\t-\t0\ttranscript_id \"g1.t1\"; gene_id \"g1\";\n",
      "scaffold6_cov64\t5594\t5596\tscaffold6_cov64\tAUGUSTUS\tCDS\t5594\t5652\t0.54\t-\t0\ttranscript_id \"g1.t2\"; gene_id \"g1\";\n",
      "scaffold6_cov64\t5604\t5606\tscaffold6_cov64\tAUGUSTUS\tCDS\t5583\t5652\t0.26\t-\t0\ttranscript_id \"g1.t1\"; gene_id \"g1\";\n",
      "scaffold6_cov64\t5604\t5606\tscaffold6_cov64\tAUGUSTUS\tCDS\t5594\t5652\t0.54\t-\t0\ttranscript_id \"g1.t2\"; gene_id \"g1\";\n",
      "scaffold6_cov64\t5644\t5646\tscaffold6_cov64\tAUGUSTUS\tCDS\t5583\t5652\t0.26\t-\t0\ttranscript_id \"g1.t1\"; gene_id \"g1\";\n",
      "scaffold6_cov64\t5644\t5646\tscaffold6_cov64\tAUGUSTUS\tCDS\t5594\t5652\t0.54\t-\t0\ttranscript_id \"g1.t2\"; gene_id \"g1\";\n",
      "\n",
      "==> Meth7_R1_001_val_1_bismark_bt2_pe._5x.bedgraph-Meth.bed-paCDS <==\n",
      "scaffold7_cov100\t5500\t5502\tscaffold7_cov100\tAUGUSTUS\tCDS\t5466\t5540\t1\t-\t2\ttranscript_id \"g4.t1\"; gene_id \"g4\";\n",
      "scaffold7_cov100\t5500\t5502\tscaffold7_cov100\tAUGUSTUS\tCDS\t5466\t5540\t1\t-\t2\ttranscript_id \"g4.t2\"; gene_id \"g4\";\n",
      "scaffold7_cov100\t6144\t6146\tscaffold7_cov100\tAUGUSTUS\tCDS\t6091\t6217\t0.48\t-\t0\ttranscript_id \"g4.t1\"; gene_id \"g4\";\n",
      "scaffold7_cov100\t6144\t6146\tscaffold7_cov100\tAUGUSTUS\tCDS\t6091\t6211\t0.52\t-\t0\ttranscript_id \"g4.t2\"; gene_id \"g4\";\n",
      "scaffold7_cov100\t6188\t6190\tscaffold7_cov100\tAUGUSTUS\tCDS\t6091\t6217\t0.48\t-\t0\ttranscript_id \"g4.t1\"; gene_id \"g4\";\n",
      "scaffold7_cov100\t6188\t6190\tscaffold7_cov100\tAUGUSTUS\tCDS\t6091\t6211\t0.52\t-\t0\ttranscript_id \"g4.t2\"; gene_id \"g4\";\n",
      "scaffold7_cov100\t6198\t6200\tscaffold7_cov100\tAUGUSTUS\tCDS\t6091\t6217\t0.48\t-\t0\ttranscript_id \"g4.t1\"; gene_id \"g4\";\n",
      "scaffold7_cov100\t6198\t6200\tscaffold7_cov100\tAUGUSTUS\tCDS\t6091\t6211\t0.52\t-\t0\ttranscript_id \"g4.t2\"; gene_id \"g4\";\n",
      "scaffold7_cov100\t7696\t7698\tscaffold7_cov100\tAUGUSTUS\tCDS\t7650\t7715\t1\t-\t2\ttranscript_id \"g5.t1\"; gene_id \"g5\";\n",
      "scaffold7_cov100\t7696\t7698\tscaffold7_cov100\tAUGUSTUS\tCDS\t7650\t7715\t1\t-\t2\ttranscript_id \"g5.t2\"; gene_id \"g5\";\n",
      "\n",
      "==> Meth7_R1_001_val_1_bismark_bt2_pe._5x.bedgraph-sparseMeth.bed-paCDS <==\n",
      "scaffold6_cov64\t5644\t5646\tscaffold6_cov64\tAUGUSTUS\tCDS\t5583\t5652\t0.26\t-\t0\ttranscript_id \"g1.t1\"; gene_id \"g1\";\n",
      "scaffold6_cov64\t5644\t5646\tscaffold6_cov64\tAUGUSTUS\tCDS\t5594\t5652\t0.54\t-\t0\ttranscript_id \"g1.t2\"; gene_id \"g1\";\n",
      "scaffold7_cov100\t1422\t1424\tscaffold7_cov100\tAUGUSTUS\tCDS\t1\t2566\t0.96\t+\t1\ttranscript_id \"g3.t1\"; gene_id \"g3\";\n",
      "scaffold7_cov100\t1651\t1653\tscaffold7_cov100\tAUGUSTUS\tCDS\t1\t2566\t0.96\t+\t1\ttranscript_id \"g3.t1\"; gene_id \"g3\";\n",
      "scaffold7_cov100\t2080\t2082\tscaffold7_cov100\tAUGUSTUS\tCDS\t1\t2566\t0.96\t+\t1\ttranscript_id \"g3.t1\"; gene_id \"g3\";\n",
      "scaffold7_cov100\t14042\t14044\tscaffold7_cov100\tAUGUSTUS\tCDS\t13744\t14512\t1\t-\t0\ttranscript_id \"g7.t1\"; gene_id \"g7\";\n",
      "scaffold7_cov100\t17952\t17954\tscaffold7_cov100\tAUGUSTUS\tCDS\t15738\t18320\t0.53\t+\t0\ttranscript_id \"g8.t1\"; gene_id \"g8\";\n",
      "scaffold7_cov100\t17952\t17954\tscaffold7_cov100\tAUGUSTUS\tCDS\t15789\t18320\t0.43\t+\t0\ttranscript_id \"g8.t2\"; gene_id \"g8\";\n",
      "scaffold7_cov100\t19493\t19495\tscaffold7_cov100\tAUGUSTUS\tCDS\t19312\t19534\t0.29\t+\t0\ttranscript_id \"g10.t1\"; gene_id \"g10\";\n",
      "scaffold7_cov100\t19493\t19495\tscaffold7_cov100\tAUGUSTUS\tCDS\t19336\t19534\t0.59\t+\t0\ttranscript_id \"g10.t2\"; gene_id \"g10\";\n",
      "\n",
      "==> Meth7_R1_001_val_1_bismark_bt2_pe._5x.bedgraph-unMeth.bed-paCDS <==\n",
      "scaffold6_cov64\t2179\t2181\tscaffold6_cov64\tAUGUSTUS\tCDS\t1922\t2269\t1\t-\t2\ttranscript_id \"g1.t1\"; gene_id \"g1\";\n",
      "scaffold6_cov64\t2179\t2181\tscaffold6_cov64\tAUGUSTUS\tCDS\t1922\t2269\t1\t-\t2\ttranscript_id \"g1.t2\"; gene_id \"g1\";\n",
      "scaffold6_cov64\t4793\t4795\tscaffold6_cov64\tAUGUSTUS\tCDS\t4754\t4851\t0.4\t-\t1\ttranscript_id \"g1.t2\"; gene_id \"g1\";\n",
      "scaffold6_cov64\t5582\t5583\tscaffold6_cov64\tAUGUSTUS\tCDS\t5583\t5652\t0.26\t-\t0\ttranscript_id \"g1.t1\"; gene_id \"g1\";\n",
      "scaffold6_cov64\t5583\t5585\tscaffold6_cov64\tAUGUSTUS\tCDS\t5583\t5652\t0.26\t-\t0\ttranscript_id \"g1.t1\"; gene_id \"g1\";\n",
      "scaffold6_cov64\t5592\t5594\tscaffold6_cov64\tAUGUSTUS\tCDS\t5583\t5652\t0.26\t-\t0\ttranscript_id \"g1.t1\"; gene_id \"g1\";\n",
      "scaffold6_cov64\t5593\t5594\tscaffold6_cov64\tAUGUSTUS\tCDS\t5594\t5652\t0.54\t-\t0\ttranscript_id \"g1.t2\"; gene_id \"g1\";\n",
      "scaffold6_cov64\t5594\t5596\tscaffold6_cov64\tAUGUSTUS\tCDS\t5583\t5652\t0.26\t-\t0\ttranscript_id \"g1.t1\"; gene_id \"g1\";\n",
      "scaffold6_cov64\t5594\t5596\tscaffold6_cov64\tAUGUSTUS\tCDS\t5594\t5652\t0.54\t-\t0\ttranscript_id \"g1.t2\"; gene_id \"g1\";\n",
      "scaffold6_cov64\t5604\t5606\tscaffold6_cov64\tAUGUSTUS\tCDS\t5583\t5652\t0.26\t-\t0\ttranscript_id \"g1.t1\"; gene_id \"g1\";\n",
      "\n",
      "==> Meth7_R1_001_val_1_bismark_bt2_pe._5x.bedgraph.bed-paCDS <==\n",
      "scaffold6_cov64\t2179\t2181\tscaffold6_cov64\tAUGUSTUS\tCDS\t1922\t2269\t1\t-\t2\ttranscript_id \"g1.t1\"; gene_id \"g1\";\n",
      "scaffold6_cov64\t2179\t2181\tscaffold6_cov64\tAUGUSTUS\tCDS\t1922\t2269\t1\t-\t2\ttranscript_id \"g1.t2\"; gene_id \"g1\";\n",
      "scaffold6_cov64\t4793\t4795\tscaffold6_cov64\tAUGUSTUS\tCDS\t4754\t4851\t0.4\t-\t1\ttranscript_id \"g1.t2\"; gene_id \"g1\";\n",
      "scaffold6_cov64\t5582\t5583\tscaffold6_cov64\tAUGUSTUS\tCDS\t5583\t5652\t0.26\t-\t0\ttranscript_id \"g1.t1\"; gene_id \"g1\";\n",
      "scaffold6_cov64\t5583\t5585\tscaffold6_cov64\tAUGUSTUS\tCDS\t5583\t5652\t0.26\t-\t0\ttranscript_id \"g1.t1\"; gene_id \"g1\";\n",
      "scaffold6_cov64\t5592\t5594\tscaffold6_cov64\tAUGUSTUS\tCDS\t5583\t5652\t0.26\t-\t0\ttranscript_id \"g1.t1\"; gene_id \"g1\";\n",
      "scaffold6_cov64\t5593\t5594\tscaffold6_cov64\tAUGUSTUS\tCDS\t5594\t5652\t0.54\t-\t0\ttranscript_id \"g1.t2\"; gene_id \"g1\";\n",
      "scaffold6_cov64\t5594\t5596\tscaffold6_cov64\tAUGUSTUS\tCDS\t5583\t5652\t0.26\t-\t0\ttranscript_id \"g1.t1\"; gene_id \"g1\";\n",
      "scaffold6_cov64\t5594\t5596\tscaffold6_cov64\tAUGUSTUS\tCDS\t5594\t5652\t0.54\t-\t0\ttranscript_id \"g1.t2\"; gene_id \"g1\";\n",
      "scaffold6_cov64\t5604\t5606\tscaffold6_cov64\tAUGUSTUS\tCDS\t5583\t5652\t0.26\t-\t0\ttranscript_id \"g1.t1\"; gene_id \"g1\";\n",
      "\n",
      "==> Meth8_R1_001_val_1_bismark_bt2_pe._5x.bedgraph-Meth.bed-paCDS <==\n",
      "scaffold7_cov100\t6144\t6146\tscaffold7_cov100\tAUGUSTUS\tCDS\t6091\t6217\t0.48\t-\t0\ttranscript_id \"g4.t1\"; gene_id \"g4\";\n",
      "scaffold7_cov100\t6144\t6146\tscaffold7_cov100\tAUGUSTUS\tCDS\t6091\t6211\t0.52\t-\t0\ttranscript_id \"g4.t2\"; gene_id \"g4\";\n",
      "scaffold7_cov100\t6188\t6190\tscaffold7_cov100\tAUGUSTUS\tCDS\t6091\t6217\t0.48\t-\t0\ttranscript_id \"g4.t1\"; gene_id \"g4\";\n",
      "scaffold7_cov100\t6188\t6190\tscaffold7_cov100\tAUGUSTUS\tCDS\t6091\t6211\t0.52\t-\t0\ttranscript_id \"g4.t2\"; gene_id \"g4\";\n",
      "scaffold7_cov100\t6198\t6200\tscaffold7_cov100\tAUGUSTUS\tCDS\t6091\t6217\t0.48\t-\t0\ttranscript_id \"g4.t1\"; gene_id \"g4\";\n",
      "scaffold7_cov100\t6198\t6200\tscaffold7_cov100\tAUGUSTUS\tCDS\t6091\t6211\t0.52\t-\t0\ttranscript_id \"g4.t2\"; gene_id \"g4\";\n",
      "scaffold7_cov100\t7696\t7698\tscaffold7_cov100\tAUGUSTUS\tCDS\t7650\t7715\t1\t-\t2\ttranscript_id \"g5.t1\"; gene_id \"g5\";\n",
      "scaffold7_cov100\t7696\t7698\tscaffold7_cov100\tAUGUSTUS\tCDS\t7650\t7715\t1\t-\t2\ttranscript_id \"g5.t2\"; gene_id \"g5\";\n",
      "scaffold7_cov100\t7892\t7893\tscaffold7_cov100\tAUGUSTUS\tCDS\t7893\t7980\t1\t-\t0\ttranscript_id \"g5.t1\"; gene_id \"g5\";\n",
      "scaffold7_cov100\t7892\t7893\tscaffold7_cov100\tAUGUSTUS\tCDS\t7893\t7980\t1\t-\t0\ttranscript_id \"g5.t2\"; gene_id \"g5\";\n",
      "\n",
      "==> Meth8_R1_001_val_1_bismark_bt2_pe._5x.bedgraph-sparseMeth.bed-paCDS <==\n",
      "scaffold6_cov64\t826\t828\tscaffold6_cov64\tAUGUSTUS\tCDS\t495\t842\t0.84\t-\t2\ttranscript_id \"g1.t1\"; gene_id \"g1\";\n",
      "scaffold6_cov64\t826\t828\tscaffold6_cov64\tAUGUSTUS\tCDS\t495\t842\t0.84\t-\t2\ttranscript_id \"g1.t2\"; gene_id \"g1\";\n",
      "scaffold7_cov100\t5500\t5502\tscaffold7_cov100\tAUGUSTUS\tCDS\t5466\t5540\t1\t-\t2\ttranscript_id \"g4.t1\"; gene_id \"g4\";\n",
      "scaffold7_cov100\t5500\t5502\tscaffold7_cov100\tAUGUSTUS\tCDS\t5466\t5540\t1\t-\t2\ttranscript_id \"g4.t2\"; gene_id \"g4\";\n",
      "scaffold7_cov100\t14083\t14085\tscaffold7_cov100\tAUGUSTUS\tCDS\t13744\t14512\t1\t-\t0\ttranscript_id \"g7.t1\"; gene_id \"g7\";\n",
      "scaffold7_cov100\t16559\t16561\tscaffold7_cov100\tAUGUSTUS\tCDS\t15738\t18320\t0.53\t+\t0\ttranscript_id \"g8.t1\"; gene_id \"g8\";\n",
      "scaffold7_cov100\t16559\t16561\tscaffold7_cov100\tAUGUSTUS\tCDS\t15789\t18320\t0.43\t+\t0\ttranscript_id \"g8.t2\"; gene_id \"g8\";\n",
      "scaffold7_cov100\t41743\t41745\tscaffold7_cov100\tAUGUSTUS\tCDS\t41188\t41820\t0.97\t+\t0\ttranscript_id \"g14.t1\"; gene_id \"g14\";\n",
      "scaffold7_cov100\t46132\t46134\tscaffold7_cov100\tAUGUSTUS\tCDS\t45637\t46757\t1\t+\t2\ttranscript_id \"g14.t1\"; gene_id \"g14\";\n",
      "scaffold7_cov100\t46294\t46296\tscaffold7_cov100\tAUGUSTUS\tCDS\t45637\t46757\t1\t+\t2\ttranscript_id \"g14.t1\"; gene_id \"g14\";\n",
      "\n",
      "==> Meth8_R1_001_val_1_bismark_bt2_pe._5x.bedgraph-unMeth.bed-paCDS <==\n",
      "scaffold6_cov64\t5582\t5583\tscaffold6_cov64\tAUGUSTUS\tCDS\t5583\t5652\t0.26\t-\t0\ttranscript_id \"g1.t1\"; gene_id \"g1\";\n",
      "scaffold6_cov64\t6183\t6185\tscaffold6_cov64\tAUGUSTUS\tCDS\t5946\t6267\t0.33\t+\t2\ttranscript_id \"g2.t1\"; gene_id \"g2\";\n",
      "scaffold6_cov64\t6183\t6185\tscaffold6_cov64\tAUGUSTUS\tCDS\t5982\t6267\t0.27\t+\t2\ttranscript_id \"g2.t2\"; gene_id \"g2\";\n",
      "scaffold6_cov64\t6194\t6196\tscaffold6_cov64\tAUGUSTUS\tCDS\t5946\t6267\t0.33\t+\t2\ttranscript_id \"g2.t1\"; gene_id \"g2\";\n",
      "scaffold6_cov64\t6194\t6196\tscaffold6_cov64\tAUGUSTUS\tCDS\t5982\t6267\t0.27\t+\t2\ttranscript_id \"g2.t2\"; gene_id \"g2\";\n",
      "scaffold6_cov64\t6266\t6267\tscaffold6_cov64\tAUGUSTUS\tCDS\t5946\t6267\t0.33\t+\t2\ttranscript_id \"g2.t1\"; gene_id \"g2\";\n",
      "scaffold6_cov64\t6266\t6267\tscaffold6_cov64\tAUGUSTUS\tCDS\t5982\t6267\t0.27\t+\t2\ttranscript_id \"g2.t2\"; gene_id \"g2\";\n",
      "scaffold7_cov100\t2016\t2018\tscaffold7_cov100\tAUGUSTUS\tCDS\t1\t2566\t0.96\t+\t1\ttranscript_id \"g3.t1\"; gene_id \"g3\";\n",
      "scaffold7_cov100\t16441\t16443\tscaffold7_cov100\tAUGUSTUS\tCDS\t15738\t18320\t0.53\t+\t0\ttranscript_id \"g8.t1\"; gene_id \"g8\";\n",
      "scaffold7_cov100\t16441\t16443\tscaffold7_cov100\tAUGUSTUS\tCDS\t15789\t18320\t0.43\t+\t0\ttranscript_id \"g8.t2\"; gene_id \"g8\";\n",
      "\n",
      "==> Meth8_R1_001_val_1_bismark_bt2_pe._5x.bedgraph.bed-paCDS <==\n",
      "scaffold6_cov64\t826\t828\tscaffold6_cov64\tAUGUSTUS\tCDS\t495\t842\t0.84\t-\t2\ttranscript_id \"g1.t1\"; gene_id \"g1\";\n",
      "scaffold6_cov64\t826\t828\tscaffold6_cov64\tAUGUSTUS\tCDS\t495\t842\t0.84\t-\t2\ttranscript_id \"g1.t2\"; gene_id \"g1\";\n",
      "scaffold6_cov64\t5582\t5583\tscaffold6_cov64\tAUGUSTUS\tCDS\t5583\t5652\t0.26\t-\t0\ttranscript_id \"g1.t1\"; gene_id \"g1\";\n",
      "scaffold6_cov64\t6183\t6185\tscaffold6_cov64\tAUGUSTUS\tCDS\t5946\t6267\t0.33\t+\t2\ttranscript_id \"g2.t1\"; gene_id \"g2\";\n",
      "scaffold6_cov64\t6183\t6185\tscaffold6_cov64\tAUGUSTUS\tCDS\t5982\t6267\t0.27\t+\t2\ttranscript_id \"g2.t2\"; gene_id \"g2\";\n",
      "scaffold6_cov64\t6194\t6196\tscaffold6_cov64\tAUGUSTUS\tCDS\t5946\t6267\t0.33\t+\t2\ttranscript_id \"g2.t1\"; gene_id \"g2\";\n",
      "scaffold6_cov64\t6194\t6196\tscaffold6_cov64\tAUGUSTUS\tCDS\t5982\t6267\t0.27\t+\t2\ttranscript_id \"g2.t2\"; gene_id \"g2\";\n",
      "scaffold6_cov64\t6266\t6267\tscaffold6_cov64\tAUGUSTUS\tCDS\t5946\t6267\t0.33\t+\t2\ttranscript_id \"g2.t1\"; gene_id \"g2\";\n",
      "scaffold6_cov64\t6266\t6267\tscaffold6_cov64\tAUGUSTUS\tCDS\t5982\t6267\t0.27\t+\t2\ttranscript_id \"g2.t2\"; gene_id \"g2\";\n",
      "scaffold7_cov100\t2016\t2018\tscaffold7_cov100\tAUGUSTUS\tCDS\t1\t2566\t0.96\t+\t1\ttranscript_id \"g3.t1\"; gene_id \"g3\";\n",
      "\n",
      "==> Meth9_R1_001_val_1_bismark_bt2_pe._5x.bedgraph-Meth.bed-paCDS <==\n",
      "scaffold7_cov100\t6144\t6146\tscaffold7_cov100\tAUGUSTUS\tCDS\t6091\t6217\t0.48\t-\t0\ttranscript_id \"g4.t1\"; gene_id \"g4\";\n",
      "scaffold7_cov100\t6144\t6146\tscaffold7_cov100\tAUGUSTUS\tCDS\t6091\t6211\t0.52\t-\t0\ttranscript_id \"g4.t2\"; gene_id \"g4\";\n",
      "scaffold7_cov100\t6188\t6190\tscaffold7_cov100\tAUGUSTUS\tCDS\t6091\t6217\t0.48\t-\t0\ttranscript_id \"g4.t1\"; gene_id \"g4\";\n",
      "scaffold7_cov100\t6188\t6190\tscaffold7_cov100\tAUGUSTUS\tCDS\t6091\t6211\t0.52\t-\t0\ttranscript_id \"g4.t2\"; gene_id \"g4\";\n",
      "scaffold7_cov100\t6198\t6200\tscaffold7_cov100\tAUGUSTUS\tCDS\t6091\t6217\t0.48\t-\t0\ttranscript_id \"g4.t1\"; gene_id \"g4\";\n",
      "scaffold7_cov100\t6198\t6200\tscaffold7_cov100\tAUGUSTUS\tCDS\t6091\t6211\t0.52\t-\t0\ttranscript_id \"g4.t2\"; gene_id \"g4\";\n",
      "scaffold7_cov100\t7696\t7698\tscaffold7_cov100\tAUGUSTUS\tCDS\t7650\t7715\t1\t-\t2\ttranscript_id \"g5.t1\"; gene_id \"g5\";\n",
      "scaffold7_cov100\t7696\t7698\tscaffold7_cov100\tAUGUSTUS\tCDS\t7650\t7715\t1\t-\t2\ttranscript_id \"g5.t2\"; gene_id \"g5\";\n",
      "scaffold7_cov100\t7892\t7893\tscaffold7_cov100\tAUGUSTUS\tCDS\t7893\t7980\t1\t-\t0\ttranscript_id \"g5.t1\"; gene_id \"g5\";\n",
      "scaffold7_cov100\t7892\t7893\tscaffold7_cov100\tAUGUSTUS\tCDS\t7893\t7980\t1\t-\t0\ttranscript_id \"g5.t2\"; gene_id \"g5\";\n",
      "\n",
      "==> Meth9_R1_001_val_1_bismark_bt2_pe._5x.bedgraph-sparseMeth.bed-paCDS <==\n",
      "scaffold7_cov100\t1390\t1392\tscaffold7_cov100\tAUGUSTUS\tCDS\t1\t2566\t0.96\t+\t1\ttranscript_id \"g3.t1\"; gene_id \"g3\";\n",
      "scaffold7_cov100\t1941\t1943\tscaffold7_cov100\tAUGUSTUS\tCDS\t1\t2566\t0.96\t+\t1\ttranscript_id \"g3.t1\"; gene_id \"g3\";\n",
      "scaffold7_cov100\t2043\t2045\tscaffold7_cov100\tAUGUSTUS\tCDS\t1\t2566\t0.96\t+\t1\ttranscript_id \"g3.t1\"; gene_id \"g3\";\n",
      "scaffold7_cov100\t4630\t4632\tscaffold7_cov100\tAUGUSTUS\tCDS\t4608\t4780\t1\t-\t2\ttranscript_id \"g4.t1\"; gene_id \"g4\";\n",
      "scaffold7_cov100\t4630\t4632\tscaffold7_cov100\tAUGUSTUS\tCDS\t4608\t4780\t1\t-\t2\ttranscript_id \"g4.t2\"; gene_id \"g4\";\n",
      "scaffold7_cov100\t4678\t4680\tscaffold7_cov100\tAUGUSTUS\tCDS\t4608\t4780\t1\t-\t2\ttranscript_id \"g4.t1\"; gene_id \"g4\";\n",
      "scaffold7_cov100\t4678\t4680\tscaffold7_cov100\tAUGUSTUS\tCDS\t4608\t4780\t1\t-\t2\ttranscript_id \"g4.t2\"; gene_id \"g4\";\n",
      "scaffold7_cov100\t10755\t10757\tscaffold7_cov100\tAUGUSTUS\tCDS\t10595\t10789\t0.95\t-\t0\ttranscript_id \"g6.t1\"; gene_id \"g6\";\n",
      "scaffold7_cov100\t14042\t14044\tscaffold7_cov100\tAUGUSTUS\tCDS\t13744\t14512\t1\t-\t0\ttranscript_id \"g7.t1\"; gene_id \"g7\";\n",
      "scaffold7_cov100\t16387\t16389\tscaffold7_cov100\tAUGUSTUS\tCDS\t15738\t18320\t0.53\t+\t0\ttranscript_id \"g8.t1\"; gene_id \"g8\";\n",
      "\n",
      "==> Meth9_R1_001_val_1_bismark_bt2_pe._5x.bedgraph-unMeth.bed-paCDS <==\n",
      "scaffold6_cov64\t826\t828\tscaffold6_cov64\tAUGUSTUS\tCDS\t495\t842\t0.84\t-\t2\ttranscript_id \"g1.t1\"; gene_id \"g1\";\n",
      "scaffold6_cov64\t826\t828\tscaffold6_cov64\tAUGUSTUS\tCDS\t495\t842\t0.84\t-\t2\ttranscript_id \"g1.t2\"; gene_id \"g1\";\n",
      "scaffold6_cov64\t2097\t2099\tscaffold6_cov64\tAUGUSTUS\tCDS\t1922\t2269\t1\t-\t2\ttranscript_id \"g1.t1\"; gene_id \"g1\";\n",
      "scaffold6_cov64\t2097\t2099\tscaffold6_cov64\tAUGUSTUS\tCDS\t1922\t2269\t1\t-\t2\ttranscript_id \"g1.t2\"; gene_id \"g1\";\n",
      "scaffold6_cov64\t2179\t2181\tscaffold6_cov64\tAUGUSTUS\tCDS\t1922\t2269\t1\t-\t2\ttranscript_id \"g1.t1\"; gene_id \"g1\";\n",
      "scaffold6_cov64\t2179\t2181\tscaffold6_cov64\tAUGUSTUS\tCDS\t1922\t2269\t1\t-\t2\ttranscript_id \"g1.t2\"; gene_id \"g1\";\n",
      "scaffold6_cov64\t4793\t4795\tscaffold6_cov64\tAUGUSTUS\tCDS\t4754\t4851\t0.4\t-\t1\ttranscript_id \"g1.t2\"; gene_id \"g1\";\n",
      "scaffold6_cov64\t5582\t5583\tscaffold6_cov64\tAUGUSTUS\tCDS\t5583\t5652\t0.26\t-\t0\ttranscript_id \"g1.t1\"; gene_id \"g1\";\n",
      "scaffold6_cov64\t5583\t5585\tscaffold6_cov64\tAUGUSTUS\tCDS\t5583\t5652\t0.26\t-\t0\ttranscript_id \"g1.t1\"; gene_id \"g1\";\n",
      "scaffold6_cov64\t5592\t5594\tscaffold6_cov64\tAUGUSTUS\tCDS\t5583\t5652\t0.26\t-\t0\ttranscript_id \"g1.t1\"; gene_id \"g1\";\n",
      "\n",
      "==> Meth9_R1_001_val_1_bismark_bt2_pe._5x.bedgraph.bed-paCDS <==\n",
      "scaffold6_cov64\t826\t828\tscaffold6_cov64\tAUGUSTUS\tCDS\t495\t842\t0.84\t-\t2\ttranscript_id \"g1.t1\"; gene_id \"g1\";\n",
      "scaffold6_cov64\t826\t828\tscaffold6_cov64\tAUGUSTUS\tCDS\t495\t842\t0.84\t-\t2\ttranscript_id \"g1.t2\"; gene_id \"g1\";\n",
      "scaffold6_cov64\t2097\t2099\tscaffold6_cov64\tAUGUSTUS\tCDS\t1922\t2269\t1\t-\t2\ttranscript_id \"g1.t1\"; gene_id \"g1\";\n",
      "scaffold6_cov64\t2097\t2099\tscaffold6_cov64\tAUGUSTUS\tCDS\t1922\t2269\t1\t-\t2\ttranscript_id \"g1.t2\"; gene_id \"g1\";\n",
      "scaffold6_cov64\t2179\t2181\tscaffold6_cov64\tAUGUSTUS\tCDS\t1922\t2269\t1\t-\t2\ttranscript_id \"g1.t1\"; gene_id \"g1\";\n",
      "scaffold6_cov64\t2179\t2181\tscaffold6_cov64\tAUGUSTUS\tCDS\t1922\t2269\t1\t-\t2\ttranscript_id \"g1.t2\"; gene_id \"g1\";\n",
      "scaffold6_cov64\t4793\t4795\tscaffold6_cov64\tAUGUSTUS\tCDS\t4754\t4851\t0.4\t-\t1\ttranscript_id \"g1.t2\"; gene_id \"g1\";\n",
      "scaffold6_cov64\t5582\t5583\tscaffold6_cov64\tAUGUSTUS\tCDS\t5583\t5652\t0.26\t-\t0\ttranscript_id \"g1.t1\"; gene_id \"g1\";\n",
      "scaffold6_cov64\t5583\t5585\tscaffold6_cov64\tAUGUSTUS\tCDS\t5583\t5652\t0.26\t-\t0\ttranscript_id \"g1.t1\"; gene_id \"g1\";\n",
      "scaffold6_cov64\t5592\t5594\tscaffold6_cov64\tAUGUSTUS\tCDS\t5583\t5652\t0.26\t-\t0\ttranscript_id \"g1.t1\"; gene_id \"g1\";\n"
     ]
    }
   ],
   "source": [
    "#Check output\n",
    "!head *paCDS"
   ]
  },
  {
   "cell_type": "code",
   "execution_count": 62,
   "metadata": {
    "collapsed": false
   },
   "outputs": [
    {
     "name": "stdout",
     "output_type": "stream",
     "text": [
      "   59188 Meth1_R1_001_val_1_bismark_bt2_pe._5x.bedgraph-Meth.bed-paCDS\n",
      "   89863 Meth1_R1_001_val_1_bismark_bt2_pe._5x.bedgraph-sparseMeth.bed-paCDS\n",
      " 1345289 Meth1_R1_001_val_1_bismark_bt2_pe._5x.bedgraph-unMeth.bed-paCDS\n",
      " 1494340 Meth1_R1_001_val_1_bismark_bt2_pe._5x.bedgraph.bed-paCDS\n",
      "   66365 Meth2_R1_001_val_1_bismark_bt2_pe._5x.bedgraph-Meth.bed-paCDS\n",
      "   76868 Meth2_R1_001_val_1_bismark_bt2_pe._5x.bedgraph-sparseMeth.bed-paCDS\n",
      " 1477399 Meth2_R1_001_val_1_bismark_bt2_pe._5x.bedgraph-unMeth.bed-paCDS\n",
      " 1620632 Meth2_R1_001_val_1_bismark_bt2_pe._5x.bedgraph.bed-paCDS\n",
      "   65245 Meth3_R1_001_val_1_bismark_bt2_pe._5x.bedgraph-Meth.bed-paCDS\n",
      "   89654 Meth3_R1_001_val_1_bismark_bt2_pe._5x.bedgraph-sparseMeth.bed-paCDS\n",
      " 1397816 Meth3_R1_001_val_1_bismark_bt2_pe._5x.bedgraph-unMeth.bed-paCDS\n",
      " 1552715 Meth3_R1_001_val_1_bismark_bt2_pe._5x.bedgraph.bed-paCDS\n",
      "    9644 Meth4_R1_001_val_1_bismark_bt2_pe._5x.bedgraph-Meth.bed-paCDS\n",
      "   36616 Meth4_R1_001_val_1_bismark_bt2_pe._5x.bedgraph-sparseMeth.bed-paCDS\n",
      "  454519 Meth4_R1_001_val_1_bismark_bt2_pe._5x.bedgraph-unMeth.bed-paCDS\n",
      "  500779 Meth4_R1_001_val_1_bismark_bt2_pe._5x.bedgraph.bed-paCDS\n",
      "    8808 Meth5_R1_001_val_1_bismark_bt2_pe._5x.bedgraph-Meth.bed-paCDS\n",
      "   17345 Meth5_R1_001_val_1_bismark_bt2_pe._5x.bedgraph-sparseMeth.bed-paCDS\n",
      "  369716 Meth5_R1_001_val_1_bismark_bt2_pe._5x.bedgraph-unMeth.bed-paCDS\n",
      "  395869 Meth5_R1_001_val_1_bismark_bt2_pe._5x.bedgraph.bed-paCDS\n",
      "    7954 Meth6_R1_001_val_1_bismark_bt2_pe._5x.bedgraph-Meth.bed-paCDS\n",
      "   23679 Meth6_R1_001_val_1_bismark_bt2_pe._5x.bedgraph-sparseMeth.bed-paCDS\n",
      "  383896 Meth6_R1_001_val_1_bismark_bt2_pe._5x.bedgraph-unMeth.bed-paCDS\n",
      "  415529 Meth6_R1_001_val_1_bismark_bt2_pe._5x.bedgraph.bed-paCDS\n",
      "   92559 Meth7_R1_001_val_1_bismark_bt2_pe._5x.bedgraph-Meth.bed-paCDS\n",
      "   87369 Meth7_R1_001_val_1_bismark_bt2_pe._5x.bedgraph-sparseMeth.bed-paCDS\n",
      "  751322 Meth7_R1_001_val_1_bismark_bt2_pe._5x.bedgraph-unMeth.bed-paCDS\n",
      "  931250 Meth7_R1_001_val_1_bismark_bt2_pe._5x.bedgraph.bed-paCDS\n",
      "   70696 Meth8_R1_001_val_1_bismark_bt2_pe._5x.bedgraph-Meth.bed-paCDS\n",
      "   21973 Meth8_R1_001_val_1_bismark_bt2_pe._5x.bedgraph-sparseMeth.bed-paCDS\n",
      "   91937 Meth8_R1_001_val_1_bismark_bt2_pe._5x.bedgraph-unMeth.bed-paCDS\n",
      "  184606 Meth8_R1_001_val_1_bismark_bt2_pe._5x.bedgraph.bed-paCDS\n",
      "   95614 Meth9_R1_001_val_1_bismark_bt2_pe._5x.bedgraph-Meth.bed-paCDS\n",
      "   98699 Meth9_R1_001_val_1_bismark_bt2_pe._5x.bedgraph-sparseMeth.bed-paCDS\n",
      "  730512 Meth9_R1_001_val_1_bismark_bt2_pe._5x.bedgraph-unMeth.bed-paCDS\n",
      "  924825 Meth9_R1_001_val_1_bismark_bt2_pe._5x.bedgraph.bed-paCDS\n",
      " 16041090 total\n"
     ]
    }
   ],
   "source": [
    "#Count number of overlaps\n",
    "!wc -l *paCDS"
   ]
  },
  {
   "cell_type": "code",
   "execution_count": 23,
   "metadata": {
    "collapsed": true
   },
   "outputs": [],
   "source": [
    "!wc -l *paCDS > Pact-5x-paCDS-counts.txt"
   ]
  },
  {
   "cell_type": "markdown",
   "metadata": {},
   "source": [
    "#### 4d. Introns"
   ]
  },
  {
   "cell_type": "code",
   "execution_count": 63,
   "metadata": {
    "collapsed": true,
    "scrolled": true
   },
   "outputs": [],
   "source": [
    "%%bash\n",
    "\n",
    "for f in *bed\n",
    "do\n",
    "  /usr/local/bin/intersectBed \\\n",
    "  -wb \\\n",
    "  -a ${f} \\\n",
    "  -b ../../../genome-feature-files/Pact.GFFannotation.Intron.gff \\\n",
    "  > ${f}-paIntron\n",
    "done"
   ]
  },
  {
   "cell_type": "code",
   "execution_count": 64,
   "metadata": {
    "collapsed": false
   },
   "outputs": [
    {
     "name": "stdout",
     "output_type": "stream",
     "text": [
      "==> Meth1_R1_001_val_1_bismark_bt2_pe._5x.bedgraph-Meth.bed-paIntron <==\n",
      "scaffold7_cov100\t4351\t4353\tscaffold7_cov100\tAUGUSTUS\tintron\t4181\t4607\t1\t-\t.\ttranscript_id \"g4.t1\"; gene_id \"g4\";\n",
      "scaffold7_cov100\t4351\t4353\tscaffold7_cov100\tAUGUSTUS\tintron\t4181\t4607\t1\t-\t.\ttranscript_id \"g4.t2\"; gene_id \"g4\";\n",
      "scaffold7_cov100\t5578\t5580\tscaffold7_cov100\tAUGUSTUS\tintron\t5541\t6090\t1\t-\t.\ttranscript_id \"g4.t1\"; gene_id \"g4\";\n",
      "scaffold7_cov100\t5578\t5580\tscaffold7_cov100\tAUGUSTUS\tintron\t5541\t6090\t1\t-\t.\ttranscript_id \"g4.t2\"; gene_id \"g4\";\n",
      "scaffold7_cov100\t5986\t5988\tscaffold7_cov100\tAUGUSTUS\tintron\t5541\t6090\t1\t-\t.\ttranscript_id \"g4.t1\"; gene_id \"g4\";\n",
      "scaffold7_cov100\t5986\t5988\tscaffold7_cov100\tAUGUSTUS\tintron\t5541\t6090\t1\t-\t.\ttranscript_id \"g4.t2\"; gene_id \"g4\";\n",
      "scaffold7_cov100\t7438\t7440\tscaffold7_cov100\tAUGUSTUS\tintron\t7104\t7649\t1\t-\t.\ttranscript_id \"g5.t1\"; gene_id \"g5\";\n",
      "scaffold7_cov100\t7438\t7440\tscaffold7_cov100\tAUGUSTUS\tintron\t7104\t7649\t1\t-\t.\ttranscript_id \"g5.t2\"; gene_id \"g5\";\n",
      "scaffold7_cov100\t7796\t7798\tscaffold7_cov100\tAUGUSTUS\tintron\t7716\t7892\t1\t-\t.\ttranscript_id \"g5.t1\"; gene_id \"g5\";\n",
      "scaffold7_cov100\t7796\t7798\tscaffold7_cov100\tAUGUSTUS\tintron\t7716\t7892\t1\t-\t.\ttranscript_id \"g5.t2\"; gene_id \"g5\";\n",
      "\n",
      "==> Meth1_R1_001_val_1_bismark_bt2_pe._5x.bedgraph-sparseMeth.bed-paIntron <==\n",
      "scaffold7_cov100\t3713\t3715\tscaffold7_cov100\tAUGUSTUS\tintron\t3590\t4057\t1\t-\t.\ttranscript_id \"g4.t1\"; gene_id \"g4\";\n",
      "scaffold7_cov100\t3713\t3715\tscaffold7_cov100\tAUGUSTUS\tintron\t3590\t4057\t1\t-\t.\ttranscript_id \"g4.t2\"; gene_id \"g4\";\n",
      "scaffold7_cov100\t3870\t3872\tscaffold7_cov100\tAUGUSTUS\tintron\t3590\t4057\t1\t-\t.\ttranscript_id \"g4.t1\"; gene_id \"g4\";\n",
      "scaffold7_cov100\t3870\t3872\tscaffold7_cov100\tAUGUSTUS\tintron\t3590\t4057\t1\t-\t.\ttranscript_id \"g4.t2\"; gene_id \"g4\";\n",
      "scaffold7_cov100\t4481\t4483\tscaffold7_cov100\tAUGUSTUS\tintron\t4181\t4607\t1\t-\t.\ttranscript_id \"g4.t1\"; gene_id \"g4\";\n",
      "scaffold7_cov100\t4481\t4483\tscaffold7_cov100\tAUGUSTUS\tintron\t4181\t4607\t1\t-\t.\ttranscript_id \"g4.t2\"; gene_id \"g4\";\n",
      "scaffold7_cov100\t4596\t4598\tscaffold7_cov100\tAUGUSTUS\tintron\t4181\t4607\t1\t-\t.\ttranscript_id \"g4.t1\"; gene_id \"g4\";\n",
      "scaffold7_cov100\t4596\t4598\tscaffold7_cov100\tAUGUSTUS\tintron\t4181\t4607\t1\t-\t.\ttranscript_id \"g4.t2\"; gene_id \"g4\";\n",
      "scaffold7_cov100\t11439\t11441\tscaffold7_cov100\tAUGUSTUS\tintron\t11392\t11471\t0.97\t-\t.\ttranscript_id \"g6.t1\"; gene_id \"g6\";\n",
      "scaffold7_cov100\t13441\t13443\tscaffold7_cov100\tAUGUSTUS\tintron\t13350\t13743\t0.99\t-\t.\ttranscript_id \"g7.t1\"; gene_id \"g7\";\n",
      "\n",
      "==> Meth1_R1_001_val_1_bismark_bt2_pe._5x.bedgraph-unMeth.bed-paIntron <==\n",
      "scaffold6_cov64\t167\t169\tscaffold6_cov64\tAUGUSTUS\tintron\t1\t494\t0.82\t-\t.\ttranscript_id \"g1.t1\"; gene_id \"g1\";\n",
      "scaffold6_cov64\t167\t169\tscaffold6_cov64\tAUGUSTUS\tintron\t1\t494\t0.82\t-\t.\ttranscript_id \"g1.t2\"; gene_id \"g1\";\n",
      "scaffold6_cov64\t290\t292\tscaffold6_cov64\tAUGUSTUS\tintron\t1\t494\t0.82\t-\t.\ttranscript_id \"g1.t1\"; gene_id \"g1\";\n",
      "scaffold6_cov64\t290\t292\tscaffold6_cov64\tAUGUSTUS\tintron\t1\t494\t0.82\t-\t.\ttranscript_id \"g1.t2\"; gene_id \"g1\";\n",
      "scaffold6_cov64\t298\t300\tscaffold6_cov64\tAUGUSTUS\tintron\t1\t494\t0.82\t-\t.\ttranscript_id \"g1.t1\"; gene_id \"g1\";\n",
      "scaffold6_cov64\t298\t300\tscaffold6_cov64\tAUGUSTUS\tintron\t1\t494\t0.82\t-\t.\ttranscript_id \"g1.t2\"; gene_id \"g1\";\n",
      "scaffold6_cov64\t489\t491\tscaffold6_cov64\tAUGUSTUS\tintron\t1\t494\t0.82\t-\t.\ttranscript_id \"g1.t1\"; gene_id \"g1\";\n",
      "scaffold6_cov64\t489\t491\tscaffold6_cov64\tAUGUSTUS\tintron\t1\t494\t0.82\t-\t.\ttranscript_id \"g1.t2\"; gene_id \"g1\";\n",
      "scaffold6_cov64\t1725\t1727\tscaffold6_cov64\tAUGUSTUS\tintron\t1556\t1921\t1\t-\t.\ttranscript_id \"g1.t1\"; gene_id \"g1\";\n",
      "scaffold6_cov64\t1725\t1727\tscaffold6_cov64\tAUGUSTUS\tintron\t1556\t1921\t1\t-\t.\ttranscript_id \"g1.t2\"; gene_id \"g1\";\n",
      "\n",
      "==> Meth1_R1_001_val_1_bismark_bt2_pe._5x.bedgraph.bed-paIntron <==\n",
      "scaffold6_cov64\t167\t169\tscaffold6_cov64\tAUGUSTUS\tintron\t1\t494\t0.82\t-\t.\ttranscript_id \"g1.t1\"; gene_id \"g1\";\n",
      "scaffold6_cov64\t167\t169\tscaffold6_cov64\tAUGUSTUS\tintron\t1\t494\t0.82\t-\t.\ttranscript_id \"g1.t2\"; gene_id \"g1\";\n",
      "scaffold6_cov64\t290\t292\tscaffold6_cov64\tAUGUSTUS\tintron\t1\t494\t0.82\t-\t.\ttranscript_id \"g1.t1\"; gene_id \"g1\";\n",
      "scaffold6_cov64\t290\t292\tscaffold6_cov64\tAUGUSTUS\tintron\t1\t494\t0.82\t-\t.\ttranscript_id \"g1.t2\"; gene_id \"g1\";\n",
      "scaffold6_cov64\t298\t300\tscaffold6_cov64\tAUGUSTUS\tintron\t1\t494\t0.82\t-\t.\ttranscript_id \"g1.t1\"; gene_id \"g1\";\n",
      "scaffold6_cov64\t298\t300\tscaffold6_cov64\tAUGUSTUS\tintron\t1\t494\t0.82\t-\t.\ttranscript_id \"g1.t2\"; gene_id \"g1\";\n",
      "scaffold6_cov64\t489\t491\tscaffold6_cov64\tAUGUSTUS\tintron\t1\t494\t0.82\t-\t.\ttranscript_id \"g1.t1\"; gene_id \"g1\";\n",
      "scaffold6_cov64\t489\t491\tscaffold6_cov64\tAUGUSTUS\tintron\t1\t494\t0.82\t-\t.\ttranscript_id \"g1.t2\"; gene_id \"g1\";\n",
      "scaffold6_cov64\t1725\t1727\tscaffold6_cov64\tAUGUSTUS\tintron\t1556\t1921\t1\t-\t.\ttranscript_id \"g1.t1\"; gene_id \"g1\";\n",
      "scaffold6_cov64\t1725\t1727\tscaffold6_cov64\tAUGUSTUS\tintron\t1556\t1921\t1\t-\t.\ttranscript_id \"g1.t2\"; gene_id \"g1\";\n",
      "\n",
      "==> Meth2_R1_001_val_1_bismark_bt2_pe._5x.bedgraph-Meth.bed-paIntron <==\n",
      "scaffold7_cov100\t5986\t5988\tscaffold7_cov100\tAUGUSTUS\tintron\t5541\t6090\t1\t-\t.\ttranscript_id \"g4.t1\"; gene_id \"g4\";\n",
      "scaffold7_cov100\t5986\t5988\tscaffold7_cov100\tAUGUSTUS\tintron\t5541\t6090\t1\t-\t.\ttranscript_id \"g4.t2\"; gene_id \"g4\";\n",
      "scaffold7_cov100\t7438\t7440\tscaffold7_cov100\tAUGUSTUS\tintron\t7104\t7649\t1\t-\t.\ttranscript_id \"g5.t1\"; gene_id \"g5\";\n",
      "scaffold7_cov100\t7438\t7440\tscaffold7_cov100\tAUGUSTUS\tintron\t7104\t7649\t1\t-\t.\ttranscript_id \"g5.t2\"; gene_id \"g5\";\n",
      "scaffold7_cov100\t7796\t7798\tscaffold7_cov100\tAUGUSTUS\tintron\t7716\t7892\t1\t-\t.\ttranscript_id \"g5.t1\"; gene_id \"g5\";\n",
      "scaffold7_cov100\t7796\t7798\tscaffold7_cov100\tAUGUSTUS\tintron\t7716\t7892\t1\t-\t.\ttranscript_id \"g5.t2\"; gene_id \"g5\";\n",
      "scaffold7_cov100\t7891\t7892\tscaffold7_cov100\tAUGUSTUS\tintron\t7716\t7892\t1\t-\t.\ttranscript_id \"g5.t1\"; gene_id \"g5\";\n",
      "scaffold7_cov100\t7891\t7892\tscaffold7_cov100\tAUGUSTUS\tintron\t7716\t7892\t1\t-\t.\ttranscript_id \"g5.t2\"; gene_id \"g5\";\n",
      "scaffold7_cov100\t10414\t10416\tscaffold7_cov100\tAUGUSTUS\tintron\t10282\t10594\t1\t-\t.\ttranscript_id \"g6.t1\"; gene_id \"g6\";\n",
      "scaffold7_cov100\t13450\t13452\tscaffold7_cov100\tAUGUSTUS\tintron\t13350\t13743\t0.99\t-\t.\ttranscript_id \"g7.t1\"; gene_id \"g7\";\n",
      "\n",
      "==> Meth2_R1_001_val_1_bismark_bt2_pe._5x.bedgraph-sparseMeth.bed-paIntron <==\n",
      "scaffold6_cov64\t3978\t3980\tscaffold6_cov64\tAUGUSTUS\tintron\t2270\t5582\t0.23\t-\t.\ttranscript_id \"g1.t1\"; gene_id \"g1\";\n",
      "scaffold6_cov64\t3978\t3980\tscaffold6_cov64\tAUGUSTUS\tintron\t2270\t4753\t0.4\t-\t.\ttranscript_id \"g1.t2\"; gene_id \"g1\";\n",
      "scaffold7_cov100\t3994\t3996\tscaffold7_cov100\tAUGUSTUS\tintron\t3590\t4057\t1\t-\t.\ttranscript_id \"g4.t1\"; gene_id \"g4\";\n",
      "scaffold7_cov100\t3994\t3996\tscaffold7_cov100\tAUGUSTUS\tintron\t3590\t4057\t1\t-\t.\ttranscript_id \"g4.t2\"; gene_id \"g4\";\n",
      "scaffold7_cov100\t7121\t7123\tscaffold7_cov100\tAUGUSTUS\tintron\t7104\t7649\t1\t-\t.\ttranscript_id \"g5.t1\"; gene_id \"g5\";\n",
      "scaffold7_cov100\t7121\t7123\tscaffold7_cov100\tAUGUSTUS\tintron\t7104\t7649\t1\t-\t.\ttranscript_id \"g5.t2\"; gene_id \"g5\";\n",
      "scaffold7_cov100\t7201\t7203\tscaffold7_cov100\tAUGUSTUS\tintron\t7104\t7649\t1\t-\t.\ttranscript_id \"g5.t1\"; gene_id \"g5\";\n",
      "scaffold7_cov100\t7201\t7203\tscaffold7_cov100\tAUGUSTUS\tintron\t7104\t7649\t1\t-\t.\ttranscript_id \"g5.t2\"; gene_id \"g5\";\n",
      "scaffold7_cov100\t11439\t11441\tscaffold7_cov100\tAUGUSTUS\tintron\t11392\t11471\t0.97\t-\t.\ttranscript_id \"g6.t1\"; gene_id \"g6\";\n",
      "scaffold7_cov100\t13385\t13387\tscaffold7_cov100\tAUGUSTUS\tintron\t13350\t13743\t0.99\t-\t.\ttranscript_id \"g7.t1\"; gene_id \"g7\";\n",
      "\n",
      "==> Meth2_R1_001_val_1_bismark_bt2_pe._5x.bedgraph-unMeth.bed-paIntron <==\n",
      "scaffold6_cov64\t167\t169\tscaffold6_cov64\tAUGUSTUS\tintron\t1\t494\t0.82\t-\t.\ttranscript_id \"g1.t1\"; gene_id \"g1\";\n",
      "scaffold6_cov64\t167\t169\tscaffold6_cov64\tAUGUSTUS\tintron\t1\t494\t0.82\t-\t.\ttranscript_id \"g1.t2\"; gene_id \"g1\";\n",
      "scaffold6_cov64\t290\t292\tscaffold6_cov64\tAUGUSTUS\tintron\t1\t494\t0.82\t-\t.\ttranscript_id \"g1.t1\"; gene_id \"g1\";\n",
      "scaffold6_cov64\t290\t292\tscaffold6_cov64\tAUGUSTUS\tintron\t1\t494\t0.82\t-\t.\ttranscript_id \"g1.t2\"; gene_id \"g1\";\n",
      "scaffold6_cov64\t298\t300\tscaffold6_cov64\tAUGUSTUS\tintron\t1\t494\t0.82\t-\t.\ttranscript_id \"g1.t1\"; gene_id \"g1\";\n",
      "scaffold6_cov64\t298\t300\tscaffold6_cov64\tAUGUSTUS\tintron\t1\t494\t0.82\t-\t.\ttranscript_id \"g1.t2\"; gene_id \"g1\";\n",
      "scaffold6_cov64\t489\t491\tscaffold6_cov64\tAUGUSTUS\tintron\t1\t494\t0.82\t-\t.\ttranscript_id \"g1.t1\"; gene_id \"g1\";\n",
      "scaffold6_cov64\t489\t491\tscaffold6_cov64\tAUGUSTUS\tintron\t1\t494\t0.82\t-\t.\ttranscript_id \"g1.t2\"; gene_id \"g1\";\n",
      "scaffold6_cov64\t1725\t1727\tscaffold6_cov64\tAUGUSTUS\tintron\t1556\t1921\t1\t-\t.\ttranscript_id \"g1.t1\"; gene_id \"g1\";\n",
      "scaffold6_cov64\t1725\t1727\tscaffold6_cov64\tAUGUSTUS\tintron\t1556\t1921\t1\t-\t.\ttranscript_id \"g1.t2\"; gene_id \"g1\";\n",
      "\n",
      "==> Meth2_R1_001_val_1_bismark_bt2_pe._5x.bedgraph.bed-paIntron <==\n",
      "scaffold6_cov64\t167\t169\tscaffold6_cov64\tAUGUSTUS\tintron\t1\t494\t0.82\t-\t.\ttranscript_id \"g1.t1\"; gene_id \"g1\";\n",
      "scaffold6_cov64\t167\t169\tscaffold6_cov64\tAUGUSTUS\tintron\t1\t494\t0.82\t-\t.\ttranscript_id \"g1.t2\"; gene_id \"g1\";\n",
      "scaffold6_cov64\t290\t292\tscaffold6_cov64\tAUGUSTUS\tintron\t1\t494\t0.82\t-\t.\ttranscript_id \"g1.t1\"; gene_id \"g1\";\n",
      "scaffold6_cov64\t290\t292\tscaffold6_cov64\tAUGUSTUS\tintron\t1\t494\t0.82\t-\t.\ttranscript_id \"g1.t2\"; gene_id \"g1\";\n",
      "scaffold6_cov64\t298\t300\tscaffold6_cov64\tAUGUSTUS\tintron\t1\t494\t0.82\t-\t.\ttranscript_id \"g1.t1\"; gene_id \"g1\";\n",
      "scaffold6_cov64\t298\t300\tscaffold6_cov64\tAUGUSTUS\tintron\t1\t494\t0.82\t-\t.\ttranscript_id \"g1.t2\"; gene_id \"g1\";\n",
      "scaffold6_cov64\t489\t491\tscaffold6_cov64\tAUGUSTUS\tintron\t1\t494\t0.82\t-\t.\ttranscript_id \"g1.t1\"; gene_id \"g1\";\n",
      "scaffold6_cov64\t489\t491\tscaffold6_cov64\tAUGUSTUS\tintron\t1\t494\t0.82\t-\t.\ttranscript_id \"g1.t2\"; gene_id \"g1\";\n",
      "scaffold6_cov64\t1725\t1727\tscaffold6_cov64\tAUGUSTUS\tintron\t1556\t1921\t1\t-\t.\ttranscript_id \"g1.t1\"; gene_id \"g1\";\n",
      "scaffold6_cov64\t1725\t1727\tscaffold6_cov64\tAUGUSTUS\tintron\t1556\t1921\t1\t-\t.\ttranscript_id \"g1.t2\"; gene_id \"g1\";\n",
      "\n",
      "==> Meth3_R1_001_val_1_bismark_bt2_pe._5x.bedgraph-Meth.bed-paIntron <==\n",
      "scaffold7_cov100\t5578\t5580\tscaffold7_cov100\tAUGUSTUS\tintron\t5541\t6090\t1\t-\t.\ttranscript_id \"g4.t1\"; gene_id \"g4\";\n",
      "scaffold7_cov100\t5578\t5580\tscaffold7_cov100\tAUGUSTUS\tintron\t5541\t6090\t1\t-\t.\ttranscript_id \"g4.t2\"; gene_id \"g4\";\n",
      "scaffold7_cov100\t5986\t5988\tscaffold7_cov100\tAUGUSTUS\tintron\t5541\t6090\t1\t-\t.\ttranscript_id \"g4.t1\"; gene_id \"g4\";\n",
      "scaffold7_cov100\t5986\t5988\tscaffold7_cov100\tAUGUSTUS\tintron\t5541\t6090\t1\t-\t.\ttranscript_id \"g4.t2\"; gene_id \"g4\";\n",
      "scaffold7_cov100\t7438\t7440\tscaffold7_cov100\tAUGUSTUS\tintron\t7104\t7649\t1\t-\t.\ttranscript_id \"g5.t1\"; gene_id \"g5\";\n",
      "scaffold7_cov100\t7438\t7440\tscaffold7_cov100\tAUGUSTUS\tintron\t7104\t7649\t1\t-\t.\ttranscript_id \"g5.t2\"; gene_id \"g5\";\n",
      "scaffold7_cov100\t7796\t7798\tscaffold7_cov100\tAUGUSTUS\tintron\t7716\t7892\t1\t-\t.\ttranscript_id \"g5.t1\"; gene_id \"g5\";\n",
      "scaffold7_cov100\t7796\t7798\tscaffold7_cov100\tAUGUSTUS\tintron\t7716\t7892\t1\t-\t.\ttranscript_id \"g5.t2\"; gene_id \"g5\";\n",
      "scaffold7_cov100\t7891\t7892\tscaffold7_cov100\tAUGUSTUS\tintron\t7716\t7892\t1\t-\t.\ttranscript_id \"g5.t1\"; gene_id \"g5\";\n",
      "scaffold7_cov100\t7891\t7892\tscaffold7_cov100\tAUGUSTUS\tintron\t7716\t7892\t1\t-\t.\ttranscript_id \"g5.t2\"; gene_id \"g5\";\n",
      "\n",
      "==> Meth3_R1_001_val_1_bismark_bt2_pe._5x.bedgraph-sparseMeth.bed-paIntron <==\n",
      "scaffold6_cov64\t1725\t1727\tscaffold6_cov64\tAUGUSTUS\tintron\t1556\t1921\t1\t-\t.\ttranscript_id \"g1.t1\"; gene_id \"g1\";\n",
      "scaffold6_cov64\t1725\t1727\tscaffold6_cov64\tAUGUSTUS\tintron\t1556\t1921\t1\t-\t.\ttranscript_id \"g1.t2\"; gene_id \"g1\";\n",
      "scaffold6_cov64\t3533\t3535\tscaffold6_cov64\tAUGUSTUS\tintron\t2270\t5582\t0.23\t-\t.\ttranscript_id \"g1.t1\"; gene_id \"g1\";\n",
      "scaffold6_cov64\t3533\t3535\tscaffold6_cov64\tAUGUSTUS\tintron\t2270\t4753\t0.4\t-\t.\ttranscript_id \"g1.t2\"; gene_id \"g1\";\n",
      "scaffold6_cov64\t5904\t5906\tscaffold6_cov64\tAUGUSTUS\tintron\t5839\t5945\t0.54\t+\t.\ttranscript_id \"g2.t1\"; gene_id \"g2\";\n",
      "scaffold6_cov64\t5904\t5906\tscaffold6_cov64\tAUGUSTUS\tintron\t5839\t5981\t0.44\t+\t.\ttranscript_id \"g2.t2\"; gene_id \"g2\";\n",
      "scaffold7_cov100\t4305\t4307\tscaffold7_cov100\tAUGUSTUS\tintron\t4181\t4607\t1\t-\t.\ttranscript_id \"g4.t1\"; gene_id \"g4\";\n",
      "scaffold7_cov100\t4305\t4307\tscaffold7_cov100\tAUGUSTUS\tintron\t4181\t4607\t1\t-\t.\ttranscript_id \"g4.t2\"; gene_id \"g4\";\n",
      "scaffold7_cov100\t4351\t4353\tscaffold7_cov100\tAUGUSTUS\tintron\t4181\t4607\t1\t-\t.\ttranscript_id \"g4.t1\"; gene_id \"g4\";\n",
      "scaffold7_cov100\t4351\t4353\tscaffold7_cov100\tAUGUSTUS\tintron\t4181\t4607\t1\t-\t.\ttranscript_id \"g4.t2\"; gene_id \"g4\";\n",
      "\n",
      "==> Meth3_R1_001_val_1_bismark_bt2_pe._5x.bedgraph-unMeth.bed-paIntron <==\n",
      "scaffold6_cov64\t167\t169\tscaffold6_cov64\tAUGUSTUS\tintron\t1\t494\t0.82\t-\t.\ttranscript_id \"g1.t1\"; gene_id \"g1\";\n",
      "scaffold6_cov64\t167\t169\tscaffold6_cov64\tAUGUSTUS\tintron\t1\t494\t0.82\t-\t.\ttranscript_id \"g1.t2\"; gene_id \"g1\";\n",
      "scaffold6_cov64\t290\t292\tscaffold6_cov64\tAUGUSTUS\tintron\t1\t494\t0.82\t-\t.\ttranscript_id \"g1.t1\"; gene_id \"g1\";\n",
      "scaffold6_cov64\t290\t292\tscaffold6_cov64\tAUGUSTUS\tintron\t1\t494\t0.82\t-\t.\ttranscript_id \"g1.t2\"; gene_id \"g1\";\n",
      "scaffold6_cov64\t298\t300\tscaffold6_cov64\tAUGUSTUS\tintron\t1\t494\t0.82\t-\t.\ttranscript_id \"g1.t1\"; gene_id \"g1\";\n",
      "scaffold6_cov64\t298\t300\tscaffold6_cov64\tAUGUSTUS\tintron\t1\t494\t0.82\t-\t.\ttranscript_id \"g1.t2\"; gene_id \"g1\";\n",
      "scaffold6_cov64\t489\t491\tscaffold6_cov64\tAUGUSTUS\tintron\t1\t494\t0.82\t-\t.\ttranscript_id \"g1.t1\"; gene_id \"g1\";\n",
      "scaffold6_cov64\t489\t491\tscaffold6_cov64\tAUGUSTUS\tintron\t1\t494\t0.82\t-\t.\ttranscript_id \"g1.t2\"; gene_id \"g1\";\n",
      "scaffold6_cov64\t2386\t2388\tscaffold6_cov64\tAUGUSTUS\tintron\t2270\t5582\t0.23\t-\t.\ttranscript_id \"g1.t1\"; gene_id \"g1\";\n",
      "scaffold6_cov64\t2386\t2388\tscaffold6_cov64\tAUGUSTUS\tintron\t2270\t4753\t0.4\t-\t.\ttranscript_id \"g1.t2\"; gene_id \"g1\";\n",
      "\n",
      "==> Meth3_R1_001_val_1_bismark_bt2_pe._5x.bedgraph.bed-paIntron <==\n",
      "scaffold6_cov64\t167\t169\tscaffold6_cov64\tAUGUSTUS\tintron\t1\t494\t0.82\t-\t.\ttranscript_id \"g1.t1\"; gene_id \"g1\";\n",
      "scaffold6_cov64\t167\t169\tscaffold6_cov64\tAUGUSTUS\tintron\t1\t494\t0.82\t-\t.\ttranscript_id \"g1.t2\"; gene_id \"g1\";\n",
      "scaffold6_cov64\t290\t292\tscaffold6_cov64\tAUGUSTUS\tintron\t1\t494\t0.82\t-\t.\ttranscript_id \"g1.t1\"; gene_id \"g1\";\n",
      "scaffold6_cov64\t290\t292\tscaffold6_cov64\tAUGUSTUS\tintron\t1\t494\t0.82\t-\t.\ttranscript_id \"g1.t2\"; gene_id \"g1\";\n",
      "scaffold6_cov64\t298\t300\tscaffold6_cov64\tAUGUSTUS\tintron\t1\t494\t0.82\t-\t.\ttranscript_id \"g1.t1\"; gene_id \"g1\";\n",
      "scaffold6_cov64\t298\t300\tscaffold6_cov64\tAUGUSTUS\tintron\t1\t494\t0.82\t-\t.\ttranscript_id \"g1.t2\"; gene_id \"g1\";\n",
      "scaffold6_cov64\t489\t491\tscaffold6_cov64\tAUGUSTUS\tintron\t1\t494\t0.82\t-\t.\ttranscript_id \"g1.t1\"; gene_id \"g1\";\n",
      "scaffold6_cov64\t489\t491\tscaffold6_cov64\tAUGUSTUS\tintron\t1\t494\t0.82\t-\t.\ttranscript_id \"g1.t2\"; gene_id \"g1\";\n",
      "scaffold6_cov64\t1725\t1727\tscaffold6_cov64\tAUGUSTUS\tintron\t1556\t1921\t1\t-\t.\ttranscript_id \"g1.t1\"; gene_id \"g1\";\n",
      "scaffold6_cov64\t1725\t1727\tscaffold6_cov64\tAUGUSTUS\tintron\t1556\t1921\t1\t-\t.\ttranscript_id \"g1.t2\"; gene_id \"g1\";\n",
      "\n",
      "==> Meth4_R1_001_val_1_bismark_bt2_pe._5x.bedgraph-Meth.bed-paIntron <==\n",
      "scaffold7_cov100\t109716\t109718\tscaffold7_cov100\tAUGUSTUS\tintron\t109561\t110607\t0.74\t+\t.\ttranscript_id \"g28.t1\"; gene_id \"g28\";\n",
      "scaffold7_cov100\t109716\t109718\tscaffold7_cov100\tAUGUSTUS\tintron\t109561\t110607\t0.74\t+\t.\ttranscript_id \"g28.t2\"; gene_id \"g28\";\n",
      "scaffold7_cov100\t201089\t201091\tscaffold7_cov100\tAUGUSTUS\tintron\t200523\t201237\t0.87\t-\t.\ttranscript_id \"g47.t1\"; gene_id \"g47\";\n",
      "scaffold7_cov100\t201089\t201091\tscaffold7_cov100\tAUGUSTUS\tintron\t200523\t201237\t0.87\t-\t.\ttranscript_id \"g47.t2\"; gene_id \"g47\";\n",
      "scaffold7_cov100\t201104\t201106\tscaffold7_cov100\tAUGUSTUS\tintron\t200523\t201237\t0.87\t-\t.\ttranscript_id \"g47.t1\"; gene_id \"g47\";\n",
      "scaffold7_cov100\t201104\t201106\tscaffold7_cov100\tAUGUSTUS\tintron\t200523\t201237\t0.87\t-\t.\ttranscript_id \"g47.t2\"; gene_id \"g47\";\n",
      "scaffold7_cov100\t201111\t201113\tscaffold7_cov100\tAUGUSTUS\tintron\t200523\t201237\t0.87\t-\t.\ttranscript_id \"g47.t1\"; gene_id \"g47\";\n",
      "scaffold7_cov100\t201111\t201113\tscaffold7_cov100\tAUGUSTUS\tintron\t200523\t201237\t0.87\t-\t.\ttranscript_id \"g47.t2\"; gene_id \"g47\";\n",
      "scaffold7_cov100\t201124\t201126\tscaffold7_cov100\tAUGUSTUS\tintron\t200523\t201237\t0.87\t-\t.\ttranscript_id \"g47.t1\"; gene_id \"g47\";\n",
      "scaffold7_cov100\t201124\t201126\tscaffold7_cov100\tAUGUSTUS\tintron\t200523\t201237\t0.87\t-\t.\ttranscript_id \"g47.t2\"; gene_id \"g47\";\n",
      "\n",
      "==> Meth4_R1_001_val_1_bismark_bt2_pe._5x.bedgraph-sparseMeth.bed-paIntron <==\n",
      "scaffold6_cov64\t2676\t2678\tscaffold6_cov64\tAUGUSTUS\tintron\t2270\t5582\t0.23\t-\t.\ttranscript_id \"g1.t1\"; gene_id \"g1\";\n",
      "scaffold6_cov64\t2676\t2678\tscaffold6_cov64\tAUGUSTUS\tintron\t2270\t4753\t0.4\t-\t.\ttranscript_id \"g1.t2\"; gene_id \"g1\";\n",
      "scaffold6_cov64\t5904\t5906\tscaffold6_cov64\tAUGUSTUS\tintron\t5839\t5945\t0.54\t+\t.\ttranscript_id \"g2.t1\"; gene_id \"g2\";\n",
      "scaffold6_cov64\t5904\t5906\tscaffold6_cov64\tAUGUSTUS\tintron\t5839\t5981\t0.44\t+\t.\ttranscript_id \"g2.t2\"; gene_id \"g2\";\n",
      "scaffold7_cov100\t4351\t4353\tscaffold7_cov100\tAUGUSTUS\tintron\t4181\t4607\t1\t-\t.\ttranscript_id \"g4.t1\"; gene_id \"g4\";\n",
      "scaffold7_cov100\t4351\t4353\tscaffold7_cov100\tAUGUSTUS\tintron\t4181\t4607\t1\t-\t.\ttranscript_id \"g4.t2\"; gene_id \"g4\";\n",
      "scaffold7_cov100\t46898\t46900\tscaffold7_cov100\tAUGUSTUS\tintron\t46758\t47408\t1\t+\t.\ttranscript_id \"g14.t1\"; gene_id \"g14\";\n",
      "scaffold7_cov100\t55614\t55616\tscaffold7_cov100\tAUGUSTUS\tintron\t55522\t56109\t1\t+\t.\ttranscript_id \"g16.t1\"; gene_id \"g16\";\n",
      "scaffold7_cov100\t81500\t81502\tscaffold7_cov100\tAUGUSTUS\tintron\t80878\t81739\t1\t-\t.\ttranscript_id \"g22.t1\"; gene_id \"g22\";\n",
      "scaffold7_cov100\t90556\t90558\tscaffold7_cov100\tAUGUSTUS\tintron\t90479\t91026\t0.66\t-\t.\ttranscript_id \"g23.t1\"; gene_id \"g23\";\n",
      "\n",
      "==> Meth4_R1_001_val_1_bismark_bt2_pe._5x.bedgraph-unMeth.bed-paIntron <==\n",
      "scaffold6_cov64\t2536\t2538\tscaffold6_cov64\tAUGUSTUS\tintron\t2270\t5582\t0.23\t-\t.\ttranscript_id \"g1.t1\"; gene_id \"g1\";\n",
      "scaffold6_cov64\t2536\t2538\tscaffold6_cov64\tAUGUSTUS\tintron\t2270\t4753\t0.4\t-\t.\ttranscript_id \"g1.t2\"; gene_id \"g1\";\n",
      "scaffold6_cov64\t2584\t2586\tscaffold6_cov64\tAUGUSTUS\tintron\t2270\t5582\t0.23\t-\t.\ttranscript_id \"g1.t1\"; gene_id \"g1\";\n",
      "scaffold6_cov64\t2584\t2586\tscaffold6_cov64\tAUGUSTUS\tintron\t2270\t4753\t0.4\t-\t.\ttranscript_id \"g1.t2\"; gene_id \"g1\";\n",
      "scaffold6_cov64\t4588\t4590\tscaffold6_cov64\tAUGUSTUS\tintron\t2270\t5582\t0.23\t-\t.\ttranscript_id \"g1.t1\"; gene_id \"g1\";\n",
      "scaffold6_cov64\t4588\t4590\tscaffold6_cov64\tAUGUSTUS\tintron\t2270\t4753\t0.4\t-\t.\ttranscript_id \"g1.t2\"; gene_id \"g1\";\n",
      "scaffold6_cov64\t5101\t5103\tscaffold6_cov64\tAUGUSTUS\tintron\t2270\t5582\t0.23\t-\t.\ttranscript_id \"g1.t1\"; gene_id \"g1\";\n",
      "scaffold6_cov64\t5101\t5103\tscaffold6_cov64\tAUGUSTUS\tintron\t4852\t5593\t0.48\t-\t.\ttranscript_id \"g1.t2\"; gene_id \"g1\";\n",
      "scaffold6_cov64\t5309\t5311\tscaffold6_cov64\tAUGUSTUS\tintron\t2270\t5582\t0.23\t-\t.\ttranscript_id \"g1.t1\"; gene_id \"g1\";\n",
      "scaffold6_cov64\t5309\t5311\tscaffold6_cov64\tAUGUSTUS\tintron\t4852\t5593\t0.48\t-\t.\ttranscript_id \"g1.t2\"; gene_id \"g1\";\n",
      "\n",
      "==> Meth4_R1_001_val_1_bismark_bt2_pe._5x.bedgraph.bed-paIntron <==\n",
      "scaffold6_cov64\t2536\t2538\tscaffold6_cov64\tAUGUSTUS\tintron\t2270\t5582\t0.23\t-\t.\ttranscript_id \"g1.t1\"; gene_id \"g1\";\n",
      "scaffold6_cov64\t2536\t2538\tscaffold6_cov64\tAUGUSTUS\tintron\t2270\t4753\t0.4\t-\t.\ttranscript_id \"g1.t2\"; gene_id \"g1\";\n",
      "scaffold6_cov64\t2584\t2586\tscaffold6_cov64\tAUGUSTUS\tintron\t2270\t5582\t0.23\t-\t.\ttranscript_id \"g1.t1\"; gene_id \"g1\";\n",
      "scaffold6_cov64\t2584\t2586\tscaffold6_cov64\tAUGUSTUS\tintron\t2270\t4753\t0.4\t-\t.\ttranscript_id \"g1.t2\"; gene_id \"g1\";\n",
      "scaffold6_cov64\t2676\t2678\tscaffold6_cov64\tAUGUSTUS\tintron\t2270\t5582\t0.23\t-\t.\ttranscript_id \"g1.t1\"; gene_id \"g1\";\n",
      "scaffold6_cov64\t2676\t2678\tscaffold6_cov64\tAUGUSTUS\tintron\t2270\t4753\t0.4\t-\t.\ttranscript_id \"g1.t2\"; gene_id \"g1\";\n",
      "scaffold6_cov64\t4588\t4590\tscaffold6_cov64\tAUGUSTUS\tintron\t2270\t5582\t0.23\t-\t.\ttranscript_id \"g1.t1\"; gene_id \"g1\";\n",
      "scaffold6_cov64\t4588\t4590\tscaffold6_cov64\tAUGUSTUS\tintron\t2270\t4753\t0.4\t-\t.\ttranscript_id \"g1.t2\"; gene_id \"g1\";\n",
      "scaffold6_cov64\t5101\t5103\tscaffold6_cov64\tAUGUSTUS\tintron\t2270\t5582\t0.23\t-\t.\ttranscript_id \"g1.t1\"; gene_id \"g1\";\n",
      "scaffold6_cov64\t5101\t5103\tscaffold6_cov64\tAUGUSTUS\tintron\t4852\t5593\t0.48\t-\t.\ttranscript_id \"g1.t2\"; gene_id \"g1\";\n",
      "\n",
      "==> Meth5_R1_001_val_1_bismark_bt2_pe._5x.bedgraph-Meth.bed-paIntron <==\n",
      "scaffold6_cov64\t2676\t2678\tscaffold6_cov64\tAUGUSTUS\tintron\t2270\t5582\t0.23\t-\t.\ttranscript_id \"g1.t1\"; gene_id \"g1\";\n",
      "scaffold6_cov64\t2676\t2678\tscaffold6_cov64\tAUGUSTUS\tintron\t2270\t4753\t0.4\t-\t.\ttranscript_id \"g1.t2\"; gene_id \"g1\";\n",
      "scaffold7_cov100\t96721\t96723\tscaffold7_cov100\tAUGUSTUS\tintron\t96698\t96782\t0.95\t-\t.\ttranscript_id \"g24.t1\"; gene_id \"g24\";\n",
      "scaffold7_cov100\t96721\t96723\tscaffold7_cov100\tAUGUSTUS\tintron\t96698\t96782\t0.95\t-\t.\ttranscript_id \"g24.t2\"; gene_id \"g24\";\n",
      "scaffold7_cov100\t96740\t96742\tscaffold7_cov100\tAUGUSTUS\tintron\t96698\t96782\t0.95\t-\t.\ttranscript_id \"g24.t1\"; gene_id \"g24\";\n",
      "scaffold7_cov100\t96740\t96742\tscaffold7_cov100\tAUGUSTUS\tintron\t96698\t96782\t0.95\t-\t.\ttranscript_id \"g24.t2\"; gene_id \"g24\";\n",
      "scaffold7_cov100\t177834\t177836\tscaffold7_cov100\tAUGUSTUS\tintron\t177336\t177959\t1\t-\t.\ttranscript_id \"g44.t1\"; gene_id \"g44\";\n",
      "scaffold7_cov100\t177834\t177836\tscaffold7_cov100\tAUGUSTUS\tintron\t177336\t177959\t1\t-\t.\ttranscript_id \"g44.t2\"; gene_id \"g44\";\n",
      "scaffold7_cov100\t177838\t177840\tscaffold7_cov100\tAUGUSTUS\tintron\t177336\t177959\t1\t-\t.\ttranscript_id \"g44.t1\"; gene_id \"g44\";\n",
      "scaffold7_cov100\t177838\t177840\tscaffold7_cov100\tAUGUSTUS\tintron\t177336\t177959\t1\t-\t.\ttranscript_id \"g44.t2\"; gene_id \"g44\";\n",
      "\n",
      "==> Meth5_R1_001_val_1_bismark_bt2_pe._5x.bedgraph-sparseMeth.bed-paIntron <==\n",
      "scaffold6_cov64\t4553\t4555\tscaffold6_cov64\tAUGUSTUS\tintron\t2270\t5582\t0.23\t-\t.\ttranscript_id \"g1.t1\"; gene_id \"g1\";\n",
      "scaffold6_cov64\t4553\t4555\tscaffold6_cov64\tAUGUSTUS\tintron\t2270\t4753\t0.4\t-\t.\ttranscript_id \"g1.t2\"; gene_id \"g1\";\n",
      "scaffold6_cov64\t5545\t5547\tscaffold6_cov64\tAUGUSTUS\tintron\t2270\t5582\t0.23\t-\t.\ttranscript_id \"g1.t1\"; gene_id \"g1\";\n",
      "scaffold6_cov64\t5545\t5547\tscaffold6_cov64\tAUGUSTUS\tintron\t4852\t5593\t0.48\t-\t.\ttranscript_id \"g1.t2\"; gene_id \"g1\";\n",
      "scaffold6_cov64\t6374\t6376\tscaffold6_cov64\tAUGUSTUS\tintron\t6268\t6566\t0.58\t+\t.\ttranscript_id \"g2.t1\"; gene_id \"g2\";\n",
      "scaffold6_cov64\t6374\t6376\tscaffold6_cov64\tAUGUSTUS\tintron\t6268\t6566\t0.58\t+\t.\ttranscript_id \"g2.t2\"; gene_id \"g2\";\n",
      "scaffold7_cov100\t36543\t36545\tscaffold7_cov100\tAUGUSTUS\tintron\t35528\t37567\t1\t-\t.\ttranscript_id \"g13.t1\"; gene_id \"g13\";\n",
      "scaffold7_cov100\t36543\t36545\tscaffold7_cov100\tAUGUSTUS\tintron\t35528\t37567\t1\t-\t.\ttranscript_id \"g13.t2\"; gene_id \"g13\";\n",
      "scaffold7_cov100\t36600\t36602\tscaffold7_cov100\tAUGUSTUS\tintron\t35528\t37567\t1\t-\t.\ttranscript_id \"g13.t1\"; gene_id \"g13\";\n",
      "scaffold7_cov100\t36600\t36602\tscaffold7_cov100\tAUGUSTUS\tintron\t35528\t37567\t1\t-\t.\ttranscript_id \"g13.t2\"; gene_id \"g13\";\n",
      "\n",
      "==> Meth5_R1_001_val_1_bismark_bt2_pe._5x.bedgraph-unMeth.bed-paIntron <==\n",
      "scaffold6_cov64\t2584\t2586\tscaffold6_cov64\tAUGUSTUS\tintron\t2270\t5582\t0.23\t-\t.\ttranscript_id \"g1.t1\"; gene_id \"g1\";\n",
      "scaffold6_cov64\t2584\t2586\tscaffold6_cov64\tAUGUSTUS\tintron\t2270\t4753\t0.4\t-\t.\ttranscript_id \"g1.t2\"; gene_id \"g1\";\n",
      "scaffold6_cov64\t2682\t2684\tscaffold6_cov64\tAUGUSTUS\tintron\t2270\t5582\t0.23\t-\t.\ttranscript_id \"g1.t1\"; gene_id \"g1\";\n",
      "scaffold6_cov64\t2682\t2684\tscaffold6_cov64\tAUGUSTUS\tintron\t2270\t4753\t0.4\t-\t.\ttranscript_id \"g1.t2\"; gene_id \"g1\";\n",
      "scaffold6_cov64\t4588\t4590\tscaffold6_cov64\tAUGUSTUS\tintron\t2270\t5582\t0.23\t-\t.\ttranscript_id \"g1.t1\"; gene_id \"g1\";\n",
      "scaffold6_cov64\t4588\t4590\tscaffold6_cov64\tAUGUSTUS\tintron\t2270\t4753\t0.4\t-\t.\ttranscript_id \"g1.t2\"; gene_id \"g1\";\n",
      "scaffold6_cov64\t5559\t5561\tscaffold6_cov64\tAUGUSTUS\tintron\t2270\t5582\t0.23\t-\t.\ttranscript_id \"g1.t1\"; gene_id \"g1\";\n",
      "scaffold6_cov64\t5559\t5561\tscaffold6_cov64\tAUGUSTUS\tintron\t4852\t5593\t0.48\t-\t.\ttranscript_id \"g1.t2\"; gene_id \"g1\";\n",
      "scaffold6_cov64\t5561\t5563\tscaffold6_cov64\tAUGUSTUS\tintron\t2270\t5582\t0.23\t-\t.\ttranscript_id \"g1.t1\"; gene_id \"g1\";\n",
      "scaffold6_cov64\t5561\t5563\tscaffold6_cov64\tAUGUSTUS\tintron\t4852\t5593\t0.48\t-\t.\ttranscript_id \"g1.t2\"; gene_id \"g1\";\n",
      "\n",
      "==> Meth5_R1_001_val_1_bismark_bt2_pe._5x.bedgraph.bed-paIntron <==\n",
      "scaffold6_cov64\t2584\t2586\tscaffold6_cov64\tAUGUSTUS\tintron\t2270\t5582\t0.23\t-\t.\ttranscript_id \"g1.t1\"; gene_id \"g1\";\n",
      "scaffold6_cov64\t2584\t2586\tscaffold6_cov64\tAUGUSTUS\tintron\t2270\t4753\t0.4\t-\t.\ttranscript_id \"g1.t2\"; gene_id \"g1\";\n",
      "scaffold6_cov64\t2676\t2678\tscaffold6_cov64\tAUGUSTUS\tintron\t2270\t5582\t0.23\t-\t.\ttranscript_id \"g1.t1\"; gene_id \"g1\";\n",
      "scaffold6_cov64\t2676\t2678\tscaffold6_cov64\tAUGUSTUS\tintron\t2270\t4753\t0.4\t-\t.\ttranscript_id \"g1.t2\"; gene_id \"g1\";\n",
      "scaffold6_cov64\t2682\t2684\tscaffold6_cov64\tAUGUSTUS\tintron\t2270\t5582\t0.23\t-\t.\ttranscript_id \"g1.t1\"; gene_id \"g1\";\n",
      "scaffold6_cov64\t2682\t2684\tscaffold6_cov64\tAUGUSTUS\tintron\t2270\t4753\t0.4\t-\t.\ttranscript_id \"g1.t2\"; gene_id \"g1\";\n",
      "scaffold6_cov64\t4553\t4555\tscaffold6_cov64\tAUGUSTUS\tintron\t2270\t5582\t0.23\t-\t.\ttranscript_id \"g1.t1\"; gene_id \"g1\";\n",
      "scaffold6_cov64\t4553\t4555\tscaffold6_cov64\tAUGUSTUS\tintron\t2270\t4753\t0.4\t-\t.\ttranscript_id \"g1.t2\"; gene_id \"g1\";\n",
      "scaffold6_cov64\t4588\t4590\tscaffold6_cov64\tAUGUSTUS\tintron\t2270\t5582\t0.23\t-\t.\ttranscript_id \"g1.t1\"; gene_id \"g1\";\n",
      "scaffold6_cov64\t4588\t4590\tscaffold6_cov64\tAUGUSTUS\tintron\t2270\t4753\t0.4\t-\t.\ttranscript_id \"g1.t2\"; gene_id \"g1\";\n",
      "\n",
      "==> Meth6_R1_001_val_1_bismark_bt2_pe._5x.bedgraph-Meth.bed-paIntron <==\n",
      "scaffold7_cov100\t394699\t394701\tscaffold7_cov100\tAUGUSTUS\tintron\t392150\t394859\t0.56\t-\t.\ttranscript_id \"g86.t1\"; gene_id \"g86\";\n",
      "scaffold12_cov67\t4363\t4365\tscaffold12_cov67\tAUGUSTUS\tintron\t2824\t5159\t0.24\t+\t.\ttranscript_id \"g124.t1\"; gene_id \"g124\";\n",
      "scaffold12_cov67\t4517\t4519\tscaffold12_cov67\tAUGUSTUS\tintron\t2824\t5159\t0.24\t+\t.\ttranscript_id \"g124.t1\"; gene_id \"g124\";\n",
      "scaffold12_cov67\t4517\t4519\tscaffold12_cov67\tAUGUSTUS\tintron\t4393\t5159\t0.25\t+\t.\ttranscript_id \"g124.t2\"; gene_id \"g124\";\n",
      "scaffold12_cov67\t11660\t11662\tscaffold12_cov67\tAUGUSTUS\tintron\t11633\t12241\t1\t+\t.\ttranscript_id \"g126.t1\"; gene_id \"g126\";\n",
      "scaffold19_cov103\t69462\t69464\tscaffold19_cov103\tAUGUSTUS\tintron\t69118\t69564\t1\t+\t.\ttranscript_id \"g155.t1\"; gene_id \"g155\";\n",
      "scaffold22_cov58\t5787\t5789\tscaffold22_cov58\tAUGUSTUS\tintron\t4972\t5958\t0.96\t-\t.\ttranscript_id \"g238.t1\"; gene_id \"g238\";\n",
      "scaffold27_cov99\t17698\t17700\tscaffold27_cov99\tAUGUSTUS\tintron\t16490\t17886\t0.45\t-\t.\ttranscript_id \"g243.t1\"; gene_id \"g243\";\n",
      "scaffold27_cov99\t98212\t98214\tscaffold27_cov99\tAUGUSTUS\tintron\t97913\t98249\t1\t-\t.\ttranscript_id \"g259.t1\"; gene_id \"g259\";\n",
      "scaffold27_cov99\t98212\t98214\tscaffold27_cov99\tAUGUSTUS\tintron\t97913\t98249\t1\t-\t.\ttranscript_id \"g259.t2\"; gene_id \"g259\";\n",
      "\n",
      "==> Meth6_R1_001_val_1_bismark_bt2_pe._5x.bedgraph-sparseMeth.bed-paIntron <==\n",
      "scaffold6_cov64\t4553\t4555\tscaffold6_cov64\tAUGUSTUS\tintron\t2270\t5582\t0.23\t-\t.\ttranscript_id \"g1.t1\"; gene_id \"g1\";\n",
      "scaffold6_cov64\t4553\t4555\tscaffold6_cov64\tAUGUSTUS\tintron\t2270\t4753\t0.4\t-\t.\ttranscript_id \"g1.t2\"; gene_id \"g1\";\n",
      "scaffold6_cov64\t4588\t4590\tscaffold6_cov64\tAUGUSTUS\tintron\t2270\t5582\t0.23\t-\t.\ttranscript_id \"g1.t1\"; gene_id \"g1\";\n",
      "scaffold6_cov64\t4588\t4590\tscaffold6_cov64\tAUGUSTUS\tintron\t2270\t4753\t0.4\t-\t.\ttranscript_id \"g1.t2\"; gene_id \"g1\";\n",
      "scaffold6_cov64\t6267\t6268\tscaffold6_cov64\tAUGUSTUS\tintron\t6268\t6566\t0.58\t+\t.\ttranscript_id \"g2.t1\"; gene_id \"g2\";\n",
      "scaffold6_cov64\t6267\t6268\tscaffold6_cov64\tAUGUSTUS\tintron\t6268\t6566\t0.58\t+\t.\ttranscript_id \"g2.t2\"; gene_id \"g2\";\n",
      "scaffold6_cov64\t6374\t6376\tscaffold6_cov64\tAUGUSTUS\tintron\t6268\t6566\t0.58\t+\t.\ttranscript_id \"g2.t1\"; gene_id \"g2\";\n",
      "scaffold6_cov64\t6374\t6376\tscaffold6_cov64\tAUGUSTUS\tintron\t6268\t6566\t0.58\t+\t.\ttranscript_id \"g2.t2\"; gene_id \"g2\";\n",
      "scaffold7_cov100\t4351\t4353\tscaffold7_cov100\tAUGUSTUS\tintron\t4181\t4607\t1\t-\t.\ttranscript_id \"g4.t1\"; gene_id \"g4\";\n",
      "scaffold7_cov100\t4351\t4353\tscaffold7_cov100\tAUGUSTUS\tintron\t4181\t4607\t1\t-\t.\ttranscript_id \"g4.t2\"; gene_id \"g4\";\n",
      "\n",
      "==> Meth6_R1_001_val_1_bismark_bt2_pe._5x.bedgraph-unMeth.bed-paIntron <==\n",
      "scaffold6_cov64\t5456\t5458\tscaffold6_cov64\tAUGUSTUS\tintron\t2270\t5582\t0.23\t-\t.\ttranscript_id \"g1.t1\"; gene_id \"g1\";\n",
      "scaffold6_cov64\t5456\t5458\tscaffold6_cov64\tAUGUSTUS\tintron\t4852\t5593\t0.48\t-\t.\ttranscript_id \"g1.t2\"; gene_id \"g1\";\n",
      "scaffold6_cov64\t5486\t5488\tscaffold6_cov64\tAUGUSTUS\tintron\t2270\t5582\t0.23\t-\t.\ttranscript_id \"g1.t1\"; gene_id \"g1\";\n",
      "scaffold6_cov64\t5486\t5488\tscaffold6_cov64\tAUGUSTUS\tintron\t4852\t5593\t0.48\t-\t.\ttranscript_id \"g1.t2\"; gene_id \"g1\";\n",
      "scaffold6_cov64\t5545\t5547\tscaffold6_cov64\tAUGUSTUS\tintron\t2270\t5582\t0.23\t-\t.\ttranscript_id \"g1.t1\"; gene_id \"g1\";\n",
      "scaffold6_cov64\t5545\t5547\tscaffold6_cov64\tAUGUSTUS\tintron\t4852\t5593\t0.48\t-\t.\ttranscript_id \"g1.t2\"; gene_id \"g1\";\n",
      "scaffold6_cov64\t5559\t5561\tscaffold6_cov64\tAUGUSTUS\tintron\t2270\t5582\t0.23\t-\t.\ttranscript_id \"g1.t1\"; gene_id \"g1\";\n",
      "scaffold6_cov64\t5559\t5561\tscaffold6_cov64\tAUGUSTUS\tintron\t4852\t5593\t0.48\t-\t.\ttranscript_id \"g1.t2\"; gene_id \"g1\";\n",
      "scaffold6_cov64\t5561\t5563\tscaffold6_cov64\tAUGUSTUS\tintron\t2270\t5582\t0.23\t-\t.\ttranscript_id \"g1.t1\"; gene_id \"g1\";\n",
      "scaffold6_cov64\t5561\t5563\tscaffold6_cov64\tAUGUSTUS\tintron\t4852\t5593\t0.48\t-\t.\ttranscript_id \"g1.t2\"; gene_id \"g1\";\n",
      "\n",
      "==> Meth6_R1_001_val_1_bismark_bt2_pe._5x.bedgraph.bed-paIntron <==\n",
      "scaffold6_cov64\t4553\t4555\tscaffold6_cov64\tAUGUSTUS\tintron\t2270\t5582\t0.23\t-\t.\ttranscript_id \"g1.t1\"; gene_id \"g1\";\n",
      "scaffold6_cov64\t4553\t4555\tscaffold6_cov64\tAUGUSTUS\tintron\t2270\t4753\t0.4\t-\t.\ttranscript_id \"g1.t2\"; gene_id \"g1\";\n",
      "scaffold6_cov64\t4588\t4590\tscaffold6_cov64\tAUGUSTUS\tintron\t2270\t5582\t0.23\t-\t.\ttranscript_id \"g1.t1\"; gene_id \"g1\";\n",
      "scaffold6_cov64\t4588\t4590\tscaffold6_cov64\tAUGUSTUS\tintron\t2270\t4753\t0.4\t-\t.\ttranscript_id \"g1.t2\"; gene_id \"g1\";\n",
      "scaffold6_cov64\t5456\t5458\tscaffold6_cov64\tAUGUSTUS\tintron\t2270\t5582\t0.23\t-\t.\ttranscript_id \"g1.t1\"; gene_id \"g1\";\n",
      "scaffold6_cov64\t5456\t5458\tscaffold6_cov64\tAUGUSTUS\tintron\t4852\t5593\t0.48\t-\t.\ttranscript_id \"g1.t2\"; gene_id \"g1\";\n",
      "scaffold6_cov64\t5486\t5488\tscaffold6_cov64\tAUGUSTUS\tintron\t2270\t5582\t0.23\t-\t.\ttranscript_id \"g1.t1\"; gene_id \"g1\";\n",
      "scaffold6_cov64\t5486\t5488\tscaffold6_cov64\tAUGUSTUS\tintron\t4852\t5593\t0.48\t-\t.\ttranscript_id \"g1.t2\"; gene_id \"g1\";\n",
      "scaffold6_cov64\t5545\t5547\tscaffold6_cov64\tAUGUSTUS\tintron\t2270\t5582\t0.23\t-\t.\ttranscript_id \"g1.t1\"; gene_id \"g1\";\n",
      "scaffold6_cov64\t5545\t5547\tscaffold6_cov64\tAUGUSTUS\tintron\t4852\t5593\t0.48\t-\t.\ttranscript_id \"g1.t2\"; gene_id \"g1\";\n",
      "\n",
      "==> Meth7_R1_001_val_1_bismark_bt2_pe._5x.bedgraph-Meth.bed-paIntron <==\n",
      "scaffold7_cov100\t5986\t5988\tscaffold7_cov100\tAUGUSTUS\tintron\t5541\t6090\t1\t-\t.\ttranscript_id \"g4.t1\"; gene_id \"g4\";\n",
      "scaffold7_cov100\t5986\t5988\tscaffold7_cov100\tAUGUSTUS\tintron\t5541\t6090\t1\t-\t.\ttranscript_id \"g4.t2\"; gene_id \"g4\";\n",
      "scaffold7_cov100\t7438\t7440\tscaffold7_cov100\tAUGUSTUS\tintron\t7104\t7649\t1\t-\t.\ttranscript_id \"g5.t1\"; gene_id \"g5\";\n",
      "scaffold7_cov100\t7438\t7440\tscaffold7_cov100\tAUGUSTUS\tintron\t7104\t7649\t1\t-\t.\ttranscript_id \"g5.t2\"; gene_id \"g5\";\n",
      "scaffold7_cov100\t7796\t7798\tscaffold7_cov100\tAUGUSTUS\tintron\t7716\t7892\t1\t-\t.\ttranscript_id \"g5.t1\"; gene_id \"g5\";\n",
      "scaffold7_cov100\t7796\t7798\tscaffold7_cov100\tAUGUSTUS\tintron\t7716\t7892\t1\t-\t.\ttranscript_id \"g5.t2\"; gene_id \"g5\";\n",
      "scaffold7_cov100\t7891\t7892\tscaffold7_cov100\tAUGUSTUS\tintron\t7716\t7892\t1\t-\t.\ttranscript_id \"g5.t1\"; gene_id \"g5\";\n",
      "scaffold7_cov100\t7891\t7892\tscaffold7_cov100\tAUGUSTUS\tintron\t7716\t7892\t1\t-\t.\ttranscript_id \"g5.t2\"; gene_id \"g5\";\n",
      "scaffold7_cov100\t10414\t10416\tscaffold7_cov100\tAUGUSTUS\tintron\t10282\t10594\t1\t-\t.\ttranscript_id \"g6.t1\"; gene_id \"g6\";\n",
      "scaffold7_cov100\t13385\t13387\tscaffold7_cov100\tAUGUSTUS\tintron\t13350\t13743\t0.99\t-\t.\ttranscript_id \"g7.t1\"; gene_id \"g7\";\n",
      "\n",
      "==> Meth7_R1_001_val_1_bismark_bt2_pe._5x.bedgraph-sparseMeth.bed-paIntron <==\n",
      "scaffold6_cov64\t4146\t4148\tscaffold6_cov64\tAUGUSTUS\tintron\t2270\t5582\t0.23\t-\t.\ttranscript_id \"g1.t1\"; gene_id \"g1\";\n",
      "scaffold6_cov64\t4146\t4148\tscaffold6_cov64\tAUGUSTUS\tintron\t2270\t4753\t0.4\t-\t.\ttranscript_id \"g1.t2\"; gene_id \"g1\";\n",
      "scaffold6_cov64\t5561\t5563\tscaffold6_cov64\tAUGUSTUS\tintron\t2270\t5582\t0.23\t-\t.\ttranscript_id \"g1.t1\"; gene_id \"g1\";\n",
      "scaffold6_cov64\t5561\t5563\tscaffold6_cov64\tAUGUSTUS\tintron\t4852\t5593\t0.48\t-\t.\ttranscript_id \"g1.t2\"; gene_id \"g1\";\n",
      "scaffold7_cov100\t3629\t3631\tscaffold7_cov100\tAUGUSTUS\tintron\t3590\t4057\t1\t-\t.\ttranscript_id \"g4.t1\"; gene_id \"g4\";\n",
      "scaffold7_cov100\t3629\t3631\tscaffold7_cov100\tAUGUSTUS\tintron\t3590\t4057\t1\t-\t.\ttranscript_id \"g4.t2\"; gene_id \"g4\";\n",
      "scaffold7_cov100\t5578\t5580\tscaffold7_cov100\tAUGUSTUS\tintron\t5541\t6090\t1\t-\t.\ttranscript_id \"g4.t1\"; gene_id \"g4\";\n",
      "scaffold7_cov100\t5578\t5580\tscaffold7_cov100\tAUGUSTUS\tintron\t5541\t6090\t1\t-\t.\ttranscript_id \"g4.t2\"; gene_id \"g4\";\n",
      "scaffold7_cov100\t11439\t11441\tscaffold7_cov100\tAUGUSTUS\tintron\t11392\t11471\t0.97\t-\t.\ttranscript_id \"g6.t1\"; gene_id \"g6\";\n",
      "scaffold7_cov100\t36904\t36906\tscaffold7_cov100\tAUGUSTUS\tintron\t35528\t37567\t1\t-\t.\ttranscript_id \"g13.t1\"; gene_id \"g13\";\n",
      "\n",
      "==> Meth7_R1_001_val_1_bismark_bt2_pe._5x.bedgraph-unMeth.bed-paIntron <==\n",
      "scaffold6_cov64\t290\t292\tscaffold6_cov64\tAUGUSTUS\tintron\t1\t494\t0.82\t-\t.\ttranscript_id \"g1.t1\"; gene_id \"g1\";\n",
      "scaffold6_cov64\t290\t292\tscaffold6_cov64\tAUGUSTUS\tintron\t1\t494\t0.82\t-\t.\ttranscript_id \"g1.t2\"; gene_id \"g1\";\n",
      "scaffold6_cov64\t298\t300\tscaffold6_cov64\tAUGUSTUS\tintron\t1\t494\t0.82\t-\t.\ttranscript_id \"g1.t1\"; gene_id \"g1\";\n",
      "scaffold6_cov64\t298\t300\tscaffold6_cov64\tAUGUSTUS\tintron\t1\t494\t0.82\t-\t.\ttranscript_id \"g1.t2\"; gene_id \"g1\";\n",
      "scaffold6_cov64\t489\t491\tscaffold6_cov64\tAUGUSTUS\tintron\t1\t494\t0.82\t-\t.\ttranscript_id \"g1.t1\"; gene_id \"g1\";\n",
      "scaffold6_cov64\t489\t491\tscaffold6_cov64\tAUGUSTUS\tintron\t1\t494\t0.82\t-\t.\ttranscript_id \"g1.t2\"; gene_id \"g1\";\n",
      "scaffold6_cov64\t2872\t2874\tscaffold6_cov64\tAUGUSTUS\tintron\t2270\t5582\t0.23\t-\t.\ttranscript_id \"g1.t1\"; gene_id \"g1\";\n",
      "scaffold6_cov64\t2872\t2874\tscaffold6_cov64\tAUGUSTUS\tintron\t2270\t4753\t0.4\t-\t.\ttranscript_id \"g1.t2\"; gene_id \"g1\";\n",
      "scaffold6_cov64\t2876\t2878\tscaffold6_cov64\tAUGUSTUS\tintron\t2270\t5582\t0.23\t-\t.\ttranscript_id \"g1.t1\"; gene_id \"g1\";\n",
      "scaffold6_cov64\t2876\t2878\tscaffold6_cov64\tAUGUSTUS\tintron\t2270\t4753\t0.4\t-\t.\ttranscript_id \"g1.t2\"; gene_id \"g1\";\n",
      "\n",
      "==> Meth7_R1_001_val_1_bismark_bt2_pe._5x.bedgraph.bed-paIntron <==\n",
      "scaffold6_cov64\t290\t292\tscaffold6_cov64\tAUGUSTUS\tintron\t1\t494\t0.82\t-\t.\ttranscript_id \"g1.t1\"; gene_id \"g1\";\n",
      "scaffold6_cov64\t290\t292\tscaffold6_cov64\tAUGUSTUS\tintron\t1\t494\t0.82\t-\t.\ttranscript_id \"g1.t2\"; gene_id \"g1\";\n",
      "scaffold6_cov64\t298\t300\tscaffold6_cov64\tAUGUSTUS\tintron\t1\t494\t0.82\t-\t.\ttranscript_id \"g1.t1\"; gene_id \"g1\";\n",
      "scaffold6_cov64\t298\t300\tscaffold6_cov64\tAUGUSTUS\tintron\t1\t494\t0.82\t-\t.\ttranscript_id \"g1.t2\"; gene_id \"g1\";\n",
      "scaffold6_cov64\t489\t491\tscaffold6_cov64\tAUGUSTUS\tintron\t1\t494\t0.82\t-\t.\ttranscript_id \"g1.t1\"; gene_id \"g1\";\n",
      "scaffold6_cov64\t489\t491\tscaffold6_cov64\tAUGUSTUS\tintron\t1\t494\t0.82\t-\t.\ttranscript_id \"g1.t2\"; gene_id \"g1\";\n",
      "scaffold6_cov64\t2872\t2874\tscaffold6_cov64\tAUGUSTUS\tintron\t2270\t5582\t0.23\t-\t.\ttranscript_id \"g1.t1\"; gene_id \"g1\";\n",
      "scaffold6_cov64\t2872\t2874\tscaffold6_cov64\tAUGUSTUS\tintron\t2270\t4753\t0.4\t-\t.\ttranscript_id \"g1.t2\"; gene_id \"g1\";\n",
      "scaffold6_cov64\t2876\t2878\tscaffold6_cov64\tAUGUSTUS\tintron\t2270\t5582\t0.23\t-\t.\ttranscript_id \"g1.t1\"; gene_id \"g1\";\n",
      "scaffold6_cov64\t2876\t2878\tscaffold6_cov64\tAUGUSTUS\tintron\t2270\t4753\t0.4\t-\t.\ttranscript_id \"g1.t2\"; gene_id \"g1\";\n",
      "\n",
      "==> Meth8_R1_001_val_1_bismark_bt2_pe._5x.bedgraph-Meth.bed-paIntron <==\n",
      "scaffold7_cov100\t5986\t5988\tscaffold7_cov100\tAUGUSTUS\tintron\t5541\t6090\t1\t-\t.\ttranscript_id \"g4.t1\"; gene_id \"g4\";\n",
      "scaffold7_cov100\t5986\t5988\tscaffold7_cov100\tAUGUSTUS\tintron\t5541\t6090\t1\t-\t.\ttranscript_id \"g4.t2\"; gene_id \"g4\";\n",
      "scaffold7_cov100\t7796\t7798\tscaffold7_cov100\tAUGUSTUS\tintron\t7716\t7892\t1\t-\t.\ttranscript_id \"g5.t1\"; gene_id \"g5\";\n",
      "scaffold7_cov100\t7796\t7798\tscaffold7_cov100\tAUGUSTUS\tintron\t7716\t7892\t1\t-\t.\ttranscript_id \"g5.t2\"; gene_id \"g5\";\n",
      "scaffold7_cov100\t7891\t7892\tscaffold7_cov100\tAUGUSTUS\tintron\t7716\t7892\t1\t-\t.\ttranscript_id \"g5.t1\"; gene_id \"g5\";\n",
      "scaffold7_cov100\t7891\t7892\tscaffold7_cov100\tAUGUSTUS\tintron\t7716\t7892\t1\t-\t.\ttranscript_id \"g5.t2\"; gene_id \"g5\";\n",
      "scaffold7_cov100\t19095\t19097\tscaffold7_cov100\tAUGUSTUS\tintron\t18757\t19234\t0.99\t-\t.\ttranscript_id \"g9.t1\"; gene_id \"g9\";\n",
      "scaffold7_cov100\t20228\t20230\tscaffold7_cov100\tAUGUSTUS\tintron\t20129\t20393\t0.8\t+\t.\ttranscript_id \"g11.t1\"; gene_id \"g11\";\n",
      "scaffold7_cov100\t20243\t20245\tscaffold7_cov100\tAUGUSTUS\tintron\t20129\t20393\t0.8\t+\t.\ttranscript_id \"g11.t1\"; gene_id \"g11\";\n",
      "scaffold7_cov100\t20259\t20261\tscaffold7_cov100\tAUGUSTUS\tintron\t20129\t20393\t0.8\t+\t.\ttranscript_id \"g11.t1\"; gene_id \"g11\";\n",
      "\n",
      "==> Meth8_R1_001_val_1_bismark_bt2_pe._5x.bedgraph-sparseMeth.bed-paIntron <==\n",
      "scaffold7_cov100\t7438\t7440\tscaffold7_cov100\tAUGUSTUS\tintron\t7104\t7649\t1\t-\t.\ttranscript_id \"g5.t1\"; gene_id \"g5\";\n",
      "scaffold7_cov100\t7438\t7440\tscaffold7_cov100\tAUGUSTUS\tintron\t7104\t7649\t1\t-\t.\ttranscript_id \"g5.t2\"; gene_id \"g5\";\n",
      "scaffold7_cov100\t13385\t13387\tscaffold7_cov100\tAUGUSTUS\tintron\t13350\t13743\t0.99\t-\t.\ttranscript_id \"g7.t1\"; gene_id \"g7\";\n",
      "scaffold7_cov100\t22257\t22259\tscaffold7_cov100\tAUGUSTUS\tintron\t20697\t24051\t0.49\t+\t.\ttranscript_id \"g11.t1\"; gene_id \"g11\";\n",
      "scaffold7_cov100\t34847\t34849\tscaffold7_cov100\tAUGUSTUS\tintron\t34677\t35379\t1\t-\t.\ttranscript_id \"g13.t1\"; gene_id \"g13\";\n",
      "scaffold7_cov100\t34847\t34849\tscaffold7_cov100\tAUGUSTUS\tintron\t34677\t35379\t1\t-\t.\ttranscript_id \"g13.t2\"; gene_id \"g13\";\n",
      "scaffold7_cov100\t52903\t52905\tscaffold7_cov100\tAUGUSTUS\tintron\t52812\t53071\t1\t+\t.\ttranscript_id \"g16.t1\"; gene_id \"g16\";\n",
      "scaffold7_cov100\t69268\t69270\tscaffold7_cov100\tAUGUSTUS\tintron\t69212\t69346\t1\t-\t.\ttranscript_id \"g18.t1\"; gene_id \"g18\";\n",
      "scaffold7_cov100\t119845\t119847\tscaffold7_cov100\tAUGUSTUS\tintron\t119830\t120570\t1\t+\t.\ttranscript_id \"g30.t1\"; gene_id \"g30\";\n",
      "scaffold7_cov100\t155682\t155684\tscaffold7_cov100\tAUGUSTUS\tintron\t155667\t155767\t0.4\t-\t.\ttranscript_id \"g41.t1\"; gene_id \"g41\";\n",
      "\n",
      "==> Meth8_R1_001_val_1_bismark_bt2_pe._5x.bedgraph-unMeth.bed-paIntron <==\n",
      "scaffold6_cov64\t290\t292\tscaffold6_cov64\tAUGUSTUS\tintron\t1\t494\t0.82\t-\t.\ttranscript_id \"g1.t1\"; gene_id \"g1\";\n",
      "scaffold6_cov64\t290\t292\tscaffold6_cov64\tAUGUSTUS\tintron\t1\t494\t0.82\t-\t.\ttranscript_id \"g1.t2\"; gene_id \"g1\";\n",
      "scaffold6_cov64\t298\t300\tscaffold6_cov64\tAUGUSTUS\tintron\t1\t494\t0.82\t-\t.\ttranscript_id \"g1.t1\"; gene_id \"g1\";\n",
      "scaffold6_cov64\t298\t300\tscaffold6_cov64\tAUGUSTUS\tintron\t1\t494\t0.82\t-\t.\ttranscript_id \"g1.t2\"; gene_id \"g1\";\n",
      "scaffold6_cov64\t5101\t5103\tscaffold6_cov64\tAUGUSTUS\tintron\t2270\t5582\t0.23\t-\t.\ttranscript_id \"g1.t1\"; gene_id \"g1\";\n",
      "scaffold6_cov64\t5101\t5103\tscaffold6_cov64\tAUGUSTUS\tintron\t4852\t5593\t0.48\t-\t.\ttranscript_id \"g1.t2\"; gene_id \"g1\";\n",
      "scaffold6_cov64\t5545\t5547\tscaffold6_cov64\tAUGUSTUS\tintron\t2270\t5582\t0.23\t-\t.\ttranscript_id \"g1.t1\"; gene_id \"g1\";\n",
      "scaffold6_cov64\t5545\t5547\tscaffold6_cov64\tAUGUSTUS\tintron\t4852\t5593\t0.48\t-\t.\ttranscript_id \"g1.t2\"; gene_id \"g1\";\n",
      "scaffold6_cov64\t5559\t5561\tscaffold6_cov64\tAUGUSTUS\tintron\t2270\t5582\t0.23\t-\t.\ttranscript_id \"g1.t1\"; gene_id \"g1\";\n",
      "scaffold6_cov64\t5559\t5561\tscaffold6_cov64\tAUGUSTUS\tintron\t4852\t5593\t0.48\t-\t.\ttranscript_id \"g1.t2\"; gene_id \"g1\";\n",
      "\n",
      "==> Meth8_R1_001_val_1_bismark_bt2_pe._5x.bedgraph.bed-paIntron <==\n",
      "scaffold6_cov64\t290\t292\tscaffold6_cov64\tAUGUSTUS\tintron\t1\t494\t0.82\t-\t.\ttranscript_id \"g1.t1\"; gene_id \"g1\";\n",
      "scaffold6_cov64\t290\t292\tscaffold6_cov64\tAUGUSTUS\tintron\t1\t494\t0.82\t-\t.\ttranscript_id \"g1.t2\"; gene_id \"g1\";\n",
      "scaffold6_cov64\t298\t300\tscaffold6_cov64\tAUGUSTUS\tintron\t1\t494\t0.82\t-\t.\ttranscript_id \"g1.t1\"; gene_id \"g1\";\n",
      "scaffold6_cov64\t298\t300\tscaffold6_cov64\tAUGUSTUS\tintron\t1\t494\t0.82\t-\t.\ttranscript_id \"g1.t2\"; gene_id \"g1\";\n",
      "scaffold6_cov64\t5101\t5103\tscaffold6_cov64\tAUGUSTUS\tintron\t2270\t5582\t0.23\t-\t.\ttranscript_id \"g1.t1\"; gene_id \"g1\";\n",
      "scaffold6_cov64\t5101\t5103\tscaffold6_cov64\tAUGUSTUS\tintron\t4852\t5593\t0.48\t-\t.\ttranscript_id \"g1.t2\"; gene_id \"g1\";\n",
      "scaffold6_cov64\t5545\t5547\tscaffold6_cov64\tAUGUSTUS\tintron\t2270\t5582\t0.23\t-\t.\ttranscript_id \"g1.t1\"; gene_id \"g1\";\n",
      "scaffold6_cov64\t5545\t5547\tscaffold6_cov64\tAUGUSTUS\tintron\t4852\t5593\t0.48\t-\t.\ttranscript_id \"g1.t2\"; gene_id \"g1\";\n",
      "scaffold6_cov64\t5559\t5561\tscaffold6_cov64\tAUGUSTUS\tintron\t2270\t5582\t0.23\t-\t.\ttranscript_id \"g1.t1\"; gene_id \"g1\";\n",
      "scaffold6_cov64\t5559\t5561\tscaffold6_cov64\tAUGUSTUS\tintron\t4852\t5593\t0.48\t-\t.\ttranscript_id \"g1.t2\"; gene_id \"g1\";\n",
      "\n",
      "==> Meth9_R1_001_val_1_bismark_bt2_pe._5x.bedgraph-Meth.bed-paIntron <==\n",
      "scaffold7_cov100\t5578\t5580\tscaffold7_cov100\tAUGUSTUS\tintron\t5541\t6090\t1\t-\t.\ttranscript_id \"g4.t1\"; gene_id \"g4\";\n",
      "scaffold7_cov100\t5578\t5580\tscaffold7_cov100\tAUGUSTUS\tintron\t5541\t6090\t1\t-\t.\ttranscript_id \"g4.t2\"; gene_id \"g4\";\n",
      "scaffold7_cov100\t5986\t5988\tscaffold7_cov100\tAUGUSTUS\tintron\t5541\t6090\t1\t-\t.\ttranscript_id \"g4.t1\"; gene_id \"g4\";\n",
      "scaffold7_cov100\t5986\t5988\tscaffold7_cov100\tAUGUSTUS\tintron\t5541\t6090\t1\t-\t.\ttranscript_id \"g4.t2\"; gene_id \"g4\";\n",
      "scaffold7_cov100\t7201\t7203\tscaffold7_cov100\tAUGUSTUS\tintron\t7104\t7649\t1\t-\t.\ttranscript_id \"g5.t1\"; gene_id \"g5\";\n",
      "scaffold7_cov100\t7201\t7203\tscaffold7_cov100\tAUGUSTUS\tintron\t7104\t7649\t1\t-\t.\ttranscript_id \"g5.t2\"; gene_id \"g5\";\n",
      "scaffold7_cov100\t7438\t7440\tscaffold7_cov100\tAUGUSTUS\tintron\t7104\t7649\t1\t-\t.\ttranscript_id \"g5.t1\"; gene_id \"g5\";\n",
      "scaffold7_cov100\t7438\t7440\tscaffold7_cov100\tAUGUSTUS\tintron\t7104\t7649\t1\t-\t.\ttranscript_id \"g5.t2\"; gene_id \"g5\";\n",
      "scaffold7_cov100\t7796\t7798\tscaffold7_cov100\tAUGUSTUS\tintron\t7716\t7892\t1\t-\t.\ttranscript_id \"g5.t1\"; gene_id \"g5\";\n",
      "scaffold7_cov100\t7796\t7798\tscaffold7_cov100\tAUGUSTUS\tintron\t7716\t7892\t1\t-\t.\ttranscript_id \"g5.t2\"; gene_id \"g5\";\n",
      "\n",
      "==> Meth9_R1_001_val_1_bismark_bt2_pe._5x.bedgraph-sparseMeth.bed-paIntron <==\n",
      "scaffold6_cov64\t3435\t3437\tscaffold6_cov64\tAUGUSTUS\tintron\t2270\t5582\t0.23\t-\t.\ttranscript_id \"g1.t1\"; gene_id \"g1\";\n",
      "scaffold6_cov64\t3435\t3437\tscaffold6_cov64\tAUGUSTUS\tintron\t2270\t4753\t0.4\t-\t.\ttranscript_id \"g1.t2\"; gene_id \"g1\";\n",
      "scaffold6_cov64\t4146\t4148\tscaffold6_cov64\tAUGUSTUS\tintron\t2270\t5582\t0.23\t-\t.\ttranscript_id \"g1.t1\"; gene_id \"g1\";\n",
      "scaffold6_cov64\t4146\t4148\tscaffold6_cov64\tAUGUSTUS\tintron\t2270\t4753\t0.4\t-\t.\ttranscript_id \"g1.t2\"; gene_id \"g1\";\n",
      "scaffold6_cov64\t5904\t5906\tscaffold6_cov64\tAUGUSTUS\tintron\t5839\t5945\t0.54\t+\t.\ttranscript_id \"g2.t1\"; gene_id \"g2\";\n",
      "scaffold6_cov64\t5904\t5906\tscaffold6_cov64\tAUGUSTUS\tintron\t5839\t5981\t0.44\t+\t.\ttranscript_id \"g2.t2\"; gene_id \"g2\";\n",
      "scaffold7_cov100\t3956\t3958\tscaffold7_cov100\tAUGUSTUS\tintron\t3590\t4057\t1\t-\t.\ttranscript_id \"g4.t1\"; gene_id \"g4\";\n",
      "scaffold7_cov100\t3956\t3958\tscaffold7_cov100\tAUGUSTUS\tintron\t3590\t4057\t1\t-\t.\ttranscript_id \"g4.t2\"; gene_id \"g4\";\n",
      "scaffold7_cov100\t35655\t35657\tscaffold7_cov100\tAUGUSTUS\tintron\t35528\t37567\t1\t-\t.\ttranscript_id \"g13.t1\"; gene_id \"g13\";\n",
      "scaffold7_cov100\t35655\t35657\tscaffold7_cov100\tAUGUSTUS\tintron\t35528\t37567\t1\t-\t.\ttranscript_id \"g13.t2\"; gene_id \"g13\";\n",
      "\n",
      "==> Meth9_R1_001_val_1_bismark_bt2_pe._5x.bedgraph-unMeth.bed-paIntron <==\n",
      "scaffold6_cov64\t290\t292\tscaffold6_cov64\tAUGUSTUS\tintron\t1\t494\t0.82\t-\t.\ttranscript_id \"g1.t1\"; gene_id \"g1\";\n",
      "scaffold6_cov64\t290\t292\tscaffold6_cov64\tAUGUSTUS\tintron\t1\t494\t0.82\t-\t.\ttranscript_id \"g1.t2\"; gene_id \"g1\";\n",
      "scaffold6_cov64\t298\t300\tscaffold6_cov64\tAUGUSTUS\tintron\t1\t494\t0.82\t-\t.\ttranscript_id \"g1.t1\"; gene_id \"g1\";\n",
      "scaffold6_cov64\t298\t300\tscaffold6_cov64\tAUGUSTUS\tintron\t1\t494\t0.82\t-\t.\ttranscript_id \"g1.t2\"; gene_id \"g1\";\n",
      "scaffold6_cov64\t489\t491\tscaffold6_cov64\tAUGUSTUS\tintron\t1\t494\t0.82\t-\t.\ttranscript_id \"g1.t1\"; gene_id \"g1\";\n",
      "scaffold6_cov64\t489\t491\tscaffold6_cov64\tAUGUSTUS\tintron\t1\t494\t0.82\t-\t.\ttranscript_id \"g1.t2\"; gene_id \"g1\";\n",
      "scaffold6_cov64\t2805\t2807\tscaffold6_cov64\tAUGUSTUS\tintron\t2270\t5582\t0.23\t-\t.\ttranscript_id \"g1.t1\"; gene_id \"g1\";\n",
      "scaffold6_cov64\t2805\t2807\tscaffold6_cov64\tAUGUSTUS\tintron\t2270\t4753\t0.4\t-\t.\ttranscript_id \"g1.t2\"; gene_id \"g1\";\n",
      "scaffold6_cov64\t3198\t3200\tscaffold6_cov64\tAUGUSTUS\tintron\t2270\t5582\t0.23\t-\t.\ttranscript_id \"g1.t1\"; gene_id \"g1\";\n",
      "scaffold6_cov64\t3198\t3200\tscaffold6_cov64\tAUGUSTUS\tintron\t2270\t4753\t0.4\t-\t.\ttranscript_id \"g1.t2\"; gene_id \"g1\";\n",
      "\n",
      "==> Meth9_R1_001_val_1_bismark_bt2_pe._5x.bedgraph.bed-paIntron <==\n",
      "scaffold6_cov64\t290\t292\tscaffold6_cov64\tAUGUSTUS\tintron\t1\t494\t0.82\t-\t.\ttranscript_id \"g1.t1\"; gene_id \"g1\";\n",
      "scaffold6_cov64\t290\t292\tscaffold6_cov64\tAUGUSTUS\tintron\t1\t494\t0.82\t-\t.\ttranscript_id \"g1.t2\"; gene_id \"g1\";\n",
      "scaffold6_cov64\t298\t300\tscaffold6_cov64\tAUGUSTUS\tintron\t1\t494\t0.82\t-\t.\ttranscript_id \"g1.t1\"; gene_id \"g1\";\n",
      "scaffold6_cov64\t298\t300\tscaffold6_cov64\tAUGUSTUS\tintron\t1\t494\t0.82\t-\t.\ttranscript_id \"g1.t2\"; gene_id \"g1\";\n",
      "scaffold6_cov64\t489\t491\tscaffold6_cov64\tAUGUSTUS\tintron\t1\t494\t0.82\t-\t.\ttranscript_id \"g1.t1\"; gene_id \"g1\";\n",
      "scaffold6_cov64\t489\t491\tscaffold6_cov64\tAUGUSTUS\tintron\t1\t494\t0.82\t-\t.\ttranscript_id \"g1.t2\"; gene_id \"g1\";\n",
      "scaffold6_cov64\t2805\t2807\tscaffold6_cov64\tAUGUSTUS\tintron\t2270\t5582\t0.23\t-\t.\ttranscript_id \"g1.t1\"; gene_id \"g1\";\n",
      "scaffold6_cov64\t2805\t2807\tscaffold6_cov64\tAUGUSTUS\tintron\t2270\t4753\t0.4\t-\t.\ttranscript_id \"g1.t2\"; gene_id \"g1\";\n",
      "scaffold6_cov64\t3198\t3200\tscaffold6_cov64\tAUGUSTUS\tintron\t2270\t5582\t0.23\t-\t.\ttranscript_id \"g1.t1\"; gene_id \"g1\";\n",
      "scaffold6_cov64\t3198\t3200\tscaffold6_cov64\tAUGUSTUS\tintron\t2270\t4753\t0.4\t-\t.\ttranscript_id \"g1.t2\"; gene_id \"g1\";\n"
     ]
    }
   ],
   "source": [
    "#Check output\n",
    "!head *paIntron"
   ]
  },
  {
   "cell_type": "code",
   "execution_count": 65,
   "metadata": {
    "collapsed": false,
    "scrolled": true
   },
   "outputs": [
    {
     "name": "stdout",
     "output_type": "stream",
     "text": [
      "   41787 Meth1_R1_001_val_1_bismark_bt2_pe._5x.bedgraph-Meth.bed-paIntron\n",
      "  122271 Meth1_R1_001_val_1_bismark_bt2_pe._5x.bedgraph-sparseMeth.bed-paIntron\n",
      " 1676080 Meth1_R1_001_val_1_bismark_bt2_pe._5x.bedgraph-unMeth.bed-paIntron\n",
      " 1840138 Meth1_R1_001_val_1_bismark_bt2_pe._5x.bedgraph.bed-paIntron\n",
      "   51567 Meth2_R1_001_val_1_bismark_bt2_pe._5x.bedgraph-Meth.bed-paIntron\n",
      "  117738 Meth2_R1_001_val_1_bismark_bt2_pe._5x.bedgraph-sparseMeth.bed-paIntron\n",
      " 1943990 Meth2_R1_001_val_1_bismark_bt2_pe._5x.bedgraph-unMeth.bed-paIntron\n",
      " 2113295 Meth2_R1_001_val_1_bismark_bt2_pe._5x.bedgraph.bed-paIntron\n",
      "   47352 Meth3_R1_001_val_1_bismark_bt2_pe._5x.bedgraph-Meth.bed-paIntron\n",
      "  128122 Meth3_R1_001_val_1_bismark_bt2_pe._5x.bedgraph-sparseMeth.bed-paIntron\n",
      " 1770676 Meth3_R1_001_val_1_bismark_bt2_pe._5x.bedgraph-unMeth.bed-paIntron\n",
      " 1946150 Meth3_R1_001_val_1_bismark_bt2_pe._5x.bedgraph.bed-paIntron\n",
      "    8446 Meth4_R1_001_val_1_bismark_bt2_pe._5x.bedgraph-Meth.bed-paIntron\n",
      "   38589 Meth4_R1_001_val_1_bismark_bt2_pe._5x.bedgraph-sparseMeth.bed-paIntron\n",
      "  492489 Meth4_R1_001_val_1_bismark_bt2_pe._5x.bedgraph-unMeth.bed-paIntron\n",
      "  539524 Meth4_R1_001_val_1_bismark_bt2_pe._5x.bedgraph.bed-paIntron\n",
      "    8375 Meth5_R1_001_val_1_bismark_bt2_pe._5x.bedgraph-Meth.bed-paIntron\n",
      "   17239 Meth5_R1_001_val_1_bismark_bt2_pe._5x.bedgraph-sparseMeth.bed-paIntron\n",
      "  388533 Meth5_R1_001_val_1_bismark_bt2_pe._5x.bedgraph-unMeth.bed-paIntron\n",
      "  414147 Meth5_R1_001_val_1_bismark_bt2_pe._5x.bedgraph.bed-paIntron\n",
      "    7162 Meth6_R1_001_val_1_bismark_bt2_pe._5x.bedgraph-Meth.bed-paIntron\n",
      "   23825 Meth6_R1_001_val_1_bismark_bt2_pe._5x.bedgraph-sparseMeth.bed-paIntron\n",
      "  408857 Meth6_R1_001_val_1_bismark_bt2_pe._5x.bedgraph-unMeth.bed-paIntron\n",
      "  439844 Meth6_R1_001_val_1_bismark_bt2_pe._5x.bedgraph.bed-paIntron\n",
      "   64572 Meth7_R1_001_val_1_bismark_bt2_pe._5x.bedgraph-Meth.bed-paIntron\n",
      "   71046 Meth7_R1_001_val_1_bismark_bt2_pe._5x.bedgraph-sparseMeth.bed-paIntron\n",
      "  611092 Meth7_R1_001_val_1_bismark_bt2_pe._5x.bedgraph-unMeth.bed-paIntron\n",
      "  746710 Meth7_R1_001_val_1_bismark_bt2_pe._5x.bedgraph.bed-paIntron\n",
      "   42068 Meth8_R1_001_val_1_bismark_bt2_pe._5x.bedgraph-Meth.bed-paIntron\n",
      "   13365 Meth8_R1_001_val_1_bismark_bt2_pe._5x.bedgraph-sparseMeth.bed-paIntron\n",
      "   45654 Meth8_R1_001_val_1_bismark_bt2_pe._5x.bedgraph-unMeth.bed-paIntron\n",
      "  101087 Meth8_R1_001_val_1_bismark_bt2_pe._5x.bedgraph.bed-paIntron\n",
      "   72530 Meth9_R1_001_val_1_bismark_bt2_pe._5x.bedgraph-Meth.bed-paIntron\n",
      "   85117 Meth9_R1_001_val_1_bismark_bt2_pe._5x.bedgraph-sparseMeth.bed-paIntron\n",
      "  636648 Meth9_R1_001_val_1_bismark_bt2_pe._5x.bedgraph-unMeth.bed-paIntron\n",
      "  794295 Meth9_R1_001_val_1_bismark_bt2_pe._5x.bedgraph.bed-paIntron\n",
      " 17870380 total\n"
     ]
    }
   ],
   "source": [
    "#Count number of overlaps\n",
    "!wc -l *paIntron"
   ]
  },
  {
   "cell_type": "code",
   "execution_count": 24,
   "metadata": {
    "collapsed": true
   },
   "outputs": [],
   "source": [
    "!wc -l *paIntron > Pact-5x-paIntron-counts.txt"
   ]
  },
  {
   "cell_type": "markdown",
   "metadata": {},
   "source": [
    "#### 4e. Flanking regions"
   ]
  },
  {
   "cell_type": "code",
   "execution_count": 61,
   "metadata": {
    "collapsed": true,
    "scrolled": true
   },
   "outputs": [],
   "source": [
    "%%bash\n",
    "\n",
    "for f in *bed\n",
    "do\n",
    "  /usr/local/bin/intersectBed \\\n",
    "  -wb \\\n",
    "  -a ${f} \\\n",
    "  -b ../../../genome-feature-files/Pact.GFFannotation.flanks.gff \\\n",
    "  > ${f}-paFlanks\n",
    "done"
   ]
  },
  {
   "cell_type": "code",
   "execution_count": 62,
   "metadata": {
    "collapsed": false
   },
   "outputs": [
    {
     "name": "stdout",
     "output_type": "stream",
     "text": [
      "==> Meth1_R1_001_val_1_bismark_bt2_pe._5x.bedgraph-Meth.bed-paFlanks <==\n",
      "scaffold7_cov100\t6231\t6233\tscaffold7_cov100\tAUGUSTUS\tgene\t6218\t7068\t0.78\t-\t.\tg4\n",
      "scaffold7_cov100\t6231\t6233\tscaffold7_cov100\tAUGUSTUS\tgene\t6218\t7068\t1\t-\t.\tg5\n",
      "scaffold7_cov100\t6233\t6235\tscaffold7_cov100\tAUGUSTUS\tgene\t6218\t7068\t0.78\t-\t.\tg4\n",
      "scaffold7_cov100\t6233\t6235\tscaffold7_cov100\tAUGUSTUS\tgene\t6218\t7068\t1\t-\t.\tg5\n",
      "scaffold7_cov100\t19284\t19286\tscaffold7_cov100\tAUGUSTUS\tgene\t19271\t19311\t0.96\t+\t.\tg8\n",
      "scaffold7_cov100\t19284\t19286\tscaffold7_cov100\tAUGUSTUS\tgene\t19271\t19311\t0.99\t-\t.\tg9\n",
      "scaffold7_cov100\t19284\t19286\tscaffold7_cov100\tAUGUSTUS\tgene\t19271\t19311\t0.74\t+\t.\tg10\n",
      "scaffold7_cov100\t19284\t19286\tscaffold7_cov100\tAUGUSTUS\tgene\t19271\t19311\t0.39\t+\t.\tg11\n",
      "scaffold7_cov100\t19296\t19298\tscaffold7_cov100\tAUGUSTUS\tgene\t19271\t19311\t0.96\t+\t.\tg8\n",
      "scaffold7_cov100\t19296\t19298\tscaffold7_cov100\tAUGUSTUS\tgene\t19271\t19311\t0.99\t-\t.\tg9\n",
      "\n",
      "==> Meth1_R1_001_val_1_bismark_bt2_pe._5x.bedgraph-sparseMeth.bed-paFlanks <==\n",
      "scaffold6_cov64\t7373\t7375\tscaffold6_cov64\tAUGUSTUS\tgene\t6679\t7678\t0.57\t+\t.\tg2\n",
      "scaffold7_cov100\t13275\t13277\tscaffold7_cov100\tAUGUSTUS\tgene\t12339\t13338\t0.92\t-\t.\tg7\n",
      "scaffold7_cov100\t15597\t15599\tscaffold7_cov100\tAUGUSTUS\tgene\t15464\t15737\t0.92\t-\t.\tg7\n",
      "scaffold7_cov100\t15597\t15599\tscaffold7_cov100\tAUGUSTUS\tgene\t15464\t15737\t0.96\t+\t.\tg8\n",
      "scaffold7_cov100\t24454\t24456\tscaffold7_cov100\tAUGUSTUS\tgene\t24296\t25295\t0.39\t+\t.\tg11\n",
      "scaffold7_cov100\t24614\t24616\tscaffold7_cov100\tAUGUSTUS\tgene\t24296\t25295\t0.39\t+\t.\tg11\n",
      "scaffold7_cov100\t24769\t24771\tscaffold7_cov100\tAUGUSTUS\tgene\t24296\t25295\t0.39\t+\t.\tg11\n",
      "scaffold7_cov100\t24830\t24832\tscaffold7_cov100\tAUGUSTUS\tgene\t24296\t25295\t0.39\t+\t.\tg11\n",
      "scaffold7_cov100\t25157\t25159\tscaffold7_cov100\tAUGUSTUS\tgene\t24296\t25295\t0.39\t+\t.\tg11\n",
      "scaffold7_cov100\t28495\t28497\tscaffold7_cov100\tAUGUSTUS\tgene\t27517\t28516\t0.69\t-\t.\tg12\n",
      "\n",
      "==> Meth1_R1_001_val_1_bismark_bt2_pe._5x.bedgraph-unMeth.bed-paFlanks <==\n",
      "scaffold6_cov64\t5797\t5799\tscaffold6_cov64\tAUGUSTUS\tgene\t5653\t5804\t0.46\t-\t.\tg1\n",
      "scaffold6_cov64\t5797\t5799\tscaffold6_cov64\tAUGUSTUS\tgene\t5653\t5804\t0.57\t+\t.\tg2\n",
      "scaffold6_cov64\t5800\t5802\tscaffold6_cov64\tAUGUSTUS\tgene\t5653\t5804\t0.46\t-\t.\tg1\n",
      "scaffold6_cov64\t5800\t5802\tscaffold6_cov64\tAUGUSTUS\tgene\t5653\t5804\t0.57\t+\t.\tg2\n",
      "scaffold6_cov64\t6704\t6706\tscaffold6_cov64\tAUGUSTUS\tgene\t6679\t7678\t0.57\t+\t.\tg2\n",
      "scaffold6_cov64\t6751\t6753\tscaffold6_cov64\tAUGUSTUS\tgene\t6679\t7678\t0.57\t+\t.\tg2\n",
      "scaffold6_cov64\t6805\t6807\tscaffold6_cov64\tAUGUSTUS\tgene\t6679\t7678\t0.57\t+\t.\tg2\n",
      "scaffold6_cov64\t6813\t6815\tscaffold6_cov64\tAUGUSTUS\tgene\t6679\t7678\t0.57\t+\t.\tg2\n",
      "scaffold6_cov64\t6862\t6864\tscaffold6_cov64\tAUGUSTUS\tgene\t6679\t7678\t0.57\t+\t.\tg2\n",
      "scaffold6_cov64\t6880\t6882\tscaffold6_cov64\tAUGUSTUS\tgene\t6679\t7678\t0.57\t+\t.\tg2\n",
      "\n",
      "==> Meth1_R1_001_val_1_bismark_bt2_pe._5x.bedgraph.bed-paFlanks <==\n",
      "scaffold6_cov64\t5797\t5799\tscaffold6_cov64\tAUGUSTUS\tgene\t5653\t5804\t0.46\t-\t.\tg1\n",
      "scaffold6_cov64\t5797\t5799\tscaffold6_cov64\tAUGUSTUS\tgene\t5653\t5804\t0.57\t+\t.\tg2\n",
      "scaffold6_cov64\t5800\t5802\tscaffold6_cov64\tAUGUSTUS\tgene\t5653\t5804\t0.46\t-\t.\tg1\n",
      "scaffold6_cov64\t5800\t5802\tscaffold6_cov64\tAUGUSTUS\tgene\t5653\t5804\t0.57\t+\t.\tg2\n",
      "scaffold6_cov64\t6704\t6706\tscaffold6_cov64\tAUGUSTUS\tgene\t6679\t7678\t0.57\t+\t.\tg2\n",
      "scaffold6_cov64\t6751\t6753\tscaffold6_cov64\tAUGUSTUS\tgene\t6679\t7678\t0.57\t+\t.\tg2\n",
      "scaffold6_cov64\t6805\t6807\tscaffold6_cov64\tAUGUSTUS\tgene\t6679\t7678\t0.57\t+\t.\tg2\n",
      "scaffold6_cov64\t6813\t6815\tscaffold6_cov64\tAUGUSTUS\tgene\t6679\t7678\t0.57\t+\t.\tg2\n",
      "scaffold6_cov64\t6862\t6864\tscaffold6_cov64\tAUGUSTUS\tgene\t6679\t7678\t0.57\t+\t.\tg2\n",
      "scaffold6_cov64\t6880\t6882\tscaffold6_cov64\tAUGUSTUS\tgene\t6679\t7678\t0.57\t+\t.\tg2\n",
      "\n",
      "==> Meth2_R1_001_val_1_bismark_bt2_pe._5x.bedgraph-Meth.bed-paFlanks <==\n",
      "scaffold7_cov100\t6231\t6233\tscaffold7_cov100\tAUGUSTUS\tgene\t6218\t7068\t0.78\t-\t.\tg4\n",
      "scaffold7_cov100\t6231\t6233\tscaffold7_cov100\tAUGUSTUS\tgene\t6218\t7068\t1\t-\t.\tg5\n",
      "scaffold7_cov100\t6233\t6235\tscaffold7_cov100\tAUGUSTUS\tgene\t6218\t7068\t0.78\t-\t.\tg4\n",
      "scaffold7_cov100\t6233\t6235\tscaffold7_cov100\tAUGUSTUS\tgene\t6218\t7068\t1\t-\t.\tg5\n",
      "scaffold7_cov100\t11815\t11817\tscaffold7_cov100\tAUGUSTUS\tgene\t11671\t12670\t0.8\t-\t.\tg6\n",
      "scaffold7_cov100\t12247\t12249\tscaffold7_cov100\tAUGUSTUS\tgene\t11671\t12670\t0.8\t-\t.\tg6\n",
      "scaffold7_cov100\t13275\t13277\tscaffold7_cov100\tAUGUSTUS\tgene\t12339\t13338\t0.92\t-\t.\tg7\n",
      "scaffold7_cov100\t19284\t19286\tscaffold7_cov100\tAUGUSTUS\tgene\t19271\t19311\t0.96\t+\t.\tg8\n",
      "scaffold7_cov100\t19284\t19286\tscaffold7_cov100\tAUGUSTUS\tgene\t19271\t19311\t0.99\t-\t.\tg9\n",
      "scaffold7_cov100\t19284\t19286\tscaffold7_cov100\tAUGUSTUS\tgene\t19271\t19311\t0.74\t+\t.\tg10\n",
      "\n",
      "==> Meth2_R1_001_val_1_bismark_bt2_pe._5x.bedgraph-sparseMeth.bed-paFlanks <==\n",
      "scaffold6_cov64\t7077\t7079\tscaffold6_cov64\tAUGUSTUS\tgene\t6679\t7678\t0.57\t+\t.\tg2\n",
      "scaffold7_cov100\t2652\t2654\tscaffold7_cov100\tAUGUSTUS\tgene\t2567\t3466\t0.96\t+\t.\tg3\n",
      "scaffold7_cov100\t2652\t2654\tscaffold7_cov100\tAUGUSTUS\tgene\t2567\t3466\t0.78\t-\t.\tg4\n",
      "scaffold7_cov100\t12131\t12133\tscaffold7_cov100\tAUGUSTUS\tgene\t11671\t12670\t0.8\t-\t.\tg6\n",
      "scaffold7_cov100\t18520\t18522\tscaffold7_cov100\tAUGUSTUS\tgene\t18321\t18585\t0.96\t+\t.\tg8\n",
      "scaffold7_cov100\t18520\t18522\tscaffold7_cov100\tAUGUSTUS\tgene\t18321\t18585\t0.99\t-\t.\tg9\n",
      "scaffold7_cov100\t18520\t18522\tscaffold7_cov100\tAUGUSTUS\tgene\t18321\t18585\t0.74\t+\t.\tg10\n",
      "scaffold7_cov100\t24494\t24496\tscaffold7_cov100\tAUGUSTUS\tgene\t24296\t25295\t0.39\t+\t.\tg11\n",
      "scaffold7_cov100\t24895\t24897\tscaffold7_cov100\tAUGUSTUS\tgene\t24296\t25295\t0.39\t+\t.\tg11\n",
      "scaffold7_cov100\t25157\t25159\tscaffold7_cov100\tAUGUSTUS\tgene\t24296\t25295\t0.39\t+\t.\tg11\n",
      "\n",
      "==> Meth2_R1_001_val_1_bismark_bt2_pe._5x.bedgraph-unMeth.bed-paFlanks <==\n",
      "scaffold6_cov64\t5797\t5799\tscaffold6_cov64\tAUGUSTUS\tgene\t5653\t5804\t0.46\t-\t.\tg1\n",
      "scaffold6_cov64\t5797\t5799\tscaffold6_cov64\tAUGUSTUS\tgene\t5653\t5804\t0.57\t+\t.\tg2\n",
      "scaffold6_cov64\t5800\t5802\tscaffold6_cov64\tAUGUSTUS\tgene\t5653\t5804\t0.46\t-\t.\tg1\n",
      "scaffold6_cov64\t5800\t5802\tscaffold6_cov64\tAUGUSTUS\tgene\t5653\t5804\t0.57\t+\t.\tg2\n",
      "scaffold6_cov64\t6690\t6692\tscaffold6_cov64\tAUGUSTUS\tgene\t6679\t7678\t0.57\t+\t.\tg2\n",
      "scaffold6_cov64\t6704\t6706\tscaffold6_cov64\tAUGUSTUS\tgene\t6679\t7678\t0.57\t+\t.\tg2\n",
      "scaffold6_cov64\t6732\t6734\tscaffold6_cov64\tAUGUSTUS\tgene\t6679\t7678\t0.57\t+\t.\tg2\n",
      "scaffold6_cov64\t6751\t6753\tscaffold6_cov64\tAUGUSTUS\tgene\t6679\t7678\t0.57\t+\t.\tg2\n",
      "scaffold6_cov64\t6805\t6807\tscaffold6_cov64\tAUGUSTUS\tgene\t6679\t7678\t0.57\t+\t.\tg2\n",
      "scaffold6_cov64\t6813\t6815\tscaffold6_cov64\tAUGUSTUS\tgene\t6679\t7678\t0.57\t+\t.\tg2\n",
      "\n",
      "==> Meth2_R1_001_val_1_bismark_bt2_pe._5x.bedgraph.bed-paFlanks <==\n",
      "scaffold6_cov64\t5797\t5799\tscaffold6_cov64\tAUGUSTUS\tgene\t5653\t5804\t0.46\t-\t.\tg1\n",
      "scaffold6_cov64\t5797\t5799\tscaffold6_cov64\tAUGUSTUS\tgene\t5653\t5804\t0.57\t+\t.\tg2\n",
      "scaffold6_cov64\t5800\t5802\tscaffold6_cov64\tAUGUSTUS\tgene\t5653\t5804\t0.46\t-\t.\tg1\n",
      "scaffold6_cov64\t5800\t5802\tscaffold6_cov64\tAUGUSTUS\tgene\t5653\t5804\t0.57\t+\t.\tg2\n",
      "scaffold6_cov64\t6690\t6692\tscaffold6_cov64\tAUGUSTUS\tgene\t6679\t7678\t0.57\t+\t.\tg2\n",
      "scaffold6_cov64\t6704\t6706\tscaffold6_cov64\tAUGUSTUS\tgene\t6679\t7678\t0.57\t+\t.\tg2\n",
      "scaffold6_cov64\t6732\t6734\tscaffold6_cov64\tAUGUSTUS\tgene\t6679\t7678\t0.57\t+\t.\tg2\n",
      "scaffold6_cov64\t6751\t6753\tscaffold6_cov64\tAUGUSTUS\tgene\t6679\t7678\t0.57\t+\t.\tg2\n",
      "scaffold6_cov64\t6805\t6807\tscaffold6_cov64\tAUGUSTUS\tgene\t6679\t7678\t0.57\t+\t.\tg2\n",
      "scaffold6_cov64\t6813\t6815\tscaffold6_cov64\tAUGUSTUS\tgene\t6679\t7678\t0.57\t+\t.\tg2\n",
      "\n",
      "==> Meth3_R1_001_val_1_bismark_bt2_pe._5x.bedgraph-Meth.bed-paFlanks <==\n",
      "scaffold7_cov100\t6231\t6233\tscaffold7_cov100\tAUGUSTUS\tgene\t6218\t7068\t0.78\t-\t.\tg4\n",
      "scaffold7_cov100\t6231\t6233\tscaffold7_cov100\tAUGUSTUS\tgene\t6218\t7068\t1\t-\t.\tg5\n",
      "scaffold7_cov100\t6233\t6235\tscaffold7_cov100\tAUGUSTUS\tgene\t6218\t7068\t0.78\t-\t.\tg4\n",
      "scaffold7_cov100\t6233\t6235\tscaffold7_cov100\tAUGUSTUS\tgene\t6218\t7068\t1\t-\t.\tg5\n",
      "scaffold7_cov100\t11815\t11817\tscaffold7_cov100\tAUGUSTUS\tgene\t11671\t12670\t0.8\t-\t.\tg6\n",
      "scaffold7_cov100\t18520\t18522\tscaffold7_cov100\tAUGUSTUS\tgene\t18321\t18585\t0.96\t+\t.\tg8\n",
      "scaffold7_cov100\t18520\t18522\tscaffold7_cov100\tAUGUSTUS\tgene\t18321\t18585\t0.99\t-\t.\tg9\n",
      "scaffold7_cov100\t18520\t18522\tscaffold7_cov100\tAUGUSTUS\tgene\t18321\t18585\t0.74\t+\t.\tg10\n",
      "scaffold7_cov100\t19284\t19286\tscaffold7_cov100\tAUGUSTUS\tgene\t19271\t19311\t0.96\t+\t.\tg8\n",
      "scaffold7_cov100\t19284\t19286\tscaffold7_cov100\tAUGUSTUS\tgene\t19271\t19311\t0.99\t-\t.\tg9\n",
      "\n",
      "==> Meth3_R1_001_val_1_bismark_bt2_pe._5x.bedgraph-sparseMeth.bed-paFlanks <==\n",
      "scaffold6_cov64\t6732\t6734\tscaffold6_cov64\tAUGUSTUS\tgene\t6679\t7678\t0.57\t+\t.\tg2\n",
      "scaffold7_cov100\t2708\t2710\tscaffold7_cov100\tAUGUSTUS\tgene\t2567\t3466\t0.96\t+\t.\tg3\n",
      "scaffold7_cov100\t2708\t2710\tscaffold7_cov100\tAUGUSTUS\tgene\t2567\t3466\t0.78\t-\t.\tg4\n",
      "scaffold7_cov100\t3297\t3299\tscaffold7_cov100\tAUGUSTUS\tgene\t2567\t3466\t0.96\t+\t.\tg3\n",
      "scaffold7_cov100\t3297\t3299\tscaffold7_cov100\tAUGUSTUS\tgene\t2567\t3466\t0.78\t-\t.\tg4\n",
      "scaffold7_cov100\t13275\t13277\tscaffold7_cov100\tAUGUSTUS\tgene\t12339\t13338\t0.92\t-\t.\tg7\n",
      "scaffold7_cov100\t24494\t24496\tscaffold7_cov100\tAUGUSTUS\tgene\t24296\t25295\t0.39\t+\t.\tg11\n",
      "scaffold7_cov100\t24557\t24559\tscaffold7_cov100\tAUGUSTUS\tgene\t24296\t25295\t0.39\t+\t.\tg11\n",
      "scaffold7_cov100\t24614\t24616\tscaffold7_cov100\tAUGUSTUS\tgene\t24296\t25295\t0.39\t+\t.\tg11\n",
      "scaffold7_cov100\t24969\t24971\tscaffold7_cov100\tAUGUSTUS\tgene\t24296\t25295\t0.39\t+\t.\tg11\n",
      "\n",
      "==> Meth3_R1_001_val_1_bismark_bt2_pe._5x.bedgraph-unMeth.bed-paFlanks <==\n",
      "scaffold6_cov64\t5797\t5799\tscaffold6_cov64\tAUGUSTUS\tgene\t5653\t5804\t0.46\t-\t.\tg1\n",
      "scaffold6_cov64\t5797\t5799\tscaffold6_cov64\tAUGUSTUS\tgene\t5653\t5804\t0.57\t+\t.\tg2\n",
      "scaffold6_cov64\t5800\t5802\tscaffold6_cov64\tAUGUSTUS\tgene\t5653\t5804\t0.46\t-\t.\tg1\n",
      "scaffold6_cov64\t5800\t5802\tscaffold6_cov64\tAUGUSTUS\tgene\t5653\t5804\t0.57\t+\t.\tg2\n",
      "scaffold6_cov64\t6690\t6692\tscaffold6_cov64\tAUGUSTUS\tgene\t6679\t7678\t0.57\t+\t.\tg2\n",
      "scaffold6_cov64\t6704\t6706\tscaffold6_cov64\tAUGUSTUS\tgene\t6679\t7678\t0.57\t+\t.\tg2\n",
      "scaffold6_cov64\t6751\t6753\tscaffold6_cov64\tAUGUSTUS\tgene\t6679\t7678\t0.57\t+\t.\tg2\n",
      "scaffold6_cov64\t6805\t6807\tscaffold6_cov64\tAUGUSTUS\tgene\t6679\t7678\t0.57\t+\t.\tg2\n",
      "scaffold6_cov64\t6813\t6815\tscaffold6_cov64\tAUGUSTUS\tgene\t6679\t7678\t0.57\t+\t.\tg2\n",
      "scaffold6_cov64\t6862\t6864\tscaffold6_cov64\tAUGUSTUS\tgene\t6679\t7678\t0.57\t+\t.\tg2\n",
      "\n",
      "==> Meth3_R1_001_val_1_bismark_bt2_pe._5x.bedgraph.bed-paFlanks <==\n",
      "scaffold6_cov64\t5797\t5799\tscaffold6_cov64\tAUGUSTUS\tgene\t5653\t5804\t0.46\t-\t.\tg1\n",
      "scaffold6_cov64\t5797\t5799\tscaffold6_cov64\tAUGUSTUS\tgene\t5653\t5804\t0.57\t+\t.\tg2\n",
      "scaffold6_cov64\t5800\t5802\tscaffold6_cov64\tAUGUSTUS\tgene\t5653\t5804\t0.46\t-\t.\tg1\n",
      "scaffold6_cov64\t5800\t5802\tscaffold6_cov64\tAUGUSTUS\tgene\t5653\t5804\t0.57\t+\t.\tg2\n",
      "scaffold6_cov64\t6690\t6692\tscaffold6_cov64\tAUGUSTUS\tgene\t6679\t7678\t0.57\t+\t.\tg2\n",
      "scaffold6_cov64\t6704\t6706\tscaffold6_cov64\tAUGUSTUS\tgene\t6679\t7678\t0.57\t+\t.\tg2\n",
      "scaffold6_cov64\t6732\t6734\tscaffold6_cov64\tAUGUSTUS\tgene\t6679\t7678\t0.57\t+\t.\tg2\n",
      "scaffold6_cov64\t6751\t6753\tscaffold6_cov64\tAUGUSTUS\tgene\t6679\t7678\t0.57\t+\t.\tg2\n",
      "scaffold6_cov64\t6805\t6807\tscaffold6_cov64\tAUGUSTUS\tgene\t6679\t7678\t0.57\t+\t.\tg2\n",
      "scaffold6_cov64\t6813\t6815\tscaffold6_cov64\tAUGUSTUS\tgene\t6679\t7678\t0.57\t+\t.\tg2\n",
      "\n",
      "==> Meth4_R1_001_val_1_bismark_bt2_pe._5x.bedgraph-Meth.bed-paFlanks <==\n",
      "scaffold7_cov100\t24509\t24511\tscaffold7_cov100\tAUGUSTUS\tgene\t24296\t25295\t0.39\t+\t.\tg11\n",
      "scaffold7_cov100\t24557\t24559\tscaffold7_cov100\tAUGUSTUS\tgene\t24296\t25295\t0.39\t+\t.\tg11\n",
      "scaffold7_cov100\t40896\t40898\tscaffold7_cov100\tAUGUSTUS\tgene\t40188\t41187\t0.97\t+\t.\tg14\n",
      "scaffold7_cov100\t342219\t342221\tscaffold7_cov100\tAUGUSTUS\tgene\t341715\t342714\t0.13\t+\t.\tg76\n",
      "scaffold7_cov100\t384784\t384786\tscaffold7_cov100\tAUGUSTUS\tgene\t384504\t385503\t0.49\t+\t.\tg83\n",
      "scaffold7_cov100\t443190\t443192\tscaffold7_cov100\tAUGUSTUS\tgene\t442747\t443746\t0.82\t-\t.\tg95\n",
      "scaffold7_cov100\t443210\t443212\tscaffold7_cov100\tAUGUSTUS\tgene\t442747\t443746\t0.82\t-\t.\tg95\n",
      "scaffold7_cov100\t450123\t450125\tscaffold7_cov100\tAUGUSTUS\tgene\t450095\t451094\t0.9\t+\t.\tg96\n",
      "scaffold20_cov103\t50562\t50564\tscaffold20_cov103\tAUGUSTUS\tgene\t50462\t51461\t0.87\t-\t.\tg213\n",
      "scaffold20_cov103\t69200\t69202\tscaffold20_cov103\tAUGUSTUS\tgene\t68755\t69754\t0.65\t-\t.\tg217\n",
      "\n",
      "==> Meth4_R1_001_val_1_bismark_bt2_pe._5x.bedgraph-sparseMeth.bed-paFlanks <==\n",
      "scaffold6_cov64\t6732\t6734\tscaffold6_cov64\tAUGUSTUS\tgene\t6679\t7678\t0.57\t+\t.\tg2\n",
      "scaffold7_cov100\t38369\t38371\tscaffold7_cov100\tAUGUSTUS\tgene\t37762\t38761\t0.64\t-\t.\tg13\n",
      "scaffold7_cov100\t40816\t40818\tscaffold7_cov100\tAUGUSTUS\tgene\t40188\t41187\t0.97\t+\t.\tg14\n",
      "scaffold7_cov100\t40898\t40900\tscaffold7_cov100\tAUGUSTUS\tgene\t40188\t41187\t0.97\t+\t.\tg14\n",
      "scaffold7_cov100\t40917\t40919\tscaffold7_cov100\tAUGUSTUS\tgene\t40188\t41187\t0.97\t+\t.\tg14\n",
      "scaffold7_cov100\t40936\t40938\tscaffold7_cov100\tAUGUSTUS\tgene\t40188\t41187\t0.97\t+\t.\tg14\n",
      "scaffold7_cov100\t49302\t49304\tscaffold7_cov100\tAUGUSTUS\tgene\t49272\t50050\t0.54\t-\t.\tg15\n",
      "scaffold7_cov100\t49302\t49304\tscaffold7_cov100\tAUGUSTUS\tgene\t49272\t50050\t1\t+\t.\tg16\n",
      "scaffold7_cov100\t49331\t49333\tscaffold7_cov100\tAUGUSTUS\tgene\t49272\t50050\t0.54\t-\t.\tg15\n",
      "scaffold7_cov100\t49331\t49333\tscaffold7_cov100\tAUGUSTUS\tgene\t49272\t50050\t1\t+\t.\tg16\n",
      "\n",
      "==> Meth4_R1_001_val_1_bismark_bt2_pe._5x.bedgraph-unMeth.bed-paFlanks <==\n",
      "scaffold6_cov64\t5797\t5799\tscaffold6_cov64\tAUGUSTUS\tgene\t5653\t5804\t0.46\t-\t.\tg1\n",
      "scaffold6_cov64\t5797\t5799\tscaffold6_cov64\tAUGUSTUS\tgene\t5653\t5804\t0.57\t+\t.\tg2\n",
      "scaffold6_cov64\t5800\t5802\tscaffold6_cov64\tAUGUSTUS\tgene\t5653\t5804\t0.46\t-\t.\tg1\n",
      "scaffold6_cov64\t5800\t5802\tscaffold6_cov64\tAUGUSTUS\tgene\t5653\t5804\t0.57\t+\t.\tg2\n",
      "scaffold6_cov64\t6687\t6689\tscaffold6_cov64\tAUGUSTUS\tgene\t6679\t7678\t0.57\t+\t.\tg2\n",
      "scaffold6_cov64\t6690\t6692\tscaffold6_cov64\tAUGUSTUS\tgene\t6679\t7678\t0.57\t+\t.\tg2\n",
      "scaffold6_cov64\t6704\t6706\tscaffold6_cov64\tAUGUSTUS\tgene\t6679\t7678\t0.57\t+\t.\tg2\n",
      "scaffold6_cov64\t6751\t6753\tscaffold6_cov64\tAUGUSTUS\tgene\t6679\t7678\t0.57\t+\t.\tg2\n",
      "scaffold6_cov64\t6805\t6807\tscaffold6_cov64\tAUGUSTUS\tgene\t6679\t7678\t0.57\t+\t.\tg2\n",
      "scaffold6_cov64\t6813\t6815\tscaffold6_cov64\tAUGUSTUS\tgene\t6679\t7678\t0.57\t+\t.\tg2\n",
      "\n",
      "==> Meth4_R1_001_val_1_bismark_bt2_pe._5x.bedgraph.bed-paFlanks <==\n",
      "scaffold6_cov64\t5797\t5799\tscaffold6_cov64\tAUGUSTUS\tgene\t5653\t5804\t0.46\t-\t.\tg1\n",
      "scaffold6_cov64\t5797\t5799\tscaffold6_cov64\tAUGUSTUS\tgene\t5653\t5804\t0.57\t+\t.\tg2\n",
      "scaffold6_cov64\t5800\t5802\tscaffold6_cov64\tAUGUSTUS\tgene\t5653\t5804\t0.46\t-\t.\tg1\n",
      "scaffold6_cov64\t5800\t5802\tscaffold6_cov64\tAUGUSTUS\tgene\t5653\t5804\t0.57\t+\t.\tg2\n",
      "scaffold6_cov64\t6687\t6689\tscaffold6_cov64\tAUGUSTUS\tgene\t6679\t7678\t0.57\t+\t.\tg2\n",
      "scaffold6_cov64\t6690\t6692\tscaffold6_cov64\tAUGUSTUS\tgene\t6679\t7678\t0.57\t+\t.\tg2\n",
      "scaffold6_cov64\t6704\t6706\tscaffold6_cov64\tAUGUSTUS\tgene\t6679\t7678\t0.57\t+\t.\tg2\n",
      "scaffold6_cov64\t6732\t6734\tscaffold6_cov64\tAUGUSTUS\tgene\t6679\t7678\t0.57\t+\t.\tg2\n",
      "scaffold6_cov64\t6751\t6753\tscaffold6_cov64\tAUGUSTUS\tgene\t6679\t7678\t0.57\t+\t.\tg2\n",
      "scaffold6_cov64\t6805\t6807\tscaffold6_cov64\tAUGUSTUS\tgene\t6679\t7678\t0.57\t+\t.\tg2\n",
      "\n",
      "==> Meth5_R1_001_val_1_bismark_bt2_pe._5x.bedgraph-Meth.bed-paFlanks <==\n",
      "scaffold7_cov100\t24454\t24456\tscaffold7_cov100\tAUGUSTUS\tgene\t24296\t25295\t0.39\t+\t.\tg11\n",
      "scaffold7_cov100\t24494\t24496\tscaffold7_cov100\tAUGUSTUS\tgene\t24296\t25295\t0.39\t+\t.\tg11\n",
      "scaffold7_cov100\t24509\t24511\tscaffold7_cov100\tAUGUSTUS\tgene\t24296\t25295\t0.39\t+\t.\tg11\n",
      "scaffold7_cov100\t24557\t24559\tscaffold7_cov100\tAUGUSTUS\tgene\t24296\t25295\t0.39\t+\t.\tg11\n",
      "scaffold7_cov100\t92029\t92031\tscaffold7_cov100\tAUGUSTUS\tgene\t91990\t92373\t0.37\t-\t.\tg23\n",
      "scaffold7_cov100\t92029\t92031\tscaffold7_cov100\tAUGUSTUS\tgene\t91990\t92373\t0.33\t-\t.\tg24\n",
      "scaffold7_cov100\t151631\t151633\tscaffold7_cov100\tAUGUSTUS\tgene\t151249\t151748\t0.83\t-\t.\tg39\n",
      "scaffold7_cov100\t151631\t151633\tscaffold7_cov100\tAUGUSTUS\tgene\t151249\t151748\t0.97\t+\t.\tg40\n",
      "scaffold7_cov100\t219436\t219438\tscaffold7_cov100\tAUGUSTUS\tgene\t219024\t220023\t0.67\t-\t.\tg50\n",
      "scaffold7_cov100\t281483\t281485\tscaffold7_cov100\tAUGUSTUS\tgene\t281183\t281713\t0.95\t-\t.\tg57\n",
      "\n",
      "==> Meth5_R1_001_val_1_bismark_bt2_pe._5x.bedgraph-sparseMeth.bed-paFlanks <==\n",
      "scaffold7_cov100\t24443\t24445\tscaffold7_cov100\tAUGUSTUS\tgene\t24296\t25295\t0.39\t+\t.\tg11\n",
      "scaffold7_cov100\t91999\t92001\tscaffold7_cov100\tAUGUSTUS\tgene\t91990\t92373\t0.37\t-\t.\tg23\n",
      "scaffold7_cov100\t91999\t92001\tscaffold7_cov100\tAUGUSTUS\tgene\t91990\t92373\t0.33\t-\t.\tg24\n",
      "scaffold7_cov100\t116515\t116517\tscaffold7_cov100\tAUGUSTUS\tgene\t116379\t117016\t0.55\t+\t.\tg28\n",
      "scaffold7_cov100\t116515\t116517\tscaffold7_cov100\tAUGUSTUS\tgene\t116379\t117016\t0.97\t+\t.\tg30\n",
      "scaffold7_cov100\t131309\t131311\tscaffold7_cov100\tAUGUSTUS\tgene\t131292\t132291\t0.02\t+\t.\tg31\n",
      "scaffold7_cov100\t162610\t162612\tscaffold7_cov100\tAUGUSTUS\tgene\t162600\t163599\t0.99\t-\t.\tg43\n",
      "scaffold7_cov100\t198799\t198801\tscaffold7_cov100\tAUGUSTUS\tgene\t198174\t199173\t0.57\t-\t.\tg46\n",
      "scaffold7_cov100\t210084\t210086\tscaffold7_cov100\tAUGUSTUS\tgene\t209813\t210454\t0.83\t-\t.\tg48\n",
      "scaffold7_cov100\t210084\t210086\tscaffold7_cov100\tAUGUSTUS\tgene\t209813\t210454\t0.77\t-\t.\tg49\n",
      "\n",
      "==> Meth5_R1_001_val_1_bismark_bt2_pe._5x.bedgraph-unMeth.bed-paFlanks <==\n",
      "scaffold6_cov64\t5797\t5799\tscaffold6_cov64\tAUGUSTUS\tgene\t5653\t5804\t0.46\t-\t.\tg1\n",
      "scaffold6_cov64\t5797\t5799\tscaffold6_cov64\tAUGUSTUS\tgene\t5653\t5804\t0.57\t+\t.\tg2\n",
      "scaffold6_cov64\t5800\t5802\tscaffold6_cov64\tAUGUSTUS\tgene\t5653\t5804\t0.46\t-\t.\tg1\n",
      "scaffold6_cov64\t5800\t5802\tscaffold6_cov64\tAUGUSTUS\tgene\t5653\t5804\t0.57\t+\t.\tg2\n",
      "scaffold6_cov64\t6687\t6689\tscaffold6_cov64\tAUGUSTUS\tgene\t6679\t7678\t0.57\t+\t.\tg2\n",
      "scaffold6_cov64\t6690\t6692\tscaffold6_cov64\tAUGUSTUS\tgene\t6679\t7678\t0.57\t+\t.\tg2\n",
      "scaffold6_cov64\t6704\t6706\tscaffold6_cov64\tAUGUSTUS\tgene\t6679\t7678\t0.57\t+\t.\tg2\n",
      "scaffold6_cov64\t6751\t6753\tscaffold6_cov64\tAUGUSTUS\tgene\t6679\t7678\t0.57\t+\t.\tg2\n",
      "scaffold6_cov64\t6805\t6807\tscaffold6_cov64\tAUGUSTUS\tgene\t6679\t7678\t0.57\t+\t.\tg2\n",
      "scaffold6_cov64\t6813\t6815\tscaffold6_cov64\tAUGUSTUS\tgene\t6679\t7678\t0.57\t+\t.\tg2\n",
      "\n",
      "==> Meth5_R1_001_val_1_bismark_bt2_pe._5x.bedgraph.bed-paFlanks <==\n",
      "scaffold6_cov64\t5797\t5799\tscaffold6_cov64\tAUGUSTUS\tgene\t5653\t5804\t0.46\t-\t.\tg1\n",
      "scaffold6_cov64\t5797\t5799\tscaffold6_cov64\tAUGUSTUS\tgene\t5653\t5804\t0.57\t+\t.\tg2\n",
      "scaffold6_cov64\t5800\t5802\tscaffold6_cov64\tAUGUSTUS\tgene\t5653\t5804\t0.46\t-\t.\tg1\n",
      "scaffold6_cov64\t5800\t5802\tscaffold6_cov64\tAUGUSTUS\tgene\t5653\t5804\t0.57\t+\t.\tg2\n",
      "scaffold6_cov64\t6687\t6689\tscaffold6_cov64\tAUGUSTUS\tgene\t6679\t7678\t0.57\t+\t.\tg2\n",
      "scaffold6_cov64\t6690\t6692\tscaffold6_cov64\tAUGUSTUS\tgene\t6679\t7678\t0.57\t+\t.\tg2\n",
      "scaffold6_cov64\t6704\t6706\tscaffold6_cov64\tAUGUSTUS\tgene\t6679\t7678\t0.57\t+\t.\tg2\n",
      "scaffold6_cov64\t6751\t6753\tscaffold6_cov64\tAUGUSTUS\tgene\t6679\t7678\t0.57\t+\t.\tg2\n",
      "scaffold6_cov64\t6805\t6807\tscaffold6_cov64\tAUGUSTUS\tgene\t6679\t7678\t0.57\t+\t.\tg2\n",
      "scaffold6_cov64\t6813\t6815\tscaffold6_cov64\tAUGUSTUS\tgene\t6679\t7678\t0.57\t+\t.\tg2\n",
      "\n",
      "==> Meth6_R1_001_val_1_bismark_bt2_pe._5x.bedgraph-Meth.bed-paFlanks <==\n",
      "scaffold7_cov100\t151631\t151633\tscaffold7_cov100\tAUGUSTUS\tgene\t151249\t151748\t0.83\t-\t.\tg39\n",
      "scaffold7_cov100\t151631\t151633\tscaffold7_cov100\tAUGUSTUS\tgene\t151249\t151748\t0.97\t+\t.\tg40\n",
      "scaffold7_cov100\t210167\t210169\tscaffold7_cov100\tAUGUSTUS\tgene\t209813\t210454\t0.83\t-\t.\tg48\n",
      "scaffold7_cov100\t210167\t210169\tscaffold7_cov100\tAUGUSTUS\tgene\t209813\t210454\t0.77\t-\t.\tg49\n",
      "scaffold7_cov100\t281483\t281485\tscaffold7_cov100\tAUGUSTUS\tgene\t281183\t281713\t0.95\t-\t.\tg57\n",
      "scaffold7_cov100\t281483\t281485\tscaffold7_cov100\tAUGUSTUS\tgene\t281183\t281713\t0.64\t-\t.\tg58\n",
      "scaffold7_cov100\t281501\t281503\tscaffold7_cov100\tAUGUSTUS\tgene\t281183\t281713\t0.95\t-\t.\tg57\n",
      "scaffold7_cov100\t281501\t281503\tscaffold7_cov100\tAUGUSTUS\tgene\t281183\t281713\t0.64\t-\t.\tg58\n",
      "scaffold7_cov100\t443190\t443192\tscaffold7_cov100\tAUGUSTUS\tgene\t442747\t443746\t0.82\t-\t.\tg95\n",
      "scaffold12_cov67\t28089\t28091\tscaffold12_cov67\tAUGUSTUS\tgene\t28010\t29009\t0.39\t+\t.\tg130\n",
      "\n",
      "==> Meth6_R1_001_val_1_bismark_bt2_pe._5x.bedgraph-sparseMeth.bed-paFlanks <==\n",
      "scaffold6_cov64\t6687\t6689\tscaffold6_cov64\tAUGUSTUS\tgene\t6679\t7678\t0.57\t+\t.\tg2\n",
      "scaffold6_cov64\t6704\t6706\tscaffold6_cov64\tAUGUSTUS\tgene\t6679\t7678\t0.57\t+\t.\tg2\n",
      "scaffold6_cov64\t7373\t7375\tscaffold6_cov64\tAUGUSTUS\tgene\t6679\t7678\t0.57\t+\t.\tg2\n",
      "scaffold7_cov100\t28086\t28088\tscaffold7_cov100\tAUGUSTUS\tgene\t27517\t28516\t0.69\t-\t.\tg12\n",
      "scaffold7_cov100\t37936\t37938\tscaffold7_cov100\tAUGUSTUS\tgene\t37762\t38761\t0.64\t-\t.\tg13\n",
      "scaffold7_cov100\t40234\t40236\tscaffold7_cov100\tAUGUSTUS\tgene\t40188\t41187\t0.97\t+\t.\tg14\n",
      "scaffold7_cov100\t40236\t40238\tscaffold7_cov100\tAUGUSTUS\tgene\t40188\t41187\t0.97\t+\t.\tg14\n",
      "scaffold7_cov100\t131309\t131311\tscaffold7_cov100\tAUGUSTUS\tgene\t131292\t132291\t0.02\t+\t.\tg31\n",
      "scaffold7_cov100\t162610\t162612\tscaffold7_cov100\tAUGUSTUS\tgene\t162600\t163599\t0.99\t-\t.\tg43\n",
      "scaffold7_cov100\t169073\t169075\tscaffold7_cov100\tAUGUSTUS\tgene\t168668\t169667\t0.65\t-\t.\tg44\n",
      "\n",
      "==> Meth6_R1_001_val_1_bismark_bt2_pe._5x.bedgraph-unMeth.bed-paFlanks <==\n",
      "scaffold6_cov64\t5797\t5799\tscaffold6_cov64\tAUGUSTUS\tgene\t5653\t5804\t0.46\t-\t.\tg1\n",
      "scaffold6_cov64\t5797\t5799\tscaffold6_cov64\tAUGUSTUS\tgene\t5653\t5804\t0.57\t+\t.\tg2\n",
      "scaffold6_cov64\t5800\t5802\tscaffold6_cov64\tAUGUSTUS\tgene\t5653\t5804\t0.46\t-\t.\tg1\n",
      "scaffold6_cov64\t5800\t5802\tscaffold6_cov64\tAUGUSTUS\tgene\t5653\t5804\t0.57\t+\t.\tg2\n",
      "scaffold6_cov64\t6690\t6692\tscaffold6_cov64\tAUGUSTUS\tgene\t6679\t7678\t0.57\t+\t.\tg2\n",
      "scaffold6_cov64\t6732\t6734\tscaffold6_cov64\tAUGUSTUS\tgene\t6679\t7678\t0.57\t+\t.\tg2\n",
      "scaffold6_cov64\t6751\t6753\tscaffold6_cov64\tAUGUSTUS\tgene\t6679\t7678\t0.57\t+\t.\tg2\n",
      "scaffold6_cov64\t6805\t6807\tscaffold6_cov64\tAUGUSTUS\tgene\t6679\t7678\t0.57\t+\t.\tg2\n",
      "scaffold6_cov64\t6813\t6815\tscaffold6_cov64\tAUGUSTUS\tgene\t6679\t7678\t0.57\t+\t.\tg2\n",
      "scaffold6_cov64\t6862\t6864\tscaffold6_cov64\tAUGUSTUS\tgene\t6679\t7678\t0.57\t+\t.\tg2\n",
      "\n",
      "==> Meth6_R1_001_val_1_bismark_bt2_pe._5x.bedgraph.bed-paFlanks <==\n",
      "scaffold6_cov64\t5797\t5799\tscaffold6_cov64\tAUGUSTUS\tgene\t5653\t5804\t0.46\t-\t.\tg1\n",
      "scaffold6_cov64\t5797\t5799\tscaffold6_cov64\tAUGUSTUS\tgene\t5653\t5804\t0.57\t+\t.\tg2\n",
      "scaffold6_cov64\t5800\t5802\tscaffold6_cov64\tAUGUSTUS\tgene\t5653\t5804\t0.46\t-\t.\tg1\n",
      "scaffold6_cov64\t5800\t5802\tscaffold6_cov64\tAUGUSTUS\tgene\t5653\t5804\t0.57\t+\t.\tg2\n",
      "scaffold6_cov64\t6687\t6689\tscaffold6_cov64\tAUGUSTUS\tgene\t6679\t7678\t0.57\t+\t.\tg2\n",
      "scaffold6_cov64\t6690\t6692\tscaffold6_cov64\tAUGUSTUS\tgene\t6679\t7678\t0.57\t+\t.\tg2\n",
      "scaffold6_cov64\t6704\t6706\tscaffold6_cov64\tAUGUSTUS\tgene\t6679\t7678\t0.57\t+\t.\tg2\n",
      "scaffold6_cov64\t6732\t6734\tscaffold6_cov64\tAUGUSTUS\tgene\t6679\t7678\t0.57\t+\t.\tg2\n",
      "scaffold6_cov64\t6751\t6753\tscaffold6_cov64\tAUGUSTUS\tgene\t6679\t7678\t0.57\t+\t.\tg2\n",
      "scaffold6_cov64\t6805\t6807\tscaffold6_cov64\tAUGUSTUS\tgene\t6679\t7678\t0.57\t+\t.\tg2\n",
      "\n",
      "==> Meth7_R1_001_val_1_bismark_bt2_pe._5x.bedgraph-Meth.bed-paFlanks <==\n",
      "scaffold7_cov100\t6231\t6233\tscaffold7_cov100\tAUGUSTUS\tgene\t6218\t7068\t0.78\t-\t.\tg4\n",
      "scaffold7_cov100\t6231\t6233\tscaffold7_cov100\tAUGUSTUS\tgene\t6218\t7068\t1\t-\t.\tg5\n",
      "scaffold7_cov100\t6233\t6235\tscaffold7_cov100\tAUGUSTUS\tgene\t6218\t7068\t0.78\t-\t.\tg4\n",
      "scaffold7_cov100\t6233\t6235\tscaffold7_cov100\tAUGUSTUS\tgene\t6218\t7068\t1\t-\t.\tg5\n",
      "scaffold7_cov100\t12652\t12654\tscaffold7_cov100\tAUGUSTUS\tgene\t11671\t12670\t0.8\t-\t.\tg6\n",
      "scaffold7_cov100\t12652\t12654\tscaffold7_cov100\tAUGUSTUS\tgene\t12339\t13338\t0.92\t-\t.\tg7\n",
      "scaffold7_cov100\t12662\t12664\tscaffold7_cov100\tAUGUSTUS\tgene\t11671\t12670\t0.8\t-\t.\tg6\n",
      "scaffold7_cov100\t12662\t12664\tscaffold7_cov100\tAUGUSTUS\tgene\t12339\t13338\t0.92\t-\t.\tg7\n",
      "scaffold7_cov100\t12675\t12677\tscaffold7_cov100\tAUGUSTUS\tgene\t12339\t13338\t0.92\t-\t.\tg7\n",
      "scaffold7_cov100\t12683\t12685\tscaffold7_cov100\tAUGUSTUS\tgene\t12339\t13338\t0.92\t-\t.\tg7\n",
      "\n",
      "==> Meth7_R1_001_val_1_bismark_bt2_pe._5x.bedgraph-sparseMeth.bed-paFlanks <==\n",
      "scaffold6_cov64\t6805\t6807\tscaffold6_cov64\tAUGUSTUS\tgene\t6679\t7678\t0.57\t+\t.\tg2\n",
      "scaffold6_cov64\t6880\t6882\tscaffold6_cov64\tAUGUSTUS\tgene\t6679\t7678\t0.57\t+\t.\tg2\n",
      "scaffold6_cov64\t7609\t7611\tscaffold6_cov64\tAUGUSTUS\tgene\t6679\t7678\t0.57\t+\t.\tg2\n",
      "scaffold7_cov100\t12821\t12823\tscaffold7_cov100\tAUGUSTUS\tgene\t12339\t13338\t0.92\t-\t.\tg7\n",
      "scaffold7_cov100\t12861\t12863\tscaffold7_cov100\tAUGUSTUS\tgene\t12339\t13338\t0.92\t-\t.\tg7\n",
      "scaffold7_cov100\t15597\t15599\tscaffold7_cov100\tAUGUSTUS\tgene\t15464\t15737\t0.92\t-\t.\tg7\n",
      "scaffold7_cov100\t15597\t15599\tscaffold7_cov100\tAUGUSTUS\tgene\t15464\t15737\t0.96\t+\t.\tg8\n",
      "scaffold7_cov100\t15614\t15616\tscaffold7_cov100\tAUGUSTUS\tgene\t15464\t15737\t0.92\t-\t.\tg7\n",
      "scaffold7_cov100\t15614\t15616\tscaffold7_cov100\tAUGUSTUS\tgene\t15464\t15737\t0.96\t+\t.\tg8\n",
      "scaffold7_cov100\t24614\t24616\tscaffold7_cov100\tAUGUSTUS\tgene\t24296\t25295\t0.39\t+\t.\tg11\n",
      "\n",
      "==> Meth7_R1_001_val_1_bismark_bt2_pe._5x.bedgraph-unMeth.bed-paFlanks <==\n",
      "scaffold6_cov64\t5797\t5799\tscaffold6_cov64\tAUGUSTUS\tgene\t5653\t5804\t0.46\t-\t.\tg1\n",
      "scaffold6_cov64\t5797\t5799\tscaffold6_cov64\tAUGUSTUS\tgene\t5653\t5804\t0.57\t+\t.\tg2\n",
      "scaffold6_cov64\t5800\t5802\tscaffold6_cov64\tAUGUSTUS\tgene\t5653\t5804\t0.46\t-\t.\tg1\n",
      "scaffold6_cov64\t5800\t5802\tscaffold6_cov64\tAUGUSTUS\tgene\t5653\t5804\t0.57\t+\t.\tg2\n",
      "scaffold6_cov64\t6813\t6815\tscaffold6_cov64\tAUGUSTUS\tgene\t6679\t7678\t0.57\t+\t.\tg2\n",
      "scaffold6_cov64\t6862\t6864\tscaffold6_cov64\tAUGUSTUS\tgene\t6679\t7678\t0.57\t+\t.\tg2\n",
      "scaffold6_cov64\t6885\t6887\tscaffold6_cov64\tAUGUSTUS\tgene\t6679\t7678\t0.57\t+\t.\tg2\n",
      "scaffold6_cov64\t7097\t7099\tscaffold6_cov64\tAUGUSTUS\tgene\t6679\t7678\t0.57\t+\t.\tg2\n",
      "scaffold6_cov64\t7159\t7161\tscaffold6_cov64\tAUGUSTUS\tgene\t6679\t7678\t0.57\t+\t.\tg2\n",
      "scaffold6_cov64\t7163\t7165\tscaffold6_cov64\tAUGUSTUS\tgene\t6679\t7678\t0.57\t+\t.\tg2\n",
      "\n",
      "==> Meth7_R1_001_val_1_bismark_bt2_pe._5x.bedgraph.bed-paFlanks <==\n",
      "scaffold6_cov64\t5797\t5799\tscaffold6_cov64\tAUGUSTUS\tgene\t5653\t5804\t0.46\t-\t.\tg1\n",
      "scaffold6_cov64\t5797\t5799\tscaffold6_cov64\tAUGUSTUS\tgene\t5653\t5804\t0.57\t+\t.\tg2\n",
      "scaffold6_cov64\t5800\t5802\tscaffold6_cov64\tAUGUSTUS\tgene\t5653\t5804\t0.46\t-\t.\tg1\n",
      "scaffold6_cov64\t5800\t5802\tscaffold6_cov64\tAUGUSTUS\tgene\t5653\t5804\t0.57\t+\t.\tg2\n",
      "scaffold6_cov64\t6805\t6807\tscaffold6_cov64\tAUGUSTUS\tgene\t6679\t7678\t0.57\t+\t.\tg2\n",
      "scaffold6_cov64\t6813\t6815\tscaffold6_cov64\tAUGUSTUS\tgene\t6679\t7678\t0.57\t+\t.\tg2\n",
      "scaffold6_cov64\t6862\t6864\tscaffold6_cov64\tAUGUSTUS\tgene\t6679\t7678\t0.57\t+\t.\tg2\n",
      "scaffold6_cov64\t6880\t6882\tscaffold6_cov64\tAUGUSTUS\tgene\t6679\t7678\t0.57\t+\t.\tg2\n",
      "scaffold6_cov64\t6885\t6887\tscaffold6_cov64\tAUGUSTUS\tgene\t6679\t7678\t0.57\t+\t.\tg2\n",
      "scaffold6_cov64\t7097\t7099\tscaffold6_cov64\tAUGUSTUS\tgene\t6679\t7678\t0.57\t+\t.\tg2\n",
      "\n",
      "==> Meth8_R1_001_val_1_bismark_bt2_pe._5x.bedgraph-Meth.bed-paFlanks <==\n",
      "scaffold7_cov100\t6233\t6235\tscaffold7_cov100\tAUGUSTUS\tgene\t6218\t7068\t0.78\t-\t.\tg4\n",
      "scaffold7_cov100\t6233\t6235\tscaffold7_cov100\tAUGUSTUS\tgene\t6218\t7068\t1\t-\t.\tg5\n",
      "scaffold7_cov100\t12652\t12654\tscaffold7_cov100\tAUGUSTUS\tgene\t11671\t12670\t0.8\t-\t.\tg6\n",
      "scaffold7_cov100\t12652\t12654\tscaffold7_cov100\tAUGUSTUS\tgene\t12339\t13338\t0.92\t-\t.\tg7\n",
      "scaffold7_cov100\t12662\t12664\tscaffold7_cov100\tAUGUSTUS\tgene\t11671\t12670\t0.8\t-\t.\tg6\n",
      "scaffold7_cov100\t12662\t12664\tscaffold7_cov100\tAUGUSTUS\tgene\t12339\t13338\t0.92\t-\t.\tg7\n",
      "scaffold7_cov100\t12675\t12677\tscaffold7_cov100\tAUGUSTUS\tgene\t12339\t13338\t0.92\t-\t.\tg7\n",
      "scaffold7_cov100\t12683\t12685\tscaffold7_cov100\tAUGUSTUS\tgene\t12339\t13338\t0.92\t-\t.\tg7\n",
      "scaffold7_cov100\t12704\t12706\tscaffold7_cov100\tAUGUSTUS\tgene\t12339\t13338\t0.92\t-\t.\tg7\n",
      "scaffold7_cov100\t12726\t12728\tscaffold7_cov100\tAUGUSTUS\tgene\t12339\t13338\t0.92\t-\t.\tg7\n",
      "\n",
      "==> Meth8_R1_001_val_1_bismark_bt2_pe._5x.bedgraph-sparseMeth.bed-paFlanks <==\n",
      "scaffold7_cov100\t6231\t6233\tscaffold7_cov100\tAUGUSTUS\tgene\t6218\t7068\t0.78\t-\t.\tg4\n",
      "scaffold7_cov100\t6231\t6233\tscaffold7_cov100\tAUGUSTUS\tgene\t6218\t7068\t1\t-\t.\tg5\n",
      "scaffold7_cov100\t12131\t12133\tscaffold7_cov100\tAUGUSTUS\tgene\t11671\t12670\t0.8\t-\t.\tg6\n",
      "scaffold7_cov100\t12247\t12249\tscaffold7_cov100\tAUGUSTUS\tgene\t11671\t12670\t0.8\t-\t.\tg6\n",
      "scaffold7_cov100\t12861\t12863\tscaffold7_cov100\tAUGUSTUS\tgene\t12339\t13338\t0.92\t-\t.\tg7\n",
      "scaffold7_cov100\t24494\t24496\tscaffold7_cov100\tAUGUSTUS\tgene\t24296\t25295\t0.39\t+\t.\tg11\n",
      "scaffold7_cov100\t24830\t24832\tscaffold7_cov100\tAUGUSTUS\tgene\t24296\t25295\t0.39\t+\t.\tg11\n",
      "scaffold7_cov100\t24895\t24897\tscaffold7_cov100\tAUGUSTUS\tgene\t24296\t25295\t0.39\t+\t.\tg11\n",
      "scaffold7_cov100\t83540\t83542\tscaffold7_cov100\tAUGUSTUS\tgene\t82820\t83819\t1\t-\t.\tg22\n",
      "scaffold7_cov100\t92019\t92021\tscaffold7_cov100\tAUGUSTUS\tgene\t91990\t92373\t0.37\t-\t.\tg23\n",
      "\n",
      "==> Meth8_R1_001_val_1_bismark_bt2_pe._5x.bedgraph-unMeth.bed-paFlanks <==\n",
      "scaffold7_cov100\t12587\t12589\tscaffold7_cov100\tAUGUSTUS\tgene\t11671\t12670\t0.8\t-\t.\tg6\n",
      "scaffold7_cov100\t12587\t12589\tscaffold7_cov100\tAUGUSTUS\tgene\t12339\t13338\t0.92\t-\t.\tg7\n",
      "scaffold7_cov100\t13038\t13040\tscaffold7_cov100\tAUGUSTUS\tgene\t12339\t13338\t0.92\t-\t.\tg7\n",
      "scaffold7_cov100\t24617\t24619\tscaffold7_cov100\tAUGUSTUS\tgene\t24296\t25295\t0.39\t+\t.\tg11\n",
      "scaffold7_cov100\t24690\t24692\tscaffold7_cov100\tAUGUSTUS\tgene\t24296\t25295\t0.39\t+\t.\tg11\n",
      "scaffold7_cov100\t83512\t83514\tscaffold7_cov100\tAUGUSTUS\tgene\t82820\t83819\t1\t-\t.\tg22\n",
      "scaffold7_cov100\t83535\t83537\tscaffold7_cov100\tAUGUSTUS\tgene\t82820\t83819\t1\t-\t.\tg22\n",
      "scaffold7_cov100\t83538\t83540\tscaffold7_cov100\tAUGUSTUS\tgene\t82820\t83819\t1\t-\t.\tg22\n",
      "scaffold7_cov100\t83552\t83554\tscaffold7_cov100\tAUGUSTUS\tgene\t82820\t83819\t1\t-\t.\tg22\n",
      "scaffold7_cov100\t83554\t83556\tscaffold7_cov100\tAUGUSTUS\tgene\t82820\t83819\t1\t-\t.\tg22\n",
      "\n",
      "==> Meth8_R1_001_val_1_bismark_bt2_pe._5x.bedgraph.bed-paFlanks <==\n",
      "scaffold7_cov100\t6231\t6233\tscaffold7_cov100\tAUGUSTUS\tgene\t6218\t7068\t0.78\t-\t.\tg4\n",
      "scaffold7_cov100\t6231\t6233\tscaffold7_cov100\tAUGUSTUS\tgene\t6218\t7068\t1\t-\t.\tg5\n",
      "scaffold7_cov100\t6233\t6235\tscaffold7_cov100\tAUGUSTUS\tgene\t6218\t7068\t0.78\t-\t.\tg4\n",
      "scaffold7_cov100\t6233\t6235\tscaffold7_cov100\tAUGUSTUS\tgene\t6218\t7068\t1\t-\t.\tg5\n",
      "scaffold7_cov100\t12131\t12133\tscaffold7_cov100\tAUGUSTUS\tgene\t11671\t12670\t0.8\t-\t.\tg6\n",
      "scaffold7_cov100\t12247\t12249\tscaffold7_cov100\tAUGUSTUS\tgene\t11671\t12670\t0.8\t-\t.\tg6\n",
      "scaffold7_cov100\t12587\t12589\tscaffold7_cov100\tAUGUSTUS\tgene\t11671\t12670\t0.8\t-\t.\tg6\n",
      "scaffold7_cov100\t12587\t12589\tscaffold7_cov100\tAUGUSTUS\tgene\t12339\t13338\t0.92\t-\t.\tg7\n",
      "scaffold7_cov100\t12652\t12654\tscaffold7_cov100\tAUGUSTUS\tgene\t11671\t12670\t0.8\t-\t.\tg6\n",
      "scaffold7_cov100\t12652\t12654\tscaffold7_cov100\tAUGUSTUS\tgene\t12339\t13338\t0.92\t-\t.\tg7\n",
      "\n",
      "==> Meth9_R1_001_val_1_bismark_bt2_pe._5x.bedgraph-Meth.bed-paFlanks <==\n",
      "scaffold7_cov100\t6231\t6233\tscaffold7_cov100\tAUGUSTUS\tgene\t6218\t7068\t0.78\t-\t.\tg4\n",
      "scaffold7_cov100\t6231\t6233\tscaffold7_cov100\tAUGUSTUS\tgene\t6218\t7068\t1\t-\t.\tg5\n",
      "scaffold7_cov100\t6233\t6235\tscaffold7_cov100\tAUGUSTUS\tgene\t6218\t7068\t0.78\t-\t.\tg4\n",
      "scaffold7_cov100\t6233\t6235\tscaffold7_cov100\tAUGUSTUS\tgene\t6218\t7068\t1\t-\t.\tg5\n",
      "scaffold7_cov100\t11815\t11817\tscaffold7_cov100\tAUGUSTUS\tgene\t11671\t12670\t0.8\t-\t.\tg6\n",
      "scaffold7_cov100\t12652\t12654\tscaffold7_cov100\tAUGUSTUS\tgene\t11671\t12670\t0.8\t-\t.\tg6\n",
      "scaffold7_cov100\t12652\t12654\tscaffold7_cov100\tAUGUSTUS\tgene\t12339\t13338\t0.92\t-\t.\tg7\n",
      "scaffold7_cov100\t12662\t12664\tscaffold7_cov100\tAUGUSTUS\tgene\t11671\t12670\t0.8\t-\t.\tg6\n",
      "scaffold7_cov100\t12662\t12664\tscaffold7_cov100\tAUGUSTUS\tgene\t12339\t13338\t0.92\t-\t.\tg7\n",
      "scaffold7_cov100\t12675\t12677\tscaffold7_cov100\tAUGUSTUS\tgene\t12339\t13338\t0.92\t-\t.\tg7\n",
      "\n",
      "==> Meth9_R1_001_val_1_bismark_bt2_pe._5x.bedgraph-sparseMeth.bed-paFlanks <==\n",
      "scaffold7_cov100\t12587\t12589\tscaffold7_cov100\tAUGUSTUS\tgene\t11671\t12670\t0.8\t-\t.\tg6\n",
      "scaffold7_cov100\t12587\t12589\tscaffold7_cov100\tAUGUSTUS\tgene\t12339\t13338\t0.92\t-\t.\tg7\n",
      "scaffold7_cov100\t12683\t12685\tscaffold7_cov100\tAUGUSTUS\tgene\t12339\t13338\t0.92\t-\t.\tg7\n",
      "scaffold7_cov100\t12737\t12739\tscaffold7_cov100\tAUGUSTUS\tgene\t12339\t13338\t0.92\t-\t.\tg7\n",
      "scaffold7_cov100\t12821\t12823\tscaffold7_cov100\tAUGUSTUS\tgene\t12339\t13338\t0.92\t-\t.\tg7\n",
      "scaffold7_cov100\t12861\t12863\tscaffold7_cov100\tAUGUSTUS\tgene\t12339\t13338\t0.92\t-\t.\tg7\n",
      "scaffold7_cov100\t13275\t13277\tscaffold7_cov100\tAUGUSTUS\tgene\t12339\t13338\t0.92\t-\t.\tg7\n",
      "scaffold7_cov100\t15622\t15624\tscaffold7_cov100\tAUGUSTUS\tgene\t15464\t15737\t0.92\t-\t.\tg7\n",
      "scaffold7_cov100\t15622\t15624\tscaffold7_cov100\tAUGUSTUS\tgene\t15464\t15737\t0.96\t+\t.\tg8\n",
      "scaffold7_cov100\t15630\t15632\tscaffold7_cov100\tAUGUSTUS\tgene\t15464\t15737\t0.92\t-\t.\tg7\n",
      "\n",
      "==> Meth9_R1_001_val_1_bismark_bt2_pe._5x.bedgraph-unMeth.bed-paFlanks <==\n",
      "scaffold6_cov64\t5797\t5799\tscaffold6_cov64\tAUGUSTUS\tgene\t5653\t5804\t0.46\t-\t.\tg1\n",
      "scaffold6_cov64\t5797\t5799\tscaffold6_cov64\tAUGUSTUS\tgene\t5653\t5804\t0.57\t+\t.\tg2\n",
      "scaffold6_cov64\t5800\t5802\tscaffold6_cov64\tAUGUSTUS\tgene\t5653\t5804\t0.46\t-\t.\tg1\n",
      "scaffold6_cov64\t5800\t5802\tscaffold6_cov64\tAUGUSTUS\tgene\t5653\t5804\t0.57\t+\t.\tg2\n",
      "scaffold6_cov64\t6751\t6753\tscaffold6_cov64\tAUGUSTUS\tgene\t6679\t7678\t0.57\t+\t.\tg2\n",
      "scaffold6_cov64\t6805\t6807\tscaffold6_cov64\tAUGUSTUS\tgene\t6679\t7678\t0.57\t+\t.\tg2\n",
      "scaffold6_cov64\t6813\t6815\tscaffold6_cov64\tAUGUSTUS\tgene\t6679\t7678\t0.57\t+\t.\tg2\n",
      "scaffold6_cov64\t6862\t6864\tscaffold6_cov64\tAUGUSTUS\tgene\t6679\t7678\t0.57\t+\t.\tg2\n",
      "scaffold6_cov64\t6880\t6882\tscaffold6_cov64\tAUGUSTUS\tgene\t6679\t7678\t0.57\t+\t.\tg2\n",
      "scaffold6_cov64\t6885\t6887\tscaffold6_cov64\tAUGUSTUS\tgene\t6679\t7678\t0.57\t+\t.\tg2\n",
      "\n",
      "==> Meth9_R1_001_val_1_bismark_bt2_pe._5x.bedgraph.bed-paFlanks <==\n",
      "scaffold6_cov64\t5797\t5799\tscaffold6_cov64\tAUGUSTUS\tgene\t5653\t5804\t0.46\t-\t.\tg1\n",
      "scaffold6_cov64\t5797\t5799\tscaffold6_cov64\tAUGUSTUS\tgene\t5653\t5804\t0.57\t+\t.\tg2\n",
      "scaffold6_cov64\t5800\t5802\tscaffold6_cov64\tAUGUSTUS\tgene\t5653\t5804\t0.46\t-\t.\tg1\n",
      "scaffold6_cov64\t5800\t5802\tscaffold6_cov64\tAUGUSTUS\tgene\t5653\t5804\t0.57\t+\t.\tg2\n",
      "scaffold6_cov64\t6751\t6753\tscaffold6_cov64\tAUGUSTUS\tgene\t6679\t7678\t0.57\t+\t.\tg2\n",
      "scaffold6_cov64\t6805\t6807\tscaffold6_cov64\tAUGUSTUS\tgene\t6679\t7678\t0.57\t+\t.\tg2\n",
      "scaffold6_cov64\t6813\t6815\tscaffold6_cov64\tAUGUSTUS\tgene\t6679\t7678\t0.57\t+\t.\tg2\n",
      "scaffold6_cov64\t6862\t6864\tscaffold6_cov64\tAUGUSTUS\tgene\t6679\t7678\t0.57\t+\t.\tg2\n",
      "scaffold6_cov64\t6880\t6882\tscaffold6_cov64\tAUGUSTUS\tgene\t6679\t7678\t0.57\t+\t.\tg2\n",
      "scaffold6_cov64\t6885\t6887\tscaffold6_cov64\tAUGUSTUS\tgene\t6679\t7678\t0.57\t+\t.\tg2\n"
     ]
    }
   ],
   "source": [
    "#Check output\n",
    "!head *paFlanks"
   ]
  },
  {
   "cell_type": "code",
   "execution_count": 63,
   "metadata": {
    "collapsed": false,
    "scrolled": true
   },
   "outputs": [
    {
     "name": "stdout",
     "output_type": "stream",
     "text": [
      "   28031 Meth1_R1_001_val_1_bismark_bt2_pe._5x.bedgraph-Meth.bed-paFlanks\n",
      "   97808 Meth1_R1_001_val_1_bismark_bt2_pe._5x.bedgraph-sparseMeth.bed-paFlanks\n",
      " 1317046 Meth1_R1_001_val_1_bismark_bt2_pe._5x.bedgraph-unMeth.bed-paFlanks\n",
      " 1442885 Meth1_R1_001_val_1_bismark_bt2_pe._5x.bedgraph.bed-paFlanks\n",
      "   32259 Meth2_R1_001_val_1_bismark_bt2_pe._5x.bedgraph-Meth.bed-paFlanks\n",
      "   93054 Meth2_R1_001_val_1_bismark_bt2_pe._5x.bedgraph-sparseMeth.bed-paFlanks\n",
      " 1536795 Meth2_R1_001_val_1_bismark_bt2_pe._5x.bedgraph-unMeth.bed-paFlanks\n",
      " 1662108 Meth2_R1_001_val_1_bismark_bt2_pe._5x.bedgraph.bed-paFlanks\n",
      "   31840 Meth3_R1_001_val_1_bismark_bt2_pe._5x.bedgraph-Meth.bed-paFlanks\n",
      "  102280 Meth3_R1_001_val_1_bismark_bt2_pe._5x.bedgraph-sparseMeth.bed-paFlanks\n",
      " 1392903 Meth3_R1_001_val_1_bismark_bt2_pe._5x.bedgraph-unMeth.bed-paFlanks\n",
      " 1527023 Meth3_R1_001_val_1_bismark_bt2_pe._5x.bedgraph.bed-paFlanks\n",
      "    7491 Meth4_R1_001_val_1_bismark_bt2_pe._5x.bedgraph-Meth.bed-paFlanks\n",
      "   34079 Meth4_R1_001_val_1_bismark_bt2_pe._5x.bedgraph-sparseMeth.bed-paFlanks\n",
      "  434192 Meth4_R1_001_val_1_bismark_bt2_pe._5x.bedgraph-unMeth.bed-paFlanks\n",
      "  475762 Meth4_R1_001_val_1_bismark_bt2_pe._5x.bedgraph.bed-paFlanks\n",
      "    7438 Meth5_R1_001_val_1_bismark_bt2_pe._5x.bedgraph-Meth.bed-paFlanks\n",
      "   16451 Meth5_R1_001_val_1_bismark_bt2_pe._5x.bedgraph-sparseMeth.bed-paFlanks\n",
      "  357297 Meth5_R1_001_val_1_bismark_bt2_pe._5x.bedgraph-unMeth.bed-paFlanks\n",
      "  381186 Meth5_R1_001_val_1_bismark_bt2_pe._5x.bedgraph.bed-paFlanks\n",
      "    6359 Meth6_R1_001_val_1_bismark_bt2_pe._5x.bedgraph-Meth.bed-paFlanks\n",
      "   22130 Meth6_R1_001_val_1_bismark_bt2_pe._5x.bedgraph-sparseMeth.bed-paFlanks\n",
      "  366778 Meth6_R1_001_val_1_bismark_bt2_pe._5x.bedgraph-unMeth.bed-paFlanks\n",
      "  395267 Meth6_R1_001_val_1_bismark_bt2_pe._5x.bedgraph.bed-paFlanks\n",
      "   61980 Meth7_R1_001_val_1_bismark_bt2_pe._5x.bedgraph-Meth.bed-paFlanks\n",
      "   72242 Meth7_R1_001_val_1_bismark_bt2_pe._5x.bedgraph-sparseMeth.bed-paFlanks\n",
      "  491983 Meth7_R1_001_val_1_bismark_bt2_pe._5x.bedgraph-unMeth.bed-paFlanks\n",
      "  626205 Meth7_R1_001_val_1_bismark_bt2_pe._5x.bedgraph.bed-paFlanks\n",
      "   50230 Meth8_R1_001_val_1_bismark_bt2_pe._5x.bedgraph-Meth.bed-paFlanks\n",
      "   18583 Meth8_R1_001_val_1_bismark_bt2_pe._5x.bedgraph-sparseMeth.bed-paFlanks\n",
      "   48179 Meth8_R1_001_val_1_bismark_bt2_pe._5x.bedgraph-unMeth.bed-paFlanks\n",
      "  116992 Meth8_R1_001_val_1_bismark_bt2_pe._5x.bedgraph.bed-paFlanks\n",
      "   62575 Meth9_R1_001_val_1_bismark_bt2_pe._5x.bedgraph-Meth.bed-paFlanks\n",
      "   82138 Meth9_R1_001_val_1_bismark_bt2_pe._5x.bedgraph-sparseMeth.bed-paFlanks\n",
      "  517581 Meth9_R1_001_val_1_bismark_bt2_pe._5x.bedgraph-unMeth.bed-paFlanks\n",
      "  662294 Meth9_R1_001_val_1_bismark_bt2_pe._5x.bedgraph.bed-paFlanks\n",
      " 14579444 total\n"
     ]
    }
   ],
   "source": [
    "#Count number of overlaps\n",
    "!wc -l *paFlanks"
   ]
  },
  {
   "cell_type": "code",
   "execution_count": 64,
   "metadata": {
    "collapsed": true
   },
   "outputs": [],
   "source": [
    "!wc -l *paFlanks > Pact-5x-paFlanks-counts.txt"
   ]
  },
  {
   "cell_type": "markdown",
   "metadata": {},
   "source": [
    "#### 4e. Intergenic"
   ]
  },
  {
   "cell_type": "code",
   "execution_count": 66,
   "metadata": {
    "collapsed": true
   },
   "outputs": [],
   "source": [
    "%%bash \n",
    "\n",
    "for f in *bed\n",
    "do\n",
    "  /usr/local/bin/intersectBed \\\n",
    "  -v \\\n",
    "  -a ${f} \\\n",
    "  -b ../../../genome-feature-files/Pact.GFFannotation.Genes.gff \\\n",
    "  > ${f}-paIntergenic\n",
    "done"
   ]
  },
  {
   "cell_type": "code",
   "execution_count": 67,
   "metadata": {
    "collapsed": false
   },
   "outputs": [
    {
     "name": "stdout",
     "output_type": "stream",
     "text": [
      "==> Meth1_R1_001_val_1_bismark_bt2_pe._5x.bedgraph-Meth.bed-paIntergenic <==\r\n",
      "scaffold7_cov100\t6231\t6233\r\n",
      "scaffold7_cov100\t6233\t6235\r\n",
      "scaffold7_cov100\t19284\t19286\r\n",
      "scaffold7_cov100\t19296\t19298\r\n",
      "scaffold7_cov100\t24494\t24496\r\n",
      "scaffold7_cov100\t24509\t24511\r\n",
      "scaffold7_cov100\t24557\t24559\r\n",
      "scaffold7_cov100\t24617\t24619\r\n",
      "scaffold7_cov100\t24895\t24897\r\n",
      "scaffold7_cov100\t24941\t24943\r\n",
      "\r\n",
      "==> Meth1_R1_001_val_1_bismark_bt2_pe._5x.bedgraph-sparseMeth.bed-paIntergenic <==\r\n",
      "scaffold1_cov55\t102\t104\r\n",
      "scaffold1_cov55\t186\t188\r\n",
      "scaffold3_cov83\t118\t120\r\n",
      "scaffold3_cov83\t137\t139\r\n",
      "scaffold3_cov83\t475\t477\r\n",
      "scaffold3_cov83\t484\t486\r\n",
      "scaffold3_cov83\t504\t506\r\n",
      "scaffold6_cov64\t7373\t7375\r\n",
      "scaffold6_cov64\t7983\t7985\r\n",
      "scaffold7_cov100\t13275\t13277\r\n",
      "\r\n",
      "==> Meth1_R1_001_val_1_bismark_bt2_pe._5x.bedgraph-unMeth.bed-paIntergenic <==\r\n",
      "scaffold1_cov55\t105\t107\r\n",
      "scaffold1_cov55\t116\t118\r\n",
      "scaffold1_cov55\t119\t121\r\n",
      "scaffold1_cov55\t146\t148\r\n",
      "scaffold1_cov55\t194\t196\r\n",
      "scaffold2_cov51\t649\t651\r\n",
      "scaffold2_cov51\t686\t688\r\n",
      "scaffold2_cov51\t778\t780\r\n",
      "scaffold3_cov83\t130\t132\r\n",
      "scaffold3_cov83\t189\t191\r\n",
      "\r\n",
      "==> Meth1_R1_001_val_1_bismark_bt2_pe._5x.bedgraph.bed-paIntergenic <==\r\n",
      "scaffold1_cov55\t102\t104\r\n",
      "scaffold1_cov55\t105\t107\r\n",
      "scaffold1_cov55\t116\t118\r\n",
      "scaffold1_cov55\t119\t121\r\n",
      "scaffold1_cov55\t146\t148\r\n",
      "scaffold1_cov55\t186\t188\r\n",
      "scaffold1_cov55\t194\t196\r\n",
      "scaffold2_cov51\t649\t651\r\n",
      "scaffold2_cov51\t686\t688\r\n",
      "scaffold2_cov51\t778\t780\r\n",
      "\r\n",
      "==> Meth2_R1_001_val_1_bismark_bt2_pe._5x.bedgraph-Meth.bed-paIntergenic <==\r\n",
      "scaffold7_cov100\t6231\t6233\r\n",
      "scaffold7_cov100\t6233\t6235\r\n",
      "scaffold7_cov100\t11815\t11817\r\n",
      "scaffold7_cov100\t12247\t12249\r\n",
      "scaffold7_cov100\t13275\t13277\r\n",
      "scaffold7_cov100\t19284\t19286\r\n",
      "scaffold7_cov100\t19296\t19298\r\n",
      "scaffold7_cov100\t24401\t24403\r\n",
      "scaffold7_cov100\t24443\t24445\r\n",
      "scaffold7_cov100\t24454\t24456\r\n",
      "\r\n",
      "==> Meth2_R1_001_val_1_bismark_bt2_pe._5x.bedgraph-sparseMeth.bed-paIntergenic <==\r\n",
      "scaffold1_cov55\t105\t107\r\n",
      "scaffold1_cov55\t252\t254\r\n",
      "scaffold2_cov51\t686\t688\r\n",
      "scaffold6_cov64\t7077\t7079\r\n",
      "scaffold7_cov100\t2652\t2654\r\n",
      "scaffold7_cov100\t12131\t12133\r\n",
      "scaffold7_cov100\t18520\t18522\r\n",
      "scaffold7_cov100\t24494\t24496\r\n",
      "scaffold7_cov100\t24895\t24897\r\n",
      "scaffold7_cov100\t25157\t25159\r\n",
      "\r\n",
      "==> Meth2_R1_001_val_1_bismark_bt2_pe._5x.bedgraph-unMeth.bed-paIntergenic <==\r\n",
      "scaffold1_cov55\t49\t51\r\n",
      "scaffold1_cov55\t84\t86\r\n",
      "scaffold1_cov55\t92\t94\r\n",
      "scaffold1_cov55\t102\t104\r\n",
      "scaffold1_cov55\t116\t118\r\n",
      "scaffold1_cov55\t119\t121\r\n",
      "scaffold1_cov55\t146\t148\r\n",
      "scaffold1_cov55\t169\t171\r\n",
      "scaffold1_cov55\t186\t188\r\n",
      "scaffold1_cov55\t194\t196\r\n",
      "\r\n",
      "==> Meth2_R1_001_val_1_bismark_bt2_pe._5x.bedgraph.bed-paIntergenic <==\r\n",
      "scaffold1_cov55\t49\t51\r\n",
      "scaffold1_cov55\t84\t86\r\n",
      "scaffold1_cov55\t92\t94\r\n",
      "scaffold1_cov55\t102\t104\r\n",
      "scaffold1_cov55\t105\t107\r\n",
      "scaffold1_cov55\t116\t118\r\n",
      "scaffold1_cov55\t119\t121\r\n",
      "scaffold1_cov55\t146\t148\r\n",
      "scaffold1_cov55\t169\t171\r\n",
      "scaffold1_cov55\t186\t188\r\n",
      "\r\n",
      "==> Meth3_R1_001_val_1_bismark_bt2_pe._5x.bedgraph-Meth.bed-paIntergenic <==\r\n",
      "scaffold7_cov100\t6231\t6233\r\n",
      "scaffold7_cov100\t6233\t6235\r\n",
      "scaffold7_cov100\t11815\t11817\r\n",
      "scaffold7_cov100\t18520\t18522\r\n",
      "scaffold7_cov100\t19284\t19286\r\n",
      "scaffold7_cov100\t19296\t19298\r\n",
      "scaffold7_cov100\t24401\t24403\r\n",
      "scaffold7_cov100\t24454\t24456\r\n",
      "scaffold7_cov100\t24509\t24511\r\n",
      "scaffold7_cov100\t24617\t24619\r\n",
      "\r\n",
      "==> Meth3_R1_001_val_1_bismark_bt2_pe._5x.bedgraph-sparseMeth.bed-paIntergenic <==\r\n",
      "scaffold1_cov55\t119\t121\r\n",
      "scaffold1_cov55\t194\t196\r\n",
      "scaffold2_cov51\t686\t688\r",
      "\r\n",
      "scaffold3_cov83\t189\t191\r\n",
      "scaffold3_cov83\t475\t477\r\n",
      "scaffold6_cov64\t6732\t6734\r\n",
      "scaffold7_cov100\t2708\t2710\r\n",
      "scaffold7_cov100\t3297\t3299\r\n",
      "scaffold7_cov100\t13275\t13277\r\n",
      "scaffold7_cov100\t24494\t24496\r\n",
      "\r\n",
      "==> Meth3_R1_001_val_1_bismark_bt2_pe._5x.bedgraph-unMeth.bed-paIntergenic <==\r\n",
      "scaffold1_cov55\t250\t252\r\n",
      "scaffold2_cov51\t649\t651\r\n",
      "scaffold2_cov51\t778\t780\r\n",
      "scaffold3_cov83\t118\t120\r\n",
      "scaffold3_cov83\t130\t132\r\n",
      "scaffold3_cov83\t137\t139\r\n",
      "scaffold3_cov83\t208\t210\r\n",
      "scaffold3_cov83\t243\t245\r\n",
      "scaffold3_cov83\t261\t263\r\n",
      "scaffold3_cov83\t484\t486\r\n",
      "\r\n",
      "==> Meth3_R1_001_val_1_bismark_bt2_pe._5x.bedgraph.bed-paIntergenic <==\r\n",
      "scaffold1_cov55\t119\t121\r\n",
      "scaffold1_cov55\t194\t196\r\n",
      "scaffold1_cov55\t250\t252\r\n",
      "scaffold2_cov51\t649\t651\r\n",
      "scaffold2_cov51\t686\t688\r\n",
      "scaffold2_cov51\t778\t780\r\n",
      "scaffold3_cov83\t118\t120\r\n",
      "scaffold3_cov83\t130\t132\r\n",
      "scaffold3_cov83\t137\t139\r\n",
      "scaffold3_cov83\t189\t191\r\n",
      "\r\n",
      "==> Meth4_R1_001_val_1_bismark_bt2_pe._5x.bedgraph-Meth.bed-paIntergenic <==\r\n",
      "scaffold7_cov100\t24509\t24511\r\n",
      "scaffold7_cov100\t24557\t24559\r\n",
      "scaffold7_cov100\t40896\t40898\r\n",
      "scaffold7_cov100\t84631\t84633\r\n",
      "scaffold7_cov100\t165239\t165241\r\n",
      "scaffold7_cov100\t228104\t228106\r\n",
      "scaffold7_cov100\t233612\t233614\r\n",
      "scaffold7_cov100\t265131\t265133\r\n",
      "scaffold7_cov100\t342219\t342221\r\n",
      "scaffold7_cov100\t384784\t384786\r\n",
      "\r\n",
      "==> Meth4_R1_001_val_1_bismark_bt2_pe._5x.bedgraph-sparseMeth.bed-paIntergenic <==\r\n",
      "scaffold6_cov64\t6732\t6734\r\n",
      "scaffold7_cov100\t38369\t38371\r\n",
      "scaffold7_cov100\t39365\t39367\r\n",
      "scaffold7_cov100\t39367\t39369\r\n",
      "scaffold7_cov100\t40132\t40134\r\n",
      "scaffold7_cov100\t40148\t40150\r\n",
      "scaffold7_cov100\t40816\t40818\r\n",
      "scaffold7_cov100\t40898\t40900\r\n",
      "scaffold7_cov100\t40917\t40919\r\n",
      "scaffold7_cov100\t40936\t40938\r\n",
      "\r\n",
      "==> Meth4_R1_001_val_1_bismark_bt2_pe._5x.bedgraph-unMeth.bed-paIntergenic <==\r\n",
      "scaffold6_cov64\t5797\t5799\r\n",
      "scaffold6_cov64\t5800\t5802\r\n",
      "scaffold6_cov64\t6687\t6689\r\n",
      "scaffold6_cov64\t6690\t6692\r\n",
      "scaffold6_cov64\t6704\t6706\r\n",
      "scaffold6_cov64\t6751\t6753\r\n",
      "scaffold6_cov64\t6805\t6807\r\n",
      "scaffold6_cov64\t6813\t6815\r\n",
      "scaffold6_cov64\t6862\t6864\r\n",
      "scaffold6_cov64\t6880\t6882\r\n",
      "\r\n",
      "==> Meth4_R1_001_val_1_bismark_bt2_pe._5x.bedgraph.bed-paIntergenic <==\r\n",
      "scaffold6_cov64\t5797\t5799\r\n",
      "scaffold6_cov64\t5800\t5802\r\n",
      "scaffold6_cov64\t6687\t6689\r\n",
      "scaffold6_cov64\t6690\t6692\r\n",
      "scaffold6_cov64\t6704\t6706\r\n",
      "scaffold6_cov64\t6732\t6734\r\n",
      "scaffold6_cov64\t6751\t6753\r\n",
      "scaffold6_cov64\t6805\t6807\r\n",
      "scaffold6_cov64\t6813\t6815\r\n",
      "scaffold6_cov64\t6862\t6864\r\n",
      "\r\n",
      "==> Meth5_R1_001_val_1_bismark_bt2_pe._5x.bedgraph-Meth.bed-paIntergenic <==\r\n",
      "scaffold7_cov100\t24454\t24456\r\n",
      "scaffold7_cov100\t24494\t24496\r\n",
      "scaffold7_cov100\t24509\t24511\r\n",
      "scaffold7_cov100\t24557\t24559\r\n",
      "scaffold7_cov100\t92029\t92031\r\n",
      "scaffold7_cov100\t151631\t151633\r\n",
      "scaffold7_cov100\t165090\t165092\r\n",
      "scaffold7_cov100\t165239\t165241\r\n",
      "scaffold7_cov100\t193152\t193154\r\n",
      "scaffold7_cov100\t219436\t219438\r\n",
      "\r\n",
      "==> Meth5_R1_001_val_1_bismark_bt2_pe._5x.bedgraph-sparseMeth.bed-paIntergenic <==\r\n",
      "scaffold7_cov100\t24443\t24445\r\n",
      "scaffold7_cov100\t91999\t92001\r\n",
      "scaffold7_cov100\t103351\t103353\r\n",
      "scaffold7_cov100\t116515\t116517\r\n",
      "scaffold7_cov100\t131309\t131311\r\n",
      "scaffold7_cov100\t162610\t162612\r\n",
      "scaffold7_cov100\t191986\t191988\r\n",
      "scaffold7_cov100\t195511\t195513\r\n",
      "scaffold7_cov100\t198799\t198801\r\n",
      "scaffold7_cov100\t210084\t210086\r\n",
      "\r\n",
      "==> Meth5_R1_001_val_1_bismark_bt2_pe._5x.bedgraph-unMeth.bed-paIntergenic <==\r\n",
      "scaffold6_cov64\t5797\t5799\r\n",
      "scaffold6_cov64\t5800\t5802\r\n",
      "scaffold6_cov64\t6687\t6689\r\n",
      "scaffold6_cov64\t6690\t6692\r\n",
      "scaffold6_cov64\t6704\t6706\r\n",
      "scaffold6_cov64\t6751\t6753\r\n",
      "scaffold6_cov64\t6805\t6807\r\n",
      "scaffold6_cov64\t6813\t6815\r\n",
      "scaffold7_cov100\t3150\t3152\r\n",
      "scaffold7_cov100\t3194\t3196\r\n",
      "\r\n",
      "==> Meth5_R1_001_val_1_bismark_bt2_pe._5x.bedgraph.bed-paIntergenic <==\r\n",
      "scaffold6_cov64\t5797\t5799\r\n",
      "scaffold6_cov64\t5800\t5802\r\n",
      "scaffold6_cov64\t6687\t6689\r\n",
      "scaffold6_cov64\t6690\t6692\r\n",
      "scaffold6_cov64\t6704\t6706\r\n",
      "scaffold6_cov64\t6751\t6753\r\n",
      "scaffold6_cov64\t6805\t6807\r\n",
      "scaffold6_cov64\t6813\t6815\r\n",
      "scaffold7_cov100\t3150\t3152\r\n",
      "scaffold7_cov100\t3194\t3196\r\n",
      "\r\n",
      "==> Meth6_R1_001_val_1_bismark_bt2_pe._5x.bedgraph-Meth.bed-paIntergenic <==\r\n",
      "scaffold7_cov100\t151631\t151633\r\n",
      "scaffold7_cov100\t210167\t210169\r\n",
      "scaffold7_cov100\t223257\t223259\r\n",
      "scaffold7_cov100\t223265\t223267\r\n",
      "scaffold7_cov100\t223270\t223272\r\n",
      "scaffold7_cov100\t281483\t281485\r\n",
      "scaffold7_cov100\t281501\t281503\r\n",
      "scaffold7_cov100\t396871\t396873\r\n",
      "scaffold7_cov100\t443190\t443192\r\n",
      "scaffold7_cov100\t507816\t507818\r\n",
      "\r\n",
      "==> Meth6_R1_001_val_1_bismark_bt2_pe._5x.bedgraph-sparseMeth.bed-paIntergenic <==\r\n",
      "scaffold6_cov64\t6687\t6689\r\n",
      "scaffold6_cov64\t6704\t6706\r\n",
      "scaffold6_cov64\t7373\t7375\r\n",
      "scaffold7_cov100\t28086\t28088\r\n",
      "scaffold7_cov100\t37936\t37938\r\n",
      "scaffold7_cov100\t39104\t39106\r\n",
      "scaffold7_cov100\t39113\t39115\r\n",
      "scaffold7_cov100\t39169\t39171\r\n",
      "scaffold7_cov100\t39178\t39180\r\n",
      "scaffold7_cov100\t39192\t39194\r\n",
      "\r\n",
      "==> Meth6_R1_001_val_1_bismark_bt2_pe._5x.bedgraph-unMeth.bed-paIntergenic <==\r\n",
      "scaffold6_cov64\t5797\t5799\r\n",
      "scaffold6_cov64\t5800\t5802\r\n",
      "scaffold6_cov64\t6690\t6692\r\n",
      "scaffold6_cov64\t6732\t6734\r\n",
      "scaffold6_cov64\t6751\t6753\r\n",
      "scaffold6_cov64\t6805\t6807\r\n",
      "scaffold6_cov64\t6813\t6815\r\n",
      "scaffold6_cov64\t6862\t6864\r\n",
      "scaffold6_cov64\t6880\t6882\r\n",
      "scaffold6_cov64\t7263\t7265\r\n",
      "\r\n",
      "==> Meth6_R1_001_val_1_bismark_bt2_pe._5x.bedgraph.bed-paIntergenic <==\r\n",
      "scaffold6_cov64\t5797\t5799\r\n",
      "scaffold6_cov64\t5800\t5802\r\n",
      "scaffold6_cov64\t6687\t6689\r\n",
      "scaffold6_cov64\t6690\t6692\r\n",
      "scaffold6_cov64\t6704\t6706\r\n",
      "scaffold6_cov64\t6732\t6734\r\n",
      "scaffold6_cov64\t6751\t6753\r\n",
      "scaffold6_cov64\t6805\t6807\r\n",
      "scaffold6_cov64\t6813\t6815\r\n",
      "scaffold6_cov64\t6862\t6864\r\n",
      "\r\n",
      "==> Meth7_R1_001_val_1_bismark_bt2_pe._5x.bedgraph-Meth.bed-paIntergenic <==\r\n",
      "scaffold3_cov83\t118\t120\r\n",
      "scaffold3_cov83\t137\t139\r\n",
      "scaffold3_cov83\t261\t263\r\n",
      "scaffold3_cov83\t475\t477\r\n",
      "scaffold3_cov83\t484\t486\r\n",
      "scaffold3_cov83\t504\t506\r\n",
      "scaffold7_cov100\t6231\t6233\r\n",
      "scaffold7_cov100\t6233\t6235\r\n",
      "scaffold7_cov100\t12652\t12654\r\n",
      "scaffold7_cov100\t12662\t12664\r\n",
      "\r\n",
      "==> Meth7_R1_001_val_1_bismark_bt2_pe._5x.bedgraph-sparseMeth.bed-paIntergenic <==\r\n",
      "scaffold3_cov83\t130\t132\r\n",
      "scaffold3_cov83\t189\t191\r\n",
      "scaffold3_cov83\t208\t210\r\n",
      "scaffold6_cov64\t6805\t6807\r\n",
      "scaffold6_cov64\t6880\t6882\r\n",
      "scaffold6_cov64\t7609\t7611\r\n",
      "scaffold7_cov100\t12821\t12823\r\n",
      "scaffold7_cov100\t12861\t12863\r\n",
      "scaffold7_cov100\t15597\t15599\r\n",
      "scaffold7_cov100\t15614\t15616\r\n",
      "\r\n",
      "==> Meth7_R1_001_val_1_bismark_bt2_pe._5x.bedgraph-unMeth.bed-paIntergenic <==\r\n",
      "scaffold2_cov51\t649\t651\r\n",
      "scaffold2_cov51\t686\t688\r\n",
      "scaffold2_cov51\t778\t780\r\n",
      "scaffold3_cov83\t243\t245\r\n",
      "scaffold6_cov64\t5797\t5799\r\n",
      "scaffold6_cov64\t5800\t5802\r\n",
      "scaffold6_cov64\t6813\t6815\r\n",
      "scaffold6_cov64\t6862\t6864\r\n",
      "scaffold6_cov64\t6885\t6887\r\n",
      "scaffold6_cov64\t7097\t7099\r\n",
      "\r\n",
      "==> Meth7_R1_001_val_1_bismark_bt2_pe._5x.bedgraph.bed-paIntergenic <==\r\n",
      "scaffold2_cov51\t649\t651\r\n",
      "scaffold2_cov51\t686\t688\r\n",
      "scaffold2_cov51\t778\t780\r\n",
      "scaffold3_cov83\t118\t120\r\n",
      "scaffold3_cov83\t130\t132\r\n",
      "scaffold3_cov83\t137\t139\r\n",
      "scaffold3_cov83\t189\t191\r\n",
      "scaffold3_cov83\t208\t210\r\n",
      "scaffold3_cov83\t243\t245\r\n",
      "scaffold3_cov83\t261\t263\r\n",
      "\r\n",
      "==> Meth8_R1_001_val_1_bismark_bt2_pe._5x.bedgraph-Meth.bed-paIntergenic <==\r\n",
      "scaffold3_cov83\t208\t210\r\n",
      "scaffold3_cov83\t261\t263\r\n",
      "scaffold3_cov83\t475\t477\r\n",
      "scaffold7_cov100\t6233\t6235\r\n",
      "scaffold7_cov100\t12652\t12654\r\n",
      "scaffold7_cov100\t12662\t12664\r\n",
      "scaffold7_cov100\t12675\t12677\r\n",
      "scaffold7_cov100\t12683\t12685\r\n",
      "scaffold7_cov100\t12704\t12706\r\n",
      "scaffold7_cov100\t12726\t12728\r\n",
      "\r\n",
      "==> Meth8_R1_001_val_1_bismark_bt2_pe._5x.bedgraph-sparseMeth.bed-paIntergenic <==\r\n",
      "scaffold3_cov83\t484\t486\r\n",
      "scaffold3_cov83\t504\t506\r\n",
      "scaffold7_cov100\t6231\t6233\r\n",
      "scaffold7_cov100\t12131\t12133\r\n",
      "scaffold7_cov100\t12247\t12249\r\n",
      "scaffold7_cov100\t12861\t12863\r\n",
      "scaffold7_cov100\t24494\t24496\r\n",
      "scaffold7_cov100\t24830\t24832\r\n",
      "scaffold7_cov100\t24895\t24897\r\n",
      "scaffold7_cov100\t83540\t83542\r\n",
      "\r\n",
      "==> Meth8_R1_001_val_1_bismark_bt2_pe._5x.bedgraph-unMeth.bed-paIntergenic <==\r\n",
      "scaffold3_cov83\t243\t245\r\n",
      "scaffold7_cov100\t12587\t12589\r\n",
      "scaffold7_cov100\t13038\t13040\r\n",
      "scaffold7_cov100\t24617\t24619\r\n",
      "scaffold7_cov100\t24690\t24692\r\n",
      "scaffold7_cov100\t83512\t83514\r\n",
      "scaffold7_cov100\t83535\t83537\r\n",
      "scaffold7_cov100\t83538\t83540\r\n",
      "scaffold7_cov100\t83552\t83554\r\n",
      "scaffold7_cov100\t83554\t83556\r\n",
      "\r\n",
      "==> Meth8_R1_001_val_1_bismark_bt2_pe._5x.bedgraph.bed-paIntergenic <==\r\n",
      "scaffold3_cov83\t208\t210\r\n",
      "scaffold3_cov83\t243\t245\r\n",
      "scaffold3_cov83\t261\t263\r\n",
      "scaffold3_cov83\t475\t477\r\n",
      "scaffold3_cov83\t484\t486\r\n",
      "scaffold3_cov83\t504\t506\r\n",
      "scaffold7_cov100\t6231\t6233\r\n",
      "scaffold7_cov100\t6233\t6235\r\n",
      "scaffold7_cov100\t12131\t12133\r\n",
      "scaffold7_cov100\t12247\t12249\r\n",
      "\r\n",
      "==> Meth9_R1_001_val_1_bismark_bt2_pe._5x.bedgraph-Meth.bed-paIntergenic <==\r\n",
      "scaffold7_cov100\t6231\t6233\r\n",
      "scaffold7_cov100\t6233\t6235\r\n",
      "scaffold7_cov100\t11815\t11817\r\n",
      "scaffold7_cov100\t12652\t12654\r\n",
      "scaffold7_cov100\t12662\t12664\r\n",
      "scaffold7_cov100\t12675\t12677\r\n",
      "scaffold7_cov100\t12704\t12706\r\n",
      "scaffold7_cov100\t12726\t12728\r\n",
      "scaffold7_cov100\t12857\t12859\r\n",
      "scaffold7_cov100\t19284\t19286\r\n",
      "\r\n",
      "==> Meth9_R1_001_val_1_bismark_bt2_pe._5x.bedgraph-sparseMeth.bed-paIntergenic <==\r\n",
      "scaffold3_cov83\t118\t120\r\n",
      "scaffold3_cov83\t130\t132\r\n",
      "scaffold3_cov83\t137\t139\r\n",
      "scaffold3_cov83\t189\t191\r\n",
      "scaffold3_cov83\t208\t210\r\n",
      "scaffold3_cov83\t261\t263\r\n",
      "scaffold3_cov83\t475\t477\r\n",
      "scaffold3_cov83\t484\t486\r\n",
      "scaffold7_cov100\t12587\t12589\r\n",
      "scaffold7_cov100\t12683\t12685\r\n",
      "\r\n",
      "==> Meth9_R1_001_val_1_bismark_bt2_pe._5x.bedgraph-unMeth.bed-paIntergenic <==\r\n",
      "scaffold3_cov83\t243\t245\r\n",
      "scaffold6_cov64\t5797\t5799\r\n",
      "scaffold6_cov64\t5800\t5802\r\n",
      "scaffold6_cov64\t6751\t6753\r\n",
      "scaffold6_cov64\t6805\t6807\r\n",
      "scaffold6_cov64\t6813\t6815\r\n",
      "scaffold6_cov64\t6862\t6864\r\n",
      "scaffold6_cov64\t6880\t6882\r\n",
      "scaffold6_cov64\t6885\t6887\r\n",
      "scaffold6_cov64\t6909\t6911\r\n",
      "\r\n",
      "==> Meth9_R1_001_val_1_bismark_bt2_pe._5x.bedgraph.bed-paIntergenic <==\r\n",
      "scaffold3_cov83\t118\t120\r\n",
      "scaffold3_cov83\t130\t132\r\n",
      "scaffold3_cov83\t137\t139\r\n",
      "scaffold3_cov83\t189\t191\r\n",
      "scaffold3_cov83\t208\t210\r\n",
      "scaffold3_cov83\t243\t245\r\n",
      "scaffold3_cov83\t261\t263\r\n",
      "scaffold3_cov83\t475\t477\r\n",
      "scaffold3_cov83\t484\t486\r\n",
      "scaffold6_cov64\t5797\t5799\r\n"
     ]
    }
   ],
   "source": [
    "#Check output\n",
    "!head *paIntergenic"
   ]
  },
  {
   "cell_type": "code",
   "execution_count": 68,
   "metadata": {
    "collapsed": false,
    "scrolled": false
   },
   "outputs": [
    {
     "name": "stdout",
     "output_type": "stream",
     "text": [
      "   36461 Meth1_R1_001_val_1_bismark_bt2_pe._5x.bedgraph-Meth.bed-paIntergenic\n",
      "  209781 Meth1_R1_001_val_1_bismark_bt2_pe._5x.bedgraph-sparseMeth.bed-paIntergenic\n",
      " 2834593 Meth1_R1_001_val_1_bismark_bt2_pe._5x.bedgraph-unMeth.bed-paIntergenic\n",
      " 3080835 Meth1_R1_001_val_1_bismark_bt2_pe._5x.bedgraph.bed-paIntergenic\n",
      "   40642 Meth2_R1_001_val_1_bismark_bt2_pe._5x.bedgraph-Meth.bed-paIntergenic\n",
      "  201712 Meth2_R1_001_val_1_bismark_bt2_pe._5x.bedgraph-sparseMeth.bed-paIntergenic\n",
      " 3356494 Meth2_R1_001_val_1_bismark_bt2_pe._5x.bedgraph-unMeth.bed-paIntergenic\n",
      " 3598848 Meth2_R1_001_val_1_bismark_bt2_pe._5x.bedgraph.bed-paIntergenic\n",
      "   42507 Meth3_R1_001_val_1_bismark_bt2_pe._5x.bedgraph-Meth.bed-paIntergenic\n",
      "  223666 Meth3_R1_001_val_1_bismark_bt2_pe._5x.bedgraph-sparseMeth.bed-paIntergenic\n",
      " 3014184 Meth3_R1_001_val_1_bismark_bt2_pe._5x.bedgraph-unMeth.bed-paIntergenic\n",
      " 3280357 Meth3_R1_001_val_1_bismark_bt2_pe._5x.bedgraph.bed-paIntergenic\n",
      "   17473 Meth4_R1_001_val_1_bismark_bt2_pe._5x.bedgraph-Meth.bed-paIntergenic\n",
      "   81473 Meth4_R1_001_val_1_bismark_bt2_pe._5x.bedgraph-sparseMeth.bed-paIntergenic\n",
      "  961116 Meth4_R1_001_val_1_bismark_bt2_pe._5x.bedgraph-unMeth.bed-paIntergenic\n",
      " 1060062 Meth4_R1_001_val_1_bismark_bt2_pe._5x.bedgraph.bed-paIntergenic\n",
      "   17581 Meth5_R1_001_val_1_bismark_bt2_pe._5x.bedgraph-Meth.bed-paIntergenic\n",
      "   38900 Meth5_R1_001_val_1_bismark_bt2_pe._5x.bedgraph-sparseMeth.bed-paIntergenic\n",
      "  788028 Meth5_R1_001_val_1_bismark_bt2_pe._5x.bedgraph-unMeth.bed-paIntergenic\n",
      "  844509 Meth5_R1_001_val_1_bismark_bt2_pe._5x.bedgraph.bed-paIntergenic\n",
      "   15232 Meth6_R1_001_val_1_bismark_bt2_pe._5x.bedgraph-Meth.bed-paIntergenic\n",
      "   53637 Meth6_R1_001_val_1_bismark_bt2_pe._5x.bedgraph-sparseMeth.bed-paIntergenic\n",
      "  809397 Meth6_R1_001_val_1_bismark_bt2_pe._5x.bedgraph-unMeth.bed-paIntergenic\n",
      "  878266 Meth6_R1_001_val_1_bismark_bt2_pe._5x.bedgraph.bed-paIntergenic\n",
      "  140057 Meth7_R1_001_val_1_bismark_bt2_pe._5x.bedgraph-Meth.bed-paIntergenic\n",
      "  175668 Meth7_R1_001_val_1_bismark_bt2_pe._5x.bedgraph-sparseMeth.bed-paIntergenic\n",
      " 1071898 Meth7_R1_001_val_1_bismark_bt2_pe._5x.bedgraph-unMeth.bed-paIntergenic\n",
      " 1387623 Meth7_R1_001_val_1_bismark_bt2_pe._5x.bedgraph.bed-paIntergenic\n",
      "  127376 Meth8_R1_001_val_1_bismark_bt2_pe._5x.bedgraph-Meth.bed-paIntergenic\n",
      "   52215 Meth8_R1_001_val_1_bismark_bt2_pe._5x.bedgraph-sparseMeth.bed-paIntergenic\n",
      "  139534 Meth8_R1_001_val_1_bismark_bt2_pe._5x.bedgraph-unMeth.bed-paIntergenic\n",
      "  319125 Meth8_R1_001_val_1_bismark_bt2_pe._5x.bedgraph.bed-paIntergenic\n",
      "  129949 Meth9_R1_001_val_1_bismark_bt2_pe._5x.bedgraph-Meth.bed-paIntergenic\n",
      "  198940 Meth9_R1_001_val_1_bismark_bt2_pe._5x.bedgraph-sparseMeth.bed-paIntergenic\n",
      " 1122964 Meth9_R1_001_val_1_bismark_bt2_pe._5x.bedgraph-unMeth.bed-paIntergenic\n",
      " 1451853 Meth9_R1_001_val_1_bismark_bt2_pe._5x.bedgraph.bed-paIntergenic\n",
      " 31802956 total\n"
     ]
    }
   ],
   "source": [
    "#Count number of overlaps\n",
    "!wc -l *paIntergenic"
   ]
  },
  {
   "cell_type": "code",
   "execution_count": 25,
   "metadata": {
    "collapsed": true
   },
   "outputs": [],
   "source": [
    "!wc -l *paIntergenic > Pact-5x-paIntergenic-counts.txt"
   ]
  },
  {
   "cell_type": "code",
   "execution_count": null,
   "metadata": {
    "collapsed": true
   },
   "outputs": [],
   "source": []
  }
 ],
 "metadata": {
  "anaconda-cloud": {},
  "kernelspec": {
   "display_name": "Python [default]",
   "language": "python",
   "name": "python3"
  },
  "language_info": {
   "codemirror_mode": {
    "name": "ipython",
    "version": 3
   },
   "file_extension": ".py",
   "mimetype": "text/x-python",
   "name": "python",
   "nbconvert_exporter": "python",
   "pygments_lexer": "ipython3",
   "version": "3.5.2"
  }
 },
 "nbformat": 4,
 "nbformat_minor": 2
}
