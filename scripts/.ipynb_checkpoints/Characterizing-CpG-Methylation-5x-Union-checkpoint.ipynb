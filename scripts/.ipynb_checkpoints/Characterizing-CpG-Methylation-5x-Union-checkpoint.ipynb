{
 "cells": [
  {
   "cell_type": "markdown",
   "metadata": {},
   "source": [
    "# Characterizing CpG Methylation (union bedgraphs with 5x data)\n",
    "\n",
    "In this notebook, general methylation landscapes in *Montipora capitata* and *Pocillopora acuta* will be characterized based on WGSB, RRBS, and MBD-BSseq data. I will also assess CG motif overlaps with various genome feature tracks to understand where methylation may occur across the genome. I will use [union bedgraphs](https://gannet.fish.washington.edu/seashell/bu-github/Meth_Compare/analyses/10-unionbedg/) with 5x data.\n",
    "\n",
    "1. Download union bedgraphs and format for downstream analyses\n",
    "2. Characterize methylation for each CpG dinucleotide\n",
    "3. Characterize genomic locations of methylated CpGs, sparsely methylated CpGs, and unmethylated CpGs for each sequencing type"
   ]
  },
  {
   "cell_type": "markdown",
   "metadata": {},
   "source": [
    "## 0. Set working directory and install programs"
   ]
  },
  {
   "cell_type": "code",
   "execution_count": 1,
   "metadata": {
    "collapsed": false
   },
   "outputs": [
    {
     "name": "stdout",
     "output_type": "stream",
     "text": [
      "/Users/yaamini/Documents/Meth_Compare/scripts\r\n"
     ]
    }
   ],
   "source": [
    "!pwd"
   ]
  },
  {
   "cell_type": "code",
   "execution_count": 2,
   "metadata": {
    "collapsed": false
   },
   "outputs": [
    {
     "name": "stdout",
     "output_type": "stream",
     "text": [
      "/Users/yaamini/Documents/Meth_Compare/analyses\n"
     ]
    }
   ],
   "source": [
    "cd ../analyses/"
   ]
  },
  {
   "cell_type": "code",
   "execution_count": 3,
   "metadata": {
    "collapsed": false
   },
   "outputs": [
    {
     "name": "stdout",
     "output_type": "stream",
     "text": [
      "mkdir: Characterizing-CpG-Methylation-5x-Union: File exists\r\n"
     ]
    }
   ],
   "source": [
    "#!mkdir Characterizing-CpG-Methylation-5x-Union"
   ]
  },
  {
   "cell_type": "code",
   "execution_count": 4,
   "metadata": {
    "collapsed": false,
    "scrolled": true
   },
   "outputs": [
    {
     "name": "stdout",
     "output_type": "stream",
     "text": [
      "/Users/yaamini/Documents/Meth_Compare/analyses/Characterizing-CpG-Methylation-5x-Union\n"
     ]
    }
   ],
   "source": [
    "cd Characterizing-CpG-Methylation-5x-Union/"
   ]
  },
  {
   "cell_type": "code",
   "execution_count": 5,
   "metadata": {
    "collapsed": false
   },
   "outputs": [
    {
     "name": "stdout",
     "output_type": "stream",
     "text": [
      "0.18.1\n"
     ]
    }
   ],
   "source": [
    "#Install pandas for this notebook\n",
    "import pandas as pd\n",
    "print(pd.__version__)"
   ]
  },
  {
   "cell_type": "markdown",
   "metadata": {},
   "source": [
    "## *M. capitata*"
   ]
  },
  {
   "cell_type": "code",
   "execution_count": 6,
   "metadata": {
    "collapsed": true
   },
   "outputs": [],
   "source": [
    "#Make a directory for Mcap output\n",
    "!mkdir Mcap"
   ]
  },
  {
   "cell_type": "code",
   "execution_count": 7,
   "metadata": {
    "collapsed": false,
    "scrolled": true
   },
   "outputs": [
    {
     "name": "stdout",
     "output_type": "stream",
     "text": [
      "/Users/yaamini/Documents/Meth_Compare/analyses/Characterizing-CpG-Methylation-5x-Union/Mcap\n"
     ]
    }
   ],
   "source": [
    "cd Mcap/"
   ]
  },
  {
   "cell_type": "markdown",
   "metadata": {},
   "source": [
    "### 1. Format data"
   ]
  },
  {
   "cell_type": "markdown",
   "metadata": {},
   "source": [
    "#### 1a. Download bedgraph"
   ]
  },
  {
   "cell_type": "code",
   "execution_count": 8,
   "metadata": {
    "collapsed": false,
    "scrolled": true
   },
   "outputs": [
    {
     "name": "stdout",
     "output_type": "stream",
     "text": [
      "--2020-05-19 21:52:34--  https://gannet.fish.washington.edu/seashell/bu-github/Meth_Compare/analyses/10-unionbedg/Mcap_union_5x.bedgraph\n",
      "Resolving gannet.fish.washington.edu (gannet.fish.washington.edu)... 128.95.149.52\n",
      "Connecting to gannet.fish.washington.edu (gannet.fish.washington.edu)|128.95.149.52|:443... connected.\n",
      "HTTP request sent, awaiting response... 200 OK\n",
      "Length: 862402537 (822M)\n",
      "Saving to: ‘Mcap_union_5x.bedgraph’\n",
      "\n",
      "Mcap_union_5x.bedgr 100%[===================>] 822.45M  90.9MB/s    in 10s     \n",
      "\n",
      "2020-05-19 21:52:45 (81.3 MB/s) - ‘Mcap_union_5x.bedgraph’ saved [862402537/862402537]\n",
      "\n"
     ]
    }
   ],
   "source": [
    "#Download Mcap 5x union bedgraph\n",
    "!wget https://gannet.fish.washington.edu/seashell/bu-github/Meth_Compare/analyses/10-unionbedg/Mcap_union_5x.bedgraph"
   ]
  },
  {
   "cell_type": "code",
   "execution_count": 9,
   "metadata": {
    "collapsed": false,
    "scrolled": false
   },
   "outputs": [
    {
     "name": "stdout",
     "output_type": "stream",
     "text": [
      "3043\t18674\t18676\t12.500000\tN/A\t0.000000\tN/A\tN/A\tN/A\tN/A\tN/A\tN/A\r\n",
      "3043\t18688\t18690\t7.692308\t0.000000\t0.000000\tN/A\tN/A\tN/A\tN/A\t0.000000\tN/A\r\n",
      "3043\t18720\t18722\t8.333333\t0.000000\t0.000000\tN/A\tN/A\tN/A\tN/A\t0.000000\t0.000000\r\n",
      "3043\t18734\t18736\t8.333333\t0.000000\t0.000000\tN/A\tN/A\tN/A\tN/A\tN/A\t0.000000\r\n",
      "3043\t18740\t18742\t0.000000\t0.000000\t0.000000\tN/A\tN/A\tN/A\tN/A\tN/A\t0.000000\r\n",
      "3043\t18755\t18757\t11.111111\t0.000000\t0.000000\tN/A\tN/A\tN/A\tN/A\tN/A\t0.000000\r\n",
      "3043\t18784\t18786\t20.000000\t0.000000\t0.000000\tN/A\tN/A\tN/A\tN/A\t0.000000\t0.000000\r\n",
      "3043\t18801\t18803\t0.000000\t0.000000\t0.000000\tN/A\tN/A\tN/A\tN/A\t0.000000\t0.000000\r\n",
      "3043\t18822\t18824\tN/A\t0.000000\t0.000000\tN/A\tN/A\tN/A\tN/A\t0.000000\tN/A\r\n",
      "3043\t18827\t18829\tN/A\t0.000000\t0.000000\tN/A\tN/A\tN/A\tN/A\t0.000000\tN/A\r\n"
     ]
    }
   ],
   "source": [
    "#Check downloaded file\n",
    "#WGBS: 10-12\n",
    "#RRBS: 14-16\n",
    "#MBD-BS: 16-18\n",
    "!tail Mcap_union_5x.bedgraph"
   ]
  },
  {
   "cell_type": "markdown",
   "metadata": {},
   "source": [
    "#### 1b. Manipulate with `pandas`"
   ]
  },
  {
   "cell_type": "code",
   "execution_count": 10,
   "metadata": {
    "collapsed": false
   },
   "outputs": [
    {
     "data": {
      "text/html": [
       "<div>\n",
       "<table border=\"1\" class=\"dataframe\">\n",
       "  <thead>\n",
       "    <tr style=\"text-align: right;\">\n",
       "      <th></th>\n",
       "      <th>chrom</th>\n",
       "      <th>start</th>\n",
       "      <th>end</th>\n",
       "      <th>10</th>\n",
       "      <th>11</th>\n",
       "      <th>12</th>\n",
       "      <th>13</th>\n",
       "      <th>14</th>\n",
       "      <th>15</th>\n",
       "      <th>16</th>\n",
       "      <th>17</th>\n",
       "      <th>18</th>\n",
       "    </tr>\n",
       "  </thead>\n",
       "  <tbody>\n",
       "    <tr>\n",
       "      <th>0</th>\n",
       "      <td>1</td>\n",
       "      <td>3493</td>\n",
       "      <td>3495</td>\n",
       "      <td>NaN</td>\n",
       "      <td>NaN</td>\n",
       "      <td>NaN</td>\n",
       "      <td>0.0</td>\n",
       "      <td>NaN</td>\n",
       "      <td>0.000000</td>\n",
       "      <td>NaN</td>\n",
       "      <td>NaN</td>\n",
       "      <td>NaN</td>\n",
       "    </tr>\n",
       "    <tr>\n",
       "      <th>1</th>\n",
       "      <td>1</td>\n",
       "      <td>3518</td>\n",
       "      <td>3520</td>\n",
       "      <td>NaN</td>\n",
       "      <td>NaN</td>\n",
       "      <td>NaN</td>\n",
       "      <td>0.0</td>\n",
       "      <td>NaN</td>\n",
       "      <td>0.000000</td>\n",
       "      <td>NaN</td>\n",
       "      <td>NaN</td>\n",
       "      <td>NaN</td>\n",
       "    </tr>\n",
       "    <tr>\n",
       "      <th>2</th>\n",
       "      <td>1</td>\n",
       "      <td>3727</td>\n",
       "      <td>3729</td>\n",
       "      <td>NaN</td>\n",
       "      <td>NaN</td>\n",
       "      <td>NaN</td>\n",
       "      <td>0.0</td>\n",
       "      <td>0.0</td>\n",
       "      <td>8.695652</td>\n",
       "      <td>NaN</td>\n",
       "      <td>NaN</td>\n",
       "      <td>NaN</td>\n",
       "    </tr>\n",
       "    <tr>\n",
       "      <th>3</th>\n",
       "      <td>1</td>\n",
       "      <td>3752</td>\n",
       "      <td>3754</td>\n",
       "      <td>NaN</td>\n",
       "      <td>NaN</td>\n",
       "      <td>NaN</td>\n",
       "      <td>0.0</td>\n",
       "      <td>0.0</td>\n",
       "      <td>0.000000</td>\n",
       "      <td>NaN</td>\n",
       "      <td>NaN</td>\n",
       "      <td>NaN</td>\n",
       "    </tr>\n",
       "    <tr>\n",
       "      <th>4</th>\n",
       "      <td>1</td>\n",
       "      <td>3757</td>\n",
       "      <td>3759</td>\n",
       "      <td>NaN</td>\n",
       "      <td>NaN</td>\n",
       "      <td>NaN</td>\n",
       "      <td>0.0</td>\n",
       "      <td>0.0</td>\n",
       "      <td>0.000000</td>\n",
       "      <td>NaN</td>\n",
       "      <td>NaN</td>\n",
       "      <td>NaN</td>\n",
       "    </tr>\n",
       "  </tbody>\n",
       "</table>\n",
       "</div>"
      ],
      "text/plain": [
       "   chrom  start   end  10  11  12   13   14        15  16  17  18\n",
       "0      1   3493  3495 NaN NaN NaN  0.0  NaN  0.000000 NaN NaN NaN\n",
       "1      1   3518  3520 NaN NaN NaN  0.0  NaN  0.000000 NaN NaN NaN\n",
       "2      1   3727  3729 NaN NaN NaN  0.0  0.0  8.695652 NaN NaN NaN\n",
       "3      1   3752  3754 NaN NaN NaN  0.0  0.0  0.000000 NaN NaN NaN\n",
       "4      1   3757  3759 NaN NaN NaN  0.0  0.0  0.000000 NaN NaN NaN"
      ]
     },
     "execution_count": 10,
     "metadata": {},
     "output_type": "execute_result"
    }
   ],
   "source": [
    "#Import union data into pandas\n",
    "#Check head\n",
    "df = pd.read_table(\"Mcap_union_5x.bedgraph\")\n",
    "df.head(5)"
   ]
  },
  {
   "cell_type": "code",
   "execution_count": 11,
   "metadata": {
    "collapsed": false,
    "scrolled": false
   },
   "outputs": [
    {
     "data": {
      "text/html": [
       "<div>\n",
       "<table border=\"1\" class=\"dataframe\">\n",
       "  <thead>\n",
       "    <tr style=\"text-align: right;\">\n",
       "      <th></th>\n",
       "      <th>chrom</th>\n",
       "      <th>start</th>\n",
       "      <th>end</th>\n",
       "      <th>10</th>\n",
       "      <th>11</th>\n",
       "      <th>12</th>\n",
       "      <th>13</th>\n",
       "      <th>14</th>\n",
       "      <th>15</th>\n",
       "      <th>16</th>\n",
       "      <th>17</th>\n",
       "      <th>18</th>\n",
       "      <th>WGBS</th>\n",
       "      <th>RRBS</th>\n",
       "      <th>MBD-BS</th>\n",
       "    </tr>\n",
       "  </thead>\n",
       "  <tbody>\n",
       "    <tr>\n",
       "      <th>13340258</th>\n",
       "      <td>3043</td>\n",
       "      <td>18674</td>\n",
       "      <td>18676</td>\n",
       "      <td>12.500000</td>\n",
       "      <td>NaN</td>\n",
       "      <td>0.0</td>\n",
       "      <td>NaN</td>\n",
       "      <td>NaN</td>\n",
       "      <td>NaN</td>\n",
       "      <td>NaN</td>\n",
       "      <td>NaN</td>\n",
       "      <td>NaN</td>\n",
       "      <td>6.250000</td>\n",
       "      <td>NaN</td>\n",
       "      <td>NaN</td>\n",
       "    </tr>\n",
       "    <tr>\n",
       "      <th>13340259</th>\n",
       "      <td>3043</td>\n",
       "      <td>18688</td>\n",
       "      <td>18690</td>\n",
       "      <td>7.692308</td>\n",
       "      <td>0.0</td>\n",
       "      <td>0.0</td>\n",
       "      <td>NaN</td>\n",
       "      <td>NaN</td>\n",
       "      <td>NaN</td>\n",
       "      <td>NaN</td>\n",
       "      <td>0.0</td>\n",
       "      <td>NaN</td>\n",
       "      <td>2.564103</td>\n",
       "      <td>NaN</td>\n",
       "      <td>0.0</td>\n",
       "    </tr>\n",
       "    <tr>\n",
       "      <th>13340260</th>\n",
       "      <td>3043</td>\n",
       "      <td>18720</td>\n",
       "      <td>18722</td>\n",
       "      <td>8.333333</td>\n",
       "      <td>0.0</td>\n",
       "      <td>0.0</td>\n",
       "      <td>NaN</td>\n",
       "      <td>NaN</td>\n",
       "      <td>NaN</td>\n",
       "      <td>NaN</td>\n",
       "      <td>0.0</td>\n",
       "      <td>0.0</td>\n",
       "      <td>2.777778</td>\n",
       "      <td>NaN</td>\n",
       "      <td>0.0</td>\n",
       "    </tr>\n",
       "    <tr>\n",
       "      <th>13340261</th>\n",
       "      <td>3043</td>\n",
       "      <td>18734</td>\n",
       "      <td>18736</td>\n",
       "      <td>8.333333</td>\n",
       "      <td>0.0</td>\n",
       "      <td>0.0</td>\n",
       "      <td>NaN</td>\n",
       "      <td>NaN</td>\n",
       "      <td>NaN</td>\n",
       "      <td>NaN</td>\n",
       "      <td>NaN</td>\n",
       "      <td>0.0</td>\n",
       "      <td>2.777778</td>\n",
       "      <td>NaN</td>\n",
       "      <td>0.0</td>\n",
       "    </tr>\n",
       "    <tr>\n",
       "      <th>13340262</th>\n",
       "      <td>3043</td>\n",
       "      <td>18740</td>\n",
       "      <td>18742</td>\n",
       "      <td>0.000000</td>\n",
       "      <td>0.0</td>\n",
       "      <td>0.0</td>\n",
       "      <td>NaN</td>\n",
       "      <td>NaN</td>\n",
       "      <td>NaN</td>\n",
       "      <td>NaN</td>\n",
       "      <td>NaN</td>\n",
       "      <td>0.0</td>\n",
       "      <td>0.000000</td>\n",
       "      <td>NaN</td>\n",
       "      <td>0.0</td>\n",
       "    </tr>\n",
       "    <tr>\n",
       "      <th>13340263</th>\n",
       "      <td>3043</td>\n",
       "      <td>18755</td>\n",
       "      <td>18757</td>\n",
       "      <td>11.111111</td>\n",
       "      <td>0.0</td>\n",
       "      <td>0.0</td>\n",
       "      <td>NaN</td>\n",
       "      <td>NaN</td>\n",
       "      <td>NaN</td>\n",
       "      <td>NaN</td>\n",
       "      <td>NaN</td>\n",
       "      <td>0.0</td>\n",
       "      <td>3.703704</td>\n",
       "      <td>NaN</td>\n",
       "      <td>0.0</td>\n",
       "    </tr>\n",
       "    <tr>\n",
       "      <th>13340264</th>\n",
       "      <td>3043</td>\n",
       "      <td>18784</td>\n",
       "      <td>18786</td>\n",
       "      <td>20.000000</td>\n",
       "      <td>0.0</td>\n",
       "      <td>0.0</td>\n",
       "      <td>NaN</td>\n",
       "      <td>NaN</td>\n",
       "      <td>NaN</td>\n",
       "      <td>NaN</td>\n",
       "      <td>0.0</td>\n",
       "      <td>0.0</td>\n",
       "      <td>6.666667</td>\n",
       "      <td>NaN</td>\n",
       "      <td>0.0</td>\n",
       "    </tr>\n",
       "    <tr>\n",
       "      <th>13340265</th>\n",
       "      <td>3043</td>\n",
       "      <td>18801</td>\n",
       "      <td>18803</td>\n",
       "      <td>0.000000</td>\n",
       "      <td>0.0</td>\n",
       "      <td>0.0</td>\n",
       "      <td>NaN</td>\n",
       "      <td>NaN</td>\n",
       "      <td>NaN</td>\n",
       "      <td>NaN</td>\n",
       "      <td>0.0</td>\n",
       "      <td>0.0</td>\n",
       "      <td>0.000000</td>\n",
       "      <td>NaN</td>\n",
       "      <td>0.0</td>\n",
       "    </tr>\n",
       "    <tr>\n",
       "      <th>13340266</th>\n",
       "      <td>3043</td>\n",
       "      <td>18822</td>\n",
       "      <td>18824</td>\n",
       "      <td>NaN</td>\n",
       "      <td>0.0</td>\n",
       "      <td>0.0</td>\n",
       "      <td>NaN</td>\n",
       "      <td>NaN</td>\n",
       "      <td>NaN</td>\n",
       "      <td>NaN</td>\n",
       "      <td>0.0</td>\n",
       "      <td>NaN</td>\n",
       "      <td>0.000000</td>\n",
       "      <td>NaN</td>\n",
       "      <td>0.0</td>\n",
       "    </tr>\n",
       "    <tr>\n",
       "      <th>13340267</th>\n",
       "      <td>3043</td>\n",
       "      <td>18827</td>\n",
       "      <td>18829</td>\n",
       "      <td>NaN</td>\n",
       "      <td>0.0</td>\n",
       "      <td>0.0</td>\n",
       "      <td>NaN</td>\n",
       "      <td>NaN</td>\n",
       "      <td>NaN</td>\n",
       "      <td>NaN</td>\n",
       "      <td>0.0</td>\n",
       "      <td>NaN</td>\n",
       "      <td>0.000000</td>\n",
       "      <td>NaN</td>\n",
       "      <td>0.0</td>\n",
       "    </tr>\n",
       "  </tbody>\n",
       "</table>\n",
       "</div>"
      ],
      "text/plain": [
       "          chrom  start    end         10   11   12  13  14  15  16   17   18  \\\n",
       "13340258   3043  18674  18676  12.500000  NaN  0.0 NaN NaN NaN NaN  NaN  NaN   \n",
       "13340259   3043  18688  18690   7.692308  0.0  0.0 NaN NaN NaN NaN  0.0  NaN   \n",
       "13340260   3043  18720  18722   8.333333  0.0  0.0 NaN NaN NaN NaN  0.0  0.0   \n",
       "13340261   3043  18734  18736   8.333333  0.0  0.0 NaN NaN NaN NaN  NaN  0.0   \n",
       "13340262   3043  18740  18742   0.000000  0.0  0.0 NaN NaN NaN NaN  NaN  0.0   \n",
       "13340263   3043  18755  18757  11.111111  0.0  0.0 NaN NaN NaN NaN  NaN  0.0   \n",
       "13340264   3043  18784  18786  20.000000  0.0  0.0 NaN NaN NaN NaN  0.0  0.0   \n",
       "13340265   3043  18801  18803   0.000000  0.0  0.0 NaN NaN NaN NaN  0.0  0.0   \n",
       "13340266   3043  18822  18824        NaN  0.0  0.0 NaN NaN NaN NaN  0.0  NaN   \n",
       "13340267   3043  18827  18829        NaN  0.0  0.0 NaN NaN NaN NaN  0.0  NaN   \n",
       "\n",
       "              WGBS  RRBS  MBD-BS  \n",
       "13340258  6.250000   NaN     NaN  \n",
       "13340259  2.564103   NaN     0.0  \n",
       "13340260  2.777778   NaN     0.0  \n",
       "13340261  2.777778   NaN     0.0  \n",
       "13340262  0.000000   NaN     0.0  \n",
       "13340263  3.703704   NaN     0.0  \n",
       "13340264  6.666667   NaN     0.0  \n",
       "13340265  0.000000   NaN     0.0  \n",
       "13340266  0.000000   NaN     0.0  \n",
       "13340267  0.000000   NaN     0.0  "
      ]
     },
     "execution_count": 11,
     "metadata": {},
     "output_type": "execute_result"
    }
   ],
   "source": [
    "#Average the first three columns for WGBS information and save as a new column\n",
    "#Average the middle three columns for RRBS information and save as a new column\n",
    "#Average the last three columns for MBD-BS information and save as a new column\n",
    "#Check output\n",
    "df['WGBS'] = df[['10', '11', \"12\"]].mean(axis=1)\n",
    "df['RRBS'] = df[['13', '14', \"15\"]].mean(axis=1)\n",
    "df['MBD-BS'] = df[['16', '17', \"18\"]].mean(axis=1)\n",
    "df.tail(10)"
   ]
  },
  {
   "cell_type": "code",
   "execution_count": 12,
   "metadata": {
    "collapsed": false
   },
   "outputs": [],
   "source": [
    "#Save dataframe in a tabular format and include N/As. Do not include quotes.\n",
    "df.to_csv(\"Mcap_union_5x-averages.bedgraph\", sep = \"\\t\", na_rep = \"N/A\", quoting = 3)"
   ]
  },
  {
   "cell_type": "markdown",
   "metadata": {},
   "source": [
    "#### 1c. Separate methods into new bedgraphs"
   ]
  },
  {
   "cell_type": "code",
   "execution_count": 13,
   "metadata": {
    "collapsed": false,
    "scrolled": true
   },
   "outputs": [
    {
     "name": "stdout",
     "output_type": "stream",
     "text": [
      "\tchrom\tstart\tend\t10\t11\t12\t13\t14\t15\t16\t17\t18\tWGBS\tRRBS\tMBD-BS\r\n",
      "0\t1\t3493\t3495\tN/A\tN/A\tN/A\t0.0\tN/A\t0.0\tN/A\tN/A\tN/A\tN/A\t0.0\tN/A\r\n",
      "1\t1\t3518\t3520\tN/A\tN/A\tN/A\t0.0\tN/A\t0.0\tN/A\tN/A\tN/A\tN/A\t0.0\tN/A\r\n",
      "2\t1\t3727\t3729\tN/A\tN/A\tN/A\t0.0\t0.0\t8.695652\tN/A\tN/A\tN/A\tN/A\t2.898550666666667\tN/A\r\n",
      "3\t1\t3752\t3754\tN/A\tN/A\tN/A\t0.0\t0.0\t0.0\tN/A\tN/A\tN/A\tN/A\t0.0\tN/A\r\n",
      "4\t1\t3757\t3759\tN/A\tN/A\tN/A\t0.0\t0.0\t0.0\tN/A\tN/A\tN/A\tN/A\t0.0\tN/A\r\n",
      "5\t1\t3770\t3772\tN/A\tN/A\tN/A\t0.0\t0.0\t0.0\tN/A\tN/A\tN/A\tN/A\t0.0\tN/A\r\n",
      "6\t1\t4062\t4064\tN/A\tN/A\t0.0\tN/A\tN/A\tN/A\tN/A\tN/A\tN/A\t0.0\tN/A\tN/A\r\n",
      "7\t1\t4069\t4071\tN/A\tN/A\t0.0\tN/A\tN/A\tN/A\tN/A\tN/A\tN/A\t0.0\tN/A\tN/A\r\n",
      "8\t1\t4077\t4079\tN/A\tN/A\t0.0\tN/A\tN/A\tN/A\tN/A\tN/A\tN/A\t0.0\tN/A\tN/A\r\n"
     ]
    }
   ],
   "source": [
    "#Check pandas manipulations\n",
    "!head Mcap_union_5x-averages.bedgraph"
   ]
  },
  {
   "cell_type": "code",
   "execution_count": 14,
   "metadata": {
    "collapsed": false
   },
   "outputs": [],
   "source": [
    "#Remove header\n",
    "#Keep chr, start, end, and WGBS average (col 2-4, 13)\n",
    "#Remove rows where the 4th column (average %meth) is N/A\n",
    "#Save file\n",
    "!tail -n +2 Mcap_union_5x-averages.bedgraph \\\n",
    "| awk -F'\\t' -v OFS='\\t' '{print $2, $3, $4, $14}' \\\n",
    "| awk -F'\\t' -v OFS='\\t' '$4 != \"N/A\"' \\\n",
    "> Mcap_union_5x-averages-WGBS.bedgraph"
   ]
  },
  {
   "cell_type": "code",
   "execution_count": 15,
   "metadata": {
    "collapsed": false
   },
   "outputs": [
    {
     "name": "stdout",
     "output_type": "stream",
     "text": [
      "1\t4062\t4064\t0.0\n",
      "1\t4069\t4071\t0.0\n",
      "1\t4077\t4079\t0.0\n",
      "1\t4086\t4088\t0.0\n",
      "1\t4146\t4148\t0.0\n",
      "1\t4150\t4152\t0.0\n",
      "1\t4155\t4157\t0.0\n",
      "1\t4172\t4174\t0.0\n",
      "1\t4184\t4186\t0.0\n",
      "1\t4190\t4192\t16.666667\n",
      " 11509837 Mcap_union_5x-averages-WGBS.bedgraph\n"
     ]
    }
   ],
   "source": [
    "#Check output: chr, start, end, % meth\n",
    "!head Mcap_union_5x-averages-WGBS.bedgraph\n",
    "!wc -l Mcap_union_5x-averages-WGBS.bedgraph"
   ]
  },
  {
   "cell_type": "code",
   "execution_count": 16,
   "metadata": {
    "collapsed": false
   },
   "outputs": [],
   "source": [
    "#Remove header\n",
    "#Keep chr, start, end, and RRBS average\n",
    "#Remove rows where the 4th column (average %meth) is N/A\n",
    "#Save file\n",
    "!tail -n +2 Mcap_union_5x-averages.bedgraph \\\n",
    "| awk -F'\\t' -v OFS='\\t' '{print $2, $3, $4, $15}' \\\n",
    "| awk -F'\\t' -v OFS='\\t' '$4 != \"N/A\"' \\\n",
    "> Mcap_union_5x-averages-RRBS.bedgraph"
   ]
  },
  {
   "cell_type": "code",
   "execution_count": 17,
   "metadata": {
    "collapsed": false,
    "scrolled": true
   },
   "outputs": [
    {
     "name": "stdout",
     "output_type": "stream",
     "text": [
      "1\t3493\t3495\t0.0\n",
      "1\t3518\t3520\t0.0\n",
      "1\t3727\t3729\t2.898550666666667\n",
      "1\t3752\t3754\t0.0\n",
      "1\t3757\t3759\t0.0\n",
      "1\t3770\t3772\t0.0\n",
      "1\t11876\t11878\t0.0\n",
      "1\t11887\t11889\t0.0\n",
      "1\t11894\t11896\t0.0\n",
      "1\t11941\t11943\t0.0\n",
      " 3981450 Mcap_union_5x-averages-RRBS.bedgraph\n"
     ]
    }
   ],
   "source": [
    "#Check output: chr, start, end, % meth\n",
    "!head Mcap_union_5x-averages-RRBS.bedgraph\n",
    "!wc -l Mcap_union_5x-averages-RRBS.bedgraph"
   ]
  },
  {
   "cell_type": "code",
   "execution_count": 18,
   "metadata": {
    "collapsed": false
   },
   "outputs": [],
   "source": [
    "#Remove header\n",
    "#Keep chr, start, end, and MBD-BS average\n",
    "#Remove rows where the 4th column (average %meth) is N/A\n",
    "#Save file\n",
    "!tail -n +2 Mcap_union_5x-averages.bedgraph \\\n",
    "| awk -F'\\t' -v OFS='\\t' '{print $2, $3, $4, $16}' \\\n",
    "| awk -F'\\t' -v OFS='\\t' '$4 != \"N/A\"' \\\n",
    "> Mcap_union_5x-averages-MBDBS.bedgraph"
   ]
  },
  {
   "cell_type": "code",
   "execution_count": 19,
   "metadata": {
    "collapsed": false
   },
   "outputs": [
    {
     "name": "stdout",
     "output_type": "stream",
     "text": [
      "1\t5228\t5230\t0.0\n",
      "1\t5243\t5245\t0.0\n",
      "1\t5247\t5249\t0.0\n",
      "1\t5296\t5298\t0.0\n",
      "1\t8113\t8115\t20.0\n",
      "1\t59438\t59440\t100.0\n",
      "1\t77096\t77098\t0.0\n",
      "1\t77145\t77147\t0.0\n",
      "1\t77151\t77153\t0.0\n",
      "1\t77179\t77181\t0.0\n",
      "  866555 Mcap_union_5x-averages-MBDBS.bedgraph\n"
     ]
    }
   ],
   "source": [
    "#Check output: chr, start, end, % meth\n",
    "!head Mcap_union_5x-averages-MBDBS.bedgraph\n",
    "!wc -l Mcap_union_5x-averages-MBDBS.bedgraph"
   ]
  },
  {
   "cell_type": "code",
   "execution_count": 20,
   "metadata": {
    "collapsed": false
   },
   "outputs": [
    {
     "name": "stdout",
     "output_type": "stream",
     "text": [
      "Mcap_union_5x-averages-MBDBS.bedgraph\r\n",
      "Mcap_union_5x-averages-RRBS.bedgraph\r\n",
      "Mcap_union_5x-averages-WGBS.bedgraph\r\n"
     ]
    }
   ],
   "source": [
    "!find *averages-*bedgraph"
   ]
  },
  {
   "cell_type": "code",
   "execution_count": 21,
   "metadata": {
    "collapsed": true
   },
   "outputs": [],
   "source": [
    "!wc -l *averages-*bedgraph > Mcap_union_5x-averages-counts.txt"
   ]
  },
  {
   "cell_type": "markdown",
   "metadata": {},
   "source": [
    "### 2. Characterize methylation for each CpG dinucleotide\n",
    "\n",
    "- Methylated: > 50% methylation\n",
    "- Sparsely methylated: 10-50% methylation\n",
    "- Unmethylated: < 10% methylation"
   ]
  },
  {
   "cell_type": "markdown",
   "metadata": {},
   "source": [
    "##### Methylated loci"
   ]
  },
  {
   "cell_type": "code",
   "execution_count": 23,
   "metadata": {
    "collapsed": false
   },
   "outputs": [],
   "source": [
    "%%bash\n",
    "for f in *averages-*bedgraph\n",
    "do\n",
    "    awk '{if ($4 >= 50) { print $1, $2, $3, $4 }}' ${f} \\\n",
    "    > ${f}-Meth\n",
    "done"
   ]
  },
  {
   "cell_type": "code",
   "execution_count": 24,
   "metadata": {
    "collapsed": false,
    "scrolled": true
   },
   "outputs": [
    {
     "name": "stdout",
     "output_type": "stream",
     "text": [
      "==> Mcap_union_5x-averages-MBDBS.bedgraph-Meth <==\r\n",
      "1 59438 59440 100.0\r\n",
      "1 106173 106175 100.0\r\n",
      "1 106202 106204 100.0\r\n",
      "1 344031 344033 50.0\r\n",
      "1 344044 344046 60.0\r\n",
      "1 446326 446328 80.0\r\n",
      "1 446344 446346 100.0\r\n",
      "1 446367 446369 100.0\r\n",
      "1 446376 446378 100.0\r\n",
      "1 786125 786127 60.0\r\n",
      "\r\n",
      "==> Mcap_union_5x-averages-RRBS.bedgraph-Meth <==\r\n",
      "1 32228 32230 50.413223\r\n",
      "1 58618 58620 95.65826333333332\r\n",
      "1 58745 58747 96.819728\r\n",
      "1 58764 58766 99.16666666666667\r\n",
      "1 58792 58794 83.42830033333334\r\n",
      "1 66041 66043 100.0\r\n",
      "1 66050 66052 100.0\r\n",
      "1 66339 66341 88.888889\r\n",
      "1 66345 66347 77.777778\r\n",
      "1 66354 66356 77.777778\r\n",
      "\r\n",
      "==> Mcap_union_5x-averages-WGBS.bedgraph-Meth <==\r\n",
      "1 4948 4950 50.0\r\n",
      "1 4967 4969 50.0\r\n",
      "1 4986 4988 50.0\r\n",
      "1 57065 57067 80.0\r\n",
      "1 58609 58611 100.0\r\n",
      "1 58618 58620 100.0\r\n",
      "1 58745 58747 100.0\r\n",
      "1 59207 59209 100.0\r\n",
      "1 59277 59279 100.0\r\n",
      "1 59393 59395 100.0\r\n"
     ]
    }
   ],
   "source": [
    "!head *-Meth"
   ]
  },
  {
   "cell_type": "code",
   "execution_count": 25,
   "metadata": {
    "collapsed": false,
    "scrolled": false
   },
   "outputs": [
    {
     "name": "stdout",
     "output_type": "stream",
     "text": [
      "  148321 Mcap_union_5x-averages-MBDBS.bedgraph-Meth\n",
      "  329361 Mcap_union_5x-averages-RRBS.bedgraph-Meth\n",
      " 1350936 Mcap_union_5x-averages-WGBS.bedgraph-Meth\n",
      " 1828618 total\n"
     ]
    }
   ],
   "source": [
    "!wc -l *-Meth"
   ]
  },
  {
   "cell_type": "code",
   "execution_count": 26,
   "metadata": {
    "collapsed": true
   },
   "outputs": [],
   "source": [
    "!wc -l *-Meth > Mcap_union_5x-Meth-counts.txt"
   ]
  },
  {
   "cell_type": "markdown",
   "metadata": {},
   "source": [
    "##### Sparsely methylated loci"
   ]
  },
  {
   "cell_type": "code",
   "execution_count": 27,
   "metadata": {
    "collapsed": true
   },
   "outputs": [],
   "source": [
    "%%bash\n",
    "for f in *averages-*bedgraph\n",
    "do\n",
    "    awk '{if ($4 < 50) { print $1, $2, $3, $4}}' ${f} \\\n",
    "    | awk '{if ($4 > 10) { print $1, $2, $3, $4 }}' \\\n",
    "    > ${f}-sparseMeth\n",
    "done"
   ]
  },
  {
   "cell_type": "code",
   "execution_count": 28,
   "metadata": {
    "collapsed": false,
    "scrolled": true
   },
   "outputs": [
    {
     "name": "stdout",
     "output_type": "stream",
     "text": [
      "==> Mcap_union_5x-averages-MBDBS.bedgraph-sparseMeth <==\r\n",
      "1 8113 8115 20.0\r\n",
      "1 211907 211909 40.0\r\n",
      "1 217198 217200 14.285714000000002\r\n",
      "1 234158 234160 14.285714000000002\r\n",
      "1 234196 234198 12.5\r\n",
      "1 244563 244565 20.0\r\n",
      "1 269174 269176 16.666667\r\n",
      "1 269178 269180 16.666667\r\n",
      "1 269182 269184 16.666667\r\n",
      "1 277994 277996 16.666667\r\n",
      "\r\n",
      "==> Mcap_union_5x-averages-RRBS.bedgraph-sparseMeth <==\r\n",
      "1 15092 15094 30.0\r\n",
      "1 21739 21741 13.636364000000002\r\n",
      "1 34139 34141 11.764706\r\n",
      "1 42261 42263 10.539216\r\n",
      "1 45163 45165 10.31746\r\n",
      "1 48370 48372 14.285714000000002\r\n",
      "1 87492 87494 33.333333\r\n",
      "1 89011 89013 14.285714000000002\r\n",
      "1 101503 101505 17.380952\r\n",
      "1 101545 101547 23.3333335\r\n",
      "\r\n",
      "==> Mcap_union_5x-averages-WGBS.bedgraph-sparseMeth <==\r\n",
      "1 4190 4192 16.666667\r\n",
      "1 4891 4893 33.333333\r\n",
      "1 4910 4912 28.571429\r\n",
      "1 4929 4931 16.6666665\r\n",
      "1 5005 5007 28.571429\r\n",
      "1 5024 5026 40.0\r\n",
      "1 5151 5153 20.0\r\n",
      "1 5160 5162 16.666667\r\n",
      "1 5228 5230 11.111111\r\n",
      "1 6282 6284 11.111111\r\n"
     ]
    }
   ],
   "source": [
    "!head *-sparseMeth"
   ]
  },
  {
   "cell_type": "code",
   "execution_count": 29,
   "metadata": {
    "collapsed": false,
    "scrolled": false
   },
   "outputs": [
    {
     "name": "stdout",
     "output_type": "stream",
     "text": [
      "  103713 Mcap_union_5x-averages-MBDBS.bedgraph-sparseMeth\r\n",
      "  220277 Mcap_union_5x-averages-RRBS.bedgraph-sparseMeth\r\n",
      " 1155033 Mcap_union_5x-averages-WGBS.bedgraph-sparseMeth\r\n",
      " 1479023 total\r\n"
     ]
    }
   ],
   "source": [
    "!wc -l *-sparseMeth"
   ]
  },
  {
   "cell_type": "code",
   "execution_count": 30,
   "metadata": {
    "collapsed": true
   },
   "outputs": [],
   "source": [
    "!wc -l *-sparseMeth > Mcap_union_5x-sparseMeth-counts.txt"
   ]
  },
  {
   "cell_type": "markdown",
   "metadata": {},
   "source": [
    "##### Unmethylated loci"
   ]
  },
  {
   "cell_type": "code",
   "execution_count": 31,
   "metadata": {
    "collapsed": true
   },
   "outputs": [],
   "source": [
    "%%bash\n",
    "for f in *averages-*bedgraph\n",
    "do\n",
    "    awk '{if ($4 <= 10) { print $1, $2, $3, $4 }}' ${f} \\\n",
    "    > ${f}-unMeth\n",
    "done"
   ]
  },
  {
   "cell_type": "code",
   "execution_count": 32,
   "metadata": {
    "collapsed": false,
    "scrolled": true
   },
   "outputs": [
    {
     "name": "stdout",
     "output_type": "stream",
     "text": [
      "==> Mcap_union_5x-averages-MBDBS.bedgraph-unMeth <==\r\n",
      "1 5228 5230 0.0\r\n",
      "1 5243 5245 0.0\r\n",
      "1 5247 5249 0.0\r\n",
      "1 5296 5298 0.0\r\n",
      "1 77096 77098 0.0\r\n",
      "1 77145 77147 0.0\r\n",
      "1 77151 77153 0.0\r\n",
      "1 77179 77181 0.0\r\n",
      "1 81812 81814 0.0\r\n",
      "1 81817 81819 0.0\r\n",
      "\r\n",
      "==> Mcap_union_5x-averages-RRBS.bedgraph-unMeth <==\r\n",
      "1 3493 3495 0.0\r\n",
      "1 3518 3520 0.0\r\n",
      "1 3727 3729 2.898550666666667\r\n",
      "1 3752 3754 0.0\r\n",
      "1 3757 3759 0.0\r\n",
      "1 3770 3772 0.0\r\n",
      "1 11876 11878 0.0\r\n",
      "1 11887 11889 0.0\r\n",
      "1 11894 11896 0.0\r\n",
      "1 11941 11943 0.0\r\n",
      "\r\n",
      "==> Mcap_union_5x-averages-WGBS.bedgraph-unMeth <==\r\n",
      "1 4062 4064 0.0\r\n",
      "1 4069 4071 0.0\r\n",
      "1 4077 4079 0.0\r\n",
      "1 4086 4088 0.0\r\n",
      "1 4146 4148 0.0\r\n",
      "1 4150 4152 0.0\r\n",
      "1 4155 4157 0.0\r\n",
      "1 4172 4174 0.0\r\n",
      "1 4184 4186 0.0\r\n",
      "1 5043 5045 0.0\r\n"
     ]
    }
   ],
   "source": [
    "!head *-unMeth"
   ]
  },
  {
   "cell_type": "code",
   "execution_count": 33,
   "metadata": {
    "collapsed": false,
    "scrolled": true
   },
   "outputs": [
    {
     "name": "stdout",
     "output_type": "stream",
     "text": [
      "  614521 Mcap_union_5x-averages-MBDBS.bedgraph-unMeth\n",
      " 3431812 Mcap_union_5x-averages-RRBS.bedgraph-unMeth\n",
      " 9003868 Mcap_union_5x-averages-WGBS.bedgraph-unMeth\n",
      " 13050201 total\n"
     ]
    }
   ],
   "source": [
    "!wc -l *-unMeth"
   ]
  },
  {
   "cell_type": "code",
   "execution_count": 34,
   "metadata": {
    "collapsed": true
   },
   "outputs": [],
   "source": [
    "!wc -l *-unMeth > Mcap_union_5x-unMeth-counts.txt"
   ]
  },
  {
   "cell_type": "markdown",
   "metadata": {},
   "source": [
    "### 3. Characterize genomic locations of CpGs"
   ]
  },
  {
   "cell_type": "markdown",
   "metadata": {},
   "source": [
    "#### 3a. Create BEDfiles"
   ]
  },
  {
   "cell_type": "code",
   "execution_count": 35,
   "metadata": {
    "collapsed": false,
    "scrolled": false
   },
   "outputs": [
    {
     "name": "stdout",
     "output_type": "stream",
     "text": [
      "  866555 Mcap_union_5x-averages-MBDBS.bedgraph.bed\n",
      "  148321 Mcap_union_5x-averages-MBDBS.bedgraph-Meth.bed\n",
      "  103713 Mcap_union_5x-averages-MBDBS.bedgraph-sparseMeth.bed\n",
      "  614521 Mcap_union_5x-averages-MBDBS.bedgraph-unMeth.bed\n",
      " 3981450 Mcap_union_5x-averages-RRBS.bedgraph.bed\n",
      "  329361 Mcap_union_5x-averages-RRBS.bedgraph-Meth.bed\n",
      "  220277 Mcap_union_5x-averages-RRBS.bedgraph-sparseMeth.bed\n",
      " 3431812 Mcap_union_5x-averages-RRBS.bedgraph-unMeth.bed\n",
      " 11509837 Mcap_union_5x-averages-WGBS.bedgraph.bed\n",
      " 1350936 Mcap_union_5x-averages-WGBS.bedgraph-Meth.bed\n",
      " 1155033 Mcap_union_5x-averages-WGBS.bedgraph-sparseMeth.bed\n",
      " 9003868 Mcap_union_5x-averages-WGBS.bedgraph-unMeth.bed\n"
     ]
    }
   ],
   "source": [
    "%%bash\n",
    "\n",
    "for f in *averages-*bedgraph*\n",
    "do\n",
    "    awk '{print $1\"\\t\"$2\"\\t\"$3}' ${f} > ${f}.bed\n",
    "    wc -l ${f}.bed\n",
    "done"
   ]
  },
  {
   "cell_type": "code",
   "execution_count": 36,
   "metadata": {
    "collapsed": false,
    "scrolled": false
   },
   "outputs": [
    {
     "name": "stdout",
     "output_type": "stream",
     "text": [
      "1\t5228\t5230\r\n",
      "1\t5243\t5245\r\n",
      "1\t5247\t5249\r\n",
      "1\t5296\t5298\r\n",
      "1\t77096\t77098\r\n",
      "1\t77145\t77147\r\n",
      "1\t77151\t77153\r\n",
      "1\t77179\t77181\r\n",
      "1\t81812\t81814\r\n",
      "1\t81817\t81819\r\n"
     ]
    }
   ],
   "source": [
    "#Confirm file creation\n",
    "!head Mcap_union_5x-averages-MBDBS.bedgraph-unMeth.bed"
   ]
  },
  {
   "cell_type": "markdown",
   "metadata": {},
   "source": [
    "#### 3b. Genes"
   ]
  },
  {
   "cell_type": "code",
   "execution_count": 37,
   "metadata": {
    "collapsed": false,
    "scrolled": true
   },
   "outputs": [],
   "source": [
    "%%bash\n",
    "\n",
    "for f in *bed\n",
    "do\n",
    "  /usr/local/bin/intersectBed \\\n",
    "  -wb \\\n",
    "  -a ${f} \\\n",
    "  -b ../../../genome-feature-files/Mcap.GFFannotation.gene.gff \\\n",
    "  > ${f}-mcGenes\n",
    "done"
   ]
  },
  {
   "cell_type": "code",
   "execution_count": 38,
   "metadata": {
    "collapsed": false,
    "scrolled": true
   },
   "outputs": [
    {
     "name": "stdout",
     "output_type": "stream",
     "text": [
      "==> Mcap_union_5x-averages-MBDBS.bedgraph-Meth.bed-mcGenes <==\r\n",
      "1\t59438\t59440\t1\tAUGUSTUS\tgene\t58322\t62557\t1\t-\t.\tg21535\r\n",
      "1\t106173\t106175\t1\tAUGUSTUS\tgene\t100215\t109729\t0.99\t-\t.\tg21538\r\n",
      "1\t106202\t106204\t1\tAUGUSTUS\tgene\t100215\t109729\t0.99\t-\t.\tg21538\r\n",
      "1\t344031\t344033\t1\tAUGUSTUS\tgene\t332282\t348965\t0.61\t-\t.\tg21555\r\n",
      "1\t344044\t344046\t1\tAUGUSTUS\tgene\t332282\t348965\t0.61\t-\t.\tg21555\r\n",
      "1\t786125\t786127\t1\tAUGUSTUS\tgene\t785899\t786207\t0.98\t-\t.\tg21598\r\n",
      "1\t786144\t786146\t1\tAUGUSTUS\tgene\t785899\t786207\t0.98\t-\t.\tg21598\r\n",
      "1\t786151\t786153\t1\tAUGUSTUS\tgene\t785899\t786207\t0.98\t-\t.\tg21598\r\n",
      "1\t879915\t879917\t1\tAUGUSTUS\tgene\t875739\t924977\t0.37\t+\t.\tg21603\r\n",
      "1\t883893\t883895\t1\tAUGUSTUS\tgene\t875739\t924977\t0.37\t+\t.\tg21603\r\n",
      "\r\n",
      "==> Mcap_union_5x-averages-MBDBS.bedgraph-sparseMeth.bed-mcGenes <==\r\n",
      "1\t323095\t323097\t1\tAUGUSTUS\tgene\t323002\t331686\t1\t-\t.\tg21554\r\n",
      "1\t328382\t328384\t1\tAUGUSTUS\tgene\t323002\t331686\t1\t-\t.\tg21554\r\n",
      "1\t328386\t328388\t1\tAUGUSTUS\tgene\t323002\t331686\t1\t-\t.\tg21554\r\n",
      "1\t330194\t330196\t1\tAUGUSTUS\tgene\t323002\t331686\t1\t-\t.\tg21554\r\n",
      "1\t330197\t330199\t1\tAUGUSTUS\tgene\t323002\t331686\t1\t-\t.\tg21554\r\n",
      "1\t334750\t334752\t1\tAUGUSTUS\tgene\t332282\t348965\t0.61\t-\t.\tg21555\r\n",
      "1\t334782\t334784\t1\tAUGUSTUS\tgene\t332282\t348965\t0.61\t-\t.\tg21555\r\n",
      "1\t341742\t341744\t1\tAUGUSTUS\tgene\t332282\t348965\t0.61\t-\t.\tg21555\r\n",
      "1\t343939\t343941\t1\tAUGUSTUS\tgene\t332282\t348965\t0.61\t-\t.\tg21555\r\n",
      "1\t343962\t343964\t1\tAUGUSTUS\tgene\t332282\t348965\t0.61\t-\t.\tg21555\r\n",
      "\r\n",
      "==> Mcap_union_5x-averages-MBDBS.bedgraph-unMeth.bed-mcGenes <==\r\n",
      "1\t77096\t77098\t1\tAUGUSTUS\tgene\t64466\t84798\t1\t+\t.\tg21536\r\n",
      "1\t77145\t77147\t1\tAUGUSTUS\tgene\t64466\t84798\t1\t+\t.\tg21536\r\n",
      "1\t77151\t77153\t1\tAUGUSTUS\tgene\t64466\t84798\t1\t+\t.\tg21536\r\n",
      "1\t77179\t77181\t1\tAUGUSTUS\tgene\t64466\t84798\t1\t+\t.\tg21536\r\n",
      "1\t81812\t81814\t1\tAUGUSTUS\tgene\t64466\t84798\t1\t+\t.\tg21536\r\n",
      "1\t81817\t81819\t1\tAUGUSTUS\tgene\t64466\t84798\t1\t+\t.\tg21536\r\n",
      "1\t81835\t81837\t1\tAUGUSTUS\tgene\t64466\t84798\t1\t+\t.\tg21536\r\n",
      "1\t81874\t81876\t1\tAUGUSTUS\tgene\t64466\t84798\t1\t+\t.\tg21536\r\n",
      "1\t81887\t81889\t1\tAUGUSTUS\tgene\t64466\t84798\t1\t+\t.\tg21536\r\n",
      "1\t109670\t109672\t1\tAUGUSTUS\tgene\t100215\t109729\t0.99\t-\t.\tg21538\r\n",
      "\r\n",
      "==> Mcap_union_5x-averages-MBDBS.bedgraph.bed-mcGenes <==\r\n",
      "1\t59438\t59440\t1\tAUGUSTUS\tgene\t58322\t62557\t1\t-\t.\tg21535\r\n",
      "1\t77096\t77098\t1\tAUGUSTUS\tgene\t64466\t84798\t1\t+\t.\tg21536\r\n",
      "1\t77145\t77147\t1\tAUGUSTUS\tgene\t64466\t84798\t1\t+\t.\tg21536\r\n",
      "1\t77151\t77153\t1\tAUGUSTUS\tgene\t64466\t84798\t1\t+\t.\tg21536\r\n",
      "1\t77179\t77181\t1\tAUGUSTUS\tgene\t64466\t84798\t1\t+\t.\tg21536\r\n",
      "1\t81812\t81814\t1\tAUGUSTUS\tgene\t64466\t84798\t1\t+\t.\tg21536\r\n",
      "1\t81817\t81819\t1\tAUGUSTUS\tgene\t64466\t84798\t1\t+\t.\tg21536\r\n",
      "1\t81835\t81837\t1\tAUGUSTUS\tgene\t64466\t84798\t1\t+\t.\tg21536\r\n",
      "1\t81874\t81876\t1\tAUGUSTUS\tgene\t64466\t84798\t1\t+\t.\tg21536\r\n",
      "1\t81887\t81889\t1\tAUGUSTUS\tgene\t64466\t84798\t1\t+\t.\tg21536\r\n",
      "\r\n",
      "==> Mcap_union_5x-averages-RRBS.bedgraph-Meth.bed-mcGenes <==\r\n",
      "1\t58618\t58620\t1\tAUGUSTUS\tgene\t58322\t62557\t1\t-\t.\tg21535\r\n",
      "1\t58745\t58747\t1\tAUGUSTUS\tgene\t58322\t62557\t1\t-\t.\tg21535\r\n",
      "1\t58764\t58766\t1\tAUGUSTUS\tgene\t58322\t62557\t1\t-\t.\tg21535\r\n",
      "1\t58792\t58794\t1\tAUGUSTUS\tgene\t58322\t62557\t1\t-\t.\tg21535\r\n",
      "1\t66041\t66043\t1\tAUGUSTUS\tgene\t64466\t84798\t1\t+\t.\tg21536\r\n",
      "1\t66050\t66052\t1\tAUGUSTUS\tgene\t64466\t84798\t1\t+\t.\tg21536\r\n",
      "1\t66339\t66341\t1\tAUGUSTUS\tgene\t64466\t84798\t1\t+\t.\tg21536\r\n",
      "1\t66345\t66347\t1\tAUGUSTUS\tgene\t64466\t84798\t1\t+\t.\tg21536\r\n",
      "1\t66354\t66356\t1\tAUGUSTUS\tgene\t64466\t84798\t1\t+\t.\tg21536\r\n",
      "1\t66400\t66402\t1\tAUGUSTUS\tgene\t64466\t84798\t1\t+\t.\tg21536\r\n",
      "\r\n",
      "==> Mcap_union_5x-averages-RRBS.bedgraph-sparseMeth.bed-mcGenes <==\r\n",
      "1\t42261\t42263\t1\tAUGUSTUS\tgene\t37447\t52266\t1\t+\t.\tg21534\r\n",
      "1\t45163\t45165\t1\tAUGUSTUS\tgene\t37447\t52266\t1\t+\t.\tg21534\r\n",
      "1\t48370\t48372\t1\tAUGUSTUS\tgene\t37447\t52266\t1\t+\t.\tg21534\r\n",
      "1\t89011\t89013\t1\tAUGUSTUS\tgene\t88347\t97184\t1\t+\t.\tg21537\r\n",
      "1\t101503\t101505\t1\tAUGUSTUS\tgene\t100215\t109729\t0.99\t-\t.\tg21538\r\n",
      "1\t101545\t101547\t1\tAUGUSTUS\tgene\t100215\t109729\t0.99\t-\t.\tg21538\r\n",
      "1\t124833\t124835\t1\tAUGUSTUS\tgene\t109867\t128510\t0.89\t+\t.\tg21539\r\n",
      "1\t135853\t135855\t1\tAUGUSTUS\tgene\t132854\t139285\t1\t-\t.\tg21540\r\n",
      "1\t186492\t186494\t1\tAUGUSTUS\tgene\t186182\t186520\t0.68\t+\t.\tg21547\r\n",
      "1\t237958\t237960\t1\tAUGUSTUS\tgene\t237955\t238956\t1\t+\t.\tg21550\r\n",
      "\r\n",
      "==> Mcap_union_5x-averages-RRBS.bedgraph-unMeth.bed-mcGenes <==\r\n",
      "1\t22445\t22447\t1\tAUGUSTUS\tgene\t22321\t27293\t0.23\t-\t.\tg21533\r\n",
      "1\t22505\t22507\t1\tAUGUSTUS\tgene\t22321\t27293\t0.23\t-\t.\tg21533\r\n",
      "1\t22513\t22515\t1\tAUGUSTUS\tgene\t22321\t27293\t0.23\t-\t.\tg21533\r\n",
      "1\t22531\t22533\t1\tAUGUSTUS\tgene\t22321\t27293\t0.23\t-\t.\tg21533\r\n",
      "1\t22534\t22536\t1\tAUGUSTUS\tgene\t22321\t27293\t0.23\t-\t.\tg21533\r\n",
      "1\t22547\t22549\t1\tAUGUSTUS\tgene\t22321\t27293\t0.23\t-\t.\tg21533\r\n",
      "1\t22563\t22565\t1\tAUGUSTUS\tgene\t22321\t27293\t0.23\t-\t.\tg21533\r\n",
      "1\t22575\t22577\t1\tAUGUSTUS\tgene\t22321\t27293\t0.23\t-\t.\tg21533\r\n",
      "1\t23117\t23119\t1\tAUGUSTUS\tgene\t22321\t27293\t0.23\t-\t.\tg21533\r\n",
      "1\t23139\t23141\t1\tAUGUSTUS\tgene\t22321\t27293\t0.23\t-\t.\tg21533\r\n",
      "\r\n",
      "==> Mcap_union_5x-averages-RRBS.bedgraph.bed-mcGenes <==\r\n",
      "1\t22445\t22447\t1\tAUGUSTUS\tgene\t22321\t27293\t0.23\t-\t.\tg21533\r\n",
      "1\t22505\t22507\t1\tAUGUSTUS\tgene\t22321\t27293\t0.23\t-\t.\tg21533\r\n",
      "1\t22513\t22515\t1\tAUGUSTUS\tgene\t22321\t27293\t0.23\t-\t.\tg21533\r\n",
      "1\t22531\t22533\t1\tAUGUSTUS\tgene\t22321\t27293\t0.23\t-\t.\tg21533\r\n",
      "1\t22534\t22536\t1\tAUGUSTUS\tgene\t22321\t27293\t0.23\t-\t.\tg21533\r\n",
      "1\t22547\t22549\t1\tAUGUSTUS\tgene\t22321\t27293\t0.23\t-\t.\tg21533\r\n",
      "1\t22563\t22565\t1\tAUGUSTUS\tgene\t22321\t27293\t0.23\t-\t.\tg21533\r\n",
      "1\t22575\t22577\t1\tAUGUSTUS\tgene\t22321\t27293\t0.23\t-\t.\tg21533\r\n",
      "1\t23117\t23119\t1\tAUGUSTUS\tgene\t22321\t27293\t0.23\t-\t.\tg21533\r\n",
      "1\t23139\t23141\t1\tAUGUSTUS\tgene\t22321\t27293\t0.23\t-\t.\tg21533\r\n",
      "\r\n",
      "==> Mcap_union_5x-averages-WGBS.bedgraph-Meth.bed-mcGenes <==\r\n",
      "1\t58609\t58611\t1\tAUGUSTUS\tgene\t58322\t62557\t1\t-\t.\tg21535\r\n",
      "1\t58618\t58620\t1\tAUGUSTUS\tgene\t58322\t62557\t1\t-\t.\tg21535\r\n",
      "1\t58745\t58747\t1\tAUGUSTUS\tgene\t58322\t62557\t1\t-\t.\tg21535\r\n",
      "1\t59207\t59209\t1\tAUGUSTUS\tgene\t58322\t62557\t1\t-\t.\tg21535\r\n",
      "1\t59277\t59279\t1\tAUGUSTUS\tgene\t58322\t62557\t1\t-\t.\tg21535\r\n",
      "1\t59393\t59395\t1\tAUGUSTUS\tgene\t58322\t62557\t1\t-\t.\tg21535\r\n",
      "1\t59438\t59440\t1\tAUGUSTUS\tgene\t58322\t62557\t1\t-\t.\tg21535\r\n",
      "1\t65972\t65974\t1\tAUGUSTUS\tgene\t64466\t84798\t1\t+\t.\tg21536\r\n",
      "1\t65978\t65980\t1\tAUGUSTUS\tgene\t64466\t84798\t1\t+\t.\tg21536\r\n",
      "1\t66345\t66347\t1\tAUGUSTUS\tgene\t64466\t84798\t1\t+\t.\tg21536\r\n",
      "\r\n",
      "==> Mcap_union_5x-averages-WGBS.bedgraph-sparseMeth.bed-mcGenes <==\r\n",
      "1\t23202\t23204\t1\tAUGUSTUS\tgene\t22321\t27293\t0.23\t-\t.\tg21533\r\n",
      "1\t23382\t23384\t1\tAUGUSTUS\tgene\t22321\t27293\t0.23\t-\t.\tg21533\r\n",
      "1\t23425\t23427\t1\tAUGUSTUS\tgene\t22321\t27293\t0.23\t-\t.\tg21533\r\n",
      "1\t42323\t42325\t1\tAUGUSTUS\tgene\t37447\t52266\t1\t+\t.\tg21534\r\n",
      "1\t45844\t45846\t1\tAUGUSTUS\tgene\t37447\t52266\t1\t+\t.\tg21534\r\n",
      "1\t45913\t45915\t1\tAUGUSTUS\tgene\t37447\t52266\t1\t+\t.\tg21534\r\n",
      "1\t45949\t45951\t1\tAUGUSTUS\tgene\t37447\t52266\t1\t+\t.\tg21534\r\n",
      "1\t46485\t46487\t1\tAUGUSTUS\tgene\t37447\t52266\t1\t+\t.\tg21534\r\n",
      "1\t48831\t48833\t1\tAUGUSTUS\tgene\t37447\t52266\t1\t+\t.\tg21534\r\n",
      "1\t48881\t48883\t1\tAUGUSTUS\tgene\t37447\t52266\t1\t+\t.\tg21534\r\n",
      "\r\n",
      "==> Mcap_union_5x-averages-WGBS.bedgraph-unMeth.bed-mcGenes <==\r\n",
      "1\t23003\t23005\t1\tAUGUSTUS\tgene\t22321\t27293\t0.23\t-\t.\tg21533\r\n",
      "1\t23006\t23008\t1\tAUGUSTUS\tgene\t22321\t27293\t0.23\t-\t.\tg21533\r\n",
      "1\t23019\t23021\t1\tAUGUSTUS\tgene\t22321\t27293\t0.23\t-\t.\tg21533\r\n",
      "1\t23139\t23141\t1\tAUGUSTUS\tgene\t22321\t27293\t0.23\t-\t.\tg21533\r\n",
      "1\t23173\t23175\t1\tAUGUSTUS\tgene\t22321\t27293\t0.23\t-\t.\tg21533\r\n",
      "1\t23326\t23328\t1\tAUGUSTUS\tgene\t22321\t27293\t0.23\t-\t.\tg21533\r\n",
      "1\t23334\t23336\t1\tAUGUSTUS\tgene\t22321\t27293\t0.23\t-\t.\tg21533\r\n",
      "1\t23404\t23406\t1\tAUGUSTUS\tgene\t22321\t27293\t0.23\t-\t.\tg21533\r\n",
      "1\t23445\t23447\t1\tAUGUSTUS\tgene\t22321\t27293\t0.23\t-\t.\tg21533\r\n",
      "1\t37555\t37557\t1\tAUGUSTUS\tgene\t37447\t52266\t1\t+\t.\tg21534\r\n",
      "\r\n",
      "==> Mcap_union_5x-averages-WGBS.bedgraph.bed-mcGenes <==\r\n",
      "1\t23003\t23005\t1\tAUGUSTUS\tgene\t22321\t27293\t0.23\t-\t.\tg21533\r\n",
      "1\t23006\t23008\t1\tAUGUSTUS\tgene\t22321\t27293\t0.23\t-\t.\tg21533\r\n",
      "1\t23019\t23021\t1\tAUGUSTUS\tgene\t22321\t27293\t0.23\t-\t.\tg21533\r\n",
      "1\t23139\t23141\t1\tAUGUSTUS\tgene\t22321\t27293\t0.23\t-\t.\tg21533\r\n",
      "1\t23173\t23175\t1\tAUGUSTUS\tgene\t22321\t27293\t0.23\t-\t.\tg21533\r\n",
      "1\t23202\t23204\t1\tAUGUSTUS\tgene\t22321\t27293\t0.23\t-\t.\tg21533\r\n",
      "1\t23326\t23328\t1\tAUGUSTUS\tgene\t22321\t27293\t0.23\t-\t.\tg21533\r\n",
      "1\t23334\t23336\t1\tAUGUSTUS\tgene\t22321\t27293\t0.23\t-\t.\tg21533\r\n",
      "1\t23382\t23384\t1\tAUGUSTUS\tgene\t22321\t27293\t0.23\t-\t.\tg21533\r\n",
      "1\t23404\t23406\t1\tAUGUSTUS\tgene\t22321\t27293\t0.23\t-\t.\tg21533\r\n"
     ]
    }
   ],
   "source": [
    "#Check output\n",
    "!head *mcGenes"
   ]
  },
  {
   "cell_type": "code",
   "execution_count": 39,
   "metadata": {
    "collapsed": false,
    "scrolled": true
   },
   "outputs": [
    {
     "name": "stdout",
     "output_type": "stream",
     "text": [
      "   67258 Mcap_union_5x-averages-MBDBS.bedgraph-Meth.bed-mcGenes\n",
      "   35276 Mcap_union_5x-averages-MBDBS.bedgraph-sparseMeth.bed-mcGenes\n",
      "  207003 Mcap_union_5x-averages-MBDBS.bedgraph-unMeth.bed-mcGenes\n",
      "  309537 Mcap_union_5x-averages-MBDBS.bedgraph.bed-mcGenes\n",
      "  156521 Mcap_union_5x-averages-RRBS.bedgraph-Meth.bed-mcGenes\n",
      "   77322 Mcap_union_5x-averages-RRBS.bedgraph-sparseMeth.bed-mcGenes\n",
      " 1073239 Mcap_union_5x-averages-RRBS.bedgraph-unMeth.bed-mcGenes\n",
      " 1307082 Mcap_union_5x-averages-RRBS.bedgraph.bed-mcGenes\n",
      "  685807 Mcap_union_5x-averages-WGBS.bedgraph-Meth.bed-mcGenes\n",
      "  400637 Mcap_union_5x-averages-WGBS.bedgraph-sparseMeth.bed-mcGenes\n",
      " 3054154 Mcap_union_5x-averages-WGBS.bedgraph-unMeth.bed-mcGenes\n",
      " 4140598 Mcap_union_5x-averages-WGBS.bedgraph.bed-mcGenes\n",
      " 11514434 total\n"
     ]
    }
   ],
   "source": [
    "#Count number of overlaps\n",
    "!wc -l *mcGenes"
   ]
  },
  {
   "cell_type": "code",
   "execution_count": 40,
   "metadata": {
    "collapsed": true
   },
   "outputs": [],
   "source": [
    "!wc -l *mcGenes > Mcap_union_5x-mcGenes-counts.txt"
   ]
  },
  {
   "cell_type": "markdown",
   "metadata": {},
   "source": [
    "#### 3c. Coding Sequences (CDS)"
   ]
  },
  {
   "cell_type": "code",
   "execution_count": 41,
   "metadata": {
    "collapsed": true,
    "scrolled": true
   },
   "outputs": [],
   "source": [
    "%%bash\n",
    "\n",
    "for f in *bed\n",
    "do\n",
    "  /usr/local/bin/intersectBed \\\n",
    "  -wb \\\n",
    "  -a ${f} \\\n",
    "  -b ../../../genome-feature-files/Mcap.GFFannotation.CDS.gff \\\n",
    "  > ${f}-mcCDS\n",
    "done"
   ]
  },
  {
   "cell_type": "code",
   "execution_count": 42,
   "metadata": {
    "collapsed": false
   },
   "outputs": [
    {
     "name": "stdout",
     "output_type": "stream",
     "text": [
      "==> Mcap_union_5x-averages-MBDBS.bedgraph-Meth.bed-mcCDS <==\n",
      "1\t59438\t59440\t1\tAUGUSTUS\tCDS\t58322\t59506\t1\t-\t0\ttranscript_id \"g21535.t1\"; gene_id \"g21535\";\n",
      "1\t786125\t786127\t1\tAUGUSTUS\tCDS\t785899\t786207\t0.98\t-\t0\ttranscript_id \"g21598.t1\"; gene_id \"g21598\";\n",
      "1\t786144\t786146\t1\tAUGUSTUS\tCDS\t785899\t786207\t0.98\t-\t0\ttranscript_id \"g21598.t1\"; gene_id \"g21598\";\n",
      "1\t786151\t786153\t1\tAUGUSTUS\tCDS\t785899\t786207\t0.98\t-\t0\ttranscript_id \"g21598.t1\"; gene_id \"g21598\";\n",
      "1\t1263040\t1263042\t1\tAUGUSTUS\tCDS\t1262915\t1264300\t1\t-\t0\ttranscript_id \"g21628.t1\"; gene_id \"g21628\";\n",
      "1\t1409642\t1409644\t1\tAUGUSTUS\tCDS\t1409580\t1409782\t1\t-\t2\ttranscript_id \"g21635.t1\"; gene_id \"g21635\";\n",
      "1\t1409734\t1409736\t1\tAUGUSTUS\tCDS\t1409580\t1409782\t1\t-\t2\ttranscript_id \"g21635.t1\"; gene_id \"g21635\";\n",
      "1\t1543924\t1543926\t1\tAUGUSTUS\tCDS\t1543864\t1543969\t1\t+\t0\ttranscript_id \"g21645.t1\"; gene_id \"g21645\";\n",
      "1\t1601051\t1601053\t1\tAUGUSTUS\tCDS\t1600981\t1601078\t0.86\t-\t2\ttranscript_id \"g21648.t1\"; gene_id \"g21648\";\n",
      "1\t1641103\t1641105\t1\tAUGUSTUS\tCDS\t1640990\t1643609\t1\t-\t0\ttranscript_id \"g21651.t1\"; gene_id \"g21651\";\n",
      "\n",
      "==> Mcap_union_5x-averages-MBDBS.bedgraph-sparseMeth.bed-mcCDS <==\n",
      "1\t323095\t323097\t1\tAUGUSTUS\tCDS\t323002\t323103\t1\t-\t0\ttranscript_id \"g21554.t1\"; gene_id \"g21554\";\n",
      "1\t354622\t354624\t1\tAUGUSTUS\tCDS\t354547\t354629\t1\t+\t2\ttranscript_id \"g21557.t1\"; gene_id \"g21557\";\n",
      "1\t601511\t601513\t1\tAUGUSTUS\tCDS\t601281\t601955\t1\t+\t0\ttranscript_id \"g21580.t1\"; gene_id \"g21580\";\n",
      "1\t666749\t666751\t1\tAUGUSTUS\tCDS\t666567\t668312\t1\t-\t0\ttranscript_id \"g21588.t1\"; gene_id \"g21588\";\n",
      "1\t667790\t667792\t1\tAUGUSTUS\tCDS\t666567\t668312\t1\t-\t0\ttranscript_id \"g21588.t1\"; gene_id \"g21588\";\n",
      "1\t709103\t709105\t1\tAUGUSTUS\tCDS\t707506\t709230\t1\t-\t0\ttranscript_id \"g21592.t1\"; gene_id \"g21592\";\n",
      "1\t744333\t744335\t1\tAUGUSTUS\tCDS\t743708\t745054\t0.98\t-\t0\ttranscript_id \"g21595.t1\"; gene_id \"g21595\";\n",
      "1\t744365\t744367\t1\tAUGUSTUS\tCDS\t743708\t745054\t0.98\t-\t0\ttranscript_id \"g21595.t1\"; gene_id \"g21595\";\n",
      "1\t786094\t786096\t1\tAUGUSTUS\tCDS\t785899\t786207\t0.98\t-\t0\ttranscript_id \"g21598.t1\"; gene_id \"g21598\";\n",
      "1\t786097\t786099\t1\tAUGUSTUS\tCDS\t785899\t786207\t0.98\t-\t0\ttranscript_id \"g21598.t1\"; gene_id \"g21598\";\n",
      "\n",
      "==> Mcap_union_5x-averages-MBDBS.bedgraph-unMeth.bed-mcCDS <==\n",
      "1\t109670\t109672\t1\tAUGUSTUS\tCDS\t109638\t109729\t1\t-\t0\ttranscript_id \"g21538.t1\"; gene_id \"g21538\";\n",
      "1\t238112\t238114\t1\tAUGUSTUS\tCDS\t237955\t238956\t1\t+\t0\ttranscript_id \"g21550.t1\"; gene_id \"g21550\";\n",
      "1\t238133\t238135\t1\tAUGUSTUS\tCDS\t237955\t238956\t1\t+\t0\ttranscript_id \"g21550.t1\"; gene_id \"g21550\";\n",
      "1\t323036\t323038\t1\tAUGUSTUS\tCDS\t323002\t323103\t1\t-\t0\ttranscript_id \"g21554.t1\"; gene_id \"g21554\";\n",
      "1\t323051\t323053\t1\tAUGUSTUS\tCDS\t323002\t323103\t1\t-\t0\ttranscript_id \"g21554.t1\"; gene_id \"g21554\";\n",
      "1\t323066\t323068\t1\tAUGUSTUS\tCDS\t323002\t323103\t1\t-\t0\ttranscript_id \"g21554.t1\"; gene_id \"g21554\";\n",
      "1\t323098\t323100\t1\tAUGUSTUS\tCDS\t323002\t323103\t1\t-\t0\ttranscript_id \"g21554.t1\"; gene_id \"g21554\";\n",
      "1\t354586\t354588\t1\tAUGUSTUS\tCDS\t354547\t354629\t1\t+\t2\ttranscript_id \"g21557.t1\"; gene_id \"g21557\";\n",
      "1\t354616\t354618\t1\tAUGUSTUS\tCDS\t354547\t354629\t1\t+\t2\ttranscript_id \"g21557.t1\"; gene_id \"g21557\";\n",
      "1\t361975\t361977\t1\tAUGUSTUS\tCDS\t361628\t363571\t0.97\t-\t0\ttranscript_id \"g21558.t1\"; gene_id \"g21558\";\n",
      "\n",
      "==> Mcap_union_5x-averages-MBDBS.bedgraph.bed-mcCDS <==\n",
      "1\t59438\t59440\t1\tAUGUSTUS\tCDS\t58322\t59506\t1\t-\t0\ttranscript_id \"g21535.t1\"; gene_id \"g21535\";\n",
      "1\t109670\t109672\t1\tAUGUSTUS\tCDS\t109638\t109729\t1\t-\t0\ttranscript_id \"g21538.t1\"; gene_id \"g21538\";\n",
      "1\t238112\t238114\t1\tAUGUSTUS\tCDS\t237955\t238956\t1\t+\t0\ttranscript_id \"g21550.t1\"; gene_id \"g21550\";\n",
      "1\t238133\t238135\t1\tAUGUSTUS\tCDS\t237955\t238956\t1\t+\t0\ttranscript_id \"g21550.t1\"; gene_id \"g21550\";\n",
      "1\t323036\t323038\t1\tAUGUSTUS\tCDS\t323002\t323103\t1\t-\t0\ttranscript_id \"g21554.t1\"; gene_id \"g21554\";\n",
      "1\t323051\t323053\t1\tAUGUSTUS\tCDS\t323002\t323103\t1\t-\t0\ttranscript_id \"g21554.t1\"; gene_id \"g21554\";\n",
      "1\t323066\t323068\t1\tAUGUSTUS\tCDS\t323002\t323103\t1\t-\t0\ttranscript_id \"g21554.t1\"; gene_id \"g21554\";\n",
      "1\t323095\t323097\t1\tAUGUSTUS\tCDS\t323002\t323103\t1\t-\t0\ttranscript_id \"g21554.t1\"; gene_id \"g21554\";\n",
      "1\t323098\t323100\t1\tAUGUSTUS\tCDS\t323002\t323103\t1\t-\t0\ttranscript_id \"g21554.t1\"; gene_id \"g21554\";\n",
      "1\t354586\t354588\t1\tAUGUSTUS\tCDS\t354547\t354629\t1\t+\t2\ttranscript_id \"g21557.t1\"; gene_id \"g21557\";\n",
      "\n",
      "==> Mcap_union_5x-averages-RRBS.bedgraph-Meth.bed-mcCDS <==\n",
      "1\t58618\t58620\t1\tAUGUSTUS\tCDS\t58322\t59506\t1\t-\t0\ttranscript_id \"g21535.t1\"; gene_id \"g21535\";\n",
      "1\t58745\t58747\t1\tAUGUSTUS\tCDS\t58322\t59506\t1\t-\t0\ttranscript_id \"g21535.t1\"; gene_id \"g21535\";\n",
      "1\t58764\t58766\t1\tAUGUSTUS\tCDS\t58322\t59506\t1\t-\t0\ttranscript_id \"g21535.t1\"; gene_id \"g21535\";\n",
      "1\t58792\t58794\t1\tAUGUSTUS\tCDS\t58322\t59506\t1\t-\t0\ttranscript_id \"g21535.t1\"; gene_id \"g21535\";\n",
      "1\t1174296\t1174298\t1\tAUGUSTUS\tCDS\t1173914\t1174302\t0.48\t-\t1\ttranscript_id \"g21623.t1\"; gene_id \"g21623\";\n",
      "1\t1367668\t1367670\t1\tAUGUSTUS\tCDS\t1367658\t1367706\t1\t-\t0\ttranscript_id \"g21633.t1\"; gene_id \"g21633\";\n",
      "1\t1432386\t1432388\t1\tAUGUSTUS\tCDS\t1431855\t1432904\t1\t-\t0\ttranscript_id \"g21638.t1\"; gene_id \"g21638\";\n",
      "1\t1432398\t1432400\t1\tAUGUSTUS\tCDS\t1431855\t1432904\t1\t-\t0\ttranscript_id \"g21638.t1\"; gene_id \"g21638\";\n",
      "1\t1432427\t1432429\t1\tAUGUSTUS\tCDS\t1431855\t1432904\t1\t-\t0\ttranscript_id \"g21638.t1\"; gene_id \"g21638\";\n",
      "1\t1432441\t1432443\t1\tAUGUSTUS\tCDS\t1431855\t1432904\t1\t-\t0\ttranscript_id \"g21638.t1\"; gene_id \"g21638\";\n",
      "\n",
      "==> Mcap_union_5x-averages-RRBS.bedgraph-sparseMeth.bed-mcCDS <==\n",
      "1\t45163\t45165\t1\tAUGUSTUS\tCDS\t45038\t45208\t1\t+\t2\ttranscript_id \"g21534.t1\"; gene_id \"g21534\";\n",
      "1\t186492\t186494\t1\tAUGUSTUS\tCDS\t186182\t186520\t0.68\t+\t0\ttranscript_id \"g21547.t1\"; gene_id \"g21547\";\n",
      "1\t237958\t237960\t1\tAUGUSTUS\tCDS\t237955\t238956\t1\t+\t0\ttranscript_id \"g21550.t1\"; gene_id \"g21550\";\n",
      "1\t708875\t708877\t1\tAUGUSTUS\tCDS\t707506\t709230\t1\t-\t0\ttranscript_id \"g21592.t1\"; gene_id \"g21592\";\n",
      "1\t743735\t743737\t1\tAUGUSTUS\tCDS\t743708\t745054\t0.98\t-\t0\ttranscript_id \"g21595.t1\"; gene_id \"g21595\";\n",
      "1\t743825\t743827\t1\tAUGUSTUS\tCDS\t743708\t745054\t0.98\t-\t0\ttranscript_id \"g21595.t1\"; gene_id \"g21595\";\n",
      "1\t744333\t744335\t1\tAUGUSTUS\tCDS\t743708\t745054\t0.98\t-\t0\ttranscript_id \"g21595.t1\"; gene_id \"g21595\";\n",
      "1\t744680\t744682\t1\tAUGUSTUS\tCDS\t743708\t745054\t0.98\t-\t0\ttranscript_id \"g21595.t1\"; gene_id \"g21595\";\n",
      "1\t946097\t946099\t1\tAUGUSTUS\tCDS\t945184\t946113\t0.98\t+\t0\ttranscript_id \"g21608.t1\"; gene_id \"g21608\";\n",
      "1\t1064399\t1064401\t1\tAUGUSTUS\tCDS\t1064077\t1065057\t1\t+\t0\ttranscript_id \"g21615.t1\"; gene_id \"g21615\";\n",
      "\n",
      "==> Mcap_union_5x-averages-RRBS.bedgraph-unMeth.bed-mcCDS <==\n",
      "1\t22445\t22447\t1\tAUGUSTUS\tCDS\t22321\t22608\t0.55\t-\t0\ttranscript_id \"g21533.t1\"; gene_id \"g21533\";\n",
      "1\t22505\t22507\t1\tAUGUSTUS\tCDS\t22321\t22608\t0.55\t-\t0\ttranscript_id \"g21533.t1\"; gene_id \"g21533\";\n",
      "1\t22513\t22515\t1\tAUGUSTUS\tCDS\t22321\t22608\t0.55\t-\t0\ttranscript_id \"g21533.t1\"; gene_id \"g21533\";\n",
      "1\t22531\t22533\t1\tAUGUSTUS\tCDS\t22321\t22608\t0.55\t-\t0\ttranscript_id \"g21533.t1\"; gene_id \"g21533\";\n",
      "1\t22534\t22536\t1\tAUGUSTUS\tCDS\t22321\t22608\t0.55\t-\t0\ttranscript_id \"g21533.t1\"; gene_id \"g21533\";\n",
      "1\t22547\t22549\t1\tAUGUSTUS\tCDS\t22321\t22608\t0.55\t-\t0\ttranscript_id \"g21533.t1\"; gene_id \"g21533\";\n",
      "1\t22563\t22565\t1\tAUGUSTUS\tCDS\t22321\t22608\t0.55\t-\t0\ttranscript_id \"g21533.t1\"; gene_id \"g21533\";\n",
      "1\t22575\t22577\t1\tAUGUSTUS\tCDS\t22321\t22608\t0.55\t-\t0\ttranscript_id \"g21533.t1\"; gene_id \"g21533\";\n",
      "1\t45046\t45048\t1\tAUGUSTUS\tCDS\t45038\t45208\t1\t+\t2\ttranscript_id \"g21534.t1\"; gene_id \"g21534\";\n",
      "1\t45070\t45072\t1\tAUGUSTUS\tCDS\t45038\t45208\t1\t+\t2\ttranscript_id \"g21534.t1\"; gene_id \"g21534\";\n",
      "\n",
      "==> Mcap_union_5x-averages-RRBS.bedgraph.bed-mcCDS <==\n",
      "1\t22445\t22447\t1\tAUGUSTUS\tCDS\t22321\t22608\t0.55\t-\t0\ttranscript_id \"g21533.t1\"; gene_id \"g21533\";\n",
      "1\t22505\t22507\t1\tAUGUSTUS\tCDS\t22321\t22608\t0.55\t-\t0\ttranscript_id \"g21533.t1\"; gene_id \"g21533\";\n",
      "1\t22513\t22515\t1\tAUGUSTUS\tCDS\t22321\t22608\t0.55\t-\t0\ttranscript_id \"g21533.t1\"; gene_id \"g21533\";\n",
      "1\t22531\t22533\t1\tAUGUSTUS\tCDS\t22321\t22608\t0.55\t-\t0\ttranscript_id \"g21533.t1\"; gene_id \"g21533\";\n",
      "1\t22534\t22536\t1\tAUGUSTUS\tCDS\t22321\t22608\t0.55\t-\t0\ttranscript_id \"g21533.t1\"; gene_id \"g21533\";\n",
      "1\t22547\t22549\t1\tAUGUSTUS\tCDS\t22321\t22608\t0.55\t-\t0\ttranscript_id \"g21533.t1\"; gene_id \"g21533\";\n",
      "1\t22563\t22565\t1\tAUGUSTUS\tCDS\t22321\t22608\t0.55\t-\t0\ttranscript_id \"g21533.t1\"; gene_id \"g21533\";\n",
      "1\t22575\t22577\t1\tAUGUSTUS\tCDS\t22321\t22608\t0.55\t-\t0\ttranscript_id \"g21533.t1\"; gene_id \"g21533\";\n",
      "1\t45046\t45048\t1\tAUGUSTUS\tCDS\t45038\t45208\t1\t+\t2\ttranscript_id \"g21534.t1\"; gene_id \"g21534\";\n",
      "1\t45070\t45072\t1\tAUGUSTUS\tCDS\t45038\t45208\t1\t+\t2\ttranscript_id \"g21534.t1\"; gene_id \"g21534\";\n",
      "\n",
      "==> Mcap_union_5x-averages-WGBS.bedgraph-Meth.bed-mcCDS <==\n",
      "1\t58609\t58611\t1\tAUGUSTUS\tCDS\t58322\t59506\t1\t-\t0\ttranscript_id \"g21535.t1\"; gene_id \"g21535\";\n",
      "1\t58618\t58620\t1\tAUGUSTUS\tCDS\t58322\t59506\t1\t-\t0\ttranscript_id \"g21535.t1\"; gene_id \"g21535\";\n",
      "1\t58745\t58747\t1\tAUGUSTUS\tCDS\t58322\t59506\t1\t-\t0\ttranscript_id \"g21535.t1\"; gene_id \"g21535\";\n",
      "1\t59207\t59209\t1\tAUGUSTUS\tCDS\t58322\t59506\t1\t-\t0\ttranscript_id \"g21535.t1\"; gene_id \"g21535\";\n",
      "1\t59277\t59279\t1\tAUGUSTUS\tCDS\t58322\t59506\t1\t-\t0\ttranscript_id \"g21535.t1\"; gene_id \"g21535\";\n",
      "1\t59393\t59395\t1\tAUGUSTUS\tCDS\t58322\t59506\t1\t-\t0\ttranscript_id \"g21535.t1\"; gene_id \"g21535\";\n",
      "1\t59438\t59440\t1\tAUGUSTUS\tCDS\t58322\t59506\t1\t-\t0\ttranscript_id \"g21535.t1\"; gene_id \"g21535\";\n",
      "1\t104744\t104746\t1\tAUGUSTUS\tCDS\t104706\t104814\t1\t-\t1\ttranscript_id \"g21538.t1\"; gene_id \"g21538\";\n",
      "1\t351074\t351076\t1\tAUGUSTUS\tCDS\t351069\t351159\t1\t+\t0\ttranscript_id \"g21556.t1\"; gene_id \"g21556\";\n",
      "1\t351086\t351088\t1\tAUGUSTUS\tCDS\t351069\t351159\t1\t+\t0\ttranscript_id \"g21556.t1\"; gene_id \"g21556\";\n",
      "\n",
      "==> Mcap_union_5x-averages-WGBS.bedgraph-sparseMeth.bed-mcCDS <==\n",
      "1\t80301\t80303\t1\tAUGUSTUS\tCDS\t80296\t80700\t1\t+\t2\ttranscript_id \"g21536.t1\"; gene_id \"g21536\";\n",
      "1\t80430\t80432\t1\tAUGUSTUS\tCDS\t80296\t80700\t1\t+\t2\ttranscript_id \"g21536.t1\"; gene_id \"g21536\";\n",
      "1\t82663\t82665\t1\tAUGUSTUS\tCDS\t82493\t83244\t1\t+\t2\ttranscript_id \"g21536.t1\"; gene_id \"g21536\";\n",
      "1\t184266\t184268\t1\tAUGUSTUS\tCDS\t184250\t184827\t0.78\t+\t2\ttranscript_id \"g21546.t1\"; gene_id \"g21546\";\n",
      "1\t184271\t184273\t1\tAUGUSTUS\tCDS\t184250\t184827\t0.78\t+\t2\ttranscript_id \"g21546.t1\"; gene_id \"g21546\";\n",
      "1\t307885\t307887\t1\tAUGUSTUS\tCDS\t307772\t308143\t1\t-\t0\ttranscript_id \"g21553.t1\"; gene_id \"g21553\";\n",
      "1\t332411\t332413\t1\tAUGUSTUS\tCDS\t332282\t332497\t1\t-\t0\ttranscript_id \"g21555.t1\"; gene_id \"g21555\";\n",
      "1\t332445\t332447\t1\tAUGUSTUS\tCDS\t332282\t332497\t1\t-\t0\ttranscript_id \"g21555.t1\"; gene_id \"g21555\";\n",
      "1\t345002\t345004\t1\tAUGUSTUS\tCDS\t344881\t345023\t1\t-\t2\ttranscript_id \"g21555.t1\"; gene_id \"g21555\";\n",
      "1\t356913\t356915\t1\tAUGUSTUS\tCDS\t356738\t356968\t1\t+\t0\ttranscript_id \"g21557.t1\"; gene_id \"g21557\";\n",
      "\n",
      "==> Mcap_union_5x-averages-WGBS.bedgraph-unMeth.bed-mcCDS <==\n",
      "1\t37555\t37557\t1\tAUGUSTUS\tCDS\t37447\t37810\t1\t+\t0\ttranscript_id \"g21534.t1\"; gene_id \"g21534\";\n",
      "1\t37567\t37569\t1\tAUGUSTUS\tCDS\t37447\t37810\t1\t+\t0\ttranscript_id \"g21534.t1\"; gene_id \"g21534\";\n",
      "1\t45110\t45112\t1\tAUGUSTUS\tCDS\t45038\t45208\t1\t+\t2\ttranscript_id \"g21534.t1\"; gene_id \"g21534\";\n",
      "1\t45116\t45118\t1\tAUGUSTUS\tCDS\t45038\t45208\t1\t+\t2\ttranscript_id \"g21534.t1\"; gene_id \"g21534\";\n",
      "1\t45128\t45130\t1\tAUGUSTUS\tCDS\t45038\t45208\t1\t+\t2\ttranscript_id \"g21534.t1\"; gene_id \"g21534\";\n",
      "1\t45199\t45201\t1\tAUGUSTUS\tCDS\t45038\t45208\t1\t+\t2\ttranscript_id \"g21534.t1\"; gene_id \"g21534\";\n",
      "1\t46633\t46635\t1\tAUGUSTUS\tCDS\t46625\t47272\t1\t+\t2\ttranscript_id \"g21534.t1\"; gene_id \"g21534\";\n",
      "1\t46642\t46644\t1\tAUGUSTUS\tCDS\t46625\t47272\t1\t+\t2\ttranscript_id \"g21534.t1\"; gene_id \"g21534\";\n",
      "1\t46648\t46650\t1\tAUGUSTUS\tCDS\t46625\t47272\t1\t+\t2\ttranscript_id \"g21534.t1\"; gene_id \"g21534\";\n",
      "1\t51924\t51926\t1\tAUGUSTUS\tCDS\t51903\t52266\t1\t+\t1\ttranscript_id \"g21534.t1\"; gene_id \"g21534\";\n",
      "\n",
      "==> Mcap_union_5x-averages-WGBS.bedgraph.bed-mcCDS <==\n",
      "1\t37555\t37557\t1\tAUGUSTUS\tCDS\t37447\t37810\t1\t+\t0\ttranscript_id \"g21534.t1\"; gene_id \"g21534\";\n",
      "1\t37567\t37569\t1\tAUGUSTUS\tCDS\t37447\t37810\t1\t+\t0\ttranscript_id \"g21534.t1\"; gene_id \"g21534\";\n",
      "1\t45110\t45112\t1\tAUGUSTUS\tCDS\t45038\t45208\t1\t+\t2\ttranscript_id \"g21534.t1\"; gene_id \"g21534\";\n",
      "1\t45116\t45118\t1\tAUGUSTUS\tCDS\t45038\t45208\t1\t+\t2\ttranscript_id \"g21534.t1\"; gene_id \"g21534\";\n",
      "1\t45128\t45130\t1\tAUGUSTUS\tCDS\t45038\t45208\t1\t+\t2\ttranscript_id \"g21534.t1\"; gene_id \"g21534\";\n",
      "1\t45199\t45201\t1\tAUGUSTUS\tCDS\t45038\t45208\t1\t+\t2\ttranscript_id \"g21534.t1\"; gene_id \"g21534\";\n",
      "1\t46633\t46635\t1\tAUGUSTUS\tCDS\t46625\t47272\t1\t+\t2\ttranscript_id \"g21534.t1\"; gene_id \"g21534\";\n",
      "1\t46642\t46644\t1\tAUGUSTUS\tCDS\t46625\t47272\t1\t+\t2\ttranscript_id \"g21534.t1\"; gene_id \"g21534\";\n",
      "1\t46648\t46650\t1\tAUGUSTUS\tCDS\t46625\t47272\t1\t+\t2\ttranscript_id \"g21534.t1\"; gene_id \"g21534\";\n",
      "1\t51924\t51926\t1\tAUGUSTUS\tCDS\t51903\t52266\t1\t+\t1\ttranscript_id \"g21534.t1\"; gene_id \"g21534\";\n"
     ]
    }
   ],
   "source": [
    "#Check output\n",
    "!head *mcCDS"
   ]
  },
  {
   "cell_type": "code",
   "execution_count": 43,
   "metadata": {
    "collapsed": false,
    "scrolled": true
   },
   "outputs": [
    {
     "name": "stdout",
     "output_type": "stream",
     "text": [
      "   18518 Mcap_union_5x-averages-MBDBS.bedgraph-Meth.bed-mcCDS\n",
      "   13110 Mcap_union_5x-averages-MBDBS.bedgraph-sparseMeth.bed-mcCDS\n",
      "   74148 Mcap_union_5x-averages-MBDBS.bedgraph-unMeth.bed-mcCDS\n",
      "  105776 Mcap_union_5x-averages-MBDBS.bedgraph.bed-mcCDS\n",
      "   22660 Mcap_union_5x-averages-RRBS.bedgraph-Meth.bed-mcCDS\n",
      "   16593 Mcap_union_5x-averages-RRBS.bedgraph-sparseMeth.bed-mcCDS\n",
      "  205283 Mcap_union_5x-averages-RRBS.bedgraph-unMeth.bed-mcCDS\n",
      "  244536 Mcap_union_5x-averages-RRBS.bedgraph.bed-mcCDS\n",
      "  139018 Mcap_union_5x-averages-WGBS.bedgraph-Meth.bed-mcCDS\n",
      "  103408 Mcap_union_5x-averages-WGBS.bedgraph-sparseMeth.bed-mcCDS\n",
      "  753113 Mcap_union_5x-averages-WGBS.bedgraph-unMeth.bed-mcCDS\n",
      "  995539 Mcap_union_5x-averages-WGBS.bedgraph.bed-mcCDS\n",
      " 2691702 total\n"
     ]
    }
   ],
   "source": [
    "#Count number of overlaps\n",
    "!wc -l *mcCDS"
   ]
  },
  {
   "cell_type": "code",
   "execution_count": 44,
   "metadata": {
    "collapsed": true
   },
   "outputs": [],
   "source": [
    "!wc -l *mcCDS > Mcap_union_5x-mcCDS-counts.txt"
   ]
  },
  {
   "cell_type": "markdown",
   "metadata": {},
   "source": [
    "#### 3d. Introns"
   ]
  },
  {
   "cell_type": "code",
   "execution_count": 45,
   "metadata": {
    "collapsed": true,
    "scrolled": true
   },
   "outputs": [],
   "source": [
    "%%bash\n",
    "\n",
    "for f in *bed\n",
    "do\n",
    "  /usr/local/bin/intersectBed \\\n",
    "  -wb \\\n",
    "  -a ${f} \\\n",
    "  -b ../../../genome-feature-files/Mcap.GFFannotation.intron.gff \\\n",
    "  > ${f}-mcIntrons\n",
    "done"
   ]
  },
  {
   "cell_type": "code",
   "execution_count": 46,
   "metadata": {
    "collapsed": false
   },
   "outputs": [
    {
     "name": "stdout",
     "output_type": "stream",
     "text": [
      "==> Mcap_union_5x-averages-MBDBS.bedgraph-Meth.bed-mcIntrons <==\n",
      "1\t106173\t106175\t1\tAUGUSTUS\tintron\t104815\t109637\t1\t-\t.\ttranscript_id \"g21538.t1\"; gene_id \"g21538\";\n",
      "1\t106202\t106204\t1\tAUGUSTUS\tintron\t104815\t109637\t1\t-\t.\ttranscript_id \"g21538.t1\"; gene_id \"g21538\";\n",
      "1\t344031\t344033\t1\tAUGUSTUS\tintron\t341159\t344880\t1\t-\t.\ttranscript_id \"g21555.t1\"; gene_id \"g21555\";\n",
      "1\t344044\t344046\t1\tAUGUSTUS\tintron\t341159\t344880\t1\t-\t.\ttranscript_id \"g21555.t1\"; gene_id \"g21555\";\n",
      "1\t879915\t879917\t1\tAUGUSTUS\tintron\t879326\t880196\t1\t+\t.\ttranscript_id \"g21603.t1\"; gene_id \"g21603\";\n",
      "1\t883893\t883895\t1\tAUGUSTUS\tintron\t883512\t889480\t1\t+\t.\ttranscript_id \"g21603.t1\"; gene_id \"g21603\";\n",
      "1\t982886\t982888\t1\tAUGUSTUS\tintron\t980695\t983102\t1\t-\t.\ttranscript_id \"g21609.t1\"; gene_id \"g21609\";\n",
      "1\t1243019\t1243021\t1\tAUGUSTUS\tintron\t1242686\t1245119\t1\t-\t.\ttranscript_id \"g21628.t1\"; gene_id \"g21628\";\n",
      "1\t1259506\t1259508\t1\tAUGUSTUS\tintron\t1259175\t1261381\t1\t-\t.\ttranscript_id \"g21628.t1\"; gene_id \"g21628\";\n",
      "1\t1259529\t1259531\t1\tAUGUSTUS\tintron\t1259175\t1261381\t1\t-\t.\ttranscript_id \"g21628.t1\"; gene_id \"g21628\";\n",
      "\n",
      "==> Mcap_union_5x-averages-MBDBS.bedgraph-sparseMeth.bed-mcIntrons <==\n",
      "1\t328382\t328384\t1\tAUGUSTUS\tintron\t328309\t331581\t1\t-\t.\ttranscript_id \"g21554.t1\"; gene_id \"g21554\";\n",
      "1\t328386\t328388\t1\tAUGUSTUS\tintron\t328309\t331581\t1\t-\t.\ttranscript_id \"g21554.t1\"; gene_id \"g21554\";\n",
      "1\t330194\t330196\t1\tAUGUSTUS\tintron\t328309\t331581\t1\t-\t.\ttranscript_id \"g21554.t1\"; gene_id \"g21554\";\n",
      "1\t330197\t330199\t1\tAUGUSTUS\tintron\t328309\t331581\t1\t-\t.\ttranscript_id \"g21554.t1\"; gene_id \"g21554\";\n",
      "1\t334750\t334752\t1\tAUGUSTUS\tintron\t334182\t338302\t1\t-\t.\ttranscript_id \"g21555.t1\"; gene_id \"g21555\";\n",
      "1\t334782\t334784\t1\tAUGUSTUS\tintron\t334182\t338302\t1\t-\t.\ttranscript_id \"g21555.t1\"; gene_id \"g21555\";\n",
      "1\t341742\t341744\t1\tAUGUSTUS\tintron\t341159\t344880\t1\t-\t.\ttranscript_id \"g21555.t1\"; gene_id \"g21555\";\n",
      "1\t343939\t343941\t1\tAUGUSTUS\tintron\t341159\t344880\t1\t-\t.\ttranscript_id \"g21555.t1\"; gene_id \"g21555\";\n",
      "1\t343962\t343964\t1\tAUGUSTUS\tintron\t341159\t344880\t1\t-\t.\ttranscript_id \"g21555.t1\"; gene_id \"g21555\";\n",
      "1\t344000\t344002\t1\tAUGUSTUS\tintron\t341159\t344880\t1\t-\t.\ttranscript_id \"g21555.t1\"; gene_id \"g21555\";\n",
      "\n",
      "==> Mcap_union_5x-averages-MBDBS.bedgraph-unMeth.bed-mcIntrons <==\n",
      "1\t77096\t77098\t1\tAUGUSTUS\tintron\t76753\t79038\t1\t+\t.\ttranscript_id \"g21536.t1\"; gene_id \"g21536\";\n",
      "1\t77145\t77147\t1\tAUGUSTUS\tintron\t76753\t79038\t1\t+\t.\ttranscript_id \"g21536.t1\"; gene_id \"g21536\";\n",
      "1\t77151\t77153\t1\tAUGUSTUS\tintron\t76753\t79038\t1\t+\t.\ttranscript_id \"g21536.t1\"; gene_id \"g21536\";\n",
      "1\t77179\t77181\t1\tAUGUSTUS\tintron\t76753\t79038\t1\t+\t.\ttranscript_id \"g21536.t1\"; gene_id \"g21536\";\n",
      "1\t81812\t81814\t1\tAUGUSTUS\tintron\t80701\t82492\t1\t+\t.\ttranscript_id \"g21536.t1\"; gene_id \"g21536\";\n",
      "1\t81817\t81819\t1\tAUGUSTUS\tintron\t80701\t82492\t1\t+\t.\ttranscript_id \"g21536.t1\"; gene_id \"g21536\";\n",
      "1\t81835\t81837\t1\tAUGUSTUS\tintron\t80701\t82492\t1\t+\t.\ttranscript_id \"g21536.t1\"; gene_id \"g21536\";\n",
      "1\t81874\t81876\t1\tAUGUSTUS\tintron\t80701\t82492\t1\t+\t.\ttranscript_id \"g21536.t1\"; gene_id \"g21536\";\n",
      "1\t81887\t81889\t1\tAUGUSTUS\tintron\t80701\t82492\t1\t+\t.\ttranscript_id \"g21536.t1\"; gene_id \"g21536\";\n",
      "1\t323150\t323152\t1\tAUGUSTUS\tintron\t323104\t325589\t1\t-\t.\ttranscript_id \"g21554.t1\"; gene_id \"g21554\";\n",
      "\n",
      "==> Mcap_union_5x-averages-MBDBS.bedgraph.bed-mcIntrons <==\n",
      "1\t77096\t77098\t1\tAUGUSTUS\tintron\t76753\t79038\t1\t+\t.\ttranscript_id \"g21536.t1\"; gene_id \"g21536\";\n",
      "1\t77145\t77147\t1\tAUGUSTUS\tintron\t76753\t79038\t1\t+\t.\ttranscript_id \"g21536.t1\"; gene_id \"g21536\";\n",
      "1\t77151\t77153\t1\tAUGUSTUS\tintron\t76753\t79038\t1\t+\t.\ttranscript_id \"g21536.t1\"; gene_id \"g21536\";\n",
      "1\t77179\t77181\t1\tAUGUSTUS\tintron\t76753\t79038\t1\t+\t.\ttranscript_id \"g21536.t1\"; gene_id \"g21536\";\n",
      "1\t81812\t81814\t1\tAUGUSTUS\tintron\t80701\t82492\t1\t+\t.\ttranscript_id \"g21536.t1\"; gene_id \"g21536\";\n",
      "1\t81817\t81819\t1\tAUGUSTUS\tintron\t80701\t82492\t1\t+\t.\ttranscript_id \"g21536.t1\"; gene_id \"g21536\";\n",
      "1\t81835\t81837\t1\tAUGUSTUS\tintron\t80701\t82492\t1\t+\t.\ttranscript_id \"g21536.t1\"; gene_id \"g21536\";\n",
      "1\t81874\t81876\t1\tAUGUSTUS\tintron\t80701\t82492\t1\t+\t.\ttranscript_id \"g21536.t1\"; gene_id \"g21536\";\n",
      "1\t81887\t81889\t1\tAUGUSTUS\tintron\t80701\t82492\t1\t+\t.\ttranscript_id \"g21536.t1\"; gene_id \"g21536\";\n",
      "1\t106173\t106175\t1\tAUGUSTUS\tintron\t104815\t109637\t1\t-\t.\ttranscript_id \"g21538.t1\"; gene_id \"g21538\";\n",
      "\n",
      "==> Mcap_union_5x-averages-RRBS.bedgraph-Meth.bed-mcIntrons <==\n",
      "1\t66041\t66043\t1\tAUGUSTUS\tintron\t64735\t67263\t1\t+\t.\ttranscript_id \"g21536.t1\"; gene_id \"g21536\";\n",
      "1\t66050\t66052\t1\tAUGUSTUS\tintron\t64735\t67263\t1\t+\t.\ttranscript_id \"g21536.t1\"; gene_id \"g21536\";\n",
      "1\t66339\t66341\t1\tAUGUSTUS\tintron\t64735\t67263\t1\t+\t.\ttranscript_id \"g21536.t1\"; gene_id \"g21536\";\n",
      "1\t66345\t66347\t1\tAUGUSTUS\tintron\t64735\t67263\t1\t+\t.\ttranscript_id \"g21536.t1\"; gene_id \"g21536\";\n",
      "1\t66354\t66356\t1\tAUGUSTUS\tintron\t64735\t67263\t1\t+\t.\ttranscript_id \"g21536.t1\"; gene_id \"g21536\";\n",
      "1\t66400\t66402\t1\tAUGUSTUS\tintron\t64735\t67263\t1\t+\t.\ttranscript_id \"g21536.t1\"; gene_id \"g21536\";\n",
      "1\t66540\t66542\t1\tAUGUSTUS\tintron\t64735\t67263\t1\t+\t.\ttranscript_id \"g21536.t1\"; gene_id \"g21536\";\n",
      "1\t66543\t66545\t1\tAUGUSTUS\tintron\t64735\t67263\t1\t+\t.\ttranscript_id \"g21536.t1\"; gene_id \"g21536\";\n",
      "1\t66613\t66615\t1\tAUGUSTUS\tintron\t64735\t67263\t1\t+\t.\ttranscript_id \"g21536.t1\"; gene_id \"g21536\";\n",
      "1\t66668\t66670\t1\tAUGUSTUS\tintron\t64735\t67263\t1\t+\t.\ttranscript_id \"g21536.t1\"; gene_id \"g21536\";\n",
      "\n",
      "==> Mcap_union_5x-averages-RRBS.bedgraph-sparseMeth.bed-mcIntrons <==\n",
      "1\t42261\t42263\t1\tAUGUSTUS\tintron\t37811\t45037\t1\t+\t.\ttranscript_id \"g21534.t1\"; gene_id \"g21534\";\n",
      "1\t48370\t48372\t1\tAUGUSTUS\tintron\t47273\t49942\t1\t+\t.\ttranscript_id \"g21534.t1\"; gene_id \"g21534\";\n",
      "1\t89011\t89013\t1\tAUGUSTUS\tintron\t88420\t90128\t1\t+\t.\ttranscript_id \"g21537.t1\"; gene_id \"g21537\";\n",
      "1\t101503\t101505\t1\tAUGUSTUS\tintron\t100307\t102769\t1\t-\t.\ttranscript_id \"g21538.t1\"; gene_id \"g21538\";\n",
      "1\t101545\t101547\t1\tAUGUSTUS\tintron\t100307\t102769\t1\t-\t.\ttranscript_id \"g21538.t1\"; gene_id \"g21538\";\n",
      "1\t124833\t124835\t1\tAUGUSTUS\tintron\t123616\t125408\t1\t+\t.\ttranscript_id \"g21539.t1\"; gene_id \"g21539\";\n",
      "1\t135853\t135855\t1\tAUGUSTUS\tintron\t133672\t138759\t1\t-\t.\ttranscript_id \"g21540.t1\"; gene_id \"g21540\";\n",
      "1\t336069\t336071\t1\tAUGUSTUS\tintron\t334182\t338302\t1\t-\t.\ttranscript_id \"g21555.t1\"; gene_id \"g21555\";\n",
      "1\t336217\t336219\t1\tAUGUSTUS\tintron\t334182\t338302\t1\t-\t.\ttranscript_id \"g21555.t1\"; gene_id \"g21555\";\n",
      "1\t339303\t339305\t1\tAUGUSTUS\tintron\t338412\t340848\t1\t-\t.\ttranscript_id \"g21555.t1\"; gene_id \"g21555\";\n",
      "\n",
      "==> Mcap_union_5x-averages-RRBS.bedgraph-unMeth.bed-mcIntrons <==\n",
      "1\t23117\t23119\t1\tAUGUSTUS\tintron\t22609\t26300\t0.25\t-\t.\ttranscript_id \"g21533.t1\"; gene_id \"g21533\";\n",
      "1\t23139\t23141\t1\tAUGUSTUS\tintron\t22609\t26300\t0.25\t-\t.\ttranscript_id \"g21533.t1\"; gene_id \"g21533\";\n",
      "1\t23173\t23175\t1\tAUGUSTUS\tintron\t22609\t26300\t0.25\t-\t.\ttranscript_id \"g21533.t1\"; gene_id \"g21533\";\n",
      "1\t23202\t23204\t1\tAUGUSTUS\tintron\t22609\t26300\t0.25\t-\t.\ttranscript_id \"g21533.t1\"; gene_id \"g21533\";\n",
      "1\t23326\t23328\t1\tAUGUSTUS\tintron\t22609\t26300\t0.25\t-\t.\ttranscript_id \"g21533.t1\"; gene_id \"g21533\";\n",
      "1\t23334\t23336\t1\tAUGUSTUS\tintron\t22609\t26300\t0.25\t-\t.\ttranscript_id \"g21533.t1\"; gene_id \"g21533\";\n",
      "1\t23382\t23384\t1\tAUGUSTUS\tintron\t22609\t26300\t0.25\t-\t.\ttranscript_id \"g21533.t1\"; gene_id \"g21533\";\n",
      "1\t39433\t39435\t1\tAUGUSTUS\tintron\t37811\t45037\t1\t+\t.\ttranscript_id \"g21534.t1\"; gene_id \"g21534\";\n",
      "1\t39477\t39479\t1\tAUGUSTUS\tintron\t37811\t45037\t1\t+\t.\ttranscript_id \"g21534.t1\"; gene_id \"g21534\";\n",
      "1\t39509\t39511\t1\tAUGUSTUS\tintron\t37811\t45037\t1\t+\t.\ttranscript_id \"g21534.t1\"; gene_id \"g21534\";\n",
      "\n",
      "==> Mcap_union_5x-averages-RRBS.bedgraph.bed-mcIntrons <==\n",
      "1\t23117\t23119\t1\tAUGUSTUS\tintron\t22609\t26300\t0.25\t-\t.\ttranscript_id \"g21533.t1\"; gene_id \"g21533\";\n",
      "1\t23139\t23141\t1\tAUGUSTUS\tintron\t22609\t26300\t0.25\t-\t.\ttranscript_id \"g21533.t1\"; gene_id \"g21533\";\n",
      "1\t23173\t23175\t1\tAUGUSTUS\tintron\t22609\t26300\t0.25\t-\t.\ttranscript_id \"g21533.t1\"; gene_id \"g21533\";\n",
      "1\t23202\t23204\t1\tAUGUSTUS\tintron\t22609\t26300\t0.25\t-\t.\ttranscript_id \"g21533.t1\"; gene_id \"g21533\";\n",
      "1\t23326\t23328\t1\tAUGUSTUS\tintron\t22609\t26300\t0.25\t-\t.\ttranscript_id \"g21533.t1\"; gene_id \"g21533\";\n",
      "1\t23334\t23336\t1\tAUGUSTUS\tintron\t22609\t26300\t0.25\t-\t.\ttranscript_id \"g21533.t1\"; gene_id \"g21533\";\n",
      "1\t23382\t23384\t1\tAUGUSTUS\tintron\t22609\t26300\t0.25\t-\t.\ttranscript_id \"g21533.t1\"; gene_id \"g21533\";\n",
      "1\t39433\t39435\t1\tAUGUSTUS\tintron\t37811\t45037\t1\t+\t.\ttranscript_id \"g21534.t1\"; gene_id \"g21534\";\n",
      "1\t39477\t39479\t1\tAUGUSTUS\tintron\t37811\t45037\t1\t+\t.\ttranscript_id \"g21534.t1\"; gene_id \"g21534\";\n",
      "1\t39509\t39511\t1\tAUGUSTUS\tintron\t37811\t45037\t1\t+\t.\ttranscript_id \"g21534.t1\"; gene_id \"g21534\";\n",
      "\n",
      "==> Mcap_union_5x-averages-WGBS.bedgraph-Meth.bed-mcIntrons <==\n",
      "1\t65972\t65974\t1\tAUGUSTUS\tintron\t64735\t67263\t1\t+\t.\ttranscript_id \"g21536.t1\"; gene_id \"g21536\";\n",
      "1\t65978\t65980\t1\tAUGUSTUS\tintron\t64735\t67263\t1\t+\t.\ttranscript_id \"g21536.t1\"; gene_id \"g21536\";\n",
      "1\t66345\t66347\t1\tAUGUSTUS\tintron\t64735\t67263\t1\t+\t.\ttranscript_id \"g21536.t1\"; gene_id \"g21536\";\n",
      "1\t66354\t66356\t1\tAUGUSTUS\tintron\t64735\t67263\t1\t+\t.\ttranscript_id \"g21536.t1\"; gene_id \"g21536\";\n",
      "1\t66980\t66982\t1\tAUGUSTUS\tintron\t64735\t67263\t1\t+\t.\ttranscript_id \"g21536.t1\"; gene_id \"g21536\";\n",
      "1\t67551\t67553\t1\tAUGUSTUS\tintron\t67319\t71345\t1\t+\t.\ttranscript_id \"g21536.t1\"; gene_id \"g21536\";\n",
      "1\t67834\t67836\t1\tAUGUSTUS\tintron\t67319\t71345\t1\t+\t.\ttranscript_id \"g21536.t1\"; gene_id \"g21536\";\n",
      "1\t67890\t67892\t1\tAUGUSTUS\tintron\t67319\t71345\t1\t+\t.\ttranscript_id \"g21536.t1\"; gene_id \"g21536\";\n",
      "1\t68059\t68061\t1\tAUGUSTUS\tintron\t67319\t71345\t1\t+\t.\ttranscript_id \"g21536.t1\"; gene_id \"g21536\";\n",
      "1\t68394\t68396\t1\tAUGUSTUS\tintron\t67319\t71345\t1\t+\t.\ttranscript_id \"g21536.t1\"; gene_id \"g21536\";\n",
      "\n",
      "==> Mcap_union_5x-averages-WGBS.bedgraph-sparseMeth.bed-mcIntrons <==\n",
      "1\t23202\t23204\t1\tAUGUSTUS\tintron\t22609\t26300\t0.25\t-\t.\ttranscript_id \"g21533.t1\"; gene_id \"g21533\";\n",
      "1\t23382\t23384\t1\tAUGUSTUS\tintron\t22609\t26300\t0.25\t-\t.\ttranscript_id \"g21533.t1\"; gene_id \"g21533\";\n",
      "1\t23425\t23427\t1\tAUGUSTUS\tintron\t22609\t26300\t0.25\t-\t.\ttranscript_id \"g21533.t1\"; gene_id \"g21533\";\n",
      "1\t42323\t42325\t1\tAUGUSTUS\tintron\t37811\t45037\t1\t+\t.\ttranscript_id \"g21534.t1\"; gene_id \"g21534\";\n",
      "1\t45844\t45846\t1\tAUGUSTUS\tintron\t45209\t46624\t1\t+\t.\ttranscript_id \"g21534.t1\"; gene_id \"g21534\";\n",
      "1\t45913\t45915\t1\tAUGUSTUS\tintron\t45209\t46624\t1\t+\t.\ttranscript_id \"g21534.t1\"; gene_id \"g21534\";\n",
      "1\t45949\t45951\t1\tAUGUSTUS\tintron\t45209\t46624\t1\t+\t.\ttranscript_id \"g21534.t1\"; gene_id \"g21534\";\n",
      "1\t46485\t46487\t1\tAUGUSTUS\tintron\t45209\t46624\t1\t+\t.\ttranscript_id \"g21534.t1\"; gene_id \"g21534\";\n",
      "1\t48831\t48833\t1\tAUGUSTUS\tintron\t47273\t49942\t1\t+\t.\ttranscript_id \"g21534.t1\"; gene_id \"g21534\";\n",
      "1\t48881\t48883\t1\tAUGUSTUS\tintron\t47273\t49942\t1\t+\t.\ttranscript_id \"g21534.t1\"; gene_id \"g21534\";\n",
      "\n",
      "==> Mcap_union_5x-averages-WGBS.bedgraph-unMeth.bed-mcIntrons <==\n",
      "1\t23003\t23005\t1\tAUGUSTUS\tintron\t22609\t26300\t0.25\t-\t.\ttranscript_id \"g21533.t1\"; gene_id \"g21533\";\n",
      "1\t23006\t23008\t1\tAUGUSTUS\tintron\t22609\t26300\t0.25\t-\t.\ttranscript_id \"g21533.t1\"; gene_id \"g21533\";\n",
      "1\t23019\t23021\t1\tAUGUSTUS\tintron\t22609\t26300\t0.25\t-\t.\ttranscript_id \"g21533.t1\"; gene_id \"g21533\";\n",
      "1\t23139\t23141\t1\tAUGUSTUS\tintron\t22609\t26300\t0.25\t-\t.\ttranscript_id \"g21533.t1\"; gene_id \"g21533\";\n",
      "1\t23173\t23175\t1\tAUGUSTUS\tintron\t22609\t26300\t0.25\t-\t.\ttranscript_id \"g21533.t1\"; gene_id \"g21533\";\n",
      "1\t23326\t23328\t1\tAUGUSTUS\tintron\t22609\t26300\t0.25\t-\t.\ttranscript_id \"g21533.t1\"; gene_id \"g21533\";\n",
      "1\t23334\t23336\t1\tAUGUSTUS\tintron\t22609\t26300\t0.25\t-\t.\ttranscript_id \"g21533.t1\"; gene_id \"g21533\";\n",
      "1\t23404\t23406\t1\tAUGUSTUS\tintron\t22609\t26300\t0.25\t-\t.\ttranscript_id \"g21533.t1\"; gene_id \"g21533\";\n",
      "1\t23445\t23447\t1\tAUGUSTUS\tintron\t22609\t26300\t0.25\t-\t.\ttranscript_id \"g21533.t1\"; gene_id \"g21533\";\n",
      "1\t38217\t38219\t1\tAUGUSTUS\tintron\t37811\t45037\t1\t+\t.\ttranscript_id \"g21534.t1\"; gene_id \"g21534\";\n",
      "\n",
      "==> Mcap_union_5x-averages-WGBS.bedgraph.bed-mcIntrons <==\n",
      "1\t23003\t23005\t1\tAUGUSTUS\tintron\t22609\t26300\t0.25\t-\t.\ttranscript_id \"g21533.t1\"; gene_id \"g21533\";\n",
      "1\t23006\t23008\t1\tAUGUSTUS\tintron\t22609\t26300\t0.25\t-\t.\ttranscript_id \"g21533.t1\"; gene_id \"g21533\";\n",
      "1\t23019\t23021\t1\tAUGUSTUS\tintron\t22609\t26300\t0.25\t-\t.\ttranscript_id \"g21533.t1\"; gene_id \"g21533\";\n",
      "1\t23139\t23141\t1\tAUGUSTUS\tintron\t22609\t26300\t0.25\t-\t.\ttranscript_id \"g21533.t1\"; gene_id \"g21533\";\n",
      "1\t23173\t23175\t1\tAUGUSTUS\tintron\t22609\t26300\t0.25\t-\t.\ttranscript_id \"g21533.t1\"; gene_id \"g21533\";\n",
      "1\t23202\t23204\t1\tAUGUSTUS\tintron\t22609\t26300\t0.25\t-\t.\ttranscript_id \"g21533.t1\"; gene_id \"g21533\";\n",
      "1\t23326\t23328\t1\tAUGUSTUS\tintron\t22609\t26300\t0.25\t-\t.\ttranscript_id \"g21533.t1\"; gene_id \"g21533\";\n",
      "1\t23334\t23336\t1\tAUGUSTUS\tintron\t22609\t26300\t0.25\t-\t.\ttranscript_id \"g21533.t1\"; gene_id \"g21533\";\n",
      "1\t23382\t23384\t1\tAUGUSTUS\tintron\t22609\t26300\t0.25\t-\t.\ttranscript_id \"g21533.t1\"; gene_id \"g21533\";\n",
      "1\t23404\t23406\t1\tAUGUSTUS\tintron\t22609\t26300\t0.25\t-\t.\ttranscript_id \"g21533.t1\"; gene_id \"g21533\";\n"
     ]
    }
   ],
   "source": [
    "#Check output\n",
    "!head *mcIntrons"
   ]
  },
  {
   "cell_type": "code",
   "execution_count": 47,
   "metadata": {
    "collapsed": false,
    "scrolled": true
   },
   "outputs": [
    {
     "name": "stdout",
     "output_type": "stream",
     "text": [
      "   48781 Mcap_union_5x-averages-MBDBS.bedgraph-Meth.bed-mcIntrons\n",
      "   22188 Mcap_union_5x-averages-MBDBS.bedgraph-sparseMeth.bed-mcIntrons\n",
      "  133009 Mcap_union_5x-averages-MBDBS.bedgraph-unMeth.bed-mcIntrons\n",
      "  203978 Mcap_union_5x-averages-MBDBS.bedgraph.bed-mcIntrons\n",
      "  133901 Mcap_union_5x-averages-RRBS.bedgraph-Meth.bed-mcIntrons\n",
      "   60756 Mcap_union_5x-averages-RRBS.bedgraph-sparseMeth.bed-mcIntrons\n",
      "  868445 Mcap_union_5x-averages-RRBS.bedgraph-unMeth.bed-mcIntrons\n",
      " 1063102 Mcap_union_5x-averages-RRBS.bedgraph.bed-mcIntrons\n",
      "  547317 Mcap_union_5x-averages-WGBS.bedgraph-Meth.bed-mcIntrons\n",
      "  297449 Mcap_union_5x-averages-WGBS.bedgraph-sparseMeth.bed-mcIntrons\n",
      " 2303015 Mcap_union_5x-averages-WGBS.bedgraph-unMeth.bed-mcIntrons\n",
      " 3147781 Mcap_union_5x-averages-WGBS.bedgraph.bed-mcIntrons\n",
      " 8829722 total\n"
     ]
    }
   ],
   "source": [
    "#Count number of overlaps\n",
    "!wc -l *mcIntrons"
   ]
  },
  {
   "cell_type": "code",
   "execution_count": 48,
   "metadata": {
    "collapsed": true
   },
   "outputs": [],
   "source": [
    "!wc -l *mcIntrons > Mcap_union_5x-mcIntrons-counts.txt"
   ]
  },
  {
   "cell_type": "markdown",
   "metadata": {},
   "source": [
    "#### 3e. Flanking regions"
   ]
  },
  {
   "cell_type": "code",
   "execution_count": 49,
   "metadata": {
    "collapsed": true,
    "scrolled": true
   },
   "outputs": [],
   "source": [
    "%%bash\n",
    "\n",
    "for f in *bed\n",
    "do\n",
    "  /usr/local/bin/intersectBed \\\n",
    "  -wb \\\n",
    "  -a ${f} \\\n",
    "  -b ../../../genome-feature-files/Mcap.GFFannotation.flanks.gff \\\n",
    "  > ${f}-mcFlanks\n",
    "done"
   ]
  },
  {
   "cell_type": "code",
   "execution_count": 50,
   "metadata": {
    "collapsed": false
   },
   "outputs": [
    {
     "name": "stdout",
     "output_type": "stream",
     "text": [
      "==> Mcap_union_5x-averages-MBDBS.bedgraph-Meth.bed-mcFlanks <==\n",
      "1\t789213\t789215\t1\tAUGUSTUS\tgene\t788380\t789379\t0.68\t-\t.\tg21600\n",
      "1\t2070697\t2070699\t1\tAUGUSTUS\tgene\t2070531\t2071530\t0.88\t-\t.\tg21691\n",
      "1\t2070732\t2070734\t1\tAUGUSTUS\tgene\t2070531\t2071530\t0.88\t-\t.\tg21691\n",
      "2\t126187\t126189\t2\tAUGUSTUS\tgene\t125245\t126244\t0.6\t-\t.\tg21784\n",
      "2\t126190\t126192\t2\tAUGUSTUS\tgene\t125245\t126244\t0.6\t-\t.\tg21784\n",
      "2\t126197\t126199\t2\tAUGUSTUS\tgene\t125245\t126244\t0.6\t-\t.\tg21784\n",
      "2\t126199\t126201\t2\tAUGUSTUS\tgene\t125245\t126244\t0.6\t-\t.\tg21784\n",
      "2\t173804\t173806\t2\tAUGUSTUS\tgene\t173011\t174010\t0.32\t+\t.\tg21795\n",
      "2\t173810\t173812\t2\tAUGUSTUS\tgene\t173011\t174010\t0.32\t+\t.\tg21795\n",
      "2\t197311\t197313\t2\tAUGUSTUS\tgene\t196829\t197828\t0.17\t+\t.\tg21798\n",
      "\n",
      "==> Mcap_union_5x-averages-MBDBS.bedgraph-sparseMeth.bed-mcFlanks <==\n",
      "1\t217198\t217200\t1\tAUGUSTUS\tgene\t217011\t218010\t0.95\t-\t.\tg21549\n",
      "1\t376177\t376179\t1\tAUGUSTUS\tgene\t375372\t376371\t0.32\t-\t.\tg21558\n",
      "1\t458648\t458650\t1\tAUGUSTUS\tgene\t458012\t459011\t0.87\t-\t.\tg21567\n",
      "1\t618190\t618192\t1\tAUGUSTUS\tgene\t617737\t618736\t1\t+\t.\tg21582\n",
      "1\t618205\t618207\t1\tAUGUSTUS\tgene\t617737\t618736\t1\t+\t.\tg21582\n",
      "1\t726420\t726422\t1\tAUGUSTUS\tgene\t726311\t726537\t0.72\t-\t.\tg21593\n",
      "1\t726420\t726422\t1\tAUGUSTUS\tgene\t726311\t727310\t1\t-\t.\tg21594\n",
      "1\t743459\t743461\t1\tAUGUSTUS\tgene\t742708\t743707\t0.98\t-\t.\tg21595\n",
      "1\t778795\t778797\t1\tAUGUSTUS\tgene\t777826\t778825\t1\t-\t.\tg21596\n",
      "1\t789254\t789256\t1\tAUGUSTUS\tgene\t788380\t789379\t0.68\t-\t.\tg21600\n",
      "\n",
      "==> Mcap_union_5x-averages-MBDBS.bedgraph-unMeth.bed-mcFlanks <==\n",
      "1\t217219\t217221\t1\tAUGUSTUS\tgene\t217011\t218010\t0.95\t-\t.\tg21549\n",
      "1\t217248\t217250\t1\tAUGUSTUS\tgene\t217011\t218010\t0.95\t-\t.\tg21549\n",
      "1\t217269\t217271\t1\tAUGUSTUS\tgene\t217011\t218010\t0.95\t-\t.\tg21549\n",
      "1\t237189\t237191\t1\tAUGUSTUS\tgene\t236955\t237954\t1\t+\t.\tg21550\n",
      "1\t322944\t322946\t1\tAUGUSTUS\tgene\t322002\t323001\t1\t-\t.\tg21554\n",
      "1\t322963\t322965\t1\tAUGUSTUS\tgene\t322002\t323001\t1\t-\t.\tg21554\n",
      "1\t375501\t375503\t1\tAUGUSTUS\tgene\t375372\t376371\t0.32\t-\t.\tg21558\n",
      "1\t375506\t375508\t1\tAUGUSTUS\tgene\t375372\t376371\t0.32\t-\t.\tg21558\n",
      "1\t376200\t376202\t1\tAUGUSTUS\tgene\t375372\t376371\t0.32\t-\t.\tg21558\n",
      "1\t376220\t376222\t1\tAUGUSTUS\tgene\t375372\t376371\t0.32\t-\t.\tg21558\n",
      "\n",
      "==> Mcap_union_5x-averages-MBDBS.bedgraph.bed-mcFlanks <==\n",
      "1\t217198\t217200\t1\tAUGUSTUS\tgene\t217011\t218010\t0.95\t-\t.\tg21549\n",
      "1\t217219\t217221\t1\tAUGUSTUS\tgene\t217011\t218010\t0.95\t-\t.\tg21549\n",
      "1\t217248\t217250\t1\tAUGUSTUS\tgene\t217011\t218010\t0.95\t-\t.\tg21549\n",
      "1\t217269\t217271\t1\tAUGUSTUS\tgene\t217011\t218010\t0.95\t-\t.\tg21549\n",
      "1\t237189\t237191\t1\tAUGUSTUS\tgene\t236955\t237954\t1\t+\t.\tg21550\n",
      "1\t322944\t322946\t1\tAUGUSTUS\tgene\t322002\t323001\t1\t-\t.\tg21554\n",
      "1\t322963\t322965\t1\tAUGUSTUS\tgene\t322002\t323001\t1\t-\t.\tg21554\n",
      "1\t375501\t375503\t1\tAUGUSTUS\tgene\t375372\t376371\t0.32\t-\t.\tg21558\n",
      "1\t375506\t375508\t1\tAUGUSTUS\tgene\t375372\t376371\t0.32\t-\t.\tg21558\n",
      "1\t376177\t376179\t1\tAUGUSTUS\tgene\t375372\t376371\t0.32\t-\t.\tg21558\n",
      "\n",
      "==> Mcap_union_5x-averages-RRBS.bedgraph-Meth.bed-mcFlanks <==\n",
      "1\t147722\t147724\t1\tAUGUSTUS\tgene\t147344\t148343\t0.44\t+\t.\tg21541\n",
      "1\t147732\t147734\t1\tAUGUSTUS\tgene\t147344\t148343\t0.44\t+\t.\tg21541\n",
      "1\t147767\t147769\t1\tAUGUSTUS\tgene\t147344\t148343\t0.44\t+\t.\tg21541\n",
      "1\t147785\t147787\t1\tAUGUSTUS\tgene\t147344\t148343\t0.44\t+\t.\tg21541\n",
      "1\t147794\t147796\t1\tAUGUSTUS\tgene\t147344\t148343\t0.44\t+\t.\tg21541\n",
      "1\t147806\t147808\t1\tAUGUSTUS\tgene\t147344\t148343\t0.44\t+\t.\tg21541\n",
      "1\t788995\t788997\t1\tAUGUSTUS\tgene\t788380\t789379\t0.68\t-\t.\tg21600\n",
      "1\t1501390\t1501392\t1\tAUGUSTUS\tgene\t1500581\t1501580\t0.99\t+\t.\tg21643\n",
      "1\t1501390\t1501392\t1\tAUGUSTUS\tgene\t1500925\t1501924\t0.93\t-\t.\tg21644\n",
      "1\t1501624\t1501626\t1\tAUGUSTUS\tgene\t1500925\t1501924\t0.93\t-\t.\tg21644\n",
      "\n",
      "==> Mcap_union_5x-averages-RRBS.bedgraph-sparseMeth.bed-mcFlanks <==\n",
      "1\t21739\t21741\t1\tAUGUSTUS\tgene\t21321\t22320\t0.23\t-\t.\tg21533\n",
      "1\t87492\t87494\t1\tAUGUSTUS\tgene\t87347\t88346\t1\t+\t.\tg21537\n",
      "1\t185844\t185846\t1\tAUGUSTUS\tgene\t185773\t186181\t0.26\t+\t.\tg21546\n",
      "1\t185844\t185846\t1\tAUGUSTUS\tgene\t185773\t186181\t0.68\t+\t.\tg21547\n",
      "1\t186587\t186589\t1\tAUGUSTUS\tgene\t186521\t186772\t0.26\t+\t.\tg21546\n",
      "1\t186587\t186589\t1\tAUGUSTUS\tgene\t186521\t187520\t0.68\t+\t.\tg21547\n",
      "1\t237921\t237923\t1\tAUGUSTUS\tgene\t236955\t237954\t1\t+\t.\tg21550\n",
      "1\t237941\t237943\t1\tAUGUSTUS\tgene\t236955\t237954\t1\t+\t.\tg21550\n",
      "1\t322944\t322946\t1\tAUGUSTUS\tgene\t322002\t323001\t1\t-\t.\tg21554\n",
      "1\t357504\t357506\t1\tAUGUSTUS\tgene\t356969\t357968\t0.98\t+\t.\tg21557\n",
      "\n",
      "==> Mcap_union_5x-averages-RRBS.bedgraph-unMeth.bed-mcFlanks <==\n",
      "1\t21757\t21759\t1\tAUGUSTUS\tgene\t21321\t22320\t0.23\t-\t.\tg21533\n",
      "1\t21830\t21832\t1\tAUGUSTUS\tgene\t21321\t22320\t0.23\t-\t.\tg21533\n",
      "1\t21840\t21842\t1\tAUGUSTUS\tgene\t21321\t22320\t0.23\t-\t.\tg21533\n",
      "1\t21881\t21883\t1\tAUGUSTUS\tgene\t21321\t22320\t0.23\t-\t.\tg21533\n",
      "1\t21967\t21969\t1\tAUGUSTUS\tgene\t21321\t22320\t0.23\t-\t.\tg21533\n",
      "1\t21980\t21982\t1\tAUGUSTUS\tgene\t21321\t22320\t0.23\t-\t.\tg21533\n",
      "1\t22008\t22010\t1\tAUGUSTUS\tgene\t21321\t22320\t0.23\t-\t.\tg21533\n",
      "1\t22089\t22091\t1\tAUGUSTUS\tgene\t21321\t22320\t0.23\t-\t.\tg21533\n",
      "1\t22106\t22108\t1\tAUGUSTUS\tgene\t21321\t22320\t0.23\t-\t.\tg21533\n",
      "1\t22111\t22113\t1\tAUGUSTUS\tgene\t21321\t22320\t0.23\t-\t.\tg21533\n",
      "\n",
      "==> Mcap_union_5x-averages-RRBS.bedgraph.bed-mcFlanks <==\n",
      "1\t21739\t21741\t1\tAUGUSTUS\tgene\t21321\t22320\t0.23\t-\t.\tg21533\n",
      "1\t21757\t21759\t1\tAUGUSTUS\tgene\t21321\t22320\t0.23\t-\t.\tg21533\n",
      "1\t21830\t21832\t1\tAUGUSTUS\tgene\t21321\t22320\t0.23\t-\t.\tg21533\n",
      "1\t21840\t21842\t1\tAUGUSTUS\tgene\t21321\t22320\t0.23\t-\t.\tg21533\n",
      "1\t21881\t21883\t1\tAUGUSTUS\tgene\t21321\t22320\t0.23\t-\t.\tg21533\n",
      "1\t21967\t21969\t1\tAUGUSTUS\tgene\t21321\t22320\t0.23\t-\t.\tg21533\n",
      "1\t21980\t21982\t1\tAUGUSTUS\tgene\t21321\t22320\t0.23\t-\t.\tg21533\n",
      "1\t22008\t22010\t1\tAUGUSTUS\tgene\t21321\t22320\t0.23\t-\t.\tg21533\n",
      "1\t22089\t22091\t1\tAUGUSTUS\tgene\t21321\t22320\t0.23\t-\t.\tg21533\n",
      "1\t22106\t22108\t1\tAUGUSTUS\tgene\t21321\t22320\t0.23\t-\t.\tg21533\n",
      "\n",
      "==> Mcap_union_5x-averages-WGBS.bedgraph-Meth.bed-mcFlanks <==\n",
      "1\t443126\t443128\t1\tAUGUSTUS\tgene\t443083\t443143\t0.79\t-\t.\tg21565\n",
      "1\t443126\t443128\t1\tAUGUSTUS\tgene\t443083\t443143\t0.61\t-\t.\tg21566\n",
      "1\t444404\t444406\t1\tAUGUSTUS\tgene\t443636\t444635\t0.61\t-\t.\tg21566\n",
      "1\t1361040\t1361042\t1\tAUGUSTUS\tgene\t1360058\t1361057\t1\t-\t.\tg21633\n",
      "1\t1361043\t1361045\t1\tAUGUSTUS\tgene\t1360058\t1361057\t1\t-\t.\tg21633\n",
      "1\t1392908\t1392910\t1\tAUGUSTUS\tgene\t1392431\t1393430\t1\t+\t.\tg21634\n",
      "1\t1392921\t1392923\t1\tAUGUSTUS\tgene\t1392431\t1393430\t1\t+\t.\tg21634\n",
      "1\t1396199\t1396201\t1\tAUGUSTUS\tgene\t1395451\t1396450\t1\t-\t.\tg21635\n",
      "1\t1425370\t1425372\t1\tAUGUSTUS\tgene\t1425364\t1426363\t0.7\t+\t.\tg21636\n",
      "1\t1426748\t1426750\t1\tAUGUSTUS\tgene\t1426003\t1427002\t1\t-\t.\tg21637\n",
      "\n",
      "==> Mcap_union_5x-averages-WGBS.bedgraph-sparseMeth.bed-mcFlanks <==\n",
      "1\t19619\t19621\t1\tAUGUSTUS\tgene\t18756\t19755\t0.97\t-\t.\tg21532\n",
      "1\t21881\t21883\t1\tAUGUSTUS\tgene\t21321\t22320\t0.23\t-\t.\tg21533\n",
      "1\t22117\t22119\t1\tAUGUSTUS\tgene\t21321\t22320\t0.23\t-\t.\tg21533\n",
      "1\t27782\t27784\t1\tAUGUSTUS\tgene\t27294\t28293\t0.23\t-\t.\tg21533\n",
      "1\t37164\t37166\t1\tAUGUSTUS\tgene\t36447\t37446\t1\t+\t.\tg21534\n",
      "1\t37234\t37236\t1\tAUGUSTUS\tgene\t36447\t37446\t1\t+\t.\tg21534\n",
      "1\t52526\t52528\t1\tAUGUSTUS\tgene\t52267\t53266\t1\t+\t.\tg21534\n",
      "1\t63142\t63144\t1\tAUGUSTUS\tgene\t62558\t63557\t1\t-\t.\tg21535\n",
      "1\t63547\t63549\t1\tAUGUSTUS\tgene\t62558\t63557\t1\t-\t.\tg21535\n",
      "1\t63547\t63549\t1\tAUGUSTUS\tgene\t63466\t64465\t1\t+\t.\tg21536\n",
      "\n",
      "==> Mcap_union_5x-averages-WGBS.bedgraph-unMeth.bed-mcFlanks <==\n",
      "1\t17709\t17711\t1\tAUGUSTUS\tgene\t17387\t18386\t0.97\t-\t.\tg21532\n",
      "1\t17723\t17725\t1\tAUGUSTUS\tgene\t17387\t18386\t0.97\t-\t.\tg21532\n",
      "1\t19418\t19420\t1\tAUGUSTUS\tgene\t18756\t19755\t0.97\t-\t.\tg21532\n",
      "1\t19487\t19489\t1\tAUGUSTUS\tgene\t18756\t19755\t0.97\t-\t.\tg21532\n",
      "1\t19533\t19535\t1\tAUGUSTUS\tgene\t18756\t19755\t0.97\t-\t.\tg21532\n",
      "1\t19541\t19543\t1\tAUGUSTUS\tgene\t18756\t19755\t0.97\t-\t.\tg21532\n",
      "1\t19554\t19556\t1\tAUGUSTUS\tgene\t18756\t19755\t0.97\t-\t.\tg21532\n",
      "1\t19573\t19575\t1\tAUGUSTUS\tgene\t18756\t19755\t0.97\t-\t.\tg21532\n",
      "1\t19590\t19592\t1\tAUGUSTUS\tgene\t18756\t19755\t0.97\t-\t.\tg21532\n",
      "1\t19614\t19616\t1\tAUGUSTUS\tgene\t18756\t19755\t0.97\t-\t.\tg21532\n",
      "\n",
      "==> Mcap_union_5x-averages-WGBS.bedgraph.bed-mcFlanks <==\n",
      "1\t17709\t17711\t1\tAUGUSTUS\tgene\t17387\t18386\t0.97\t-\t.\tg21532\n",
      "1\t17723\t17725\t1\tAUGUSTUS\tgene\t17387\t18386\t0.97\t-\t.\tg21532\n",
      "1\t19418\t19420\t1\tAUGUSTUS\tgene\t18756\t19755\t0.97\t-\t.\tg21532\n",
      "1\t19487\t19489\t1\tAUGUSTUS\tgene\t18756\t19755\t0.97\t-\t.\tg21532\n",
      "1\t19533\t19535\t1\tAUGUSTUS\tgene\t18756\t19755\t0.97\t-\t.\tg21532\n",
      "1\t19541\t19543\t1\tAUGUSTUS\tgene\t18756\t19755\t0.97\t-\t.\tg21532\n",
      "1\t19554\t19556\t1\tAUGUSTUS\tgene\t18756\t19755\t0.97\t-\t.\tg21532\n",
      "1\t19573\t19575\t1\tAUGUSTUS\tgene\t18756\t19755\t0.97\t-\t.\tg21532\n",
      "1\t19590\t19592\t1\tAUGUSTUS\tgene\t18756\t19755\t0.97\t-\t.\tg21532\n",
      "1\t19614\t19616\t1\tAUGUSTUS\tgene\t18756\t19755\t0.97\t-\t.\tg21532\n"
     ]
    }
   ],
   "source": [
    "#Check output\n",
    "!head *mcFlanks"
   ]
  },
  {
   "cell_type": "code",
   "execution_count": 51,
   "metadata": {
    "collapsed": false,
    "scrolled": true
   },
   "outputs": [
    {
     "name": "stdout",
     "output_type": "stream",
     "text": [
      "   19297 Mcap_union_5x-averages-MBDBS.bedgraph-Meth.bed-mcFlanks\n",
      "   12581 Mcap_union_5x-averages-MBDBS.bedgraph-sparseMeth.bed-mcFlanks\n",
      "   65423 Mcap_union_5x-averages-MBDBS.bedgraph-unMeth.bed-mcFlanks\n",
      "   97301 Mcap_union_5x-averages-MBDBS.bedgraph.bed-mcFlanks\n",
      "   37968 Mcap_union_5x-averages-RRBS.bedgraph-Meth.bed-mcFlanks\n",
      "   27669 Mcap_union_5x-averages-RRBS.bedgraph-sparseMeth.bed-mcFlanks\n",
      "  361553 Mcap_union_5x-averages-RRBS.bedgraph-unMeth.bed-mcFlanks\n",
      "  427190 Mcap_union_5x-averages-RRBS.bedgraph.bed-mcFlanks\n",
      "  151474 Mcap_union_5x-averages-WGBS.bedgraph-Meth.bed-mcFlanks\n",
      "  142393 Mcap_union_5x-averages-WGBS.bedgraph-sparseMeth.bed-mcFlanks\n",
      "  985243 Mcap_union_5x-averages-WGBS.bedgraph-unMeth.bed-mcFlanks\n",
      " 1279110 Mcap_union_5x-averages-WGBS.bedgraph.bed-mcFlanks\n",
      " 3607202 total\n"
     ]
    }
   ],
   "source": [
    "#Count number of overlaps\n",
    "!wc -l *mcFlanks"
   ]
  },
  {
   "cell_type": "code",
   "execution_count": 52,
   "metadata": {
    "collapsed": true
   },
   "outputs": [],
   "source": [
    "!wc -l *mcFlanks > Mcap_union_5x-mcFlanks-counts.txt"
   ]
  },
  {
   "cell_type": "markdown",
   "metadata": {},
   "source": [
    "#### 3f. Upstream flanking regions"
   ]
  },
  {
   "cell_type": "code",
   "execution_count": 53,
   "metadata": {
    "collapsed": true,
    "scrolled": true
   },
   "outputs": [],
   "source": [
    "%%bash\n",
    "\n",
    "for f in *bed\n",
    "do\n",
    "  /usr/local/bin/intersectBed \\\n",
    "  -wb \\\n",
    "  -a ${f} \\\n",
    "  -b ../../../genome-feature-files/Mcap.GFFannotation.flanks.Upstream.gff \\\n",
    "  > ${f}-mcFlanksUpstream\n",
    "done"
   ]
  },
  {
   "cell_type": "code",
   "execution_count": 54,
   "metadata": {
    "collapsed": false
   },
   "outputs": [
    {
     "name": "stdout",
     "output_type": "stream",
     "text": [
      "==> Mcap_union_5x-averages-MBDBS.bedgraph-Meth.bed-mcFlanksUpstream <==\r\n",
      "2\t126187\t126189\t2\tAUGUSTUS\tgene\t125245\t126244\t0.6\t-\t.\tg21784\r\n",
      "2\t126190\t126192\t2\tAUGUSTUS\tgene\t125245\t126244\t0.6\t-\t.\tg21784\r\n",
      "2\t126197\t126199\t2\tAUGUSTUS\tgene\t125245\t126244\t0.6\t-\t.\tg21784\r\n",
      "2\t126199\t126201\t2\tAUGUSTUS\tgene\t125245\t126244\t0.6\t-\t.\tg21784\r\n",
      "2\t173804\t173806\t2\tAUGUSTUS\tgene\t173011\t174010\t0.32\t+\t.\tg21795\r\n",
      "2\t173810\t173812\t2\tAUGUSTUS\tgene\t173011\t174010\t0.32\t+\t.\tg21795\r\n",
      "2\t389824\t389826\t2\tAUGUSTUS\tgene\t389559\t390558\t0.83\t-\t.\tg21842\r\n",
      "2\t420160\t420162\t2\tAUGUSTUS\tgene\t419558\t420557\t0.88\t+\t.\tg21852\r\n",
      "2\t445154\t445156\t2\tAUGUSTUS\tgene\t445143\t446142\t0.63\t-\t.\tg21856\r\n",
      "2\t445170\t445172\t2\tAUGUSTUS\tgene\t445143\t446142\t0.63\t-\t.\tg21856\r\n",
      "\r\n",
      "==> Mcap_union_5x-averages-MBDBS.bedgraph-sparseMeth.bed-mcFlanksUpstream <==\r\n",
      "1\t376177\t376179\t1\tAUGUSTUS\tgene\t375372\t376371\t0.32\t-\t.\tg21558\r\n",
      "1\t618190\t618192\t1\tAUGUSTUS\tgene\t617737\t618736\t1\t+\t.\tg21582\r\n",
      "1\t618205\t618207\t1\tAUGUSTUS\tgene\t617737\t618736\t1\t+\t.\tg21582\r\n",
      "1\t726420\t726422\t1\tAUGUSTUS\tgene\t726311\t726537\t0.72\t-\t.\tg21593\r\n",
      "1\t726420\t726422\t1\tAUGUSTUS\tgene\t726311\t727310\t1\t-\t.\tg21594\r\n",
      "1\t944356\t944358\t1\tAUGUSTUS\tgene\t944184\t945183\t0.98\t+\t.\tg21608\r\n",
      "1\t1276837\t1276839\t1\tAUGUSTUS\tgene\t1276749\t1277748\t0.95\t-\t.\tg21628\r\n",
      "1\t1276872\t1276874\t1\tAUGUSTUS\tgene\t1276749\t1277748\t0.95\t-\t.\tg21628\r\n",
      "1\t1700903\t1700905\t1\tAUGUSTUS\tgene\t1700431\t1701165\t0.85\t+\t.\tg21654\r\n",
      "1\t1700905\t1700907\t1\tAUGUSTUS\tgene\t1700431\t1701165\t0.85\t+\t.\tg21654\r\n",
      "\r\n",
      "==> Mcap_union_5x-averages-MBDBS.bedgraph-unMeth.bed-mcFlanksUpstream <==\r\n",
      "1\t237189\t237191\t1\tAUGUSTUS\tgene\t236955\t237954\t1\t+\t.\tg21550\r\n",
      "1\t375501\t375503\t1\tAUGUSTUS\tgene\t375372\t376371\t0.32\t-\t.\tg21558\r\n",
      "1\t375506\t375508\t1\tAUGUSTUS\tgene\t375372\t376371\t0.32\t-\t.\tg21558\r\n",
      "1\t376200\t376202\t1\tAUGUSTUS\tgene\t375372\t376371\t0.32\t-\t.\tg21558\r\n",
      "1\t376220\t376222\t1\tAUGUSTUS\tgene\t375372\t376371\t0.32\t-\t.\tg21558\r\n",
      "1\t376235\t376237\t1\tAUGUSTUS\tgene\t375372\t376371\t0.32\t-\t.\tg21558\r\n",
      "1\t376261\t376263\t1\tAUGUSTUS\tgene\t375372\t376371\t0.32\t-\t.\tg21558\r\n",
      "1\t376283\t376285\t1\tAUGUSTUS\tgene\t375372\t376371\t0.32\t-\t.\tg21558\r\n",
      "1\t376288\t376290\t1\tAUGUSTUS\tgene\t375372\t376371\t0.32\t-\t.\tg21558\r\n",
      "1\t376319\t376321\t1\tAUGUSTUS\tgene\t375372\t376371\t0.32\t-\t.\tg21558\r\n",
      "\r\n",
      "==> Mcap_union_5x-averages-MBDBS.bedgraph.bed-mcFlanksUpstream <==\r\n",
      "1\t237189\t237191\t1\tAUGUSTUS\tgene\t236955\t237954\t1\t+\t.\tg21550\r\n",
      "1\t375501\t375503\t1\tAUGUSTUS\tgene\t375372\t376371\t0.32\t-\t.\tg21558\r\n",
      "1\t375506\t375508\t1\tAUGUSTUS\tgene\t375372\t376371\t0.32\t-\t.\tg21558\r\n",
      "1\t376177\t376179\t1\tAUGUSTUS\tgene\t375372\t376371\t0.32\t-\t.\tg21558\r\n",
      "1\t376200\t376202\t1\tAUGUSTUS\tgene\t375372\t376371\t0.32\t-\t.\tg21558\r\n",
      "1\t376220\t376222\t1\tAUGUSTUS\tgene\t375372\t376371\t0.32\t-\t.\tg21558\r\n",
      "1\t376235\t376237\t1\tAUGUSTUS\tgene\t375372\t376371\t0.32\t-\t.\tg21558\r\n",
      "1\t376261\t376263\t1\tAUGUSTUS\tgene\t375372\t376371\t0.32\t-\t.\tg21558\r\n",
      "1\t376283\t376285\t1\tAUGUSTUS\tgene\t375372\t376371\t0.32\t-\t.\tg21558\r\n",
      "1\t376288\t376290\t1\tAUGUSTUS\tgene\t375372\t376371\t0.32\t-\t.\tg21558\r\n",
      "\r\n",
      "==> Mcap_union_5x-averages-RRBS.bedgraph-Meth.bed-mcFlanksUpstream <==\r\n",
      "1\t147722\t147724\t1\tAUGUSTUS\tgene\t147344\t148343\t0.44\t+\t.\tg21541\r\n",
      "1\t147732\t147734\t1\tAUGUSTUS\tgene\t147344\t148343\t0.44\t+\t.\tg21541\r\n",
      "1\t147767\t147769\t1\tAUGUSTUS\tgene\t147344\t148343\t0.44\t+\t.\tg21541\r\n",
      "1\t147785\t147787\t1\tAUGUSTUS\tgene\t147344\t148343\t0.44\t+\t.\tg21541\r\n",
      "1\t147794\t147796\t1\tAUGUSTUS\tgene\t147344\t148343\t0.44\t+\t.\tg21541\r\n",
      "1\t147806\t147808\t1\tAUGUSTUS\tgene\t147344\t148343\t0.44\t+\t.\tg21541\r\n",
      "1\t1868165\t1868167\t1\tAUGUSTUS\tgene\t1868053\t1869052\t0.54\t+\t.\tg21672\r\n",
      "1\t1868179\t1868181\t1\tAUGUSTUS\tgene\t1868053\t1869052\t0.54\t+\t.\tg21672\r\n",
      "1\t1868187\t1868189\t1\tAUGUSTUS\tgene\t1868053\t1869052\t0.54\t+\t.\tg21672\r\n",
      "1\t1868189\t1868191\t1\tAUGUSTUS\tgene\t1868053\t1869052\t0.54\t+\t.\tg21672\r\n",
      "\r\n",
      "==> Mcap_union_5x-averages-RRBS.bedgraph-sparseMeth.bed-mcFlanksUpstream <==\r\n",
      "1\t87492\t87494\t1\tAUGUSTUS\tgene\t87347\t88346\t1\t+\t.\tg21537\r\n",
      "1\t185844\t185846\t1\tAUGUSTUS\tgene\t185773\t186181\t0.68\t+\t.\tg21547\r\n",
      "1\t237921\t237923\t1\tAUGUSTUS\tgene\t236955\t237954\t1\t+\t.\tg21550\r\n",
      "1\t237941\t237943\t1\tAUGUSTUS\tgene\t236955\t237954\t1\t+\t.\tg21550\r\n",
      "1\t704539\t704541\t1\tAUGUSTUS\tgene\t704324\t705323\t0.47\t-\t.\tg21591\r\n",
      "1\t704579\t704581\t1\tAUGUSTUS\tgene\t704324\t705323\t0.47\t-\t.\tg21591\r\n",
      "1\t726460\t726462\t1\tAUGUSTUS\tgene\t726311\t726537\t0.72\t-\t.\tg21593\r\n",
      "1\t726460\t726462\t1\tAUGUSTUS\tgene\t726311\t727310\t1\t-\t.\tg21594\r\n",
      "1\t790796\t790798\t1\tAUGUSTUS\tgene\t790335\t791334\t0.68\t-\t.\tg21600\r\n",
      "1\t1175900\t1175902\t1\tAUGUSTUS\tgene\t1175137\t1176136\t0.48\t-\t.\tg21623\r\n",
      "\r\n",
      "==> Mcap_union_5x-averages-RRBS.bedgraph-unMeth.bed-mcFlanksUpstream <==\r\n",
      "1\t62755\t62757\t1\tAUGUSTUS\tgene\t62558\t63557\t1\t-\t.\tg21535\r\n",
      "1\t62841\t62843\t1\tAUGUSTUS\tgene\t62558\t63557\t1\t-\t.\tg21535\r\n",
      "1\t63350\t63352\t1\tAUGUSTUS\tgene\t62558\t63557\t1\t-\t.\tg21535\r\n",
      "1\t63357\t63359\t1\tAUGUSTUS\tgene\t62558\t63557\t1\t-\t.\tg21535\r\n",
      "1\t63369\t63371\t1\tAUGUSTUS\tgene\t62558\t63557\t1\t-\t.\tg21535\r\n",
      "1\t63388\t63390\t1\tAUGUSTUS\tgene\t62558\t63557\t1\t-\t.\tg21535\r\n",
      "1\t63390\t63392\t1\tAUGUSTUS\tgene\t62558\t63557\t1\t-\t.\tg21535\r\n",
      "1\t63431\t63433\t1\tAUGUSTUS\tgene\t62558\t63557\t1\t-\t.\tg21535\r\n",
      "1\t63443\t63445\t1\tAUGUSTUS\tgene\t62558\t63557\t1\t-\t.\tg21535\r\n",
      "1\t63485\t63487\t1\tAUGUSTUS\tgene\t62558\t63557\t1\t-\t.\tg21535\r\n",
      "\r\n",
      "==> Mcap_union_5x-averages-RRBS.bedgraph.bed-mcFlanksUpstream <==\r\n",
      "1\t62755\t62757\t1\tAUGUSTUS\tgene\t62558\t63557\t1\t-\t.\tg21535\r\n",
      "1\t62841\t62843\t1\tAUGUSTUS\tgene\t62558\t63557\t1\t-\t.\tg21535\r\n",
      "1\t63350\t63352\t1\tAUGUSTUS\tgene\t62558\t63557\t1\t-\t.\tg21535\r\n",
      "1\t63357\t63359\t1\tAUGUSTUS\tgene\t62558\t63557\t1\t-\t.\tg21535\r\n",
      "1\t63369\t63371\t1\tAUGUSTUS\tgene\t62558\t63557\t1\t-\t.\tg21535\r\n",
      "1\t63388\t63390\t1\tAUGUSTUS\tgene\t62558\t63557\t1\t-\t.\tg21535\r\n",
      "1\t63390\t63392\t1\tAUGUSTUS\tgene\t62558\t63557\t1\t-\t.\tg21535\r\n",
      "1\t63431\t63433\t1\tAUGUSTUS\tgene\t62558\t63557\t1\t-\t.\tg21535\r\n",
      "1\t63443\t63445\t1\tAUGUSTUS\tgene\t62558\t63557\t1\t-\t.\tg21535\r\n",
      "1\t63485\t63487\t1\tAUGUSTUS\tgene\t62558\t63557\t1\t-\t.\tg21535\r\n",
      "\r\n",
      "==> Mcap_union_5x-averages-WGBS.bedgraph-Meth.bed-mcFlanksUpstream <==\r\n",
      "1\t443126\t443128\t1\tAUGUSTUS\tgene\t443083\t443143\t0.79\t-\t.\tg21565\r\n",
      "1\t444404\t444406\t1\tAUGUSTUS\tgene\t443636\t444635\t0.61\t-\t.\tg21566\r\n",
      "1\t1663471\t1663473\t1\tAUGUSTUS\tgene\t1663341\t1664340\t1\t+\t.\tg21652\r\n",
      "1\t1663475\t1663477\t1\tAUGUSTUS\tgene\t1663341\t1664340\t1\t+\t.\tg21652\r\n",
      "1\t1663486\t1663488\t1\tAUGUSTUS\tgene\t1663341\t1664340\t1\t+\t.\tg21652\r\n",
      "1\t1663520\t1663522\t1\tAUGUSTUS\tgene\t1663341\t1664340\t1\t+\t.\tg21652\r\n",
      "1\t1820781\t1820783\t1\tAUGUSTUS\tgene\t1820776\t1821775\t1\t+\t.\tg21665\r\n",
      "1\t1820794\t1820796\t1\tAUGUSTUS\tgene\t1820776\t1821775\t1\t+\t.\tg21665\r\n",
      "1\t1820815\t1820817\t1\tAUGUSTUS\tgene\t1820776\t1821775\t1\t+\t.\tg21665\r\n",
      "1\t1820965\t1820967\t1\tAUGUSTUS\tgene\t1820776\t1821775\t1\t+\t.\tg21665\r\n",
      "\r\n",
      "==> Mcap_union_5x-averages-WGBS.bedgraph-sparseMeth.bed-mcFlanksUpstream <==\r\n",
      "1\t19619\t19621\t1\tAUGUSTUS\tgene\t18756\t19755\t0.97\t-\t.\tg21532\r\n",
      "1\t27782\t27784\t1\tAUGUSTUS\tgene\t27294\t28293\t0.23\t-\t.\tg21533\r\n",
      "1\t37164\t37166\t1\tAUGUSTUS\tgene\t36447\t37446\t1\t+\t.\tg21534\r\n",
      "1\t37234\t37236\t1\tAUGUSTUS\tgene\t36447\t37446\t1\t+\t.\tg21534\r\n",
      "1\t63142\t63144\t1\tAUGUSTUS\tgene\t62558\t63557\t1\t-\t.\tg21535\r\n",
      "1\t63547\t63549\t1\tAUGUSTUS\tgene\t62558\t63557\t1\t-\t.\tg21535\r\n",
      "1\t63547\t63549\t1\tAUGUSTUS\tgene\t63466\t64465\t1\t+\t.\tg21536\r\n",
      "1\t63579\t63581\t1\tAUGUSTUS\tgene\t63466\t64465\t1\t+\t.\tg21536\r\n",
      "1\t109745\t109747\t1\tAUGUSTUS\tgene\t109730\t109866\t0.99\t-\t.\tg21538\r\n",
      "1\t109745\t109747\t1\tAUGUSTUS\tgene\t109730\t109866\t0.89\t+\t.\tg21539\r\n",
      "\r\n",
      "==> Mcap_union_5x-averages-WGBS.bedgraph-unMeth.bed-mcFlanksUpstream <==\r\n",
      "1\t19418\t19420\t1\tAUGUSTUS\tgene\t18756\t19755\t0.97\t-\t.\tg21532\r\n",
      "1\t19487\t19489\t1\tAUGUSTUS\tgene\t18756\t19755\t0.97\t-\t.\tg21532\r\n",
      "1\t19533\t19535\t1\tAUGUSTUS\tgene\t18756\t19755\t0.97\t-\t.\tg21532\r\n",
      "1\t19541\t19543\t1\tAUGUSTUS\tgene\t18756\t19755\t0.97\t-\t.\tg21532\r\n",
      "1\t19554\t19556\t1\tAUGUSTUS\tgene\t18756\t19755\t0.97\t-\t.\tg21532\r\n",
      "1\t19573\t19575\t1\tAUGUSTUS\tgene\t18756\t19755\t0.97\t-\t.\tg21532\r\n",
      "1\t19590\t19592\t1\tAUGUSTUS\tgene\t18756\t19755\t0.97\t-\t.\tg21532\r\n",
      "1\t19614\t19616\t1\tAUGUSTUS\tgene\t18756\t19755\t0.97\t-\t.\tg21532\r\n",
      "1\t19617\t19619\t1\tAUGUSTUS\tgene\t18756\t19755\t0.97\t-\t.\tg21532\r\n",
      "1\t19625\t19627\t1\tAUGUSTUS\tgene\t18756\t19755\t0.97\t-\t.\tg21532\r\n",
      "\r\n",
      "==> Mcap_union_5x-averages-WGBS.bedgraph.bed-mcFlanksUpstream <==\r\n",
      "1\t19418\t19420\t1\tAUGUSTUS\tgene\t18756\t19755\t0.97\t-\t.\tg21532\r\n",
      "1\t19487\t19489\t1\tAUGUSTUS\tgene\t18756\t19755\t0.97\t-\t.\tg21532\r\n",
      "1\t19533\t19535\t1\tAUGUSTUS\tgene\t18756\t19755\t0.97\t-\t.\tg21532\r\n",
      "1\t19541\t19543\t1\tAUGUSTUS\tgene\t18756\t19755\t0.97\t-\t.\tg21532\r\n",
      "1\t19554\t19556\t1\tAUGUSTUS\tgene\t18756\t19755\t0.97\t-\t.\tg21532\r\n",
      "1\t19573\t19575\t1\tAUGUSTUS\tgene\t18756\t19755\t0.97\t-\t.\tg21532\r\n",
      "1\t19590\t19592\t1\tAUGUSTUS\tgene\t18756\t19755\t0.97\t-\t.\tg21532\r\n",
      "1\t19614\t19616\t1\tAUGUSTUS\tgene\t18756\t19755\t0.97\t-\t.\tg21532\r\n",
      "1\t19617\t19619\t1\tAUGUSTUS\tgene\t18756\t19755\t0.97\t-\t.\tg21532\r\n",
      "1\t19619\t19621\t1\tAUGUSTUS\tgene\t18756\t19755\t0.97\t-\t.\tg21532\r\n"
     ]
    }
   ],
   "source": [
    "#Check output\n",
    "!head *mcFlanksUpstream"
   ]
  },
  {
   "cell_type": "code",
   "execution_count": 55,
   "metadata": {
    "collapsed": false,
    "scrolled": true
   },
   "outputs": [
    {
     "name": "stdout",
     "output_type": "stream",
     "text": [
      "   10087 Mcap_union_5x-averages-MBDBS.bedgraph-Meth.bed-mcFlanksUpstream\n",
      "    6951 Mcap_union_5x-averages-MBDBS.bedgraph-sparseMeth.bed-mcFlanksUpstream\n",
      "   35949 Mcap_union_5x-averages-MBDBS.bedgraph-unMeth.bed-mcFlanksUpstream\n",
      "   52987 Mcap_union_5x-averages-MBDBS.bedgraph.bed-mcFlanksUpstream\n",
      "   19889 Mcap_union_5x-averages-RRBS.bedgraph-Meth.bed-mcFlanksUpstream\n",
      "   14562 Mcap_union_5x-averages-RRBS.bedgraph-sparseMeth.bed-mcFlanksUpstream\n",
      "  201313 Mcap_union_5x-averages-RRBS.bedgraph-unMeth.bed-mcFlanksUpstream\n",
      "  235764 Mcap_union_5x-averages-RRBS.bedgraph.bed-mcFlanksUpstream\n",
      "   77156 Mcap_union_5x-averages-WGBS.bedgraph-Meth.bed-mcFlanksUpstream\n",
      "   74507 Mcap_union_5x-averages-WGBS.bedgraph-sparseMeth.bed-mcFlanksUpstream\n",
      "  533799 Mcap_union_5x-averages-WGBS.bedgraph-unMeth.bed-mcFlanksUpstream\n",
      "  685462 Mcap_union_5x-averages-WGBS.bedgraph.bed-mcFlanksUpstream\n",
      " 1948426 total\n"
     ]
    }
   ],
   "source": [
    "#Count number of overlaps\n",
    "!wc -l *mcFlanksUpstream"
   ]
  },
  {
   "cell_type": "code",
   "execution_count": 56,
   "metadata": {
    "collapsed": true
   },
   "outputs": [],
   "source": [
    "!wc -l *mcFlanksUpstream > Mcap_union_5x-mcFlanksUpstream-counts.txt"
   ]
  },
  {
   "cell_type": "markdown",
   "metadata": {},
   "source": [
    "#### 3g. Downstream flanking regions"
   ]
  },
  {
   "cell_type": "code",
   "execution_count": 57,
   "metadata": {
    "collapsed": true,
    "scrolled": true
   },
   "outputs": [],
   "source": [
    "%%bash\n",
    "\n",
    "for f in *bed\n",
    "do\n",
    "  /usr/local/bin/intersectBed \\\n",
    "  -wb \\\n",
    "  -a ${f} \\\n",
    "  -b ../../../genome-feature-files/Mcap.GFFannotation.flanks.Downstream.gff \\\n",
    "  > ${f}-mcFlanksDownstream\n",
    "done"
   ]
  },
  {
   "cell_type": "code",
   "execution_count": 58,
   "metadata": {
    "collapsed": false
   },
   "outputs": [
    {
     "name": "stdout",
     "output_type": "stream",
     "text": [
      "==> Mcap_union_5x-averages-MBDBS.bedgraph-Meth.bed-mcFlanksDownstream <==\n",
      "1\t789213\t789215\t1\tAUGUSTUS\tgene\t788380\t789379\t0.68\t-\t.\tg21600\n",
      "1\t2070697\t2070699\t1\tAUGUSTUS\tgene\t2070531\t2071530\t0.88\t-\t.\tg21691\n",
      "1\t2070732\t2070734\t1\tAUGUSTUS\tgene\t2070531\t2071530\t0.88\t-\t.\tg21691\n",
      "2\t197311\t197313\t2\tAUGUSTUS\tgene\t196829\t197828\t0.17\t+\t.\tg21798\n",
      "2\t197321\t197323\t2\tAUGUSTUS\tgene\t196829\t197828\t0.17\t+\t.\tg21798\n",
      "2\t197327\t197329\t2\tAUGUSTUS\tgene\t196829\t197828\t0.17\t+\t.\tg21798\n",
      "2\t260911\t260913\t2\tAUGUSTUS\tgene\t259987\t260986\t0.6\t-\t.\tg21809\n",
      "2\t301621\t301623\t2\tAUGUSTUS\tgene\t301474\t302473\t0.73\t+\t.\tg21817\n",
      "2\t330280\t330282\t2\tAUGUSTUS\tgene\t329400\t330399\t1\t+\t.\tg21824\n",
      "2\t330291\t330293\t2\tAUGUSTUS\tgene\t329400\t330399\t1\t+\t.\tg21824\n",
      "\n",
      "==> Mcap_union_5x-averages-MBDBS.bedgraph-sparseMeth.bed-mcFlanksDownstream <==\n",
      "1\t217198\t217200\t1\tAUGUSTUS\tgene\t217011\t218010\t0.95\t-\t.\tg21549\n",
      "1\t458648\t458650\t1\tAUGUSTUS\tgene\t458012\t459011\t0.87\t-\t.\tg21567\n",
      "1\t743459\t743461\t1\tAUGUSTUS\tgene\t742708\t743707\t0.98\t-\t.\tg21595\n",
      "1\t778795\t778797\t1\tAUGUSTUS\tgene\t777826\t778825\t1\t-\t.\tg21596\n",
      "1\t789254\t789256\t1\tAUGUSTUS\tgene\t788380\t789379\t0.68\t-\t.\tg21600\n",
      "1\t789277\t789279\t1\tAUGUSTUS\tgene\t788380\t789379\t0.68\t-\t.\tg21600\n",
      "1\t1700903\t1700905\t1\tAUGUSTUS\tgene\t1700431\t1701165\t0.65\t+\t.\tg21653\n",
      "1\t1700905\t1700907\t1\tAUGUSTUS\tgene\t1700431\t1701165\t0.65\t+\t.\tg21653\n",
      "1\t1708805\t1708807\t1\tAUGUSTUS\tgene\t1708460\t1709459\t0.66\t-\t.\tg21655\n",
      "1\t1709206\t1709208\t1\tAUGUSTUS\tgene\t1708460\t1709459\t0.66\t-\t.\tg21655\n",
      "\n",
      "==> Mcap_union_5x-averages-MBDBS.bedgraph-unMeth.bed-mcFlanksDownstream <==\n",
      "1\t217219\t217221\t1\tAUGUSTUS\tgene\t217011\t218010\t0.95\t-\t.\tg21549\n",
      "1\t217248\t217250\t1\tAUGUSTUS\tgene\t217011\t218010\t0.95\t-\t.\tg21549\n",
      "1\t217269\t217271\t1\tAUGUSTUS\tgene\t217011\t218010\t0.95\t-\t.\tg21549\n",
      "1\t322944\t322946\t1\tAUGUSTUS\tgene\t322002\t323001\t1\t-\t.\tg21554\n",
      "1\t322963\t322965\t1\tAUGUSTUS\tgene\t322002\t323001\t1\t-\t.\tg21554\n",
      "1\t458552\t458554\t1\tAUGUSTUS\tgene\t458012\t459011\t0.87\t-\t.\tg21567\n",
      "1\t458666\t458668\t1\tAUGUSTUS\tgene\t458012\t459011\t0.87\t-\t.\tg21567\n",
      "1\t458703\t458705\t1\tAUGUSTUS\tgene\t458012\t459011\t0.87\t-\t.\tg21567\n",
      "1\t458918\t458920\t1\tAUGUSTUS\tgene\t458012\t459011\t0.87\t-\t.\tg21567\n",
      "1\t458933\t458935\t1\tAUGUSTUS\tgene\t458012\t459011\t0.87\t-\t.\tg21567\n",
      "\n",
      "==> Mcap_union_5x-averages-MBDBS.bedgraph.bed-mcFlanksDownstream <==\n",
      "1\t217198\t217200\t1\tAUGUSTUS\tgene\t217011\t218010\t0.95\t-\t.\tg21549\n",
      "1\t217219\t217221\t1\tAUGUSTUS\tgene\t217011\t218010\t0.95\t-\t.\tg21549\n",
      "1\t217248\t217250\t1\tAUGUSTUS\tgene\t217011\t218010\t0.95\t-\t.\tg21549\n",
      "1\t217269\t217271\t1\tAUGUSTUS\tgene\t217011\t218010\t0.95\t-\t.\tg21549\n",
      "1\t322944\t322946\t1\tAUGUSTUS\tgene\t322002\t323001\t1\t-\t.\tg21554\n",
      "1\t322963\t322965\t1\tAUGUSTUS\tgene\t322002\t323001\t1\t-\t.\tg21554\n",
      "1\t458552\t458554\t1\tAUGUSTUS\tgene\t458012\t459011\t0.87\t-\t.\tg21567\n",
      "1\t458648\t458650\t1\tAUGUSTUS\tgene\t458012\t459011\t0.87\t-\t.\tg21567\n",
      "1\t458666\t458668\t1\tAUGUSTUS\tgene\t458012\t459011\t0.87\t-\t.\tg21567\n",
      "1\t458703\t458705\t1\tAUGUSTUS\tgene\t458012\t459011\t0.87\t-\t.\tg21567\n",
      "\n",
      "==> Mcap_union_5x-averages-RRBS.bedgraph-Meth.bed-mcFlanksDownstream <==\n",
      "1\t788995\t788997\t1\tAUGUSTUS\tgene\t788380\t789379\t0.68\t-\t.\tg21600\n",
      "1\t1501390\t1501392\t1\tAUGUSTUS\tgene\t1500581\t1501580\t0.99\t+\t.\tg21643\n",
      "1\t1501390\t1501392\t1\tAUGUSTUS\tgene\t1500925\t1501924\t0.93\t-\t.\tg21644\n",
      "1\t1501624\t1501626\t1\tAUGUSTUS\tgene\t1500925\t1501924\t0.93\t-\t.\tg21644\n",
      "1\t1726224\t1726226\t1\tAUGUSTUS\tgene\t1725880\t1726721\t1\t+\t.\tg21656\n",
      "1\t1726224\t1726226\t1\tAUGUSTUS\tgene\t1725880\t1726721\t1\t-\t.\tg21657\n",
      "1\t1726417\t1726419\t1\tAUGUSTUS\tgene\t1725880\t1726721\t1\t+\t.\tg21656\n",
      "1\t1726417\t1726419\t1\tAUGUSTUS\tgene\t1725880\t1726721\t1\t-\t.\tg21657\n",
      "1\t1726438\t1726440\t1\tAUGUSTUS\tgene\t1725880\t1726721\t1\t+\t.\tg21656\n",
      "1\t1726438\t1726440\t1\tAUGUSTUS\tgene\t1725880\t1726721\t1\t-\t.\tg21657\n",
      "\n",
      "==> Mcap_union_5x-averages-RRBS.bedgraph-sparseMeth.bed-mcFlanksDownstream <==\n",
      "1\t21739\t21741\t1\tAUGUSTUS\tgene\t21321\t22320\t0.23\t-\t.\tg21533\n",
      "1\t185844\t185846\t1\tAUGUSTUS\tgene\t185773\t186181\t0.26\t+\t.\tg21546\n",
      "1\t186587\t186589\t1\tAUGUSTUS\tgene\t186521\t186772\t0.26\t+\t.\tg21546\n",
      "1\t186587\t186589\t1\tAUGUSTUS\tgene\t186521\t187520\t0.68\t+\t.\tg21547\n",
      "1\t322944\t322946\t1\tAUGUSTUS\tgene\t322002\t323001\t1\t-\t.\tg21554\n",
      "1\t357504\t357506\t1\tAUGUSTUS\tgene\t356969\t357968\t0.98\t+\t.\tg21557\n",
      "1\t357548\t357550\t1\tAUGUSTUS\tgene\t356969\t357968\t0.98\t+\t.\tg21557\n",
      "1\t701549\t701551\t1\tAUGUSTUS\tgene\t701479\t702478\t1\t-\t.\tg21590\n",
      "1\t946452\t946454\t1\tAUGUSTUS\tgene\t946114\t947113\t0.98\t+\t.\tg21608\n",
      "1\t1175900\t1175902\t1\tAUGUSTUS\tgene\t1175266\t1176265\t1\t-\t.\tg21624\n",
      "\n",
      "==> Mcap_union_5x-averages-RRBS.bedgraph-unMeth.bed-mcFlanksDownstream <==\n",
      "1\t21757\t21759\t1\tAUGUSTUS\tgene\t21321\t22320\t0.23\t-\t.\tg21533\n",
      "1\t21830\t21832\t1\tAUGUSTUS\tgene\t21321\t22320\t0.23\t-\t.\tg21533\n",
      "1\t21840\t21842\t1\tAUGUSTUS\tgene\t21321\t22320\t0.23\t-\t.\tg21533\n",
      "1\t21881\t21883\t1\tAUGUSTUS\tgene\t21321\t22320\t0.23\t-\t.\tg21533\n",
      "1\t21967\t21969\t1\tAUGUSTUS\tgene\t21321\t22320\t0.23\t-\t.\tg21533\n",
      "1\t21980\t21982\t1\tAUGUSTUS\tgene\t21321\t22320\t0.23\t-\t.\tg21533\n",
      "1\t22008\t22010\t1\tAUGUSTUS\tgene\t21321\t22320\t0.23\t-\t.\tg21533\n",
      "1\t22089\t22091\t1\tAUGUSTUS\tgene\t21321\t22320\t0.23\t-\t.\tg21533\n",
      "1\t22106\t22108\t1\tAUGUSTUS\tgene\t21321\t22320\t0.23\t-\t.\tg21533\n",
      "1\t22111\t22113\t1\tAUGUSTUS\tgene\t21321\t22320\t0.23\t-\t.\tg21533\n",
      "\n",
      "==> Mcap_union_5x-averages-RRBS.bedgraph.bed-mcFlanksDownstream <==\n",
      "1\t21739\t21741\t1\tAUGUSTUS\tgene\t21321\t22320\t0.23\t-\t.\tg21533\n",
      "1\t21757\t21759\t1\tAUGUSTUS\tgene\t21321\t22320\t0.23\t-\t.\tg21533\n",
      "1\t21830\t21832\t1\tAUGUSTUS\tgene\t21321\t22320\t0.23\t-\t.\tg21533\n",
      "1\t21840\t21842\t1\tAUGUSTUS\tgene\t21321\t22320\t0.23\t-\t.\tg21533\n",
      "1\t21881\t21883\t1\tAUGUSTUS\tgene\t21321\t22320\t0.23\t-\t.\tg21533\n",
      "1\t21967\t21969\t1\tAUGUSTUS\tgene\t21321\t22320\t0.23\t-\t.\tg21533\n",
      "1\t21980\t21982\t1\tAUGUSTUS\tgene\t21321\t22320\t0.23\t-\t.\tg21533\n",
      "1\t22008\t22010\t1\tAUGUSTUS\tgene\t21321\t22320\t0.23\t-\t.\tg21533\n",
      "1\t22089\t22091\t1\tAUGUSTUS\tgene\t21321\t22320\t0.23\t-\t.\tg21533\n",
      "1\t22106\t22108\t1\tAUGUSTUS\tgene\t21321\t22320\t0.23\t-\t.\tg21533\n",
      "\n",
      "==> Mcap_union_5x-averages-WGBS.bedgraph-Meth.bed-mcFlanksDownstream <==\n",
      "1\t443126\t443128\t1\tAUGUSTUS\tgene\t443083\t443143\t0.61\t-\t.\tg21566\n",
      "1\t1361040\t1361042\t1\tAUGUSTUS\tgene\t1360058\t1361057\t1\t-\t.\tg21633\n",
      "1\t1361043\t1361045\t1\tAUGUSTUS\tgene\t1360058\t1361057\t1\t-\t.\tg21633\n",
      "1\t1392908\t1392910\t1\tAUGUSTUS\tgene\t1392431\t1393430\t1\t+\t.\tg21634\n",
      "1\t1392921\t1392923\t1\tAUGUSTUS\tgene\t1392431\t1393430\t1\t+\t.\tg21634\n",
      "1\t1396199\t1396201\t1\tAUGUSTUS\tgene\t1395451\t1396450\t1\t-\t.\tg21635\n",
      "1\t1425370\t1425372\t1\tAUGUSTUS\tgene\t1425364\t1426363\t0.7\t+\t.\tg21636\n",
      "1\t1426748\t1426750\t1\tAUGUSTUS\tgene\t1426003\t1427002\t1\t-\t.\tg21637\n",
      "1\t1426769\t1426771\t1\tAUGUSTUS\tgene\t1426003\t1427002\t1\t-\t.\tg21637\n",
      "1\t1426944\t1426946\t1\tAUGUSTUS\tgene\t1426003\t1427002\t1\t-\t.\tg21637\n",
      "\n",
      "==> Mcap_union_5x-averages-WGBS.bedgraph-sparseMeth.bed-mcFlanksDownstream <==\n",
      "1\t21881\t21883\t1\tAUGUSTUS\tgene\t21321\t22320\t0.23\t-\t.\tg21533\n",
      "1\t22117\t22119\t1\tAUGUSTUS\tgene\t21321\t22320\t0.23\t-\t.\tg21533\n",
      "1\t52526\t52528\t1\tAUGUSTUS\tgene\t52267\t53266\t1\t+\t.\tg21534\n",
      "1\t150099\t150101\t1\tAUGUSTUS\tgene\t149589\t150588\t0.44\t+\t.\tg21541\n",
      "1\t185808\t185810\t1\tAUGUSTUS\tgene\t185773\t186181\t0.26\t+\t.\tg21546\n",
      "1\t185814\t185816\t1\tAUGUSTUS\tgene\t185773\t186181\t0.26\t+\t.\tg21546\n",
      "1\t185830\t185832\t1\tAUGUSTUS\tgene\t185773\t186181\t0.26\t+\t.\tg21546\n",
      "1\t185844\t185846\t1\tAUGUSTUS\tgene\t185773\t186181\t0.26\t+\t.\tg21546\n",
      "1\t185868\t185870\t1\tAUGUSTUS\tgene\t185773\t186181\t0.26\t+\t.\tg21546\n",
      "1\t185879\t185881\t1\tAUGUSTUS\tgene\t185773\t186181\t0.26\t+\t.\tg21546\n",
      "\n",
      "==> Mcap_union_5x-averages-WGBS.bedgraph-unMeth.bed-mcFlanksDownstream <==\n",
      "1\t17709\t17711\t1\tAUGUSTUS\tgene\t17387\t18386\t0.97\t-\t.\tg21532\n",
      "1\t17723\t17725\t1\tAUGUSTUS\tgene\t17387\t18386\t0.97\t-\t.\tg21532\n",
      "1\t21734\t21736\t1\tAUGUSTUS\tgene\t21321\t22320\t0.23\t-\t.\tg21533\n",
      "1\t21739\t21741\t1\tAUGUSTUS\tgene\t21321\t22320\t0.23\t-\t.\tg21533\n",
      "1\t21757\t21759\t1\tAUGUSTUS\tgene\t21321\t22320\t0.23\t-\t.\tg21533\n",
      "1\t21830\t21832\t1\tAUGUSTUS\tgene\t21321\t22320\t0.23\t-\t.\tg21533\n",
      "1\t21840\t21842\t1\tAUGUSTUS\tgene\t21321\t22320\t0.23\t-\t.\tg21533\n",
      "1\t22106\t22108\t1\tAUGUSTUS\tgene\t21321\t22320\t0.23\t-\t.\tg21533\n",
      "1\t22111\t22113\t1\tAUGUSTUS\tgene\t21321\t22320\t0.23\t-\t.\tg21533\n",
      "1\t22165\t22167\t1\tAUGUSTUS\tgene\t21321\t22320\t0.23\t-\t.\tg21533\n",
      "\n",
      "==> Mcap_union_5x-averages-WGBS.bedgraph.bed-mcFlanksDownstream <==\n",
      "1\t17709\t17711\t1\tAUGUSTUS\tgene\t17387\t18386\t0.97\t-\t.\tg21532\n",
      "1\t17723\t17725\t1\tAUGUSTUS\tgene\t17387\t18386\t0.97\t-\t.\tg21532\n",
      "1\t21734\t21736\t1\tAUGUSTUS\tgene\t21321\t22320\t0.23\t-\t.\tg21533\n",
      "1\t21739\t21741\t1\tAUGUSTUS\tgene\t21321\t22320\t0.23\t-\t.\tg21533\n",
      "1\t21757\t21759\t1\tAUGUSTUS\tgene\t21321\t22320\t0.23\t-\t.\tg21533\n",
      "1\t21830\t21832\t1\tAUGUSTUS\tgene\t21321\t22320\t0.23\t-\t.\tg21533\n",
      "1\t21840\t21842\t1\tAUGUSTUS\tgene\t21321\t22320\t0.23\t-\t.\tg21533\n",
      "1\t21881\t21883\t1\tAUGUSTUS\tgene\t21321\t22320\t0.23\t-\t.\tg21533\n",
      "1\t22106\t22108\t1\tAUGUSTUS\tgene\t21321\t22320\t0.23\t-\t.\tg21533\n",
      "1\t22111\t22113\t1\tAUGUSTUS\tgene\t21321\t22320\t0.23\t-\t.\tg21533\n"
     ]
    }
   ],
   "source": [
    "#Check output\n",
    "!head *mcFlanksDownstream"
   ]
  },
  {
   "cell_type": "code",
   "execution_count": 59,
   "metadata": {
    "collapsed": false,
    "scrolled": true
   },
   "outputs": [
    {
     "name": "stdout",
     "output_type": "stream",
     "text": [
      "    9210 Mcap_union_5x-averages-MBDBS.bedgraph-Meth.bed-mcFlanksDownstream\n",
      "    5630 Mcap_union_5x-averages-MBDBS.bedgraph-sparseMeth.bed-mcFlanksDownstream\n",
      "   29474 Mcap_union_5x-averages-MBDBS.bedgraph-unMeth.bed-mcFlanksDownstream\n",
      "   44314 Mcap_union_5x-averages-MBDBS.bedgraph.bed-mcFlanksDownstream\n",
      "   18079 Mcap_union_5x-averages-RRBS.bedgraph-Meth.bed-mcFlanksDownstream\n",
      "   13107 Mcap_union_5x-averages-RRBS.bedgraph-sparseMeth.bed-mcFlanksDownstream\n",
      "  160240 Mcap_union_5x-averages-RRBS.bedgraph-unMeth.bed-mcFlanksDownstream\n",
      "  191426 Mcap_union_5x-averages-RRBS.bedgraph.bed-mcFlanksDownstream\n",
      "   74318 Mcap_union_5x-averages-WGBS.bedgraph-Meth.bed-mcFlanksDownstream\n",
      "   67886 Mcap_union_5x-averages-WGBS.bedgraph-sparseMeth.bed-mcFlanksDownstream\n",
      "  451444 Mcap_union_5x-averages-WGBS.bedgraph-unMeth.bed-mcFlanksDownstream\n",
      "  593648 Mcap_union_5x-averages-WGBS.bedgraph.bed-mcFlanksDownstream\n",
      " 1658776 total\n"
     ]
    }
   ],
   "source": [
    "#Count number of overlaps\n",
    "!wc -l *mcFlanksDownstream"
   ]
  },
  {
   "cell_type": "code",
   "execution_count": 60,
   "metadata": {
    "collapsed": true
   },
   "outputs": [],
   "source": [
    "!wc -l *mcFlanksDownstream > Mcap_union_5x-mcFlanksDownstream-counts.txt"
   ]
  },
  {
   "cell_type": "markdown",
   "metadata": {},
   "source": [
    "#### 3h. Intergenic"
   ]
  },
  {
   "cell_type": "code",
   "execution_count": 61,
   "metadata": {
    "collapsed": true
   },
   "outputs": [],
   "source": [
    "%%bash \n",
    "\n",
    "for f in *bed\n",
    "do\n",
    "  /usr/local/bin/intersectBed \\\n",
    "  -wb \\\n",
    "  -a ${f} \\\n",
    "  -b ../../../genome-feature-files/Mcap.GFFannotation.intergenic.bed \\\n",
    "  > ${f}-mcIntergenic\n",
    "done"
   ]
  },
  {
   "cell_type": "code",
   "execution_count": 62,
   "metadata": {
    "collapsed": false
   },
   "outputs": [
    {
     "name": "stdout",
     "output_type": "stream",
     "text": [
      "==> Mcap_union_5x-averages-MBDBS.bedgraph-Meth.bed-mcIntergenic <==\n",
      "1\t446326\t446328\t1\t444635\t458011\n",
      "1\t446344\t446346\t1\t444635\t458011\n",
      "1\t446367\t446369\t1\t444635\t458011\n",
      "1\t446376\t446378\t1\t444635\t458011\n",
      "1\t1002973\t1002975\t1\t990352\t1025880\n",
      "1\t1006917\t1006919\t1\t990352\t1025880\n",
      "1\t1006924\t1006926\t1\t990352\t1025880\n",
      "1\t1343240\t1343242\t1\t1339740\t1346874\n",
      "1\t1343249\t1343251\t1\t1339740\t1346874\n",
      "1\t1343263\t1343265\t1\t1339740\t1346874\n",
      "\n",
      "==> Mcap_union_5x-averages-MBDBS.bedgraph-sparseMeth.bed-mcIntergenic <==\n",
      "1\t8113\t8115\t1\t0\t17386\n",
      "1\t211907\t211909\t1\t187520\t217010\n",
      "1\t234158\t234160\t1\t219415\t236954\n",
      "1\t234196\t234198\t1\t219415\t236954\n",
      "1\t244563\t244565\t1\t239956\t306771\n",
      "1\t269174\t269176\t1\t239956\t306771\n",
      "1\t269178\t269180\t1\t239956\t306771\n",
      "1\t269182\t269184\t1\t239956\t306771\n",
      "1\t277994\t277996\t1\t239956\t306771\n",
      "1\t284269\t284271\t1\t239956\t306771\n",
      "\n",
      "==> Mcap_union_5x-averages-MBDBS.bedgraph-unMeth.bed-mcIntergenic <==\n",
      "1\t5228\t5230\t1\t0\t17386\n",
      "1\t5243\t5245\t1\t0\t17386\n",
      "1\t5247\t5249\t1\t0\t17386\n",
      "1\t5296\t5298\t1\t0\t17386\n",
      "1\t192753\t192755\t1\t187520\t217010\n",
      "1\t210921\t210923\t1\t187520\t217010\n",
      "1\t210930\t210932\t1\t187520\t217010\n",
      "1\t211905\t211907\t1\t187520\t217010\n",
      "1\t211917\t211919\t1\t187520\t217010\n",
      "1\t211925\t211927\t1\t187520\t217010\n",
      "\n",
      "==> Mcap_union_5x-averages-MBDBS.bedgraph.bed-mcIntergenic <==\n",
      "1\t5228\t5230\t1\t0\t17386\n",
      "1\t5243\t5245\t1\t0\t17386\n",
      "1\t5247\t5249\t1\t0\t17386\n",
      "1\t5296\t5298\t1\t0\t17386\n",
      "1\t8113\t8115\t1\t0\t17386\n",
      "1\t192753\t192755\t1\t187520\t217010\n",
      "1\t210921\t210923\t1\t187520\t217010\n",
      "1\t210930\t210932\t1\t187520\t217010\n",
      "1\t211905\t211907\t1\t187520\t217010\n",
      "1\t211907\t211909\t1\t187520\t217010\n",
      "\n",
      "==> Mcap_union_5x-averages-RRBS.bedgraph-Meth.bed-mcIntergenic <==\n",
      "1\t32228\t32230\t1\t28293\t36446\n",
      "1\t130507\t130509\t1\t129510\t131853\n",
      "1\t241717\t241719\t1\t239956\t306771\n",
      "1\t241722\t241724\t1\t239956\t306771\n",
      "1\t246227\t246229\t1\t239956\t306771\n",
      "1\t274922\t274924\t1\t239956\t306771\n",
      "1\t274940\t274942\t1\t239956\t306771\n",
      "1\t275004\t275006\t1\t239956\t306771\n",
      "1\t275006\t275008\t1\t239956\t306771\n",
      "1\t275047\t275049\t1\t239956\t306771\n",
      "\n",
      "==> Mcap_union_5x-averages-RRBS.bedgraph-sparseMeth.bed-mcIntergenic <==\n",
      "1\t15092\t15094\t1\t0\t17386\n",
      "1\t34139\t34141\t1\t28293\t36446\n",
      "1\t166013\t166015\t1\t158268\t171840\n",
      "1\t176289\t176291\t1\t174753\t182016\n",
      "1\t198078\t198080\t1\t187520\t217010\n",
      "1\t246955\t246957\t1\t239956\t306771\n",
      "1\t249322\t249324\t1\t239956\t306771\n",
      "1\t255850\t255852\t1\t239956\t306771\n",
      "1\t255863\t255865\t1\t239956\t306771\n",
      "1\t276749\t276751\t1\t239956\t306771\n",
      "\n",
      "==> Mcap_union_5x-averages-RRBS.bedgraph-unMeth.bed-mcIntergenic <==\n",
      "1\t3493\t3495\t1\t0\t17386\n",
      "1\t3518\t3520\t1\t0\t17386\n",
      "1\t3727\t3729\t1\t0\t17386\n",
      "1\t3752\t3754\t1\t0\t17386\n",
      "1\t3757\t3759\t1\t0\t17386\n",
      "1\t3770\t3772\t1\t0\t17386\n",
      "1\t11876\t11878\t1\t0\t17386\n",
      "1\t11887\t11889\t1\t0\t17386\n",
      "1\t11894\t11896\t1\t0\t17386\n",
      "1\t11941\t11943\t1\t0\t17386\n",
      "\n",
      "==> Mcap_union_5x-averages-RRBS.bedgraph.bed-mcIntergenic <==\n",
      "1\t3493\t3495\t1\t0\t17386\n",
      "1\t3518\t3520\t1\t0\t17386\n",
      "1\t3727\t3729\t1\t0\t17386\n",
      "1\t3752\t3754\t1\t0\t17386\n",
      "1\t3757\t3759\t1\t0\t17386\n",
      "1\t3770\t3772\t1\t0\t17386\n",
      "1\t11876\t11878\t1\t0\t17386\n",
      "1\t11887\t11889\t1\t0\t17386\n",
      "1\t11894\t11896\t1\t0\t17386\n",
      "1\t11941\t11943\t1\t0\t17386\n",
      "\n",
      "==> Mcap_union_5x-averages-WGBS.bedgraph-Meth.bed-mcIntergenic <==\n",
      "1\t4948\t4950\t1\t0\t17386\n",
      "1\t4967\t4969\t1\t0\t17386\n",
      "1\t4986\t4988\t1\t0\t17386\n",
      "1\t57065\t57067\t1\t53266\t57321\n",
      "1\t446150\t446152\t1\t444635\t458011\n",
      "1\t446157\t446159\t1\t444635\t458011\n",
      "1\t446262\t446264\t1\t444635\t458011\n",
      "1\t446271\t446273\t1\t444635\t458011\n",
      "1\t446344\t446346\t1\t444635\t458011\n",
      "1\t446367\t446369\t1\t444635\t458011\n",
      "\n",
      "==> Mcap_union_5x-averages-WGBS.bedgraph-sparseMeth.bed-mcIntergenic <==\n",
      "1\t4190\t4192\t1\t0\t17386\n",
      "1\t4891\t4893\t1\t0\t17386\n",
      "1\t4910\t4912\t1\t0\t17386\n",
      "1\t4929\t4931\t1\t0\t17386\n",
      "1\t5005\t5007\t1\t0\t17386\n",
      "1\t5024\t5026\t1\t0\t17386\n",
      "1\t5151\t5153\t1\t0\t17386\n",
      "1\t5160\t5162\t1\t0\t17386\n",
      "1\t5228\t5230\t1\t0\t17386\n",
      "1\t6282\t6284\t1\t0\t17386\n",
      "\n",
      "==> Mcap_union_5x-averages-WGBS.bedgraph-unMeth.bed-mcIntergenic <==\n",
      "1\t4062\t4064\t1\t0\t17386\n",
      "1\t4069\t4071\t1\t0\t17386\n",
      "1\t4077\t4079\t1\t0\t17386\n",
      "1\t4086\t4088\t1\t0\t17386\n",
      "1\t4146\t4148\t1\t0\t17386\n",
      "1\t4150\t4152\t1\t0\t17386\n",
      "1\t4155\t4157\t1\t0\t17386\n",
      "1\t4172\t4174\t1\t0\t17386\n",
      "1\t4184\t4186\t1\t0\t17386\n",
      "1\t5043\t5045\t1\t0\t17386\n",
      "\n",
      "==> Mcap_union_5x-averages-WGBS.bedgraph.bed-mcIntergenic <==\n",
      "1\t4062\t4064\t1\t0\t17386\n",
      "1\t4069\t4071\t1\t0\t17386\n",
      "1\t4077\t4079\t1\t0\t17386\n",
      "1\t4086\t4088\t1\t0\t17386\n",
      "1\t4146\t4148\t1\t0\t17386\n",
      "1\t4150\t4152\t1\t0\t17386\n",
      "1\t4155\t4157\t1\t0\t17386\n",
      "1\t4172\t4174\t1\t0\t17386\n",
      "1\t4184\t4186\t1\t0\t17386\n",
      "1\t4190\t4192\t1\t0\t17386\n"
     ]
    }
   ],
   "source": [
    "#Check output\n",
    "!head *mcIntergenic"
   ]
  },
  {
   "cell_type": "code",
   "execution_count": 63,
   "metadata": {
    "collapsed": false,
    "scrolled": false
   },
   "outputs": [
    {
     "name": "stdout",
     "output_type": "stream",
     "text": [
      "   65566 Mcap_union_5x-averages-MBDBS.bedgraph-Meth.bed-mcIntergenic\n",
      "   57824 Mcap_union_5x-averages-MBDBS.bedgraph-sparseMeth.bed-mcIntergenic\n",
      "  348119 Mcap_union_5x-averages-MBDBS.bedgraph-unMeth.bed-mcIntergenic\n",
      "  471509 Mcap_union_5x-averages-MBDBS.bedgraph.bed-mcIntergenic\n",
      "  140391 Mcap_union_5x-averages-RRBS.bedgraph-Meth.bed-mcIntergenic\n",
      "  119284 Mcap_union_5x-averages-RRBS.bedgraph-sparseMeth.bed-mcIntergenic\n",
      " 2023518 Mcap_union_5x-averages-RRBS.bedgraph-unMeth.bed-mcIntergenic\n",
      " 2283193 Mcap_union_5x-averages-RRBS.bedgraph.bed-mcIntergenic\n",
      "  537847 Mcap_union_5x-averages-WGBS.bedgraph-Meth.bed-mcIntergenic\n",
      "  630806 Mcap_union_5x-averages-WGBS.bedgraph-sparseMeth.bed-mcIntergenic\n",
      " 5040188 Mcap_union_5x-averages-WGBS.bedgraph-unMeth.bed-mcIntergenic\n",
      " 6208841 Mcap_union_5x-averages-WGBS.bedgraph.bed-mcIntergenic\n",
      " 17927086 total\n"
     ]
    }
   ],
   "source": [
    "#Count number of overlaps\n",
    "!wc -l *mcIntergenic"
   ]
  },
  {
   "cell_type": "code",
   "execution_count": 64,
   "metadata": {
    "collapsed": true
   },
   "outputs": [],
   "source": [
    "!wc -l *mcIntergenic > Mcap_union_5x-mcIntergenic-counts.txt"
   ]
  },
  {
   "cell_type": "markdown",
   "metadata": {},
   "source": [
    "## *P. acuta*"
   ]
  },
  {
   "cell_type": "code",
   "execution_count": 65,
   "metadata": {
    "collapsed": false
   },
   "outputs": [
    {
     "name": "stdout",
     "output_type": "stream",
     "text": [
      "/Users/yaamini/Documents/Meth_Compare/analyses/Characterizing-CpG-Methylation-5x-Union\n"
     ]
    }
   ],
   "source": [
    "cd .."
   ]
  },
  {
   "cell_type": "code",
   "execution_count": 66,
   "metadata": {
    "collapsed": true
   },
   "outputs": [],
   "source": [
    "#Make a directory for Pact output\n",
    "!mkdir Pact"
   ]
  },
  {
   "cell_type": "code",
   "execution_count": 67,
   "metadata": {
    "collapsed": false,
    "scrolled": true
   },
   "outputs": [
    {
     "name": "stdout",
     "output_type": "stream",
     "text": [
      "/Users/yaamini/Documents/Meth_Compare/analyses/Characterizing-CpG-Methylation-5x-Union/Pact\n"
     ]
    }
   ],
   "source": [
    "cd Pact/"
   ]
  },
  {
   "cell_type": "markdown",
   "metadata": {},
   "source": [
    "#### 1a. Download bedgraph"
   ]
  },
  {
   "cell_type": "code",
   "execution_count": 68,
   "metadata": {
    "collapsed": false,
    "scrolled": true
   },
   "outputs": [
    {
     "name": "stdout",
     "output_type": "stream",
     "text": [
      "--2020-05-19 22:34:21--  https://gannet.fish.washington.edu/seashell/bu-github/Meth_Compare/analyses/10-unionbedg/Pact_union_5x.bedgraph\n",
      "Resolving gannet.fish.washington.edu (gannet.fish.washington.edu)... 128.95.149.52\n",
      "Connecting to gannet.fish.washington.edu (gannet.fish.washington.edu)|128.95.149.52|:443... connected.\n",
      "HTTP request sent, awaiting response... 200 OK\n",
      "Length: 1212075709 (1.1G)\n",
      "Saving to: ‘Pact_union_5x.bedgraph’\n",
      "\n",
      "Pact_union_5x.bedgr 100%[===================>]   1.13G  67.6MB/s    in 14s     \n",
      "\n",
      "2020-05-19 22:34:35 (84.8 MB/s) - ‘Pact_union_5x.bedgraph’ saved [1212075709/1212075709]\n",
      "\n"
     ]
    }
   ],
   "source": [
    "#Download Mcap 5x union bedgraph\n",
    "!wget https://gannet.fish.washington.edu/seashell/bu-github/Meth_Compare/analyses/10-unionbedg/Pact_union_5x.bedgraph"
   ]
  },
  {
   "cell_type": "code",
   "execution_count": 69,
   "metadata": {
    "collapsed": false,
    "scrolled": false
   },
   "outputs": [
    {
     "name": "stdout",
     "output_type": "stream",
     "text": [
      "scaffold168460_cov188\t280\t282\tN/A\t0.000000\t0.000000\tN/A\tN/A\tN/A\tN/A\tN/A\tN/A\r\n",
      "scaffold168461_cov203\t69\t71\tN/A\tN/A\t0.000000\tN/A\tN/A\tN/A\tN/A\tN/A\tN/A\r\n",
      "scaffold168461_cov203\t142\t144\tN/A\tN/A\t0.000000\tN/A\tN/A\tN/A\tN/A\tN/A\tN/A\r\n",
      "scaffold168461_cov203\t148\t150\tN/A\tN/A\t12.500000\tN/A\tN/A\tN/A\tN/A\tN/A\tN/A\r\n",
      "scaffold168463_cov229\t14\t16\tN/A\t10.000000\tN/A\tN/A\tN/A\tN/A\tN/A\tN/A\tN/A\r\n",
      "scaffold168463_cov229\t95\t97\tN/A\t5.555556\t0.000000\tN/A\tN/A\tN/A\tN/A\tN/A\tN/A\r\n",
      "scaffold168463_cov229\t106\t108\tN/A\t0.000000\t0.000000\tN/A\tN/A\tN/A\tN/A\tN/A\tN/A\r\n",
      "scaffold168465_cov225\t45\t47\tN/A\t0.000000\tN/A\tN/A\tN/A\tN/A\tN/A\tN/A\tN/A\r\n",
      "scaffold168465_cov225\t48\t50\tN/A\t0.000000\tN/A\tN/A\tN/A\tN/A\tN/A\tN/A\tN/A\r\n",
      "scaffold168465_cov225\t59\t61\tN/A\t0.000000\t0.000000\tN/A\tN/A\tN/A\tN/A\tN/A\tN/A\r\n"
     ]
    }
   ],
   "source": [
    "#Check downloaded file\n",
    "#WGBS: 1-3\n",
    "#RRBS: 4-6\n",
    "#MBD-BS: 7-9\n",
    "!tail Pact_union_5x.bedgraph"
   ]
  },
  {
   "cell_type": "markdown",
   "metadata": {},
   "source": [
    "#### 1b. Manipulate with `pandas`"
   ]
  },
  {
   "cell_type": "code",
   "execution_count": 70,
   "metadata": {
    "collapsed": false
   },
   "outputs": [
    {
     "data": {
      "text/html": [
       "<div>\n",
       "<table border=\"1\" class=\"dataframe\">\n",
       "  <thead>\n",
       "    <tr style=\"text-align: right;\">\n",
       "      <th></th>\n",
       "      <th>chrom</th>\n",
       "      <th>start</th>\n",
       "      <th>end</th>\n",
       "      <th>1</th>\n",
       "      <th>2</th>\n",
       "      <th>3</th>\n",
       "      <th>4</th>\n",
       "      <th>5</th>\n",
       "      <th>6</th>\n",
       "      <th>7</th>\n",
       "      <th>8</th>\n",
       "      <th>9</th>\n",
       "    </tr>\n",
       "  </thead>\n",
       "  <tbody>\n",
       "    <tr>\n",
       "      <th>0</th>\n",
       "      <td>scaffold1_cov55</td>\n",
       "      <td>49</td>\n",
       "      <td>51</td>\n",
       "      <td>NaN</td>\n",
       "      <td>0.0</td>\n",
       "      <td>NaN</td>\n",
       "      <td>NaN</td>\n",
       "      <td>NaN</td>\n",
       "      <td>NaN</td>\n",
       "      <td>NaN</td>\n",
       "      <td>NaN</td>\n",
       "      <td>NaN</td>\n",
       "    </tr>\n",
       "    <tr>\n",
       "      <th>1</th>\n",
       "      <td>scaffold1_cov55</td>\n",
       "      <td>84</td>\n",
       "      <td>86</td>\n",
       "      <td>NaN</td>\n",
       "      <td>0.0</td>\n",
       "      <td>NaN</td>\n",
       "      <td>NaN</td>\n",
       "      <td>NaN</td>\n",
       "      <td>NaN</td>\n",
       "      <td>NaN</td>\n",
       "      <td>NaN</td>\n",
       "      <td>NaN</td>\n",
       "    </tr>\n",
       "    <tr>\n",
       "      <th>2</th>\n",
       "      <td>scaffold1_cov55</td>\n",
       "      <td>92</td>\n",
       "      <td>94</td>\n",
       "      <td>NaN</td>\n",
       "      <td>0.0</td>\n",
       "      <td>NaN</td>\n",
       "      <td>NaN</td>\n",
       "      <td>NaN</td>\n",
       "      <td>NaN</td>\n",
       "      <td>NaN</td>\n",
       "      <td>NaN</td>\n",
       "      <td>NaN</td>\n",
       "    </tr>\n",
       "    <tr>\n",
       "      <th>3</th>\n",
       "      <td>scaffold1_cov55</td>\n",
       "      <td>102</td>\n",
       "      <td>104</td>\n",
       "      <td>16.666667</td>\n",
       "      <td>0.0</td>\n",
       "      <td>NaN</td>\n",
       "      <td>NaN</td>\n",
       "      <td>NaN</td>\n",
       "      <td>NaN</td>\n",
       "      <td>NaN</td>\n",
       "      <td>NaN</td>\n",
       "      <td>NaN</td>\n",
       "    </tr>\n",
       "    <tr>\n",
       "      <th>4</th>\n",
       "      <td>scaffold1_cov55</td>\n",
       "      <td>105</td>\n",
       "      <td>107</td>\n",
       "      <td>0.000000</td>\n",
       "      <td>12.5</td>\n",
       "      <td>NaN</td>\n",
       "      <td>NaN</td>\n",
       "      <td>NaN</td>\n",
       "      <td>NaN</td>\n",
       "      <td>NaN</td>\n",
       "      <td>NaN</td>\n",
       "      <td>NaN</td>\n",
       "    </tr>\n",
       "  </tbody>\n",
       "</table>\n",
       "</div>"
      ],
      "text/plain": [
       "             chrom  start  end          1     2   3   4   5   6   7   8   9\n",
       "0  scaffold1_cov55     49   51        NaN   0.0 NaN NaN NaN NaN NaN NaN NaN\n",
       "1  scaffold1_cov55     84   86        NaN   0.0 NaN NaN NaN NaN NaN NaN NaN\n",
       "2  scaffold1_cov55     92   94        NaN   0.0 NaN NaN NaN NaN NaN NaN NaN\n",
       "3  scaffold1_cov55    102  104  16.666667   0.0 NaN NaN NaN NaN NaN NaN NaN\n",
       "4  scaffold1_cov55    105  107   0.000000  12.5 NaN NaN NaN NaN NaN NaN NaN"
      ]
     },
     "execution_count": 70,
     "metadata": {},
     "output_type": "execute_result"
    }
   ],
   "source": [
    "#Import union data into pandas\n",
    "#Check head\n",
    "df = pd.read_table(\"Pact_union_5x.bedgraph\")\n",
    "df.head(5)"
   ]
  },
  {
   "cell_type": "code",
   "execution_count": 71,
   "metadata": {
    "collapsed": false,
    "scrolled": false
   },
   "outputs": [
    {
     "data": {
      "text/html": [
       "<div>\n",
       "<table border=\"1\" class=\"dataframe\">\n",
       "  <thead>\n",
       "    <tr style=\"text-align: right;\">\n",
       "      <th></th>\n",
       "      <th>chrom</th>\n",
       "      <th>start</th>\n",
       "      <th>end</th>\n",
       "      <th>1</th>\n",
       "      <th>2</th>\n",
       "      <th>3</th>\n",
       "      <th>4</th>\n",
       "      <th>5</th>\n",
       "      <th>6</th>\n",
       "      <th>7</th>\n",
       "      <th>8</th>\n",
       "      <th>9</th>\n",
       "      <th>WGBS</th>\n",
       "      <th>RRBS</th>\n",
       "      <th>MBD-BS</th>\n",
       "    </tr>\n",
       "  </thead>\n",
       "  <tbody>\n",
       "    <tr>\n",
       "      <th>15758665</th>\n",
       "      <td>scaffold168460_cov188</td>\n",
       "      <td>280</td>\n",
       "      <td>282</td>\n",
       "      <td>NaN</td>\n",
       "      <td>0.000000</td>\n",
       "      <td>0.0</td>\n",
       "      <td>NaN</td>\n",
       "      <td>NaN</td>\n",
       "      <td>NaN</td>\n",
       "      <td>NaN</td>\n",
       "      <td>NaN</td>\n",
       "      <td>NaN</td>\n",
       "      <td>0.000000</td>\n",
       "      <td>NaN</td>\n",
       "      <td>NaN</td>\n",
       "    </tr>\n",
       "    <tr>\n",
       "      <th>15758666</th>\n",
       "      <td>scaffold168461_cov203</td>\n",
       "      <td>69</td>\n",
       "      <td>71</td>\n",
       "      <td>NaN</td>\n",
       "      <td>NaN</td>\n",
       "      <td>0.0</td>\n",
       "      <td>NaN</td>\n",
       "      <td>NaN</td>\n",
       "      <td>NaN</td>\n",
       "      <td>NaN</td>\n",
       "      <td>NaN</td>\n",
       "      <td>NaN</td>\n",
       "      <td>0.000000</td>\n",
       "      <td>NaN</td>\n",
       "      <td>NaN</td>\n",
       "    </tr>\n",
       "    <tr>\n",
       "      <th>15758667</th>\n",
       "      <td>scaffold168461_cov203</td>\n",
       "      <td>142</td>\n",
       "      <td>144</td>\n",
       "      <td>NaN</td>\n",
       "      <td>NaN</td>\n",
       "      <td>0.0</td>\n",
       "      <td>NaN</td>\n",
       "      <td>NaN</td>\n",
       "      <td>NaN</td>\n",
       "      <td>NaN</td>\n",
       "      <td>NaN</td>\n",
       "      <td>NaN</td>\n",
       "      <td>0.000000</td>\n",
       "      <td>NaN</td>\n",
       "      <td>NaN</td>\n",
       "    </tr>\n",
       "    <tr>\n",
       "      <th>15758668</th>\n",
       "      <td>scaffold168461_cov203</td>\n",
       "      <td>148</td>\n",
       "      <td>150</td>\n",
       "      <td>NaN</td>\n",
       "      <td>NaN</td>\n",
       "      <td>12.5</td>\n",
       "      <td>NaN</td>\n",
       "      <td>NaN</td>\n",
       "      <td>NaN</td>\n",
       "      <td>NaN</td>\n",
       "      <td>NaN</td>\n",
       "      <td>NaN</td>\n",
       "      <td>12.500000</td>\n",
       "      <td>NaN</td>\n",
       "      <td>NaN</td>\n",
       "    </tr>\n",
       "    <tr>\n",
       "      <th>15758669</th>\n",
       "      <td>scaffold168463_cov229</td>\n",
       "      <td>14</td>\n",
       "      <td>16</td>\n",
       "      <td>NaN</td>\n",
       "      <td>10.000000</td>\n",
       "      <td>NaN</td>\n",
       "      <td>NaN</td>\n",
       "      <td>NaN</td>\n",
       "      <td>NaN</td>\n",
       "      <td>NaN</td>\n",
       "      <td>NaN</td>\n",
       "      <td>NaN</td>\n",
       "      <td>10.000000</td>\n",
       "      <td>NaN</td>\n",
       "      <td>NaN</td>\n",
       "    </tr>\n",
       "    <tr>\n",
       "      <th>15758670</th>\n",
       "      <td>scaffold168463_cov229</td>\n",
       "      <td>95</td>\n",
       "      <td>97</td>\n",
       "      <td>NaN</td>\n",
       "      <td>5.555556</td>\n",
       "      <td>0.0</td>\n",
       "      <td>NaN</td>\n",
       "      <td>NaN</td>\n",
       "      <td>NaN</td>\n",
       "      <td>NaN</td>\n",
       "      <td>NaN</td>\n",
       "      <td>NaN</td>\n",
       "      <td>2.777778</td>\n",
       "      <td>NaN</td>\n",
       "      <td>NaN</td>\n",
       "    </tr>\n",
       "    <tr>\n",
       "      <th>15758671</th>\n",
       "      <td>scaffold168463_cov229</td>\n",
       "      <td>106</td>\n",
       "      <td>108</td>\n",
       "      <td>NaN</td>\n",
       "      <td>0.000000</td>\n",
       "      <td>0.0</td>\n",
       "      <td>NaN</td>\n",
       "      <td>NaN</td>\n",
       "      <td>NaN</td>\n",
       "      <td>NaN</td>\n",
       "      <td>NaN</td>\n",
       "      <td>NaN</td>\n",
       "      <td>0.000000</td>\n",
       "      <td>NaN</td>\n",
       "      <td>NaN</td>\n",
       "    </tr>\n",
       "    <tr>\n",
       "      <th>15758672</th>\n",
       "      <td>scaffold168465_cov225</td>\n",
       "      <td>45</td>\n",
       "      <td>47</td>\n",
       "      <td>NaN</td>\n",
       "      <td>0.000000</td>\n",
       "      <td>NaN</td>\n",
       "      <td>NaN</td>\n",
       "      <td>NaN</td>\n",
       "      <td>NaN</td>\n",
       "      <td>NaN</td>\n",
       "      <td>NaN</td>\n",
       "      <td>NaN</td>\n",
       "      <td>0.000000</td>\n",
       "      <td>NaN</td>\n",
       "      <td>NaN</td>\n",
       "    </tr>\n",
       "    <tr>\n",
       "      <th>15758673</th>\n",
       "      <td>scaffold168465_cov225</td>\n",
       "      <td>48</td>\n",
       "      <td>50</td>\n",
       "      <td>NaN</td>\n",
       "      <td>0.000000</td>\n",
       "      <td>NaN</td>\n",
       "      <td>NaN</td>\n",
       "      <td>NaN</td>\n",
       "      <td>NaN</td>\n",
       "      <td>NaN</td>\n",
       "      <td>NaN</td>\n",
       "      <td>NaN</td>\n",
       "      <td>0.000000</td>\n",
       "      <td>NaN</td>\n",
       "      <td>NaN</td>\n",
       "    </tr>\n",
       "    <tr>\n",
       "      <th>15758674</th>\n",
       "      <td>scaffold168465_cov225</td>\n",
       "      <td>59</td>\n",
       "      <td>61</td>\n",
       "      <td>NaN</td>\n",
       "      <td>0.000000</td>\n",
       "      <td>0.0</td>\n",
       "      <td>NaN</td>\n",
       "      <td>NaN</td>\n",
       "      <td>NaN</td>\n",
       "      <td>NaN</td>\n",
       "      <td>NaN</td>\n",
       "      <td>NaN</td>\n",
       "      <td>0.000000</td>\n",
       "      <td>NaN</td>\n",
       "      <td>NaN</td>\n",
       "    </tr>\n",
       "  </tbody>\n",
       "</table>\n",
       "</div>"
      ],
      "text/plain": [
       "                          chrom  start  end   1          2     3   4   5   6  \\\n",
       "15758665  scaffold168460_cov188    280  282 NaN   0.000000   0.0 NaN NaN NaN   \n",
       "15758666  scaffold168461_cov203     69   71 NaN        NaN   0.0 NaN NaN NaN   \n",
       "15758667  scaffold168461_cov203    142  144 NaN        NaN   0.0 NaN NaN NaN   \n",
       "15758668  scaffold168461_cov203    148  150 NaN        NaN  12.5 NaN NaN NaN   \n",
       "15758669  scaffold168463_cov229     14   16 NaN  10.000000   NaN NaN NaN NaN   \n",
       "15758670  scaffold168463_cov229     95   97 NaN   5.555556   0.0 NaN NaN NaN   \n",
       "15758671  scaffold168463_cov229    106  108 NaN   0.000000   0.0 NaN NaN NaN   \n",
       "15758672  scaffold168465_cov225     45   47 NaN   0.000000   NaN NaN NaN NaN   \n",
       "15758673  scaffold168465_cov225     48   50 NaN   0.000000   NaN NaN NaN NaN   \n",
       "15758674  scaffold168465_cov225     59   61 NaN   0.000000   0.0 NaN NaN NaN   \n",
       "\n",
       "           7   8   9       WGBS  RRBS  MBD-BS  \n",
       "15758665 NaN NaN NaN   0.000000   NaN     NaN  \n",
       "15758666 NaN NaN NaN   0.000000   NaN     NaN  \n",
       "15758667 NaN NaN NaN   0.000000   NaN     NaN  \n",
       "15758668 NaN NaN NaN  12.500000   NaN     NaN  \n",
       "15758669 NaN NaN NaN  10.000000   NaN     NaN  \n",
       "15758670 NaN NaN NaN   2.777778   NaN     NaN  \n",
       "15758671 NaN NaN NaN   0.000000   NaN     NaN  \n",
       "15758672 NaN NaN NaN   0.000000   NaN     NaN  \n",
       "15758673 NaN NaN NaN   0.000000   NaN     NaN  \n",
       "15758674 NaN NaN NaN   0.000000   NaN     NaN  "
      ]
     },
     "execution_count": 71,
     "metadata": {},
     "output_type": "execute_result"
    }
   ],
   "source": [
    "#Average the first three columns for WGBS information and save as a new column\n",
    "#Average the middle three columns for RRBS information and save as a new column\n",
    "#Average the last three columns for MBD-BS information and save as a new column\n",
    "#Check output\n",
    "df['WGBS'] = df[['1', '2', \"3\"]].mean(axis=1)\n",
    "df['RRBS'] = df[['4', '5', \"6\"]].mean(axis=1)\n",
    "df['MBD-BS'] = df[['7', '8', \"9\"]].mean(axis=1)\n",
    "df.tail(10)"
   ]
  },
  {
   "cell_type": "code",
   "execution_count": 72,
   "metadata": {
    "collapsed": false
   },
   "outputs": [],
   "source": [
    "#Save dataframe in a tabular format and include N/As. Do not include quotes.\n",
    "df.to_csv(\"Pact_union_5x-averages.bedgraph\", sep = \"\\t\", na_rep = \"N/A\", quoting = 3)"
   ]
  },
  {
   "cell_type": "markdown",
   "metadata": {},
   "source": [
    "#### 1c. Separate methods into new bedgraphs"
   ]
  },
  {
   "cell_type": "code",
   "execution_count": 73,
   "metadata": {
    "collapsed": false,
    "scrolled": true
   },
   "outputs": [
    {
     "name": "stdout",
     "output_type": "stream",
     "text": [
      "\tchrom\tstart\tend\t1\t2\t3\t4\t5\t6\t7\t8\t9\tWGBS\tRRBS\tMBD-BS\r\n",
      "0\tscaffold1_cov55\t49\t51\tN/A\t0.0\tN/A\tN/A\tN/A\tN/A\tN/A\tN/A\tN/A\t0.0\tN/A\tN/A\r\n",
      "1\tscaffold1_cov55\t84\t86\tN/A\t0.0\tN/A\tN/A\tN/A\tN/A\tN/A\tN/A\tN/A\t0.0\tN/A\tN/A\r\n",
      "2\tscaffold1_cov55\t92\t94\tN/A\t0.0\tN/A\tN/A\tN/A\tN/A\tN/A\tN/A\tN/A\t0.0\tN/A\tN/A\r\n",
      "3\tscaffold1_cov55\t102\t104\t16.666667\t0.0\tN/A\tN/A\tN/A\tN/A\tN/A\tN/A\tN/A\t8.3333335\tN/A\tN/A\r\n",
      "4\tscaffold1_cov55\t105\t107\t0.0\t12.5\tN/A\tN/A\tN/A\tN/A\tN/A\tN/A\tN/A\t6.25\tN/A\tN/A\r\n",
      "5\tscaffold1_cov55\t116\t118\t0.0\t0.0\tN/A\tN/A\tN/A\tN/A\tN/A\tN/A\tN/A\t0.0\tN/A\tN/A\r\n",
      "6\tscaffold1_cov55\t119\t121\t0.0\t0.0\t20.0\tN/A\tN/A\tN/A\tN/A\tN/A\tN/A\t6.666666666666667\tN/A\tN/A\r\n",
      "7\tscaffold1_cov55\t146\t148\t0.0\t0.0\tN/A\tN/A\tN/A\tN/A\tN/A\tN/A\tN/A\t0.0\tN/A\tN/A\r\n",
      "8\tscaffold1_cov55\t169\t171\tN/A\t0.0\tN/A\tN/A\tN/A\tN/A\tN/A\tN/A\tN/A\t0.0\tN/A\tN/A\r\n"
     ]
    }
   ],
   "source": [
    "#Check pandas manipulations\n",
    "!head Pact_union_5x-averages.bedgraph"
   ]
  },
  {
   "cell_type": "code",
   "execution_count": 74,
   "metadata": {
    "collapsed": false
   },
   "outputs": [],
   "source": [
    "#Remove header\n",
    "#Keep chr, start, end, and WGBS average (col 2-4, 13)\n",
    "#Remove rows where the 4th column (average %meth) is N/A\n",
    "#Save file\n",
    "!tail -n +2 Pact_union_5x-averages.bedgraph \\\n",
    "| awk -F'\\t' -v OFS='\\t' '{print $2, $3, $4, $14}' \\\n",
    "| awk -F'\\t' -v OFS='\\t' '$4 != \"N/A\"' \\\n",
    "> Pact_union_5x-averages-WGBS.bedgraph"
   ]
  },
  {
   "cell_type": "code",
   "execution_count": 75,
   "metadata": {
    "collapsed": false
   },
   "outputs": [
    {
     "name": "stdout",
     "output_type": "stream",
     "text": [
      "scaffold1_cov55\t49\t51\t0.0\n",
      "scaffold1_cov55\t84\t86\t0.0\n",
      "scaffold1_cov55\t92\t94\t0.0\n",
      "scaffold1_cov55\t102\t104\t8.3333335\n",
      "scaffold1_cov55\t105\t107\t6.25\n",
      "scaffold1_cov55\t116\t118\t0.0\n",
      "scaffold1_cov55\t119\t121\t6.666666666666667\n",
      "scaffold1_cov55\t146\t148\t0.0\n",
      "scaffold1_cov55\t169\t171\t0.0\n",
      "scaffold1_cov55\t186\t188\t10.0\n",
      " 7665143 Pact_union_5x-averages-WGBS.bedgraph\n"
     ]
    }
   ],
   "source": [
    "#Check output: chr, start, end, % meth\n",
    "!head Pact_union_5x-averages-WGBS.bedgraph\n",
    "!wc -l Pact_union_5x-averages-WGBS.bedgraph"
   ]
  },
  {
   "cell_type": "code",
   "execution_count": 76,
   "metadata": {
    "collapsed": false
   },
   "outputs": [],
   "source": [
    "#Remove header\n",
    "#Keep chr, start, end, and RRBS average\n",
    "#Remove rows where the 4th column (average %meth) is N/A\n",
    "#Save file\n",
    "!tail -n +2 Pact_union_5x-averages.bedgraph \\\n",
    "| awk -F'\\t' -v OFS='\\t' '{print $2, $3, $4, $15}' \\\n",
    "| awk -F'\\t' -v OFS='\\t' '$4 != \"N/A\"' \\\n",
    "> Pact_union_5x-averages-RRBS.bedgraph"
   ]
  },
  {
   "cell_type": "code",
   "execution_count": 77,
   "metadata": {
    "collapsed": false,
    "scrolled": true
   },
   "outputs": [
    {
     "name": "stdout",
     "output_type": "stream",
     "text": [
      "scaffold6_cov64\t2536\t2538\t0.0\n",
      "scaffold6_cov64\t2584\t2586\t0.0\n",
      "scaffold6_cov64\t2676\t2678\t48.888889\n",
      "scaffold6_cov64\t2682\t2684\t0.0\n",
      "scaffold6_cov64\t4553\t4555\t17.142857\n",
      "scaffold6_cov64\t4588\t4590\t7.407407333333333\n",
      "scaffold6_cov64\t5101\t5103\t0.0\n",
      "scaffold6_cov64\t5309\t5311\t0.0\n",
      "scaffold6_cov64\t5456\t5458\t0.0\n",
      "scaffold6_cov64\t5486\t5488\t0.0\n",
      " 3508578 Pact_union_5x-averages-RRBS.bedgraph\n"
     ]
    }
   ],
   "source": [
    "#Check output: chr, start, end, % meth\n",
    "!head Pact_union_5x-averages-RRBS.bedgraph\n",
    "!wc -l Pact_union_5x-averages-RRBS.bedgraph"
   ]
  },
  {
   "cell_type": "code",
   "execution_count": 78,
   "metadata": {
    "collapsed": false
   },
   "outputs": [],
   "source": [
    "#Remove header\n",
    "#Keep chr, start, end, and MBD-BS average\n",
    "#Remove rows where the 4th column (average %meth) is N/A\n",
    "#Save file\n",
    "!tail -n +2 Pact_union_5x-averages.bedgraph \\\n",
    "| awk -F'\\t' -v OFS='\\t' '{print $2, $3, $4, $16}' \\\n",
    "| awk -F'\\t' -v OFS='\\t' '$4 != \"N/A\"' \\\n",
    "> Pact_union_5x-averages-MBDBS.bedgraph"
   ]
  },
  {
   "cell_type": "code",
   "execution_count": 79,
   "metadata": {
    "collapsed": false
   },
   "outputs": [
    {
     "name": "stdout",
     "output_type": "stream",
     "text": [
      "scaffold2_cov51\t649\t651\t0.0\n",
      "scaffold2_cov51\t686\t688\t0.0\n",
      "scaffold2_cov51\t778\t780\t0.0\n",
      "scaffold3_cov83\t118\t120\t37.142857\n",
      "scaffold3_cov83\t130\t132\t26.25\n",
      "scaffold3_cov83\t137\t139\t37.5\n",
      "scaffold3_cov83\t189\t191\t41.452991\n",
      "scaffold3_cov83\t208\t210\t42.12885166666667\n",
      "scaffold3_cov83\t243\t245\t0.0\n",
      "scaffold3_cov83\t261\t263\t47.75132266666666\n",
      " 5906529 Pact_union_5x-averages-MBDBS.bedgraph\n"
     ]
    }
   ],
   "source": [
    "#Check output: chr, start, end, % meth\n",
    "!head Pact_union_5x-averages-MBDBS.bedgraph\n",
    "!wc -l Pact_union_5x-averages-MBDBS.bedgraph"
   ]
  },
  {
   "cell_type": "code",
   "execution_count": 80,
   "metadata": {
    "collapsed": false
   },
   "outputs": [
    {
     "name": "stdout",
     "output_type": "stream",
     "text": [
      "Pact_union_5x-averages-MBDBS.bedgraph\r\n",
      "Pact_union_5x-averages-RRBS.bedgraph\r\n",
      "Pact_union_5x-averages-WGBS.bedgraph\r\n"
     ]
    }
   ],
   "source": [
    "!find *averages-*bedgraph"
   ]
  },
  {
   "cell_type": "code",
   "execution_count": 81,
   "metadata": {
    "collapsed": true
   },
   "outputs": [],
   "source": [
    "!wc -l *averages-*bedgraph > Pact_union_5x-averages-counts.txt"
   ]
  },
  {
   "cell_type": "markdown",
   "metadata": {},
   "source": [
    "### 2. Characterize methylation for each CpG dinucleotide\n",
    "\n",
    "- Methylated: > 50% methylation\n",
    "- Sparsely methylated: 10-50% methylation\n",
    "- Unmethylated: < 10% methylation"
   ]
  },
  {
   "cell_type": "markdown",
   "metadata": {},
   "source": [
    "##### Methylated loci"
   ]
  },
  {
   "cell_type": "code",
   "execution_count": 82,
   "metadata": {
    "collapsed": true
   },
   "outputs": [],
   "source": [
    "%%bash\n",
    "for f in *averages-*bedgraph\n",
    "do\n",
    "    awk '{if ($4 >= 50) { print $1, $2, $3, $4 }}' ${f} \\\n",
    "    > ${f}-Meth\n",
    "done"
   ]
  },
  {
   "cell_type": "code",
   "execution_count": 83,
   "metadata": {
    "collapsed": false,
    "scrolled": true
   },
   "outputs": [
    {
     "name": "stdout",
     "output_type": "stream",
     "text": [
      "==> Pact_union_5x-averages-MBDBS.bedgraph-Meth <==\r\n",
      "scaffold3_cov83 475 477 61.45454566666666\r\n",
      "scaffold3_cov83 504 506 51.6666665\r\n",
      "scaffold7_cov100 5986 5988 77.14912266666668\r\n",
      "scaffold7_cov100 6144 6146 96.29377666666666\r\n",
      "scaffold7_cov100 6188 6190 95.25813700000002\r\n",
      "scaffold7_cov100 6198 6200 95.69715500000001\r\n",
      "scaffold7_cov100 6231 6233 78.51851866666668\r\n",
      "scaffold7_cov100 6233 6235 95.98157266666665\r\n",
      "scaffold7_cov100 7201 7203 80.0\r\n",
      "scaffold7_cov100 7438 7440 80.0\r\n",
      "\r\n",
      "==> Pact_union_5x-averages-RRBS.bedgraph-Meth <==\r\n",
      "scaffold7_cov100 1535 1537 60.0\r\n",
      "scaffold7_cov100 17000 17002 100.0\r\n",
      "scaffold7_cov100 17090 17092 100.0\r\n",
      "scaffold7_cov100 24454 24456 100.0\r\n",
      "scaffold7_cov100 24494 24496 87.5\r\n",
      "scaffold7_cov100 24509 24511 100.0\r\n",
      "scaffold7_cov100 24557 24559 100.0\r\n",
      "scaffold7_cov100 33140 33142 80.0\r\n",
      "scaffold7_cov100 33157 33159 80.0\r\n",
      "scaffold7_cov100 40896 40898 50.0\r\n",
      "\r\n",
      "==> Pact_union_5x-averages-WGBS.bedgraph-Meth <==\r\n",
      "scaffold7_cov100 5500 5502 77.77777766666667\r\n",
      "scaffold7_cov100 5986 5988 75.55555566666668\r\n",
      "scaffold7_cov100 6144 6146 100.0\r\n",
      "scaffold7_cov100 6188 6190 98.03921566666666\r\n",
      "scaffold7_cov100 6198 6200 96.29629633333333\r\n",
      "scaffold7_cov100 6231 6233 90.47619033333332\r\n",
      "scaffold7_cov100 6233 6235 100.0\r\n",
      "scaffold7_cov100 7438 7440 96.07843133333334\r\n",
      "scaffold7_cov100 7696 7698 98.611111\r\n",
      "scaffold7_cov100 7796 7798 80.60606066666666\r\n"
     ]
    }
   ],
   "source": [
    "!head *Meth"
   ]
  },
  {
   "cell_type": "code",
   "execution_count": 84,
   "metadata": {
    "collapsed": false
   },
   "outputs": [
    {
     "name": "stdout",
     "output_type": "stream",
     "text": [
      "  725453 Pact_union_5x-averages-MBDBS.bedgraph-Meth\r\n",
      "   66798 Pact_union_5x-averages-RRBS.bedgraph-Meth\r\n",
      "  154042 Pact_union_5x-averages-WGBS.bedgraph-Meth\r\n",
      "  946293 total\r\n"
     ]
    }
   ],
   "source": [
    "!wc -l *Meth"
   ]
  },
  {
   "cell_type": "code",
   "execution_count": 85,
   "metadata": {
    "collapsed": true
   },
   "outputs": [],
   "source": [
    "!wc -l *-Meth > Pact_union_5x-Meth-counts.txt"
   ]
  },
  {
   "cell_type": "markdown",
   "metadata": {},
   "source": [
    "##### Sparsely methylated loci"
   ]
  },
  {
   "cell_type": "code",
   "execution_count": 86,
   "metadata": {
    "collapsed": true
   },
   "outputs": [],
   "source": [
    "%%bash\n",
    "for f in *averages-*bedgraph\n",
    "do\n",
    "    awk '{if ($4 < 50) { print $1, $2, $3, $4}}' ${f} \\\n",
    "    | awk '{if ($4 > 10) { print $1, $2, $3, $4 }}' \\\n",
    "    > ${f}-sparseMeth\n",
    "done"
   ]
  },
  {
   "cell_type": "code",
   "execution_count": 87,
   "metadata": {
    "collapsed": false,
    "scrolled": true
   },
   "outputs": [
    {
     "name": "stdout",
     "output_type": "stream",
     "text": [
      "==> Pact_union_5x-averages-MBDBS.bedgraph-sparseMeth <==\r\n",
      "scaffold3_cov83 118 120 37.142857\r\n",
      "scaffold3_cov83 130 132 26.25\r\n",
      "scaffold3_cov83 137 139 37.5\r\n",
      "scaffold3_cov83 189 191 41.452991\r\n",
      "scaffold3_cov83 208 210 42.12885166666667\r\n",
      "scaffold3_cov83 261 263 47.75132266666666\r\n",
      "scaffold3_cov83 484 486 47.386809\r\n",
      "scaffold6_cov64 4146 4148 16.25\r\n",
      "scaffold6_cov64 5904 5906 14.285714000000002\r\n",
      "scaffold6_cov64 6880 6882 10.714285500000003\r\n",
      "\r\n",
      "==> Pact_union_5x-averages-RRBS.bedgraph-sparseMeth <==\r\n",
      "scaffold6_cov64 2676 2678 48.888889\r\n",
      "scaffold6_cov64 4553 4555 17.142857\r\n",
      "scaffold6_cov64 5904 5906 10.800086\r\n",
      "scaffold6_cov64 6374 6376 24.382284333333335\r\n",
      "scaffold6_cov64 7373 7375 16.666667\r\n",
      "scaffold7_cov100 2301 2303 25.0\r\n",
      "scaffold7_cov100 4351 4353 20.935810000000004\r\n",
      "scaffold7_cov100 15408 15410 20.0\r\n",
      "scaffold7_cov100 17074 17076 33.333333\r\n",
      "scaffold7_cov100 17098 17100 20.0\r\n",
      "\r\n",
      "==> Pact_union_5x-averages-WGBS.bedgraph-sparseMeth <==\r\n",
      "scaffold1_cov55 252 254 20.0\r\n",
      "scaffold2_cov51 686 688 11.609686333333334\r\n",
      "scaffold3_cov83 475 477 12.281745999999998\r\n",
      "scaffold3_cov83 504 506 10.047846999999999\r\n",
      "scaffold7_cov100 4305 4307 16.6666665\r\n",
      "scaffold7_cov100 4351 4353 24.761904666666666\r\n",
      "scaffold7_cov100 4630 4632 11.416666666666666\r\n",
      "scaffold7_cov100 5578 5580 37.56613766666666\r\n",
      "scaffold7_cov100 7121 7123 18.75\r\n",
      "scaffold7_cov100 7201 7203 29.761905\r\n"
     ]
    }
   ],
   "source": [
    "!head *sparseMeth"
   ]
  },
  {
   "cell_type": "code",
   "execution_count": 88,
   "metadata": {
    "collapsed": false,
    "scrolled": false
   },
   "outputs": [
    {
     "name": "stdout",
     "output_type": "stream",
     "text": [
      "  713277 Pact_union_5x-averages-MBDBS.bedgraph-sparseMeth\n",
      "  210985 Pact_union_5x-averages-RRBS.bedgraph-sparseMeth\n",
      "  311665 Pact_union_5x-averages-WGBS.bedgraph-sparseMeth\n",
      " 1235927 total\n"
     ]
    }
   ],
   "source": [
    "!wc -l *sparseMeth"
   ]
  },
  {
   "cell_type": "code",
   "execution_count": 89,
   "metadata": {
    "collapsed": true
   },
   "outputs": [],
   "source": [
    "!wc -l *-sparseMeth > Pact_union_5x-sparseMeth-counts.txt"
   ]
  },
  {
   "cell_type": "markdown",
   "metadata": {},
   "source": [
    "##### Unmethylated loci"
   ]
  },
  {
   "cell_type": "code",
   "execution_count": 90,
   "metadata": {
    "collapsed": true
   },
   "outputs": [],
   "source": [
    "%%bash\n",
    "for f in *averages-*bedgraph\n",
    "do\n",
    "    awk '{if ($4 <= 10) { print $1, $2, $3, $4 }}' ${f} \\\n",
    "    > ${f}-unMeth\n",
    "done"
   ]
  },
  {
   "cell_type": "code",
   "execution_count": 91,
   "metadata": {
    "collapsed": false,
    "scrolled": true
   },
   "outputs": [
    {
     "name": "stdout",
     "output_type": "stream",
     "text": [
      "==> Pact_union_5x-averages-MBDBS.bedgraph-unMeth <==\r\n",
      "scaffold2_cov51 649 651 0.0\r\n",
      "scaffold2_cov51 686 688 0.0\r\n",
      "scaffold2_cov51 778 780 0.0\r\n",
      "scaffold3_cov83 243 245 0.0\r\n",
      "scaffold6_cov64 290 292 0.0\r\n",
      "scaffold6_cov64 298 300 0.0\r\n",
      "scaffold6_cov64 489 491 0.0\r\n",
      "scaffold6_cov64 826 828 7.142857000000001\r\n",
      "scaffold6_cov64 2097 2099 0.0\r\n",
      "scaffold6_cov64 2179 2181 0.0\r\n",
      "\r\n",
      "==> Pact_union_5x-averages-RRBS.bedgraph-unMeth <==\r\n",
      "scaffold6_cov64 2536 2538 0.0\r\n",
      "scaffold6_cov64 2584 2586 0.0\r\n",
      "scaffold6_cov64 2682 2684 0.0\r\n",
      "scaffold6_cov64 4588 4590 7.407407333333333\r\n",
      "scaffold6_cov64 5101 5103 0.0\r\n",
      "scaffold6_cov64 5309 5311 0.0\r\n",
      "scaffold6_cov64 5456 5458 0.0\r\n",
      "scaffold6_cov64 5486 5488 0.0\r\n",
      "scaffold6_cov64 5545 5547 4.761904666666667\r\n",
      "scaffold6_cov64 5559 5561 3.952991666666667\r\n",
      "\r\n",
      "==> Pact_union_5x-averages-WGBS.bedgraph-unMeth <==\r\n",
      "scaffold1_cov55 49 51 0.0\r\n",
      "scaffold1_cov55 84 86 0.0\r\n",
      "scaffold1_cov55 92 94 0.0\r\n",
      "scaffold1_cov55 102 104 8.3333335\r\n",
      "scaffold1_cov55 105 107 6.25\r\n",
      "scaffold1_cov55 116 118 0.0\r\n",
      "scaffold1_cov55 119 121 6.666666666666667\r\n",
      "scaffold1_cov55 146 148 0.0\r\n",
      "scaffold1_cov55 169 171 0.0\r\n",
      "scaffold1_cov55 186 188 10.0\r\n"
     ]
    }
   ],
   "source": [
    "!head *unMeth"
   ]
  },
  {
   "cell_type": "code",
   "execution_count": 92,
   "metadata": {
    "collapsed": false,
    "scrolled": true
   },
   "outputs": [
    {
     "name": "stdout",
     "output_type": "stream",
     "text": [
      " 4467799 Pact_union_5x-averages-MBDBS.bedgraph-unMeth\n",
      " 3230795 Pact_union_5x-averages-RRBS.bedgraph-unMeth\n",
      " 7199436 Pact_union_5x-averages-WGBS.bedgraph-unMeth\n",
      " 14898030 total\n"
     ]
    }
   ],
   "source": [
    "!wc -l *unMeth"
   ]
  },
  {
   "cell_type": "code",
   "execution_count": 93,
   "metadata": {
    "collapsed": true
   },
   "outputs": [],
   "source": [
    "!wc -l *-unMeth > Pact_union_5x-unMeth-counts.txt"
   ]
  },
  {
   "cell_type": "markdown",
   "metadata": {},
   "source": [
    "### 3. Characterize genomic locations of CpGs"
   ]
  },
  {
   "cell_type": "markdown",
   "metadata": {},
   "source": [
    "#### 3a. Create BEDfiles"
   ]
  },
  {
   "cell_type": "code",
   "execution_count": 94,
   "metadata": {
    "collapsed": false,
    "scrolled": true
   },
   "outputs": [
    {
     "name": "stdout",
     "output_type": "stream",
     "text": [
      " 5906529 Pact_union_5x-averages-MBDBS.bedgraph.bed\n",
      "  725453 Pact_union_5x-averages-MBDBS.bedgraph-Meth.bed\n",
      "  713277 Pact_union_5x-averages-MBDBS.bedgraph-sparseMeth.bed\n",
      " 4467799 Pact_union_5x-averages-MBDBS.bedgraph-unMeth.bed\n",
      " 3508578 Pact_union_5x-averages-RRBS.bedgraph.bed\n",
      "   66798 Pact_union_5x-averages-RRBS.bedgraph-Meth.bed\n",
      "  210985 Pact_union_5x-averages-RRBS.bedgraph-sparseMeth.bed\n",
      " 3230795 Pact_union_5x-averages-RRBS.bedgraph-unMeth.bed\n",
      " 7665143 Pact_union_5x-averages-WGBS.bedgraph.bed\n",
      "  154042 Pact_union_5x-averages-WGBS.bedgraph-Meth.bed\n",
      "  311665 Pact_union_5x-averages-WGBS.bedgraph-sparseMeth.bed\n",
      " 7199436 Pact_union_5x-averages-WGBS.bedgraph-unMeth.bed\n"
     ]
    }
   ],
   "source": [
    "%%bash\n",
    "\n",
    "for f in *averages-*bedgraph*\n",
    "do\n",
    "    awk '{print $1\"\\t\"$2\"\\t\"$3}' ${f} > ${f}.bed\n",
    "    wc -l ${f}.bed\n",
    "done"
   ]
  },
  {
   "cell_type": "code",
   "execution_count": 95,
   "metadata": {
    "collapsed": false,
    "scrolled": false
   },
   "outputs": [
    {
     "name": "stdout",
     "output_type": "stream",
     "text": [
      "scaffold2_cov51\t649\t651\r\n",
      "scaffold2_cov51\t686\t688\r\n",
      "scaffold2_cov51\t778\t780\r\n",
      "scaffold3_cov83\t118\t120\r\n",
      "scaffold3_cov83\t130\t132\r\n",
      "scaffold3_cov83\t137\t139\r\n",
      "scaffold3_cov83\t189\t191\r\n",
      "scaffold3_cov83\t208\t210\r\n",
      "scaffold3_cov83\t243\t245\r\n",
      "scaffold3_cov83\t261\t263\r\n"
     ]
    }
   ],
   "source": [
    "#Confirm file creation\n",
    "!head Pact_union_5x-averages-MBDBS.bedgraph.bed"
   ]
  },
  {
   "cell_type": "markdown",
   "metadata": {},
   "source": [
    "#### 3b. Genes"
   ]
  },
  {
   "cell_type": "code",
   "execution_count": 96,
   "metadata": {
    "collapsed": true,
    "scrolled": true
   },
   "outputs": [],
   "source": [
    "%%bash\n",
    "\n",
    "for f in *bed\n",
    "do\n",
    "  /usr/local/bin/intersectBed \\\n",
    "  -wb \\\n",
    "  -a ${f} \\\n",
    "  -b ../../../genome-feature-files/Pact.GFFannotation.Genes.gff \\\n",
    "  > ${f}-paGenes\n",
    "done"
   ]
  },
  {
   "cell_type": "code",
   "execution_count": 97,
   "metadata": {
    "collapsed": false
   },
   "outputs": [
    {
     "name": "stdout",
     "output_type": "stream",
     "text": [
      "==> Pact_union_5x-averages-MBDBS.bedgraph-Meth.bed-paGenes <==\n",
      "scaffold7_cov100\t5986\t5988\tscaffold7_cov100\tAUGUSTUS\tgene\t3467\t6217\t0.78\t-\t.\tg4\n",
      "scaffold7_cov100\t6144\t6146\tscaffold7_cov100\tAUGUSTUS\tgene\t3467\t6217\t0.78\t-\t.\tg4\n",
      "scaffold7_cov100\t6188\t6190\tscaffold7_cov100\tAUGUSTUS\tgene\t3467\t6217\t0.78\t-\t.\tg4\n",
      "scaffold7_cov100\t6198\t6200\tscaffold7_cov100\tAUGUSTUS\tgene\t3467\t6217\t0.78\t-\t.\tg4\n",
      "scaffold7_cov100\t7201\t7203\tscaffold7_cov100\tAUGUSTUS\tgene\t7069\t9073\t1\t-\t.\tg5\n",
      "scaffold7_cov100\t7438\t7440\tscaffold7_cov100\tAUGUSTUS\tgene\t7069\t9073\t1\t-\t.\tg5\n",
      "scaffold7_cov100\t7696\t7698\tscaffold7_cov100\tAUGUSTUS\tgene\t7069\t9073\t1\t-\t.\tg5\n",
      "scaffold7_cov100\t7796\t7798\tscaffold7_cov100\tAUGUSTUS\tgene\t7069\t9073\t1\t-\t.\tg5\n",
      "scaffold7_cov100\t7891\t7893\tscaffold7_cov100\tAUGUSTUS\tgene\t7069\t9073\t1\t-\t.\tg5\n",
      "scaffold7_cov100\t8323\t8325\tscaffold7_cov100\tAUGUSTUS\tgene\t7069\t9073\t1\t-\t.\tg5\n",
      "\n",
      "==> Pact_union_5x-averages-MBDBS.bedgraph-sparseMeth.bed-paGenes <==\n",
      "scaffold6_cov64\t4146\t4148\tscaffold6_cov64\tAUGUSTUS\tgene\t1\t5652\t0.46\t-\t.\tg1\n",
      "scaffold6_cov64\t5904\t5906\tscaffold6_cov64\tAUGUSTUS\tgene\t5805\t6678\t0.57\t+\t.\tg2\n",
      "scaffold7_cov100\t1390\t1392\tscaffold7_cov100\tAUGUSTUS\tgene\t1\t2566\t0.96\t+\t.\tg3\n",
      "scaffold7_cov100\t1422\t1424\tscaffold7_cov100\tAUGUSTUS\tgene\t1\t2566\t0.96\t+\t.\tg3\n",
      "scaffold7_cov100\t3956\t3958\tscaffold7_cov100\tAUGUSTUS\tgene\t3467\t6217\t0.78\t-\t.\tg4\n",
      "scaffold7_cov100\t4630\t4632\tscaffold7_cov100\tAUGUSTUS\tgene\t3467\t6217\t0.78\t-\t.\tg4\n",
      "scaffold7_cov100\t4678\t4680\tscaffold7_cov100\tAUGUSTUS\tgene\t3467\t6217\t0.78\t-\t.\tg4\n",
      "scaffold7_cov100\t5500\t5502\tscaffold7_cov100\tAUGUSTUS\tgene\t3467\t6217\t0.78\t-\t.\tg4\n",
      "scaffold7_cov100\t5578\t5580\tscaffold7_cov100\tAUGUSTUS\tgene\t3467\t6217\t0.78\t-\t.\tg4\n",
      "scaffold7_cov100\t11439\t11441\tscaffold7_cov100\tAUGUSTUS\tgene\t9590\t11670\t0.8\t-\t.\tg6\n",
      "\n",
      "==> Pact_union_5x-averages-MBDBS.bedgraph-unMeth.bed-paGenes <==\n",
      "scaffold6_cov64\t290\t292\tscaffold6_cov64\tAUGUSTUS\tgene\t1\t5652\t0.46\t-\t.\tg1\n",
      "scaffold6_cov64\t298\t300\tscaffold6_cov64\tAUGUSTUS\tgene\t1\t5652\t0.46\t-\t.\tg1\n",
      "scaffold6_cov64\t489\t491\tscaffold6_cov64\tAUGUSTUS\tgene\t1\t5652\t0.46\t-\t.\tg1\n",
      "scaffold6_cov64\t826\t828\tscaffold6_cov64\tAUGUSTUS\tgene\t1\t5652\t0.46\t-\t.\tg1\n",
      "scaffold6_cov64\t2097\t2099\tscaffold6_cov64\tAUGUSTUS\tgene\t1\t5652\t0.46\t-\t.\tg1\n",
      "scaffold6_cov64\t2179\t2181\tscaffold6_cov64\tAUGUSTUS\tgene\t1\t5652\t0.46\t-\t.\tg1\n",
      "scaffold6_cov64\t2805\t2807\tscaffold6_cov64\tAUGUSTUS\tgene\t1\t5652\t0.46\t-\t.\tg1\n",
      "scaffold6_cov64\t2872\t2874\tscaffold6_cov64\tAUGUSTUS\tgene\t1\t5652\t0.46\t-\t.\tg1\n",
      "scaffold6_cov64\t2876\t2878\tscaffold6_cov64\tAUGUSTUS\tgene\t1\t5652\t0.46\t-\t.\tg1\n",
      "scaffold6_cov64\t3198\t3200\tscaffold6_cov64\tAUGUSTUS\tgene\t1\t5652\t0.46\t-\t.\tg1\n",
      "\n",
      "==> Pact_union_5x-averages-MBDBS.bedgraph.bed-paGenes <==\n",
      "scaffold6_cov64\t290\t292\tscaffold6_cov64\tAUGUSTUS\tgene\t1\t5652\t0.46\t-\t.\tg1\n",
      "scaffold6_cov64\t298\t300\tscaffold6_cov64\tAUGUSTUS\tgene\t1\t5652\t0.46\t-\t.\tg1\n",
      "scaffold6_cov64\t489\t491\tscaffold6_cov64\tAUGUSTUS\tgene\t1\t5652\t0.46\t-\t.\tg1\n",
      "scaffold6_cov64\t826\t828\tscaffold6_cov64\tAUGUSTUS\tgene\t1\t5652\t0.46\t-\t.\tg1\n",
      "scaffold6_cov64\t2097\t2099\tscaffold6_cov64\tAUGUSTUS\tgene\t1\t5652\t0.46\t-\t.\tg1\n",
      "scaffold6_cov64\t2179\t2181\tscaffold6_cov64\tAUGUSTUS\tgene\t1\t5652\t0.46\t-\t.\tg1\n",
      "scaffold6_cov64\t2805\t2807\tscaffold6_cov64\tAUGUSTUS\tgene\t1\t5652\t0.46\t-\t.\tg1\n",
      "scaffold6_cov64\t2872\t2874\tscaffold6_cov64\tAUGUSTUS\tgene\t1\t5652\t0.46\t-\t.\tg1\n",
      "scaffold6_cov64\t2876\t2878\tscaffold6_cov64\tAUGUSTUS\tgene\t1\t5652\t0.46\t-\t.\tg1\n",
      "scaffold6_cov64\t3198\t3200\tscaffold6_cov64\tAUGUSTUS\tgene\t1\t5652\t0.46\t-\t.\tg1\n",
      "\n",
      "==> Pact_union_5x-averages-RRBS.bedgraph-Meth.bed-paGenes <==\n",
      "scaffold7_cov100\t1535\t1537\tscaffold7_cov100\tAUGUSTUS\tgene\t1\t2566\t0.96\t+\t.\tg3\n",
      "scaffold7_cov100\t17000\t17002\tscaffold7_cov100\tAUGUSTUS\tgene\t15738\t18320\t0.96\t+\t.\tg8\n",
      "scaffold7_cov100\t17090\t17092\tscaffold7_cov100\tAUGUSTUS\tgene\t15738\t18320\t0.96\t+\t.\tg8\n",
      "scaffold7_cov100\t33140\t33142\tscaffold7_cov100\tAUGUSTUS\tgene\t31898\t37761\t0.64\t-\t.\tg13\n",
      "scaffold7_cov100\t33157\t33159\tscaffold7_cov100\tAUGUSTUS\tgene\t31898\t37761\t0.64\t-\t.\tg13\n",
      "scaffold7_cov100\t69126\t69128\tscaffold7_cov100\tAUGUSTUS\tgene\t68185\t73140\t1\t-\t.\tg18\n",
      "scaffold7_cov100\t96791\t96793\tscaffold7_cov100\tAUGUSTUS\tgene\t92374\t98904\t0.33\t-\t.\tg24\n",
      "scaffold7_cov100\t106242\t106244\tscaffold7_cov100\tAUGUSTUS\tgene\t105977\t107566\t0.86\t+\t.\tg27\n",
      "scaffold7_cov100\t106251\t106253\tscaffold7_cov100\tAUGUSTUS\tgene\t105977\t107566\t0.86\t+\t.\tg27\n",
      "scaffold7_cov100\t106254\t106256\tscaffold7_cov100\tAUGUSTUS\tgene\t105977\t107566\t0.86\t+\t.\tg27\n",
      "\n",
      "==> Pact_union_5x-averages-RRBS.bedgraph-sparseMeth.bed-paGenes <==\n",
      "scaffold6_cov64\t2676\t2678\tscaffold6_cov64\tAUGUSTUS\tgene\t1\t5652\t0.46\t-\t.\tg1\n",
      "scaffold6_cov64\t4553\t4555\tscaffold6_cov64\tAUGUSTUS\tgene\t1\t5652\t0.46\t-\t.\tg1\n",
      "scaffold6_cov64\t5904\t5906\tscaffold6_cov64\tAUGUSTUS\tgene\t5805\t6678\t0.57\t+\t.\tg2\n",
      "scaffold6_cov64\t6374\t6376\tscaffold6_cov64\tAUGUSTUS\tgene\t5805\t6678\t0.57\t+\t.\tg2\n",
      "scaffold7_cov100\t2301\t2303\tscaffold7_cov100\tAUGUSTUS\tgene\t1\t2566\t0.96\t+\t.\tg3\n",
      "scaffold7_cov100\t4351\t4353\tscaffold7_cov100\tAUGUSTUS\tgene\t3467\t6217\t0.78\t-\t.\tg4\n",
      "scaffold7_cov100\t15408\t15410\tscaffold7_cov100\tAUGUSTUS\tgene\t13339\t15463\t0.92\t-\t.\tg7\n",
      "scaffold7_cov100\t17074\t17076\tscaffold7_cov100\tAUGUSTUS\tgene\t15738\t18320\t0.96\t+\t.\tg8\n",
      "scaffold7_cov100\t17098\t17100\tscaffold7_cov100\tAUGUSTUS\tgene\t15738\t18320\t0.96\t+\t.\tg8\n",
      "scaffold7_cov100\t36600\t36602\tscaffold7_cov100\tAUGUSTUS\tgene\t31898\t37761\t0.64\t-\t.\tg13\n",
      "\n",
      "==> Pact_union_5x-averages-RRBS.bedgraph-unMeth.bed-paGenes <==\n",
      "scaffold6_cov64\t2536\t2538\tscaffold6_cov64\tAUGUSTUS\tgene\t1\t5652\t0.46\t-\t.\tg1\n",
      "scaffold6_cov64\t2584\t2586\tscaffold6_cov64\tAUGUSTUS\tgene\t1\t5652\t0.46\t-\t.\tg1\n",
      "scaffold6_cov64\t2682\t2684\tscaffold6_cov64\tAUGUSTUS\tgene\t1\t5652\t0.46\t-\t.\tg1\n",
      "scaffold6_cov64\t4588\t4590\tscaffold6_cov64\tAUGUSTUS\tgene\t1\t5652\t0.46\t-\t.\tg1\n",
      "scaffold6_cov64\t5101\t5103\tscaffold6_cov64\tAUGUSTUS\tgene\t1\t5652\t0.46\t-\t.\tg1\n",
      "scaffold6_cov64\t5309\t5311\tscaffold6_cov64\tAUGUSTUS\tgene\t1\t5652\t0.46\t-\t.\tg1\n",
      "scaffold6_cov64\t5456\t5458\tscaffold6_cov64\tAUGUSTUS\tgene\t1\t5652\t0.46\t-\t.\tg1\n",
      "scaffold6_cov64\t5486\t5488\tscaffold6_cov64\tAUGUSTUS\tgene\t1\t5652\t0.46\t-\t.\tg1\n",
      "scaffold6_cov64\t5545\t5547\tscaffold6_cov64\tAUGUSTUS\tgene\t1\t5652\t0.46\t-\t.\tg1\n",
      "scaffold6_cov64\t5559\t5561\tscaffold6_cov64\tAUGUSTUS\tgene\t1\t5652\t0.46\t-\t.\tg1\n",
      "\n",
      "==> Pact_union_5x-averages-RRBS.bedgraph.bed-paGenes <==\n",
      "scaffold6_cov64\t2536\t2538\tscaffold6_cov64\tAUGUSTUS\tgene\t1\t5652\t0.46\t-\t.\tg1\n",
      "scaffold6_cov64\t2584\t2586\tscaffold6_cov64\tAUGUSTUS\tgene\t1\t5652\t0.46\t-\t.\tg1\n",
      "scaffold6_cov64\t2676\t2678\tscaffold6_cov64\tAUGUSTUS\tgene\t1\t5652\t0.46\t-\t.\tg1\n",
      "scaffold6_cov64\t2682\t2684\tscaffold6_cov64\tAUGUSTUS\tgene\t1\t5652\t0.46\t-\t.\tg1\n",
      "scaffold6_cov64\t4553\t4555\tscaffold6_cov64\tAUGUSTUS\tgene\t1\t5652\t0.46\t-\t.\tg1\n",
      "scaffold6_cov64\t4588\t4590\tscaffold6_cov64\tAUGUSTUS\tgene\t1\t5652\t0.46\t-\t.\tg1\n",
      "scaffold6_cov64\t5101\t5103\tscaffold6_cov64\tAUGUSTUS\tgene\t1\t5652\t0.46\t-\t.\tg1\n",
      "scaffold6_cov64\t5309\t5311\tscaffold6_cov64\tAUGUSTUS\tgene\t1\t5652\t0.46\t-\t.\tg1\n",
      "scaffold6_cov64\t5456\t5458\tscaffold6_cov64\tAUGUSTUS\tgene\t1\t5652\t0.46\t-\t.\tg1\n",
      "scaffold6_cov64\t5486\t5488\tscaffold6_cov64\tAUGUSTUS\tgene\t1\t5652\t0.46\t-\t.\tg1\n",
      "\n",
      "==> Pact_union_5x-averages-WGBS.bedgraph-Meth.bed-paGenes <==\n",
      "scaffold7_cov100\t5500\t5502\tscaffold7_cov100\tAUGUSTUS\tgene\t3467\t6217\t0.78\t-\t.\tg4\n",
      "scaffold7_cov100\t5986\t5988\tscaffold7_cov100\tAUGUSTUS\tgene\t3467\t6217\t0.78\t-\t.\tg4\n",
      "scaffold7_cov100\t6144\t6146\tscaffold7_cov100\tAUGUSTUS\tgene\t3467\t6217\t0.78\t-\t.\tg4\n",
      "scaffold7_cov100\t6188\t6190\tscaffold7_cov100\tAUGUSTUS\tgene\t3467\t6217\t0.78\t-\t.\tg4\n",
      "scaffold7_cov100\t6198\t6200\tscaffold7_cov100\tAUGUSTUS\tgene\t3467\t6217\t0.78\t-\t.\tg4\n",
      "scaffold7_cov100\t7438\t7440\tscaffold7_cov100\tAUGUSTUS\tgene\t7069\t9073\t1\t-\t.\tg5\n",
      "scaffold7_cov100\t7696\t7698\tscaffold7_cov100\tAUGUSTUS\tgene\t7069\t9073\t1\t-\t.\tg5\n",
      "scaffold7_cov100\t7796\t7798\tscaffold7_cov100\tAUGUSTUS\tgene\t7069\t9073\t1\t-\t.\tg5\n",
      "scaffold7_cov100\t7891\t7893\tscaffold7_cov100\tAUGUSTUS\tgene\t7069\t9073\t1\t-\t.\tg5\n",
      "scaffold7_cov100\t8323\t8325\tscaffold7_cov100\tAUGUSTUS\tgene\t7069\t9073\t1\t-\t.\tg5\n",
      "\n",
      "==> Pact_union_5x-averages-WGBS.bedgraph-sparseMeth.bed-paGenes <==\n",
      "scaffold7_cov100\t4305\t4307\tscaffold7_cov100\tAUGUSTUS\tgene\t3467\t6217\t0.78\t-\t.\tg4\n",
      "scaffold7_cov100\t4351\t4353\tscaffold7_cov100\tAUGUSTUS\tgene\t3467\t6217\t0.78\t-\t.\tg4\n",
      "scaffold7_cov100\t4630\t4632\tscaffold7_cov100\tAUGUSTUS\tgene\t3467\t6217\t0.78\t-\t.\tg4\n",
      "scaffold7_cov100\t5578\t5580\tscaffold7_cov100\tAUGUSTUS\tgene\t3467\t6217\t0.78\t-\t.\tg4\n",
      "scaffold7_cov100\t7121\t7123\tscaffold7_cov100\tAUGUSTUS\tgene\t7069\t9073\t1\t-\t.\tg5\n",
      "scaffold7_cov100\t7201\t7203\tscaffold7_cov100\tAUGUSTUS\tgene\t7069\t9073\t1\t-\t.\tg5\n",
      "scaffold7_cov100\t9715\t9717\tscaffold7_cov100\tAUGUSTUS\tgene\t9590\t11670\t0.8\t-\t.\tg6\n",
      "scaffold7_cov100\t10755\t10757\tscaffold7_cov100\tAUGUSTUS\tgene\t9590\t11670\t0.8\t-\t.\tg6\n",
      "scaffold7_cov100\t11439\t11441\tscaffold7_cov100\tAUGUSTUS\tgene\t9590\t11670\t0.8\t-\t.\tg6\n",
      "scaffold7_cov100\t14042\t14044\tscaffold7_cov100\tAUGUSTUS\tgene\t13339\t15463\t0.92\t-\t.\tg7\n",
      "\n",
      "==> Pact_union_5x-averages-WGBS.bedgraph-unMeth.bed-paGenes <==\n",
      "scaffold6_cov64\t167\t169\tscaffold6_cov64\tAUGUSTUS\tgene\t1\t5652\t0.46\t-\t.\tg1\n",
      "scaffold6_cov64\t290\t292\tscaffold6_cov64\tAUGUSTUS\tgene\t1\t5652\t0.46\t-\t.\tg1\n",
      "scaffold6_cov64\t298\t300\tscaffold6_cov64\tAUGUSTUS\tgene\t1\t5652\t0.46\t-\t.\tg1\n",
      "scaffold6_cov64\t489\t491\tscaffold6_cov64\tAUGUSTUS\tgene\t1\t5652\t0.46\t-\t.\tg1\n",
      "scaffold6_cov64\t826\t828\tscaffold6_cov64\tAUGUSTUS\tgene\t1\t5652\t0.46\t-\t.\tg1\n",
      "scaffold6_cov64\t1539\t1541\tscaffold6_cov64\tAUGUSTUS\tgene\t1\t5652\t0.46\t-\t.\tg1\n",
      "scaffold6_cov64\t1725\t1727\tscaffold6_cov64\tAUGUSTUS\tgene\t1\t5652\t0.46\t-\t.\tg1\n",
      "scaffold6_cov64\t2097\t2099\tscaffold6_cov64\tAUGUSTUS\tgene\t1\t5652\t0.46\t-\t.\tg1\n",
      "scaffold6_cov64\t2179\t2181\tscaffold6_cov64\tAUGUSTUS\tgene\t1\t5652\t0.46\t-\t.\tg1\n",
      "scaffold6_cov64\t2253\t2255\tscaffold6_cov64\tAUGUSTUS\tgene\t1\t5652\t0.46\t-\t.\tg1\n",
      "\n",
      "==> Pact_union_5x-averages-WGBS.bedgraph.bed-paGenes <==\n",
      "scaffold6_cov64\t167\t169\tscaffold6_cov64\tAUGUSTUS\tgene\t1\t5652\t0.46\t-\t.\tg1\n",
      "scaffold6_cov64\t290\t292\tscaffold6_cov64\tAUGUSTUS\tgene\t1\t5652\t0.46\t-\t.\tg1\n",
      "scaffold6_cov64\t298\t300\tscaffold6_cov64\tAUGUSTUS\tgene\t1\t5652\t0.46\t-\t.\tg1\n",
      "scaffold6_cov64\t489\t491\tscaffold6_cov64\tAUGUSTUS\tgene\t1\t5652\t0.46\t-\t.\tg1\n",
      "scaffold6_cov64\t826\t828\tscaffold6_cov64\tAUGUSTUS\tgene\t1\t5652\t0.46\t-\t.\tg1\n",
      "scaffold6_cov64\t1539\t1541\tscaffold6_cov64\tAUGUSTUS\tgene\t1\t5652\t0.46\t-\t.\tg1\n",
      "scaffold6_cov64\t1725\t1727\tscaffold6_cov64\tAUGUSTUS\tgene\t1\t5652\t0.46\t-\t.\tg1\n",
      "scaffold6_cov64\t2097\t2099\tscaffold6_cov64\tAUGUSTUS\tgene\t1\t5652\t0.46\t-\t.\tg1\n",
      "scaffold6_cov64\t2179\t2181\tscaffold6_cov64\tAUGUSTUS\tgene\t1\t5652\t0.46\t-\t.\tg1\n",
      "scaffold6_cov64\t2253\t2255\tscaffold6_cov64\tAUGUSTUS\tgene\t1\t5652\t0.46\t-\t.\tg1\n"
     ]
    }
   ],
   "source": [
    "#Check output\n",
    "!head *paGenes"
   ]
  },
  {
   "cell_type": "code",
   "execution_count": 98,
   "metadata": {
    "collapsed": false,
    "scrolled": true
   },
   "outputs": [
    {
     "name": "stdout",
     "output_type": "stream",
     "text": [
      "  328782 Pact_union_5x-averages-MBDBS.bedgraph-Meth.bed-paGenes\n",
      "  286913 Pact_union_5x-averages-MBDBS.bedgraph-sparseMeth.bed-paGenes\n",
      " 2135588 Pact_union_5x-averages-MBDBS.bedgraph-unMeth.bed-paGenes\n",
      " 2751283 Pact_union_5x-averages-MBDBS.bedgraph.bed-paGenes\n",
      "   28818 Pact_union_5x-averages-RRBS.bedgraph-Meth.bed-paGenes\n",
      "   85395 Pact_union_5x-averages-RRBS.bedgraph-sparseMeth.bed-paGenes\n",
      " 1359026 Pact_union_5x-averages-RRBS.bedgraph-unMeth.bed-paGenes\n",
      " 1473239 Pact_union_5x-averages-RRBS.bedgraph.bed-paGenes\n",
      "  100847 Pact_union_5x-averages-WGBS.bedgraph-Meth.bed-paGenes\n",
      "  119765 Pact_union_5x-averages-WGBS.bedgraph-sparseMeth.bed-paGenes\n",
      " 2981190 Pact_union_5x-averages-WGBS.bedgraph-unMeth.bed-paGenes\n",
      " 3201802 Pact_union_5x-averages-WGBS.bedgraph.bed-paGenes\n",
      " 14852648 total\n"
     ]
    }
   ],
   "source": [
    "#Count number of overlaps\n",
    "!wc -l *paGenes"
   ]
  },
  {
   "cell_type": "code",
   "execution_count": 99,
   "metadata": {
    "collapsed": true
   },
   "outputs": [],
   "source": [
    "!wc -l *paGenes > Pact_union_5x-paGenes-counts.txt"
   ]
  },
  {
   "cell_type": "markdown",
   "metadata": {},
   "source": [
    "#### 3c. Coding Sequences (CDS)"
   ]
  },
  {
   "cell_type": "code",
   "execution_count": 100,
   "metadata": {
    "collapsed": true,
    "scrolled": true
   },
   "outputs": [],
   "source": [
    "%%bash\n",
    "\n",
    "for f in *bed\n",
    "do\n",
    "  /usr/local/bin/intersectBed \\\n",
    "  -wb \\\n",
    "  -a ${f} \\\n",
    "  -b ../../../genome-feature-files/Pact.GFFannotation.CDS.gff \\\n",
    "  > ${f}-paCDS\n",
    "done"
   ]
  },
  {
   "cell_type": "code",
   "execution_count": 101,
   "metadata": {
    "collapsed": false
   },
   "outputs": [
    {
     "name": "stdout",
     "output_type": "stream",
     "text": [
      "==> Pact_union_5x-averages-MBDBS.bedgraph-Meth.bed-paCDS <==\n",
      "scaffold7_cov100\t6144\t6146\tscaffold7_cov100\tAUGUSTUS\tCDS\t6091\t6217\t0.48\t-\t0\ttranscript_id \"g4.t1\"; gene_id \"g4\";\n",
      "scaffold7_cov100\t6144\t6146\tscaffold7_cov100\tAUGUSTUS\tCDS\t6091\t6211\t0.52\t-\t0\ttranscript_id \"g4.t2\"; gene_id \"g4\";\n",
      "scaffold7_cov100\t6188\t6190\tscaffold7_cov100\tAUGUSTUS\tCDS\t6091\t6217\t0.48\t-\t0\ttranscript_id \"g4.t1\"; gene_id \"g4\";\n",
      "scaffold7_cov100\t6188\t6190\tscaffold7_cov100\tAUGUSTUS\tCDS\t6091\t6211\t0.52\t-\t0\ttranscript_id \"g4.t2\"; gene_id \"g4\";\n",
      "scaffold7_cov100\t6198\t6200\tscaffold7_cov100\tAUGUSTUS\tCDS\t6091\t6217\t0.48\t-\t0\ttranscript_id \"g4.t1\"; gene_id \"g4\";\n",
      "scaffold7_cov100\t6198\t6200\tscaffold7_cov100\tAUGUSTUS\tCDS\t6091\t6211\t0.52\t-\t0\ttranscript_id \"g4.t2\"; gene_id \"g4\";\n",
      "scaffold7_cov100\t7696\t7698\tscaffold7_cov100\tAUGUSTUS\tCDS\t7650\t7715\t1\t-\t2\ttranscript_id \"g5.t1\"; gene_id \"g5\";\n",
      "scaffold7_cov100\t7696\t7698\tscaffold7_cov100\tAUGUSTUS\tCDS\t7650\t7715\t1\t-\t2\ttranscript_id \"g5.t2\"; gene_id \"g5\";\n",
      "scaffold7_cov100\t7892\t7893\tscaffold7_cov100\tAUGUSTUS\tCDS\t7893\t7980\t1\t-\t0\ttranscript_id \"g5.t1\"; gene_id \"g5\";\n",
      "scaffold7_cov100\t7892\t7893\tscaffold7_cov100\tAUGUSTUS\tCDS\t7893\t7980\t1\t-\t0\ttranscript_id \"g5.t2\"; gene_id \"g5\";\n",
      "\n",
      "==> Pact_union_5x-averages-MBDBS.bedgraph-sparseMeth.bed-paCDS <==\n",
      "scaffold7_cov100\t1390\t1392\tscaffold7_cov100\tAUGUSTUS\tCDS\t1\t2566\t0.96\t+\t1\ttranscript_id \"g3.t1\"; gene_id \"g3\";\n",
      "scaffold7_cov100\t1422\t1424\tscaffold7_cov100\tAUGUSTUS\tCDS\t1\t2566\t0.96\t+\t1\ttranscript_id \"g3.t1\"; gene_id \"g3\";\n",
      "scaffold7_cov100\t4630\t4632\tscaffold7_cov100\tAUGUSTUS\tCDS\t4608\t4780\t1\t-\t2\ttranscript_id \"g4.t1\"; gene_id \"g4\";\n",
      "scaffold7_cov100\t4630\t4632\tscaffold7_cov100\tAUGUSTUS\tCDS\t4608\t4780\t1\t-\t2\ttranscript_id \"g4.t2\"; gene_id \"g4\";\n",
      "scaffold7_cov100\t4678\t4680\tscaffold7_cov100\tAUGUSTUS\tCDS\t4608\t4780\t1\t-\t2\ttranscript_id \"g4.t1\"; gene_id \"g4\";\n",
      "scaffold7_cov100\t4678\t4680\tscaffold7_cov100\tAUGUSTUS\tCDS\t4608\t4780\t1\t-\t2\ttranscript_id \"g4.t2\"; gene_id \"g4\";\n",
      "scaffold7_cov100\t5500\t5502\tscaffold7_cov100\tAUGUSTUS\tCDS\t5466\t5540\t1\t-\t2\ttranscript_id \"g4.t1\"; gene_id \"g4\";\n",
      "scaffold7_cov100\t5500\t5502\tscaffold7_cov100\tAUGUSTUS\tCDS\t5466\t5540\t1\t-\t2\ttranscript_id \"g4.t2\"; gene_id \"g4\";\n",
      "scaffold7_cov100\t14042\t14044\tscaffold7_cov100\tAUGUSTUS\tCDS\t13744\t14512\t1\t-\t0\ttranscript_id \"g7.t1\"; gene_id \"g7\";\n",
      "scaffold7_cov100\t17164\t17166\tscaffold7_cov100\tAUGUSTUS\tCDS\t15738\t18320\t0.53\t+\t0\ttranscript_id \"g8.t1\"; gene_id \"g8\";\n",
      "\n",
      "==> Pact_union_5x-averages-MBDBS.bedgraph-unMeth.bed-paCDS <==\n",
      "scaffold6_cov64\t826\t828\tscaffold6_cov64\tAUGUSTUS\tCDS\t495\t842\t0.84\t-\t2\ttranscript_id \"g1.t1\"; gene_id \"g1\";\n",
      "scaffold6_cov64\t826\t828\tscaffold6_cov64\tAUGUSTUS\tCDS\t495\t842\t0.84\t-\t2\ttranscript_id \"g1.t2\"; gene_id \"g1\";\n",
      "scaffold6_cov64\t2097\t2099\tscaffold6_cov64\tAUGUSTUS\tCDS\t1922\t2269\t1\t-\t2\ttranscript_id \"g1.t1\"; gene_id \"g1\";\n",
      "scaffold6_cov64\t2097\t2099\tscaffold6_cov64\tAUGUSTUS\tCDS\t1922\t2269\t1\t-\t2\ttranscript_id \"g1.t2\"; gene_id \"g1\";\n",
      "scaffold6_cov64\t2179\t2181\tscaffold6_cov64\tAUGUSTUS\tCDS\t1922\t2269\t1\t-\t2\ttranscript_id \"g1.t1\"; gene_id \"g1\";\n",
      "scaffold6_cov64\t2179\t2181\tscaffold6_cov64\tAUGUSTUS\tCDS\t1922\t2269\t1\t-\t2\ttranscript_id \"g1.t2\"; gene_id \"g1\";\n",
      "scaffold6_cov64\t4793\t4795\tscaffold6_cov64\tAUGUSTUS\tCDS\t4754\t4851\t0.4\t-\t1\ttranscript_id \"g1.t2\"; gene_id \"g1\";\n",
      "scaffold6_cov64\t5582\t5583\tscaffold6_cov64\tAUGUSTUS\tCDS\t5583\t5652\t0.26\t-\t0\ttranscript_id \"g1.t1\"; gene_id \"g1\";\n",
      "scaffold6_cov64\t5583\t5585\tscaffold6_cov64\tAUGUSTUS\tCDS\t5583\t5652\t0.26\t-\t0\ttranscript_id \"g1.t1\"; gene_id \"g1\";\n",
      "scaffold6_cov64\t5592\t5594\tscaffold6_cov64\tAUGUSTUS\tCDS\t5583\t5652\t0.26\t-\t0\ttranscript_id \"g1.t1\"; gene_id \"g1\";\n",
      "\n",
      "==> Pact_union_5x-averages-MBDBS.bedgraph.bed-paCDS <==\n",
      "scaffold6_cov64\t826\t828\tscaffold6_cov64\tAUGUSTUS\tCDS\t495\t842\t0.84\t-\t2\ttranscript_id \"g1.t1\"; gene_id \"g1\";\n",
      "scaffold6_cov64\t826\t828\tscaffold6_cov64\tAUGUSTUS\tCDS\t495\t842\t0.84\t-\t2\ttranscript_id \"g1.t2\"; gene_id \"g1\";\n",
      "scaffold6_cov64\t2097\t2099\tscaffold6_cov64\tAUGUSTUS\tCDS\t1922\t2269\t1\t-\t2\ttranscript_id \"g1.t1\"; gene_id \"g1\";\n",
      "scaffold6_cov64\t2097\t2099\tscaffold6_cov64\tAUGUSTUS\tCDS\t1922\t2269\t1\t-\t2\ttranscript_id \"g1.t2\"; gene_id \"g1\";\n",
      "scaffold6_cov64\t2179\t2181\tscaffold6_cov64\tAUGUSTUS\tCDS\t1922\t2269\t1\t-\t2\ttranscript_id \"g1.t1\"; gene_id \"g1\";\n",
      "scaffold6_cov64\t2179\t2181\tscaffold6_cov64\tAUGUSTUS\tCDS\t1922\t2269\t1\t-\t2\ttranscript_id \"g1.t2\"; gene_id \"g1\";\n",
      "scaffold6_cov64\t4793\t4795\tscaffold6_cov64\tAUGUSTUS\tCDS\t4754\t4851\t0.4\t-\t1\ttranscript_id \"g1.t2\"; gene_id \"g1\";\n",
      "scaffold6_cov64\t5582\t5583\tscaffold6_cov64\tAUGUSTUS\tCDS\t5583\t5652\t0.26\t-\t0\ttranscript_id \"g1.t1\"; gene_id \"g1\";\n",
      "scaffold6_cov64\t5583\t5585\tscaffold6_cov64\tAUGUSTUS\tCDS\t5583\t5652\t0.26\t-\t0\ttranscript_id \"g1.t1\"; gene_id \"g1\";\n",
      "scaffold6_cov64\t5592\t5594\tscaffold6_cov64\tAUGUSTUS\tCDS\t5583\t5652\t0.26\t-\t0\ttranscript_id \"g1.t1\"; gene_id \"g1\";\n",
      "\n",
      "==> Pact_union_5x-averages-RRBS.bedgraph-Meth.bed-paCDS <==\n",
      "scaffold7_cov100\t1535\t1537\tscaffold7_cov100\tAUGUSTUS\tCDS\t1\t2566\t0.96\t+\t1\ttranscript_id \"g3.t1\"; gene_id \"g3\";\n",
      "scaffold7_cov100\t17000\t17002\tscaffold7_cov100\tAUGUSTUS\tCDS\t15738\t18320\t0.53\t+\t0\ttranscript_id \"g8.t1\"; gene_id \"g8\";\n",
      "scaffold7_cov100\t17000\t17002\tscaffold7_cov100\tAUGUSTUS\tCDS\t15789\t18320\t0.43\t+\t0\ttranscript_id \"g8.t2\"; gene_id \"g8\";\n",
      "scaffold7_cov100\t17090\t17092\tscaffold7_cov100\tAUGUSTUS\tCDS\t15738\t18320\t0.53\t+\t0\ttranscript_id \"g8.t1\"; gene_id \"g8\";\n",
      "scaffold7_cov100\t17090\t17092\tscaffold7_cov100\tAUGUSTUS\tCDS\t15789\t18320\t0.43\t+\t0\ttranscript_id \"g8.t2\"; gene_id \"g8\";\n",
      "scaffold7_cov100\t33140\t33142\tscaffold7_cov100\tAUGUSTUS\tCDS\t32892\t33408\t1\t-\t0\ttranscript_id \"g13.t1\"; gene_id \"g13\";\n",
      "scaffold7_cov100\t33140\t33142\tscaffold7_cov100\tAUGUSTUS\tCDS\t32892\t33408\t1\t-\t0\ttranscript_id \"g13.t2\"; gene_id \"g13\";\n",
      "scaffold7_cov100\t33157\t33159\tscaffold7_cov100\tAUGUSTUS\tCDS\t32892\t33408\t1\t-\t0\ttranscript_id \"g13.t1\"; gene_id \"g13\";\n",
      "scaffold7_cov100\t33157\t33159\tscaffold7_cov100\tAUGUSTUS\tCDS\t32892\t33408\t1\t-\t0\ttranscript_id \"g13.t2\"; gene_id \"g13\";\n",
      "scaffold7_cov100\t69126\t69128\tscaffold7_cov100\tAUGUSTUS\tCDS\t69127\t69211\t1\t-\t2\ttranscript_id \"g18.t1\"; gene_id \"g18\";\n",
      "\n",
      "==> Pact_union_5x-averages-RRBS.bedgraph-sparseMeth.bed-paCDS <==\n",
      "scaffold7_cov100\t2301\t2303\tscaffold7_cov100\tAUGUSTUS\tCDS\t1\t2566\t0.96\t+\t1\ttranscript_id \"g3.t1\"; gene_id \"g3\";\n",
      "scaffold7_cov100\t15408\t15410\tscaffold7_cov100\tAUGUSTUS\tCDS\t15379\t15463\t0.93\t-\t0\ttranscript_id \"g7.t1\"; gene_id \"g7\";\n",
      "scaffold7_cov100\t17074\t17076\tscaffold7_cov100\tAUGUSTUS\tCDS\t15738\t18320\t0.53\t+\t0\ttranscript_id \"g8.t1\"; gene_id \"g8\";\n",
      "scaffold7_cov100\t17074\t17076\tscaffold7_cov100\tAUGUSTUS\tCDS\t15789\t18320\t0.43\t+\t0\ttranscript_id \"g8.t2\"; gene_id \"g8\";\n",
      "scaffold7_cov100\t17098\t17100\tscaffold7_cov100\tAUGUSTUS\tCDS\t15738\t18320\t0.53\t+\t0\ttranscript_id \"g8.t1\"; gene_id \"g8\";\n",
      "scaffold7_cov100\t17098\t17100\tscaffold7_cov100\tAUGUSTUS\tCDS\t15789\t18320\t0.43\t+\t0\ttranscript_id \"g8.t2\"; gene_id \"g8\";\n",
      "scaffold7_cov100\t46343\t46345\tscaffold7_cov100\tAUGUSTUS\tCDS\t45637\t46757\t1\t+\t2\ttranscript_id \"g14.t1\"; gene_id \"g14\";\n",
      "scaffold7_cov100\t46428\t46430\tscaffold7_cov100\tAUGUSTUS\tCDS\t45637\t46757\t1\t+\t2\ttranscript_id \"g14.t1\"; gene_id \"g14\";\n",
      "scaffold7_cov100\t48729\t48731\tscaffold7_cov100\tAUGUSTUS\tCDS\t48036\t49271\t0.54\t-\t0\ttranscript_id \"g15.t1\"; gene_id \"g15\";\n",
      "scaffold7_cov100\t61080\t61082\tscaffold7_cov100\tAUGUSTUS\tCDS\t61010\t61128\t1\t+\t0\ttranscript_id \"g16.t1\"; gene_id \"g16\";\n",
      "\n",
      "==> Pact_union_5x-averages-RRBS.bedgraph-unMeth.bed-paCDS <==\n",
      "scaffold6_cov64\t5582\t5583\tscaffold6_cov64\tAUGUSTUS\tCDS\t5583\t5652\t0.26\t-\t0\ttranscript_id \"g1.t1\"; gene_id \"g1\";\n",
      "scaffold6_cov64\t5583\t5585\tscaffold6_cov64\tAUGUSTUS\tCDS\t5583\t5652\t0.26\t-\t0\ttranscript_id \"g1.t1\"; gene_id \"g1\";\n",
      "scaffold6_cov64\t5592\t5594\tscaffold6_cov64\tAUGUSTUS\tCDS\t5583\t5652\t0.26\t-\t0\ttranscript_id \"g1.t1\"; gene_id \"g1\";\n",
      "scaffold6_cov64\t5593\t5594\tscaffold6_cov64\tAUGUSTUS\tCDS\t5594\t5652\t0.54\t-\t0\ttranscript_id \"g1.t2\"; gene_id \"g1\";\n",
      "scaffold6_cov64\t5594\t5596\tscaffold6_cov64\tAUGUSTUS\tCDS\t5583\t5652\t0.26\t-\t0\ttranscript_id \"g1.t1\"; gene_id \"g1\";\n",
      "scaffold6_cov64\t5594\t5596\tscaffold6_cov64\tAUGUSTUS\tCDS\t5594\t5652\t0.54\t-\t0\ttranscript_id \"g1.t2\"; gene_id \"g1\";\n",
      "scaffold6_cov64\t5604\t5606\tscaffold6_cov64\tAUGUSTUS\tCDS\t5583\t5652\t0.26\t-\t0\ttranscript_id \"g1.t1\"; gene_id \"g1\";\n",
      "scaffold6_cov64\t5604\t5606\tscaffold6_cov64\tAUGUSTUS\tCDS\t5594\t5652\t0.54\t-\t0\ttranscript_id \"g1.t2\"; gene_id \"g1\";\n",
      "scaffold6_cov64\t5644\t5646\tscaffold6_cov64\tAUGUSTUS\tCDS\t5583\t5652\t0.26\t-\t0\ttranscript_id \"g1.t1\"; gene_id \"g1\";\n",
      "scaffold6_cov64\t5644\t5646\tscaffold6_cov64\tAUGUSTUS\tCDS\t5594\t5652\t0.54\t-\t0\ttranscript_id \"g1.t2\"; gene_id \"g1\";\n",
      "\n",
      "==> Pact_union_5x-averages-RRBS.bedgraph.bed-paCDS <==\n",
      "scaffold6_cov64\t5582\t5583\tscaffold6_cov64\tAUGUSTUS\tCDS\t5583\t5652\t0.26\t-\t0\ttranscript_id \"g1.t1\"; gene_id \"g1\";\n",
      "scaffold6_cov64\t5583\t5585\tscaffold6_cov64\tAUGUSTUS\tCDS\t5583\t5652\t0.26\t-\t0\ttranscript_id \"g1.t1\"; gene_id \"g1\";\n",
      "scaffold6_cov64\t5592\t5594\tscaffold6_cov64\tAUGUSTUS\tCDS\t5583\t5652\t0.26\t-\t0\ttranscript_id \"g1.t1\"; gene_id \"g1\";\n",
      "scaffold6_cov64\t5593\t5594\tscaffold6_cov64\tAUGUSTUS\tCDS\t5594\t5652\t0.54\t-\t0\ttranscript_id \"g1.t2\"; gene_id \"g1\";\n",
      "scaffold6_cov64\t5594\t5596\tscaffold6_cov64\tAUGUSTUS\tCDS\t5583\t5652\t0.26\t-\t0\ttranscript_id \"g1.t1\"; gene_id \"g1\";\n",
      "scaffold6_cov64\t5594\t5596\tscaffold6_cov64\tAUGUSTUS\tCDS\t5594\t5652\t0.54\t-\t0\ttranscript_id \"g1.t2\"; gene_id \"g1\";\n",
      "scaffold6_cov64\t5604\t5606\tscaffold6_cov64\tAUGUSTUS\tCDS\t5583\t5652\t0.26\t-\t0\ttranscript_id \"g1.t1\"; gene_id \"g1\";\n",
      "scaffold6_cov64\t5604\t5606\tscaffold6_cov64\tAUGUSTUS\tCDS\t5594\t5652\t0.54\t-\t0\ttranscript_id \"g1.t2\"; gene_id \"g1\";\n",
      "scaffold6_cov64\t5644\t5646\tscaffold6_cov64\tAUGUSTUS\tCDS\t5583\t5652\t0.26\t-\t0\ttranscript_id \"g1.t1\"; gene_id \"g1\";\n",
      "scaffold6_cov64\t5644\t5646\tscaffold6_cov64\tAUGUSTUS\tCDS\t5594\t5652\t0.54\t-\t0\ttranscript_id \"g1.t2\"; gene_id \"g1\";\n",
      "\n",
      "==> Pact_union_5x-averages-WGBS.bedgraph-Meth.bed-paCDS <==\n",
      "scaffold7_cov100\t5500\t5502\tscaffold7_cov100\tAUGUSTUS\tCDS\t5466\t5540\t1\t-\t2\ttranscript_id \"g4.t1\"; gene_id \"g4\";\n",
      "scaffold7_cov100\t5500\t5502\tscaffold7_cov100\tAUGUSTUS\tCDS\t5466\t5540\t1\t-\t2\ttranscript_id \"g4.t2\"; gene_id \"g4\";\n",
      "scaffold7_cov100\t6144\t6146\tscaffold7_cov100\tAUGUSTUS\tCDS\t6091\t6217\t0.48\t-\t0\ttranscript_id \"g4.t1\"; gene_id \"g4\";\n",
      "scaffold7_cov100\t6144\t6146\tscaffold7_cov100\tAUGUSTUS\tCDS\t6091\t6211\t0.52\t-\t0\ttranscript_id \"g4.t2\"; gene_id \"g4\";\n",
      "scaffold7_cov100\t6188\t6190\tscaffold7_cov100\tAUGUSTUS\tCDS\t6091\t6217\t0.48\t-\t0\ttranscript_id \"g4.t1\"; gene_id \"g4\";\n",
      "scaffold7_cov100\t6188\t6190\tscaffold7_cov100\tAUGUSTUS\tCDS\t6091\t6211\t0.52\t-\t0\ttranscript_id \"g4.t2\"; gene_id \"g4\";\n",
      "scaffold7_cov100\t6198\t6200\tscaffold7_cov100\tAUGUSTUS\tCDS\t6091\t6217\t0.48\t-\t0\ttranscript_id \"g4.t1\"; gene_id \"g4\";\n",
      "scaffold7_cov100\t6198\t6200\tscaffold7_cov100\tAUGUSTUS\tCDS\t6091\t6211\t0.52\t-\t0\ttranscript_id \"g4.t2\"; gene_id \"g4\";\n",
      "scaffold7_cov100\t7696\t7698\tscaffold7_cov100\tAUGUSTUS\tCDS\t7650\t7715\t1\t-\t2\ttranscript_id \"g5.t1\"; gene_id \"g5\";\n",
      "scaffold7_cov100\t7696\t7698\tscaffold7_cov100\tAUGUSTUS\tCDS\t7650\t7715\t1\t-\t2\ttranscript_id \"g5.t2\"; gene_id \"g5\";\n",
      "\n",
      "==> Pact_union_5x-averages-WGBS.bedgraph-sparseMeth.bed-paCDS <==\n",
      "scaffold7_cov100\t4630\t4632\tscaffold7_cov100\tAUGUSTUS\tCDS\t4608\t4780\t1\t-\t2\ttranscript_id \"g4.t1\"; gene_id \"g4\";\n",
      "scaffold7_cov100\t4630\t4632\tscaffold7_cov100\tAUGUSTUS\tCDS\t4608\t4780\t1\t-\t2\ttranscript_id \"g4.t2\"; gene_id \"g4\";\n",
      "scaffold7_cov100\t9715\t9717\tscaffold7_cov100\tAUGUSTUS\tCDS\t9590\t9724\t1\t-\t0\ttranscript_id \"g6.t1\"; gene_id \"g6\";\n",
      "scaffold7_cov100\t10755\t10757\tscaffold7_cov100\tAUGUSTUS\tCDS\t10595\t10789\t0.95\t-\t0\ttranscript_id \"g6.t1\"; gene_id \"g6\";\n",
      "scaffold7_cov100\t14042\t14044\tscaffold7_cov100\tAUGUSTUS\tCDS\t13744\t14512\t1\t-\t0\ttranscript_id \"g7.t1\"; gene_id \"g7\";\n",
      "scaffold7_cov100\t17074\t17076\tscaffold7_cov100\tAUGUSTUS\tCDS\t15738\t18320\t0.53\t+\t0\ttranscript_id \"g8.t1\"; gene_id \"g8\";\n",
      "scaffold7_cov100\t17074\t17076\tscaffold7_cov100\tAUGUSTUS\tCDS\t15789\t18320\t0.43\t+\t0\ttranscript_id \"g8.t2\"; gene_id \"g8\";\n",
      "scaffold7_cov100\t17098\t17100\tscaffold7_cov100\tAUGUSTUS\tCDS\t15738\t18320\t0.53\t+\t0\ttranscript_id \"g8.t1\"; gene_id \"g8\";\n",
      "scaffold7_cov100\t17098\t17100\tscaffold7_cov100\tAUGUSTUS\tCDS\t15789\t18320\t0.43\t+\t0\ttranscript_id \"g8.t2\"; gene_id \"g8\";\n",
      "scaffold7_cov100\t17164\t17166\tscaffold7_cov100\tAUGUSTUS\tCDS\t15738\t18320\t0.53\t+\t0\ttranscript_id \"g8.t1\"; gene_id \"g8\";\n",
      "\n",
      "==> Pact_union_5x-averages-WGBS.bedgraph-unMeth.bed-paCDS <==\n",
      "scaffold6_cov64\t826\t828\tscaffold6_cov64\tAUGUSTUS\tCDS\t495\t842\t0.84\t-\t2\ttranscript_id \"g1.t1\"; gene_id \"g1\";\n",
      "scaffold6_cov64\t826\t828\tscaffold6_cov64\tAUGUSTUS\tCDS\t495\t842\t0.84\t-\t2\ttranscript_id \"g1.t2\"; gene_id \"g1\";\n",
      "scaffold6_cov64\t1539\t1541\tscaffold6_cov64\tAUGUSTUS\tCDS\t1208\t1555\t0.92\t-\t2\ttranscript_id \"g1.t1\"; gene_id \"g1\";\n",
      "scaffold6_cov64\t1539\t1541\tscaffold6_cov64\tAUGUSTUS\tCDS\t1208\t1555\t0.92\t-\t2\ttranscript_id \"g1.t2\"; gene_id \"g1\";\n",
      "scaffold6_cov64\t2097\t2099\tscaffold6_cov64\tAUGUSTUS\tCDS\t1922\t2269\t1\t-\t2\ttranscript_id \"g1.t1\"; gene_id \"g1\";\n",
      "scaffold6_cov64\t2097\t2099\tscaffold6_cov64\tAUGUSTUS\tCDS\t1922\t2269\t1\t-\t2\ttranscript_id \"g1.t2\"; gene_id \"g1\";\n",
      "scaffold6_cov64\t2179\t2181\tscaffold6_cov64\tAUGUSTUS\tCDS\t1922\t2269\t1\t-\t2\ttranscript_id \"g1.t1\"; gene_id \"g1\";\n",
      "scaffold6_cov64\t2179\t2181\tscaffold6_cov64\tAUGUSTUS\tCDS\t1922\t2269\t1\t-\t2\ttranscript_id \"g1.t2\"; gene_id \"g1\";\n",
      "scaffold6_cov64\t2253\t2255\tscaffold6_cov64\tAUGUSTUS\tCDS\t1922\t2269\t1\t-\t2\ttranscript_id \"g1.t1\"; gene_id \"g1\";\n",
      "scaffold6_cov64\t2253\t2255\tscaffold6_cov64\tAUGUSTUS\tCDS\t1922\t2269\t1\t-\t2\ttranscript_id \"g1.t2\"; gene_id \"g1\";\n",
      "\n",
      "==> Pact_union_5x-averages-WGBS.bedgraph.bed-paCDS <==\n",
      "scaffold6_cov64\t826\t828\tscaffold6_cov64\tAUGUSTUS\tCDS\t495\t842\t0.84\t-\t2\ttranscript_id \"g1.t1\"; gene_id \"g1\";\n",
      "scaffold6_cov64\t826\t828\tscaffold6_cov64\tAUGUSTUS\tCDS\t495\t842\t0.84\t-\t2\ttranscript_id \"g1.t2\"; gene_id \"g1\";\n",
      "scaffold6_cov64\t1539\t1541\tscaffold6_cov64\tAUGUSTUS\tCDS\t1208\t1555\t0.92\t-\t2\ttranscript_id \"g1.t1\"; gene_id \"g1\";\n",
      "scaffold6_cov64\t1539\t1541\tscaffold6_cov64\tAUGUSTUS\tCDS\t1208\t1555\t0.92\t-\t2\ttranscript_id \"g1.t2\"; gene_id \"g1\";\n",
      "scaffold6_cov64\t2097\t2099\tscaffold6_cov64\tAUGUSTUS\tCDS\t1922\t2269\t1\t-\t2\ttranscript_id \"g1.t1\"; gene_id \"g1\";\n",
      "scaffold6_cov64\t2097\t2099\tscaffold6_cov64\tAUGUSTUS\tCDS\t1922\t2269\t1\t-\t2\ttranscript_id \"g1.t2\"; gene_id \"g1\";\n",
      "scaffold6_cov64\t2179\t2181\tscaffold6_cov64\tAUGUSTUS\tCDS\t1922\t2269\t1\t-\t2\ttranscript_id \"g1.t1\"; gene_id \"g1\";\n",
      "scaffold6_cov64\t2179\t2181\tscaffold6_cov64\tAUGUSTUS\tCDS\t1922\t2269\t1\t-\t2\ttranscript_id \"g1.t2\"; gene_id \"g1\";\n",
      "scaffold6_cov64\t2253\t2255\tscaffold6_cov64\tAUGUSTUS\tCDS\t1922\t2269\t1\t-\t2\ttranscript_id \"g1.t1\"; gene_id \"g1\";\n",
      "scaffold6_cov64\t2253\t2255\tscaffold6_cov64\tAUGUSTUS\tCDS\t1922\t2269\t1\t-\t2\ttranscript_id \"g1.t2\"; gene_id \"g1\";\n"
     ]
    }
   ],
   "source": [
    "#Check output\n",
    "!head *paCDS"
   ]
  },
  {
   "cell_type": "code",
   "execution_count": 102,
   "metadata": {
    "collapsed": false
   },
   "outputs": [
    {
     "name": "stdout",
     "output_type": "stream",
     "text": [
      "  257900 Pact_union_5x-averages-MBDBS.bedgraph-Meth.bed-paCDS\n",
      "  207579 Pact_union_5x-averages-MBDBS.bedgraph-sparseMeth.bed-paCDS\n",
      " 1571014 Pact_union_5x-averages-MBDBS.bedgraph-unMeth.bed-paCDS\n",
      " 2036493 Pact_union_5x-averages-MBDBS.bedgraph.bed-paCDS\n",
      "   19990 Pact_union_5x-averages-RRBS.bedgraph-Meth.bed-paCDS\n",
      "   55457 Pact_union_5x-averages-RRBS.bedgraph-sparseMeth.bed-paCDS\n",
      "  872936 Pact_union_5x-averages-RRBS.bedgraph-unMeth.bed-paCDS\n",
      "  948383 Pact_union_5x-averages-RRBS.bedgraph.bed-paCDS\n",
      "   76488 Pact_union_5x-averages-WGBS.bedgraph-Meth.bed-paCDS\n",
      "   64203 Pact_union_5x-averages-WGBS.bedgraph-sparseMeth.bed-paCDS\n",
      " 1688071 Pact_union_5x-averages-WGBS.bedgraph-unMeth.bed-paCDS\n",
      " 1828762 Pact_union_5x-averages-WGBS.bedgraph.bed-paCDS\n",
      " 9627276 total\n"
     ]
    }
   ],
   "source": [
    "#Count number of overlaps\n",
    "!wc -l *paCDS"
   ]
  },
  {
   "cell_type": "code",
   "execution_count": 103,
   "metadata": {
    "collapsed": true
   },
   "outputs": [],
   "source": [
    "!wc -l *paCDS > Pact_union_5x-paCDS-counts.txt"
   ]
  },
  {
   "cell_type": "markdown",
   "metadata": {},
   "source": [
    "#### 3d. Introns"
   ]
  },
  {
   "cell_type": "code",
   "execution_count": 104,
   "metadata": {
    "collapsed": true,
    "scrolled": true
   },
   "outputs": [],
   "source": [
    "%%bash\n",
    "\n",
    "for f in *bed\n",
    "do\n",
    "  /usr/local/bin/intersectBed \\\n",
    "  -wb \\\n",
    "  -a ${f} \\\n",
    "  -b ../../../genome-feature-files/Pact.GFFannotation.Intron.gff \\\n",
    "  > ${f}-paIntron\n",
    "done"
   ]
  },
  {
   "cell_type": "code",
   "execution_count": 105,
   "metadata": {
    "collapsed": false
   },
   "outputs": [
    {
     "name": "stdout",
     "output_type": "stream",
     "text": [
      "==> Pact_union_5x-averages-MBDBS.bedgraph-Meth.bed-paIntron <==\n",
      "scaffold7_cov100\t5986\t5988\tscaffold7_cov100\tAUGUSTUS\tintron\t5541\t6090\t1\t-\t.\ttranscript_id \"g4.t1\"; gene_id \"g4\";\n",
      "scaffold7_cov100\t5986\t5988\tscaffold7_cov100\tAUGUSTUS\tintron\t5541\t6090\t1\t-\t.\ttranscript_id \"g4.t2\"; gene_id \"g4\";\n",
      "scaffold7_cov100\t7201\t7203\tscaffold7_cov100\tAUGUSTUS\tintron\t7104\t7649\t1\t-\t.\ttranscript_id \"g5.t1\"; gene_id \"g5\";\n",
      "scaffold7_cov100\t7201\t7203\tscaffold7_cov100\tAUGUSTUS\tintron\t7104\t7649\t1\t-\t.\ttranscript_id \"g5.t2\"; gene_id \"g5\";\n",
      "scaffold7_cov100\t7438\t7440\tscaffold7_cov100\tAUGUSTUS\tintron\t7104\t7649\t1\t-\t.\ttranscript_id \"g5.t1\"; gene_id \"g5\";\n",
      "scaffold7_cov100\t7438\t7440\tscaffold7_cov100\tAUGUSTUS\tintron\t7104\t7649\t1\t-\t.\ttranscript_id \"g5.t2\"; gene_id \"g5\";\n",
      "scaffold7_cov100\t7796\t7798\tscaffold7_cov100\tAUGUSTUS\tintron\t7716\t7892\t1\t-\t.\ttranscript_id \"g5.t1\"; gene_id \"g5\";\n",
      "scaffold7_cov100\t7796\t7798\tscaffold7_cov100\tAUGUSTUS\tintron\t7716\t7892\t1\t-\t.\ttranscript_id \"g5.t2\"; gene_id \"g5\";\n",
      "scaffold7_cov100\t7891\t7892\tscaffold7_cov100\tAUGUSTUS\tintron\t7716\t7892\t1\t-\t.\ttranscript_id \"g5.t1\"; gene_id \"g5\";\n",
      "scaffold7_cov100\t7891\t7892\tscaffold7_cov100\tAUGUSTUS\tintron\t7716\t7892\t1\t-\t.\ttranscript_id \"g5.t2\"; gene_id \"g5\";\n",
      "\n",
      "==> Pact_union_5x-averages-MBDBS.bedgraph-sparseMeth.bed-paIntron <==\n",
      "scaffold6_cov64\t4146\t4148\tscaffold6_cov64\tAUGUSTUS\tintron\t2270\t5582\t0.23\t-\t.\ttranscript_id \"g1.t1\"; gene_id \"g1\";\n",
      "scaffold6_cov64\t4146\t4148\tscaffold6_cov64\tAUGUSTUS\tintron\t2270\t4753\t0.4\t-\t.\ttranscript_id \"g1.t2\"; gene_id \"g1\";\n",
      "scaffold6_cov64\t5904\t5906\tscaffold6_cov64\tAUGUSTUS\tintron\t5839\t5945\t0.54\t+\t.\ttranscript_id \"g2.t1\"; gene_id \"g2\";\n",
      "scaffold6_cov64\t5904\t5906\tscaffold6_cov64\tAUGUSTUS\tintron\t5839\t5981\t0.44\t+\t.\ttranscript_id \"g2.t2\"; gene_id \"g2\";\n",
      "scaffold7_cov100\t3956\t3958\tscaffold7_cov100\tAUGUSTUS\tintron\t3590\t4057\t1\t-\t.\ttranscript_id \"g4.t1\"; gene_id \"g4\";\n",
      "scaffold7_cov100\t3956\t3958\tscaffold7_cov100\tAUGUSTUS\tintron\t3590\t4057\t1\t-\t.\ttranscript_id \"g4.t2\"; gene_id \"g4\";\n",
      "scaffold7_cov100\t5578\t5580\tscaffold7_cov100\tAUGUSTUS\tintron\t5541\t6090\t1\t-\t.\ttranscript_id \"g4.t1\"; gene_id \"g4\";\n",
      "scaffold7_cov100\t5578\t5580\tscaffold7_cov100\tAUGUSTUS\tintron\t5541\t6090\t1\t-\t.\ttranscript_id \"g4.t2\"; gene_id \"g4\";\n",
      "scaffold7_cov100\t11439\t11441\tscaffold7_cov100\tAUGUSTUS\tintron\t11392\t11471\t0.97\t-\t.\ttranscript_id \"g6.t1\"; gene_id \"g6\";\n",
      "scaffold7_cov100\t35655\t35657\tscaffold7_cov100\tAUGUSTUS\tintron\t35528\t37567\t1\t-\t.\ttranscript_id \"g13.t1\"; gene_id \"g13\";\n",
      "\n",
      "==> Pact_union_5x-averages-MBDBS.bedgraph-unMeth.bed-paIntron <==\n",
      "scaffold6_cov64\t290\t292\tscaffold6_cov64\tAUGUSTUS\tintron\t1\t494\t0.82\t-\t.\ttranscript_id \"g1.t1\"; gene_id \"g1\";\n",
      "scaffold6_cov64\t290\t292\tscaffold6_cov64\tAUGUSTUS\tintron\t1\t494\t0.82\t-\t.\ttranscript_id \"g1.t2\"; gene_id \"g1\";\n",
      "scaffold6_cov64\t298\t300\tscaffold6_cov64\tAUGUSTUS\tintron\t1\t494\t0.82\t-\t.\ttranscript_id \"g1.t1\"; gene_id \"g1\";\n",
      "scaffold6_cov64\t298\t300\tscaffold6_cov64\tAUGUSTUS\tintron\t1\t494\t0.82\t-\t.\ttranscript_id \"g1.t2\"; gene_id \"g1\";\n",
      "scaffold6_cov64\t489\t491\tscaffold6_cov64\tAUGUSTUS\tintron\t1\t494\t0.82\t-\t.\ttranscript_id \"g1.t1\"; gene_id \"g1\";\n",
      "scaffold6_cov64\t489\t491\tscaffold6_cov64\tAUGUSTUS\tintron\t1\t494\t0.82\t-\t.\ttranscript_id \"g1.t2\"; gene_id \"g1\";\n",
      "scaffold6_cov64\t2805\t2807\tscaffold6_cov64\tAUGUSTUS\tintron\t2270\t5582\t0.23\t-\t.\ttranscript_id \"g1.t1\"; gene_id \"g1\";\n",
      "scaffold6_cov64\t2805\t2807\tscaffold6_cov64\tAUGUSTUS\tintron\t2270\t4753\t0.4\t-\t.\ttranscript_id \"g1.t2\"; gene_id \"g1\";\n",
      "scaffold6_cov64\t2872\t2874\tscaffold6_cov64\tAUGUSTUS\tintron\t2270\t5582\t0.23\t-\t.\ttranscript_id \"g1.t1\"; gene_id \"g1\";\n",
      "scaffold6_cov64\t2872\t2874\tscaffold6_cov64\tAUGUSTUS\tintron\t2270\t4753\t0.4\t-\t.\ttranscript_id \"g1.t2\"; gene_id \"g1\";\n",
      "\n",
      "==> Pact_union_5x-averages-MBDBS.bedgraph.bed-paIntron <==\n",
      "scaffold6_cov64\t290\t292\tscaffold6_cov64\tAUGUSTUS\tintron\t1\t494\t0.82\t-\t.\ttranscript_id \"g1.t1\"; gene_id \"g1\";\n",
      "scaffold6_cov64\t290\t292\tscaffold6_cov64\tAUGUSTUS\tintron\t1\t494\t0.82\t-\t.\ttranscript_id \"g1.t2\"; gene_id \"g1\";\n",
      "scaffold6_cov64\t298\t300\tscaffold6_cov64\tAUGUSTUS\tintron\t1\t494\t0.82\t-\t.\ttranscript_id \"g1.t1\"; gene_id \"g1\";\n",
      "scaffold6_cov64\t298\t300\tscaffold6_cov64\tAUGUSTUS\tintron\t1\t494\t0.82\t-\t.\ttranscript_id \"g1.t2\"; gene_id \"g1\";\n",
      "scaffold6_cov64\t489\t491\tscaffold6_cov64\tAUGUSTUS\tintron\t1\t494\t0.82\t-\t.\ttranscript_id \"g1.t1\"; gene_id \"g1\";\n",
      "scaffold6_cov64\t489\t491\tscaffold6_cov64\tAUGUSTUS\tintron\t1\t494\t0.82\t-\t.\ttranscript_id \"g1.t2\"; gene_id \"g1\";\n",
      "scaffold6_cov64\t2805\t2807\tscaffold6_cov64\tAUGUSTUS\tintron\t2270\t5582\t0.23\t-\t.\ttranscript_id \"g1.t1\"; gene_id \"g1\";\n",
      "scaffold6_cov64\t2805\t2807\tscaffold6_cov64\tAUGUSTUS\tintron\t2270\t4753\t0.4\t-\t.\ttranscript_id \"g1.t2\"; gene_id \"g1\";\n",
      "scaffold6_cov64\t2872\t2874\tscaffold6_cov64\tAUGUSTUS\tintron\t2270\t5582\t0.23\t-\t.\ttranscript_id \"g1.t1\"; gene_id \"g1\";\n",
      "scaffold6_cov64\t2872\t2874\tscaffold6_cov64\tAUGUSTUS\tintron\t2270\t4753\t0.4\t-\t.\ttranscript_id \"g1.t2\"; gene_id \"g1\";\n",
      "\n",
      "==> Pact_union_5x-averages-RRBS.bedgraph-Meth.bed-paIntron <==\n",
      "scaffold7_cov100\t201089\t201091\tscaffold7_cov100\tAUGUSTUS\tintron\t200523\t201237\t0.87\t-\t.\ttranscript_id \"g47.t1\"; gene_id \"g47\";\n",
      "scaffold7_cov100\t201089\t201091\tscaffold7_cov100\tAUGUSTUS\tintron\t200523\t201237\t0.87\t-\t.\ttranscript_id \"g47.t2\"; gene_id \"g47\";\n",
      "scaffold7_cov100\t201104\t201106\tscaffold7_cov100\tAUGUSTUS\tintron\t200523\t201237\t0.87\t-\t.\ttranscript_id \"g47.t1\"; gene_id \"g47\";\n",
      "scaffold7_cov100\t201104\t201106\tscaffold7_cov100\tAUGUSTUS\tintron\t200523\t201237\t0.87\t-\t.\ttranscript_id \"g47.t2\"; gene_id \"g47\";\n",
      "scaffold7_cov100\t201111\t201113\tscaffold7_cov100\tAUGUSTUS\tintron\t200523\t201237\t0.87\t-\t.\ttranscript_id \"g47.t1\"; gene_id \"g47\";\n",
      "scaffold7_cov100\t201111\t201113\tscaffold7_cov100\tAUGUSTUS\tintron\t200523\t201237\t0.87\t-\t.\ttranscript_id \"g47.t2\"; gene_id \"g47\";\n",
      "scaffold7_cov100\t201124\t201126\tscaffold7_cov100\tAUGUSTUS\tintron\t200523\t201237\t0.87\t-\t.\ttranscript_id \"g47.t1\"; gene_id \"g47\";\n",
      "scaffold7_cov100\t201124\t201126\tscaffold7_cov100\tAUGUSTUS\tintron\t200523\t201237\t0.87\t-\t.\ttranscript_id \"g47.t2\"; gene_id \"g47\";\n",
      "scaffold7_cov100\t213138\t213140\tscaffold7_cov100\tAUGUSTUS\tintron\t211721\t213524\t0.98\t-\t.\ttranscript_id \"g49.t1\"; gene_id \"g49\";\n",
      "scaffold7_cov100\t393508\t393510\tscaffold7_cov100\tAUGUSTUS\tintron\t392150\t394859\t0.56\t-\t.\ttranscript_id \"g86.t1\"; gene_id \"g86\";\n",
      "\n",
      "==> Pact_union_5x-averages-RRBS.bedgraph-sparseMeth.bed-paIntron <==\n",
      "scaffold6_cov64\t2676\t2678\tscaffold6_cov64\tAUGUSTUS\tintron\t2270\t5582\t0.23\t-\t.\ttranscript_id \"g1.t1\"; gene_id \"g1\";\n",
      "scaffold6_cov64\t2676\t2678\tscaffold6_cov64\tAUGUSTUS\tintron\t2270\t4753\t0.4\t-\t.\ttranscript_id \"g1.t2\"; gene_id \"g1\";\n",
      "scaffold6_cov64\t4553\t4555\tscaffold6_cov64\tAUGUSTUS\tintron\t2270\t5582\t0.23\t-\t.\ttranscript_id \"g1.t1\"; gene_id \"g1\";\n",
      "scaffold6_cov64\t4553\t4555\tscaffold6_cov64\tAUGUSTUS\tintron\t2270\t4753\t0.4\t-\t.\ttranscript_id \"g1.t2\"; gene_id \"g1\";\n",
      "scaffold6_cov64\t5904\t5906\tscaffold6_cov64\tAUGUSTUS\tintron\t5839\t5945\t0.54\t+\t.\ttranscript_id \"g2.t1\"; gene_id \"g2\";\n",
      "scaffold6_cov64\t5904\t5906\tscaffold6_cov64\tAUGUSTUS\tintron\t5839\t5981\t0.44\t+\t.\ttranscript_id \"g2.t2\"; gene_id \"g2\";\n",
      "scaffold6_cov64\t6374\t6376\tscaffold6_cov64\tAUGUSTUS\tintron\t6268\t6566\t0.58\t+\t.\ttranscript_id \"g2.t1\"; gene_id \"g2\";\n",
      "scaffold6_cov64\t6374\t6376\tscaffold6_cov64\tAUGUSTUS\tintron\t6268\t6566\t0.58\t+\t.\ttranscript_id \"g2.t2\"; gene_id \"g2\";\n",
      "scaffold7_cov100\t4351\t4353\tscaffold7_cov100\tAUGUSTUS\tintron\t4181\t4607\t1\t-\t.\ttranscript_id \"g4.t1\"; gene_id \"g4\";\n",
      "scaffold7_cov100\t4351\t4353\tscaffold7_cov100\tAUGUSTUS\tintron\t4181\t4607\t1\t-\t.\ttranscript_id \"g4.t2\"; gene_id \"g4\";\n",
      "\n",
      "==> Pact_union_5x-averages-RRBS.bedgraph-unMeth.bed-paIntron <==\n",
      "scaffold6_cov64\t2536\t2538\tscaffold6_cov64\tAUGUSTUS\tintron\t2270\t5582\t0.23\t-\t.\ttranscript_id \"g1.t1\"; gene_id \"g1\";\n",
      "scaffold6_cov64\t2536\t2538\tscaffold6_cov64\tAUGUSTUS\tintron\t2270\t4753\t0.4\t-\t.\ttranscript_id \"g1.t2\"; gene_id \"g1\";\n",
      "scaffold6_cov64\t2584\t2586\tscaffold6_cov64\tAUGUSTUS\tintron\t2270\t5582\t0.23\t-\t.\ttranscript_id \"g1.t1\"; gene_id \"g1\";\n",
      "scaffold6_cov64\t2584\t2586\tscaffold6_cov64\tAUGUSTUS\tintron\t2270\t4753\t0.4\t-\t.\ttranscript_id \"g1.t2\"; gene_id \"g1\";\n",
      "scaffold6_cov64\t2682\t2684\tscaffold6_cov64\tAUGUSTUS\tintron\t2270\t5582\t0.23\t-\t.\ttranscript_id \"g1.t1\"; gene_id \"g1\";\n",
      "scaffold6_cov64\t2682\t2684\tscaffold6_cov64\tAUGUSTUS\tintron\t2270\t4753\t0.4\t-\t.\ttranscript_id \"g1.t2\"; gene_id \"g1\";\n",
      "scaffold6_cov64\t4588\t4590\tscaffold6_cov64\tAUGUSTUS\tintron\t2270\t5582\t0.23\t-\t.\ttranscript_id \"g1.t1\"; gene_id \"g1\";\n",
      "scaffold6_cov64\t4588\t4590\tscaffold6_cov64\tAUGUSTUS\tintron\t2270\t4753\t0.4\t-\t.\ttranscript_id \"g1.t2\"; gene_id \"g1\";\n",
      "scaffold6_cov64\t5101\t5103\tscaffold6_cov64\tAUGUSTUS\tintron\t2270\t5582\t0.23\t-\t.\ttranscript_id \"g1.t1\"; gene_id \"g1\";\n",
      "scaffold6_cov64\t5101\t5103\tscaffold6_cov64\tAUGUSTUS\tintron\t4852\t5593\t0.48\t-\t.\ttranscript_id \"g1.t2\"; gene_id \"g1\";\n",
      "\n",
      "==> Pact_union_5x-averages-RRBS.bedgraph.bed-paIntron <==\n",
      "scaffold6_cov64\t2536\t2538\tscaffold6_cov64\tAUGUSTUS\tintron\t2270\t5582\t0.23\t-\t.\ttranscript_id \"g1.t1\"; gene_id \"g1\";\n",
      "scaffold6_cov64\t2536\t2538\tscaffold6_cov64\tAUGUSTUS\tintron\t2270\t4753\t0.4\t-\t.\ttranscript_id \"g1.t2\"; gene_id \"g1\";\n",
      "scaffold6_cov64\t2584\t2586\tscaffold6_cov64\tAUGUSTUS\tintron\t2270\t5582\t0.23\t-\t.\ttranscript_id \"g1.t1\"; gene_id \"g1\";\n",
      "scaffold6_cov64\t2584\t2586\tscaffold6_cov64\tAUGUSTUS\tintron\t2270\t4753\t0.4\t-\t.\ttranscript_id \"g1.t2\"; gene_id \"g1\";\n",
      "scaffold6_cov64\t2676\t2678\tscaffold6_cov64\tAUGUSTUS\tintron\t2270\t5582\t0.23\t-\t.\ttranscript_id \"g1.t1\"; gene_id \"g1\";\n",
      "scaffold6_cov64\t2676\t2678\tscaffold6_cov64\tAUGUSTUS\tintron\t2270\t4753\t0.4\t-\t.\ttranscript_id \"g1.t2\"; gene_id \"g1\";\n",
      "scaffold6_cov64\t2682\t2684\tscaffold6_cov64\tAUGUSTUS\tintron\t2270\t5582\t0.23\t-\t.\ttranscript_id \"g1.t1\"; gene_id \"g1\";\n",
      "scaffold6_cov64\t2682\t2684\tscaffold6_cov64\tAUGUSTUS\tintron\t2270\t4753\t0.4\t-\t.\ttranscript_id \"g1.t2\"; gene_id \"g1\";\n",
      "scaffold6_cov64\t4553\t4555\tscaffold6_cov64\tAUGUSTUS\tintron\t2270\t5582\t0.23\t-\t.\ttranscript_id \"g1.t1\"; gene_id \"g1\";\n",
      "scaffold6_cov64\t4553\t4555\tscaffold6_cov64\tAUGUSTUS\tintron\t2270\t4753\t0.4\t-\t.\ttranscript_id \"g1.t2\"; gene_id \"g1\";\n",
      "\n",
      "==> Pact_union_5x-averages-WGBS.bedgraph-Meth.bed-paIntron <==\n",
      "scaffold7_cov100\t5986\t5988\tscaffold7_cov100\tAUGUSTUS\tintron\t5541\t6090\t1\t-\t.\ttranscript_id \"g4.t1\"; gene_id \"g4\";\n",
      "scaffold7_cov100\t5986\t5988\tscaffold7_cov100\tAUGUSTUS\tintron\t5541\t6090\t1\t-\t.\ttranscript_id \"g4.t2\"; gene_id \"g4\";\n",
      "scaffold7_cov100\t7438\t7440\tscaffold7_cov100\tAUGUSTUS\tintron\t7104\t7649\t1\t-\t.\ttranscript_id \"g5.t1\"; gene_id \"g5\";\n",
      "scaffold7_cov100\t7438\t7440\tscaffold7_cov100\tAUGUSTUS\tintron\t7104\t7649\t1\t-\t.\ttranscript_id \"g5.t2\"; gene_id \"g5\";\n",
      "scaffold7_cov100\t7796\t7798\tscaffold7_cov100\tAUGUSTUS\tintron\t7716\t7892\t1\t-\t.\ttranscript_id \"g5.t1\"; gene_id \"g5\";\n",
      "scaffold7_cov100\t7796\t7798\tscaffold7_cov100\tAUGUSTUS\tintron\t7716\t7892\t1\t-\t.\ttranscript_id \"g5.t2\"; gene_id \"g5\";\n",
      "scaffold7_cov100\t7891\t7892\tscaffold7_cov100\tAUGUSTUS\tintron\t7716\t7892\t1\t-\t.\ttranscript_id \"g5.t1\"; gene_id \"g5\";\n",
      "scaffold7_cov100\t7891\t7892\tscaffold7_cov100\tAUGUSTUS\tintron\t7716\t7892\t1\t-\t.\ttranscript_id \"g5.t2\"; gene_id \"g5\";\n",
      "scaffold7_cov100\t10414\t10416\tscaffold7_cov100\tAUGUSTUS\tintron\t10282\t10594\t1\t-\t.\ttranscript_id \"g6.t1\"; gene_id \"g6\";\n",
      "scaffold7_cov100\t13385\t13387\tscaffold7_cov100\tAUGUSTUS\tintron\t13350\t13743\t0.99\t-\t.\ttranscript_id \"g7.t1\"; gene_id \"g7\";\n",
      "\n",
      "==> Pact_union_5x-averages-WGBS.bedgraph-sparseMeth.bed-paIntron <==\n",
      "scaffold7_cov100\t4305\t4307\tscaffold7_cov100\tAUGUSTUS\tintron\t4181\t4607\t1\t-\t.\ttranscript_id \"g4.t1\"; gene_id \"g4\";\n",
      "scaffold7_cov100\t4305\t4307\tscaffold7_cov100\tAUGUSTUS\tintron\t4181\t4607\t1\t-\t.\ttranscript_id \"g4.t2\"; gene_id \"g4\";\n",
      "scaffold7_cov100\t4351\t4353\tscaffold7_cov100\tAUGUSTUS\tintron\t4181\t4607\t1\t-\t.\ttranscript_id \"g4.t1\"; gene_id \"g4\";\n",
      "scaffold7_cov100\t4351\t4353\tscaffold7_cov100\tAUGUSTUS\tintron\t4181\t4607\t1\t-\t.\ttranscript_id \"g4.t2\"; gene_id \"g4\";\n",
      "scaffold7_cov100\t5578\t5580\tscaffold7_cov100\tAUGUSTUS\tintron\t5541\t6090\t1\t-\t.\ttranscript_id \"g4.t1\"; gene_id \"g4\";\n",
      "scaffold7_cov100\t5578\t5580\tscaffold7_cov100\tAUGUSTUS\tintron\t5541\t6090\t1\t-\t.\ttranscript_id \"g4.t2\"; gene_id \"g4\";\n",
      "scaffold7_cov100\t7121\t7123\tscaffold7_cov100\tAUGUSTUS\tintron\t7104\t7649\t1\t-\t.\ttranscript_id \"g5.t1\"; gene_id \"g5\";\n",
      "scaffold7_cov100\t7121\t7123\tscaffold7_cov100\tAUGUSTUS\tintron\t7104\t7649\t1\t-\t.\ttranscript_id \"g5.t2\"; gene_id \"g5\";\n",
      "scaffold7_cov100\t7201\t7203\tscaffold7_cov100\tAUGUSTUS\tintron\t7104\t7649\t1\t-\t.\ttranscript_id \"g5.t1\"; gene_id \"g5\";\n",
      "scaffold7_cov100\t7201\t7203\tscaffold7_cov100\tAUGUSTUS\tintron\t7104\t7649\t1\t-\t.\ttranscript_id \"g5.t2\"; gene_id \"g5\";\n",
      "\n",
      "==> Pact_union_5x-averages-WGBS.bedgraph-unMeth.bed-paIntron <==\n",
      "scaffold6_cov64\t167\t169\tscaffold6_cov64\tAUGUSTUS\tintron\t1\t494\t0.82\t-\t.\ttranscript_id \"g1.t1\"; gene_id \"g1\";\n",
      "scaffold6_cov64\t167\t169\tscaffold6_cov64\tAUGUSTUS\tintron\t1\t494\t0.82\t-\t.\ttranscript_id \"g1.t2\"; gene_id \"g1\";\n",
      "scaffold6_cov64\t290\t292\tscaffold6_cov64\tAUGUSTUS\tintron\t1\t494\t0.82\t-\t.\ttranscript_id \"g1.t1\"; gene_id \"g1\";\n",
      "scaffold6_cov64\t290\t292\tscaffold6_cov64\tAUGUSTUS\tintron\t1\t494\t0.82\t-\t.\ttranscript_id \"g1.t2\"; gene_id \"g1\";\n",
      "scaffold6_cov64\t298\t300\tscaffold6_cov64\tAUGUSTUS\tintron\t1\t494\t0.82\t-\t.\ttranscript_id \"g1.t1\"; gene_id \"g1\";\n",
      "scaffold6_cov64\t298\t300\tscaffold6_cov64\tAUGUSTUS\tintron\t1\t494\t0.82\t-\t.\ttranscript_id \"g1.t2\"; gene_id \"g1\";\n",
      "scaffold6_cov64\t489\t491\tscaffold6_cov64\tAUGUSTUS\tintron\t1\t494\t0.82\t-\t.\ttranscript_id \"g1.t1\"; gene_id \"g1\";\n",
      "scaffold6_cov64\t489\t491\tscaffold6_cov64\tAUGUSTUS\tintron\t1\t494\t0.82\t-\t.\ttranscript_id \"g1.t2\"; gene_id \"g1\";\n",
      "scaffold6_cov64\t1725\t1727\tscaffold6_cov64\tAUGUSTUS\tintron\t1556\t1921\t1\t-\t.\ttranscript_id \"g1.t1\"; gene_id \"g1\";\n",
      "scaffold6_cov64\t1725\t1727\tscaffold6_cov64\tAUGUSTUS\tintron\t1556\t1921\t1\t-\t.\ttranscript_id \"g1.t2\"; gene_id \"g1\";\n",
      "\n",
      "==> Pact_union_5x-averages-WGBS.bedgraph.bed-paIntron <==\n",
      "scaffold6_cov64\t167\t169\tscaffold6_cov64\tAUGUSTUS\tintron\t1\t494\t0.82\t-\t.\ttranscript_id \"g1.t1\"; gene_id \"g1\";\n",
      "scaffold6_cov64\t167\t169\tscaffold6_cov64\tAUGUSTUS\tintron\t1\t494\t0.82\t-\t.\ttranscript_id \"g1.t2\"; gene_id \"g1\";\n",
      "scaffold6_cov64\t290\t292\tscaffold6_cov64\tAUGUSTUS\tintron\t1\t494\t0.82\t-\t.\ttranscript_id \"g1.t1\"; gene_id \"g1\";\n",
      "scaffold6_cov64\t290\t292\tscaffold6_cov64\tAUGUSTUS\tintron\t1\t494\t0.82\t-\t.\ttranscript_id \"g1.t2\"; gene_id \"g1\";\n",
      "scaffold6_cov64\t298\t300\tscaffold6_cov64\tAUGUSTUS\tintron\t1\t494\t0.82\t-\t.\ttranscript_id \"g1.t1\"; gene_id \"g1\";\n",
      "scaffold6_cov64\t298\t300\tscaffold6_cov64\tAUGUSTUS\tintron\t1\t494\t0.82\t-\t.\ttranscript_id \"g1.t2\"; gene_id \"g1\";\n",
      "scaffold6_cov64\t489\t491\tscaffold6_cov64\tAUGUSTUS\tintron\t1\t494\t0.82\t-\t.\ttranscript_id \"g1.t1\"; gene_id \"g1\";\n",
      "scaffold6_cov64\t489\t491\tscaffold6_cov64\tAUGUSTUS\tintron\t1\t494\t0.82\t-\t.\ttranscript_id \"g1.t2\"; gene_id \"g1\";\n",
      "scaffold6_cov64\t1725\t1727\tscaffold6_cov64\tAUGUSTUS\tintron\t1556\t1921\t1\t-\t.\ttranscript_id \"g1.t1\"; gene_id \"g1\";\n",
      "scaffold6_cov64\t1725\t1727\tscaffold6_cov64\tAUGUSTUS\tintron\t1556\t1921\t1\t-\t.\ttranscript_id \"g1.t2\"; gene_id \"g1\";\n"
     ]
    }
   ],
   "source": [
    "#Check output\n",
    "!head *paIntron"
   ]
  },
  {
   "cell_type": "code",
   "execution_count": 106,
   "metadata": {
    "collapsed": false,
    "scrolled": true
   },
   "outputs": [
    {
     "name": "stdout",
     "output_type": "stream",
     "text": [
      "  178614 Pact_union_5x-averages-MBDBS.bedgraph-Meth.bed-paIntron\n",
      "  169278 Pact_union_5x-averages-MBDBS.bedgraph-sparseMeth.bed-paIntron\n",
      " 1292323 Pact_union_5x-averages-MBDBS.bedgraph-unMeth.bed-paIntron\n",
      " 1640215 Pact_union_5x-averages-MBDBS.bedgraph.bed-paIntron\n",
      "   18551 Pact_union_5x-averages-RRBS.bedgraph-Meth.bed-paIntron\n",
      "   58617 Pact_union_5x-averages-RRBS.bedgraph-sparseMeth.bed-paIntron\n",
      "  945665 Pact_union_5x-averages-RRBS.bedgraph-unMeth.bed-paIntron\n",
      " 1022833 Pact_union_5x-averages-RRBS.bedgraph.bed-paIntron\n",
      "   61765 Pact_union_5x-averages-WGBS.bedgraph-Meth.bed-paIntron\n",
      "   95770 Pact_union_5x-averages-WGBS.bedgraph-sparseMeth.bed-paIntron\n",
      " 2335519 Pact_union_5x-averages-WGBS.bedgraph-unMeth.bed-paIntron\n",
      " 2493054 Pact_union_5x-averages-WGBS.bedgraph.bed-paIntron\n",
      " 10312204 total\n"
     ]
    }
   ],
   "source": [
    "#Count number of overlaps\n",
    "!wc -l *paIntron"
   ]
  },
  {
   "cell_type": "code",
   "execution_count": 107,
   "metadata": {
    "collapsed": true
   },
   "outputs": [],
   "source": [
    "!wc -l *paIntron > Pact_union_5x-paIntron-counts.txt"
   ]
  },
  {
   "cell_type": "markdown",
   "metadata": {},
   "source": [
    "#### 3e. Flanking regions"
   ]
  },
  {
   "cell_type": "code",
   "execution_count": 108,
   "metadata": {
    "collapsed": true,
    "scrolled": true
   },
   "outputs": [],
   "source": [
    "%%bash\n",
    "\n",
    "for f in *bed\n",
    "do\n",
    "  /usr/local/bin/intersectBed \\\n",
    "  -wb \\\n",
    "  -a ${f} \\\n",
    "  -b ../../../genome-feature-files/Pact.GFFannotation.flanks.gff \\\n",
    "  > ${f}-paFlanks\n",
    "done"
   ]
  },
  {
   "cell_type": "code",
   "execution_count": 109,
   "metadata": {
    "collapsed": false
   },
   "outputs": [
    {
     "name": "stdout",
     "output_type": "stream",
     "text": [
      "==> Pact_union_5x-averages-MBDBS.bedgraph-Meth.bed-paFlanks <==\n",
      "scaffold7_cov100\t6231\t6233\tscaffold7_cov100\tAUGUSTUS\tgene\t6218\t7068\t0.78\t-\t.\tg4\n",
      "scaffold7_cov100\t6231\t6233\tscaffold7_cov100\tAUGUSTUS\tgene\t6218\t7068\t1\t-\t.\tg5\n",
      "scaffold7_cov100\t6233\t6235\tscaffold7_cov100\tAUGUSTUS\tgene\t6218\t7068\t0.78\t-\t.\tg4\n",
      "scaffold7_cov100\t6233\t6235\tscaffold7_cov100\tAUGUSTUS\tgene\t6218\t7068\t1\t-\t.\tg5\n",
      "scaffold7_cov100\t11815\t11817\tscaffold7_cov100\tAUGUSTUS\tgene\t11671\t12670\t0.8\t-\t.\tg6\n",
      "scaffold7_cov100\t12652\t12654\tscaffold7_cov100\tAUGUSTUS\tgene\t11671\t12670\t0.8\t-\t.\tg6\n",
      "scaffold7_cov100\t12652\t12654\tscaffold7_cov100\tAUGUSTUS\tgene\t12339\t13338\t0.92\t-\t.\tg7\n",
      "scaffold7_cov100\t12662\t12664\tscaffold7_cov100\tAUGUSTUS\tgene\t11671\t12670\t0.8\t-\t.\tg6\n",
      "scaffold7_cov100\t12662\t12664\tscaffold7_cov100\tAUGUSTUS\tgene\t12339\t13338\t0.92\t-\t.\tg7\n",
      "scaffold7_cov100\t12675\t12677\tscaffold7_cov100\tAUGUSTUS\tgene\t12339\t13338\t0.92\t-\t.\tg7\n",
      "\n",
      "==> Pact_union_5x-averages-MBDBS.bedgraph-sparseMeth.bed-paFlanks <==\n",
      "scaffold6_cov64\t6880\t6882\tscaffold6_cov64\tAUGUSTUS\tgene\t6679\t7678\t0.57\t+\t.\tg2\n",
      "scaffold7_cov100\t12131\t12133\tscaffold7_cov100\tAUGUSTUS\tgene\t11671\t12670\t0.8\t-\t.\tg6\n",
      "scaffold7_cov100\t12247\t12249\tscaffold7_cov100\tAUGUSTUS\tgene\t11671\t12670\t0.8\t-\t.\tg6\n",
      "scaffold7_cov100\t12861\t12863\tscaffold7_cov100\tAUGUSTUS\tgene\t12339\t13338\t0.92\t-\t.\tg7\n",
      "scaffold7_cov100\t15597\t15599\tscaffold7_cov100\tAUGUSTUS\tgene\t15464\t15737\t0.92\t-\t.\tg7\n",
      "scaffold7_cov100\t15597\t15599\tscaffold7_cov100\tAUGUSTUS\tgene\t15464\t15737\t0.96\t+\t.\tg8\n",
      "scaffold7_cov100\t15614\t15616\tscaffold7_cov100\tAUGUSTUS\tgene\t15464\t15737\t0.92\t-\t.\tg7\n",
      "scaffold7_cov100\t15614\t15616\tscaffold7_cov100\tAUGUSTUS\tgene\t15464\t15737\t0.96\t+\t.\tg8\n",
      "scaffold7_cov100\t15630\t15632\tscaffold7_cov100\tAUGUSTUS\tgene\t15464\t15737\t0.92\t-\t.\tg7\n",
      "scaffold7_cov100\t15630\t15632\tscaffold7_cov100\tAUGUSTUS\tgene\t15464\t15737\t0.96\t+\t.\tg8\n",
      "\n",
      "==> Pact_union_5x-averages-MBDBS.bedgraph-unMeth.bed-paFlanks <==\n",
      "scaffold6_cov64\t5797\t5799\tscaffold6_cov64\tAUGUSTUS\tgene\t5653\t5804\t0.46\t-\t.\tg1\n",
      "scaffold6_cov64\t5797\t5799\tscaffold6_cov64\tAUGUSTUS\tgene\t5653\t5804\t0.57\t+\t.\tg2\n",
      "scaffold6_cov64\t5800\t5802\tscaffold6_cov64\tAUGUSTUS\tgene\t5653\t5804\t0.46\t-\t.\tg1\n",
      "scaffold6_cov64\t5800\t5802\tscaffold6_cov64\tAUGUSTUS\tgene\t5653\t5804\t0.57\t+\t.\tg2\n",
      "scaffold6_cov64\t6751\t6753\tscaffold6_cov64\tAUGUSTUS\tgene\t6679\t7678\t0.57\t+\t.\tg2\n",
      "scaffold6_cov64\t6805\t6807\tscaffold6_cov64\tAUGUSTUS\tgene\t6679\t7678\t0.57\t+\t.\tg2\n",
      "scaffold6_cov64\t6813\t6815\tscaffold6_cov64\tAUGUSTUS\tgene\t6679\t7678\t0.57\t+\t.\tg2\n",
      "scaffold6_cov64\t6862\t6864\tscaffold6_cov64\tAUGUSTUS\tgene\t6679\t7678\t0.57\t+\t.\tg2\n",
      "scaffold6_cov64\t6885\t6887\tscaffold6_cov64\tAUGUSTUS\tgene\t6679\t7678\t0.57\t+\t.\tg2\n",
      "scaffold6_cov64\t6909\t6911\tscaffold6_cov64\tAUGUSTUS\tgene\t6679\t7678\t0.57\t+\t.\tg2\n",
      "\n",
      "==> Pact_union_5x-averages-MBDBS.bedgraph.bed-paFlanks <==\n",
      "scaffold6_cov64\t5797\t5799\tscaffold6_cov64\tAUGUSTUS\tgene\t5653\t5804\t0.46\t-\t.\tg1\n",
      "scaffold6_cov64\t5797\t5799\tscaffold6_cov64\tAUGUSTUS\tgene\t5653\t5804\t0.57\t+\t.\tg2\n",
      "scaffold6_cov64\t5800\t5802\tscaffold6_cov64\tAUGUSTUS\tgene\t5653\t5804\t0.46\t-\t.\tg1\n",
      "scaffold6_cov64\t5800\t5802\tscaffold6_cov64\tAUGUSTUS\tgene\t5653\t5804\t0.57\t+\t.\tg2\n",
      "scaffold6_cov64\t6751\t6753\tscaffold6_cov64\tAUGUSTUS\tgene\t6679\t7678\t0.57\t+\t.\tg2\n",
      "scaffold6_cov64\t6805\t6807\tscaffold6_cov64\tAUGUSTUS\tgene\t6679\t7678\t0.57\t+\t.\tg2\n",
      "scaffold6_cov64\t6813\t6815\tscaffold6_cov64\tAUGUSTUS\tgene\t6679\t7678\t0.57\t+\t.\tg2\n",
      "scaffold6_cov64\t6862\t6864\tscaffold6_cov64\tAUGUSTUS\tgene\t6679\t7678\t0.57\t+\t.\tg2\n",
      "scaffold6_cov64\t6880\t6882\tscaffold6_cov64\tAUGUSTUS\tgene\t6679\t7678\t0.57\t+\t.\tg2\n",
      "scaffold6_cov64\t6885\t6887\tscaffold6_cov64\tAUGUSTUS\tgene\t6679\t7678\t0.57\t+\t.\tg2\n",
      "\n",
      "==> Pact_union_5x-averages-RRBS.bedgraph-Meth.bed-paFlanks <==\n",
      "scaffold7_cov100\t24454\t24456\tscaffold7_cov100\tAUGUSTUS\tgene\t24296\t25295\t0.39\t+\t.\tg11\n",
      "scaffold7_cov100\t24494\t24496\tscaffold7_cov100\tAUGUSTUS\tgene\t24296\t25295\t0.39\t+\t.\tg11\n",
      "scaffold7_cov100\t24509\t24511\tscaffold7_cov100\tAUGUSTUS\tgene\t24296\t25295\t0.39\t+\t.\tg11\n",
      "scaffold7_cov100\t24557\t24559\tscaffold7_cov100\tAUGUSTUS\tgene\t24296\t25295\t0.39\t+\t.\tg11\n",
      "scaffold7_cov100\t40896\t40898\tscaffold7_cov100\tAUGUSTUS\tgene\t40188\t41187\t0.97\t+\t.\tg14\n",
      "scaffold7_cov100\t92029\t92031\tscaffold7_cov100\tAUGUSTUS\tgene\t91990\t92373\t0.37\t-\t.\tg23\n",
      "scaffold7_cov100\t92029\t92031\tscaffold7_cov100\tAUGUSTUS\tgene\t91990\t92373\t0.33\t-\t.\tg24\n",
      "scaffold7_cov100\t151631\t151633\tscaffold7_cov100\tAUGUSTUS\tgene\t151249\t151748\t0.83\t-\t.\tg39\n",
      "scaffold7_cov100\t151631\t151633\tscaffold7_cov100\tAUGUSTUS\tgene\t151249\t151748\t0.97\t+\t.\tg40\n",
      "scaffold7_cov100\t281501\t281503\tscaffold7_cov100\tAUGUSTUS\tgene\t281183\t281713\t0.95\t-\t.\tg57\n",
      "\n",
      "==> Pact_union_5x-averages-RRBS.bedgraph-sparseMeth.bed-paFlanks <==\n",
      "scaffold6_cov64\t7373\t7375\tscaffold6_cov64\tAUGUSTUS\tgene\t6679\t7678\t0.57\t+\t.\tg2\n",
      "scaffold7_cov100\t24443\t24445\tscaffold7_cov100\tAUGUSTUS\tgene\t24296\t25295\t0.39\t+\t.\tg11\n",
      "scaffold7_cov100\t28086\t28088\tscaffold7_cov100\tAUGUSTUS\tgene\t27517\t28516\t0.69\t-\t.\tg12\n",
      "scaffold7_cov100\t37936\t37938\tscaffold7_cov100\tAUGUSTUS\tgene\t37762\t38761\t0.64\t-\t.\tg13\n",
      "scaffold7_cov100\t40234\t40236\tscaffold7_cov100\tAUGUSTUS\tgene\t40188\t41187\t0.97\t+\t.\tg14\n",
      "scaffold7_cov100\t40236\t40238\tscaffold7_cov100\tAUGUSTUS\tgene\t40188\t41187\t0.97\t+\t.\tg14\n",
      "scaffold7_cov100\t40816\t40818\tscaffold7_cov100\tAUGUSTUS\tgene\t40188\t41187\t0.97\t+\t.\tg14\n",
      "scaffold7_cov100\t40898\t40900\tscaffold7_cov100\tAUGUSTUS\tgene\t40188\t41187\t0.97\t+\t.\tg14\n",
      "scaffold7_cov100\t40917\t40919\tscaffold7_cov100\tAUGUSTUS\tgene\t40188\t41187\t0.97\t+\t.\tg14\n",
      "scaffold7_cov100\t40936\t40938\tscaffold7_cov100\tAUGUSTUS\tgene\t40188\t41187\t0.97\t+\t.\tg14\n",
      "\n",
      "==> Pact_union_5x-averages-RRBS.bedgraph-unMeth.bed-paFlanks <==\n",
      "scaffold6_cov64\t5797\t5799\tscaffold6_cov64\tAUGUSTUS\tgene\t5653\t5804\t0.46\t-\t.\tg1\n",
      "scaffold6_cov64\t5797\t5799\tscaffold6_cov64\tAUGUSTUS\tgene\t5653\t5804\t0.57\t+\t.\tg2\n",
      "scaffold6_cov64\t5800\t5802\tscaffold6_cov64\tAUGUSTUS\tgene\t5653\t5804\t0.46\t-\t.\tg1\n",
      "scaffold6_cov64\t5800\t5802\tscaffold6_cov64\tAUGUSTUS\tgene\t5653\t5804\t0.57\t+\t.\tg2\n",
      "scaffold6_cov64\t6687\t6689\tscaffold6_cov64\tAUGUSTUS\tgene\t6679\t7678\t0.57\t+\t.\tg2\n",
      "scaffold6_cov64\t6690\t6692\tscaffold6_cov64\tAUGUSTUS\tgene\t6679\t7678\t0.57\t+\t.\tg2\n",
      "scaffold6_cov64\t6704\t6706\tscaffold6_cov64\tAUGUSTUS\tgene\t6679\t7678\t0.57\t+\t.\tg2\n",
      "scaffold6_cov64\t6732\t6734\tscaffold6_cov64\tAUGUSTUS\tgene\t6679\t7678\t0.57\t+\t.\tg2\n",
      "scaffold6_cov64\t6751\t6753\tscaffold6_cov64\tAUGUSTUS\tgene\t6679\t7678\t0.57\t+\t.\tg2\n",
      "scaffold6_cov64\t6805\t6807\tscaffold6_cov64\tAUGUSTUS\tgene\t6679\t7678\t0.57\t+\t.\tg2\n",
      "\n",
      "==> Pact_union_5x-averages-RRBS.bedgraph.bed-paFlanks <==\n",
      "scaffold6_cov64\t5797\t5799\tscaffold6_cov64\tAUGUSTUS\tgene\t5653\t5804\t0.46\t-\t.\tg1\n",
      "scaffold6_cov64\t5797\t5799\tscaffold6_cov64\tAUGUSTUS\tgene\t5653\t5804\t0.57\t+\t.\tg2\n",
      "scaffold6_cov64\t5800\t5802\tscaffold6_cov64\tAUGUSTUS\tgene\t5653\t5804\t0.46\t-\t.\tg1\n",
      "scaffold6_cov64\t5800\t5802\tscaffold6_cov64\tAUGUSTUS\tgene\t5653\t5804\t0.57\t+\t.\tg2\n",
      "scaffold6_cov64\t6687\t6689\tscaffold6_cov64\tAUGUSTUS\tgene\t6679\t7678\t0.57\t+\t.\tg2\n",
      "scaffold6_cov64\t6690\t6692\tscaffold6_cov64\tAUGUSTUS\tgene\t6679\t7678\t0.57\t+\t.\tg2\n",
      "scaffold6_cov64\t6704\t6706\tscaffold6_cov64\tAUGUSTUS\tgene\t6679\t7678\t0.57\t+\t.\tg2\n",
      "scaffold6_cov64\t6732\t6734\tscaffold6_cov64\tAUGUSTUS\tgene\t6679\t7678\t0.57\t+\t.\tg2\n",
      "scaffold6_cov64\t6751\t6753\tscaffold6_cov64\tAUGUSTUS\tgene\t6679\t7678\t0.57\t+\t.\tg2\n",
      "scaffold6_cov64\t6805\t6807\tscaffold6_cov64\tAUGUSTUS\tgene\t6679\t7678\t0.57\t+\t.\tg2\n",
      "\n",
      "==> Pact_union_5x-averages-WGBS.bedgraph-Meth.bed-paFlanks <==\n",
      "scaffold7_cov100\t6231\t6233\tscaffold7_cov100\tAUGUSTUS\tgene\t6218\t7068\t0.78\t-\t.\tg4\n",
      "scaffold7_cov100\t6231\t6233\tscaffold7_cov100\tAUGUSTUS\tgene\t6218\t7068\t1\t-\t.\tg5\n",
      "scaffold7_cov100\t6233\t6235\tscaffold7_cov100\tAUGUSTUS\tgene\t6218\t7068\t0.78\t-\t.\tg4\n",
      "scaffold7_cov100\t6233\t6235\tscaffold7_cov100\tAUGUSTUS\tgene\t6218\t7068\t1\t-\t.\tg5\n",
      "scaffold7_cov100\t11815\t11817\tscaffold7_cov100\tAUGUSTUS\tgene\t11671\t12670\t0.8\t-\t.\tg6\n",
      "scaffold7_cov100\t13275\t13277\tscaffold7_cov100\tAUGUSTUS\tgene\t12339\t13338\t0.92\t-\t.\tg7\n",
      "scaffold7_cov100\t19284\t19286\tscaffold7_cov100\tAUGUSTUS\tgene\t19271\t19311\t0.96\t+\t.\tg8\n",
      "scaffold7_cov100\t19284\t19286\tscaffold7_cov100\tAUGUSTUS\tgene\t19271\t19311\t0.99\t-\t.\tg9\n",
      "scaffold7_cov100\t19284\t19286\tscaffold7_cov100\tAUGUSTUS\tgene\t19271\t19311\t0.74\t+\t.\tg10\n",
      "scaffold7_cov100\t19284\t19286\tscaffold7_cov100\tAUGUSTUS\tgene\t19271\t19311\t0.39\t+\t.\tg11\n",
      "\n",
      "==> Pact_union_5x-averages-WGBS.bedgraph-sparseMeth.bed-paFlanks <==\n",
      "scaffold7_cov100\t12131\t12133\tscaffold7_cov100\tAUGUSTUS\tgene\t11671\t12670\t0.8\t-\t.\tg6\n",
      "scaffold7_cov100\t12247\t12249\tscaffold7_cov100\tAUGUSTUS\tgene\t11671\t12670\t0.8\t-\t.\tg6\n",
      "scaffold7_cov100\t15597\t15599\tscaffold7_cov100\tAUGUSTUS\tgene\t15464\t15737\t0.92\t-\t.\tg7\n",
      "scaffold7_cov100\t15597\t15599\tscaffold7_cov100\tAUGUSTUS\tgene\t15464\t15737\t0.96\t+\t.\tg8\n",
      "scaffold7_cov100\t18520\t18522\tscaffold7_cov100\tAUGUSTUS\tgene\t18321\t18585\t0.96\t+\t.\tg8\n",
      "scaffold7_cov100\t18520\t18522\tscaffold7_cov100\tAUGUSTUS\tgene\t18321\t18585\t0.99\t-\t.\tg9\n",
      "scaffold7_cov100\t18520\t18522\tscaffold7_cov100\tAUGUSTUS\tgene\t18321\t18585\t0.74\t+\t.\tg10\n",
      "scaffold7_cov100\t24443\t24445\tscaffold7_cov100\tAUGUSTUS\tgene\t24296\t25295\t0.39\t+\t.\tg11\n",
      "scaffold7_cov100\t24494\t24496\tscaffold7_cov100\tAUGUSTUS\tgene\t24296\t25295\t0.39\t+\t.\tg11\n",
      "scaffold7_cov100\t24557\t24559\tscaffold7_cov100\tAUGUSTUS\tgene\t24296\t25295\t0.39\t+\t.\tg11\n",
      "\n",
      "==> Pact_union_5x-averages-WGBS.bedgraph-unMeth.bed-paFlanks <==\n",
      "scaffold6_cov64\t5797\t5799\tscaffold6_cov64\tAUGUSTUS\tgene\t5653\t5804\t0.46\t-\t.\tg1\n",
      "scaffold6_cov64\t5797\t5799\tscaffold6_cov64\tAUGUSTUS\tgene\t5653\t5804\t0.57\t+\t.\tg2\n",
      "scaffold6_cov64\t5800\t5802\tscaffold6_cov64\tAUGUSTUS\tgene\t5653\t5804\t0.46\t-\t.\tg1\n",
      "scaffold6_cov64\t5800\t5802\tscaffold6_cov64\tAUGUSTUS\tgene\t5653\t5804\t0.57\t+\t.\tg2\n",
      "scaffold6_cov64\t6690\t6692\tscaffold6_cov64\tAUGUSTUS\tgene\t6679\t7678\t0.57\t+\t.\tg2\n",
      "scaffold6_cov64\t6704\t6706\tscaffold6_cov64\tAUGUSTUS\tgene\t6679\t7678\t0.57\t+\t.\tg2\n",
      "scaffold6_cov64\t6732\t6734\tscaffold6_cov64\tAUGUSTUS\tgene\t6679\t7678\t0.57\t+\t.\tg2\n",
      "scaffold6_cov64\t6751\t6753\tscaffold6_cov64\tAUGUSTUS\tgene\t6679\t7678\t0.57\t+\t.\tg2\n",
      "scaffold6_cov64\t6805\t6807\tscaffold6_cov64\tAUGUSTUS\tgene\t6679\t7678\t0.57\t+\t.\tg2\n",
      "scaffold6_cov64\t6813\t6815\tscaffold6_cov64\tAUGUSTUS\tgene\t6679\t7678\t0.57\t+\t.\tg2\n",
      "\n",
      "==> Pact_union_5x-averages-WGBS.bedgraph.bed-paFlanks <==\n",
      "scaffold6_cov64\t5797\t5799\tscaffold6_cov64\tAUGUSTUS\tgene\t5653\t5804\t0.46\t-\t.\tg1\n",
      "scaffold6_cov64\t5797\t5799\tscaffold6_cov64\tAUGUSTUS\tgene\t5653\t5804\t0.57\t+\t.\tg2\n",
      "scaffold6_cov64\t5800\t5802\tscaffold6_cov64\tAUGUSTUS\tgene\t5653\t5804\t0.46\t-\t.\tg1\n",
      "scaffold6_cov64\t5800\t5802\tscaffold6_cov64\tAUGUSTUS\tgene\t5653\t5804\t0.57\t+\t.\tg2\n",
      "scaffold6_cov64\t6690\t6692\tscaffold6_cov64\tAUGUSTUS\tgene\t6679\t7678\t0.57\t+\t.\tg2\n",
      "scaffold6_cov64\t6704\t6706\tscaffold6_cov64\tAUGUSTUS\tgene\t6679\t7678\t0.57\t+\t.\tg2\n",
      "scaffold6_cov64\t6732\t6734\tscaffold6_cov64\tAUGUSTUS\tgene\t6679\t7678\t0.57\t+\t.\tg2\n",
      "scaffold6_cov64\t6751\t6753\tscaffold6_cov64\tAUGUSTUS\tgene\t6679\t7678\t0.57\t+\t.\tg2\n",
      "scaffold6_cov64\t6805\t6807\tscaffold6_cov64\tAUGUSTUS\tgene\t6679\t7678\t0.57\t+\t.\tg2\n",
      "scaffold6_cov64\t6813\t6815\tscaffold6_cov64\tAUGUSTUS\tgene\t6679\t7678\t0.57\t+\t.\tg2\n"
     ]
    }
   ],
   "source": [
    "#Check output\n",
    "!head *paFlanks"
   ]
  },
  {
   "cell_type": "code",
   "execution_count": 110,
   "metadata": {
    "collapsed": false,
    "scrolled": true
   },
   "outputs": [
    {
     "name": "stdout",
     "output_type": "stream",
     "text": [
      "  174343 Pact_union_5x-averages-MBDBS.bedgraph-Meth.bed-paFlanks\n",
      "  172752 Pact_union_5x-averages-MBDBS.bedgraph-sparseMeth.bed-paFlanks\n",
      " 1057105 Pact_union_5x-averages-MBDBS.bedgraph-unMeth.bed-paFlanks\n",
      " 1404200 Pact_union_5x-averages-MBDBS.bedgraph.bed-paFlanks\n",
      "   16288 Pact_union_5x-averages-RRBS.bedgraph-Meth.bed-paFlanks\n",
      "   52827 Pact_union_5x-averages-RRBS.bedgraph-sparseMeth.bed-paFlanks\n",
      "  846983 Pact_union_5x-averages-RRBS.bedgraph-unMeth.bed-paFlanks\n",
      "  916098 Pact_union_5x-averages-RRBS.bedgraph.bed-paFlanks\n",
      "   39523 Pact_union_5x-averages-WGBS.bedgraph-Meth.bed-paFlanks\n",
      "   78739 Pact_union_5x-averages-WGBS.bedgraph-sparseMeth.bed-paFlanks\n",
      " 1856136 Pact_union_5x-averages-WGBS.bedgraph-unMeth.bed-paFlanks\n",
      " 1974398 Pact_union_5x-averages-WGBS.bedgraph.bed-paFlanks\n",
      " 8589392 total\n"
     ]
    }
   ],
   "source": [
    "#Count number of overlaps\n",
    "!wc -l *paFlanks"
   ]
  },
  {
   "cell_type": "code",
   "execution_count": 111,
   "metadata": {
    "collapsed": true
   },
   "outputs": [],
   "source": [
    "!wc -l *paFlanks > Pact_union_5x-paFlanks-counts.txt"
   ]
  },
  {
   "cell_type": "markdown",
   "metadata": {},
   "source": [
    "#### 3f. Upstream flanking regions"
   ]
  },
  {
   "cell_type": "code",
   "execution_count": 112,
   "metadata": {
    "collapsed": true,
    "scrolled": true
   },
   "outputs": [],
   "source": [
    "%%bash\n",
    "\n",
    "for f in *bed\n",
    "do\n",
    "  /usr/local/bin/intersectBed \\\n",
    "  -wb \\\n",
    "  -a ${f} \\\n",
    "  -b ../../../genome-feature-files/Pact.GFFannotation.flanks.Upstream.gff \\\n",
    "  > ${f}-paFlanksUpstream\n",
    "done"
   ]
  },
  {
   "cell_type": "code",
   "execution_count": 113,
   "metadata": {
    "collapsed": false
   },
   "outputs": [
    {
     "name": "stdout",
     "output_type": "stream",
     "text": [
      "==> Pact_union_5x-averages-MBDBS.bedgraph-Meth.bed-paFlanksUpstream <==\n",
      "scaffold7_cov100\t6231\t6233\tscaffold7_cov100\tAUGUSTUS\tgene\t6218\t7068\t0.78\t-\t.\tg4\n",
      "scaffold7_cov100\t6233\t6235\tscaffold7_cov100\tAUGUSTUS\tgene\t6218\t7068\t0.78\t-\t.\tg4\n",
      "scaffold7_cov100\t11815\t11817\tscaffold7_cov100\tAUGUSTUS\tgene\t11671\t12670\t0.8\t-\t.\tg6\n",
      "scaffold7_cov100\t12652\t12654\tscaffold7_cov100\tAUGUSTUS\tgene\t11671\t12670\t0.8\t-\t.\tg6\n",
      "scaffold7_cov100\t12662\t12664\tscaffold7_cov100\tAUGUSTUS\tgene\t11671\t12670\t0.8\t-\t.\tg6\n",
      "scaffold7_cov100\t18520\t18522\tscaffold7_cov100\tAUGUSTUS\tgene\t18321\t18585\t0.74\t+\t.\tg10\n",
      "scaffold7_cov100\t19284\t19286\tscaffold7_cov100\tAUGUSTUS\tgene\t19271\t19311\t0.99\t-\t.\tg9\n",
      "scaffold7_cov100\t19284\t19286\tscaffold7_cov100\tAUGUSTUS\tgene\t19271\t19311\t0.74\t+\t.\tg10\n",
      "scaffold7_cov100\t19284\t19286\tscaffold7_cov100\tAUGUSTUS\tgene\t19271\t19311\t0.39\t+\t.\tg11\n",
      "scaffold7_cov100\t19296\t19298\tscaffold7_cov100\tAUGUSTUS\tgene\t19271\t19311\t0.99\t-\t.\tg9\n",
      "\n",
      "==> Pact_union_5x-averages-MBDBS.bedgraph-sparseMeth.bed-paFlanksUpstream <==\n",
      "scaffold7_cov100\t12131\t12133\tscaffold7_cov100\tAUGUSTUS\tgene\t11671\t12670\t0.8\t-\t.\tg6\n",
      "scaffold7_cov100\t12247\t12249\tscaffold7_cov100\tAUGUSTUS\tgene\t11671\t12670\t0.8\t-\t.\tg6\n",
      "scaffold7_cov100\t15597\t15599\tscaffold7_cov100\tAUGUSTUS\tgene\t15464\t15737\t0.92\t-\t.\tg7\n",
      "scaffold7_cov100\t15597\t15599\tscaffold7_cov100\tAUGUSTUS\tgene\t15464\t15737\t0.96\t+\t.\tg8\n",
      "scaffold7_cov100\t15614\t15616\tscaffold7_cov100\tAUGUSTUS\tgene\t15464\t15737\t0.92\t-\t.\tg7\n",
      "scaffold7_cov100\t15614\t15616\tscaffold7_cov100\tAUGUSTUS\tgene\t15464\t15737\t0.96\t+\t.\tg8\n",
      "scaffold7_cov100\t15630\t15632\tscaffold7_cov100\tAUGUSTUS\tgene\t15464\t15737\t0.92\t-\t.\tg7\n",
      "scaffold7_cov100\t15630\t15632\tscaffold7_cov100\tAUGUSTUS\tgene\t15464\t15737\t0.96\t+\t.\tg8\n",
      "scaffold7_cov100\t38477\t38479\tscaffold7_cov100\tAUGUSTUS\tgene\t37762\t38761\t0.64\t-\t.\tg13\n",
      "scaffold7_cov100\t41092\t41094\tscaffold7_cov100\tAUGUSTUS\tgene\t40188\t41187\t0.97\t+\t.\tg14\n",
      "\n",
      "==> Pact_union_5x-averages-MBDBS.bedgraph-unMeth.bed-paFlanksUpstream <==\n",
      "scaffold6_cov64\t5797\t5799\tscaffold6_cov64\tAUGUSTUS\tgene\t5653\t5804\t0.46\t-\t.\tg1\n",
      "scaffold6_cov64\t5797\t5799\tscaffold6_cov64\tAUGUSTUS\tgene\t5653\t5804\t0.57\t+\t.\tg2\n",
      "scaffold6_cov64\t5800\t5802\tscaffold6_cov64\tAUGUSTUS\tgene\t5653\t5804\t0.46\t-\t.\tg1\n",
      "scaffold6_cov64\t5800\t5802\tscaffold6_cov64\tAUGUSTUS\tgene\t5653\t5804\t0.57\t+\t.\tg2\n",
      "scaffold7_cov100\t6764\t6766\tscaffold7_cov100\tAUGUSTUS\tgene\t6218\t7068\t0.78\t-\t.\tg4\n",
      "scaffold7_cov100\t6913\t6915\tscaffold7_cov100\tAUGUSTUS\tgene\t6218\t7068\t0.78\t-\t.\tg4\n",
      "scaffold7_cov100\t12587\t12589\tscaffold7_cov100\tAUGUSTUS\tgene\t11671\t12670\t0.8\t-\t.\tg6\n",
      "scaffold7_cov100\t15549\t15551\tscaffold7_cov100\tAUGUSTUS\tgene\t15464\t15737\t0.92\t-\t.\tg7\n",
      "scaffold7_cov100\t15549\t15551\tscaffold7_cov100\tAUGUSTUS\tgene\t15464\t15737\t0.96\t+\t.\tg8\n",
      "scaffold7_cov100\t15569\t15571\tscaffold7_cov100\tAUGUSTUS\tgene\t15464\t15737\t0.92\t-\t.\tg7\n",
      "\n",
      "==> Pact_union_5x-averages-MBDBS.bedgraph.bed-paFlanksUpstream <==\n",
      "scaffold6_cov64\t5797\t5799\tscaffold6_cov64\tAUGUSTUS\tgene\t5653\t5804\t0.46\t-\t.\tg1\n",
      "scaffold6_cov64\t5797\t5799\tscaffold6_cov64\tAUGUSTUS\tgene\t5653\t5804\t0.57\t+\t.\tg2\n",
      "scaffold6_cov64\t5800\t5802\tscaffold6_cov64\tAUGUSTUS\tgene\t5653\t5804\t0.46\t-\t.\tg1\n",
      "scaffold6_cov64\t5800\t5802\tscaffold6_cov64\tAUGUSTUS\tgene\t5653\t5804\t0.57\t+\t.\tg2\n",
      "scaffold7_cov100\t6231\t6233\tscaffold7_cov100\tAUGUSTUS\tgene\t6218\t7068\t0.78\t-\t.\tg4\n",
      "scaffold7_cov100\t6233\t6235\tscaffold7_cov100\tAUGUSTUS\tgene\t6218\t7068\t0.78\t-\t.\tg4\n",
      "scaffold7_cov100\t6764\t6766\tscaffold7_cov100\tAUGUSTUS\tgene\t6218\t7068\t0.78\t-\t.\tg4\n",
      "scaffold7_cov100\t6913\t6915\tscaffold7_cov100\tAUGUSTUS\tgene\t6218\t7068\t0.78\t-\t.\tg4\n",
      "scaffold7_cov100\t11815\t11817\tscaffold7_cov100\tAUGUSTUS\tgene\t11671\t12670\t0.8\t-\t.\tg6\n",
      "scaffold7_cov100\t12131\t12133\tscaffold7_cov100\tAUGUSTUS\tgene\t11671\t12670\t0.8\t-\t.\tg6\n",
      "\n",
      "==> Pact_union_5x-averages-RRBS.bedgraph-Meth.bed-paFlanksUpstream <==\n",
      "scaffold7_cov100\t40896\t40898\tscaffold7_cov100\tAUGUSTUS\tgene\t40188\t41187\t0.97\t+\t.\tg14\n",
      "scaffold7_cov100\t92029\t92031\tscaffold7_cov100\tAUGUSTUS\tgene\t91990\t92373\t0.37\t-\t.\tg23\n",
      "scaffold7_cov100\t151631\t151633\tscaffold7_cov100\tAUGUSTUS\tgene\t151249\t151748\t0.83\t-\t.\tg39\n",
      "scaffold7_cov100\t151631\t151633\tscaffold7_cov100\tAUGUSTUS\tgene\t151249\t151748\t0.97\t+\t.\tg40\n",
      "scaffold7_cov100\t281501\t281503\tscaffold7_cov100\tAUGUSTUS\tgene\t281183\t281713\t0.95\t-\t.\tg57\n",
      "scaffold7_cov100\t342219\t342221\tscaffold7_cov100\tAUGUSTUS\tgene\t341715\t342714\t0.13\t+\t.\tg76\n",
      "scaffold19_cov103\t94546\t94548\tscaffold19_cov103\tAUGUSTUS\tgene\t94387\t94721\t0.87\t-\t.\tg161\n",
      "scaffold19_cov103\t94546\t94548\tscaffold19_cov103\tAUGUSTUS\tgene\t94387\t94721\t0.83\t+\t.\tg162\n",
      "scaffold19_cov103\t148422\t148424\tscaffold19_cov103\tAUGUSTUS\tgene\t148059\t149058\t0.93\t+\t.\tg179\n",
      "scaffold20_cov103\t69200\t69202\tscaffold20_cov103\tAUGUSTUS\tgene\t68755\t69754\t0.65\t-\t.\tg217\n",
      "\n",
      "==> Pact_union_5x-averages-RRBS.bedgraph-sparseMeth.bed-paFlanksUpstream <==\n",
      "scaffold7_cov100\t37936\t37938\tscaffold7_cov100\tAUGUSTUS\tgene\t37762\t38761\t0.64\t-\t.\tg13\n",
      "scaffold7_cov100\t40234\t40236\tscaffold7_cov100\tAUGUSTUS\tgene\t40188\t41187\t0.97\t+\t.\tg14\n",
      "scaffold7_cov100\t40236\t40238\tscaffold7_cov100\tAUGUSTUS\tgene\t40188\t41187\t0.97\t+\t.\tg14\n",
      "scaffold7_cov100\t40816\t40818\tscaffold7_cov100\tAUGUSTUS\tgene\t40188\t41187\t0.97\t+\t.\tg14\n",
      "scaffold7_cov100\t40898\t40900\tscaffold7_cov100\tAUGUSTUS\tgene\t40188\t41187\t0.97\t+\t.\tg14\n",
      "scaffold7_cov100\t40917\t40919\tscaffold7_cov100\tAUGUSTUS\tgene\t40188\t41187\t0.97\t+\t.\tg14\n",
      "scaffold7_cov100\t40936\t40938\tscaffold7_cov100\tAUGUSTUS\tgene\t40188\t41187\t0.97\t+\t.\tg14\n",
      "scaffold7_cov100\t49302\t49304\tscaffold7_cov100\tAUGUSTUS\tgene\t49272\t50050\t0.54\t-\t.\tg15\n",
      "scaffold7_cov100\t49302\t49304\tscaffold7_cov100\tAUGUSTUS\tgene\t49272\t50050\t1\t+\t.\tg16\n",
      "scaffold7_cov100\t49331\t49333\tscaffold7_cov100\tAUGUSTUS\tgene\t49272\t50050\t0.54\t-\t.\tg15\n",
      "\n",
      "==> Pact_union_5x-averages-RRBS.bedgraph-unMeth.bed-paFlanksUpstream <==\n",
      "scaffold6_cov64\t5797\t5799\tscaffold6_cov64\tAUGUSTUS\tgene\t5653\t5804\t0.46\t-\t.\tg1\n",
      "scaffold6_cov64\t5797\t5799\tscaffold6_cov64\tAUGUSTUS\tgene\t5653\t5804\t0.57\t+\t.\tg2\n",
      "scaffold6_cov64\t5800\t5802\tscaffold6_cov64\tAUGUSTUS\tgene\t5653\t5804\t0.46\t-\t.\tg1\n",
      "scaffold6_cov64\t5800\t5802\tscaffold6_cov64\tAUGUSTUS\tgene\t5653\t5804\t0.57\t+\t.\tg2\n",
      "scaffold7_cov100\t6764\t6766\tscaffold7_cov100\tAUGUSTUS\tgene\t6218\t7068\t0.78\t-\t.\tg4\n",
      "scaffold7_cov100\t15668\t15670\tscaffold7_cov100\tAUGUSTUS\tgene\t15464\t15737\t0.92\t-\t.\tg7\n",
      "scaffold7_cov100\t15668\t15670\tscaffold7_cov100\tAUGUSTUS\tgene\t15464\t15737\t0.96\t+\t.\tg8\n",
      "scaffold7_cov100\t15670\t15672\tscaffold7_cov100\tAUGUSTUS\tgene\t15464\t15737\t0.92\t-\t.\tg7\n",
      "scaffold7_cov100\t15670\t15672\tscaffold7_cov100\tAUGUSTUS\tgene\t15464\t15737\t0.96\t+\t.\tg8\n",
      "scaffold7_cov100\t15715\t15717\tscaffold7_cov100\tAUGUSTUS\tgene\t15464\t15737\t0.92\t-\t.\tg7\n",
      "\n",
      "==> Pact_union_5x-averages-RRBS.bedgraph.bed-paFlanksUpstream <==\n",
      "scaffold6_cov64\t5797\t5799\tscaffold6_cov64\tAUGUSTUS\tgene\t5653\t5804\t0.46\t-\t.\tg1\n",
      "scaffold6_cov64\t5797\t5799\tscaffold6_cov64\tAUGUSTUS\tgene\t5653\t5804\t0.57\t+\t.\tg2\n",
      "scaffold6_cov64\t5800\t5802\tscaffold6_cov64\tAUGUSTUS\tgene\t5653\t5804\t0.46\t-\t.\tg1\n",
      "scaffold6_cov64\t5800\t5802\tscaffold6_cov64\tAUGUSTUS\tgene\t5653\t5804\t0.57\t+\t.\tg2\n",
      "scaffold7_cov100\t6764\t6766\tscaffold7_cov100\tAUGUSTUS\tgene\t6218\t7068\t0.78\t-\t.\tg4\n",
      "scaffold7_cov100\t15668\t15670\tscaffold7_cov100\tAUGUSTUS\tgene\t15464\t15737\t0.92\t-\t.\tg7\n",
      "scaffold7_cov100\t15668\t15670\tscaffold7_cov100\tAUGUSTUS\tgene\t15464\t15737\t0.96\t+\t.\tg8\n",
      "scaffold7_cov100\t15670\t15672\tscaffold7_cov100\tAUGUSTUS\tgene\t15464\t15737\t0.92\t-\t.\tg7\n",
      "scaffold7_cov100\t15670\t15672\tscaffold7_cov100\tAUGUSTUS\tgene\t15464\t15737\t0.96\t+\t.\tg8\n",
      "scaffold7_cov100\t15715\t15717\tscaffold7_cov100\tAUGUSTUS\tgene\t15464\t15737\t0.92\t-\t.\tg7\n",
      "\n",
      "==> Pact_union_5x-averages-WGBS.bedgraph-Meth.bed-paFlanksUpstream <==\n",
      "scaffold7_cov100\t6231\t6233\tscaffold7_cov100\tAUGUSTUS\tgene\t6218\t7068\t0.78\t-\t.\tg4\n",
      "scaffold7_cov100\t6233\t6235\tscaffold7_cov100\tAUGUSTUS\tgene\t6218\t7068\t0.78\t-\t.\tg4\n",
      "scaffold7_cov100\t11815\t11817\tscaffold7_cov100\tAUGUSTUS\tgene\t11671\t12670\t0.8\t-\t.\tg6\n",
      "scaffold7_cov100\t19284\t19286\tscaffold7_cov100\tAUGUSTUS\tgene\t19271\t19311\t0.99\t-\t.\tg9\n",
      "scaffold7_cov100\t19284\t19286\tscaffold7_cov100\tAUGUSTUS\tgene\t19271\t19311\t0.74\t+\t.\tg10\n",
      "scaffold7_cov100\t19284\t19286\tscaffold7_cov100\tAUGUSTUS\tgene\t19271\t19311\t0.39\t+\t.\tg11\n",
      "scaffold7_cov100\t19296\t19298\tscaffold7_cov100\tAUGUSTUS\tgene\t19271\t19311\t0.99\t-\t.\tg9\n",
      "scaffold7_cov100\t19296\t19298\tscaffold7_cov100\tAUGUSTUS\tgene\t19271\t19311\t0.74\t+\t.\tg10\n",
      "scaffold7_cov100\t19296\t19298\tscaffold7_cov100\tAUGUSTUS\tgene\t19271\t19311\t0.39\t+\t.\tg11\n",
      "scaffold7_cov100\t77986\t77988\tscaffold7_cov100\tAUGUSTUS\tgene\t77965\t78075\t0.91\t-\t.\tg19\n",
      "\n",
      "==> Pact_union_5x-averages-WGBS.bedgraph-sparseMeth.bed-paFlanksUpstream <==\n",
      "scaffold7_cov100\t12131\t12133\tscaffold7_cov100\tAUGUSTUS\tgene\t11671\t12670\t0.8\t-\t.\tg6\n",
      "scaffold7_cov100\t12247\t12249\tscaffold7_cov100\tAUGUSTUS\tgene\t11671\t12670\t0.8\t-\t.\tg6\n",
      "scaffold7_cov100\t15597\t15599\tscaffold7_cov100\tAUGUSTUS\tgene\t15464\t15737\t0.92\t-\t.\tg7\n",
      "scaffold7_cov100\t15597\t15599\tscaffold7_cov100\tAUGUSTUS\tgene\t15464\t15737\t0.96\t+\t.\tg8\n",
      "scaffold7_cov100\t18520\t18522\tscaffold7_cov100\tAUGUSTUS\tgene\t18321\t18585\t0.74\t+\t.\tg10\n",
      "scaffold7_cov100\t38701\t38703\tscaffold7_cov100\tAUGUSTUS\tgene\t37762\t38761\t0.64\t-\t.\tg13\n",
      "scaffold7_cov100\t68081\t68083\tscaffold7_cov100\tAUGUSTUS\tgene\t67397\t68184\t1\t-\t.\tg17\n",
      "scaffold7_cov100\t79910\t79912\tscaffold7_cov100\tAUGUSTUS\tgene\t79655\t80103\t0.99\t-\t.\tg21\n",
      "scaffold7_cov100\t80016\t80018\tscaffold7_cov100\tAUGUSTUS\tgene\t79655\t80103\t0.99\t-\t.\tg21\n",
      "scaffold7_cov100\t92051\t92053\tscaffold7_cov100\tAUGUSTUS\tgene\t91990\t92373\t0.37\t-\t.\tg23\n",
      "\n",
      "==> Pact_union_5x-averages-WGBS.bedgraph-unMeth.bed-paFlanksUpstream <==\n",
      "scaffold6_cov64\t5797\t5799\tscaffold6_cov64\tAUGUSTUS\tgene\t5653\t5804\t0.46\t-\t.\tg1\n",
      "scaffold6_cov64\t5797\t5799\tscaffold6_cov64\tAUGUSTUS\tgene\t5653\t5804\t0.57\t+\t.\tg2\n",
      "scaffold6_cov64\t5800\t5802\tscaffold6_cov64\tAUGUSTUS\tgene\t5653\t5804\t0.46\t-\t.\tg1\n",
      "scaffold6_cov64\t5800\t5802\tscaffold6_cov64\tAUGUSTUS\tgene\t5653\t5804\t0.57\t+\t.\tg2\n",
      "scaffold7_cov100\t6764\t6766\tscaffold7_cov100\tAUGUSTUS\tgene\t6218\t7068\t0.78\t-\t.\tg4\n",
      "scaffold7_cov100\t6913\t6915\tscaffold7_cov100\tAUGUSTUS\tgene\t6218\t7068\t0.78\t-\t.\tg4\n",
      "scaffold7_cov100\t12587\t12589\tscaffold7_cov100\tAUGUSTUS\tgene\t11671\t12670\t0.8\t-\t.\tg6\n",
      "scaffold7_cov100\t15549\t15551\tscaffold7_cov100\tAUGUSTUS\tgene\t15464\t15737\t0.92\t-\t.\tg7\n",
      "scaffold7_cov100\t15549\t15551\tscaffold7_cov100\tAUGUSTUS\tgene\t15464\t15737\t0.96\t+\t.\tg8\n",
      "scaffold7_cov100\t15569\t15571\tscaffold7_cov100\tAUGUSTUS\tgene\t15464\t15737\t0.92\t-\t.\tg7\n",
      "\n",
      "==> Pact_union_5x-averages-WGBS.bedgraph.bed-paFlanksUpstream <==\n",
      "scaffold6_cov64\t5797\t5799\tscaffold6_cov64\tAUGUSTUS\tgene\t5653\t5804\t0.46\t-\t.\tg1\n",
      "scaffold6_cov64\t5797\t5799\tscaffold6_cov64\tAUGUSTUS\tgene\t5653\t5804\t0.57\t+\t.\tg2\n",
      "scaffold6_cov64\t5800\t5802\tscaffold6_cov64\tAUGUSTUS\tgene\t5653\t5804\t0.46\t-\t.\tg1\n",
      "scaffold6_cov64\t5800\t5802\tscaffold6_cov64\tAUGUSTUS\tgene\t5653\t5804\t0.57\t+\t.\tg2\n",
      "scaffold7_cov100\t6231\t6233\tscaffold7_cov100\tAUGUSTUS\tgene\t6218\t7068\t0.78\t-\t.\tg4\n",
      "scaffold7_cov100\t6233\t6235\tscaffold7_cov100\tAUGUSTUS\tgene\t6218\t7068\t0.78\t-\t.\tg4\n",
      "scaffold7_cov100\t6764\t6766\tscaffold7_cov100\tAUGUSTUS\tgene\t6218\t7068\t0.78\t-\t.\tg4\n",
      "scaffold7_cov100\t6913\t6915\tscaffold7_cov100\tAUGUSTUS\tgene\t6218\t7068\t0.78\t-\t.\tg4\n",
      "scaffold7_cov100\t11815\t11817\tscaffold7_cov100\tAUGUSTUS\tgene\t11671\t12670\t0.8\t-\t.\tg6\n",
      "scaffold7_cov100\t12131\t12133\tscaffold7_cov100\tAUGUSTUS\tgene\t11671\t12670\t0.8\t-\t.\tg6\n"
     ]
    }
   ],
   "source": [
    "#Check output\n",
    "!head *paFlanksUpstream"
   ]
  },
  {
   "cell_type": "code",
   "execution_count": 114,
   "metadata": {
    "collapsed": false,
    "scrolled": true
   },
   "outputs": [
    {
     "name": "stdout",
     "output_type": "stream",
     "text": [
      "   82907 Pact_union_5x-averages-MBDBS.bedgraph-Meth.bed-paFlanksUpstream\n",
      "   88959 Pact_union_5x-averages-MBDBS.bedgraph-sparseMeth.bed-paFlanksUpstream\n",
      "  590141 Pact_union_5x-averages-MBDBS.bedgraph-unMeth.bed-paFlanksUpstream\n",
      "  762007 Pact_union_5x-averages-MBDBS.bedgraph.bed-paFlanksUpstream\n",
      "    8527 Pact_union_5x-averages-RRBS.bedgraph-Meth.bed-paFlanksUpstream\n",
      "   28558 Pact_union_5x-averages-RRBS.bedgraph-sparseMeth.bed-paFlanksUpstream\n",
      "  475159 Pact_union_5x-averages-RRBS.bedgraph-unMeth.bed-paFlanksUpstream\n",
      "  512244 Pact_union_5x-averages-RRBS.bedgraph.bed-paFlanksUpstream\n",
      "   18248 Pact_union_5x-averages-WGBS.bedgraph-Meth.bed-paFlanksUpstream\n",
      "   38615 Pact_union_5x-averages-WGBS.bedgraph-sparseMeth.bed-paFlanksUpstream\n",
      "  997092 Pact_union_5x-averages-WGBS.bedgraph-unMeth.bed-paFlanksUpstream\n",
      " 1053955 Pact_union_5x-averages-WGBS.bedgraph.bed-paFlanksUpstream\n",
      " 4656412 total\n"
     ]
    }
   ],
   "source": [
    "#Count number of overlaps\n",
    "!wc -l *paFlanksUpstream"
   ]
  },
  {
   "cell_type": "code",
   "execution_count": 115,
   "metadata": {
    "collapsed": true
   },
   "outputs": [],
   "source": [
    "!wc -l *paFlanksUpstream > Pact_union_5x-paFlanksUpstream-counts.txt"
   ]
  },
  {
   "cell_type": "markdown",
   "metadata": {},
   "source": [
    "#### 3g. Downstream flanking regions"
   ]
  },
  {
   "cell_type": "code",
   "execution_count": 116,
   "metadata": {
    "collapsed": true,
    "scrolled": true
   },
   "outputs": [],
   "source": [
    "%%bash\n",
    "\n",
    "for f in *bed\n",
    "do\n",
    "  /usr/local/bin/intersectBed \\\n",
    "  -wb \\\n",
    "  -a ${f} \\\n",
    "  -b ../../../genome-feature-files/Pact.GFFannotation.flanks.Downstream.gff \\\n",
    "  > ${f}-paFlanksDownstream\n",
    "done"
   ]
  },
  {
   "cell_type": "code",
   "execution_count": 117,
   "metadata": {
    "collapsed": false
   },
   "outputs": [
    {
     "name": "stdout",
     "output_type": "stream",
     "text": [
      "==> Pact_union_5x-averages-MBDBS.bedgraph-Meth.bed-paFlanksDownstream <==\n",
      "scaffold7_cov100\t6231\t6233\tscaffold7_cov100\tAUGUSTUS\tgene\t6218\t7068\t1\t-\t.\tg5\n",
      "scaffold7_cov100\t6233\t6235\tscaffold7_cov100\tAUGUSTUS\tgene\t6218\t7068\t1\t-\t.\tg5\n",
      "scaffold7_cov100\t12652\t12654\tscaffold7_cov100\tAUGUSTUS\tgene\t12339\t13338\t0.92\t-\t.\tg7\n",
      "scaffold7_cov100\t12662\t12664\tscaffold7_cov100\tAUGUSTUS\tgene\t12339\t13338\t0.92\t-\t.\tg7\n",
      "scaffold7_cov100\t12675\t12677\tscaffold7_cov100\tAUGUSTUS\tgene\t12339\t13338\t0.92\t-\t.\tg7\n",
      "scaffold7_cov100\t12683\t12685\tscaffold7_cov100\tAUGUSTUS\tgene\t12339\t13338\t0.92\t-\t.\tg7\n",
      "scaffold7_cov100\t12704\t12706\tscaffold7_cov100\tAUGUSTUS\tgene\t12339\t13338\t0.92\t-\t.\tg7\n",
      "scaffold7_cov100\t12726\t12728\tscaffold7_cov100\tAUGUSTUS\tgene\t12339\t13338\t0.92\t-\t.\tg7\n",
      "scaffold7_cov100\t12737\t12739\tscaffold7_cov100\tAUGUSTUS\tgene\t12339\t13338\t0.92\t-\t.\tg7\n",
      "scaffold7_cov100\t12806\t12808\tscaffold7_cov100\tAUGUSTUS\tgene\t12339\t13338\t0.92\t-\t.\tg7\n",
      "\n",
      "==> Pact_union_5x-averages-MBDBS.bedgraph-sparseMeth.bed-paFlanksDownstream <==\n",
      "scaffold6_cov64\t6880\t6882\tscaffold6_cov64\tAUGUSTUS\tgene\t6679\t7678\t0.57\t+\t.\tg2\n",
      "scaffold7_cov100\t12861\t12863\tscaffold7_cov100\tAUGUSTUS\tgene\t12339\t13338\t0.92\t-\t.\tg7\n",
      "scaffold7_cov100\t24443\t24445\tscaffold7_cov100\tAUGUSTUS\tgene\t24296\t25295\t0.39\t+\t.\tg11\n",
      "scaffold7_cov100\t24617\t24619\tscaffold7_cov100\tAUGUSTUS\tgene\t24296\t25295\t0.39\t+\t.\tg11\n",
      "scaffold7_cov100\t24969\t24971\tscaffold7_cov100\tAUGUSTUS\tgene\t24296\t25295\t0.39\t+\t.\tg11\n",
      "scaffold7_cov100\t74997\t74999\tscaffold7_cov100\tAUGUSTUS\tgene\t74096\t75095\t0.91\t-\t.\tg19\n",
      "scaffold7_cov100\t78244\t78246\tscaffold7_cov100\tAUGUSTUS\tgene\t77965\t78662\t0.99\t-\t.\tg21\n",
      "scaffold7_cov100\t91999\t92001\tscaffold7_cov100\tAUGUSTUS\tgene\t91990\t92373\t0.33\t-\t.\tg24\n",
      "scaffold7_cov100\t92019\t92021\tscaffold7_cov100\tAUGUSTUS\tgene\t91990\t92373\t0.33\t-\t.\tg24\n",
      "scaffold7_cov100\t92029\t92031\tscaffold7_cov100\tAUGUSTUS\tgene\t91990\t92373\t0.33\t-\t.\tg24\n",
      "\n",
      "==> Pact_union_5x-averages-MBDBS.bedgraph-unMeth.bed-paFlanksDownstream <==\n",
      "scaffold6_cov64\t6751\t6753\tscaffold6_cov64\tAUGUSTUS\tgene\t6679\t7678\t0.57\t+\t.\tg2\n",
      "scaffold6_cov64\t6805\t6807\tscaffold6_cov64\tAUGUSTUS\tgene\t6679\t7678\t0.57\t+\t.\tg2\n",
      "scaffold6_cov64\t6813\t6815\tscaffold6_cov64\tAUGUSTUS\tgene\t6679\t7678\t0.57\t+\t.\tg2\n",
      "scaffold6_cov64\t6862\t6864\tscaffold6_cov64\tAUGUSTUS\tgene\t6679\t7678\t0.57\t+\t.\tg2\n",
      "scaffold6_cov64\t6885\t6887\tscaffold6_cov64\tAUGUSTUS\tgene\t6679\t7678\t0.57\t+\t.\tg2\n",
      "scaffold6_cov64\t6909\t6911\tscaffold6_cov64\tAUGUSTUS\tgene\t6679\t7678\t0.57\t+\t.\tg2\n",
      "scaffold6_cov64\t6943\t6945\tscaffold6_cov64\tAUGUSTUS\tgene\t6679\t7678\t0.57\t+\t.\tg2\n",
      "scaffold6_cov64\t6991\t6993\tscaffold6_cov64\tAUGUSTUS\tgene\t6679\t7678\t0.57\t+\t.\tg2\n",
      "scaffold6_cov64\t7011\t7013\tscaffold6_cov64\tAUGUSTUS\tgene\t6679\t7678\t0.57\t+\t.\tg2\n",
      "scaffold6_cov64\t7072\t7074\tscaffold6_cov64\tAUGUSTUS\tgene\t6679\t7678\t0.57\t+\t.\tg2\n",
      "\n",
      "==> Pact_union_5x-averages-MBDBS.bedgraph.bed-paFlanksDownstream <==\n",
      "scaffold6_cov64\t6751\t6753\tscaffold6_cov64\tAUGUSTUS\tgene\t6679\t7678\t0.57\t+\t.\tg2\n",
      "scaffold6_cov64\t6805\t6807\tscaffold6_cov64\tAUGUSTUS\tgene\t6679\t7678\t0.57\t+\t.\tg2\n",
      "scaffold6_cov64\t6813\t6815\tscaffold6_cov64\tAUGUSTUS\tgene\t6679\t7678\t0.57\t+\t.\tg2\n",
      "scaffold6_cov64\t6862\t6864\tscaffold6_cov64\tAUGUSTUS\tgene\t6679\t7678\t0.57\t+\t.\tg2\n",
      "scaffold6_cov64\t6880\t6882\tscaffold6_cov64\tAUGUSTUS\tgene\t6679\t7678\t0.57\t+\t.\tg2\n",
      "scaffold6_cov64\t6885\t6887\tscaffold6_cov64\tAUGUSTUS\tgene\t6679\t7678\t0.57\t+\t.\tg2\n",
      "scaffold6_cov64\t6909\t6911\tscaffold6_cov64\tAUGUSTUS\tgene\t6679\t7678\t0.57\t+\t.\tg2\n",
      "scaffold6_cov64\t6943\t6945\tscaffold6_cov64\tAUGUSTUS\tgene\t6679\t7678\t0.57\t+\t.\tg2\n",
      "scaffold6_cov64\t6991\t6993\tscaffold6_cov64\tAUGUSTUS\tgene\t6679\t7678\t0.57\t+\t.\tg2\n",
      "scaffold6_cov64\t7011\t7013\tscaffold6_cov64\tAUGUSTUS\tgene\t6679\t7678\t0.57\t+\t.\tg2\n",
      "\n",
      "==> Pact_union_5x-averages-RRBS.bedgraph-Meth.bed-paFlanksDownstream <==\n",
      "scaffold7_cov100\t24454\t24456\tscaffold7_cov100\tAUGUSTUS\tgene\t24296\t25295\t0.39\t+\t.\tg11\n",
      "scaffold7_cov100\t24494\t24496\tscaffold7_cov100\tAUGUSTUS\tgene\t24296\t25295\t0.39\t+\t.\tg11\n",
      "scaffold7_cov100\t24509\t24511\tscaffold7_cov100\tAUGUSTUS\tgene\t24296\t25295\t0.39\t+\t.\tg11\n",
      "scaffold7_cov100\t24557\t24559\tscaffold7_cov100\tAUGUSTUS\tgene\t24296\t25295\t0.39\t+\t.\tg11\n",
      "scaffold7_cov100\t92029\t92031\tscaffold7_cov100\tAUGUSTUS\tgene\t91990\t92373\t0.33\t-\t.\tg24\n",
      "scaffold7_cov100\t281501\t281503\tscaffold7_cov100\tAUGUSTUS\tgene\t281183\t281713\t0.64\t-\t.\tg58\n",
      "scaffold7_cov100\t373659\t373661\tscaffold7_cov100\tAUGUSTUS\tgene\t372997\t373996\t1\t-\t.\tg81\n",
      "scaffold7_cov100\t443190\t443192\tscaffold7_cov100\tAUGUSTUS\tgene\t442747\t443746\t0.82\t-\t.\tg95\n",
      "scaffold7_cov100\t443210\t443212\tscaffold7_cov100\tAUGUSTUS\tgene\t442747\t443746\t0.82\t-\t.\tg95\n",
      "scaffold7_cov100\t450123\t450125\tscaffold7_cov100\tAUGUSTUS\tgene\t450095\t451094\t0.9\t+\t.\tg96\n",
      "\n",
      "==> Pact_union_5x-averages-RRBS.bedgraph-sparseMeth.bed-paFlanksDownstream <==\n",
      "scaffold6_cov64\t7373\t7375\tscaffold6_cov64\tAUGUSTUS\tgene\t6679\t7678\t0.57\t+\t.\tg2\n",
      "scaffold7_cov100\t24443\t24445\tscaffold7_cov100\tAUGUSTUS\tgene\t24296\t25295\t0.39\t+\t.\tg11\n",
      "scaffold7_cov100\t28086\t28088\tscaffold7_cov100\tAUGUSTUS\tgene\t27517\t28516\t0.69\t-\t.\tg12\n",
      "scaffold7_cov100\t64192\t64194\tscaffold7_cov100\tAUGUSTUS\tgene\t63722\t64721\t1\t+\t.\tg16\n",
      "scaffold7_cov100\t64192\t64194\tscaffold7_cov100\tAUGUSTUS\tgene\t64053\t65052\t1\t-\t.\tg17\n",
      "scaffold7_cov100\t64288\t64290\tscaffold7_cov100\tAUGUSTUS\tgene\t63722\t64721\t1\t+\t.\tg16\n",
      "scaffold7_cov100\t64288\t64290\tscaffold7_cov100\tAUGUSTUS\tgene\t64053\t65052\t1\t-\t.\tg17\n",
      "scaffold7_cov100\t64290\t64292\tscaffold7_cov100\tAUGUSTUS\tgene\t63722\t64721\t1\t+\t.\tg16\n",
      "scaffold7_cov100\t64290\t64292\tscaffold7_cov100\tAUGUSTUS\tgene\t64053\t65052\t1\t-\t.\tg17\n",
      "scaffold7_cov100\t116515\t116517\tscaffold7_cov100\tAUGUSTUS\tgene\t116379\t117016\t0.55\t+\t.\tg28\n",
      "\n",
      "==> Pact_union_5x-averages-RRBS.bedgraph-unMeth.bed-paFlanksDownstream <==\n",
      "scaffold6_cov64\t6687\t6689\tscaffold6_cov64\tAUGUSTUS\tgene\t6679\t7678\t0.57\t+\t.\tg2\n",
      "scaffold6_cov64\t6690\t6692\tscaffold6_cov64\tAUGUSTUS\tgene\t6679\t7678\t0.57\t+\t.\tg2\n",
      "scaffold6_cov64\t6704\t6706\tscaffold6_cov64\tAUGUSTUS\tgene\t6679\t7678\t0.57\t+\t.\tg2\n",
      "scaffold6_cov64\t6732\t6734\tscaffold6_cov64\tAUGUSTUS\tgene\t6679\t7678\t0.57\t+\t.\tg2\n",
      "scaffold6_cov64\t6751\t6753\tscaffold6_cov64\tAUGUSTUS\tgene\t6679\t7678\t0.57\t+\t.\tg2\n",
      "scaffold6_cov64\t6805\t6807\tscaffold6_cov64\tAUGUSTUS\tgene\t6679\t7678\t0.57\t+\t.\tg2\n",
      "scaffold6_cov64\t6813\t6815\tscaffold6_cov64\tAUGUSTUS\tgene\t6679\t7678\t0.57\t+\t.\tg2\n",
      "scaffold6_cov64\t6862\t6864\tscaffold6_cov64\tAUGUSTUS\tgene\t6679\t7678\t0.57\t+\t.\tg2\n",
      "scaffold6_cov64\t6880\t6882\tscaffold6_cov64\tAUGUSTUS\tgene\t6679\t7678\t0.57\t+\t.\tg2\n",
      "scaffold6_cov64\t6885\t6887\tscaffold6_cov64\tAUGUSTUS\tgene\t6679\t7678\t0.57\t+\t.\tg2\n",
      "\n",
      "==> Pact_union_5x-averages-RRBS.bedgraph.bed-paFlanksDownstream <==\n",
      "scaffold6_cov64\t6687\t6689\tscaffold6_cov64\tAUGUSTUS\tgene\t6679\t7678\t0.57\t+\t.\tg2\n",
      "scaffold6_cov64\t6690\t6692\tscaffold6_cov64\tAUGUSTUS\tgene\t6679\t7678\t0.57\t+\t.\tg2\n",
      "scaffold6_cov64\t6704\t6706\tscaffold6_cov64\tAUGUSTUS\tgene\t6679\t7678\t0.57\t+\t.\tg2\n",
      "scaffold6_cov64\t6732\t6734\tscaffold6_cov64\tAUGUSTUS\tgene\t6679\t7678\t0.57\t+\t.\tg2\n",
      "scaffold6_cov64\t6751\t6753\tscaffold6_cov64\tAUGUSTUS\tgene\t6679\t7678\t0.57\t+\t.\tg2\n",
      "scaffold6_cov64\t6805\t6807\tscaffold6_cov64\tAUGUSTUS\tgene\t6679\t7678\t0.57\t+\t.\tg2\n",
      "scaffold6_cov64\t6813\t6815\tscaffold6_cov64\tAUGUSTUS\tgene\t6679\t7678\t0.57\t+\t.\tg2\n",
      "scaffold6_cov64\t6862\t6864\tscaffold6_cov64\tAUGUSTUS\tgene\t6679\t7678\t0.57\t+\t.\tg2\n",
      "scaffold6_cov64\t6880\t6882\tscaffold6_cov64\tAUGUSTUS\tgene\t6679\t7678\t0.57\t+\t.\tg2\n",
      "scaffold6_cov64\t6885\t6887\tscaffold6_cov64\tAUGUSTUS\tgene\t6679\t7678\t0.57\t+\t.\tg2\n",
      "\n",
      "==> Pact_union_5x-averages-WGBS.bedgraph-Meth.bed-paFlanksDownstream <==\n",
      "scaffold7_cov100\t6231\t6233\tscaffold7_cov100\tAUGUSTUS\tgene\t6218\t7068\t1\t-\t.\tg5\n",
      "scaffold7_cov100\t6233\t6235\tscaffold7_cov100\tAUGUSTUS\tgene\t6218\t7068\t1\t-\t.\tg5\n",
      "scaffold7_cov100\t13275\t13277\tscaffold7_cov100\tAUGUSTUS\tgene\t12339\t13338\t0.92\t-\t.\tg7\n",
      "scaffold7_cov100\t19284\t19286\tscaffold7_cov100\tAUGUSTUS\tgene\t19271\t19311\t0.96\t+\t.\tg8\n",
      "scaffold7_cov100\t19296\t19298\tscaffold7_cov100\tAUGUSTUS\tgene\t19271\t19311\t0.96\t+\t.\tg8\n",
      "scaffold7_cov100\t24401\t24403\tscaffold7_cov100\tAUGUSTUS\tgene\t24296\t25295\t0.39\t+\t.\tg11\n",
      "scaffold7_cov100\t24454\t24456\tscaffold7_cov100\tAUGUSTUS\tgene\t24296\t25295\t0.39\t+\t.\tg11\n",
      "scaffold7_cov100\t24509\t24511\tscaffold7_cov100\tAUGUSTUS\tgene\t24296\t25295\t0.39\t+\t.\tg11\n",
      "scaffold7_cov100\t24895\t24897\tscaffold7_cov100\tAUGUSTUS\tgene\t24296\t25295\t0.39\t+\t.\tg11\n",
      "scaffold7_cov100\t24941\t24943\tscaffold7_cov100\tAUGUSTUS\tgene\t24296\t25295\t0.39\t+\t.\tg11\n",
      "\n",
      "==> Pact_union_5x-averages-WGBS.bedgraph-sparseMeth.bed-paFlanksDownstream <==\n",
      "scaffold7_cov100\t18520\t18522\tscaffold7_cov100\tAUGUSTUS\tgene\t18321\t18585\t0.96\t+\t.\tg8\n",
      "scaffold7_cov100\t18520\t18522\tscaffold7_cov100\tAUGUSTUS\tgene\t18321\t18585\t0.99\t-\t.\tg9\n",
      "scaffold7_cov100\t24443\t24445\tscaffold7_cov100\tAUGUSTUS\tgene\t24296\t25295\t0.39\t+\t.\tg11\n",
      "scaffold7_cov100\t24494\t24496\tscaffold7_cov100\tAUGUSTUS\tgene\t24296\t25295\t0.39\t+\t.\tg11\n",
      "scaffold7_cov100\t24557\t24559\tscaffold7_cov100\tAUGUSTUS\tgene\t24296\t25295\t0.39\t+\t.\tg11\n",
      "scaffold7_cov100\t24614\t24616\tscaffold7_cov100\tAUGUSTUS\tgene\t24296\t25295\t0.39\t+\t.\tg11\n",
      "scaffold7_cov100\t24617\t24619\tscaffold7_cov100\tAUGUSTUS\tgene\t24296\t25295\t0.39\t+\t.\tg11\n",
      "scaffold7_cov100\t24769\t24771\tscaffold7_cov100\tAUGUSTUS\tgene\t24296\t25295\t0.39\t+\t.\tg11\n",
      "scaffold7_cov100\t24830\t24832\tscaffold7_cov100\tAUGUSTUS\tgene\t24296\t25295\t0.39\t+\t.\tg11\n",
      "scaffold7_cov100\t24969\t24971\tscaffold7_cov100\tAUGUSTUS\tgene\t24296\t25295\t0.39\t+\t.\tg11\n",
      "\n",
      "==> Pact_union_5x-averages-WGBS.bedgraph-unMeth.bed-paFlanksDownstream <==\n",
      "scaffold6_cov64\t6690\t6692\tscaffold6_cov64\tAUGUSTUS\tgene\t6679\t7678\t0.57\t+\t.\tg2\n",
      "scaffold6_cov64\t6704\t6706\tscaffold6_cov64\tAUGUSTUS\tgene\t6679\t7678\t0.57\t+\t.\tg2\n",
      "scaffold6_cov64\t6732\t6734\tscaffold6_cov64\tAUGUSTUS\tgene\t6679\t7678\t0.57\t+\t.\tg2\n",
      "scaffold6_cov64\t6751\t6753\tscaffold6_cov64\tAUGUSTUS\tgene\t6679\t7678\t0.57\t+\t.\tg2\n",
      "scaffold6_cov64\t6805\t6807\tscaffold6_cov64\tAUGUSTUS\tgene\t6679\t7678\t0.57\t+\t.\tg2\n",
      "scaffold6_cov64\t6813\t6815\tscaffold6_cov64\tAUGUSTUS\tgene\t6679\t7678\t0.57\t+\t.\tg2\n",
      "scaffold6_cov64\t6862\t6864\tscaffold6_cov64\tAUGUSTUS\tgene\t6679\t7678\t0.57\t+\t.\tg2\n",
      "scaffold6_cov64\t6880\t6882\tscaffold6_cov64\tAUGUSTUS\tgene\t6679\t7678\t0.57\t+\t.\tg2\n",
      "scaffold6_cov64\t6885\t6887\tscaffold6_cov64\tAUGUSTUS\tgene\t6679\t7678\t0.57\t+\t.\tg2\n",
      "scaffold6_cov64\t6909\t6911\tscaffold6_cov64\tAUGUSTUS\tgene\t6679\t7678\t0.57\t+\t.\tg2\n",
      "\n",
      "==> Pact_union_5x-averages-WGBS.bedgraph.bed-paFlanksDownstream <==\n",
      "scaffold6_cov64\t6690\t6692\tscaffold6_cov64\tAUGUSTUS\tgene\t6679\t7678\t0.57\t+\t.\tg2\n",
      "scaffold6_cov64\t6704\t6706\tscaffold6_cov64\tAUGUSTUS\tgene\t6679\t7678\t0.57\t+\t.\tg2\n",
      "scaffold6_cov64\t6732\t6734\tscaffold6_cov64\tAUGUSTUS\tgene\t6679\t7678\t0.57\t+\t.\tg2\n",
      "scaffold6_cov64\t6751\t6753\tscaffold6_cov64\tAUGUSTUS\tgene\t6679\t7678\t0.57\t+\t.\tg2\n",
      "scaffold6_cov64\t6805\t6807\tscaffold6_cov64\tAUGUSTUS\tgene\t6679\t7678\t0.57\t+\t.\tg2\n",
      "scaffold6_cov64\t6813\t6815\tscaffold6_cov64\tAUGUSTUS\tgene\t6679\t7678\t0.57\t+\t.\tg2\n",
      "scaffold6_cov64\t6862\t6864\tscaffold6_cov64\tAUGUSTUS\tgene\t6679\t7678\t0.57\t+\t.\tg2\n",
      "scaffold6_cov64\t6880\t6882\tscaffold6_cov64\tAUGUSTUS\tgene\t6679\t7678\t0.57\t+\t.\tg2\n",
      "scaffold6_cov64\t6885\t6887\tscaffold6_cov64\tAUGUSTUS\tgene\t6679\t7678\t0.57\t+\t.\tg2\n",
      "scaffold6_cov64\t6909\t6911\tscaffold6_cov64\tAUGUSTUS\tgene\t6679\t7678\t0.57\t+\t.\tg2\n"
     ]
    }
   ],
   "source": [
    "#Check output\n",
    "!head *paFlanksDownstream"
   ]
  },
  {
   "cell_type": "code",
   "execution_count": 118,
   "metadata": {
    "collapsed": false,
    "scrolled": true
   },
   "outputs": [
    {
     "name": "stdout",
     "output_type": "stream",
     "text": [
      "   91436 Pact_union_5x-averages-MBDBS.bedgraph-Meth.bed-paFlanksDownstream\n",
      "   83793 Pact_union_5x-averages-MBDBS.bedgraph-sparseMeth.bed-paFlanksDownstream\n",
      "  466964 Pact_union_5x-averages-MBDBS.bedgraph-unMeth.bed-paFlanksDownstream\n",
      "  642193 Pact_union_5x-averages-MBDBS.bedgraph.bed-paFlanksDownstream\n",
      "    7761 Pact_union_5x-averages-RRBS.bedgraph-Meth.bed-paFlanksDownstream\n",
      "   24269 Pact_union_5x-averages-RRBS.bedgraph-sparseMeth.bed-paFlanksDownstream\n",
      "  371824 Pact_union_5x-averages-RRBS.bedgraph-unMeth.bed-paFlanksDownstream\n",
      "  403854 Pact_union_5x-averages-RRBS.bedgraph.bed-paFlanksDownstream\n",
      "   21275 Pact_union_5x-averages-WGBS.bedgraph-Meth.bed-paFlanksDownstream\n",
      "   40124 Pact_union_5x-averages-WGBS.bedgraph-sparseMeth.bed-paFlanksDownstream\n",
      "  859044 Pact_union_5x-averages-WGBS.bedgraph-unMeth.bed-paFlanksDownstream\n",
      "  920443 Pact_union_5x-averages-WGBS.bedgraph.bed-paFlanksDownstream\n",
      " 3932980 total\n"
     ]
    }
   ],
   "source": [
    "#Count number of overlaps\n",
    "!wc -l *paFlanksDownstream"
   ]
  },
  {
   "cell_type": "code",
   "execution_count": 119,
   "metadata": {
    "collapsed": true
   },
   "outputs": [],
   "source": [
    "!wc -l *paFlanksDownstream > Pact_union_5x-paFlanksDownstream-counts.txt"
   ]
  },
  {
   "cell_type": "markdown",
   "metadata": {},
   "source": [
    "#### 3h. Intergenic"
   ]
  },
  {
   "cell_type": "code",
   "execution_count": 120,
   "metadata": {
    "collapsed": true
   },
   "outputs": [],
   "source": [
    "%%bash \n",
    "\n",
    "for f in *bed\n",
    "do\n",
    "  /usr/local/bin/intersectBed \\\n",
    "  -wb \\\n",
    "  -a ${f} \\\n",
    "  -b ../../../genome-feature-files/Pact.GFFannotation.intergenic.bed \\\n",
    "  > ${f}-paIntergenic\n",
    "done"
   ]
  },
  {
   "cell_type": "code",
   "execution_count": 121,
   "metadata": {
    "collapsed": false
   },
   "outputs": [
    {
     "name": "stdout",
     "output_type": "stream",
     "text": [
      "==> Pact_union_5x-averages-MBDBS.bedgraph-Meth.bed-paIntergenic <==\n",
      "scaffold3_cov83\t475\t477\tscaffold3_cov83\t0\t598\n",
      "scaffold3_cov83\t504\t506\tscaffold3_cov83\t0\t598\n",
      "scaffold7_cov100\t216293\t216295\tscaffold7_cov100\t214550\t217636\n",
      "scaffold7_cov100\t230584\t230586\tscaffold7_cov100\t220023\t234761\n",
      "scaffold7_cov100\t267363\t267365\tscaffold7_cov100\t263796\t267853\n",
      "scaffold7_cov100\t273435\t273437\tscaffold7_cov100\t272559\t273794\n",
      "scaffold7_cov100\t304579\t304581\tscaffold7_cov100\t304168\t309429\n",
      "scaffold7_cov100\t304583\t304585\tscaffold7_cov100\t304168\t309429\n",
      "scaffold7_cov100\t304590\t304592\tscaffold7_cov100\t304168\t309429\n",
      "scaffold7_cov100\t304601\t304603\tscaffold7_cov100\t304168\t309429\n",
      "\n",
      "==> Pact_union_5x-averages-MBDBS.bedgraph-sparseMeth.bed-paIntergenic <==\n",
      "scaffold3_cov83\t118\t120\tscaffold3_cov83\t0\t598\n",
      "scaffold3_cov83\t130\t132\tscaffold3_cov83\t0\t598\n",
      "scaffold3_cov83\t137\t139\tscaffold3_cov83\t0\t598\n",
      "scaffold3_cov83\t189\t191\tscaffold3_cov83\t0\t598\n",
      "scaffold3_cov83\t208\t210\tscaffold3_cov83\t0\t598\n",
      "scaffold3_cov83\t261\t263\tscaffold3_cov83\t0\t598\n",
      "scaffold3_cov83\t484\t486\tscaffold3_cov83\t0\t598\n",
      "scaffold7_cov100\t84244\t84246\tscaffold7_cov100\t83819\t86977\n",
      "scaffold7_cov100\t84631\t84633\tscaffold7_cov100\t83819\t86977\n",
      "scaffold7_cov100\t84874\t84876\tscaffold7_cov100\t83819\t86977\n",
      "\n",
      "==> Pact_union_5x-averages-MBDBS.bedgraph-unMeth.bed-paIntergenic <==\n",
      "scaffold2_cov51\t649\t651\tscaffold2_cov51\t0\t1151\n",
      "scaffold2_cov51\t686\t688\tscaffold2_cov51\t0\t1151\n",
      "scaffold2_cov51\t778\t780\tscaffold2_cov51\t0\t1151\n",
      "scaffold3_cov83\t243\t245\tscaffold3_cov83\t0\t598\n",
      "scaffold6_cov64\t7687\t7689\tscaffold6_cov64\t7678\t8236\n",
      "scaffold6_cov64\t7693\t7695\tscaffold6_cov64\t7678\t8236\n",
      "scaffold6_cov64\t7698\t7700\tscaffold6_cov64\t7678\t8236\n",
      "scaffold6_cov64\t7701\t7703\tscaffold6_cov64\t7678\t8236\n",
      "scaffold6_cov64\t7703\t7705\tscaffold6_cov64\t7678\t8236\n",
      "scaffold6_cov64\t7789\t7791\tscaffold6_cov64\t7678\t8236\n",
      "\n",
      "==> Pact_union_5x-averages-MBDBS.bedgraph.bed-paIntergenic <==\n",
      "scaffold2_cov51\t649\t651\tscaffold2_cov51\t0\t1151\n",
      "scaffold2_cov51\t686\t688\tscaffold2_cov51\t0\t1151\n",
      "scaffold2_cov51\t778\t780\tscaffold2_cov51\t0\t1151\n",
      "scaffold3_cov83\t118\t120\tscaffold3_cov83\t0\t598\n",
      "scaffold3_cov83\t130\t132\tscaffold3_cov83\t0\t598\n",
      "scaffold3_cov83\t137\t139\tscaffold3_cov83\t0\t598\n",
      "scaffold3_cov83\t189\t191\tscaffold3_cov83\t0\t598\n",
      "scaffold3_cov83\t208\t210\tscaffold3_cov83\t0\t598\n",
      "scaffold3_cov83\t243\t245\tscaffold3_cov83\t0\t598\n",
      "scaffold3_cov83\t261\t263\tscaffold3_cov83\t0\t598\n",
      "\n",
      "==> Pact_union_5x-averages-RRBS.bedgraph-Meth.bed-paIntergenic <==\n",
      "scaffold7_cov100\t84631\t84633\tscaffold7_cov100\t83819\t86977\n",
      "scaffold7_cov100\t165090\t165092\tscaffold7_cov100\t163599\t168667\n",
      "scaffold7_cov100\t165239\t165241\tscaffold7_cov100\t163599\t168667\n",
      "scaffold7_cov100\t223257\t223259\tscaffold7_cov100\t220023\t234761\n",
      "scaffold7_cov100\t223265\t223267\tscaffold7_cov100\t220023\t234761\n",
      "scaffold7_cov100\t223270\t223272\tscaffold7_cov100\t220023\t234761\n",
      "scaffold7_cov100\t223753\t223755\tscaffold7_cov100\t220023\t234761\n",
      "scaffold7_cov100\t228104\t228106\tscaffold7_cov100\t220023\t234761\n",
      "scaffold7_cov100\t233612\t233614\tscaffold7_cov100\t220023\t234761\n",
      "scaffold7_cov100\t255876\t255878\tscaffold7_cov100\t255141\t256597\n",
      "\n",
      "==> Pact_union_5x-averages-RRBS.bedgraph-sparseMeth.bed-paIntergenic <==\n",
      "scaffold7_cov100\t39104\t39106\tscaffold7_cov100\t38761\t40187\n",
      "scaffold7_cov100\t39113\t39115\tscaffold7_cov100\t38761\t40187\n",
      "scaffold7_cov100\t39169\t39171\tscaffold7_cov100\t38761\t40187\n",
      "scaffold7_cov100\t39178\t39180\tscaffold7_cov100\t38761\t40187\n",
      "scaffold7_cov100\t39192\t39194\tscaffold7_cov100\t38761\t40187\n",
      "scaffold7_cov100\t39365\t39367\tscaffold7_cov100\t38761\t40187\n",
      "scaffold7_cov100\t39367\t39369\tscaffold7_cov100\t38761\t40187\n",
      "scaffold7_cov100\t40132\t40134\tscaffold7_cov100\t38761\t40187\n",
      "scaffold7_cov100\t86732\t86734\tscaffold7_cov100\t83819\t86977\n",
      "scaffold7_cov100\t86745\t86747\tscaffold7_cov100\t83819\t86977\n",
      "\n",
      "==> Pact_union_5x-averages-RRBS.bedgraph-unMeth.bed-paIntergenic <==\n",
      "scaffold6_cov64\t7952\t7954\tscaffold6_cov64\t7678\t8236\n",
      "scaffold6_cov64\t7983\t7985\tscaffold6_cov64\t7678\t8236\n",
      "scaffold6_cov64\t8041\t8043\tscaffold6_cov64\t7678\t8236\n",
      "scaffold6_cov64\t8056\t8058\tscaffold6_cov64\t7678\t8236\n",
      "scaffold6_cov64\t8070\t8072\tscaffold6_cov64\t7678\t8236\n",
      "scaffold6_cov64\t8079\t8081\tscaffold6_cov64\t7678\t8236\n",
      "scaffold7_cov100\t26273\t26275\tscaffold7_cov100\t25295\t27516\n",
      "scaffold7_cov100\t27357\t27359\tscaffold7_cov100\t25295\t27516\n",
      "scaffold7_cov100\t27380\t27382\tscaffold7_cov100\t25295\t27516\n",
      "scaffold7_cov100\t27385\t27387\tscaffold7_cov100\t25295\t27516\n",
      "\n",
      "==> Pact_union_5x-averages-RRBS.bedgraph.bed-paIntergenic <==\n",
      "scaffold6_cov64\t7952\t7954\tscaffold6_cov64\t7678\t8236\n",
      "scaffold6_cov64\t7983\t7985\tscaffold6_cov64\t7678\t8236\n",
      "scaffold6_cov64\t8041\t8043\tscaffold6_cov64\t7678\t8236\n",
      "scaffold6_cov64\t8056\t8058\tscaffold6_cov64\t7678\t8236\n",
      "scaffold6_cov64\t8070\t8072\tscaffold6_cov64\t7678\t8236\n",
      "scaffold6_cov64\t8079\t8081\tscaffold6_cov64\t7678\t8236\n",
      "scaffold7_cov100\t26273\t26275\tscaffold7_cov100\t25295\t27516\n",
      "scaffold7_cov100\t27357\t27359\tscaffold7_cov100\t25295\t27516\n",
      "scaffold7_cov100\t27380\t27382\tscaffold7_cov100\t25295\t27516\n",
      "scaffold7_cov100\t27385\t27387\tscaffold7_cov100\t25295\t27516\n",
      "\n",
      "==> Pact_union_5x-averages-WGBS.bedgraph-Meth.bed-paIntergenic <==\n",
      "scaffold7_cov100\t230214\t230216\tscaffold7_cov100\t220023\t234761\n",
      "scaffold7_cov100\t230584\t230586\tscaffold7_cov100\t220023\t234761\n",
      "scaffold7_cov100\t273435\t273437\tscaffold7_cov100\t272559\t273794\n",
      "scaffold7_cov100\t326521\t326523\tscaffold7_cov100\t326431\t326974\n",
      "scaffold7_cov100\t371129\t371131\tscaffold7_cov100\t368193\t372996\n",
      "scaffold7_cov100\t372118\t372120\tscaffold7_cov100\t368193\t372996\n",
      "scaffold7_cov100\t508171\t508173\tscaffold7_cov100\t505783\t508373\n",
      "scaffold19_cov103\t23991\t23993\tscaffold19_cov103\t23946\t24488\n",
      "scaffold19_cov103\t24166\t24168\tscaffold19_cov103\t23946\t24488\n",
      "scaffold19_cov103\t90735\t90737\tscaffold19_cov103\t90159\t91072\n",
      "\n",
      "==> Pact_union_5x-averages-WGBS.bedgraph-sparseMeth.bed-paIntergenic <==\n",
      "scaffold1_cov55\t252\t254\tscaffold1_cov55\t0\t421\n",
      "scaffold2_cov51\t686\t688\tscaffold2_cov51\t0\t1151\n",
      "scaffold3_cov83\t475\t477\tscaffold3_cov83\t0\t598\n",
      "scaffold3_cov83\t504\t506\tscaffold3_cov83\t0\t598\n",
      "scaffold7_cov100\t26915\t26917\tscaffold7_cov100\t25295\t27516\n",
      "scaffold7_cov100\t39381\t39383\tscaffold7_cov100\t38761\t40187\n",
      "scaffold7_cov100\t84872\t84874\tscaffold7_cov100\t83819\t86977\n",
      "scaffold7_cov100\t86493\t86495\tscaffold7_cov100\t83819\t86977\n",
      "scaffold7_cov100\t164534\t164536\tscaffold7_cov100\t163599\t168667\n",
      "scaffold7_cov100\t167730\t167732\tscaffold7_cov100\t163599\t168667\n",
      "\n",
      "==> Pact_union_5x-averages-WGBS.bedgraph-unMeth.bed-paIntergenic <==\n",
      "scaffold1_cov55\t49\t51\tscaffold1_cov55\t0\t421\n",
      "scaffold1_cov55\t84\t86\tscaffold1_cov55\t0\t421\n",
      "scaffold1_cov55\t92\t94\tscaffold1_cov55\t0\t421\n",
      "scaffold1_cov55\t102\t104\tscaffold1_cov55\t0\t421\n",
      "scaffold1_cov55\t105\t107\tscaffold1_cov55\t0\t421\n",
      "scaffold1_cov55\t116\t118\tscaffold1_cov55\t0\t421\n",
      "scaffold1_cov55\t119\t121\tscaffold1_cov55\t0\t421\n",
      "scaffold1_cov55\t146\t148\tscaffold1_cov55\t0\t421\n",
      "scaffold1_cov55\t169\t171\tscaffold1_cov55\t0\t421\n",
      "scaffold1_cov55\t186\t188\tscaffold1_cov55\t0\t421\n",
      "\n",
      "==> Pact_union_5x-averages-WGBS.bedgraph.bed-paIntergenic <==\n",
      "scaffold1_cov55\t49\t51\tscaffold1_cov55\t0\t421\n",
      "scaffold1_cov55\t84\t86\tscaffold1_cov55\t0\t421\n",
      "scaffold1_cov55\t92\t94\tscaffold1_cov55\t0\t421\n",
      "scaffold1_cov55\t102\t104\tscaffold1_cov55\t0\t421\n",
      "scaffold1_cov55\t105\t107\tscaffold1_cov55\t0\t421\n",
      "scaffold1_cov55\t116\t118\tscaffold1_cov55\t0\t421\n",
      "scaffold1_cov55\t119\t121\tscaffold1_cov55\t0\t421\n",
      "scaffold1_cov55\t146\t148\tscaffold1_cov55\t0\t421\n",
      "scaffold1_cov55\t169\t171\tscaffold1_cov55\t0\t421\n",
      "scaffold1_cov55\t186\t188\tscaffold1_cov55\t0\t421\n"
     ]
    }
   ],
   "source": [
    "#Check output\n",
    "!head *paIntergenic"
   ]
  },
  {
   "cell_type": "code",
   "execution_count": 122,
   "metadata": {
    "collapsed": false,
    "scrolled": false
   },
   "outputs": [
    {
     "name": "stdout",
     "output_type": "stream",
     "text": [
      "  280338 Pact_union_5x-averages-MBDBS.bedgraph-Meth.bed-paIntergenic\n",
      "  304903 Pact_union_5x-averages-MBDBS.bedgraph-sparseMeth.bed-paIntergenic\n",
      " 1528019 Pact_union_5x-averages-MBDBS.bedgraph-unMeth.bed-paIntergenic\n",
      " 2113260 Pact_union_5x-averages-MBDBS.bedgraph.bed-paIntergenic\n",
      "   26043 Pact_union_5x-averages-RRBS.bedgraph-Meth.bed-paIntergenic\n",
      "   85523 Pact_union_5x-averages-RRBS.bedgraph-sparseMeth.bed-paIntergenic\n",
      " 1226877 Pact_union_5x-averages-RRBS.bedgraph-unMeth.bed-paIntergenic\n",
      " 1338443 Pact_union_5x-averages-RRBS.bedgraph.bed-paIntergenic\n",
      "   26172 Pact_union_5x-averages-WGBS.bedgraph-Meth.bed-paIntergenic\n",
      "  134445 Pact_union_5x-averages-WGBS.bedgraph-sparseMeth.bed-paIntergenic\n",
      " 2782628 Pact_union_5x-averages-WGBS.bedgraph-unMeth.bed-paIntergenic\n",
      " 2943245 Pact_union_5x-averages-WGBS.bedgraph.bed-paIntergenic\n",
      " 12789896 total\n"
     ]
    }
   ],
   "source": [
    "#Count number of overlaps\n",
    "!wc -l *paIntergenic"
   ]
  },
  {
   "cell_type": "code",
   "execution_count": 123,
   "metadata": {
    "collapsed": true
   },
   "outputs": [],
   "source": [
    "!wc -l *paIntergenic > Pact_union_5x-paIntergenic-counts.txt"
   ]
  },
  {
   "cell_type": "code",
   "execution_count": null,
   "metadata": {
    "collapsed": true
   },
   "outputs": [],
   "source": []
  },
  {
   "cell_type": "code",
   "execution_count": null,
   "metadata": {
    "collapsed": true
   },
   "outputs": [],
   "source": []
  }
 ],
 "metadata": {
  "anaconda-cloud": {},
  "kernelspec": {
   "display_name": "Python [default]",
   "language": "python",
   "name": "python3"
  },
  "language_info": {
   "codemirror_mode": {
    "name": "ipython",
    "version": 3
   },
   "file_extension": ".py",
   "mimetype": "text/x-python",
   "name": "python",
   "nbconvert_exporter": "python",
   "pygments_lexer": "ipython3",
   "version": "3.5.2"
  }
 },
 "nbformat": 4,
 "nbformat_minor": 2
}
