{
 "cells": [
  {
   "cell_type": "markdown",
   "metadata": {},
   "source": [
    "# Here we see how many of all the CpGs are captured ..."
   ]
  },
  {
   "cell_type": "markdown",
   "metadata": {
    "ExecuteTime": {
     "end_time": "2020-04-03T04:58:54.070909Z",
     "start_time": "2020-04-03T04:58:54.063291Z"
    }
   },
   "source": [
    "## for each method within Mcap\n"
   ]
  },
  {
   "cell_type": "code",
   "execution_count": 6,
   "metadata": {
    "ExecuteTime": {
     "end_time": "2020-04-03T04:46:17.072356Z",
     "start_time": "2020-04-03T04:46:16.927056Z"
    }
   },
   "outputs": [
    {
     "name": "stdout",
     "output_type": "stream",
     "text": [
      "-rw-r--r--@ 1 sr320  staff   3.6G Mar 29 11:49 ../genome-feature-files/C1_CpG.gff\r\n",
      "-rw-r--r--@ 1 sr320  staff   2.5G Mar 29 11:12 ../genome-feature-files/Mcap_CpG.gff\r\n",
      "-rw-r--r--@ 1 sr320  staff   1.0G Mar 29 09:30 ../genome-feature-files/Pact_CpG.gff\r\n"
     ]
    }
   ],
   "source": [
    "!ls -lh ../genome-feature-files/*CpG.gff"
   ]
  },
  {
   "cell_type": "code",
   "execution_count": 8,
   "metadata": {
    "ExecuteTime": {
     "end_time": "2020-04-03T04:48:02.683099Z",
     "start_time": "2020-04-03T04:48:02.559900Z"
    }
   },
   "outputs": [
    {
     "name": "stdout",
     "output_type": "stream",
     "text": [
      "##gff-version 2.0\r\n",
      "##date 2020-03-29\r\n",
      "##Type DNA 1\r\n",
      "1\tfuzznuc\tmisc_feature\t37\t38\t2.000\t+\t.\tSequence \"1.1\" ; note \"*pat pattern1\"\r\n",
      "1\tfuzznuc\tmisc_feature\t90\t91\t2.000\t+\t.\tSequence \"1.2\" ; note \"*pat pattern1\"\r\n",
      "1\tfuzznuc\tmisc_feature\t121\t122\t2.000\t+\t.\tSequence \"1.3\" ; note \"*pat pattern1\"\r\n",
      "1\tfuzznuc\tmisc_feature\t132\t133\t2.000\t+\t.\tSequence \"1.4\" ; note \"*pat pattern1\"\r\n",
      "1\tfuzznuc\tmisc_feature\t153\t154\t2.000\t+\t.\tSequence \"1.5\" ; note \"*pat pattern1\"\r\n",
      "1\tfuzznuc\tmisc_feature\t170\t171\t2.000\t+\t.\tSequence \"1.6\" ; note \"*pat pattern1\"\r\n",
      "1\tfuzznuc\tmisc_feature\t220\t221\t2.000\t+\t.\tSequence \"1.7\" ; note \"*pat pattern1\"\r\n"
     ]
    }
   ],
   "source": [
    "!head ../genome-feature-files/Mcap_CpG.gff"
   ]
  },
  {
   "cell_type": "code",
   "execution_count": 12,
   "metadata": {
    "ExecuteTime": {
     "end_time": "2020-04-03T05:21:06.977021Z",
     "start_time": "2020-04-03T05:21:06.842615Z"
    }
   },
   "outputs": [
    {
     "name": "stdout",
     "output_type": "stream",
     "text": [
      "3043\tfuzznuc\tmisc_feature\t19626\t19627\t2.000\t+\t.\tSequence \"3043.648\" ; note \"*pat pattern1\"\r\n",
      "3043\tfuzznuc\tmisc_feature\t19637\t19638\t2.000\t+\t.\tSequence \"3043.649\" ; note \"*pat pattern1\"\r\n",
      "3043\tfuzznuc\tmisc_feature\t19747\t19748\t2.000\t+\t.\tSequence \"3043.650\" ; note \"*pat pattern1\"\r\n",
      "3043\tfuzznuc\tmisc_feature\t19781\t19782\t2.000\t+\t.\tSequence \"3043.651\" ; note \"*pat pattern1\"\r\n",
      "3043\tfuzznuc\tmisc_feature\t19818\t19819\t2.000\t+\t.\tSequence \"3043.652\" ; note \"*pat pattern1\"\r\n",
      "3043\tfuzznuc\tmisc_feature\t19839\t19840\t2.000\t+\t.\tSequence \"3043.653\" ; note \"*pat pattern1\"\r\n",
      "3043\tfuzznuc\tmisc_feature\t19858\t19859\t2.000\t+\t.\tSequence \"3043.654\" ; note \"*pat pattern1\"\r\n",
      "3043\tfuzznuc\tmisc_feature\t19879\t19880\t2.000\t+\t.\tSequence \"3043.655\" ; note \"*pat pattern1\"\r\n",
      "3043\tfuzznuc\tmisc_feature\t20109\t20110\t2.000\t+\t.\tSequence \"3043.656\" ; note \"*pat pattern1\"\r\n",
      "3043\tfuzznuc\tmisc_feature\t20146\t20147\t2.000\t+\t.\tSequence \"3043.657\" ; note \"*pat pattern1\"\r\n"
     ]
    }
   ],
   "source": [
    "!tail ../genome-feature-files/Mcap_CpG.gff"
   ]
  },
  {
   "cell_type": "code",
   "execution_count": 2,
   "metadata": {
    "ExecuteTime": {
     "end_time": "2020-04-03T05:01:42.978378Z",
     "start_time": "2020-04-03T05:01:42.832886Z"
    },
    "scrolled": true
   },
   "outputs": [
    {
     "name": "stdout",
     "output_type": "stream",
     "text": [
      "../data/Meth10_R1_001_val_1_bismark_bt2_pe._5x.bedgraph\r\n",
      "../data/Meth11_R1_001_val_1_bismark_bt2_pe._5x.bedgraph\r\n",
      "../data/Meth12_R1_001_val_1_bismark_bt2_pe._5x.bedgraph\r\n",
      "../data/Meth13_R1_001_val_1_bismark_bt2_pe._5x.bedgraph\r\n",
      "../data/Meth14_R1_001_val_1_bismark_bt2_pe._5x.bedgraph\r\n",
      "../data/Meth15_R1_001_val_1_bismark_bt2_pe._5x.bedgraph\r\n",
      "../data/Meth16_R1_001_val_1_bismark_bt2_pe._5x.bedgraph\r\n",
      "../data/Meth17_R1_001_val_1_bismark_bt2_pe._5x.bedgraph\r\n",
      "../data/Meth18_R1_001_val_1_bismark_bt2_pe._5x.bedgraph\r\n"
     ]
    }
   ],
   "source": [
    "!ls ../data/Meth1[0-9]*"
   ]
  },
  {
   "cell_type": "code",
   "execution_count": 10,
   "metadata": {
    "ExecuteTime": {
     "end_time": "2020-04-03T05:11:20.444636Z",
     "start_time": "2020-04-03T05:11:19.659338Z"
    }
   },
   "outputs": [
    {
     "name": "stdout",
     "output_type": "stream",
     "text": [
      " 4571288 ../data/Meth10_R1_001_val_1_bismark_bt2_pe._5x.bedgraph\n",
      " 4661716 ../data/Meth11_R1_001_val_1_bismark_bt2_pe._5x.bedgraph\n",
      " 8791700 ../data/Meth12_R1_001_val_1_bismark_bt2_pe._5x.bedgraph\n",
      " 3173254 ../data/Meth13_R1_001_val_1_bismark_bt2_pe._5x.bedgraph\n",
      " 2648697 ../data/Meth14_R1_001_val_1_bismark_bt2_pe._5x.bedgraph\n",
      " 3176517 ../data/Meth15_R1_001_val_1_bismark_bt2_pe._5x.bedgraph\n",
      "  583599 ../data/Meth16_R1_001_val_1_bismark_bt2_pe._5x.bedgraph\n",
      "  242390 ../data/Meth17_R1_001_val_1_bismark_bt2_pe._5x.bedgraph\n",
      "  153392 ../data/Meth18_R1_001_val_1_bismark_bt2_pe._5x.bedgraph\n",
      " 28002553 total\n"
     ]
    }
   ],
   "source": [
    "!wc -l ../data/Meth1[0-9]*"
   ]
  },
  {
   "cell_type": "code",
   "execution_count": 13,
   "metadata": {
    "ExecuteTime": {
     "end_time": "2020-04-03T04:58:54.059168Z",
     "start_time": "2020-04-03T04:58:24.322100Z"
    }
   },
   "outputs": [
    {
     "name": "stdout",
     "output_type": "stream",
     "text": [
      "28675390\r\n"
     ]
    }
   ],
   "source": [
    "!fgrep -c \"fuzznuc\tmisc_feature\" ../genome-feature-files/Mcap_CpG.gff"
   ]
  },
  {
   "cell_type": "code",
   "execution_count": 6,
   "metadata": {
    "ExecuteTime": {
     "end_time": "2020-04-03T05:09:14.644598Z",
     "start_time": "2020-04-03T05:09:14.601692Z"
    }
   },
   "outputs": [
    {
     "data": {
      "text/plain": [
       "0.15941502452102657"
      ]
     },
     "execution_count": 6,
     "metadata": {},
     "output_type": "execute_result"
    }
   ],
   "source": [
    "4571288/28675390"
   ]
  },
  {
   "cell_type": "code",
   "execution_count": null,
   "metadata": {},
   "outputs": [],
   "source": []
  }
 ],
 "metadata": {
  "kernelspec": {
   "display_name": "Python 3",
   "language": "python",
   "name": "python3"
  },
  "language_info": {
   "codemirror_mode": {
    "name": "ipython",
    "version": 3
   },
   "file_extension": ".py",
   "mimetype": "text/x-python",
   "name": "python",
   "nbconvert_exporter": "python",
   "pygments_lexer": "ipython3",
   "version": "3.6.8"
  }
 },
 "nbformat": 4,
 "nbformat_minor": 2
}
