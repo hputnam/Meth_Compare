{
 "cells": [
  {
   "cell_type": "markdown",
   "metadata": {},
   "source": [
    "# Here we see how many of all the CpGs are captured ..."
   ]
  },
  {
   "cell_type": "code",
   "execution_count": 6,
   "metadata": {
    "ExecuteTime": {
     "end_time": "2020-04-03T04:46:17.072356Z",
     "start_time": "2020-04-03T04:46:16.927056Z"
    }
   },
   "outputs": [
    {
     "name": "stdout",
     "output_type": "stream",
     "text": [
      "-rw-r--r--@ 1 sr320  staff   3.6G Mar 29 11:49 ../genome-feature-files/C1_CpG.gff\r\n",
      "-rw-r--r--@ 1 sr320  staff   2.5G Mar 29 11:12 ../genome-feature-files/Mcap_CpG.gff\r\n",
      "-rw-r--r--@ 1 sr320  staff   1.0G Mar 29 09:30 ../genome-feature-files/Pact_CpG.gff\r\n"
     ]
    }
   ],
   "source": [
    "!ls -lh ../genome-feature-files/*CpG.gff"
   ]
  },
  {
   "cell_type": "code",
   "execution_count": null,
   "metadata": {},
   "outputs": [],
   "source": []
  }
 ],
 "metadata": {
  "kernelspec": {
   "display_name": "Python 3",
   "language": "python",
   "name": "python3"
  },
  "language_info": {
   "codemirror_mode": {
    "name": "ipython",
    "version": 3
   },
   "file_extension": ".py",
   "mimetype": "text/x-python",
   "name": "python",
   "nbconvert_exporter": "python",
   "pygments_lexer": "ipython3",
   "version": "3.6.8"
  }
 },
 "nbformat": 4,
 "nbformat_minor": 2
}
