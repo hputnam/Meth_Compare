{
 "cells": [
  {
   "cell_type": "markdown",
   "metadata": {},
   "source": [
    "# Generating Genome Feature Tracks"
   ]
  },
  {
   "cell_type": "markdown",
   "metadata": {},
   "source": [
    "## 0. Set working directory"
   ]
  },
  {
   "cell_type": "code",
   "execution_count": 1,
   "metadata": {},
   "outputs": [
    {
     "name": "stdout",
     "output_type": "stream",
     "text": [
      "/Users/yaaminivenkataraman/Documents/Meth_Compare/scripts\r\n"
     ]
    }
   ],
   "source": [
    "!pwd"
   ]
  },
  {
   "cell_type": "code",
   "execution_count": 2,
   "metadata": {},
   "outputs": [
    {
     "name": "stdout",
     "output_type": "stream",
     "text": [
      "/Users/yaaminivenkataraman/Documents/Meth_Compare\n"
     ]
    }
   ],
   "source": [
    "cd .."
   ]
  },
  {
   "cell_type": "code",
   "execution_count": null,
   "metadata": {},
   "outputs": [],
   "source": [
    "#!mkdir genome-feature-files/"
   ]
  },
  {
   "cell_type": "code",
   "execution_count": 3,
   "metadata": {},
   "outputs": [
    {
     "name": "stdout",
     "output_type": "stream",
     "text": [
      "/Users/yaaminivenkataraman/Documents/Meth_Compare/genome-feature-files\n"
     ]
    }
   ],
   "source": [
    "cd genome-feature-files/"
   ]
  },
  {
   "cell_type": "code",
   "execution_count": 3,
   "metadata": {},
   "outputs": [],
   "source": [
    "bedtoolsDirectory = \"/usr/local/bin/\""
   ]
  },
  {
   "cell_type": "code",
   "execution_count": 5,
   "metadata": {
    "scrolled": true
   },
   "outputs": [
    {
     "name": "stdout",
     "output_type": "stream",
     "text": [
      "\r\n",
      "Tool:    bedtools complement (aka complementBed)\r\n",
      "Version: v2.29.2\r\n",
      "Summary: Returns the base pair complement of a feature file.\r\n",
      "\r\n",
      "Usage:   bedtools complement [OPTIONS] -i <bed/gff/vcf> -g <genome>\r\n",
      "\r\n",
      "Options: \r\n",
      "\t-L\tLimit output to solely the chromosomes with records in the input file.\r\n",
      "\r\n",
      "Notes: \r\n",
      "\t(1)  The genome file should tab delimited and structured as follows:\r\n",
      "\t     <chromName><TAB><chromSize>\r\n",
      "\r\n",
      "\tFor example, Human (hg19):\r\n",
      "\tchr1\t249250621\r\n",
      "\tchr2\t243199373\r\n",
      "\t...\r\n",
      "\tchr18_gl000207_random\t4262\r\n",
      "\r\n",
      "Tips: \r\n",
      "\tOne can use the UCSC Genome Browser's MySQL database to extract\r\n",
      "\tchromosome sizes. For example, H. sapiens:\r\n",
      "\r\n",
      "\tmysql --user=genome --host=genome-mysql.cse.ucsc.edu -A -e \\\r\n",
      "\t\"select chrom, size from hg19.chromInfo\"  > hg19.genome\r\n",
      "\r\n",
      "\r\n",
      "\r\n",
      "\r\n"
     ]
    }
   ],
   "source": [
    "!{bedtoolsDirectory}complementBed -h"
   ]
  },
  {
   "cell_type": "markdown",
   "metadata": {},
   "source": [
    "## 1. *M. capitata*"
   ]
  },
  {
   "cell_type": "code",
   "execution_count": null,
   "metadata": {},
   "outputs": [],
   "source": [
    "#Obtain the full genome\n",
    "!wget http://cyanophora.rutgers.edu/montipora/Mcap.genome_assembly.fa.gz"
   ]
  },
  {
   "cell_type": "code",
   "execution_count": null,
   "metadata": {},
   "outputs": [],
   "source": [
    "!gunzip *gz"
   ]
  },
  {
   "cell_type": "code",
   "execution_count": null,
   "metadata": {},
   "outputs": [],
   "source": [
    "#Obtain genome feature file\n",
    "!wget http://cyanophora.rutgers.edu/montipora/Mcap.GFFannotation.gff"
   ]
  },
  {
   "cell_type": "code",
   "execution_count": 4,
   "metadata": {
    "scrolled": false
   },
   "outputs": [
    {
     "name": "stdout",
     "output_type": "stream",
     "text": [
      "1\tAUGUSTUS\tgene\t18387\t18755\t0.97\t-\t.\tg21532\r\n",
      "1\tAUGUSTUS\tCDS\t18387\t18755\t0.97\t-\t0\ttranscript_id \"g21532.t1\"; gene_id \"g21532\";\r\n",
      "1\tAUGUSTUS\tgene\t22321\t27293\t0.23\t-\t.\tg21533\r\n",
      "1\tAUGUSTUS\tCDS\t22321\t22608\t0.55\t-\t0\ttranscript_id \"g21533.t1\"; gene_id \"g21533\";\r\n",
      "1\tAUGUSTUS\tintron\t22609\t26300\t0.25\t-\t.\ttranscript_id \"g21533.t1\"; gene_id \"g21533\";\r\n",
      "1\tAUGUSTUS\tCDS\t26301\t27293\t0.29\t-\t0\ttranscript_id \"g21533.t1\"; gene_id \"g21533\";\r\n",
      "1\tAUGUSTUS\tgene\t37447\t52266\t1\t+\t.\tg21534\r\n",
      "1\tAUGUSTUS\tCDS\t37447\t37810\t1\t+\t0\ttranscript_id \"g21534.t1\"; gene_id \"g21534\";\r\n",
      "1\tAUGUSTUS\tintron\t37811\t45037\t1\t+\t.\ttranscript_id \"g21534.t1\"; gene_id \"g21534\";\r\n",
      "1\tAUGUSTUS\tCDS\t45038\t45208\t1\t+\t2\ttranscript_id \"g21534.t1\"; gene_id \"g21534\";\r\n"
     ]
    }
   ],
   "source": [
    "#Columns: chr, ?, feature type, start, end, ?, ?, ID\n",
    "!head Mcap.GFFannotation.gff.txt"
   ]
  },
  {
   "cell_type": "markdown",
   "metadata": {},
   "source": [
    "### 1a. Gene"
   ]
  },
  {
   "cell_type": "code",
   "execution_count": 19,
   "metadata": {},
   "outputs": [],
   "source": [
    "!grep \"gene\" Mcap.GFFannotation.gff.txt > Mcap.GFFannotation.gene.gff"
   ]
  },
  {
   "cell_type": "code",
   "execution_count": 20,
   "metadata": {},
   "outputs": [
    {
     "name": "stdout",
     "output_type": "stream",
     "text": [
      "1\tAUGUSTUS\tgene\t18387\t18755\t0.97\t-\t.\tg21532\n",
      "1\tAUGUSTUS\tCDS\t18387\t18755\t0.97\t-\t0\ttranscript_id \"g21532.t1\"; gene_id \"g21532\";\n",
      "1\tAUGUSTUS\tgene\t22321\t27293\t0.23\t-\t.\tg21533\n",
      "1\tAUGUSTUS\tCDS\t22321\t22608\t0.55\t-\t0\ttranscript_id \"g21533.t1\"; gene_id \"g21533\";\n",
      "1\tAUGUSTUS\tintron\t22609\t26300\t0.25\t-\t.\ttranscript_id \"g21533.t1\"; gene_id \"g21533\";\n",
      "1\tAUGUSTUS\tCDS\t26301\t27293\t0.29\t-\t0\ttranscript_id \"g21533.t1\"; gene_id \"g21533\";\n",
      "1\tAUGUSTUS\tgene\t37447\t52266\t1\t+\t.\tg21534\n",
      "1\tAUGUSTUS\tCDS\t37447\t37810\t1\t+\t0\ttranscript_id \"g21534.t1\"; gene_id \"g21534\";\n",
      "1\tAUGUSTUS\tintron\t37811\t45037\t1\t+\t.\ttranscript_id \"g21534.t1\"; gene_id \"g21534\";\n",
      "1\tAUGUSTUS\tCDS\t45038\t45208\t1\t+\t2\ttranscript_id \"g21534.t1\"; gene_id \"g21534\";\n",
      "  458273 Mcap.GFFannotation.gene.gff\n"
     ]
    }
   ],
   "source": [
    "!head Mcap.GFFannotation.gene.gff\n",
    "!wc -l Mcap.GFFannotation.gene.gff"
   ]
  },
  {
   "cell_type": "markdown",
   "metadata": {},
   "source": [
    "### 1b. CDS"
   ]
  },
  {
   "cell_type": "code",
   "execution_count": 21,
   "metadata": {},
   "outputs": [],
   "source": [
    "!grep \"CDS\" Mcap.GFFannotation.gff.txt > Mcap.GFFannotation.CDS.gff"
   ]
  },
  {
   "cell_type": "code",
   "execution_count": 22,
   "metadata": {},
   "outputs": [
    {
     "name": "stdout",
     "output_type": "stream",
     "text": [
      "1\tAUGUSTUS\tCDS\t18387\t18755\t0.97\t-\t0\ttranscript_id \"g21532.t1\"; gene_id \"g21532\";\n",
      "1\tAUGUSTUS\tCDS\t22321\t22608\t0.55\t-\t0\ttranscript_id \"g21533.t1\"; gene_id \"g21533\";\n",
      "1\tAUGUSTUS\tCDS\t26301\t27293\t0.29\t-\t0\ttranscript_id \"g21533.t1\"; gene_id \"g21533\";\n",
      "1\tAUGUSTUS\tCDS\t37447\t37810\t1\t+\t0\ttranscript_id \"g21534.t1\"; gene_id \"g21534\";\n",
      "1\tAUGUSTUS\tCDS\t45038\t45208\t1\t+\t2\ttranscript_id \"g21534.t1\"; gene_id \"g21534\";\n",
      "1\tAUGUSTUS\tCDS\t46625\t47272\t1\t+\t2\ttranscript_id \"g21534.t1\"; gene_id \"g21534\";\n",
      "1\tAUGUSTUS\tCDS\t49943\t50132\t1\t+\t2\ttranscript_id \"g21534.t1\"; gene_id \"g21534\";\n",
      "1\tAUGUSTUS\tCDS\t51903\t52266\t1\t+\t1\ttranscript_id \"g21534.t1\"; gene_id \"g21534\";\n",
      "1\tAUGUSTUS\tCDS\t58322\t59506\t1\t-\t0\ttranscript_id \"g21535.t1\"; gene_id \"g21535\";\n",
      "1\tAUGUSTUS\tCDS\t62261\t62557\t1\t-\t0\ttranscript_id \"g21535.t1\"; gene_id \"g21535\";\n",
      "  283926 Mcap.GFFannotation.CDS.gff\n"
     ]
    }
   ],
   "source": [
    "!head Mcap.GFFannotation.CDS.gff\n",
    "!wc -l Mcap.GFFannotation.CDS.gff"
   ]
  },
  {
   "cell_type": "markdown",
   "metadata": {},
   "source": [
    "### 1c. Intron"
   ]
  },
  {
   "cell_type": "code",
   "execution_count": 23,
   "metadata": {},
   "outputs": [],
   "source": [
    "!grep \"intron\" Mcap.GFFannotation.gff.txt > Mcap.GFFannotation.intron.gff"
   ]
  },
  {
   "cell_type": "code",
   "execution_count": 24,
   "metadata": {
    "scrolled": true
   },
   "outputs": [
    {
     "name": "stdout",
     "output_type": "stream",
     "text": [
      "1\tAUGUSTUS\tintron\t22609\t26300\t0.25\t-\t.\ttranscript_id \"g21533.t1\"; gene_id \"g21533\";\n",
      "1\tAUGUSTUS\tintron\t37811\t45037\t1\t+\t.\ttranscript_id \"g21534.t1\"; gene_id \"g21534\";\n",
      "1\tAUGUSTUS\tintron\t45209\t46624\t1\t+\t.\ttranscript_id \"g21534.t1\"; gene_id \"g21534\";\n",
      "1\tAUGUSTUS\tintron\t47273\t49942\t1\t+\t.\ttranscript_id \"g21534.t1\"; gene_id \"g21534\";\n",
      "1\tAUGUSTUS\tintron\t50133\t51902\t1\t+\t.\ttranscript_id \"g21534.t1\"; gene_id \"g21534\";\n",
      "1\tAUGUSTUS\tintron\t59507\t62260\t1\t-\t.\ttranscript_id \"g21535.t1\"; gene_id \"g21535\";\n",
      "1\tAUGUSTUS\tintron\t64578\t64654\t1\t+\t.\ttranscript_id \"g21536.t1\"; gene_id \"g21536\";\n",
      "1\tAUGUSTUS\tintron\t64735\t67263\t1\t+\t.\ttranscript_id \"g21536.t1\"; gene_id \"g21536\";\n",
      "1\tAUGUSTUS\tintron\t67319\t71345\t1\t+\t.\ttranscript_id \"g21536.t1\"; gene_id \"g21536\";\n",
      "1\tAUGUSTUS\tintron\t71456\t72865\t1\t+\t.\ttranscript_id \"g21536.t1\"; gene_id \"g21536\";\n",
      "  221428 Mcap.GFFannotation.intron.gff\n"
     ]
    }
   ],
   "source": [
    "!head Mcap.GFFannotation.intron.gff\n",
    "!wc -l Mcap.GFFannotation.intron.gff"
   ]
  },
  {
   "cell_type": "markdown",
   "metadata": {},
   "source": [
    "## 2. *P. acuta*"
   ]
  },
  {
   "cell_type": "code",
   "execution_count": 6,
   "metadata": {},
   "outputs": [
    {
     "name": "stdout",
     "output_type": "stream",
     "text": [
      "# This output was generated with AUGUSTUS (version 3.0.2).\r\n",
      "# AUGUSTUS is a gene prediction tool for eukaryotes written by Mario Stanke (mario.stanke@uni-greifswald.de),\r\n",
      "# Oliver Keller, Stefanie König and Lizzy Gerischer.\r\n",
      "# Please cite: Mario Stanke, Mark Diekhans, Robert Baertsch, David Haussler (2008),\r\n",
      "# Using native and syntenically mapped cDNA alignments to improve de novo gene finding\r\n",
      "# Bioinformatics 24: 637-644, doi 10.1093/bioinformatics/btn013\r\n",
      "# Sources of extrinsic information: M E \r\n",
      "# Setting 1group1gene for E.\r\n",
      "# reading in the file /data/www/augpred/webdata/predQiWN9BDi/est.hints ...\r\n",
      "# Have extrinsic information about 4524 sequences (in the specified range). \r\n",
      "# Initialising the parameters using config directory /usr/local/augustus/trunks/config/ ...\r\n",
      "# predQiWN9BDi version. Using default transition matrix.\r\n",
      "# admissible start codons and their probabilities: ATG(1), CTG(0), TTG(0)\r\n",
      "# Looks like /data/www/augpred/webdata/predQiWN9BDi/genome.fa is in fasta format.\r\n",
      "# We have hints for 4524 sequences and for 4524 of the sequences in the input set.\r\n",
      "#\r\n",
      "# ----- prediction on sequence number 1 (length = 8236, name = scaffold6cov64) -----\r\n",
      "#\r\n",
      "# Delete group HintGroup TCONS00062488, 504-8225, mult= 1, priority= 4 4 features\r\n",
      "# Delete group HintGroup TCONS00053424, 6137-6673, mult= 1, priority= 4 4 features\r\n",
      "# Deleted 2 groups because some hint was not satisfiable.\r\n",
      "# Constraints/Hints:\r\n",
      "scaffold6cov64\tb2h\tep\t11\t24\t0\t.\t.\tgrp=TCONS00046181;pri=4;src=E \"1000;0.995;0:0\"\r\n",
      "scaffold6cov64\tb2h\tep\t560\t622\t0\t.\t.\tgrp=TCONS00022569;pri=4;src=E \"3162.28;0.995;2:0\"\r\n",
      "scaffold6cov64\tb2h\tep\t602\t632\t0\t.\t.\tgrp=TCONS00016781;pri=4;src=E \"3162.28;0.995;2:0\"\r\n",
      "scaffold6cov64\tb2h\tep\t508\t831\t0\t.\t.\tgrp=TCONS00000815;pri=4;src=E \"1873.82;0.995;1:0\"\r\n",
      "scaffold6cov64\tb2h\tep\t749\t831\t0\t.\t.\tgrp=TCONS00055261;pri=4;src=E \"10000;0.995;5:0\"\r\n",
      "scaffold6cov64\tb2h\tep\t727\t834\t0\t.\t.\tgrp=TCONS00017538;pri=4;src=E \"1000;0.995;0:0\"\r\n",
      "scaffold6cov64\tb2h\tep\t759\t834\t0\t.\t.\tgrp=TCONS00016781;pri=4;src=E \"3162.28;0.995;2:0\"\r\n",
      "scaffold6cov64\tb2h\tep\t759\t834\t0\t.\t.\tgrp=TCONS00017153;pri=4;src=E \"3162.28;0.995;2:0\"\r\n",
      "scaffold6cov64\tb2h\tep\t1440\t1549\t0\t.\t.\tgrp=TCONS00017538;pri=4;src=E \"1000;0.995;0:0\"\r\n",
      "scaffold6cov64\tb2h\tep\t1472\t1549\t0\t.\t.\tgrp=TCONS00017153;pri=4;src=E \"3162.28;0.995;2:0\"\r\n",
      "scaffold6cov64\tb2h\tep\t1462\t1550\t0\t.\t.\tgrp=TCONS00016781;pri=4;src=E \"1000;0.995;0:0\"\r\n",
      "scaffold6cov64\tb2h\tep\t2015\t2029\t0\t.\t.\tgrp=TCONS00030081;pri=4;src=E \"1873.82;0.995;1:0\"\r\n",
      "scaffold6cov64\tb2h\tep\t2015\t2048\t0\t.\t.\tgrp=TCONS00030080;pri=4;src=E \"1000;0.995;0:0\"\r\n",
      "scaffold6cov64\tb2h\tep\t2033\t2059\t0\t.\t.\tgrp=TCONS00016781;pri=4;src=E \"1000;0.995;0:0\"\r\n",
      "scaffold6cov64\tb2h\tep\t2154\t2235\t0\t.\t.\tgrp=TCONS00017538;pri=4;src=E \"1000;0.995;0:0\"\r\n",
      "scaffold6cov64\tb2h\tep\t2182\t2261\t0\t.\t.\tgrp=TCONS00016781;pri=4;src=E \"1000;0.995;0:0\"\r\n",
      "scaffold6cov64\tb2h\tep\t2192\t2261\t0\t.\t.\tgrp=TCONS00017153;pri=4;src=E \"1873.82;0.995;1:0\"\r\n",
      "scaffold6cov64\tb2h\tep\t5633\t5689\t0\t.\t.\tgrp=TCONS00022087;pri=4;src=E \"17190.7;0.995;7:0\"\r\n",
      "scaffold6cov64\tb2h\tep\t5635\t5691\t0\t.\t.\tgrp=TCONS00000024;pri=4;src=E \"43287.6;0.995;12:0\"\r\n",
      "scaffold6cov64\tb2h\tep\t5631\t5710\t0\t.\t.\tgrp=TCONS00008603;pri=4;src=E \"3162.28;0.995;2:0\"\r\n",
      "scaffold6cov64\tb2h\tep\t5635\t5728\t0\t.\t.\tgrp=TCONS00002095;pri=4;src=E \"21544.3;0.995;8:0\"\r\n",
      "scaffold6cov64\tb2h\tep\t5635\t5786\t0\t.\t.\tgrp=TCONS00002886;pri=4;src=E \"10000;0.995;5:0\"\r\n",
      "scaffold6cov64\tb2h\tep\t5632\t5819\t0\t.\t.\tgrp=TCONS00051396;pri=4;src=E \"3162.28;0.995;2:0\"\r\n",
      "scaffold6cov64\tb2h\tep\t5635\t5829\t0\t.\t.\tgrp=TCONS00027358;pri=4;src=E \"1873.82;0.995;1:0\"\r\n",
      "scaffold6cov64\tb2h\tep\t5633\t5857\t0\t.\t.\tgrp=TCONS00033066;pri=4;src=E \"1000;0.995;0:0\"\r\n",
      "scaffold6cov64\tb2h\tep\t5992\t6006\t0\t.\t.\tgrp=TCONS00021398;pri=4;src=E \"1873.82;0.995;1:0\"\r\n",
      "scaffold6cov64\tb2h\tep\t5992\t6051\t0\t.\t.\tgrp=TCONS00033299;pri=4;src=E \"1000;0.995;0:0\"\r\n",
      "scaffold6cov64\tb2h\tep\t6099\t6124\t0\t.\t.\tgrp=TCONS00046524;pri=4;src=E \"1000;0.995;0:0\"\r\n",
      "scaffold6cov64\tb2h\tep\t6605\t6673\t0\t.\t.\tgrp=TCONS00034862;pri=4;src=E \"4923.88;0.995;3:0\"\r\n",
      "scaffold6cov64\tb2h\tep\t6604\t6674\t0\t.\t.\tgrp=TCONS00059277;pri=4;src=E \"1873.82;0.995;1:0\"\r\n",
      "scaffold6cov64\tb2h\tep\t7086\t7107\t0\t.\t.\tgrp=TCONS00003539;pri=4;src=E \"3162.28;0.995;2:0\"\r\n",
      "# Predicted genes for sequence number 1 on both strands\r\n",
      "# start gene g1\r\n",
      "scaffold6cov64\tAUGUSTUS\tgene\t1\t5652\t0.46\t-\t.\tg1\r\n",
      "scaffold6cov64\tAUGUSTUS\ttranscript\t1\t5652\t0.19\t-\t.\tg1.t1\r\n",
      "scaffold6cov64\tAUGUSTUS\tinternal\t495\t842\t0.84\t-\t2\ttranscript_id \"g1.t1\"; gene_id \"g1\";\r\n",
      "scaffold6cov64\tAUGUSTUS\tinternal\t1208\t1555\t0.92\t-\t2\ttranscript_id \"g1.t1\"; gene_id \"g1\";\r\n",
      "scaffold6cov64\tAUGUSTUS\tinternal\t1922\t2269\t1\t-\t2\ttranscript_id \"g1.t1\"; gene_id \"g1\";\r\n",
      "scaffold6cov64\tAUGUSTUS\tinitial\t5583\t5652\t0.26\t-\t0\ttranscript_id \"g1.t1\"; gene_id \"g1\";\r\n",
      "scaffold6cov64\tAUGUSTUS\tintron\t1\t494\t0.82\t-\t.\ttranscript_id \"g1.t1\"; gene_id \"g1\";\r\n",
      "scaffold6cov64\tAUGUSTUS\tintron\t843\t1207\t0.92\t-\t.\ttranscript_id \"g1.t1\"; gene_id \"g1\";\r\n",
      "scaffold6cov64\tAUGUSTUS\tintron\t1556\t1921\t1\t-\t.\ttranscript_id \"g1.t1\"; gene_id \"g1\";\r\n",
      "scaffold6cov64\tAUGUSTUS\tintron\t2270\t5582\t0.23\t-\t.\ttranscript_id \"g1.t1\"; gene_id \"g1\";\r\n",
      "scaffold6cov64\tAUGUSTUS\tCDS\t495\t842\t0.84\t-\t2\ttranscript_id \"g1.t1\"; gene_id \"g1\";\r\n",
      "scaffold6cov64\tAUGUSTUS\tCDS\t1208\t1555\t0.92\t-\t2\ttranscript_id \"g1.t1\"; gene_id \"g1\";\r\n",
      "scaffold6cov64\tAUGUSTUS\tCDS\t1922\t2269\t1\t-\t2\ttranscript_id \"g1.t1\"; gene_id \"g1\";\r\n",
      "scaffold6cov64\tAUGUSTUS\tCDS\t5583\t5652\t0.26\t-\t0\ttranscript_id \"g1.t1\"; gene_id \"g1\";\r\n",
      "scaffold6cov64\tAUGUSTUS\tstart_codon\t5650\t5652\t.\t-\t0\ttranscript_id \"g1.t1\"; gene_id \"g1\";\r\n"
     ]
    }
   ],
   "source": [
    "#This file is the results of the structural annotation performed on the genes predicted from AUGUSTUS. \n",
    "#It give the position of genes, transcripts, exon (initial, internal and terminal) \n",
    "#CDS, intron, start codon and stop codon on the genome sequence. \n",
    "#It is in gff format.\n",
    "!head -n70 Structural_annotation_abintio.gff"
   ]
  },
  {
   "cell_type": "markdown",
   "metadata": {},
   "source": [
    "According to [this tutorial](https://vcru.wisc.edu/simonlab/bioinformatics/programs/augustus/docs/tutorial2015/prediction.html), predicted genes will be tagged with \"AUGUSTUS\". The other indicators are indicative of the genes used to train the AUGUSTUS algorithm. I'll parse out tracks based on the \"AUGUSTUS\" indicator."
   ]
  },
  {
   "cell_type": "markdown",
   "metadata": {},
   "source": [
    "### 2a. Genes"
   ]
  },
  {
   "cell_type": "code",
   "execution_count": 43,
   "metadata": {},
   "outputs": [],
   "source": [
    "#Extract AUGUSTUS predicted genes\n",
    "!grep \"AUGUSTUS\tgene\" Structural_annotation_abintio.gff \\\n",
    "> Pact.GFFannotation.Genes.gff"
   ]
  },
  {
   "cell_type": "code",
   "execution_count": 5,
   "metadata": {},
   "outputs": [
    {
     "name": "stdout",
     "output_type": "stream",
     "text": [
      "scaffold6cov64\tAUGUSTUS\tgene\t1\t5652\t0.46\t-\t.\tg1\r\n",
      "scaffold6cov64\tAUGUSTUS\tgene\t5805\t6678\t0.57\t+\t.\tg2\r\n",
      "scaffold7cov100\tAUGUSTUS\tgene\t1\t2566\t0.96\t+\t.\tg3\r\n",
      "scaffold7cov100\tAUGUSTUS\tgene\t3467\t6217\t0.78\t-\t.\tg4\r\n",
      "scaffold7cov100\tAUGUSTUS\tgene\t7069\t9073\t1\t-\t.\tg5\r\n",
      "scaffold7cov100\tAUGUSTUS\tgene\t9590\t11670\t0.8\t-\t.\tg6\r\n",
      "scaffold7cov100\tAUGUSTUS\tgene\t13339\t15463\t0.92\t-\t.\tg7\r\n",
      "scaffold7cov100\tAUGUSTUS\tgene\t15738\t18320\t0.96\t+\t.\tg8\r\n",
      "scaffold7cov100\tAUGUSTUS\tgene\t18586\t19270\t0.99\t-\t.\tg9\r\n",
      "scaffold7cov100\tAUGUSTUS\tgene\t19312\t20050\t0.74\t+\t.\tg10\r\n"
     ]
    }
   ],
   "source": [
    "!head Pact.GFFannotation.Genes.gff"
   ]
  },
  {
   "cell_type": "code",
   "execution_count": 4,
   "metadata": {},
   "outputs": [
    {
     "name": "stdout",
     "output_type": "stream",
     "text": [
      "   64558 ../genome-feature-files/Pact.GFFannotation.Genes.gff\r\n"
     ]
    }
   ],
   "source": [
    "#Count is in agreement with paper: https://www.biorxiv.org/content/10.1101/698688v2.full.pdf\n",
    "!wc -l Pact.GFFannotation.Genes.gff"
   ]
  },
  {
   "cell_type": "markdown",
   "metadata": {},
   "source": [
    "### 2b. Transcripts"
   ]
  },
  {
   "cell_type": "code",
   "execution_count": 46,
   "metadata": {},
   "outputs": [],
   "source": [
    "!grep \"AUGUSTUS\ttranscript\" Structural_annotation_abintio.gff \\\n",
    "> Pact.GFFannotation.Transcripts.gff"
   ]
  },
  {
   "cell_type": "code",
   "execution_count": 47,
   "metadata": {
    "scrolled": true
   },
   "outputs": [
    {
     "name": "stdout",
     "output_type": "stream",
     "text": [
      "scaffold6cov64\tAUGUSTUS\ttranscript\t1\t5652\t0.19\t-\t.\tg1.t1\r\n",
      "scaffold6cov64\tAUGUSTUS\ttranscript\t1\t5652\t0.27\t-\t.\tg1.t2\r\n",
      "scaffold6cov64\tAUGUSTUS\ttranscript\t5805\t6678\t0.31\t+\t.\tg2.t1\r\n",
      "scaffold6cov64\tAUGUSTUS\ttranscript\t5805\t6678\t0.26\t+\t.\tg2.t2\r\n",
      "scaffold7cov100\tAUGUSTUS\ttranscript\t1\t2566\t0.96\t+\t.\tg3.t1\r\n",
      "scaffold7cov100\tAUGUSTUS\ttranscript\t3467\t6217\t0.37\t-\t.\tg4.t1\r\n",
      "scaffold7cov100\tAUGUSTUS\ttranscript\t3467\t6211\t0.41\t-\t.\tg4.t2\r\n",
      "scaffold7cov100\tAUGUSTUS\ttranscript\t7069\t8781\t0.27\t-\t.\tg5.t1\r\n",
      "scaffold7cov100\tAUGUSTUS\ttranscript\t7069\t9073\t0.73\t-\t.\tg5.t2\r\n",
      "scaffold7cov100\tAUGUSTUS\ttranscript\t9590\t11670\t0.8\t-\t.\tg6.t1\r\n"
     ]
    }
   ],
   "source": [
    "!head Pact.GFFannotation.Transcripts.gff"
   ]
  },
  {
   "cell_type": "code",
   "execution_count": 48,
   "metadata": {},
   "outputs": [
    {
     "name": "stdout",
     "output_type": "stream",
     "text": [
      "   79509 ../genome-feature-files/Pact.GFFannotation.Transcripts.gff\r\n"
     ]
    }
   ],
   "source": [
    "#Count is in agreement with paper: https://www.biorxiv.org/content/10.1101/698688v2.full.pdf\n",
    "!wc -l Pact.GFFannotation.Transcripts.gff"
   ]
  },
  {
   "cell_type": "markdown",
   "metadata": {},
   "source": [
    "### 2c. Exons"
   ]
  },
  {
   "cell_type": "markdown",
   "metadata": {},
   "source": [
    "#### Initial"
   ]
  },
  {
   "cell_type": "code",
   "execution_count": 49,
   "metadata": {},
   "outputs": [],
   "source": [
    "!grep \"AUGUSTUS\tinitial\" Structural_annotation_abintio.gff \\\n",
    "> Pact.GFFannotation.InitialExon.gff"
   ]
  },
  {
   "cell_type": "code",
   "execution_count": 50,
   "metadata": {},
   "outputs": [
    {
     "name": "stdout",
     "output_type": "stream",
     "text": [
      "scaffold6cov64\tAUGUSTUS\tinitial\t5583\t5652\t0.26\t-\t0\ttranscript_id \"g1.t1\"; gene_id \"g1\";\r\n",
      "scaffold6cov64\tAUGUSTUS\tinitial\t5594\t5652\t0.54\t-\t0\ttranscript_id \"g1.t2\"; gene_id \"g1\";\r\n",
      "scaffold6cov64\tAUGUSTUS\tinitial\t5805\t5838\t0.98\t+\t0\ttranscript_id \"g2.t1\"; gene_id \"g2\";\r\n",
      "scaffold6cov64\tAUGUSTUS\tinitial\t5805\t5838\t0.98\t+\t0\ttranscript_id \"g2.t2\"; gene_id \"g2\";\r\n",
      "scaffold7cov100\tAUGUSTUS\tinitial\t6091\t6217\t0.48\t-\t0\ttranscript_id \"g4.t1\"; gene_id \"g4\";\r\n",
      "scaffold7cov100\tAUGUSTUS\tinitial\t6091\t6211\t0.52\t-\t0\ttranscript_id \"g4.t2\"; gene_id \"g4\";\r\n",
      "scaffold7cov100\tAUGUSTUS\tinitial\t8770\t8781\t0.27\t-\t0\ttranscript_id \"g5.t1\"; gene_id \"g5\";\r\n",
      "scaffold7cov100\tAUGUSTUS\tinitial\t9026\t9073\t0.73\t-\t0\ttranscript_id \"g5.t2\"; gene_id \"g5\";\r\n",
      "scaffold7cov100\tAUGUSTUS\tinitial\t11649\t11670\t0.84\t-\t0\ttranscript_id \"g6.t1\"; gene_id \"g6\";\r\n",
      "scaffold7cov100\tAUGUSTUS\tinitial\t15379\t15463\t0.93\t-\t0\ttranscript_id \"g7.t1\"; gene_id \"g7\";\r\n"
     ]
    }
   ],
   "source": [
    "!head Pact.GFFannotation.InitialExon.gff"
   ]
  },
  {
   "cell_type": "code",
   "execution_count": 51,
   "metadata": {},
   "outputs": [
    {
     "name": "stdout",
     "output_type": "stream",
     "text": [
      "   64191 ../genome-feature-files/Pact.GFFannotation.InitialExon.gff\r\n"
     ]
    }
   ],
   "source": [
    "!wc -l Pact.GFFannotation.InitialExon.gff"
   ]
  },
  {
   "cell_type": "markdown",
   "metadata": {},
   "source": [
    "#### Internal"
   ]
  },
  {
   "cell_type": "code",
   "execution_count": 52,
   "metadata": {},
   "outputs": [],
   "source": [
    "!grep \"AUGUSTUS\tinternal\" Structural_annotation_abintio.gff \\\n",
    "> Pact.GFFannotation.InternalExon.gff"
   ]
  },
  {
   "cell_type": "code",
   "execution_count": 7,
   "metadata": {
    "scrolled": true
   },
   "outputs": [
    {
     "name": "stdout",
     "output_type": "stream",
     "text": [
      "scaffold6cov64\tAUGUSTUS\tinternal\t495\t842\t0.84\t-\t2\ttranscript_id \"g1.t1\"; gene_id \"g1\";\r\n",
      "scaffold6cov64\tAUGUSTUS\tinternal\t1208\t1555\t0.92\t-\t2\ttranscript_id \"g1.t1\"; gene_id \"g1\";\r\n",
      "scaffold6cov64\tAUGUSTUS\tinternal\t1922\t2269\t1\t-\t2\ttranscript_id \"g1.t1\"; gene_id \"g1\";\r\n",
      "scaffold6cov64\tAUGUSTUS\tinternal\t495\t842\t0.84\t-\t2\ttranscript_id \"g1.t2\"; gene_id \"g1\";\r\n",
      "scaffold6cov64\tAUGUSTUS\tinternal\t1208\t1555\t0.92\t-\t2\ttranscript_id \"g1.t2\"; gene_id \"g1\";\r\n",
      "scaffold6cov64\tAUGUSTUS\tinternal\t1922\t2269\t1\t-\t2\ttranscript_id \"g1.t2\"; gene_id \"g1\";\r\n",
      "scaffold6cov64\tAUGUSTUS\tinternal\t4754\t4851\t0.4\t-\t1\ttranscript_id \"g1.t2\"; gene_id \"g1\";\r\n",
      "scaffold6cov64\tAUGUSTUS\tinternal\t5946\t6267\t0.33\t+\t2\ttranscript_id \"g2.t1\"; gene_id \"g2\";\r\n",
      "scaffold6cov64\tAUGUSTUS\tinternal\t5982\t6267\t0.27\t+\t2\ttranscript_id \"g2.t2\"; gene_id \"g2\";\r\n",
      "scaffold7cov100\tAUGUSTUS\tinternal\t4058\t4180\t1\t-\t0\ttranscript_id \"g4.t1\"; gene_id \"g4\";\r\n"
     ]
    }
   ],
   "source": [
    "!head Pact.GFFannotation.InternalExon.gff"
   ]
  },
  {
   "cell_type": "code",
   "execution_count": 54,
   "metadata": {},
   "outputs": [
    {
     "name": "stdout",
     "output_type": "stream",
     "text": [
      "  175953 ../genome-feature-files/Pact.GFFannotation.InternalExon.gff\r\n"
     ]
    }
   ],
   "source": [
    "!wc -l Pact.GFFannotation.InternalExon.gff"
   ]
  },
  {
   "cell_type": "markdown",
   "metadata": {},
   "source": [
    "#### Terminal"
   ]
  },
  {
   "cell_type": "code",
   "execution_count": 55,
   "metadata": {},
   "outputs": [],
   "source": [
    "!grep \"AUGUSTUS\tterminal\" Structural_annotation_abintio.gff \\\n",
    "> Pact.GFFannotation.TerminalExon.gff"
   ]
  },
  {
   "cell_type": "code",
   "execution_count": 56,
   "metadata": {
    "scrolled": true
   },
   "outputs": [
    {
     "name": "stdout",
     "output_type": "stream",
     "text": [
      "scaffold6cov64\tAUGUSTUS\tterminal\t6567\t6678\t0.95\t+\t1\ttranscript_id \"g2.t1\"; gene_id \"g2\";\r\n",
      "scaffold6cov64\tAUGUSTUS\tterminal\t6567\t6678\t0.95\t+\t1\ttranscript_id \"g2.t2\"; gene_id \"g2\";\r\n",
      "scaffold7cov100\tAUGUSTUS\tterminal\t1\t2566\t0.96\t+\t1\ttranscript_id \"g3.t1\"; gene_id \"g3\";\r\n",
      "scaffold7cov100\tAUGUSTUS\tterminal\t3467\t3589\t0.78\t-\t0\ttranscript_id \"g4.t1\"; gene_id \"g4\";\r\n",
      "scaffold7cov100\tAUGUSTUS\tterminal\t3467\t3589\t0.78\t-\t0\ttranscript_id \"g4.t2\"; gene_id \"g4\";\r\n",
      "scaffold7cov100\tAUGUSTUS\tterminal\t7069\t7103\t1\t-\t2\ttranscript_id \"g5.t1\"; gene_id \"g5\";\r\n",
      "scaffold7cov100\tAUGUSTUS\tterminal\t7069\t7103\t1\t-\t2\ttranscript_id \"g5.t2\"; gene_id \"g5\";\r\n",
      "scaffold7cov100\tAUGUSTUS\tterminal\t9590\t9724\t1\t-\t0\ttranscript_id \"g6.t1\"; gene_id \"g6\";\r\n",
      "scaffold7cov100\tAUGUSTUS\tterminal\t13339\t13349\t0.99\t-\t2\ttranscript_id \"g7.t1\"; gene_id \"g7\";\r\n",
      "scaffold7cov100\tAUGUSTUS\tterminal\t18586\t18756\t1\t-\t0\ttranscript_id \"g9.t1\"; gene_id \"g9\";\r\n"
     ]
    }
   ],
   "source": [
    "!head Pact.GFFannotation.TerminalExon.gff"
   ]
  },
  {
   "cell_type": "code",
   "execution_count": 57,
   "metadata": {},
   "outputs": [
    {
     "name": "stdout",
     "output_type": "stream",
     "text": [
      "   65977 ../genome-feature-files/Pact.GFFannotation.TerminalExon.gff\r\n"
     ]
    }
   ],
   "source": [
    "!wc -l Pact.GFFannotation.TerminalExon.gff"
   ]
  },
  {
   "cell_type": "markdown",
   "metadata": {},
   "source": [
    "#### All Exons"
   ]
  },
  {
   "cell_type": "code",
   "execution_count": 58,
   "metadata": {},
   "outputs": [],
   "source": [
    "#Combine individual exon tracks\n",
    "!cat Pact.GFFannotation.InitialExon.gff \\\n",
    "Pact.GFFannotation.InternalExon.gff \\\n",
    "Pact.GFFannotation.TerminalExon.gff \\\n",
    "> Pact.GFFannotation.Exon.gff"
   ]
  },
  {
   "cell_type": "code",
   "execution_count": 18,
   "metadata": {},
   "outputs": [
    {
     "name": "stdout",
     "output_type": "stream",
     "text": [
      "scaffold159493cov109\tAUGUSTUS\tterminal\t48977\t49057\t0.2\t+\t0\ttranscript_id \"g64547.t1\"; gene_id \"g64547\";\n",
      "scaffold159493cov109\tAUGUSTUS\tterminal\t50330\t50500\t0.64\t+\t0\ttranscript_id \"g64547.t2\"; gene_id \"g64547\";\n",
      "scaffold159493cov109\tAUGUSTUS\tterminal\t66826\t66906\t0.85\t+\t0\ttranscript_id \"g64550.t1\"; gene_id \"g64550\";\n",
      "scaffold159493cov109\tAUGUSTUS\tterminal\t67103\t67202\t0.94\t-\t1\ttranscript_id \"g64551.t1\"; gene_id \"g64551\";\n",
      "scaffold159493cov109\tAUGUSTUS\tterminal\t77687\t77959\t1\t-\t0\ttranscript_id \"g64553.t1\"; gene_id \"g64553\";\n",
      "scaffold159493cov109\tAUGUSTUS\tterminal\t83824\t83874\t0.93\t-\t0\ttranscript_id \"g64554.t1\"; gene_id \"g64554\";\n",
      "scaffold159493cov109\tAUGUSTUS\tterminal\t92216\t92841\t1\t-\t2\ttranscript_id \"g64556.t1\"; gene_id \"g64556\";\n",
      "scaffold159493cov109\tAUGUSTUS\tterminal\t99427\t99458\t0.28\t+\t2\ttranscript_id \"g64557.t1\"; gene_id \"g64557\";\n",
      "scaffold159493cov109\tAUGUSTUS\tterminal\t99390\t99436\t0.32\t+\t2\ttranscript_id \"g64557.t2\"; gene_id \"g64557\";\n",
      "scaffold159493cov109\tAUGUSTUS\tterminal\t99693\t99922\t1\t+\t2\ttranscript_id \"g64558.t1\"; gene_id \"g64558\";\n",
      "  306121 Pact.GFFannotation.Exon.gff\n"
     ]
    }
   ],
   "source": [
    "!tail Pact.GFFannotation.Exon.gff\n",
    "!wc -l Pact.GFFannotation.Exon.gff"
   ]
  },
  {
   "cell_type": "markdown",
   "metadata": {},
   "source": [
    "### 2d. CDS"
   ]
  },
  {
   "cell_type": "code",
   "execution_count": 60,
   "metadata": {},
   "outputs": [],
   "source": [
    "!grep \"AUGUSTUS\tCDS\" ../genome-feature-files/Structural_annotation_abintio.gff \\\n",
    "> ../genome-feature-files/Pact.GFFannotation.CDS.gff"
   ]
  },
  {
   "cell_type": "code",
   "execution_count": 61,
   "metadata": {
    "scrolled": true
   },
   "outputs": [
    {
     "name": "stdout",
     "output_type": "stream",
     "text": [
      "scaffold6cov64\tAUGUSTUS\tCDS\t495\t842\t0.84\t-\t2\ttranscript_id \"g1.t1\"; gene_id \"g1\";\r\n",
      "scaffold6cov64\tAUGUSTUS\tCDS\t1208\t1555\t0.92\t-\t2\ttranscript_id \"g1.t1\"; gene_id \"g1\";\r\n",
      "scaffold6cov64\tAUGUSTUS\tCDS\t1922\t2269\t1\t-\t2\ttranscript_id \"g1.t1\"; gene_id \"g1\";\r\n",
      "scaffold6cov64\tAUGUSTUS\tCDS\t5583\t5652\t0.26\t-\t0\ttranscript_id \"g1.t1\"; gene_id \"g1\";\r\n",
      "scaffold6cov64\tAUGUSTUS\tCDS\t495\t842\t0.84\t-\t2\ttranscript_id \"g1.t2\"; gene_id \"g1\";\r\n",
      "scaffold6cov64\tAUGUSTUS\tCDS\t1208\t1555\t0.92\t-\t2\ttranscript_id \"g1.t2\"; gene_id \"g1\";\r\n",
      "scaffold6cov64\tAUGUSTUS\tCDS\t1922\t2269\t1\t-\t2\ttranscript_id \"g1.t2\"; gene_id \"g1\";\r\n",
      "scaffold6cov64\tAUGUSTUS\tCDS\t4754\t4851\t0.4\t-\t1\ttranscript_id \"g1.t2\"; gene_id \"g1\";\r\n",
      "scaffold6cov64\tAUGUSTUS\tCDS\t5594\t5652\t0.54\t-\t0\ttranscript_id \"g1.t2\"; gene_id \"g1\";\r\n",
      "scaffold6cov64\tAUGUSTUS\tCDS\t5805\t5838\t0.98\t+\t0\ttranscript_id \"g2.t1\"; gene_id \"g2\";\r\n"
     ]
    }
   ],
   "source": [
    "!head ../genome-feature-files/Pact.GFFannotation.CDS.gff"
   ]
  },
  {
   "cell_type": "code",
   "execution_count": 62,
   "metadata": {},
   "outputs": [
    {
     "name": "stdout",
     "output_type": "stream",
     "text": [
      "  318484 ../genome-feature-files/Pact.GFFannotation.CDS.gff\r\n"
     ]
    }
   ],
   "source": [
    "!wc -l ../genome-feature-files/Pact.GFFannotation.CDS.gff"
   ]
  },
  {
   "cell_type": "markdown",
   "metadata": {},
   "source": [
    "### 2e. Intron"
   ]
  },
  {
   "cell_type": "code",
   "execution_count": 63,
   "metadata": {},
   "outputs": [],
   "source": [
    "!grep \"AUGUSTUS\tintron\" ../genome-feature-files/Structural_annotation_abintio.gff \\\n",
    "> ../genome-feature-files/Pact.GFFannotation.Intron.gff"
   ]
  },
  {
   "cell_type": "code",
   "execution_count": 64,
   "metadata": {
    "scrolled": true
   },
   "outputs": [
    {
     "name": "stdout",
     "output_type": "stream",
     "text": [
      "scaffold6cov64\tAUGUSTUS\tintron\t1\t494\t0.82\t-\t.\ttranscript_id \"g1.t1\"; gene_id \"g1\";\r\n",
      "scaffold6cov64\tAUGUSTUS\tintron\t843\t1207\t0.92\t-\t.\ttranscript_id \"g1.t1\"; gene_id \"g1\";\r\n",
      "scaffold6cov64\tAUGUSTUS\tintron\t1556\t1921\t1\t-\t.\ttranscript_id \"g1.t1\"; gene_id \"g1\";\r\n",
      "scaffold6cov64\tAUGUSTUS\tintron\t2270\t5582\t0.23\t-\t.\ttranscript_id \"g1.t1\"; gene_id \"g1\";\r\n",
      "scaffold6cov64\tAUGUSTUS\tintron\t1\t494\t0.82\t-\t.\ttranscript_id \"g1.t2\"; gene_id \"g1\";\r\n",
      "scaffold6cov64\tAUGUSTUS\tintron\t843\t1207\t0.92\t-\t.\ttranscript_id \"g1.t2\"; gene_id \"g1\";\r\n",
      "scaffold6cov64\tAUGUSTUS\tintron\t1556\t1921\t1\t-\t.\ttranscript_id \"g1.t2\"; gene_id \"g1\";\r\n",
      "scaffold6cov64\tAUGUSTUS\tintron\t2270\t4753\t0.4\t-\t.\ttranscript_id \"g1.t2\"; gene_id \"g1\";\r\n",
      "scaffold6cov64\tAUGUSTUS\tintron\t4852\t5593\t0.48\t-\t.\ttranscript_id \"g1.t2\"; gene_id \"g1\";\r\n",
      "scaffold6cov64\tAUGUSTUS\tintron\t5839\t5945\t0.54\t+\t.\ttranscript_id \"g2.t1\"; gene_id \"g2\";\r\n"
     ]
    }
   ],
   "source": [
    "!head ../genome-feature-files/Pact.GFFannotation.Intron.gff"
   ]
  },
  {
   "cell_type": "code",
   "execution_count": 65,
   "metadata": {},
   "outputs": [
    {
     "name": "stdout",
     "output_type": "stream",
     "text": [
      "  241534 ../genome-feature-files/Pact.GFFannotation.Intron.gff\r\n"
     ]
    }
   ],
   "source": [
    "!wc -l ../genome-feature-files/Pact.GFFannotation.Intron.gff"
   ]
  }
 ],
 "metadata": {
  "kernelspec": {
   "display_name": "Python 3",
   "language": "python",
   "name": "python3"
  },
  "language_info": {
   "codemirror_mode": {
    "name": "ipython",
    "version": 3
   },
   "file_extension": ".py",
   "mimetype": "text/x-python",
   "name": "python",
   "nbconvert_exporter": "python",
   "pygments_lexer": "ipython3",
   "version": "3.7.4"
  }
 },
 "nbformat": 4,
 "nbformat_minor": 2
}
