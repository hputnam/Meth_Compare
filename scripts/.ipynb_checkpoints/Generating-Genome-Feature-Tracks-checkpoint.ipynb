{
 "cells": [
  {
   "cell_type": "markdown",
   "metadata": {},
   "source": [
    "# Generating Genome Feature Tracks"
   ]
  },
  {
   "cell_type": "markdown",
   "metadata": {},
   "source": [
    "## 0. Set working directory"
   ]
  },
  {
   "cell_type": "code",
   "execution_count": 1,
   "metadata": {},
   "outputs": [
    {
     "name": "stdout",
     "output_type": "stream",
     "text": [
      "/Users/yaaminivenkataraman/Documents/Meth_Compare/scripts\r\n"
     ]
    }
   ],
   "source": [
    "!pwd"
   ]
  },
  {
   "cell_type": "code",
   "execution_count": 2,
   "metadata": {},
   "outputs": [
    {
     "name": "stdout",
     "output_type": "stream",
     "text": [
      "/Users/yaaminivenkataraman/Documents/Meth_Compare\n"
     ]
    }
   ],
   "source": [
    "cd .."
   ]
  },
  {
   "cell_type": "code",
   "execution_count": null,
   "metadata": {},
   "outputs": [],
   "source": [
    "!mkdir genome-feature-files/"
   ]
  },
  {
   "cell_type": "code",
   "execution_count": 3,
   "metadata": {},
   "outputs": [
    {
     "name": "stdout",
     "output_type": "stream",
     "text": [
      "/Users/yaaminivenkataraman/Documents/Meth_Compare/genome-feature-files\n"
     ]
    }
   ],
   "source": [
    "cd genome-feature-files/"
   ]
  },
  {
   "cell_type": "markdown",
   "metadata": {},
   "source": [
    "## 1. *M. capitata*"
   ]
  },
  {
   "cell_type": "code",
   "execution_count": null,
   "metadata": {},
   "outputs": [],
   "source": [
    "#Obtain the full genome\n",
    "!wget http://cyanophora.rutgers.edu/montipora/Mcap.genome_assembly.fa.gz"
   ]
  },
  {
   "cell_type": "code",
   "execution_count": null,
   "metadata": {},
   "outputs": [],
   "source": [
    "!gunzip *gz"
   ]
  },
  {
   "cell_type": "code",
   "execution_count": null,
   "metadata": {},
   "outputs": [],
   "source": [
    "#Obtain genome feature file\n",
    "!wget http://cyanophora.rutgers.edu/montipora/Mcap.GFFannotation.gff"
   ]
  },
  {
   "cell_type": "code",
   "execution_count": 4,
   "metadata": {
    "scrolled": false
   },
   "outputs": [
    {
     "name": "stdout",
     "output_type": "stream",
     "text": [
      "1\tAUGUSTUS\tgene\t18387\t18755\t0.97\t-\t.\tg21532\r\n",
      "1\tAUGUSTUS\tCDS\t18387\t18755\t0.97\t-\t0\ttranscript_id \"g21532.t1\"; gene_id \"g21532\";\r\n",
      "1\tAUGUSTUS\tgene\t22321\t27293\t0.23\t-\t.\tg21533\r\n",
      "1\tAUGUSTUS\tCDS\t22321\t22608\t0.55\t-\t0\ttranscript_id \"g21533.t1\"; gene_id \"g21533\";\r\n",
      "1\tAUGUSTUS\tintron\t22609\t26300\t0.25\t-\t.\ttranscript_id \"g21533.t1\"; gene_id \"g21533\";\r\n",
      "1\tAUGUSTUS\tCDS\t26301\t27293\t0.29\t-\t0\ttranscript_id \"g21533.t1\"; gene_id \"g21533\";\r\n",
      "1\tAUGUSTUS\tgene\t37447\t52266\t1\t+\t.\tg21534\r\n",
      "1\tAUGUSTUS\tCDS\t37447\t37810\t1\t+\t0\ttranscript_id \"g21534.t1\"; gene_id \"g21534\";\r\n",
      "1\tAUGUSTUS\tintron\t37811\t45037\t1\t+\t.\ttranscript_id \"g21534.t1\"; gene_id \"g21534\";\r\n",
      "1\tAUGUSTUS\tCDS\t45038\t45208\t1\t+\t2\ttranscript_id \"g21534.t1\"; gene_id \"g21534\";\r\n"
     ]
    }
   ],
   "source": [
    "#Columns: chr, ?, feature type, start, end, ?, ?, ID\n",
    "!head Mcap.GFFannotation.gff.txt"
   ]
  },
  {
   "cell_type": "markdown",
   "metadata": {},
   "source": [
    "### 1a. Gene"
   ]
  },
  {
   "cell_type": "code",
   "execution_count": 19,
   "metadata": {},
   "outputs": [],
   "source": [
    "!grep \"gene\" Mcap.GFFannotation.gff.txt > Mcap.GFFannotation.gene.gff"
   ]
  },
  {
   "cell_type": "code",
   "execution_count": 20,
   "metadata": {},
   "outputs": [
    {
     "name": "stdout",
     "output_type": "stream",
     "text": [
      "1\tAUGUSTUS\tgene\t18387\t18755\t0.97\t-\t.\tg21532\n",
      "1\tAUGUSTUS\tCDS\t18387\t18755\t0.97\t-\t0\ttranscript_id \"g21532.t1\"; gene_id \"g21532\";\n",
      "1\tAUGUSTUS\tgene\t22321\t27293\t0.23\t-\t.\tg21533\n",
      "1\tAUGUSTUS\tCDS\t22321\t22608\t0.55\t-\t0\ttranscript_id \"g21533.t1\"; gene_id \"g21533\";\n",
      "1\tAUGUSTUS\tintron\t22609\t26300\t0.25\t-\t.\ttranscript_id \"g21533.t1\"; gene_id \"g21533\";\n",
      "1\tAUGUSTUS\tCDS\t26301\t27293\t0.29\t-\t0\ttranscript_id \"g21533.t1\"; gene_id \"g21533\";\n",
      "1\tAUGUSTUS\tgene\t37447\t52266\t1\t+\t.\tg21534\n",
      "1\tAUGUSTUS\tCDS\t37447\t37810\t1\t+\t0\ttranscript_id \"g21534.t1\"; gene_id \"g21534\";\n",
      "1\tAUGUSTUS\tintron\t37811\t45037\t1\t+\t.\ttranscript_id \"g21534.t1\"; gene_id \"g21534\";\n",
      "1\tAUGUSTUS\tCDS\t45038\t45208\t1\t+\t2\ttranscript_id \"g21534.t1\"; gene_id \"g21534\";\n",
      "  458273 Mcap.GFFannotation.gene.gff\n"
     ]
    }
   ],
   "source": [
    "!head Mcap.GFFannotation.gene.gff\n",
    "!wc -l Mcap.GFFannotation.gene.gff"
   ]
  },
  {
   "cell_type": "markdown",
   "metadata": {},
   "source": [
    "### 1b. CDS"
   ]
  },
  {
   "cell_type": "code",
   "execution_count": 21,
   "metadata": {},
   "outputs": [],
   "source": [
    "!grep \"CDS\" Mcap.GFFannotation.gff.txt > Mcap.GFFannotation.CDS.gff"
   ]
  },
  {
   "cell_type": "code",
   "execution_count": 22,
   "metadata": {},
   "outputs": [
    {
     "name": "stdout",
     "output_type": "stream",
     "text": [
      "1\tAUGUSTUS\tCDS\t18387\t18755\t0.97\t-\t0\ttranscript_id \"g21532.t1\"; gene_id \"g21532\";\n",
      "1\tAUGUSTUS\tCDS\t22321\t22608\t0.55\t-\t0\ttranscript_id \"g21533.t1\"; gene_id \"g21533\";\n",
      "1\tAUGUSTUS\tCDS\t26301\t27293\t0.29\t-\t0\ttranscript_id \"g21533.t1\"; gene_id \"g21533\";\n",
      "1\tAUGUSTUS\tCDS\t37447\t37810\t1\t+\t0\ttranscript_id \"g21534.t1\"; gene_id \"g21534\";\n",
      "1\tAUGUSTUS\tCDS\t45038\t45208\t1\t+\t2\ttranscript_id \"g21534.t1\"; gene_id \"g21534\";\n",
      "1\tAUGUSTUS\tCDS\t46625\t47272\t1\t+\t2\ttranscript_id \"g21534.t1\"; gene_id \"g21534\";\n",
      "1\tAUGUSTUS\tCDS\t49943\t50132\t1\t+\t2\ttranscript_id \"g21534.t1\"; gene_id \"g21534\";\n",
      "1\tAUGUSTUS\tCDS\t51903\t52266\t1\t+\t1\ttranscript_id \"g21534.t1\"; gene_id \"g21534\";\n",
      "1\tAUGUSTUS\tCDS\t58322\t59506\t1\t-\t0\ttranscript_id \"g21535.t1\"; gene_id \"g21535\";\n",
      "1\tAUGUSTUS\tCDS\t62261\t62557\t1\t-\t0\ttranscript_id \"g21535.t1\"; gene_id \"g21535\";\n",
      "  283926 Mcap.GFFannotation.CDS.gff\n"
     ]
    }
   ],
   "source": [
    "!head Mcap.GFFannotation.CDS.gff\n",
    "!wc -l Mcap.GFFannotation.CDS.gff"
   ]
  },
  {
   "cell_type": "markdown",
   "metadata": {},
   "source": [
    "### 1c. Intron"
   ]
  },
  {
   "cell_type": "code",
   "execution_count": 23,
   "metadata": {},
   "outputs": [],
   "source": [
    "!grep \"intron\" Mcap.GFFannotation.gff.txt > Mcap.GFFannotation.intron.gff"
   ]
  },
  {
   "cell_type": "code",
   "execution_count": null,
   "metadata": {},
   "outputs": [
    {
     "name": "stdout",
     "output_type": "stream",
     "text": [
      "1\tAUGUSTUS\tintron\t22609\t26300\t0.25\t-\t.\ttranscript_id \"g21533.t1\"; gene_id \"g21533\";\r\n",
      "1\tAUGUSTUS\tintron\t37811\t45037\t1\t+\t.\ttranscript_id \"g21534.t1\"; gene_id \"g21534\";\r\n",
      "1\tAUGUSTUS\tintron\t45209\t46624\t1\t+\t.\ttranscript_id \"g21534.t1\"; gene_id \"g21534\";\r\n",
      "1\tAUGUSTUS\tintron\t47273\t49942\t1\t+\t.\ttranscript_id \"g21534.t1\"; gene_id \"g21534\";\r\n",
      "1\tAUGUSTUS\tintron\t50133\t51902\t1\t+\t.\ttranscript_id \"g21534.t1\"; gene_id \"g21534\";\r\n",
      "1\tAUGUSTUS\tintron\t59507\t62260\t1\t-\t.\ttranscript_id \"g21535.t1\"; gene_id \"g21535\";\r\n",
      "1\tAUGUSTUS\tintron\t64578\t64654\t1\t+\t.\ttranscript_id \"g21536.t1\"; gene_id \"g21536\";\r\n",
      "1\tAUGUSTUS\tintron\t64735\t67263\t1\t+\t.\ttranscript_id \"g21536.t1\"; gene_id \"g21536\";\r\n",
      "1\tAUGUSTUS\tintron\t67319\t71345\t1\t+\t.\ttranscript_id \"g21536.t1\"; gene_id \"g21536\";\r\n",
      "1\tAUGUSTUS\tintron\t71456\t72865\t1\t+\t.\ttranscript_id \"g21536.t1\"; gene_id \"g21536\";\r\n"
     ]
    }
   ],
   "source": [
    "!head Mcap.GFFannotation.intron.gff\n",
    "!wc -l Mcap.GFFannotation.intron.gff"
   ]
  },
  {
   "cell_type": "code",
   "execution_count": null,
   "metadata": {},
   "outputs": [],
   "source": []
  }
 ],
 "metadata": {
  "kernelspec": {
   "display_name": "Python 3",
   "language": "python",
   "name": "python3"
  },
  "language_info": {
   "codemirror_mode": {
    "name": "ipython",
    "version": 3
   },
   "file_extension": ".py",
   "mimetype": "text/x-python",
   "name": "python",
   "nbconvert_exporter": "python",
   "pygments_lexer": "ipython3",
   "version": "3.7.4"
  }
 },
 "nbformat": 4,
 "nbformat_minor": 2
}
