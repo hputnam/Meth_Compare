{
 "cells": [
  {
   "cell_type": "markdown",
   "metadata": {},
   "source": [
    "# Characterizing CpG Methylation\n",
    "\n",
    "In this notebook, general methylation landscapes in *Montipora capitata* and *Pocillopora acuta* will be characterized based on WGSB, RRBS, and MBD-BSseq data.\n",
    "\n",
    "1. Download coverage files\n",
    "2. Characterize methylation for each CpG dinucleotide\n",
    "3. Characterize genomic locations of all sequenced data, methylated CpGs, sparsely methylated CpGs, and unmethylated CpGs for each sequencing type\n",
    "4. Identify methylation islands for each species\n",
    "5. Characterize genomic location of methylation islands"
   ]
  },
  {
   "cell_type": "markdown",
   "metadata": {},
   "source": [
    "## 0. Set working directory"
   ]
  },
  {
   "cell_type": "code",
   "execution_count": 1,
   "metadata": {},
   "outputs": [
    {
     "name": "stdout",
     "output_type": "stream",
     "text": [
      "/Users/yaaminivenkataraman/Documents/Meth_Compare/scripts\r\n"
     ]
    }
   ],
   "source": [
    "!pwd"
   ]
  },
  {
   "cell_type": "code",
   "execution_count": 2,
   "metadata": {},
   "outputs": [
    {
     "name": "stdout",
     "output_type": "stream",
     "text": [
      "/Users/yaaminivenkataraman/Documents/Meth_Compare/analyses\n"
     ]
    }
   ],
   "source": [
    "cd ../analyses/"
   ]
  },
  {
   "cell_type": "code",
   "execution_count": 3,
   "metadata": {},
   "outputs": [],
   "source": [
    "#!mkdir Characterizing-CpG-Methylation"
   ]
  },
  {
   "cell_type": "code",
   "execution_count": 3,
   "metadata": {},
   "outputs": [
    {
     "name": "stdout",
     "output_type": "stream",
     "text": [
      "/Users/yaaminivenkataraman/Documents/Meth_Compare/analyses/Characterizing-CpG-Methylation\n"
     ]
    }
   ],
   "source": [
    "cd Characterizing-CpG-Methylation/"
   ]
  },
  {
   "cell_type": "markdown",
   "metadata": {},
   "source": [
    "## 1. Download coverage files"
   ]
  },
  {
   "cell_type": "markdown",
   "metadata": {},
   "source": [
    "### 1a. *M. capitata*"
   ]
  },
  {
   "cell_type": "code",
   "execution_count": 16,
   "metadata": {
    "scrolled": true
   },
   "outputs": [
    {
     "name": "stdout",
     "output_type": "stream",
     "text": [
      "--2020-03-07 13:14:04--  https://gannet.fish.washington.edu/tmp/Mcap_full-u1M/dedup/\n",
      "Resolving gannet.fish.washington.edu... 128.95.149.52\n",
      "Connecting to gannet.fish.washington.edu|128.95.149.52|:443... connected.\n",
      "HTTP request sent, awaiting response... 200 OK\n",
      "Length: unspecified [text/html]\n",
      "Saving to: ‘gannet.fish.washington.edu/tmp/Mcap_full-u1M/dedup/index.html.tmp’\n",
      "\n",
      "gannet.fish.washing     [ <=>                ]  49.55K  --.-KB/s    in 0.006s  \n",
      "\n",
      "2020-03-07 13:14:05 (7.89 MB/s) - ‘gannet.fish.washington.edu/tmp/Mcap_full-u1M/dedup/index.html.tmp’ saved [50740]\n",
      "\n",
      "Loading robots.txt; please ignore errors.\n",
      "--2020-03-07 13:14:05--  https://gannet.fish.washington.edu/robots.txt\n",
      "Reusing existing connection to gannet.fish.washington.edu:443.\n",
      "HTTP request sent, awaiting response... 404 Not Found\n",
      "2020-03-07 13:14:05 ERROR 404: Not Found.\n",
      "\n",
      "Removing gannet.fish.washington.edu/tmp/Mcap_full-u1M/dedup/index.html.tmp since it should be rejected.\n",
      "\n",
      "--2020-03-07 13:14:05--  https://gannet.fish.washington.edu/tmp/Mcap_full-u1M/dedup/?C=N;O=D\n",
      "Reusing existing connection to gannet.fish.washington.edu:443.\n",
      "HTTP request sent, awaiting response... 200 OK\n",
      "Length: unspecified [text/html]\n",
      "Saving to: ‘gannet.fish.washington.edu/tmp/Mcap_full-u1M/dedup/index.html?C=N;O=D.tmp’\n",
      "\n",
      "gannet.fish.washing     [ <=>                ]  49.55K  --.-KB/s    in 0.01s   \n",
      "\n",
      "2020-03-07 13:14:06 (4.36 MB/s) - ‘gannet.fish.washington.edu/tmp/Mcap_full-u1M/dedup/index.html?C=N;O=D.tmp’ saved [50740]\n",
      "\n",
      "Removing gannet.fish.washington.edu/tmp/Mcap_full-u1M/dedup/index.html?C=N;O=D.tmp since it should be rejected.\n",
      "\n",
      "--2020-03-07 13:14:06--  https://gannet.fish.washington.edu/tmp/Mcap_full-u1M/dedup/?C=M;O=A\n",
      "Reusing existing connection to gannet.fish.washington.edu:443.\n",
      "HTTP request sent, awaiting response... 200 OK\n",
      "Length: unspecified [text/html]\n",
      "Saving to: ‘gannet.fish.washington.edu/tmp/Mcap_full-u1M/dedup/index.html?C=M;O=A.tmp’\n",
      "\n",
      "gannet.fish.washing     [ <=>                ]  49.55K  --.-KB/s    in 0.008s  \n",
      "\n",
      "2020-03-07 13:14:06 (6.07 MB/s) - ‘gannet.fish.washington.edu/tmp/Mcap_full-u1M/dedup/index.html?C=M;O=A.tmp’ saved [50740]\n",
      "\n",
      "Removing gannet.fish.washington.edu/tmp/Mcap_full-u1M/dedup/index.html?C=M;O=A.tmp since it should be rejected.\n",
      "\n",
      "--2020-03-07 13:14:06--  https://gannet.fish.washington.edu/tmp/Mcap_full-u1M/dedup/?C=S;O=A\n",
      "Reusing existing connection to gannet.fish.washington.edu:443.\n",
      "HTTP request sent, awaiting response... 200 OK\n",
      "Length: unspecified [text/html]\n",
      "Saving to: ‘gannet.fish.washington.edu/tmp/Mcap_full-u1M/dedup/index.html?C=S;O=A.tmp’\n",
      "\n",
      "gannet.fish.washing     [ <=>                ]  49.55K  --.-KB/s    in 0.009s  \n",
      "\n",
      "2020-03-07 13:14:07 (5.66 MB/s) - ‘gannet.fish.washington.edu/tmp/Mcap_full-u1M/dedup/index.html?C=S;O=A.tmp’ saved [50740]\n",
      "\n",
      "Removing gannet.fish.washington.edu/tmp/Mcap_full-u1M/dedup/index.html?C=S;O=A.tmp since it should be rejected.\n",
      "\n",
      "--2020-03-07 13:14:07--  https://gannet.fish.washington.edu/tmp/Mcap_full-u1M/dedup/?C=D;O=A\n",
      "Reusing existing connection to gannet.fish.washington.edu:443.\n",
      "HTTP request sent, awaiting response... 200 OK\n",
      "Length: unspecified [text/html]\n",
      "Saving to: ‘gannet.fish.washington.edu/tmp/Mcap_full-u1M/dedup/index.html?C=D;O=A.tmp’\n",
      "\n",
      "gannet.fish.washing     [ <=>                ]  49.55K  --.-KB/s    in 0.009s  \n",
      "\n",
      "2020-03-07 13:14:08 (5.60 MB/s) - ‘gannet.fish.washington.edu/tmp/Mcap_full-u1M/dedup/index.html?C=D;O=A.tmp’ saved [50740]\n",
      "\n",
      "Removing gannet.fish.washington.edu/tmp/Mcap_full-u1M/dedup/index.html?C=D;O=A.tmp since it should be rejected.\n",
      "\n",
      "Warning: wildcards not supported in HTTP.\n",
      "--2020-03-07 13:14:08--  https://gannet.fish.washington.edu/tmp/Mcap_full-u1M/dedup/*merged_CpG_evidence.cov_10x.bedgraph\n",
      "Reusing existing connection to gannet.fish.washington.edu:443.\n",
      "HTTP request sent, awaiting response... 200 OK\n",
      "Length: 0 [text/plain]\n",
      "Saving to: ‘gannet.fish.washington.edu/tmp/Mcap_full-u1M/dedup/*merged_CpG_evidence.cov_10x.bedgraph’\n",
      "\n",
      "gannet.fish.washing     [ <=>                ]       0  --.-KB/s    in 0s      \n",
      "\n",
      "2020-03-07 13:14:08 (0.00 B/s) - ‘gannet.fish.washington.edu/tmp/Mcap_full-u1M/dedup/*merged_CpG_evidence.cov_10x.bedgraph’ saved [0/0]\n",
      "\n",
      "--2020-03-07 13:14:08--  https://gannet.fish.washington.edu/tmp/Mcap_full-u1M/dedup/Meth10.fastp-trim.202003063900_R1_001_bismark_bt2_pe._10x.bedgraph\n",
      "Reusing existing connection to gannet.fish.washington.edu:443.\n",
      "HTTP request sent, awaiting response... 200 OK\n",
      "Length: 243388 (238K)\n",
      "Saving to: ‘gannet.fish.washington.edu/tmp/Mcap_full-u1M/dedup/Meth10.fastp-trim.202003063900_R1_001_bismark_bt2_pe._10x.bedgraph’\n",
      "\n",
      "gannet.fish.washing 100%[===================>] 237.68K  --.-KB/s    in 0.03s   \n",
      "\n",
      "2020-03-07 13:14:08 (7.98 MB/s) - ‘gannet.fish.washington.edu/tmp/Mcap_full-u1M/dedup/Meth10.fastp-trim.202003063900_R1_001_bismark_bt2_pe._10x.bedgraph’ saved [243388/243388]\n",
      "\n",
      "--2020-03-07 13:14:08--  https://gannet.fish.washington.edu/tmp/Mcap_full-u1M/dedup/Meth11.fastp-trim.202003065734_R1_001_bismark_bt2_pe._10x.bedgraph\n",
      "Reusing existing connection to gannet.fish.washington.edu:443.\n",
      "HTTP request sent, awaiting response... 200 OK\n",
      "Length: 295876 (289K)\n",
      "Saving to: ‘gannet.fish.washington.edu/tmp/Mcap_full-u1M/dedup/Meth11.fastp-trim.202003065734_R1_001_bismark_bt2_pe._10x.bedgraph’\n",
      "\n",
      "gannet.fish.washing 100%[===================>] 288.94K  --.-KB/s    in 0.03s   \n",
      "\n",
      "2020-03-07 13:14:08 (9.42 MB/s) - ‘gannet.fish.washington.edu/tmp/Mcap_full-u1M/dedup/Meth11.fastp-trim.202003065734_R1_001_bismark_bt2_pe._10x.bedgraph’ saved [295876/295876]\n",
      "\n",
      "--2020-03-07 13:14:08--  https://gannet.fish.washington.edu/tmp/Mcap_full-u1M/dedup/Meth12.fastp-trim.202003060645_R1_001_bismark_bt2_pe._10x.bedgraph\n",
      "Reusing existing connection to gannet.fish.washington.edu:443.\n",
      "HTTP request sent, awaiting response... 200 OK\n",
      "Length: 238978 (233K)\n",
      "Saving to: ‘gannet.fish.washington.edu/tmp/Mcap_full-u1M/dedup/Meth12.fastp-trim.202003060645_R1_001_bismark_bt2_pe._10x.bedgraph’\n",
      "\n",
      "gannet.fish.washing 100%[===================>] 233.38K  --.-KB/s    in 0.02s   \n",
      "\n",
      "2020-03-07 13:14:08 (10.6 MB/s) - ‘gannet.fish.washington.edu/tmp/Mcap_full-u1M/dedup/Meth12.fastp-trim.202003060645_R1_001_bismark_bt2_pe._10x.bedgraph’ saved [238978/238978]\n",
      "\n",
      "--2020-03-07 13:14:08--  https://gannet.fish.washington.edu/tmp/Mcap_full-u1M/dedup/Meth16.fastp-trim.202003062412_R1_001_bismark_bt2_pe._10x.bedgraph\n",
      "Reusing existing connection to gannet.fish.washington.edu:443.\n",
      "HTTP request sent, awaiting response... 200 OK\n",
      "Length: 195512 (191K)\n",
      "Saving to: ‘gannet.fish.washington.edu/tmp/Mcap_full-u1M/dedup/Meth16.fastp-trim.202003062412_R1_001_bismark_bt2_pe._10x.bedgraph’\n",
      "\n",
      "gannet.fish.washing 100%[===================>] 190.93K  --.-KB/s    in 0.02s   \n",
      "\n",
      "2020-03-07 13:14:09 (8.56 MB/s) - ‘gannet.fish.washington.edu/tmp/Mcap_full-u1M/dedup/Meth16.fastp-trim.202003062412_R1_001_bismark_bt2_pe._10x.bedgraph’ saved [195512/195512]\n",
      "\n",
      "--2020-03-07 13:14:09--  https://gannet.fish.washington.edu/tmp/Mcap_full-u1M/dedup/Meth17.fastp-trim.202003063731_R1_001_bismark_bt2_pe._10x.bedgraph\n",
      "Reusing existing connection to gannet.fish.washington.edu:443.\n",
      "HTTP request sent, awaiting response... 200 OK\n",
      "Length: 127635 (125K)\n",
      "Saving to: ‘gannet.fish.washington.edu/tmp/Mcap_full-u1M/dedup/Meth17.fastp-trim.202003063731_R1_001_bismark_bt2_pe._10x.bedgraph’\n",
      "\n",
      "gannet.fish.washing 100%[===================>] 124.64K  --.-KB/s    in 0.01s   \n",
      "\n",
      "2020-03-07 13:14:09 (8.53 MB/s) - ‘gannet.fish.washington.edu/tmp/Mcap_full-u1M/dedup/Meth17.fastp-trim.202003063731_R1_001_bismark_bt2_pe._10x.bedgraph’ saved [127635/127635]\n",
      "\n",
      "--2020-03-07 13:14:09--  https://gannet.fish.washington.edu/tmp/Mcap_full-u1M/dedup/Meth18.fastp-trim.202003065117_R1_001_bismark_bt2_pe._10x.bedgraph\n",
      "Reusing existing connection to gannet.fish.washington.edu:443.\n",
      "HTTP request sent, awaiting response... 200 OK\n",
      "Length: 100170 (98K)\n",
      "Saving to: ‘gannet.fish.washington.edu/tmp/Mcap_full-u1M/dedup/Meth18.fastp-trim.202003065117_R1_001_bismark_bt2_pe._10x.bedgraph’\n",
      "\n",
      "gannet.fish.washing 100%[===================>]  97.82K  --.-KB/s    in 0.008s  \n",
      "\n",
      "2020-03-07 13:14:09 (12.3 MB/s) - ‘gannet.fish.washington.edu/tmp/Mcap_full-u1M/dedup/Meth18.fastp-trim.202003065117_R1_001_bismark_bt2_pe._10x.bedgraph’ saved [100170/100170]\n",
      "\n",
      "FINISHED --2020-03-07 13:14:09--\n",
      "Total wall clock time: 5.0s\n",
      "Downloaded: 12 files, 1.4M in 0.2s (8.32 MB/s)\n"
     ]
    }
   ],
   "source": [
    "#Download Mcap WGBS and MBD-BS 10x sample bedgraphs\n",
    "!wget -r -l1 --no-parent -A \"*_10x.bedgraph\" https://gannet.fish.washington.edu/tmp/Mcap_full-u1M/dedup/"
   ]
  },
  {
   "cell_type": "code",
   "execution_count": 17,
   "metadata": {},
   "outputs": [],
   "source": [
    "#Move samples from directory structure on gannet to cd\n",
    "!mv gannet.fish.washington.edu/tmp/Mcap_full-u1M/dedup/* ."
   ]
  },
  {
   "cell_type": "code",
   "execution_count": 20,
   "metadata": {},
   "outputs": [],
   "source": [
    "#Remove empty directory\n",
    "!rm -r gannet.fish.washington.edu/"
   ]
  },
  {
   "cell_type": "code",
   "execution_count": 76,
   "metadata": {
    "scrolled": true
   },
   "outputs": [
    {
     "name": "stdout",
     "output_type": "stream",
     "text": [
      "--2020-03-07 14:36:50--  https://gannet.fish.washington.edu/tmp/Mcap_full-u1M/nodedup/\n",
      "Resolving gannet.fish.washington.edu... 128.95.149.52\n",
      "Connecting to gannet.fish.washington.edu|128.95.149.52|:443... connected.\n",
      "HTTP request sent, awaiting response... 200 OK\n",
      "Length: unspecified [text/html]\n",
      "Saving to: ‘gannet.fish.washington.edu/tmp/Mcap_full-u1M/nodedup/index.html.tmp’\n",
      "\n",
      "gannet.fish.washing     [ <=>                ]  23.48K  --.-KB/s    in 0.005s  \n",
      "\n",
      "2020-03-07 14:36:50 (4.74 MB/s) - ‘gannet.fish.washington.edu/tmp/Mcap_full-u1M/nodedup/index.html.tmp’ saved [24044]\n",
      "\n",
      "Loading robots.txt; please ignore errors.\n",
      "--2020-03-07 14:36:50--  https://gannet.fish.washington.edu/robots.txt\n",
      "Reusing existing connection to gannet.fish.washington.edu:443.\n",
      "HTTP request sent, awaiting response... 404 Not Found\n",
      "2020-03-07 14:36:50 ERROR 404: Not Found.\n",
      "\n",
      "Removing gannet.fish.washington.edu/tmp/Mcap_full-u1M/nodedup/index.html.tmp since it should be rejected.\n",
      "\n",
      "--2020-03-07 14:36:50--  https://gannet.fish.washington.edu/tmp/Mcap_full-u1M/nodedup/?C=N;O=D\n",
      "Reusing existing connection to gannet.fish.washington.edu:443.\n",
      "HTTP request sent, awaiting response... 200 OK\n",
      "Length: unspecified [text/html]\n",
      "Saving to: ‘gannet.fish.washington.edu/tmp/Mcap_full-u1M/nodedup/index.html?C=N;O=D.tmp’\n",
      "\n",
      "gannet.fish.washing     [ <=>                ]  23.48K  --.-KB/s    in 0.004s  \n",
      "\n",
      "2020-03-07 14:36:51 (5.53 MB/s) - ‘gannet.fish.washington.edu/tmp/Mcap_full-u1M/nodedup/index.html?C=N;O=D.tmp’ saved [24044]\n",
      "\n",
      "Removing gannet.fish.washington.edu/tmp/Mcap_full-u1M/nodedup/index.html?C=N;O=D.tmp since it should be rejected.\n",
      "\n",
      "--2020-03-07 14:36:51--  https://gannet.fish.washington.edu/tmp/Mcap_full-u1M/nodedup/?C=M;O=A\n",
      "Reusing existing connection to gannet.fish.washington.edu:443.\n",
      "HTTP request sent, awaiting response... 200 OK\n",
      "Length: unspecified [text/html]\n",
      "Saving to: ‘gannet.fish.washington.edu/tmp/Mcap_full-u1M/nodedup/index.html?C=M;O=A.tmp’\n",
      "\n",
      "gannet.fish.washing     [ <=>                ]  23.48K  --.-KB/s    in 0.005s  \n",
      "\n",
      "2020-03-07 14:36:51 (4.50 MB/s) - ‘gannet.fish.washington.edu/tmp/Mcap_full-u1M/nodedup/index.html?C=M;O=A.tmp’ saved [24044]\n",
      "\n",
      "Removing gannet.fish.washington.edu/tmp/Mcap_full-u1M/nodedup/index.html?C=M;O=A.tmp since it should be rejected.\n",
      "\n",
      "--2020-03-07 14:36:51--  https://gannet.fish.washington.edu/tmp/Mcap_full-u1M/nodedup/?C=S;O=A\n",
      "Reusing existing connection to gannet.fish.washington.edu:443.\n",
      "HTTP request sent, awaiting response... 200 OK\n",
      "Length: unspecified [text/html]\n",
      "Saving to: ‘gannet.fish.washington.edu/tmp/Mcap_full-u1M/nodedup/index.html?C=S;O=A.tmp’\n",
      "\n",
      "gannet.fish.washing     [ <=>                ]  23.48K  --.-KB/s    in 0.006s  \n",
      "\n",
      "2020-03-07 14:36:51 (3.66 MB/s) - ‘gannet.fish.washington.edu/tmp/Mcap_full-u1M/nodedup/index.html?C=S;O=A.tmp’ saved [24044]\n",
      "\n",
      "Removing gannet.fish.washington.edu/tmp/Mcap_full-u1M/nodedup/index.html?C=S;O=A.tmp since it should be rejected.\n",
      "\n",
      "--2020-03-07 14:36:51--  https://gannet.fish.washington.edu/tmp/Mcap_full-u1M/nodedup/?C=D;O=A\n",
      "Reusing existing connection to gannet.fish.washington.edu:443.\n",
      "HTTP request sent, awaiting response... 200 OK\n",
      "Length: unspecified [text/html]\n",
      "Saving to: ‘gannet.fish.washington.edu/tmp/Mcap_full-u1M/nodedup/index.html?C=D;O=A.tmp’\n",
      "\n",
      "gannet.fish.washing     [ <=>                ]  23.48K  --.-KB/s    in 0.001s  \n",
      "\n",
      "2020-03-07 14:36:52 (21.5 MB/s) - ‘gannet.fish.washington.edu/tmp/Mcap_full-u1M/nodedup/index.html?C=D;O=A.tmp’ saved [24044]\n",
      "\n",
      "Removing gannet.fish.washington.edu/tmp/Mcap_full-u1M/nodedup/index.html?C=D;O=A.tmp since it should be rejected.\n",
      "\n",
      "Warning: wildcards not supported in HTTP.\n",
      "--2020-03-07 14:36:52--  https://gannet.fish.washington.edu/tmp/Mcap_full-u1M/nodedup/*merged_CpG_evidence.cov_10x.bedgraph\n",
      "Reusing existing connection to gannet.fish.washington.edu:443.\n",
      "HTTP request sent, awaiting response... 200 OK\n",
      "Length: 0 [text/plain]\n",
      "Saving to: ‘gannet.fish.washington.edu/tmp/Mcap_full-u1M/nodedup/*merged_CpG_evidence.cov_10x.bedgraph’\n",
      "\n",
      "gannet.fish.washing     [ <=>                ]       0  --.-KB/s    in 0s      \n",
      "\n",
      "2020-03-07 14:36:52 (0.00 B/s) - ‘gannet.fish.washington.edu/tmp/Mcap_full-u1M/nodedup/*merged_CpG_evidence.cov_10x.bedgraph’ saved [0/0]\n",
      "\n",
      "--2020-03-07 14:36:52--  https://gannet.fish.washington.edu/tmp/Mcap_full-u1M/nodedup/Meth13.fastp-trim.202003062040_R1_001_bismark_bt2_pe_10x.bedgraph\n",
      "Reusing existing connection to gannet.fish.washington.edu:443.\n",
      "HTTP request sent, awaiting response... 200 OK\n",
      "Length: 37776617 (36M)\n",
      "Saving to: ‘gannet.fish.washington.edu/tmp/Mcap_full-u1M/nodedup/Meth13.fastp-trim.202003062040_R1_001_bismark_bt2_pe_10x.bedgraph’\n",
      "\n",
      "gannet.fish.washing 100%[===================>]  36.03M  15.0MB/s    in 2.4s    \n",
      "\n",
      "2020-03-07 14:36:54 (15.0 MB/s) - ‘gannet.fish.washington.edu/tmp/Mcap_full-u1M/nodedup/Meth13.fastp-trim.202003062040_R1_001_bismark_bt2_pe_10x.bedgraph’ saved [37776617/37776617]\n",
      "\n",
      "--2020-03-07 14:36:54--  https://gannet.fish.washington.edu/tmp/Mcap_full-u1M/nodedup/Meth14.fastp-trim.202003064415_R1_001_bismark_bt2_pe_10x.bedgraph\n",
      "Reusing existing connection to gannet.fish.washington.edu:443.\n",
      "HTTP request sent, awaiting response... 200 OK\n",
      "Length: 31672793 (30M)\n",
      "Saving to: ‘gannet.fish.washington.edu/tmp/Mcap_full-u1M/nodedup/Meth14.fastp-trim.202003064415_R1_001_bismark_bt2_pe_10x.bedgraph’\n",
      "\n",
      "gannet.fish.washing 100%[===================>]  30.21M  17.5MB/s    in 1.7s    \n",
      "\n",
      "2020-03-07 14:36:56 (17.5 MB/s) - ‘gannet.fish.washington.edu/tmp/Mcap_full-u1M/nodedup/Meth14.fastp-trim.202003064415_R1_001_bismark_bt2_pe_10x.bedgraph’ saved [31672793/31672793]\n",
      "\n",
      "--2020-03-07 14:36:56--  https://gannet.fish.washington.edu/tmp/Mcap_full-u1M/nodedup/Meth15.fastp-trim.202003065503_R1_001_bismark_bt2_pe_10x.bedgraph\n",
      "Reusing existing connection to gannet.fish.washington.edu:443.\n",
      "HTTP request sent, awaiting response... 200 OK\n",
      "Length: 33322280 (32M)\n",
      "Saving to: ‘gannet.fish.washington.edu/tmp/Mcap_full-u1M/nodedup/Meth15.fastp-trim.202003065503_R1_001_bismark_bt2_pe_10x.bedgraph’\n",
      "\n",
      "gannet.fish.washing 100%[===================>]  31.78M  18.3MB/s    in 1.7s    \n",
      "\n",
      "2020-03-07 14:36:58 (18.3 MB/s) - ‘gannet.fish.washington.edu/tmp/Mcap_full-u1M/nodedup/Meth15.fastp-trim.202003065503_R1_001_bismark_bt2_pe_10x.bedgraph’ saved [33322280/33322280]\n",
      "\n",
      "FINISHED --2020-03-07 14:36:58--\n",
      "Total wall clock time: 7.7s\n",
      "Downloaded: 9 files, 98M in 5.9s (16.7 MB/s)\n"
     ]
    }
   ],
   "source": [
    "#Download Mcap RRBS 10x sample bedgraphs\n",
    "!wget -r -l1 --no-parent -A \"*_10x.bedgraph\" https://gannet.fish.washington.edu/tmp/Mcap_full-u1M/nodedup/"
   ]
  },
  {
   "cell_type": "code",
   "execution_count": 77,
   "metadata": {},
   "outputs": [],
   "source": [
    "#Move samples from directory structure on gannet to cd\n",
    "!mv gannet.fish.washington.edu/tmp/Mcap_full-u1M/nodedup/* ."
   ]
  },
  {
   "cell_type": "code",
   "execution_count": 78,
   "metadata": {},
   "outputs": [],
   "source": [
    "#Remove empty directory\n",
    "!rm -r gannet.fish.washington.edu/"
   ]
  },
  {
   "cell_type": "code",
   "execution_count": 80,
   "metadata": {},
   "outputs": [
    {
     "name": "stdout",
     "output_type": "stream",
     "text": [
      "Meth10.fastp-trim.202003063900_R1_001_bismark_bt2_pe._10x.bedgraph\r\n",
      "Meth11.fastp-trim.202003065734_R1_001_bismark_bt2_pe._10x.bedgraph\r\n",
      "Meth12.fastp-trim.202003060645_R1_001_bismark_bt2_pe._10x.bedgraph\r\n",
      "Meth13.fastp-trim.202003062040_R1_001_bismark_bt2_pe_10x.bedgraph\r\n",
      "Meth14.fastp-trim.202003064415_R1_001_bismark_bt2_pe_10x.bedgraph\r\n",
      "Meth15.fastp-trim.202003065503_R1_001_bismark_bt2_pe_10x.bedgraph\r\n",
      "Meth16.fastp-trim.202003062412_R1_001_bismark_bt2_pe._10x.bedgraph\r\n",
      "Meth17.fastp-trim.202003063731_R1_001_bismark_bt2_pe._10x.bedgraph\r\n",
      "Meth18.fastp-trim.202003065117_R1_001_bismark_bt2_pe._10x.bedgraph\r\n"
     ]
    }
   ],
   "source": [
    "!find *bedgraph"
   ]
  },
  {
   "cell_type": "code",
   "execution_count": 81,
   "metadata": {
    "scrolled": true
   },
   "outputs": [],
   "source": [
    "%%bash\n",
    "\n",
    "for f in *bedgraph\n",
    "do\n",
    "    cat ${f} > ${f}-Mcap\n",
    "done"
   ]
  },
  {
   "cell_type": "code",
   "execution_count": 82,
   "metadata": {
    "scrolled": false
   },
   "outputs": [
    {
     "name": "stdout",
     "output_type": "stream",
     "text": [
      "2\t1779837\t1779839\t0.000000\r\n",
      "2\t1779853\t1779855\t0.000000\r\n",
      "2\t1779898\t1779900\t0.000000\r\n",
      "2\t1804233\t1804235\t0.000000\r\n",
      "2\t1804297\t1804299\t0.000000\r\n",
      "2\t1804303\t1804305\t4.000000\r\n",
      "2\t1804306\t1804308\t0.000000\r\n",
      "2\t1804322\t1804324\t0.000000\r\n",
      "2\t1804347\t1804349\t7.142857\r\n",
      "2\t1804359\t1804361\t0.000000\r\n"
     ]
    }
   ],
   "source": [
    "#Columns: chr, start, end, %meth\n",
    "!head Meth10.fastp-trim.202003063900_R1_001_bismark_bt2_pe._10x.bedgraph-Mcap"
   ]
  },
  {
   "cell_type": "code",
   "execution_count": 83,
   "metadata": {
    "scrolled": false
   },
   "outputs": [
    {
     "name": "stdout",
     "output_type": "stream",
     "text": [
      "    9099 Meth10.fastp-trim.202003063900_R1_001_bismark_bt2_pe._10x.bedgraph-Mcap\n",
      "   11090 Meth11.fastp-trim.202003065734_R1_001_bismark_bt2_pe._10x.bedgraph-Mcap\n",
      "    8966 Meth12.fastp-trim.202003060645_R1_001_bismark_bt2_pe._10x.bedgraph-Mcap\n",
      " 1405400 Meth13.fastp-trim.202003062040_R1_001_bismark_bt2_pe_10x.bedgraph-Mcap\n",
      " 1177284 Meth14.fastp-trim.202003064415_R1_001_bismark_bt2_pe_10x.bedgraph-Mcap\n",
      " 1238727 Meth15.fastp-trim.202003065503_R1_001_bismark_bt2_pe_10x.bedgraph-Mcap\n",
      "    7230 Meth16.fastp-trim.202003062412_R1_001_bismark_bt2_pe._10x.bedgraph-Mcap\n",
      "    4776 Meth17.fastp-trim.202003063731_R1_001_bismark_bt2_pe._10x.bedgraph-Mcap\n",
      "    3739 Meth18.fastp-trim.202003065117_R1_001_bismark_bt2_pe._10x.bedgraph-Mcap\n",
      " 3866311 total\n"
     ]
    }
   ],
   "source": [
    "!wc -l *bedgraph-Mcap"
   ]
  },
  {
   "cell_type": "markdown",
   "metadata": {},
   "source": [
    "### 1b. *P. acuta*"
   ]
  },
  {
   "cell_type": "markdown",
   "metadata": {},
   "source": [
    "## 2. Characterize methylation for each CpG dinucleotide\n",
    "\n",
    "- Methylated: > 50% methylation\n",
    "- Sparsely methylated: 10-50% methylation\n",
    "- Unmethylated: < 10% methylation"
   ]
  },
  {
   "cell_type": "markdown",
   "metadata": {},
   "source": [
    "### 2a. *M. capitata*"
   ]
  },
  {
   "cell_type": "markdown",
   "metadata": {},
   "source": [
    "#### Methylated loci"
   ]
  },
  {
   "cell_type": "code",
   "execution_count": 86,
   "metadata": {},
   "outputs": [],
   "source": [
    "%%bash\n",
    "for f in *Mcap\n",
    "do\n",
    "    awk '{if ($4 >= 50) { print $1, $2, $3, $4 }}' ${f} \\\n",
    "    > ${f}-Meth\n",
    "done"
   ]
  },
  {
   "cell_type": "code",
   "execution_count": 87,
   "metadata": {
    "scrolled": true
   },
   "outputs": [
    {
     "name": "stdout",
     "output_type": "stream",
     "text": [
      "==> Meth10.fastp-trim.202003063900_R1_001_bismark_bt2_pe._10x.bedgraph-Mcap-Meth <==\r\n",
      "9 525025 525027 50.000000\r\n",
      "16 1095928 1095930 50.000000\r\n",
      "16 1095987 1095989 54.545455\r\n",
      "16 1095993 1095995 66.666667\r\n",
      "16 1937017 1937019 53.846154\r\n",
      "26 1550319 1550321 61.538462\r\n",
      "26 1550325 1550327 64.285714\r\n",
      "26 1550327 1550329 53.846154\r\n",
      "28 407411 407413 50.000000\r\n",
      "28 407920 407922 50.000000\r\n",
      "\r\n",
      "==> Meth11.fastp-trim.202003065734_R1_001_bismark_bt2_pe._10x.bedgraph-Mcap-Meth <==\r\n",
      "2 81840 81842 100.000000\r\n",
      "2 81845 81847 100.000000\r\n",
      "2 81865 81867 92.857143\r\n",
      "2 81900 81902 91.304348\r\n",
      "2 81997 81999 100.000000\r\n",
      "2 82001 82003 100.000000\r\n",
      "2 82009 82011 100.000000\r\n",
      "2 82292 82294 70.000000\r\n",
      "2 82298 82300 100.000000\r\n",
      "2 2675474 2675476 74.074074\r\n",
      "\r\n",
      "==> Meth12.fastp-trim.202003060645_R1_001_bismark_bt2_pe._10x.bedgraph-Mcap-Meth <==\r\n",
      "7 87179 87181 63.636364\r\n",
      "7 2064280 2064282 100.000000\r\n",
      "10 732017 732019 60.000000\r\n",
      "10 732020 732022 100.000000\r\n",
      "10 1190063 1190065 83.333333\r\n",
      "10 1190118 1190120 95.454545\r\n",
      "10 1190131 1190133 100.000000\r\n",
      "10 1190136 1190138 90.476190\r\n",
      "10 1191138 1191140 100.000000\r\n",
      "10 1191170 1191172 90.000000\r\n",
      "\r\n",
      "==> Meth13.fastp-trim.202003062040_R1_001_bismark_bt2_pe_10x.bedgraph-Mcap-Meth <==\r\n",
      "1 16220 16222 53.846154\r\n",
      "1 20729 20731 63.636364\r\n",
      "1 29821 29823 59.259259\r\n",
      "1 32228 32230 65.217391\r\n",
      "1 32771 32773 100.000000\r\n",
      "1 40450 40452 54.545455\r\n",
      "1 42261 42263 80.000000\r\n",
      "1 44332 44334 77.272727\r\n",
      "1 45163 45165 55.555556\r\n",
      "1 53230 53232 61.904762\r\n",
      "\r\n",
      "==> Meth14.fastp-trim.202003064415_R1_001_bismark_bt2_pe_10x.bedgraph-Mcap-Meth <==\r\n",
      "1 32228 32230 100.000000\r\n",
      "1 32771 32773 100.000000\r\n",
      "1 40450 40452 80.952381\r\n",
      "1 56311 56313 70.000000\r\n",
      "1 74810 74812 100.000000\r\n",
      "1 78135 78137 53.846154\r\n",
      "1 78258 78260 51.515152\r\n",
      "1 78372 78374 53.571429\r\n",
      "1 221673 221675 100.000000\r\n",
      "1 227341 227343 100.000000\r\n",
      "\r\n",
      "==> Meth15.fastp-trim.202003065503_R1_001_bismark_bt2_pe_10x.bedgraph-Mcap-Meth <==\r\n",
      "1 29753 29755 54.545455\r\n",
      "1 29821 29823 51.515152\r\n",
      "1 32771 32773 100.000000\r\n",
      "1 40450 40452 58.823529\r\n",
      "1 40555 40557 52.941176\r\n",
      "1 78135 78137 71.428571\r\n",
      "1 78258 78260 58.333333\r\n",
      "1 131300 131302 92.857143\r\n",
      "1 140802 140804 50.000000\r\n",
      "1 156879 156881 52.000000\r\n",
      "\r\n",
      "==> Meth16.fastp-trim.202003062412_R1_001_bismark_bt2_pe._10x.bedgraph-Mcap-Meth <==\r\n",
      "2 81900 81902 100.000000\r\n",
      "2 1913834 1913836 70.000000\r\n",
      "2 2675474 2675476 93.750000\r\n",
      "2 2675484 2675486 94.117647\r\n",
      "2 2675495 2675497 82.352941\r\n",
      "2 3235138 3235140 70.000000\r\n",
      "2 3235143 3235145 70.000000\r\n",
      "4 663418 663420 90.000000\r\n",
      "10 732039 732041 76.923077\r\n",
      "10 732045 732047 76.923077\r\n",
      "\r\n",
      "==> Meth17.fastp-trim.202003063731_R1_001_bismark_bt2_pe._10x.bedgraph-Mcap-Meth <==\r\n",
      "16 1095928 1095930 70.588235\r\n",
      "16 1095972 1095974 50.000000\r\n",
      "16 1095987 1095989 63.636364\r\n",
      "16 1095993 1095995 61.904762\r\n",
      "16 1937025 1937027 63.636364\r\n",
      "34 680799 680801 100.000000\r\n",
      "34 680809 680811 100.000000\r\n",
      "41 340777 340779 72.727273\r\n",
      "41 340781 340783 60.000000\r\n",
      "41 340811 340813 54.545455\r\n",
      "\r\n",
      "==> Meth18.fastp-trim.202003065117_R1_001_bismark_bt2_pe._10x.bedgraph-Mcap-Meth <==\r\n",
      "2 1913770 1913772 90.909091\r\n",
      "2 1913775 1913777 83.333333\r\n",
      "2 1913786 1913788 92.307692\r\n",
      "2 1913791 1913793 84.615385\r\n",
      "2 1913800 1913802 91.666667\r\n",
      "2 1913803 1913805 83.333333\r\n",
      "2 1913805 1913807 91.666667\r\n",
      "2 1913808 1913810 83.333333\r\n",
      "2 1913813 1913815 81.818182\r\n",
      "2 1913818 1913820 72.727273\r\n"
     ]
    }
   ],
   "source": [
    "!head *Mcap-Meth"
   ]
  },
  {
   "cell_type": "code",
   "execution_count": 88,
   "metadata": {},
   "outputs": [
    {
     "name": "stdout",
     "output_type": "stream",
     "text": [
      "     493 Meth10.fastp-trim.202003063900_R1_001_bismark_bt2_pe._10x.bedgraph-Mcap-Meth\r\n",
      "     827 Meth11.fastp-trim.202003065734_R1_001_bismark_bt2_pe._10x.bedgraph-Mcap-Meth\r\n",
      "     370 Meth12.fastp-trim.202003060645_R1_001_bismark_bt2_pe._10x.bedgraph-Mcap-Meth\r\n",
      "  170811 Meth13.fastp-trim.202003062040_R1_001_bismark_bt2_pe_10x.bedgraph-Mcap-Meth\r\n",
      "  153132 Meth14.fastp-trim.202003064415_R1_001_bismark_bt2_pe_10x.bedgraph-Mcap-Meth\r\n",
      "  159475 Meth15.fastp-trim.202003065503_R1_001_bismark_bt2_pe_10x.bedgraph-Mcap-Meth\r\n",
      "    2828 Meth16.fastp-trim.202003062412_R1_001_bismark_bt2_pe._10x.bedgraph-Mcap-Meth\r\n",
      "     956 Meth17.fastp-trim.202003063731_R1_001_bismark_bt2_pe._10x.bedgraph-Mcap-Meth\r\n",
      "     942 Meth18.fastp-trim.202003065117_R1_001_bismark_bt2_pe._10x.bedgraph-Mcap-Meth\r\n",
      "  489834 total\r\n"
     ]
    }
   ],
   "source": [
    "!wc -l *Mcap-Meth"
   ]
  },
  {
   "cell_type": "markdown",
   "metadata": {},
   "source": [
    "#### Sparsely methylated loci"
   ]
  },
  {
   "cell_type": "code",
   "execution_count": 89,
   "metadata": {},
   "outputs": [],
   "source": [
    "%%bash\n",
    "for f in *Mcap\n",
    "do\n",
    "    awk '{if ($4 < 50) { print $1, $2, $3, $4}}' ${f} \\\n",
    "    | awk '{if ($4 > 10) { print $1, $2, $3, $4 }}' \\\n",
    "    > ${f}-sparseMeth\n",
    "done"
   ]
  },
  {
   "cell_type": "code",
   "execution_count": 90,
   "metadata": {
    "scrolled": true
   },
   "outputs": [
    {
     "name": "stdout",
     "output_type": "stream",
     "text": [
      "==> Meth10.fastp-trim.202003063900_R1_001_bismark_bt2_pe._10x.bedgraph-Mcap-sparseMeth <==\r\n",
      "4 2282559 2282561 17.647059\r\n",
      "4 2653035 2653037 20.000000\r\n",
      "6 479467 479469 18.181818\r\n",
      "10 1079591 1079593 20.000000\r\n",
      "10 1222877 1222879 20.000000\r\n",
      "10 1239917 1239919 15.384615\r\n",
      "10 1240019 1240021 20.000000\r\n",
      "13 2124876 2124878 18.181818\r\n",
      "14 495499 495501 35.294118\r\n",
      "16 593911 593913 16.666667\r\n",
      "\r\n",
      "==> Meth11.fastp-trim.202003065734_R1_001_bismark_bt2_pe._10x.bedgraph-Mcap-sparseMeth <==\r\n",
      "2 2675448 2675450 16.666667\r\n",
      "2 2675927 2675929 20.000000\r\n",
      "2 2679017 2679019 41.666667\r\n",
      "2 2679956 2679958 16.666667\r\n",
      "2 2680034 2680036 18.750000\r\n",
      "2 2680170 2680172 42.105263\r\n",
      "2 2680234 2680236 28.571429\r\n",
      "4 2282559 2282561 14.285714\r\n",
      "4 2933639 2933641 16.666667\r\n",
      "10 1079949 1079951 27.272727\r\n",
      "\r\n",
      "==> Meth12.fastp-trim.202003060645_R1_001_bismark_bt2_pe._10x.bedgraph-Mcap-sparseMeth <==\r\n",
      "4 2282559 2282561 11.764706\r\n",
      "4 2282561 2282563 11.111111\r\n",
      "4 2762159 2762161 11.111111\r\n",
      "4 2762294 2762296 11.111111\r\n",
      "5 1381724 1381726 15.384615\r\n",
      "5 1381797 1381799 16.666667\r\n",
      "12 261733 261735 40.000000\r\n",
      "16 1938455 1938457 36.842105\r\n",
      "16 1939133 1939135 27.272727\r\n",
      "16 1939289 1939291 10.833333\r\n",
      "\r\n",
      "==> Meth13.fastp-trim.202003062040_R1_001_bismark_bt2_pe_10x.bedgraph-Mcap-sparseMeth <==\r\n",
      "1 16124 16126 47.368421\r\n",
      "1 20697 20699 36.363636\r\n",
      "1 29753 29755 44.444444\r\n",
      "1 32347 32349 33.333333\r\n",
      "1 40555 40557 45.454545\r\n",
      "1 44280 44282 37.500000\r\n",
      "1 53158 53160 48.484848\r\n",
      "1 56311 56313 17.647059\r\n",
      "1 63535 63537 15.384615\r\n",
      "1 63596 63598 21.739130\r\n",
      "\r\n",
      "==> Meth14.fastp-trim.202003064415_R1_001_bismark_bt2_pe_10x.bedgraph-Mcap-sparseMeth <==\r\n",
      "1 40555 40557 14.285714\r\n",
      "1 56160 56162 40.000000\r\n",
      "1 78209 78211 33.846154\r\n",
      "1 78438 78440 48.148148\r\n",
      "1 121959 121961 18.181818\r\n",
      "1 221692 221694 10.714286\r\n",
      "1 221750 221752 10.714286\r\n",
      "1 229659 229661 39.534884\r\n",
      "1 230495 230497 41.666667\r\n",
      "1 241592 241594 39.534884\r\n",
      "\r\n",
      "==> Meth15.fastp-trim.202003065503_R1_001_bismark_bt2_pe_10x.bedgraph-Mcap-sparseMeth <==\r\n",
      "1 78209 78211 42.500000\r\n",
      "1 129780 129782 12.500000\r\n",
      "1 140905 140907 46.153846\r\n",
      "1 156983 156985 24.000000\r\n",
      "1 156999 157001 44.000000\r\n",
      "1 221692 221694 14.285714\r\n",
      "1 229612 229614 42.307692\r\n",
      "1 230495 230497 46.153846\r\n",
      "1 234058 234060 14.814815\r\n",
      "1 241635 241637 42.424242\r\n",
      "\r\n",
      "==> Meth16.fastp-trim.202003062412_R1_001_bismark_bt2_pe._10x.bedgraph-Mcap-sparseMeth <==\r\n",
      "2 2675448 2675450 27.272727\r\n",
      "2 2675538 2675540 12.500000\r\n",
      "2 2676029 2676031 30.000000\r\n",
      "2 2676035 2676037 20.000000\r\n",
      "5 1381506 1381508 15.384615\r\n",
      "9 23708 23710 20.000000\r\n",
      "9 23827 23829 12.000000\r\n",
      "9 23832 23834 11.764706\r\n",
      "9 23837 23839 11.764706\r\n",
      "10 732059 732061 40.000000\r\n",
      "\r\n",
      "==> Meth17.fastp-trim.202003063731_R1_001_bismark_bt2_pe._10x.bedgraph-Mcap-sparseMeth <==\r\n",
      "4 2761864 2761866 16.666667\r\n",
      "9 1286343 1286345 13.333333\r\n",
      "14 495499 495501 20.000000\r\n",
      "16 1095913 1095915 33.333333\r\n",
      "16 1095921 1095923 46.153846\r\n",
      "16 1095934 1095936 45.000000\r\n",
      "16 1095951 1095953 22.727273\r\n",
      "16 1095966 1095968 45.454545\r\n",
      "16 1095974 1095976 36.363636\r\n",
      "16 1095980 1095982 31.818182\r\n",
      "\r\n",
      "==> Meth18.fastp-trim.202003065117_R1_001_bismark_bt2_pe._10x.bedgraph-Mcap-sparseMeth <==\r\n",
      "4 2279583 2279585 20.000000\r\n",
      "4 2282559 2282561 25.000000\r\n",
      "4 2282561 2282563 28.571429\r\n",
      "4 2761930 2761932 16.666667\r\n",
      "4 2761958 2761960 10.526316\r\n",
      "10 731737 731739 21.428571\r\n",
      "10 731755 731757 41.666667\r\n",
      "10 731777 731779 35.714286\r\n",
      "16 1095897 1095899 30.000000\r\n",
      "16 1937253 1937255 15.789474\r\n"
     ]
    }
   ],
   "source": [
    "!head *Mcap-sparseMeth"
   ]
  },
  {
   "cell_type": "code",
   "execution_count": 91,
   "metadata": {
    "scrolled": true
   },
   "outputs": [
    {
     "name": "stdout",
     "output_type": "stream",
     "text": [
      "    1116 Meth10.fastp-trim.202003063900_R1_001_bismark_bt2_pe._10x.bedgraph-Mcap-sparseMeth\n",
      "    1422 Meth11.fastp-trim.202003065734_R1_001_bismark_bt2_pe._10x.bedgraph-Mcap-sparseMeth\n",
      "    1043 Meth12.fastp-trim.202003060645_R1_001_bismark_bt2_pe._10x.bedgraph-Mcap-sparseMeth\n",
      "  141418 Meth13.fastp-trim.202003062040_R1_001_bismark_bt2_pe_10x.bedgraph-Mcap-sparseMeth\n",
      "  132172 Meth14.fastp-trim.202003064415_R1_001_bismark_bt2_pe_10x.bedgraph-Mcap-sparseMeth\n",
      "  138554 Meth15.fastp-trim.202003065503_R1_001_bismark_bt2_pe_10x.bedgraph-Mcap-sparseMeth\n",
      "     840 Meth16.fastp-trim.202003062412_R1_001_bismark_bt2_pe._10x.bedgraph-Mcap-sparseMeth\n",
      "     650 Meth17.fastp-trim.202003063731_R1_001_bismark_bt2_pe._10x.bedgraph-Mcap-sparseMeth\n",
      "     532 Meth18.fastp-trim.202003065117_R1_001_bismark_bt2_pe._10x.bedgraph-Mcap-sparseMeth\n",
      "  417747 total\n"
     ]
    }
   ],
   "source": [
    "!wc -l *Mcap-sparseMeth"
   ]
  },
  {
   "cell_type": "markdown",
   "metadata": {},
   "source": [
    "#### Unmethylated loci"
   ]
  },
  {
   "cell_type": "code",
   "execution_count": 92,
   "metadata": {},
   "outputs": [],
   "source": [
    "%%bash\n",
    "for f in *Mcap\n",
    "do\n",
    "    awk '{if ($4 <= 10) { print $1, $2, $3, $4 }}' ${f} \\\n",
    "    > ${f}-unMeth\n",
    "done"
   ]
  },
  {
   "cell_type": "code",
   "execution_count": 93,
   "metadata": {
    "scrolled": true
   },
   "outputs": [
    {
     "name": "stdout",
     "output_type": "stream",
     "text": [
      "==> Meth10.fastp-trim.202003063900_R1_001_bismark_bt2_pe._10x.bedgraph-Mcap-unMeth <==\r\n",
      "2 1779837 1779839 0.000000\r\n",
      "2 1779853 1779855 0.000000\r\n",
      "2 1779898 1779900 0.000000\r\n",
      "2 1804233 1804235 0.000000\r\n",
      "2 1804297 1804299 0.000000\r\n",
      "2 1804303 1804305 4.000000\r\n",
      "2 1804306 1804308 0.000000\r\n",
      "2 1804322 1804324 0.000000\r\n",
      "2 1804347 1804349 7.142857\r\n",
      "2 1804359 1804361 0.000000\r\n",
      "\r\n",
      "==> Meth11.fastp-trim.202003065734_R1_001_bismark_bt2_pe._10x.bedgraph-Mcap-unMeth <==\r\n",
      "1 893230 893232 0.000000\r\n",
      "1 893246 893248 10.000000\r\n",
      "1 893258 893260 0.000000\r\n",
      "1 893276 893278 0.000000\r\n",
      "2 2437213 2437215 0.000000\r\n",
      "2 2437231 2437233 0.000000\r\n",
      "2 2675538 2675540 6.896552\r\n",
      "2 2675971 2675973 0.000000\r\n",
      "2 2675985 2675987 0.000000\r\n",
      "2 2676029 2676031 0.000000\r\n",
      "\r\n",
      "==> Meth12.fastp-trim.202003060645_R1_001_bismark_bt2_pe._10x.bedgraph-Mcap-unMeth <==\r\n",
      "1 1620404 1620406 9.090909\r\n",
      "2 1704736 1704738 0.000000\r\n",
      "2 1805539 1805541 0.000000\r\n",
      "2 1805567 1805569 0.000000\r\n",
      "2 1806267 1806269 0.000000\r\n",
      "2 1806331 1806333 0.000000\r\n",
      "2 1806337 1806339 0.000000\r\n",
      "2 1806340 1806342 0.000000\r\n",
      "4 2279532 2279534 0.000000\r\n",
      "4 2279555 2279557 0.000000\r\n",
      "\r\n",
      "==> Meth13.fastp-trim.202003062040_R1_001_bismark_bt2_pe_10x.bedgraph-Mcap-unMeth <==\r\n",
      "1 16147 16149 0.000000\r\n",
      "1 16180 16182 0.000000\r\n",
      "1 20714 20716 0.000000\r\n",
      "1 23139 23141 0.000000\r\n",
      "1 23173 23175 0.000000\r\n",
      "1 23202 23204 0.000000\r\n",
      "1 23326 23328 0.000000\r\n",
      "1 23334 23336 0.000000\r\n",
      "1 32243 32245 0.000000\r\n",
      "1 32283 32285 0.000000\r\n",
      "\r\n",
      "==> Meth14.fastp-trim.202003064415_R1_001_bismark_bt2_pe_10x.bedgraph-Mcap-unMeth <==\r\n",
      "1 32243 32245 0.000000\r\n",
      "1 32283 32285 0.000000\r\n",
      "1 32299 32301 0.000000\r\n",
      "1 32344 32346 0.000000\r\n",
      "1 32347 32349 0.000000\r\n",
      "1 32718 32720 0.000000\r\n",
      "1 40486 40488 0.000000\r\n",
      "1 40541 40543 0.000000\r\n",
      "1 40552 40554 0.000000\r\n",
      "1 56181 56183 0.000000\r\n",
      "\r\n",
      "==> Meth15.fastp-trim.202003065503_R1_001_bismark_bt2_pe_10x.bedgraph-Mcap-unMeth <==\r\n",
      "1 32718 32720 0.000000\r\n",
      "1 40486 40488 0.000000\r\n",
      "1 40541 40543 0.000000\r\n",
      "1 40552 40554 0.000000\r\n",
      "1 78140 78142 0.000000\r\n",
      "1 78146 78148 0.000000\r\n",
      "1 78151 78153 0.000000\r\n",
      "1 78173 78175 0.000000\r\n",
      "1 78187 78189 0.000000\r\n",
      "1 78225 78227 0.000000\r\n",
      "\r\n",
      "==> Meth16.fastp-trim.202003062412_R1_001_bismark_bt2_pe._10x.bedgraph-Mcap-unMeth <==\r\n",
      "2 2675971 2675973 0.000000\r\n",
      "2 2675985 2675987 0.000000\r\n",
      "2 2680080 2680082 0.000000\r\n",
      "2 2680094 2680096 7.142857\r\n",
      "2 2680138 2680140 9.090909\r\n",
      "2 2680144 2680146 10.000000\r\n",
      "4 2280384 2280386 0.000000\r\n",
      "4 2280450 2280452 1.538462\r\n",
      "4 2280473 2280475 1.562500\r\n",
      "4 2280501 2280503 1.587302\r\n",
      "\r\n",
      "==> Meth17.fastp-trim.202003063731_R1_001_bismark_bt2_pe._10x.bedgraph-Mcap-unMeth <==\r\n",
      "2 1806066 1806068 0.000000\r\n",
      "2 1806078 1806080 0.000000\r\n",
      "2 1806087 1806089 0.000000\r\n",
      "2 2680080 2680082 9.090909\r\n",
      "2 2680094 2680096 0.000000\r\n",
      "4 2280384 2280386 0.000000\r\n",
      "4 2280450 2280452 1.612903\r\n",
      "4 2280473 2280475 1.612903\r\n",
      "4 2280501 2280503 1.587302\r\n",
      "4 2280508 2280510 3.125000\r\n",
      "\r\n",
      "==> Meth18.fastp-trim.202003065117_R1_001_bismark_bt2_pe._10x.bedgraph-Mcap-unMeth <==\r\n",
      "4 2279555 2279557 10.000000\r\n",
      "4 2279590 2279592 0.000000\r\n",
      "4 2279592 2279594 10.000000\r\n",
      "4 2279600 2279602 0.000000\r\n",
      "4 2280384 2280386 0.000000\r\n",
      "4 2280450 2280452 2.857143\r\n",
      "4 2280473 2280475 0.000000\r\n",
      "4 2280501 2280503 5.000000\r\n",
      "4 2280508 2280510 2.564103\r\n",
      "4 2280510 2280512 5.000000\r\n"
     ]
    }
   ],
   "source": [
    "!head *Mcap-unMeth"
   ]
  },
  {
   "cell_type": "code",
   "execution_count": 94,
   "metadata": {
    "scrolled": true
   },
   "outputs": [
    {
     "name": "stdout",
     "output_type": "stream",
     "text": [
      "    7490 Meth10.fastp-trim.202003063900_R1_001_bismark_bt2_pe._10x.bedgraph-Mcap-unMeth\n",
      "    8841 Meth11.fastp-trim.202003065734_R1_001_bismark_bt2_pe._10x.bedgraph-Mcap-unMeth\n",
      "    7553 Meth12.fastp-trim.202003060645_R1_001_bismark_bt2_pe._10x.bedgraph-Mcap-unMeth\n",
      " 1093171 Meth13.fastp-trim.202003062040_R1_001_bismark_bt2_pe_10x.bedgraph-Mcap-unMeth\n",
      "  891980 Meth14.fastp-trim.202003064415_R1_001_bismark_bt2_pe_10x.bedgraph-Mcap-unMeth\n",
      "  940698 Meth15.fastp-trim.202003065503_R1_001_bismark_bt2_pe_10x.bedgraph-Mcap-unMeth\n",
      "    3562 Meth16.fastp-trim.202003062412_R1_001_bismark_bt2_pe._10x.bedgraph-Mcap-unMeth\n",
      "    3170 Meth17.fastp-trim.202003063731_R1_001_bismark_bt2_pe._10x.bedgraph-Mcap-unMeth\n",
      "    2265 Meth18.fastp-trim.202003065117_R1_001_bismark_bt2_pe._10x.bedgraph-Mcap-unMeth\n",
      " 2958730 total\n"
     ]
    }
   ],
   "source": [
    "!wc -l *Mcap-unMeth"
   ]
  },
  {
   "cell_type": "markdown",
   "metadata": {},
   "source": [
    "#### Summary"
   ]
  },
  {
   "cell_type": "markdown",
   "metadata": {},
   "source": [
    "| **Sample** \t| **Method** \t| **CpG with Data** \t| **Methylated CpG** \t| **Sparsely Methylated CpG** \t| **Unmethylated CpG** \t|\n",
    "|:----------:\t|:----------:\t|:-----------------:\t|:------------------:\t|:---------------------------:\t|:--------------------:\t|\n",
    "|     10     \t|    WGBS    \t|        9099       \t|         493        \t|             1116            \t|         7490         \t|\n",
    "|     11     \t|    WGBS    \t|       11090       \t|         827        \t|             1422            \t|         8841         \t|\n",
    "|     12     \t|    WGBS    \t|        8966       \t|         370        \t|             1043            \t|         7553         \t|\n",
    "|     13     \t|    RRBS    \t|      1405400      \t|       170811       \t|            141418           \t|        1093171       \t|\n",
    "|     14     \t|    RRBS    \t|      1177284      \t|       153132       \t|            132172           \t|        891980        \t|\n",
    "|     15     \t|    RRBS    \t|      1238727      \t|       159475       \t|            138554           \t|        940698        \t|\n",
    "|     16     \t|  MBD-BSSeq \t|        7230       \t|        2828        \t|             840             \t|         3562         \t|\n",
    "|     17     \t|  MBD-BSSeq \t|        4776       \t|         956        \t|             650             \t|         3170         \t|\n",
    "|     18     \t|  MBD-BSSeq \t|        3739       \t|         942        \t|             532             \t|         2265         \t|"
   ]
  },
  {
   "cell_type": "markdown",
   "metadata": {},
   "source": [
    "### 2b. *P. acuta*"
   ]
  },
  {
   "cell_type": "markdown",
   "metadata": {},
   "source": [
    "## 3. Characterize genomic locations of CpGs"
   ]
  },
  {
   "cell_type": "markdown",
   "metadata": {},
   "source": [
    "### 3a. Create BEDfiles"
   ]
  },
  {
   "cell_type": "code",
   "execution_count": null,
   "metadata": {
    "scrolled": true
   },
   "outputs": [],
   "source": [
    "%%bash\n",
    "\n",
    "for f in *bedgraph-Mcap*\n",
    "do\n",
    "    awk '{print $1\"\\t\"$2\"\\t\"$3}' ${f} > ${f}.bed\n",
    "    wc -l ${f}.bed\n",
    "done"
   ]
  },
  {
   "cell_type": "code",
   "execution_count": null,
   "metadata": {},
   "outputs": [],
   "source": [
    "#Confirm BEDfile creation\n",
    "!find *.bed"
   ]
  },
  {
   "cell_type": "code",
   "execution_count": null,
   "metadata": {
    "scrolled": true
   },
   "outputs": [],
   "source": [
    "#Confirm file creation\n",
    "!head Meth10.fastp-trim.202003063900_R1_001_bismark_bt2_pe._10x.bedgraph-Mcap.bed"
   ]
  },
  {
   "cell_type": "code",
   "execution_count": 103,
   "metadata": {},
   "outputs": [
    {
     "name": "stdout",
     "output_type": "stream",
     "text": [
      "\r\n",
      "Tool:    bedtools intersect (aka intersectBed)\r\n",
      "Version: v2.29.2\r\n",
      "Summary: Report overlaps between two feature files.\r\n",
      "\r\n",
      "Usage:   bedtools intersect [OPTIONS] -a <bed/gff/vcf/bam> -b <bed/gff/vcf/bam>\r\n",
      "\r\n",
      "\tNote: -b may be followed with multiple databases and/or \r\n",
      "\twildcard (*) character(s). \r\n",
      "Options: \r\n",
      "\t-wa\tWrite the original entry in A for each overlap.\r\n",
      "\r\n",
      "\t-wb\tWrite the original entry in B for each overlap.\r\n",
      "\t\t- Useful for knowing _what_ A overlaps. Restricted by -f and -r.\r\n",
      "\r\n",
      "\t-loj\tPerform a \"left outer join\". That is, for each feature in A\r\n",
      "\t\treport each overlap with B.  If no overlaps are found, \r\n",
      "\t\treport a NULL feature for B.\r\n",
      "\r\n",
      "\t-wo\tWrite the original A and B entries plus the number of base\r\n",
      "\t\tpairs of overlap between the two features.\r\n",
      "\t\t- Overlaps restricted by -f and -r.\r\n",
      "\t\t  Only A features with overlap are reported.\r\n",
      "\r\n",
      "\t-wao\tWrite the original A and B entries plus the number of base\r\n",
      "\t\tpairs of overlap between the two features.\r\n",
      "\t\t- Overlapping features restricted by -f and -r.\r\n",
      "\t\t  However, A features w/o overlap are also reported\r\n",
      "\t\t  with a NULL B feature and overlap = 0.\r\n",
      "\r\n",
      "\t-u\tWrite the original A entry _once_ if _any_ overlaps found in B.\r\n",
      "\t\t- In other words, just report the fact >=1 hit was found.\r\n",
      "\t\t- Overlaps restricted by -f and -r.\r\n",
      "\r\n",
      "\t-c\tFor each entry in A, report the number of overlaps with B.\r\n",
      "\t\t- Reports 0 for A entries that have no overlap with B.\r\n",
      "\t\t- Overlaps restricted by -f, -F, -r, and -s.\r\n",
      "\r\n",
      "\t-C\tFor each entry in A, separately report the number of\r\n",
      "\t\t- overlaps with each B file on a distinct line.\r\n",
      "\t\t- Reports 0 for A entries that have no overlap with B.\r\n",
      "\t\t- Overlaps restricted by -f, -F, -r, and -s.\r\n",
      "\r\n",
      "\t-v\tOnly report those entries in A that have _no overlaps_ with B.\r\n",
      "\t\t- Similar to \"grep -v\" (an homage).\r\n",
      "\r\n",
      "\t-ubam\tWrite uncompressed BAM output. Default writes compressed BAM.\r\n",
      "\r\n",
      "\t-s\tRequire same strandedness.  That is, only report hits in B\r\n",
      "\t\tthat overlap A on the _same_ strand.\r\n",
      "\t\t- By default, overlaps are reported without respect to strand.\r\n",
      "\r\n",
      "\t-S\tRequire different strandedness.  That is, only report hits in B\r\n",
      "\t\tthat overlap A on the _opposite_ strand.\r\n",
      "\t\t- By default, overlaps are reported without respect to strand.\r\n",
      "\r\n",
      "\t-f\tMinimum overlap required as a fraction of A.\r\n",
      "\t\t- Default is 1E-9 (i.e., 1bp).\r\n",
      "\t\t- FLOAT (e.g. 0.50)\r\n",
      "\r\n",
      "\t-F\tMinimum overlap required as a fraction of B.\r\n",
      "\t\t- Default is 1E-9 (i.e., 1bp).\r\n",
      "\t\t- FLOAT (e.g. 0.50)\r\n",
      "\r\n",
      "\t-r\tRequire that the fraction overlap be reciprocal for A AND B.\r\n",
      "\t\t- In other words, if -f is 0.90 and -r is used, this requires\r\n",
      "\t\t  that B overlap 90% of A and A _also_ overlaps 90% of B.\r\n",
      "\r\n",
      "\t-e\tRequire that the minimum fraction be satisfied for A OR B.\r\n",
      "\t\t- In other words, if -e is used with -f 0.90 and -F 0.10 this requires\r\n",
      "\t\t  that either 90% of A is covered OR 10% of  B is covered.\r\n",
      "\t\t  Without -e, both fractions would have to be satisfied.\r\n",
      "\r\n",
      "\t-split\tTreat \"split\" BAM or BED12 entries as distinct BED intervals.\r\n",
      "\r\n",
      "\t-g\tProvide a genome file to enforce consistent chromosome sort order\r\n",
      "\t\tacross input files. Only applies when used with -sorted option.\r\n",
      "\r\n",
      "\t-nonamecheck\tFor sorted data, don't throw an error if the file has different naming conventions\r\n",
      "\t\t\tfor the same chromosome. ex. \"chr1\" vs \"chr01\".\r\n",
      "\r\n",
      "\t-sorted\tUse the \"chromsweep\" algorithm for sorted (-k1,1 -k2,2n) input.\r\n",
      "\r\n",
      "\t-names\tWhen using multiple databases, provide an alias for each that\r\n",
      "\t\twill appear instead of a fileId when also printing the DB record.\r\n",
      "\r\n",
      "\t-filenames\tWhen using multiple databases, show each complete filename\r\n",
      "\t\t\tinstead of a fileId when also printing the DB record.\r\n",
      "\r\n",
      "\t-sortout\tWhen using multiple databases, sort the output DB hits\r\n",
      "\t\t\tfor each record.\r\n",
      "\r\n",
      "\t-bed\tIf using BAM input, write output as BED.\r\n",
      "\r\n",
      "\t-header\tPrint the header from the A file prior to results.\r\n",
      "\r\n",
      "\t-nobuf\tDisable buffered output. Using this option will cause each line\r\n",
      "\t\tof output to be printed as it is generated, rather than saved\r\n",
      "\t\tin a buffer. This will make printing large output files \r\n",
      "\t\tnoticeably slower, but can be useful in conjunction with\r\n",
      "\t\tother software tools and scripts that need to process one\r\n",
      "\t\tline of bedtools output at a time.\r\n",
      "\r\n",
      "\t-iobuf\tSpecify amount of memory to use for input buffer.\r\n",
      "\t\tTakes an integer argument. Optional suffixes K/M/G supported.\r\n",
      "\t\tNote: currently has no effect with compressed files.\r\n",
      "\r\n",
      "Notes: \r\n",
      "\t(1) When a BAM file is used for the A file, the alignment is retained if overlaps exist,\r\n",
      "\tand excluded if an overlap cannot be found.  If multiple overlaps exist, they are not\r\n",
      "\treported, as we are only testing for one or more overlaps.\r\n",
      "\r\n",
      "\r\n",
      "\r\n",
      "\r\n",
      "***** ERROR: No input file given. Exiting. *****\r\n"
     ]
    }
   ],
   "source": [
    "!/usr/local/bin/intersectBed -help"
   ]
  },
  {
   "cell_type": "code",
   "execution_count": 108,
   "metadata": {
    "scrolled": false
   },
   "outputs": [
    {
     "name": "stdout",
     "output_type": "stream",
     "text": [
      "1\tAUGUSTUS\tgene\t18387\t18755\t0.97\t-\t.\tg21532\n",
      "1\tAUGUSTUS\tCDS\t18387\t18755\t0.97\t-\t0\ttranscript_id \"g21532.t1\"; gene_id \"g21532\";\n",
      "1\tAUGUSTUS\tgene\t22321\t27293\t0.23\t-\t.\tg21533\n",
      "1\tAUGUSTUS\tCDS\t22321\t22608\t0.55\t-\t0\ttranscript_id \"g21533.t1\"; gene_id \"g21533\";\n",
      "1\tAUGUSTUS\tintron\t22609\t26300\t0.25\t-\t.\ttranscript_id \"g21533.t1\"; gene_id \"g21533\";\n",
      "1\tAUGUSTUS\tCDS\t26301\t27293\t0.29\t-\t0\ttranscript_id \"g21533.t1\"; gene_id \"g21533\";\n",
      "1\tAUGUSTUS\tgene\t37447\t52266\t1\t+\t.\tg21534\n",
      "1\tAUGUSTUS\tCDS\t37447\t37810\t1\t+\t0\ttranscript_id \"g21534.t1\"; gene_id \"g21534\";\n",
      "1\tAUGUSTUS\tintron\t37811\t45037\t1\t+\t.\ttranscript_id \"g21534.t1\"; gene_id \"g21534\";\n",
      "1\tAUGUSTUS\tCDS\t45038\t45208\t1\t+\t2\ttranscript_id \"g21534.t1\"; gene_id \"g21534\";\n",
      "  458273 ../../genome-feature-files/Mcap.GFFannotation.gene.gff\n"
     ]
    }
   ],
   "source": [
    "!head ../../genome-feature-files/Mcap.GFFannotation.gene.gff\n",
    "!wc -l ../../genome-feature-files/Mcap.GFFannotation.gene.gff"
   ]
  },
  {
   "cell_type": "markdown",
   "metadata": {},
   "source": [
    "### 3d. *M. capitata*"
   ]
  },
  {
   "cell_type": "markdown",
   "metadata": {},
   "source": [
    "#### Genes"
   ]
  },
  {
   "cell_type": "code",
   "execution_count": 101,
   "metadata": {
    "scrolled": true
   },
   "outputs": [],
   "source": [
    "%%bash\n",
    "\n",
    "for f in *Mcap*bed\n",
    "do\n",
    "  /usr/local/bin/intersectBed \\\n",
    "  -wb \\\n",
    "  -a ${f} \\\n",
    "  -b ../../genome-feature-files/Mcap.GFFannotation.gene.gff \\\n",
    "  > ${f}-mcGenes\n",
    "done"
   ]
  },
  {
   "cell_type": "code",
   "execution_count": 109,
   "metadata": {},
   "outputs": [
    {
     "name": "stdout",
     "output_type": "stream",
     "text": [
      "==> Meth10.fastp-trim.202003063900_R1_001_bismark_bt2_pe._10x.bedgraph-Mcap-Meth.bed-mcGenes <==\r\n",
      "9\t525025\t525027\t9\tAUGUSTUS\tgene\t519464\t527530\t0.19\t+\t.\tg23129\r\n",
      "9\t525025\t525027\t9\tAUGUSTUS\tintron\t523974\t527201\t0.35\t+\t.\ttranscript_id \"g23129.t1\"; gene_id \"g23129\";\r\n",
      "161\t892370\t892372\t161\tAUGUSTUS\tgene\t887972\t894174\t0.12\t+\t.\tg38942\r\n",
      "161\t892370\t892372\t161\tAUGUSTUS\tintron\t892194\t893069\t1\t+\t.\ttranscript_id \"g38942.t1\"; gene_id \"g38942\";\r\n",
      "161\t892400\t892402\t161\tAUGUSTUS\tgene\t887972\t894174\t0.12\t+\t.\tg38942\r\n",
      "161\t892400\t892402\t161\tAUGUSTUS\tintron\t892194\t893069\t1\t+\t.\ttranscript_id \"g38942.t1\"; gene_id \"g38942\";\r\n",
      "161\t892671\t892673\t161\tAUGUSTUS\tgene\t887972\t894174\t0.12\t+\t.\tg38942\r\n",
      "161\t892671\t892673\t161\tAUGUSTUS\tintron\t892194\t893069\t1\t+\t.\ttranscript_id \"g38942.t1\"; gene_id \"g38942\";\r\n",
      "161\t893122\t893124\t161\tAUGUSTUS\tgene\t887972\t894174\t0.12\t+\t.\tg38942\r\n",
      "161\t893122\t893124\t161\tAUGUSTUS\tCDS\t893070\t893203\t1\t+\t0\ttranscript_id \"g38942.t1\"; gene_id \"g38942\";\r\n",
      "\r\n",
      "==> Meth10.fastp-trim.202003063900_R1_001_bismark_bt2_pe._10x.bedgraph-Mcap-sparseMeth.bed-mcGenes <==\r\n",
      "6\t479467\t479469\t6\tAUGUSTUS\tCDS\t479248\t479550\t0.76\t+\t2\ttranscript_id \"g22693.t1\"; gene_id \"g22693\";\r\n",
      "6\t479467\t479469\t6\tAUGUSTUS\tgene\t466168\t499681\t0.12\t+\t.\tg22693\r\n",
      "10\t1079591\t1079593\t10\tGeMoMa\tgene\t1077631\t1079685\t.\t+\t.\tID=adi2mcaRNA34008_R0;ref-gene=gene25976;AA=612;score=2531;tae=0;tde=0;tie=0;minSplitReads=0;tpc=0.5904;minCov=0;avgCov=0.8072;iAA=0.704;start=M;stop=*\r\n",
      "26\t1539434\t1539436\t26\tAUGUSTUS\tgene\t1539115\t1539987\t0.76\t+\t.\tg25850\r\n",
      "26\t1539434\t1539436\t26\tAUGUSTUS\tCDS\t1539115\t1539987\t0.76\t+\t0\ttranscript_id \"g25850.t1\"; gene_id \"g25850\";\r\n",
      "26\t1539470\t1539472\t26\tAUGUSTUS\tgene\t1539115\t1539987\t0.76\t+\t.\tg25850\r\n",
      "26\t1539470\t1539472\t26\tAUGUSTUS\tCDS\t1539115\t1539987\t0.76\t+\t0\ttranscript_id \"g25850.t1\"; gene_id \"g25850\";\r\n",
      "27\t1831897\t1831899\t27\tAUGUSTUS\tgene\t1816406\t1836820\t0.09\t-\t.\tg26013\r\n",
      "27\t1831897\t1831899\t27\tAUGUSTUS\tintron\t1830510\t1836099\t0.51\t-\t.\ttranscript_id \"g26013.t1\"; gene_id \"g26013\";\r\n",
      "27\t1831995\t1831997\t27\tAUGUSTUS\tgene\t1816406\t1836820\t0.09\t-\t.\tg26013\r\n",
      "\r\n",
      "==> Meth10.fastp-trim.202003063900_R1_001_bismark_bt2_pe._10x.bedgraph-Mcap-unMeth.bed-mcGenes <==\r\n",
      "4\t2291633\t2291635\t4\tAUGUSTUS\tgene\t2287083\t2295982\t0.49\t+\t.\tg22430\r\n",
      "4\t2291633\t2291635\t4\tAUGUSTUS\tintron\t2287749\t2295805\t0.49\t+\t.\ttranscript_id \"g22430.t1\"; gene_id \"g22430\";\r\n",
      "4\t2291699\t2291701\t4\tAUGUSTUS\tgene\t2287083\t2295982\t0.49\t+\t.\tg22430\r\n",
      "4\t2291699\t2291701\t4\tAUGUSTUS\tintron\t2287749\t2295805\t0.49\t+\t.\ttranscript_id \"g22430.t1\"; gene_id \"g22430\";\r\n",
      "4\t2291722\t2291724\t4\tAUGUSTUS\tgene\t2287083\t2295982\t0.49\t+\t.\tg22430\r\n",
      "4\t2291722\t2291724\t4\tAUGUSTUS\tintron\t2287749\t2295805\t0.49\t+\t.\ttranscript_id \"g22430.t1\"; gene_id \"g22430\";\r\n",
      "4\t2291750\t2291752\t4\tAUGUSTUS\tgene\t2287083\t2295982\t0.49\t+\t.\tg22430\r\n",
      "4\t2291750\t2291752\t4\tAUGUSTUS\tintron\t2287749\t2295805\t0.49\t+\t.\ttranscript_id \"g22430.t1\"; gene_id \"g22430\";\r\n",
      "4\t2291757\t2291759\t4\tAUGUSTUS\tgene\t2287083\t2295982\t0.49\t+\t.\tg22430\r\n",
      "4\t2291757\t2291759\t4\tAUGUSTUS\tintron\t2287749\t2295805\t0.49\t+\t.\ttranscript_id \"g22430.t1\"; gene_id \"g22430\";\r\n",
      "\r\n",
      "==> Meth10.fastp-trim.202003063900_R1_001_bismark_bt2_pe._10x.bedgraph-Mcap.bed-mcGenes <==\r\n",
      "4\t2291633\t2291635\t4\tAUGUSTUS\tgene\t2287083\t2295982\t0.49\t+\t.\tg22430\r\n",
      "4\t2291633\t2291635\t4\tAUGUSTUS\tintron\t2287749\t2295805\t0.49\t+\t.\ttranscript_id \"g22430.t1\"; gene_id \"g22430\";\r\n",
      "4\t2291699\t2291701\t4\tAUGUSTUS\tgene\t2287083\t2295982\t0.49\t+\t.\tg22430\r\n",
      "4\t2291699\t2291701\t4\tAUGUSTUS\tintron\t2287749\t2295805\t0.49\t+\t.\ttranscript_id \"g22430.t1\"; gene_id \"g22430\";\r\n",
      "4\t2291722\t2291724\t4\tAUGUSTUS\tgene\t2287083\t2295982\t0.49\t+\t.\tg22430\r\n",
      "4\t2291722\t2291724\t4\tAUGUSTUS\tintron\t2287749\t2295805\t0.49\t+\t.\ttranscript_id \"g22430.t1\"; gene_id \"g22430\";\r\n",
      "4\t2291750\t2291752\t4\tAUGUSTUS\tgene\t2287083\t2295982\t0.49\t+\t.\tg22430\r\n",
      "4\t2291750\t2291752\t4\tAUGUSTUS\tintron\t2287749\t2295805\t0.49\t+\t.\ttranscript_id \"g22430.t1\"; gene_id \"g22430\";\r\n",
      "4\t2291757\t2291759\t4\tAUGUSTUS\tgene\t2287083\t2295982\t0.49\t+\t.\tg22430\r\n",
      "4\t2291757\t2291759\t4\tAUGUSTUS\tintron\t2287749\t2295805\t0.49\t+\t.\ttranscript_id \"g22430.t1\"; gene_id \"g22430\";\r\n",
      "\r\n",
      "==> Meth11.fastp-trim.202003065734_R1_001_bismark_bt2_pe._10x.bedgraph-Mcap-Meth.bed-mcGenes <==\r\n",
      "19\t1503598\t1503600\t19\tAUGUSTUS\tgene\t1501632\t1503933\t0.53\t+\t.\tg24819\r\n",
      "19\t1503598\t1503600\t19\tAUGUSTUS\tCDS\t1503139\t1503933\t0.55\t+\t0\ttranscript_id \"g24819.t1\"; gene_id \"g24819\";\r\n",
      "26\t1540062\t1540064\t26\tAUGUSTUS\tgene\t1540029\t1541033\t0.32\t+\t.\tg25851\r\n",
      "26\t1540062\t1540064\t26\tAUGUSTUS\tCDS\t1540029\t1540223\t0.32\t+\t0\ttranscript_id \"g25851.t1\"; gene_id \"g25851\";\r\n",
      "28\t833157\t833159\t28\tAUGUSTUS\tgene\t832839\t833225\t0.73\t-\t.\tg26166\r\n",
      "28\t833157\t833159\t28\tAUGUSTUS\tCDS\t832839\t833225\t0.73\t-\t0\ttranscript_id \"g26166.t1\"; gene_id \"g26166\";\r\n",
      "28\t833179\t833181\t28\tAUGUSTUS\tgene\t832839\t833225\t0.73\t-\t.\tg26166\r\n",
      "28\t833179\t833181\t28\tAUGUSTUS\tCDS\t832839\t833225\t0.73\t-\t0\ttranscript_id \"g26166.t1\"; gene_id \"g26166\";\r\n",
      "28\t833209\t833211\t28\tAUGUSTUS\tgene\t832839\t833225\t0.73\t-\t.\tg26166\r\n",
      "28\t833209\t833211\t28\tAUGUSTUS\tCDS\t832839\t833225\t0.73\t-\t0\ttranscript_id \"g26166.t1\"; gene_id \"g26166\";\r\n",
      "\r\n",
      "==> Meth11.fastp-trim.202003065734_R1_001_bismark_bt2_pe._10x.bedgraph-Mcap-sparseMeth.bed-mcGenes <==\r\n",
      "26\t1540152\t1540154\t26\tAUGUSTUS\tgene\t1540029\t1541033\t0.32\t+\t.\tg25851\r\n",
      "26\t1540152\t1540154\t26\tAUGUSTUS\tCDS\t1540029\t1540223\t0.32\t+\t0\ttranscript_id \"g25851.t1\"; gene_id \"g25851\";\r\n",
      "26\t1540161\t1540163\t26\tAUGUSTUS\tgene\t1540029\t1541033\t0.32\t+\t.\tg25851\r\n",
      "26\t1540161\t1540163\t26\tAUGUSTUS\tCDS\t1540029\t1540223\t0.32\t+\t0\ttranscript_id \"g25851.t1\"; gene_id \"g25851\";\r\n",
      "26\t1540173\t1540175\t26\tAUGUSTUS\tgene\t1540029\t1541033\t0.32\t+\t.\tg25851\r\n",
      "26\t1540173\t1540175\t26\tAUGUSTUS\tCDS\t1540029\t1540223\t0.32\t+\t0\ttranscript_id \"g25851.t1\"; gene_id \"g25851\";\r\n",
      "26\t1540181\t1540183\t26\tAUGUSTUS\tgene\t1540029\t1541033\t0.32\t+\t.\tg25851\r\n",
      "26\t1540181\t1540183\t26\tAUGUSTUS\tCDS\t1540029\t1540223\t0.32\t+\t0\ttranscript_id \"g25851.t1\"; gene_id \"g25851\";\r\n",
      "26\t1540195\t1540197\t26\tAUGUSTUS\tgene\t1540029\t1541033\t0.32\t+\t.\tg25851\r\n",
      "26\t1540195\t1540197\t26\tAUGUSTUS\tCDS\t1540029\t1540223\t0.32\t+\t0\ttranscript_id \"g25851.t1\"; gene_id \"g25851\";\r\n",
      "\r\n",
      "==> Meth11.fastp-trim.202003065734_R1_001_bismark_bt2_pe._10x.bedgraph-Mcap-unMeth.bed-mcGenes <==\r\n",
      "1\t893230\t893232\t1\tAUGUSTUS\tintron\t892851\t894805\t1\t+\t.\ttranscript_id \"g21603.t1\"; gene_id \"g21603\";\r\n",
      "1\t893230\t893232\t1\tAUGUSTUS\tgene\t875739\t924977\t0.37\t+\t.\tg21603\r\n",
      "1\t893246\t893248\t1\tAUGUSTUS\tintron\t892851\t894805\t1\t+\t.\ttranscript_id \"g21603.t1\"; gene_id \"g21603\";\r\n",
      "1\t893246\t893248\t1\tAUGUSTUS\tgene\t875739\t924977\t0.37\t+\t.\tg21603\r\n",
      "1\t893258\t893260\t1\tAUGUSTUS\tintron\t892851\t894805\t1\t+\t.\ttranscript_id \"g21603.t1\"; gene_id \"g21603\";\r\n",
      "1\t893258\t893260\t1\tAUGUSTUS\tgene\t875739\t924977\t0.37\t+\t.\tg21603\r\n",
      "1\t893276\t893278\t1\tAUGUSTUS\tintron\t892851\t894805\t1\t+\t.\ttranscript_id \"g21603.t1\"; gene_id \"g21603\";\r\n",
      "1\t893276\t893278\t1\tAUGUSTUS\tgene\t875739\t924977\t0.37\t+\t.\tg21603\r\n",
      "2\t2437213\t2437215\t2\tAUGUSTUS\tgene\t2434014\t2439746\t0.59\t-\t.\tg22056\r\n",
      "2\t2437213\t2437215\t2\tAUGUSTUS\tintron\t2435066\t2438876\t1\t-\t.\ttranscript_id \"g22056.t1\"; gene_id \"g22056\";\r\n",
      "\r\n",
      "==> Meth11.fastp-trim.202003065734_R1_001_bismark_bt2_pe._10x.bedgraph-Mcap.bed-mcGenes <==\r\n",
      "1\t893230\t893232\t1\tAUGUSTUS\tintron\t892851\t894805\t1\t+\t.\ttranscript_id \"g21603.t1\"; gene_id \"g21603\";\r\n",
      "1\t893230\t893232\t1\tAUGUSTUS\tgene\t875739\t924977\t0.37\t+\t.\tg21603\r\n",
      "1\t893246\t893248\t1\tAUGUSTUS\tintron\t892851\t894805\t1\t+\t.\ttranscript_id \"g21603.t1\"; gene_id \"g21603\";\r\n",
      "1\t893246\t893248\t1\tAUGUSTUS\tgene\t875739\t924977\t0.37\t+\t.\tg21603\r\n",
      "1\t893258\t893260\t1\tAUGUSTUS\tintron\t892851\t894805\t1\t+\t.\ttranscript_id \"g21603.t1\"; gene_id \"g21603\";\r\n",
      "1\t893258\t893260\t1\tAUGUSTUS\tgene\t875739\t924977\t0.37\t+\t.\tg21603\r\n",
      "1\t893276\t893278\t1\tAUGUSTUS\tintron\t892851\t894805\t1\t+\t.\ttranscript_id \"g21603.t1\"; gene_id \"g21603\";\r\n",
      "1\t893276\t893278\t1\tAUGUSTUS\tgene\t875739\t924977\t0.37\t+\t.\tg21603\r\n",
      "2\t2437213\t2437215\t2\tAUGUSTUS\tgene\t2434014\t2439746\t0.59\t-\t.\tg22056\r\n",
      "2\t2437213\t2437215\t2\tAUGUSTUS\tintron\t2435066\t2438876\t1\t-\t.\ttranscript_id \"g22056.t1\"; gene_id \"g22056\";\r\n",
      "\r\n",
      "==> Meth12.fastp-trim.202003060645_R1_001_bismark_bt2_pe._10x.bedgraph-Mcap-Meth.bed-mcGenes <==\r\n",
      "7\t87179\t87181\t7\tAUGUSTUS\tgene\t85016\t92846\t0.47\t+\t.\tg22864\r\n",
      "7\t87179\t87181\t7\tAUGUSTUS\tintron\t85134\t88777\t0.8\t+\t.\ttranscript_id \"g22864.t1\"; gene_id \"g22864\";\r\n",
      "7\t2064280\t2064282\t7\tAUGUSTUS\tgene\t2058055\t2074352\t1\t+\t.\tg23046\r\n",
      "7\t2064280\t2064282\t7\tAUGUSTUS\tintron\t2063825\t2066738\t1\t+\t.\ttranscript_id \"g23046.t1\"; gene_id \"g23046\";\r\n",
      "10\t1190063\t1190065\t10\tAUGUSTUS\tgene\t1189907\t1190257\t0.57\t+\t.\tg23417\r\n",
      "10\t1190063\t1190065\t10\tAUGUSTUS\tCDS\t1189907\t1190257\t0.57\t+\t0\ttranscript_id \"g23417.t1\"; gene_id \"g23417\";\r\n",
      "10\t1190118\t1190120\t10\tAUGUSTUS\tgene\t1189907\t1190257\t0.57\t+\t.\tg23417\r\n",
      "10\t1190118\t1190120\t10\tAUGUSTUS\tCDS\t1189907\t1190257\t0.57\t+\t0\ttranscript_id \"g23417.t1\"; gene_id \"g23417\";\r\n",
      "10\t1190131\t1190133\t10\tAUGUSTUS\tgene\t1189907\t1190257\t0.57\t+\t.\tg23417\r\n",
      "10\t1190131\t1190133\t10\tAUGUSTUS\tCDS\t1189907\t1190257\t0.57\t+\t0\ttranscript_id \"g23417.t1\"; gene_id \"g23417\";\r\n",
      "\r\n",
      "==> Meth12.fastp-trim.202003060645_R1_001_bismark_bt2_pe._10x.bedgraph-Mcap-sparseMeth.bed-mcGenes <==\r\n",
      "22\t61126\t61128\t22\tGeMoMa\tgene\t59576\t63023\t.\t+\t.\tID=adi2mcaRNA10691_R4;ref-gene=gene8120;AA=880;score=1866;tae=0;tde=0;tie=0;minSplitReads=0;tpc=0.8352;minCov=0;avgCov=16.6519;iAA=0.4737;start=M;stop=*\r\n",
      "26\t1539344\t1539346\t26\tAUGUSTUS\tgene\t1539115\t1539987\t0.76\t+\t.\tg25850\r\n",
      "26\t1539344\t1539346\t26\tAUGUSTUS\tCDS\t1539115\t1539987\t0.76\t+\t0\ttranscript_id \"g25850.t1\"; gene_id \"g25850\";\r\n",
      "26\t1539349\t1539351\t26\tAUGUSTUS\tgene\t1539115\t1539987\t0.76\t+\t.\tg25850\r\n",
      "26\t1539349\t1539351\t26\tAUGUSTUS\tCDS\t1539115\t1539987\t0.76\t+\t0\ttranscript_id \"g25850.t1\"; gene_id \"g25850\";\r\n",
      "26\t1539357\t1539359\t26\tAUGUSTUS\tgene\t1539115\t1539987\t0.76\t+\t.\tg25850\r\n",
      "26\t1539357\t1539359\t26\tAUGUSTUS\tCDS\t1539115\t1539987\t0.76\t+\t0\ttranscript_id \"g25850.t1\"; gene_id \"g25850\";\r\n",
      "26\t1539375\t1539377\t26\tAUGUSTUS\tgene\t1539115\t1539987\t0.76\t+\t.\tg25850\r\n",
      "26\t1539375\t1539377\t26\tAUGUSTUS\tCDS\t1539115\t1539987\t0.76\t+\t0\ttranscript_id \"g25850.t1\"; gene_id \"g25850\";\r\n",
      "26\t1539470\t1539472\t26\tAUGUSTUS\tgene\t1539115\t1539987\t0.76\t+\t.\tg25850\r\n",
      "\r\n",
      "==> Meth12.fastp-trim.202003060645_R1_001_bismark_bt2_pe._10x.bedgraph-Mcap-unMeth.bed-mcGenes <==\r\n",
      "2\t1704736\t1704738\t2\tAUGUSTUS\tgene\t1704290\t1704742\t0.58\t-\t.\tg21949\r\n",
      "2\t1704736\t1704738\t2\tAUGUSTUS\tCDS\t1704290\t1704742\t0.58\t-\t0\ttranscript_id \"g21949.t1\"; gene_id \"g21949\";\r\n",
      "4\t2291584\t2291586\t4\tAUGUSTUS\tgene\t2287083\t2295982\t0.49\t+\t.\tg22430\r\n",
      "4\t2291584\t2291586\t4\tAUGUSTUS\tintron\t2287749\t2295805\t0.49\t+\t.\ttranscript_id \"g22430.t1\"; gene_id \"g22430\";\r\n",
      "4\t2291603\t2291605\t4\tAUGUSTUS\tgene\t2287083\t2295982\t0.49\t+\t.\tg22430\r\n",
      "4\t2291603\t2291605\t4\tAUGUSTUS\tintron\t2287749\t2295805\t0.49\t+\t.\ttranscript_id \"g22430.t1\"; gene_id \"g22430\";\r\n",
      "4\t2291633\t2291635\t4\tAUGUSTUS\tgene\t2287083\t2295982\t0.49\t+\t.\tg22430\r\n",
      "4\t2291633\t2291635\t4\tAUGUSTUS\tintron\t2287749\t2295805\t0.49\t+\t.\ttranscript_id \"g22430.t1\"; gene_id \"g22430\";\r\n",
      "4\t2291699\t2291701\t4\tAUGUSTUS\tgene\t2287083\t2295982\t0.49\t+\t.\tg22430\r\n",
      "4\t2291699\t2291701\t4\tAUGUSTUS\tintron\t2287749\t2295805\t0.49\t+\t.\ttranscript_id \"g22430.t1\"; gene_id \"g22430\";\r\n",
      "\r\n",
      "==> Meth12.fastp-trim.202003060645_R1_001_bismark_bt2_pe._10x.bedgraph-Mcap.bed-mcGenes <==\r\n",
      "2\t1704736\t1704738\t2\tAUGUSTUS\tgene\t1704290\t1704742\t0.58\t-\t.\tg21949\r\n",
      "2\t1704736\t1704738\t2\tAUGUSTUS\tCDS\t1704290\t1704742\t0.58\t-\t0\ttranscript_id \"g21949.t1\"; gene_id \"g21949\";\r\n",
      "4\t2291584\t2291586\t4\tAUGUSTUS\tgene\t2287083\t2295982\t0.49\t+\t.\tg22430\r\n",
      "4\t2291584\t2291586\t4\tAUGUSTUS\tintron\t2287749\t2295805\t0.49\t+\t.\ttranscript_id \"g22430.t1\"; gene_id \"g22430\";\r\n",
      "4\t2291603\t2291605\t4\tAUGUSTUS\tgene\t2287083\t2295982\t0.49\t+\t.\tg22430\r\n",
      "4\t2291603\t2291605\t4\tAUGUSTUS\tintron\t2287749\t2295805\t0.49\t+\t.\ttranscript_id \"g22430.t1\"; gene_id \"g22430\";\r\n",
      "4\t2291633\t2291635\t4\tAUGUSTUS\tgene\t2287083\t2295982\t0.49\t+\t.\tg22430\r\n",
      "4\t2291633\t2291635\t4\tAUGUSTUS\tintron\t2287749\t2295805\t0.49\t+\t.\ttranscript_id \"g22430.t1\"; gene_id \"g22430\";\r\n",
      "4\t2291699\t2291701\t4\tAUGUSTUS\tgene\t2287083\t2295982\t0.49\t+\t.\tg22430\r\n",
      "4\t2291699\t2291701\t4\tAUGUSTUS\tintron\t2287749\t2295805\t0.49\t+\t.\ttranscript_id \"g22430.t1\"; gene_id \"g22430\";\r\n",
      "\r\n",
      "==> Meth16.fastp-trim.202003062412_R1_001_bismark_bt2_pe._10x.bedgraph-Mcap-Meth.bed-mcGenes <==\r\n",
      "10\t733230\t733232\t10\tAUGUSTUS\tgene\t732999\t737162\t0.71\t-\t.\tg23342\r\n",
      "10\t733230\t733232\t10\tAUGUSTUS\tCDS\t732999\t733374\t1\t-\t1\ttranscript_id \"g23342.t1\"; gene_id \"g23342\";\r\n",
      "10\t733246\t733248\t10\tAUGUSTUS\tgene\t732999\t737162\t0.71\t-\t.\tg23342\r\n",
      "10\t733246\t733248\t10\tAUGUSTUS\tCDS\t732999\t733374\t1\t-\t1\ttranscript_id \"g23342.t1\"; gene_id \"g23342\";\r\n",
      "10\t733268\t733270\t10\tAUGUSTUS\tgene\t732999\t737162\t0.71\t-\t.\tg23342\r\n",
      "10\t733268\t733270\t10\tAUGUSTUS\tCDS\t732999\t733374\t1\t-\t1\ttranscript_id \"g23342.t1\"; gene_id \"g23342\";\r\n",
      "10\t733296\t733298\t10\tAUGUSTUS\tgene\t732999\t737162\t0.71\t-\t.\tg23342\r\n",
      "10\t733296\t733298\t10\tAUGUSTUS\tCDS\t732999\t733374\t1\t-\t1\ttranscript_id \"g23342.t1\"; gene_id \"g23342\";\r\n",
      "10\t733316\t733318\t10\tAUGUSTUS\tgene\t732999\t737162\t0.71\t-\t.\tg23342\r\n",
      "10\t733316\t733318\t10\tAUGUSTUS\tCDS\t732999\t733374\t1\t-\t1\ttranscript_id \"g23342.t1\"; gene_id \"g23342\";\r\n",
      "\r\n",
      "==> Meth16.fastp-trim.202003062412_R1_001_bismark_bt2_pe._10x.bedgraph-Mcap-sparseMeth.bed-mcGenes <==\r\n",
      "9\t23708\t23710\t9\tAUGUSTUS\tgene\t23704\t24276\t1\t+\t.\tg23074\r\n",
      "9\t23708\t23710\t9\tAUGUSTUS\tCDS\t23704\t24276\t1\t+\t0\ttranscript_id \"g23074.t1\"; gene_id \"g23074\";\r\n",
      "9\t23827\t23829\t9\tAUGUSTUS\tgene\t23704\t24276\t1\t+\t.\tg23074\r\n",
      "9\t23827\t23829\t9\tAUGUSTUS\tCDS\t23704\t24276\t1\t+\t0\ttranscript_id \"g23074.t1\"; gene_id \"g23074\";\r\n",
      "9\t23832\t23834\t9\tAUGUSTUS\tgene\t23704\t24276\t1\t+\t.\tg23074\r\n",
      "9\t23832\t23834\t9\tAUGUSTUS\tCDS\t23704\t24276\t1\t+\t0\ttranscript_id \"g23074.t1\"; gene_id \"g23074\";\r\n",
      "9\t23837\t23839\t9\tAUGUSTUS\tgene\t23704\t24276\t1\t+\t.\tg23074\r\n",
      "9\t23837\t23839\t9\tAUGUSTUS\tCDS\t23704\t24276\t1\t+\t0\ttranscript_id \"g23074.t1\"; gene_id \"g23074\";\r\n",
      "10\t733233\t733235\t10\tAUGUSTUS\tgene\t732999\t737162\t0.71\t-\t.\tg23342\r\n",
      "10\t733233\t733235\t10\tAUGUSTUS\tCDS\t732999\t733374\t1\t-\t1\ttranscript_id \"g23342.t1\"; gene_id \"g23342\";\r\n",
      "\r\n",
      "==> Meth16.fastp-trim.202003062412_R1_001_bismark_bt2_pe._10x.bedgraph-Mcap-unMeth.bed-mcGenes <==\r\n",
      "6\t1708611\t1708613\t6\tAUGUSTUS\tCDS\t1705256\t1708818\t0.58\t+\t2\ttranscript_id \"g22787.t1\"; gene_id \"g22787\";\r\n",
      "6\t1708611\t1708613\t6\tAUGUSTUS\tgene\t1696912\t1708818\t0.3\t+\t.\tg22787\r\n",
      "6\t1708625\t1708627\t6\tAUGUSTUS\tCDS\t1705256\t1708818\t0.58\t+\t2\ttranscript_id \"g22787.t1\"; gene_id \"g22787\";\r\n",
      "6\t1708625\t1708627\t6\tAUGUSTUS\tgene\t1696912\t1708818\t0.3\t+\t.\tg22787\r\n",
      "9\t23768\t23770\t9\tAUGUSTUS\tgene\t23704\t24276\t1\t+\t.\tg23074\r\n",
      "9\t23768\t23770\t9\tAUGUSTUS\tCDS\t23704\t24276\t1\t+\t0\ttranscript_id \"g23074.t1\"; gene_id \"g23074\";\r\n",
      "9\t23774\t23776\t9\tAUGUSTUS\tgene\t23704\t24276\t1\t+\t.\tg23074\r\n",
      "9\t23774\t23776\t9\tAUGUSTUS\tCDS\t23704\t24276\t1\t+\t0\ttranscript_id \"g23074.t1\"; gene_id \"g23074\";\r\n",
      "9\t23787\t23789\t9\tAUGUSTUS\tgene\t23704\t24276\t1\t+\t.\tg23074\r\n",
      "9\t23787\t23789\t9\tAUGUSTUS\tCDS\t23704\t24276\t1\t+\t0\ttranscript_id \"g23074.t1\"; gene_id \"g23074\";\r\n",
      "\r\n",
      "==> Meth16.fastp-trim.202003062412_R1_001_bismark_bt2_pe._10x.bedgraph-Mcap.bed-mcGenes <==\r\n",
      "6\t1708611\t1708613\t6\tAUGUSTUS\tCDS\t1705256\t1708818\t0.58\t+\t2\ttranscript_id \"g22787.t1\"; gene_id \"g22787\";\r\n",
      "6\t1708611\t1708613\t6\tAUGUSTUS\tgene\t1696912\t1708818\t0.3\t+\t.\tg22787\r\n",
      "6\t1708625\t1708627\t6\tAUGUSTUS\tCDS\t1705256\t1708818\t0.58\t+\t2\ttranscript_id \"g22787.t1\"; gene_id \"g22787\";\r\n",
      "6\t1708625\t1708627\t6\tAUGUSTUS\tgene\t1696912\t1708818\t0.3\t+\t.\tg22787\r\n",
      "9\t23708\t23710\t9\tAUGUSTUS\tgene\t23704\t24276\t1\t+\t.\tg23074\r\n",
      "9\t23708\t23710\t9\tAUGUSTUS\tCDS\t23704\t24276\t1\t+\t0\ttranscript_id \"g23074.t1\"; gene_id \"g23074\";\r\n",
      "9\t23768\t23770\t9\tAUGUSTUS\tgene\t23704\t24276\t1\t+\t.\tg23074\r\n",
      "9\t23768\t23770\t9\tAUGUSTUS\tCDS\t23704\t24276\t1\t+\t0\ttranscript_id \"g23074.t1\"; gene_id \"g23074\";\r\n",
      "9\t23774\t23776\t9\tAUGUSTUS\tgene\t23704\t24276\t1\t+\t.\tg23074\r\n",
      "9\t23774\t23776\t9\tAUGUSTUS\tCDS\t23704\t24276\t1\t+\t0\ttranscript_id \"g23074.t1\"; gene_id \"g23074\";\r\n",
      "\r\n",
      "==> Meth17.fastp-trim.202003063731_R1_001_bismark_bt2_pe._10x.bedgraph-Mcap-Meth.bed-mcGenes <==\r\n",
      "63\t99562\t99564\t63\tAUGUSTUS\tCDS\t99468\t100035\t0.59\t-\t0\ttranscript_id \"g30230.t1\"; gene_id \"g30230\";\r\n",
      "63\t99562\t99564\t63\tAUGUSTUS\tgene\t90218\t100035\t0.58\t-\t.\tg30230\r\n",
      "63\t99573\t99575\t63\tAUGUSTUS\tCDS\t99468\t100035\t0.59\t-\t0\ttranscript_id \"g30230.t1\"; gene_id \"g30230\";\r\n",
      "63\t99573\t99575\t63\tAUGUSTUS\tgene\t90218\t100035\t0.58\t-\t.\tg30230\r\n",
      "63\t99581\t99583\t63\tAUGUSTUS\tCDS\t99468\t100035\t0.59\t-\t0\ttranscript_id \"g30230.t1\"; gene_id \"g30230\";\r\n",
      "63\t99581\t99583\t63\tAUGUSTUS\tgene\t90218\t100035\t0.58\t-\t.\tg30230\r\n",
      "63\t99675\t99677\t63\tAUGUSTUS\tCDS\t99468\t100035\t0.59\t-\t0\ttranscript_id \"g30230.t1\"; gene_id \"g30230\";\r\n",
      "63\t99675\t99677\t63\tAUGUSTUS\tgene\t90218\t100035\t0.58\t-\t.\tg30230\r\n",
      "73\t326638\t326640\t73\tAUGUSTUS\tintron\t324660\t327139\t1\t-\t.\ttranscript_id \"g31419.t1\"; gene_id \"g31419\";\r\n",
      "73\t326638\t326640\t73\tAUGUSTUS\tgene\t324510\t337830\t0.62\t-\t.\tg31419\r\n",
      "\r\n",
      "==> Meth17.fastp-trim.202003063731_R1_001_bismark_bt2_pe._10x.bedgraph-Mcap-sparseMeth.bed-mcGenes <==\r\n",
      "9\t1286343\t1286345\t9\tAUGUSTUS\tCDS\t1286230\t1286365\t1\t+\t1\ttranscript_id \"g23173.t1\"; gene_id \"g23173\";\r\n",
      "9\t1286343\t1286345\t9\tAUGUSTUS\tgene\t1260684\t1297808\t0.8\t+\t.\tg23173\r\n",
      "17\t482524\t482526\t17\tAUGUSTUS\tintron\t481428\t483248\t1\t+\t.\ttranscript_id \"g24354.t1\"; gene_id \"g24354\";\r\n",
      "17\t482524\t482526\t17\tAUGUSTUS\tgene\t416992\t504620\t0.3\t+\t.\tg24354\r\n",
      "20\t140825\t140827\t20\tAUGUSTUS\tCDS\t140697\t140916\t0.73\t+\t1\ttranscript_id \"g24979.t1\"; gene_id \"g24979\";\r\n",
      "20\t140825\t140827\t20\tAUGUSTUS\tgene\t128613\t140916\t0.73\t+\t.\tg24979\r\n",
      "27\t1832231\t1832233\t27\tAUGUSTUS\tgene\t1816406\t1836820\t0.09\t-\t.\tg26013\r\n",
      "27\t1832231\t1832233\t27\tAUGUSTUS\tintron\t1830510\t1836099\t0.51\t-\t.\ttranscript_id \"g26013.t1\"; gene_id \"g26013\";\r\n",
      "27\t1832239\t1832241\t27\tAUGUSTUS\tgene\t1816406\t1836820\t0.09\t-\t.\tg26013\r\n",
      "27\t1832239\t1832241\t27\tAUGUSTUS\tintron\t1830510\t1836099\t0.51\t-\t.\ttranscript_id \"g26013.t1\"; gene_id \"g26013\";\r\n",
      "\r\n",
      "==> Meth17.fastp-trim.202003063731_R1_001_bismark_bt2_pe._10x.bedgraph-Mcap-unMeth.bed-mcGenes <==\r\n",
      "17\t482540\t482542\t17\tAUGUSTUS\tintron\t481428\t483248\t1\t+\t.\ttranscript_id \"g24354.t1\"; gene_id \"g24354\";\r\n",
      "17\t482540\t482542\t17\tAUGUSTUS\tgene\t416992\t504620\t0.3\t+\t.\tg24354\r\n",
      "18\t1210468\t1210470\t18\tGeMoMa\tgene\t1208472\t1229543\t.\t-\t.\tID=adi2mcaRNA575_R6;ref-gene=gene421;AA=571;score=953;tae=0;tde=0;tie=0;minSplitReads=0;tpc=0.2499;minCov=0;avgCov=2.481;iAA=0.4043;start=M;stop=*\r\n",
      "27\t1831897\t1831899\t27\tAUGUSTUS\tgene\t1816406\t1836820\t0.09\t-\t.\tg26013\r\n",
      "27\t1831897\t1831899\t27\tAUGUSTUS\tintron\t1830510\t1836099\t0.51\t-\t.\ttranscript_id \"g26013.t1\"; gene_id \"g26013\";\r\n",
      "27\t1831964\t1831966\t27\tAUGUSTUS\tgene\t1816406\t1836820\t0.09\t-\t.\tg26013\r\n",
      "27\t1831964\t1831966\t27\tAUGUSTUS\tintron\t1830510\t1836099\t0.51\t-\t.\ttranscript_id \"g26013.t1\"; gene_id \"g26013\";\r\n",
      "27\t1831993\t1831995\t27\tAUGUSTUS\tgene\t1816406\t1836820\t0.09\t-\t.\tg26013\r\n",
      "27\t1831993\t1831995\t27\tAUGUSTUS\tintron\t1830510\t1836099\t0.51\t-\t.\ttranscript_id \"g26013.t1\"; gene_id \"g26013\";\r\n",
      "27\t1831995\t1831997\t27\tAUGUSTUS\tgene\t1816406\t1836820\t0.09\t-\t.\tg26013\r\n",
      "\r\n",
      "==> Meth17.fastp-trim.202003063731_R1_001_bismark_bt2_pe._10x.bedgraph-Mcap.bed-mcGenes <==\r\n",
      "9\t1286343\t1286345\t9\tAUGUSTUS\tCDS\t1286230\t1286365\t1\t+\t1\ttranscript_id \"g23173.t1\"; gene_id \"g23173\";\r\n",
      "9\t1286343\t1286345\t9\tAUGUSTUS\tgene\t1260684\t1297808\t0.8\t+\t.\tg23173\r\n",
      "17\t482524\t482526\t17\tAUGUSTUS\tintron\t481428\t483248\t1\t+\t.\ttranscript_id \"g24354.t1\"; gene_id \"g24354\";\r\n",
      "17\t482524\t482526\t17\tAUGUSTUS\tgene\t416992\t504620\t0.3\t+\t.\tg24354\r\n",
      "17\t482540\t482542\t17\tAUGUSTUS\tintron\t481428\t483248\t1\t+\t.\ttranscript_id \"g24354.t1\"; gene_id \"g24354\";\r\n",
      "17\t482540\t482542\t17\tAUGUSTUS\tgene\t416992\t504620\t0.3\t+\t.\tg24354\r\n",
      "18\t1210468\t1210470\t18\tGeMoMa\tgene\t1208472\t1229543\t.\t-\t.\tID=adi2mcaRNA575_R6;ref-gene=gene421;AA=571;score=953;tae=0;tde=0;tie=0;minSplitReads=0;tpc=0.2499;minCov=0;avgCov=2.481;iAA=0.4043;start=M;stop=*\r\n",
      "20\t140825\t140827\t20\tAUGUSTUS\tCDS\t140697\t140916\t0.73\t+\t1\ttranscript_id \"g24979.t1\"; gene_id \"g24979\";\r\n",
      "20\t140825\t140827\t20\tAUGUSTUS\tgene\t128613\t140916\t0.73\t+\t.\tg24979\r\n",
      "27\t1831897\t1831899\t27\tAUGUSTUS\tgene\t1816406\t1836820\t0.09\t-\t.\tg26013\r\n",
      "\r\n",
      "==> Meth18.fastp-trim.202003065117_R1_001_bismark_bt2_pe._10x.bedgraph-Mcap-Meth.bed-mcGenes <==\r\n",
      "10\t733213\t733215\t10\tAUGUSTUS\tgene\t732999\t737162\t0.71\t-\t.\tg23342\r\n",
      "10\t733213\t733215\t10\tAUGUSTUS\tCDS\t732999\t733374\t1\t-\t1\ttranscript_id \"g23342.t1\"; gene_id \"g23342\";\r\n",
      "21\t1329409\t1329411\t21\tAUGUSTUS\tCDS\t1328777\t1329764\t0.52\t-\t0\ttranscript_id \"g25222.t1\"; gene_id \"g25222\";\r\n",
      "21\t1329409\t1329411\t21\tAUGUSTUS\tgene\t1291766\t1329764\t0.13\t-\t.\tg25222\r\n",
      "21\t1329430\t1329432\t21\tAUGUSTUS\tCDS\t1328777\t1329764\t0.52\t-\t0\ttranscript_id \"g25222.t1\"; gene_id \"g25222\";\r\n",
      "21\t1329430\t1329432\t21\tAUGUSTUS\tgene\t1291766\t1329764\t0.13\t-\t.\tg25222\r\n",
      "21\t1329437\t1329439\t21\tAUGUSTUS\tCDS\t1328777\t1329764\t0.52\t-\t0\ttranscript_id \"g25222.t1\"; gene_id \"g25222\";\r\n",
      "21\t1329437\t1329439\t21\tAUGUSTUS\tgene\t1291766\t1329764\t0.13\t-\t.\tg25222\r\n",
      "21\t1329460\t1329462\t21\tAUGUSTUS\tCDS\t1328777\t1329764\t0.52\t-\t0\ttranscript_id \"g25222.t1\"; gene_id \"g25222\";\r\n",
      "21\t1329460\t1329462\t21\tAUGUSTUS\tgene\t1291766\t1329764\t0.13\t-\t.\tg25222\r\n",
      "\r\n",
      "==> Meth18.fastp-trim.202003065117_R1_001_bismark_bt2_pe._10x.bedgraph-Mcap-sparseMeth.bed-mcGenes <==\r\n",
      "24\t1663542\t1663544\t24\tAUGUSTUS\tgene\t1636109\t1686902\t0.46\t-\t.\tg25540\r\n",
      "24\t1663542\t1663544\t24\tAUGUSTUS\tintron\t1659135\t1673738\t1\t-\t.\ttranscript_id \"g25540.t1\"; gene_id \"g25540\";\r\n",
      "27\t1831897\t1831899\t27\tAUGUSTUS\tgene\t1816406\t1836820\t0.09\t-\t.\tg26013\r\n",
      "27\t1831897\t1831899\t27\tAUGUSTUS\tintron\t1830510\t1836099\t0.51\t-\t.\ttranscript_id \"g26013.t1\"; gene_id \"g26013\";\r\n",
      "27\t1832089\t1832091\t27\tAUGUSTUS\tgene\t1816406\t1836820\t0.09\t-\t.\tg26013\r\n",
      "27\t1832089\t1832091\t27\tAUGUSTUS\tintron\t1830510\t1836099\t0.51\t-\t.\ttranscript_id \"g26013.t1\"; gene_id \"g26013\";\r\n",
      "31\t745184\t745186\t31\tAUGUSTUS\tCDS\t745041\t745198\t0.99\t+\t1\ttranscript_id \"g26538.t1\"; gene_id \"g26538\";\r\n",
      "31\t745184\t745186\t31\tAUGUSTUS\tgene\t722830\t751469\t0.6\t+\t.\tg26538\r\n",
      "38\t1469842\t1469844\t38\tAUGUSTUS\tgene\t1448518\t1523639\t0.77\t-\t.\tg27604\r\n",
      "38\t1469842\t1469844\t38\tAUGUSTUS\tintron\t1448617\t1471599\t1\t-\t.\ttranscript_id \"g27604.t1\"; gene_id \"g27604\";\r\n",
      "\r\n",
      "==> Meth18.fastp-trim.202003065117_R1_001_bismark_bt2_pe._10x.bedgraph-Mcap-unMeth.bed-mcGenes <==\r\n",
      "4\t2291699\t2291701\t4\tAUGUSTUS\tgene\t2287083\t2295982\t0.49\t+\t.\tg22430\r\n",
      "4\t2291699\t2291701\t4\tAUGUSTUS\tintron\t2287749\t2295805\t0.49\t+\t.\ttranscript_id \"g22430.t1\"; gene_id \"g22430\";\r\n",
      "4\t2291722\t2291724\t4\tAUGUSTUS\tgene\t2287083\t2295982\t0.49\t+\t.\tg22430\r\n",
      "4\t2291722\t2291724\t4\tAUGUSTUS\tintron\t2287749\t2295805\t0.49\t+\t.\ttranscript_id \"g22430.t1\"; gene_id \"g22430\";\r\n",
      "4\t2291757\t2291759\t4\tAUGUSTUS\tgene\t2287083\t2295982\t0.49\t+\t.\tg22430\r\n",
      "4\t2291757\t2291759\t4\tAUGUSTUS\tintron\t2287749\t2295805\t0.49\t+\t.\ttranscript_id \"g22430.t1\"; gene_id \"g22430\";\r\n",
      "17\t482524\t482526\t17\tAUGUSTUS\tintron\t481428\t483248\t1\t+\t.\ttranscript_id \"g24354.t1\"; gene_id \"g24354\";\r\n",
      "17\t482524\t482526\t17\tAUGUSTUS\tgene\t416992\t504620\t0.3\t+\t.\tg24354\r\n",
      "17\t482540\t482542\t17\tAUGUSTUS\tintron\t481428\t483248\t1\t+\t.\ttranscript_id \"g24354.t1\"; gene_id \"g24354\";\r\n",
      "17\t482540\t482542\t17\tAUGUSTUS\tgene\t416992\t504620\t0.3\t+\t.\tg24354\r\n",
      "\r\n",
      "==> Meth18.fastp-trim.202003065117_R1_001_bismark_bt2_pe._10x.bedgraph-Mcap.bed-mcGenes <==\r\n",
      "4\t2291699\t2291701\t4\tAUGUSTUS\tgene\t2287083\t2295982\t0.49\t+\t.\tg22430\r\n",
      "4\t2291699\t2291701\t4\tAUGUSTUS\tintron\t2287749\t2295805\t0.49\t+\t.\ttranscript_id \"g22430.t1\"; gene_id \"g22430\";\r\n",
      "4\t2291722\t2291724\t4\tAUGUSTUS\tgene\t2287083\t2295982\t0.49\t+\t.\tg22430\r\n",
      "4\t2291722\t2291724\t4\tAUGUSTUS\tintron\t2287749\t2295805\t0.49\t+\t.\ttranscript_id \"g22430.t1\"; gene_id \"g22430\";\r\n",
      "4\t2291757\t2291759\t4\tAUGUSTUS\tgene\t2287083\t2295982\t0.49\t+\t.\tg22430\r\n",
      "4\t2291757\t2291759\t4\tAUGUSTUS\tintron\t2287749\t2295805\t0.49\t+\t.\ttranscript_id \"g22430.t1\"; gene_id \"g22430\";\r\n",
      "10\t733213\t733215\t10\tAUGUSTUS\tgene\t732999\t737162\t0.71\t-\t.\tg23342\r\n",
      "10\t733213\t733215\t10\tAUGUSTUS\tCDS\t732999\t733374\t1\t-\t1\ttranscript_id \"g23342.t1\"; gene_id \"g23342\";\r\n",
      "17\t482524\t482526\t17\tAUGUSTUS\tintron\t481428\t483248\t1\t+\t.\ttranscript_id \"g24354.t1\"; gene_id \"g24354\";\r\n",
      "17\t482524\t482526\t17\tAUGUSTUS\tgene\t416992\t504620\t0.3\t+\t.\tg24354\r\n"
     ]
    }
   ],
   "source": [
    "#Check output\n",
    "!head *mcGenes"
   ]
  },
  {
   "cell_type": "code",
   "execution_count": 110,
   "metadata": {},
   "outputs": [
    {
     "name": "stdout",
     "output_type": "stream",
     "text": [
      "     494 Meth10.fastp-trim.202003063900_R1_001_bismark_bt2_pe._10x.bedgraph-Mcap-Meth.bed-mcGenes\r\n",
      "     263 Meth10.fastp-trim.202003063900_R1_001_bismark_bt2_pe._10x.bedgraph-Mcap-sparseMeth.bed-mcGenes\r\n",
      "    1969 Meth10.fastp-trim.202003063900_R1_001_bismark_bt2_pe._10x.bedgraph-Mcap-unMeth.bed-mcGenes\r\n",
      "    2726 Meth10.fastp-trim.202003063900_R1_001_bismark_bt2_pe._10x.bedgraph-Mcap.bed-mcGenes\r\n",
      "     760 Meth11.fastp-trim.202003065734_R1_001_bismark_bt2_pe._10x.bedgraph-Mcap-Meth.bed-mcGenes\r\n",
      "     422 Meth11.fastp-trim.202003065734_R1_001_bismark_bt2_pe._10x.bedgraph-Mcap-sparseMeth.bed-mcGenes\r\n",
      "    2313 Meth11.fastp-trim.202003065734_R1_001_bismark_bt2_pe._10x.bedgraph-Mcap-unMeth.bed-mcGenes\r\n",
      "    3495 Meth11.fastp-trim.202003065734_R1_001_bismark_bt2_pe._10x.bedgraph-Mcap.bed-mcGenes\r\n",
      "     294 Meth12.fastp-trim.202003060645_R1_001_bismark_bt2_pe._10x.bedgraph-Mcap-Meth.bed-mcGenes\r\n",
      "     182 Meth12.fastp-trim.202003060645_R1_001_bismark_bt2_pe._10x.bedgraph-Mcap-sparseMeth.bed-mcGenes\r\n",
      "    1661 Meth12.fastp-trim.202003060645_R1_001_bismark_bt2_pe._10x.bedgraph-Mcap-unMeth.bed-mcGenes\r\n",
      "    2137 Meth12.fastp-trim.202003060645_R1_001_bismark_bt2_pe._10x.bedgraph-Mcap.bed-mcGenes\r\n",
      "    1500 Meth16.fastp-trim.202003062412_R1_001_bismark_bt2_pe._10x.bedgraph-Mcap-Meth.bed-mcGenes\r\n",
      "     192 Meth16.fastp-trim.202003062412_R1_001_bismark_bt2_pe._10x.bedgraph-Mcap-sparseMeth.bed-mcGenes\r\n",
      "     849 Meth16.fastp-trim.202003062412_R1_001_bismark_bt2_pe._10x.bedgraph-Mcap-unMeth.bed-mcGenes\r\n",
      "    2541 Meth16.fastp-trim.202003062412_R1_001_bismark_bt2_pe._10x.bedgraph-Mcap.bed-mcGenes\r\n",
      "     523 Meth17.fastp-trim.202003063731_R1_001_bismark_bt2_pe._10x.bedgraph-Mcap-Meth.bed-mcGenes\r\n",
      "      98 Meth17.fastp-trim.202003063731_R1_001_bismark_bt2_pe._10x.bedgraph-Mcap-sparseMeth.bed-mcGenes\r\n",
      "     918 Meth17.fastp-trim.202003063731_R1_001_bismark_bt2_pe._10x.bedgraph-Mcap-unMeth.bed-mcGenes\r\n",
      "    1539 Meth17.fastp-trim.202003063731_R1_001_bismark_bt2_pe._10x.bedgraph-Mcap.bed-mcGenes\r\n",
      "     564 Meth18.fastp-trim.202003065117_R1_001_bismark_bt2_pe._10x.bedgraph-Mcap-Meth.bed-mcGenes\r\n",
      "      67 Meth18.fastp-trim.202003065117_R1_001_bismark_bt2_pe._10x.bedgraph-Mcap-sparseMeth.bed-mcGenes\r\n",
      "     516 Meth18.fastp-trim.202003065117_R1_001_bismark_bt2_pe._10x.bedgraph-Mcap-unMeth.bed-mcGenes\r\n",
      "    1147 Meth18.fastp-trim.202003065117_R1_001_bismark_bt2_pe._10x.bedgraph-Mcap.bed-mcGenes\r\n",
      "   27170 total\r\n"
     ]
    }
   ],
   "source": [
    "#Count number of overlaps\n",
    "!wc -l *mcGenes"
   ]
  },
  {
   "cell_type": "markdown",
   "metadata": {},
   "source": [
    "#### Intergenic"
   ]
  },
  {
   "cell_type": "code",
   "execution_count": 113,
   "metadata": {},
   "outputs": [],
   "source": [
    "%%bash \n",
    "\n",
    "for f in *Mcap*bed\n",
    "do\n",
    "  /usr/local/bin/intersectBed \\\n",
    "  -v \\\n",
    "  -a ${f} \\\n",
    "  -b ../../genome-feature-files/Mcap.GFFannotation.gene.gff \\\n",
    "  > ${f}-mcIntergenic\n",
    "done"
   ]
  },
  {
   "cell_type": "code",
   "execution_count": 114,
   "metadata": {},
   "outputs": [
    {
     "name": "stdout",
     "output_type": "stream",
     "text": [
      "==> Meth10.fastp-trim.202003063900_R1_001_bismark_bt2_pe._10x.bedgraph-Mcap-Meth.bed-mcIntergenic <==\r\n",
      "16\t1095928\t1095930\r\n",
      "16\t1095987\t1095989\r\n",
      "16\t1095993\t1095995\r\n",
      "16\t1937017\t1937019\r\n",
      "26\t1550319\t1550321\r\n",
      "26\t1550325\t1550327\r\n",
      "26\t1550327\t1550329\r\n",
      "28\t407411\t407413\r\n",
      "28\t407920\t407922\r\n",
      "29\t601463\t601465\r\n",
      "\r\n",
      "==> Meth10.fastp-trim.202003063900_R1_001_bismark_bt2_pe._10x.bedgraph-Mcap-sparseMeth.bed-mcIntergenic <==\r\n",
      "4\t2282559\t2282561\r\n",
      "4\t2653035\t2653037\r\n",
      "10\t1222877\t1222879\r\n",
      "10\t1239917\t1239919\r\n",
      "10\t1240019\t1240021\r\n",
      "13\t2124876\t2124878\r\n",
      "14\t495499\t495501\r\n",
      "16\t593911\t593913\r\n",
      "16\t1095907\t1095909\r\n",
      "16\t1095913\t1095915\r\n",
      "\r\n",
      "==> Meth10.fastp-trim.202003063900_R1_001_bismark_bt2_pe._10x.bedgraph-Mcap-unMeth.bed-mcIntergenic <==\r\n",
      "2\t1779837\t1779839\r\n",
      "2\t1779853\t1779855\r\n",
      "2\t1779898\t1779900\r\n",
      "2\t1804233\t1804235\r\n",
      "2\t1804297\t1804299\r\n",
      "2\t1804303\t1804305\r\n",
      "2\t1804306\t1804308\r\n",
      "2\t1804322\t1804324\r\n",
      "2\t1804347\t1804349\r\n",
      "2\t1804359\t1804361\r\n",
      "\r\n",
      "==> Meth10.fastp-trim.202003063900_R1_001_bismark_bt2_pe._10x.bedgraph-Mcap.bed-mcIntergenic <==\r\n",
      "2\t1779837\t1779839\r\n",
      "2\t1779853\t1779855\r\n",
      "2\t1779898\t1779900\r\n",
      "2\t1804233\t1804235\r\n",
      "2\t1804297\t1804299\r\n",
      "2\t1804303\t1804305\r\n",
      "2\t1804306\t1804308\r\n",
      "2\t1804322\t1804324\r\n",
      "2\t1804347\t1804349\r\n",
      "2\t1804359\t1804361\r\n",
      "\r\n",
      "==> Meth11.fastp-trim.202003065734_R1_001_bismark_bt2_pe._10x.bedgraph-Mcap-Meth.bed-mcIntergenic <==\r\n",
      "2\t81840\t81842\r\n",
      "2\t81845\t81847\r\n",
      "2\t81865\t81867\r\n",
      "2\t81900\t81902\r\n",
      "2\t81997\t81999\r\n",
      "2\t82001\t82003\r\n",
      "2\t82009\t82011\r\n",
      "2\t82292\t82294\r\n",
      "2\t82298\t82300\r\n",
      "2\t2675474\t2675476\r\n",
      "\r\n",
      "==> Meth11.fastp-trim.202003065734_R1_001_bismark_bt2_pe._10x.bedgraph-Mcap-sparseMeth.bed-mcIntergenic <==\r\n",
      "2\t2675448\t2675450\r\n",
      "2\t2675927\t2675929\r\n",
      "2\t2679017\t2679019\r\n",
      "2\t2679956\t2679958\r\n",
      "2\t2680034\t2680036\r\n",
      "2\t2680170\t2680172\r\n",
      "2\t2680234\t2680236\r\n",
      "4\t2282559\t2282561\r\n",
      "4\t2933639\t2933641\r\n",
      "10\t1079949\t1079951\r\n",
      "\r\n",
      "==> Meth11.fastp-trim.202003065734_R1_001_bismark_bt2_pe._10x.bedgraph-Mcap-unMeth.bed-mcIntergenic <==\r\n",
      "2\t2675538\t2675540\r\n",
      "2\t2675971\t2675973\r\n",
      "2\t2675985\t2675987\r\n",
      "2\t2676029\t2676031\r\n",
      "2\t2676035\t2676037\r\n",
      "2\t2677886\t2677888\r\n",
      "2\t2678906\t2678908\r\n",
      "2\t2678920\t2678922\r\n",
      "2\t2678964\t2678966\r\n",
      "2\t2678970\t2678972\r\n",
      "\r\n",
      "==> Meth11.fastp-trim.202003065734_R1_001_bismark_bt2_pe._10x.bedgraph-Mcap.bed-mcIntergenic <==\r\n",
      "2\t81840\t81842\r\n",
      "2\t81845\t81847\r\n",
      "2\t81865\t81867\r\n",
      "2\t81900\t81902\r\n",
      "2\t81997\t81999\r\n",
      "2\t82001\t82003\r\n",
      "2\t82009\t82011\r\n",
      "2\t82292\t82294\r\n",
      "2\t82298\t82300\r\n",
      "2\t2675448\t2675450\r\n",
      "\r\n",
      "==> Meth12.fastp-trim.202003060645_R1_001_bismark_bt2_pe._10x.bedgraph-Mcap-Meth.bed-mcIntergenic <==\r\n",
      "10\t732017\t732019\r\n",
      "10\t732020\t732022\r\n",
      "26\t786874\t786876\r\n",
      "26\t1538849\t1538851\r\n",
      "26\t1538856\t1538858\r\n",
      "26\t1538868\t1538870\r\n",
      "26\t1550319\t1550321\r\n",
      "26\t1550325\t1550327\r\n",
      "26\t1550367\t1550369\r\n",
      "102\t1072625\t1072627\r\n",
      "\r\n",
      "==> Meth12.fastp-trim.202003060645_R1_001_bismark_bt2_pe._10x.bedgraph-Mcap-sparseMeth.bed-mcIntergenic <==\r\n",
      "4\t2282559\t2282561\r\n",
      "4\t2282561\t2282563\r\n",
      "4\t2762159\t2762161\r\n",
      "4\t2762294\t2762296\r\n",
      "5\t1381724\t1381726\r\n",
      "5\t1381797\t1381799\r\n",
      "12\t261733\t261735\r\n",
      "16\t1938455\t1938457\r\n",
      "16\t1939133\t1939135\r\n",
      "16\t1939289\t1939291\r\n",
      "\r\n",
      "==> Meth12.fastp-trim.202003060645_R1_001_bismark_bt2_pe._10x.bedgraph-Mcap-unMeth.bed-mcIntergenic <==\r\n",
      "1\t1620404\t1620406\r\n",
      "2\t1805539\t1805541\r\n",
      "2\t1805567\t1805569\r\n",
      "2\t1806267\t1806269\r\n",
      "2\t1806331\t1806333\r\n",
      "2\t1806337\t1806339\r\n",
      "2\t1806340\t1806342\r\n",
      "4\t2279532\t2279534\r\n",
      "4\t2279555\t2279557\r\n",
      "4\t2279583\t2279585\r\n",
      "\r\n",
      "==> Meth12.fastp-trim.202003060645_R1_001_bismark_bt2_pe._10x.bedgraph-Mcap.bed-mcIntergenic <==\r\n",
      "1\t1620404\t1620406\r\n",
      "2\t1805539\t1805541\r\n",
      "2\t1805567\t1805569\r\n",
      "2\t1806267\t1806269\r\n",
      "2\t1806331\t1806333\r\n",
      "2\t1806337\t1806339\r\n",
      "2\t1806340\t1806342\r\n",
      "4\t2279532\t2279534\r\n",
      "4\t2279555\t2279557\r\n",
      "4\t2279583\t2279585\r\n",
      "\r\n",
      "==> Meth16.fastp-trim.202003062412_R1_001_bismark_bt2_pe._10x.bedgraph-Mcap-Meth.bed-mcIntergenic <==\r\n",
      "2\t81900\t81902\r\n",
      "2\t1913834\t1913836\r\n",
      "2\t2675474\t2675476\r\n",
      "2\t2675484\t2675486\r\n",
      "2\t2675495\t2675497\r\n",
      "2\t3235138\t3235140\r\n",
      "2\t3235143\t3235145\r\n",
      "4\t663418\t663420\r\n",
      "10\t732039\t732041\r\n",
      "10\t732045\t732047\r\n",
      "\r\n",
      "==> Meth16.fastp-trim.202003062412_R1_001_bismark_bt2_pe._10x.bedgraph-Mcap-sparseMeth.bed-mcIntergenic <==\r\n",
      "2\t2675448\t2675450\r\n",
      "2\t2675538\t2675540\r\n",
      "2\t2676029\t2676031\r\n",
      "2\t2676035\t2676037\r\n",
      "5\t1381506\t1381508\r\n",
      "10\t732059\t732061\r\n",
      "16\t1937025\t1937027\r\n",
      "16\t1937244\t1937246\r\n",
      "16\t1937253\t1937255\r\n",
      "16\t1939287\t1939289\r\n",
      "\r\n",
      "==> Meth16.fastp-trim.202003062412_R1_001_bismark_bt2_pe._10x.bedgraph-Mcap-unMeth.bed-mcIntergenic <==\r\n",
      "2\t2675971\t2675973\r\n",
      "2\t2675985\t2675987\r\n",
      "2\t2680080\t2680082\r\n",
      "2\t2680094\t2680096\r\n",
      "2\t2680138\t2680140\r\n",
      "2\t2680144\t2680146\r\n",
      "4\t2280384\t2280386\r\n",
      "4\t2280450\t2280452\r\n",
      "4\t2280473\t2280475\r\n",
      "4\t2280501\t2280503\r\n",
      "\r\n",
      "==> Meth16.fastp-trim.202003062412_R1_001_bismark_bt2_pe._10x.bedgraph-Mcap.bed-mcIntergenic <==\r\n",
      "2\t81900\t81902\r\n",
      "2\t1913834\t1913836\r\n",
      "2\t2675448\t2675450\r\n",
      "2\t2675474\t2675476\r\n",
      "2\t2675484\t2675486\r\n",
      "2\t2675495\t2675497\r\n",
      "2\t2675538\t2675540\r\n",
      "2\t2675971\t2675973\r\n",
      "2\t2675985\t2675987\r\n",
      "2\t2676029\t2676031\r\n",
      "\r\n",
      "==> Meth17.fastp-trim.202003063731_R1_001_bismark_bt2_pe._10x.bedgraph-Mcap-Meth.bed-mcIntergenic <==\r\n",
      "16\t1095928\t1095930\r\n",
      "16\t1095972\t1095974\r\n",
      "16\t1095987\t1095989\r\n",
      "16\t1095993\t1095995\r\n",
      "16\t1937025\t1937027\r\n",
      "34\t680799\t680801\r\n",
      "34\t680809\t680811\r\n",
      "41\t340777\t340779\r\n",
      "41\t340781\t340783\r\n",
      "41\t340811\t340813\r\n",
      "\r\n",
      "==> Meth17.fastp-trim.202003063731_R1_001_bismark_bt2_pe._10x.bedgraph-Mcap-sparseMeth.bed-mcIntergenic <==\r\n",
      "4\t2761864\t2761866\r\n",
      "14\t495499\t495501\r\n",
      "16\t1095913\t1095915\r\n",
      "16\t1095921\t1095923\r\n",
      "16\t1095934\t1095936\r\n",
      "16\t1095951\t1095953\r\n",
      "16\t1095966\t1095968\r\n",
      "16\t1095974\t1095976\r\n",
      "16\t1095980\t1095982\r\n",
      "16\t1096010\t1096012\r\n",
      "\r\n",
      "==> Meth17.fastp-trim.202003063731_R1_001_bismark_bt2_pe._10x.bedgraph-Mcap-unMeth.bed-mcIntergenic <==\r\n",
      "2\t1806066\t1806068\r\n",
      "2\t1806078\t1806080\r\n",
      "2\t1806087\t1806089\r\n",
      "2\t2680080\t2680082\r\n",
      "2\t2680094\t2680096\r\n",
      "4\t2280384\t2280386\r\n",
      "4\t2280450\t2280452\r\n",
      "4\t2280473\t2280475\r\n",
      "4\t2280501\t2280503\r\n",
      "4\t2280508\t2280510\r\n",
      "\r\n",
      "==> Meth17.fastp-trim.202003063731_R1_001_bismark_bt2_pe._10x.bedgraph-Mcap.bed-mcIntergenic <==\r\n",
      "2\t1806066\t1806068\r\n",
      "2\t1806078\t1806080\r\n",
      "2\t1806087\t1806089\r\n",
      "2\t2680080\t2680082\r\n",
      "2\t2680094\t2680096\r\n",
      "4\t2280384\t2280386\r\n",
      "4\t2280450\t2280452\r\n",
      "4\t2280473\t2280475\r\n",
      "4\t2280501\t2280503\r\n",
      "4\t2280508\t2280510\r\n",
      "\r\n",
      "==> Meth18.fastp-trim.202003065117_R1_001_bismark_bt2_pe._10x.bedgraph-Mcap-Meth.bed-mcIntergenic <==\r\n",
      "2\t1913770\t1913772\r\n",
      "2\t1913775\t1913777\r\n",
      "2\t1913786\t1913788\r\n",
      "2\t1913791\t1913793\r\n",
      "2\t1913800\t1913802\r\n",
      "2\t1913803\t1913805\r\n",
      "2\t1913805\t1913807\r\n",
      "2\t1913808\t1913810\r\n",
      "2\t1913813\t1913815\r\n",
      "2\t1913818\t1913820\r\n",
      "\r\n",
      "==> Meth18.fastp-trim.202003065117_R1_001_bismark_bt2_pe._10x.bedgraph-Mcap-sparseMeth.bed-mcIntergenic <==\r\n",
      "4\t2279583\t2279585\r\n",
      "4\t2282559\t2282561\r\n",
      "4\t2282561\t2282563\r\n",
      "4\t2761930\t2761932\r\n",
      "4\t2761958\t2761960\r\n",
      "10\t731737\t731739\r\n",
      "10\t731755\t731757\r\n",
      "10\t731777\t731779\r\n",
      "16\t1095897\t1095899\r\n",
      "16\t1937253\t1937255\r\n",
      "\r\n",
      "==> Meth18.fastp-trim.202003065117_R1_001_bismark_bt2_pe._10x.bedgraph-Mcap-unMeth.bed-mcIntergenic <==\r\n",
      "4\t2279555\t2279557\r\n",
      "4\t2279590\t2279592\r\n",
      "4\t2279592\t2279594\r\n",
      "4\t2279600\t2279602\r\n",
      "4\t2280384\t2280386\r\n",
      "4\t2280450\t2280452\r\n",
      "4\t2280473\t2280475\r\n",
      "4\t2280501\t2280503\r\n",
      "4\t2280508\t2280510\r\n",
      "4\t2280510\t2280512\r\n",
      "\r\n",
      "==> Meth18.fastp-trim.202003065117_R1_001_bismark_bt2_pe._10x.bedgraph-Mcap.bed-mcIntergenic <==\r\n",
      "2\t1913770\t1913772\r\n",
      "2\t1913775\t1913777\r\n",
      "2\t1913786\t1913788\r\n",
      "2\t1913791\t1913793\r\n",
      "2\t1913800\t1913802\r\n",
      "2\t1913803\t1913805\r\n",
      "2\t1913805\t1913807\r\n",
      "2\t1913808\t1913810\r\n",
      "2\t1913813\t1913815\r\n",
      "2\t1913818\t1913820\r\n"
     ]
    }
   ],
   "source": [
    "#Check output\n",
    "!head *mcIntergenic"
   ]
  },
  {
   "cell_type": "code",
   "execution_count": 115,
   "metadata": {
    "scrolled": false
   },
   "outputs": [
    {
     "name": "stdout",
     "output_type": "stream",
     "text": [
      "     209 Meth10.fastp-trim.202003063900_R1_001_bismark_bt2_pe._10x.bedgraph-Mcap-Meth.bed-mcIntergenic\r\n",
      "     977 Meth10.fastp-trim.202003063900_R1_001_bismark_bt2_pe._10x.bedgraph-Mcap-sparseMeth.bed-mcIntergenic\r\n",
      "    6386 Meth10.fastp-trim.202003063900_R1_001_bismark_bt2_pe._10x.bedgraph-Mcap-unMeth.bed-mcIntergenic\r\n",
      "    7572 Meth10.fastp-trim.202003063900_R1_001_bismark_bt2_pe._10x.bedgraph-Mcap.bed-mcIntergenic\r\n",
      "     369 Meth11.fastp-trim.202003065734_R1_001_bismark_bt2_pe._10x.bedgraph-Mcap-Meth.bed-mcIntergenic\r\n",
      "    1198 Meth11.fastp-trim.202003065734_R1_001_bismark_bt2_pe._10x.bedgraph-Mcap-sparseMeth.bed-mcIntergenic\r\n",
      "    7553 Meth11.fastp-trim.202003065734_R1_001_bismark_bt2_pe._10x.bedgraph-Mcap-unMeth.bed-mcIntergenic\r\n",
      "    9120 Meth11.fastp-trim.202003065734_R1_001_bismark_bt2_pe._10x.bedgraph-Mcap.bed-mcIntergenic\r\n",
      "     220 Meth12.fastp-trim.202003060645_R1_001_bismark_bt2_pe._10x.bedgraph-Mcap-Meth.bed-mcIntergenic\r\n",
      "     941 Meth12.fastp-trim.202003060645_R1_001_bismark_bt2_pe._10x.bedgraph-Mcap-sparseMeth.bed-mcIntergenic\r\n",
      "    6651 Meth12.fastp-trim.202003060645_R1_001_bismark_bt2_pe._10x.bedgraph-Mcap-unMeth.bed-mcIntergenic\r\n",
      "    7812 Meth12.fastp-trim.202003060645_R1_001_bismark_bt2_pe._10x.bedgraph-Mcap.bed-mcIntergenic\r\n",
      "    1977 Meth16.fastp-trim.202003062412_R1_001_bismark_bt2_pe._10x.bedgraph-Mcap-Meth.bed-mcIntergenic\r\n",
      "     739 Meth16.fastp-trim.202003062412_R1_001_bismark_bt2_pe._10x.bedgraph-Mcap-sparseMeth.bed-mcIntergenic\r\n",
      "    3069 Meth16.fastp-trim.202003062412_R1_001_bismark_bt2_pe._10x.bedgraph-Mcap-unMeth.bed-mcIntergenic\r\n",
      "    5785 Meth16.fastp-trim.202003062412_R1_001_bismark_bt2_pe._10x.bedgraph-Mcap.bed-mcIntergenic\r\n",
      "     657 Meth17.fastp-trim.202003063731_R1_001_bismark_bt2_pe._10x.bedgraph-Mcap-Meth.bed-mcIntergenic\r\n",
      "     596 Meth17.fastp-trim.202003063731_R1_001_bismark_bt2_pe._10x.bedgraph-Mcap-sparseMeth.bed-mcIntergenic\r\n",
      "    2661 Meth17.fastp-trim.202003063731_R1_001_bismark_bt2_pe._10x.bedgraph-Mcap-unMeth.bed-mcIntergenic\r\n",
      "    3914 Meth17.fastp-trim.202003063731_R1_001_bismark_bt2_pe._10x.bedgraph-Mcap.bed-mcIntergenic\r\n",
      "     652 Meth18.fastp-trim.202003065117_R1_001_bismark_bt2_pe._10x.bedgraph-Mcap-Meth.bed-mcIntergenic\r\n",
      "     497 Meth18.fastp-trim.202003065117_R1_001_bismark_bt2_pe._10x.bedgraph-Mcap-sparseMeth.bed-mcIntergenic\r\n",
      "    1982 Meth18.fastp-trim.202003065117_R1_001_bismark_bt2_pe._10x.bedgraph-Mcap-unMeth.bed-mcIntergenic\r\n",
      "    3131 Meth18.fastp-trim.202003065117_R1_001_bismark_bt2_pe._10x.bedgraph-Mcap.bed-mcIntergenic\r\n",
      "   74668 total\r\n"
     ]
    }
   ],
   "source": [
    "#Count number of overlaps\n",
    "!wc -l *mcIntergenic"
   ]
  },
  {
   "cell_type": "markdown",
   "metadata": {},
   "source": [
    "#### Summary"
   ]
  },
  {
   "cell_type": "markdown",
   "metadata": {},
   "source": [
    "##### Overlaps with Genes\n",
    "\n",
    "##### Overlaps with Integenic regions"
   ]
  },
  {
   "cell_type": "markdown",
   "metadata": {},
   "source": [
    "### 3d. *P. acuta*"
   ]
  },
  {
   "cell_type": "markdown",
   "metadata": {},
   "source": [
    "## 4. Identify methylation islands"
   ]
  },
  {
   "cell_type": "markdown",
   "metadata": {},
   "source": [
    "To identify methylation islands using the method from Jeong et al. (2018), define:\n",
    "\n",
    "- starting size of the methylation window: 500 bp\n",
    "- minimum fraction of methylated CpGs required within the window to be accepted: 0.02\n",
    "- step size to extend the accepted window as long as the mCpG fraction is met: 50 bp\n",
    "- mCpG file: input with mCpG chromosome and bp position"
   ]
  },
  {
   "cell_type": "markdown",
   "metadata": {},
   "source": [
    "### 4a. *M. capitata*"
   ]
  },
  {
   "cell_type": "code",
   "execution_count": null,
   "metadata": {},
   "outputs": [],
   "source": [
    "#Modify mCpG file by removing the third column that is not needed for methylation island analysis\n",
    "!awk '{print $1\"\\t\"$2}' .bed-MC > .bed-MC-Reduced"
   ]
  },
  {
   "cell_type": "code",
   "execution_count": null,
   "metadata": {},
   "outputs": [],
   "source": [
    "#Identify methylation islands using 0.02 mCpG fraction\n",
    "! ./methyl_island_sliding_window.pl 500 0.02 50 .bed-MC-Reduced \\\n",
    "> MC-Methylation-Islands-500_0.02_50.tab"
   ]
  },
  {
   "cell_type": "code",
   "execution_count": null,
   "metadata": {},
   "outputs": [],
   "source": [
    "#Filter by MI length and print MI length in a new column\n",
    "!awk '{if ($3-$2 >= 500) { print $1\"\\t\"$2\"\\t\"$3\"\\t\"$4\"\\t\"$3-$2}}' MC-Methylation-Islands-500_0.02_50.tab \\\n",
    "> MC-Methylation-Islands-500_0.02_50-filtered.tab\n",
    "!head MC-Methylation-Islands-500_0.02_50-filtered.tab\n",
    "! wc -l MC-Methylation-Islands-500_0.02_50-filtered.tab"
   ]
  },
  {
   "cell_type": "code",
   "execution_count": null,
   "metadata": {},
   "outputs": [],
   "source": [
    "#Count max mCpG in an island\n",
    "#Count min mCpG in an island\n",
    "!awk 'NR==1{max = $4 + 0; next} {if ($4 > max) max = $4;} END {print max}' \\\n",
    "MC-Methylation-Islands-500_0.02_50-filtered.tab\n",
    "!awk 'NR==1{min = $4 + 0; next} {if ($4 < min) min = $4;} END {print min}' \\\n",
    "MC-Methylation-Islands-500_0.02_50-filtered.tab"
   ]
  },
  {
   "cell_type": "code",
   "execution_count": null,
   "metadata": {},
   "outputs": [],
   "source": [
    "#Create tab-delimited BEDfile without additional information\n",
    "!awk '{print $1\"\\t\"$2\"\\t\"$3}' MC-Methylation-Islands-500_0.02_50-filtered.tab \\\n",
    "> MC-Methylation-Islands-500_0.02_50-filtered.tab"
   ]
  },
  {
   "cell_type": "markdown",
   "metadata": {},
   "source": [
    "### 4b. *P. acuta*"
   ]
  },
  {
   "cell_type": "code",
   "execution_count": null,
   "metadata": {},
   "outputs": [],
   "source": [
    "#Modify mCpG file by removing the third column that is not needed for methylation island analysis\n",
    "!awk '{print $1\"\\t\"$2}' .bed-PA > .bed-PA-Reduced"
   ]
  },
  {
   "cell_type": "code",
   "execution_count": null,
   "metadata": {},
   "outputs": [],
   "source": [
    "#Identify methylation islands using 0.02 mCpG fraction (same as original paper)\n",
    "! ./methyl_island_sliding_window.pl 500 0.02 50 .bed-PA-Reduced \\\n",
    "> PA-Methylation-Islands-500_0.02_50.tab"
   ]
  },
  {
   "cell_type": "code",
   "execution_count": null,
   "metadata": {},
   "outputs": [],
   "source": [
    "#Filter by MI length and print MI length in a new column\n",
    "!awk '{if ($3-$2 >= 500) { print $1\"\\t\"$2\"\\t\"$3\"\\t\"$4\"\\t\"$3-$2}}' PA-Methylation-Islands-500_0.02_50.tab \\\n",
    "> PA-Methylation-Islands-500_0.02_50-filtered.tab\n",
    "!head PA-Methylation-Islands-500_0.02_50-filtered.tab\n",
    "! wc -l PA-Methylation-Islands-500_0.02_50-filtered.tab"
   ]
  },
  {
   "cell_type": "code",
   "execution_count": null,
   "metadata": {},
   "outputs": [],
   "source": [
    "#Count max mCpG in an island\n",
    "#Count min mCpG in an island\n",
    "!awk 'NR==1{max = $4 + 0; next} {if ($4 > max) max = $4;} END {print max}' \\\n",
    "PA-Methylation-Islands-500_0.02_50-filtered.tab\n",
    "!awk 'NR==1{min = $4 + 0; next} {if ($4 < min) min = $4;} END {print min}' \\\n",
    "PA-Methylation-Islands-500_0.02_50-filtered.tab"
   ]
  },
  {
   "cell_type": "markdown",
   "metadata": {},
   "source": [
    "## 5. Characterize genomic location of methylation islands"
   ]
  },
  {
   "cell_type": "markdown",
   "metadata": {},
   "source": [
    "### 5a. Set variable paths"
   ]
  },
  {
   "cell_type": "code",
   "execution_count": null,
   "metadata": {},
   "outputs": [],
   "source": [
    "mcMethylationIslands = \"\""
   ]
  },
  {
   "cell_type": "code",
   "execution_count": null,
   "metadata": {},
   "outputs": [],
   "source": [
    "paMethylationIslands = \"\""
   ]
  },
  {
   "cell_type": "markdown",
   "metadata": {},
   "source": [
    "### 5b. Genes"
   ]
  },
  {
   "cell_type": "code",
   "execution_count": null,
   "metadata": {},
   "outputs": [],
   "source": [
    "! {bedtoolsDirectory}intersectBed \\\n",
    "-wo \\\n",
    "-a {mcMethylationIslands} \\\n",
    "-b {mcGenes} \\\n",
    "> mcMethylationIslands-Genes.txt"
   ]
  },
  {
   "cell_type": "code",
   "execution_count": null,
   "metadata": {},
   "outputs": [],
   "source": [
    "!head mcMethylationIslands-Genes.txt\n",
    "!wc -l mcMethylationIslands-Genes.txt"
   ]
  },
  {
   "cell_type": "code",
   "execution_count": null,
   "metadata": {},
   "outputs": [],
   "source": [
    "! {bedtoolsDirectory}intersectBed \\\n",
    "-wo \\\n",
    "-a {paMethylationIslands} \\\n",
    "-b {paGenes} \\\n",
    "> paMethylationIslands-Genes.txt"
   ]
  },
  {
   "cell_type": "code",
   "execution_count": null,
   "metadata": {},
   "outputs": [],
   "source": [
    "!head paMethylationIslands-Genes.txt\n",
    "!wc paMethylationIslands-Genes.txt"
   ]
  },
  {
   "cell_type": "markdown",
   "metadata": {},
   "source": [
    "### 5c. Intergenic"
   ]
  },
  {
   "cell_type": "code",
   "execution_count": null,
   "metadata": {},
   "outputs": [],
   "source": [
    "! {bedtoolsDirectory}intersectBed \\\n",
    "-wo \\\n",
    "-a {mcMethylationIslands} \\\n",
    "-b {mcIntergenic} \\\n",
    "> mcMethylationIslands-Intergenic.txt"
   ]
  },
  {
   "cell_type": "code",
   "execution_count": null,
   "metadata": {},
   "outputs": [],
   "source": [
    "!head mcMethylationIslands-Genes.txt\n",
    "!wc -l mcMethylationIslands-Genes.txt"
   ]
  },
  {
   "cell_type": "code",
   "execution_count": null,
   "metadata": {},
   "outputs": [],
   "source": [
    "! {bedtoolsDirectory}intersectBed \\\n",
    "-wo \\\n",
    "-a {paMethylationIslands} \\\n",
    "-b {paIntergenic} \\\n",
    "> paMethylationIslands-Intergenic.txt"
   ]
  },
  {
   "cell_type": "code",
   "execution_count": null,
   "metadata": {},
   "outputs": [],
   "source": [
    "!head paMethylationIslands-Intergenic.txt\n",
    "!wc paMethylationIslands-Intergenic.txt"
   ]
  },
  {
   "cell_type": "code",
   "execution_count": null,
   "metadata": {},
   "outputs": [],
   "source": []
  }
 ],
 "metadata": {
  "kernelspec": {
   "display_name": "Python 3",
   "language": "python",
   "name": "python3"
  },
  "language_info": {
   "codemirror_mode": {
    "name": "ipython",
    "version": 3
   },
   "file_extension": ".py",
   "mimetype": "text/x-python",
   "name": "python",
   "nbconvert_exporter": "python",
   "pygments_lexer": "ipython3",
   "version": "3.7.4"
  }
 },
 "nbformat": 4,
 "nbformat_minor": 2
}
