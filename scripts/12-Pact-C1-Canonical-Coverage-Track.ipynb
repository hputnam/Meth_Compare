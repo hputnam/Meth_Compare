{
 "cells": [
  {
   "cell_type": "markdown",
   "metadata": {},
   "source": [
    "Here we want to take all 9 5x bedgraphs for a genome and develop a bed file that represent total coverage. "
   ]
  },
  {
   "cell_type": "code",
   "execution_count": 2,
   "metadata": {
    "ExecuteTime": {
     "end_time": "2020-04-01T21:09:21.351622Z",
     "start_time": "2020-04-01T21:09:21.333517Z"
    }
   },
   "outputs": [
    {
     "name": "stdout",
     "output_type": "stream",
     "text": [
      "/Users/sr320/Documents/GitHub/Meth_Compare/data\n"
     ]
    }
   ],
   "source": [
    "cd ../data/\n"
   ]
  },
  {
   "cell_type": "code",
   "execution_count": 8,
   "metadata": {
    "ExecuteTime": {
     "end_time": "2020-04-01T21:20:38.747647Z",
     "start_time": "2020-04-01T21:20:38.592992Z"
    }
   },
   "outputs": [
    {
     "name": "stdout",
     "output_type": "stream",
     "text": [
      "Meth10_R1_001_val_1_bismark_bt2_pe._5x.bedgraph\r\n",
      "Meth11_R1_001_val_1_bismark_bt2_pe._5x.bedgraph\r\n",
      "Meth12_R1_001_val_1_bismark_bt2_pe._5x.bedgraph\r\n",
      "Meth13_R1_001_val_1_bismark_bt2_pe._5x.bedgraph\r\n",
      "Meth14_R1_001_val_1_bismark_bt2_pe._5x.bedgraph\r\n",
      "Meth15_R1_001_val_1_bismark_bt2_pe._5x.bedgraph\r\n",
      "Meth16_R1_001_val_1_bismark_bt2_pe._5x.bedgraph\r\n",
      "Meth17_R1_001_val_1_bismark_bt2_pe._5x.bedgraph\r\n",
      "Meth18_R1_001_val_1_bismark_bt2_pe._5x.bedgraph\r\n",
      "Meth1_R1_001_val_1_bismark_bt2_pe._5x.bedgraph\r\n",
      "Meth2_R1_001_val_1_bismark_bt2_pe._5x.bedgraph\r\n",
      "Meth3_R1_001_val_1_bismark_bt2_pe._5x.bedgraph\r\n",
      "Meth7_R1_001_val_1_bismark_bt2_pe._5x.bedgraph\r\n",
      "Meth8_R1_001_val_1_bismark_bt2_pe._5x.bedgraph\r\n",
      "Meth9_R1_001_val_1_bismark_bt2_pe._5x.bedgraph\r\n"
     ]
    }
   ],
   "source": [
    "ls"
   ]
  },
  {
   "cell_type": "code",
   "execution_count": 9,
   "metadata": {
    "ExecuteTime": {
     "end_time": "2020-04-01T21:21:13.063932Z",
     "start_time": "2020-04-01T21:21:12.918966Z"
    }
   },
   "outputs": [],
   "source": [
    "mkdir Pact_C1"
   ]
  },
  {
   "cell_type": "code",
   "execution_count": 10,
   "metadata": {
    "ExecuteTime": {
     "end_time": "2020-04-01T21:21:19.310372Z",
     "start_time": "2020-04-01T21:21:19.281620Z"
    }
   },
   "outputs": [
    {
     "name": "stdout",
     "output_type": "stream",
     "text": [
      "/Users/sr320/Documents/GitHub/Meth_Compare/data/Pact_C1\n"
     ]
    }
   ],
   "source": [
    "cd Pact_C1/"
   ]
  },
  {
   "cell_type": "code",
   "execution_count": 20,
   "metadata": {
    "ExecuteTime": {
     "end_time": "2020-04-01T21:32:43.308581Z",
     "start_time": "2020-04-01T21:32:43.125577Z"
    }
   },
   "outputs": [],
   "source": [
    "rm Meth*"
   ]
  },
  {
   "cell_type": "code",
   "execution_count": 21,
   "metadata": {
    "ExecuteTime": {
     "end_time": "2020-04-01T21:33:55.769483Z",
     "start_time": "2020-04-01T21:32:46.122652Z"
    },
    "scrolled": true
   },
   "outputs": [
    {
     "name": "stdout",
     "output_type": "stream",
     "text": [
      "--2020-04-01 14:32:46--  https://gannet.fish.washington.edu/seashell/bu-mox/scrubbed/032320-Pact-C1/Pact_C1/dedup/\n",
      "Resolving gannet.fish.washington.edu (gannet.fish.washington.edu)... 128.95.149.52\n",
      "Connecting to gannet.fish.washington.edu (gannet.fish.washington.edu)|128.95.149.52|:443... connected.\n",
      "HTTP request sent, awaiting response... 200 OK\n",
      "Length: unspecified [text/html]\n",
      "Saving to: ‘./index.html.tmp’\n",
      "\n",
      "index.html.tmp          [ <=>                ]  61.67K  --.-KB/s    in 0.06s   \n",
      "\n",
      "2020-04-01 14:32:47 (971 KB/s) - ‘./index.html.tmp’ saved [63150]\n",
      "\n",
      "Loading robots.txt; please ignore errors.\n",
      "--2020-04-01 14:32:47--  https://gannet.fish.washington.edu/robots.txt\n",
      "Reusing existing connection to gannet.fish.washington.edu:443.\n",
      "HTTP request sent, awaiting response... 404 Not Found\n",
      "2020-04-01 14:32:47 ERROR 404: Not Found.\n",
      "\n",
      "Removing ./index.html.tmp since it should be rejected.\n",
      "\n",
      "--2020-04-01 14:32:47--  https://gannet.fish.washington.edu/seashell/bu-mox/scrubbed/032320-Pact-C1/Pact_C1/dedup/?C=N;O=D\n",
      "Reusing existing connection to gannet.fish.washington.edu:443.\n",
      "HTTP request sent, awaiting response... 200 OK\n",
      "Length: unspecified [text/html]\n",
      "Saving to: ‘./index.html?C=N;O=D.tmp’\n",
      "\n",
      "index.html?C=N;O=D.     [ <=>                ]  61.67K  --.-KB/s    in 0.06s   \n",
      "\n",
      "2020-04-01 14:32:49 (1.07 MB/s) - ‘./index.html?C=N;O=D.tmp’ saved [63150]\n",
      "\n",
      "Removing ./index.html?C=N;O=D.tmp since it should be rejected.\n",
      "\n",
      "--2020-04-01 14:32:49--  https://gannet.fish.washington.edu/seashell/bu-mox/scrubbed/032320-Pact-C1/Pact_C1/dedup/?C=M;O=A\n",
      "Reusing existing connection to gannet.fish.washington.edu:443.\n",
      "HTTP request sent, awaiting response... 200 OK\n",
      "Length: unspecified [text/html]\n",
      "Saving to: ‘./index.html?C=M;O=A.tmp’\n",
      "\n",
      "index.html?C=M;O=A.     [ <=>                ]  61.67K  --.-KB/s    in 0.06s   \n",
      "\n",
      "2020-04-01 14:32:51 (994 KB/s) - ‘./index.html?C=M;O=A.tmp’ saved [63150]\n",
      "\n",
      "Removing ./index.html?C=M;O=A.tmp since it should be rejected.\n",
      "\n",
      "--2020-04-01 14:32:51--  https://gannet.fish.washington.edu/seashell/bu-mox/scrubbed/032320-Pact-C1/Pact_C1/dedup/?C=S;O=A\n",
      "Reusing existing connection to gannet.fish.washington.edu:443.\n",
      "HTTP request sent, awaiting response... 200 OK\n",
      "Length: unspecified [text/html]\n",
      "Saving to: ‘./index.html?C=S;O=A.tmp’\n",
      "\n",
      "index.html?C=S;O=A.     [ <=>                ]  61.67K  --.-KB/s    in 0.05s   \n",
      "\n",
      "2020-04-01 14:32:53 (1.18 MB/s) - ‘./index.html?C=S;O=A.tmp’ saved [63150]\n",
      "\n",
      "Removing ./index.html?C=S;O=A.tmp since it should be rejected.\n",
      "\n",
      "--2020-04-01 14:32:53--  https://gannet.fish.washington.edu/seashell/bu-mox/scrubbed/032320-Pact-C1/Pact_C1/dedup/?C=D;O=A\n",
      "Reusing existing connection to gannet.fish.washington.edu:443.\n",
      "HTTP request sent, awaiting response... 200 OK\n",
      "Length: unspecified [text/html]\n",
      "Saving to: ‘./index.html?C=D;O=A.tmp’\n",
      "\n",
      "index.html?C=D;O=A.     [ <=>                ]  61.67K  --.-KB/s    in 0.05s   \n",
      "\n",
      "2020-04-01 14:32:54 (1.13 MB/s) - ‘./index.html?C=D;O=A.tmp’ saved [63150]\n",
      "\n",
      "Removing ./index.html?C=D;O=A.tmp since it should be rejected.\n",
      "\n",
      "--2020-04-01 14:32:54--  https://gannet.fish.washington.edu/seashell/bu-mox/scrubbed/032320-Pact-C1/Pact_C1/dedup/Meth1_R1_001_val_1_bismark_bt2_pe._5x.bedgraph\n",
      "Reusing existing connection to gannet.fish.washington.edu:443.\n",
      "HTTP request sent, awaiting response... 200 OK\n",
      "Length: 6809520 (6.5M)\n",
      "Saving to: ‘./Meth1_R1_001_val_1_bismark_bt2_pe._5x.bedgraph’\n",
      "\n",
      "Meth1_R1_001_val_1_ 100%[===================>]   6.49M  3.32MB/s    in 2.0s    \n",
      "\n",
      "2020-04-01 14:32:56 (3.32 MB/s) - ‘./Meth1_R1_001_val_1_bismark_bt2_pe._5x.bedgraph’ saved [6809520/6809520]\n",
      "\n",
      "--2020-04-01 14:32:56--  https://gannet.fish.washington.edu/seashell/bu-mox/scrubbed/032320-Pact-C1/Pact_C1/dedup/Meth1_R1_001_val_1_bismark_bt2_pe.deduplicated._5x.bedgraph\n",
      "Reusing existing connection to gannet.fish.washington.edu:443.\n",
      "HTTP request sent, awaiting response... 200 OK\n",
      "Length: 411197 (402K)\n",
      "Saving to: ‘./Meth1_R1_001_val_1_bismark_bt2_pe.deduplicated._5x.bedgraph’\n",
      "\n",
      "Meth1_R1_001_val_1_ 100%[===================>] 401.56K  --.-KB/s    in 0.1s    \n",
      "\n",
      "2020-04-01 14:32:57 (3.38 MB/s) - ‘./Meth1_R1_001_val_1_bismark_bt2_pe.deduplicated._5x.bedgraph’ saved [411197/411197]\n",
      "\n",
      "--2020-04-01 14:32:57--  https://gannet.fish.washington.edu/seashell/bu-mox/scrubbed/032320-Pact-C1/Pact_C1/dedup/Meth2_R1_001_val_1_bismark_bt2_pe._5x.bedgraph\n",
      "Reusing existing connection to gannet.fish.washington.edu:443.\n",
      "HTTP request sent, awaiting response... 200 OK\n",
      "Length: 836860 (817K)\n",
      "Saving to: ‘./Meth2_R1_001_val_1_bismark_bt2_pe._5x.bedgraph’\n",
      "\n",
      "Meth2_R1_001_val_1_ 100%[===================>] 817.25K  3.92MB/s    in 0.2s    \n",
      "\n",
      "2020-04-01 14:32:57 (3.92 MB/s) - ‘./Meth2_R1_001_val_1_bismark_bt2_pe._5x.bedgraph’ saved [836860/836860]\n",
      "\n",
      "--2020-04-01 14:32:57--  https://gannet.fish.washington.edu/seashell/bu-mox/scrubbed/032320-Pact-C1/Pact_C1/dedup/Meth2_R1_001_val_1_bismark_bt2_pe.deduplicated._5x.bedgraph\n",
      "Reusing existing connection to gannet.fish.washington.edu:443.\n",
      "HTTP request sent, awaiting response... 200 OK\n",
      "Length: 836860 (817K)\n",
      "Saving to: ‘./Meth2_R1_001_val_1_bismark_bt2_pe.deduplicated._5x.bedgraph’\n",
      "\n",
      "Meth2_R1_001_val_1_ 100%[===================>] 817.25K  4.33MB/s    in 0.2s    \n",
      "\n",
      "2020-04-01 14:32:57 (4.33 MB/s) - ‘./Meth2_R1_001_val_1_bismark_bt2_pe.deduplicated._5x.bedgraph’ saved [836860/836860]\n",
      "\n",
      "--2020-04-01 14:32:57--  https://gannet.fish.washington.edu/seashell/bu-mox/scrubbed/032320-Pact-C1/Pact_C1/dedup/Meth3_R1_001_val_1_bismark_bt2_pe._5x.bedgraph\n",
      "Reusing existing connection to gannet.fish.washington.edu:443.\n",
      "HTTP request sent, awaiting response... 200 OK\n",
      "Length: 817401 (798K)\n",
      "Saving to: ‘./Meth3_R1_001_val_1_bismark_bt2_pe._5x.bedgraph’\n",
      "\n",
      "Meth3_R1_001_val_1_ 100%[===================>] 798.24K  4.31MB/s    in 0.2s    \n",
      "\n",
      "2020-04-01 14:32:57 (4.31 MB/s) - ‘./Meth3_R1_001_val_1_bismark_bt2_pe._5x.bedgraph’ saved [817401/817401]\n",
      "\n",
      "--2020-04-01 14:32:57--  https://gannet.fish.washington.edu/seashell/bu-mox/scrubbed/032320-Pact-C1/Pact_C1/dedup/Meth3_R1_001_val_1_bismark_bt2_pe.deduplicated._5x.bedgraph\n",
      "Reusing existing connection to gannet.fish.washington.edu:443.\n",
      "HTTP request sent, awaiting response... 200 OK\n",
      "Length: 817401 (798K)\n",
      "Saving to: ‘./Meth3_R1_001_val_1_bismark_bt2_pe.deduplicated._5x.bedgraph’\n",
      "\n",
      "Meth3_R1_001_val_1_ 100%[===================>] 798.24K  4.40MB/s    in 0.2s    \n",
      "\n",
      "2020-04-01 14:32:57 (4.40 MB/s) - ‘./Meth3_R1_001_val_1_bismark_bt2_pe.deduplicated._5x.bedgraph’ saved [817401/817401]\n",
      "\n",
      "--2020-04-01 14:32:57--  https://gannet.fish.washington.edu/seashell/bu-mox/scrubbed/032320-Pact-C1/Pact_C1/dedup/Meth7_R1_001_val_1_bismark_bt2_pe._5x.bedgraph\n",
      "Reusing existing connection to gannet.fish.washington.edu:443.\n",
      "HTTP request sent, awaiting response... 200 OK\n",
      "Length: 39853919 (38M)\n",
      "Saving to: ‘./Meth7_R1_001_val_1_bismark_bt2_pe._5x.bedgraph’\n",
      "\n",
      "Meth7_R1_001_val_1_ 100%[===================>]  38.01M  7.94MB/s    in 5.8s    \n",
      "\n",
      "2020-04-01 14:33:03 (6.56 MB/s) - ‘./Meth7_R1_001_val_1_bismark_bt2_pe._5x.bedgraph’ saved [39853919/39853919]\n",
      "\n",
      "--2020-04-01 14:33:03--  https://gannet.fish.washington.edu/seashell/bu-mox/scrubbed/032320-Pact-C1/Pact_C1/dedup/Meth7_R1_001_val_1_bismark_bt2_pe.deduplicated._5x.bedgraph\n",
      "Reusing existing connection to gannet.fish.washington.edu:443.\n",
      "HTTP request sent, awaiting response... 200 OK\n",
      "Length: 39853919 (38M)\n",
      "Saving to: ‘./Meth7_R1_001_val_1_bismark_bt2_pe.deduplicated._5x.bedgraph’\n",
      "\n",
      "Meth7_R1_001_val_1_ 100%[===================>]  38.01M  8.58MB/s    in 4.4s    \n",
      "\n",
      "2020-04-01 14:33:08 (8.67 MB/s) - ‘./Meth7_R1_001_val_1_bismark_bt2_pe.deduplicated._5x.bedgraph’ saved [39853919/39853919]\n",
      "\n",
      "--2020-04-01 14:33:08--  https://gannet.fish.washington.edu/seashell/bu-mox/scrubbed/032320-Pact-C1/Pact_C1/dedup/Meth8_R1_001_val_1_bismark_bt2_pe._5x.bedgraph\n",
      "Reusing existing connection to gannet.fish.washington.edu:443.\n",
      "HTTP request sent, awaiting response... 200 OK\n",
      "Length: 150977125 (144M)\n",
      "Saving to: ‘./Meth8_R1_001_val_1_bismark_bt2_pe._5x.bedgraph’\n",
      "\n",
      "Meth8_R1_001_val_1_ 100%[===================>] 143.98M  7.71MB/s    in 18s     \n",
      "\n",
      "2020-04-01 14:33:26 (7.92 MB/s) - ‘./Meth8_R1_001_val_1_bismark_bt2_pe._5x.bedgraph’ saved [150977125/150977125]\n",
      "\n",
      "--2020-04-01 14:33:26--  https://gannet.fish.washington.edu/seashell/bu-mox/scrubbed/032320-Pact-C1/Pact_C1/dedup/Meth8_R1_001_val_1_bismark_bt2_pe.deduplicated._5x.bedgraph\n",
      "Reusing existing connection to gannet.fish.washington.edu:443.\n"
     ]
    },
    {
     "name": "stdout",
     "output_type": "stream",
     "text": [
      "HTTP request sent, awaiting response... 200 OK\n",
      "Length: 150977125 (144M)\n",
      "Saving to: ‘./Meth8_R1_001_val_1_bismark_bt2_pe.deduplicated._5x.bedgraph’\n",
      "\n",
      "Meth8_R1_001_val_1_ 100%[===================>] 143.98M  9.01MB/s    in 17s     \n",
      "\n",
      "2020-04-01 14:33:43 (8.72 MB/s) - ‘./Meth8_R1_001_val_1_bismark_bt2_pe.deduplicated._5x.bedgraph’ saved [150977125/150977125]\n",
      "\n",
      "--2020-04-01 14:33:43--  https://gannet.fish.washington.edu/seashell/bu-mox/scrubbed/032320-Pact-C1/Pact_C1/dedup/Meth9_R1_001_val_1_bismark_bt2_pe._5x.bedgraph\n",
      "Reusing existing connection to gannet.fish.washington.edu:443.\n",
      "HTTP request sent, awaiting response... 200 OK\n",
      "Length: 22820182 (22M)\n",
      "Saving to: ‘./Meth9_R1_001_val_1_bismark_bt2_pe._5x.bedgraph’\n",
      "\n",
      "Meth9_R1_001_val_1_ 100%[===================>]  21.76M  7.89MB/s    in 2.8s    \n",
      "\n",
      "2020-04-01 14:33:46 (7.89 MB/s) - ‘./Meth9_R1_001_val_1_bismark_bt2_pe._5x.bedgraph’ saved [22820182/22820182]\n",
      "\n",
      "--2020-04-01 14:33:46--  https://gannet.fish.washington.edu/seashell/bu-mox/scrubbed/032320-Pact-C1/Pact_C1/dedup/Meth9_R1_001_val_1_bismark_bt2_pe.deduplicated._5x.bedgraph\n",
      "Reusing existing connection to gannet.fish.washington.edu:443.\n",
      "HTTP request sent, awaiting response... 200 OK\n",
      "Length: 22820182 (22M)\n",
      "Saving to: ‘./Meth9_R1_001_val_1_bismark_bt2_pe.deduplicated._5x.bedgraph’\n",
      "\n",
      "Meth9_R1_001_val_1_ 100%[===================>]  21.76M  8.59MB/s    in 2.5s    \n",
      "\n",
      "2020-04-01 14:33:48 (8.59 MB/s) - ‘./Meth9_R1_001_val_1_bismark_bt2_pe.deduplicated._5x.bedgraph’ saved [22820182/22820182]\n",
      "\n",
      "--2020-04-01 14:33:48--  https://gannet.fish.washington.edu/seashell/bu-mox/scrubbed/032320-Pact-C1/Pact_C1/dedup/?C=N;O=A\n",
      "Reusing existing connection to gannet.fish.washington.edu:443.\n",
      "HTTP request sent, awaiting response... 200 OK\n",
      "Length: unspecified [text/html]\n",
      "Saving to: ‘./index.html?C=N;O=A.tmp’\n",
      "\n",
      "index.html?C=N;O=A.     [ <=>                ]  61.67K  --.-KB/s    in 0.08s   \n",
      "\n",
      "2020-04-01 14:33:50 (765 KB/s) - ‘./index.html?C=N;O=A.tmp’ saved [63150]\n",
      "\n",
      "Removing ./index.html?C=N;O=A.tmp since it should be rejected.\n",
      "\n",
      "--2020-04-01 14:33:50--  https://gannet.fish.washington.edu/seashell/bu-mox/scrubbed/032320-Pact-C1/Pact_C1/dedup/?C=M;O=D\n",
      "Reusing existing connection to gannet.fish.washington.edu:443.\n",
      "HTTP request sent, awaiting response... 200 OK\n",
      "Length: unspecified [text/html]\n",
      "Saving to: ‘./index.html?C=M;O=D.tmp’\n",
      "\n",
      "index.html?C=M;O=D.     [ <=>                ]  61.67K  --.-KB/s    in 0.08s   \n",
      "\n",
      "2020-04-01 14:33:52 (772 KB/s) - ‘./index.html?C=M;O=D.tmp’ saved [63150]\n",
      "\n",
      "Removing ./index.html?C=M;O=D.tmp since it should be rejected.\n",
      "\n",
      "--2020-04-01 14:33:52--  https://gannet.fish.washington.edu/seashell/bu-mox/scrubbed/032320-Pact-C1/Pact_C1/dedup/?C=S;O=D\n",
      "Reusing existing connection to gannet.fish.washington.edu:443.\n",
      "HTTP request sent, awaiting response... 200 OK\n",
      "Length: unspecified [text/html]\n",
      "Saving to: ‘./index.html?C=S;O=D.tmp’\n",
      "\n",
      "index.html?C=S;O=D.     [ <=>                ]  61.67K  --.-KB/s    in 0.09s   \n",
      "\n",
      "2020-04-01 14:33:54 (704 KB/s) - ‘./index.html?C=S;O=D.tmp’ saved [63150]\n",
      "\n",
      "Removing ./index.html?C=S;O=D.tmp since it should be rejected.\n",
      "\n",
      "--2020-04-01 14:33:54--  https://gannet.fish.washington.edu/seashell/bu-mox/scrubbed/032320-Pact-C1/Pact_C1/dedup/?C=D;O=D\n",
      "Reusing existing connection to gannet.fish.washington.edu:443.\n",
      "HTTP request sent, awaiting response... 200 OK\n",
      "Length: unspecified [text/html]\n",
      "Saving to: ‘./index.html?C=D;O=D.tmp’\n",
      "\n",
      "index.html?C=D;O=D.     [ <=>                ]  61.67K  --.-KB/s    in 0.05s   \n",
      "\n",
      "2020-04-01 14:33:55 (1.20 MB/s) - ‘./index.html?C=D;O=D.tmp’ saved [63150]\n",
      "\n",
      "Removing ./index.html?C=D;O=D.tmp since it should be rejected.\n",
      "\n",
      "FINISHED --2020-04-01 14:33:55--\n",
      "Total wall clock time: 1m 9s\n",
      "Downloaded: 21 files, 418M in 54s (7.80 MB/s)\n"
     ]
    }
   ],
   "source": [
    "!wget -r \\\n",
    "--no-directories --no-parent \\\n",
    "-P . \\\n",
    "-A 5x.bedgraph https://gannet.fish.washington.edu/seashell/bu-mox/scrubbed/032320-Pact-C1/Pact_C1/dedup/\n"
   ]
  },
  {
   "cell_type": "code",
   "execution_count": 23,
   "metadata": {
    "ExecuteTime": {
     "end_time": "2020-04-01T21:37:00.230435Z",
     "start_time": "2020-04-01T21:37:00.067763Z"
    }
   },
   "outputs": [
    {
     "name": "stdout",
     "output_type": "stream",
     "text": [
      "Meth1_R1_001_val_1_bismark_bt2_pe._5x.bedgraph\r\n",
      "Meth1_R1_001_val_1_bismark_bt2_pe.deduplicated._5x.bedgraph\r\n",
      "Meth2_R1_001_val_1_bismark_bt2_pe._5x.bedgraph\r\n",
      "Meth2_R1_001_val_1_bismark_bt2_pe.deduplicated._5x.bedgraph\r\n",
      "Meth3_R1_001_val_1_bismark_bt2_pe._5x.bedgraph\r\n",
      "Meth3_R1_001_val_1_bismark_bt2_pe.deduplicated._5x.bedgraph\r\n",
      "Meth7_R1_001_val_1_bismark_bt2_pe._5x.bedgraph\r\n",
      "Meth7_R1_001_val_1_bismark_bt2_pe.deduplicated._5x.bedgraph\r\n",
      "Meth8_R1_001_val_1_bismark_bt2_pe._5x.bedgraph\r\n",
      "Meth8_R1_001_val_1_bismark_bt2_pe.deduplicated._5x.bedgraph\r\n",
      "Meth9_R1_001_val_1_bismark_bt2_pe._5x.bedgraph\r\n",
      "Meth9_R1_001_val_1_bismark_bt2_pe.deduplicated._5x.bedgraph\r\n"
     ]
    }
   ],
   "source": [
    "ls"
   ]
  },
  {
   "cell_type": "code",
   "execution_count": 12,
   "metadata": {
    "ExecuteTime": {
     "end_time": "2020-04-01T21:22:44.278677Z",
     "start_time": "2020-04-01T21:22:30.206871Z"
    }
   },
   "outputs": [
    {
     "name": "stdout",
     "output_type": "stream",
     "text": [
      "--2020-04-01 14:22:30--  https://gannet.fish.washington.edu/seashell/bu-mox/scrubbed//032320-Pact-C1/Pact_C1/nodedup/\n",
      "Resolving gannet.fish.washington.edu (gannet.fish.washington.edu)... 128.95.149.52\n",
      "Connecting to gannet.fish.washington.edu (gannet.fish.washington.edu)|128.95.149.52|:443... connected.\n",
      "HTTP request sent, awaiting response... 200 OK\n",
      "Length: unspecified [text/html]\n",
      "Saving to: ‘./index.html.tmp’\n",
      "\n",
      "index.html.tmp          [ <=>                ]  19.25K  --.-KB/s    in 0.02s   \n",
      "\n",
      "2020-04-01 14:22:30 (1.20 MB/s) - ‘./index.html.tmp’ saved [19709]\n",
      "\n",
      "Loading robots.txt; please ignore errors.\n",
      "--2020-04-01 14:22:30--  https://gannet.fish.washington.edu/robots.txt\n",
      "Reusing existing connection to gannet.fish.washington.edu:443.\n",
      "HTTP request sent, awaiting response... 404 Not Found\n",
      "2020-04-01 14:22:30 ERROR 404: Not Found.\n",
      "\n",
      "Removing ./index.html.tmp since it should be rejected.\n",
      "\n",
      "--2020-04-01 14:22:30--  https://gannet.fish.washington.edu/seashell/bu-mox/scrubbed//032320-Pact-C1/Pact_C1/nodedup/?C=N;O=D\n",
      "Reusing existing connection to gannet.fish.washington.edu:443.\n",
      "HTTP request sent, awaiting response... 200 OK\n",
      "Length: unspecified [text/html]\n",
      "Saving to: ‘./index.html?C=N;O=D.tmp’\n",
      "\n",
      "index.html?C=N;O=D.     [ <=>                ]  19.25K  --.-KB/s    in 0.02s   \n",
      "\n",
      "2020-04-01 14:22:31 (1.23 MB/s) - ‘./index.html?C=N;O=D.tmp’ saved [19709]\n",
      "\n",
      "Removing ./index.html?C=N;O=D.tmp since it should be rejected.\n",
      "\n",
      "--2020-04-01 14:22:31--  https://gannet.fish.washington.edu/seashell/bu-mox/scrubbed//032320-Pact-C1/Pact_C1/nodedup/?C=M;O=A\n",
      "Reusing existing connection to gannet.fish.washington.edu:443.\n",
      "HTTP request sent, awaiting response... 200 OK\n",
      "Length: unspecified [text/html]\n",
      "Saving to: ‘./index.html?C=M;O=A.tmp’\n",
      "\n",
      "index.html?C=M;O=A.     [ <=>                ]  19.25K  --.-KB/s    in 0.03s   \n",
      "\n",
      "2020-04-01 14:22:31 (668 KB/s) - ‘./index.html?C=M;O=A.tmp’ saved [19709]\n",
      "\n",
      "Removing ./index.html?C=M;O=A.tmp since it should be rejected.\n",
      "\n",
      "--2020-04-01 14:22:31--  https://gannet.fish.washington.edu/seashell/bu-mox/scrubbed//032320-Pact-C1/Pact_C1/nodedup/?C=S;O=A\n",
      "Reusing existing connection to gannet.fish.washington.edu:443.\n",
      "HTTP request sent, awaiting response... 200 OK\n",
      "Length: unspecified [text/html]\n",
      "Saving to: ‘./index.html?C=S;O=A.tmp’\n",
      "\n",
      "index.html?C=S;O=A.     [ <=>                ]  19.25K  --.-KB/s    in 0.01s   \n",
      "\n",
      "2020-04-01 14:22:31 (1.35 MB/s) - ‘./index.html?C=S;O=A.tmp’ saved [19709]\n",
      "\n",
      "Removing ./index.html?C=S;O=A.tmp since it should be rejected.\n",
      "\n",
      "--2020-04-01 14:22:31--  https://gannet.fish.washington.edu/seashell/bu-mox/scrubbed//032320-Pact-C1/Pact_C1/nodedup/?C=D;O=A\n",
      "Reusing existing connection to gannet.fish.washington.edu:443.\n",
      "HTTP request sent, awaiting response... 200 OK\n",
      "Length: unspecified [text/html]\n",
      "Saving to: ‘./index.html?C=D;O=A.tmp’\n",
      "\n",
      "index.html?C=D;O=A.     [ <=>                ]  19.25K  --.-KB/s    in 0.02s   \n",
      "\n",
      "2020-04-01 14:22:32 (891 KB/s) - ‘./index.html?C=D;O=A.tmp’ saved [19709]\n",
      "\n",
      "Removing ./index.html?C=D;O=A.tmp since it should be rejected.\n",
      "\n",
      "--2020-04-01 14:22:32--  https://gannet.fish.washington.edu/seashell/bu-mox/scrubbed//032320-Pact-C1/Pact_C1/nodedup/Meth4_R1_001_val_1_bismark_bt2_pe._5x.bedgraph\n",
      "Reusing existing connection to gannet.fish.washington.edu:443.\n",
      "HTTP request sent, awaiting response... 200 OK\n",
      "Length: 12087971 (12M)\n",
      "Saving to: ‘./Meth4_R1_001_val_1_bismark_bt2_pe._5x.bedgraph’\n",
      "\n",
      "Meth4_R1_001_val_1_ 100%[===================>]  11.53M  4.57MB/s    in 2.5s    \n",
      "\n",
      "2020-04-01 14:22:34 (4.57 MB/s) - ‘./Meth4_R1_001_val_1_bismark_bt2_pe._5x.bedgraph’ saved [12087971/12087971]\n",
      "\n",
      "--2020-04-01 14:22:34--  https://gannet.fish.washington.edu/seashell/bu-mox/scrubbed//032320-Pact-C1/Pact_C1/nodedup/Meth5_R1_001_val_1_bismark_bt2_pe._5x.bedgraph\n",
      "Reusing existing connection to gannet.fish.washington.edu:443.\n",
      "HTTP request sent, awaiting response... 200 OK\n",
      "Length: 40243067 (38M)\n",
      "Saving to: ‘./Meth5_R1_001_val_1_bismark_bt2_pe._5x.bedgraph’\n",
      "\n",
      "Meth5_R1_001_val_1_ 100%[===================>]  38.38M  8.08MB/s    in 5.5s    \n",
      "\n",
      "2020-04-01 14:22:40 (6.92 MB/s) - ‘./Meth5_R1_001_val_1_bismark_bt2_pe._5x.bedgraph’ saved [40243067/40243067]\n",
      "\n",
      "--2020-04-01 14:22:40--  https://gannet.fish.washington.edu/seashell/bu-mox/scrubbed//032320-Pact-C1/Pact_C1/nodedup/Meth6_R1_001_val_1_bismark_bt2_pe._5x.bedgraph\n",
      "Reusing existing connection to gannet.fish.washington.edu:443.\n",
      "HTTP request sent, awaiting response... 200 OK\n",
      "Length: 21018690 (20M)\n",
      "Saving to: ‘./Meth6_R1_001_val_1_bismark_bt2_pe._5x.bedgraph’\n",
      "\n",
      "Meth6_R1_001_val_1_ 100%[===================>]  20.04M  8.85MB/s    in 2.3s    \n",
      "\n",
      "2020-04-01 14:22:42 (8.85 MB/s) - ‘./Meth6_R1_001_val_1_bismark_bt2_pe._5x.bedgraph’ saved [21018690/21018690]\n",
      "\n",
      "--2020-04-01 14:22:42--  https://gannet.fish.washington.edu/seashell/bu-mox/scrubbed//032320-Pact-C1/Pact_C1/nodedup/?C=N;O=A\n",
      "Reusing existing connection to gannet.fish.washington.edu:443.\n",
      "HTTP request sent, awaiting response... 200 OK\n",
      "Length: unspecified [text/html]\n",
      "Saving to: ‘./index.html?C=N;O=A.tmp’\n",
      "\n",
      "index.html?C=N;O=A.     [ <=>                ]  19.25K  --.-KB/s    in 0.004s  \n",
      "\n",
      "2020-04-01 14:22:43 (4.46 MB/s) - ‘./index.html?C=N;O=A.tmp’ saved [19709]\n",
      "\n",
      "Removing ./index.html?C=N;O=A.tmp since it should be rejected.\n",
      "\n",
      "--2020-04-01 14:22:43--  https://gannet.fish.washington.edu/seashell/bu-mox/scrubbed//032320-Pact-C1/Pact_C1/nodedup/?C=M;O=D\n",
      "Reusing existing connection to gannet.fish.washington.edu:443.\n",
      "HTTP request sent, awaiting response... 200 OK\n",
      "Length: unspecified [text/html]\n",
      "Saving to: ‘./index.html?C=M;O=D.tmp’\n",
      "\n",
      "index.html?C=M;O=D.     [ <=>                ]  19.25K  --.-KB/s    in 0.005s  \n",
      "\n",
      "2020-04-01 14:22:43 (3.90 MB/s) - ‘./index.html?C=M;O=D.tmp’ saved [19709]\n",
      "\n",
      "Removing ./index.html?C=M;O=D.tmp since it should be rejected.\n",
      "\n",
      "--2020-04-01 14:22:43--  https://gannet.fish.washington.edu/seashell/bu-mox/scrubbed//032320-Pact-C1/Pact_C1/nodedup/?C=S;O=D\n",
      "Reusing existing connection to gannet.fish.washington.edu:443.\n",
      "HTTP request sent, awaiting response... 200 OK\n",
      "Length: unspecified [text/html]\n",
      "Saving to: ‘./index.html?C=S;O=D.tmp’\n",
      "\n",
      "index.html?C=S;O=D.     [ <=>                ]  19.25K  --.-KB/s    in 0.001s  \n",
      "\n",
      "2020-04-01 14:22:43 (36.0 MB/s) - ‘./index.html?C=S;O=D.tmp’ saved [19709]\n",
      "\n",
      "Removing ./index.html?C=S;O=D.tmp since it should be rejected.\n",
      "\n",
      "--2020-04-01 14:22:43--  https://gannet.fish.washington.edu/seashell/bu-mox/scrubbed//032320-Pact-C1/Pact_C1/nodedup/?C=D;O=D\n",
      "Reusing existing connection to gannet.fish.washington.edu:443.\n",
      "HTTP request sent, awaiting response... 200 OK\n",
      "Length: unspecified [text/html]\n",
      "Saving to: ‘./index.html?C=D;O=D.tmp’\n",
      "\n",
      "index.html?C=D;O=D.     [ <=>                ]  19.25K  --.-KB/s    in 0.007s  \n",
      "\n",
      "2020-04-01 14:22:44 (2.62 MB/s) - ‘./index.html?C=D;O=D.tmp’ saved [19709]\n",
      "\n",
      "Removing ./index.html?C=D;O=D.tmp since it should be rejected.\n",
      "\n",
      "FINISHED --2020-04-01 14:22:44--\n",
      "Total wall clock time: 14s\n",
      "Downloaded: 12 files, 70M in 10s (6.71 MB/s)\n"
     ]
    }
   ],
   "source": [
    "!wget -r \\\n",
    "--no-directories --no-parent \\\n",
    "-P . \\\n",
    "-A 5x.bedgraph https://gannet.fish.washington.edu/seashell/bu-mox/scrubbed/032320-Pact-C1/Pact_C1/nodedup/"
   ]
  },
  {
   "cell_type": "code",
   "execution_count": 13,
   "metadata": {
    "ExecuteTime": {
     "end_time": "2020-04-01T21:22:44.435699Z",
     "start_time": "2020-04-01T21:22:44.284062Z"
    }
   },
   "outputs": [
    {
     "name": "stdout",
     "output_type": "stream",
     "text": [
      "total 1008208\r\n",
      "-rw-r--r--  1 sr320  staff   6.5M Mar 25 16:51 Meth1_R1_001_val_1_bismark_bt2_pe._5x.bedgraph\r\n",
      "-rw-r--r--  1 sr320  staff   402K Mar 25 16:51 Meth1_R1_001_val_1_bismark_bt2_pe.deduplicated._5x.bedgraph\r\n",
      "-rw-r--r--  1 sr320  staff   817K Mar 25 16:51 Meth2_R1_001_val_1_bismark_bt2_pe._5x.bedgraph\r\n",
      "-rw-r--r--  1 sr320  staff   817K Mar 25 16:51 Meth2_R1_001_val_1_bismark_bt2_pe.deduplicated._5x.bedgraph\r\n",
      "-rw-r--r--  1 sr320  staff   798K Mar 25 16:51 Meth3_R1_001_val_1_bismark_bt2_pe._5x.bedgraph\r\n",
      "-rw-r--r--  1 sr320  staff   798K Mar 25 16:51 Meth3_R1_001_val_1_bismark_bt2_pe.deduplicated._5x.bedgraph\r\n",
      "-rw-r--r--  1 sr320  staff    12M Mar 25 18:52 Meth4_R1_001_val_1_bismark_bt2_pe._5x.bedgraph\r\n",
      "-rw-r--r--  1 sr320  staff    38M Mar 25 18:52 Meth5_R1_001_val_1_bismark_bt2_pe._5x.bedgraph\r\n",
      "-rw-r--r--  1 sr320  staff    20M Mar 25 18:52 Meth6_R1_001_val_1_bismark_bt2_pe._5x.bedgraph\r\n",
      "-rw-r--r--  1 sr320  staff    38M Mar 25 16:52 Meth7_R1_001_val_1_bismark_bt2_pe._5x.bedgraph\r\n",
      "-rw-r--r--  1 sr320  staff    38M Mar 25 16:52 Meth7_R1_001_val_1_bismark_bt2_pe.deduplicated._5x.bedgraph\r\n",
      "-rw-r--r--  1 sr320  staff   144M Mar 25 16:52 Meth8_R1_001_val_1_bismark_bt2_pe._5x.bedgraph\r\n",
      "-rw-r--r--  1 sr320  staff   144M Mar 25 16:53 Meth8_R1_001_val_1_bismark_bt2_pe.deduplicated._5x.bedgraph\r\n",
      "-rw-r--r--  1 sr320  staff    22M Mar 25 16:53 Meth9_R1_001_val_1_bismark_bt2_pe._5x.bedgraph\r\n",
      "-rw-r--r--  1 sr320  staff    22M Mar 25 16:53 Meth9_R1_001_val_1_bismark_bt2_pe.deduplicated._5x.bedgraph\r\n"
     ]
    }
   ],
   "source": [
    "!ls -lh\n"
   ]
  },
  {
   "cell_type": "code",
   "execution_count": 14,
   "metadata": {
    "ExecuteTime": {
     "end_time": "2020-04-01T21:22:46.138556Z",
     "start_time": "2020-04-01T21:22:44.440703Z"
    }
   },
   "outputs": [
    {
     "name": "stdout",
     "output_type": "stream",
     "text": [
      "MD5 (Meth1_R1_001_val_1_bismark_bt2_pe._5x.bedgraph) = 75df9883072cc6c18e44575565ce94c3\n",
      "MD5 (Meth1_R1_001_val_1_bismark_bt2_pe.deduplicated._5x.bedgraph) = f8f3b3331b78402583dadfbe20f91805\n",
      "MD5 (Meth2_R1_001_val_1_bismark_bt2_pe._5x.bedgraph) = c3aac6f1bf10fbb911e416da03f1028d\n",
      "MD5 (Meth2_R1_001_val_1_bismark_bt2_pe.deduplicated._5x.bedgraph) = c3aac6f1bf10fbb911e416da03f1028d\n",
      "MD5 (Meth3_R1_001_val_1_bismark_bt2_pe._5x.bedgraph) = c24ca50b20bf4df069d2e2c5447418e5\n",
      "MD5 (Meth3_R1_001_val_1_bismark_bt2_pe.deduplicated._5x.bedgraph) = c24ca50b20bf4df069d2e2c5447418e5\n",
      "MD5 (Meth4_R1_001_val_1_bismark_bt2_pe._5x.bedgraph) = 2d3e94db93a11868bc5a33214574e7e8\n",
      "MD5 (Meth5_R1_001_val_1_bismark_bt2_pe._5x.bedgraph) = b9fdf179acb46e172218d47704e3ea98\n",
      "MD5 (Meth6_R1_001_val_1_bismark_bt2_pe._5x.bedgraph) = 9c8e752c29560a7c1d949aba9a803fb2\n",
      "MD5 (Meth7_R1_001_val_1_bismark_bt2_pe._5x.bedgraph) = 0d9ee5f8930cf0d555e356491590adaa\n",
      "MD5 (Meth7_R1_001_val_1_bismark_bt2_pe.deduplicated._5x.bedgraph) = 0d9ee5f8930cf0d555e356491590adaa\n",
      "MD5 (Meth8_R1_001_val_1_bismark_bt2_pe._5x.bedgraph) = ef22decefdf872c1da097cc81a3129f6\n",
      "MD5 (Meth8_R1_001_val_1_bismark_bt2_pe.deduplicated._5x.bedgraph) = ef22decefdf872c1da097cc81a3129f6\n",
      "MD5 (Meth9_R1_001_val_1_bismark_bt2_pe._5x.bedgraph) = b4a01f70626c1d47494d12b3c63c01f1\n",
      "MD5 (Meth9_R1_001_val_1_bismark_bt2_pe.deduplicated._5x.bedgraph) = b4a01f70626c1d47494d12b3c63c01f1\n"
     ]
    }
   ],
   "source": [
    "!md5 *"
   ]
  },
  {
   "cell_type": "markdown",
   "metadata": {},
   "source": [
    "Will use unionbed\n",
    "![pic](http://gannet.fish.washington.edu/seashell/snaps/unionbedg__bedtools_2.29.2_documentation_2020-03-28_04-39-52.png)"
   ]
  },
  {
   "cell_type": "code",
   "execution_count": 6,
   "metadata": {
    "ExecuteTime": {
     "end_time": "2020-04-01T14:54:08.179912Z",
     "start_time": "2020-04-01T14:51:07.069055Z"
    }
   },
   "outputs": [],
   "source": [
    "!/Applications/bioinfo/bedtools2/bin/bedtools \\\n",
    "unionbedg \\\n",
    "-header \\\n",
    "-filler N/A \\\n",
    "-names 1 2 3 4 5 6 7 8 9 \\\n",
    "-i \\\n",
    "Meth1_R1_001_val_1_bismark_bt2_pe._5x.bedgraph \\\n",
    "Meth2_R1_001_val_1_bismark_bt2_pe._5x.bedgraph \\\n",
    "Meth3_R1_001_val_1_bismark_bt2_pe._5x.bedgraph \\\n",
    "Meth4_R1_001_val_1_bismark_bt2_pe._5x.bedgraph \\\n",
    "Meth5_R1_001_val_1_bismark_bt2_pe._5x.bedgraph \\\n",
    "Meth6_R1_001_val_1_bismark_bt2_pe._5x.bedgraph \\\n",
    "Meth7_R1_001_val_1_bismark_bt2_pe._5x.bedgraph \\\n",
    "Meth8_R1_001_val_1_bismark_bt2_pe._5x.bedgraph \\\n",
    "Meth9_R1_001_val_1_bismark_bt2_pe._5x.bedgraph \\\n",
    "> ../../analyses/10-unionbedg/Pact-C1_union_5x.bedgraph\n"
   ]
  },
  {
   "cell_type": "code",
   "execution_count": 7,
   "metadata": {
    "ExecuteTime": {
     "end_time": "2020-04-01T14:54:08.328928Z",
     "start_time": "2020-04-01T14:54:08.185299Z"
    }
   },
   "outputs": [
    {
     "name": "stdout",
     "output_type": "stream",
     "text": [
      "chrom\tstart\tend\t1\t2\t3\t4\t5\t6\t7\t8\t9\r\n",
      "scaffold1_cov55\t49\t51\tN/A\t0.000000\tN/A\tN/A\tN/A\tN/A\tN/A\tN/A\tN/A\r\n",
      "scaffold1_cov55\t84\t86\tN/A\t0.000000\tN/A\tN/A\tN/A\tN/A\tN/A\tN/A\tN/A\r\n",
      "scaffold1_cov55\t92\t94\tN/A\t0.000000\tN/A\tN/A\tN/A\tN/A\tN/A\tN/A\tN/A\r\n",
      "scaffold1_cov55\t102\t104\t16.666667\t0.000000\tN/A\tN/A\tN/A\tN/A\tN/A\tN/A\tN/A\r\n",
      "scaffold1_cov55\t105\t107\t0.000000\t12.500000\tN/A\tN/A\tN/A\tN/A\tN/A\tN/A\tN/A\r\n",
      "scaffold1_cov55\t116\t118\t0.000000\t0.000000\tN/A\tN/A\tN/A\tN/A\tN/A\tN/A\tN/A\r\n",
      "scaffold1_cov55\t119\t121\t0.000000\t0.000000\t20.000000\tN/A\tN/A\tN/A\tN/A\tN/A\tN/A\r\n",
      "scaffold1_cov55\t146\t148\t0.000000\t0.000000\tN/A\tN/A\tN/A\tN/A\tN/A\tN/A\tN/A\r\n",
      "scaffold1_cov55\t169\t171\tN/A\t0.000000\tN/A\tN/A\tN/A\tN/A\tN/A\tN/A\tN/A\r\n"
     ]
    }
   ],
   "source": [
    "!head ../../analyses/10-unionbedg/Pact-C1_union_5x.bedgraph"
   ]
  },
  {
   "cell_type": "markdown",
   "metadata": {},
   "source": [
    "availabe @ https://gannet.fish.washington.edu/seashell/bu-github/Meth_Compare/analyses/10-unionbedg/"
   ]
  },
  {
   "cell_type": "markdown",
   "metadata": {},
   "source": [
    "```\n",
    "rsync -avz --exclude=\".*\" --progress Meth_Compare sr320@gannet.fish.washington.edu:/volume2/web/seashell/bu-github/\n",
    "```"
   ]
  },
  {
   "cell_type": "code",
   "execution_count": null,
   "metadata": {},
   "outputs": [],
   "source": []
  }
 ],
 "metadata": {
  "kernelspec": {
   "display_name": "Python 3",
   "language": "python",
   "name": "python3"
  },
  "language_info": {
   "codemirror_mode": {
    "name": "ipython",
    "version": 3
   },
   "file_extension": ".py",
   "mimetype": "text/x-python",
   "name": "python",
   "nbconvert_exporter": "python",
   "pygments_lexer": "ipython3",
   "version": "3.6.8"
  }
 },
 "nbformat": 4,
 "nbformat_minor": 2
}
