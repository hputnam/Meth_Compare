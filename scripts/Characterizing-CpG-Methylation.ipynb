{
 "cells": [
  {
   "cell_type": "markdown",
   "metadata": {},
   "source": [
    "# Characterizing CpG Methylation\n",
    "\n",
    "In this notebook, general methylation landscapes in *Montipora capitata* and *Pocillopora acuta* will be characterized based on WGSB, RRBS, and MBD-BSseq data.\n",
    "\n",
    "1. Download coverage files\n",
    "2. Characterize methylation for each CpG dinucleotide\n",
    "3. Characterize genomic locations of all sequenced data, methylated CpGs, sparsely methylated CpGs, and unmethylated CpGs for each sequencing type\n",
    "4. Identify methylation islands for each species\n",
    "5. Characterize genomic location of methylation islands"
   ]
  },
  {
   "cell_type": "markdown",
   "metadata": {},
   "source": [
    "## 0. Set working directory"
   ]
  },
  {
   "cell_type": "code",
   "execution_count": 1,
   "metadata": {},
   "outputs": [
    {
     "name": "stdout",
     "output_type": "stream",
     "text": [
      "/Users/yaaminivenkataraman/Documents/Meth_Compare/scripts\r\n"
     ]
    }
   ],
   "source": [
    "!pwd"
   ]
  },
  {
   "cell_type": "code",
   "execution_count": 2,
   "metadata": {},
   "outputs": [
    {
     "name": "stdout",
     "output_type": "stream",
     "text": [
      "/Users/yaaminivenkataraman/Documents/Meth_Compare/analyses\n"
     ]
    }
   ],
   "source": [
    "cd ../analyses/"
   ]
  },
  {
   "cell_type": "code",
   "execution_count": 3,
   "metadata": {},
   "outputs": [],
   "source": [
    "#!mkdir Characterizing-CpG-Methylation"
   ]
  },
  {
   "cell_type": "code",
   "execution_count": 3,
   "metadata": {},
   "outputs": [
    {
     "name": "stdout",
     "output_type": "stream",
     "text": [
      "/Users/yaaminivenkataraman/Documents/Meth_Compare/analyses/Characterizing-CpG-Methylation\n"
     ]
    }
   ],
   "source": [
    "cd Characterizing-CpG-Methylation/"
   ]
  },
  {
   "cell_type": "markdown",
   "metadata": {},
   "source": [
    "## 1. Download coverage files"
   ]
  },
  {
   "cell_type": "markdown",
   "metadata": {},
   "source": [
    "### 1a. *M. capitata*"
   ]
  },
  {
   "cell_type": "code",
   "execution_count": 16,
   "metadata": {
    "scrolled": true
   },
   "outputs": [
    {
     "name": "stdout",
     "output_type": "stream",
     "text": [
      "--2020-03-07 13:14:04--  https://gannet.fish.washington.edu/tmp/Mcap_full-u1M/dedup/\n",
      "Resolving gannet.fish.washington.edu... 128.95.149.52\n",
      "Connecting to gannet.fish.washington.edu|128.95.149.52|:443... connected.\n",
      "HTTP request sent, awaiting response... 200 OK\n",
      "Length: unspecified [text/html]\n",
      "Saving to: ‘gannet.fish.washington.edu/tmp/Mcap_full-u1M/dedup/index.html.tmp’\n",
      "\n",
      "gannet.fish.washing     [ <=>                ]  49.55K  --.-KB/s    in 0.006s  \n",
      "\n",
      "2020-03-07 13:14:05 (7.89 MB/s) - ‘gannet.fish.washington.edu/tmp/Mcap_full-u1M/dedup/index.html.tmp’ saved [50740]\n",
      "\n",
      "Loading robots.txt; please ignore errors.\n",
      "--2020-03-07 13:14:05--  https://gannet.fish.washington.edu/robots.txt\n",
      "Reusing existing connection to gannet.fish.washington.edu:443.\n",
      "HTTP request sent, awaiting response... 404 Not Found\n",
      "2020-03-07 13:14:05 ERROR 404: Not Found.\n",
      "\n",
      "Removing gannet.fish.washington.edu/tmp/Mcap_full-u1M/dedup/index.html.tmp since it should be rejected.\n",
      "\n",
      "--2020-03-07 13:14:05--  https://gannet.fish.washington.edu/tmp/Mcap_full-u1M/dedup/?C=N;O=D\n",
      "Reusing existing connection to gannet.fish.washington.edu:443.\n",
      "HTTP request sent, awaiting response... 200 OK\n",
      "Length: unspecified [text/html]\n",
      "Saving to: ‘gannet.fish.washington.edu/tmp/Mcap_full-u1M/dedup/index.html?C=N;O=D.tmp’\n",
      "\n",
      "gannet.fish.washing     [ <=>                ]  49.55K  --.-KB/s    in 0.01s   \n",
      "\n",
      "2020-03-07 13:14:06 (4.36 MB/s) - ‘gannet.fish.washington.edu/tmp/Mcap_full-u1M/dedup/index.html?C=N;O=D.tmp’ saved [50740]\n",
      "\n",
      "Removing gannet.fish.washington.edu/tmp/Mcap_full-u1M/dedup/index.html?C=N;O=D.tmp since it should be rejected.\n",
      "\n",
      "--2020-03-07 13:14:06--  https://gannet.fish.washington.edu/tmp/Mcap_full-u1M/dedup/?C=M;O=A\n",
      "Reusing existing connection to gannet.fish.washington.edu:443.\n",
      "HTTP request sent, awaiting response... 200 OK\n",
      "Length: unspecified [text/html]\n",
      "Saving to: ‘gannet.fish.washington.edu/tmp/Mcap_full-u1M/dedup/index.html?C=M;O=A.tmp’\n",
      "\n",
      "gannet.fish.washing     [ <=>                ]  49.55K  --.-KB/s    in 0.008s  \n",
      "\n",
      "2020-03-07 13:14:06 (6.07 MB/s) - ‘gannet.fish.washington.edu/tmp/Mcap_full-u1M/dedup/index.html?C=M;O=A.tmp’ saved [50740]\n",
      "\n",
      "Removing gannet.fish.washington.edu/tmp/Mcap_full-u1M/dedup/index.html?C=M;O=A.tmp since it should be rejected.\n",
      "\n",
      "--2020-03-07 13:14:06--  https://gannet.fish.washington.edu/tmp/Mcap_full-u1M/dedup/?C=S;O=A\n",
      "Reusing existing connection to gannet.fish.washington.edu:443.\n",
      "HTTP request sent, awaiting response... 200 OK\n",
      "Length: unspecified [text/html]\n",
      "Saving to: ‘gannet.fish.washington.edu/tmp/Mcap_full-u1M/dedup/index.html?C=S;O=A.tmp’\n",
      "\n",
      "gannet.fish.washing     [ <=>                ]  49.55K  --.-KB/s    in 0.009s  \n",
      "\n",
      "2020-03-07 13:14:07 (5.66 MB/s) - ‘gannet.fish.washington.edu/tmp/Mcap_full-u1M/dedup/index.html?C=S;O=A.tmp’ saved [50740]\n",
      "\n",
      "Removing gannet.fish.washington.edu/tmp/Mcap_full-u1M/dedup/index.html?C=S;O=A.tmp since it should be rejected.\n",
      "\n",
      "--2020-03-07 13:14:07--  https://gannet.fish.washington.edu/tmp/Mcap_full-u1M/dedup/?C=D;O=A\n",
      "Reusing existing connection to gannet.fish.washington.edu:443.\n",
      "HTTP request sent, awaiting response... 200 OK\n",
      "Length: unspecified [text/html]\n",
      "Saving to: ‘gannet.fish.washington.edu/tmp/Mcap_full-u1M/dedup/index.html?C=D;O=A.tmp’\n",
      "\n",
      "gannet.fish.washing     [ <=>                ]  49.55K  --.-KB/s    in 0.009s  \n",
      "\n",
      "2020-03-07 13:14:08 (5.60 MB/s) - ‘gannet.fish.washington.edu/tmp/Mcap_full-u1M/dedup/index.html?C=D;O=A.tmp’ saved [50740]\n",
      "\n",
      "Removing gannet.fish.washington.edu/tmp/Mcap_full-u1M/dedup/index.html?C=D;O=A.tmp since it should be rejected.\n",
      "\n",
      "Warning: wildcards not supported in HTTP.\n",
      "--2020-03-07 13:14:08--  https://gannet.fish.washington.edu/tmp/Mcap_full-u1M/dedup/*merged_CpG_evidence.cov_10x.bedgraph\n",
      "Reusing existing connection to gannet.fish.washington.edu:443.\n",
      "HTTP request sent, awaiting response... 200 OK\n",
      "Length: 0 [text/plain]\n",
      "Saving to: ‘gannet.fish.washington.edu/tmp/Mcap_full-u1M/dedup/*merged_CpG_evidence.cov_10x.bedgraph’\n",
      "\n",
      "gannet.fish.washing     [ <=>                ]       0  --.-KB/s    in 0s      \n",
      "\n",
      "2020-03-07 13:14:08 (0.00 B/s) - ‘gannet.fish.washington.edu/tmp/Mcap_full-u1M/dedup/*merged_CpG_evidence.cov_10x.bedgraph’ saved [0/0]\n",
      "\n",
      "--2020-03-07 13:14:08--  https://gannet.fish.washington.edu/tmp/Mcap_full-u1M/dedup/Meth10.fastp-trim.202003063900_R1_001_bismark_bt2_pe._10x.bedgraph\n",
      "Reusing existing connection to gannet.fish.washington.edu:443.\n",
      "HTTP request sent, awaiting response... 200 OK\n",
      "Length: 243388 (238K)\n",
      "Saving to: ‘gannet.fish.washington.edu/tmp/Mcap_full-u1M/dedup/Meth10.fastp-trim.202003063900_R1_001_bismark_bt2_pe._10x.bedgraph’\n",
      "\n",
      "gannet.fish.washing 100%[===================>] 237.68K  --.-KB/s    in 0.03s   \n",
      "\n",
      "2020-03-07 13:14:08 (7.98 MB/s) - ‘gannet.fish.washington.edu/tmp/Mcap_full-u1M/dedup/Meth10.fastp-trim.202003063900_R1_001_bismark_bt2_pe._10x.bedgraph’ saved [243388/243388]\n",
      "\n",
      "--2020-03-07 13:14:08--  https://gannet.fish.washington.edu/tmp/Mcap_full-u1M/dedup/Meth11.fastp-trim.202003065734_R1_001_bismark_bt2_pe._10x.bedgraph\n",
      "Reusing existing connection to gannet.fish.washington.edu:443.\n",
      "HTTP request sent, awaiting response... 200 OK\n",
      "Length: 295876 (289K)\n",
      "Saving to: ‘gannet.fish.washington.edu/tmp/Mcap_full-u1M/dedup/Meth11.fastp-trim.202003065734_R1_001_bismark_bt2_pe._10x.bedgraph’\n",
      "\n",
      "gannet.fish.washing 100%[===================>] 288.94K  --.-KB/s    in 0.03s   \n",
      "\n",
      "2020-03-07 13:14:08 (9.42 MB/s) - ‘gannet.fish.washington.edu/tmp/Mcap_full-u1M/dedup/Meth11.fastp-trim.202003065734_R1_001_bismark_bt2_pe._10x.bedgraph’ saved [295876/295876]\n",
      "\n",
      "--2020-03-07 13:14:08--  https://gannet.fish.washington.edu/tmp/Mcap_full-u1M/dedup/Meth12.fastp-trim.202003060645_R1_001_bismark_bt2_pe._10x.bedgraph\n",
      "Reusing existing connection to gannet.fish.washington.edu:443.\n",
      "HTTP request sent, awaiting response... 200 OK\n",
      "Length: 238978 (233K)\n",
      "Saving to: ‘gannet.fish.washington.edu/tmp/Mcap_full-u1M/dedup/Meth12.fastp-trim.202003060645_R1_001_bismark_bt2_pe._10x.bedgraph’\n",
      "\n",
      "gannet.fish.washing 100%[===================>] 233.38K  --.-KB/s    in 0.02s   \n",
      "\n",
      "2020-03-07 13:14:08 (10.6 MB/s) - ‘gannet.fish.washington.edu/tmp/Mcap_full-u1M/dedup/Meth12.fastp-trim.202003060645_R1_001_bismark_bt2_pe._10x.bedgraph’ saved [238978/238978]\n",
      "\n",
      "--2020-03-07 13:14:08--  https://gannet.fish.washington.edu/tmp/Mcap_full-u1M/dedup/Meth16.fastp-trim.202003062412_R1_001_bismark_bt2_pe._10x.bedgraph\n",
      "Reusing existing connection to gannet.fish.washington.edu:443.\n",
      "HTTP request sent, awaiting response... 200 OK\n",
      "Length: 195512 (191K)\n",
      "Saving to: ‘gannet.fish.washington.edu/tmp/Mcap_full-u1M/dedup/Meth16.fastp-trim.202003062412_R1_001_bismark_bt2_pe._10x.bedgraph’\n",
      "\n",
      "gannet.fish.washing 100%[===================>] 190.93K  --.-KB/s    in 0.02s   \n",
      "\n",
      "2020-03-07 13:14:09 (8.56 MB/s) - ‘gannet.fish.washington.edu/tmp/Mcap_full-u1M/dedup/Meth16.fastp-trim.202003062412_R1_001_bismark_bt2_pe._10x.bedgraph’ saved [195512/195512]\n",
      "\n",
      "--2020-03-07 13:14:09--  https://gannet.fish.washington.edu/tmp/Mcap_full-u1M/dedup/Meth17.fastp-trim.202003063731_R1_001_bismark_bt2_pe._10x.bedgraph\n",
      "Reusing existing connection to gannet.fish.washington.edu:443.\n",
      "HTTP request sent, awaiting response... 200 OK\n",
      "Length: 127635 (125K)\n",
      "Saving to: ‘gannet.fish.washington.edu/tmp/Mcap_full-u1M/dedup/Meth17.fastp-trim.202003063731_R1_001_bismark_bt2_pe._10x.bedgraph’\n",
      "\n",
      "gannet.fish.washing 100%[===================>] 124.64K  --.-KB/s    in 0.01s   \n",
      "\n",
      "2020-03-07 13:14:09 (8.53 MB/s) - ‘gannet.fish.washington.edu/tmp/Mcap_full-u1M/dedup/Meth17.fastp-trim.202003063731_R1_001_bismark_bt2_pe._10x.bedgraph’ saved [127635/127635]\n",
      "\n",
      "--2020-03-07 13:14:09--  https://gannet.fish.washington.edu/tmp/Mcap_full-u1M/dedup/Meth18.fastp-trim.202003065117_R1_001_bismark_bt2_pe._10x.bedgraph\n",
      "Reusing existing connection to gannet.fish.washington.edu:443.\n",
      "HTTP request sent, awaiting response... 200 OK\n",
      "Length: 100170 (98K)\n",
      "Saving to: ‘gannet.fish.washington.edu/tmp/Mcap_full-u1M/dedup/Meth18.fastp-trim.202003065117_R1_001_bismark_bt2_pe._10x.bedgraph’\n",
      "\n",
      "gannet.fish.washing 100%[===================>]  97.82K  --.-KB/s    in 0.008s  \n",
      "\n",
      "2020-03-07 13:14:09 (12.3 MB/s) - ‘gannet.fish.washington.edu/tmp/Mcap_full-u1M/dedup/Meth18.fastp-trim.202003065117_R1_001_bismark_bt2_pe._10x.bedgraph’ saved [100170/100170]\n",
      "\n",
      "FINISHED --2020-03-07 13:14:09--\n",
      "Total wall clock time: 5.0s\n",
      "Downloaded: 12 files, 1.4M in 0.2s (8.32 MB/s)\n"
     ]
    }
   ],
   "source": [
    "#Download Mcap WGBS and MBD-BS 10x sample bedgraphs\n",
    "!wget -r -l1 --no-parent -A \"*_10x.bedgraph\" https://gannet.fish.washington.edu/tmp/Mcap_full-u1M/dedup/"
   ]
  },
  {
   "cell_type": "code",
   "execution_count": 17,
   "metadata": {},
   "outputs": [],
   "source": [
    "#Move samples from directory structure on gannet to cd\n",
    "!mv gannet.fish.washington.edu/tmp/Mcap_full-u1M/dedup/* ."
   ]
  },
  {
   "cell_type": "code",
   "execution_count": 20,
   "metadata": {},
   "outputs": [],
   "source": [
    "#Remove empty directory\n",
    "!rm -r gannet.fish.washington.edu/"
   ]
  },
  {
   "cell_type": "code",
   "execution_count": 76,
   "metadata": {
    "scrolled": true
   },
   "outputs": [
    {
     "name": "stdout",
     "output_type": "stream",
     "text": [
      "--2020-03-07 14:36:50--  https://gannet.fish.washington.edu/tmp/Mcap_full-u1M/nodedup/\n",
      "Resolving gannet.fish.washington.edu... 128.95.149.52\n",
      "Connecting to gannet.fish.washington.edu|128.95.149.52|:443... connected.\n",
      "HTTP request sent, awaiting response... 200 OK\n",
      "Length: unspecified [text/html]\n",
      "Saving to: ‘gannet.fish.washington.edu/tmp/Mcap_full-u1M/nodedup/index.html.tmp’\n",
      "\n",
      "gannet.fish.washing     [ <=>                ]  23.48K  --.-KB/s    in 0.005s  \n",
      "\n",
      "2020-03-07 14:36:50 (4.74 MB/s) - ‘gannet.fish.washington.edu/tmp/Mcap_full-u1M/nodedup/index.html.tmp’ saved [24044]\n",
      "\n",
      "Loading robots.txt; please ignore errors.\n",
      "--2020-03-07 14:36:50--  https://gannet.fish.washington.edu/robots.txt\n",
      "Reusing existing connection to gannet.fish.washington.edu:443.\n",
      "HTTP request sent, awaiting response... 404 Not Found\n",
      "2020-03-07 14:36:50 ERROR 404: Not Found.\n",
      "\n",
      "Removing gannet.fish.washington.edu/tmp/Mcap_full-u1M/nodedup/index.html.tmp since it should be rejected.\n",
      "\n",
      "--2020-03-07 14:36:50--  https://gannet.fish.washington.edu/tmp/Mcap_full-u1M/nodedup/?C=N;O=D\n",
      "Reusing existing connection to gannet.fish.washington.edu:443.\n",
      "HTTP request sent, awaiting response... 200 OK\n",
      "Length: unspecified [text/html]\n",
      "Saving to: ‘gannet.fish.washington.edu/tmp/Mcap_full-u1M/nodedup/index.html?C=N;O=D.tmp’\n",
      "\n",
      "gannet.fish.washing     [ <=>                ]  23.48K  --.-KB/s    in 0.004s  \n",
      "\n",
      "2020-03-07 14:36:51 (5.53 MB/s) - ‘gannet.fish.washington.edu/tmp/Mcap_full-u1M/nodedup/index.html?C=N;O=D.tmp’ saved [24044]\n",
      "\n",
      "Removing gannet.fish.washington.edu/tmp/Mcap_full-u1M/nodedup/index.html?C=N;O=D.tmp since it should be rejected.\n",
      "\n",
      "--2020-03-07 14:36:51--  https://gannet.fish.washington.edu/tmp/Mcap_full-u1M/nodedup/?C=M;O=A\n",
      "Reusing existing connection to gannet.fish.washington.edu:443.\n",
      "HTTP request sent, awaiting response... 200 OK\n",
      "Length: unspecified [text/html]\n",
      "Saving to: ‘gannet.fish.washington.edu/tmp/Mcap_full-u1M/nodedup/index.html?C=M;O=A.tmp’\n",
      "\n",
      "gannet.fish.washing     [ <=>                ]  23.48K  --.-KB/s    in 0.005s  \n",
      "\n",
      "2020-03-07 14:36:51 (4.50 MB/s) - ‘gannet.fish.washington.edu/tmp/Mcap_full-u1M/nodedup/index.html?C=M;O=A.tmp’ saved [24044]\n",
      "\n",
      "Removing gannet.fish.washington.edu/tmp/Mcap_full-u1M/nodedup/index.html?C=M;O=A.tmp since it should be rejected.\n",
      "\n",
      "--2020-03-07 14:36:51--  https://gannet.fish.washington.edu/tmp/Mcap_full-u1M/nodedup/?C=S;O=A\n",
      "Reusing existing connection to gannet.fish.washington.edu:443.\n",
      "HTTP request sent, awaiting response... 200 OK\n",
      "Length: unspecified [text/html]\n",
      "Saving to: ‘gannet.fish.washington.edu/tmp/Mcap_full-u1M/nodedup/index.html?C=S;O=A.tmp’\n",
      "\n",
      "gannet.fish.washing     [ <=>                ]  23.48K  --.-KB/s    in 0.006s  \n",
      "\n",
      "2020-03-07 14:36:51 (3.66 MB/s) - ‘gannet.fish.washington.edu/tmp/Mcap_full-u1M/nodedup/index.html?C=S;O=A.tmp’ saved [24044]\n",
      "\n",
      "Removing gannet.fish.washington.edu/tmp/Mcap_full-u1M/nodedup/index.html?C=S;O=A.tmp since it should be rejected.\n",
      "\n",
      "--2020-03-07 14:36:51--  https://gannet.fish.washington.edu/tmp/Mcap_full-u1M/nodedup/?C=D;O=A\n",
      "Reusing existing connection to gannet.fish.washington.edu:443.\n",
      "HTTP request sent, awaiting response... 200 OK\n",
      "Length: unspecified [text/html]\n",
      "Saving to: ‘gannet.fish.washington.edu/tmp/Mcap_full-u1M/nodedup/index.html?C=D;O=A.tmp’\n",
      "\n",
      "gannet.fish.washing     [ <=>                ]  23.48K  --.-KB/s    in 0.001s  \n",
      "\n",
      "2020-03-07 14:36:52 (21.5 MB/s) - ‘gannet.fish.washington.edu/tmp/Mcap_full-u1M/nodedup/index.html?C=D;O=A.tmp’ saved [24044]\n",
      "\n",
      "Removing gannet.fish.washington.edu/tmp/Mcap_full-u1M/nodedup/index.html?C=D;O=A.tmp since it should be rejected.\n",
      "\n",
      "Warning: wildcards not supported in HTTP.\n",
      "--2020-03-07 14:36:52--  https://gannet.fish.washington.edu/tmp/Mcap_full-u1M/nodedup/*merged_CpG_evidence.cov_10x.bedgraph\n",
      "Reusing existing connection to gannet.fish.washington.edu:443.\n",
      "HTTP request sent, awaiting response... 200 OK\n",
      "Length: 0 [text/plain]\n",
      "Saving to: ‘gannet.fish.washington.edu/tmp/Mcap_full-u1M/nodedup/*merged_CpG_evidence.cov_10x.bedgraph’\n",
      "\n",
      "gannet.fish.washing     [ <=>                ]       0  --.-KB/s    in 0s      \n",
      "\n",
      "2020-03-07 14:36:52 (0.00 B/s) - ‘gannet.fish.washington.edu/tmp/Mcap_full-u1M/nodedup/*merged_CpG_evidence.cov_10x.bedgraph’ saved [0/0]\n",
      "\n",
      "--2020-03-07 14:36:52--  https://gannet.fish.washington.edu/tmp/Mcap_full-u1M/nodedup/Meth13.fastp-trim.202003062040_R1_001_bismark_bt2_pe_10x.bedgraph\n",
      "Reusing existing connection to gannet.fish.washington.edu:443.\n",
      "HTTP request sent, awaiting response... 200 OK\n",
      "Length: 37776617 (36M)\n",
      "Saving to: ‘gannet.fish.washington.edu/tmp/Mcap_full-u1M/nodedup/Meth13.fastp-trim.202003062040_R1_001_bismark_bt2_pe_10x.bedgraph’\n",
      "\n",
      "gannet.fish.washing 100%[===================>]  36.03M  15.0MB/s    in 2.4s    \n",
      "\n",
      "2020-03-07 14:36:54 (15.0 MB/s) - ‘gannet.fish.washington.edu/tmp/Mcap_full-u1M/nodedup/Meth13.fastp-trim.202003062040_R1_001_bismark_bt2_pe_10x.bedgraph’ saved [37776617/37776617]\n",
      "\n",
      "--2020-03-07 14:36:54--  https://gannet.fish.washington.edu/tmp/Mcap_full-u1M/nodedup/Meth14.fastp-trim.202003064415_R1_001_bismark_bt2_pe_10x.bedgraph\n",
      "Reusing existing connection to gannet.fish.washington.edu:443.\n",
      "HTTP request sent, awaiting response... 200 OK\n",
      "Length: 31672793 (30M)\n",
      "Saving to: ‘gannet.fish.washington.edu/tmp/Mcap_full-u1M/nodedup/Meth14.fastp-trim.202003064415_R1_001_bismark_bt2_pe_10x.bedgraph’\n",
      "\n",
      "gannet.fish.washing 100%[===================>]  30.21M  17.5MB/s    in 1.7s    \n",
      "\n",
      "2020-03-07 14:36:56 (17.5 MB/s) - ‘gannet.fish.washington.edu/tmp/Mcap_full-u1M/nodedup/Meth14.fastp-trim.202003064415_R1_001_bismark_bt2_pe_10x.bedgraph’ saved [31672793/31672793]\n",
      "\n",
      "--2020-03-07 14:36:56--  https://gannet.fish.washington.edu/tmp/Mcap_full-u1M/nodedup/Meth15.fastp-trim.202003065503_R1_001_bismark_bt2_pe_10x.bedgraph\n",
      "Reusing existing connection to gannet.fish.washington.edu:443.\n",
      "HTTP request sent, awaiting response... 200 OK\n",
      "Length: 33322280 (32M)\n",
      "Saving to: ‘gannet.fish.washington.edu/tmp/Mcap_full-u1M/nodedup/Meth15.fastp-trim.202003065503_R1_001_bismark_bt2_pe_10x.bedgraph’\n",
      "\n",
      "gannet.fish.washing 100%[===================>]  31.78M  18.3MB/s    in 1.7s    \n",
      "\n",
      "2020-03-07 14:36:58 (18.3 MB/s) - ‘gannet.fish.washington.edu/tmp/Mcap_full-u1M/nodedup/Meth15.fastp-trim.202003065503_R1_001_bismark_bt2_pe_10x.bedgraph’ saved [33322280/33322280]\n",
      "\n",
      "FINISHED --2020-03-07 14:36:58--\n",
      "Total wall clock time: 7.7s\n",
      "Downloaded: 9 files, 98M in 5.9s (16.7 MB/s)\n"
     ]
    }
   ],
   "source": [
    "#Download Mcap RRBS 10x sample bedgraphs\n",
    "!wget -r -l1 --no-parent -A \"*_10x.bedgraph\" https://gannet.fish.washington.edu/tmp/Mcap_full-u1M/nodedup/"
   ]
  },
  {
   "cell_type": "code",
   "execution_count": 77,
   "metadata": {},
   "outputs": [],
   "source": [
    "#Move samples from directory structure on gannet to cd\n",
    "!mv gannet.fish.washington.edu/tmp/Mcap_full-u1M/nodedup/* ."
   ]
  },
  {
   "cell_type": "code",
   "execution_count": 78,
   "metadata": {},
   "outputs": [],
   "source": [
    "#Remove empty directory\n",
    "!rm -r gannet.fish.washington.edu/"
   ]
  },
  {
   "cell_type": "code",
   "execution_count": 80,
   "metadata": {},
   "outputs": [
    {
     "name": "stdout",
     "output_type": "stream",
     "text": [
      "Meth10.fastp-trim.202003063900_R1_001_bismark_bt2_pe._10x.bedgraph\r\n",
      "Meth11.fastp-trim.202003065734_R1_001_bismark_bt2_pe._10x.bedgraph\r\n",
      "Meth12.fastp-trim.202003060645_R1_001_bismark_bt2_pe._10x.bedgraph\r\n",
      "Meth13.fastp-trim.202003062040_R1_001_bismark_bt2_pe_10x.bedgraph\r\n",
      "Meth14.fastp-trim.202003064415_R1_001_bismark_bt2_pe_10x.bedgraph\r\n",
      "Meth15.fastp-trim.202003065503_R1_001_bismark_bt2_pe_10x.bedgraph\r\n",
      "Meth16.fastp-trim.202003062412_R1_001_bismark_bt2_pe._10x.bedgraph\r\n",
      "Meth17.fastp-trim.202003063731_R1_001_bismark_bt2_pe._10x.bedgraph\r\n",
      "Meth18.fastp-trim.202003065117_R1_001_bismark_bt2_pe._10x.bedgraph\r\n"
     ]
    }
   ],
   "source": [
    "!find *bedgraph"
   ]
  },
  {
   "cell_type": "code",
   "execution_count": 81,
   "metadata": {
    "scrolled": true
   },
   "outputs": [],
   "source": [
    "%%bash\n",
    "\n",
    "for f in *bedgraph\n",
    "do\n",
    "    cat ${f} > ${f}-Mcap\n",
    "done"
   ]
  },
  {
   "cell_type": "code",
   "execution_count": 82,
   "metadata": {
    "scrolled": false
   },
   "outputs": [
    {
     "name": "stdout",
     "output_type": "stream",
     "text": [
      "2\t1779837\t1779839\t0.000000\r\n",
      "2\t1779853\t1779855\t0.000000\r\n",
      "2\t1779898\t1779900\t0.000000\r\n",
      "2\t1804233\t1804235\t0.000000\r\n",
      "2\t1804297\t1804299\t0.000000\r\n",
      "2\t1804303\t1804305\t4.000000\r\n",
      "2\t1804306\t1804308\t0.000000\r\n",
      "2\t1804322\t1804324\t0.000000\r\n",
      "2\t1804347\t1804349\t7.142857\r\n",
      "2\t1804359\t1804361\t0.000000\r\n"
     ]
    }
   ],
   "source": [
    "#Columns: chr, start, end, %meth\n",
    "!head Meth10.fastp-trim.202003063900_R1_001_bismark_bt2_pe._10x.bedgraph-Mcap"
   ]
  },
  {
   "cell_type": "code",
   "execution_count": 83,
   "metadata": {
    "scrolled": false
   },
   "outputs": [
    {
     "name": "stdout",
     "output_type": "stream",
     "text": [
      "    9099 Meth10.fastp-trim.202003063900_R1_001_bismark_bt2_pe._10x.bedgraph-Mcap\n",
      "   11090 Meth11.fastp-trim.202003065734_R1_001_bismark_bt2_pe._10x.bedgraph-Mcap\n",
      "    8966 Meth12.fastp-trim.202003060645_R1_001_bismark_bt2_pe._10x.bedgraph-Mcap\n",
      " 1405400 Meth13.fastp-trim.202003062040_R1_001_bismark_bt2_pe_10x.bedgraph-Mcap\n",
      " 1177284 Meth14.fastp-trim.202003064415_R1_001_bismark_bt2_pe_10x.bedgraph-Mcap\n",
      " 1238727 Meth15.fastp-trim.202003065503_R1_001_bismark_bt2_pe_10x.bedgraph-Mcap\n",
      "    7230 Meth16.fastp-trim.202003062412_R1_001_bismark_bt2_pe._10x.bedgraph-Mcap\n",
      "    4776 Meth17.fastp-trim.202003063731_R1_001_bismark_bt2_pe._10x.bedgraph-Mcap\n",
      "    3739 Meth18.fastp-trim.202003065117_R1_001_bismark_bt2_pe._10x.bedgraph-Mcap\n",
      " 3866311 total\n"
     ]
    }
   ],
   "source": [
    "!wc -l *bedgraph-Mcap"
   ]
  },
  {
   "cell_type": "markdown",
   "metadata": {},
   "source": [
    "### 1b. *P. acuta*"
   ]
  },
  {
   "cell_type": "markdown",
   "metadata": {},
   "source": [
    "## 2. Characterize methylation for each CpG dinucleotide\n",
    "\n",
    "- Methylated: > 50% methylation\n",
    "- Sparsely methylated: 10-50% methylation\n",
    "- Unmethylated: < 10% methylation"
   ]
  },
  {
   "cell_type": "markdown",
   "metadata": {},
   "source": [
    "### 2a. *M. capitata*"
   ]
  },
  {
   "cell_type": "markdown",
   "metadata": {},
   "source": [
    "#### Methylated loci"
   ]
  },
  {
   "cell_type": "code",
   "execution_count": 86,
   "metadata": {},
   "outputs": [],
   "source": [
    "%%bash\n",
    "for f in *Mcap\n",
    "do\n",
    "    awk '{if ($4 >= 50) { print $1, $2, $3, $4 }}' ${f} \\\n",
    "    > ${f}-Meth\n",
    "done"
   ]
  },
  {
   "cell_type": "code",
   "execution_count": 87,
   "metadata": {
    "scrolled": true
   },
   "outputs": [
    {
     "name": "stdout",
     "output_type": "stream",
     "text": [
      "==> Meth10.fastp-trim.202003063900_R1_001_bismark_bt2_pe._10x.bedgraph-Mcap-Meth <==\r\n",
      "9 525025 525027 50.000000\r\n",
      "16 1095928 1095930 50.000000\r\n",
      "16 1095987 1095989 54.545455\r\n",
      "16 1095993 1095995 66.666667\r\n",
      "16 1937017 1937019 53.846154\r\n",
      "26 1550319 1550321 61.538462\r\n",
      "26 1550325 1550327 64.285714\r\n",
      "26 1550327 1550329 53.846154\r\n",
      "28 407411 407413 50.000000\r\n",
      "28 407920 407922 50.000000\r\n",
      "\r\n",
      "==> Meth11.fastp-trim.202003065734_R1_001_bismark_bt2_pe._10x.bedgraph-Mcap-Meth <==\r\n",
      "2 81840 81842 100.000000\r\n",
      "2 81845 81847 100.000000\r\n",
      "2 81865 81867 92.857143\r\n",
      "2 81900 81902 91.304348\r\n",
      "2 81997 81999 100.000000\r\n",
      "2 82001 82003 100.000000\r\n",
      "2 82009 82011 100.000000\r\n",
      "2 82292 82294 70.000000\r\n",
      "2 82298 82300 100.000000\r\n",
      "2 2675474 2675476 74.074074\r\n",
      "\r\n",
      "==> Meth12.fastp-trim.202003060645_R1_001_bismark_bt2_pe._10x.bedgraph-Mcap-Meth <==\r\n",
      "7 87179 87181 63.636364\r\n",
      "7 2064280 2064282 100.000000\r\n",
      "10 732017 732019 60.000000\r\n",
      "10 732020 732022 100.000000\r\n",
      "10 1190063 1190065 83.333333\r\n",
      "10 1190118 1190120 95.454545\r\n",
      "10 1190131 1190133 100.000000\r\n",
      "10 1190136 1190138 90.476190\r\n",
      "10 1191138 1191140 100.000000\r\n",
      "10 1191170 1191172 90.000000\r\n",
      "\r\n",
      "==> Meth13.fastp-trim.202003062040_R1_001_bismark_bt2_pe_10x.bedgraph-Mcap-Meth <==\r\n",
      "1 16220 16222 53.846154\r\n",
      "1 20729 20731 63.636364\r\n",
      "1 29821 29823 59.259259\r\n",
      "1 32228 32230 65.217391\r\n",
      "1 32771 32773 100.000000\r\n",
      "1 40450 40452 54.545455\r\n",
      "1 42261 42263 80.000000\r\n",
      "1 44332 44334 77.272727\r\n",
      "1 45163 45165 55.555556\r\n",
      "1 53230 53232 61.904762\r\n",
      "\r\n",
      "==> Meth14.fastp-trim.202003064415_R1_001_bismark_bt2_pe_10x.bedgraph-Mcap-Meth <==\r\n",
      "1 32228 32230 100.000000\r\n",
      "1 32771 32773 100.000000\r\n",
      "1 40450 40452 80.952381\r\n",
      "1 56311 56313 70.000000\r\n",
      "1 74810 74812 100.000000\r\n",
      "1 78135 78137 53.846154\r\n",
      "1 78258 78260 51.515152\r\n",
      "1 78372 78374 53.571429\r\n",
      "1 221673 221675 100.000000\r\n",
      "1 227341 227343 100.000000\r\n",
      "\r\n",
      "==> Meth15.fastp-trim.202003065503_R1_001_bismark_bt2_pe_10x.bedgraph-Mcap-Meth <==\r\n",
      "1 29753 29755 54.545455\r\n",
      "1 29821 29823 51.515152\r\n",
      "1 32771 32773 100.000000\r\n",
      "1 40450 40452 58.823529\r\n",
      "1 40555 40557 52.941176\r\n",
      "1 78135 78137 71.428571\r\n",
      "1 78258 78260 58.333333\r\n",
      "1 131300 131302 92.857143\r\n",
      "1 140802 140804 50.000000\r\n",
      "1 156879 156881 52.000000\r\n",
      "\r\n",
      "==> Meth16.fastp-trim.202003062412_R1_001_bismark_bt2_pe._10x.bedgraph-Mcap-Meth <==\r\n",
      "2 81900 81902 100.000000\r\n",
      "2 1913834 1913836 70.000000\r\n",
      "2 2675474 2675476 93.750000\r\n",
      "2 2675484 2675486 94.117647\r\n",
      "2 2675495 2675497 82.352941\r\n",
      "2 3235138 3235140 70.000000\r\n",
      "2 3235143 3235145 70.000000\r\n",
      "4 663418 663420 90.000000\r\n",
      "10 732039 732041 76.923077\r\n",
      "10 732045 732047 76.923077\r\n",
      "\r\n",
      "==> Meth17.fastp-trim.202003063731_R1_001_bismark_bt2_pe._10x.bedgraph-Mcap-Meth <==\r\n",
      "16 1095928 1095930 70.588235\r\n",
      "16 1095972 1095974 50.000000\r\n",
      "16 1095987 1095989 63.636364\r\n",
      "16 1095993 1095995 61.904762\r\n",
      "16 1937025 1937027 63.636364\r\n",
      "34 680799 680801 100.000000\r\n",
      "34 680809 680811 100.000000\r\n",
      "41 340777 340779 72.727273\r\n",
      "41 340781 340783 60.000000\r\n",
      "41 340811 340813 54.545455\r\n",
      "\r\n",
      "==> Meth18.fastp-trim.202003065117_R1_001_bismark_bt2_pe._10x.bedgraph-Mcap-Meth <==\r\n",
      "2 1913770 1913772 90.909091\r\n",
      "2 1913775 1913777 83.333333\r\n",
      "2 1913786 1913788 92.307692\r\n",
      "2 1913791 1913793 84.615385\r\n",
      "2 1913800 1913802 91.666667\r\n",
      "2 1913803 1913805 83.333333\r\n",
      "2 1913805 1913807 91.666667\r\n",
      "2 1913808 1913810 83.333333\r\n",
      "2 1913813 1913815 81.818182\r\n",
      "2 1913818 1913820 72.727273\r\n"
     ]
    }
   ],
   "source": [
    "!head *Mcap-Meth"
   ]
  },
  {
   "cell_type": "code",
   "execution_count": 88,
   "metadata": {},
   "outputs": [
    {
     "name": "stdout",
     "output_type": "stream",
     "text": [
      "     493 Meth10.fastp-trim.202003063900_R1_001_bismark_bt2_pe._10x.bedgraph-Mcap-Meth\r\n",
      "     827 Meth11.fastp-trim.202003065734_R1_001_bismark_bt2_pe._10x.bedgraph-Mcap-Meth\r\n",
      "     370 Meth12.fastp-trim.202003060645_R1_001_bismark_bt2_pe._10x.bedgraph-Mcap-Meth\r\n",
      "  170811 Meth13.fastp-trim.202003062040_R1_001_bismark_bt2_pe_10x.bedgraph-Mcap-Meth\r\n",
      "  153132 Meth14.fastp-trim.202003064415_R1_001_bismark_bt2_pe_10x.bedgraph-Mcap-Meth\r\n",
      "  159475 Meth15.fastp-trim.202003065503_R1_001_bismark_bt2_pe_10x.bedgraph-Mcap-Meth\r\n",
      "    2828 Meth16.fastp-trim.202003062412_R1_001_bismark_bt2_pe._10x.bedgraph-Mcap-Meth\r\n",
      "     956 Meth17.fastp-trim.202003063731_R1_001_bismark_bt2_pe._10x.bedgraph-Mcap-Meth\r\n",
      "     942 Meth18.fastp-trim.202003065117_R1_001_bismark_bt2_pe._10x.bedgraph-Mcap-Meth\r\n",
      "  489834 total\r\n"
     ]
    }
   ],
   "source": [
    "!wc -l *Mcap-Meth"
   ]
  },
  {
   "cell_type": "markdown",
   "metadata": {},
   "source": [
    "#### Sparsely methylated loci"
   ]
  },
  {
   "cell_type": "code",
   "execution_count": 89,
   "metadata": {},
   "outputs": [],
   "source": [
    "%%bash\n",
    "for f in *Mcap\n",
    "do\n",
    "    awk '{if ($4 < 50) { print $1, $2, $3, $4}}' ${f} \\\n",
    "    | awk '{if ($4 > 10) { print $1, $2, $3, $4 }}' \\\n",
    "    > ${f}-sparseMeth\n",
    "done"
   ]
  },
  {
   "cell_type": "code",
   "execution_count": 90,
   "metadata": {
    "scrolled": true
   },
   "outputs": [
    {
     "name": "stdout",
     "output_type": "stream",
     "text": [
      "==> Meth10.fastp-trim.202003063900_R1_001_bismark_bt2_pe._10x.bedgraph-Mcap-sparseMeth <==\r\n",
      "4 2282559 2282561 17.647059\r\n",
      "4 2653035 2653037 20.000000\r\n",
      "6 479467 479469 18.181818\r\n",
      "10 1079591 1079593 20.000000\r\n",
      "10 1222877 1222879 20.000000\r\n",
      "10 1239917 1239919 15.384615\r\n",
      "10 1240019 1240021 20.000000\r\n",
      "13 2124876 2124878 18.181818\r\n",
      "14 495499 495501 35.294118\r\n",
      "16 593911 593913 16.666667\r\n",
      "\r\n",
      "==> Meth11.fastp-trim.202003065734_R1_001_bismark_bt2_pe._10x.bedgraph-Mcap-sparseMeth <==\r\n",
      "2 2675448 2675450 16.666667\r\n",
      "2 2675927 2675929 20.000000\r\n",
      "2 2679017 2679019 41.666667\r\n",
      "2 2679956 2679958 16.666667\r\n",
      "2 2680034 2680036 18.750000\r\n",
      "2 2680170 2680172 42.105263\r\n",
      "2 2680234 2680236 28.571429\r\n",
      "4 2282559 2282561 14.285714\r\n",
      "4 2933639 2933641 16.666667\r\n",
      "10 1079949 1079951 27.272727\r\n",
      "\r\n",
      "==> Meth12.fastp-trim.202003060645_R1_001_bismark_bt2_pe._10x.bedgraph-Mcap-sparseMeth <==\r\n",
      "4 2282559 2282561 11.764706\r\n",
      "4 2282561 2282563 11.111111\r\n",
      "4 2762159 2762161 11.111111\r\n",
      "4 2762294 2762296 11.111111\r\n",
      "5 1381724 1381726 15.384615\r\n",
      "5 1381797 1381799 16.666667\r\n",
      "12 261733 261735 40.000000\r\n",
      "16 1938455 1938457 36.842105\r\n",
      "16 1939133 1939135 27.272727\r\n",
      "16 1939289 1939291 10.833333\r\n",
      "\r\n",
      "==> Meth13.fastp-trim.202003062040_R1_001_bismark_bt2_pe_10x.bedgraph-Mcap-sparseMeth <==\r\n",
      "1 16124 16126 47.368421\r\n",
      "1 20697 20699 36.363636\r\n",
      "1 29753 29755 44.444444\r\n",
      "1 32347 32349 33.333333\r\n",
      "1 40555 40557 45.454545\r\n",
      "1 44280 44282 37.500000\r\n",
      "1 53158 53160 48.484848\r\n",
      "1 56311 56313 17.647059\r\n",
      "1 63535 63537 15.384615\r\n",
      "1 63596 63598 21.739130\r\n",
      "\r\n",
      "==> Meth14.fastp-trim.202003064415_R1_001_bismark_bt2_pe_10x.bedgraph-Mcap-sparseMeth <==\r\n",
      "1 40555 40557 14.285714\r\n",
      "1 56160 56162 40.000000\r\n",
      "1 78209 78211 33.846154\r\n",
      "1 78438 78440 48.148148\r\n",
      "1 121959 121961 18.181818\r\n",
      "1 221692 221694 10.714286\r\n",
      "1 221750 221752 10.714286\r\n",
      "1 229659 229661 39.534884\r\n",
      "1 230495 230497 41.666667\r\n",
      "1 241592 241594 39.534884\r\n",
      "\r\n",
      "==> Meth15.fastp-trim.202003065503_R1_001_bismark_bt2_pe_10x.bedgraph-Mcap-sparseMeth <==\r\n",
      "1 78209 78211 42.500000\r\n",
      "1 129780 129782 12.500000\r\n",
      "1 140905 140907 46.153846\r\n",
      "1 156983 156985 24.000000\r\n",
      "1 156999 157001 44.000000\r\n",
      "1 221692 221694 14.285714\r\n",
      "1 229612 229614 42.307692\r\n",
      "1 230495 230497 46.153846\r\n",
      "1 234058 234060 14.814815\r\n",
      "1 241635 241637 42.424242\r\n",
      "\r\n",
      "==> Meth16.fastp-trim.202003062412_R1_001_bismark_bt2_pe._10x.bedgraph-Mcap-sparseMeth <==\r\n",
      "2 2675448 2675450 27.272727\r\n",
      "2 2675538 2675540 12.500000\r\n",
      "2 2676029 2676031 30.000000\r\n",
      "2 2676035 2676037 20.000000\r\n",
      "5 1381506 1381508 15.384615\r\n",
      "9 23708 23710 20.000000\r\n",
      "9 23827 23829 12.000000\r\n",
      "9 23832 23834 11.764706\r\n",
      "9 23837 23839 11.764706\r\n",
      "10 732059 732061 40.000000\r\n",
      "\r\n",
      "==> Meth17.fastp-trim.202003063731_R1_001_bismark_bt2_pe._10x.bedgraph-Mcap-sparseMeth <==\r\n",
      "4 2761864 2761866 16.666667\r\n",
      "9 1286343 1286345 13.333333\r\n",
      "14 495499 495501 20.000000\r\n",
      "16 1095913 1095915 33.333333\r\n",
      "16 1095921 1095923 46.153846\r\n",
      "16 1095934 1095936 45.000000\r\n",
      "16 1095951 1095953 22.727273\r\n",
      "16 1095966 1095968 45.454545\r\n",
      "16 1095974 1095976 36.363636\r\n",
      "16 1095980 1095982 31.818182\r\n",
      "\r\n",
      "==> Meth18.fastp-trim.202003065117_R1_001_bismark_bt2_pe._10x.bedgraph-Mcap-sparseMeth <==\r\n",
      "4 2279583 2279585 20.000000\r\n",
      "4 2282559 2282561 25.000000\r\n",
      "4 2282561 2282563 28.571429\r\n",
      "4 2761930 2761932 16.666667\r\n",
      "4 2761958 2761960 10.526316\r\n",
      "10 731737 731739 21.428571\r\n",
      "10 731755 731757 41.666667\r\n",
      "10 731777 731779 35.714286\r\n",
      "16 1095897 1095899 30.000000\r\n",
      "16 1937253 1937255 15.789474\r\n"
     ]
    }
   ],
   "source": [
    "!head *Mcap-sparseMeth"
   ]
  },
  {
   "cell_type": "code",
   "execution_count": 91,
   "metadata": {
    "scrolled": true
   },
   "outputs": [
    {
     "name": "stdout",
     "output_type": "stream",
     "text": [
      "    1116 Meth10.fastp-trim.202003063900_R1_001_bismark_bt2_pe._10x.bedgraph-Mcap-sparseMeth\n",
      "    1422 Meth11.fastp-trim.202003065734_R1_001_bismark_bt2_pe._10x.bedgraph-Mcap-sparseMeth\n",
      "    1043 Meth12.fastp-trim.202003060645_R1_001_bismark_bt2_pe._10x.bedgraph-Mcap-sparseMeth\n",
      "  141418 Meth13.fastp-trim.202003062040_R1_001_bismark_bt2_pe_10x.bedgraph-Mcap-sparseMeth\n",
      "  132172 Meth14.fastp-trim.202003064415_R1_001_bismark_bt2_pe_10x.bedgraph-Mcap-sparseMeth\n",
      "  138554 Meth15.fastp-trim.202003065503_R1_001_bismark_bt2_pe_10x.bedgraph-Mcap-sparseMeth\n",
      "     840 Meth16.fastp-trim.202003062412_R1_001_bismark_bt2_pe._10x.bedgraph-Mcap-sparseMeth\n",
      "     650 Meth17.fastp-trim.202003063731_R1_001_bismark_bt2_pe._10x.bedgraph-Mcap-sparseMeth\n",
      "     532 Meth18.fastp-trim.202003065117_R1_001_bismark_bt2_pe._10x.bedgraph-Mcap-sparseMeth\n",
      "  417747 total\n"
     ]
    }
   ],
   "source": [
    "!wc -l *Mcap-sparseMeth"
   ]
  },
  {
   "cell_type": "markdown",
   "metadata": {},
   "source": [
    "#### Unmethylated loci"
   ]
  },
  {
   "cell_type": "code",
   "execution_count": 92,
   "metadata": {},
   "outputs": [],
   "source": [
    "%%bash\n",
    "for f in *Mcap\n",
    "do\n",
    "    awk '{if ($4 <= 10) { print $1, $2, $3, $4 }}' ${f} \\\n",
    "    > ${f}-unMeth\n",
    "done"
   ]
  },
  {
   "cell_type": "code",
   "execution_count": 93,
   "metadata": {
    "scrolled": true
   },
   "outputs": [
    {
     "name": "stdout",
     "output_type": "stream",
     "text": [
      "==> Meth10.fastp-trim.202003063900_R1_001_bismark_bt2_pe._10x.bedgraph-Mcap-unMeth <==\r\n",
      "2 1779837 1779839 0.000000\r\n",
      "2 1779853 1779855 0.000000\r\n",
      "2 1779898 1779900 0.000000\r\n",
      "2 1804233 1804235 0.000000\r\n",
      "2 1804297 1804299 0.000000\r\n",
      "2 1804303 1804305 4.000000\r\n",
      "2 1804306 1804308 0.000000\r\n",
      "2 1804322 1804324 0.000000\r\n",
      "2 1804347 1804349 7.142857\r\n",
      "2 1804359 1804361 0.000000\r\n",
      "\r\n",
      "==> Meth11.fastp-trim.202003065734_R1_001_bismark_bt2_pe._10x.bedgraph-Mcap-unMeth <==\r\n",
      "1 893230 893232 0.000000\r\n",
      "1 893246 893248 10.000000\r\n",
      "1 893258 893260 0.000000\r\n",
      "1 893276 893278 0.000000\r\n",
      "2 2437213 2437215 0.000000\r\n",
      "2 2437231 2437233 0.000000\r\n",
      "2 2675538 2675540 6.896552\r\n",
      "2 2675971 2675973 0.000000\r\n",
      "2 2675985 2675987 0.000000\r\n",
      "2 2676029 2676031 0.000000\r\n",
      "\r\n",
      "==> Meth12.fastp-trim.202003060645_R1_001_bismark_bt2_pe._10x.bedgraph-Mcap-unMeth <==\r\n",
      "1 1620404 1620406 9.090909\r\n",
      "2 1704736 1704738 0.000000\r\n",
      "2 1805539 1805541 0.000000\r\n",
      "2 1805567 1805569 0.000000\r\n",
      "2 1806267 1806269 0.000000\r\n",
      "2 1806331 1806333 0.000000\r\n",
      "2 1806337 1806339 0.000000\r\n",
      "2 1806340 1806342 0.000000\r\n",
      "4 2279532 2279534 0.000000\r\n",
      "4 2279555 2279557 0.000000\r\n",
      "\r\n",
      "==> Meth13.fastp-trim.202003062040_R1_001_bismark_bt2_pe_10x.bedgraph-Mcap-unMeth <==\r\n",
      "1 16147 16149 0.000000\r\n",
      "1 16180 16182 0.000000\r\n",
      "1 20714 20716 0.000000\r\n",
      "1 23139 23141 0.000000\r\n",
      "1 23173 23175 0.000000\r\n",
      "1 23202 23204 0.000000\r\n",
      "1 23326 23328 0.000000\r\n",
      "1 23334 23336 0.000000\r\n",
      "1 32243 32245 0.000000\r\n",
      "1 32283 32285 0.000000\r\n",
      "\r\n",
      "==> Meth14.fastp-trim.202003064415_R1_001_bismark_bt2_pe_10x.bedgraph-Mcap-unMeth <==\r\n",
      "1 32243 32245 0.000000\r\n",
      "1 32283 32285 0.000000\r\n",
      "1 32299 32301 0.000000\r\n",
      "1 32344 32346 0.000000\r\n",
      "1 32347 32349 0.000000\r\n",
      "1 32718 32720 0.000000\r\n",
      "1 40486 40488 0.000000\r\n",
      "1 40541 40543 0.000000\r\n",
      "1 40552 40554 0.000000\r\n",
      "1 56181 56183 0.000000\r\n",
      "\r\n",
      "==> Meth15.fastp-trim.202003065503_R1_001_bismark_bt2_pe_10x.bedgraph-Mcap-unMeth <==\r\n",
      "1 32718 32720 0.000000\r\n",
      "1 40486 40488 0.000000\r\n",
      "1 40541 40543 0.000000\r\n",
      "1 40552 40554 0.000000\r\n",
      "1 78140 78142 0.000000\r\n",
      "1 78146 78148 0.000000\r\n",
      "1 78151 78153 0.000000\r\n",
      "1 78173 78175 0.000000\r\n",
      "1 78187 78189 0.000000\r\n",
      "1 78225 78227 0.000000\r\n",
      "\r\n",
      "==> Meth16.fastp-trim.202003062412_R1_001_bismark_bt2_pe._10x.bedgraph-Mcap-unMeth <==\r\n",
      "2 2675971 2675973 0.000000\r\n",
      "2 2675985 2675987 0.000000\r\n",
      "2 2680080 2680082 0.000000\r\n",
      "2 2680094 2680096 7.142857\r\n",
      "2 2680138 2680140 9.090909\r\n",
      "2 2680144 2680146 10.000000\r\n",
      "4 2280384 2280386 0.000000\r\n",
      "4 2280450 2280452 1.538462\r\n",
      "4 2280473 2280475 1.562500\r\n",
      "4 2280501 2280503 1.587302\r\n",
      "\r\n",
      "==> Meth17.fastp-trim.202003063731_R1_001_bismark_bt2_pe._10x.bedgraph-Mcap-unMeth <==\r\n",
      "2 1806066 1806068 0.000000\r\n",
      "2 1806078 1806080 0.000000\r\n",
      "2 1806087 1806089 0.000000\r\n",
      "2 2680080 2680082 9.090909\r\n",
      "2 2680094 2680096 0.000000\r\n",
      "4 2280384 2280386 0.000000\r\n",
      "4 2280450 2280452 1.612903\r\n",
      "4 2280473 2280475 1.612903\r\n",
      "4 2280501 2280503 1.587302\r\n",
      "4 2280508 2280510 3.125000\r\n",
      "\r\n",
      "==> Meth18.fastp-trim.202003065117_R1_001_bismark_bt2_pe._10x.bedgraph-Mcap-unMeth <==\r\n",
      "4 2279555 2279557 10.000000\r\n",
      "4 2279590 2279592 0.000000\r\n",
      "4 2279592 2279594 10.000000\r\n",
      "4 2279600 2279602 0.000000\r\n",
      "4 2280384 2280386 0.000000\r\n",
      "4 2280450 2280452 2.857143\r\n",
      "4 2280473 2280475 0.000000\r\n",
      "4 2280501 2280503 5.000000\r\n",
      "4 2280508 2280510 2.564103\r\n",
      "4 2280510 2280512 5.000000\r\n"
     ]
    }
   ],
   "source": [
    "!head *Mcap-unMeth"
   ]
  },
  {
   "cell_type": "code",
   "execution_count": 94,
   "metadata": {
    "scrolled": true
   },
   "outputs": [
    {
     "name": "stdout",
     "output_type": "stream",
     "text": [
      "    7490 Meth10.fastp-trim.202003063900_R1_001_bismark_bt2_pe._10x.bedgraph-Mcap-unMeth\n",
      "    8841 Meth11.fastp-trim.202003065734_R1_001_bismark_bt2_pe._10x.bedgraph-Mcap-unMeth\n",
      "    7553 Meth12.fastp-trim.202003060645_R1_001_bismark_bt2_pe._10x.bedgraph-Mcap-unMeth\n",
      " 1093171 Meth13.fastp-trim.202003062040_R1_001_bismark_bt2_pe_10x.bedgraph-Mcap-unMeth\n",
      "  891980 Meth14.fastp-trim.202003064415_R1_001_bismark_bt2_pe_10x.bedgraph-Mcap-unMeth\n",
      "  940698 Meth15.fastp-trim.202003065503_R1_001_bismark_bt2_pe_10x.bedgraph-Mcap-unMeth\n",
      "    3562 Meth16.fastp-trim.202003062412_R1_001_bismark_bt2_pe._10x.bedgraph-Mcap-unMeth\n",
      "    3170 Meth17.fastp-trim.202003063731_R1_001_bismark_bt2_pe._10x.bedgraph-Mcap-unMeth\n",
      "    2265 Meth18.fastp-trim.202003065117_R1_001_bismark_bt2_pe._10x.bedgraph-Mcap-unMeth\n",
      " 2958730 total\n"
     ]
    }
   ],
   "source": [
    "!wc -l *Mcap-unMeth"
   ]
  },
  {
   "cell_type": "markdown",
   "metadata": {},
   "source": [
    "#### Summary"
   ]
  },
  {
   "cell_type": "markdown",
   "metadata": {},
   "source": [
    "| **Sample** \t| **Method** \t| **CpG with Data** \t| **Methylated CpG** \t| **Sparsely Methylated CpG** \t| **Unmethylated CpG** \t|\n",
    "|:----------:\t|:----------:\t|:-----------------:\t|:------------------:\t|:---------------------------:\t|:--------------------:\t|\n",
    "|     10     \t|    WGBS    \t|        9099       \t|         493        \t|             1116            \t|         7490         \t|\n",
    "|     11     \t|    WGBS    \t|       11090       \t|         827        \t|             1422            \t|         8841         \t|\n",
    "|     12     \t|    WGBS    \t|        8966       \t|         370        \t|             1043            \t|         7553         \t|\n",
    "|     13     \t|    RRBS    \t|      1405400      \t|       170811       \t|            141418           \t|        1093171       \t|\n",
    "|     14     \t|    RRBS    \t|      1177284      \t|       153132       \t|            132172           \t|        891980        \t|\n",
    "|     15     \t|    RRBS    \t|      1238727      \t|       159475       \t|            138554           \t|        940698        \t|\n",
    "|     16     \t|  MBD-BSSeq \t|        7230       \t|        2828        \t|             840             \t|         3562         \t|\n",
    "|     17     \t|  MBD-BSSeq \t|        4776       \t|         956        \t|             650             \t|         3170         \t|\n",
    "|     18     \t|  MBD-BSSeq \t|        3739       \t|         942        \t|             532             \t|         2265         \t|"
   ]
  },
  {
   "cell_type": "markdown",
   "metadata": {},
   "source": [
    "### 2b. *P. acuta*"
   ]
  },
  {
   "cell_type": "markdown",
   "metadata": {},
   "source": [
    "## 3. Characterize genomic locations of CpGs"
   ]
  },
  {
   "cell_type": "markdown",
   "metadata": {},
   "source": [
    "### 3a. Create BEDfiles"
   ]
  },
  {
   "cell_type": "code",
   "execution_count": 61,
   "metadata": {
    "scrolled": true
   },
   "outputs": [
    {
     "name": "stdout",
     "output_type": "stream",
     "text": [
      "    9099 Meth10.fastp-trim.202003063900_R1_001_bismark_bt2_pe._10x.bedgraph-Mcap.bed\n",
      "     493 Meth10.fastp-trim.202003063900_R1_001_bismark_bt2_pe._10x.bedgraph-Mcap-Meth.bed\n",
      "    1116 Meth10.fastp-trim.202003063900_R1_001_bismark_bt2_pe._10x.bedgraph-Mcap-sparseMeth.bed\n",
      "    7490 Meth10.fastp-trim.202003063900_R1_001_bismark_bt2_pe._10x.bedgraph-Mcap-unMeth.bed\n",
      "   11090 Meth11.fastp-trim.202003065734_R1_001_bismark_bt2_pe._10x.bedgraph-Mcap.bed\n",
      "     827 Meth11.fastp-trim.202003065734_R1_001_bismark_bt2_pe._10x.bedgraph-Mcap-Meth.bed\n",
      "    1422 Meth11.fastp-trim.202003065734_R1_001_bismark_bt2_pe._10x.bedgraph-Mcap-sparseMeth.bed\n",
      "    8841 Meth11.fastp-trim.202003065734_R1_001_bismark_bt2_pe._10x.bedgraph-Mcap-unMeth.bed\n",
      "    8966 Meth12.fastp-trim.202003060645_R1_001_bismark_bt2_pe._10x.bedgraph-Mcap.bed\n",
      "     370 Meth12.fastp-trim.202003060645_R1_001_bismark_bt2_pe._10x.bedgraph-Mcap-Meth.bed\n",
      "    1043 Meth12.fastp-trim.202003060645_R1_001_bismark_bt2_pe._10x.bedgraph-Mcap-sparseMeth.bed\n",
      "    7553 Meth12.fastp-trim.202003060645_R1_001_bismark_bt2_pe._10x.bedgraph-Mcap-unMeth.bed\n",
      "    7230 Meth16.fastp-trim.202003062412_R1_001_bismark_bt2_pe._10x.bedgraph-Mcap.bed\n",
      "    2828 Meth16.fastp-trim.202003062412_R1_001_bismark_bt2_pe._10x.bedgraph-Mcap-Meth.bed\n",
      "     840 Meth16.fastp-trim.202003062412_R1_001_bismark_bt2_pe._10x.bedgraph-Mcap-sparseMeth.bed\n",
      "    3562 Meth16.fastp-trim.202003062412_R1_001_bismark_bt2_pe._10x.bedgraph-Mcap-unMeth.bed\n",
      "    4776 Meth17.fastp-trim.202003063731_R1_001_bismark_bt2_pe._10x.bedgraph-Mcap.bed\n",
      "     956 Meth17.fastp-trim.202003063731_R1_001_bismark_bt2_pe._10x.bedgraph-Mcap-Meth.bed\n",
      "     650 Meth17.fastp-trim.202003063731_R1_001_bismark_bt2_pe._10x.bedgraph-Mcap-sparseMeth.bed\n",
      "    3170 Meth17.fastp-trim.202003063731_R1_001_bismark_bt2_pe._10x.bedgraph-Mcap-unMeth.bed\n",
      "    3739 Meth18.fastp-trim.202003065117_R1_001_bismark_bt2_pe._10x.bedgraph-Mcap.bed\n",
      "     942 Meth18.fastp-trim.202003065117_R1_001_bismark_bt2_pe._10x.bedgraph-Mcap-Meth.bed\n",
      "     532 Meth18.fastp-trim.202003065117_R1_001_bismark_bt2_pe._10x.bedgraph-Mcap-sparseMeth.bed\n",
      "    2265 Meth18.fastp-trim.202003065117_R1_001_bismark_bt2_pe._10x.bedgraph-Mcap-unMeth.bed\n"
     ]
    }
   ],
   "source": [
    "%%bash\n",
    "\n",
    "for f in *bedgraph-Mcap*\n",
    "do\n",
    "    awk '{print $1\"\\t\"$2\"\\t\"$3}' ${f} > ${f}.bed\n",
    "    wc -l ${f}.bed\n",
    "done"
   ]
  },
  {
   "cell_type": "code",
   "execution_count": 62,
   "metadata": {},
   "outputs": [
    {
     "name": "stdout",
     "output_type": "stream",
     "text": [
      "2\t1779837\t1779839\r\n",
      "2\t1779853\t1779855\r\n",
      "2\t1779898\t1779900\r\n",
      "2\t1804233\t1804235\r\n",
      "2\t1804297\t1804299\r\n",
      "2\t1804303\t1804305\r\n",
      "2\t1804306\t1804308\r\n",
      "2\t1804322\t1804324\r\n",
      "2\t1804347\t1804349\r\n",
      "2\t1804359\t1804361\r\n"
     ]
    }
   ],
   "source": [
    "#Confirm file creation\n",
    "!head Meth10.fastp-trim.202003063900_R1_001_bismark_bt2_pe._10x.bedgraph-Mcap.bed"
   ]
  },
  {
   "cell_type": "markdown",
   "metadata": {},
   "source": [
    "### 3b. Set variable paths"
   ]
  },
  {
   "cell_type": "code",
   "execution_count": 63,
   "metadata": {},
   "outputs": [],
   "source": [
    "bedtoolsDirectory = \"/Users/bedtools2/bin/\""
   ]
  },
  {
   "cell_type": "code",
   "execution_count": null,
   "metadata": {},
   "outputs": [],
   "source": [
    "mcPromoters = \"\""
   ]
  },
  {
   "cell_type": "code",
   "execution_count": null,
   "metadata": {},
   "outputs": [],
   "source": [
    "mcExonUTR = \"\""
   ]
  },
  {
   "cell_type": "code",
   "execution_count": null,
   "metadata": {},
   "outputs": [],
   "source": [
    "mcExons = \"\""
   ]
  },
  {
   "cell_type": "code",
   "execution_count": null,
   "metadata": {},
   "outputs": [],
   "source": [
    "mcIntrons = \"\""
   ]
  },
  {
   "cell_type": "code",
   "execution_count": 64,
   "metadata": {},
   "outputs": [],
   "source": [
    "mcGenes = \"../../genome-feature-files/Mcap.GFFannotation.gene.gff\""
   ]
  },
  {
   "cell_type": "code",
   "execution_count": null,
   "metadata": {},
   "outputs": [],
   "source": [
    "mcTransElem = \"\""
   ]
  },
  {
   "cell_type": "code",
   "execution_count": null,
   "metadata": {},
   "outputs": [],
   "source": [
    "mcIntergenic = \"\""
   ]
  },
  {
   "cell_type": "code",
   "execution_count": null,
   "metadata": {},
   "outputs": [],
   "source": [
    "paPromoters = \"\""
   ]
  },
  {
   "cell_type": "code",
   "execution_count": null,
   "metadata": {},
   "outputs": [],
   "source": [
    "paExonUTR = \"\""
   ]
  },
  {
   "cell_type": "code",
   "execution_count": null,
   "metadata": {},
   "outputs": [],
   "source": [
    "paExons = \"\""
   ]
  },
  {
   "cell_type": "code",
   "execution_count": null,
   "metadata": {},
   "outputs": [],
   "source": [
    "paIntrons = \"\""
   ]
  },
  {
   "cell_type": "code",
   "execution_count": null,
   "metadata": {},
   "outputs": [],
   "source": [
    "paGenes = \"\""
   ]
  },
  {
   "cell_type": "code",
   "execution_count": null,
   "metadata": {},
   "outputs": [],
   "source": [
    "paTransElem = \"\""
   ]
  },
  {
   "cell_type": "code",
   "execution_count": null,
   "metadata": {},
   "outputs": [],
   "source": [
    "paIntergenic = \"\""
   ]
  },
  {
   "cell_type": "markdown",
   "metadata": {},
   "source": [
    "### 3c. Check variable paths"
   ]
  },
  {
   "cell_type": "code",
   "execution_count": 71,
   "metadata": {},
   "outputs": [
    {
     "name": "stdout",
     "output_type": "stream",
     "text": [
      "/Users/bedtools2/bin/intersectBed: line 2: 22426 Killed: 9               ${0%/*}/bedtools intersect \"$@\"\r\n"
     ]
    }
   ],
   "source": [
    "!{bedtoolsDirectory}intersectBed -help"
   ]
  },
  {
   "cell_type": "code",
   "execution_count": 72,
   "metadata": {
    "scrolled": true
   },
   "outputs": [
    {
     "name": "stdout",
     "output_type": "stream",
     "text": [
      "1\tAUGUSTUS\tgene\t18387\t18755\t0.97\t-\t.\tg21532\r\n",
      "1\tAUGUSTUS\tCDS\t18387\t18755\t0.97\t-\t0\ttranscript_id \"g21532.t1\"; gene_id \"g21532\";\r\n",
      "1\tAUGUSTUS\tgene\t22321\t27293\t0.23\t-\t.\tg21533\r\n",
      "1\tAUGUSTUS\tCDS\t22321\t22608\t0.55\t-\t0\ttranscript_id \"g21533.t1\"; gene_id \"g21533\";\r\n",
      "1\tAUGUSTUS\tintron\t22609\t26300\t0.25\t-\t.\ttranscript_id \"g21533.t1\"; gene_id \"g21533\";\r\n",
      "1\tAUGUSTUS\tCDS\t26301\t27293\t0.29\t-\t0\ttranscript_id \"g21533.t1\"; gene_id \"g21533\";\r\n",
      "1\tAUGUSTUS\tgene\t37447\t52266\t1\t+\t.\tg21534\r\n",
      "1\tAUGUSTUS\tCDS\t37447\t37810\t1\t+\t0\ttranscript_id \"g21534.t1\"; gene_id \"g21534\";\r\n",
      "1\tAUGUSTUS\tintron\t37811\t45037\t1\t+\t.\ttranscript_id \"g21534.t1\"; gene_id \"g21534\";\r\n",
      "1\tAUGUSTUS\tCDS\t45038\t45208\t1\t+\t2\ttranscript_id \"g21534.t1\"; gene_id \"g21534\";\r\n"
     ]
    }
   ],
   "source": [
    "!head {mcGenes}"
   ]
  },
  {
   "cell_type": "code",
   "execution_count": 73,
   "metadata": {},
   "outputs": [
    {
     "name": "stdout",
     "output_type": "stream",
     "text": [
      "  458273 ../../genome-feature-files/Mcap.GFFannotation.gene.gff\r\n"
     ]
    }
   ],
   "source": [
    "!wc -l {mcGenes}"
   ]
  },
  {
   "cell_type": "markdown",
   "metadata": {},
   "source": [
    "### 3d. *M. capitata*"
   ]
  },
  {
   "cell_type": "markdown",
   "metadata": {},
   "source": [
    "#### Genes"
   ]
  },
  {
   "cell_type": "code",
   "execution_count": 66,
   "metadata": {
    "scrolled": true
   },
   "outputs": [
    {
     "name": "stderr",
     "output_type": "stream",
     "text": [
      "bash: line 5: {bedtoolsDirectory}intersectBed: command not found\n",
      "bash: line 5: {bedtoolsDirectory}intersectBed: command not found\n",
      "bash: line 5: {bedtoolsDirectory}intersectBed: command not found\n",
      "bash: line 5: {bedtoolsDirectory}intersectBed: command not found\n",
      "bash: line 5: {bedtoolsDirectory}intersectBed: command not found\n",
      "bash: line 5: {bedtoolsDirectory}intersectBed: command not found\n",
      "bash: line 5: {bedtoolsDirectory}intersectBed: command not found\n",
      "bash: line 5: {bedtoolsDirectory}intersectBed: command not found\n",
      "bash: line 5: {bedtoolsDirectory}intersectBed: command not found\n",
      "bash: line 5: {bedtoolsDirectory}intersectBed: command not found\n",
      "bash: line 5: {bedtoolsDirectory}intersectBed: command not found\n",
      "bash: line 5: {bedtoolsDirectory}intersectBed: command not found\n",
      "bash: line 5: {bedtoolsDirectory}intersectBed: command not found\n",
      "bash: line 5: {bedtoolsDirectory}intersectBed: command not found\n",
      "bash: line 5: {bedtoolsDirectory}intersectBed: command not found\n",
      "bash: line 5: {bedtoolsDirectory}intersectBed: command not found\n",
      "bash: line 5: {bedtoolsDirectory}intersectBed: command not found\n",
      "bash: line 5: {bedtoolsDirectory}intersectBed: command not found\n",
      "bash: line 5: {bedtoolsDirectory}intersectBed: command not found\n",
      "bash: line 5: {bedtoolsDirectory}intersectBed: command not found\n",
      "bash: line 5: {bedtoolsDirectory}intersectBed: command not found\n",
      "bash: line 5: {bedtoolsDirectory}intersectBed: command not found\n",
      "bash: line 5: {bedtoolsDirectory}intersectBed: command not found\n",
      "bash: line 5: {bedtoolsDirectory}intersectBed: command not found\n"
     ]
    },
    {
     "ename": "CalledProcessError",
     "evalue": "Command 'b'\\nfor f in *Mcap*bed\\ndo\\n  {bedtoolsDirectory}intersectBed \\\\\\n  -wb \\\\\\n  -a ${f} \\\\\\n  -b {mcGenes} \\\\\\n  > ${f}-mcGenes.txt\\ndone\\n'' returned non-zero exit status 127.",
     "output_type": "error",
     "traceback": [
      "\u001b[0;31m---------------------------------------------------------------------------\u001b[0m",
      "\u001b[0;31mCalledProcessError\u001b[0m                        Traceback (most recent call last)",
      "\u001b[0;32m<ipython-input-66-28827fea1c73>\u001b[0m in \u001b[0;36m<module>\u001b[0;34m\u001b[0m\n\u001b[0;32m----> 1\u001b[0;31m \u001b[0mget_ipython\u001b[0m\u001b[0;34m(\u001b[0m\u001b[0;34m)\u001b[0m\u001b[0;34m.\u001b[0m\u001b[0mrun_cell_magic\u001b[0m\u001b[0;34m(\u001b[0m\u001b[0;34m'bash'\u001b[0m\u001b[0;34m,\u001b[0m \u001b[0;34m''\u001b[0m\u001b[0;34m,\u001b[0m \u001b[0;34m'\\nfor f in *Mcap*bed\\ndo\\n  {bedtoolsDirectory}intersectBed \\\\\\n  -wb \\\\\\n  -a ${f} \\\\\\n  -b {mcGenes} \\\\\\n  > ${f}-mcGenes.txt\\ndone\\n'\u001b[0m\u001b[0;34m)\u001b[0m\u001b[0;34m\u001b[0m\u001b[0;34m\u001b[0m\u001b[0m\n\u001b[0m",
      "\u001b[0;32m/opt/anaconda3/lib/python3.7/site-packages/IPython/core/interactiveshell.py\u001b[0m in \u001b[0;36mrun_cell_magic\u001b[0;34m(self, magic_name, line, cell)\u001b[0m\n\u001b[1;32m   2357\u001b[0m             \u001b[0;32mwith\u001b[0m \u001b[0mself\u001b[0m\u001b[0;34m.\u001b[0m\u001b[0mbuiltin_trap\u001b[0m\u001b[0;34m:\u001b[0m\u001b[0;34m\u001b[0m\u001b[0;34m\u001b[0m\u001b[0m\n\u001b[1;32m   2358\u001b[0m                 \u001b[0margs\u001b[0m \u001b[0;34m=\u001b[0m \u001b[0;34m(\u001b[0m\u001b[0mmagic_arg_s\u001b[0m\u001b[0;34m,\u001b[0m \u001b[0mcell\u001b[0m\u001b[0;34m)\u001b[0m\u001b[0;34m\u001b[0m\u001b[0;34m\u001b[0m\u001b[0m\n\u001b[0;32m-> 2359\u001b[0;31m                 \u001b[0mresult\u001b[0m \u001b[0;34m=\u001b[0m \u001b[0mfn\u001b[0m\u001b[0;34m(\u001b[0m\u001b[0;34m*\u001b[0m\u001b[0margs\u001b[0m\u001b[0;34m,\u001b[0m \u001b[0;34m**\u001b[0m\u001b[0mkwargs\u001b[0m\u001b[0;34m)\u001b[0m\u001b[0;34m\u001b[0m\u001b[0;34m\u001b[0m\u001b[0m\n\u001b[0m\u001b[1;32m   2360\u001b[0m             \u001b[0;32mreturn\u001b[0m \u001b[0mresult\u001b[0m\u001b[0;34m\u001b[0m\u001b[0;34m\u001b[0m\u001b[0m\n\u001b[1;32m   2361\u001b[0m \u001b[0;34m\u001b[0m\u001b[0m\n",
      "\u001b[0;32m/opt/anaconda3/lib/python3.7/site-packages/IPython/core/magics/script.py\u001b[0m in \u001b[0;36mnamed_script_magic\u001b[0;34m(line, cell)\u001b[0m\n\u001b[1;32m    140\u001b[0m             \u001b[0;32melse\u001b[0m\u001b[0;34m:\u001b[0m\u001b[0;34m\u001b[0m\u001b[0;34m\u001b[0m\u001b[0m\n\u001b[1;32m    141\u001b[0m                 \u001b[0mline\u001b[0m \u001b[0;34m=\u001b[0m \u001b[0mscript\u001b[0m\u001b[0;34m\u001b[0m\u001b[0;34m\u001b[0m\u001b[0m\n\u001b[0;32m--> 142\u001b[0;31m             \u001b[0;32mreturn\u001b[0m \u001b[0mself\u001b[0m\u001b[0;34m.\u001b[0m\u001b[0mshebang\u001b[0m\u001b[0;34m(\u001b[0m\u001b[0mline\u001b[0m\u001b[0;34m,\u001b[0m \u001b[0mcell\u001b[0m\u001b[0;34m)\u001b[0m\u001b[0;34m\u001b[0m\u001b[0;34m\u001b[0m\u001b[0m\n\u001b[0m\u001b[1;32m    143\u001b[0m \u001b[0;34m\u001b[0m\u001b[0m\n\u001b[1;32m    144\u001b[0m         \u001b[0;31m# write a basic docstring:\u001b[0m\u001b[0;34m\u001b[0m\u001b[0;34m\u001b[0m\u001b[0;34m\u001b[0m\u001b[0m\n",
      "\u001b[0;32m</opt/anaconda3/lib/python3.7/site-packages/decorator.py:decorator-gen-110>\u001b[0m in \u001b[0;36mshebang\u001b[0;34m(self, line, cell)\u001b[0m\n",
      "\u001b[0;32m/opt/anaconda3/lib/python3.7/site-packages/IPython/core/magic.py\u001b[0m in \u001b[0;36m<lambda>\u001b[0;34m(f, *a, **k)\u001b[0m\n\u001b[1;32m    185\u001b[0m     \u001b[0;31m# but it's overkill for just that one bit of state.\u001b[0m\u001b[0;34m\u001b[0m\u001b[0;34m\u001b[0m\u001b[0;34m\u001b[0m\u001b[0m\n\u001b[1;32m    186\u001b[0m     \u001b[0;32mdef\u001b[0m \u001b[0mmagic_deco\u001b[0m\u001b[0;34m(\u001b[0m\u001b[0marg\u001b[0m\u001b[0;34m)\u001b[0m\u001b[0;34m:\u001b[0m\u001b[0;34m\u001b[0m\u001b[0;34m\u001b[0m\u001b[0m\n\u001b[0;32m--> 187\u001b[0;31m         \u001b[0mcall\u001b[0m \u001b[0;34m=\u001b[0m \u001b[0;32mlambda\u001b[0m \u001b[0mf\u001b[0m\u001b[0;34m,\u001b[0m \u001b[0;34m*\u001b[0m\u001b[0ma\u001b[0m\u001b[0;34m,\u001b[0m \u001b[0;34m**\u001b[0m\u001b[0mk\u001b[0m\u001b[0;34m:\u001b[0m \u001b[0mf\u001b[0m\u001b[0;34m(\u001b[0m\u001b[0;34m*\u001b[0m\u001b[0ma\u001b[0m\u001b[0;34m,\u001b[0m \u001b[0;34m**\u001b[0m\u001b[0mk\u001b[0m\u001b[0;34m)\u001b[0m\u001b[0;34m\u001b[0m\u001b[0;34m\u001b[0m\u001b[0m\n\u001b[0m\u001b[1;32m    188\u001b[0m \u001b[0;34m\u001b[0m\u001b[0m\n\u001b[1;32m    189\u001b[0m         \u001b[0;32mif\u001b[0m \u001b[0mcallable\u001b[0m\u001b[0;34m(\u001b[0m\u001b[0marg\u001b[0m\u001b[0;34m)\u001b[0m\u001b[0;34m:\u001b[0m\u001b[0;34m\u001b[0m\u001b[0;34m\u001b[0m\u001b[0m\n",
      "\u001b[0;32m/opt/anaconda3/lib/python3.7/site-packages/IPython/core/magics/script.py\u001b[0m in \u001b[0;36mshebang\u001b[0;34m(self, line, cell)\u001b[0m\n\u001b[1;32m    243\u001b[0m             \u001b[0msys\u001b[0m\u001b[0;34m.\u001b[0m\u001b[0mstderr\u001b[0m\u001b[0;34m.\u001b[0m\u001b[0mflush\u001b[0m\u001b[0;34m(\u001b[0m\u001b[0;34m)\u001b[0m\u001b[0;34m\u001b[0m\u001b[0;34m\u001b[0m\u001b[0m\n\u001b[1;32m    244\u001b[0m         \u001b[0;32mif\u001b[0m \u001b[0margs\u001b[0m\u001b[0;34m.\u001b[0m\u001b[0mraise_error\u001b[0m \u001b[0;32mand\u001b[0m \u001b[0mp\u001b[0m\u001b[0;34m.\u001b[0m\u001b[0mreturncode\u001b[0m\u001b[0;34m!=\u001b[0m\u001b[0;36m0\u001b[0m\u001b[0;34m:\u001b[0m\u001b[0;34m\u001b[0m\u001b[0;34m\u001b[0m\u001b[0m\n\u001b[0;32m--> 245\u001b[0;31m             \u001b[0;32mraise\u001b[0m \u001b[0mCalledProcessError\u001b[0m\u001b[0;34m(\u001b[0m\u001b[0mp\u001b[0m\u001b[0;34m.\u001b[0m\u001b[0mreturncode\u001b[0m\u001b[0;34m,\u001b[0m \u001b[0mcell\u001b[0m\u001b[0;34m,\u001b[0m \u001b[0moutput\u001b[0m\u001b[0;34m=\u001b[0m\u001b[0mout\u001b[0m\u001b[0;34m,\u001b[0m \u001b[0mstderr\u001b[0m\u001b[0;34m=\u001b[0m\u001b[0merr\u001b[0m\u001b[0;34m)\u001b[0m\u001b[0;34m\u001b[0m\u001b[0;34m\u001b[0m\u001b[0m\n\u001b[0m\u001b[1;32m    246\u001b[0m \u001b[0;34m\u001b[0m\u001b[0m\n\u001b[1;32m    247\u001b[0m     \u001b[0;32mdef\u001b[0m \u001b[0m_run_script\u001b[0m\u001b[0;34m(\u001b[0m\u001b[0mself\u001b[0m\u001b[0;34m,\u001b[0m \u001b[0mp\u001b[0m\u001b[0;34m,\u001b[0m \u001b[0mcell\u001b[0m\u001b[0;34m,\u001b[0m \u001b[0mto_close\u001b[0m\u001b[0;34m)\u001b[0m\u001b[0;34m:\u001b[0m\u001b[0;34m\u001b[0m\u001b[0;34m\u001b[0m\u001b[0m\n",
      "\u001b[0;31mCalledProcessError\u001b[0m: Command 'b'\\nfor f in *Mcap*bed\\ndo\\n  {bedtoolsDirectory}intersectBed \\\\\\n  -wb \\\\\\n  -a ${f} \\\\\\n  -b {mcGenes} \\\\\\n  > ${f}-mcGenes.txt\\ndone\\n'' returned non-zero exit status 127."
     ]
    }
   ],
   "source": [
    "%%bash\n",
    "\n",
    "for f in *Mcap*bed\n",
    "do\n",
    "  {bedtoolsDirectory}intersectBed \\\n",
    "  -wb \\\n",
    "  -a ${f} \\\n",
    "  -b {mcGenes} \\\n",
    "  > ${f}-mcGenes\n",
    "done"
   ]
  },
  {
   "cell_type": "code",
   "execution_count": null,
   "metadata": {},
   "outputs": [],
   "source": [
    "#Check output\n",
    "!head *mcGenes"
   ]
  },
  {
   "cell_type": "code",
   "execution_count": null,
   "metadata": {},
   "outputs": [],
   "source": [
    "#Count number of overlaps\n",
    "!wc -l *mcGenes"
   ]
  },
  {
   "cell_type": "markdown",
   "metadata": {},
   "source": [
    "#### Intergenic"
   ]
  },
  {
   "cell_type": "code",
   "execution_count": null,
   "metadata": {},
   "outputs": [],
   "source": [
    "for f in *Mcap*bed\n",
    "do\n",
    "  {bedtoolsDirectory}intersectBed \\\n",
    "  -v \\\n",
    "  -a ${f} \\\n",
    "  -b {mcGenes} \\\n",
    "  > ${f}-mcIntergenic\n",
    "done"
   ]
  },
  {
   "cell_type": "code",
   "execution_count": null,
   "metadata": {},
   "outputs": [],
   "source": [
    "#Check output\n",
    "!head *mcIntergenic"
   ]
  },
  {
   "cell_type": "code",
   "execution_count": null,
   "metadata": {},
   "outputs": [],
   "source": [
    "#Count number of overlaps\n",
    "!wc -l *mcIntergenic"
   ]
  },
  {
   "cell_type": "markdown",
   "metadata": {},
   "source": [
    "### 3d. *P. acuta*"
   ]
  },
  {
   "cell_type": "markdown",
   "metadata": {},
   "source": [
    "## 4. Identify methylation islands"
   ]
  },
  {
   "cell_type": "markdown",
   "metadata": {},
   "source": [
    "To identify methylation islands using the method from Jeong et al. (2018), define:\n",
    "\n",
    "- starting size of the methylation window: 500 bp\n",
    "- minimum fraction of methylated CpGs required within the window to be accepted: 0.02\n",
    "- step size to extend the accepted window as long as the mCpG fraction is met: 50 bp\n",
    "- mCpG file: input with mCpG chromosome and bp position"
   ]
  },
  {
   "cell_type": "markdown",
   "metadata": {},
   "source": [
    "### 4a. *M. capitata*"
   ]
  },
  {
   "cell_type": "code",
   "execution_count": null,
   "metadata": {},
   "outputs": [],
   "source": [
    "#Modify mCpG file by removing the third column that is not needed for methylation island analysis\n",
    "!awk '{print $1\"\\t\"$2}' .bed-MC > .bed-MC-Reduced"
   ]
  },
  {
   "cell_type": "code",
   "execution_count": null,
   "metadata": {},
   "outputs": [],
   "source": [
    "#Identify methylation islands using 0.02 mCpG fraction\n",
    "! ./methyl_island_sliding_window.pl 500 0.02 50 .bed-MC-Reduced \\\n",
    "> MC-Methylation-Islands-500_0.02_50.tab"
   ]
  },
  {
   "cell_type": "code",
   "execution_count": null,
   "metadata": {},
   "outputs": [],
   "source": [
    "#Filter by MI length and print MI length in a new column\n",
    "!awk '{if ($3-$2 >= 500) { print $1\"\\t\"$2\"\\t\"$3\"\\t\"$4\"\\t\"$3-$2}}' MC-Methylation-Islands-500_0.02_50.tab \\\n",
    "> MC-Methylation-Islands-500_0.02_50-filtered.tab\n",
    "!head MC-Methylation-Islands-500_0.02_50-filtered.tab\n",
    "! wc -l MC-Methylation-Islands-500_0.02_50-filtered.tab"
   ]
  },
  {
   "cell_type": "code",
   "execution_count": null,
   "metadata": {},
   "outputs": [],
   "source": [
    "#Count max mCpG in an island\n",
    "#Count min mCpG in an island\n",
    "!awk 'NR==1{max = $4 + 0; next} {if ($4 > max) max = $4;} END {print max}' \\\n",
    "MC-Methylation-Islands-500_0.02_50-filtered.tab\n",
    "!awk 'NR==1{min = $4 + 0; next} {if ($4 < min) min = $4;} END {print min}' \\\n",
    "MC-Methylation-Islands-500_0.02_50-filtered.tab"
   ]
  },
  {
   "cell_type": "code",
   "execution_count": null,
   "metadata": {},
   "outputs": [],
   "source": [
    "#Create tab-delimited BEDfile without additional information\n",
    "!awk '{print $1\"\\t\"$2\"\\t\"$3}' MC-Methylation-Islands-500_0.02_50-filtered.tab \\\n",
    "> MC-Methylation-Islands-500_0.02_50-filtered.tab"
   ]
  },
  {
   "cell_type": "markdown",
   "metadata": {},
   "source": [
    "### 4b. *P. acuta*"
   ]
  },
  {
   "cell_type": "code",
   "execution_count": null,
   "metadata": {},
   "outputs": [],
   "source": [
    "#Modify mCpG file by removing the third column that is not needed for methylation island analysis\n",
    "!awk '{print $1\"\\t\"$2}' .bed-PA > .bed-PA-Reduced"
   ]
  },
  {
   "cell_type": "code",
   "execution_count": null,
   "metadata": {},
   "outputs": [],
   "source": [
    "#Identify methylation islands using 0.02 mCpG fraction (same as original paper)\n",
    "! ./methyl_island_sliding_window.pl 500 0.02 50 .bed-PA-Reduced \\\n",
    "> PA-Methylation-Islands-500_0.02_50.tab"
   ]
  },
  {
   "cell_type": "code",
   "execution_count": null,
   "metadata": {},
   "outputs": [],
   "source": [
    "#Filter by MI length and print MI length in a new column\n",
    "!awk '{if ($3-$2 >= 500) { print $1\"\\t\"$2\"\\t\"$3\"\\t\"$4\"\\t\"$3-$2}}' PA-Methylation-Islands-500_0.02_50.tab \\\n",
    "> PA-Methylation-Islands-500_0.02_50-filtered.tab\n",
    "!head PA-Methylation-Islands-500_0.02_50-filtered.tab\n",
    "! wc -l PA-Methylation-Islands-500_0.02_50-filtered.tab"
   ]
  },
  {
   "cell_type": "code",
   "execution_count": null,
   "metadata": {},
   "outputs": [],
   "source": [
    "#Count max mCpG in an island\n",
    "#Count min mCpG in an island\n",
    "!awk 'NR==1{max = $4 + 0; next} {if ($4 > max) max = $4;} END {print max}' \\\n",
    "PA-Methylation-Islands-500_0.02_50-filtered.tab\n",
    "!awk 'NR==1{min = $4 + 0; next} {if ($4 < min) min = $4;} END {print min}' \\\n",
    "PA-Methylation-Islands-500_0.02_50-filtered.tab"
   ]
  },
  {
   "cell_type": "markdown",
   "metadata": {},
   "source": [
    "## 5. Characterize genomic location of methylation islands"
   ]
  },
  {
   "cell_type": "markdown",
   "metadata": {},
   "source": [
    "### 5a. Set variable paths"
   ]
  },
  {
   "cell_type": "code",
   "execution_count": null,
   "metadata": {},
   "outputs": [],
   "source": [
    "mcMethylationIslands = \"\""
   ]
  },
  {
   "cell_type": "code",
   "execution_count": null,
   "metadata": {},
   "outputs": [],
   "source": [
    "paMethylationIslands = \"\""
   ]
  },
  {
   "cell_type": "markdown",
   "metadata": {},
   "source": [
    "### 5b. Genes"
   ]
  },
  {
   "cell_type": "code",
   "execution_count": null,
   "metadata": {},
   "outputs": [],
   "source": [
    "! {bedtoolsDirectory}intersectBed \\\n",
    "-wo \\\n",
    "-a {mcMethylationIslands} \\\n",
    "-b {mcGenes} \\\n",
    "> mcMethylationIslands-Genes.txt"
   ]
  },
  {
   "cell_type": "code",
   "execution_count": null,
   "metadata": {},
   "outputs": [],
   "source": [
    "!head mcMethylationIslands-Genes.txt\n",
    "!wc -l mcMethylationIslands-Genes.txt"
   ]
  },
  {
   "cell_type": "code",
   "execution_count": null,
   "metadata": {},
   "outputs": [],
   "source": [
    "! {bedtoolsDirectory}intersectBed \\\n",
    "-wo \\\n",
    "-a {paMethylationIslands} \\\n",
    "-b {paGenes} \\\n",
    "> paMethylationIslands-Genes.txt"
   ]
  },
  {
   "cell_type": "code",
   "execution_count": null,
   "metadata": {},
   "outputs": [],
   "source": [
    "!head paMethylationIslands-Genes.txt\n",
    "!wc paMethylationIslands-Genes.txt"
   ]
  },
  {
   "cell_type": "markdown",
   "metadata": {},
   "source": [
    "### 5c. Intergenic"
   ]
  },
  {
   "cell_type": "code",
   "execution_count": null,
   "metadata": {},
   "outputs": [],
   "source": [
    "! {bedtoolsDirectory}intersectBed \\\n",
    "-wo \\\n",
    "-a {mcMethylationIslands} \\\n",
    "-b {mcIntergenic} \\\n",
    "> mcMethylationIslands-Intergenic.txt"
   ]
  },
  {
   "cell_type": "code",
   "execution_count": null,
   "metadata": {},
   "outputs": [],
   "source": [
    "!head mcMethylationIslands-Genes.txt\n",
    "!wc -l mcMethylationIslands-Genes.txt"
   ]
  },
  {
   "cell_type": "code",
   "execution_count": null,
   "metadata": {},
   "outputs": [],
   "source": [
    "! {bedtoolsDirectory}intersectBed \\\n",
    "-wo \\\n",
    "-a {paMethylationIslands} \\\n",
    "-b {paIntergenic} \\\n",
    "> paMethylationIslands-Intergenic.txt"
   ]
  },
  {
   "cell_type": "code",
   "execution_count": null,
   "metadata": {},
   "outputs": [],
   "source": [
    "!head paMethylationIslands-Intergenic.txt\n",
    "!wc paMethylationIslands-Intergenic.txt"
   ]
  },
  {
   "cell_type": "code",
   "execution_count": null,
   "metadata": {},
   "outputs": [],
   "source": []
  }
 ],
 "metadata": {
  "kernelspec": {
   "display_name": "Python 3",
   "language": "python",
   "name": "python3"
  },
  "language_info": {
   "codemirror_mode": {
    "name": "ipython",
    "version": 3
   },
   "file_extension": ".py",
   "mimetype": "text/x-python",
   "name": "python",
   "nbconvert_exporter": "python",
   "pygments_lexer": "ipython3",
   "version": "3.7.4"
  }
 },
 "nbformat": 4,
 "nbformat_minor": 2
}
