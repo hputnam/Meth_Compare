{
 "cells": [
  {
   "cell_type": "markdown",
   "metadata": {},
   "source": [
    "Here we want to take all 9 5x bedgraphs for a genome and develop a bed file that represent total coverage. "
   ]
  },
  {
   "cell_type": "code",
   "execution_count": 1,
   "metadata": {
    "ExecuteTime": {
     "end_time": "2020-04-01T21:10:23.102823Z",
     "start_time": "2020-04-01T21:10:23.028262Z"
    }
   },
   "outputs": [
    {
     "name": "stdout",
     "output_type": "stream",
     "text": [
      "/Users/strigg/Documents/GitHub/Meth_Compare/data\n"
     ]
    }
   ],
   "source": [
    "cd ../data/\n"
   ]
  },
  {
   "cell_type": "code",
   "execution_count": 3,
   "metadata": {
    "ExecuteTime": {
     "end_time": "2020-04-01T21:10:54.173901Z",
     "start_time": "2020-04-01T21:10:53.904631Z"
    }
   },
   "outputs": [],
   "source": [
    "!rm Meth*"
   ]
  },
  {
   "cell_type": "code",
   "execution_count": 2,
   "metadata": {
    "ExecuteTime": {
     "end_time": "2020-04-01T21:12:01.582626Z",
     "start_time": "2020-04-01T21:12:01.440737Z"
    }
   },
   "outputs": [
    {
     "name": "stdout",
     "output_type": "stream",
     "text": [
      "\u001b[34mgannet.fish.washington.edu\u001b[m\u001b[m/\r\n"
     ]
    }
   ],
   "source": [
    "ls"
   ]
  },
  {
   "cell_type": "code",
   "execution_count": 3,
   "metadata": {
    "ExecuteTime": {
     "end_time": "2020-04-01T21:13:26.237921Z",
     "start_time": "2020-04-01T21:12:05.338830Z"
    },
    "scrolled": true
   },
   "outputs": [
    {
     "name": "stdout",
     "output_type": "stream",
     "text": [
      "--2020-04-24 11:08:32--  https://gannet.fish.washington.edu/seashell/bu-mox/scrubbed/031520-TG-bs/Mcap_tg/dedup/\n",
      "Resolving gannet.fish.washington.edu... 128.95.149.52\n",
      "Connecting to gannet.fish.washington.edu|128.95.149.52|:443... connected.\n",
      "HTTP request sent, awaiting response... 200 OK\n",
      "Length: unspecified [text/html]\n",
      "Saving to: ‘./index.html’\n",
      "\n",
      "index.html              [ <=>                ]  42.27K  --.-KB/s    in 0.001s  \n",
      "\n",
      "2020-04-24 11:08:33 (48.6 MB/s) - ‘./index.html’ saved [43285]\n",
      "\n",
      "Loading robots.txt; please ignore errors.\n",
      "--2020-04-24 11:08:33--  https://gannet.fish.washington.edu/robots.txt\n",
      "Reusing existing connection to gannet.fish.washington.edu:443.\n",
      "HTTP request sent, awaiting response... 404 Not Found\n",
      "2020-04-24 11:08:33 ERROR 404: Not Found.\n",
      "\n",
      "Removing ./index.html since it should be rejected.\n",
      "\n",
      "--2020-04-24 11:08:33--  https://gannet.fish.washington.edu/seashell/bu-mox/scrubbed/031520-TG-bs/Mcap_tg/dedup/?C=N;O=D\n",
      "Reusing existing connection to gannet.fish.washington.edu:443.\n",
      "HTTP request sent, awaiting response... 200 OK\n",
      "Length: unspecified [text/html]\n",
      "Saving to: ‘./index.html?C=N;O=D’\n",
      "\n",
      "index.html?C=N;O=D      [ <=>                ]  42.27K  --.-KB/s    in 0.001s  \n",
      "\n",
      "2020-04-24 11:08:34 (47.9 MB/s) - ‘./index.html?C=N;O=D’ saved [43285]\n",
      "\n",
      "Removing ./index.html?C=N;O=D since it should be rejected.\n",
      "\n",
      "--2020-04-24 11:08:34--  https://gannet.fish.washington.edu/seashell/bu-mox/scrubbed/031520-TG-bs/Mcap_tg/dedup/?C=M;O=A\n",
      "Reusing existing connection to gannet.fish.washington.edu:443.\n",
      "HTTP request sent, awaiting response... 200 OK\n",
      "Length: unspecified [text/html]\n",
      "Saving to: ‘./index.html?C=M;O=A’\n",
      "\n",
      "index.html?C=M;O=A      [ <=>                ]  42.27K  --.-KB/s    in 0.002s  \n",
      "\n",
      "2020-04-24 11:08:35 (18.4 MB/s) - ‘./index.html?C=M;O=A’ saved [43285]\n",
      "\n",
      "Removing ./index.html?C=M;O=A since it should be rejected.\n",
      "\n",
      "--2020-04-24 11:08:35--  https://gannet.fish.washington.edu/seashell/bu-mox/scrubbed/031520-TG-bs/Mcap_tg/dedup/?C=S;O=A\n",
      "Reusing existing connection to gannet.fish.washington.edu:443.\n",
      "HTTP request sent, awaiting response... 200 OK\n",
      "Length: unspecified [text/html]\n",
      "Saving to: ‘./index.html?C=S;O=A’\n",
      "\n",
      "index.html?C=S;O=A      [ <=>                ]  42.27K  --.-KB/s    in 0.001s  \n",
      "\n",
      "2020-04-24 11:08:36 (49.1 MB/s) - ‘./index.html?C=S;O=A’ saved [43285]\n",
      "\n",
      "Removing ./index.html?C=S;O=A since it should be rejected.\n",
      "\n",
      "--2020-04-24 11:08:36--  https://gannet.fish.washington.edu/seashell/bu-mox/scrubbed/031520-TG-bs/Mcap_tg/dedup/?C=D;O=A\n",
      "Reusing existing connection to gannet.fish.washington.edu:443.\n",
      "HTTP request sent, awaiting response... 200 OK\n",
      "Length: unspecified [text/html]\n",
      "Saving to: ‘./index.html?C=D;O=A’\n",
      "\n",
      "index.html?C=D;O=A      [ <=>                ]  42.27K  --.-KB/s    in 0.01s   \n",
      "\n",
      "2020-04-24 11:08:37 (4.08 MB/s) - ‘./index.html?C=D;O=A’ saved [43285]\n",
      "\n",
      "Removing ./index.html?C=D;O=A since it should be rejected.\n",
      "\n",
      "--2020-04-24 11:08:37--  https://gannet.fish.washington.edu/seashell/bu-mox/scrubbed/031520-TG-bs/Mcap_tg/dedup/Meth10_R1_001_val_1_bismark_bt2_pe._5x.bedgraph\n",
      "Reusing existing connection to gannet.fish.washington.edu:443.\n",
      "HTTP request sent, awaiting response... 200 OK\n",
      "Length: 123101388 (117M)\n",
      "Saving to: ‘./Meth10_R1_001_val_1_bismark_bt2_pe._5x.bedgraph’\n",
      "\n",
      "Meth10_R1_001_val_1 100%[===================>] 117.40M  44.7MB/s    in 2.6s    \n",
      "\n",
      "2020-04-24 11:08:40 (44.7 MB/s) - ‘./Meth10_R1_001_val_1_bismark_bt2_pe._5x.bedgraph’ saved [123101388/123101388]\n",
      "\n",
      "--2020-04-24 11:08:40--  https://gannet.fish.washington.edu/seashell/bu-mox/scrubbed/031520-TG-bs/Mcap_tg/dedup/Meth11_R1_001_val_1_bismark_bt2_pe._5x.bedgraph\n",
      "Reusing existing connection to gannet.fish.washington.edu:443.\n",
      "HTTP request sent, awaiting response... 200 OK\n",
      "Length: 125607408 (120M)\n",
      "Saving to: ‘./Meth11_R1_001_val_1_bismark_bt2_pe._5x.bedgraph’\n",
      "\n",
      "Meth11_R1_001_val_1 100%[===================>] 119.79M  39.3MB/s    in 3.0s    \n",
      "\n",
      "2020-04-24 11:08:43 (39.3 MB/s) - ‘./Meth11_R1_001_val_1_bismark_bt2_pe._5x.bedgraph’ saved [125607408/125607408]\n",
      "\n",
      "--2020-04-24 11:08:43--  https://gannet.fish.washington.edu/seashell/bu-mox/scrubbed/031520-TG-bs/Mcap_tg/dedup/Meth12_R1_001_val_1_bismark_bt2_pe._5x.bedgraph\n",
      "Reusing existing connection to gannet.fish.washington.edu:443.\n",
      "HTTP request sent, awaiting response... 200 OK\n",
      "Length: 236954482 (226M)\n",
      "Saving to: ‘./Meth12_R1_001_val_1_bismark_bt2_pe._5x.bedgraph’\n",
      "\n",
      "Meth12_R1_001_val_1 100%[===================>] 225.98M  46.1MB/s    in 5.7s    \n",
      "\n",
      "2020-04-24 11:08:49 (39.4 MB/s) - ‘./Meth12_R1_001_val_1_bismark_bt2_pe._5x.bedgraph’ saved [236954482/236954482]\n",
      "\n",
      "--2020-04-24 11:08:49--  https://gannet.fish.washington.edu/seashell/bu-mox/scrubbed/031520-TG-bs/Mcap_tg/dedup/Meth16_R1_001_val_1_bismark_bt2_pe._5x.bedgraph\n",
      "Reusing existing connection to gannet.fish.washington.edu:443.\n",
      "HTTP request sent, awaiting response... 200 OK\n",
      "Length: 15778525 (15M)\n",
      "Saving to: ‘./Meth16_R1_001_val_1_bismark_bt2_pe._5x.bedgraph’\n",
      "\n",
      "Meth16_R1_001_val_1 100%[===================>]  15.05M  48.8MB/s    in 0.3s    \n",
      "\n",
      "2020-04-24 11:08:49 (48.8 MB/s) - ‘./Meth16_R1_001_val_1_bismark_bt2_pe._5x.bedgraph’ saved [15778525/15778525]\n",
      "\n",
      "--2020-04-24 11:08:49--  https://gannet.fish.washington.edu/seashell/bu-mox/scrubbed/031520-TG-bs/Mcap_tg/dedup/Meth17_R1_001_val_1_bismark_bt2_pe._5x.bedgraph\n",
      "Reusing existing connection to gannet.fish.washington.edu:443.\n",
      "HTTP request sent, awaiting response... 200 OK\n",
      "Length: 6552639 (6.2M)\n",
      "Saving to: ‘./Meth17_R1_001_val_1_bismark_bt2_pe._5x.bedgraph’\n",
      "\n",
      "Meth17_R1_001_val_1 100%[===================>]   6.25M  --.-KB/s    in 0.1s    \n",
      "\n",
      "2020-04-24 11:08:50 (47.2 MB/s) - ‘./Meth17_R1_001_val_1_bismark_bt2_pe._5x.bedgraph’ saved [6552639/6552639]\n",
      "\n",
      "--2020-04-24 11:08:50--  https://gannet.fish.washington.edu/seashell/bu-mox/scrubbed/031520-TG-bs/Mcap_tg/dedup/Meth18_R1_001_val_1_bismark_bt2_pe._5x.bedgraph\n",
      "Reusing existing connection to gannet.fish.washington.edu:443.\n",
      "HTTP request sent, awaiting response... 200 OK\n",
      "Length: 4146851 (4.0M)\n",
      "Saving to: ‘./Meth18_R1_001_val_1_bismark_bt2_pe._5x.bedgraph’\n",
      "\n",
      "Meth18_R1_001_val_1 100%[===================>]   3.95M  --.-KB/s    in 0.08s   \n",
      "\n",
      "2020-04-24 11:08:50 (48.3 MB/s) - ‘./Meth18_R1_001_val_1_bismark_bt2_pe._5x.bedgraph’ saved [4146851/4146851]\n",
      "\n",
      "--2020-04-24 11:08:50--  https://gannet.fish.washington.edu/seashell/bu-mox/scrubbed/031520-TG-bs/Mcap_tg/dedup/?C=N;O=A\n",
      "Reusing existing connection to gannet.fish.washington.edu:443.\n",
      "HTTP request sent, awaiting response... 200 OK\n",
      "Length: unspecified [text/html]\n",
      "Saving to: ‘./index.html?C=N;O=A’\n",
      "\n",
      "index.html?C=N;O=A      [ <=>                ]  42.27K  --.-KB/s    in 0.006s  \n",
      "\n",
      "2020-04-24 11:08:51 (7.44 MB/s) - ‘./index.html?C=N;O=A’ saved [43285]\n",
      "\n",
      "Removing ./index.html?C=N;O=A since it should be rejected.\n",
      "\n",
      "--2020-04-24 11:08:51--  https://gannet.fish.washington.edu/seashell/bu-mox/scrubbed/031520-TG-bs/Mcap_tg/dedup/?C=M;O=D\n",
      "Reusing existing connection to gannet.fish.washington.edu:443.\n",
      "HTTP request sent, awaiting response... 200 OK\n",
      "Length: unspecified [text/html]\n",
      "Saving to: ‘./index.html?C=M;O=D’\n",
      "\n",
      "index.html?C=M;O=D      [ <=>                ]  42.27K  --.-KB/s    in 0.001s  \n",
      "\n",
      "2020-04-24 11:08:52 (63.3 MB/s) - ‘./index.html?C=M;O=D’ saved [43285]\n",
      "\n",
      "Removing ./index.html?C=M;O=D since it should be rejected.\n",
      "\n",
      "--2020-04-24 11:08:52--  https://gannet.fish.washington.edu/seashell/bu-mox/scrubbed/031520-TG-bs/Mcap_tg/dedup/?C=S;O=D\n",
      "Reusing existing connection to gannet.fish.washington.edu:443.\n",
      "HTTP request sent, awaiting response... 200 OK\n",
      "Length: unspecified [text/html]\n",
      "Saving to: ‘./index.html?C=S;O=D’\n",
      "\n",
      "index.html?C=S;O=D      [ <=>                ]  42.27K  --.-KB/s    in 0.001s  \n",
      "\n",
      "2020-04-24 11:08:53 (62.1 MB/s) - ‘./index.html?C=S;O=D’ saved [43285]\n",
      "\n",
      "Removing ./index.html?C=S;O=D since it should be rejected.\n",
      "\n",
      "--2020-04-24 11:08:53--  https://gannet.fish.washington.edu/seashell/bu-mox/scrubbed/031520-TG-bs/Mcap_tg/dedup/?C=D;O=D\n",
      "Reusing existing connection to gannet.fish.washington.edu:443.\n",
      "HTTP request sent, awaiting response... 200 OK\n",
      "Length: unspecified [text/html]\n",
      "Saving to: ‘./index.html?C=D;O=D’\n",
      "\n",
      "index.html?C=D;O=D      [ <=>                ]  42.27K  --.-KB/s    in 0.001s  \n",
      "\n",
      "2020-04-24 11:08:54 (63.4 MB/s) - ‘./index.html?C=D;O=D’ saved [43285]\n",
      "\n",
      "Removing ./index.html?C=D;O=D since it should be rejected.\n",
      "\n",
      "FINISHED --2020-04-24 11:08:54--\n",
      "Total wall clock time: 22s\n",
      "Downloaded: 15 files, 489M in 12s (40.9 MB/s)\n"
     ]
    }
   ],
   "source": [
    "!wget -r \\\n",
    "--no-directories --no-parent --reject \"index.html*\" \\\n",
    "-P . \\\n",
    "-A 5x.bedgraph https://gannet.fish.washington.edu/seashell/bu-mox/scrubbed/031520-TG-bs/Mcap_tg/dedup/\n"
   ]
  },
  {
   "cell_type": "code",
   "execution_count": 4,
   "metadata": {
    "ExecuteTime": {
     "end_time": "2020-04-01T21:13:42.784695Z",
     "start_time": "2020-04-01T21:13:42.643355Z"
    }
   },
   "outputs": [
    {
     "name": "stdout",
     "output_type": "stream",
     "text": [
      "Meth10_R1_001_val_1_bismark_bt2_pe._5x.bedgraph\r\n",
      "Meth11_R1_001_val_1_bismark_bt2_pe._5x.bedgraph\r\n",
      "Meth12_R1_001_val_1_bismark_bt2_pe._5x.bedgraph\r\n",
      "Meth16_R1_001_val_1_bismark_bt2_pe._5x.bedgraph\r\n",
      "Meth17_R1_001_val_1_bismark_bt2_pe._5x.bedgraph\r\n",
      "Meth18_R1_001_val_1_bismark_bt2_pe._5x.bedgraph\r\n",
      "\u001b[34mgannet.fish.washington.edu\u001b[m\u001b[m/\r\n"
     ]
    }
   ],
   "source": [
    "ls"
   ]
  },
  {
   "cell_type": "code",
   "execution_count": 5,
   "metadata": {
    "ExecuteTime": {
     "end_time": "2020-04-01T21:14:53.450171Z",
     "start_time": "2020-04-01T21:14:13.948747Z"
    }
   },
   "outputs": [
    {
     "name": "stdout",
     "output_type": "stream",
     "text": [
      "--2020-04-24 11:18:56--  https://gannet.fish.washington.edu/seashell/bu-mox/scrubbed/031520-TG-bs/Mcap_tg/nodedup/\n",
      "Resolving gannet.fish.washington.edu... 128.95.149.52\n",
      "Connecting to gannet.fish.washington.edu|128.95.149.52|:443... connected.\n",
      "HTTP request sent, awaiting response... 200 OK\n",
      "Length: unspecified [text/html]\n",
      "Saving to: ‘./index.html’\n",
      "\n",
      "index.html              [ <=>                ]  19.31K  --.-KB/s    in 0s      \n",
      "\n",
      "2020-04-24 11:18:56 (48.0 MB/s) - ‘./index.html’ saved [19778]\n",
      "\n",
      "Loading robots.txt; please ignore errors.\n",
      "--2020-04-24 11:18:56--  https://gannet.fish.washington.edu/robots.txt\n",
      "Reusing existing connection to gannet.fish.washington.edu:443.\n",
      "HTTP request sent, awaiting response... 404 Not Found\n",
      "2020-04-24 11:18:56 ERROR 404: Not Found.\n",
      "\n",
      "Removing ./index.html since it should be rejected.\n",
      "\n",
      "--2020-04-24 11:18:56--  https://gannet.fish.washington.edu/seashell/bu-mox/scrubbed/031520-TG-bs/Mcap_tg/nodedup/?C=N;O=D\n",
      "Reusing existing connection to gannet.fish.washington.edu:443.\n",
      "HTTP request sent, awaiting response... 200 OK\n",
      "Length: unspecified [text/html]\n",
      "Saving to: ‘./index.html?C=N;O=D’\n",
      "\n",
      "index.html?C=N;O=D      [ <=>                ]  19.31K  --.-KB/s    in 0s      \n",
      "\n",
      "2020-04-24 11:18:57 (52.8 MB/s) - ‘./index.html?C=N;O=D’ saved [19778]\n",
      "\n",
      "Removing ./index.html?C=N;O=D since it should be rejected.\n",
      "\n",
      "--2020-04-24 11:18:57--  https://gannet.fish.washington.edu/seashell/bu-mox/scrubbed/031520-TG-bs/Mcap_tg/nodedup/?C=M;O=A\n",
      "Reusing existing connection to gannet.fish.washington.edu:443.\n",
      "HTTP request sent, awaiting response... 200 OK\n",
      "Length: unspecified [text/html]\n",
      "Saving to: ‘./index.html?C=M;O=A’\n",
      "\n",
      "index.html?C=M;O=A      [ <=>                ]  19.31K  --.-KB/s    in 0s      \n",
      "\n",
      "2020-04-24 11:18:57 (54.7 MB/s) - ‘./index.html?C=M;O=A’ saved [19778]\n",
      "\n",
      "Removing ./index.html?C=M;O=A since it should be rejected.\n",
      "\n",
      "--2020-04-24 11:18:57--  https://gannet.fish.washington.edu/seashell/bu-mox/scrubbed/031520-TG-bs/Mcap_tg/nodedup/?C=S;O=A\n",
      "Reusing existing connection to gannet.fish.washington.edu:443.\n",
      "HTTP request sent, awaiting response... 200 OK\n",
      "Length: unspecified [text/html]\n",
      "Saving to: ‘./index.html?C=S;O=A’\n",
      "\n",
      "index.html?C=S;O=A      [ <=>                ]  19.31K  --.-KB/s    in 0s      \n",
      "\n",
      "2020-04-24 11:18:57 (50.4 MB/s) - ‘./index.html?C=S;O=A’ saved [19778]\n",
      "\n",
      "Removing ./index.html?C=S;O=A since it should be rejected.\n",
      "\n",
      "--2020-04-24 11:18:57--  https://gannet.fish.washington.edu/seashell/bu-mox/scrubbed/031520-TG-bs/Mcap_tg/nodedup/?C=D;O=A\n",
      "Reusing existing connection to gannet.fish.washington.edu:443.\n",
      "HTTP request sent, awaiting response... 200 OK\n",
      "Length: unspecified [text/html]\n",
      "Saving to: ‘./index.html?C=D;O=A’\n",
      "\n",
      "index.html?C=D;O=A      [ <=>                ]  19.31K  --.-KB/s    in 0.002s  \n",
      "\n",
      "2020-04-24 11:18:58 (8.53 MB/s) - ‘./index.html?C=D;O=A’ saved [19778]\n",
      "\n",
      "Removing ./index.html?C=D;O=A since it should be rejected.\n",
      "\n",
      "--2020-04-24 11:18:58--  https://gannet.fish.washington.edu/seashell/bu-mox/scrubbed/031520-TG-bs/Mcap_tg/nodedup/Meth13_R1_001_val_1_bismark_bt2_pe._5x.bedgraph\n",
      "Reusing existing connection to gannet.fish.washington.edu:443.\n",
      "HTTP request sent, awaiting response... 200 OK\n",
      "Length: 84952729 (81M)\n",
      "Saving to: ‘./Meth13_R1_001_val_1_bismark_bt2_pe._5x.bedgraph’\n",
      "\n",
      "Meth13_R1_001_val_1 100%[===================>]  81.02M  66.9MB/s    in 1.2s    \n",
      "\n",
      "2020-04-24 11:18:59 (66.9 MB/s) - ‘./Meth13_R1_001_val_1_bismark_bt2_pe._5x.bedgraph’ saved [84952729/84952729]\n",
      "\n",
      "--2020-04-24 11:18:59--  https://gannet.fish.washington.edu/seashell/bu-mox/scrubbed/031520-TG-bs/Mcap_tg/nodedup/Meth14_R1_001_val_1_bismark_bt2_pe._5x.bedgraph\n",
      "Reusing existing connection to gannet.fish.washington.edu:443.\n",
      "HTTP request sent, awaiting response... 200 OK\n",
      "Length: 70900427 (68M)\n",
      "Saving to: ‘./Meth14_R1_001_val_1_bismark_bt2_pe._5x.bedgraph’\n",
      "\n",
      "Meth14_R1_001_val_1 100%[===================>]  67.62M  68.4MB/s    in 1.0s    \n",
      "\n",
      "2020-04-24 11:19:00 (68.4 MB/s) - ‘./Meth14_R1_001_val_1_bismark_bt2_pe._5x.bedgraph’ saved [70900427/70900427]\n",
      "\n",
      "--2020-04-24 11:19:00--  https://gannet.fish.washington.edu/seashell/bu-mox/scrubbed/031520-TG-bs/Mcap_tg/nodedup/Meth15_R1_001_val_1_bismark_bt2_pe._5x.bedgraph\n",
      "Reusing existing connection to gannet.fish.washington.edu:443.\n",
      "HTTP request sent, awaiting response... 200 OK\n",
      "Length: 85048595 (81M)\n",
      "Saving to: ‘./Meth15_R1_001_val_1_bismark_bt2_pe._5x.bedgraph’\n",
      "\n",
      "Meth15_R1_001_val_1 100%[===================>]  81.11M  67.4MB/s    in 1.2s    \n",
      "\n",
      "2020-04-24 11:19:01 (67.4 MB/s) - ‘./Meth15_R1_001_val_1_bismark_bt2_pe._5x.bedgraph’ saved [85048595/85048595]\n",
      "\n",
      "--2020-04-24 11:19:01--  https://gannet.fish.washington.edu/seashell/bu-mox/scrubbed/031520-TG-bs/Mcap_tg/nodedup/?C=N;O=A\n",
      "Reusing existing connection to gannet.fish.washington.edu:443.\n",
      "HTTP request sent, awaiting response... 200 OK\n",
      "Length: unspecified [text/html]\n",
      "Saving to: ‘./index.html?C=N;O=A’\n",
      "\n",
      "index.html?C=N;O=A      [ <=>                ]  19.31K  --.-KB/s    in 0s      \n",
      "\n",
      "2020-04-24 11:19:02 (66.6 MB/s) - ‘./index.html?C=N;O=A’ saved [19778]\n",
      "\n",
      "Removing ./index.html?C=N;O=A since it should be rejected.\n",
      "\n",
      "--2020-04-24 11:19:02--  https://gannet.fish.washington.edu/seashell/bu-mox/scrubbed/031520-TG-bs/Mcap_tg/nodedup/?C=M;O=D\n",
      "Reusing existing connection to gannet.fish.washington.edu:443.\n",
      "HTTP request sent, awaiting response... 200 OK\n",
      "Length: unspecified [text/html]\n",
      "Saving to: ‘./index.html?C=M;O=D’\n",
      "\n",
      "index.html?C=M;O=D      [ <=>                ]  19.31K  --.-KB/s    in 0s      \n",
      "\n",
      "2020-04-24 11:19:02 (66.2 MB/s) - ‘./index.html?C=M;O=D’ saved [19778]\n",
      "\n",
      "Removing ./index.html?C=M;O=D since it should be rejected.\n",
      "\n",
      "--2020-04-24 11:19:02--  https://gannet.fish.washington.edu/seashell/bu-mox/scrubbed/031520-TG-bs/Mcap_tg/nodedup/?C=S;O=D\n",
      "Reusing existing connection to gannet.fish.washington.edu:443.\n",
      "HTTP request sent, awaiting response... 200 OK\n",
      "Length: unspecified [text/html]\n",
      "Saving to: ‘./index.html?C=S;O=D’\n",
      "\n",
      "index.html?C=S;O=D      [ <=>                ]  19.31K  --.-KB/s    in 0s      \n",
      "\n",
      "2020-04-24 11:19:02 (66.2 MB/s) - ‘./index.html?C=S;O=D’ saved [19778]\n",
      "\n",
      "Removing ./index.html?C=S;O=D since it should be rejected.\n",
      "\n",
      "--2020-04-24 11:19:02--  https://gannet.fish.washington.edu/seashell/bu-mox/scrubbed/031520-TG-bs/Mcap_tg/nodedup/?C=D;O=D\n",
      "Reusing existing connection to gannet.fish.washington.edu:443.\n",
      "HTTP request sent, awaiting response... 200 OK\n",
      "Length: unspecified [text/html]\n",
      "Saving to: ‘./index.html?C=D;O=D’\n",
      "\n",
      "index.html?C=D;O=D      [ <=>                ]  19.31K  --.-KB/s    in 0s      \n",
      "\n",
      "2020-04-24 11:19:03 (65.5 MB/s) - ‘./index.html?C=D;O=D’ saved [19778]\n",
      "\n",
      "Removing ./index.html?C=D;O=D since it should be rejected.\n",
      "\n",
      "FINISHED --2020-04-24 11:19:03--\n",
      "Total wall clock time: 7.1s\n",
      "Downloaded: 12 files, 230M in 3.4s (67.4 MB/s)\n"
     ]
    }
   ],
   "source": [
    "!wget -r \\\n",
    "--no-directories --no-parent --reject \"index.html*\" \\\n",
    "-P . \\\n",
    "-A 5x.bedgraph https://gannet.fish.washington.edu/seashell/bu-mox/scrubbed/031520-TG-bs/Mcap_tg/nodedup/"
   ]
  },
  {
   "cell_type": "code",
   "execution_count": 6,
   "metadata": {
    "ExecuteTime": {
     "end_time": "2020-04-01T21:14:53.599380Z",
     "start_time": "2020-04-01T21:14:53.453420Z"
    }
   },
   "outputs": [
    {
     "name": "stdout",
     "output_type": "stream",
     "text": [
      "total 1470824\r\n",
      "-rw-r--r--  1 strigg  staff   117M Mar 25 22:43 Meth10_R1_001_val_1_bismark_bt2_pe._5x.bedgraph\r\n",
      "-rw-r--r--  1 strigg  staff   120M Mar 25 22:43 Meth11_R1_001_val_1_bismark_bt2_pe._5x.bedgraph\r\n",
      "-rw-r--r--  1 strigg  staff   226M Mar 25 22:43 Meth12_R1_001_val_1_bismark_bt2_pe._5x.bedgraph\r\n",
      "-rw-r--r--  1 strigg  staff    81M Mar 26 09:24 Meth13_R1_001_val_1_bismark_bt2_pe._5x.bedgraph\r\n",
      "-rw-r--r--  1 strigg  staff    68M Mar 26 09:24 Meth14_R1_001_val_1_bismark_bt2_pe._5x.bedgraph\r\n",
      "-rw-r--r--  1 strigg  staff    81M Mar 26 09:24 Meth15_R1_001_val_1_bismark_bt2_pe._5x.bedgraph\r\n",
      "-rw-r--r--  1 strigg  staff    15M Mar 25 22:44 Meth16_R1_001_val_1_bismark_bt2_pe._5x.bedgraph\r\n",
      "-rw-r--r--  1 strigg  staff   6.2M Mar 25 22:44 Meth17_R1_001_val_1_bismark_bt2_pe._5x.bedgraph\r\n",
      "-rw-r--r--  1 strigg  staff   4.0M Mar 25 22:44 Meth18_R1_001_val_1_bismark_bt2_pe._5x.bedgraph\r\n",
      "drwxr-xr-x  3 strigg  staff   102B Apr 24 11:05 \u001b[34mgannet.fish.washington.edu\u001b[m\u001b[m\r\n"
     ]
    }
   ],
   "source": [
    "!ls -lh\n"
   ]
  },
  {
   "cell_type": "code",
   "execution_count": 7,
   "metadata": {
    "ExecuteTime": {
     "end_time": "2020-04-01T21:14:55.468234Z",
     "start_time": "2020-04-01T21:14:53.602737Z"
    }
   },
   "outputs": [
    {
     "name": "stdout",
     "output_type": "stream",
     "text": [
      "MD5 (Meth10_R1_001_val_1_bismark_bt2_pe._5x.bedgraph) = 83035e7e47b8ad486de22dacc17ae8ed\n",
      "MD5 (Meth11_R1_001_val_1_bismark_bt2_pe._5x.bedgraph) = 6493359aad0b4228f65b5e563d337ceb\n",
      "MD5 (Meth12_R1_001_val_1_bismark_bt2_pe._5x.bedgraph) = b2f097299df0cb7d518d22338fdcf39f\n",
      "MD5 (Meth13_R1_001_val_1_bismark_bt2_pe._5x.bedgraph) = 2bb476cb98072f0e76bfb5c318246c38\n",
      "MD5 (Meth14_R1_001_val_1_bismark_bt2_pe._5x.bedgraph) = fc0f66cf04ffebe76d61c1db75cfed6e\n",
      "MD5 (Meth15_R1_001_val_1_bismark_bt2_pe._5x.bedgraph) = 1d7c24b238dc72cd92346213b3523611\n",
      "MD5 (Meth16_R1_001_val_1_bismark_bt2_pe._5x.bedgraph) = 04fb72d5df60656e6cec15637164fbec\n",
      "MD5 (Meth17_R1_001_val_1_bismark_bt2_pe._5x.bedgraph) = 073d1c40116a3f93f7a7022cfb4cd3d2\n",
      "MD5 (Meth18_R1_001_val_1_bismark_bt2_pe._5x.bedgraph) = a255210553db073e5458ccb523a34798\n",
      "md5: gannet.fish.washington.edu: Is a directory\n"
     ]
    }
   ],
   "source": [
    "!md5 *"
   ]
  },
  {
   "cell_type": "markdown",
   "metadata": {},
   "source": [
    "Will use unionbed\n",
    "![pic](http://gannet.fish.washington.edu/seashell/snaps/unionbedg__bedtools_2.29.2_documentation_2020-03-28_04-39-52.png)"
   ]
  },
  {
   "cell_type": "markdown",
   "metadata": {},
   "source": [
    "### Try sorting bedgraphs BEFORE running unionBedGraphs"
   ]
  },
  {
   "cell_type": "code",
   "execution_count": 10,
   "metadata": {},
   "outputs": [],
   "source": [
    "%%bash \n",
    "\n",
    "for f in *_5x.bedgraph\n",
    "do\n",
    "/Users/Shared/bioinformatics/bedtools2/bin/sortBed \\\n",
    "-i ${f} \\\n",
    "> $(basename ${f%_5x.bedgraph})_5x.sort.bedgraph\n",
    "done"
   ]
  },
  {
   "cell_type": "markdown",
   "metadata": {},
   "source": [
    "**run unionBedGraphs on sorted bedgraphs**"
   ]
  },
  {
   "cell_type": "code",
   "execution_count": 11,
   "metadata": {
    "ExecuteTime": {
     "end_time": "2020-04-01T21:21:23.515759Z",
     "start_time": "2020-04-01T21:18:12.098722Z"
    }
   },
   "outputs": [],
   "source": [
    "!/Users/Shared/bioinformatics/bedtools2/bin/unionBedGraphs \\\n",
    "-header \\\n",
    "-filler N/A \\\n",
    "-names 10 11 12 13 14 15 16 17 18 \\\n",
    "-i \\\n",
    "Meth10_R1_001_val_1_bismark_bt2_pe._5x.sort.bedgraph \\\n",
    "Meth11_R1_001_val_1_bismark_bt2_pe._5x.sort.bedgraph \\\n",
    "Meth12_R1_001_val_1_bismark_bt2_pe._5x.sort.bedgraph \\\n",
    "Meth13_R1_001_val_1_bismark_bt2_pe._5x.sort.bedgraph \\\n",
    "Meth14_R1_001_val_1_bismark_bt2_pe._5x.sort.bedgraph \\\n",
    "Meth15_R1_001_val_1_bismark_bt2_pe._5x.sort.bedgraph \\\n",
    "Meth16_R1_001_val_1_bismark_bt2_pe._5x.sort.bedgraph \\\n",
    "Meth17_R1_001_val_1_bismark_bt2_pe._5x.sort.bedgraph \\\n",
    "Meth18_R1_001_val_1_bismark_bt2_pe._5x.sort.bedgraph \\\n",
    "> ../analyses/10-unionbedg/Mcap_union_5x.bedgraph\n"
   ]
  },
  {
   "cell_type": "code",
   "execution_count": 12,
   "metadata": {
    "ExecuteTime": {
     "end_time": "2020-04-01T21:21:23.656848Z",
     "start_time": "2020-04-01T21:21:23.524033Z"
    }
   },
   "outputs": [
    {
     "name": "stdout",
     "output_type": "stream",
     "text": [
      "chrom\tstart\tend\t10\t11\t12\t13\t14\t15\t16\t17\t18\r\n",
      "1\t3493\t3495\tN/A\tN/A\tN/A\t0.000000\tN/A\t0.000000\tN/A\tN/A\tN/A\r\n",
      "1\t3518\t3520\tN/A\tN/A\tN/A\t0.000000\tN/A\t0.000000\tN/A\tN/A\tN/A\r\n",
      "1\t3727\t3729\tN/A\tN/A\tN/A\t0.000000\t0.000000\t8.695652\tN/A\tN/A\tN/A\r\n",
      "1\t3752\t3754\tN/A\tN/A\tN/A\t0.000000\t0.000000\t0.000000\tN/A\tN/A\tN/A\r\n",
      "1\t3757\t3759\tN/A\tN/A\tN/A\t0.000000\t0.000000\t0.000000\tN/A\tN/A\tN/A\r\n",
      "1\t3770\t3772\tN/A\tN/A\tN/A\t0.000000\t0.000000\t0.000000\tN/A\tN/A\tN/A\r\n",
      "1\t4062\t4064\tN/A\tN/A\t0.000000\tN/A\tN/A\tN/A\tN/A\tN/A\tN/A\r\n",
      "1\t4069\t4071\tN/A\tN/A\t0.000000\tN/A\tN/A\tN/A\tN/A\tN/A\tN/A\r\n",
      "1\t4077\t4079\tN/A\tN/A\t0.000000\tN/A\tN/A\tN/A\tN/A\tN/A\tN/A\r\n"
     ]
    }
   ],
   "source": [
    "!head ../analyses/10-unionbedg/Mcap_union_5x.bedgraph"
   ]
  },
  {
   "cell_type": "markdown",
   "metadata": {},
   "source": [
    "**count number of lines in Mcap unionBedGraph output**"
   ]
  },
  {
   "cell_type": "code",
   "execution_count": 13,
   "metadata": {},
   "outputs": [
    {
     "name": "stdout",
     "output_type": "stream",
     "text": [
      " 13340269 ../analyses/10-unionbedg/Mcap_union_5x.bedgraph\r\n"
     ]
    }
   ],
   "source": [
    "!wc -l ../analyses/10-unionbedg/Mcap_union_5x.bedgraph"
   ]
  },
  {
   "cell_type": "markdown",
   "metadata": {},
   "source": [
    "**count number of lines in Mcap CpG.gff**"
   ]
  },
  {
   "cell_type": "code",
   "execution_count": 15,
   "metadata": {},
   "outputs": [
    {
     "name": "stdout",
     "output_type": "stream",
     "text": [
      " 28684519 /Volumes/web/seashell/bu-github/Meth_Compare/genome-feature-files/Mcap_CpG.gff\r\n"
     ]
    }
   ],
   "source": [
    "!wc -l /Volumes/web/seashell/bu-github/Meth_Compare/genome-feature-files/Mcap_CpG.gff"
   ]
  },
  {
   "cell_type": "markdown",
   "metadata": {},
   "source": [
    "**see if any sites are listed more than once in the unionBedGraph output**\n",
    "\n",
    "code explaination:  \n",
    "\n",
    "#print the first 3 fields of the bedgraph (the CpG chromosome, start, and end position)\n",
    "\n",
    "```\n",
    "awk '{print $1,$2,$3}'\n",
    "```\n",
    "\n",
    "#unix sort command by default sorts the input by comparing entire lines when no fields (-k) are specified (see sort manual or https://www.gnu.org/software/coreutils/manual/html_node/sort-invocation.html)\n",
    "\n",
    "```\n",
    "sort\n",
    "```\n",
    "\n",
    "#uniq -c collapses identical lines of a sorted file and creates a new field 1 where the frequency at which the line occured is printed\n",
    "\n",
    "```\n",
    "uniq -c\n",
    "```\n",
    "\n",
    "#if the first field is greater than 1 print the line\n",
    "##This would indicate the CpG site listed more than one time \n",
    "```\n",
    "awk '{if($1>1)print $0}' \n",
    "```\n"
   ]
  },
  {
   "cell_type": "code",
   "execution_count": 16,
   "metadata": {},
   "outputs": [],
   "source": [
    "!cat ../analyses/10-unionbedg/Mcap_union_5x.bedgraph |\\\n",
    "awk '{print $1,$2,$3}' |\\\n",
    "sort | \\\n",
    "uniq -c |\\\n",
    "awk '{if($1>1)print $0}' |\\\n",
    "head"
   ]
  },
  {
   "cell_type": "code",
   "execution_count": 18,
   "metadata": {},
   "outputs": [
    {
     "name": "stdout",
     "output_type": "stream",
     "text": [
      "building file list ... \n",
      "4 files to consider\n",
      "10-unionbedg/\n",
      "10-unionbedg/Mcap_union_5x.bedgraph\n",
      "   862402537 100%   34.63MB/s    0:00:23 (xfer#1, to-check=2/4)\n",
      "10-unionbedg/Mcap_union_5x.bedgraph.tdf\n",
      "           0 100%    0.00kB/s    0:00:00 (xfer#2, to-check=1/4)\n",
      "10-unionbedg/Pact_union_5x.bedgraph\n",
      "   641780856 100%   32.38MB/s    0:00:18 (xfer#3, to-check=0/4)\n",
      "\n",
      "sent 1504367315 bytes  received 92 bytes  35396880.16 bytes/sec\n",
      "total size is 1504183393  speedup is 1.00\n"
     ]
    }
   ],
   "source": [
    "!rsync --archive --progress --verbose ../analyses/10-unionbedg \\\n",
    "/Volumes/web/metacarcinus/FROGER_meth_compare/20200424/"
   ]
  },
  {
   "cell_type": "code",
   "execution_count": 19,
   "metadata": {},
   "outputs": [
    {
     "name": "stdout",
     "output_type": "stream",
     "text": [
      "building file list ... \n",
      "36 files to consider\n",
      "Meth10_R1_001_val_1_bismark_bt2_pe._5x.bedgraph\n",
      "   123101388 100%   33.50MB/s    0:00:03 (xfer#1, to-check=35/36)\n",
      "Meth10_R1_001_val_1_bismark_bt2_pe._5x.sort.bedgraph\n",
      "   123101388 100%   29.04MB/s    0:00:04 (xfer#2, to-check=34/36)\n",
      "Meth11_R1_001_val_1_bismark_bt2_pe._5x.bedgraph\n",
      "   125607408 100%   33.30MB/s    0:00:03 (xfer#3, to-check=33/36)\n",
      "Meth11_R1_001_val_1_bismark_bt2_pe._5x.sort.bedgraph\n",
      "   125607408 100%   28.56MB/s    0:00:04 (xfer#4, to-check=32/36)\n",
      "Meth12_R1_001_val_1_bismark_bt2_pe._5x.bedgraph\n",
      "   236954482 100%   33.43MB/s    0:00:06 (xfer#5, to-check=31/36)\n",
      "Meth12_R1_001_val_1_bismark_bt2_pe._5x.sort.bedgraph\n",
      "   236954482 100%   30.72MB/s    0:00:07 (xfer#6, to-check=30/36)\n",
      "Meth13_R1_001_val_1_bismark_bt2_pe._5x.bedgraph\n",
      "    84952729 100%   28.87MB/s    0:00:02 (xfer#7, to-check=29/36)\n",
      "Meth13_R1_001_val_1_bismark_bt2_pe._5x.sort.bedgraph\n",
      "    84952729 100%   25.33MB/s    0:00:03 (xfer#8, to-check=28/36)\n",
      "Meth14_R1_001_val_1_bismark_bt2_pe._5x.bedgraph\n",
      "    70900427 100%   28.13MB/s    0:00:02 (xfer#9, to-check=27/36)\n",
      "Meth14_R1_001_val_1_bismark_bt2_pe._5x.sort.bedgraph\n",
      "    70900427 100%   27.52MB/s    0:00:02 (xfer#10, to-check=26/36)\n",
      "Meth15_R1_001_val_1_bismark_bt2_pe._5x.bedgraph\n",
      "    85048595 100%   28.47MB/s    0:00:02 (xfer#11, to-check=25/36)\n",
      "Meth15_R1_001_val_1_bismark_bt2_pe._5x.sort.bedgraph\n",
      "    85048595 100%   24.92MB/s    0:00:03 (xfer#12, to-check=24/36)\n",
      "Meth16_R1_001_val_1_bismark_bt2_pe._5x.bedgraph\n",
      "    15778525 100%   17.42MB/s    0:00:00 (xfer#13, to-check=23/36)\n",
      "Meth16_R1_001_val_1_bismark_bt2_pe._5x.sort.bedgraph\n",
      "    15778525 100%   10.75MB/s    0:00:01 (xfer#14, to-check=22/36)\n",
      "Meth17_R1_001_val_1_bismark_bt2_pe._5x.bedgraph\n",
      "     6552639 100%    6.94MB/s    0:00:00 (xfer#15, to-check=21/36)\n",
      "Meth17_R1_001_val_1_bismark_bt2_pe._5x.sort.bedgraph\n",
      "     6552639 100%    5.43MB/s    0:00:01 (xfer#16, to-check=20/36)\n",
      "Meth18_R1_001_val_1_bismark_bt2_pe._5x.bedgraph\n",
      "     4146851 100%   11.08MB/s    0:00:00 (xfer#17, to-check=19/36)\n",
      "Meth18_R1_001_val_1_bismark_bt2_pe._5x.sort.bedgraph\n",
      "     4146851 100%    6.89MB/s    0:00:00 (xfer#18, to-check=18/36)\n",
      "Meth1_R1_001_val_1_bismark_bt2_pe._5x.bedgraph\n",
      "   226808063 100%   31.35MB/s    0:00:06 (xfer#19, to-check=17/36)\n",
      "Meth1_R1_001_val_1_bismark_bt2_pe._5x.sort.bedgraph\n",
      "   226808063 100%   30.16MB/s    0:00:07 (xfer#20, to-check=16/36)\n",
      "Meth2_R1_001_val_1_bismark_bt2_pe._5x.bedgraph\n",
      "   259720833 100%   33.35MB/s    0:00:07 (xfer#21, to-check=15/36)\n",
      "Meth2_R1_001_val_1_bismark_bt2_pe._5x.sort.bedgraph\n",
      "   259720833 100%   30.32MB/s    0:00:08 (xfer#22, to-check=14/36)\n",
      "Meth3_R1_001_val_1_bismark_bt2_pe._5x.bedgraph\n",
      "   239858422 100%   30.32MB/s    0:00:07 (xfer#23, to-check=13/36)\n",
      "Meth3_R1_001_val_1_bismark_bt2_pe._5x.sort.bedgraph\n",
      "   239858422 100%   31.01MB/s    0:00:07 (xfer#24, to-check=12/36)\n",
      "Meth4_R1_001_val_1_bismark_bt2_pe._5x.bedgraph\n",
      "    74748447 100%   26.10MB/s    0:00:02 (xfer#25, to-check=11/36)\n",
      "Meth4_R1_001_val_1_bismark_bt2_pe._5x.sort.bedgraph\n",
      "    74748447 100%   18.08MB/s    0:00:03 (xfer#26, to-check=10/36)\n",
      "Meth5_R1_001_val_1_bismark_bt2_pe._5x.bedgraph\n",
      "    58979704 100%   17.15MB/s    0:00:03 (xfer#27, to-check=9/36)\n",
      "Meth5_R1_001_val_1_bismark_bt2_pe._5x.sort.bedgraph\n",
      "    58979704 100%   28.52MB/s    0:00:01 (xfer#28, to-check=8/36)\n",
      "Meth6_R1_001_val_1_bismark_bt2_pe._5x.bedgraph\n",
      "    61726619 100%   18.52MB/s    0:00:03 (xfer#29, to-check=7/36)\n",
      "Meth6_R1_001_val_1_bismark_bt2_pe._5x.sort.bedgraph\n",
      "    61726619 100%   23.18MB/s    0:00:02 (xfer#30, to-check=6/36)\n",
      "Meth7_R1_001_val_1_bismark_bt2_pe._5x.bedgraph\n",
      "   107859832 100%   25.86MB/s    0:00:03 (xfer#31, to-check=5/36)\n",
      "Meth7_R1_001_val_1_bismark_bt2_pe._5x.sort.bedgraph\n",
      "   107859832 100%   23.88MB/s    0:00:04 (xfer#32, to-check=4/36)\n",
      "Meth8_R1_001_val_1_bismark_bt2_pe._5x.bedgraph\n",
      "    21772891 100%   20.76MB/s    0:00:01 (xfer#33, to-check=3/36)\n",
      "Meth8_R1_001_val_1_bismark_bt2_pe._5x.sort.bedgraph\n",
      "    21772891 100%   23.84MB/s    0:00:00 (xfer#34, to-check=2/36)\n",
      "Meth9_R1_001_val_1_bismark_bt2_pe._5x.bedgraph\n",
      "   111717514 100%   25.89MB/s    0:00:04 (xfer#35, to-check=1/36)\n",
      "Meth9_R1_001_val_1_bismark_bt2_pe._5x.sort.bedgraph\n",
      "   111717514 100%   31.12MB/s    0:00:03 (xfer#36, to-check=0/36)\n",
      "\n",
      "sent 3832941597 bytes  received 812 bytes  33185648.56 bytes/sec\n",
      "total size is 3832470738  speedup is 1.00\n"
     ]
    }
   ],
   "source": [
    "!rsync --archive --progress --verbose ../data/*.bedgraph \\\n",
    "/Volumes/web/metacarcinus/FROGER_meth_compare/20200424/"
   ]
  },
  {
   "cell_type": "markdown",
   "metadata": {},
   "source": [
    "bedgraphs (unsorted and sorted ) available @ https://gannet.fish.washington.edu/metacarcinus/FROGER_meth_compare/20200424/  \n",
    "\n",
    "\n",
    "union output available @ https://gannet.fish.washington.edu/metacarcinus/FROGER_meth_compare/20200424/10-unionbedg/\n",
    "\n"
   ]
  }
 ],
 "metadata": {
  "kernelspec": {
   "display_name": "Python 3",
   "language": "python",
   "name": "python3"
  },
  "language_info": {
   "codemirror_mode": {
    "name": "ipython",
    "version": 3
   },
   "file_extension": ".py",
   "mimetype": "text/x-python",
   "name": "python",
   "nbconvert_exporter": "python",
   "pygments_lexer": "ipython3",
   "version": "3.6.8"
  }
 },
 "nbformat": 4,
 "nbformat_minor": 2
}
