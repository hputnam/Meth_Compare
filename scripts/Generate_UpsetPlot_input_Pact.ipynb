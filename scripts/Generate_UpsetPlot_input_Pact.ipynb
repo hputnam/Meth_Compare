{
 "cells": [
  {
   "cell_type": "markdown",
   "metadata": {},
   "source": [
    "## Download data"
   ]
  },
  {
   "cell_type": "code",
   "execution_count": 3,
   "metadata": {
    "collapsed": true
   },
   "outputs": [
    {
     "name": "stdout",
     "output_type": "stream",
     "text": [
      "--2020-05-04 09:54:56--  https://gannet.fish.washington.edu/seashell/bu-mox/scrubbed/031520-TG-bs/Pact_tg/dedup/\n",
      "Resolving gannet.fish.washington.edu... 128.95.149.52\n",
      "Connecting to gannet.fish.washington.edu|128.95.149.52|:443... connected.\n",
      "HTTP request sent, awaiting response... 200 OK\n",
      "Length: unspecified [text/html]\n",
      "Saving to: ‘./index.html’\n",
      "\n",
      "index.html              [ <=>                ]  42.11K  --.-KB/s    in 0.001s  \n",
      "\n",
      "2020-05-04 09:54:57 (48.7 MB/s) - ‘./index.html’ saved [43123]\n",
      "\n",
      "Loading robots.txt; please ignore errors.\n",
      "--2020-05-04 09:54:57--  https://gannet.fish.washington.edu/robots.txt\n",
      "Reusing existing connection to gannet.fish.washington.edu:443.\n",
      "HTTP request sent, awaiting response... 404 Not Found\n",
      "2020-05-04 09:54:57 ERROR 404: Not Found.\n",
      "\n",
      "Removing ./index.html since it should be rejected.\n",
      "\n",
      "--2020-05-04 09:54:57--  https://gannet.fish.washington.edu/seashell/bu-mox/scrubbed/031520-TG-bs/Pact_tg/dedup/?C=N;O=D\n",
      "Reusing existing connection to gannet.fish.washington.edu:443.\n",
      "HTTP request sent, awaiting response... 200 OK\n",
      "Length: unspecified [text/html]\n",
      "Saving to: ‘./index.html?C=N;O=D’\n",
      "\n",
      "index.html?C=N;O=D      [ <=>                ]  42.11K  --.-KB/s    in 0.001s  \n",
      "\n",
      "2020-05-04 09:54:58 (50.3 MB/s) - ‘./index.html?C=N;O=D’ saved [43123]\n",
      "\n",
      "Removing ./index.html?C=N;O=D since it should be rejected.\n",
      "\n",
      "--2020-05-04 09:54:58--  https://gannet.fish.washington.edu/seashell/bu-mox/scrubbed/031520-TG-bs/Pact_tg/dedup/?C=M;O=A\n",
      "Reusing existing connection to gannet.fish.washington.edu:443.\n",
      "HTTP request sent, awaiting response... 200 OK\n",
      "Length: unspecified [text/html]\n",
      "Saving to: ‘./index.html?C=M;O=A’\n",
      "\n",
      "index.html?C=M;O=A      [ <=>                ]  42.11K  --.-KB/s    in 0.001s  \n",
      "\n",
      "2020-05-04 09:54:59 (45.4 MB/s) - ‘./index.html?C=M;O=A’ saved [43123]\n",
      "\n",
      "Removing ./index.html?C=M;O=A since it should be rejected.\n",
      "\n",
      "--2020-05-04 09:54:59--  https://gannet.fish.washington.edu/seashell/bu-mox/scrubbed/031520-TG-bs/Pact_tg/dedup/?C=S;O=A\n",
      "Reusing existing connection to gannet.fish.washington.edu:443.\n",
      "HTTP request sent, awaiting response... 200 OK\n",
      "Length: unspecified [text/html]\n",
      "Saving to: ‘./index.html?C=S;O=A’\n",
      "\n",
      "index.html?C=S;O=A      [ <=>                ]  42.11K  --.-KB/s    in 0.001s  \n",
      "\n",
      "2020-05-04 09:55:00 (48.0 MB/s) - ‘./index.html?C=S;O=A’ saved [43123]\n",
      "\n",
      "Removing ./index.html?C=S;O=A since it should be rejected.\n",
      "\n",
      "--2020-05-04 09:55:00--  https://gannet.fish.washington.edu/seashell/bu-mox/scrubbed/031520-TG-bs/Pact_tg/dedup/?C=D;O=A\n",
      "Reusing existing connection to gannet.fish.washington.edu:443.\n",
      "HTTP request sent, awaiting response... 200 OK\n",
      "Length: unspecified [text/html]\n",
      "Saving to: ‘./index.html?C=D;O=A’\n",
      "\n",
      "index.html?C=D;O=A      [ <=>                ]  42.11K  --.-KB/s    in 0.001s  \n",
      "\n",
      "2020-05-04 09:55:01 (47.3 MB/s) - ‘./index.html?C=D;O=A’ saved [43123]\n",
      "\n",
      "Removing ./index.html?C=D;O=A since it should be rejected.\n",
      "\n",
      "--2020-05-04 09:55:01--  https://gannet.fish.washington.edu/seashell/bu-mox/scrubbed/031520-TG-bs/Pact_tg/dedup/Meth1_R1_001_val_1_bismark_bt2_pe._5x.bedgraph\n",
      "Reusing existing connection to gannet.fish.washington.edu:443.\n",
      "HTTP request sent, awaiting response... 200 OK\n",
      "Length: 226808063 (216M)\n",
      "Saving to: ‘./Meth1_R1_001_val_1_bismark_bt2_pe._5x.bedgraph’\n",
      "\n",
      "Meth1_R1_001_val_1_ 100%[===================>] 216.30M  70.1MB/s    in 3.1s    \n",
      "\n",
      "2020-05-04 09:55:04 (70.1 MB/s) - ‘./Meth1_R1_001_val_1_bismark_bt2_pe._5x.bedgraph’ saved [226808063/226808063]\n",
      "\n",
      "--2020-05-04 09:55:04--  https://gannet.fish.washington.edu/seashell/bu-mox/scrubbed/031520-TG-bs/Pact_tg/dedup/Meth2_R1_001_val_1_bismark_bt2_pe._5x.bedgraph\n",
      "Reusing existing connection to gannet.fish.washington.edu:443.\n",
      "HTTP request sent, awaiting response... 200 OK\n",
      "Length: 259720833 (248M)\n",
      "Saving to: ‘./Meth2_R1_001_val_1_bismark_bt2_pe._5x.bedgraph’\n",
      "\n",
      "Meth2_R1_001_val_1_ 100%[===================>] 247.69M  69.1MB/s    in 3.7s    \n",
      "\n",
      "2020-05-04 09:55:08 (67.1 MB/s) - ‘./Meth2_R1_001_val_1_bismark_bt2_pe._5x.bedgraph’ saved [259720833/259720833]\n",
      "\n",
      "--2020-05-04 09:55:08--  https://gannet.fish.washington.edu/seashell/bu-mox/scrubbed/031520-TG-bs/Pact_tg/dedup/Meth3_R1_001_val_1_bismark_bt2_pe._5x.bedgraph\n",
      "Reusing existing connection to gannet.fish.washington.edu:443.\n",
      "HTTP request sent, awaiting response... 200 OK\n",
      "Length: 239858422 (229M)\n",
      "Saving to: ‘./Meth3_R1_001_val_1_bismark_bt2_pe._5x.bedgraph’\n",
      "\n",
      "Meth3_R1_001_val_1_ 100%[===================>] 228.75M  69.4MB/s    in 3.3s    \n",
      "\n",
      "2020-05-04 09:55:11 (69.4 MB/s) - ‘./Meth3_R1_001_val_1_bismark_bt2_pe._5x.bedgraph’ saved [239858422/239858422]\n",
      "\n",
      "--2020-05-04 09:55:11--  https://gannet.fish.washington.edu/seashell/bu-mox/scrubbed/031520-TG-bs/Pact_tg/dedup/Meth7_R1_001_val_1_bismark_bt2_pe._5x.bedgraph\n",
      "Reusing existing connection to gannet.fish.washington.edu:443.\n",
      "HTTP request sent, awaiting response... 200 OK\n",
      "Length: 107859832 (103M)\n",
      "Saving to: ‘./Meth7_R1_001_val_1_bismark_bt2_pe._5x.bedgraph’\n",
      "\n",
      "Meth7_R1_001_val_1_ 100%[===================>] 102.86M  69.2MB/s    in 1.5s    \n",
      "\n",
      "2020-05-04 09:55:13 (69.2 MB/s) - ‘./Meth7_R1_001_val_1_bismark_bt2_pe._5x.bedgraph’ saved [107859832/107859832]\n",
      "\n",
      "--2020-05-04 09:55:13--  https://gannet.fish.washington.edu/seashell/bu-mox/scrubbed/031520-TG-bs/Pact_tg/dedup/Meth8_R1_001_val_1_bismark_bt2_pe._5x.bedgraph\n",
      "Reusing existing connection to gannet.fish.washington.edu:443.\n",
      "HTTP request sent, awaiting response... 200 OK\n",
      "Length: 21772891 (21M)\n",
      "Saving to: ‘./Meth8_R1_001_val_1_bismark_bt2_pe._5x.bedgraph’\n",
      "\n",
      "Meth8_R1_001_val_1_ 100%[===================>]  20.76M  68.8MB/s    in 0.3s    \n",
      "\n",
      "2020-05-04 09:55:13 (68.8 MB/s) - ‘./Meth8_R1_001_val_1_bismark_bt2_pe._5x.bedgraph’ saved [21772891/21772891]\n",
      "\n",
      "--2020-05-04 09:55:13--  https://gannet.fish.washington.edu/seashell/bu-mox/scrubbed/031520-TG-bs/Pact_tg/dedup/Meth9_R1_001_val_1_bismark_bt2_pe._5x.bedgraph\n",
      "Reusing existing connection to gannet.fish.washington.edu:443.\n",
      "HTTP request sent, awaiting response... 200 OK\n",
      "Length: 111717514 (107M)\n",
      "Saving to: ‘./Meth9_R1_001_val_1_bismark_bt2_pe._5x.bedgraph’\n",
      "\n",
      "Meth9_R1_001_val_1_ 100%[===================>] 106.54M  70.0MB/s    in 1.5s    \n",
      "\n",
      "2020-05-04 09:55:15 (70.0 MB/s) - ‘./Meth9_R1_001_val_1_bismark_bt2_pe._5x.bedgraph’ saved [111717514/111717514]\n",
      "\n",
      "--2020-05-04 09:55:15--  https://gannet.fish.washington.edu/seashell/bu-mox/scrubbed/031520-TG-bs/Pact_tg/dedup/?C=N;O=A\n",
      "Reusing existing connection to gannet.fish.washington.edu:443.\n",
      "HTTP request sent, awaiting response... 200 OK\n",
      "Length: unspecified [text/html]\n",
      "Saving to: ‘./index.html?C=N;O=A’\n",
      "\n",
      "index.html?C=N;O=A      [ <=>                ]  42.11K  --.-KB/s    in 0.001s  \n",
      "\n",
      "2020-05-04 09:55:16 (50.6 MB/s) - ‘./index.html?C=N;O=A’ saved [43123]\n",
      "\n",
      "Removing ./index.html?C=N;O=A since it should be rejected.\n",
      "\n",
      "--2020-05-04 09:55:16--  https://gannet.fish.washington.edu/seashell/bu-mox/scrubbed/031520-TG-bs/Pact_tg/dedup/?C=M;O=D\n",
      "Reusing existing connection to gannet.fish.washington.edu:443.\n",
      "HTTP request sent, awaiting response... 200 OK\n",
      "Length: unspecified [text/html]\n",
      "Saving to: ‘./index.html?C=M;O=D’\n",
      "\n",
      "index.html?C=M;O=D      [ <=>                ]  42.11K  --.-KB/s    in 0.001s  \n",
      "\n",
      "2020-05-04 09:55:17 (51.4 MB/s) - ‘./index.html?C=M;O=D’ saved [43123]\n",
      "\n",
      "Removing ./index.html?C=M;O=D since it should be rejected.\n",
      "\n",
      "--2020-05-04 09:55:17--  https://gannet.fish.washington.edu/seashell/bu-mox/scrubbed/031520-TG-bs/Pact_tg/dedup/?C=S;O=D\n",
      "Reusing existing connection to gannet.fish.washington.edu:443.\n",
      "HTTP request sent, awaiting response... 200 OK\n",
      "Length: unspecified [text/html]\n",
      "Saving to: ‘./index.html?C=S;O=D’\n",
      "\n",
      "index.html?C=S;O=D      [ <=>                ]  42.11K  --.-KB/s    in 0.001s  \n",
      "\n",
      "2020-05-04 09:55:18 (52.2 MB/s) - ‘./index.html?C=S;O=D’ saved [43123]\n",
      "\n",
      "Removing ./index.html?C=S;O=D since it should be rejected.\n",
      "\n",
      "--2020-05-04 09:55:18--  https://gannet.fish.washington.edu/seashell/bu-mox/scrubbed/031520-TG-bs/Pact_tg/dedup/?C=D;O=D\n",
      "Reusing existing connection to gannet.fish.washington.edu:443.\n",
      "HTTP request sent, awaiting response... 200 OK\n",
      "Length: unspecified [text/html]\n",
      "Saving to: ‘./index.html?C=D;O=D’\n",
      "\n",
      "index.html?C=D;O=D      [ <=>                ]  42.11K  --.-KB/s    in 0.001s  \n",
      "\n",
      "2020-05-04 09:55:19 (50.0 MB/s) - ‘./index.html?C=D;O=D’ saved [43123]\n",
      "\n",
      "Removing ./index.html?C=D;O=D since it should be rejected.\n",
      "\n",
      "FINISHED --2020-05-04 09:55:19--\n",
      "Total wall clock time: 23s\n",
      "Downloaded: 15 files, 923M in 13s (68.9 MB/s)\n"
     ]
    }
   ],
   "source": [
    "!wget -r \\\n",
    "--no-directories --no-parent --reject \"index.html*\" \\\n",
    "-P . \\\n",
    "-A _5x.bedgraph \\\n",
    "https://gannet.fish.washington.edu/seashell/bu-mox/scrubbed/031520-TG-bs/Pact_tg/dedup/"
   ]
  },
  {
   "cell_type": "code",
   "execution_count": 4,
   "metadata": {
    "collapsed": true
   },
   "outputs": [
    {
     "name": "stdout",
     "output_type": "stream",
     "text": [
      "--2020-05-04 09:55:35--  https://gannet.fish.washington.edu/seashell/bu-mox/scrubbed/031520-TG-bs/Pact_tg/nodedup/\n",
      "Resolving gannet.fish.washington.edu... 128.95.149.52\n",
      "Connecting to gannet.fish.washington.edu|128.95.149.52|:443... connected.\n",
      "HTTP request sent, awaiting response... 200 OK\n",
      "Length: unspecified [text/html]\n",
      "Saving to: ‘./index.html’\n",
      "\n",
      "index.html              [ <=>                ]  19.51K  --.-KB/s    in 0s      \n",
      "\n",
      "2020-05-04 09:55:35 (51.4 MB/s) - ‘./index.html’ saved [19983]\n",
      "\n",
      "Loading robots.txt; please ignore errors.\n",
      "--2020-05-04 09:55:35--  https://gannet.fish.washington.edu/robots.txt\n",
      "Reusing existing connection to gannet.fish.washington.edu:443.\n",
      "HTTP request sent, awaiting response... 404 Not Found\n",
      "2020-05-04 09:55:35 ERROR 404: Not Found.\n",
      "\n",
      "Removing ./index.html since it should be rejected.\n",
      "\n",
      "--2020-05-04 09:55:35--  https://gannet.fish.washington.edu/seashell/bu-mox/scrubbed/031520-TG-bs/Pact_tg/nodedup/?C=N;O=D\n",
      "Reusing existing connection to gannet.fish.washington.edu:443.\n",
      "HTTP request sent, awaiting response... 200 OK\n",
      "Length: unspecified [text/html]\n",
      "Saving to: ‘./index.html?C=N;O=D’\n",
      "\n",
      "index.html?C=N;O=D      [ <=>                ]  19.51K  --.-KB/s    in 0s      \n",
      "\n",
      "2020-05-04 09:55:36 (52.5 MB/s) - ‘./index.html?C=N;O=D’ saved [19983]\n",
      "\n",
      "Removing ./index.html?C=N;O=D since it should be rejected.\n",
      "\n",
      "--2020-05-04 09:55:36--  https://gannet.fish.washington.edu/seashell/bu-mox/scrubbed/031520-TG-bs/Pact_tg/nodedup/?C=M;O=A\n",
      "Reusing existing connection to gannet.fish.washington.edu:443.\n",
      "HTTP request sent, awaiting response... 200 OK\n",
      "Length: unspecified [text/html]\n",
      "Saving to: ‘./index.html?C=M;O=A’\n",
      "\n",
      "index.html?C=M;O=A      [ <=>                ]  19.51K  --.-KB/s    in 0s      \n",
      "\n",
      "2020-05-04 09:55:36 (54.8 MB/s) - ‘./index.html?C=M;O=A’ saved [19983]\n",
      "\n",
      "Removing ./index.html?C=M;O=A since it should be rejected.\n",
      "\n",
      "--2020-05-04 09:55:36--  https://gannet.fish.washington.edu/seashell/bu-mox/scrubbed/031520-TG-bs/Pact_tg/nodedup/?C=S;O=A\n",
      "Reusing existing connection to gannet.fish.washington.edu:443.\n",
      "HTTP request sent, awaiting response... 200 OK\n",
      "Length: unspecified [text/html]\n",
      "Saving to: ‘./index.html?C=S;O=A’\n",
      "\n",
      "index.html?C=S;O=A      [ <=>                ]  19.51K  --.-KB/s    in 0s      \n",
      "\n",
      "2020-05-04 09:55:36 (56.2 MB/s) - ‘./index.html?C=S;O=A’ saved [19983]\n",
      "\n",
      "Removing ./index.html?C=S;O=A since it should be rejected.\n",
      "\n",
      "--2020-05-04 09:55:36--  https://gannet.fish.washington.edu/seashell/bu-mox/scrubbed/031520-TG-bs/Pact_tg/nodedup/?C=D;O=A\n",
      "Reusing existing connection to gannet.fish.washington.edu:443.\n",
      "HTTP request sent, awaiting response... 200 OK\n",
      "Length: unspecified [text/html]\n",
      "Saving to: ‘./index.html?C=D;O=A’\n",
      "\n",
      "index.html?C=D;O=A      [ <=>                ]  19.51K  --.-KB/s    in 0s      \n",
      "\n",
      "2020-05-04 09:55:37 (49.9 MB/s) - ‘./index.html?C=D;O=A’ saved [19983]\n",
      "\n",
      "Removing ./index.html?C=D;O=A since it should be rejected.\n",
      "\n",
      "--2020-05-04 09:55:37--  https://gannet.fish.washington.edu/seashell/bu-mox/scrubbed/031520-TG-bs/Pact_tg/nodedup/Meth4_R1_001_val_1_bismark_bt2_pe._5x.bedgraph\n",
      "Reusing existing connection to gannet.fish.washington.edu:443.\n",
      "HTTP request sent, awaiting response... 200 OK\n",
      "Length: 74748447 (71M)\n",
      "Saving to: ‘./Meth4_R1_001_val_1_bismark_bt2_pe._5x.bedgraph’\n",
      "\n",
      "Meth4_R1_001_val_1_ 100%[===================>]  71.29M  66.6MB/s    in 1.1s    \n",
      "\n",
      "2020-05-04 09:55:38 (66.6 MB/s) - ‘./Meth4_R1_001_val_1_bismark_bt2_pe._5x.bedgraph’ saved [74748447/74748447]\n",
      "\n",
      "--2020-05-04 09:55:38--  https://gannet.fish.washington.edu/seashell/bu-mox/scrubbed/031520-TG-bs/Pact_tg/nodedup/Meth5_R1_001_val_1_bismark_bt2_pe._5x.bedgraph\n",
      "Reusing existing connection to gannet.fish.washington.edu:443.\n",
      "HTTP request sent, awaiting response... 200 OK\n",
      "Length: 58979704 (56M)\n",
      "Saving to: ‘./Meth5_R1_001_val_1_bismark_bt2_pe._5x.bedgraph’\n",
      "\n",
      "Meth5_R1_001_val_1_ 100%[===================>]  56.25M  66.7MB/s    in 0.8s    \n",
      "\n",
      "2020-05-04 09:55:39 (66.7 MB/s) - ‘./Meth5_R1_001_val_1_bismark_bt2_pe._5x.bedgraph’ saved [58979704/58979704]\n",
      "\n",
      "--2020-05-04 09:55:39--  https://gannet.fish.washington.edu/seashell/bu-mox/scrubbed/031520-TG-bs/Pact_tg/nodedup/Meth6_R1_001_val_1_bismark_bt2_pe._5x.bedgraph\n",
      "Reusing existing connection to gannet.fish.washington.edu:443.\n",
      "HTTP request sent, awaiting response... 200 OK\n",
      "Length: 61726619 (59M)\n",
      "Saving to: ‘./Meth6_R1_001_val_1_bismark_bt2_pe._5x.bedgraph’\n",
      "\n",
      "Meth6_R1_001_val_1_ 100%[===================>]  58.87M  69.0MB/s    in 0.9s    \n",
      "\n",
      "2020-05-04 09:55:40 (69.0 MB/s) - ‘./Meth6_R1_001_val_1_bismark_bt2_pe._5x.bedgraph’ saved [61726619/61726619]\n",
      "\n",
      "--2020-05-04 09:55:40--  https://gannet.fish.washington.edu/seashell/bu-mox/scrubbed/031520-TG-bs/Pact_tg/nodedup/?C=N;O=A\n",
      "Reusing existing connection to gannet.fish.washington.edu:443.\n",
      "HTTP request sent, awaiting response... 200 OK\n",
      "Length: unspecified [text/html]\n",
      "Saving to: ‘./index.html?C=N;O=A’\n",
      "\n",
      "index.html?C=N;O=A      [ <=>                ]  19.51K  --.-KB/s    in 0s      \n",
      "\n",
      "2020-05-04 09:55:40 (55.7 MB/s) - ‘./index.html?C=N;O=A’ saved [19983]\n",
      "\n",
      "Removing ./index.html?C=N;O=A since it should be rejected.\n",
      "\n",
      "--2020-05-04 09:55:40--  https://gannet.fish.washington.edu/seashell/bu-mox/scrubbed/031520-TG-bs/Pact_tg/nodedup/?C=M;O=D\n",
      "Reusing existing connection to gannet.fish.washington.edu:443.\n",
      "HTTP request sent, awaiting response... 200 OK\n",
      "Length: unspecified [text/html]\n",
      "Saving to: ‘./index.html?C=M;O=D’\n",
      "\n",
      "index.html?C=M;O=D      [ <=>                ]  19.51K  --.-KB/s    in 0s      \n",
      "\n",
      "2020-05-04 09:55:40 (64.2 MB/s) - ‘./index.html?C=M;O=D’ saved [19983]\n",
      "\n",
      "Removing ./index.html?C=M;O=D since it should be rejected.\n",
      "\n",
      "--2020-05-04 09:55:40--  https://gannet.fish.washington.edu/seashell/bu-mox/scrubbed/031520-TG-bs/Pact_tg/nodedup/?C=S;O=D\n",
      "Reusing existing connection to gannet.fish.washington.edu:443.\n",
      "HTTP request sent, awaiting response... 200 OK\n",
      "Length: unspecified [text/html]\n",
      "Saving to: ‘./index.html?C=S;O=D’\n",
      "\n",
      "index.html?C=S;O=D      [ <=>                ]  19.51K  --.-KB/s    in 0s      \n",
      "\n",
      "2020-05-04 09:55:41 (65.3 MB/s) - ‘./index.html?C=S;O=D’ saved [19983]\n",
      "\n",
      "Removing ./index.html?C=S;O=D since it should be rejected.\n",
      "\n",
      "--2020-05-04 09:55:41--  https://gannet.fish.washington.edu/seashell/bu-mox/scrubbed/031520-TG-bs/Pact_tg/nodedup/?C=D;O=D\n",
      "Reusing existing connection to gannet.fish.washington.edu:443.\n",
      "HTTP request sent, awaiting response... 200 OK\n",
      "Length: unspecified [text/html]\n",
      "Saving to: ‘./index.html?C=D;O=D’\n",
      "\n",
      "index.html?C=D;O=D      [ <=>                ]  19.51K  --.-KB/s    in 0s      \n",
      "\n",
      "2020-05-04 09:55:41 (63.1 MB/s) - ‘./index.html?C=D;O=D’ saved [19983]\n",
      "\n",
      "Removing ./index.html?C=D;O=D since it should be rejected.\n",
      "\n",
      "FINISHED --2020-05-04 09:55:41--\n",
      "Total wall clock time: 6.1s\n",
      "Downloaded: 12 files, 187M in 2.8s (67.4 MB/s)\n"
     ]
    }
   ],
   "source": [
    "!wget -r \\\n",
    "--no-directories --no-parent --reject \"index.html*\" \\\n",
    "-P . \\\n",
    "-A _5x.bedgraph \\\n",
    "https://gannet.fish.washington.edu/seashell/bu-mox/scrubbed/031520-TG-bs/Pact_tg/nodedup/"
   ]
  },
  {
   "cell_type": "code",
   "execution_count": 5,
   "metadata": {
    "collapsed": true
   },
   "outputs": [
    {
     "name": "stdout",
     "output_type": "stream",
     "text": [
      "Meth1_R1_001_val_1_bismark_bt2_pe._5x.bedgraph\r\n",
      "Meth2_R1_001_val_1_bismark_bt2_pe._5x.bedgraph\r\n",
      "Meth3_R1_001_val_1_bismark_bt2_pe._5x.bedgraph\r\n",
      "Meth4_R1_001_val_1_bismark_bt2_pe._5x.bedgraph\r\n",
      "Meth5_R1_001_val_1_bismark_bt2_pe._5x.bedgraph\r\n",
      "Meth6_R1_001_val_1_bismark_bt2_pe._5x.bedgraph\r\n",
      "Meth7_R1_001_val_1_bismark_bt2_pe._5x.bedgraph\r\n",
      "Meth8_R1_001_val_1_bismark_bt2_pe._5x.bedgraph\r\n",
      "Meth9_R1_001_val_1_bismark_bt2_pe._5x.bedgraph\r\n",
      "\u001b[34mgannet.fish.washington.edu\u001b[m\u001b[m\r\n"
     ]
    }
   ],
   "source": [
    "!ls"
   ]
  },
  {
   "cell_type": "code",
   "execution_count": 6,
   "metadata": {},
   "outputs": [],
   "source": [
    "!mkdir Pact"
   ]
  },
  {
   "cell_type": "code",
   "execution_count": 7,
   "metadata": {},
   "outputs": [],
   "source": [
    "!mv Meth* Pact/"
   ]
  },
  {
   "cell_type": "code",
   "execution_count": 8,
   "metadata": {},
   "outputs": [],
   "source": [
    "!mkdir Mcap"
   ]
  },
  {
   "cell_type": "code",
   "execution_count": 9,
   "metadata": {},
   "outputs": [
    {
     "name": "stdout",
     "output_type": "stream",
     "text": [
      "/Users/strigg/Documents/GitHub/Meth_Compare/data/Mcap\n"
     ]
    }
   ],
   "source": [
    "cd Mcap/"
   ]
  },
  {
   "cell_type": "code",
   "execution_count": 10,
   "metadata": {
    "collapsed": true
   },
   "outputs": [
    {
     "name": "stdout",
     "output_type": "stream",
     "text": [
      "--2020-05-04 09:57:07--  https://gannet.fish.washington.edu/seashell/bu-mox/scrubbed/031520-TG-bs/Mcap_tg/nodedup/\n",
      "Resolving gannet.fish.washington.edu... 128.95.149.52\n",
      "Connecting to gannet.fish.washington.edu|128.95.149.52|:443... connected.\n",
      "HTTP request sent, awaiting response... 200 OK\n",
      "Length: unspecified [text/html]\n",
      "Saving to: ‘./index.html’\n",
      "\n",
      "index.html              [ <=>                ]  19.31K  --.-KB/s    in 0s      \n",
      "\n",
      "2020-05-04 09:57:08 (51.8 MB/s) - ‘./index.html’ saved [19778]\n",
      "\n",
      "Loading robots.txt; please ignore errors.\n",
      "--2020-05-04 09:57:08--  https://gannet.fish.washington.edu/robots.txt\n",
      "Reusing existing connection to gannet.fish.washington.edu:443.\n",
      "HTTP request sent, awaiting response... 404 Not Found\n",
      "2020-05-04 09:57:08 ERROR 404: Not Found.\n",
      "\n",
      "Removing ./index.html since it should be rejected.\n",
      "\n",
      "--2020-05-04 09:57:08--  https://gannet.fish.washington.edu/seashell/bu-mox/scrubbed/031520-TG-bs/Mcap_tg/nodedup/?C=N;O=D\n",
      "Reusing existing connection to gannet.fish.washington.edu:443.\n",
      "HTTP request sent, awaiting response... 200 OK\n",
      "Length: unspecified [text/html]\n",
      "Saving to: ‘./index.html?C=N;O=D’\n",
      "\n",
      "index.html?C=N;O=D      [ <=>                ]  19.31K  --.-KB/s    in 0s      \n",
      "\n",
      "2020-05-04 09:57:08 (52.4 MB/s) - ‘./index.html?C=N;O=D’ saved [19778]\n",
      "\n",
      "Removing ./index.html?C=N;O=D since it should be rejected.\n",
      "\n",
      "--2020-05-04 09:57:08--  https://gannet.fish.washington.edu/seashell/bu-mox/scrubbed/031520-TG-bs/Mcap_tg/nodedup/?C=M;O=A\n",
      "Reusing existing connection to gannet.fish.washington.edu:443.\n",
      "HTTP request sent, awaiting response... 200 OK\n",
      "Length: unspecified [text/html]\n",
      "Saving to: ‘./index.html?C=M;O=A’\n",
      "\n",
      "index.html?C=M;O=A      [ <=>                ]  19.31K  --.-KB/s    in 0s      \n",
      "\n",
      "2020-05-04 09:57:08 (54.8 MB/s) - ‘./index.html?C=M;O=A’ saved [19778]\n",
      "\n",
      "Removing ./index.html?C=M;O=A since it should be rejected.\n",
      "\n",
      "--2020-05-04 09:57:08--  https://gannet.fish.washington.edu/seashell/bu-mox/scrubbed/031520-TG-bs/Mcap_tg/nodedup/?C=S;O=A\n",
      "Reusing existing connection to gannet.fish.washington.edu:443.\n",
      "HTTP request sent, awaiting response... 200 OK\n",
      "Length: unspecified [text/html]\n",
      "Saving to: ‘./index.html?C=S;O=A’\n",
      "\n",
      "index.html?C=S;O=A      [ <=>                ]  19.31K  --.-KB/s    in 0s      \n",
      "\n",
      "2020-05-04 09:57:09 (56.5 MB/s) - ‘./index.html?C=S;O=A’ saved [19778]\n",
      "\n",
      "Removing ./index.html?C=S;O=A since it should be rejected.\n",
      "\n",
      "--2020-05-04 09:57:09--  https://gannet.fish.washington.edu/seashell/bu-mox/scrubbed/031520-TG-bs/Mcap_tg/nodedup/?C=D;O=A\n",
      "Reusing existing connection to gannet.fish.washington.edu:443.\n",
      "HTTP request sent, awaiting response... 200 OK\n",
      "Length: unspecified [text/html]\n",
      "Saving to: ‘./index.html?C=D;O=A’\n",
      "\n",
      "index.html?C=D;O=A      [ <=>                ]  19.31K  --.-KB/s    in 0s      \n",
      "\n",
      "2020-05-04 09:57:09 (52.5 MB/s) - ‘./index.html?C=D;O=A’ saved [19778]\n",
      "\n",
      "Removing ./index.html?C=D;O=A since it should be rejected.\n",
      "\n",
      "--2020-05-04 09:57:09--  https://gannet.fish.washington.edu/seashell/bu-mox/scrubbed/031520-TG-bs/Mcap_tg/nodedup/Meth13_R1_001_val_1_bismark_bt2_pe._5x.bedgraph\n",
      "Reusing existing connection to gannet.fish.washington.edu:443.\n",
      "HTTP request sent, awaiting response... 200 OK\n",
      "Length: 84952729 (81M)\n",
      "Saving to: ‘./Meth13_R1_001_val_1_bismark_bt2_pe._5x.bedgraph’\n",
      "\n",
      "Meth13_R1_001_val_1 100%[===================>]  81.02M  66.0MB/s    in 1.2s    \n",
      "\n",
      "2020-05-04 09:57:10 (66.0 MB/s) - ‘./Meth13_R1_001_val_1_bismark_bt2_pe._5x.bedgraph’ saved [84952729/84952729]\n",
      "\n",
      "--2020-05-04 09:57:10--  https://gannet.fish.washington.edu/seashell/bu-mox/scrubbed/031520-TG-bs/Mcap_tg/nodedup/Meth14_R1_001_val_1_bismark_bt2_pe._5x.bedgraph\n",
      "Reusing existing connection to gannet.fish.washington.edu:443.\n",
      "HTTP request sent, awaiting response... 200 OK\n",
      "Length: 70900427 (68M)\n",
      "Saving to: ‘./Meth14_R1_001_val_1_bismark_bt2_pe._5x.bedgraph’\n",
      "\n",
      "Meth14_R1_001_val_1 100%[===================>]  67.62M  69.5MB/s    in 1.0s    \n",
      "\n",
      "2020-05-04 09:57:11 (69.5 MB/s) - ‘./Meth14_R1_001_val_1_bismark_bt2_pe._5x.bedgraph’ saved [70900427/70900427]\n",
      "\n",
      "--2020-05-04 09:57:12--  https://gannet.fish.washington.edu/seashell/bu-mox/scrubbed/031520-TG-bs/Mcap_tg/nodedup/Meth15_R1_001_val_1_bismark_bt2_pe._5x.bedgraph\n",
      "Reusing existing connection to gannet.fish.washington.edu:443.\n",
      "HTTP request sent, awaiting response... 200 OK\n",
      "Length: 85048595 (81M)\n",
      "Saving to: ‘./Meth15_R1_001_val_1_bismark_bt2_pe._5x.bedgraph’\n",
      "\n",
      "Meth15_R1_001_val_1 100%[===================>]  81.11M  68.6MB/s    in 1.2s    \n",
      "\n",
      "2020-05-04 09:57:13 (68.6 MB/s) - ‘./Meth15_R1_001_val_1_bismark_bt2_pe._5x.bedgraph’ saved [85048595/85048595]\n",
      "\n",
      "--2020-05-04 09:57:13--  https://gannet.fish.washington.edu/seashell/bu-mox/scrubbed/031520-TG-bs/Mcap_tg/nodedup/?C=N;O=A\n",
      "Reusing existing connection to gannet.fish.washington.edu:443.\n",
      "HTTP request sent, awaiting response... 200 OK\n",
      "Length: unspecified [text/html]\n",
      "Saving to: ‘./index.html?C=N;O=A’\n",
      "\n",
      "index.html?C=N;O=A      [ <=>                ]  19.31K  --.-KB/s    in 0s      \n",
      "\n",
      "2020-05-04 09:57:13 (49.5 MB/s) - ‘./index.html?C=N;O=A’ saved [19778]\n",
      "\n",
      "Removing ./index.html?C=N;O=A since it should be rejected.\n",
      "\n",
      "--2020-05-04 09:57:13--  https://gannet.fish.washington.edu/seashell/bu-mox/scrubbed/031520-TG-bs/Mcap_tg/nodedup/?C=M;O=D\n",
      "Reusing existing connection to gannet.fish.washington.edu:443.\n",
      "HTTP request sent, awaiting response... 200 OK\n",
      "Length: unspecified [text/html]\n",
      "Saving to: ‘./index.html?C=M;O=D’\n",
      "\n",
      "index.html?C=M;O=D      [ <=>                ]  19.31K  --.-KB/s    in 0s      \n",
      "\n",
      "2020-05-04 09:57:14 (53.4 MB/s) - ‘./index.html?C=M;O=D’ saved [19778]\n",
      "\n",
      "Removing ./index.html?C=M;O=D since it should be rejected.\n",
      "\n",
      "--2020-05-04 09:57:14--  https://gannet.fish.washington.edu/seashell/bu-mox/scrubbed/031520-TG-bs/Mcap_tg/nodedup/?C=S;O=D\n",
      "Reusing existing connection to gannet.fish.washington.edu:443.\n",
      "HTTP request sent, awaiting response... 200 OK\n",
      "Length: unspecified [text/html]\n",
      "Saving to: ‘./index.html?C=S;O=D’\n",
      "\n",
      "index.html?C=S;O=D      [ <=>                ]  19.31K  --.-KB/s    in 0s      \n",
      "\n",
      "2020-05-04 09:57:14 (54.7 MB/s) - ‘./index.html?C=S;O=D’ saved [19778]\n",
      "\n",
      "Removing ./index.html?C=S;O=D since it should be rejected.\n",
      "\n",
      "--2020-05-04 09:57:14--  https://gannet.fish.washington.edu/seashell/bu-mox/scrubbed/031520-TG-bs/Mcap_tg/nodedup/?C=D;O=D\n",
      "Reusing existing connection to gannet.fish.washington.edu:443.\n",
      "HTTP request sent, awaiting response... 200 OK\n",
      "Length: unspecified [text/html]\n",
      "Saving to: ‘./index.html?C=D;O=D’\n",
      "\n",
      "index.html?C=D;O=D      [ <=>                ]  19.31K  --.-KB/s    in 0s      \n",
      "\n",
      "2020-05-04 09:57:14 (58.9 MB/s) - ‘./index.html?C=D;O=D’ saved [19778]\n",
      "\n",
      "Removing ./index.html?C=D;O=D since it should be rejected.\n",
      "\n",
      "FINISHED --2020-05-04 09:57:14--\n",
      "Total wall clock time: 7.0s\n",
      "Downloaded: 12 files, 230M in 3.4s (67.9 MB/s)\n"
     ]
    }
   ],
   "source": [
    "!wget -r \\\n",
    "--no-directories --no-parent --reject \"index.html*\" \\\n",
    "-P . \\\n",
    "-A _5x.bedgraph \\\n",
    "https://gannet.fish.washington.edu/seashell/bu-mox/scrubbed/031520-TG-bs/Mcap_tg/nodedup/"
   ]
  },
  {
   "cell_type": "code",
   "execution_count": 11,
   "metadata": {
    "collapsed": true
   },
   "outputs": [
    {
     "name": "stdout",
     "output_type": "stream",
     "text": [
      "--2020-05-04 09:57:26--  https://gannet.fish.washington.edu/seashell/bu-mox/scrubbed/031520-TG-bs/Mcap_tg/dedup/\n",
      "Resolving gannet.fish.washington.edu... 128.95.149.52\n",
      "Connecting to gannet.fish.washington.edu|128.95.149.52|:443... connected.\n",
      "HTTP request sent, awaiting response... 200 OK\n",
      "Length: unspecified [text/html]\n",
      "Saving to: ‘./index.html’\n",
      "\n",
      "index.html              [ <=>                ]  42.27K  --.-KB/s    in 0.001s  \n",
      "\n",
      "2020-05-04 09:57:27 (52.7 MB/s) - ‘./index.html’ saved [43285]\n",
      "\n",
      "Loading robots.txt; please ignore errors.\n",
      "--2020-05-04 09:57:27--  https://gannet.fish.washington.edu/robots.txt\n",
      "Reusing existing connection to gannet.fish.washington.edu:443.\n",
      "HTTP request sent, awaiting response... 404 Not Found\n",
      "2020-05-04 09:57:27 ERROR 404: Not Found.\n",
      "\n",
      "Removing ./index.html since it should be rejected.\n",
      "\n",
      "--2020-05-04 09:57:27--  https://gannet.fish.washington.edu/seashell/bu-mox/scrubbed/031520-TG-bs/Mcap_tg/dedup/?C=N;O=D\n",
      "Reusing existing connection to gannet.fish.washington.edu:443.\n",
      "HTTP request sent, awaiting response... 200 OK\n",
      "Length: unspecified [text/html]\n",
      "Saving to: ‘./index.html?C=N;O=D’\n",
      "\n",
      "index.html?C=N;O=D      [ <=>                ]  42.27K  --.-KB/s    in 0.001s  \n",
      "\n",
      "2020-05-04 09:57:28 (49.1 MB/s) - ‘./index.html?C=N;O=D’ saved [43285]\n",
      "\n",
      "Removing ./index.html?C=N;O=D since it should be rejected.\n",
      "\n",
      "--2020-05-04 09:57:28--  https://gannet.fish.washington.edu/seashell/bu-mox/scrubbed/031520-TG-bs/Mcap_tg/dedup/?C=M;O=A\n",
      "Reusing existing connection to gannet.fish.washington.edu:443.\n",
      "HTTP request sent, awaiting response... 200 OK\n",
      "Length: unspecified [text/html]\n",
      "Saving to: ‘./index.html?C=M;O=A’\n",
      "\n",
      "index.html?C=M;O=A      [ <=>                ]  42.27K  --.-KB/s    in 0.001s  \n",
      "\n",
      "2020-05-04 09:57:29 (48.5 MB/s) - ‘./index.html?C=M;O=A’ saved [43285]\n",
      "\n",
      "Removing ./index.html?C=M;O=A since it should be rejected.\n",
      "\n",
      "--2020-05-04 09:57:29--  https://gannet.fish.washington.edu/seashell/bu-mox/scrubbed/031520-TG-bs/Mcap_tg/dedup/?C=S;O=A\n",
      "Reusing existing connection to gannet.fish.washington.edu:443.\n",
      "HTTP request sent, awaiting response... 200 OK\n",
      "Length: unspecified [text/html]\n",
      "Saving to: ‘./index.html?C=S;O=A’\n",
      "\n",
      "index.html?C=S;O=A      [ <=>                ]  42.27K  --.-KB/s    in 0.001s  \n",
      "\n",
      "2020-05-04 09:57:30 (50.8 MB/s) - ‘./index.html?C=S;O=A’ saved [43285]\n",
      "\n",
      "Removing ./index.html?C=S;O=A since it should be rejected.\n",
      "\n",
      "--2020-05-04 09:57:30--  https://gannet.fish.washington.edu/seashell/bu-mox/scrubbed/031520-TG-bs/Mcap_tg/dedup/?C=D;O=A\n",
      "Reusing existing connection to gannet.fish.washington.edu:443.\n",
      "HTTP request sent, awaiting response... 200 OK\n",
      "Length: unspecified [text/html]\n",
      "Saving to: ‘./index.html?C=D;O=A’\n",
      "\n",
      "index.html?C=D;O=A      [ <=>                ]  42.27K  --.-KB/s    in 0.001s  \n",
      "\n",
      "2020-05-04 09:57:31 (52.0 MB/s) - ‘./index.html?C=D;O=A’ saved [43285]\n",
      "\n",
      "Removing ./index.html?C=D;O=A since it should be rejected.\n",
      "\n",
      "--2020-05-04 09:57:31--  https://gannet.fish.washington.edu/seashell/bu-mox/scrubbed/031520-TG-bs/Mcap_tg/dedup/Meth10_R1_001_val_1_bismark_bt2_pe._5x.bedgraph\n",
      "Reusing existing connection to gannet.fish.washington.edu:443.\n",
      "HTTP request sent, awaiting response... 200 OK\n",
      "Length: 123101388 (117M)\n",
      "Saving to: ‘./Meth10_R1_001_val_1_bismark_bt2_pe._5x.bedgraph’\n",
      "\n",
      "Meth10_R1_001_val_1 100%[===================>] 117.40M  68.2MB/s    in 1.7s    \n",
      "\n",
      "2020-05-04 09:57:32 (68.2 MB/s) - ‘./Meth10_R1_001_val_1_bismark_bt2_pe._5x.bedgraph’ saved [123101388/123101388]\n",
      "\n",
      "--2020-05-04 09:57:32--  https://gannet.fish.washington.edu/seashell/bu-mox/scrubbed/031520-TG-bs/Mcap_tg/dedup/Meth11_R1_001_val_1_bismark_bt2_pe._5x.bedgraph\n",
      "Reusing existing connection to gannet.fish.washington.edu:443.\n",
      "HTTP request sent, awaiting response... 200 OK\n",
      "Length: 125607408 (120M)\n",
      "Saving to: ‘./Meth11_R1_001_val_1_bismark_bt2_pe._5x.bedgraph’\n",
      "\n",
      "Meth11_R1_001_val_1 100%[===================>] 119.79M  66.0MB/s    in 1.8s    \n",
      "\n",
      "2020-05-04 09:57:34 (66.0 MB/s) - ‘./Meth11_R1_001_val_1_bismark_bt2_pe._5x.bedgraph’ saved [125607408/125607408]\n",
      "\n",
      "--2020-05-04 09:57:34--  https://gannet.fish.washington.edu/seashell/bu-mox/scrubbed/031520-TG-bs/Mcap_tg/dedup/Meth12_R1_001_val_1_bismark_bt2_pe._5x.bedgraph\n",
      "Reusing existing connection to gannet.fish.washington.edu:443.\n",
      "HTTP request sent, awaiting response... 200 OK\n",
      "Length: 236954482 (226M)\n",
      "Saving to: ‘./Meth12_R1_001_val_1_bismark_bt2_pe._5x.bedgraph’\n",
      "\n",
      "Meth12_R1_001_val_1 100%[===================>] 225.98M  70.6MB/s    in 3.2s    \n",
      "\n",
      "2020-05-04 09:57:38 (69.9 MB/s) - ‘./Meth12_R1_001_val_1_bismark_bt2_pe._5x.bedgraph’ saved [236954482/236954482]\n",
      "\n",
      "--2020-05-04 09:57:38--  https://gannet.fish.washington.edu/seashell/bu-mox/scrubbed/031520-TG-bs/Mcap_tg/dedup/Meth16_R1_001_val_1_bismark_bt2_pe._5x.bedgraph\n",
      "Reusing existing connection to gannet.fish.washington.edu:443.\n",
      "HTTP request sent, awaiting response... 200 OK\n",
      "Length: 15778525 (15M)\n",
      "Saving to: ‘./Meth16_R1_001_val_1_bismark_bt2_pe._5x.bedgraph’\n",
      "\n",
      "Meth16_R1_001_val_1 100%[===================>]  15.05M  66.3MB/s    in 0.2s    \n",
      "\n",
      "2020-05-04 09:57:38 (66.3 MB/s) - ‘./Meth16_R1_001_val_1_bismark_bt2_pe._5x.bedgraph’ saved [15778525/15778525]\n",
      "\n",
      "--2020-05-04 09:57:38--  https://gannet.fish.washington.edu/seashell/bu-mox/scrubbed/031520-TG-bs/Mcap_tg/dedup/Meth17_R1_001_val_1_bismark_bt2_pe._5x.bedgraph\n",
      "Reusing existing connection to gannet.fish.washington.edu:443.\n",
      "HTTP request sent, awaiting response... 200 OK\n",
      "Length: 6552639 (6.2M)\n",
      "Saving to: ‘./Meth17_R1_001_val_1_bismark_bt2_pe._5x.bedgraph’\n",
      "\n",
      "Meth17_R1_001_val_1 100%[===================>]   6.25M  --.-KB/s    in 0.1s    \n",
      "\n",
      "2020-05-04 09:57:38 (57.6 MB/s) - ‘./Meth17_R1_001_val_1_bismark_bt2_pe._5x.bedgraph’ saved [6552639/6552639]\n",
      "\n",
      "--2020-05-04 09:57:38--  https://gannet.fish.washington.edu/seashell/bu-mox/scrubbed/031520-TG-bs/Mcap_tg/dedup/Meth18_R1_001_val_1_bismark_bt2_pe._5x.bedgraph\n",
      "Reusing existing connection to gannet.fish.washington.edu:443.\n",
      "HTTP request sent, awaiting response... 200 OK\n",
      "Length: 4146851 (4.0M)\n",
      "Saving to: ‘./Meth18_R1_001_val_1_bismark_bt2_pe._5x.bedgraph’\n",
      "\n",
      "Meth18_R1_001_val_1 100%[===================>]   3.95M  --.-KB/s    in 0.08s   \n",
      "\n",
      "2020-05-04 09:57:38 (49.1 MB/s) - ‘./Meth18_R1_001_val_1_bismark_bt2_pe._5x.bedgraph’ saved [4146851/4146851]\n",
      "\n",
      "--2020-05-04 09:57:38--  https://gannet.fish.washington.edu/seashell/bu-mox/scrubbed/031520-TG-bs/Mcap_tg/dedup/?C=N;O=A\n",
      "Reusing existing connection to gannet.fish.washington.edu:443.\n",
      "HTTP request sent, awaiting response... 200 OK\n",
      "Length: unspecified [text/html]\n",
      "Saving to: ‘./index.html?C=N;O=A’\n",
      "\n",
      "index.html?C=N;O=A      [ <=>                ]  42.27K  --.-KB/s    in 0.001s  \n",
      "\n",
      "2020-05-04 09:57:39 (62.1 MB/s) - ‘./index.html?C=N;O=A’ saved [43285]\n",
      "\n",
      "Removing ./index.html?C=N;O=A since it should be rejected.\n",
      "\n",
      "--2020-05-04 09:57:39--  https://gannet.fish.washington.edu/seashell/bu-mox/scrubbed/031520-TG-bs/Mcap_tg/dedup/?C=M;O=D\n",
      "Reusing existing connection to gannet.fish.washington.edu:443.\n",
      "HTTP request sent, awaiting response... 200 OK\n",
      "Length: unspecified [text/html]\n",
      "Saving to: ‘./index.html?C=M;O=D’\n",
      "\n",
      "index.html?C=M;O=D      [ <=>                ]  42.27K  --.-KB/s    in 0.001s  \n",
      "\n",
      "2020-05-04 09:57:40 (63.1 MB/s) - ‘./index.html?C=M;O=D’ saved [43285]\n",
      "\n",
      "Removing ./index.html?C=M;O=D since it should be rejected.\n",
      "\n",
      "--2020-05-04 09:57:40--  https://gannet.fish.washington.edu/seashell/bu-mox/scrubbed/031520-TG-bs/Mcap_tg/dedup/?C=S;O=D\n",
      "Reusing existing connection to gannet.fish.washington.edu:443.\n",
      "HTTP request sent, awaiting response... 200 OK\n",
      "Length: unspecified [text/html]\n",
      "Saving to: ‘./index.html?C=S;O=D’\n",
      "\n",
      "index.html?C=S;O=D      [ <=>                ]  42.27K  --.-KB/s    in 0.001s  \n",
      "\n",
      "2020-05-04 09:57:41 (58.5 MB/s) - ‘./index.html?C=S;O=D’ saved [43285]\n",
      "\n",
      "Removing ./index.html?C=S;O=D since it should be rejected.\n",
      "\n",
      "--2020-05-04 09:57:41--  https://gannet.fish.washington.edu/seashell/bu-mox/scrubbed/031520-TG-bs/Mcap_tg/dedup/?C=D;O=D\n",
      "Reusing existing connection to gannet.fish.washington.edu:443.\n",
      "HTTP request sent, awaiting response... 200 OK\n",
      "Length: unspecified [text/html]\n",
      "Saving to: ‘./index.html?C=D;O=D’\n",
      "\n",
      "index.html?C=D;O=D      [ <=>                ]  42.27K  --.-KB/s    in 0.001s  \n",
      "\n",
      "2020-05-04 09:57:42 (63.5 MB/s) - ‘./index.html?C=D;O=D’ saved [43285]\n",
      "\n",
      "Removing ./index.html?C=D;O=D since it should be rejected.\n",
      "\n",
      "FINISHED --2020-05-04 09:57:42--\n",
      "Total wall clock time: 17s\n",
      "Downloaded: 15 files, 489M in 7.2s (67.9 MB/s)\n"
     ]
    }
   ],
   "source": [
    "!wget -r \\\n",
    "--no-directories --no-parent --reject \"index.html*\" \\\n",
    "-P . \\\n",
    "-A _5x.bedgraph \\\n",
    "https://gannet.fish.washington.edu/seashell/bu-mox/scrubbed/031520-TG-bs/Mcap_tg/dedup/"
   ]
  },
  {
   "cell_type": "code",
   "execution_count": null,
   "metadata": {},
   "outputs": [],
   "source": [
    "#check MD5s"
   ]
  },
  {
   "cell_type": "code",
   "execution_count": null,
   "metadata": {},
   "outputs": [],
   "source": [
    "#get md5 hashes for Mcap files"
   ]
  },
  {
   "cell_type": "code",
   "execution_count": 12,
   "metadata": {
    "collapsed": true
   },
   "outputs": [
    {
     "name": "stdout",
     "output_type": "stream",
     "text": [
      "MD5 (Meth10_R1_001_val_1_bismark_bt2_pe._5x.bedgraph) = 83035e7e47b8ad486de22dacc17ae8ed\n",
      "MD5 (Meth11_R1_001_val_1_bismark_bt2_pe._5x.bedgraph) = 6493359aad0b4228f65b5e563d337ceb\n",
      "MD5 (Meth12_R1_001_val_1_bismark_bt2_pe._5x.bedgraph) = b2f097299df0cb7d518d22338fdcf39f\n",
      "MD5 (Meth13_R1_001_val_1_bismark_bt2_pe._5x.bedgraph) = 2bb476cb98072f0e76bfb5c318246c38\n",
      "MD5 (Meth14_R1_001_val_1_bismark_bt2_pe._5x.bedgraph) = fc0f66cf04ffebe76d61c1db75cfed6e\n",
      "MD5 (Meth15_R1_001_val_1_bismark_bt2_pe._5x.bedgraph) = 1d7c24b238dc72cd92346213b3523611\n",
      "MD5 (Meth16_R1_001_val_1_bismark_bt2_pe._5x.bedgraph) = 04fb72d5df60656e6cec15637164fbec\n",
      "MD5 (Meth17_R1_001_val_1_bismark_bt2_pe._5x.bedgraph) = 073d1c40116a3f93f7a7022cfb4cd3d2\n",
      "MD5 (Meth18_R1_001_val_1_bismark_bt2_pe._5x.bedgraph) = a255210553db073e5458ccb523a34798\n"
     ]
    }
   ],
   "source": [
    "!md5 *.bedgraph"
   ]
  },
  {
   "cell_type": "code",
   "execution_count": null,
   "metadata": {},
   "outputs": [],
   "source": [
    "#get md5 hashes for Pact files"
   ]
  },
  {
   "cell_type": "code",
   "execution_count": 13,
   "metadata": {
    "collapsed": true
   },
   "outputs": [
    {
     "name": "stdout",
     "output_type": "stream",
     "text": [
      "MD5 (../Pact/Meth1_R1_001_val_1_bismark_bt2_pe._5x.bedgraph) = d634ffc3f062d248e36b8dddc9a315e0\n",
      "MD5 (../Pact/Meth2_R1_001_val_1_bismark_bt2_pe._5x.bedgraph) = 1ec934f5b4ce012b64b77dd69d70ee5f\n",
      "MD5 (../Pact/Meth3_R1_001_val_1_bismark_bt2_pe._5x.bedgraph) = c456156b7f6a11543d8dc697e8e74b4e\n",
      "MD5 (../Pact/Meth4_R1_001_val_1_bismark_bt2_pe._5x.bedgraph) = 736fd3802ce1b45b6eb32abf6e1bcb3f\n",
      "MD5 (../Pact/Meth5_R1_001_val_1_bismark_bt2_pe._5x.bedgraph) = ed4428a6c8cb6a4964687d91c0d8ccb3\n",
      "MD5 (../Pact/Meth6_R1_001_val_1_bismark_bt2_pe._5x.bedgraph) = 5994ba73d412d8992f2465b148f5ae80\n",
      "MD5 (../Pact/Meth7_R1_001_val_1_bismark_bt2_pe._5x.bedgraph) = a2b842c439c3df3fb699690cd5b55d5a\n",
      "MD5 (../Pact/Meth8_R1_001_val_1_bismark_bt2_pe._5x.bedgraph) = c838562956c7abe3656a2b7438a40dc1\n",
      "MD5 (../Pact/Meth9_R1_001_val_1_bismark_bt2_pe._5x.bedgraph) = c9a4b002113e2501d81e4762cf952b79\n"
     ]
    }
   ],
   "source": [
    "!md5 ../Pact/*.bedgraph"
   ]
  },
  {
   "cell_type": "code",
   "execution_count": 14,
   "metadata": {},
   "outputs": [
    {
     "name": "stdout",
     "output_type": "stream",
     "text": [
      "/Users/strigg/Documents/GitHub/Meth_Compare/data\n"
     ]
    }
   ],
   "source": [
    "cd ../"
   ]
  },
  {
   "cell_type": "markdown",
   "metadata": {},
   "source": [
    "## Pact data\n",
    "\n",
    "### Part 1: Merge sample bedgraphs by method"
   ]
  },
  {
   "cell_type": "code",
   "execution_count": null,
   "metadata": {},
   "outputs": [],
   "source": [
    "#merge bed files for RRBS samples"
   ]
  },
  {
   "cell_type": "code",
   "execution_count": 15,
   "metadata": {},
   "outputs": [],
   "source": [
    "!cat \\\n",
    "Pact/Meth4_R1_001_val_1_bismark_bt2_pe._5x.bedgraph \\\n",
    "Pact/Meth5_R1_001_val_1_bismark_bt2_pe._5x.bedgraph \\\n",
    "Pact/Meth6_R1_001_val_1_bismark_bt2_pe._5x.bedgraph |\\\n",
    "/Users/Shared/bioinformatics/bedtools2/bin/sortBed \\\n",
    "-i stdin |\\\n",
    "/Users/Shared/bioinformatics/bedtools2/bin/mergeBed \\\n",
    "-d -1 \\\n",
    "-i stdin \\\n",
    "> Pact/Pact_RRBS_5x.bed\n"
   ]
  },
  {
   "cell_type": "code",
   "execution_count": 16,
   "metadata": {
    "collapsed": true
   },
   "outputs": [
    {
     "name": "stdout",
     "output_type": "stream",
     "text": [
      "scaffold100000_cov51\t109\t111\r\n",
      "scaffold100000_cov51\t112\t114\r\n",
      "scaffold100000_cov51\t205\t207\r\n",
      "scaffold100000_cov51\t213\t215\r\n",
      "scaffold100000_cov51\t236\t238\r\n",
      "scaffold100004_cov43\t100\t102\r\n",
      "scaffold100004_cov43\t107\t109\r\n",
      "scaffold100009_cov142\t180\t182\r\n",
      "scaffold100009_cov142\t212\t214\r\n",
      "scaffold100017_cov107\t1005\t1007\r\n"
     ]
    }
   ],
   "source": [
    "!head Pact/Pact_RRBS_5x.bed"
   ]
  },
  {
   "cell_type": "code",
   "execution_count": 17,
   "metadata": {
    "scrolled": true
   },
   "outputs": [
    {
     "name": "stdout",
     "output_type": "stream",
     "text": [
      " 1835561 Pact/Meth4_R1_001_val_1_bismark_bt2_pe._5x.bedgraph\n",
      " 1451229 Pact/Meth5_R1_001_val_1_bismark_bt2_pe._5x.bedgraph\n",
      " 1517358 Pact/Meth6_R1_001_val_1_bismark_bt2_pe._5x.bedgraph\n"
     ]
    }
   ],
   "source": [
    "!wc -l Pact/Meth4_R1_001_val_1_bismark_bt2_pe._5x.bedgraph \n",
    "!wc -l Pact/Meth5_R1_001_val_1_bismark_bt2_pe._5x.bedgraph\n",
    "!wc -l Pact/Meth6_R1_001_val_1_bismark_bt2_pe._5x.bedgraph \n"
   ]
  },
  {
   "cell_type": "code",
   "execution_count": 18,
   "metadata": {},
   "outputs": [
    {
     "name": "stdout",
     "output_type": "stream",
     "text": [
      " 2265779 Pact/Pact_RRBS_5x.bed\r\n"
     ]
    }
   ],
   "source": [
    "!wc -l Pact/Pact_RRBS_5x.bed"
   ]
  },
  {
   "cell_type": "markdown",
   "metadata": {},
   "source": [
    "#### QC check \n",
    "awk sort uniq should give the same number of loci as bedtools merge"
   ]
  },
  {
   "cell_type": "code",
   "execution_count": 21,
   "metadata": {},
   "outputs": [
    {
     "name": "stdout",
     "output_type": "stream",
     "text": [
      "scaffold6_cov64\t2536\t2538\r\n",
      "scaffold6_cov64\t2584\t2586\r\n",
      "scaffold6_cov64\t2676\t2678\r\n",
      "awk: write error on /dev/stdout\r\n",
      " input record number 1106, file \r\n",
      " source line number 1\r\n",
      "cat: stdout: Broken pipe\r\n"
     ]
    }
   ],
   "source": [
    "!cat \\\n",
    "Pact/Meth4_R1_001_val_1_bismark_bt2_pe._5x.bedgraph \\\n",
    "Pact/Meth5_R1_001_val_1_bismark_bt2_pe._5x.bedgraph \\\n",
    "Pact/Meth6_R1_001_val_1_bismark_bt2_pe._5x.bedgraph |\\\n",
    "awk -F\"\\t\" '{print $1\"\\t\"$2\"\\t\"$3}' |\\\n",
    "head -3"
   ]
  },
  {
   "cell_type": "code",
   "execution_count": 22,
   "metadata": {},
   "outputs": [],
   "source": [
    "!cat \\\n",
    "Pact/Meth4_R1_001_val_1_bismark_bt2_pe._5x.bedgraph \\\n",
    "Pact/Meth5_R1_001_val_1_bismark_bt2_pe._5x.bedgraph \\\n",
    "Pact/Meth6_R1_001_val_1_bismark_bt2_pe._5x.bedgraph |\\\n",
    "awk -F\"\\t\" '{print $1\"\\t\"$2\"\\t\"$3}' |\\\n",
    "sort |\\\n",
    "uniq \\\n",
    "> Pact/Pact_RRBS_5x.QCbed"
   ]
  },
  {
   "cell_type": "code",
   "execution_count": 23,
   "metadata": {},
   "outputs": [
    {
     "name": "stdout",
     "output_type": "stream",
     "text": [
      " 2265779 Pact/Pact_RRBS_5x.QCbed\r\n"
     ]
    }
   ],
   "source": [
    "!wc -l Pact/Pact_RRBS_5x.QCbed"
   ]
  },
  {
   "cell_type": "markdown",
   "metadata": {},
   "source": [
    "QC is good since line counts match for:\n",
    "\n",
    "- 2265779 Pact/Pact_RRBS_5x.bed\n",
    "- 2265779 Pact/Pact_RRBS_5x.QCbed\n"
   ]
  },
  {
   "cell_type": "code",
   "execution_count": null,
   "metadata": {},
   "outputs": [],
   "source": [
    "#merge bed files for WGBS samples"
   ]
  },
  {
   "cell_type": "code",
   "execution_count": 24,
   "metadata": {},
   "outputs": [],
   "source": [
    "!cat \\\n",
    "Pact/Meth1_R1_001_val_1_bismark_bt2_pe._5x.bedgraph \\\n",
    "Pact/Meth2_R1_001_val_1_bismark_bt2_pe._5x.bedgraph \\\n",
    "Pact/Meth3_R1_001_val_1_bismark_bt2_pe._5x.bedgraph |\\\n",
    "/Users/Shared/bioinformatics/bedtools2/bin/sortBed \\\n",
    "-i stdin |\\\n",
    "/Users/Shared/bioinformatics/bedtools2/bin/mergeBed \\\n",
    "-d -1 \\\n",
    "-i stdin \\\n",
    "> Pact/Pact_WGBS_5x.bed\n"
   ]
  },
  {
   "cell_type": "code",
   "execution_count": 25,
   "metadata": {
    "scrolled": true
   },
   "outputs": [
    {
     "name": "stdout",
     "output_type": "stream",
     "text": [
      " 5546051 Pact/Meth1_R1_001_val_1_bismark_bt2_pe._5x.bedgraph\n",
      " 6358722 Pact/Meth2_R1_001_val_1_bismark_bt2_pe._5x.bedgraph\n",
      " 5866786 Pact/Meth3_R1_001_val_1_bismark_bt2_pe._5x.bedgraph\n"
     ]
    }
   ],
   "source": [
    "!wc -l Pact/Meth1_R1_001_val_1_bismark_bt2_pe._5x.bedgraph \n",
    "!wc -l Pact/Meth2_R1_001_val_1_bismark_bt2_pe._5x.bedgraph \n",
    "!wc -l Pact/Meth3_R1_001_val_1_bismark_bt2_pe._5x.bedgraph \n"
   ]
  },
  {
   "cell_type": "code",
   "execution_count": 26,
   "metadata": {},
   "outputs": [
    {
     "name": "stdout",
     "output_type": "stream",
     "text": [
      " 7096944 Pact/Pact_WGBS_5x.bed\r\n"
     ]
    }
   ],
   "source": [
    "!wc -l Pact/Pact_WGBS_5x.bed"
   ]
  },
  {
   "cell_type": "markdown",
   "metadata": {},
   "source": [
    "#### QC check"
   ]
  },
  {
   "cell_type": "code",
   "execution_count": 27,
   "metadata": {},
   "outputs": [],
   "source": [
    "!cat \\\n",
    "Pact/Meth1_R1_001_val_1_bismark_bt2_pe._5x.bedgraph \\\n",
    "Pact/Meth2_R1_001_val_1_bismark_bt2_pe._5x.bedgraph \\\n",
    "Pact/Meth3_R1_001_val_1_bismark_bt2_pe._5x.bedgraph |\\\n",
    "awk -F\"\\t\" '{print $1\"\\t\"$2\"\\t\"$3}' |\\\n",
    "sort |\\\n",
    "uniq \\\n",
    "> Pact/Pact_WGBS_5x.QCbed"
   ]
  },
  {
   "cell_type": "code",
   "execution_count": 29,
   "metadata": {},
   "outputs": [
    {
     "name": "stdout",
     "output_type": "stream",
     "text": [
      " 7096944 Pact/Pact_WGBS_5x.QCbed\r\n"
     ]
    }
   ],
   "source": [
    "!wc -l Pact/Pact_WGBS_5x.QCbed"
   ]
  },
  {
   "cell_type": "markdown",
   "metadata": {},
   "source": [
    "QC is good since line counts match for:\n",
    "    \n",
    "- 7096944 Pact/Pact_WGBS_5x.bed\n",
    "- 7096944 Pact/Pact_WGBS_5x.QCbed"
   ]
  },
  {
   "cell_type": "code",
   "execution_count": null,
   "metadata": {},
   "outputs": [],
   "source": [
    "#merge bed files for MBD-BS samples"
   ]
  },
  {
   "cell_type": "code",
   "execution_count": 30,
   "metadata": {},
   "outputs": [],
   "source": [
    "!cat \\\n",
    "Pact/Meth7_R1_001_val_1_bismark_bt2_pe._5x.bedgraph \\\n",
    "Pact/Meth8_R1_001_val_1_bismark_bt2_pe._5x.bedgraph \\\n",
    "Pact/Meth9_R1_001_val_1_bismark_bt2_pe._5x.bedgraph |\\\n",
    "/Users/Shared/bioinformatics/bedtools2/bin/sortBed \\\n",
    "-i stdin |\\\n",
    "/Users/Shared/bioinformatics/bedtools2/bin/mergeBed \\\n",
    "-d -1 \\\n",
    "-i stdin \\\n",
    "> Pact/Pact_MBD_5x.bed\n"
   ]
  },
  {
   "cell_type": "code",
   "execution_count": 31,
   "metadata": {
    "scrolled": true
   },
   "outputs": [
    {
     "name": "stdout",
     "output_type": "stream",
     "text": [
      " 2640625 Pact/Meth7_R1_001_val_1_bismark_bt2_pe._5x.bedgraph\n",
      "  539008 Pact/Meth8_R1_001_val_1_bismark_bt2_pe._5x.bedgraph\n",
      " 2732607 Pact/Meth9_R1_001_val_1_bismark_bt2_pe._5x.bedgraph\n"
     ]
    }
   ],
   "source": [
    "!wc -l Pact/Meth7_R1_001_val_1_bismark_bt2_pe._5x.bedgraph \n",
    "!wc -l Pact/Meth8_R1_001_val_1_bismark_bt2_pe._5x.bedgraph \n",
    "!wc -l Pact/Meth9_R1_001_val_1_bismark_bt2_pe._5x.bedgraph \n"
   ]
  },
  {
   "cell_type": "code",
   "execution_count": 32,
   "metadata": {},
   "outputs": [
    {
     "name": "stdout",
     "output_type": "stream",
     "text": [
      " 3704036 Pact/Pact_MBD_5x.bed\r\n"
     ]
    }
   ],
   "source": [
    "!wc -l Pact/Pact_MBD_5x.bed"
   ]
  },
  {
   "cell_type": "markdown",
   "metadata": {},
   "source": [
    "#### QC check"
   ]
  },
  {
   "cell_type": "code",
   "execution_count": 33,
   "metadata": {},
   "outputs": [],
   "source": [
    "!cat \\\n",
    "Pact/Meth7_R1_001_val_1_bismark_bt2_pe._5x.bedgraph \\\n",
    "Pact/Meth8_R1_001_val_1_bismark_bt2_pe._5x.bedgraph \\\n",
    "Pact/Meth9_R1_001_val_1_bismark_bt2_pe._5x.bedgraph |\\\n",
    "awk -F\"\\t\" '{print $1\"\\t\"$2\"\\t\"$3}' |\\\n",
    "sort |\\\n",
    "uniq \\\n",
    "> Pact/Pact_MBD_5x.QCbed"
   ]
  },
  {
   "cell_type": "code",
   "execution_count": 34,
   "metadata": {},
   "outputs": [
    {
     "name": "stdout",
     "output_type": "stream",
     "text": [
      " 3704036 Pact/Pact_MBD_5x.QCbed\r\n"
     ]
    }
   ],
   "source": [
    "!wc -l Pact/Pact_MBD_5x.QCbed"
   ]
  },
  {
   "cell_type": "markdown",
   "metadata": {},
   "source": [
    "QC is good since line count matches for:\n",
    "    \n",
    "- 3704036 Pact/Pact_MBD_5x.bed\n",
    "- 3704036 Pact/Pact_MBD_5x.QCbed"
   ]
  },
  {
   "cell_type": "markdown",
   "metadata": {},
   "source": [
    "### Part 2: Generate genome CpG bedgraph"
   ]
  },
  {
   "cell_type": "code",
   "execution_count": null,
   "metadata": {},
   "outputs": [],
   "source": [
    "#get genome CpG data"
   ]
  },
  {
   "cell_type": "code",
   "execution_count": 35,
   "metadata": {},
   "outputs": [
    {
     "name": "stdout",
     "output_type": "stream",
     "text": [
      "/Users/strigg/Documents/GitHub/Meth_Compare/data/Pact\n"
     ]
    }
   ],
   "source": [
    "cd Pact"
   ]
  },
  {
   "cell_type": "code",
   "execution_count": 36,
   "metadata": {},
   "outputs": [
    {
     "name": "stdout",
     "output_type": "stream",
     "text": [
      "--2020-05-04 11:40:12--  https://gannet.fish.washington.edu/seashell/bu-github/Meth_Compare/genome-feature-files/Pact_CpG.gff\n",
      "Resolving gannet.fish.washington.edu... 128.95.149.52\n",
      "Connecting to gannet.fish.washington.edu|128.95.149.52|:443... connected.\n",
      "HTTP request sent, awaiting response... 200 OK\n",
      "Length: 1111983287 (1.0G)\n",
      "Saving to: ‘Pact_CpG.gff’\n",
      "\n",
      "Pact_CpG.gff        100%[===================>]   1.04G  70.8MB/s    in 15s     \n",
      "\n",
      "2020-05-04 11:40:28 (70.2 MB/s) - ‘Pact_CpG.gff’ saved [1111983287/1111983287]\n",
      "\n"
     ]
    }
   ],
   "source": [
    "!wget \\\n",
    "https://gannet.fish.washington.edu/seashell/bu-github/Meth_Compare/genome-feature-files/Pact_CpG.gff"
   ]
  },
  {
   "cell_type": "code",
   "execution_count": null,
   "metadata": {},
   "outputs": [],
   "source": [
    "#create bedgraph file from CpG.gff"
   ]
  },
  {
   "cell_type": "code",
   "execution_count": 37,
   "metadata": {},
   "outputs": [],
   "source": [
    "!awk -F\"\\t\" '{print $1\"\\t\"$4\"\\t\"$5}' Pact_CpG.gff |\\\n",
    "/Users/Shared/bioinformatics/bedtools2/bin/sortBed \\\n",
    "-i stdin |\\\n",
    "awk -F\"\\t\" '{print $0\"\\t\"1}' \\\n",
    "> Pact_CpG.bedgraph"
   ]
  },
  {
   "cell_type": "code",
   "execution_count": 38,
   "metadata": {},
   "outputs": [
    {
     "name": "stdout",
     "output_type": "stream",
     "text": [
      "scaffold100000_cov51\t5\t6\t1\r\n",
      "scaffold100000_cov51\t23\t24\t1\r\n",
      "scaffold100000_cov51\t61\t62\t1\r\n",
      "scaffold100000_cov51\t69\t70\t1\r\n",
      "scaffold100000_cov51\t79\t80\t1\r\n",
      "scaffold100000_cov51\t110\t111\t1\r\n",
      "scaffold100000_cov51\t113\t114\t1\r\n",
      "scaffold100000_cov51\t206\t207\t1\r\n",
      "scaffold100000_cov51\t214\t215\t1\r\n",
      "scaffold100000_cov51\t237\t238\t1\r\n"
     ]
    }
   ],
   "source": [
    "!head Pact_CpG.bedgraph"
   ]
  },
  {
   "cell_type": "markdown",
   "metadata": {},
   "source": [
    "### Part 3:  Reformat method CpG bedgraphs\n",
    "Bedtools mergeBed only outputs 3 columns (chromosome, start, end)\n",
    "and removes column 4 from the original bedgraphs.\n",
    "\n",
    "So I need to add a 4th column back to these bed files in order to run Bedtools unionBed. \n",
    "\n",
    "Also, the genome CpG gff and bedgraph coordinates have only 1 basepair between them where the merged 5x bedgraphs have 2 basepairs between. So I need to offset these by adding 1 to the start position."
   ]
  },
  {
   "cell_type": "code",
   "execution_count": null,
   "metadata": {},
   "outputs": [],
   "source": [
    "#loop through all 5x.bed files I generated \n",
    "# add 1 to the start position of each loci (line)\n",
    "# and add a 4th column containing 1 "
   ]
  },
  {
   "cell_type": "code",
   "execution_count": 39,
   "metadata": {},
   "outputs": [],
   "source": [
    "%%bash \n",
    "\n",
    "for f in *5x.bed\n",
    "do\n",
    "awk -F\"\\t\" '{print $1\"\\t\"$2+1\"\\t\"$3\"\\t\"1}' \\\n",
    "${f} \\\n",
    "> $(basename ${f%.bed}).bedgraph\n",
    "done"
   ]
  },
  {
   "cell_type": "markdown",
   "metadata": {},
   "source": [
    "### Part 4:  Generate union bedgraph "
   ]
  },
  {
   "cell_type": "code",
   "execution_count": null,
   "metadata": {},
   "outputs": [],
   "source": [
    "#create union bed file"
   ]
  },
  {
   "cell_type": "code",
   "execution_count": 42,
   "metadata": {},
   "outputs": [],
   "source": [
    "!/Users/Shared/bioinformatics/bedtools2/bin/unionBedGraphs \\\n",
    "-header \\\n",
    "-filler N/A \\\n",
    "-names ALL WGBS RRBS MBD \\\n",
    "-i \\\n",
    "Pact_CpG.bedgraph \\\n",
    "Pact_WGBS_5x.bedgraph \\\n",
    "Pact_RRBS_5x.bedgraph \\\n",
    "Pact_MBD_5x.bedgraph \\\n",
    "> Pact_method_union_5x.bedgraph"
   ]
  },
  {
   "cell_type": "code",
   "execution_count": 46,
   "metadata": {},
   "outputs": [
    {
     "name": "stdout",
     "output_type": "stream",
     "text": [
      "chrom\tstart\tend\tALL\tWGBS\tRRBS\tMBD\r\n",
      "scaffold100000_cov51\t5\t6\t1\tN/A\tN/A\tN/A\r\n",
      "scaffold100000_cov51\t23\t24\t1\t1\tN/A\tN/A\r\n",
      "scaffold100000_cov51\t61\t62\t1\t1\tN/A\tN/A\r\n",
      "scaffold100000_cov51\t69\t70\t1\t1\tN/A\tN/A\r\n",
      "scaffold100000_cov51\t79\t80\t1\t1\tN/A\tN/A\r\n",
      "scaffold100000_cov51\t110\t111\t1\t1\t1\tN/A\r\n",
      "scaffold100000_cov51\t113\t114\t1\t1\t1\tN/A\r\n",
      "scaffold100000_cov51\t206\t207\t1\t1\t1\tN/A\r\n",
      "scaffold100000_cov51\t214\t215\t1\t1\t1\tN/A\r\n"
     ]
    }
   ],
   "source": [
    "!head Pact_method_union_5x.bedgraph"
   ]
  },
  {
   "cell_type": "markdown",
   "metadata": {},
   "source": [
    "### Part 5: Create input table for Upset plotting in R using union bedgraph"
   ]
  },
  {
   "cell_type": "code",
   "execution_count": 43,
   "metadata": {},
   "outputs": [],
   "source": [
    "#replace NA with zeros and\n",
    "#combine fields 1-3 into 1 string that will serve as rowname\n",
    "!cat Pact_method_union_5x.bedgraph |\\\n",
    "sed 's/N\\/A/0/g' |\\\n",
    "awk -F\"\\t\" '{print$1\"_\"$2\"_\"$3\"\\t\"$4\"\\t\"$5\"\\t\"$6\"\\t\"$7}' \\\n",
    "> Pact_method_union_5x_matrix.tsv"
   ]
  },
  {
   "cell_type": "code",
   "execution_count": null,
   "metadata": {},
   "outputs": [],
   "source": [
    "#preview file"
   ]
  },
  {
   "cell_type": "code",
   "execution_count": 44,
   "metadata": {},
   "outputs": [
    {
     "name": "stdout",
     "output_type": "stream",
     "text": [
      "chrom_start_end\tALL\tWGBS\tRRBS\tMBD\r\n",
      "scaffold100000_cov51_5_6\t1\t0\t0\t0\r\n",
      "scaffold100000_cov51_23_24\t1\t1\t0\t0\r\n",
      "scaffold100000_cov51_61_62\t1\t1\t0\t0\r\n",
      "scaffold100000_cov51_69_70\t1\t1\t0\t0\r\n",
      "scaffold100000_cov51_79_80\t1\t1\t0\t0\r\n",
      "scaffold100000_cov51_110_111\t1\t1\t1\t0\r\n",
      "scaffold100000_cov51_113_114\t1\t1\t1\t0\r\n",
      "scaffold100000_cov51_206_207\t1\t1\t1\t0\r\n",
      "scaffold100000_cov51_214_215\t1\t1\t1\t0\r\n"
     ]
    }
   ],
   "source": [
    "!head Pact_method_union_5x_matrix.tsv"
   ]
  },
  {
   "cell_type": "code",
   "execution_count": 45,
   "metadata": {},
   "outputs": [
    {
     "name": "stdout",
     "output_type": "stream",
     "text": [
      " 9155621 Pact_method_union_5x_matrix.tsv\r\n"
     ]
    }
   ],
   "source": [
    "!wc -l Pact_method_union_5x_matrix.tsv"
   ]
  },
  {
   "cell_type": "markdown",
   "metadata": {},
   "source": [
    "### Part 6: parse out CpGs from different method combinations for tracks and feature analysis"
   ]
  },
  {
   "cell_type": "code",
   "execution_count": null,
   "metadata": {},
   "outputs": [],
   "source": [
    "#CpGs commonly detected across all methods"
   ]
  },
  {
   "cell_type": "code",
   "execution_count": 47,
   "metadata": {},
   "outputs": [],
   "source": [
    "!awk -F\"\\t\" '{if(($4==1)&&($5==1)&&($6==1)&&($7==1))print $0}' \\\n",
    "Pact_method_union_5x.bedgraph \\\n",
    "> Pact_WGBS_RRBS_MBD_only_CpGs.bed\n"
   ]
  },
  {
   "cell_type": "code",
   "execution_count": 48,
   "metadata": {},
   "outputs": [],
   "source": [
    "#CpGs detected by MBD and WGBS only "
   ]
  },
  {
   "cell_type": "code",
   "execution_count": 61,
   "metadata": {},
   "outputs": [],
   "source": [
    "!awk -F\"\\t\" '{if(($4==1)&&($5==1)&&($6==\"N\\/A\")&&($7==1))print $0}' \\\n",
    "Pact_method_union_5x.bedgraph \\\n",
    "> Pact_WGBS_MBD_only_CpGs.bed"
   ]
  },
  {
   "cell_type": "code",
   "execution_count": 64,
   "metadata": {},
   "outputs": [],
   "source": [
    "#CpGs detected by to MBD and RRBS only"
   ]
  },
  {
   "cell_type": "code",
   "execution_count": 65,
   "metadata": {},
   "outputs": [],
   "source": [
    "!awk -F\"\\t\" '{if(($4==1)&&($5==\"N\\/A\")&&($6==1)&&($7==1))print $0}' \\\n",
    "Pact_method_union_5x.bedgraph \\\n",
    "> Pact_RRBS_MBD_only_CpGs.bed"
   ]
  },
  {
   "cell_type": "code",
   "execution_count": 66,
   "metadata": {},
   "outputs": [],
   "source": [
    "#CpGs detected by WGBS and RRBS only"
   ]
  },
  {
   "cell_type": "code",
   "execution_count": 67,
   "metadata": {},
   "outputs": [],
   "source": [
    "!awk -F\"\\t\" '{if(($4==1)&&($5==1)&&($6==1)&&($7==\"N\\/A\"))print $0}' \\\n",
    "Pact_method_union_5x.bedgraph \\\n",
    "> Pact_WGBS_RRBS_only_CpGs.bed"
   ]
  },
  {
   "cell_type": "code",
   "execution_count": 68,
   "metadata": {},
   "outputs": [],
   "source": [
    "#CpGs detected by WGBS only"
   ]
  },
  {
   "cell_type": "code",
   "execution_count": 69,
   "metadata": {},
   "outputs": [],
   "source": [
    "!awk -F\"\\t\" '{if(($4==1)&&($5==1)&&($6==\"N\\/A\")&&($7==\"N\\/A\"))print $0}' \\\n",
    "Pact_method_union_5x.bedgraph \\\n",
    "> Pact_WGBS_only_CpGs.bed"
   ]
  },
  {
   "cell_type": "code",
   "execution_count": 70,
   "metadata": {},
   "outputs": [],
   "source": [
    "#CpGs detected by RRBS only"
   ]
  },
  {
   "cell_type": "code",
   "execution_count": 71,
   "metadata": {},
   "outputs": [],
   "source": [
    "!awk -F\"\\t\" '{if(($4==1)&&($5==\"N\\/A\")&&($6==1)&&($7==\"N\\/A\"))print $0}' \\\n",
    "Pact_method_union_5x.bedgraph \\\n",
    "> Pact_RRBS_only_CpGs.bed"
   ]
  },
  {
   "cell_type": "code",
   "execution_count": 72,
   "metadata": {},
   "outputs": [],
   "source": [
    "#CpGs detected by MBD only"
   ]
  },
  {
   "cell_type": "code",
   "execution_count": 73,
   "metadata": {},
   "outputs": [],
   "source": [
    "!awk -F\"\\t\" '{if(($4==1)&&($5==\"N\\/A\")&&($6==\"N\\/A\")&&($7==1))print $0}' \\\n",
    "Pact_method_union_5x.bedgraph \\\n",
    "> Pact_MBD_only_CpGs.bed"
   ]
  },
  {
   "cell_type": "code",
   "execution_count": null,
   "metadata": {},
   "outputs": [],
   "source": [
    "#CpGs not detected by any method"
   ]
  },
  {
   "cell_type": "code",
   "execution_count": 75,
   "metadata": {},
   "outputs": [],
   "source": [
    "!awk -F\"\\t\" '{if(($4==1)&&($5==\"N\\/A\")&&($6==\"N\\/A\")&&($7==\"N\\/A\"))print $0}' \\\n",
    "Pact_method_union_5x.bedgraph \\\n",
    "> Pact_no_method_CpGs.bed"
   ]
  },
  {
   "cell_type": "markdown",
   "metadata": {},
   "source": [
    "#### QC check: \n",
    "all line counts from individual bed files should add up to lines in union bed file"
   ]
  },
  {
   "cell_type": "code",
   "execution_count": 76,
   "metadata": {},
   "outputs": [
    {
     "name": "stdout",
     "output_type": "stream",
     "text": [
      "   70784 Pact_MBD_only_CpGs.bed\n",
      "   10526 Pact_RRBS_MBD_only_CpGs.bed\n",
      "  148043 Pact_RRBS_only_CpGs.bed\n",
      " 2360477 Pact_WGBS_MBD_only_CpGs.bed\n",
      " 1262249 Pact_WGBS_RRBS_MBD_only_CpGs.bed\n",
      "  844961 Pact_WGBS_RRBS_only_CpGs.bed\n",
      " 2629257 Pact_WGBS_only_CpGs.bed\n",
      " 1829323 Pact_no_method_CpGs.bed\n",
      " 9155620 total\n"
     ]
    }
   ],
   "source": [
    "!wc -l *_CpGs.bed"
   ]
  },
  {
   "cell_type": "markdown",
   "metadata": {},
   "source": [
    "QC is good line counts in union file match the total:\n",
    "- 9155621 Pact_method_union_5x_matrix.tsv (contains header)"
   ]
  },
  {
   "cell_type": "markdown",
   "metadata": {},
   "source": [
    "## Mcap data\n",
    "\n",
    "### Part 1: Merge sample bedgraphs by method"
   ]
  },
  {
   "cell_type": "code",
   "execution_count": 77,
   "metadata": {},
   "outputs": [
    {
     "name": "stdout",
     "output_type": "stream",
     "text": [
      "/Users/strigg/Documents/GitHub/Meth_Compare/data\n"
     ]
    }
   ],
   "source": [
    "cd ../"
   ]
  },
  {
   "cell_type": "code",
   "execution_count": null,
   "metadata": {},
   "outputs": [],
   "source": [
    "#merge bed files for RRBS samples"
   ]
  },
  {
   "cell_type": "code",
   "execution_count": 78,
   "metadata": {},
   "outputs": [],
   "source": [
    "!cat \\\n",
    "Mcap/Meth13_R1_001_val_1_bismark_bt2_pe._5x.bedgraph \\\n",
    "Mcap/Meth14_R1_001_val_1_bismark_bt2_pe._5x.bedgraph \\\n",
    "Mcap/Meth15_R1_001_val_1_bismark_bt2_pe._5x.bedgraph |\\\n",
    "/Users/Shared/bioinformatics/bedtools2/bin/sortBed \\\n",
    "-i stdin |\\\n",
    "/Users/Shared/bioinformatics/bedtools2/bin/mergeBed \\\n",
    "-d -1 \\\n",
    "-i stdin \\\n",
    "> Mcap/Mcap_RRBS_5x.bed\n"
   ]
  },
  {
   "cell_type": "code",
   "execution_count": 79,
   "metadata": {},
   "outputs": [
    {
     "name": "stdout",
     "output_type": "stream",
     "text": [
      "1\t3493\t3495\r\n",
      "1\t3518\t3520\r\n",
      "1\t3727\t3729\r\n",
      "1\t3752\t3754\r\n",
      "1\t3757\t3759\r\n",
      "1\t3770\t3772\r\n",
      "1\t11876\t11878\r\n",
      "1\t11887\t11889\r\n",
      "1\t11894\t11896\r\n",
      "1\t11941\t11943\r\n"
     ]
    }
   ],
   "source": [
    "!head Mcap/Mcap_RRBS_5x.bed"
   ]
  },
  {
   "cell_type": "code",
   "execution_count": 80,
   "metadata": {
    "scrolled": true
   },
   "outputs": [
    {
     "name": "stdout",
     "output_type": "stream",
     "text": [
      " 3173254 Mcap/Meth13_R1_001_val_1_bismark_bt2_pe._5x.bedgraph\n",
      " 2648697 Mcap/Meth14_R1_001_val_1_bismark_bt2_pe._5x.bedgraph\n",
      " 3176517 Mcap/Meth15_R1_001_val_1_bismark_bt2_pe._5x.bedgraph\n"
     ]
    }
   ],
   "source": [
    "!wc -l Mcap/Meth13_R1_001_val_1_bismark_bt2_pe._5x.bedgraph \n",
    "!wc -l Mcap/Meth14_R1_001_val_1_bismark_bt2_pe._5x.bedgraph\n",
    "!wc -l Mcap/Meth15_R1_001_val_1_bismark_bt2_pe._5x.bedgraph \n"
   ]
  },
  {
   "cell_type": "code",
   "execution_count": 81,
   "metadata": {},
   "outputs": [
    {
     "name": "stdout",
     "output_type": "stream",
     "text": [
      " 3981450 Mcap/Mcap_RRBS_5x.bed\r\n"
     ]
    }
   ],
   "source": [
    "!wc -l Mcap/Mcap_RRBS_5x.bed"
   ]
  },
  {
   "cell_type": "markdown",
   "metadata": {},
   "source": [
    "#### QC check"
   ]
  },
  {
   "cell_type": "code",
   "execution_count": null,
   "metadata": {},
   "outputs": [],
   "source": [
    "#check if awk sort uniq gives the same number of loci as bedtools merge"
   ]
  },
  {
   "cell_type": "code",
   "execution_count": 82,
   "metadata": {},
   "outputs": [
    {
     "name": "stdout",
     "output_type": "stream",
     "text": [
      "1\t3493\t3495\r\n",
      "1\t3518\t3520\r\n",
      "1\t3727\t3729\r\n",
      "awk: write error on /dev/stdout\r\n",
      " input record number 2106, file \r\n",
      " source line number 1\r\n",
      "cat: stdout: Broken pipe\r\n"
     ]
    }
   ],
   "source": [
    "!cat \\\n",
    "Mcap/Meth13_R1_001_val_1_bismark_bt2_pe._5x.bedgraph \\\n",
    "Mcap/Meth14_R1_001_val_1_bismark_bt2_pe._5x.bedgraph \\\n",
    "Mcap/Meth15_R1_001_val_1_bismark_bt2_pe._5x.bedgraph |\\\n",
    "awk -F\"\\t\" '{print $1\"\\t\"$2\"\\t\"$3}' |\\\n",
    "head -3"
   ]
  },
  {
   "cell_type": "code",
   "execution_count": 84,
   "metadata": {},
   "outputs": [],
   "source": [
    "!cat \\\n",
    "Mcap/Meth13_R1_001_val_1_bismark_bt2_pe._5x.bedgraph \\\n",
    "Mcap/Meth14_R1_001_val_1_bismark_bt2_pe._5x.bedgraph \\\n",
    "Mcap/Meth15_R1_001_val_1_bismark_bt2_pe._5x.bedgraph |\\\n",
    "awk -F\"\\t\" '{print $1\"\\t\"$2\"\\t\"$3}' |\\\n",
    "sort |\\\n",
    "uniq \\\n",
    "> Mcap/Mcap_RRBS_5x.QCbed"
   ]
  },
  {
   "cell_type": "code",
   "execution_count": 85,
   "metadata": {},
   "outputs": [
    {
     "name": "stdout",
     "output_type": "stream",
     "text": [
      " 3981450 Mcap/Mcap_RRBS_5x.QCbed\r\n"
     ]
    }
   ],
   "source": [
    "!wc -l Mcap/Mcap_RRBS_5x.QCbed"
   ]
  },
  {
   "cell_type": "markdown",
   "metadata": {},
   "source": [
    "QC is good, line counts in files match:\n",
    "    \n",
    "- 3981450 Mcap/Mcap_RRBS_5x.bed\n",
    "- 3981450 Mcap/Mcap_RRBS_5x.QCbed"
   ]
  },
  {
   "cell_type": "code",
   "execution_count": null,
   "metadata": {},
   "outputs": [],
   "source": [
    "#merge bed files for WGBS samples"
   ]
  },
  {
   "cell_type": "code",
   "execution_count": 86,
   "metadata": {},
   "outputs": [],
   "source": [
    "!cat \\\n",
    "Mcap/Meth10_R1_001_val_1_bismark_bt2_pe._5x.bedgraph \\\n",
    "Mcap/Meth11_R1_001_val_1_bismark_bt2_pe._5x.bedgraph \\\n",
    "Mcap/Meth12_R1_001_val_1_bismark_bt2_pe._5x.bedgraph |\\\n",
    "/Users/Shared/bioinformatics/bedtools2/bin/sortBed \\\n",
    "-i stdin |\\\n",
    "/Users/Shared/bioinformatics/bedtools2/bin/mergeBed \\\n",
    "-d -1 \\\n",
    "-i stdin \\\n",
    "> Mcap/Mcap_WGBS_5x.bed\n"
   ]
  },
  {
   "cell_type": "code",
   "execution_count": 87,
   "metadata": {
    "scrolled": true
   },
   "outputs": [
    {
     "name": "stdout",
     "output_type": "stream",
     "text": [
      " 4571288 Mcap/Meth10_R1_001_val_1_bismark_bt2_pe._5x.bedgraph\n",
      " 4661716 Mcap/Meth11_R1_001_val_1_bismark_bt2_pe._5x.bedgraph\n",
      " 8791700 Mcap/Meth12_R1_001_val_1_bismark_bt2_pe._5x.bedgraph\n"
     ]
    }
   ],
   "source": [
    "!wc -l Mcap/Meth10_R1_001_val_1_bismark_bt2_pe._5x.bedgraph \n",
    "!wc -l Mcap/Meth11_R1_001_val_1_bismark_bt2_pe._5x.bedgraph \n",
    "!wc -l Mcap/Meth12_R1_001_val_1_bismark_bt2_pe._5x.bedgraph \n"
   ]
  },
  {
   "cell_type": "code",
   "execution_count": 88,
   "metadata": {},
   "outputs": [
    {
     "name": "stdout",
     "output_type": "stream",
     "text": [
      " 11509837 Mcap/Mcap_WGBS_5x.bed\r\n"
     ]
    }
   ],
   "source": [
    "!wc -l Mcap/Mcap_WGBS_5x.bed"
   ]
  },
  {
   "cell_type": "markdown",
   "metadata": {},
   "source": [
    "#### QC check"
   ]
  },
  {
   "cell_type": "code",
   "execution_count": 89,
   "metadata": {},
   "outputs": [],
   "source": [
    "!cat \\\n",
    "Mcap/Meth10_R1_001_val_1_bismark_bt2_pe._5x.bedgraph \\\n",
    "Mcap/Meth11_R1_001_val_1_bismark_bt2_pe._5x.bedgraph \\\n",
    "Mcap/Meth12_R1_001_val_1_bismark_bt2_pe._5x.bedgraph |\\\n",
    "awk -F\"\\t\" '{print $1\"\\t\"$2\"\\t\"$3}' |\\\n",
    "sort |\\\n",
    "uniq \\\n",
    "> Mcap/Mcap_WGBS_5x.QCbed"
   ]
  },
  {
   "cell_type": "code",
   "execution_count": 90,
   "metadata": {},
   "outputs": [
    {
     "name": "stdout",
     "output_type": "stream",
     "text": [
      " 11509837 Mcap/Mcap_WGBS_5x.QCbed\r\n"
     ]
    }
   ],
   "source": [
    "!wc -l Mcap/Mcap_WGBS_5x.QCbed"
   ]
  },
  {
   "cell_type": "markdown",
   "metadata": {},
   "source": [
    "QC check is good, line counts match for files:\n",
    "\n",
    "- 11509837 Mcap/Mcap_WGBS_5x.bed\n",
    "- 11509837 Mcap/Mcap_WGBS_5x.QCbed"
   ]
  },
  {
   "cell_type": "code",
   "execution_count": 91,
   "metadata": {},
   "outputs": [],
   "source": [
    "#merge bed files for MBD-BS samples"
   ]
  },
  {
   "cell_type": "code",
   "execution_count": 92,
   "metadata": {},
   "outputs": [],
   "source": [
    "!cat \\\n",
    "Mcap/Meth16_R1_001_val_1_bismark_bt2_pe._5x.bedgraph \\\n",
    "Mcap/Meth17_R1_001_val_1_bismark_bt2_pe._5x.bedgraph \\\n",
    "Mcap/Meth18_R1_001_val_1_bismark_bt2_pe._5x.bedgraph |\\\n",
    "/Users/Shared/bioinformatics/bedtools2/bin/sortBed \\\n",
    "-i stdin |\\\n",
    "/Users/Shared/bioinformatics/bedtools2/bin/mergeBed \\\n",
    "-d -1 \\\n",
    "-i stdin \\\n",
    "> Mcap/Mcap_MBD_5x.bed\n"
   ]
  },
  {
   "cell_type": "code",
   "execution_count": 93,
   "metadata": {
    "scrolled": true
   },
   "outputs": [
    {
     "name": "stdout",
     "output_type": "stream",
     "text": [
      "  583599 Mcap/Meth16_R1_001_val_1_bismark_bt2_pe._5x.bedgraph\n",
      "  242390 Mcap/Meth17_R1_001_val_1_bismark_bt2_pe._5x.bedgraph\n",
      "  153392 Mcap/Meth18_R1_001_val_1_bismark_bt2_pe._5x.bedgraph\n"
     ]
    }
   ],
   "source": [
    "!wc -l Mcap/Meth16_R1_001_val_1_bismark_bt2_pe._5x.bedgraph \n",
    "!wc -l Mcap/Meth17_R1_001_val_1_bismark_bt2_pe._5x.bedgraph \n",
    "!wc -l Mcap/Meth18_R1_001_val_1_bismark_bt2_pe._5x.bedgraph \n"
   ]
  },
  {
   "cell_type": "code",
   "execution_count": 94,
   "metadata": {},
   "outputs": [
    {
     "name": "stdout",
     "output_type": "stream",
     "text": [
      "  866555 Mcap/Mcap_MBD_5x.bed\r\n"
     ]
    }
   ],
   "source": [
    "!wc -l Mcap/Mcap_MBD_5x.bed"
   ]
  },
  {
   "cell_type": "markdown",
   "metadata": {},
   "source": [
    "#### QC check"
   ]
  },
  {
   "cell_type": "code",
   "execution_count": 95,
   "metadata": {},
   "outputs": [],
   "source": [
    "!cat \\\n",
    "Mcap/Meth16_R1_001_val_1_bismark_bt2_pe._5x.bedgraph \\\n",
    "Mcap/Meth17_R1_001_val_1_bismark_bt2_pe._5x.bedgraph \\\n",
    "Mcap/Meth18_R1_001_val_1_bismark_bt2_pe._5x.bedgraph |\\\n",
    "awk -F\"\\t\" '{print $1\"\\t\"$2\"\\t\"$3}' |\\\n",
    "sort |\\\n",
    "uniq \\\n",
    "> Mcap/Mcap_MBD_5x.QCbed"
   ]
  },
  {
   "cell_type": "code",
   "execution_count": 96,
   "metadata": {},
   "outputs": [
    {
     "name": "stdout",
     "output_type": "stream",
     "text": [
      "  866555 Mcap/Mcap_MBD_5x.QCbed\r\n"
     ]
    }
   ],
   "source": [
    "!wc -l Mcap/Mcap_MBD_5x.QCbed"
   ]
  },
  {
   "cell_type": "markdown",
   "metadata": {},
   "source": [
    "QC is good, line counts match in files:\n",
    "    \n",
    "- 866555 Mcap/Mcap_MBD_5x.bed\n",
    "- 866555 Mcap/Mcap_MBD_5x.QCbed"
   ]
  },
  {
   "cell_type": "markdown",
   "metadata": {},
   "source": [
    "### Part 2: Generate genome CpG bedgraph"
   ]
  },
  {
   "cell_type": "code",
   "execution_count": 97,
   "metadata": {},
   "outputs": [],
   "source": [
    "#get genome CpG data"
   ]
  },
  {
   "cell_type": "code",
   "execution_count": 98,
   "metadata": {},
   "outputs": [
    {
     "name": "stdout",
     "output_type": "stream",
     "text": [
      "/Users/strigg/Documents/GitHub/Meth_Compare/data/Mcap\n"
     ]
    }
   ],
   "source": [
    "cd Mcap"
   ]
  },
  {
   "cell_type": "code",
   "execution_count": 99,
   "metadata": {},
   "outputs": [
    {
     "name": "stdout",
     "output_type": "stream",
     "text": [
      "--2020-05-04 15:15:42--  https://gannet.fish.washington.edu/seashell/bu-github/Meth_Compare/genome-feature-files/Mcap_CpG.gff\n",
      "Resolving gannet.fish.washington.edu... 128.95.149.52\n",
      "Connecting to gannet.fish.washington.edu|128.95.149.52|:443... connected.\n",
      "HTTP request sent, awaiting response... 200 OK\n",
      "Length: 2635935327 (2.5G)\n",
      "Saving to: ‘Mcap_CpG.gff’\n",
      "\n",
      "Mcap_CpG.gff        100%[===================>]   2.45G  71.7MB/s    in 35s     \n",
      "\n",
      "2020-05-04 15:16:18 (71.3 MB/s) - ‘Mcap_CpG.gff’ saved [2635935327/2635935327]\n",
      "\n"
     ]
    }
   ],
   "source": [
    "!wget \\\n",
    "https://gannet.fish.washington.edu/seashell/bu-github/Meth_Compare/genome-feature-files/Mcap_CpG.gff"
   ]
  },
  {
   "cell_type": "code",
   "execution_count": 100,
   "metadata": {},
   "outputs": [],
   "source": [
    "#create bedgraph file from CpG.gff"
   ]
  },
  {
   "cell_type": "code",
   "execution_count": 101,
   "metadata": {},
   "outputs": [],
   "source": [
    "!awk -F\"\\t\" '{print $1\"\\t\"$4\"\\t\"$5}' Mcap_CpG.gff |\\\n",
    "/Users/Shared/bioinformatics/bedtools2/bin/sortBed \\\n",
    "-i stdin |\\\n",
    "awk -F\"\\t\" '{print $0\"\\t\"1}' \\\n",
    "> Mcap_CpG.bedgraph"
   ]
  },
  {
   "cell_type": "code",
   "execution_count": 102,
   "metadata": {},
   "outputs": [
    {
     "name": "stdout",
     "output_type": "stream",
     "text": [
      "1\t37\t38\t1\r\n",
      "1\t90\t91\t1\r\n",
      "1\t121\t122\t1\r\n",
      "1\t132\t133\t1\r\n",
      "1\t153\t154\t1\r\n",
      "1\t170\t171\t1\r\n",
      "1\t220\t221\t1\r\n",
      "1\t224\t225\t1\r\n",
      "1\t233\t234\t1\r\n",
      "1\t272\t273\t1\r\n"
     ]
    }
   ],
   "source": [
    "!head Mcap_CpG.bedgraph"
   ]
  },
  {
   "cell_type": "markdown",
   "metadata": {},
   "source": [
    "### Part 3:  Reformat method CpG bedgraphs\n",
    "\n",
    "Bedtools mergeBed only outputs 3 columns (chromosome, start, end)\n",
    "and removes column 4 from the original bedgraphs.\n",
    "\n",
    "So I need to add a 4th column back to these bed files in order to run Bedtools unionBed. \n",
    "\n",
    "Also, the genome CpG gff and bedgraph coordinates have only 1 basepair between them where the merged 5x bedgraphs have 2 basepairs between. So I need to offset these by adding 1 to the start position.\n",
    "\n"
   ]
  },
  {
   "cell_type": "code",
   "execution_count": null,
   "metadata": {},
   "outputs": [],
   "source": [
    "#loop through all 5x.bed files I generated \n",
    "# add 1 to the start position of each loci (line)\n",
    "# and add a 4th column containing 1 "
   ]
  },
  {
   "cell_type": "code",
   "execution_count": 104,
   "metadata": {},
   "outputs": [],
   "source": [
    "%%bash \n",
    "\n",
    "for f in *5x.bed\n",
    "do\n",
    "awk -F\"\\t\" '{print $1\"\\t\"$2+1\"\\t\"$3\"\\t\"1}' \\\n",
    "${f} \\\n",
    "> $(basename ${f%.bed}).bedgraph\n",
    "done"
   ]
  },
  {
   "cell_type": "markdown",
   "metadata": {},
   "source": [
    "### Part 4:  Generate union bedgraph "
   ]
  },
  {
   "cell_type": "code",
   "execution_count": 105,
   "metadata": {},
   "outputs": [],
   "source": [
    "#create union bed file"
   ]
  },
  {
   "cell_type": "code",
   "execution_count": 106,
   "metadata": {},
   "outputs": [],
   "source": [
    "!/Users/Shared/bioinformatics/bedtools2/bin/unionBedGraphs \\\n",
    "-header \\\n",
    "-filler N/A \\\n",
    "-names ALL WGBS RRBS MBD \\\n",
    "-i \\\n",
    "Mcap_CpG.bedgraph \\\n",
    "Mcap_WGBS_5x.bedgraph \\\n",
    "Mcap_RRBS_5x.bedgraph \\\n",
    "Mcap_MBD_5x.bedgraph \\\n",
    "> Mcap_method_union_5x.bedgraph"
   ]
  },
  {
   "cell_type": "code",
   "execution_count": 107,
   "metadata": {
    "scrolled": true
   },
   "outputs": [
    {
     "name": "stdout",
     "output_type": "stream",
     "text": [
      "chrom\tstart\tend\tALL\tWGBS\tRRBS\tMBD\r\n",
      "1\t37\t38\t1\tN/A\tN/A\tN/A\r\n",
      "1\t90\t91\t1\tN/A\tN/A\tN/A\r\n",
      "1\t121\t122\t1\tN/A\tN/A\tN/A\r\n",
      "1\t132\t133\t1\tN/A\tN/A\tN/A\r\n",
      "1\t153\t154\t1\tN/A\tN/A\tN/A\r\n",
      "1\t170\t171\t1\tN/A\tN/A\tN/A\r\n",
      "1\t220\t221\t1\tN/A\tN/A\tN/A\r\n",
      "1\t224\t225\t1\tN/A\tN/A\tN/A\r\n",
      "1\t233\t234\t1\tN/A\tN/A\tN/A\r\n"
     ]
    }
   ],
   "source": [
    "!head Mcap_method_union_5x.bedgraph"
   ]
  },
  {
   "cell_type": "markdown",
   "metadata": {},
   "source": [
    "### Part 5: Create input table for Upset plotting in R using union bedgraph"
   ]
  },
  {
   "cell_type": "code",
   "execution_count": 109,
   "metadata": {},
   "outputs": [],
   "source": [
    "#replace NA with zeros and\n",
    "#combine fields 1-3 into 1 string that will serve as rowname\n",
    "!cat Mcap_method_union_5x.bedgraph |\\\n",
    "sed 's/N\\/A/0/g' |\\\n",
    "awk -F\"\\t\" '{print$1\"_\"$2\"_\"$3\"\\t\"$4\"\\t\"$5\"\\t\"$6\"\\t\"$7}' \\\n",
    "> Mcap_method_union_5x_matrix.tsv"
   ]
  },
  {
   "cell_type": "code",
   "execution_count": 110,
   "metadata": {},
   "outputs": [],
   "source": [
    "#preview file"
   ]
  },
  {
   "cell_type": "code",
   "execution_count": 111,
   "metadata": {},
   "outputs": [
    {
     "name": "stdout",
     "output_type": "stream",
     "text": [
      "chrom_start_end\tALL\tWGBS\tRRBS\tMBD\r\n",
      "1_37_38\t1\t0\t0\t0\r\n",
      "1_90_91\t1\t0\t0\t0\r\n",
      "1_121_122\t1\t0\t0\t0\r\n",
      "1_132_133\t1\t0\t0\t0\r\n",
      "1_153_154\t1\t0\t0\t0\r\n",
      "1_170_171\t1\t0\t0\t0\r\n",
      "1_220_221\t1\t0\t0\t0\r\n",
      "1_224_225\t1\t0\t0\t0\r\n",
      "1_233_234\t1\t0\t0\t0\r\n"
     ]
    }
   ],
   "source": [
    "!head Mcap_method_union_5x_matrix.tsv"
   ]
  },
  {
   "cell_type": "code",
   "execution_count": 112,
   "metadata": {},
   "outputs": [
    {
     "name": "stdout",
     "output_type": "stream",
     "text": [
      " 28675391 Mcap_method_union_5x_matrix.tsv\r\n"
     ]
    }
   ],
   "source": [
    "!wc -l Mcap_method_union_5x_matrix.tsv"
   ]
  },
  {
   "cell_type": "markdown",
   "metadata": {},
   "source": [
    "### Part 6: parse out CpGs from different method combinations for tracks and feature analysis"
   ]
  },
  {
   "cell_type": "code",
   "execution_count": 114,
   "metadata": {},
   "outputs": [],
   "source": [
    "#CpGs commonly detected across all methods"
   ]
  },
  {
   "cell_type": "code",
   "execution_count": 115,
   "metadata": {},
   "outputs": [],
   "source": [
    "!awk -F\"\\t\" '{if(($4==1)&&($5==1)&&($6==1)&&($7==1))print $0}' \\\n",
    "Mcap_method_union_5x.bedgraph \\\n",
    "> Mcap_WGBS_RRBS_MBD_only_CpGs.bed\n"
   ]
  },
  {
   "cell_type": "code",
   "execution_count": 116,
   "metadata": {},
   "outputs": [],
   "source": [
    "#CpGs detected by MBD and WGBS only "
   ]
  },
  {
   "cell_type": "code",
   "execution_count": 117,
   "metadata": {},
   "outputs": [],
   "source": [
    "!awk -F\"\\t\" '{if(($4==1)&&($5==1)&&($6==\"N\\/A\")&&($7==1))print $0}' \\\n",
    "Mcap_method_union_5x.bedgraph \\\n",
    "> Mcap_WGBS_MBD_only_CpGs.bed"
   ]
  },
  {
   "cell_type": "code",
   "execution_count": 118,
   "metadata": {},
   "outputs": [],
   "source": [
    "#CpGs detected by to MBD and RRBS only"
   ]
  },
  {
   "cell_type": "code",
   "execution_count": 119,
   "metadata": {},
   "outputs": [],
   "source": [
    "!awk -F\"\\t\" '{if(($4==1)&&($5==\"N\\/A\")&&($6==1)&&($7==1))print $0}' \\\n",
    "Mcap_method_union_5x.bedgraph \\\n",
    "> Mcap_RRBS_MBD_only_CpGs.bed"
   ]
  },
  {
   "cell_type": "code",
   "execution_count": 120,
   "metadata": {},
   "outputs": [],
   "source": [
    "#CpGs detected by WGBS and RRBS only"
   ]
  },
  {
   "cell_type": "code",
   "execution_count": 121,
   "metadata": {},
   "outputs": [],
   "source": [
    "!awk -F\"\\t\" '{if(($4==1)&&($5==1)&&($6==1)&&($7==\"N\\/A\"))print $0}' \\\n",
    "Mcap_method_union_5x.bedgraph \\\n",
    "> Mcap_WGBS_RRBS_only_CpGs.bed"
   ]
  },
  {
   "cell_type": "code",
   "execution_count": 122,
   "metadata": {},
   "outputs": [],
   "source": [
    "#CpGs detected by WGBS only"
   ]
  },
  {
   "cell_type": "code",
   "execution_count": 123,
   "metadata": {},
   "outputs": [],
   "source": [
    "!awk -F\"\\t\" '{if(($4==1)&&($5==1)&&($6==\"N\\/A\")&&($7==\"N\\/A\"))print $0}' \\\n",
    "Mcap_method_union_5x.bedgraph \\\n",
    "> Mcap_WGBS_only_CpGs.bed"
   ]
  },
  {
   "cell_type": "code",
   "execution_count": 124,
   "metadata": {},
   "outputs": [],
   "source": [
    "#CpGs detected by RRBS only"
   ]
  },
  {
   "cell_type": "code",
   "execution_count": 125,
   "metadata": {},
   "outputs": [],
   "source": [
    "!awk -F\"\\t\" '{if(($4==1)&&($5==\"N\\/A\")&&($6==1)&&($7==\"N\\/A\"))print $0}' \\\n",
    "Mcap_method_union_5x.bedgraph \\\n",
    "> Mcap_RRBS_only_CpGs.bed"
   ]
  },
  {
   "cell_type": "code",
   "execution_count": 126,
   "metadata": {},
   "outputs": [],
   "source": [
    "#CpGs detected by MBD only"
   ]
  },
  {
   "cell_type": "code",
   "execution_count": 127,
   "metadata": {},
   "outputs": [],
   "source": [
    "!awk -F\"\\t\" '{if(($4==1)&&($5==\"N\\/A\")&&($6==\"N\\/A\")&&($7==1))print $0}' \\\n",
    "Mcap_method_union_5x.bedgraph \\\n",
    "> Mcap_MBD_only_CpGs.bed"
   ]
  },
  {
   "cell_type": "code",
   "execution_count": 128,
   "metadata": {},
   "outputs": [],
   "source": [
    "#CpGs not detected by any method"
   ]
  },
  {
   "cell_type": "code",
   "execution_count": 129,
   "metadata": {},
   "outputs": [],
   "source": [
    "!awk -F\"\\t\" '{if(($4==1)&&($5==\"N\\/A\")&&($6==\"N\\/A\")&&($7==\"N\\/A\"))print $0}' \\\n",
    "Mcap_method_union_5x.bedgraph \\\n",
    "> Mcap_no_method_CpGs.bed"
   ]
  },
  {
   "cell_type": "markdown",
   "metadata": {},
   "source": [
    "#### QC check: \n",
    "all line counts from individual bed files should add up to lines in union bed file"
   ]
  },
  {
   "cell_type": "code",
   "execution_count": 130,
   "metadata": {
    "scrolled": false
   },
   "outputs": [
    {
     "name": "stdout",
     "output_type": "stream",
     "text": [
      "   88218 Mcap_MBD_only_CpGs.bed\n",
      "   19873 Mcap_RRBS_MBD_only_CpGs.bed\n",
      " 1722340 Mcap_RRBS_only_CpGs.bed\n",
      "  577695 Mcap_WGBS_MBD_only_CpGs.bed\n",
      "  180769 Mcap_WGBS_RRBS_MBD_only_CpGs.bed\n",
      " 2058468 Mcap_WGBS_RRBS_only_CpGs.bed\n",
      " 8692905 Mcap_WGBS_only_CpGs.bed\n",
      " 15335122 Mcap_no_method_CpGs.bed\n",
      " 28675390 total\n"
     ]
    }
   ],
   "source": [
    "!wc -l *_CpGs.bed"
   ]
  },
  {
   "cell_type": "code",
   "execution_count": null,
   "metadata": {},
   "outputs": [],
   "source": [
    "QC check is good, line count in union file matches the total:\n",
    "\n",
    "- 28675391 Mcap_method_union_5x_matrix.tsv  (contains header)"
   ]
  },
  {
   "cell_type": "code",
   "execution_count": null,
   "metadata": {},
   "outputs": [],
   "source": [
    "## Copy all output to Gannet"
   ]
  },
  {
   "cell_type": "code",
   "execution_count": 131,
   "metadata": {},
   "outputs": [],
   "source": [
    "mkdir /Volumes/web/metacarcinus/FROGER_meth_compare/20200504"
   ]
  },
  {
   "cell_type": "markdown",
   "metadata": {},
   "source": [
    "!rsync \\\n",
    "--progress \\\n",
    "--verbose \\\n",
    "--archive \\\n",
    "--exclude \"gannet.fish.washington.edu\" \\\n",
    "/Users/strigg/Documents/GitHub/Meth_Compare/data \\\n",
    "/Volumes/web/metacarcinus/FROGER_meth_compare/20200504"
   ]
  },
  {
   "cell_type": "markdown",
   "metadata": {},
   "source": [
    "### Output lives here:\n",
    "\n",
    "[https://gannet.fish.washington.edu/metacarcinus/FROGER_meth_compare/20200504/data/](https://gannet.fish.washington.edu/metacarcinus/FROGER_meth_compare/20200504/data/)"
   ]
  },
  {
   "cell_type": "markdown",
   "metadata": {},
   "source": [
    "****"
   ]
  },
  {
   "cell_type": "markdown",
   "metadata": {},
   "source": [
    "## 2020-05-01 \n",
    "#### below is preliminary code to generate Upset plot input data\n",
    "output from code is here:  \n",
    "[https://gannet.fish.washington.edu/metacarcinus/FROGER_meth_compare/20200501/data/](https://gannet.fish.washington.edu/metacarcinus/FROGER_meth_compare/20200501/data/)"
   ]
  },
  {
   "cell_type": "code",
   "execution_count": null,
   "metadata": {},
   "outputs": [],
   "source": [
    "#get data"
   ]
  },
  {
   "cell_type": "code",
   "execution_count": 2,
   "metadata": {},
   "outputs": [
    {
     "name": "stdout",
     "output_type": "stream",
     "text": [
      "/Users/strigg/Documents/GitHub/Meth_Compare/data\n"
     ]
    }
   ],
   "source": [
    "cd ../data"
   ]
  },
  {
   "cell_type": "code",
   "execution_count": 2,
   "metadata": {},
   "outputs": [
    {
     "name": "stdout",
     "output_type": "stream",
     "text": [
      "--2020-05-01 11:27:45--  https://gannet.fish.washington.edu/seashell/bu-mox/scrubbed/031520-TG-bs/Pact_tg/dedup/\n",
      "Resolving gannet.fish.washington.edu... 128.95.149.52\n",
      "Connecting to gannet.fish.washington.edu|128.95.149.52|:443... connected.\n",
      "HTTP request sent, awaiting response... 200 OK\n",
      "Length: unspecified [text/html]\n",
      "Saving to: ‘./index.html’\n",
      "\n",
      "index.html              [ <=>                ]  42.11K  --.-KB/s    in 0.001s  \n",
      "\n",
      "2020-05-01 11:27:46 (42.1 MB/s) - ‘./index.html’ saved [43123]\n",
      "\n",
      "Loading robots.txt; please ignore errors.\n",
      "--2020-05-01 11:27:46--  https://gannet.fish.washington.edu/robots.txt\n",
      "Reusing existing connection to gannet.fish.washington.edu:443.\n",
      "HTTP request sent, awaiting response... 404 Not Found\n",
      "2020-05-01 11:27:46 ERROR 404: Not Found.\n",
      "\n",
      "Removing ./index.html since it should be rejected.\n",
      "\n",
      "--2020-05-01 11:27:46--  https://gannet.fish.washington.edu/seashell/bu-mox/scrubbed/031520-TG-bs/Pact_tg/dedup/?C=N;O=D\n",
      "Reusing existing connection to gannet.fish.washington.edu:443.\n",
      "HTTP request sent, awaiting response... 200 OK\n",
      "Length: unspecified [text/html]\n",
      "Saving to: ‘./index.html?C=N;O=D’\n",
      "\n",
      "index.html?C=N;O=D      [ <=>                ]  42.11K  --.-KB/s    in 0.001s  \n",
      "\n",
      "2020-05-01 11:27:47 (49.1 MB/s) - ‘./index.html?C=N;O=D’ saved [43123]\n",
      "\n",
      "Removing ./index.html?C=N;O=D since it should be rejected.\n",
      "\n",
      "--2020-05-01 11:27:47--  https://gannet.fish.washington.edu/seashell/bu-mox/scrubbed/031520-TG-bs/Pact_tg/dedup/?C=M;O=A\n",
      "Reusing existing connection to gannet.fish.washington.edu:443.\n",
      "HTTP request sent, awaiting response... 200 OK\n",
      "Length: unspecified [text/html]\n",
      "Saving to: ‘./index.html?C=M;O=A’\n",
      "\n",
      "index.html?C=M;O=A      [ <=>                ]  42.11K  --.-KB/s    in 0.001s  \n",
      "\n",
      "2020-05-01 11:27:48 (49.1 MB/s) - ‘./index.html?C=M;O=A’ saved [43123]\n",
      "\n",
      "Removing ./index.html?C=M;O=A since it should be rejected.\n",
      "\n",
      "--2020-05-01 11:27:48--  https://gannet.fish.washington.edu/seashell/bu-mox/scrubbed/031520-TG-bs/Pact_tg/dedup/?C=S;O=A\n",
      "Reusing existing connection to gannet.fish.washington.edu:443.\n",
      "HTTP request sent, awaiting response... 200 OK\n",
      "Length: unspecified [text/html]\n",
      "Saving to: ‘./index.html?C=S;O=A’\n",
      "\n",
      "index.html?C=S;O=A      [ <=>                ]  42.11K  --.-KB/s    in 0.001s  \n",
      "\n",
      "2020-05-01 11:27:49 (50.5 MB/s) - ‘./index.html?C=S;O=A’ saved [43123]\n",
      "\n",
      "Removing ./index.html?C=S;O=A since it should be rejected.\n",
      "\n",
      "--2020-05-01 11:27:49--  https://gannet.fish.washington.edu/seashell/bu-mox/scrubbed/031520-TG-bs/Pact_tg/dedup/?C=D;O=A\n",
      "Reusing existing connection to gannet.fish.washington.edu:443.\n",
      "HTTP request sent, awaiting response... 200 OK\n",
      "Length: unspecified [text/html]\n",
      "Saving to: ‘./index.html?C=D;O=A’\n",
      "\n",
      "index.html?C=D;O=A      [ <=>                ]  42.11K  --.-KB/s    in 0.001s  \n",
      "\n",
      "2020-05-01 11:27:50 (50.0 MB/s) - ‘./index.html?C=D;O=A’ saved [43123]\n",
      "\n",
      "Removing ./index.html?C=D;O=A since it should be rejected.\n",
      "\n",
      "--2020-05-01 11:27:50--  https://gannet.fish.washington.edu/seashell/bu-mox/scrubbed/031520-TG-bs/Pact_tg/dedup/Meth1_R1_001_val_1_bismark_bt2_pe._5x.tab\n",
      "Reusing existing connection to gannet.fish.washington.edu:443.\n",
      "HTTP request sent, awaiting response... 200 OK\n",
      "Length: 251446400 (240M)\n",
      "Saving to: ‘./Meth1_R1_001_val_1_bismark_bt2_pe._5x.tab’\n",
      "\n",
      "Meth1_R1_001_val_1_ 100%[===================>] 239.80M  67.4MB/s    in 3.6s    \n",
      "\n",
      "2020-05-01 11:27:53 (67.1 MB/s) - ‘./Meth1_R1_001_val_1_bismark_bt2_pe._5x.tab’ saved [251446400/251446400]\n",
      "\n",
      "--2020-05-01 11:27:54--  https://gannet.fish.washington.edu/seashell/bu-mox/scrubbed/031520-TG-bs/Pact_tg/dedup/Meth2_R1_001_val_1_bismark_bt2_pe._5x.tab\n",
      "Reusing existing connection to gannet.fish.washington.edu:443.\n",
      "HTTP request sent, awaiting response... 200 OK\n",
      "Length: 289019583 (276M)\n",
      "Saving to: ‘./Meth2_R1_001_val_1_bismark_bt2_pe._5x.tab’\n",
      "\n",
      "Meth2_R1_001_val_1_ 100%[===================>] 275.63M  70.0MB/s    in 4.0s    \n",
      "\n",
      "2020-05-01 11:27:57 (69.6 MB/s) - ‘./Meth2_R1_001_val_1_bismark_bt2_pe._5x.tab’ saved [289019583/289019583]\n",
      "\n",
      "--2020-05-01 11:27:58--  https://gannet.fish.washington.edu/seashell/bu-mox/scrubbed/031520-TG-bs/Pact_tg/dedup/Meth3_R1_001_val_1_bismark_bt2_pe._5x.tab\n",
      "Reusing existing connection to gannet.fish.washington.edu:443.\n",
      "HTTP request sent, awaiting response... 200 OK\n",
      "Length: 266285364 (254M)\n",
      "Saving to: ‘./Meth3_R1_001_val_1_bismark_bt2_pe._5x.tab’\n",
      "\n",
      "Meth3_R1_001_val_1_ 100%[===================>] 253.95M  69.6MB/s    in 3.7s    \n",
      "\n",
      "2020-05-01 11:28:01 (69.5 MB/s) - ‘./Meth3_R1_001_val_1_bismark_bt2_pe._5x.tab’ saved [266285364/266285364]\n",
      "\n",
      "--2020-05-01 11:28:02--  https://gannet.fish.washington.edu/seashell/bu-mox/scrubbed/031520-TG-bs/Pact_tg/dedup/Meth7_R1_001_val_1_bismark_bt2_pe._5x.tab\n",
      "Reusing existing connection to gannet.fish.washington.edu:443.\n",
      "HTTP request sent, awaiting response... 200 OK\n",
      "Length: 119267483 (114M)\n",
      "Saving to: ‘./Meth7_R1_001_val_1_bismark_bt2_pe._5x.tab’\n",
      "\n",
      "Meth7_R1_001_val_1_ 100%[===================>] 113.74M  68.4MB/s    in 1.7s    \n",
      "\n",
      "2020-05-01 11:28:03 (68.4 MB/s) - ‘./Meth7_R1_001_val_1_bismark_bt2_pe._5x.tab’ saved [119267483/119267483]\n",
      "\n",
      "--2020-05-01 11:28:03--  https://gannet.fish.washington.edu/seashell/bu-mox/scrubbed/031520-TG-bs/Pact_tg/dedup/Meth8_R1_001_val_1_bismark_bt2_pe._5x.tab\n",
      "Reusing existing connection to gannet.fish.washington.edu:443.\n",
      "HTTP request sent, awaiting response... 200 OK\n",
      "Length: 24249961 (23M)\n",
      "Saving to: ‘./Meth8_R1_001_val_1_bismark_bt2_pe._5x.tab’\n",
      "\n",
      "Meth8_R1_001_val_1_ 100%[===================>]  23.13M  65.8MB/s    in 0.4s    \n",
      "\n",
      "2020-05-01 11:28:04 (65.8 MB/s) - ‘./Meth8_R1_001_val_1_bismark_bt2_pe._5x.tab’ saved [24249961/24249961]\n",
      "\n",
      "--2020-05-01 11:28:04--  https://gannet.fish.washington.edu/seashell/bu-mox/scrubbed/031520-TG-bs/Pact_tg/dedup/Meth9_R1_001_val_1_bismark_bt2_pe._5x.tab\n",
      "Reusing existing connection to gannet.fish.washington.edu:443.\n",
      "HTTP request sent, awaiting response... 200 OK\n",
      "Length: 123420028 (118M)\n",
      "Saving to: ‘./Meth9_R1_001_val_1_bismark_bt2_pe._5x.tab’\n",
      "\n",
      "Meth9_R1_001_val_1_ 100%[===================>] 117.70M  69.1MB/s    in 1.7s    \n",
      "\n",
      "2020-05-01 11:28:06 (69.1 MB/s) - ‘./Meth9_R1_001_val_1_bismark_bt2_pe._5x.tab’ saved [123420028/123420028]\n",
      "\n",
      "--2020-05-01 11:28:06--  https://gannet.fish.washington.edu/seashell/bu-mox/scrubbed/031520-TG-bs/Pact_tg/dedup/?C=N;O=A\n",
      "Reusing existing connection to gannet.fish.washington.edu:443.\n",
      "HTTP request sent, awaiting response... 200 OK\n",
      "Length: unspecified [text/html]\n",
      "Saving to: ‘./index.html?C=N;O=A’\n",
      "\n",
      "index.html?C=N;O=A      [ <=>                ]  42.11K  --.-KB/s    in 0.001s  \n",
      "\n",
      "2020-05-01 11:28:07 (48.8 MB/s) - ‘./index.html?C=N;O=A’ saved [43123]\n",
      "\n",
      "Removing ./index.html?C=N;O=A since it should be rejected.\n",
      "\n",
      "--2020-05-01 11:28:07--  https://gannet.fish.washington.edu/seashell/bu-mox/scrubbed/031520-TG-bs/Pact_tg/dedup/?C=M;O=D\n",
      "Reusing existing connection to gannet.fish.washington.edu:443.\n",
      "HTTP request sent, awaiting response... 200 OK\n",
      "Length: unspecified [text/html]\n",
      "Saving to: ‘./index.html?C=M;O=D’\n",
      "\n",
      "index.html?C=M;O=D      [ <=>                ]  42.11K  --.-KB/s    in 0.001s  \n",
      "\n",
      "2020-05-01 11:28:08 (50.6 MB/s) - ‘./index.html?C=M;O=D’ saved [43123]\n",
      "\n",
      "Removing ./index.html?C=M;O=D since it should be rejected.\n",
      "\n",
      "--2020-05-01 11:28:08--  https://gannet.fish.washington.edu/seashell/bu-mox/scrubbed/031520-TG-bs/Pact_tg/dedup/?C=S;O=D\n",
      "Reusing existing connection to gannet.fish.washington.edu:443.\n",
      "HTTP request sent, awaiting response... 200 OK\n",
      "Length: unspecified [text/html]\n",
      "Saving to: ‘./index.html?C=S;O=D’\n",
      "\n",
      "index.html?C=S;O=D      [ <=>                ]  42.11K  --.-KB/s    in 0.001s  \n",
      "\n",
      "2020-05-01 11:28:09 (51.6 MB/s) - ‘./index.html?C=S;O=D’ saved [43123]\n",
      "\n",
      "Removing ./index.html?C=S;O=D since it should be rejected.\n",
      "\n",
      "--2020-05-01 11:28:09--  https://gannet.fish.washington.edu/seashell/bu-mox/scrubbed/031520-TG-bs/Pact_tg/dedup/?C=D;O=D\n",
      "Reusing existing connection to gannet.fish.washington.edu:443.\n",
      "HTTP request sent, awaiting response... 200 OK\n",
      "Length: unspecified [text/html]\n",
      "Saving to: ‘./index.html?C=D;O=D’\n",
      "\n",
      "index.html?C=D;O=D      [ <=>                ]  42.11K  --.-KB/s    in 0.001s  \n",
      "\n",
      "2020-05-01 11:28:10 (47.3 MB/s) - ‘./index.html?C=D;O=D’ saved [43123]\n",
      "\n",
      "Removing ./index.html?C=D;O=D since it should be rejected.\n",
      "\n",
      "FINISHED --2020-05-01 11:28:10--\n",
      "Total wall clock time: 25s\n",
      "Downloaded: 15 files, 1.0G in 15s (68.7 MB/s)\n"
     ]
    }
   ],
   "source": [
    "!wget -r \\\n",
    "--no-directories --no-parent --reject \"index.html*\" \\\n",
    "-P . \\\n",
    "-A 5x.tab https://gannet.fish.washington.edu/seashell/bu-mox/scrubbed/031520-TG-bs/Pact_tg/dedup/"
   ]
  },
  {
   "cell_type": "code",
   "execution_count": 3,
   "metadata": {},
   "outputs": [
    {
     "name": "stdout",
     "output_type": "stream",
     "text": [
      "--2020-05-01 11:28:27--  https://gannet.fish.washington.edu/seashell/bu-mox/scrubbed/031520-TG-bs/Pact_tg/nodedup/\n",
      "Resolving gannet.fish.washington.edu... 128.95.149.52\n",
      "Connecting to gannet.fish.washington.edu|128.95.149.52|:443... connected.\n",
      "HTTP request sent, awaiting response... 200 OK\n",
      "Length: unspecified [text/html]\n",
      "Saving to: ‘./index.html’\n",
      "\n",
      "index.html              [ <=>                ]  19.51K  --.-KB/s    in 0s      \n",
      "\n",
      "2020-05-01 11:28:28 (50.7 MB/s) - ‘./index.html’ saved [19983]\n",
      "\n",
      "Loading robots.txt; please ignore errors.\n",
      "--2020-05-01 11:28:28--  https://gannet.fish.washington.edu/robots.txt\n",
      "Reusing existing connection to gannet.fish.washington.edu:443.\n",
      "HTTP request sent, awaiting response... 404 Not Found\n",
      "2020-05-01 11:28:28 ERROR 404: Not Found.\n",
      "\n",
      "Removing ./index.html since it should be rejected.\n",
      "\n",
      "--2020-05-01 11:28:28--  https://gannet.fish.washington.edu/seashell/bu-mox/scrubbed/031520-TG-bs/Pact_tg/nodedup/?C=N;O=D\n",
      "Reusing existing connection to gannet.fish.washington.edu:443.\n",
      "HTTP request sent, awaiting response... 200 OK\n",
      "Length: unspecified [text/html]\n",
      "Saving to: ‘./index.html?C=N;O=D’\n",
      "\n",
      "index.html?C=N;O=D      [ <=>                ]  19.51K  --.-KB/s    in 0s      \n",
      "\n",
      "2020-05-01 11:28:28 (52.5 MB/s) - ‘./index.html?C=N;O=D’ saved [19983]\n",
      "\n",
      "Removing ./index.html?C=N;O=D since it should be rejected.\n",
      "\n",
      "--2020-05-01 11:28:28--  https://gannet.fish.washington.edu/seashell/bu-mox/scrubbed/031520-TG-bs/Pact_tg/nodedup/?C=M;O=A\n",
      "Reusing existing connection to gannet.fish.washington.edu:443.\n",
      "HTTP request sent, awaiting response... 200 OK\n",
      "Length: unspecified [text/html]\n",
      "Saving to: ‘./index.html?C=M;O=A’\n",
      "\n",
      "index.html?C=M;O=A      [ <=>                ]  19.51K  --.-KB/s    in 0s      \n",
      "\n",
      "2020-05-01 11:28:28 (59.6 MB/s) - ‘./index.html?C=M;O=A’ saved [19983]\n",
      "\n",
      "Removing ./index.html?C=M;O=A since it should be rejected.\n",
      "\n",
      "--2020-05-01 11:28:28--  https://gannet.fish.washington.edu/seashell/bu-mox/scrubbed/031520-TG-bs/Pact_tg/nodedup/?C=S;O=A\n",
      "Reusing existing connection to gannet.fish.washington.edu:443.\n",
      "HTTP request sent, awaiting response... 200 OK\n",
      "Length: unspecified [text/html]\n",
      "Saving to: ‘./index.html?C=S;O=A’\n",
      "\n",
      "index.html?C=S;O=A      [ <=>                ]  19.51K  --.-KB/s    in 0s      \n",
      "\n",
      "2020-05-01 11:28:28 (52.1 MB/s) - ‘./index.html?C=S;O=A’ saved [19983]\n",
      "\n",
      "Removing ./index.html?C=S;O=A since it should be rejected.\n",
      "\n",
      "--2020-05-01 11:28:28--  https://gannet.fish.washington.edu/seashell/bu-mox/scrubbed/031520-TG-bs/Pact_tg/nodedup/?C=D;O=A\n",
      "Reusing existing connection to gannet.fish.washington.edu:443.\n",
      "HTTP request sent, awaiting response... 200 OK\n",
      "Length: unspecified [text/html]\n",
      "Saving to: ‘./index.html?C=D;O=A’\n",
      "\n",
      "index.html?C=D;O=A      [ <=>                ]  19.51K  --.-KB/s    in 0s      \n",
      "\n",
      "2020-05-01 11:28:29 (52.6 MB/s) - ‘./index.html?C=D;O=A’ saved [19983]\n",
      "\n",
      "Removing ./index.html?C=D;O=A since it should be rejected.\n",
      "\n",
      "--2020-05-01 11:28:29--  https://gannet.fish.washington.edu/seashell/bu-mox/scrubbed/031520-TG-bs/Pact_tg/nodedup/Meth4_R1_001_val_1_bismark_bt2_pe._5x.tab\n",
      "Reusing existing connection to gannet.fish.washington.edu:443.\n",
      "HTTP request sent, awaiting response... 200 OK\n",
      "Length: 84113105 (80M)\n",
      "Saving to: ‘./Meth4_R1_001_val_1_bismark_bt2_pe._5x.tab’\n",
      "\n",
      "Meth4_R1_001_val_1_ 100%[===================>]  80.22M  69.5MB/s    in 1.2s    \n",
      "\n",
      "2020-05-01 11:28:30 (69.5 MB/s) - ‘./Meth4_R1_001_val_1_bismark_bt2_pe._5x.tab’ saved [84113105/84113105]\n",
      "\n",
      "--2020-05-01 11:28:30--  https://gannet.fish.washington.edu/seashell/bu-mox/scrubbed/031520-TG-bs/Pact_tg/nodedup/Meth5_R1_001_val_1_bismark_bt2_pe._5x.tab\n",
      "Reusing existing connection to gannet.fish.washington.edu:443.\n",
      "HTTP request sent, awaiting response... 200 OK\n",
      "Length: 67057699 (64M)\n",
      "Saving to: ‘./Meth5_R1_001_val_1_bismark_bt2_pe._5x.tab’\n",
      "\n",
      "Meth5_R1_001_val_1_ 100%[===================>]  63.95M  70.4MB/s    in 0.9s    \n",
      "\n",
      "2020-05-01 11:28:31 (70.4 MB/s) - ‘./Meth5_R1_001_val_1_bismark_bt2_pe._5x.tab’ saved [67057699/67057699]\n",
      "\n",
      "--2020-05-01 11:28:31--  https://gannet.fish.washington.edu/seashell/bu-mox/scrubbed/031520-TG-bs/Pact_tg/nodedup/Meth6_R1_001_val_1_bismark_bt2_pe._5x.tab\n",
      "Reusing existing connection to gannet.fish.washington.edu:443.\n",
      "HTTP request sent, awaiting response... 200 OK\n",
      "Length: 69680695 (66M)\n",
      "Saving to: ‘./Meth6_R1_001_val_1_bismark_bt2_pe._5x.tab’\n",
      "\n",
      "Meth6_R1_001_val_1_ 100%[===================>]  66.45M  66.8MB/s    in 1.0s    \n",
      "\n",
      "2020-05-01 11:28:32 (66.8 MB/s) - ‘./Meth6_R1_001_val_1_bismark_bt2_pe._5x.tab’ saved [69680695/69680695]\n",
      "\n",
      "--2020-05-01 11:28:32--  https://gannet.fish.washington.edu/seashell/bu-mox/scrubbed/031520-TG-bs/Pact_tg/nodedup/?C=N;O=A\n",
      "Reusing existing connection to gannet.fish.washington.edu:443.\n",
      "HTTP request sent, awaiting response... 200 OK\n",
      "Length: unspecified [text/html]\n",
      "Saving to: ‘./index.html?C=N;O=A’\n",
      "\n",
      "index.html?C=N;O=A      [ <=>                ]  19.51K  --.-KB/s    in 0s      \n",
      "\n",
      "2020-05-01 11:28:32 (63.1 MB/s) - ‘./index.html?C=N;O=A’ saved [19983]\n",
      "\n",
      "Removing ./index.html?C=N;O=A since it should be rejected.\n",
      "\n",
      "--2020-05-01 11:28:32--  https://gannet.fish.washington.edu/seashell/bu-mox/scrubbed/031520-TG-bs/Pact_tg/nodedup/?C=M;O=D\n",
      "Reusing existing connection to gannet.fish.washington.edu:443.\n",
      "HTTP request sent, awaiting response... 200 OK\n",
      "Length: unspecified [text/html]\n",
      "Saving to: ‘./index.html?C=M;O=D’\n",
      "\n",
      "index.html?C=M;O=D      [ <=>                ]  19.51K  --.-KB/s    in 0s      \n",
      "\n",
      "2020-05-01 11:28:33 (65.5 MB/s) - ‘./index.html?C=M;O=D’ saved [19983]\n",
      "\n",
      "Removing ./index.html?C=M;O=D since it should be rejected.\n",
      "\n",
      "--2020-05-01 11:28:33--  https://gannet.fish.washington.edu/seashell/bu-mox/scrubbed/031520-TG-bs/Pact_tg/nodedup/?C=S;O=D\n",
      "Reusing existing connection to gannet.fish.washington.edu:443.\n",
      "HTTP request sent, awaiting response... 200 OK\n",
      "Length: unspecified [text/html]\n",
      "Saving to: ‘./index.html?C=S;O=D’\n",
      "\n",
      "index.html?C=S;O=D      [ <=>                ]  19.51K  --.-KB/s    in 0s      \n",
      "\n",
      "2020-05-01 11:28:33 (58.8 MB/s) - ‘./index.html?C=S;O=D’ saved [19983]\n",
      "\n",
      "Removing ./index.html?C=S;O=D since it should be rejected.\n",
      "\n",
      "--2020-05-01 11:28:33--  https://gannet.fish.washington.edu/seashell/bu-mox/scrubbed/031520-TG-bs/Pact_tg/nodedup/?C=D;O=D\n",
      "Reusing existing connection to gannet.fish.washington.edu:443.\n",
      "HTTP request sent, awaiting response... 200 OK\n",
      "Length: unspecified [text/html]\n",
      "Saving to: ‘./index.html?C=D;O=D’\n",
      "\n",
      "index.html?C=D;O=D      [ <=>                ]  19.51K  --.-KB/s    in 0s      \n",
      "\n",
      "2020-05-01 11:28:33 (61.7 MB/s) - ‘./index.html?C=D;O=D’ saved [19983]\n",
      "\n",
      "Removing ./index.html?C=D;O=D since it should be rejected.\n",
      "\n",
      "FINISHED --2020-05-01 11:28:33--\n",
      "Total wall clock time: 6.4s\n",
      "Downloaded: 12 files, 211M in 3.1s (68.9 MB/s)\n"
     ]
    }
   ],
   "source": [
    "!wget -r \\\n",
    "--no-directories --no-parent --reject \"index.html*\" \\\n",
    "-P . \\\n",
    "-A 5x.tab https://gannet.fish.washington.edu/seashell/bu-mox/scrubbed/031520-TG-bs/Pact_tg/nodedup/"
   ]
  },
  {
   "cell_type": "code",
   "execution_count": 4,
   "metadata": {},
   "outputs": [
    {
     "name": "stdout",
     "output_type": "stream",
     "text": [
      "Meth1_R1_001_val_1_bismark_bt2_pe._5x.tab\r\n",
      "Meth2_R1_001_val_1_bismark_bt2_pe._5x.tab\r\n",
      "Meth3_R1_001_val_1_bismark_bt2_pe._5x.tab\r\n",
      "Meth4_R1_001_val_1_bismark_bt2_pe._5x.tab\r\n",
      "Meth5_R1_001_val_1_bismark_bt2_pe._5x.tab\r\n",
      "Meth6_R1_001_val_1_bismark_bt2_pe._5x.tab\r\n",
      "Meth7_R1_001_val_1_bismark_bt2_pe._5x.tab\r\n",
      "Meth8_R1_001_val_1_bismark_bt2_pe._5x.tab\r\n",
      "Meth9_R1_001_val_1_bismark_bt2_pe._5x.tab\r\n",
      "\u001b[34mgannet.fish.washington.edu\u001b[m\u001b[m\r\n"
     ]
    }
   ],
   "source": [
    "!ls"
   ]
  },
  {
   "cell_type": "code",
   "execution_count": 5,
   "metadata": {},
   "outputs": [
    {
     "name": "stdout",
     "output_type": "stream",
     "text": [
      "MD5 (Meth1_R1_001_val_1_bismark_bt2_pe._5x.tab) = b2fe2251349d1a1fd2064555711e5f3c\n",
      "MD5 (Meth2_R1_001_val_1_bismark_bt2_pe._5x.tab) = a54138a247461dfa388ecb7c80a3f757\n",
      "MD5 (Meth3_R1_001_val_1_bismark_bt2_pe._5x.tab) = 269ee6acbf8bda68699073ed1a8eea11\n",
      "MD5 (Meth4_R1_001_val_1_bismark_bt2_pe._5x.tab) = c9c7710fe93f163d0563719721334d7d\n",
      "MD5 (Meth5_R1_001_val_1_bismark_bt2_pe._5x.tab) = b83df95995f0006e49760299d6dce230\n",
      "MD5 (Meth6_R1_001_val_1_bismark_bt2_pe._5x.tab) = a98b640f20d4d5e216777274ed6760c9\n",
      "MD5 (Meth7_R1_001_val_1_bismark_bt2_pe._5x.tab) = 18975dcf8f19e868e70fa295179a124d\n",
      "MD5 (Meth8_R1_001_val_1_bismark_bt2_pe._5x.tab) = b2c9124297fc036d62f744ac2f1b793b\n",
      "MD5 (Meth9_R1_001_val_1_bismark_bt2_pe._5x.tab) = 81a70ca77975e17ff050c41bbbf46c3f\n"
     ]
    }
   ],
   "source": [
    "!md5 *.tab"
   ]
  },
  {
   "cell_type": "code",
   "execution_count": null,
   "metadata": {},
   "outputs": [],
   "source": [
    "# create bed files with total CpG counts"
   ]
  },
  {
   "cell_type": "code",
   "execution_count": 6,
   "metadata": {},
   "outputs": [],
   "source": [
    "%%bash \n",
    "\n",
    "for f in *_5x.tab\n",
    "do\n",
    "awk -F\"\\t\" '{print $1\"\\t\"$2\"\\t\"$3\"\\t\"$5+$6}' \\\n",
    "${f} \\\n",
    "> $(basename ${f%_5x.tab})_5x.tC.bedgraph\n",
    "done"
   ]
  },
  {
   "cell_type": "code",
   "execution_count": 7,
   "metadata": {},
   "outputs": [
    {
     "name": "stdout",
     "output_type": "stream",
     "text": [
      "Meth1_R1_001_val_1_bismark_bt2_pe._5x.tC.bedgraph\r\n",
      "Meth1_R1_001_val_1_bismark_bt2_pe._5x.tab\r\n",
      "Meth2_R1_001_val_1_bismark_bt2_pe._5x.tC.bedgraph\r\n",
      "Meth2_R1_001_val_1_bismark_bt2_pe._5x.tab\r\n",
      "Meth3_R1_001_val_1_bismark_bt2_pe._5x.tC.bedgraph\r\n",
      "Meth3_R1_001_val_1_bismark_bt2_pe._5x.tab\r\n",
      "Meth4_R1_001_val_1_bismark_bt2_pe._5x.tC.bedgraph\r\n",
      "Meth4_R1_001_val_1_bismark_bt2_pe._5x.tab\r\n",
      "Meth5_R1_001_val_1_bismark_bt2_pe._5x.tC.bedgraph\r\n",
      "Meth5_R1_001_val_1_bismark_bt2_pe._5x.tab\r\n",
      "Meth6_R1_001_val_1_bismark_bt2_pe._5x.tC.bedgraph\r\n",
      "Meth6_R1_001_val_1_bismark_bt2_pe._5x.tab\r\n",
      "Meth7_R1_001_val_1_bismark_bt2_pe._5x.tC.bedgraph\r\n",
      "Meth7_R1_001_val_1_bismark_bt2_pe._5x.tab\r\n",
      "Meth8_R1_001_val_1_bismark_bt2_pe._5x.tC.bedgraph\r\n",
      "Meth8_R1_001_val_1_bismark_bt2_pe._5x.tab\r\n",
      "Meth9_R1_001_val_1_bismark_bt2_pe._5x.tC.bedgraph\r\n",
      "Meth9_R1_001_val_1_bismark_bt2_pe._5x.tab\r\n",
      "\u001b[34mgannet.fish.washington.edu\u001b[m\u001b[m\r\n"
     ]
    }
   ],
   "source": [
    "!ls"
   ]
  },
  {
   "cell_type": "code",
   "execution_count": 8,
   "metadata": {},
   "outputs": [
    {
     "name": "stdout",
     "output_type": "stream",
     "text": [
      "scaffold1_cov55\t102\t104\t6\r\n",
      "scaffold1_cov55\t105\t107\t6\r\n",
      "scaffold1_cov55\t116\t118\t5\r\n",
      "scaffold1_cov55\t119\t121\t5\r\n",
      "scaffold1_cov55\t146\t148\t5\r\n"
     ]
    }
   ],
   "source": [
    "!head -5 Meth1_R1_001_val_1_bismark_bt2_pe._5x.tC.bedgraph"
   ]
  },
  {
   "cell_type": "code",
   "execution_count": null,
   "metadata": {},
   "outputs": [],
   "source": [
    "#merge bed files for RRBS samples"
   ]
  },
  {
   "cell_type": "code",
   "execution_count": 9,
   "metadata": {},
   "outputs": [],
   "source": [
    "!cat \\\n",
    "Meth4_R1_001_val_1_bismark_bt2_pe._5x.tC.bedgraph \\\n",
    "Meth5_R1_001_val_1_bismark_bt2_pe._5x.tC.bedgraph \\\n",
    "Meth5_R1_001_val_1_bismark_bt2_pe._5x.tC.bedgraph |\\\n",
    "/Users/Shared/bioinformatics/bedtools2/bin/sortBed \\\n",
    "-i stdin |\\\n",
    "/Users/Shared/bioinformatics/bedtools2/bin/mergeBed \\\n",
    "-d -1 \\\n",
    "-i stdin \\\n",
    "> RRBS_5x.tc.bed\n"
   ]
  },
  {
   "cell_type": "code",
   "execution_count": 10,
   "metadata": {},
   "outputs": [
    {
     "name": "stdout",
     "output_type": "stream",
     "text": [
      "scaffold100000_cov51\t109\t111\r\n",
      "scaffold100000_cov51\t112\t114\r\n",
      "scaffold100000_cov51\t205\t207\r\n",
      "scaffold100000_cov51\t213\t215\r\n",
      "scaffold100000_cov51\t236\t238\r\n",
      "scaffold100004_cov43\t100\t102\r\n",
      "scaffold100004_cov43\t107\t109\r\n",
      "scaffold100009_cov142\t180\t182\r\n",
      "scaffold100009_cov142\t212\t214\r\n",
      "scaffold100017_cov107\t1052\t1054\r\n"
     ]
    }
   ],
   "source": [
    "!head RRBS_5x.tc.bed"
   ]
  },
  {
   "cell_type": "code",
   "execution_count": 11,
   "metadata": {},
   "outputs": [
    {
     "name": "stdout",
     "output_type": "stream",
     "text": [
      " 2102829 RRBS_5x.tc.bed\r\n"
     ]
    }
   ],
   "source": [
    "!wc -l RRBS_5x.tc.bed"
   ]
  },
  {
   "cell_type": "code",
   "execution_count": 12,
   "metadata": {
    "scrolled": true
   },
   "outputs": [
    {
     "name": "stdout",
     "output_type": "stream",
     "text": [
      " 1835561 Meth4_R1_001_val_1_bismark_bt2_pe._5x.tC.bedgraph\n",
      " 1451229 Meth5_R1_001_val_1_bismark_bt2_pe._5x.tC.bedgraph\n",
      " 1451229 Meth5_R1_001_val_1_bismark_bt2_pe._5x.tC.bedgraph\n"
     ]
    }
   ],
   "source": [
    "!wc -l Meth4_R1_001_val_1_bismark_bt2_pe._5x.tC.bedgraph \n",
    "!wc -l Meth5_R1_001_val_1_bismark_bt2_pe._5x.tC.bedgraph \n",
    "!wc -l Meth5_R1_001_val_1_bismark_bt2_pe._5x.tC.bedgraph \n"
   ]
  },
  {
   "cell_type": "code",
   "execution_count": null,
   "metadata": {},
   "outputs": [],
   "source": []
  },
  {
   "cell_type": "code",
   "execution_count": 13,
   "metadata": {},
   "outputs": [
    {
     "name": "stdout",
     "output_type": "stream",
     "text": [
      "scaffold6_cov64\t2536\t2538\t5\n",
      "scaffold6_cov64\t2584\t2586\t5\n",
      "scaffold6_cov64\t2676\t2678\t5\n",
      "scaffold6_cov64\t4588\t4590\t8\n",
      "scaffold6_cov64\t5101\t5103\t5\n",
      "scaffold6_cov64\t2584\t2586\t5\n",
      "scaffold6_cov64\t2676\t2678\t9\n",
      "scaffold6_cov64\t2682\t2684\t5\n",
      "scaffold6_cov64\t4553\t4555\t5\n",
      "scaffold6_cov64\t4588\t4590\t11\n",
      "scaffold6_cov64\t2584\t2586\t5\n",
      "scaffold6_cov64\t2676\t2678\t9\n",
      "scaffold6_cov64\t2682\t2684\t5\n",
      "scaffold6_cov64\t4553\t4555\t5\n",
      "scaffold6_cov64\t4588\t4590\t11\n"
     ]
    }
   ],
   "source": [
    "!head -5 Meth4_R1_001_val_1_bismark_bt2_pe._5x.tC.bedgraph \n",
    "!head -5 Meth5_R1_001_val_1_bismark_bt2_pe._5x.tC.bedgraph \n",
    "!head -5 Meth5_R1_001_val_1_bismark_bt2_pe._5x.tC.bedgraph "
   ]
  },
  {
   "cell_type": "code",
   "execution_count": null,
   "metadata": {},
   "outputs": [],
   "source": [
    "#merge WGBS samples"
   ]
  },
  {
   "cell_type": "code",
   "execution_count": 14,
   "metadata": {},
   "outputs": [],
   "source": [
    "!cat \\\n",
    "Meth1_R1_001_val_1_bismark_bt2_pe._5x.tC.bedgraph \\\n",
    "Meth2_R1_001_val_1_bismark_bt2_pe._5x.tC.bedgraph \\\n",
    "Meth3_R1_001_val_1_bismark_bt2_pe._5x.tC.bedgraph |\\\n",
    "/Users/Shared/bioinformatics/bedtools2/bin/sortBed \\\n",
    "-i stdin |\\\n",
    "/Users/Shared/bioinformatics/bedtools2/bin/mergeBed \\\n",
    "-d -1 \\\n",
    "-i stdin \\\n",
    "> WGBS_5x.tc.bed"
   ]
  },
  {
   "cell_type": "code",
   "execution_count": null,
   "metadata": {},
   "outputs": [],
   "source": [
    "#merge MBD samples"
   ]
  },
  {
   "cell_type": "code",
   "execution_count": 15,
   "metadata": {},
   "outputs": [],
   "source": [
    "!cat \\\n",
    "Meth7_R1_001_val_1_bismark_bt2_pe._5x.tC.bedgraph \\\n",
    "Meth8_R1_001_val_1_bismark_bt2_pe._5x.tC.bedgraph \\\n",
    "Meth9_R1_001_val_1_bismark_bt2_pe._5x.tC.bedgraph |\\\n",
    "/Users/Shared/bioinformatics/bedtools2/bin/sortBed \\\n",
    "-i stdin |\\\n",
    "/Users/Shared/bioinformatics/bedtools2/bin/mergeBed \\\n",
    "-d -1 \\\n",
    "-i stdin \\\n",
    "> MBD_5x.tc.bed"
   ]
  },
  {
   "cell_type": "code",
   "execution_count": null,
   "metadata": {},
   "outputs": [],
   "source": [
    "#get genome CpG data"
   ]
  },
  {
   "cell_type": "code",
   "execution_count": 16,
   "metadata": {},
   "outputs": [
    {
     "name": "stdout",
     "output_type": "stream",
     "text": [
      "--2020-05-01 11:48:37--  https://gannet.fish.washington.edu/seashell/bu-github/Meth_Compare/genome-feature-files/Pact_CpG.gff\n",
      "Resolving gannet.fish.washington.edu... 128.95.149.52\n",
      "Connecting to gannet.fish.washington.edu|128.95.149.52|:443... connected.\n",
      "HTTP request sent, awaiting response... 200 OK\n",
      "Length: 1111983287 (1.0G)\n",
      "Saving to: ‘Pact_CpG.gff’\n",
      "\n",
      "Pact_CpG.gff        100%[===================>]   1.04G  67.2MB/s    in 15s     \n",
      "\n",
      "2020-05-01 11:48:53 (69.3 MB/s) - ‘Pact_CpG.gff’ saved [1111983287/1111983287]\n",
      "\n"
     ]
    }
   ],
   "source": [
    "!wget \\\n",
    "https://gannet.fish.washington.edu/seashell/bu-github/Meth_Compare/genome-feature-files/Pact_CpG.gff"
   ]
  },
  {
   "cell_type": "code",
   "execution_count": null,
   "metadata": {},
   "outputs": [],
   "source": [
    "#create bedgraph file from CpG.gff"
   ]
  },
  {
   "cell_type": "code",
   "execution_count": 38,
   "metadata": {},
   "outputs": [],
   "source": [
    "!awk -F\"\\t\" '{print $1\"\\t\"$4\"\\t\"$5}' Pact_CpG.gff |\\\n",
    "/Users/Shared/bioinformatics/bedtools2/bin/sortBed \\\n",
    "-i stdin |\\\n",
    "awk -F\"\\t\" '{print $0\"\\t\"1}' \\\n",
    "> Pact_CpG.bedgraph"
   ]
  },
  {
   "cell_type": "code",
   "execution_count": 40,
   "metadata": {
    "scrolled": true
   },
   "outputs": [
    {
     "name": "stdout",
     "output_type": "stream",
     "text": [
      "scaffold100000_cov51\t5\t6\t1\r\n",
      "scaffold100000_cov51\t23\t24\t1\r\n",
      "scaffold100000_cov51\t61\t62\t1\r\n",
      "scaffold100000_cov51\t69\t70\t1\r\n",
      "scaffold100000_cov51\t79\t80\t1\r\n",
      "scaffold100000_cov51\t110\t111\t1\r\n",
      "scaffold100000_cov51\t113\t114\t1\r\n",
      "scaffold100000_cov51\t206\t207\t1\r\n",
      "scaffold100000_cov51\t214\t215\t1\r\n",
      "scaffold100000_cov51\t237\t238\t1\r\n"
     ]
    }
   ],
   "source": [
    "!head Pact_CpG.bedgraph"
   ]
  },
  {
   "cell_type": "code",
   "execution_count": null,
   "metadata": {},
   "outputs": [],
   "source": [
    "#merging bed files removed last column so I need to create a 4th column"
   ]
  },
  {
   "cell_type": "code",
   "execution_count": 26,
   "metadata": {},
   "outputs": [
    {
     "name": "stdout",
     "output_type": "stream",
     "text": [
      "MBD_5x.tc.bed\r\n",
      "Meth1_R1_001_val_1_bismark_bt2_pe._5x.tC.bedgraph\r\n",
      "Meth1_R1_001_val_1_bismark_bt2_pe._5x.tab\r\n",
      "Meth2_R1_001_val_1_bismark_bt2_pe._5x.tC.bedgraph\r\n",
      "Meth2_R1_001_val_1_bismark_bt2_pe._5x.tab\r\n",
      "Meth3_R1_001_val_1_bismark_bt2_pe._5x.tC.bedgraph\r\n",
      "Meth3_R1_001_val_1_bismark_bt2_pe._5x.tab\r\n",
      "Meth4_R1_001_val_1_bismark_bt2_pe._5x.tC.bedgraph\r\n",
      "Meth4_R1_001_val_1_bismark_bt2_pe._5x.tab\r\n",
      "Meth5_R1_001_val_1_bismark_bt2_pe._5x.tC.bedgraph\r\n",
      "Meth5_R1_001_val_1_bismark_bt2_pe._5x.tab\r\n",
      "Meth6_R1_001_val_1_bismark_bt2_pe._5x.tC.bedgraph\r\n",
      "Meth6_R1_001_val_1_bismark_bt2_pe._5x.tab\r\n",
      "Meth7_R1_001_val_1_bismark_bt2_pe._5x.tC.bedgraph\r\n",
      "Meth7_R1_001_val_1_bismark_bt2_pe._5x.tab\r\n",
      "Meth8_R1_001_val_1_bismark_bt2_pe._5x.tC.bedgraph\r\n",
      "Meth8_R1_001_val_1_bismark_bt2_pe._5x.tab\r\n",
      "Meth9_R1_001_val_1_bismark_bt2_pe._5x.tC.bedgraph\r\n",
      "Meth9_R1_001_val_1_bismark_bt2_pe._5x.tab\r\n",
      "Pact_CpG.bed\r\n",
      "Pact_CpG.gff\r\n",
      "Pact_method_union_5x.bedgraph\r\n",
      "RRBS_5x.tc.bed\r\n",
      "WGBS_5x.tc.bed\r\n",
      "\u001b[34mgannet.fish.washington.edu\u001b[m\u001b[m\r\n"
     ]
    }
   ],
   "source": [
    "!ls"
   ]
  },
  {
   "cell_type": "code",
   "execution_count": 27,
   "metadata": {},
   "outputs": [],
   "source": [
    "%%bash \n",
    "\n",
    "for f in *.bed\n",
    "do\n",
    "awk -F\"\\t\" '{print $0\"\\t\"1}' \\\n",
    "${f} \\\n",
    "> $(basename ${f%.bed}).bedgraph\n",
    "done"
   ]
  },
  {
   "cell_type": "code",
   "execution_count": 29,
   "metadata": {},
   "outputs": [
    {
     "name": "stdout",
     "output_type": "stream",
     "text": [
      "scaffold100003_cov99\t76\t78\t1\r\n",
      "scaffold100003_cov99\t97\t99\t1\r\n",
      "scaffold100003_cov99\t111\t113\t1\r\n",
      "scaffold100003_cov99\t145\t147\t1\r\n",
      "scaffold100003_cov99\t176\t178\t1\r\n",
      "scaffold100003_cov99\t230\t232\t1\r\n",
      "scaffold100003_cov99\t256\t258\t1\r\n",
      "scaffold100003_cov99\t285\t287\t1\r\n",
      "scaffold100003_cov99\t901\t903\t1\r\n",
      "scaffold100003_cov99\t913\t915\t1\r\n"
     ]
    }
   ],
   "source": [
    "!head MBD_5x.tc.bedgraph"
   ]
  },
  {
   "cell_type": "code",
   "execution_count": 31,
   "metadata": {},
   "outputs": [
    {
     "name": "stdout",
     "output_type": "stream",
     "text": [
      "chrom\tstart\tend\tALL\tWGBS\tRRBS\tMBD\r\n",
      "scaffold100000_cov51\t5\t6\t1\tN/A\tN/A\tN/A\r\n",
      "scaffold100000_cov51\t22\t23\tN/A\t1\tN/A\tN/A\r\n",
      "scaffold100000_cov51\t23\t24\t1\t1\tN/A\tN/A\r\n",
      "scaffold100000_cov51\t60\t61\tN/A\t1\tN/A\tN/A\r\n",
      "scaffold100000_cov51\t61\t62\t1\t1\tN/A\tN/A\r\n",
      "scaffold100000_cov51\t68\t69\tN/A\t1\tN/A\tN/A\r\n",
      "scaffold100000_cov51\t69\t70\t1\t1\tN/A\tN/A\r\n",
      "scaffold100000_cov51\t78\t79\tN/A\t1\tN/A\tN/A\r\n",
      "scaffold100000_cov51\t79\t80\t1\t1\tN/A\tN/A\r\n"
     ]
    }
   ],
   "source": [
    "!/Users/Shared/bioinformatics/bedtools2/bin/unionBedGraphs \\\n",
    "-header \\\n",
    "-filler N/A \\\n",
    "-names ALL WGBS RRBS MBD \\\n",
    "-i \\\n",
    "Pact_CpG.bedgraph \\\n",
    "WGBS_5x.tc.bedgraph \\\n",
    "RRBS_5x.tc.bedgraph \\\n",
    "MBD_5x.tc.bedgraph |\\\n",
    "head\n",
    "\n"
   ]
  },
  {
   "cell_type": "code",
   "execution_count": null,
   "metadata": {},
   "outputs": [],
   "source": [
    "#oddly WGBS has loci that aren't in the genome CpG file;\n",
    "#This seems like it could be the case because the merged intervals from Bismark \n",
    "#are actually 3 bp instead of 2"
   ]
  },
  {
   "cell_type": "code",
   "execution_count": 32,
   "metadata": {
    "collapsed": true
   },
   "outputs": [
    {
     "name": "stdout",
     "output_type": "stream",
     "text": [
      "scaffold100000_cov51\t22\t24\t1\r\n",
      "scaffold100000_cov51\t60\t62\t1\r\n",
      "scaffold100000_cov51\t68\t70\t1\r\n",
      "scaffold100000_cov51\t78\t80\t1\r\n",
      "scaffold100000_cov51\t109\t111\t1\r\n",
      "scaffold100000_cov51\t112\t114\t1\r\n",
      "scaffold100000_cov51\t205\t207\t1\r\n",
      "scaffold100000_cov51\t213\t215\t1\r\n",
      "scaffold100000_cov51\t236\t238\t1\r\n",
      "scaffold100000_cov51\t245\t247\t1\r\n"
     ]
    }
   ],
   "source": [
    "!awk '{if($1==\"scaffold100000_cov51\")print $0}' WGBS_5x.tc.bedgraph | head"
   ]
  },
  {
   "cell_type": "code",
   "execution_count": null,
   "metadata": {},
   "outputs": [],
   "source": [
    "# i need to adjust the starting coordinate for all data because it shouldn't count twice"
   ]
  },
  {
   "cell_type": "code",
   "execution_count": 36,
   "metadata": {},
   "outputs": [],
   "source": [
    "%%bash \n",
    "\n",
    "for f in *5x.tc.bed\n",
    "do\n",
    "awk -F\"\\t\" '{print $1\"\\t\"$2+1\"\\t\"$3\"\\t\"1}' \\\n",
    "${f} \\\n",
    "> $(basename ${f%.bed}).bedgraph\n",
    "done"
   ]
  },
  {
   "cell_type": "code",
   "execution_count": 39,
   "metadata": {
    "collapsed": true
   },
   "outputs": [
    {
     "name": "stdout",
     "output_type": "stream",
     "text": [
      "scaffold100000_cov51\t23\t24\t1\r\n",
      "scaffold100000_cov51\t61\t62\t1\r\n",
      "scaffold100000_cov51\t69\t70\t1\r\n",
      "scaffold100000_cov51\t79\t80\t1\r\n",
      "scaffold100000_cov51\t110\t111\t1\r\n",
      "scaffold100000_cov51\t113\t114\t1\r\n",
      "scaffold100000_cov51\t206\t207\t1\r\n",
      "scaffold100000_cov51\t214\t215\t1\r\n",
      "scaffold100000_cov51\t237\t238\t1\r\n",
      "scaffold100000_cov51\t246\t247\t1\r\n"
     ]
    }
   ],
   "source": [
    "!awk '{if($1==\"scaffold100000_cov51\")print $0}' WGBS_5x.tc.bedgraph | head"
   ]
  },
  {
   "cell_type": "code",
   "execution_count": null,
   "metadata": {},
   "outputs": [],
   "source": [
    "#create union table"
   ]
  },
  {
   "cell_type": "code",
   "execution_count": 41,
   "metadata": {
    "collapsed": true
   },
   "outputs": [
    {
     "name": "stdout",
     "output_type": "stream",
     "text": [
      "chrom\tstart\tend\tALL\tWGBS\tRRBS\tMBD\r\n",
      "scaffold100000_cov51\t5\t6\t1\tN/A\tN/A\tN/A\r\n",
      "scaffold100000_cov51\t23\t24\t1\t1\tN/A\tN/A\r\n",
      "scaffold100000_cov51\t61\t62\t1\t1\tN/A\tN/A\r\n",
      "scaffold100000_cov51\t69\t70\t1\t1\tN/A\tN/A\r\n",
      "scaffold100000_cov51\t79\t80\t1\t1\tN/A\tN/A\r\n",
      "scaffold100000_cov51\t110\t111\t1\t1\t1\tN/A\r\n",
      "scaffold100000_cov51\t113\t114\t1\t1\t1\tN/A\r\n",
      "scaffold100000_cov51\t206\t207\t1\t1\t1\tN/A\r\n",
      "scaffold100000_cov51\t214\t215\t1\t1\t1\tN/A\r\n"
     ]
    }
   ],
   "source": [
    "!/Users/Shared/bioinformatics/bedtools2/bin/unionBedGraphs \\\n",
    "-header \\\n",
    "-filler N/A \\\n",
    "-names ALL WGBS RRBS MBD \\\n",
    "-i \\\n",
    "Pact_CpG.bedgraph \\\n",
    "WGBS_5x.tc.bedgraph \\\n",
    "RRBS_5x.tc.bedgraph \\\n",
    "MBD_5x.tc.bedgraph |\\\n",
    "head"
   ]
  },
  {
   "cell_type": "code",
   "execution_count": 42,
   "metadata": {},
   "outputs": [],
   "source": [
    "!/Users/Shared/bioinformatics/bedtools2/bin/unionBedGraphs \\\n",
    "-header \\\n",
    "-filler N/A \\\n",
    "-names ALL WGBS RRBS MBD \\\n",
    "-i \\\n",
    "Pact_CpG.bedgraph \\\n",
    "WGBS_5x.tc.bedgraph \\\n",
    "RRBS_5x.tc.bedgraph \\\n",
    "MBD_5x.tc.bedgraph \\\n",
    "> Pact_method_union_5x.bedgraph"
   ]
  },
  {
   "cell_type": "code",
   "execution_count": 43,
   "metadata": {
    "collapsed": true
   },
   "outputs": [
    {
     "name": "stdout",
     "output_type": "stream",
     "text": [
      "scaffold9_cov118\t2310\t2311\t1\tN/A\tN/A\tN/A\r\n",
      "scaffold9_cov118\t2402\t2403\t1\tN/A\tN/A\tN/A\r\n",
      "scaffold9_cov118\t2405\t2406\t1\tN/A\tN/A\tN/A\r\n",
      "scaffold9_cov118\t2452\t2453\t1\tN/A\tN/A\tN/A\r\n",
      "scaffold9_cov118\t2461\t2462\t1\tN/A\tN/A\tN/A\r\n",
      "scaffold9_cov118\t2509\t2510\t1\tN/A\tN/A\tN/A\r\n",
      "scaffold9_cov118\t2514\t2515\t1\t1\tN/A\tN/A\r\n",
      "scaffold9_cov118\t2517\t2518\t1\tN/A\tN/A\tN/A\r\n",
      "scaffold9_cov118\t2596\t2597\t1\tN/A\tN/A\tN/A\r\n",
      "scaffold9_cov118\t2614\t2615\t1\tN/A\tN/A\tN/A\r\n"
     ]
    }
   ],
   "source": [
    "!tail Pact_method_union_5x.bedgraph"
   ]
  },
  {
   "cell_type": "code",
   "execution_count": 44,
   "metadata": {
    "collapsed": true
   },
   "outputs": [
    {
     "name": "stdout",
     "output_type": "stream",
     "text": [
      "chrom\tstart\tend\tALL\tWGBS\tRRBS\tMBD\r\n",
      "scaffold100000_cov51\t5\t6\t1\t0\t0\t0\r\n",
      "scaffold100000_cov51\t23\t24\t1\t1\t0\t0\r\n",
      "scaffold100000_cov51\t61\t62\t1\t1\t0\t0\r\n",
      "scaffold100000_cov51\t69\t70\t1\t1\t0\t0\r\n",
      "scaffold100000_cov51\t79\t80\t1\t1\t0\t0\r\n",
      "scaffold100000_cov51\t110\t111\t1\t1\t1\t0\r\n",
      "scaffold100000_cov51\t113\t114\t1\t1\t1\t0\r\n",
      "scaffold100000_cov51\t206\t207\t1\t1\t1\t0\r\n",
      "scaffold100000_cov51\t214\t215\t1\t1\t1\t0\r\n"
     ]
    }
   ],
   "source": [
    "#substitute NA for 0\n",
    "!head Pact_method_union_5x.bedgraph |\\\n",
    "sed 's/N\\/A/0/g' "
   ]
  },
  {
   "cell_type": "code",
   "execution_count": 47,
   "metadata": {},
   "outputs": [],
   "source": [
    "#combine fields 1-3 into 1 string\n",
    "!cat Pact_method_union_5x.bedgraph |\\\n",
    "sed 's/N\\/A/0/g' |\\\n",
    "awk -F\"\\t\" '{print$1\"_\"$2\"_\"$3\"\\t\"$4\"\\t\"$5\"\\t\"$6\"\\t\"$7}' \\\n",
    "> Pact_method_union_5x_matrix.tsv"
   ]
  },
  {
   "cell_type": "code",
   "execution_count": 48,
   "metadata": {
    "collapsed": true
   },
   "outputs": [
    {
     "name": "stdout",
     "output_type": "stream",
     "text": [
      "chrom_start_end\tALL\tWGBS\tRRBS\tMBD\r\n",
      "scaffold100000_cov51_5_6\t1\t0\t0\t0\r\n",
      "scaffold100000_cov51_23_24\t1\t1\t0\t0\r\n",
      "scaffold100000_cov51_61_62\t1\t1\t0\t0\r\n",
      "scaffold100000_cov51_69_70\t1\t1\t0\t0\r\n",
      "scaffold100000_cov51_79_80\t1\t1\t0\t0\r\n",
      "scaffold100000_cov51_110_111\t1\t1\t1\t0\r\n",
      "scaffold100000_cov51_113_114\t1\t1\t1\t0\r\n",
      "scaffold100000_cov51_206_207\t1\t1\t1\t0\r\n",
      "scaffold100000_cov51_214_215\t1\t1\t1\t0\r\n"
     ]
    }
   ],
   "source": [
    "!head Pact_method_union_5x_matrix.tsv"
   ]
  },
  {
   "cell_type": "code",
   "execution_count": 49,
   "metadata": {},
   "outputs": [],
   "source": [
    "mkdir /Volumes/web/metacarcinus/FROGER_meth_compare/20200501"
   ]
  },
  {
   "cell_type": "code",
   "execution_count": 50,
   "metadata": {
    "collapsed": true
   },
   "outputs": [
    {
     "name": "stdout",
     "output_type": "stream",
     "text": [
      "building file list ... \n",
      "30 files to consider\n",
      "data/\n",
      "data/MBD_5x.tc.bed\n",
      "   117436711 100%   44.40MB/s    0:00:02 (xfer#1, to-check=28/30)\n",
      "data/MBD_5x.tc.bedgraph\n",
      "   124846389 100%   36.42MB/s    0:00:03 (xfer#2, to-check=27/30)\n",
      "data/Meth1_R1_001_val_1_bismark_bt2_pe._5x.tC.bedgraph\n",
      "   189961287 100%   38.73MB/s    0:00:04 (xfer#3, to-check=26/30)\n",
      "data/Meth1_R1_001_val_1_bismark_bt2_pe._5x.tab\n",
      "   251446400 100%   33.25MB/s    0:00:07 (xfer#4, to-check=25/30)\n",
      "data/Meth2_R1_001_val_1_bismark_bt2_pe._5x.tC.bedgraph\n",
      "   218602336 100%   36.93MB/s    0:00:05 (xfer#5, to-check=24/30)\n",
      "data/Meth2_R1_001_val_1_bismark_bt2_pe._5x.tab\n",
      "   289019583 100%   39.66MB/s    0:00:06 (xfer#6, to-check=23/30)\n",
      "data/Meth3_R1_001_val_1_bismark_bt2_pe._5x.tC.bedgraph\n",
      "   201238522 100%   31.92MB/s    0:00:06 (xfer#7, to-check=22/30)\n",
      "data/Meth3_R1_001_val_1_bismark_bt2_pe._5x.tab\n",
      "   266285364 100%   43.11MB/s    0:00:05 (xfer#8, to-check=21/30)\n",
      "data/Meth4_R1_001_val_1_bismark_bt2_pe._5x.tC.bedgraph\n",
      "    63596292 100%   26.04MB/s    0:00:02 (xfer#9, to-check=20/30)\n",
      "data/Meth4_R1_001_val_1_bismark_bt2_pe._5x.tab\n",
      "    84113105 100%   35.67MB/s    0:00:02 (xfer#10, to-check=19/30)\n",
      "data/Meth5_R1_001_val_1_bismark_bt2_pe._5x.tC.bedgraph\n",
      "    50747673 100%   34.45MB/s    0:00:01 (xfer#11, to-check=18/30)\n",
      "data/Meth5_R1_001_val_1_bismark_bt2_pe._5x.tab\n",
      "    67057699 100%   34.29MB/s    0:00:01 (xfer#12, to-check=17/30)\n",
      "data/Meth6_R1_001_val_1_bismark_bt2_pe._5x.tC.bedgraph\n",
      "    52729352 100%   24.92MB/s    0:00:02 (xfer#13, to-check=16/30)\n",
      "data/Meth6_R1_001_val_1_bismark_bt2_pe._5x.tab\n",
      "    69680695 100%   41.74MB/s    0:00:01 (xfer#14, to-check=15/30)\n",
      "data/Meth7_R1_001_val_1_bismark_bt2_pe._5x.tC.bedgraph\n",
      "    89573139 100%   33.21MB/s    0:00:02 (xfer#15, to-check=14/30)\n",
      "data/Meth7_R1_001_val_1_bismark_bt2_pe._5x.tab\n",
      "   119267483 100%   33.02MB/s    0:00:03 (xfer#16, to-check=13/30)\n",
      "data/Meth8_R1_001_val_1_bismark_bt2_pe._5x.tC.bedgraph\n",
      "    17958787 100%   19.78MB/s    0:00:00 (xfer#17, to-check=12/30)\n",
      "data/Meth8_R1_001_val_1_bismark_bt2_pe._5x.tab\n",
      "    24249961 100%   16.46MB/s    0:00:01 (xfer#18, to-check=11/30)\n",
      "data/Meth9_R1_001_val_1_bismark_bt2_pe._5x.tC.bedgraph\n",
      "    92699819 100%   36.55MB/s    0:00:02 (xfer#19, to-check=10/30)\n",
      "data/Meth9_R1_001_val_1_bismark_bt2_pe._5x.tab\n",
      "   123420028 100%   37.15MB/s    0:00:03 (xfer#20, to-check=9/30)\n",
      "data/Pact_CpG.bed\n",
      "   286026917 100%   41.36MB/s    0:00:06 (xfer#21, to-check=8/30)\n",
      "data/Pact_CpG.bedgraph\n",
      "   304338157 100%   40.56MB/s    0:00:07 (xfer#22, to-check=7/30)\n",
      "data/Pact_CpG.gff\n",
      "  1111983287 100%   43.98MB/s    0:00:24 (xfer#23, to-check=6/30)\n",
      "data/Pact_method_union_5x.bedgraph\n",
      "   388398013 100%   43.01MB/s    0:00:08 (xfer#24, to-check=5/30)\n",
      "data/Pact_method_union_5x_matrix.tsv\n",
      "   359271911 100%   39.52MB/s    0:00:08 (xfer#25, to-check=4/30)\n",
      "data/RRBS_5x.tc.bed\n",
      "    66435627 100%   28.15MB/s    0:00:02 (xfer#26, to-check=3/30)\n",
      "data/RRBS_5x.tc.bedgraph\n",
      "    70642181 100%   33.89MB/s    0:00:01 (xfer#27, to-check=2/30)\n",
      "data/WGBS_5x.tc.bed\n",
      "   224947887 100%   35.19MB/s    0:00:06 (xfer#28, to-check=1/30)\n",
      "data/WGBS_5x.tc.bedgraph\n",
      "   239144643 100%   36.90MB/s    0:00:06 (xfer#29, to-check=0/30)\n",
      "\n",
      "sent 5565800805 bytes  received 664 bytes  43313630.11 bytes/sec\n",
      "total size is 5565119248  speedup is 1.00\n"
     ]
    }
   ],
   "source": [
    "!rsync \\\n",
    "--progress \\\n",
    "--verbose \\\n",
    "--archive \\\n",
    "--exclude \"gannet.fish.washington.edu\" \\\n",
    "/Users/strigg/Documents/GitHub/Meth_Compare/data \\\n",
    "/Volumes/web/metacarcinus/FROGER_meth_compare/20200501\n"
   ]
  },
  {
   "cell_type": "code",
   "execution_count": 51,
   "metadata": {},
   "outputs": [
    {
     "name": "stdout",
     "output_type": "stream",
     "text": [
      " 9155621 Pact_method_union_5x_matrix.tsv\r\n"
     ]
    }
   ],
   "source": [
    "!wc -l Pact_method_union_5x_matrix.tsv"
   ]
  },
  {
   "cell_type": "code",
   "execution_count": 52,
   "metadata": {
    "scrolled": true
   },
   "outputs": [
    {
     "name": "stdout",
     "output_type": "stream",
     "text": [
      "chrom_start_end\tALL\tWGBS\tRRBS\tMBD\r\n",
      "scaffold100000_cov51_5_6\t1\t0\t0\t0\r\n",
      "scaffold100000_cov51_23_24\t1\t1\t0\t0\r\n",
      "scaffold100000_cov51_61_62\t1\t1\t0\t0\r\n",
      "scaffold100000_cov51_69_70\t1\t1\t0\t0\r\n",
      "scaffold100000_cov51_79_80\t1\t1\t0\t0\r\n",
      "scaffold100000_cov51_110_111\t1\t1\t1\t0\r\n",
      "scaffold100000_cov51_113_114\t1\t1\t1\t0\r\n",
      "scaffold100000_cov51_206_207\t1\t1\t1\t0\r\n",
      "scaffold100000_cov51_214_215\t1\t1\t1\t0\r\n"
     ]
    }
   ],
   "source": [
    "!head Pact_method_union_5x_matrix.tsv"
   ]
  }
 ],
 "metadata": {
  "kernelspec": {
   "display_name": "Python 3",
   "language": "python",
   "name": "python3"
  },
  "language_info": {
   "codemirror_mode": {
    "name": "ipython",
    "version": 3
   },
   "file_extension": ".py",
   "mimetype": "text/x-python",
   "name": "python",
   "nbconvert_exporter": "python",
   "pygments_lexer": "ipython3",
   "version": "3.6.8"
  }
 },
 "nbformat": 4,
 "nbformat_minor": 4
}
