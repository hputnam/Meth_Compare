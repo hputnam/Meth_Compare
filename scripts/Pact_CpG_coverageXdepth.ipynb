{
 "cells": [
  {
   "cell_type": "code",
   "execution_count": null,
   "metadata": {},
   "outputs": [],
   "source": [
    "#count the number of CpGs covered at different depths"
   ]
  },
  {
   "cell_type": "code",
   "execution_count": 56,
   "metadata": {},
   "outputs": [
    {
     "name": "stdout",
     "output_type": "stream",
     "text": [
      "scaffold1_cov55\t49\t51\t0.000000\t0\t2\r\n",
      "scaffold1_cov55\t84\t86\t0.000000\t0\t4\r\n",
      "scaffold1_cov55\t92\t94\t0.000000\t0\t4\r\n",
      "scaffold1_cov55\t102\t104\t16.666667\t1\t5\r\n",
      "scaffold1_cov55\t105\t107\t0.000000\t0\t6\r\n",
      "scaffold1_cov55\t116\t118\t0.000000\t0\t5\r\n",
      "scaffold1_cov55\t119\t121\t0.000000\t0\t5\r\n",
      "scaffold1_cov55\t146\t148\t0.000000\t0\t5\r\n",
      "scaffold1_cov55\t169\t171\t0.000000\t0\t4\r\n",
      "scaffold1_cov55\t186\t188\t20.000000\t1\t4\r\n"
     ]
    }
   ],
   "source": [
    "!head /Volumes/web/seashell/bu-mox/scrubbed/031520-TG-bs/Pact_tg/dedup/Meth1_R1_001_val_1_bismark_bt2_pe..CpG_report.merged_CpG_evidence.cov "
   ]
  },
  {
   "cell_type": "code",
   "execution_count": null,
   "metadata": {},
   "outputs": [],
   "source": [
    "#1x coverage just count all the lines in the cov file\n"
   ]
  },
  {
   "cell_type": "code",
   "execution_count": 57,
   "metadata": {},
   "outputs": [
    {
     "name": "stdout",
     "output_type": "stream",
     "text": [
      "/Volumes/web/seashell/bu-mox/scrubbed/031520-TG-bs/Pact_tg/dedup/Meth1_R1_001_val_1_bismark_bt2_pe..CpG_report.merged_CpG_evidence.cov\n",
      "/Volumes/web/seashell/bu-mox/scrubbed/031520-TG-bs/Pact_tg/dedup/Meth2_R1_001_val_1_bismark_bt2_pe..CpG_report.merged_CpG_evidence.cov\n",
      "/Volumes/web/seashell/bu-mox/scrubbed/031520-TG-bs/Pact_tg/dedup/Meth3_R1_001_val_1_bismark_bt2_pe..CpG_report.merged_CpG_evidence.cov\n",
      "/Volumes/web/seashell/bu-mox/scrubbed/031520-TG-bs/Pact_tg/dedup/Meth7_R1_001_val_1_bismark_bt2_pe..CpG_report.merged_CpG_evidence.cov\n",
      "/Volumes/web/seashell/bu-mox/scrubbed/031520-TG-bs/Pact_tg/dedup/Meth8_R1_001_val_1_bismark_bt2_pe..CpG_report.merged_CpG_evidence.cov\n",
      "/Volumes/web/seashell/bu-mox/scrubbed/031520-TG-bs/Pact_tg/dedup/Meth9_R1_001_val_1_bismark_bt2_pe..CpG_report.merged_CpG_evidence.cov\n"
     ]
    }
   ],
   "source": [
    "%%bash \n",
    "\n",
    "WGBS_dir=\"/Volumes/web/seashell/bu-mox/scrubbed/031520-TG-bs/Pact_tg/dedup/\"\n",
    "\n",
    "for f in ${WGBS_dir}*.merged_CpG_evidence.cov \n",
    "do\n",
    "echo ${f} \n",
    "done\n"
   ]
  },
  {
   "cell_type": "code",
   "execution_count": 59,
   "metadata": {},
   "outputs": [
    {
     "name": "stdout",
     "output_type": "stream",
     "text": [
      " 7994079 /Volumes/web/seashell/bu-mox/scrubbed/031520-TG-bs/Pact_tg/dedup/Meth1_R1_001_val_1_bismark_bt2_pe..CpG_report.merged_CpG_evidence.cov\n",
      " 8136445 /Volumes/web/seashell/bu-mox/scrubbed/031520-TG-bs/Pact_tg/dedup/Meth2_R1_001_val_1_bismark_bt2_pe..CpG_report.merged_CpG_evidence.cov\n",
      " 8056571 /Volumes/web/seashell/bu-mox/scrubbed/031520-TG-bs/Pact_tg/dedup/Meth3_R1_001_val_1_bismark_bt2_pe..CpG_report.merged_CpG_evidence.cov\n",
      " 7192191 /Volumes/web/seashell/bu-mox/scrubbed/031520-TG-bs/Pact_tg/dedup/Meth7_R1_001_val_1_bismark_bt2_pe..CpG_report.merged_CpG_evidence.cov\n",
      " 4745926 /Volumes/web/seashell/bu-mox/scrubbed/031520-TG-bs/Pact_tg/dedup/Meth8_R1_001_val_1_bismark_bt2_pe..CpG_report.merged_CpG_evidence.cov\n",
      " 7283943 /Volumes/web/seashell/bu-mox/scrubbed/031520-TG-bs/Pact_tg/dedup/Meth9_R1_001_val_1_bismark_bt2_pe..CpG_report.merged_CpG_evidence.cov\n"
     ]
    }
   ],
   "source": [
    "%%bash \n",
    "\n",
    "WGBS_dir=\"/Volumes/web/seashell/bu-mox/scrubbed/031520-TG-bs/Pact_tg/dedup/\"\n",
    "\n",
    "for f in ${WGBS_dir}*.merged_CpG_evidence.cov \n",
    "do\n",
    "wc -l ${f}\n",
    "done\n"
   ]
  },
  {
   "cell_type": "code",
   "execution_count": 61,
   "metadata": {},
   "outputs": [
    {
     "name": "stdout",
     "output_type": "stream",
     "text": [
      " 3845952 /Volumes/web/seashell/bu-mox/scrubbed/031520-TG-bs/Pact_tg/nodedup/Meth4_R1_001_val_1_bismark_bt2_pe..CpG_report.merged_CpG_evidence.cov\n",
      " 3380118 /Volumes/web/seashell/bu-mox/scrubbed/031520-TG-bs/Pact_tg/nodedup/Meth5_R1_001_val_1_bismark_bt2_pe..CpG_report.merged_CpG_evidence.cov\n",
      " 3469723 /Volumes/web/seashell/bu-mox/scrubbed/031520-TG-bs/Pact_tg/nodedup/Meth6_R1_001_val_1_bismark_bt2_pe..CpG_report.merged_CpG_evidence.cov\n"
     ]
    }
   ],
   "source": [
    "%%bash \n",
    "\n",
    "RRBS_dir=\"/Volumes/web/seashell/bu-mox/scrubbed/031520-TG-bs/Pact_tg/nodedup/\"\n",
    "\n",
    "for f in ${RRBS_dir}*.merged_CpG_evidence.cov \n",
    "do\n",
    "wc -l ${f}\n",
    "done"
   ]
  },
  {
   "cell_type": "code",
   "execution_count": null,
   "metadata": {},
   "outputs": [],
   "source": []
  },
  {
   "cell_type": "code",
   "execution_count": null,
   "metadata": {},
   "outputs": [],
   "source": []
  },
  {
   "cell_type": "code",
   "execution_count": null,
   "metadata": {},
   "outputs": [],
   "source": [
    "\n",
    "#awk -F\"\\t\" '{if($5+$6>=5)print $0}' |\\\n",
    "#wc -l"
   ]
  },
  {
   "cell_type": "code",
   "execution_count": 62,
   "metadata": {},
   "outputs": [
    {
     "name": "stdout",
     "output_type": "stream",
     "text": [
      " 5546051\n",
      " 6358722\n",
      " 5866786\n",
      " 2640625\n",
      "  539008\n",
      " 2732607\n"
     ]
    }
   ],
   "source": [
    "%%bash \n",
    "\n",
    "WGBS_dir=\"/Volumes/web/seashell/bu-mox/scrubbed/031520-TG-bs/Pact_tg/dedup/\"\n",
    "\n",
    "for f in ${WGBS_dir}*.merged_CpG_evidence.cov \n",
    "do\n",
    "cat ${f} |\\\n",
    "awk -F\"\\t\" '{if($5+$6>=5)print $0}' |\\\n",
    "wc -l\n",
    "done"
   ]
  },
  {
   "cell_type": "code",
   "execution_count": 63,
   "metadata": {
    "scrolled": true
   },
   "outputs": [
    {
     "name": "stdout",
     "output_type": "stream",
     "text": [
      " 1835561\n",
      " 1451229\n",
      " 1517358\n"
     ]
    }
   ],
   "source": [
    "%%bash \n",
    "\n",
    "RRBS_dir=\"/Volumes/web/seashell/bu-mox/scrubbed/031520-TG-bs/Pact_tg/nodedup/\"\n",
    "\n",
    "for f in ${RRBS_dir}*.merged_CpG_evidence.cov \n",
    "do\n",
    "cat ${f} |\\\n",
    "awk -F\"\\t\" '{if($5+$6>=5)print $0}' |\\\n",
    "wc -l\n",
    "done"
   ]
  },
  {
   "cell_type": "code",
   "execution_count": 64,
   "metadata": {},
   "outputs": [],
   "source": [
    "#awk -F\"\\t\" '{if($5>=10)print $0}' |\\\n",
    "#wc -l"
   ]
  },
  {
   "cell_type": "code",
   "execution_count": 65,
   "metadata": {},
   "outputs": [
    {
     "name": "stdout",
     "output_type": "stream",
     "text": [
      " 2518069\n",
      " 3926923\n",
      " 3028012\n",
      "  744052\n",
      "  250032\n",
      "  725079\n"
     ]
    }
   ],
   "source": [
    "%%bash \n",
    "\n",
    "WGBS_dir=\"/Volumes/web/seashell/bu-mox/scrubbed/031520-TG-bs/Pact_tg/dedup/\"\n",
    "\n",
    "for f in ${WGBS_dir}*.merged_CpG_evidence.cov \n",
    "do\n",
    "cat ${f} |\\\n",
    "awk -F\"\\t\" '{if($5+$6>=10)print $0}' |\\\n",
    "wc -l\n",
    "done"
   ]
  },
  {
   "cell_type": "code",
   "execution_count": 66,
   "metadata": {},
   "outputs": [
    {
     "name": "stdout",
     "output_type": "stream",
     "text": [
      " 1184293\n",
      "  992337\n",
      " 1014588\n"
     ]
    }
   ],
   "source": [
    "%%bash \n",
    "\n",
    "RRBS_dir=\"/Volumes/web/seashell/bu-mox/scrubbed/031520-TG-bs/Pact_tg/nodedup/\"\n",
    "\n",
    "for f in ${RRBS_dir}*.merged_CpG_evidence.cov \n",
    "do\n",
    "cat ${f} |\\\n",
    "awk -F\"\\t\" '{if($5+$6>=10)print $0}' |\\\n",
    "wc -l\n",
    "done"
   ]
  },
  {
   "cell_type": "code",
   "execution_count": 67,
   "metadata": {},
   "outputs": [],
   "source": [
    "#awk -F\"\\t\" '{if($5>=15)print $0}' |\\\n",
    "#wc -l"
   ]
  },
  {
   "cell_type": "code",
   "execution_count": 68,
   "metadata": {},
   "outputs": [
    {
     "name": "stdout",
     "output_type": "stream",
     "text": [
      "  918596\n",
      " 1947512\n",
      " 1239792\n",
      "  376003\n",
      "  188416\n",
      "  354283\n"
     ]
    }
   ],
   "source": [
    "%%bash \n",
    "\n",
    "WGBS_dir=\"/Volumes/web/seashell/bu-mox/scrubbed/031520-TG-bs/Pact_tg/dedup/\"\n",
    "\n",
    "for f in ${WGBS_dir}*.merged_CpG_evidence.cov \n",
    "do\n",
    "cat ${f} |\\\n",
    "awk -F\"\\t\" '{if($5+$6>=15)print $0}' |\\\n",
    "wc -l\n",
    "done"
   ]
  },
  {
   "cell_type": "code",
   "execution_count": 69,
   "metadata": {},
   "outputs": [
    {
     "name": "stdout",
     "output_type": "stream",
     "text": [
      "  938449\n",
      "  893712\n",
      "  887729\n"
     ]
    }
   ],
   "source": [
    "%%bash \n",
    "\n",
    "RRBS_dir=\"/Volumes/web/seashell/bu-mox/scrubbed/031520-TG-bs/Pact_tg/nodedup/\"\n",
    "\n",
    "for f in ${RRBS_dir}*.merged_CpG_evidence.cov \n",
    "do\n",
    "cat ${f} |\\\n",
    "awk -F\"\\t\" '{if($5+$6>=15)print $0}' |\\\n",
    "wc -l\n",
    "done"
   ]
  },
  {
   "cell_type": "code",
   "execution_count": 70,
   "metadata": {},
   "outputs": [],
   "source": [
    "#awk -F\"\\t\" '{if($5>=20)print $0}' |\\\n",
    "#wc -l"
   ]
  },
  {
   "cell_type": "code",
   "execution_count": 71,
   "metadata": {},
   "outputs": [
    {
     "name": "stdout",
     "output_type": "stream",
     "text": [
      "  384833\n",
      "  886166\n",
      "  524643\n",
      "  271452\n",
      "  155000\n",
      "  246474\n"
     ]
    }
   ],
   "source": [
    "%%bash \n",
    "\n",
    "WGBS_dir=\"/Volumes/web/seashell/bu-mox/scrubbed/031520-TG-bs/Pact_tg/dedup/\"\n",
    "\n",
    "for f in ${WGBS_dir}*.merged_CpG_evidence.cov \n",
    "do\n",
    "cat ${f} |\\\n",
    "awk -F\"\\t\" '{if($5+$6>=20)print $0}' |\\\n",
    "wc -l\n",
    "done"
   ]
  },
  {
   "cell_type": "code",
   "execution_count": 72,
   "metadata": {},
   "outputs": [
    {
     "name": "stdout",
     "output_type": "stream",
     "text": [
      "  838856\n",
      "  863500\n",
      "  845684\n"
     ]
    }
   ],
   "source": [
    "%%bash \n",
    "\n",
    "RRBS_dir=\"/Volumes/web/seashell/bu-mox/scrubbed/031520-TG-bs/Pact_tg/nodedup/\"\n",
    "\n",
    "for f in ${RRBS_dir}*.merged_CpG_evidence.cov \n",
    "do\n",
    "cat ${f} |\\\n",
    "awk -F\"\\t\" '{if($5+$6>=20)print $0}' |\\\n",
    "wc -l\n",
    "done"
   ]
  },
  {
   "cell_type": "code",
   "execution_count": 73,
   "metadata": {},
   "outputs": [],
   "source": [
    "#awk -F\"\\t\" '{if($5>=25)print $0}' |\\\n",
    "#wc -l"
   ]
  },
  {
   "cell_type": "code",
   "execution_count": 74,
   "metadata": {},
   "outputs": [
    {
     "name": "stdout",
     "output_type": "stream",
     "text": [
      "  215890\n",
      "  445041\n",
      "  279449\n",
      "  219629\n",
      "  132341\n",
      "  191698\n"
     ]
    }
   ],
   "source": [
    "%%bash \n",
    "\n",
    "WGBS_dir=\"/Volumes/web/seashell/bu-mox/scrubbed/031520-TG-bs/Pact_tg/dedup/\"\n",
    "\n",
    "for f in ${WGBS_dir}*.merged_CpG_evidence.cov \n",
    "do\n",
    "cat ${f} |\\\n",
    "awk -F\"\\t\" '{if($5+$6>=25)print $0}' |\\\n",
    "wc -l\n",
    "done"
   ]
  },
  {
   "cell_type": "code",
   "execution_count": 75,
   "metadata": {},
   "outputs": [
    {
     "name": "stdout",
     "output_type": "stream",
     "text": [
      "  790030\n",
      "  848883\n",
      "  822228\n"
     ]
    }
   ],
   "source": [
    "%%bash \n",
    "\n",
    "RRBS_dir=\"/Volumes/web/seashell/bu-mox/scrubbed/031520-TG-bs/Pact_tg/nodedup/\"\n",
    "\n",
    "for f in ${RRBS_dir}*.merged_CpG_evidence.cov \n",
    "do\n",
    "cat ${f} |\\\n",
    "awk -F\"\\t\" '{if($5+$6>=25)print $0}' |\\\n",
    "wc -l\n",
    "done"
   ]
  },
  {
   "cell_type": "code",
   "execution_count": 76,
   "metadata": {},
   "outputs": [],
   "source": [
    "#awk -F\"\\t\" '{if($5>=30)print $0}' |\\\n",
    "#wc -l"
   ]
  },
  {
   "cell_type": "code",
   "execution_count": 77,
   "metadata": {},
   "outputs": [
    {
     "name": "stdout",
     "output_type": "stream",
     "text": [
      "  144586\n",
      "  270721\n",
      "  181254\n",
      "  186427\n",
      "  115255\n",
      "  156247\n"
     ]
    }
   ],
   "source": [
    "%%bash \n",
    "\n",
    "WGBS_dir=\"/Volumes/web/seashell/bu-mox/scrubbed/031520-TG-bs/Pact_tg/dedup/\"\n",
    "\n",
    "for f in ${WGBS_dir}*.merged_CpG_evidence.cov \n",
    "do\n",
    "cat ${f} |\\\n",
    "awk -F\"\\t\" '{if($5+$6>=30)print $0}' |\\\n",
    "wc -l\n",
    "done"
   ]
  },
  {
   "cell_type": "code",
   "execution_count": 78,
   "metadata": {},
   "outputs": [
    {
     "name": "stdout",
     "output_type": "stream",
     "text": [
      "  758381\n",
      "  838566\n",
      "  804602\n"
     ]
    }
   ],
   "source": [
    "%%bash \n",
    "\n",
    "RRBS_dir=\"/Volumes/web/seashell/bu-mox/scrubbed/031520-TG-bs/Pact_tg/nodedup/\"\n",
    "\n",
    "for f in ${RRBS_dir}*.merged_CpG_evidence.cov \n",
    "do\n",
    "cat ${f} |\\\n",
    "awk -F\"\\t\" '{if($5+$6>=30)print $0}' |\\\n",
    "wc -l\n",
    "done"
   ]
  },
  {
   "cell_type": "code",
   "execution_count": 79,
   "metadata": {},
   "outputs": [],
   "source": [
    "#awk -F\"\\t\" '{if($5>=40)print $0}' |\\\n",
    "#wc -l"
   ]
  },
  {
   "cell_type": "code",
   "execution_count": 80,
   "metadata": {},
   "outputs": [
    {
     "name": "stdout",
     "output_type": "stream",
     "text": [
      "   81516\n",
      "  144306\n",
      "  100929\n",
      "  143234\n",
      "   91639\n",
      "  111613\n"
     ]
    }
   ],
   "source": [
    "%%bash \n",
    "\n",
    "WGBS_dir=\"/Volumes/web/seashell/bu-mox/scrubbed/031520-TG-bs/Pact_tg/dedup/\"\n",
    "\n",
    "for f in ${WGBS_dir}*.merged_CpG_evidence.cov \n",
    "do\n",
    "cat ${f} |\\\n",
    "awk -F\"\\t\" '{if($5+$6>=40)print $0}' |\\\n",
    "wc -l\n",
    "done"
   ]
  },
  {
   "cell_type": "code",
   "execution_count": 81,
   "metadata": {},
   "outputs": [
    {
     "name": "stdout",
     "output_type": "stream",
     "text": [
      "  714385\n",
      "  822225\n",
      "  773840\n"
     ]
    }
   ],
   "source": [
    "%%bash \n",
    "\n",
    "RRBS_dir=\"/Volumes/web/seashell/bu-mox/scrubbed/031520-TG-bs/Pact_tg/nodedup/\"\n",
    "\n",
    "for f in ${RRBS_dir}*.merged_CpG_evidence.cov \n",
    "do\n",
    "cat ${f} |\\\n",
    "awk -F\"\\t\" '{if($5+$6>=40)print $0}' |\\\n",
    "wc -l\n",
    "done"
   ]
  },
  {
   "cell_type": "code",
   "execution_count": 82,
   "metadata": {},
   "outputs": [],
   "source": [
    "#awk -F\"\\t\" '{if($5>=50)print $0}' |\\\n",
    "#wc -l"
   ]
  },
  {
   "cell_type": "code",
   "execution_count": 83,
   "metadata": {},
   "outputs": [
    {
     "name": "stdout",
     "output_type": "stream",
     "text": [
      "   54029\n",
      "   93520\n",
      "   66464\n",
      "  115690\n",
      "   75126\n",
      "   84006\n"
     ]
    }
   ],
   "source": [
    "%%bash \n",
    "\n",
    "WGBS_dir=\"/Volumes/web/seashell/bu-mox/scrubbed/031520-TG-bs/Pact_tg/dedup/\"\n",
    "\n",
    "for f in ${WGBS_dir}*.merged_CpG_evidence.cov \n",
    "do\n",
    "cat ${f} |\\\n",
    "awk -F\"\\t\" '{if($5+$6>=50)print $0}' |\\\n",
    "wc -l\n",
    "done"
   ]
  },
  {
   "cell_type": "code",
   "execution_count": 84,
   "metadata": {},
   "outputs": [
    {
     "name": "stdout",
     "output_type": "stream",
     "text": [
      "  680438\n",
      "  808821\n",
      "  745475\n"
     ]
    }
   ],
   "source": [
    "%%bash \n",
    "\n",
    "RRBS_dir=\"/Volumes/web/seashell/bu-mox/scrubbed/031520-TG-bs/Pact_tg/nodedup/\"\n",
    "\n",
    "for f in ${RRBS_dir}*.merged_CpG_evidence.cov \n",
    "do\n",
    "cat ${f} |\\\n",
    "awk -F\"\\t\" '{if($5+$6>=50)print $0}' |\\\n",
    "wc -l\n",
    "done"
   ]
  },
  {
   "cell_type": "code",
   "execution_count": 85,
   "metadata": {},
   "outputs": [],
   "source": [
    "#awk -F\"\\t\" '{if($5>=60)print $0}' |\\\n",
    "#wc -l"
   ]
  },
  {
   "cell_type": "code",
   "execution_count": 86,
   "metadata": {},
   "outputs": [
    {
     "name": "stdout",
     "output_type": "stream",
     "text": [
      "   39075\n",
      "   66484\n",
      "   47755\n",
      "   95622\n",
      "   62967\n",
      "   65332\n"
     ]
    }
   ],
   "source": [
    "%%bash \n",
    "\n",
    "WGBS_dir=\"/Volumes/web/seashell/bu-mox/scrubbed/031520-TG-bs/Pact_tg/dedup/\"\n",
    "\n",
    "for f in ${WGBS_dir}*.merged_CpG_evidence.cov \n",
    "do\n",
    "cat ${f} |\\\n",
    "awk -F\"\\t\" '{if($5+$6>=60)print $0}' |\\\n",
    "wc -l\n",
    "done"
   ]
  },
  {
   "cell_type": "code",
   "execution_count": 87,
   "metadata": {},
   "outputs": [
    {
     "name": "stdout",
     "output_type": "stream",
     "text": [
      "  652876\n",
      "  796022\n",
      "  718526\n"
     ]
    }
   ],
   "source": [
    "%%bash \n",
    "\n",
    "RRBS_dir=\"/Volumes/web/seashell/bu-mox/scrubbed/031520-TG-bs/Pact_tg/nodedup/\"\n",
    "\n",
    "for f in ${RRBS_dir}*.merged_CpG_evidence.cov \n",
    "do\n",
    "cat ${f} |\\\n",
    "awk -F\"\\t\" '{if($5+$6>=60)print $0}' |\\\n",
    "wc -l\n",
    "done"
   ]
  },
  {
   "cell_type": "code",
   "execution_count": 88,
   "metadata": {},
   "outputs": [],
   "source": [
    "#awk -F\"\\t\" '{if($5>=70)print $0}' |\\\n",
    "#wc -l"
   ]
  },
  {
   "cell_type": "code",
   "execution_count": 89,
   "metadata": {},
   "outputs": [
    {
     "name": "stdout",
     "output_type": "stream",
     "text": [
      "   29688\n",
      "   49684\n",
      "   36178\n",
      "   80295\n",
      "   53525\n",
      "   51975\n"
     ]
    }
   ],
   "source": [
    "%%bash \n",
    "\n",
    "WGBS_dir=\"/Volumes/web/seashell/bu-mox/scrubbed/031520-TG-bs/Pact_tg/dedup/\"\n",
    "\n",
    "for f in ${WGBS_dir}*.merged_CpG_evidence.cov \n",
    "do\n",
    "cat ${f} |\\\n",
    "awk -F\"\\t\" '{if($5+$6>=70)print $0}' |\\\n",
    "wc -l\n",
    "done"
   ]
  },
  {
   "cell_type": "code",
   "execution_count": 90,
   "metadata": {},
   "outputs": [
    {
     "name": "stdout",
     "output_type": "stream",
     "text": [
      "  629045\n",
      "  783375\n",
      "  693410\n"
     ]
    }
   ],
   "source": [
    "%%bash \n",
    "\n",
    "RRBS_dir=\"/Volumes/web/seashell/bu-mox/scrubbed/031520-TG-bs/Pact_tg/nodedup/\"\n",
    "\n",
    "for f in ${RRBS_dir}*.merged_CpG_evidence.cov \n",
    "do\n",
    "cat ${f} |\\\n",
    "awk -F\"\\t\" '{if($5+$6>=70)print $0}' |\\\n",
    "wc -l\n",
    "done"
   ]
  },
  {
   "cell_type": "code",
   "execution_count": 91,
   "metadata": {},
   "outputs": [],
   "source": [
    "#awk -F\"\\t\" '{if($5>=80)print $0}' |\\\n",
    "#wc -l"
   ]
  },
  {
   "cell_type": "code",
   "execution_count": 92,
   "metadata": {},
   "outputs": [
    {
     "name": "stdout",
     "output_type": "stream",
     "text": [
      "   23434\n",
      "   38673\n",
      "   28461\n",
      "   68461\n",
      "   45973\n",
      "   42073\n"
     ]
    }
   ],
   "source": [
    "%%bash \n",
    "\n",
    "WGBS_dir=\"/Volumes/web/seashell/bu-mox/scrubbed/031520-TG-bs/Pact_tg/dedup/\"\n",
    "\n",
    "for f in ${WGBS_dir}*.merged_CpG_evidence.cov \n",
    "do\n",
    "cat ${f} |\\\n",
    "awk -F\"\\t\" '{if($5+$6>=80)print $0}' |\\\n",
    "wc -l\n",
    "done"
   ]
  },
  {
   "cell_type": "code",
   "execution_count": 93,
   "metadata": {},
   "outputs": [
    {
     "name": "stdout",
     "output_type": "stream",
     "text": [
      "  607997\n",
      "  771203\n",
      "  669874\n"
     ]
    }
   ],
   "source": [
    "%%bash \n",
    "\n",
    "RRBS_dir=\"/Volumes/web/seashell/bu-mox/scrubbed/031520-TG-bs/Pact_tg/nodedup/\"\n",
    "\n",
    "for f in ${RRBS_dir}*.merged_CpG_evidence.cov \n",
    "do\n",
    "cat ${f} |\\\n",
    "awk -F\"\\t\" '{if($5+$6>=80)print $0}' |\\\n",
    "wc -l\n",
    "done"
   ]
  },
  {
   "cell_type": "code",
   "execution_count": 94,
   "metadata": {},
   "outputs": [],
   "source": [
    "#awk -F\"\\t\" '{if($5>=90)print $0}' |\\\n",
    "#wc -l"
   ]
  },
  {
   "cell_type": "code",
   "execution_count": 95,
   "metadata": {},
   "outputs": [
    {
     "name": "stdout",
     "output_type": "stream",
     "text": [
      "   19056\n",
      "   31191\n",
      "   23161\n",
      "   59115\n",
      "   40059\n",
      "   34515\n"
     ]
    }
   ],
   "source": [
    "%%bash \n",
    "\n",
    "WGBS_dir=\"/Volumes/web/seashell/bu-mox/scrubbed/031520-TG-bs/Pact_tg/dedup/\"\n",
    "\n",
    "for f in ${WGBS_dir}*.merged_CpG_evidence.cov \n",
    "do\n",
    "cat ${f} |\\\n",
    "awk -F\"\\t\" '{if($5+$6>=90)print $0}' |\\\n",
    "wc -l\n",
    "done"
   ]
  },
  {
   "cell_type": "code",
   "execution_count": 96,
   "metadata": {},
   "outputs": [
    {
     "name": "stdout",
     "output_type": "stream",
     "text": [
      "  589201\n",
      "  760095\n",
      "  647785\n"
     ]
    }
   ],
   "source": [
    "%%bash \n",
    "\n",
    "RRBS_dir=\"/Volumes/web/seashell/bu-mox/scrubbed/031520-TG-bs/Pact_tg/nodedup/\"\n",
    "\n",
    "for f in ${RRBS_dir}*.merged_CpG_evidence.cov \n",
    "do\n",
    "cat ${f} |\\\n",
    "awk -F\"\\t\" '{if($5+$6>=90)print $0}' |\\\n",
    "wc -l\n",
    "done"
   ]
  },
  {
   "cell_type": "code",
   "execution_count": 97,
   "metadata": {},
   "outputs": [],
   "source": [
    "#awk -F\"\\t\" '{if($5>=100)print $0}' |\\\n",
    "#wc -l"
   ]
  },
  {
   "cell_type": "code",
   "execution_count": 98,
   "metadata": {},
   "outputs": [
    {
     "name": "stdout",
     "output_type": "stream",
     "text": [
      "   15754\n",
      "   25651\n",
      "   19142\n",
      "   51384\n",
      "   34983\n",
      "   28717\n"
     ]
    }
   ],
   "source": [
    "%%bash \n",
    "\n",
    "WGBS_dir=\"/Volumes/web/seashell/bu-mox/scrubbed/031520-TG-bs/Pact_tg/dedup/\"\n",
    "\n",
    "for f in ${WGBS_dir}*.merged_CpG_evidence.cov \n",
    "do\n",
    "cat ${f} |\\\n",
    "awk -F\"\\t\" '{if($5+$6>=100)print $0}' |\\\n",
    "wc -l\n",
    "done"
   ]
  },
  {
   "cell_type": "code",
   "execution_count": 99,
   "metadata": {},
   "outputs": [
    {
     "name": "stdout",
     "output_type": "stream",
     "text": [
      "  571476\n",
      "  749182\n",
      "  627530\n"
     ]
    }
   ],
   "source": [
    "%%bash \n",
    "\n",
    "RRBS_dir=\"/Volumes/web/seashell/bu-mox/scrubbed/031520-TG-bs/Pact_tg/nodedup/\"\n",
    "\n",
    "for f in ${RRBS_dir}*.merged_CpG_evidence.cov \n",
    "do\n",
    "cat ${f} |\\\n",
    "awk -F\"\\t\" '{if($5+$6>=100)print $0}' |\\\n",
    "wc -l\n",
    "done"
   ]
  },
  {
   "cell_type": "code",
   "execution_count": null,
   "metadata": {},
   "outputs": [],
   "source": [
    "#count the number of CpGs covered at different depths"
   ]
  },
  {
   "cell_type": "code",
   "execution_count": null,
   "metadata": {},
   "outputs": [],
   "source": [
    "#Now do the same thing for the "
   ]
  },
  {
   "cell_type": "code",
   "execution_count": null,
   "metadata": {},
   "outputs": [],
   "source": [
    "/Volumes/web/metacarcinus/FROGER_meth_compare/20200507/Pact_tg/dedup"
   ]
  },
  {
   "cell_type": "code",
   "execution_count": 101,
   "metadata": {
    "scrolled": true
   },
   "outputs": [
    {
     "name": "stdout",
     "output_type": "stream",
     "text": [
      " 7598550 /Volumes/web/metacarcinus/FROGER_meth_compare/20200507/Pact_tg/dedup/Pact_MBD_100M_R1_001_val_1_bismark_bt2_pe.CpG_report.merged_CpG_evidence.cov\n",
      " 7853081 /Volumes/web/metacarcinus/FROGER_meth_compare/20200507/Pact_tg/dedup/Pact_MBD_150M_R1_001_val_1_bismark_bt2_pe.CpG_report.merged_CpG_evidence.cov\n",
      " 7985553 /Volumes/web/metacarcinus/FROGER_meth_compare/20200507/Pact_tg/dedup/Pact_MBD_200M_R1_001_val_1_bismark_bt2_pe.CpG_report.merged_CpG_evidence.cov\n",
      " 6872601 /Volumes/web/metacarcinus/FROGER_meth_compare/20200507/Pact_tg/dedup/Pact_MBD_50M_R1_001_val_1_bismark_bt2_pe.CpG_report.merged_CpG_evidence.cov\n",
      " 8401313 /Volumes/web/metacarcinus/FROGER_meth_compare/20200507/Pact_tg/dedup/Pact_WGBS_100M_R1_001_val_1_bismark_bt2_pe.CpG_report.merged_CpG_evidence.cov\n",
      " 8492401 /Volumes/web/metacarcinus/FROGER_meth_compare/20200507/Pact_tg/dedup/Pact_WGBS_150M_R1_001_val_1_bismark_bt2_pe.CpG_report.merged_CpG_evidence.cov\n",
      " 8541461 /Volumes/web/metacarcinus/FROGER_meth_compare/20200507/Pact_tg/dedup/Pact_WGBS_200M_R1_001_val_1_bismark_bt2_pe.CpG_report.merged_CpG_evidence.cov\n",
      " 8164245 /Volumes/web/metacarcinus/FROGER_meth_compare/20200507/Pact_tg/dedup/Pact_WGBS_50M_R1_001_val_1_bismark_bt2_pe.CpG_report.merged_CpG_evidence.cov\n"
     ]
    }
   ],
   "source": [
    "%%bash \n",
    "\n",
    "WGBS_dir=\"/Volumes/web/metacarcinus/FROGER_meth_compare/20200507/Pact_tg/dedup/\"\n",
    "\n",
    "for f in ${WGBS_dir}*.merged_CpG_evidence.cov \n",
    "do\n",
    "wc -l ${f}\n",
    "done\n"
   ]
  },
  {
   "cell_type": "code",
   "execution_count": 142,
   "metadata": {},
   "outputs": [
    {
     "name": "stdout",
     "output_type": "stream",
     "text": [
      " 3223906 /Volumes/web/metacarcinus/FROGER_meth_compare/20200507/Pact_tg/nodedup/Pact_RRBS_100M_R1_001_val_1_bismark_bt2_pe.CpG_report.merged_CpG_evidence.cov\n",
      " 3687421 /Volumes/web/metacarcinus/FROGER_meth_compare/20200507/Pact_tg/nodedup/Pact_RRBS_150M_R1_001_val_1_bismark_bt2_pe.CpG_report.merged_CpG_evidence.cov\n",
      " 4020691 /Volumes/web/metacarcinus/FROGER_meth_compare/20200507/Pact_tg/nodedup/Pact_RRBS_200M_R1_001_val_1_bismark_bt2_pe.CpG_report.merged_CpG_evidence.cov\n",
      " 2492973 /Volumes/web/metacarcinus/FROGER_meth_compare/20200507/Pact_tg/nodedup/Pact_RRBS_50M_R1_001_val_1_bismark_bt2_pe.CpG_report.merged_CpG_evidence.cov\n"
     ]
    }
   ],
   "source": [
    "%%bash \n",
    "\n",
    "RRBS_dir=\"/Volumes/web/metacarcinus/FROGER_meth_compare/20200507/Pact_tg/nodedup/\"\n",
    "\n",
    "for f in ${RRBS_dir}*.merged_CpG_evidence.cov \n",
    "do\n",
    "wc -l ${f}\n",
    "done"
   ]
  },
  {
   "cell_type": "code",
   "execution_count": null,
   "metadata": {},
   "outputs": [],
   "source": []
  },
  {
   "cell_type": "code",
   "execution_count": null,
   "metadata": {},
   "outputs": [],
   "source": [
    "\n",
    "#awk -F\"\\t\" '{if($5+$6>=5)print $0}' |\\\n",
    "#wc -l"
   ]
  },
  {
   "cell_type": "code",
   "execution_count": 104,
   "metadata": {},
   "outputs": [
    {
     "name": "stdout",
     "output_type": "stream",
     "text": [
      " 3631776\n",
      " 4586099\n",
      " 5150082\n",
      " 1900037\n",
      " 7172554\n",
      " 7508110\n",
      " 7676508\n",
      " 6100589\n"
     ]
    }
   ],
   "source": [
    "%%bash \n",
    "\n",
    "WGBS_dir=\"/Volumes/web/metacarcinus/FROGER_meth_compare/20200507/Pact_tg/dedup/\"\n",
    "\n",
    "for f in ${WGBS_dir}*.merged_CpG_evidence.cov \n",
    "do\n",
    "cat ${f} |\\\n",
    "awk -F\"\\t\" '{if($5+$6>=5)print $0}' |\\\n",
    "wc -l\n",
    "done"
   ]
  },
  {
   "cell_type": "code",
   "execution_count": 105,
   "metadata": {
    "scrolled": true
   },
   "outputs": [
    {
     "name": "stdout",
     "output_type": "stream",
     "text": [
      " 1175495\n",
      " 1435761\n",
      " 1676615\n",
      "  946107\n"
     ]
    }
   ],
   "source": [
    "%%bash \n",
    "\n",
    "RRBS_dir=\"/Volumes/web/metacarcinus/FROGER_meth_compare/20200507/Pact_tg/nodedup/\"\n",
    "\n",
    "for f in ${RRBS_dir}*.merged_CpG_evidence.cov \n",
    "do\n",
    "cat ${f} |\\\n",
    "awk -F\"\\t\" '{if($5+$6>=5)print $0}' |\\\n",
    "wc -l\n",
    "done"
   ]
  },
  {
   "cell_type": "code",
   "execution_count": 106,
   "metadata": {},
   "outputs": [],
   "source": [
    "#awk -F\"\\t\" '{if($5>=10)print $0}' |\\\n",
    "#wc -l"
   ]
  },
  {
   "cell_type": "code",
   "execution_count": 107,
   "metadata": {},
   "outputs": [
    {
     "name": "stdout",
     "output_type": "stream",
     "text": [
      " 1180288\n",
      " 1854446\n",
      " 2394191\n",
      "  498145\n",
      " 5645758\n",
      " 6405309\n",
      " 6763503\n",
      " 3405958\n"
     ]
    }
   ],
   "source": [
    "%%bash \n",
    "\n",
    "WGBS_dir=\"/Volumes/web/metacarcinus/FROGER_meth_compare/20200507/Pact_tg/dedup/\"\n",
    "\n",
    "for f in ${WGBS_dir}*.merged_CpG_evidence.cov \n",
    "do\n",
    "cat ${f} |\\\n",
    "awk -F\"\\t\" '{if($5+$6>=10)print $0}' |\\\n",
    "wc -l\n",
    "done"
   ]
  },
  {
   "cell_type": "code",
   "execution_count": 108,
   "metadata": {},
   "outputs": [
    {
     "name": "stdout",
     "output_type": "stream",
     "text": [
      "  919563\n",
      " 1001168\n",
      " 1109342\n",
      "  839750\n"
     ]
    }
   ],
   "source": [
    "%%bash \n",
    "\n",
    "RRBS_dir=\"/Volumes/web/metacarcinus/FROGER_meth_compare/20200507/Pact_tg/nodedup/\"\n",
    "\n",
    "for f in ${RRBS_dir}*.merged_CpG_evidence.cov \n",
    "do\n",
    "cat ${f} |\\\n",
    "awk -F\"\\t\" '{if($5+$6>=10)print $0}' |\\\n",
    "wc -l\n",
    "done"
   ]
  },
  {
   "cell_type": "code",
   "execution_count": 109,
   "metadata": {},
   "outputs": [],
   "source": [
    "#awk -F\"\\t\" '{if($5>=15)print $0}' |\\\n",
    "#wc -l"
   ]
  },
  {
   "cell_type": "code",
   "execution_count": 110,
   "metadata": {},
   "outputs": [
    {
     "name": "stdout",
     "output_type": "stream",
     "text": [
      "  538165\n",
      "  826661\n",
      " 1108974\n",
      "  288891\n",
      " 3956388\n",
      " 5150454\n",
      " 5754773\n",
      " 1499286\n"
     ]
    }
   ],
   "source": [
    "%%bash \n",
    "\n",
    "WGBS_dir=\"/Volumes/web/metacarcinus/FROGER_meth_compare/20200507/Pact_tg/dedup/\"\n",
    "\n",
    "for f in ${WGBS_dir}*.merged_CpG_evidence.cov \n",
    "do\n",
    "cat ${f} |\\\n",
    "awk -F\"\\t\" '{if($5+$6>=15)print $0}' |\\\n",
    "wc -l\n",
    "done"
   ]
  },
  {
   "cell_type": "code",
   "execution_count": 111,
   "metadata": {},
   "outputs": [
    {
     "name": "stdout",
     "output_type": "stream",
     "text": [
      "  869559\n",
      "  914183\n",
      "  958988\n",
      "  788570\n"
     ]
    }
   ],
   "source": [
    "%%bash \n",
    "\n",
    "RRBS_dir=\"/Volumes/web/metacarcinus/FROGER_meth_compare/20200507/Pact_tg/nodedup/\"\n",
    "\n",
    "for f in ${RRBS_dir}*.merged_CpG_evidence.cov \n",
    "do\n",
    "cat ${f} |\\\n",
    "awk -F\"\\t\" '{if($5+$6>=15)print $0}' |\\\n",
    "wc -l\n",
    "done"
   ]
  },
  {
   "cell_type": "code",
   "execution_count": 112,
   "metadata": {},
   "outputs": [],
   "source": [
    "#awk -F\"\\t\" '{if($5>=20)print $0}' |\\\n",
    "#wc -l"
   ]
  },
  {
   "cell_type": "code",
   "execution_count": 113,
   "metadata": {},
   "outputs": [
    {
     "name": "stdout",
     "output_type": "stream",
     "text": [
      "  359187\n",
      "  494976\n",
      "  631463\n",
      "  217859\n",
      " 2459328\n",
      " 3822700\n",
      " 4630473\n",
      "  637059\n"
     ]
    }
   ],
   "source": [
    "%%bash \n",
    "\n",
    "WGBS_dir=\"/Volumes/web/metacarcinus/FROGER_meth_compare/20200507/Pact_tg/dedup/\"\n",
    "\n",
    "for f in ${WGBS_dir}*.merged_CpG_evidence.cov \n",
    "do\n",
    "cat ${f} |\\\n",
    "awk -F\"\\t\" '{if($5+$6>=20)print $0}' |\\\n",
    "wc -l\n",
    "done"
   ]
  },
  {
   "cell_type": "code",
   "execution_count": 114,
   "metadata": {},
   "outputs": [
    {
     "name": "stdout",
     "output_type": "stream",
     "text": [
      "  837938\n",
      "  880281\n",
      "  911523\n",
      "  743508\n"
     ]
    }
   ],
   "source": [
    "%%bash \n",
    "\n",
    "RRBS_dir=\"/Volumes/web/metacarcinus/FROGER_meth_compare/20200507/Pact_tg/nodedup/\"\n",
    "\n",
    "for f in ${RRBS_dir}*.merged_CpG_evidence.cov \n",
    "do\n",
    "cat ${f} |\\\n",
    "awk -F\"\\t\" '{if($5+$6>=20)print $0}' |\\\n",
    "wc -l\n",
    "done"
   ]
  },
  {
   "cell_type": "code",
   "execution_count": 115,
   "metadata": {},
   "outputs": [],
   "source": [
    "#awk -F\"\\t\" '{if($5>=25)print $0}' |\\\n",
    "#wc -l"
   ]
  },
  {
   "cell_type": "code",
   "execution_count": 116,
   "metadata": {},
   "outputs": [
    {
     "name": "stdout",
     "output_type": "stream",
     "text": [
      "  283180\n",
      "  368675\n",
      "  446478\n",
      "  177507\n",
      " 1417866\n",
      " 2629032\n",
      " 3502671\n",
      "  324423\n"
     ]
    }
   ],
   "source": [
    "%%bash \n",
    "\n",
    "WGBS_dir=\"/Volumes/web/metacarcinus/FROGER_meth_compare/20200507/Pact_tg/dedup/\"\n",
    "\n",
    "for f in ${WGBS_dir}*.merged_CpG_evidence.cov \n",
    "do\n",
    "cat ${f} |\\\n",
    "awk -F\"\\t\" '{if($5+$6>=25)print $0}' |\\\n",
    "wc -l\n",
    "done"
   ]
  },
  {
   "cell_type": "code",
   "execution_count": 117,
   "metadata": {},
   "outputs": [
    {
     "name": "stdout",
     "output_type": "stream",
     "text": [
      "  811914\n",
      "  857328\n",
      "  886292\n",
      "  704642\n"
     ]
    }
   ],
   "source": [
    "%%bash \n",
    "\n",
    "RRBS_dir=\"/Volumes/web/metacarcinus/FROGER_meth_compare/20200507/Pact_tg/nodedup/\"\n",
    "\n",
    "for f in ${RRBS_dir}*.merged_CpG_evidence.cov \n",
    "do\n",
    "cat ${f} |\\\n",
    "awk -F\"\\t\" '{if($5+$6>=25)print $0}' |\\\n",
    "wc -l\n",
    "done"
   ]
  },
  {
   "cell_type": "code",
   "execution_count": 118,
   "metadata": {},
   "outputs": [],
   "source": [
    "#awk -F\"\\t\" '{if($5>=30)print $0}' |\\\n",
    "#wc -l"
   ]
  },
  {
   "cell_type": "code",
   "execution_count": 119,
   "metadata": {},
   "outputs": [
    {
     "name": "stdout",
     "output_type": "stream",
     "text": [
      "  238177\n",
      "  303554\n",
      "  357943\n",
      "  149876\n",
      "  814772\n",
      " 1711647\n",
      " 2507183\n",
      "  203722\n"
     ]
    }
   ],
   "source": [
    "%%bash \n",
    "\n",
    "WGBS_dir=\"/Volumes/web/metacarcinus/FROGER_meth_compare/20200507/Pact_tg/dedup/\"\n",
    "\n",
    "for f in ${WGBS_dir}*.merged_CpG_evidence.cov \n",
    "do\n",
    "cat ${f} |\\\n",
    "awk -F\"\\t\" '{if($5+$6>=30)print $0}' |\\\n",
    "wc -l\n",
    "done"
   ]
  },
  {
   "cell_type": "code",
   "execution_count": 120,
   "metadata": {},
   "outputs": [
    {
     "name": "stdout",
     "output_type": "stream",
     "text": [
      "  788133\n",
      "  837927\n",
      "  867224\n",
      "  670843\n"
     ]
    }
   ],
   "source": [
    "%%bash \n",
    "\n",
    "RRBS_dir=\"/Volumes/web/metacarcinus/FROGER_meth_compare/20200507/Pact_tg/nodedup/\"\n",
    "\n",
    "for f in ${RRBS_dir}*.merged_CpG_evidence.cov \n",
    "do\n",
    "cat ${f} |\\\n",
    "awk -F\"\\t\" '{if($5+$6>=30)print $0}' |\\\n",
    "wc -l\n",
    "done"
   ]
  },
  {
   "cell_type": "code",
   "execution_count": 121,
   "metadata": {},
   "outputs": [],
   "source": [
    "#awk -F\"\\t\" '{if($5>=40)print $0}' |\\\n",
    "#wc -l"
   ]
  },
  {
   "cell_type": "code",
   "execution_count": 122,
   "metadata": {},
   "outputs": [
    {
     "name": "stdout",
     "output_type": "stream",
     "text": [
      "  183935\n",
      "  231334\n",
      "  268076\n",
      "  113155\n",
      "  338619\n",
      "  714717\n",
      " 1172437\n",
      "  110216\n"
     ]
    }
   ],
   "source": [
    "%%bash \n",
    "\n",
    "WGBS_dir=\"/Volumes/web/metacarcinus/FROGER_meth_compare/20200507/Pact_tg/dedup/\"\n",
    "\n",
    "for f in ${WGBS_dir}*.merged_CpG_evidence.cov \n",
    "do\n",
    "cat ${f} |\\\n",
    "awk -F\"\\t\" '{if($5+$6>=40)print $0}' |\\\n",
    "wc -l\n",
    "done"
   ]
  },
  {
   "cell_type": "code",
   "execution_count": 123,
   "metadata": {},
   "outputs": [
    {
     "name": "stdout",
     "output_type": "stream",
     "text": [
      "  743842\n",
      "  803588\n",
      "  837316\n",
      "  610462\n"
     ]
    }
   ],
   "source": [
    "%%bash \n",
    "\n",
    "RRBS_dir=\"/Volumes/web/metacarcinus/FROGER_meth_compare/20200507/Pact_tg/nodedup/\"\n",
    "\n",
    "for f in ${RRBS_dir}*.merged_CpG_evidence.cov \n",
    "do\n",
    "cat ${f} |\\\n",
    "awk -F\"\\t\" '{if($5+$6>=40)print $0}' |\\\n",
    "wc -l\n",
    "done"
   ]
  },
  {
   "cell_type": "code",
   "execution_count": 124,
   "metadata": {},
   "outputs": [],
   "source": [
    "#awk -F\"\\t\" '{if($5>=50)print $0}' |\\\n",
    "#wc -l"
   ]
  },
  {
   "cell_type": "code",
   "execution_count": 125,
   "metadata": {},
   "outputs": [
    {
     "name": "stdout",
     "output_type": "stream",
     "text": [
      "  149941\n",
      "  189565\n",
      "  219024\n",
      "   89485\n",
      "  197638\n",
      "  363168\n",
      "  575212\n",
      "   71939\n"
     ]
    }
   ],
   "source": [
    "%%bash \n",
    "\n",
    "WGBS_dir=\"/Volumes/web/metacarcinus/FROGER_meth_compare/20200507/Pact_tg/dedup/\"\n",
    "\n",
    "for f in ${WGBS_dir}*.merged_CpG_evidence.cov \n",
    "do\n",
    "cat ${f} |\\\n",
    "awk -F\"\\t\" '{if($5+$6>=50)print $0}' |\\\n",
    "wc -l\n",
    "done"
   ]
  },
  {
   "cell_type": "code",
   "execution_count": 126,
   "metadata": {},
   "outputs": [
    {
     "name": "stdout",
     "output_type": "stream",
     "text": [
      "  704268\n",
      "  773034\n",
      "  811393\n",
      "  561099\n"
     ]
    }
   ],
   "source": [
    "%%bash \n",
    "\n",
    "RRBS_dir=\"/Volumes/web/metacarcinus/FROGER_meth_compare/20200507/Pact_tg/nodedup/\"\n",
    "\n",
    "for f in ${RRBS_dir}*.merged_CpG_evidence.cov \n",
    "do\n",
    "cat ${f} |\\\n",
    "awk -F\"\\t\" '{if($5+$6>=50)print $0}' |\\\n",
    "wc -l\n",
    "done"
   ]
  },
  {
   "cell_type": "code",
   "execution_count": 127,
   "metadata": {},
   "outputs": [],
   "source": [
    "#awk -F\"\\t\" '{if($5>=60)print $0}' |\\\n",
    "#wc -l"
   ]
  },
  {
   "cell_type": "code",
   "execution_count": 128,
   "metadata": {},
   "outputs": [
    {
     "name": "stdout",
     "output_type": "stream",
     "text": [
      "  125968\n",
      "  160514\n",
      "  186138\n",
      "   72698\n",
      "  135341\n",
      "  231857\n",
      "  338421\n",
      "   51639\n"
     ]
    }
   ],
   "source": [
    "%%bash \n",
    "\n",
    "WGBS_dir=\"/Volumes/web/metacarcinus/FROGER_meth_compare/20200507/Pact_tg/dedup/\"\n",
    "\n",
    "for f in ${WGBS_dir}*.merged_CpG_evidence.cov \n",
    "do\n",
    "cat ${f} |\\\n",
    "awk -F\"\\t\" '{if($5+$6>=60)print $0}' |\\\n",
    "wc -l\n",
    "done"
   ]
  },
  {
   "cell_type": "code",
   "execution_count": 129,
   "metadata": {},
   "outputs": [
    {
     "name": "stdout",
     "output_type": "stream",
     "text": [
      "  669539\n",
      "  743909\n",
      "  787622\n",
      "  519335\n"
     ]
    }
   ],
   "source": [
    "%%bash \n",
    "\n",
    "RRBS_dir=\"/Volumes/web/metacarcinus/FROGER_meth_compare/20200507/Pact_tg/nodedup/\"\n",
    "\n",
    "for f in ${RRBS_dir}*.merged_CpG_evidence.cov \n",
    "do\n",
    "cat ${f} |\\\n",
    "awk -F\"\\t\" '{if($5+$6>=60)print $0}' |\\\n",
    "wc -l\n",
    "done"
   ]
  },
  {
   "cell_type": "code",
   "execution_count": 130,
   "metadata": {},
   "outputs": [],
   "source": [
    "#awk -F\"\\t\" '{if($5>=70)print $0}' |\\\n",
    "#wc -l"
   ]
  },
  {
   "cell_type": "code",
   "execution_count": 131,
   "metadata": {},
   "outputs": [
    {
     "name": "stdout",
     "output_type": "stream",
     "text": [
      "  107620\n",
      "  139252\n",
      "  161628\n",
      "   60155\n",
      "   99911\n",
      "  166499\n",
      "  234168\n",
      "   38868\n"
     ]
    }
   ],
   "source": [
    "%%bash \n",
    "\n",
    "WGBS_dir=\"/Volumes/web/metacarcinus/FROGER_meth_compare/20200507/Pact_tg/dedup/\"\n",
    "\n",
    "for f in ${WGBS_dir}*.merged_CpG_evidence.cov \n",
    "do\n",
    "cat ${f} |\\\n",
    "awk -F\"\\t\" '{if($5+$6>=70)print $0}' |\\\n",
    "wc -l\n",
    "done"
   ]
  },
  {
   "cell_type": "code",
   "execution_count": 132,
   "metadata": {},
   "outputs": [
    {
     "name": "stdout",
     "output_type": "stream",
     "text": [
      "  638953\n",
      "  716554\n",
      "  764582\n",
      "  484566\n"
     ]
    }
   ],
   "source": [
    "%%bash \n",
    "\n",
    "RRBS_dir=\"/Volumes/web/metacarcinus/FROGER_meth_compare/20200507/Pact_tg/nodedup/\"\n",
    "\n",
    "for f in ${RRBS_dir}*.merged_CpG_evidence.cov \n",
    "do\n",
    "cat ${f} |\\\n",
    "awk -F\"\\t\" '{if($5+$6>=70)print $0}' |\\\n",
    "wc -l\n",
    "done"
   ]
  },
  {
   "cell_type": "code",
   "execution_count": 133,
   "metadata": {},
   "outputs": [],
   "source": [
    "#awk -F\"\\t\" '{if($5>=80)print $0}' |\\\n",
    "#wc -l"
   ]
  },
  {
   "cell_type": "code",
   "execution_count": 134,
   "metadata": {},
   "outputs": [
    {
     "name": "stdout",
     "output_type": "stream",
     "text": [
      "   93366\n",
      "  122240\n",
      "  142837\n",
      "   50584\n",
      "   77706\n",
      "  126982\n",
      "  176142\n",
      "   30645\n"
     ]
    }
   ],
   "source": [
    "%%bash \n",
    "\n",
    "WGBS_dir=\"/Volumes/web/metacarcinus/FROGER_meth_compare/20200507/Pact_tg/dedup/\"\n",
    "\n",
    "for f in ${WGBS_dir}*.merged_CpG_evidence.cov \n",
    "do\n",
    "cat ${f} |\\\n",
    "awk -F\"\\t\" '{if($5+$6>=80)print $0}' |\\\n",
    "wc -l\n",
    "done"
   ]
  },
  {
   "cell_type": "code",
   "execution_count": 135,
   "metadata": {},
   "outputs": [
    {
     "name": "stdout",
     "output_type": "stream",
     "text": [
      "  610873\n",
      "  691732\n",
      "  743174\n",
      "  454233\n"
     ]
    }
   ],
   "source": [
    "%%bash \n",
    "\n",
    "RRBS_dir=\"/Volumes/web/metacarcinus/FROGER_meth_compare/20200507/Pact_tg/nodedup/\"\n",
    "\n",
    "for f in ${RRBS_dir}*.merged_CpG_evidence.cov \n",
    "do\n",
    "cat ${f} |\\\n",
    "awk -F\"\\t\" '{if($5+$6>=80)print $0}' |\\\n",
    "wc -l\n",
    "done"
   ]
  },
  {
   "cell_type": "code",
   "execution_count": 136,
   "metadata": {},
   "outputs": [],
   "source": [
    "#awk -F\"\\t\" '{if($5>=90)print $0}' |\\\n",
    "#wc -l"
   ]
  },
  {
   "cell_type": "code",
   "execution_count": 137,
   "metadata": {},
   "outputs": [
    {
     "name": "stdout",
     "output_type": "stream",
     "text": [
      "   81988\n",
      "  108357\n",
      "  127375\n",
      "   43023\n",
      "   62566\n",
      "  100934\n",
      "  138600\n",
      "   24709\n"
     ]
    }
   ],
   "source": [
    "%%bash \n",
    "\n",
    "WGBS_dir=\"/Volumes/web/metacarcinus/FROGER_meth_compare/20200507/Pact_tg/dedup/\"\n",
    "\n",
    "for f in ${WGBS_dir}*.merged_CpG_evidence.cov \n",
    "do\n",
    "cat ${f} |\\\n",
    "awk -F\"\\t\" '{if($5+$6>=90)print $0}' |\\\n",
    "wc -l\n",
    "done"
   ]
  },
  {
   "cell_type": "code",
   "execution_count": 138,
   "metadata": {},
   "outputs": [
    {
     "name": "stdout",
     "output_type": "stream",
     "text": [
      "  583690\n",
      "  668923\n",
      "  722979\n",
      "  425659\n"
     ]
    }
   ],
   "source": [
    "%%bash \n",
    "\n",
    "RRBS_dir=\"/Volumes/web/metacarcinus/FROGER_meth_compare/20200507/Pact_tg/nodedup/\"\n",
    "\n",
    "for f in ${RRBS_dir}*.merged_CpG_evidence.cov \n",
    "do\n",
    "cat ${f} |\\\n",
    "awk -F\"\\t\" '{if($5+$6>=90)print $0}' |\\\n",
    "wc -l\n",
    "done"
   ]
  },
  {
   "cell_type": "code",
   "execution_count": 139,
   "metadata": {},
   "outputs": [],
   "source": [
    "#awk -F\"\\t\" '{if($5>=100)print $0}' |\\\n",
    "#wc -l"
   ]
  },
  {
   "cell_type": "code",
   "execution_count": 140,
   "metadata": {},
   "outputs": [
    {
     "name": "stdout",
     "output_type": "stream",
     "text": [
      "   72596\n",
      "   96850\n",
      "  114685\n",
      "   36878\n",
      "   51594\n",
      "   82752\n",
      "  112588\n",
      "   20553\n"
     ]
    }
   ],
   "source": [
    "%%bash \n",
    "\n",
    "WGBS_dir=\"/Volumes/web/metacarcinus/FROGER_meth_compare/20200507/Pact_tg/dedup/\"\n",
    "\n",
    "for f in ${WGBS_dir}*.merged_CpG_evidence.cov \n",
    "do\n",
    "cat ${f} |\\\n",
    "awk -F\"\\t\" '{if($5+$6>=100)print $0}' |\\\n",
    "wc -l\n",
    "done"
   ]
  },
  {
   "cell_type": "code",
   "execution_count": 141,
   "metadata": {},
   "outputs": [
    {
     "name": "stdout",
     "output_type": "stream",
     "text": [
      "  559869\n",
      "  648549\n",
      "  703446\n",
      "  400297\n"
     ]
    }
   ],
   "source": [
    "%%bash \n",
    "\n",
    "RRBS_dir=\"/Volumes/web/metacarcinus/FROGER_meth_compare/20200507/Pact_tg/nodedup/\"\n",
    "\n",
    "for f in ${RRBS_dir}*.merged_CpG_evidence.cov \n",
    "do\n",
    "cat ${f} |\\\n",
    "awk -F\"\\t\" '{if($5+$6>=100)print $0}' |\\\n",
    "wc -l\n",
    "done"
   ]
  },
  {
   "cell_type": "code",
   "execution_count": null,
   "metadata": {},
   "outputs": [],
   "source": []
  }
 ],
 "metadata": {
  "kernelspec": {
   "display_name": "Python 3",
   "language": "python",
   "name": "python3"
  },
  "language_info": {
   "codemirror_mode": {
    "name": "ipython",
    "version": 3
   },
   "file_extension": ".py",
   "mimetype": "text/x-python",
   "name": "python",
   "nbconvert_exporter": "python",
   "pygments_lexer": "ipython3",
   "version": "3.6.8"
  }
 },
 "nbformat": 4,
 "nbformat_minor": 4
}
