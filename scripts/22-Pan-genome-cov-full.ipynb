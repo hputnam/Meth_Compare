{
 "cells": [
  {
   "cell_type": "code",
   "execution_count": 1,
   "metadata": {
    "ExecuteTime": {
     "end_time": "2020-04-24T14:04:06.325333Z",
     "start_time": "2020-04-24T14:04:06.312606Z"
    }
   },
   "outputs": [
    {
     "name": "stdout",
     "output_type": "stream",
     "text": [
      "/Users/sr320/Documents/GitHub/Meth_Compare/analyses/pan-genome-cov-full\n"
     ]
    }
   ],
   "source": [
    "cd ../analyses/pan-genome-cov-full/"
   ]
  },
  {
   "cell_type": "code",
   "execution_count": 2,
   "metadata": {
    "ExecuteTime": {
     "end_time": "2020-04-24T14:34:43.176345Z",
     "start_time": "2020-04-24T14:05:42.983036Z"
    },
    "scrolled": true
   },
   "outputs": [
    {
     "name": "stdout",
     "output_type": "stream",
     "text": [
      "--2020-04-24 07:05:43--  https://gannet.fish.washington.edu/seashell/bu-mox/scrubbed/041720-pan/Pact_tg/dedup/\n",
      "Resolving gannet.fish.washington.edu (gannet.fish.washington.edu)... 128.95.149.52\n",
      "Connecting to gannet.fish.washington.edu (gannet.fish.washington.edu)|128.95.149.52|:443... connected.\n",
      "HTTP request sent, awaiting response... 200 OK\n",
      "Length: unspecified [text/html]\n",
      "Saving to: ‘./index.html.tmp’\n",
      "\n",
      "index.html.tmp          [ <=>                ]  24.61K  --.-KB/s    in 0.05s   \n",
      "\n",
      "2020-04-24 07:05:44 (531 KB/s) - ‘./index.html.tmp’ saved [25205]\n",
      "\n",
      "Loading robots.txt; please ignore errors.\n",
      "--2020-04-24 07:05:44--  https://gannet.fish.washington.edu/robots.txt\n",
      "Reusing existing connection to gannet.fish.washington.edu:443.\n",
      "HTTP request sent, awaiting response... 404 Not Found\n",
      "2020-04-24 07:05:44 ERROR 404: Not Found.\n",
      "\n",
      "Removing ./index.html.tmp since it should be rejected.\n",
      "\n",
      "--2020-04-24 07:05:44--  https://gannet.fish.washington.edu/seashell/bu-mox/scrubbed/041720-pan/Pact_tg/dedup/?C=N;O=D\n",
      "Reusing existing connection to gannet.fish.washington.edu:443.\n",
      "HTTP request sent, awaiting response... 200 OK\n",
      "Length: unspecified [text/html]\n",
      "Saving to: ‘./index.html?C=N;O=D.tmp’\n",
      "\n",
      "index.html?C=N;O=D.     [ <=>                ]  24.61K  --.-KB/s    in 0.02s   \n",
      "\n",
      "2020-04-24 07:05:45 (1.13 MB/s) - ‘./index.html?C=N;O=D.tmp’ saved [25205]\n",
      "\n",
      "Removing ./index.html?C=N;O=D.tmp since it should be rejected.\n",
      "\n",
      "--2020-04-24 07:05:45--  https://gannet.fish.washington.edu/seashell/bu-mox/scrubbed/041720-pan/Pact_tg/dedup/?C=M;O=A\n",
      "Reusing existing connection to gannet.fish.washington.edu:443.\n",
      "HTTP request sent, awaiting response... 200 OK\n",
      "Length: unspecified [text/html]\n",
      "Saving to: ‘./index.html?C=M;O=A.tmp’\n",
      "\n",
      "index.html?C=M;O=A.     [ <=>                ]  24.61K  --.-KB/s    in 0.03s   \n",
      "\n",
      "2020-04-24 07:05:46 (808 KB/s) - ‘./index.html?C=M;O=A.tmp’ saved [25205]\n",
      "\n",
      "Removing ./index.html?C=M;O=A.tmp since it should be rejected.\n",
      "\n",
      "--2020-04-24 07:05:46--  https://gannet.fish.washington.edu/seashell/bu-mox/scrubbed/041720-pan/Pact_tg/dedup/?C=S;O=A\n",
      "Reusing existing connection to gannet.fish.washington.edu:443.\n",
      "HTTP request sent, awaiting response... 200 OK\n",
      "Length: unspecified [text/html]\n",
      "Saving to: ‘./index.html?C=S;O=A.tmp’\n",
      "\n",
      "index.html?C=S;O=A.     [ <=>                ]  24.61K  --.-KB/s    in 0.03s   \n",
      "\n",
      "2020-04-24 07:05:47 (765 KB/s) - ‘./index.html?C=S;O=A.tmp’ saved [25205]\n",
      "\n",
      "Removing ./index.html?C=S;O=A.tmp since it should be rejected.\n",
      "\n",
      "--2020-04-24 07:05:47--  https://gannet.fish.washington.edu/seashell/bu-mox/scrubbed/041720-pan/Pact_tg/dedup/?C=D;O=A\n",
      "Reusing existing connection to gannet.fish.washington.edu:443.\n",
      "HTTP request sent, awaiting response... 200 OK\n",
      "Length: unspecified [text/html]\n",
      "Saving to: ‘./index.html?C=D;O=A.tmp’\n",
      "\n",
      "index.html?C=D;O=A.     [ <=>                ]  24.61K  --.-KB/s    in 0.03s   \n",
      "\n",
      "2020-04-24 07:05:48 (728 KB/s) - ‘./index.html?C=D;O=A.tmp’ saved [25205]\n",
      "\n",
      "Removing ./index.html?C=D;O=A.tmp since it should be rejected.\n",
      "\n",
      "--2020-04-24 07:05:48--  https://gannet.fish.washington.edu/seashell/bu-mox/scrubbed/041720-pan/Pact_tg/dedup/Meth1_R1_001_val_1_bismark_bt2_pe..CpG_report.merged_CpG_evidence.cov\n",
      "Reusing existing connection to gannet.fish.washington.edu:443.\n",
      "HTTP request sent, awaiting response... 200 OK\n",
      "Length: 413560497 (394M)\n",
      "Saving to: ‘./Meth1_R1_001_val_1_bismark_bt2_pe..CpG_report.merged_CpG_evidence.cov’\n",
      "\n",
      "Meth1_R1_001_val_1_ 100%[===================>] 394.40M  2.47MB/s    in 2m 48s  \n",
      "\n",
      "2020-04-24 07:08:35 (2.35 MB/s) - ‘./Meth1_R1_001_val_1_bismark_bt2_pe..CpG_report.merged_CpG_evidence.cov’ saved [413560497/413560497]\n",
      "\n",
      "--2020-04-24 07:08:36--  https://gannet.fish.washington.edu/seashell/bu-mox/scrubbed/041720-pan/Pact_tg/dedup/Meth2_R1_001_val_1_bismark_bt2_pe..CpG_report.merged_CpG_evidence.cov\n",
      "Reusing existing connection to gannet.fish.washington.edu:443.\n",
      "HTTP request sent, awaiting response... 200 OK\n",
      "Length: 458685956 (437M)\n",
      "Saving to: ‘./Meth2_R1_001_val_1_bismark_bt2_pe..CpG_report.merged_CpG_evidence.cov’\n",
      "\n",
      "Meth2_R1_001_val_1_ 100%[===================>] 437.44M  2.41MB/s    in 3m 8s   \n",
      "\n",
      "2020-04-24 07:11:44 (2.33 MB/s) - ‘./Meth2_R1_001_val_1_bismark_bt2_pe..CpG_report.merged_CpG_evidence.cov’ saved [458685956/458685956]\n",
      "\n",
      "--2020-04-24 07:11:44--  https://gannet.fish.washington.edu/seashell/bu-mox/scrubbed/041720-pan/Pact_tg/dedup/Meth3_R1_001_val_1_bismark_bt2_pe..CpG_report.merged_CpG_evidence.cov\n",
      "Reusing existing connection to gannet.fish.washington.edu:443.\n",
      "HTTP request sent, awaiting response... 200 OK\n",
      "Length: 450021902 (429M)\n",
      "Saving to: ‘./Meth3_R1_001_val_1_bismark_bt2_pe..CpG_report.merged_CpG_evidence.cov’\n",
      "\n",
      "Meth3_R1_001_val_1_ 100%[===================>] 429.17M  2.34MB/s    in 3m 13s  \n",
      "\n",
      "2020-04-24 07:14:58 (2.22 MB/s) - ‘./Meth3_R1_001_val_1_bismark_bt2_pe..CpG_report.merged_CpG_evidence.cov’ saved [450021902/450021902]\n",
      "\n",
      "--2020-04-24 07:15:00--  https://gannet.fish.washington.edu/seashell/bu-mox/scrubbed/041720-pan/Pact_tg/dedup/Meth7_R1_001_val_1_bismark_bt2_pe..CpG_report.merged_CpG_evidence.cov\n",
      "Reusing existing connection to gannet.fish.washington.edu:443.\n",
      "HTTP request sent, awaiting response... 200 OK\n",
      "Length: 953319367 (909M)\n",
      "Saving to: ‘./Meth7_R1_001_val_1_bismark_bt2_pe..CpG_report.merged_CpG_evidence.cov’\n",
      "\n",
      "Meth7_R1_001_val_1_ 100%[===================>] 909.16M  2.42MB/s    in 6m 37s  \n",
      "\n",
      "2020-04-24 07:21:37 (2.29 MB/s) - ‘./Meth7_R1_001_val_1_bismark_bt2_pe..CpG_report.merged_CpG_evidence.cov’ saved [953319367/953319367]\n",
      "\n",
      "--2020-04-24 07:21:41--  https://gannet.fish.washington.edu/seashell/bu-mox/scrubbed/041720-pan/Pact_tg/dedup/Meth8_R1_001_val_1_bismark_bt2_pe..CpG_report.merged_CpG_evidence.cov\n",
      "Reusing existing connection to gannet.fish.washington.edu:443.\n",
      "HTTP request sent, awaiting response... 200 OK\n",
      "Length: 1019835890 (973M)\n",
      "Saving to: ‘./Meth8_R1_001_val_1_bismark_bt2_pe..CpG_report.merged_CpG_evidence.cov’\n",
      "\n",
      "Meth8_R1_001_val_1_ 100%[===================>] 972.59M  2.55MB/s    in 6m 50s  \n",
      "\n",
      "2020-04-24 07:28:31 (2.37 MB/s) - ‘./Meth8_R1_001_val_1_bismark_bt2_pe..CpG_report.merged_CpG_evidence.cov’ saved [1019835890/1019835890]\n",
      "\n",
      "--2020-04-24 07:28:37--  https://gannet.fish.washington.edu/seashell/bu-mox/scrubbed/041720-pan/Pact_tg/dedup/Meth9_R1_001_val_1_bismark_bt2_pe..CpG_report.merged_CpG_evidence.cov\n",
      "Reusing existing connection to gannet.fish.washington.edu:443.\n",
      "HTTP request sent, awaiting response... 200 OK\n",
      "Length: 881580932 (841M)\n",
      "Saving to: ‘./Meth9_R1_001_val_1_bismark_bt2_pe..CpG_report.merged_CpG_evidence.cov’\n",
      "\n",
      "Meth9_R1_001_val_1_ 100%[===================>] 840.74M  2.56MB/s    in 5m 56s  \n",
      "\n",
      "2020-04-24 07:34:33 (2.36 MB/s) - ‘./Meth9_R1_001_val_1_bismark_bt2_pe..CpG_report.merged_CpG_evidence.cov’ saved [881580932/881580932]\n",
      "\n",
      "--2020-04-24 07:34:38--  https://gannet.fish.washington.edu/seashell/bu-mox/scrubbed/041720-pan/Pact_tg/dedup/?C=N;O=A\n",
      "Reusing existing connection to gannet.fish.washington.edu:443.\n",
      "HTTP request sent, awaiting response... 200 OK\n",
      "Length: unspecified [text/html]\n",
      "Saving to: ‘./index.html?C=N;O=A.tmp’\n",
      "\n",
      "index.html?C=N;O=A.     [ <=>                ]  24.61K  --.-KB/s    in 0.1s    \n",
      "\n",
      "2020-04-24 07:34:39 (197 KB/s) - ‘./index.html?C=N;O=A.tmp’ saved [25205]\n",
      "\n",
      "Removing ./index.html?C=N;O=A.tmp since it should be rejected.\n",
      "\n",
      "--2020-04-24 07:34:39--  https://gannet.fish.washington.edu/seashell/bu-mox/scrubbed/041720-pan/Pact_tg/dedup/?C=M;O=D\n",
      "Reusing existing connection to gannet.fish.washington.edu:443.\n",
      "HTTP request sent, awaiting response... 200 OK\n",
      "Length: unspecified [text/html]\n",
      "Saving to: ‘./index.html?C=M;O=D.tmp’\n",
      "\n",
      "index.html?C=M;O=D.     [ <=>                ]  24.61K  --.-KB/s    in 0.06s   \n",
      "\n",
      "2020-04-24 07:34:40 (419 KB/s) - ‘./index.html?C=M;O=D.tmp’ saved [25205]\n",
      "\n",
      "Removing ./index.html?C=M;O=D.tmp since it should be rejected.\n",
      "\n",
      "--2020-04-24 07:34:40--  https://gannet.fish.washington.edu/seashell/bu-mox/scrubbed/041720-pan/Pact_tg/dedup/?C=S;O=D\n",
      "Reusing existing connection to gannet.fish.washington.edu:443.\n",
      "HTTP request sent, awaiting response... 200 OK\n",
      "Length: unspecified [text/html]\n",
      "Saving to: ‘./index.html?C=S;O=D.tmp’\n",
      "\n",
      "index.html?C=S;O=D.     [ <=>                ]  24.61K  --.-KB/s    in 0.05s   \n",
      "\n",
      "2020-04-24 07:34:41 (508 KB/s) - ‘./index.html?C=S;O=D.tmp’ saved [25205]\n",
      "\n",
      "Removing ./index.html?C=S;O=D.tmp since it should be rejected.\n",
      "\n",
      "--2020-04-24 07:34:41--  https://gannet.fish.washington.edu/seashell/bu-mox/scrubbed/041720-pan/Pact_tg/dedup/?C=D;O=D\n",
      "Reusing existing connection to gannet.fish.washington.edu:443.\n"
     ]
    },
    {
     "name": "stdout",
     "output_type": "stream",
     "text": [
      "HTTP request sent, awaiting response... 200 OK\n",
      "Length: unspecified [text/html]\n",
      "Saving to: ‘./index.html?C=D;O=D.tmp’\n",
      "\n",
      "index.html?C=D;O=D.     [ <=>                ]  24.61K  --.-KB/s    in 0.03s   \n",
      "\n",
      "2020-04-24 07:34:43 (916 KB/s) - ‘./index.html?C=D;O=D.tmp’ saved [25205]\n",
      "\n",
      "Removing ./index.html?C=D;O=D.tmp since it should be rejected.\n",
      "\n",
      "FINISHED --2020-04-24 07:34:43--\n",
      "Total wall clock time: 29m 0s\n",
      "Downloaded: 15 files, 3.9G in 28m 32s (2.33 MB/s)\n"
     ]
    }
   ],
   "source": [
    "!wget -r \\\n",
    "--no-directories --no-parent \\\n",
    "-P . \\\n",
    "-A CpG_evidence.cov https://gannet.fish.washington.edu/seashell/bu-mox/scrubbed/041720-pan/Pact_tg/dedup/\n",
    "\n",
    "\n"
   ]
  },
  {
   "cell_type": "code",
   "execution_count": 9,
   "metadata": {
    "ExecuteTime": {
     "end_time": "2020-04-24T14:46:05.809471Z",
     "start_time": "2020-04-24T14:39:53.221473Z"
    }
   },
   "outputs": [
    {
     "name": "stdout",
     "output_type": "stream",
     "text": [
      "--2020-04-24 07:39:53--  https://gannet.fish.washington.edu/seashell/bu-mox/scrubbed/041720-pan/Pact_tg/nodedup/\n",
      "Resolving gannet.fish.washington.edu (gannet.fish.washington.edu)... 128.95.149.52\n",
      "Connecting to gannet.fish.washington.edu (gannet.fish.washington.edu)|128.95.149.52|:443... connected.\n",
      "HTTP request sent, awaiting response... 200 OK\n",
      "Length: unspecified [text/html]\n",
      "Saving to: ‘./index.html.tmp’\n",
      "\n",
      "index.html.tmp          [ <=>                ]  11.41K  --.-KB/s    in 0.03s   \n",
      "\n",
      "2020-04-24 07:39:53 (364 KB/s) - ‘./index.html.tmp’ saved [11685]\n",
      "\n",
      "Loading robots.txt; please ignore errors.\n",
      "--2020-04-24 07:39:53--  https://gannet.fish.washington.edu/robots.txt\n",
      "Reusing existing connection to gannet.fish.washington.edu:443.\n",
      "HTTP request sent, awaiting response... 404 Not Found\n",
      "2020-04-24 07:39:53 ERROR 404: Not Found.\n",
      "\n",
      "Removing ./index.html.tmp since it should be rejected.\n",
      "\n",
      "--2020-04-24 07:39:53--  https://gannet.fish.washington.edu/seashell/bu-mox/scrubbed/041720-pan/Pact_tg/nodedup/?C=N;O=D\n",
      "Reusing existing connection to gannet.fish.washington.edu:443.\n",
      "HTTP request sent, awaiting response... 200 OK\n",
      "Length: unspecified [text/html]\n",
      "Saving to: ‘./index.html?C=N;O=D.tmp’\n",
      "\n",
      "index.html?C=N;O=D.     [ <=>                ]  11.41K  --.-KB/s    in 0.02s   \n",
      "\n",
      "2020-04-24 07:39:54 (579 KB/s) - ‘./index.html?C=N;O=D.tmp’ saved [11685]\n",
      "\n",
      "Removing ./index.html?C=N;O=D.tmp since it should be rejected.\n",
      "\n",
      "--2020-04-24 07:39:54--  https://gannet.fish.washington.edu/seashell/bu-mox/scrubbed/041720-pan/Pact_tg/nodedup/?C=M;O=A\n",
      "Reusing existing connection to gannet.fish.washington.edu:443.\n",
      "HTTP request sent, awaiting response... 200 OK\n",
      "Length: unspecified [text/html]\n",
      "Saving to: ‘./index.html?C=M;O=A.tmp’\n",
      "\n",
      "index.html?C=M;O=A.     [ <=>                ]  11.41K  --.-KB/s    in 0.02s   \n",
      "\n",
      "2020-04-24 07:39:54 (595 KB/s) - ‘./index.html?C=M;O=A.tmp’ saved [11685]\n",
      "\n",
      "Removing ./index.html?C=M;O=A.tmp since it should be rejected.\n",
      "\n",
      "--2020-04-24 07:39:54--  https://gannet.fish.washington.edu/seashell/bu-mox/scrubbed/041720-pan/Pact_tg/nodedup/?C=S;O=A\n",
      "Reusing existing connection to gannet.fish.washington.edu:443.\n",
      "HTTP request sent, awaiting response... 200 OK\n",
      "Length: unspecified [text/html]\n",
      "Saving to: ‘./index.html?C=S;O=A.tmp’\n",
      "\n",
      "index.html?C=S;O=A.     [ <=>                ]  11.41K  --.-KB/s    in 0.02s   \n",
      "\n",
      "2020-04-24 07:39:54 (457 KB/s) - ‘./index.html?C=S;O=A.tmp’ saved [11685]\n",
      "\n",
      "Removing ./index.html?C=S;O=A.tmp since it should be rejected.\n",
      "\n",
      "--2020-04-24 07:39:54--  https://gannet.fish.washington.edu/seashell/bu-mox/scrubbed/041720-pan/Pact_tg/nodedup/?C=D;O=A\n",
      "Reusing existing connection to gannet.fish.washington.edu:443.\n",
      "HTTP request sent, awaiting response... 200 OK\n",
      "Length: unspecified [text/html]\n",
      "Saving to: ‘./index.html?C=D;O=A.tmp’\n",
      "\n",
      "index.html?C=D;O=A.     [ <=>                ]  11.41K  --.-KB/s    in 0.02s   \n",
      "\n",
      "2020-04-24 07:39:55 (752 KB/s) - ‘./index.html?C=D;O=A.tmp’ saved [11685]\n",
      "\n",
      "Removing ./index.html?C=D;O=A.tmp since it should be rejected.\n",
      "\n",
      "--2020-04-24 07:39:55--  https://gannet.fish.washington.edu/seashell/bu-mox/scrubbed/041720-pan/Pact_tg/nodedup/Meth4_R1_001_val_1_bismark_bt2_pe..CpG_report.merged_CpG_evidence.cov\n",
      "Reusing existing connection to gannet.fish.washington.edu:443.\n",
      "HTTP request sent, awaiting response... 200 OK\n",
      "Length: 239811798 (229M)\n",
      "Saving to: ‘./Meth4_R1_001_val_1_bismark_bt2_pe..CpG_report.merged_CpG_evidence.cov.1.tmp’\n",
      "\n",
      "Meth4_R1_001_val_1_ 100%[===================>] 228.70M  2.28MB/s    in 1m 51s  \n",
      "\n",
      "2020-04-24 07:41:46 (2.06 MB/s) - ‘./Meth4_R1_001_val_1_bismark_bt2_pe..CpG_report.merged_CpG_evidence.cov.1.tmp’ saved [239811798/239811798]\n",
      "\n",
      "Removing ./Meth4_R1_001_val_1_bismark_bt2_pe..CpG_report.merged_CpG_evidence.cov.1.tmp since it should be rejected.\n",
      "\n",
      "--2020-04-24 07:41:47--  https://gannet.fish.washington.edu/seashell/bu-mox/scrubbed/041720-pan/Pact_tg/nodedup/Meth5_R1_001_val_1_bismark_bt2_pe..CpG_report.merged_CpG_evidence.cov\n",
      "Reusing existing connection to gannet.fish.washington.edu:443.\n",
      "HTTP request sent, awaiting response... 200 OK\n",
      "Length: 260615354 (249M)\n",
      "Saving to: ‘./Meth5_R1_001_val_1_bismark_bt2_pe..CpG_report.merged_CpG_evidence.cov.1.tmp’\n",
      "\n",
      "Meth5_R1_001_val_1_ 100%[===================>] 248.54M  1.94MB/s    in 2m 18s  \n",
      "\n",
      "2020-04-24 07:44:05 (1.80 MB/s) - ‘./Meth5_R1_001_val_1_bismark_bt2_pe..CpG_report.merged_CpG_evidence.cov.1.tmp’ saved [260615354/260615354]\n",
      "\n",
      "Removing ./Meth5_R1_001_val_1_bismark_bt2_pe..CpG_report.merged_CpG_evidence.cov.1.tmp since it should be rejected.\n",
      "\n",
      "--2020-04-24 07:44:06--  https://gannet.fish.washington.edu/seashell/bu-mox/scrubbed/041720-pan/Pact_tg/nodedup/Meth6_R1_001_val_1_bismark_bt2_pe..CpG_report.merged_CpG_evidence.cov\n",
      "Reusing existing connection to gannet.fish.washington.edu:443.\n",
      "HTTP request sent, awaiting response... 200 OK\n",
      "Length: 243129286 (232M)\n",
      "Saving to: ‘./Meth6_R1_001_val_1_bismark_bt2_pe..CpG_report.merged_CpG_evidence.cov.1.tmp’\n",
      "\n",
      "Meth6_R1_001_val_1_ 100%[===================>] 231.87M  1.88MB/s    in 1m 56s  \n",
      "\n",
      "2020-04-24 07:46:02 (2.00 MB/s) - ‘./Meth6_R1_001_val_1_bismark_bt2_pe..CpG_report.merged_CpG_evidence.cov.1.tmp’ saved [243129286/243129286]\n",
      "\n",
      "Removing ./Meth6_R1_001_val_1_bismark_bt2_pe..CpG_report.merged_CpG_evidence.cov.1.tmp since it should be rejected.\n",
      "\n",
      "--2020-04-24 07:46:04--  https://gannet.fish.washington.edu/seashell/bu-mox/scrubbed/041720-pan/Pact_tg/nodedup/?C=N;O=A\n",
      "Reusing existing connection to gannet.fish.washington.edu:443.\n",
      "HTTP request sent, awaiting response... 200 OK\n",
      "Length: unspecified [text/html]\n",
      "Saving to: ‘./index.html?C=N;O=A.tmp’\n",
      "\n",
      "index.html?C=N;O=A.     [ <=>                ]  11.41K  --.-KB/s    in 0.02s   \n",
      "\n",
      "2020-04-24 07:46:04 (595 KB/s) - ‘./index.html?C=N;O=A.tmp’ saved [11685]\n",
      "\n",
      "Removing ./index.html?C=N;O=A.tmp since it should be rejected.\n",
      "\n",
      "--2020-04-24 07:46:04--  https://gannet.fish.washington.edu/seashell/bu-mox/scrubbed/041720-pan/Pact_tg/nodedup/?C=M;O=D\n",
      "Reusing existing connection to gannet.fish.washington.edu:443.\n",
      "HTTP request sent, awaiting response... 200 OK\n",
      "Length: unspecified [text/html]\n",
      "Saving to: ‘./index.html?C=M;O=D.tmp’\n",
      "\n",
      "index.html?C=M;O=D.     [ <=>                ]  11.41K  --.-KB/s    in 0.03s   \n",
      "\n",
      "2020-04-24 07:46:04 (358 KB/s) - ‘./index.html?C=M;O=D.tmp’ saved [11685]\n",
      "\n",
      "Removing ./index.html?C=M;O=D.tmp since it should be rejected.\n",
      "\n",
      "--2020-04-24 07:46:04--  https://gannet.fish.washington.edu/seashell/bu-mox/scrubbed/041720-pan/Pact_tg/nodedup/?C=S;O=D\n",
      "Reusing existing connection to gannet.fish.washington.edu:443.\n",
      "HTTP request sent, awaiting response... 200 OK\n",
      "Length: unspecified [text/html]\n",
      "Saving to: ‘./index.html?C=S;O=D.tmp’\n",
      "\n",
      "index.html?C=S;O=D.     [ <=>                ]  11.41K  --.-KB/s    in 0.03s   \n",
      "\n",
      "2020-04-24 07:46:05 (415 KB/s) - ‘./index.html?C=S;O=D.tmp’ saved [11685]\n",
      "\n",
      "Removing ./index.html?C=S;O=D.tmp since it should be rejected.\n",
      "\n",
      "--2020-04-24 07:46:05--  https://gannet.fish.washington.edu/seashell/bu-mox/scrubbed/041720-pan/Pact_tg/nodedup/?C=D;O=D\n",
      "Reusing existing connection to gannet.fish.washington.edu:443.\n",
      "HTTP request sent, awaiting response... 200 OK\n",
      "Length: unspecified [text/html]\n",
      "Saving to: ‘./index.html?C=D;O=D.tmp’\n",
      "\n",
      "index.html?C=D;O=D.     [ <=>                ]  11.41K  --.-KB/s    in 0.02s   \n",
      "\n",
      "2020-04-24 07:46:05 (603 KB/s) - ‘./index.html?C=D;O=D.tmp’ saved [11685]\n",
      "\n",
      "Removing ./index.html?C=D;O=D.tmp since it should be rejected.\n",
      "\n",
      "FINISHED --2020-04-24 07:46:05--\n",
      "Total wall clock time: 6m 12s\n",
      "Downloaded: 12 files, 709M in 6m 5s (1.94 MB/s)\n"
     ]
    }
   ],
   "source": [
    "!wget -r \\\n",
    "--no-directories --no-parent \\\n",
    "-P . \\\n",
    "-A CpG_evidence.cov https://gannet.fish.washington.edu/seashell/bu-mox/scrubbed/041720-pan/Pact_tg/nodedup/"
   ]
  },
  {
   "cell_type": "code",
   "execution_count": 17,
   "metadata": {
    "ExecuteTime": {
     "end_time": "2020-04-24T14:56:34.741321Z",
     "start_time": "2020-04-24T14:56:34.587381Z"
    }
   },
   "outputs": [
    {
     "name": "stdout",
     "output_type": "stream",
     "text": [
      "scaffold168462_cov214\t56\t58\t0.000000\t0\t3\r\n",
      "scaffold168462_cov214\t98\t100\t0.000000\t0\t2\r\n",
      "scaffold168462_cov214\t103\t105\t0.000000\t0\t2\r\n",
      "scaffold168463_cov229\t95\t97\t0.000000\t0\t9\r\n",
      "scaffold168463_cov229\t106\t108\t0.000000\t0\t10\r\n",
      "scaffold168463_cov229\t176\t178\t0.000000\t0\t3\r\n",
      "scaffold168463_cov229\t187\t189\t0.000000\t0\t3\r\n",
      "scaffold168465_cov225\t45\t47\t0.000000\t0\t2\r\n",
      "scaffold168465_cov225\t48\t50\t0.000000\t0\t2\r\n",
      "scaffold168465_cov225\t59\t61\t0.000000\t0\t3\r\n"
     ]
    }
   ],
   "source": [
    "!tail Meth1_R1_001_val_1_bismark_bt2_pe..CpG_report.merged_CpG_evidence.cov"
   ]
  },
  {
   "cell_type": "code",
   "execution_count": 18,
   "metadata": {
    "ExecuteTime": {
     "end_time": "2020-04-24T14:56:39.391472Z",
     "start_time": "2020-04-24T14:56:38.916575Z"
    }
   },
   "outputs": [
    {
     "name": "stdout",
     "output_type": "stream",
     "text": [
      " 9163380 Meth1_R1_001_val_1_bismark_bt2_pe..CpG_report.merged_CpG_evidence.cov\r\n"
     ]
    }
   ],
   "source": [
    "!wc -l Meth1_R1_001_val_1_bismark_bt2_pe..CpG_report.merged_CpG_evidence.cov"
   ]
  },
  {
   "cell_type": "code",
   "execution_count": 19,
   "metadata": {
    "ExecuteTime": {
     "end_time": "2020-04-24T14:56:47.759441Z",
     "start_time": "2020-04-24T14:56:43.477788Z"
    }
   },
   "outputs": [
    {
     "name": "stdout",
     "output_type": "stream",
     "text": [
      " 7993652\r\n"
     ]
    }
   ],
   "source": [
    "!grep -v \"Sym\" Meth1_R1_001_val_1_bismark_bt2_pe..CpG_report.merged_CpG_evidence.cov | wc -l"
   ]
  },
  {
   "cell_type": "code",
   "execution_count": 20,
   "metadata": {
    "ExecuteTime": {
     "end_time": "2020-04-24T14:56:51.279326Z",
     "start_time": "2020-04-24T14:56:47.768876Z"
    }
   },
   "outputs": [
    {
     "name": "stdout",
     "output_type": "stream",
     "text": [
      " 1169728\r\n"
     ]
    }
   ],
   "source": [
    "!grep \"Sym\" Meth1_R1_001_val_1_bismark_bt2_pe..CpG_report.merged_CpG_evidence.cov | wc -l"
   ]
  },
  {
   "cell_type": "code",
   "execution_count": 21,
   "metadata": {
    "ExecuteTime": {
     "end_time": "2020-04-24T14:56:55.907901Z",
     "start_time": "2020-04-24T14:56:51.867779Z"
    }
   },
   "outputs": [
    {
     "name": "stdout",
     "output_type": "stream",
     "text": [
      "scaffold1_cov55\t49\t51\t0.000000\t0\t2\r\n",
      "scaffold1_cov55\t84\t86\t0.000000\t0\t4\r\n",
      "scaffold1_cov55\t92\t94\t0.000000\t0\t4\r\n",
      "scaffold1_cov55\t102\t104\t16.666667\t1\t5\r\n",
      "scaffold1_cov55\t105\t107\t0.000000\t0\t6\r\n",
      "scaffold1_cov55\t116\t118\t0.000000\t0\t5\r\n",
      "scaffold1_cov55\t119\t121\t0.000000\t0\t5\r\n",
      "scaffold1_cov55\t146\t148\t0.000000\t0\t5\r\n",
      "scaffold1_cov55\t169\t171\t0.000000\t0\t4\r\n",
      "scaffold1_cov55\t186\t188\t20.000000\t1\t4\r\n"
     ]
    }
   ],
   "source": [
    "!grep -v \"Sym\" Meth1_R1_001_val_1_bismark_bt2_pe..CpG_report.merged_CpG_evidence.cov | head"
   ]
  },
  {
   "cell_type": "code",
   "execution_count": 22,
   "metadata": {
    "ExecuteTime": {
     "end_time": "2020-04-24T14:57:48.543315Z",
     "start_time": "2020-04-24T14:56:57.818520Z"
    }
   },
   "outputs": [],
   "source": [
    "%%bash\n",
    "for f in *merged_CpG_evidence.cov\n",
    "do\n",
    "  STEM=$(basename \"${f}\" _val_1_bismark_bt2_pe..CpG_report.merged_CpG_evidence.cov)\n",
    "  cat \"${f}\" | grep -v \"Sym\" > \"${STEM}\"_Pact-viaPan-merged.cov\n",
    "done"
   ]
  },
  {
   "cell_type": "code",
   "execution_count": 16,
   "metadata": {
    "ExecuteTime": {
     "end_time": "2020-04-24T14:47:06.178844Z",
     "start_time": "2020-04-24T14:47:06.028562Z"
    }
   },
   "outputs": [
    {
     "name": "stdout",
     "output_type": "stream",
     "text": [
      "==> Meth4_R1_001_Pact-viaPan-merged.cov <==\r\n",
      "scaffold6_cov64\t489\t491\t0.000000\t0\t1\r\n",
      "scaffold6_cov64\t2536\t2538\t0.000000\t0\t5\r\n",
      "scaffold6_cov64\t2584\t2586\t0.000000\t0\t5\r\n",
      "scaffold6_cov64\t2676\t2678\t20.000000\t1\t4\r\n",
      "scaffold6_cov64\t2682\t2684\t0.000000\t0\t3\r\n",
      "scaffold6_cov64\t3154\t3156\t0.000000\t0\t1\r\n",
      "scaffold6_cov64\t3198\t3200\t0.000000\t0\t4\r\n",
      "scaffold6_cov64\t3343\t3345\t0.000000\t0\t1\r\n",
      "scaffold6_cov64\t3420\t3422\t0.000000\t0\t1\r\n",
      "scaffold6_cov64\t3435\t3437\t0.000000\t0\t1\r\n",
      "\r\n",
      "==> Meth4_R1_001_val_1_bismark_bt2_pe..CpG_report.merged_CpG_evidence.cov <==\r\n",
      "SymbC1.scaffold1\t6158\t6160\t0.000000\t0\t2\r\n",
      "SymbC1.scaffold1\t6164\t6166\t0.000000\t0\t2\r\n",
      "SymbC1.scaffold1\t6167\t6169\t0.000000\t0\t2\r\n",
      "SymbC1.scaffold1\t6179\t6181\t0.000000\t0\t2\r\n",
      "SymbC1.scaffold1\t161346\t161348\t0.000000\t0\t1\r\n",
      "SymbC1.scaffold1\t161351\t161353\t0.000000\t0\t1\r\n",
      "SymbC1.scaffold1\t161363\t161365\t0.000000\t0\t1\r\n",
      "SymbC1.scaffold1\t235258\t235260\t0.000000\t0\t1\r\n",
      "SymbC1.scaffold1\t235264\t235266\t0.000000\t0\t1\r\n",
      "SymbC1.scaffold1\t235268\t235270\t0.000000\t0\t1\r\n"
     ]
    }
   ],
   "source": [
    "!head Meth4*"
   ]
  },
  {
   "cell_type": "code",
   "execution_count": 23,
   "metadata": {
    "ExecuteTime": {
     "end_time": "2020-04-24T14:57:48.692957Z",
     "start_time": "2020-04-24T14:57:48.548458Z"
    }
   },
   "outputs": [
    {
     "name": "stdout",
     "output_type": "stream",
     "text": [
      "Meth1_R1_001_Pact-viaPan-merged.cov\r\n",
      "Meth1_R1_001_val_1_bismark_bt2_pe..CpG_report.merged_CpG_evidence.cov\r\n",
      "Meth2_R1_001_Pact-viaPan-merged.cov\r\n",
      "Meth2_R1_001_val_1_bismark_bt2_pe..CpG_report.merged_CpG_evidence.cov\r\n",
      "Meth3_R1_001_Pact-viaPan-merged.cov\r\n",
      "Meth3_R1_001_val_1_bismark_bt2_pe..CpG_report.merged_CpG_evidence.cov\r\n",
      "Meth4_R1_001_Pact-viaPan-merged.cov\r\n",
      "Meth4_R1_001_val_1_bismark_bt2_pe..CpG_report.merged_CpG_evidence.cov\r\n",
      "Meth5_R1_001_Pact-viaPan-merged.cov\r\n",
      "Meth5_R1_001_val_1_bismark_bt2_pe..CpG_report.merged_CpG_evidence.cov\r\n",
      "Meth6_R1_001_Pact-viaPan-merged.cov\r\n",
      "Meth6_R1_001_val_1_bismark_bt2_pe..CpG_report.merged_CpG_evidence.cov\r\n",
      "Meth7_R1_001_Pact-viaPan-merged.cov\r\n",
      "Meth7_R1_001_val_1_bismark_bt2_pe..CpG_report.merged_CpG_evidence.cov\r\n",
      "Meth8_R1_001_Pact-viaPan-merged.cov\r\n",
      "Meth8_R1_001_val_1_bismark_bt2_pe..CpG_report.merged_CpG_evidence.cov\r\n",
      "Meth9_R1_001_Pact-viaPan-merged.cov\r\n",
      "Meth9_R1_001_val_1_bismark_bt2_pe..CpG_report.merged_CpG_evidence.cov\r\n"
     ]
    }
   ],
   "source": [
    "!ls"
   ]
  },
  {
   "cell_type": "code",
   "execution_count": 24,
   "metadata": {
    "ExecuteTime": {
     "end_time": "2020-04-24T14:57:58.782555Z",
     "start_time": "2020-04-24T14:57:57.983815Z"
    }
   },
   "outputs": [],
   "source": [
    "!rm *..CpG_report.merged_CpG_evidence.cov"
   ]
  },
  {
   "cell_type": "code",
   "execution_count": 25,
   "metadata": {
    "ExecuteTime": {
     "end_time": "2020-04-24T14:58:05.942000Z",
     "start_time": "2020-04-24T14:58:05.813663Z"
    }
   },
   "outputs": [
    {
     "name": "stdout",
     "output_type": "stream",
     "text": [
      "Meth1_R1_001_Pact-viaPan-merged.cov Meth6_R1_001_Pact-viaPan-merged.cov\r\n",
      "Meth2_R1_001_Pact-viaPan-merged.cov Meth7_R1_001_Pact-viaPan-merged.cov\r\n",
      "Meth3_R1_001_Pact-viaPan-merged.cov Meth8_R1_001_Pact-viaPan-merged.cov\r\n",
      "Meth4_R1_001_Pact-viaPan-merged.cov Meth9_R1_001_Pact-viaPan-merged.cov\r\n",
      "Meth5_R1_001_Pact-viaPan-merged.cov\r\n"
     ]
    }
   ],
   "source": [
    "!ls"
   ]
  },
  {
   "cell_type": "code",
   "execution_count": null,
   "metadata": {},
   "outputs": [],
   "source": []
  }
 ],
 "metadata": {
  "kernelspec": {
   "display_name": "Python 3",
   "language": "python",
   "name": "python3"
  },
  "language_info": {
   "codemirror_mode": {
    "name": "ipython",
    "version": 3
   },
   "file_extension": ".py",
   "mimetype": "text/x-python",
   "name": "python",
   "nbconvert_exporter": "python",
   "pygments_lexer": "ipython3",
   "version": "3.6.8"
  }
 },
 "nbformat": 4,
 "nbformat_minor": 2
}
