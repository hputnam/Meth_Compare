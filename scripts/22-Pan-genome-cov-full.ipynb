{
 "cells": [
  {
   "cell_type": "code",
   "execution_count": 3,
   "metadata": {
    "ExecuteTime": {
     "end_time": "2020-04-26T21:14:55.966587Z",
     "start_time": "2020-04-26T21:14:55.838040Z"
    }
   },
   "outputs": [],
   "source": [
    "mkdir ../analyses/pan-genome-cov-full/"
   ]
  },
  {
   "cell_type": "code",
   "execution_count": null,
   "metadata": {
    "ExecuteTime": {
     "start_time": "2020-04-26T21:15:18.849Z"
    }
   },
   "outputs": [
    {
     "name": "stdout",
     "output_type": "stream",
     "text": [
      "[Errno 2] No such file or directory: '../analyses/pan-genome-cov-full/'\n",
      "/Users/sr320/Documents/GitHub/Meth_Compare/analyses/pan-genome-cov-full\n"
     ]
    }
   ],
   "source": [
    "cd ../analyses/pan-genome-cov-full/"
   ]
  },
  {
   "cell_type": "code",
   "execution_count": null,
   "metadata": {
    "ExecuteTime": {
     "start_time": "2020-04-26T21:15:18.851Z"
    },
    "scrolled": true
   },
   "outputs": [
    {
     "name": "stdout",
     "output_type": "stream",
     "text": [
      "--2020-04-26 14:15:18--  https://gannet.fish.washington.edu/seashell/bu-mox/scrubbed/041720-pan/Pact_tg/dedup/\n",
      "Resolving gannet.fish.washington.edu (gannet.fish.washington.edu)... 128.95.149.52\n",
      "Connecting to gannet.fish.washington.edu (gannet.fish.washington.edu)|128.95.149.52|:443... connected.\n",
      "HTTP request sent, awaiting response... 200 OK\n",
      "Length: unspecified [text/html]\n",
      "Saving to: ‘./index.html.tmp’\n",
      "\n",
      "index.html.tmp          [ <=>                ]  24.61K  --.-KB/s    in 0.06s   \n",
      "\n",
      "2020-04-26 14:15:20 (386 KB/s) - ‘./index.html.tmp’ saved [25205]\n",
      "\n",
      "Loading robots.txt; please ignore errors.\n",
      "--2020-04-26 14:15:20--  https://gannet.fish.washington.edu/robots.txt\n",
      "Reusing existing connection to gannet.fish.washington.edu:443.\n",
      "HTTP request sent, awaiting response... 404 Not Found\n",
      "2020-04-26 14:15:20 ERROR 404: Not Found.\n",
      "\n",
      "Removing ./index.html.tmp since it should be rejected.\n",
      "\n",
      "--2020-04-26 14:15:20--  https://gannet.fish.washington.edu/seashell/bu-mox/scrubbed/041720-pan/Pact_tg/dedup/?C=N;O=D\n",
      "Reusing existing connection to gannet.fish.washington.edu:443.\n",
      "HTTP request sent, awaiting response... 200 OK\n",
      "Length: unspecified [text/html]\n",
      "Saving to: ‘./index.html?C=N;O=D.tmp’\n",
      "\n",
      "index.html?C=N;O=D.     [ <=>                ]  24.61K  --.-KB/s    in 0.05s   \n",
      "\n",
      "2020-04-26 14:15:21 (468 KB/s) - ‘./index.html?C=N;O=D.tmp’ saved [25205]\n",
      "\n",
      "Removing ./index.html?C=N;O=D.tmp since it should be rejected.\n",
      "\n",
      "--2020-04-26 14:15:21--  https://gannet.fish.washington.edu/seashell/bu-mox/scrubbed/041720-pan/Pact_tg/dedup/?C=M;O=A\n",
      "Reusing existing connection to gannet.fish.washington.edu:443.\n",
      "HTTP request sent, awaiting response... 200 OK\n",
      "Length: unspecified [text/html]\n",
      "Saving to: ‘./index.html?C=M;O=A.tmp’\n",
      "\n",
      "index.html?C=M;O=A.     [ <=>                ]  24.61K  --.-KB/s    in 0.05s   \n",
      "\n",
      "2020-04-26 14:15:22 (483 KB/s) - ‘./index.html?C=M;O=A.tmp’ saved [25205]\n",
      "\n",
      "Removing ./index.html?C=M;O=A.tmp since it should be rejected.\n",
      "\n",
      "--2020-04-26 14:15:22--  https://gannet.fish.washington.edu/seashell/bu-mox/scrubbed/041720-pan/Pact_tg/dedup/?C=S;O=A\n",
      "Reusing existing connection to gannet.fish.washington.edu:443.\n",
      "HTTP request sent, awaiting response... 200 OK\n",
      "Length: unspecified [text/html]\n",
      "Saving to: ‘./index.html?C=S;O=A.tmp’\n",
      "\n",
      "index.html?C=S;O=A.     [ <=>                ]  24.61K  --.-KB/s    in 0.03s   \n",
      "\n",
      "2020-04-26 14:15:23 (834 KB/s) - ‘./index.html?C=S;O=A.tmp’ saved [25205]\n",
      "\n",
      "Removing ./index.html?C=S;O=A.tmp since it should be rejected.\n",
      "\n",
      "--2020-04-26 14:15:23--  https://gannet.fish.washington.edu/seashell/bu-mox/scrubbed/041720-pan/Pact_tg/dedup/?C=D;O=A\n",
      "Reusing existing connection to gannet.fish.washington.edu:443.\n",
      "HTTP request sent, awaiting response... "
     ]
    }
   ],
   "source": [
    "!wget -r \\\n",
    "--no-directories --no-parent \\\n",
    "-P . \\\n",
    "-A CpG_evidence.cov https://gannet.fish.washington.edu/seashell/bu-mox/scrubbed/041720-pan/Pact_tg/dedup/\n",
    "\n",
    "\n"
   ]
  },
  {
   "cell_type": "code",
   "execution_count": null,
   "metadata": {
    "ExecuteTime": {
     "start_time": "2020-04-26T21:15:18.853Z"
    }
   },
   "outputs": [],
   "source": [
    "!wget -r \\\n",
    "--no-directories --no-parent \\\n",
    "-P . \\\n",
    "-A CpG_evidence.cov https://gannet.fish.washington.edu/seashell/bu-mox/scrubbed/041720-pan/Pact_tg/nodedup/"
   ]
  },
  {
   "cell_type": "code",
   "execution_count": null,
   "metadata": {
    "ExecuteTime": {
     "start_time": "2020-04-26T21:15:18.854Z"
    }
   },
   "outputs": [],
   "source": [
    "!tail Meth1_R1_001_val_1_bismark_bt2_pe..CpG_report.merged_CpG_evidence.cov"
   ]
  },
  {
   "cell_type": "code",
   "execution_count": null,
   "metadata": {
    "ExecuteTime": {
     "start_time": "2020-04-26T21:15:18.856Z"
    }
   },
   "outputs": [],
   "source": [
    "!wc -l Meth1_R1_001_val_1_bismark_bt2_pe..CpG_report.merged_CpG_evidence.cov"
   ]
  },
  {
   "cell_type": "code",
   "execution_count": null,
   "metadata": {
    "ExecuteTime": {
     "start_time": "2020-04-26T21:15:18.858Z"
    }
   },
   "outputs": [],
   "source": [
    "!grep -v \"Sym\" Meth1_R1_001_val_1_bismark_bt2_pe..CpG_report.merged_CpG_evidence.cov | wc -l"
   ]
  },
  {
   "cell_type": "code",
   "execution_count": null,
   "metadata": {
    "ExecuteTime": {
     "start_time": "2020-04-26T21:15:18.860Z"
    }
   },
   "outputs": [],
   "source": [
    "!grep \"Sym\" Meth1_R1_001_val_1_bismark_bt2_pe..CpG_report.merged_CpG_evidence.cov | wc -l"
   ]
  },
  {
   "cell_type": "code",
   "execution_count": null,
   "metadata": {
    "ExecuteTime": {
     "start_time": "2020-04-26T21:15:18.861Z"
    }
   },
   "outputs": [],
   "source": [
    "!grep -v \"Sym\" Meth1_R1_001_val_1_bismark_bt2_pe..CpG_report.merged_CpG_evidence.cov | head"
   ]
  },
  {
   "cell_type": "code",
   "execution_count": null,
   "metadata": {
    "ExecuteTime": {
     "start_time": "2020-04-26T21:15:18.863Z"
    }
   },
   "outputs": [],
   "source": [
    "%%bash\n",
    "for f in *merged_CpG_evidence.cov\n",
    "do\n",
    "  STEM=$(basename \"${f}\" _val_1_bismark_bt2_pe..CpG_report.merged_CpG_evidence.cov)\n",
    "  cat \"${f}\" | grep -v \"Sym\" > \"${STEM}\"_Pact-viaPan-merged.cov\n",
    "done"
   ]
  },
  {
   "cell_type": "code",
   "execution_count": null,
   "metadata": {
    "ExecuteTime": {
     "start_time": "2020-04-26T21:15:18.865Z"
    }
   },
   "outputs": [],
   "source": [
    "!head Meth4*"
   ]
  },
  {
   "cell_type": "code",
   "execution_count": null,
   "metadata": {
    "ExecuteTime": {
     "start_time": "2020-04-26T21:15:18.870Z"
    }
   },
   "outputs": [],
   "source": [
    "!ls"
   ]
  },
  {
   "cell_type": "code",
   "execution_count": null,
   "metadata": {
    "ExecuteTime": {
     "start_time": "2020-04-26T21:15:18.871Z"
    }
   },
   "outputs": [],
   "source": [
    "!rm *..CpG_report.merged_CpG_evidence.cov"
   ]
  },
  {
   "cell_type": "code",
   "execution_count": null,
   "metadata": {
    "ExecuteTime": {
     "start_time": "2020-04-26T21:15:18.872Z"
    }
   },
   "outputs": [],
   "source": [
    "!ls"
   ]
  },
  {
   "cell_type": "code",
   "execution_count": null,
   "metadata": {},
   "outputs": [],
   "source": []
  }
 ],
 "metadata": {
  "kernelspec": {
   "display_name": "Python 3",
   "language": "python",
   "name": "python3"
  },
  "language_info": {
   "codemirror_mode": {
    "name": "ipython",
    "version": 3
   },
   "file_extension": ".py",
   "mimetype": "text/x-python",
   "name": "python",
   "nbconvert_exporter": "python",
   "pygments_lexer": "ipython3",
   "version": "3.6.8"
  }
 },
 "nbformat": 4,
 "nbformat_minor": 2
}
