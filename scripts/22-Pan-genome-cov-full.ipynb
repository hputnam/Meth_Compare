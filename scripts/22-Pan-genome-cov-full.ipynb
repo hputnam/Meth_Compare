{
 "cells": [
  {
   "cell_type": "code",
   "execution_count": 1,
   "metadata": {
    "ExecuteTime": {
     "end_time": "2020-04-24T14:04:06.325333Z",
     "start_time": "2020-04-24T14:04:06.312606Z"
    }
   },
   "outputs": [
    {
     "name": "stdout",
     "output_type": "stream",
     "text": [
      "/Users/sr320/Documents/GitHub/Meth_Compare/analyses/pan-genome-cov-full\n"
     ]
    }
   ],
   "source": [
    "cd ../analyses/pan-genome-cov-full/"
   ]
  },
  {
   "cell_type": "code",
   "execution_count": null,
   "metadata": {
    "ExecuteTime": {
     "start_time": "2020-04-24T14:05:42.979Z"
    },
    "scrolled": true
   },
   "outputs": [
    {
     "name": "stdout",
     "output_type": "stream",
     "text": [
      "--2020-04-24 07:05:43--  https://gannet.fish.washington.edu/seashell/bu-mox/scrubbed/041720-pan/Pact_tg/dedup/\n",
      "Resolving gannet.fish.washington.edu (gannet.fish.washington.edu)... 128.95.149.52\n",
      "Connecting to gannet.fish.washington.edu (gannet.fish.washington.edu)|128.95.149.52|:443... connected.\n",
      "HTTP request sent, awaiting response... 200 OK\n",
      "Length: unspecified [text/html]\n",
      "Saving to: ‘./index.html.tmp’\n",
      "\n",
      "index.html.tmp          [ <=>                ]  24.61K  --.-KB/s    in 0.05s   \n",
      "\n",
      "2020-04-24 07:05:44 (531 KB/s) - ‘./index.html.tmp’ saved [25205]\n",
      "\n",
      "Loading robots.txt; please ignore errors.\n",
      "--2020-04-24 07:05:44--  https://gannet.fish.washington.edu/robots.txt\n",
      "Reusing existing connection to gannet.fish.washington.edu:443.\n",
      "HTTP request sent, awaiting response... 404 Not Found\n",
      "2020-04-24 07:05:44 ERROR 404: Not Found.\n",
      "\n",
      "Removing ./index.html.tmp since it should be rejected.\n",
      "\n",
      "--2020-04-24 07:05:44--  https://gannet.fish.washington.edu/seashell/bu-mox/scrubbed/041720-pan/Pact_tg/dedup/?C=N;O=D\n",
      "Reusing existing connection to gannet.fish.washington.edu:443.\n",
      "HTTP request sent, awaiting response... 200 OK\n",
      "Length: unspecified [text/html]\n",
      "Saving to: ‘./index.html?C=N;O=D.tmp’\n",
      "\n",
      "index.html?C=N;O=D.     [ <=>                ]  24.61K  --.-KB/s    in 0.02s   \n",
      "\n",
      "2020-04-24 07:05:45 (1.13 MB/s) - ‘./index.html?C=N;O=D.tmp’ saved [25205]\n",
      "\n",
      "Removing ./index.html?C=N;O=D.tmp since it should be rejected.\n",
      "\n",
      "--2020-04-24 07:05:45--  https://gannet.fish.washington.edu/seashell/bu-mox/scrubbed/041720-pan/Pact_tg/dedup/?C=M;O=A\n",
      "Reusing existing connection to gannet.fish.washington.edu:443.\n",
      "HTTP request sent, awaiting response... 200 OK\n",
      "Length: unspecified [text/html]\n",
      "Saving to: ‘./index.html?C=M;O=A.tmp’\n",
      "\n",
      "index.html?C=M;O=A.     [ <=>                ]  24.61K  --.-KB/s    in 0.03s   \n",
      "\n",
      "2020-04-24 07:05:46 (808 KB/s) - ‘./index.html?C=M;O=A.tmp’ saved [25205]\n",
      "\n",
      "Removing ./index.html?C=M;O=A.tmp since it should be rejected.\n",
      "\n",
      "--2020-04-24 07:05:46--  https://gannet.fish.washington.edu/seashell/bu-mox/scrubbed/041720-pan/Pact_tg/dedup/?C=S;O=A\n",
      "Reusing existing connection to gannet.fish.washington.edu:443.\n",
      "HTTP request sent, awaiting response... 200 OK\n",
      "Length: unspecified [text/html]\n",
      "Saving to: ‘./index.html?C=S;O=A.tmp’\n",
      "\n",
      "index.html?C=S;O=A.     [ <=>                ]  24.61K  --.-KB/s    in 0.03s   \n",
      "\n",
      "2020-04-24 07:05:47 (765 KB/s) - ‘./index.html?C=S;O=A.tmp’ saved [25205]\n",
      "\n",
      "Removing ./index.html?C=S;O=A.tmp since it should be rejected.\n",
      "\n",
      "--2020-04-24 07:05:47--  https://gannet.fish.washington.edu/seashell/bu-mox/scrubbed/041720-pan/Pact_tg/dedup/?C=D;O=A\n",
      "Reusing existing connection to gannet.fish.washington.edu:443.\n",
      "HTTP request sent, awaiting response... 200 OK\n",
      "Length: unspecified [text/html]\n",
      "Saving to: ‘./index.html?C=D;O=A.tmp’\n",
      "\n",
      "index.html?C=D;O=A.     [ <=>                ]  24.61K  --.-KB/s    in 0.03s   \n",
      "\n",
      "2020-04-24 07:05:48 (728 KB/s) - ‘./index.html?C=D;O=A.tmp’ saved [25205]\n",
      "\n",
      "Removing ./index.html?C=D;O=A.tmp since it should be rejected.\n",
      "\n",
      "--2020-04-24 07:05:48--  https://gannet.fish.washington.edu/seashell/bu-mox/scrubbed/041720-pan/Pact_tg/dedup/Meth1_R1_001_val_1_bismark_bt2_pe..CpG_report.merged_CpG_evidence.cov\n",
      "Reusing existing connection to gannet.fish.washington.edu:443.\n",
      "HTTP request sent, awaiting response... 200 OK\n",
      "Length: 413560497 (394M)\n",
      "Saving to: ‘./Meth1_R1_001_val_1_bismark_bt2_pe..CpG_report.merged_CpG_evidence.cov’\n",
      "\n",
      "Meth1_R1_001_val_1_ 100%[===================>] 394.40M  2.47MB/s    in 2m 48s  \n",
      "\n",
      "2020-04-24 07:08:35 (2.35 MB/s) - ‘./Meth1_R1_001_val_1_bismark_bt2_pe..CpG_report.merged_CpG_evidence.cov’ saved [413560497/413560497]\n",
      "\n",
      "--2020-04-24 07:08:36--  https://gannet.fish.washington.edu/seashell/bu-mox/scrubbed/041720-pan/Pact_tg/dedup/Meth2_R1_001_val_1_bismark_bt2_pe..CpG_report.merged_CpG_evidence.cov\n",
      "Reusing existing connection to gannet.fish.washington.edu:443.\n",
      "HTTP request sent, awaiting response... 200 OK\n",
      "Length: 458685956 (437M)\n",
      "Saving to: ‘./Meth2_R1_001_val_1_bismark_bt2_pe..CpG_report.merged_CpG_evidence.cov’\n",
      "\n",
      "merged_CpG_evidence  34%[=====>              ] 151.92M  2.40MB/s    eta 2m 7s  "
     ]
    }
   ],
   "source": [
    "!wget -r \\\n",
    "--no-directories --no-parent \\\n",
    "-P . \\\n",
    "-A CpG_evidence.cov https://gannet.fish.washington.edu/seashell/bu-mox/scrubbed/041720-pan/Pact_tg/dedup/\n",
    "\n",
    "\n"
   ]
  },
  {
   "cell_type": "code",
   "execution_count": null,
   "metadata": {
    "ExecuteTime": {
     "start_time": "2020-04-24T14:06:03.600Z"
    }
   },
   "outputs": [],
   "source": [
    "!wget -r \\\n",
    "--no-directories --no-parent \\\n",
    "-P . \\\n",
    "-A CpG_evidence.cov https://gannet.fish.washington.edu/seashell/bu-mox/scrubbed/041720-pan/Pact_tg/nodedup/"
   ]
  },
  {
   "cell_type": "code",
   "execution_count": null,
   "metadata": {
    "ExecuteTime": {
     "start_time": "2020-04-24T14:06:07.653Z"
    }
   },
   "outputs": [],
   "source": [
    "!tail ../analyses/pan-genome-cov/Meth1_R1_001_val_1_bismark_bt2_pe.CpG_report.merged_CpG_evidence.cov"
   ]
  },
  {
   "cell_type": "code",
   "execution_count": null,
   "metadata": {
    "ExecuteTime": {
     "start_time": "2020-04-24T14:06:29.881Z"
    }
   },
   "outputs": [],
   "source": [
    "!wc -l ../analyses/pan-genome-cov/Meth1_R1_001_val_1_bismark_bt2_pe.CpG_report.merged_CpG_evidence.cov"
   ]
  },
  {
   "cell_type": "code",
   "execution_count": null,
   "metadata": {
    "ExecuteTime": {
     "start_time": "2020-04-24T14:06:30.270Z"
    }
   },
   "outputs": [],
   "source": [
    "!grep -v \"Sym\" ../analyses/pan-genome-cov/Meth1_R1_001_val_1_bismark_bt2_pe.CpG_report.merged_CpG_evidence.cov | wc -l"
   ]
  },
  {
   "cell_type": "code",
   "execution_count": null,
   "metadata": {
    "ExecuteTime": {
     "start_time": "2020-04-24T14:06:31.871Z"
    }
   },
   "outputs": [],
   "source": [
    "!grep \"Sym\" ../analyses/pan-genome-cov/Meth1_R1_001_val_1_bismark_bt2_pe.CpG_report.merged_CpG_evidence.cov | wc -l"
   ]
  },
  {
   "cell_type": "code",
   "execution_count": null,
   "metadata": {
    "ExecuteTime": {
     "start_time": "2020-04-24T14:06:37.664Z"
    }
   },
   "outputs": [],
   "source": [
    "!grep -v \"Sym\" ../analyses/pan-genome-cov/Meth1_R1_001_val_1_bismark_bt2_pe.CpG_report.merged_CpG_evidence.cov | head"
   ]
  },
  {
   "cell_type": "code",
   "execution_count": 27,
   "metadata": {
    "ExecuteTime": {
     "end_time": "2020-04-18T19:52:45.507956Z",
     "start_time": "2020-04-18T19:52:44.516869Z"
    }
   },
   "outputs": [],
   "source": [
    "%%bash\n",
    "for f in *merged_CpG_evidence.cov\n",
    "do\n",
    "  STEM=$(basename \"${f}\" _val_1_bismark_bt2_pe..CpG_report.merged_CpG_evidence.cov)\n",
    "  cat \"${f}\" | grep -v \"Sym\" > \"${STEM}\"_Pact-viaPan-merged.cov\n",
    "done"
   ]
  },
  {
   "cell_type": "code",
   "execution_count": 31,
   "metadata": {
    "ExecuteTime": {
     "end_time": "2020-04-18T19:53:27.474806Z",
     "start_time": "2020-04-18T19:53:27.346005Z"
    }
   },
   "outputs": [
    {
     "name": "stdout",
     "output_type": "stream",
     "text": [
      "==> Meth4_R1_001_Pact-viaPan-merged.cov <==\r\n",
      "scaffold6_cov64\t5644\t5646\t0.000000\t0\t3\r\n",
      "scaffold6_cov64\t5797\t5799\t0.000000\t0\t3\r\n",
      "scaffold6_cov64\t5800\t5802\t0.000000\t0\t3\r\n",
      "scaffold6_cov64\t5821\t5823\t0.000000\t0\t3\r\n",
      "scaffold6_cov64\t5848\t5850\t0.000000\t0\t2\r\n",
      "scaffold6_cov64\t5904\t5906\t100.000000\t1\t0\r\n",
      "scaffold7_cov100\t45963\t45965\t0.000000\t0\t2\r\n",
      "scaffold7_cov100\t46020\t46022\t0.000000\t0\t2\r\n",
      "scaffold7_cov100\t46036\t46038\t0.000000\t0\t2\r\n",
      "scaffold7_cov100\t46039\t46041\t0.000000\t0\t2\r\n",
      "\r\n",
      "==> Meth4_R1_001_val_1_bismark_bt2_pe..CpG_report.merged_CpG_evidence.cov <==\r\n",
      "SymbC1.scaffold1\t5152685\t5152687\t0.000000\t0\t1\r\n",
      "SymbC1.scaffold1\t6180737\t6180739\t0.000000\t0\t1\r\n",
      "SymbC1.scaffold1\t6180743\t6180745\t0.000000\t0\t1\r\n",
      "SymbC1.scaffold1\t6180747\t6180749\t0.000000\t0\t1\r\n",
      "SymbC1.scaffold1\t6180749\t6180751\t0.000000\t0\t1\r\n",
      "SymbC1.scaffold2\t1155000\t1155002\t0.000000\t0\t1\r\n",
      "SymbC1.scaffold2\t1155013\t1155015\t0.000000\t0\t1\r\n",
      "SymbC1.scaffold2\t1155024\t1155026\t0.000000\t0\t1\r\n",
      "SymbC1.scaffold2\t5220776\t5220778\t0.000000\t0\t1\r\n",
      "SymbC1.scaffold2\t5220780\t5220782\t0.000000\t0\t1\r\n"
     ]
    }
   ],
   "source": [
    "!head Meth4*"
   ]
  },
  {
   "cell_type": "code",
   "execution_count": null,
   "metadata": {},
   "outputs": [],
   "source": []
  }
 ],
 "metadata": {
  "kernelspec": {
   "display_name": "Python 3",
   "language": "python",
   "name": "python3"
  },
  "language_info": {
   "codemirror_mode": {
    "name": "ipython",
    "version": 3
   },
   "file_extension": ".py",
   "mimetype": "text/x-python",
   "name": "python",
   "nbconvert_exporter": "python",
   "pygments_lexer": "ipython3",
   "version": "3.6.8"
  }
 },
 "nbformat": 4,
 "nbformat_minor": 2
}
