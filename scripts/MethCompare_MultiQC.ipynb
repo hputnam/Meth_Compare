{
 "cells": [
  {
   "cell_type": "code",
   "execution_count": null,
   "metadata": {
    "collapsed": true
   },
   "outputs": [],
   "source": [
    "# run MultiQC on trimmed data and all alignments"
   ]
  },
  {
   "cell_type": "code",
   "execution_count": 13,
   "metadata": {},
   "outputs": [
    {
     "name": "stdout",
     "output_type": "stream",
     "text": [
      "\u001b[1;30m[INFO   ]\u001b[0m         multiqc : This is MultiQC v1.8\n",
      "\u001b[1;30m[INFO   ]\u001b[0m         multiqc : Template    : default\n",
      "\u001b[1;30m[INFO   ]\u001b[0m         multiqc : Prepending directory to sample names\n",
      "\u001b[1;30m[INFO   ]\u001b[0m         multiqc : Searching   : /Volumes/web/metacarcinus/FROGER_meth_compare/20200311/WGBS_MBD\n",
      "\u001b[1;30m[INFO   ]\u001b[0m         multiqc : Searching   : /Volumes/web/metacarcinus/FROGER_meth_compare/20200311/RRBS\n",
      "\u001b[1;30m[INFO   ]\u001b[0m         multiqc : Searching   : /Volumes/web/seashell/bu-mox/scrubbed/031520-TG-bs/Mcap_tg\n",
      "\u001b[1;30m[INFO   ]\u001b[0m         multiqc : Searching   : /Volumes/web/seashell/bu-mox/scrubbed/031520-TG-bs/Pact_tg\n",
      "\u001b[1;30m[INFO   ]\u001b[0m         multiqc : Searching   : /Volumes/web/seashell/bu-mox/scrubbed/032320-Pact-C1/Pact_C1\n",
      "\u001b[?25lSearching 990 files..  [####################################]  100%          \u001b[?25h\n",
      "\u001b[1;30m[INFO   ]\u001b[0m         bismark : Found 27 bismark alignment reports\n",
      "\u001b[1;30m[INFO   ]\u001b[0m         bismark : Found 18 bismark dedup reports\n",
      "\u001b[1;30m[INFO   ]\u001b[0m         bismark : Found 27 bismark methextract reports\n",
      "\u001b[1;30m[INFO   ]\u001b[0m        cutadapt : Found 36 reports\n",
      "\u001b[1;30m[INFO   ]\u001b[0m          fastqc : Found 36 reports\n",
      "\u001b[1;30m[INFO   ]\u001b[0m         multiqc : Compressing plot data\n",
      "\u001b[1;30m[INFO   ]\u001b[0m         multiqc : Report      : multiqc_report.html\n",
      "\u001b[1;30m[INFO   ]\u001b[0m         multiqc : Data        : multiqc_data\n",
      "\u001b[1;30m[INFO   ]\u001b[0m         multiqc : MultiQC complete\n"
     ]
    }
   ],
   "source": [
    "! /Users/strigg/anaconda3/bin/multiqc \\\n",
    "-d \\\n",
    "-o /Volumes/web/metacarcinus/FROGER_meth_compare/20200413 \\\n",
    "/Volumes/web/metacarcinus/FROGER_meth_compare/20200311/WGBS_MBD \\\n",
    "/Volumes/web/metacarcinus/FROGER_meth_compare/20200311/RRBS \\\n",
    "/Volumes/web/seashell/bu-mox/scrubbed/031520-TG-bs/Mcap_tg \\\n",
    "/Volumes/web/seashell/bu-mox/scrubbed/031520-TG-bs/Pact_tg \\\n",
    "/Volumes/web/seashell/bu-mox/scrubbed/032320-Pact-C1/Pact_C1/\n"
   ]
  },
  {
   "cell_type": "code",
   "execution_count": null,
   "metadata": {
    "collapsed": true
   },
   "outputs": [],
   "source": [
    "#preview report"
   ]
  },
  {
   "cell_type": "code",
   "execution_count": 14,
   "metadata": {},
   "outputs": [
    {
     "name": "stdout",
     "output_type": "stream",
     "text": [
      "Sample\tFastQC_mqc-generalstats-fastqc-percent_duplicates\tFastQC_mqc-generalstats-fastqc-percent_gc\tFastQC_mqc-generalstats-fastqc-avg_sequence_length\tFastQC_mqc-generalstats-fastqc-percent_fails\tFastQC_mqc-generalstats-fastqc-total_sequences\tCutadapt_mqc-generalstats-cutadapt-percent_trimmed\tBismark_mqc-generalstats-bismark-aligned_reads\tBismark_mqc-generalstats-bismark-percent_aligned\tBismark_mqc-generalstats-bismark-percent_cpg_meth\tBismark_mqc-generalstats-bismark-percent_chg_meth\tBismark_mqc-generalstats-bismark-percent_chh_meth\tBismark_mqc-generalstats-bismark-total_c\tBismark_mqc-generalstats-bismark-dup_reads_percent\tBismark_mqc-generalstats-bismark-dedup_reads\r\n",
      "Volumes | web | metacarcinus | FROGER_meth_compare | 20200311 | RRBS | FASTQC | Meth13_R1_001_val_1\t86.80843637889598\t22.0\t110.13262236284821\t18.181818181818183\t100607927.0\t\t\t\t\t\t\t\t\t\r\n",
      "Volumes | web | metacarcinus | FROGER_meth_compare | 20200311 | RRBS | FASTQC | Meth13_R2_001_val_2\t85.01708988329253\t23.0\t111.00148021139528\t27.27272727272727\t100607927.0\t\t\t\t\t\t\t\t\t\r\n",
      "Volumes | web | metacarcinus | FROGER_meth_compare | 20200311 | RRBS | FASTQC | Meth14_R1_001_val_1\t88.0755971196875\t23.0\t103.35173899067667\t18.181818181818183\t69159859.0\t\t\t\t\t\t\t\t\t\r\n",
      "Volumes | web | metacarcinus | FROGER_meth_compare | 20200311 | RRBS | FASTQC | Meth14_R2_001_val_2\t86.77579274621927\t24.0\t104.28066553750493\t27.27272727272727\t69159859.0\t\t\t\t\t\t\t\t\t\r\n",
      "Volumes | web | metacarcinus | FROGER_meth_compare | 20200311 | RRBS | FASTQC | Meth15_R1_001_val_1\t87.47430372395183\t23.0\t105.37495891494108\t18.181818181818183\t108911247.0\t\t\t\t\t\t\t\t\t\r\n",
      "Volumes | web | metacarcinus | FROGER_meth_compare | 20200311 | RRBS | FASTQC | Meth15_R2_001_val_2\t85.9691255576247\t24.0\t106.43497217509594\t27.27272727272727\t108911247.0\t\t\t\t\t\t\t\t\t\r\n",
      "Volumes | web | metacarcinus | FROGER_meth_compare | 20200311 | RRBS | FASTQC | Meth4_R1_001_val_1\t89.47612370769869\t23.0\t102.83421625332632\t18.181818181818183\t149828789.0\t\t\t\t\t\t\t\t\t\r\n",
      "Volumes | web | metacarcinus | FROGER_meth_compare | 20200311 | RRBS | FASTQC | Meth4_R2_001_val_2\t88.35187911295702\t25.0\t104.00309441198246\t27.27272727272727\t149828789.0\t\t\t\t\t\t\t\t\t\r\n",
      "Volumes | web | metacarcinus | FROGER_meth_compare | 20200311 | RRBS | FASTQC | Meth5_R1_001_val_1\t91.84350027418398\t23.0\t103.78223643009376\t18.181818181818183\t284116370.0\t\t\t\t\t\t\t\t\t\r\n"
     ]
    }
   ],
   "source": [
    "!head /Volumes/web/metacarcinus/FROGER_meth_compare/20200413/multiqc_data/multiqc_general_stats.txt\n"
   ]
  },
  {
   "cell_type": "code",
   "execution_count": null,
   "metadata": {
    "collapsed": true
   },
   "outputs": [],
   "source": []
  }
 ],
 "metadata": {
  "kernelspec": {
   "display_name": "Python 3",
   "language": "python",
   "name": "python3"
  },
  "language_info": {
   "codemirror_mode": {
    "name": "ipython",
    "version": 3
   },
   "file_extension": ".py",
   "mimetype": "text/x-python",
   "name": "python",
   "nbconvert_exporter": "python",
   "pygments_lexer": "ipython3",
   "version": "3.6.8"
  }
 },
 "nbformat": 4,
 "nbformat_minor": 4
}
