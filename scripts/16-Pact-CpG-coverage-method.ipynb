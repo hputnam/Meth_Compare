{
 "cells": [
  {
   "cell_type": "markdown",
   "metadata": {},
   "source": [
    "# Here we see how many of all the CpGs are captured ..."
   ]
  },
  {
   "cell_type": "markdown",
   "metadata": {
    "ExecuteTime": {
     "end_time": "2020-04-03T04:58:54.070909Z",
     "start_time": "2020-04-03T04:58:54.063291Z"
    }
   },
   "source": [
    "## for each method within Mcap\n"
   ]
  },
  {
   "cell_type": "code",
   "execution_count": 6,
   "metadata": {
    "ExecuteTime": {
     "end_time": "2020-04-03T04:46:17.072356Z",
     "start_time": "2020-04-03T04:46:16.927056Z"
    }
   },
   "outputs": [
    {
     "name": "stdout",
     "output_type": "stream",
     "text": [
      "-rw-r--r--@ 1 sr320  staff   3.6G Mar 29 11:49 ../genome-feature-files/C1_CpG.gff\r\n",
      "-rw-r--r--@ 1 sr320  staff   2.5G Mar 29 11:12 ../genome-feature-files/Mcap_CpG.gff\r\n",
      "-rw-r--r--@ 1 sr320  staff   1.0G Mar 29 09:30 ../genome-feature-files/Pact_CpG.gff\r\n"
     ]
    }
   ],
   "source": [
    "!ls -lh ../genome-feature-files/*CpG.gff"
   ]
  },
  {
   "cell_type": "code",
   "execution_count": 13,
   "metadata": {
    "ExecuteTime": {
     "end_time": "2020-04-03T05:22:58.837698Z",
     "start_time": "2020-04-03T05:22:58.702566Z"
    }
   },
   "outputs": [
    {
     "name": "stdout",
     "output_type": "stream",
     "text": [
      "##gff-version 2.0\r\n",
      "##date 2020-03-29\r\n",
      "##Type DNA scaffold1_cov55\r\n",
      "scaffold1_cov55\tfuzznuc\tmisc_feature\t23\t24\t2.000\t+\t.\tSequence \"scaffold1_cov55.1\" ; note \"*pat pattern1\"\r\n",
      "scaffold1_cov55\tfuzznuc\tmisc_feature\t35\t36\t2.000\t+\t.\tSequence \"scaffold1_cov55.2\" ; note \"*pat pattern1\"\r\n",
      "scaffold1_cov55\tfuzznuc\tmisc_feature\t50\t51\t2.000\t+\t.\tSequence \"scaffold1_cov55.3\" ; note \"*pat pattern1\"\r\n",
      "scaffold1_cov55\tfuzznuc\tmisc_feature\t85\t86\t2.000\t+\t.\tSequence \"scaffold1_cov55.4\" ; note \"*pat pattern1\"\r\n",
      "scaffold1_cov55\tfuzznuc\tmisc_feature\t93\t94\t2.000\t+\t.\tSequence \"scaffold1_cov55.5\" ; note \"*pat pattern1\"\r\n",
      "scaffold1_cov55\tfuzznuc\tmisc_feature\t103\t104\t2.000\t+\t.\tSequence \"scaffold1_cov55.6\" ; note \"*pat pattern1\"\r\n",
      "scaffold1_cov55\tfuzznuc\tmisc_feature\t106\t107\t2.000\t+\t.\tSequence \"scaffold1_cov55.7\" ; note \"*pat pattern1\"\r\n"
     ]
    }
   ],
   "source": [
    "!head ../genome-feature-files/Pact_CpG.gff"
   ]
  },
  {
   "cell_type": "code",
   "execution_count": null,
   "metadata": {},
   "outputs": [],
   "source": []
  },
  {
   "cell_type": "code",
   "execution_count": 16,
   "metadata": {
    "ExecuteTime": {
     "end_time": "2020-04-03T05:23:22.057283Z",
     "start_time": "2020-04-03T05:23:21.915342Z"
    },
    "scrolled": true
   },
   "outputs": [
    {
     "name": "stdout",
     "output_type": "stream",
     "text": [
      "../data/Meth1_R1_001_val_1_bismark_bt2_pe._5x.bedgraph\r\n",
      "../data/Meth2_R1_001_val_1_bismark_bt2_pe._5x.bedgraph\r\n",
      "../data/Meth3_R1_001_val_1_bismark_bt2_pe._5x.bedgraph\r\n",
      "../data/Meth4_R1_001_val_1_bismark_bt2_pe._5x.bedgraph\r\n",
      "../data/Meth5_R1_001_val_1_bismark_bt2_pe._5x.bedgraph\r\n",
      "../data/Meth6_R1_001_val_1_bismark_bt2_pe._5x.bedgraph\r\n",
      "../data/Meth7_R1_001_val_1_bismark_bt2_pe._5x.bedgraph\r\n",
      "../data/Meth8_R1_001_val_1_bismark_bt2_pe._5x.bedgraph\r\n",
      "../data/Meth9_R1_001_val_1_bismark_bt2_pe._5x.bedgraph\r\n"
     ]
    }
   ],
   "source": [
    "!ls ../data/Meth[1-9]_*"
   ]
  },
  {
   "cell_type": "code",
   "execution_count": 17,
   "metadata": {
    "ExecuteTime": {
     "end_time": "2020-04-03T05:23:36.238895Z",
     "start_time": "2020-04-03T05:23:34.043903Z"
    }
   },
   "outputs": [
    {
     "name": "stdout",
     "output_type": "stream",
     "text": [
      " 5546051 ../data/Meth1_R1_001_val_1_bismark_bt2_pe._5x.bedgraph\n",
      " 6358722 ../data/Meth2_R1_001_val_1_bismark_bt2_pe._5x.bedgraph\n",
      " 5866786 ../data/Meth3_R1_001_val_1_bismark_bt2_pe._5x.bedgraph\n",
      " 1835561 ../data/Meth4_R1_001_val_1_bismark_bt2_pe._5x.bedgraph\n",
      " 1451229 ../data/Meth5_R1_001_val_1_bismark_bt2_pe._5x.bedgraph\n",
      " 1517358 ../data/Meth6_R1_001_val_1_bismark_bt2_pe._5x.bedgraph\n",
      " 2640625 ../data/Meth7_R1_001_val_1_bismark_bt2_pe._5x.bedgraph\n",
      "  539008 ../data/Meth8_R1_001_val_1_bismark_bt2_pe._5x.bedgraph\n",
      " 2732607 ../data/Meth9_R1_001_val_1_bismark_bt2_pe._5x.bedgraph\n",
      " 28487947 total\n"
     ]
    }
   ],
   "source": [
    "!wc -l ../data/Meth[1-9]_*"
   ]
  },
  {
   "cell_type": "markdown",
   "metadata": {
    "ExecuteTime": {
     "end_time": "2020-04-03T05:26:56.458505Z",
     "start_time": "2020-04-03T05:26:56.306708Z"
    }
   },
   "source": [
    "# worried about sample 8 "
   ]
  },
  {
   "cell_type": "code",
   "execution_count": 18,
   "metadata": {
    "ExecuteTime": {
     "end_time": "2020-04-03T05:24:23.141273Z",
     "start_time": "2020-04-03T05:24:11.320381Z"
    }
   },
   "outputs": [
    {
     "name": "stdout",
     "output_type": "stream",
     "text": [
      "9155620\r\n"
     ]
    }
   ],
   "source": [
    "!fgrep -c \"fuzznuc\tmisc_feature\" ../genome-feature-files/Pact_CpG.gff"
   ]
  },
  {
   "cell_type": "code",
   "execution_count": 19,
   "metadata": {
    "ExecuteTime": {
     "end_time": "2020-04-03T05:24:45.924753Z",
     "start_time": "2020-04-03T05:24:45.911301Z"
    }
   },
   "outputs": [
    {
     "data": {
      "text/plain": [
       "0.6057537337722623"
      ]
     },
     "execution_count": 19,
     "metadata": {},
     "output_type": "execute_result"
    }
   ],
   "source": [
    "5546051/9155620"
   ]
  },
  {
   "cell_type": "code",
   "execution_count": null,
   "metadata": {},
   "outputs": [],
   "source": []
  }
 ],
 "metadata": {
  "kernelspec": {
   "display_name": "Python 3",
   "language": "python",
   "name": "python3"
  },
  "language_info": {
   "codemirror_mode": {
    "name": "ipython",
    "version": 3
   },
   "file_extension": ".py",
   "mimetype": "text/x-python",
   "name": "python",
   "nbconvert_exporter": "python",
   "pygments_lexer": "ipython3",
   "version": "3.6.8"
  }
 },
 "nbformat": 4,
 "nbformat_minor": 2
}
