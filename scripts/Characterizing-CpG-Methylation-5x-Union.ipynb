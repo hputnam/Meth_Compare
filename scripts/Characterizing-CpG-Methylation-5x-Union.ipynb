{
 "cells": [
  {
   "cell_type": "markdown",
   "metadata": {},
   "source": [
    "# Characterizing CpG Methylation (union bedgraphs with 5x data)\n",
    "\n",
    "In this notebook, general methylation landscapes in *Montipora capitata* and *Pocillopora acuta* will be characterized based on WGSB, RRBS, and MBD-BSseq data. I will also assess CG motif overlaps with various genome feature tracks to understand where methylation may occur across the genome. I will use [union bedgraphs](https://gannet.fish.washington.edu/seashell/bu-github/Meth_Compare/analyses/10-unionbedg/) with 5x data.\n",
    "\n",
    "1. Download union bedgraphs and format for downstream analyses\n",
    "2. Characterize methylation for each CpG dinucleotide\n",
    "3. Characterize genomic locations of methylated CpGs, sparsely methylated CpGs, and unmethylated CpGs for each sequencing type"
   ]
  },
  {
   "cell_type": "markdown",
   "metadata": {},
   "source": [
    "## 0. Set working directory and install programs"
   ]
  },
  {
   "cell_type": "code",
   "execution_count": 1,
   "metadata": {
    "collapsed": false
   },
   "outputs": [
    {
     "name": "stdout",
     "output_type": "stream",
     "text": [
      "/Users/yaamini/Documents/Meth_Compare/scripts\r\n"
     ]
    }
   ],
   "source": [
    "!pwd"
   ]
  },
  {
   "cell_type": "code",
   "execution_count": 2,
   "metadata": {
    "collapsed": false
   },
   "outputs": [
    {
     "name": "stdout",
     "output_type": "stream",
     "text": [
      "/Users/yaamini/Documents/Meth_Compare/analyses\n"
     ]
    }
   ],
   "source": [
    "cd ../analyses/"
   ]
  },
  {
   "cell_type": "code",
   "execution_count": 3,
   "metadata": {
    "collapsed": false
   },
   "outputs": [],
   "source": [
    "#!mkdir Characterizing-CpG-Methylation-5x-Union"
   ]
  },
  {
   "cell_type": "code",
   "execution_count": 4,
   "metadata": {
    "collapsed": false,
    "scrolled": true
   },
   "outputs": [
    {
     "name": "stdout",
     "output_type": "stream",
     "text": [
      "/Users/yaamini/Documents/Meth_Compare/analyses/Characterizing-CpG-Methylation-5x-Union\n"
     ]
    }
   ],
   "source": [
    "cd Characterizing-CpG-Methylation-5x-Union/"
   ]
  },
  {
   "cell_type": "code",
   "execution_count": 5,
   "metadata": {
    "collapsed": false
   },
   "outputs": [
    {
     "name": "stdout",
     "output_type": "stream",
     "text": [
      "0.18.1\n"
     ]
    }
   ],
   "source": [
    "#Install pandas for this notebook\n",
    "import pandas as pd\n",
    "print(pd.__version__)"
   ]
  },
  {
   "cell_type": "markdown",
   "metadata": {},
   "source": [
    "## *M. capitata*"
   ]
  },
  {
   "cell_type": "code",
   "execution_count": 5,
   "metadata": {
    "collapsed": false
   },
   "outputs": [
    {
     "name": "stdout",
     "output_type": "stream",
     "text": [
      "mkdir: Mcap: File exists\r\n"
     ]
    }
   ],
   "source": [
    "#Make a directory for Mcap output\n",
    "!mkdir Mcap"
   ]
  },
  {
   "cell_type": "code",
   "execution_count": 6,
   "metadata": {
    "collapsed": false,
    "scrolled": true
   },
   "outputs": [
    {
     "name": "stdout",
     "output_type": "stream",
     "text": [
      "/Users/yaamini/Documents/Meth_Compare/analyses/Characterizing-CpG-Methylation-5x-Union/Mcap\n"
     ]
    }
   ],
   "source": [
    "cd Mcap/"
   ]
  },
  {
   "cell_type": "markdown",
   "metadata": {},
   "source": [
    "### 1. Format data"
   ]
  },
  {
   "cell_type": "markdown",
   "metadata": {},
   "source": [
    "#### 1a. Download bedgraph"
   ]
  },
  {
   "cell_type": "code",
   "execution_count": 8,
   "metadata": {
    "collapsed": false,
    "scrolled": true
   },
   "outputs": [
    {
     "name": "stdout",
     "output_type": "stream",
     "text": [
      "--2020-05-19 21:52:34--  https://gannet.fish.washington.edu/seashell/bu-github/Meth_Compare/analyses/10-unionbedg/Mcap_union_5x.bedgraph\n",
      "Resolving gannet.fish.washington.edu (gannet.fish.washington.edu)... 128.95.149.52\n",
      "Connecting to gannet.fish.washington.edu (gannet.fish.washington.edu)|128.95.149.52|:443... connected.\n",
      "HTTP request sent, awaiting response... 200 OK\n",
      "Length: 862402537 (822M)\n",
      "Saving to: ‘Mcap_union_5x.bedgraph’\n",
      "\n",
      "Mcap_union_5x.bedgr 100%[===================>] 822.45M  90.9MB/s    in 10s     \n",
      "\n",
      "2020-05-19 21:52:45 (81.3 MB/s) - ‘Mcap_union_5x.bedgraph’ saved [862402537/862402537]\n",
      "\n"
     ]
    }
   ],
   "source": [
    "#Download Mcap 5x union bedgraph\n",
    "!wget https://gannet.fish.washington.edu/seashell/bu-github/Meth_Compare/analyses/10-unionbedg/Mcap_union_5x.bedgraph"
   ]
  },
  {
   "cell_type": "code",
   "execution_count": 9,
   "metadata": {
    "collapsed": false,
    "scrolled": false
   },
   "outputs": [
    {
     "name": "stdout",
     "output_type": "stream",
     "text": [
      "3043\t18674\t18676\t12.500000\tN/A\t0.000000\tN/A\tN/A\tN/A\tN/A\tN/A\tN/A\r\n",
      "3043\t18688\t18690\t7.692308\t0.000000\t0.000000\tN/A\tN/A\tN/A\tN/A\t0.000000\tN/A\r\n",
      "3043\t18720\t18722\t8.333333\t0.000000\t0.000000\tN/A\tN/A\tN/A\tN/A\t0.000000\t0.000000\r\n",
      "3043\t18734\t18736\t8.333333\t0.000000\t0.000000\tN/A\tN/A\tN/A\tN/A\tN/A\t0.000000\r\n",
      "3043\t18740\t18742\t0.000000\t0.000000\t0.000000\tN/A\tN/A\tN/A\tN/A\tN/A\t0.000000\r\n",
      "3043\t18755\t18757\t11.111111\t0.000000\t0.000000\tN/A\tN/A\tN/A\tN/A\tN/A\t0.000000\r\n",
      "3043\t18784\t18786\t20.000000\t0.000000\t0.000000\tN/A\tN/A\tN/A\tN/A\t0.000000\t0.000000\r\n",
      "3043\t18801\t18803\t0.000000\t0.000000\t0.000000\tN/A\tN/A\tN/A\tN/A\t0.000000\t0.000000\r\n",
      "3043\t18822\t18824\tN/A\t0.000000\t0.000000\tN/A\tN/A\tN/A\tN/A\t0.000000\tN/A\r\n",
      "3043\t18827\t18829\tN/A\t0.000000\t0.000000\tN/A\tN/A\tN/A\tN/A\t0.000000\tN/A\r\n"
     ]
    }
   ],
   "source": [
    "#Check downloaded file\n",
    "#WGBS: 10-12\n",
    "#RRBS: 14-16\n",
    "#MBD-BS: 16-18\n",
    "!tail Mcap_union_5x.bedgraph"
   ]
  },
  {
   "cell_type": "markdown",
   "metadata": {},
   "source": [
    "#### 1b. Manipulate with `pandas`"
   ]
  },
  {
   "cell_type": "code",
   "execution_count": 10,
   "metadata": {
    "collapsed": false
   },
   "outputs": [
    {
     "data": {
      "text/html": [
       "<div>\n",
       "<table border=\"1\" class=\"dataframe\">\n",
       "  <thead>\n",
       "    <tr style=\"text-align: right;\">\n",
       "      <th></th>\n",
       "      <th>chrom</th>\n",
       "      <th>start</th>\n",
       "      <th>end</th>\n",
       "      <th>10</th>\n",
       "      <th>11</th>\n",
       "      <th>12</th>\n",
       "      <th>13</th>\n",
       "      <th>14</th>\n",
       "      <th>15</th>\n",
       "      <th>16</th>\n",
       "      <th>17</th>\n",
       "      <th>18</th>\n",
       "    </tr>\n",
       "  </thead>\n",
       "  <tbody>\n",
       "    <tr>\n",
       "      <th>0</th>\n",
       "      <td>1</td>\n",
       "      <td>3493</td>\n",
       "      <td>3495</td>\n",
       "      <td>NaN</td>\n",
       "      <td>NaN</td>\n",
       "      <td>NaN</td>\n",
       "      <td>0.0</td>\n",
       "      <td>NaN</td>\n",
       "      <td>0.000000</td>\n",
       "      <td>NaN</td>\n",
       "      <td>NaN</td>\n",
       "      <td>NaN</td>\n",
       "    </tr>\n",
       "    <tr>\n",
       "      <th>1</th>\n",
       "      <td>1</td>\n",
       "      <td>3518</td>\n",
       "      <td>3520</td>\n",
       "      <td>NaN</td>\n",
       "      <td>NaN</td>\n",
       "      <td>NaN</td>\n",
       "      <td>0.0</td>\n",
       "      <td>NaN</td>\n",
       "      <td>0.000000</td>\n",
       "      <td>NaN</td>\n",
       "      <td>NaN</td>\n",
       "      <td>NaN</td>\n",
       "    </tr>\n",
       "    <tr>\n",
       "      <th>2</th>\n",
       "      <td>1</td>\n",
       "      <td>3727</td>\n",
       "      <td>3729</td>\n",
       "      <td>NaN</td>\n",
       "      <td>NaN</td>\n",
       "      <td>NaN</td>\n",
       "      <td>0.0</td>\n",
       "      <td>0.0</td>\n",
       "      <td>8.695652</td>\n",
       "      <td>NaN</td>\n",
       "      <td>NaN</td>\n",
       "      <td>NaN</td>\n",
       "    </tr>\n",
       "    <tr>\n",
       "      <th>3</th>\n",
       "      <td>1</td>\n",
       "      <td>3752</td>\n",
       "      <td>3754</td>\n",
       "      <td>NaN</td>\n",
       "      <td>NaN</td>\n",
       "      <td>NaN</td>\n",
       "      <td>0.0</td>\n",
       "      <td>0.0</td>\n",
       "      <td>0.000000</td>\n",
       "      <td>NaN</td>\n",
       "      <td>NaN</td>\n",
       "      <td>NaN</td>\n",
       "    </tr>\n",
       "    <tr>\n",
       "      <th>4</th>\n",
       "      <td>1</td>\n",
       "      <td>3757</td>\n",
       "      <td>3759</td>\n",
       "      <td>NaN</td>\n",
       "      <td>NaN</td>\n",
       "      <td>NaN</td>\n",
       "      <td>0.0</td>\n",
       "      <td>0.0</td>\n",
       "      <td>0.000000</td>\n",
       "      <td>NaN</td>\n",
       "      <td>NaN</td>\n",
       "      <td>NaN</td>\n",
       "    </tr>\n",
       "  </tbody>\n",
       "</table>\n",
       "</div>"
      ],
      "text/plain": [
       "   chrom  start   end  10  11  12   13   14        15  16  17  18\n",
       "0      1   3493  3495 NaN NaN NaN  0.0  NaN  0.000000 NaN NaN NaN\n",
       "1      1   3518  3520 NaN NaN NaN  0.0  NaN  0.000000 NaN NaN NaN\n",
       "2      1   3727  3729 NaN NaN NaN  0.0  0.0  8.695652 NaN NaN NaN\n",
       "3      1   3752  3754 NaN NaN NaN  0.0  0.0  0.000000 NaN NaN NaN\n",
       "4      1   3757  3759 NaN NaN NaN  0.0  0.0  0.000000 NaN NaN NaN"
      ]
     },
     "execution_count": 10,
     "metadata": {},
     "output_type": "execute_result"
    }
   ],
   "source": [
    "#Import union data into pandas\n",
    "#Check head\n",
    "df = pd.read_table(\"Mcap_union_5x.bedgraph\")\n",
    "df.head(5)"
   ]
  },
  {
   "cell_type": "code",
   "execution_count": 11,
   "metadata": {
    "collapsed": false,
    "scrolled": false
   },
   "outputs": [
    {
     "data": {
      "text/html": [
       "<div>\n",
       "<table border=\"1\" class=\"dataframe\">\n",
       "  <thead>\n",
       "    <tr style=\"text-align: right;\">\n",
       "      <th></th>\n",
       "      <th>chrom</th>\n",
       "      <th>start</th>\n",
       "      <th>end</th>\n",
       "      <th>10</th>\n",
       "      <th>11</th>\n",
       "      <th>12</th>\n",
       "      <th>13</th>\n",
       "      <th>14</th>\n",
       "      <th>15</th>\n",
       "      <th>16</th>\n",
       "      <th>17</th>\n",
       "      <th>18</th>\n",
       "      <th>WGBS</th>\n",
       "      <th>RRBS</th>\n",
       "      <th>MBD-BS</th>\n",
       "    </tr>\n",
       "  </thead>\n",
       "  <tbody>\n",
       "    <tr>\n",
       "      <th>13340258</th>\n",
       "      <td>3043</td>\n",
       "      <td>18674</td>\n",
       "      <td>18676</td>\n",
       "      <td>12.500000</td>\n",
       "      <td>NaN</td>\n",
       "      <td>0.0</td>\n",
       "      <td>NaN</td>\n",
       "      <td>NaN</td>\n",
       "      <td>NaN</td>\n",
       "      <td>NaN</td>\n",
       "      <td>NaN</td>\n",
       "      <td>NaN</td>\n",
       "      <td>6.250000</td>\n",
       "      <td>NaN</td>\n",
       "      <td>NaN</td>\n",
       "    </tr>\n",
       "    <tr>\n",
       "      <th>13340259</th>\n",
       "      <td>3043</td>\n",
       "      <td>18688</td>\n",
       "      <td>18690</td>\n",
       "      <td>7.692308</td>\n",
       "      <td>0.0</td>\n",
       "      <td>0.0</td>\n",
       "      <td>NaN</td>\n",
       "      <td>NaN</td>\n",
       "      <td>NaN</td>\n",
       "      <td>NaN</td>\n",
       "      <td>0.0</td>\n",
       "      <td>NaN</td>\n",
       "      <td>2.564103</td>\n",
       "      <td>NaN</td>\n",
       "      <td>0.0</td>\n",
       "    </tr>\n",
       "    <tr>\n",
       "      <th>13340260</th>\n",
       "      <td>3043</td>\n",
       "      <td>18720</td>\n",
       "      <td>18722</td>\n",
       "      <td>8.333333</td>\n",
       "      <td>0.0</td>\n",
       "      <td>0.0</td>\n",
       "      <td>NaN</td>\n",
       "      <td>NaN</td>\n",
       "      <td>NaN</td>\n",
       "      <td>NaN</td>\n",
       "      <td>0.0</td>\n",
       "      <td>0.0</td>\n",
       "      <td>2.777778</td>\n",
       "      <td>NaN</td>\n",
       "      <td>0.0</td>\n",
       "    </tr>\n",
       "    <tr>\n",
       "      <th>13340261</th>\n",
       "      <td>3043</td>\n",
       "      <td>18734</td>\n",
       "      <td>18736</td>\n",
       "      <td>8.333333</td>\n",
       "      <td>0.0</td>\n",
       "      <td>0.0</td>\n",
       "      <td>NaN</td>\n",
       "      <td>NaN</td>\n",
       "      <td>NaN</td>\n",
       "      <td>NaN</td>\n",
       "      <td>NaN</td>\n",
       "      <td>0.0</td>\n",
       "      <td>2.777778</td>\n",
       "      <td>NaN</td>\n",
       "      <td>0.0</td>\n",
       "    </tr>\n",
       "    <tr>\n",
       "      <th>13340262</th>\n",
       "      <td>3043</td>\n",
       "      <td>18740</td>\n",
       "      <td>18742</td>\n",
       "      <td>0.000000</td>\n",
       "      <td>0.0</td>\n",
       "      <td>0.0</td>\n",
       "      <td>NaN</td>\n",
       "      <td>NaN</td>\n",
       "      <td>NaN</td>\n",
       "      <td>NaN</td>\n",
       "      <td>NaN</td>\n",
       "      <td>0.0</td>\n",
       "      <td>0.000000</td>\n",
       "      <td>NaN</td>\n",
       "      <td>0.0</td>\n",
       "    </tr>\n",
       "    <tr>\n",
       "      <th>13340263</th>\n",
       "      <td>3043</td>\n",
       "      <td>18755</td>\n",
       "      <td>18757</td>\n",
       "      <td>11.111111</td>\n",
       "      <td>0.0</td>\n",
       "      <td>0.0</td>\n",
       "      <td>NaN</td>\n",
       "      <td>NaN</td>\n",
       "      <td>NaN</td>\n",
       "      <td>NaN</td>\n",
       "      <td>NaN</td>\n",
       "      <td>0.0</td>\n",
       "      <td>3.703704</td>\n",
       "      <td>NaN</td>\n",
       "      <td>0.0</td>\n",
       "    </tr>\n",
       "    <tr>\n",
       "      <th>13340264</th>\n",
       "      <td>3043</td>\n",
       "      <td>18784</td>\n",
       "      <td>18786</td>\n",
       "      <td>20.000000</td>\n",
       "      <td>0.0</td>\n",
       "      <td>0.0</td>\n",
       "      <td>NaN</td>\n",
       "      <td>NaN</td>\n",
       "      <td>NaN</td>\n",
       "      <td>NaN</td>\n",
       "      <td>0.0</td>\n",
       "      <td>0.0</td>\n",
       "      <td>6.666667</td>\n",
       "      <td>NaN</td>\n",
       "      <td>0.0</td>\n",
       "    </tr>\n",
       "    <tr>\n",
       "      <th>13340265</th>\n",
       "      <td>3043</td>\n",
       "      <td>18801</td>\n",
       "      <td>18803</td>\n",
       "      <td>0.000000</td>\n",
       "      <td>0.0</td>\n",
       "      <td>0.0</td>\n",
       "      <td>NaN</td>\n",
       "      <td>NaN</td>\n",
       "      <td>NaN</td>\n",
       "      <td>NaN</td>\n",
       "      <td>0.0</td>\n",
       "      <td>0.0</td>\n",
       "      <td>0.000000</td>\n",
       "      <td>NaN</td>\n",
       "      <td>0.0</td>\n",
       "    </tr>\n",
       "    <tr>\n",
       "      <th>13340266</th>\n",
       "      <td>3043</td>\n",
       "      <td>18822</td>\n",
       "      <td>18824</td>\n",
       "      <td>NaN</td>\n",
       "      <td>0.0</td>\n",
       "      <td>0.0</td>\n",
       "      <td>NaN</td>\n",
       "      <td>NaN</td>\n",
       "      <td>NaN</td>\n",
       "      <td>NaN</td>\n",
       "      <td>0.0</td>\n",
       "      <td>NaN</td>\n",
       "      <td>0.000000</td>\n",
       "      <td>NaN</td>\n",
       "      <td>0.0</td>\n",
       "    </tr>\n",
       "    <tr>\n",
       "      <th>13340267</th>\n",
       "      <td>3043</td>\n",
       "      <td>18827</td>\n",
       "      <td>18829</td>\n",
       "      <td>NaN</td>\n",
       "      <td>0.0</td>\n",
       "      <td>0.0</td>\n",
       "      <td>NaN</td>\n",
       "      <td>NaN</td>\n",
       "      <td>NaN</td>\n",
       "      <td>NaN</td>\n",
       "      <td>0.0</td>\n",
       "      <td>NaN</td>\n",
       "      <td>0.000000</td>\n",
       "      <td>NaN</td>\n",
       "      <td>0.0</td>\n",
       "    </tr>\n",
       "  </tbody>\n",
       "</table>\n",
       "</div>"
      ],
      "text/plain": [
       "          chrom  start    end         10   11   12  13  14  15  16   17   18  \\\n",
       "13340258   3043  18674  18676  12.500000  NaN  0.0 NaN NaN NaN NaN  NaN  NaN   \n",
       "13340259   3043  18688  18690   7.692308  0.0  0.0 NaN NaN NaN NaN  0.0  NaN   \n",
       "13340260   3043  18720  18722   8.333333  0.0  0.0 NaN NaN NaN NaN  0.0  0.0   \n",
       "13340261   3043  18734  18736   8.333333  0.0  0.0 NaN NaN NaN NaN  NaN  0.0   \n",
       "13340262   3043  18740  18742   0.000000  0.0  0.0 NaN NaN NaN NaN  NaN  0.0   \n",
       "13340263   3043  18755  18757  11.111111  0.0  0.0 NaN NaN NaN NaN  NaN  0.0   \n",
       "13340264   3043  18784  18786  20.000000  0.0  0.0 NaN NaN NaN NaN  0.0  0.0   \n",
       "13340265   3043  18801  18803   0.000000  0.0  0.0 NaN NaN NaN NaN  0.0  0.0   \n",
       "13340266   3043  18822  18824        NaN  0.0  0.0 NaN NaN NaN NaN  0.0  NaN   \n",
       "13340267   3043  18827  18829        NaN  0.0  0.0 NaN NaN NaN NaN  0.0  NaN   \n",
       "\n",
       "              WGBS  RRBS  MBD-BS  \n",
       "13340258  6.250000   NaN     NaN  \n",
       "13340259  2.564103   NaN     0.0  \n",
       "13340260  2.777778   NaN     0.0  \n",
       "13340261  2.777778   NaN     0.0  \n",
       "13340262  0.000000   NaN     0.0  \n",
       "13340263  3.703704   NaN     0.0  \n",
       "13340264  6.666667   NaN     0.0  \n",
       "13340265  0.000000   NaN     0.0  \n",
       "13340266  0.000000   NaN     0.0  \n",
       "13340267  0.000000   NaN     0.0  "
      ]
     },
     "execution_count": 11,
     "metadata": {},
     "output_type": "execute_result"
    }
   ],
   "source": [
    "#Average the first three columns for WGBS information and save as a new column\n",
    "#Average the middle three columns for RRBS information and save as a new column\n",
    "#Average the last three columns for MBD-BS information and save as a new column\n",
    "#Check output\n",
    "df['WGBS'] = df[['10', '11', \"12\"]].mean(axis=1)\n",
    "df['RRBS'] = df[['13', '14', \"15\"]].mean(axis=1)\n",
    "df['MBD-BS'] = df[['16', '17', \"18\"]].mean(axis=1)\n",
    "df.tail(10)"
   ]
  },
  {
   "cell_type": "code",
   "execution_count": 12,
   "metadata": {
    "collapsed": false
   },
   "outputs": [],
   "source": [
    "#Save dataframe in a tabular format and include N/As. Do not include quotes.\n",
    "df.to_csv(\"Mcap_union_5x-averages.bedgraph\", sep = \"\\t\", na_rep = \"N/A\", quoting = 3)"
   ]
  },
  {
   "cell_type": "markdown",
   "metadata": {},
   "source": [
    "#### 1c. Separate methods into new bedgraphs"
   ]
  },
  {
   "cell_type": "code",
   "execution_count": 13,
   "metadata": {
    "collapsed": false,
    "scrolled": true
   },
   "outputs": [
    {
     "name": "stdout",
     "output_type": "stream",
     "text": [
      "\tchrom\tstart\tend\t10\t11\t12\t13\t14\t15\t16\t17\t18\tWGBS\tRRBS\tMBD-BS\r\n",
      "0\t1\t3493\t3495\tN/A\tN/A\tN/A\t0.0\tN/A\t0.0\tN/A\tN/A\tN/A\tN/A\t0.0\tN/A\r\n",
      "1\t1\t3518\t3520\tN/A\tN/A\tN/A\t0.0\tN/A\t0.0\tN/A\tN/A\tN/A\tN/A\t0.0\tN/A\r\n",
      "2\t1\t3727\t3729\tN/A\tN/A\tN/A\t0.0\t0.0\t8.695652\tN/A\tN/A\tN/A\tN/A\t2.898550666666667\tN/A\r\n",
      "3\t1\t3752\t3754\tN/A\tN/A\tN/A\t0.0\t0.0\t0.0\tN/A\tN/A\tN/A\tN/A\t0.0\tN/A\r\n",
      "4\t1\t3757\t3759\tN/A\tN/A\tN/A\t0.0\t0.0\t0.0\tN/A\tN/A\tN/A\tN/A\t0.0\tN/A\r\n",
      "5\t1\t3770\t3772\tN/A\tN/A\tN/A\t0.0\t0.0\t0.0\tN/A\tN/A\tN/A\tN/A\t0.0\tN/A\r\n",
      "6\t1\t4062\t4064\tN/A\tN/A\t0.0\tN/A\tN/A\tN/A\tN/A\tN/A\tN/A\t0.0\tN/A\tN/A\r\n",
      "7\t1\t4069\t4071\tN/A\tN/A\t0.0\tN/A\tN/A\tN/A\tN/A\tN/A\tN/A\t0.0\tN/A\tN/A\r\n",
      "8\t1\t4077\t4079\tN/A\tN/A\t0.0\tN/A\tN/A\tN/A\tN/A\tN/A\tN/A\t0.0\tN/A\tN/A\r\n"
     ]
    }
   ],
   "source": [
    "#Check pandas manipulations\n",
    "!head Mcap_union_5x-averages.bedgraph"
   ]
  },
  {
   "cell_type": "code",
   "execution_count": 14,
   "metadata": {
    "collapsed": false
   },
   "outputs": [],
   "source": [
    "#Remove header\n",
    "#Keep chr, start, end, and WGBS average (col 2-4, 13)\n",
    "#Remove rows where the 4th column (average %meth) is N/A\n",
    "#Save file\n",
    "!tail -n +2 Mcap_union_5x-averages.bedgraph \\\n",
    "| awk -F'\\t' -v OFS='\\t' '{print $2, $3, $4, $14}' \\\n",
    "| awk -F'\\t' -v OFS='\\t' '$4 != \"N/A\"' \\\n",
    "> Mcap_union_5x-averages-WGBS.bedgraph"
   ]
  },
  {
   "cell_type": "code",
   "execution_count": 15,
   "metadata": {
    "collapsed": false
   },
   "outputs": [
    {
     "name": "stdout",
     "output_type": "stream",
     "text": [
      "1\t4062\t4064\t0.0\n",
      "1\t4069\t4071\t0.0\n",
      "1\t4077\t4079\t0.0\n",
      "1\t4086\t4088\t0.0\n",
      "1\t4146\t4148\t0.0\n",
      "1\t4150\t4152\t0.0\n",
      "1\t4155\t4157\t0.0\n",
      "1\t4172\t4174\t0.0\n",
      "1\t4184\t4186\t0.0\n",
      "1\t4190\t4192\t16.666667\n",
      " 11509837 Mcap_union_5x-averages-WGBS.bedgraph\n"
     ]
    }
   ],
   "source": [
    "#Check output: chr, start, end, % meth\n",
    "!head Mcap_union_5x-averages-WGBS.bedgraph\n",
    "!wc -l Mcap_union_5x-averages-WGBS.bedgraph"
   ]
  },
  {
   "cell_type": "code",
   "execution_count": 16,
   "metadata": {
    "collapsed": false
   },
   "outputs": [],
   "source": [
    "#Remove header\n",
    "#Keep chr, start, end, and RRBS average\n",
    "#Remove rows where the 4th column (average %meth) is N/A\n",
    "#Save file\n",
    "!tail -n +2 Mcap_union_5x-averages.bedgraph \\\n",
    "| awk -F'\\t' -v OFS='\\t' '{print $2, $3, $4, $15}' \\\n",
    "| awk -F'\\t' -v OFS='\\t' '$4 != \"N/A\"' \\\n",
    "> Mcap_union_5x-averages-RRBS.bedgraph"
   ]
  },
  {
   "cell_type": "code",
   "execution_count": 17,
   "metadata": {
    "collapsed": false,
    "scrolled": true
   },
   "outputs": [
    {
     "name": "stdout",
     "output_type": "stream",
     "text": [
      "1\t3493\t3495\t0.0\n",
      "1\t3518\t3520\t0.0\n",
      "1\t3727\t3729\t2.898550666666667\n",
      "1\t3752\t3754\t0.0\n",
      "1\t3757\t3759\t0.0\n",
      "1\t3770\t3772\t0.0\n",
      "1\t11876\t11878\t0.0\n",
      "1\t11887\t11889\t0.0\n",
      "1\t11894\t11896\t0.0\n",
      "1\t11941\t11943\t0.0\n",
      " 3981450 Mcap_union_5x-averages-RRBS.bedgraph\n"
     ]
    }
   ],
   "source": [
    "#Check output: chr, start, end, % meth\n",
    "!head Mcap_union_5x-averages-RRBS.bedgraph\n",
    "!wc -l Mcap_union_5x-averages-RRBS.bedgraph"
   ]
  },
  {
   "cell_type": "code",
   "execution_count": 18,
   "metadata": {
    "collapsed": false
   },
   "outputs": [],
   "source": [
    "#Remove header\n",
    "#Keep chr, start, end, and MBD-BS average\n",
    "#Remove rows where the 4th column (average %meth) is N/A\n",
    "#Save file\n",
    "!tail -n +2 Mcap_union_5x-averages.bedgraph \\\n",
    "| awk -F'\\t' -v OFS='\\t' '{print $2, $3, $4, $16}' \\\n",
    "| awk -F'\\t' -v OFS='\\t' '$4 != \"N/A\"' \\\n",
    "> Mcap_union_5x-averages-MBDBS.bedgraph"
   ]
  },
  {
   "cell_type": "code",
   "execution_count": 19,
   "metadata": {
    "collapsed": false
   },
   "outputs": [
    {
     "name": "stdout",
     "output_type": "stream",
     "text": [
      "1\t5228\t5230\t0.0\n",
      "1\t5243\t5245\t0.0\n",
      "1\t5247\t5249\t0.0\n",
      "1\t5296\t5298\t0.0\n",
      "1\t8113\t8115\t20.0\n",
      "1\t59438\t59440\t100.0\n",
      "1\t77096\t77098\t0.0\n",
      "1\t77145\t77147\t0.0\n",
      "1\t77151\t77153\t0.0\n",
      "1\t77179\t77181\t0.0\n",
      "  866555 Mcap_union_5x-averages-MBDBS.bedgraph\n"
     ]
    }
   ],
   "source": [
    "#Check output: chr, start, end, % meth\n",
    "!head Mcap_union_5x-averages-MBDBS.bedgraph\n",
    "!wc -l Mcap_union_5x-averages-MBDBS.bedgraph"
   ]
  },
  {
   "cell_type": "code",
   "execution_count": 20,
   "metadata": {
    "collapsed": false
   },
   "outputs": [
    {
     "name": "stdout",
     "output_type": "stream",
     "text": [
      "Mcap_union_5x-averages-MBDBS.bedgraph\r\n",
      "Mcap_union_5x-averages-RRBS.bedgraph\r\n",
      "Mcap_union_5x-averages-WGBS.bedgraph\r\n"
     ]
    }
   ],
   "source": [
    "!find *averages-*bedgraph"
   ]
  },
  {
   "cell_type": "code",
   "execution_count": 21,
   "metadata": {
    "collapsed": true
   },
   "outputs": [],
   "source": [
    "!wc -l *averages-*bedgraph > Mcap_union_5x-averages-counts.txt"
   ]
  },
  {
   "cell_type": "markdown",
   "metadata": {},
   "source": [
    "### 2. Characterize methylation for each CpG dinucleotide\n",
    "\n",
    "- Methylated: > 50% methylation\n",
    "- Sparsely methylated: 10-50% methylation\n",
    "- Unmethylated: < 10% methylation"
   ]
  },
  {
   "cell_type": "markdown",
   "metadata": {},
   "source": [
    "##### Methylated loci"
   ]
  },
  {
   "cell_type": "code",
   "execution_count": 23,
   "metadata": {
    "collapsed": false
   },
   "outputs": [],
   "source": [
    "%%bash\n",
    "for f in *averages-*bedgraph\n",
    "do\n",
    "    awk '{if ($4 >= 50) { print $1, $2, $3, $4 }}' ${f} \\\n",
    "    > ${f}-Meth\n",
    "done"
   ]
  },
  {
   "cell_type": "code",
   "execution_count": 24,
   "metadata": {
    "collapsed": false,
    "scrolled": true
   },
   "outputs": [
    {
     "name": "stdout",
     "output_type": "stream",
     "text": [
      "==> Mcap_union_5x-averages-MBDBS.bedgraph-Meth <==\r\n",
      "1 59438 59440 100.0\r\n",
      "1 106173 106175 100.0\r\n",
      "1 106202 106204 100.0\r\n",
      "1 344031 344033 50.0\r\n",
      "1 344044 344046 60.0\r\n",
      "1 446326 446328 80.0\r\n",
      "1 446344 446346 100.0\r\n",
      "1 446367 446369 100.0\r\n",
      "1 446376 446378 100.0\r\n",
      "1 786125 786127 60.0\r\n",
      "\r\n",
      "==> Mcap_union_5x-averages-RRBS.bedgraph-Meth <==\r\n",
      "1 32228 32230 50.413223\r\n",
      "1 58618 58620 95.65826333333332\r\n",
      "1 58745 58747 96.819728\r\n",
      "1 58764 58766 99.16666666666667\r\n",
      "1 58792 58794 83.42830033333334\r\n",
      "1 66041 66043 100.0\r\n",
      "1 66050 66052 100.0\r\n",
      "1 66339 66341 88.888889\r\n",
      "1 66345 66347 77.777778\r\n",
      "1 66354 66356 77.777778\r\n",
      "\r\n",
      "==> Mcap_union_5x-averages-WGBS.bedgraph-Meth <==\r\n",
      "1 4948 4950 50.0\r\n",
      "1 4967 4969 50.0\r\n",
      "1 4986 4988 50.0\r\n",
      "1 57065 57067 80.0\r\n",
      "1 58609 58611 100.0\r\n",
      "1 58618 58620 100.0\r\n",
      "1 58745 58747 100.0\r\n",
      "1 59207 59209 100.0\r\n",
      "1 59277 59279 100.0\r\n",
      "1 59393 59395 100.0\r\n"
     ]
    }
   ],
   "source": [
    "!head *-Meth"
   ]
  },
  {
   "cell_type": "code",
   "execution_count": 25,
   "metadata": {
    "collapsed": false,
    "scrolled": false
   },
   "outputs": [
    {
     "name": "stdout",
     "output_type": "stream",
     "text": [
      "  148321 Mcap_union_5x-averages-MBDBS.bedgraph-Meth\n",
      "  329361 Mcap_union_5x-averages-RRBS.bedgraph-Meth\n",
      " 1350936 Mcap_union_5x-averages-WGBS.bedgraph-Meth\n",
      " 1828618 total\n"
     ]
    }
   ],
   "source": [
    "!wc -l *-Meth"
   ]
  },
  {
   "cell_type": "code",
   "execution_count": 26,
   "metadata": {
    "collapsed": true
   },
   "outputs": [],
   "source": [
    "!wc -l *-Meth > Mcap_union_5x-Meth-counts.txt"
   ]
  },
  {
   "cell_type": "markdown",
   "metadata": {},
   "source": [
    "##### Sparsely methylated loci"
   ]
  },
  {
   "cell_type": "code",
   "execution_count": 27,
   "metadata": {
    "collapsed": true
   },
   "outputs": [],
   "source": [
    "%%bash\n",
    "for f in *averages-*bedgraph\n",
    "do\n",
    "    awk '{if ($4 < 50) { print $1, $2, $3, $4}}' ${f} \\\n",
    "    | awk '{if ($4 > 10) { print $1, $2, $3, $4 }}' \\\n",
    "    > ${f}-sparseMeth\n",
    "done"
   ]
  },
  {
   "cell_type": "code",
   "execution_count": 28,
   "metadata": {
    "collapsed": false,
    "scrolled": true
   },
   "outputs": [
    {
     "name": "stdout",
     "output_type": "stream",
     "text": [
      "==> Mcap_union_5x-averages-MBDBS.bedgraph-sparseMeth <==\r\n",
      "1 8113 8115 20.0\r\n",
      "1 211907 211909 40.0\r\n",
      "1 217198 217200 14.285714000000002\r\n",
      "1 234158 234160 14.285714000000002\r\n",
      "1 234196 234198 12.5\r\n",
      "1 244563 244565 20.0\r\n",
      "1 269174 269176 16.666667\r\n",
      "1 269178 269180 16.666667\r\n",
      "1 269182 269184 16.666667\r\n",
      "1 277994 277996 16.666667\r\n",
      "\r\n",
      "==> Mcap_union_5x-averages-RRBS.bedgraph-sparseMeth <==\r\n",
      "1 15092 15094 30.0\r\n",
      "1 21739 21741 13.636364000000002\r\n",
      "1 34139 34141 11.764706\r\n",
      "1 42261 42263 10.539216\r\n",
      "1 45163 45165 10.31746\r\n",
      "1 48370 48372 14.285714000000002\r\n",
      "1 87492 87494 33.333333\r\n",
      "1 89011 89013 14.285714000000002\r\n",
      "1 101503 101505 17.380952\r\n",
      "1 101545 101547 23.3333335\r\n",
      "\r\n",
      "==> Mcap_union_5x-averages-WGBS.bedgraph-sparseMeth <==\r\n",
      "1 4190 4192 16.666667\r\n",
      "1 4891 4893 33.333333\r\n",
      "1 4910 4912 28.571429\r\n",
      "1 4929 4931 16.6666665\r\n",
      "1 5005 5007 28.571429\r\n",
      "1 5024 5026 40.0\r\n",
      "1 5151 5153 20.0\r\n",
      "1 5160 5162 16.666667\r\n",
      "1 5228 5230 11.111111\r\n",
      "1 6282 6284 11.111111\r\n"
     ]
    }
   ],
   "source": [
    "!head *-sparseMeth"
   ]
  },
  {
   "cell_type": "code",
   "execution_count": 29,
   "metadata": {
    "collapsed": false,
    "scrolled": false
   },
   "outputs": [
    {
     "name": "stdout",
     "output_type": "stream",
     "text": [
      "  103713 Mcap_union_5x-averages-MBDBS.bedgraph-sparseMeth\r\n",
      "  220277 Mcap_union_5x-averages-RRBS.bedgraph-sparseMeth\r\n",
      " 1155033 Mcap_union_5x-averages-WGBS.bedgraph-sparseMeth\r\n",
      " 1479023 total\r\n"
     ]
    }
   ],
   "source": [
    "!wc -l *-sparseMeth"
   ]
  },
  {
   "cell_type": "code",
   "execution_count": 30,
   "metadata": {
    "collapsed": true
   },
   "outputs": [],
   "source": [
    "!wc -l *-sparseMeth > Mcap_union_5x-sparseMeth-counts.txt"
   ]
  },
  {
   "cell_type": "markdown",
   "metadata": {},
   "source": [
    "##### Unmethylated loci"
   ]
  },
  {
   "cell_type": "code",
   "execution_count": 31,
   "metadata": {
    "collapsed": true
   },
   "outputs": [],
   "source": [
    "%%bash\n",
    "for f in *averages-*bedgraph\n",
    "do\n",
    "    awk '{if ($4 <= 10) { print $1, $2, $3, $4 }}' ${f} \\\n",
    "    > ${f}-unMeth\n",
    "done"
   ]
  },
  {
   "cell_type": "code",
   "execution_count": 32,
   "metadata": {
    "collapsed": false,
    "scrolled": true
   },
   "outputs": [
    {
     "name": "stdout",
     "output_type": "stream",
     "text": [
      "==> Mcap_union_5x-averages-MBDBS.bedgraph-unMeth <==\r\n",
      "1 5228 5230 0.0\r\n",
      "1 5243 5245 0.0\r\n",
      "1 5247 5249 0.0\r\n",
      "1 5296 5298 0.0\r\n",
      "1 77096 77098 0.0\r\n",
      "1 77145 77147 0.0\r\n",
      "1 77151 77153 0.0\r\n",
      "1 77179 77181 0.0\r\n",
      "1 81812 81814 0.0\r\n",
      "1 81817 81819 0.0\r\n",
      "\r\n",
      "==> Mcap_union_5x-averages-RRBS.bedgraph-unMeth <==\r\n",
      "1 3493 3495 0.0\r\n",
      "1 3518 3520 0.0\r\n",
      "1 3727 3729 2.898550666666667\r\n",
      "1 3752 3754 0.0\r\n",
      "1 3757 3759 0.0\r\n",
      "1 3770 3772 0.0\r\n",
      "1 11876 11878 0.0\r\n",
      "1 11887 11889 0.0\r\n",
      "1 11894 11896 0.0\r\n",
      "1 11941 11943 0.0\r\n",
      "\r\n",
      "==> Mcap_union_5x-averages-WGBS.bedgraph-unMeth <==\r\n",
      "1 4062 4064 0.0\r\n",
      "1 4069 4071 0.0\r\n",
      "1 4077 4079 0.0\r\n",
      "1 4086 4088 0.0\r\n",
      "1 4146 4148 0.0\r\n",
      "1 4150 4152 0.0\r\n",
      "1 4155 4157 0.0\r\n",
      "1 4172 4174 0.0\r\n",
      "1 4184 4186 0.0\r\n",
      "1 5043 5045 0.0\r\n"
     ]
    }
   ],
   "source": [
    "!head *-unMeth"
   ]
  },
  {
   "cell_type": "code",
   "execution_count": 33,
   "metadata": {
    "collapsed": false,
    "scrolled": true
   },
   "outputs": [
    {
     "name": "stdout",
     "output_type": "stream",
     "text": [
      "  614521 Mcap_union_5x-averages-MBDBS.bedgraph-unMeth\n",
      " 3431812 Mcap_union_5x-averages-RRBS.bedgraph-unMeth\n",
      " 9003868 Mcap_union_5x-averages-WGBS.bedgraph-unMeth\n",
      " 13050201 total\n"
     ]
    }
   ],
   "source": [
    "!wc -l *-unMeth"
   ]
  },
  {
   "cell_type": "code",
   "execution_count": 34,
   "metadata": {
    "collapsed": true
   },
   "outputs": [],
   "source": [
    "!wc -l *-unMeth > Mcap_union_5x-unMeth-counts.txt"
   ]
  },
  {
   "cell_type": "markdown",
   "metadata": {},
   "source": [
    "### 3. Characterize genomic locations of CpGs"
   ]
  },
  {
   "cell_type": "markdown",
   "metadata": {},
   "source": [
    "#### 3a. Create BEDfiles"
   ]
  },
  {
   "cell_type": "code",
   "execution_count": 35,
   "metadata": {
    "collapsed": false,
    "scrolled": false
   },
   "outputs": [
    {
     "name": "stdout",
     "output_type": "stream",
     "text": [
      "  866555 Mcap_union_5x-averages-MBDBS.bedgraph.bed\n",
      "  148321 Mcap_union_5x-averages-MBDBS.bedgraph-Meth.bed\n",
      "  103713 Mcap_union_5x-averages-MBDBS.bedgraph-sparseMeth.bed\n",
      "  614521 Mcap_union_5x-averages-MBDBS.bedgraph-unMeth.bed\n",
      " 3981450 Mcap_union_5x-averages-RRBS.bedgraph.bed\n",
      "  329361 Mcap_union_5x-averages-RRBS.bedgraph-Meth.bed\n",
      "  220277 Mcap_union_5x-averages-RRBS.bedgraph-sparseMeth.bed\n",
      " 3431812 Mcap_union_5x-averages-RRBS.bedgraph-unMeth.bed\n",
      " 11509837 Mcap_union_5x-averages-WGBS.bedgraph.bed\n",
      " 1350936 Mcap_union_5x-averages-WGBS.bedgraph-Meth.bed\n",
      " 1155033 Mcap_union_5x-averages-WGBS.bedgraph-sparseMeth.bed\n",
      " 9003868 Mcap_union_5x-averages-WGBS.bedgraph-unMeth.bed\n"
     ]
    }
   ],
   "source": [
    "%%bash\n",
    "\n",
    "for f in *averages-*bedgraph*\n",
    "do\n",
    "    awk '{print $1\"\\t\"$2\"\\t\"$3}' ${f} > ${f}.bed\n",
    "    wc -l ${f}.bed\n",
    "done"
   ]
  },
  {
   "cell_type": "code",
   "execution_count": null,
   "metadata": {
    "collapsed": false,
    "scrolled": false
   },
   "outputs": [
    {
     "name": "stdout",
     "output_type": "stream",
     "text": [
      "1\t5228\t5230\r\n",
      "1\t5243\t5245\r\n",
      "1\t5247\t5249\r\n",
      "1\t5296\t5298\r\n",
      "1\t77096\t77098\r\n",
      "1\t77145\t77147\r\n",
      "1\t77151\t77153\r\n",
      "1\t77179\t77181\r\n",
      "1\t81812\t81814\r\n",
      "1\t81817\t81819\r\n"
     ]
    }
   ],
   "source": [
    "#Confirm file creation\n",
    "!head Mcap_union_5x-averages-MBDBS.bedgraph-unMeth.bed"
   ]
  },
  {
   "cell_type": "markdown",
   "metadata": {},
   "source": [
    "#### 3b. Genes"
   ]
  },
  {
   "cell_type": "code",
   "execution_count": 8,
   "metadata": {
    "collapsed": false,
    "scrolled": true
   },
   "outputs": [],
   "source": [
    "%%bash\n",
    "\n",
    "for f in *bed\n",
    "do\n",
    "  /usr/local/bin/intersectBed \\\n",
    "  -u \\\n",
    "  -a ${f} \\\n",
    "  -b ../../../genome-feature-files/Mcap.GFFannotation.gene.gff \\\n",
    "  > ${f}-mcGenes\n",
    "done"
   ]
  },
  {
   "cell_type": "code",
   "execution_count": 9,
   "metadata": {
    "collapsed": false,
    "scrolled": true
   },
   "outputs": [
    {
     "name": "stdout",
     "output_type": "stream",
     "text": [
      "==> Mcap_union_5x-averages-MBDBS.bedgraph-Meth.bed-mcGenes <==\r\n",
      "1\t59438\t59440\r\n",
      "1\t106173\t106175\r\n",
      "1\t106202\t106204\r\n",
      "1\t344031\t344033\r\n",
      "1\t344044\t344046\r\n",
      "1\t786125\t786127\r\n",
      "1\t786144\t786146\r\n",
      "1\t786151\t786153\r\n",
      "1\t879915\t879917\r\n",
      "1\t883893\t883895\r\n",
      "\r\n",
      "==> Mcap_union_5x-averages-MBDBS.bedgraph-sparseMeth.bed-mcGenes <==\r\n",
      "1\t323095\t323097\r\n",
      "1\t328382\t328384\r\n",
      "1\t328386\t328388\r\n",
      "1\t330194\t330196\r\n",
      "1\t330197\t330199\r\n",
      "1\t334750\t334752\r\n",
      "1\t334782\t334784\r\n",
      "1\t341742\t341744\r\n",
      "1\t343939\t343941\r\n",
      "1\t343962\t343964\r\n",
      "\r\n",
      "==> Mcap_union_5x-averages-MBDBS.bedgraph-unMeth.bed-mcGenes <==\r\n",
      "1\t77096\t77098\r\n",
      "1\t77145\t77147\r\n",
      "1\t77151\t77153\r\n",
      "1\t77179\t77181\r\n",
      "1\t81812\t81814\r\n",
      "1\t81817\t81819\r\n",
      "1\t81835\t81837\r\n",
      "1\t81874\t81876\r\n",
      "1\t81887\t81889\r\n",
      "1\t109670\t109672\r\n",
      "\r\n",
      "==> Mcap_union_5x-averages-MBDBS.bedgraph.bed-mcGenes <==\r\n",
      "1\t59438\t59440\r\n",
      "1\t77096\t77098\r\n",
      "1\t77145\t77147\r\n",
      "1\t77151\t77153\r\n",
      "1\t77179\t77181\r\n",
      "1\t81812\t81814\r\n",
      "1\t81817\t81819\r\n",
      "1\t81835\t81837\r\n",
      "1\t81874\t81876\r\n",
      "1\t81887\t81889\r\n",
      "\r\n",
      "==> Mcap_union_5x-averages-RRBS.bedgraph-Meth.bed-mcGenes <==\r\n",
      "1\t58618\t58620\r\n",
      "1\t58745\t58747\r\n",
      "1\t58764\t58766\r\n",
      "1\t58792\t58794\r\n",
      "1\t66041\t66043\r\n",
      "1\t66050\t66052\r\n",
      "1\t66339\t66341\r\n",
      "1\t66345\t66347\r\n",
      "1\t66354\t66356\r\n",
      "1\t66400\t66402\r\n",
      "\r\n",
      "==> Mcap_union_5x-averages-RRBS.bedgraph-sparseMeth.bed-mcGenes <==\r\n",
      "1\t42261\t42263\r\n",
      "1\t45163\t45165\r\n",
      "1\t48370\t48372\r\n",
      "1\t89011\t89013\r\n",
      "1\t101503\t101505\r\n",
      "1\t101545\t101547\r\n",
      "1\t124833\t124835\r\n",
      "1\t135853\t135855\r\n",
      "1\t186492\t186494\r\n",
      "1\t237958\t237960\r\n",
      "\r\n",
      "==> Mcap_union_5x-averages-RRBS.bedgraph-unMeth.bed-mcGenes <==\r\n",
      "1\t22445\t22447\r\n",
      "1\t22505\t22507\r\n",
      "1\t22513\t22515\r",
      "\r\n",
      "1\t22531\t22533\r\n",
      "1\t22534\t22536\r\n",
      "1\t22547\t22549\r\n",
      "1\t22563\t22565\r\n",
      "1\t22575\t22577\r\n",
      "1\t23117\t23119\r\n",
      "1\t23139\t23141\r\n",
      "\r\n",
      "==> Mcap_union_5x-averages-RRBS.bedgraph.bed-mcGenes <==\r\n",
      "1\t22445\t22447\r\n",
      "1\t22505\t22507\r\n",
      "1\t22513\t22515\r\n",
      "1\t22531\t22533\r\n",
      "1\t22534\t22536\r\n",
      "1\t22547\t22549\r\n",
      "1\t22563\t22565\r\n",
      "1\t22575\t22577\r\n",
      "1\t23117\t23119\r\n",
      "1\t23139\t23141\r\n",
      "\r\n",
      "==> Mcap_union_5x-averages-WGBS.bedgraph-Meth.bed-mcGenes <==\r\n",
      "1\t58609\t58611\r\n",
      "1\t58618\t58620\r\n",
      "1\t58745\t58747\r\n",
      "1\t59207\t59209\r\n",
      "1\t59277\t59279\r\n",
      "1\t59393\t59395\r\n",
      "1\t59438\t59440\r\n",
      "1\t65972\t65974\r\n",
      "1\t65978\t65980\r\n",
      "1\t66345\t66347\r\n",
      "\r\n",
      "==> Mcap_union_5x-averages-WGBS.bedgraph-sparseMeth.bed-mcGenes <==\r\n",
      "1\t23202\t23204\r\n",
      "1\t23382\t23384\r\n",
      "1\t23425\t23427\r\n",
      "1\t42323\t42325\r\n",
      "1\t45844\t45846\r\n",
      "1\t45913\t45915\r\n",
      "1\t45949\t45951\r\n",
      "1\t46485\t46487\r\n",
      "1\t48831\t48833\r\n",
      "1\t48881\t48883\r\n",
      "\r\n",
      "==> Mcap_union_5x-averages-WGBS.bedgraph-unMeth.bed-mcGenes <==\r\n",
      "1\t23003\t23005\r\n",
      "1\t23006\t23008\r\n",
      "1\t23019\t23021\r\n",
      "1\t23139\t23141\r\n",
      "1\t23173\t23175\r\n",
      "1\t23326\t23328\r\n",
      "1\t23334\t23336\r\n",
      "1\t23404\t23406\r\n",
      "1\t23445\t23447\r\n",
      "1\t37555\t37557\r\n",
      "\r\n",
      "==> Mcap_union_5x-averages-WGBS.bedgraph.bed-mcGenes <==\r\n",
      "1\t23003\t23005\r\n",
      "1\t23006\t23008\r\n",
      "1\t23019\t23021\r\n",
      "1\t23139\t23141\r\n",
      "1\t23173\t23175\r\n",
      "1\t23202\t23204\r\n",
      "1\t23326\t23328\r\n",
      "1\t23334\t23336\r\n",
      "1\t23382\t23384\r\n",
      "1\t23404\t23406\r\n"
     ]
    }
   ],
   "source": [
    "#Check output\n",
    "!head *mcGenes"
   ]
  },
  {
   "cell_type": "code",
   "execution_count": 10,
   "metadata": {
    "collapsed": false,
    "scrolled": true
   },
   "outputs": [
    {
     "name": "stdout",
     "output_type": "stream",
     "text": [
      "   67258 Mcap_union_5x-averages-MBDBS.bedgraph-Meth.bed-mcGenes\n",
      "   35276 Mcap_union_5x-averages-MBDBS.bedgraph-sparseMeth.bed-mcGenes\n",
      "  207003 Mcap_union_5x-averages-MBDBS.bedgraph-unMeth.bed-mcGenes\n",
      "  309537 Mcap_union_5x-averages-MBDBS.bedgraph.bed-mcGenes\n",
      "  156521 Mcap_union_5x-averages-RRBS.bedgraph-Meth.bed-mcGenes\n",
      "   77322 Mcap_union_5x-averages-RRBS.bedgraph-sparseMeth.bed-mcGenes\n",
      " 1073239 Mcap_union_5x-averages-RRBS.bedgraph-unMeth.bed-mcGenes\n",
      " 1307082 Mcap_union_5x-averages-RRBS.bedgraph.bed-mcGenes\n",
      "  685807 Mcap_union_5x-averages-WGBS.bedgraph-Meth.bed-mcGenes\n",
      "  400637 Mcap_union_5x-averages-WGBS.bedgraph-sparseMeth.bed-mcGenes\n",
      " 3054154 Mcap_union_5x-averages-WGBS.bedgraph-unMeth.bed-mcGenes\n",
      " 4140598 Mcap_union_5x-averages-WGBS.bedgraph.bed-mcGenes\n",
      " 11514434 total\n"
     ]
    }
   ],
   "source": [
    "#Count number of overlaps\n",
    "!wc -l *mcGenes"
   ]
  },
  {
   "cell_type": "code",
   "execution_count": 11,
   "metadata": {
    "collapsed": true
   },
   "outputs": [],
   "source": [
    "!wc -l *mcGenes > Mcap_union_5x-mcGenes-counts.txt"
   ]
  },
  {
   "cell_type": "markdown",
   "metadata": {},
   "source": [
    "#### 3c. Coding Sequences (CDS)"
   ]
  },
  {
   "cell_type": "code",
   "execution_count": 12,
   "metadata": {
    "collapsed": true,
    "scrolled": true
   },
   "outputs": [],
   "source": [
    "%%bash\n",
    "\n",
    "for f in *bed\n",
    "do\n",
    "  /usr/local/bin/intersectBed \\\n",
    "  -u \\\n",
    "  -a ${f} \\\n",
    "  -b ../../../genome-feature-files/Mcap.GFFannotation.CDS.gff \\\n",
    "  > ${f}-mcCDS\n",
    "done"
   ]
  },
  {
   "cell_type": "code",
   "execution_count": 13,
   "metadata": {
    "collapsed": false
   },
   "outputs": [
    {
     "name": "stdout",
     "output_type": "stream",
     "text": [
      "==> Mcap_union_5x-averages-MBDBS.bedgraph-Meth.bed-mcCDS <==\r\n",
      "1\t59438\t59440\r\n",
      "1\t786125\t786127\r\n",
      "1\t786144\t786146\r\n",
      "1\t786151\t786153\r\n",
      "1\t1263040\t1263042\r\n",
      "1\t1409642\t1409644\r\n",
      "1\t1409734\t1409736\r\n",
      "1\t1543924\t1543926\r\n",
      "1\t1601051\t1601053\r\n",
      "1\t1641103\t1641105\r\n",
      "\r\n",
      "==> Mcap_union_5x-averages-MBDBS.bedgraph-sparseMeth.bed-mcCDS <==\r\n",
      "1\t323095\t323097\r\n",
      "1\t354622\t354624\r\n",
      "1\t601511\t601513\r\n",
      "1\t666749\t666751\r\n",
      "1\t667790\t667792\r\n",
      "1\t709103\t709105\r\n",
      "1\t744333\t744335\r\n",
      "1\t744365\t744367\r\n",
      "1\t786094\t786096\r\n",
      "1\t786097\t786099\r\n",
      "\r\n",
      "==> Mcap_union_5x-averages-MBDBS.bedgraph-unMeth.bed-mcCDS <==\r\n",
      "1\t109670\t109672\r\n",
      "1\t238112\t238114\r\n",
      "1\t238133\t238135\r\n",
      "1\t323036\t323038\r\n",
      "1\t323051\t323053\r\n",
      "1\t323066\t323068\r\n",
      "1\t323098\t323100\r\n",
      "1\t354586\t354588\r\n",
      "1\t354616\t354618\r\n",
      "1\t361975\t361977\r\n",
      "\r\n",
      "==> Mcap_union_5x-averages-MBDBS.bedgraph.bed-mcCDS <==\r\n",
      "1\t59438\t59440\r\n",
      "1\t109670\t109672\r\n",
      "1\t238112\t238114\r\n",
      "1\t238133\t238135\r\n",
      "1\t323036\t323038\r\n",
      "1\t323051\t323053\r\n",
      "1\t323066\t323068\r\n",
      "1\t323095\t323097\r\n",
      "1\t323098\t323100\r\n",
      "1\t354586\t354588\r\n",
      "\r\n",
      "==> Mcap_union_5x-averages-RRBS.bedgraph-Meth.bed-mcCDS <==\r\n",
      "1\t58618\t58620\r\n",
      "1\t58745\t58747\r\n",
      "1\t58764\t58766\r\n",
      "1\t58792\t58794\r\n",
      "1\t1174296\t1174298\r\n",
      "1\t1367668\t1367670\r\n",
      "1\t1432386\t1432388\r\n",
      "1\t1432398\t1432400\r\n",
      "1\t1432427\t1432429\r\n",
      "1\t1432441\t1432443\r\n",
      "\r\n",
      "==> Mcap_union_5x-averages-RRBS.bedgraph-sparseMeth.bed-mcCDS <==\r\n",
      "1\t45163\t45165\r\n",
      "1\t186492\t186494\r\n",
      "1\t237958\t237960\r\n",
      "1\t708875\t708877\r\n",
      "1\t743735\t743737\r\n",
      "1\t743825\t743827\r\n",
      "1\t744333\t744335\r\n",
      "1\t744680\t744682\r\n",
      "1\t946097\t946099\r\n",
      "1\t1064399\t1064401\r\n",
      "\r\n",
      "==> Mcap_union_5x-averages-RRBS.bedgraph-unMeth.bed-mcCDS <==\r\n",
      "1\t22445\t22447\r\n",
      "1\t22505\t22507\r\n",
      "1\t22513\t22515\r\n",
      "1\t22531\t22533\r\n",
      "1\t22534\t22536\r\n",
      "1\t22547\t22549\r\n",
      "1\t22563\t22565\r\n",
      "1\t22575\t22577\r\n",
      "1\t45046\t45048\r\n",
      "1\t45070\t45072\r\n",
      "\r\n",
      "==> Mcap_union_5x-averages-RRBS.bedgraph.bed-mcCDS <==\r\n",
      "1\t22445\t22447\r\n",
      "1\t22505\t22507\r\n",
      "1\t22513\t22515\r\n",
      "1\t22531\t22533\r\n",
      "1\t22534\t22536\r\n",
      "1\t22547\t22549\r\n",
      "1\t22563\t22565\r\n",
      "1\t22575\t22577\r\n",
      "1\t45046\t45048\r\n",
      "1\t45070\t45072\r\n",
      "\r\n",
      "==> Mcap_union_5x-averages-WGBS.bedgraph-Meth.bed-mcCDS <==\r\n",
      "1\t58609\t58611\r\n",
      "1\t58618\t58620\r\n",
      "1\t58745\t58747\r\n",
      "1\t59207\t59209\r\n",
      "1\t59277\t59279\r\n",
      "1\t59393\t59395\r\n",
      "1\t59438\t59440\r\n",
      "1\t104744\t104746\r\n",
      "1\t351074\t351076\r\n",
      "1\t351086\t351088\r\n",
      "\r\n",
      "==> Mcap_union_5x-averages-WGBS.bedgraph-sparseMeth.bed-mcCDS <==\r\n",
      "1\t80301\t80303\r\n",
      "1\t80430\t80432\r\n",
      "1\t82663\t82665\r\n",
      "1\t184266\t184268\r\n",
      "1\t184271\t184273\r\n",
      "1\t307885\t307887\r\n",
      "1\t332411\t332413\r\n",
      "1\t332445\t332447\r\n",
      "1\t345002\t345004\r\n",
      "1\t356913\t356915\r\n",
      "\r\n",
      "==> Mcap_union_5x-averages-WGBS.bedgraph-unMeth.bed-mcCDS <==\r\n",
      "1\t37555\t37557\r\n",
      "1\t37567\t37569\r\n",
      "1\t45110\t45112\r\n",
      "1\t45116\t45118\r\n",
      "1\t45128\t45130\r\n",
      "1\t45199\t45201\r\n",
      "1\t46633\t46635\r\n",
      "1\t46642\t46644\r\n",
      "1\t46648\t46650\r\n",
      "1\t51924\t51926\r\n",
      "\r\n",
      "==> Mcap_union_5x-averages-WGBS.bedgraph.bed-mcCDS <==\r\n",
      "1\t37555\t37557\r\n",
      "1\t37567\t37569\r\n",
      "1\t45110\t45112\r\n",
      "1\t45116\t45118\r\n",
      "1\t45128\t45130\r\n",
      "1\t45199\t45201\r\n",
      "1\t46633\t46635\r\n",
      "1\t46642\t46644\r\n",
      "1\t46648\t46650\r\n",
      "1\t51924\t51926\r\n"
     ]
    }
   ],
   "source": [
    "#Check output\n",
    "!head *mcCDS"
   ]
  },
  {
   "cell_type": "code",
   "execution_count": 14,
   "metadata": {
    "collapsed": false,
    "scrolled": true
   },
   "outputs": [
    {
     "name": "stdout",
     "output_type": "stream",
     "text": [
      "   18518 Mcap_union_5x-averages-MBDBS.bedgraph-Meth.bed-mcCDS\n",
      "   13110 Mcap_union_5x-averages-MBDBS.bedgraph-sparseMeth.bed-mcCDS\n",
      "   74148 Mcap_union_5x-averages-MBDBS.bedgraph-unMeth.bed-mcCDS\n",
      "  105776 Mcap_union_5x-averages-MBDBS.bedgraph.bed-mcCDS\n",
      "   22660 Mcap_union_5x-averages-RRBS.bedgraph-Meth.bed-mcCDS\n",
      "   16593 Mcap_union_5x-averages-RRBS.bedgraph-sparseMeth.bed-mcCDS\n",
      "  205283 Mcap_union_5x-averages-RRBS.bedgraph-unMeth.bed-mcCDS\n",
      "  244536 Mcap_union_5x-averages-RRBS.bedgraph.bed-mcCDS\n",
      "  139018 Mcap_union_5x-averages-WGBS.bedgraph-Meth.bed-mcCDS\n",
      "  103408 Mcap_union_5x-averages-WGBS.bedgraph-sparseMeth.bed-mcCDS\n",
      "  753113 Mcap_union_5x-averages-WGBS.bedgraph-unMeth.bed-mcCDS\n",
      "  995539 Mcap_union_5x-averages-WGBS.bedgraph.bed-mcCDS\n",
      " 2691702 total\n"
     ]
    }
   ],
   "source": [
    "#Count number of overlaps\n",
    "!wc -l *mcCDS"
   ]
  },
  {
   "cell_type": "code",
   "execution_count": 15,
   "metadata": {
    "collapsed": true
   },
   "outputs": [],
   "source": [
    "!wc -l *mcCDS > Mcap_union_5x-mcCDS-counts.txt"
   ]
  },
  {
   "cell_type": "markdown",
   "metadata": {},
   "source": [
    "#### 3d. Introns"
   ]
  },
  {
   "cell_type": "code",
   "execution_count": 16,
   "metadata": {
    "collapsed": true,
    "scrolled": true
   },
   "outputs": [],
   "source": [
    "%%bash\n",
    "\n",
    "for f in *bed\n",
    "do\n",
    "  /usr/local/bin/intersectBed \\\n",
    "  -u \\\n",
    "  -a ${f} \\\n",
    "  -b ../../../genome-feature-files/Mcap.GFFannotation.intron.gff \\\n",
    "  > ${f}-mcIntrons\n",
    "done"
   ]
  },
  {
   "cell_type": "code",
   "execution_count": 17,
   "metadata": {
    "collapsed": false
   },
   "outputs": [
    {
     "name": "stdout",
     "output_type": "stream",
     "text": [
      "==> Mcap_union_5x-averages-MBDBS.bedgraph-Meth.bed-mcIntrons <==\r\n",
      "1\t106173\t106175\r\n",
      "1\t106202\t106204\r\n",
      "1\t344031\t344033\r\n",
      "1\t344044\t344046\r\n",
      "1\t879915\t879917\r\n",
      "1\t883893\t883895\r\n",
      "1\t982886\t982888\r\n",
      "1\t1243019\t1243021\r\n",
      "1\t1259506\t1259508\r\n",
      "1\t1259529\t1259531\r\n",
      "\r\n",
      "==> Mcap_union_5x-averages-MBDBS.bedgraph-sparseMeth.bed-mcIntrons <==\r\n",
      "1\t328382\t328384\r\n",
      "1\t328386\t328388\r\n",
      "1\t330194\t330196\r\n",
      "1\t330197\t330199\r\n",
      "1\t334750\t334752\r\n",
      "1\t334782\t334784\r\n",
      "1\t341742\t341744\r\n",
      "1\t343939\t343941\r\n",
      "1\t343962\t343964\r\n",
      "1\t344000\t344002\r\n",
      "\r\n",
      "==> Mcap_union_5x-averages-MBDBS.bedgraph-unMeth.bed-mcIntrons <==\r\n",
      "1\t77096\t77098\r\n",
      "1\t77145\t77147\r\n",
      "1\t77151\t77153\r\n",
      "1\t77179\t77181\r\n",
      "1\t81812\t81814\r\n",
      "1\t81817\t81819\r\n",
      "1\t81835\t81837\r\n",
      "1\t81874\t81876\r\n",
      "1\t81887\t81889\r\n",
      "1\t323150\t323152\r\n",
      "\r\n",
      "==> Mcap_union_5x-averages-MBDBS.bedgraph.bed-mcIntrons <==\r\n",
      "1\t77096\t77098\r\n",
      "1\t77145\t77147\r\n",
      "1\t77151\t77153\r\n",
      "1\t77179\t77181\r\n",
      "1\t81812\t81814\r\n",
      "1\t81817\t81819\r\n",
      "1\t81835\t81837\r\n",
      "1\t81874\t81876\r\n",
      "1\t81887\t81889\r\n",
      "1\t106173\t106175\r\n",
      "\r\n",
      "==> Mcap_union_5x-averages-RRBS.bedgraph-Meth.bed-mcIntrons <==\r\n",
      "1\t66041\t66043\r\n",
      "1\t66050\t66052\r\n",
      "1\t66339\t66341\r\n",
      "1\t66345\t66347\r\n",
      "1\t66354\t66356\r\n",
      "1\t66400\t66402\r\n",
      "1\t66540\t66542\r\n",
      "1\t66543\t66545\r\n",
      "1\t66613\t66615\r\n",
      "1\t66668\t66670\r\n",
      "\r\n",
      "==> Mcap_union_5x-averages-RRBS.bedgraph-sparseMeth.bed-mcIntrons <==\r\n",
      "1\t42261\t42263\r\n",
      "1\t48370\t48372\r\n",
      "1\t89011\t89013\r\n",
      "1\t101503\t101505\r\n",
      "1\t101545\t101547\r\n",
      "1\t124833\t124835\r\n",
      "1\t135853\t135855\r\n",
      "1\t336069\t336071\r\n",
      "1\t336217\t336219\r\n",
      "1\t339303\t339305\r\n",
      "\r\n",
      "==> Mcap_union_5x-averages-RRBS.bedgraph-unMeth.bed-mcIntrons <==\r\n",
      "1\t23117\t23119\r\n",
      "1\t23139\t23141\r\n",
      "1\t23173\t23175\r\n",
      "1\t23202\t23204\r\n",
      "1\t23326\t23328\r\n",
      "1\t23334\t23336\r\n",
      "1\t23382\t23384\r\n",
      "1\t39433\t39435\r\n",
      "1\t39477\t39479\r\n",
      "1\t39509\t39511\r\n",
      "\r\n",
      "==> Mcap_union_5x-averages-RRBS.bedgraph.bed-mcIntrons <==\r\n",
      "1\t23117\t23119\r\n",
      "1\t23139\t23141\r\n",
      "1\t23173\t23175\r\n",
      "1\t23202\t23204\r\n",
      "1\t23326\t23328\r\n",
      "1\t23334\t23336\r\n",
      "1\t23382\t23384\r\n",
      "1\t39433\t39435\r\n",
      "1\t39477\t39479\r\n",
      "1\t39509\t39511\r\n",
      "\r\n",
      "==> Mcap_union_5x-averages-WGBS.bedgraph-Meth.bed-mcIntrons <==\r\n",
      "1\t65972\t65974\r\n",
      "1\t65978\t65980\r\n",
      "1\t66345\t66347\r\n",
      "1\t66354\t66356\r\n",
      "1\t66980\t66982\r\n",
      "1\t67551\t67553\r\n",
      "1\t67834\t67836\r\n",
      "1\t67890\t67892\r\n",
      "1\t68059\t68061\r\n",
      "1\t68394\t68396\r\n",
      "\r\n",
      "==> Mcap_union_5x-averages-WGBS.bedgraph-sparseMeth.bed-mcIntrons <==\r\n",
      "1\t23202\t23204\r\n",
      "1\t23382\t23384\r\n",
      "1\t23425\t23427\r\n",
      "1\t42323\t42325\r\n",
      "1\t45844\t45846\r\n",
      "1\t45913\t45915\r\n",
      "1\t45949\t45951\r\n",
      "1\t46485\t46487\r\n",
      "1\t48831\t48833\r\n",
      "1\t48881\t48883\r\n",
      "\r\n",
      "==> Mcap_union_5x-averages-WGBS.bedgraph-unMeth.bed-mcIntrons <==\r\n",
      "1\t23003\t23005\r\n",
      "1\t23006\t23008\r\n",
      "1\t23019\t23021\r\n",
      "1\t23139\t23141\r\n",
      "1\t23173\t23175\r\n",
      "1\t23326\t23328\r\n",
      "1\t23334\t23336\r\n",
      "1\t23404\t23406\r\n",
      "1\t23445\t23447\r\n",
      "1\t38217\t38219\r\n",
      "\r\n",
      "==> Mcap_union_5x-averages-WGBS.bedgraph.bed-mcIntrons <==\r\n",
      "1\t23003\t23005\r\n",
      "1\t23006\t23008\r\n",
      "1\t23019\t23021\r\n",
      "1\t23139\t23141\r\n",
      "1\t23173\t23175\r\n",
      "1\t23202\t23204\r\n",
      "1\t23326\t23328\r\n",
      "1\t23334\t23336\r\n",
      "1\t23382\t23384\r\n",
      "1\t23404\t23406\r\n"
     ]
    }
   ],
   "source": [
    "#Check output\n",
    "!head *mcIntrons"
   ]
  },
  {
   "cell_type": "code",
   "execution_count": 18,
   "metadata": {
    "collapsed": false,
    "scrolled": true
   },
   "outputs": [
    {
     "name": "stdout",
     "output_type": "stream",
     "text": [
      "   48781 Mcap_union_5x-averages-MBDBS.bedgraph-Meth.bed-mcIntrons\n",
      "   22188 Mcap_union_5x-averages-MBDBS.bedgraph-sparseMeth.bed-mcIntrons\n",
      "  133009 Mcap_union_5x-averages-MBDBS.bedgraph-unMeth.bed-mcIntrons\n",
      "  203978 Mcap_union_5x-averages-MBDBS.bedgraph.bed-mcIntrons\n",
      "  133901 Mcap_union_5x-averages-RRBS.bedgraph-Meth.bed-mcIntrons\n",
      "   60756 Mcap_union_5x-averages-RRBS.bedgraph-sparseMeth.bed-mcIntrons\n",
      "  868445 Mcap_union_5x-averages-RRBS.bedgraph-unMeth.bed-mcIntrons\n",
      " 1063102 Mcap_union_5x-averages-RRBS.bedgraph.bed-mcIntrons\n",
      "  547317 Mcap_union_5x-averages-WGBS.bedgraph-Meth.bed-mcIntrons\n",
      "  297449 Mcap_union_5x-averages-WGBS.bedgraph-sparseMeth.bed-mcIntrons\n",
      " 2303015 Mcap_union_5x-averages-WGBS.bedgraph-unMeth.bed-mcIntrons\n",
      " 3147781 Mcap_union_5x-averages-WGBS.bedgraph.bed-mcIntrons\n",
      " 8829722 total\n"
     ]
    }
   ],
   "source": [
    "#Count number of overlaps\n",
    "!wc -l *mcIntrons"
   ]
  },
  {
   "cell_type": "code",
   "execution_count": 19,
   "metadata": {
    "collapsed": true
   },
   "outputs": [],
   "source": [
    "!wc -l *mcIntrons > Mcap_union_5x-mcIntrons-counts.txt"
   ]
  },
  {
   "cell_type": "markdown",
   "metadata": {},
   "source": [
    "#### 3e. Flanking regions"
   ]
  },
  {
   "cell_type": "code",
   "execution_count": 20,
   "metadata": {
    "collapsed": true,
    "scrolled": true
   },
   "outputs": [],
   "source": [
    "%%bash\n",
    "\n",
    "for f in *bed\n",
    "do\n",
    "  /usr/local/bin/intersectBed \\\n",
    "  -u \\\n",
    "  -a ${f} \\\n",
    "  -b ../../../genome-feature-files/Mcap.GFFannotation.flanks.gff \\\n",
    "  > ${f}-mcFlanks\n",
    "done"
   ]
  },
  {
   "cell_type": "code",
   "execution_count": 21,
   "metadata": {
    "collapsed": false
   },
   "outputs": [
    {
     "name": "stdout",
     "output_type": "stream",
     "text": [
      "==> Mcap_union_5x-averages-MBDBS.bedgraph-Meth.bed-mcFlanks <==\r\n",
      "1\t789213\t789215\r\n",
      "1\t2070697\t2070699\r\n",
      "1\t2070732\t2070734\r\n",
      "2\t126187\t126189\r\n",
      "2\t126190\t126192\r\n",
      "2\t126197\t126199\r\n",
      "2\t126199\t126201\r\n",
      "2\t173804\t173806\r\n",
      "2\t173810\t173812\r\n",
      "2\t197311\t197313\r\n",
      "\r\n",
      "==> Mcap_union_5x-averages-MBDBS.bedgraph-sparseMeth.bed-mcFlanks <==\r\n",
      "1\t217198\t217200\r\n",
      "1\t376177\t376179\r\n",
      "1\t458648\t458650\r\n",
      "1\t618190\t618192\r\n",
      "1\t618205\t618207\r\n",
      "1\t726420\t726422\r\n",
      "1\t743459\t743461\r\n",
      "1\t778795\t778797\r\n",
      "1\t789254\t789256\r\n",
      "1\t789277\t789279\r\n",
      "\r\n",
      "==> Mcap_union_5x-averages-MBDBS.bedgraph-unMeth.bed-mcFlanks <==\r\n",
      "1\t217219\t217221\r\n",
      "1\t217248\t217250\r\n",
      "1\t217269\t217271\r\n",
      "1\t237189\t237191\r\n",
      "1\t322944\t322946\r\n",
      "1\t322963\t322965\r\n",
      "1\t375501\t375503\r\n",
      "1\t375506\t375508\r\n",
      "1\t376200\t376202\r\n",
      "1\t376220\t376222\r\n",
      "\r\n",
      "==> Mcap_union_5x-averages-MBDBS.bedgraph.bed-mcFlanks <==\r\n",
      "1\t217198\t217200\r\n",
      "1\t217219\t217221\r\n",
      "1\t217248\t217250\r\n",
      "1\t217269\t217271\r\n",
      "1\t237189\t237191\r\n",
      "1\t322944\t322946\r\n",
      "1\t322963\t322965\r\n",
      "1\t375501\t375503\r\n",
      "1\t375506\t375508\r\n",
      "1\t376177\t376179\r\n",
      "\r\n",
      "==> Mcap_union_5x-averages-RRBS.bedgraph-Meth.bed-mcFlanks <==\r\n",
      "1\t147722\t147724\r\n",
      "1\t147732\t147734\r\n",
      "1\t147767\t147769\r\n",
      "1\t147785\t147787\r\n",
      "1\t147794\t147796\r\n",
      "1\t147806\t147808\r\n",
      "1\t788995\t788997\r\n",
      "1\t1501390\t1501392\r\n",
      "1\t1501624\t1501626\r\n",
      "1\t1726224\t1726226\r\n",
      "\r\n",
      "==> Mcap_union_5x-averages-RRBS.bedgraph-sparseMeth.bed-mcFlanks <==\r\n",
      "1\t21739\t21741\r\n",
      "1\t87492\t87494\r\n",
      "1\t185844\t185846\r\n",
      "1\t186587\t186589\r\n",
      "1\t237921\t237923\r\n",
      "1\t237941\t237943\r\n",
      "1\t322944\t322946\r\n",
      "1\t357504\t357506\r\n",
      "1\t357548\t357550\r\n",
      "1\t701549\t701551\r\n",
      "\r\n",
      "==> Mcap_union_5x-averages-RRBS.bedgraph-unMeth.bed-mcFlanks <==\r\n",
      "1\t21757\t21759\r\n",
      "1\t21830\t21832\r\n",
      "1\t21840\t21842\r\n",
      "1\t21881\t21883\r\n",
      "1\t21967\t21969\r\n",
      "1\t21980\t21982\r\n",
      "1\t22008\t22010\r\n",
      "1\t22089\t22091\r\n",
      "1\t22106\t22108\r\n",
      "1\t22111\t22113\r\n",
      "\r\n",
      "==> Mcap_union_5x-averages-RRBS.bedgraph.bed-mcFlanks <==\r\n",
      "1\t21739\t21741\r\n",
      "1\t21757\t21759\r\n",
      "1\t21830\t21832\r\n",
      "1\t21840\t21842\r\n",
      "1\t21881\t21883\r\n",
      "1\t21967\t21969\r\n",
      "1\t21980\t21982\r\n",
      "1\t22008\t22010\r\n",
      "1\t22089\t22091\r\n",
      "1\t22106\t22108\r\n",
      "\r\n",
      "==> Mcap_union_5x-averages-WGBS.bedgraph-Meth.bed-mcFlanks <==\r\n",
      "1\t443126\t443128\r\n",
      "1\t444404\t444406\r\n",
      "1\t1361040\t1361042\r\n",
      "1\t1361043\t1361045\r\n",
      "1\t1392908\t1392910\r\n",
      "1\t1392921\t1392923\r\n",
      "1\t1396199\t1396201\r\n",
      "1\t1425370\t1425372\r\n",
      "1\t1426748\t1426750\r\n",
      "1\t1426769\t1426771\r\n",
      "\r\n",
      "==> Mcap_union_5x-averages-WGBS.bedgraph-sparseMeth.bed-mcFlanks <==\r\n",
      "1\t19619\t19621\r\n",
      "1\t21881\t21883\r\n",
      "1\t22117\t22119\r\n",
      "1\t27782\t27784\r\n",
      "1\t37164\t37166\r\n",
      "1\t37234\t37236\r\n",
      "1\t52526\t52528\r\n",
      "1\t63142\t63144\r\n",
      "1\t63547\t63549\r\n",
      "1\t63579\t63581\r\n",
      "\r\n",
      "==> Mcap_union_5x-averages-WGBS.bedgraph-unMeth.bed-mcFlanks <==\r\n",
      "1\t17709\t17711\r\n",
      "1\t17723\t17725\r\n",
      "1\t19418\t19420\r\n",
      "1\t19487\t19489\r\n",
      "1\t19533\t19535\r\n",
      "1\t19541\t19543\r\n",
      "1\t19554\t19556\r\n",
      "1\t19573\t19575\r\n",
      "1\t19590\t19592\r\n",
      "1\t19614\t19616\r\n",
      "\r\n",
      "==> Mcap_union_5x-averages-WGBS.bedgraph.bed-mcFlanks <==\r\n",
      "1\t17709\t17711\r\n",
      "1\t17723\t17725\r\n",
      "1\t19418\t19420\r\n",
      "1\t19487\t19489\r\n",
      "1\t19533\t19535\r\n",
      "1\t19541\t19543\r\n",
      "1\t19554\t19556\r\n",
      "1\t19573\t19575\r\n",
      "1\t19590\t19592\r\n",
      "1\t19614\t19616\r\n"
     ]
    }
   ],
   "source": [
    "#Check output\n",
    "!head *mcFlanks"
   ]
  },
  {
   "cell_type": "code",
   "execution_count": 22,
   "metadata": {
    "collapsed": false,
    "scrolled": true
   },
   "outputs": [
    {
     "name": "stdout",
     "output_type": "stream",
     "text": [
      "   15511 Mcap_union_5x-averages-MBDBS.bedgraph-Meth.bed-mcFlanks\n",
      "   10623 Mcap_union_5x-averages-MBDBS.bedgraph-sparseMeth.bed-mcFlanks\n",
      "   59451 Mcap_union_5x-averages-MBDBS.bedgraph-unMeth.bed-mcFlanks\n",
      "   85585 Mcap_union_5x-averages-MBDBS.bedgraph.bed-mcFlanks\n",
      "   32478 Mcap_union_5x-averages-RRBS.bedgraph-Meth.bed-mcFlanks\n",
      "   23685 Mcap_union_5x-averages-RRBS.bedgraph-sparseMeth.bed-mcFlanks\n",
      "  335368 Mcap_union_5x-averages-RRBS.bedgraph-unMeth.bed-mcFlanks\n",
      "  391531 Mcap_union_5x-averages-RRBS.bedgraph.bed-mcFlanks\n",
      "  127379 Mcap_union_5x-averages-WGBS.bedgraph-Meth.bed-mcFlanks\n",
      "  123698 Mcap_union_5x-averages-WGBS.bedgraph-sparseMeth.bed-mcFlanks\n",
      "  910305 Mcap_union_5x-averages-WGBS.bedgraph-unMeth.bed-mcFlanks\n",
      " 1161382 Mcap_union_5x-averages-WGBS.bedgraph.bed-mcFlanks\n",
      " 3276996 total\n"
     ]
    }
   ],
   "source": [
    "#Count number of overlaps\n",
    "!wc -l *mcFlanks"
   ]
  },
  {
   "cell_type": "code",
   "execution_count": 23,
   "metadata": {
    "collapsed": true
   },
   "outputs": [],
   "source": [
    "!wc -l *mcFlanks > Mcap_union_5x-mcFlanks-counts.txt"
   ]
  },
  {
   "cell_type": "markdown",
   "metadata": {},
   "source": [
    "#### 3f. Upstream flanking regions"
   ]
  },
  {
   "cell_type": "code",
   "execution_count": 24,
   "metadata": {
    "collapsed": true,
    "scrolled": true
   },
   "outputs": [],
   "source": [
    "%%bash\n",
    "\n",
    "for f in *bed\n",
    "do\n",
    "  /usr/local/bin/intersectBed \\\n",
    "  -u \\\n",
    "  -a ${f} \\\n",
    "  -b ../../../genome-feature-files/Mcap.GFFannotation.flanks.Upstream.gff \\\n",
    "  > ${f}-mcFlanksUpstream\n",
    "done"
   ]
  },
  {
   "cell_type": "code",
   "execution_count": 25,
   "metadata": {
    "collapsed": false
   },
   "outputs": [
    {
     "name": "stdout",
     "output_type": "stream",
     "text": [
      "==> Mcap_union_5x-averages-MBDBS.bedgraph-Meth.bed-mcFlanksUpstream <==\r\n",
      "2\t126187\t126189\r\n",
      "2\t126190\t126192\r\n",
      "2\t126197\t126199\r\n",
      "2\t126199\t126201\r\n",
      "2\t173804\t173806\r\n",
      "2\t173810\t173812\r\n",
      "2\t389824\t389826\r\n",
      "2\t420160\t420162\r\n",
      "2\t445154\t445156\r\n",
      "2\t445170\t445172\r\n",
      "\r\n",
      "==> Mcap_union_5x-averages-MBDBS.bedgraph-sparseMeth.bed-mcFlanksUpstream <==\r\n",
      "1\t376177\t376179\r\n",
      "1\t618190\t618192\r\n",
      "1\t618205\t618207\r\n",
      "1\t726420\t726422\r\n",
      "1\t944356\t944358\r\n",
      "1\t1276837\t1276839\r\n",
      "1\t1276872\t1276874\r\n",
      "1\t1700903\t1700905\r\n",
      "1\t1700905\t1700907\r\n",
      "1\t1852075\t1852077\r\n",
      "\r\n",
      "==> Mcap_union_5x-averages-MBDBS.bedgraph-unMeth.bed-mcFlanksUpstream <==\r\n",
      "1\t237189\t237191\r\n",
      "1\t375501\t375503\r\n",
      "1\t375506\t375508\r\n",
      "1\t376200\t376202\r\n",
      "1\t376220\t376222\r\n",
      "1\t376235\t376237\r\n",
      "1\t376261\t376263\r\n",
      "1\t376283\t376285\r\n",
      "1\t376288\t376290\r\n",
      "1\t376319\t376321\r\n",
      "\r\n",
      "==> Mcap_union_5x-averages-MBDBS.bedgraph.bed-mcFlanksUpstream <==\r\n",
      "1\t237189\t237191\r\n",
      "1\t375501\t375503\r\n",
      "1\t375506\t375508\r\n",
      "1\t376177\t376179\r\n",
      "1\t376200\t376202\r\n",
      "1\t376220\t376222\r\n",
      "1\t376235\t376237\r\n",
      "1\t376261\t376263\r\n",
      "1\t376283\t376285\r\n",
      "1\t376288\t376290\r\n",
      "\r\n",
      "==> Mcap_union_5x-averages-RRBS.bedgraph-Meth.bed-mcFlanksUpstream <==\r\n",
      "1\t147722\t147724\r\n",
      "1\t147732\t147734\r\n",
      "1\t147767\t147769\r\n",
      "1\t147785\t147787\r\n",
      "1\t147794\t147796\r\n",
      "1\t147806\t147808\r\n",
      "1\t1868165\t1868167\r\n",
      "1\t1868179\t1868181\r\n",
      "1\t1868187\t1868189\r\n",
      "1\t1868189\t1868191\r\n",
      "\r\n",
      "==> Mcap_union_5x-averages-RRBS.bedgraph-sparseMeth.bed-mcFlanksUpstream <==\r\n",
      "1\t87492\t87494\r\n",
      "1\t185844\t185846\r\n",
      "1\t237921\t237923\r\n",
      "1\t237941\t237943\r\n",
      "1\t704539\t704541\r\n",
      "1\t704579\t704581\r\n",
      "1\t726460\t726462\r\n",
      "1\t790796\t790798\r\n",
      "1\t1175900\t1175902\r\n",
      "1\t1176767\t1176769\r\n",
      "\r\n",
      "==> Mcap_union_5x-averages-RRBS.bedgraph-unMeth.bed-mcFlanksUpstream <==\r\n",
      "1\t62755\t62757\r\n",
      "1\t62841\t62843\r\n",
      "1\t63350\t63352\r\n",
      "1\t63357\t63359\r\n",
      "1\t63369\t63371\r\n",
      "1\t63388\t63390\r\n",
      "1\t63390\t63392\r\n",
      "1\t63431\t63433\r\n",
      "1\t63443\t63445\r\n",
      "1\t63485\t63487\r\n",
      "\r\n",
      "==> Mcap_union_5x-averages-RRBS.bedgraph.bed-mcFlanksUpstream <==\r\n",
      "1\t62755\t62757\r\n",
      "1\t62841\t62843\r\n",
      "1\t63350\t63352\r\n",
      "1\t63357\t63359\r\n",
      "1\t63369\t63371\r\n",
      "1\t63388\t63390\r\n",
      "1\t63390\t63392\r\n",
      "1\t63431\t63433\r\n",
      "1\t63443\t63445\r\n",
      "1\t63485\t63487\r\n",
      "\r\n",
      "==> Mcap_union_5x-averages-WGBS.bedgraph-Meth.bed-mcFlanksUpstream <==\r\n",
      "1\t443126\t443128\r\n",
      "1\t444404\t444406\r\n",
      "1\t1663471\t1663473\r\n",
      "1\t1663475\t1663477\r\n",
      "1\t1663486\t1663488\r\n",
      "1\t1663520\t1663522\r\n",
      "1\t1820781\t1820783\r\n",
      "1\t1820794\t1820796\r\n",
      "1\t1820815\t1820817\r\n",
      "1\t1820965\t1820967\r\n",
      "\r\n",
      "==> Mcap_union_5x-averages-WGBS.bedgraph-sparseMeth.bed-mcFlanksUpstream <==\r\n",
      "1\t19619\t19621\r\n",
      "1\t27782\t27784\r\n",
      "1\t37164\t37166\r\n",
      "1\t37234\t37236\r\n",
      "1\t63142\t63144\r\n",
      "1\t63547\t63549\r\n",
      "1\t63579\t63581\r\n",
      "1\t109745\t109747\r\n",
      "1\t148080\t148082\r\n",
      "1\t182756\t182758\r\n",
      "\r\n",
      "==> Mcap_union_5x-averages-WGBS.bedgraph-unMeth.bed-mcFlanksUpstream <==\r\n",
      "1\t19418\t19420\r\n",
      "1\t19487\t19489\r\n",
      "1\t19533\t19535\r\n",
      "1\t19541\t19543\r\n",
      "1\t19554\t19556\r\n",
      "1\t19573\t19575\r\n",
      "1\t19590\t19592\r\n",
      "1\t19614\t19616\r\n",
      "1\t19617\t19619\r\n",
      "1\t19625\t19627\r\n",
      "\r\n",
      "==> Mcap_union_5x-averages-WGBS.bedgraph.bed-mcFlanksUpstream <==\r\n",
      "1\t19418\t19420\r\n",
      "1\t19487\t19489\r\n",
      "1\t19533\t19535\r\n",
      "1\t19541\t19543\r\n",
      "1\t19554\t19556\r\n",
      "1\t19573\t19575\r\n",
      "1\t19590\t19592\r\n",
      "1\t19614\t19616\r\n",
      "1\t19617\t19619\r\n",
      "1\t19619\t19621\r\n"
     ]
    }
   ],
   "source": [
    "#Check output\n",
    "!head *mcFlanksUpstream"
   ]
  },
  {
   "cell_type": "code",
   "execution_count": 26,
   "metadata": {
    "collapsed": false,
    "scrolled": true
   },
   "outputs": [
    {
     "name": "stdout",
     "output_type": "stream",
     "text": [
      "    8984 Mcap_union_5x-averages-MBDBS.bedgraph-Meth.bed-mcFlanksUpstream\r\n",
      "    6301 Mcap_union_5x-averages-MBDBS.bedgraph-sparseMeth.bed-mcFlanksUpstream\r\n",
      "   33652 Mcap_union_5x-averages-MBDBS.bedgraph-unMeth.bed-mcFlanksUpstream\r\n",
      "   48937 Mcap_union_5x-averages-MBDBS.bedgraph.bed-mcFlanksUpstream\r\n",
      "   18189 Mcap_union_5x-averages-RRBS.bedgraph-Meth.bed-mcFlanksUpstream\r\n",
      "   13354 Mcap_union_5x-averages-RRBS.bedgraph-sparseMeth.bed-mcFlanksUpstream\r\n",
      "  190835 Mcap_union_5x-averages-RRBS.bedgraph-unMeth.bed-mcFlanksUpstream\r\n",
      "  222378 Mcap_union_5x-averages-RRBS.bedgraph.bed-mcFlanksUpstream\r\n",
      "   69987 Mcap_union_5x-averages-WGBS.bedgraph-Meth.bed-mcFlanksUpstream\r\n",
      "   68425 Mcap_union_5x-averages-WGBS.bedgraph-sparseMeth.bed-mcFlanksUpstream\r\n",
      "  503989 Mcap_union_5x-averages-WGBS.bedgraph-unMeth.bed-mcFlanksUpstream\r\n",
      "  642401 Mcap_union_5x-averages-WGBS.bedgraph.bed-mcFlanksUpstream\r\n",
      " 1827432 total\r\n"
     ]
    }
   ],
   "source": [
    "#Count number of overlaps\n",
    "!wc -l *mcFlanksUpstream"
   ]
  },
  {
   "cell_type": "code",
   "execution_count": 27,
   "metadata": {
    "collapsed": true
   },
   "outputs": [],
   "source": [
    "!wc -l *mcFlanksUpstream > Mcap_union_5x-mcFlanksUpstream-counts.txt"
   ]
  },
  {
   "cell_type": "markdown",
   "metadata": {},
   "source": [
    "#### 3g. Downstream flanking regions"
   ]
  },
  {
   "cell_type": "code",
   "execution_count": 28,
   "metadata": {
    "collapsed": true,
    "scrolled": true
   },
   "outputs": [],
   "source": [
    "%%bash\n",
    "\n",
    "for f in *bed\n",
    "do\n",
    "  /usr/local/bin/intersectBed \\\n",
    "  -u \\\n",
    "  -a ${f} \\\n",
    "  -b ../../../genome-feature-files/Mcap.GFFannotation.flanks.Downstream.gff \\\n",
    "  > ${f}-mcFlanksDownstream\n",
    "done"
   ]
  },
  {
   "cell_type": "code",
   "execution_count": 29,
   "metadata": {
    "collapsed": false
   },
   "outputs": [
    {
     "name": "stdout",
     "output_type": "stream",
     "text": [
      "==> Mcap_union_5x-averages-MBDBS.bedgraph-Meth.bed-mcFlanksDownstream <==\r\n",
      "1\t789213\t789215\r\n",
      "1\t2070697\t2070699\r\n",
      "1\t2070732\t2070734\r\n",
      "2\t197311\t197313\r\n",
      "2\t197321\t197323\r\n",
      "2\t197327\t197329\r\n",
      "2\t260911\t260913\r\n",
      "2\t301621\t301623\r\n",
      "2\t330280\t330282\r\n",
      "2\t330291\t330293\r\n",
      "\r\n",
      "==> Mcap_union_5x-averages-MBDBS.bedgraph-sparseMeth.bed-mcFlanksDownstream <==\r\n",
      "1\t217198\t217200\r\n",
      "1\t458648\t458650\r\n",
      "1\t743459\t743461\r\n",
      "1\t778795\t778797\r\n",
      "1\t789254\t789256\r\n",
      "1\t789277\t789279\r\n",
      "1\t1700903\t1700905\r\n",
      "1\t1700905\t1700907\r\n",
      "1\t1708805\t1708807\r\n",
      "1\t1709206\t1709208\r\n",
      "\r\n",
      "==> Mcap_union_5x-averages-MBDBS.bedgraph-unMeth.bed-mcFlanksDownstream <==\r\n",
      "1\t217219\t217221\r\n",
      "1\t217248\t217250\r\n",
      "1\t217269\t217271\r\n",
      "1\t322944\t322946\r\n",
      "1\t322963\t322965\r\n",
      "1\t458552\t458554\r\n",
      "1\t458666\t458668\r\n",
      "1\t458703\t458705\r\n",
      "1\t458918\t458920\r\n",
      "1\t458933\t458935\r\n",
      "\r\n",
      "==> Mcap_union_5x-averages-MBDBS.bedgraph.bed-mcFlanksDownstream <==\r\n",
      "1\t217198\t217200\r\n",
      "1\t217219\t217221\r\n",
      "1\t217248\t217250\r\n",
      "1\t217269\t217271\r\n",
      "1\t322944\t322946\r\n",
      "1\t322963\t322965\r\n",
      "1\t458552\t458554\r\n",
      "1\t458648\t458650\r\n",
      "1\t458666\t458668\r\n",
      "1\t458703\t458705\r\n",
      "\r\n",
      "==> Mcap_union_5x-averages-RRBS.bedgraph-Meth.bed-mcFlanksDownstream <==\r\n",
      "1\t788995\t788997\r\n",
      "1\t1501390\t1501392\r\n",
      "1\t1501624\t1501626\r\n",
      "1\t1726224\t1726226\r\n",
      "1\t1726417\t1726419\r\n",
      "1\t1726438\t1726440\r\n",
      "1\t1774138\t1774140\r\n",
      "1\t1774296\t1774298\r\n",
      "1\t1874407\t1874409\r\n",
      "1\t1874414\t1874416\r\n",
      "\r\n",
      "==> Mcap_union_5x-averages-RRBS.bedgraph-sparseMeth.bed-mcFlanksDownstream <==\r\n",
      "1\t21739\t21741\r\n",
      "1\t185844\t185846\r\n",
      "1\t186587\t186589\r\n",
      "1\t322944\t322946\r\n",
      "1\t357504\t357506\r\n",
      "1\t357548\t357550\r\n",
      "1\t701549\t701551\r\n",
      "1\t946452\t946454\r\n",
      "1\t1175900\t1175902\r\n",
      "1\t1774164\t1774166\r\n",
      "\r\n",
      "==> Mcap_union_5x-averages-RRBS.bedgraph-unMeth.bed-mcFlanksDownstream <==\r\n",
      "1\t21757\t21759\r\n",
      "1\t21830\t21832\r\n",
      "1\t21840\t21842\r\n",
      "1\t21881\t21883\r\n",
      "1\t21967\t21969\r\n",
      "1\t21980\t21982\r\n",
      "1\t22008\t22010\r\n",
      "1\t22089\t22091\r\n",
      "1\t22106\t22108\r\n",
      "1\t22111\t22113\r\n",
      "\r\n",
      "==> Mcap_union_5x-averages-RRBS.bedgraph.bed-mcFlanksDownstream <==\r\n",
      "1\t21739\t21741\r\n",
      "1\t21757\t21759\r\n",
      "1\t21830\t21832\r\n",
      "1\t21840\t21842\r\n",
      "1\t21881\t21883\r\n",
      "1\t21967\t21969\r\n",
      "1\t21980\t21982\r\n",
      "1\t22008\t22010\r\n",
      "1\t22089\t22091\r\n",
      "1\t22106\t22108\r\n",
      "\r\n",
      "==> Mcap_union_5x-averages-WGBS.bedgraph-Meth.bed-mcFlanksDownstream <==\r\n",
      "1\t443126\t443128\r\n",
      "1\t1361040\t1361042\r\n",
      "1\t1361043\t1361045\r\n",
      "1\t1392908\t1392910\r\n",
      "1\t1392921\t1392923\r\n",
      "1\t1396199\t1396201\r\n",
      "1\t1425370\t1425372\r\n",
      "1\t1426748\t1426750\r\n",
      "1\t1426769\t1426771\r\n",
      "1\t1426944\t1426946\r\n",
      "\r\n",
      "==> Mcap_union_5x-averages-WGBS.bedgraph-sparseMeth.bed-mcFlanksDownstream <==\r\n",
      "1\t21881\t21883\r\n",
      "1\t22117\t22119\r\n",
      "1\t52526\t52528\r\n",
      "1\t150099\t150101\r\n",
      "1\t185808\t185810\r\n",
      "1\t185814\t185816\r\n",
      "1\t185830\t185832\r\n",
      "1\t185844\t185846\r\n",
      "1\t185868\t185870\r\n",
      "1\t185879\t185881\r\n",
      "\r\n",
      "==> Mcap_union_5x-averages-WGBS.bedgraph-unMeth.bed-mcFlanksDownstream <==\r\n",
      "1\t17709\t17711\r\n",
      "1\t17723\t17725\r\n",
      "1\t21734\t21736\r\n",
      "1\t21739\t21741\r\n",
      "1\t21757\t21759\r\n",
      "1\t21830\t21832\r\n",
      "1\t21840\t21842\r\n",
      "1\t22106\t22108\r\n",
      "1\t22111\t22113\r\n",
      "1\t22165\t22167\r\n",
      "\r\n",
      "==> Mcap_union_5x-averages-WGBS.bedgraph.bed-mcFlanksDownstream <==\r\n",
      "1\t17709\t17711\r\n",
      "1\t17723\t17725\r\n",
      "1\t21734\t21736\r\n",
      "1\t21739\t21741\r\n",
      "1\t21757\t21759\r\n",
      "1\t21830\t21832\r\n",
      "1\t21840\t21842\r\n",
      "1\t21881\t21883\r\n",
      "1\t22106\t22108\r\n",
      "1\t22111\t22113\r\n"
     ]
    }
   ],
   "source": [
    "#Check output\n",
    "!head *mcFlanksDownstream"
   ]
  },
  {
   "cell_type": "code",
   "execution_count": 30,
   "metadata": {
    "collapsed": false,
    "scrolled": true
   },
   "outputs": [
    {
     "name": "stdout",
     "output_type": "stream",
     "text": [
      "    8342 Mcap_union_5x-averages-MBDBS.bedgraph-Meth.bed-mcFlanksDownstream\r\n",
      "    5233 Mcap_union_5x-averages-MBDBS.bedgraph-sparseMeth.bed-mcFlanksDownstream\r\n",
      "   28232 Mcap_union_5x-averages-MBDBS.bedgraph-unMeth.bed-mcFlanksDownstream\r\n",
      "   41807 Mcap_union_5x-averages-MBDBS.bedgraph.bed-mcFlanksDownstream\r\n",
      "   16949 Mcap_union_5x-averages-RRBS.bedgraph-Meth.bed-mcFlanksDownstream\r\n",
      "   12157 Mcap_union_5x-averages-RRBS.bedgraph-sparseMeth.bed-mcFlanksDownstream\r\n",
      "  154771 Mcap_union_5x-averages-RRBS.bedgraph-unMeth.bed-mcFlanksDownstream\r\n",
      "  183877 Mcap_union_5x-averages-RRBS.bedgraph.bed-mcFlanksDownstream\r\n",
      "   69176 Mcap_union_5x-averages-WGBS.bedgraph-Meth.bed-mcFlanksDownstream\r\n",
      "   63486 Mcap_union_5x-averages-WGBS.bedgraph-sparseMeth.bed-mcFlanksDownstream\r\n",
      "  435477 Mcap_union_5x-averages-WGBS.bedgraph-unMeth.bed-mcFlanksDownstream\r\n",
      "  568139 Mcap_union_5x-averages-WGBS.bedgraph.bed-mcFlanksDownstream\r\n",
      " 1587646 total\r\n"
     ]
    }
   ],
   "source": [
    "#Count number of overlaps\n",
    "!wc -l *mcFlanksDownstream"
   ]
  },
  {
   "cell_type": "code",
   "execution_count": 31,
   "metadata": {
    "collapsed": true
   },
   "outputs": [],
   "source": [
    "!wc -l *mcFlanksDownstream > Mcap_union_5x-mcFlanksDownstream-counts.txt"
   ]
  },
  {
   "cell_type": "markdown",
   "metadata": {},
   "source": [
    "#### 3h. Intergenic"
   ]
  },
  {
   "cell_type": "code",
   "execution_count": 32,
   "metadata": {
    "collapsed": true
   },
   "outputs": [],
   "source": [
    "%%bash \n",
    "\n",
    "for f in *bed\n",
    "do\n",
    "  /usr/local/bin/intersectBed \\\n",
    "  -u \\\n",
    "  -a ${f} \\\n",
    "  -b ../../../genome-feature-files/Mcap.GFFannotation.intergenic.bed \\\n",
    "  > ${f}-mcIntergenic\n",
    "done"
   ]
  },
  {
   "cell_type": "code",
   "execution_count": 33,
   "metadata": {
    "collapsed": false
   },
   "outputs": [
    {
     "name": "stdout",
     "output_type": "stream",
     "text": [
      "==> Mcap_union_5x-averages-MBDBS.bedgraph-Meth.bed-mcIntergenic <==\r\n",
      "1\t446326\t446328\r\n",
      "1\t446344\t446346\r\n",
      "1\t446367\t446369\r\n",
      "1\t446376\t446378\r\n",
      "1\t1002973\t1002975\r\n",
      "1\t1006917\t1006919\r\n",
      "1\t1006924\t1006926\r\n",
      "1\t1343240\t1343242\r\n",
      "1\t1343249\t1343251\r\n",
      "1\t1343263\t1343265\r\n",
      "\r\n",
      "==> Mcap_union_5x-averages-MBDBS.bedgraph-sparseMeth.bed-mcIntergenic <==\r\n",
      "1\t8113\t8115\r\n",
      "1\t211907\t211909\r\n",
      "1\t234158\t234160\r\n",
      "1\t234196\t234198\r\n",
      "1\t244563\t244565\r\n",
      "1\t269174\t269176\r\n",
      "1\t269178\t269180\r\n",
      "1\t269182\t269184\r\n",
      "1\t277994\t277996\r\n",
      "1\t284269\t284271\r\n",
      "\r\n",
      "==> Mcap_union_5x-averages-MBDBS.bedgraph-unMeth.bed-mcIntergenic <==\r\n",
      "1\t5228\t5230\r\n",
      "1\t5243\t5245\r\n",
      "1\t5247\t5249\r\n",
      "1\t5296\t5298\r\n",
      "1\t192753\t192755\r\n",
      "1\t210921\t210923\r\n",
      "1\t210930\t210932\r\n",
      "1\t211905\t211907\r\n",
      "1\t211917\t211919\r\n",
      "1\t211925\t211927\r\n",
      "\r\n",
      "==> Mcap_union_5x-averages-MBDBS.bedgraph.bed-mcIntergenic <==\r\n",
      "1\t5228\t5230\r\n",
      "1\t5243\t5245\r\n",
      "1\t5247\t5249\r\n",
      "1\t5296\t5298\r\n",
      "1\t8113\t8115\r\n",
      "1\t192753\t192755\r\n",
      "1\t210921\t210923\r\n",
      "1\t210930\t210932\r\n",
      "1\t211905\t211907\r\n",
      "1\t211907\t211909\r\n",
      "\r\n",
      "==> Mcap_union_5x-averages-RRBS.bedgraph-Meth.bed-mcIntergenic <==\r\n",
      "1\t32228\t32230\r\n",
      "1\t130507\t130509\r\n",
      "1\t241717\t241719\r\n",
      "1\t241722\t241724\r\n",
      "1\t246227\t246229\r\n",
      "1\t274922\t274924\r\n",
      "1\t274940\t274942\r\n",
      "1\t275004\t275006\r\n",
      "1\t275006\t275008\r\n",
      "1\t275047\t275049\r\n",
      "\r\n",
      "==> Mcap_union_5x-averages-RRBS.bedgraph-sparseMeth.bed-mcIntergenic <==\r\n",
      "1\t15092\t15094\r\n",
      "1\t34139\t34141\r\n",
      "1\t166013\t166015\r\n",
      "1\t176289\t176291\r\n",
      "1\t198078\t198080\r\n",
      "1\t246955\t246957\r\n",
      "1\t249322\t249324\r\n",
      "1\t255850\t255852\r\n",
      "1\t255863\t255865\r\n",
      "1\t276749\t276751\r\n",
      "\r\n",
      "==> Mcap_union_5x-averages-RRBS.bedgraph-unMeth.bed-mcIntergenic <==\r\n",
      "1\t3493\t3495\r\n",
      "1\t3518\t3520\r\n",
      "1\t3727\t3729\r\n",
      "1\t3752\t3754\r\n",
      "1\t3757\t3759\r\n",
      "1\t3770\t3772\r\n",
      "1\t11876\t11878\r\n",
      "1\t11887\t11889\r\n",
      "1\t11894\t11896\r\n",
      "1\t11941\t11943\r\n",
      "\r\n",
      "==> Mcap_union_5x-averages-RRBS.bedgraph.bed-mcIntergenic <==\r\n",
      "1\t3493\t3495\r\n",
      "1\t3518\t3520\r\n",
      "1\t3727\t3729\r\n",
      "1\t3752\t3754\r\n",
      "1\t3757\t3759\r\n",
      "1\t3770\t3772\r\n",
      "1\t11876\t11878\r\n",
      "1\t11887\t11889\r\n",
      "1\t11894\t11896\r\n",
      "1\t11941\t11943\r\n",
      "\r\n",
      "==> Mcap_union_5x-averages-WGBS.bedgraph-Meth.bed-mcIntergenic <==\r\n",
      "1\t4948\t4950\r\n",
      "1\t4967\t4969\r\n",
      "1\t4986\t4988\r\n",
      "1\t57065\t57067\r\n",
      "1\t446150\t446152\r\n",
      "1\t446157\t446159\r\n",
      "1\t446262\t446264\r\n",
      "1\t446271\t446273\r\n",
      "1\t446344\t446346\r\n",
      "1\t446367\t446369\r\n",
      "\r\n",
      "==> Mcap_union_5x-averages-WGBS.bedgraph-sparseMeth.bed-mcIntergenic <==\r\n",
      "1\t4190\t4192\r\n",
      "1\t4891\t4893\r\n",
      "1\t4910\t4912\r\n",
      "1\t4929\t4931\r\n",
      "1\t5005\t5007\r\n",
      "1\t5024\t5026\r\n",
      "1\t5151\t5153\r\n",
      "1\t5160\t5162\r\n",
      "1\t5228\t5230\r\n",
      "1\t6282\t6284\r\n",
      "\r\n",
      "==> Mcap_union_5x-averages-WGBS.bedgraph-unMeth.bed-mcIntergenic <==\r\n",
      "1\t4062\t4064\r\n",
      "1\t4069\t4071\r\n",
      "1\t4077\t4079\r\n",
      "1\t4086\t4088\r\n",
      "1\t4146\t4148\r\n",
      "1\t4150\t4152\r\n",
      "1\t4155\t4157\r\n",
      "1\t4172\t4174\r\n",
      "1\t4184\t4186\r\n",
      "1\t5043\t5045\r\n",
      "\r\n",
      "==> Mcap_union_5x-averages-WGBS.bedgraph.bed-mcIntergenic <==\r\n",
      "1\t4062\t4064\r\n",
      "1\t4069\t4071\r\n",
      "1\t4077\t4079\r\n",
      "1\t4086\t4088\r\n",
      "1\t4146\t4148\r\n",
      "1\t4150\t4152\r\n",
      "1\t4155\t4157\r\n",
      "1\t4172\t4174\r\n",
      "1\t4184\t4186\r\n",
      "1\t4190\t4192\r\n"
     ]
    }
   ],
   "source": [
    "#Check output\n",
    "!head *mcIntergenic"
   ]
  },
  {
   "cell_type": "code",
   "execution_count": 34,
   "metadata": {
    "collapsed": false,
    "scrolled": false
   },
   "outputs": [
    {
     "name": "stdout",
     "output_type": "stream",
     "text": [
      "   65566 Mcap_union_5x-averages-MBDBS.bedgraph-Meth.bed-mcIntergenic\n",
      "   57824 Mcap_union_5x-averages-MBDBS.bedgraph-sparseMeth.bed-mcIntergenic\n",
      "  348119 Mcap_union_5x-averages-MBDBS.bedgraph-unMeth.bed-mcIntergenic\n",
      "  471509 Mcap_union_5x-averages-MBDBS.bedgraph.bed-mcIntergenic\n",
      "  140391 Mcap_union_5x-averages-RRBS.bedgraph-Meth.bed-mcIntergenic\n",
      "  119284 Mcap_union_5x-averages-RRBS.bedgraph-sparseMeth.bed-mcIntergenic\n",
      " 2023518 Mcap_union_5x-averages-RRBS.bedgraph-unMeth.bed-mcIntergenic\n",
      " 2283193 Mcap_union_5x-averages-RRBS.bedgraph.bed-mcIntergenic\n",
      "  537847 Mcap_union_5x-averages-WGBS.bedgraph-Meth.bed-mcIntergenic\n",
      "  630806 Mcap_union_5x-averages-WGBS.bedgraph-sparseMeth.bed-mcIntergenic\n",
      " 5040188 Mcap_union_5x-averages-WGBS.bedgraph-unMeth.bed-mcIntergenic\n",
      " 6208841 Mcap_union_5x-averages-WGBS.bedgraph.bed-mcIntergenic\n",
      " 17927086 total\n"
     ]
    }
   ],
   "source": [
    "#Count number of overlaps\n",
    "!wc -l *mcIntergenic"
   ]
  },
  {
   "cell_type": "code",
   "execution_count": 35,
   "metadata": {
    "collapsed": true
   },
   "outputs": [],
   "source": [
    "!wc -l *mcIntergenic > Mcap_union_5x-mcIntergenic-counts.txt"
   ]
  },
  {
   "cell_type": "markdown",
   "metadata": {},
   "source": [
    "## *P. acuta*"
   ]
  },
  {
   "cell_type": "code",
   "execution_count": 36,
   "metadata": {
    "collapsed": false
   },
   "outputs": [
    {
     "name": "stdout",
     "output_type": "stream",
     "text": [
      "/Users/yaamini/Documents/Meth_Compare/analyses/Characterizing-CpG-Methylation-5x-Union\n"
     ]
    }
   ],
   "source": [
    "cd .."
   ]
  },
  {
   "cell_type": "code",
   "execution_count": 66,
   "metadata": {
    "collapsed": true
   },
   "outputs": [],
   "source": [
    "#Make a directory for Pact output\n",
    "!mkdir Pact"
   ]
  },
  {
   "cell_type": "code",
   "execution_count": 37,
   "metadata": {
    "collapsed": false,
    "scrolled": true
   },
   "outputs": [
    {
     "name": "stdout",
     "output_type": "stream",
     "text": [
      "/Users/yaamini/Documents/Meth_Compare/analyses/Characterizing-CpG-Methylation-5x-Union/Pact\n"
     ]
    }
   ],
   "source": [
    "cd Pact/"
   ]
  },
  {
   "cell_type": "markdown",
   "metadata": {},
   "source": [
    "#### 1a. Download bedgraph"
   ]
  },
  {
   "cell_type": "code",
   "execution_count": 68,
   "metadata": {
    "collapsed": false,
    "scrolled": true
   },
   "outputs": [
    {
     "name": "stdout",
     "output_type": "stream",
     "text": [
      "--2020-05-19 22:34:21--  https://gannet.fish.washington.edu/seashell/bu-github/Meth_Compare/analyses/10-unionbedg/Pact_union_5x.bedgraph\n",
      "Resolving gannet.fish.washington.edu (gannet.fish.washington.edu)... 128.95.149.52\n",
      "Connecting to gannet.fish.washington.edu (gannet.fish.washington.edu)|128.95.149.52|:443... connected.\n",
      "HTTP request sent, awaiting response... 200 OK\n",
      "Length: 1212075709 (1.1G)\n",
      "Saving to: ‘Pact_union_5x.bedgraph’\n",
      "\n",
      "Pact_union_5x.bedgr 100%[===================>]   1.13G  67.6MB/s    in 14s     \n",
      "\n",
      "2020-05-19 22:34:35 (84.8 MB/s) - ‘Pact_union_5x.bedgraph’ saved [1212075709/1212075709]\n",
      "\n"
     ]
    }
   ],
   "source": [
    "#Download Mcap 5x union bedgraph\n",
    "!wget https://gannet.fish.washington.edu/seashell/bu-github/Meth_Compare/analyses/10-unionbedg/Pact_union_5x.bedgraph"
   ]
  },
  {
   "cell_type": "code",
   "execution_count": 69,
   "metadata": {
    "collapsed": false,
    "scrolled": false
   },
   "outputs": [
    {
     "name": "stdout",
     "output_type": "stream",
     "text": [
      "scaffold168460_cov188\t280\t282\tN/A\t0.000000\t0.000000\tN/A\tN/A\tN/A\tN/A\tN/A\tN/A\r\n",
      "scaffold168461_cov203\t69\t71\tN/A\tN/A\t0.000000\tN/A\tN/A\tN/A\tN/A\tN/A\tN/A\r\n",
      "scaffold168461_cov203\t142\t144\tN/A\tN/A\t0.000000\tN/A\tN/A\tN/A\tN/A\tN/A\tN/A\r\n",
      "scaffold168461_cov203\t148\t150\tN/A\tN/A\t12.500000\tN/A\tN/A\tN/A\tN/A\tN/A\tN/A\r\n",
      "scaffold168463_cov229\t14\t16\tN/A\t10.000000\tN/A\tN/A\tN/A\tN/A\tN/A\tN/A\tN/A\r\n",
      "scaffold168463_cov229\t95\t97\tN/A\t5.555556\t0.000000\tN/A\tN/A\tN/A\tN/A\tN/A\tN/A\r\n",
      "scaffold168463_cov229\t106\t108\tN/A\t0.000000\t0.000000\tN/A\tN/A\tN/A\tN/A\tN/A\tN/A\r\n",
      "scaffold168465_cov225\t45\t47\tN/A\t0.000000\tN/A\tN/A\tN/A\tN/A\tN/A\tN/A\tN/A\r\n",
      "scaffold168465_cov225\t48\t50\tN/A\t0.000000\tN/A\tN/A\tN/A\tN/A\tN/A\tN/A\tN/A\r\n",
      "scaffold168465_cov225\t59\t61\tN/A\t0.000000\t0.000000\tN/A\tN/A\tN/A\tN/A\tN/A\tN/A\r\n"
     ]
    }
   ],
   "source": [
    "#Check downloaded file\n",
    "#WGBS: 1-3\n",
    "#RRBS: 4-6\n",
    "#MBD-BS: 7-9\n",
    "!tail Pact_union_5x.bedgraph"
   ]
  },
  {
   "cell_type": "markdown",
   "metadata": {},
   "source": [
    "#### 1b. Manipulate with `pandas`"
   ]
  },
  {
   "cell_type": "code",
   "execution_count": 70,
   "metadata": {
    "collapsed": false
   },
   "outputs": [
    {
     "data": {
      "text/html": [
       "<div>\n",
       "<table border=\"1\" class=\"dataframe\">\n",
       "  <thead>\n",
       "    <tr style=\"text-align: right;\">\n",
       "      <th></th>\n",
       "      <th>chrom</th>\n",
       "      <th>start</th>\n",
       "      <th>end</th>\n",
       "      <th>1</th>\n",
       "      <th>2</th>\n",
       "      <th>3</th>\n",
       "      <th>4</th>\n",
       "      <th>5</th>\n",
       "      <th>6</th>\n",
       "      <th>7</th>\n",
       "      <th>8</th>\n",
       "      <th>9</th>\n",
       "    </tr>\n",
       "  </thead>\n",
       "  <tbody>\n",
       "    <tr>\n",
       "      <th>0</th>\n",
       "      <td>scaffold1_cov55</td>\n",
       "      <td>49</td>\n",
       "      <td>51</td>\n",
       "      <td>NaN</td>\n",
       "      <td>0.0</td>\n",
       "      <td>NaN</td>\n",
       "      <td>NaN</td>\n",
       "      <td>NaN</td>\n",
       "      <td>NaN</td>\n",
       "      <td>NaN</td>\n",
       "      <td>NaN</td>\n",
       "      <td>NaN</td>\n",
       "    </tr>\n",
       "    <tr>\n",
       "      <th>1</th>\n",
       "      <td>scaffold1_cov55</td>\n",
       "      <td>84</td>\n",
       "      <td>86</td>\n",
       "      <td>NaN</td>\n",
       "      <td>0.0</td>\n",
       "      <td>NaN</td>\n",
       "      <td>NaN</td>\n",
       "      <td>NaN</td>\n",
       "      <td>NaN</td>\n",
       "      <td>NaN</td>\n",
       "      <td>NaN</td>\n",
       "      <td>NaN</td>\n",
       "    </tr>\n",
       "    <tr>\n",
       "      <th>2</th>\n",
       "      <td>scaffold1_cov55</td>\n",
       "      <td>92</td>\n",
       "      <td>94</td>\n",
       "      <td>NaN</td>\n",
       "      <td>0.0</td>\n",
       "      <td>NaN</td>\n",
       "      <td>NaN</td>\n",
       "      <td>NaN</td>\n",
       "      <td>NaN</td>\n",
       "      <td>NaN</td>\n",
       "      <td>NaN</td>\n",
       "      <td>NaN</td>\n",
       "    </tr>\n",
       "    <tr>\n",
       "      <th>3</th>\n",
       "      <td>scaffold1_cov55</td>\n",
       "      <td>102</td>\n",
       "      <td>104</td>\n",
       "      <td>16.666667</td>\n",
       "      <td>0.0</td>\n",
       "      <td>NaN</td>\n",
       "      <td>NaN</td>\n",
       "      <td>NaN</td>\n",
       "      <td>NaN</td>\n",
       "      <td>NaN</td>\n",
       "      <td>NaN</td>\n",
       "      <td>NaN</td>\n",
       "    </tr>\n",
       "    <tr>\n",
       "      <th>4</th>\n",
       "      <td>scaffold1_cov55</td>\n",
       "      <td>105</td>\n",
       "      <td>107</td>\n",
       "      <td>0.000000</td>\n",
       "      <td>12.5</td>\n",
       "      <td>NaN</td>\n",
       "      <td>NaN</td>\n",
       "      <td>NaN</td>\n",
       "      <td>NaN</td>\n",
       "      <td>NaN</td>\n",
       "      <td>NaN</td>\n",
       "      <td>NaN</td>\n",
       "    </tr>\n",
       "  </tbody>\n",
       "</table>\n",
       "</div>"
      ],
      "text/plain": [
       "             chrom  start  end          1     2   3   4   5   6   7   8   9\n",
       "0  scaffold1_cov55     49   51        NaN   0.0 NaN NaN NaN NaN NaN NaN NaN\n",
       "1  scaffold1_cov55     84   86        NaN   0.0 NaN NaN NaN NaN NaN NaN NaN\n",
       "2  scaffold1_cov55     92   94        NaN   0.0 NaN NaN NaN NaN NaN NaN NaN\n",
       "3  scaffold1_cov55    102  104  16.666667   0.0 NaN NaN NaN NaN NaN NaN NaN\n",
       "4  scaffold1_cov55    105  107   0.000000  12.5 NaN NaN NaN NaN NaN NaN NaN"
      ]
     },
     "execution_count": 70,
     "metadata": {},
     "output_type": "execute_result"
    }
   ],
   "source": [
    "#Import union data into pandas\n",
    "#Check head\n",
    "df = pd.read_table(\"Pact_union_5x.bedgraph\")\n",
    "df.head(5)"
   ]
  },
  {
   "cell_type": "code",
   "execution_count": 71,
   "metadata": {
    "collapsed": false,
    "scrolled": false
   },
   "outputs": [
    {
     "data": {
      "text/html": [
       "<div>\n",
       "<table border=\"1\" class=\"dataframe\">\n",
       "  <thead>\n",
       "    <tr style=\"text-align: right;\">\n",
       "      <th></th>\n",
       "      <th>chrom</th>\n",
       "      <th>start</th>\n",
       "      <th>end</th>\n",
       "      <th>1</th>\n",
       "      <th>2</th>\n",
       "      <th>3</th>\n",
       "      <th>4</th>\n",
       "      <th>5</th>\n",
       "      <th>6</th>\n",
       "      <th>7</th>\n",
       "      <th>8</th>\n",
       "      <th>9</th>\n",
       "      <th>WGBS</th>\n",
       "      <th>RRBS</th>\n",
       "      <th>MBD-BS</th>\n",
       "    </tr>\n",
       "  </thead>\n",
       "  <tbody>\n",
       "    <tr>\n",
       "      <th>15758665</th>\n",
       "      <td>scaffold168460_cov188</td>\n",
       "      <td>280</td>\n",
       "      <td>282</td>\n",
       "      <td>NaN</td>\n",
       "      <td>0.000000</td>\n",
       "      <td>0.0</td>\n",
       "      <td>NaN</td>\n",
       "      <td>NaN</td>\n",
       "      <td>NaN</td>\n",
       "      <td>NaN</td>\n",
       "      <td>NaN</td>\n",
       "      <td>NaN</td>\n",
       "      <td>0.000000</td>\n",
       "      <td>NaN</td>\n",
       "      <td>NaN</td>\n",
       "    </tr>\n",
       "    <tr>\n",
       "      <th>15758666</th>\n",
       "      <td>scaffold168461_cov203</td>\n",
       "      <td>69</td>\n",
       "      <td>71</td>\n",
       "      <td>NaN</td>\n",
       "      <td>NaN</td>\n",
       "      <td>0.0</td>\n",
       "      <td>NaN</td>\n",
       "      <td>NaN</td>\n",
       "      <td>NaN</td>\n",
       "      <td>NaN</td>\n",
       "      <td>NaN</td>\n",
       "      <td>NaN</td>\n",
       "      <td>0.000000</td>\n",
       "      <td>NaN</td>\n",
       "      <td>NaN</td>\n",
       "    </tr>\n",
       "    <tr>\n",
       "      <th>15758667</th>\n",
       "      <td>scaffold168461_cov203</td>\n",
       "      <td>142</td>\n",
       "      <td>144</td>\n",
       "      <td>NaN</td>\n",
       "      <td>NaN</td>\n",
       "      <td>0.0</td>\n",
       "      <td>NaN</td>\n",
       "      <td>NaN</td>\n",
       "      <td>NaN</td>\n",
       "      <td>NaN</td>\n",
       "      <td>NaN</td>\n",
       "      <td>NaN</td>\n",
       "      <td>0.000000</td>\n",
       "      <td>NaN</td>\n",
       "      <td>NaN</td>\n",
       "    </tr>\n",
       "    <tr>\n",
       "      <th>15758668</th>\n",
       "      <td>scaffold168461_cov203</td>\n",
       "      <td>148</td>\n",
       "      <td>150</td>\n",
       "      <td>NaN</td>\n",
       "      <td>NaN</td>\n",
       "      <td>12.5</td>\n",
       "      <td>NaN</td>\n",
       "      <td>NaN</td>\n",
       "      <td>NaN</td>\n",
       "      <td>NaN</td>\n",
       "      <td>NaN</td>\n",
       "      <td>NaN</td>\n",
       "      <td>12.500000</td>\n",
       "      <td>NaN</td>\n",
       "      <td>NaN</td>\n",
       "    </tr>\n",
       "    <tr>\n",
       "      <th>15758669</th>\n",
       "      <td>scaffold168463_cov229</td>\n",
       "      <td>14</td>\n",
       "      <td>16</td>\n",
       "      <td>NaN</td>\n",
       "      <td>10.000000</td>\n",
       "      <td>NaN</td>\n",
       "      <td>NaN</td>\n",
       "      <td>NaN</td>\n",
       "      <td>NaN</td>\n",
       "      <td>NaN</td>\n",
       "      <td>NaN</td>\n",
       "      <td>NaN</td>\n",
       "      <td>10.000000</td>\n",
       "      <td>NaN</td>\n",
       "      <td>NaN</td>\n",
       "    </tr>\n",
       "    <tr>\n",
       "      <th>15758670</th>\n",
       "      <td>scaffold168463_cov229</td>\n",
       "      <td>95</td>\n",
       "      <td>97</td>\n",
       "      <td>NaN</td>\n",
       "      <td>5.555556</td>\n",
       "      <td>0.0</td>\n",
       "      <td>NaN</td>\n",
       "      <td>NaN</td>\n",
       "      <td>NaN</td>\n",
       "      <td>NaN</td>\n",
       "      <td>NaN</td>\n",
       "      <td>NaN</td>\n",
       "      <td>2.777778</td>\n",
       "      <td>NaN</td>\n",
       "      <td>NaN</td>\n",
       "    </tr>\n",
       "    <tr>\n",
       "      <th>15758671</th>\n",
       "      <td>scaffold168463_cov229</td>\n",
       "      <td>106</td>\n",
       "      <td>108</td>\n",
       "      <td>NaN</td>\n",
       "      <td>0.000000</td>\n",
       "      <td>0.0</td>\n",
       "      <td>NaN</td>\n",
       "      <td>NaN</td>\n",
       "      <td>NaN</td>\n",
       "      <td>NaN</td>\n",
       "      <td>NaN</td>\n",
       "      <td>NaN</td>\n",
       "      <td>0.000000</td>\n",
       "      <td>NaN</td>\n",
       "      <td>NaN</td>\n",
       "    </tr>\n",
       "    <tr>\n",
       "      <th>15758672</th>\n",
       "      <td>scaffold168465_cov225</td>\n",
       "      <td>45</td>\n",
       "      <td>47</td>\n",
       "      <td>NaN</td>\n",
       "      <td>0.000000</td>\n",
       "      <td>NaN</td>\n",
       "      <td>NaN</td>\n",
       "      <td>NaN</td>\n",
       "      <td>NaN</td>\n",
       "      <td>NaN</td>\n",
       "      <td>NaN</td>\n",
       "      <td>NaN</td>\n",
       "      <td>0.000000</td>\n",
       "      <td>NaN</td>\n",
       "      <td>NaN</td>\n",
       "    </tr>\n",
       "    <tr>\n",
       "      <th>15758673</th>\n",
       "      <td>scaffold168465_cov225</td>\n",
       "      <td>48</td>\n",
       "      <td>50</td>\n",
       "      <td>NaN</td>\n",
       "      <td>0.000000</td>\n",
       "      <td>NaN</td>\n",
       "      <td>NaN</td>\n",
       "      <td>NaN</td>\n",
       "      <td>NaN</td>\n",
       "      <td>NaN</td>\n",
       "      <td>NaN</td>\n",
       "      <td>NaN</td>\n",
       "      <td>0.000000</td>\n",
       "      <td>NaN</td>\n",
       "      <td>NaN</td>\n",
       "    </tr>\n",
       "    <tr>\n",
       "      <th>15758674</th>\n",
       "      <td>scaffold168465_cov225</td>\n",
       "      <td>59</td>\n",
       "      <td>61</td>\n",
       "      <td>NaN</td>\n",
       "      <td>0.000000</td>\n",
       "      <td>0.0</td>\n",
       "      <td>NaN</td>\n",
       "      <td>NaN</td>\n",
       "      <td>NaN</td>\n",
       "      <td>NaN</td>\n",
       "      <td>NaN</td>\n",
       "      <td>NaN</td>\n",
       "      <td>0.000000</td>\n",
       "      <td>NaN</td>\n",
       "      <td>NaN</td>\n",
       "    </tr>\n",
       "  </tbody>\n",
       "</table>\n",
       "</div>"
      ],
      "text/plain": [
       "                          chrom  start  end   1          2     3   4   5   6  \\\n",
       "15758665  scaffold168460_cov188    280  282 NaN   0.000000   0.0 NaN NaN NaN   \n",
       "15758666  scaffold168461_cov203     69   71 NaN        NaN   0.0 NaN NaN NaN   \n",
       "15758667  scaffold168461_cov203    142  144 NaN        NaN   0.0 NaN NaN NaN   \n",
       "15758668  scaffold168461_cov203    148  150 NaN        NaN  12.5 NaN NaN NaN   \n",
       "15758669  scaffold168463_cov229     14   16 NaN  10.000000   NaN NaN NaN NaN   \n",
       "15758670  scaffold168463_cov229     95   97 NaN   5.555556   0.0 NaN NaN NaN   \n",
       "15758671  scaffold168463_cov229    106  108 NaN   0.000000   0.0 NaN NaN NaN   \n",
       "15758672  scaffold168465_cov225     45   47 NaN   0.000000   NaN NaN NaN NaN   \n",
       "15758673  scaffold168465_cov225     48   50 NaN   0.000000   NaN NaN NaN NaN   \n",
       "15758674  scaffold168465_cov225     59   61 NaN   0.000000   0.0 NaN NaN NaN   \n",
       "\n",
       "           7   8   9       WGBS  RRBS  MBD-BS  \n",
       "15758665 NaN NaN NaN   0.000000   NaN     NaN  \n",
       "15758666 NaN NaN NaN   0.000000   NaN     NaN  \n",
       "15758667 NaN NaN NaN   0.000000   NaN     NaN  \n",
       "15758668 NaN NaN NaN  12.500000   NaN     NaN  \n",
       "15758669 NaN NaN NaN  10.000000   NaN     NaN  \n",
       "15758670 NaN NaN NaN   2.777778   NaN     NaN  \n",
       "15758671 NaN NaN NaN   0.000000   NaN     NaN  \n",
       "15758672 NaN NaN NaN   0.000000   NaN     NaN  \n",
       "15758673 NaN NaN NaN   0.000000   NaN     NaN  \n",
       "15758674 NaN NaN NaN   0.000000   NaN     NaN  "
      ]
     },
     "execution_count": 71,
     "metadata": {},
     "output_type": "execute_result"
    }
   ],
   "source": [
    "#Average the first three columns for WGBS information and save as a new column\n",
    "#Average the middle three columns for RRBS information and save as a new column\n",
    "#Average the last three columns for MBD-BS information and save as a new column\n",
    "#Check output\n",
    "df['WGBS'] = df[['1', '2', \"3\"]].mean(axis=1)\n",
    "df['RRBS'] = df[['4', '5', \"6\"]].mean(axis=1)\n",
    "df['MBD-BS'] = df[['7', '8', \"9\"]].mean(axis=1)\n",
    "df.tail(10)"
   ]
  },
  {
   "cell_type": "code",
   "execution_count": 72,
   "metadata": {
    "collapsed": false
   },
   "outputs": [],
   "source": [
    "#Save dataframe in a tabular format and include N/As. Do not include quotes.\n",
    "df.to_csv(\"Pact_union_5x-averages.bedgraph\", sep = \"\\t\", na_rep = \"N/A\", quoting = 3)"
   ]
  },
  {
   "cell_type": "markdown",
   "metadata": {},
   "source": [
    "#### 1c. Separate methods into new bedgraphs"
   ]
  },
  {
   "cell_type": "code",
   "execution_count": 73,
   "metadata": {
    "collapsed": false,
    "scrolled": true
   },
   "outputs": [
    {
     "name": "stdout",
     "output_type": "stream",
     "text": [
      "\tchrom\tstart\tend\t1\t2\t3\t4\t5\t6\t7\t8\t9\tWGBS\tRRBS\tMBD-BS\r\n",
      "0\tscaffold1_cov55\t49\t51\tN/A\t0.0\tN/A\tN/A\tN/A\tN/A\tN/A\tN/A\tN/A\t0.0\tN/A\tN/A\r\n",
      "1\tscaffold1_cov55\t84\t86\tN/A\t0.0\tN/A\tN/A\tN/A\tN/A\tN/A\tN/A\tN/A\t0.0\tN/A\tN/A\r\n",
      "2\tscaffold1_cov55\t92\t94\tN/A\t0.0\tN/A\tN/A\tN/A\tN/A\tN/A\tN/A\tN/A\t0.0\tN/A\tN/A\r\n",
      "3\tscaffold1_cov55\t102\t104\t16.666667\t0.0\tN/A\tN/A\tN/A\tN/A\tN/A\tN/A\tN/A\t8.3333335\tN/A\tN/A\r\n",
      "4\tscaffold1_cov55\t105\t107\t0.0\t12.5\tN/A\tN/A\tN/A\tN/A\tN/A\tN/A\tN/A\t6.25\tN/A\tN/A\r\n",
      "5\tscaffold1_cov55\t116\t118\t0.0\t0.0\tN/A\tN/A\tN/A\tN/A\tN/A\tN/A\tN/A\t0.0\tN/A\tN/A\r\n",
      "6\tscaffold1_cov55\t119\t121\t0.0\t0.0\t20.0\tN/A\tN/A\tN/A\tN/A\tN/A\tN/A\t6.666666666666667\tN/A\tN/A\r\n",
      "7\tscaffold1_cov55\t146\t148\t0.0\t0.0\tN/A\tN/A\tN/A\tN/A\tN/A\tN/A\tN/A\t0.0\tN/A\tN/A\r\n",
      "8\tscaffold1_cov55\t169\t171\tN/A\t0.0\tN/A\tN/A\tN/A\tN/A\tN/A\tN/A\tN/A\t0.0\tN/A\tN/A\r\n"
     ]
    }
   ],
   "source": [
    "#Check pandas manipulations\n",
    "!head Pact_union_5x-averages.bedgraph"
   ]
  },
  {
   "cell_type": "code",
   "execution_count": 74,
   "metadata": {
    "collapsed": false
   },
   "outputs": [],
   "source": [
    "#Remove header\n",
    "#Keep chr, start, end, and WGBS average (col 2-4, 13)\n",
    "#Remove rows where the 4th column (average %meth) is N/A\n",
    "#Save file\n",
    "!tail -n +2 Pact_union_5x-averages.bedgraph \\\n",
    "| awk -F'\\t' -v OFS='\\t' '{print $2, $3, $4, $14}' \\\n",
    "| awk -F'\\t' -v OFS='\\t' '$4 != \"N/A\"' \\\n",
    "> Pact_union_5x-averages-WGBS.bedgraph"
   ]
  },
  {
   "cell_type": "code",
   "execution_count": 75,
   "metadata": {
    "collapsed": false
   },
   "outputs": [
    {
     "name": "stdout",
     "output_type": "stream",
     "text": [
      "scaffold1_cov55\t49\t51\t0.0\n",
      "scaffold1_cov55\t84\t86\t0.0\n",
      "scaffold1_cov55\t92\t94\t0.0\n",
      "scaffold1_cov55\t102\t104\t8.3333335\n",
      "scaffold1_cov55\t105\t107\t6.25\n",
      "scaffold1_cov55\t116\t118\t0.0\n",
      "scaffold1_cov55\t119\t121\t6.666666666666667\n",
      "scaffold1_cov55\t146\t148\t0.0\n",
      "scaffold1_cov55\t169\t171\t0.0\n",
      "scaffold1_cov55\t186\t188\t10.0\n",
      " 7665143 Pact_union_5x-averages-WGBS.bedgraph\n"
     ]
    }
   ],
   "source": [
    "#Check output: chr, start, end, % meth\n",
    "!head Pact_union_5x-averages-WGBS.bedgraph\n",
    "!wc -l Pact_union_5x-averages-WGBS.bedgraph"
   ]
  },
  {
   "cell_type": "code",
   "execution_count": 76,
   "metadata": {
    "collapsed": false
   },
   "outputs": [],
   "source": [
    "#Remove header\n",
    "#Keep chr, start, end, and RRBS average\n",
    "#Remove rows where the 4th column (average %meth) is N/A\n",
    "#Save file\n",
    "!tail -n +2 Pact_union_5x-averages.bedgraph \\\n",
    "| awk -F'\\t' -v OFS='\\t' '{print $2, $3, $4, $15}' \\\n",
    "| awk -F'\\t' -v OFS='\\t' '$4 != \"N/A\"' \\\n",
    "> Pact_union_5x-averages-RRBS.bedgraph"
   ]
  },
  {
   "cell_type": "code",
   "execution_count": 77,
   "metadata": {
    "collapsed": false,
    "scrolled": true
   },
   "outputs": [
    {
     "name": "stdout",
     "output_type": "stream",
     "text": [
      "scaffold6_cov64\t2536\t2538\t0.0\n",
      "scaffold6_cov64\t2584\t2586\t0.0\n",
      "scaffold6_cov64\t2676\t2678\t48.888889\n",
      "scaffold6_cov64\t2682\t2684\t0.0\n",
      "scaffold6_cov64\t4553\t4555\t17.142857\n",
      "scaffold6_cov64\t4588\t4590\t7.407407333333333\n",
      "scaffold6_cov64\t5101\t5103\t0.0\n",
      "scaffold6_cov64\t5309\t5311\t0.0\n",
      "scaffold6_cov64\t5456\t5458\t0.0\n",
      "scaffold6_cov64\t5486\t5488\t0.0\n",
      " 3508578 Pact_union_5x-averages-RRBS.bedgraph\n"
     ]
    }
   ],
   "source": [
    "#Check output: chr, start, end, % meth\n",
    "!head Pact_union_5x-averages-RRBS.bedgraph\n",
    "!wc -l Pact_union_5x-averages-RRBS.bedgraph"
   ]
  },
  {
   "cell_type": "code",
   "execution_count": 78,
   "metadata": {
    "collapsed": false
   },
   "outputs": [],
   "source": [
    "#Remove header\n",
    "#Keep chr, start, end, and MBD-BS average\n",
    "#Remove rows where the 4th column (average %meth) is N/A\n",
    "#Save file\n",
    "!tail -n +2 Pact_union_5x-averages.bedgraph \\\n",
    "| awk -F'\\t' -v OFS='\\t' '{print $2, $3, $4, $16}' \\\n",
    "| awk -F'\\t' -v OFS='\\t' '$4 != \"N/A\"' \\\n",
    "> Pact_union_5x-averages-MBDBS.bedgraph"
   ]
  },
  {
   "cell_type": "code",
   "execution_count": 79,
   "metadata": {
    "collapsed": false
   },
   "outputs": [
    {
     "name": "stdout",
     "output_type": "stream",
     "text": [
      "scaffold2_cov51\t649\t651\t0.0\n",
      "scaffold2_cov51\t686\t688\t0.0\n",
      "scaffold2_cov51\t778\t780\t0.0\n",
      "scaffold3_cov83\t118\t120\t37.142857\n",
      "scaffold3_cov83\t130\t132\t26.25\n",
      "scaffold3_cov83\t137\t139\t37.5\n",
      "scaffold3_cov83\t189\t191\t41.452991\n",
      "scaffold3_cov83\t208\t210\t42.12885166666667\n",
      "scaffold3_cov83\t243\t245\t0.0\n",
      "scaffold3_cov83\t261\t263\t47.75132266666666\n",
      " 5906529 Pact_union_5x-averages-MBDBS.bedgraph\n"
     ]
    }
   ],
   "source": [
    "#Check output: chr, start, end, % meth\n",
    "!head Pact_union_5x-averages-MBDBS.bedgraph\n",
    "!wc -l Pact_union_5x-averages-MBDBS.bedgraph"
   ]
  },
  {
   "cell_type": "code",
   "execution_count": 80,
   "metadata": {
    "collapsed": false
   },
   "outputs": [
    {
     "name": "stdout",
     "output_type": "stream",
     "text": [
      "Pact_union_5x-averages-MBDBS.bedgraph\r\n",
      "Pact_union_5x-averages-RRBS.bedgraph\r\n",
      "Pact_union_5x-averages-WGBS.bedgraph\r\n"
     ]
    }
   ],
   "source": [
    "!find *averages-*bedgraph"
   ]
  },
  {
   "cell_type": "code",
   "execution_count": 81,
   "metadata": {
    "collapsed": true
   },
   "outputs": [],
   "source": [
    "!wc -l *averages-*bedgraph > Pact_union_5x-averages-counts.txt"
   ]
  },
  {
   "cell_type": "markdown",
   "metadata": {},
   "source": [
    "### 2. Characterize methylation for each CpG dinucleotide\n",
    "\n",
    "- Methylated: > 50% methylation\n",
    "- Sparsely methylated: 10-50% methylation\n",
    "- Unmethylated: < 10% methylation"
   ]
  },
  {
   "cell_type": "markdown",
   "metadata": {},
   "source": [
    "##### Methylated loci"
   ]
  },
  {
   "cell_type": "code",
   "execution_count": 82,
   "metadata": {
    "collapsed": true
   },
   "outputs": [],
   "source": [
    "%%bash\n",
    "for f in *averages-*bedgraph\n",
    "do\n",
    "    awk '{if ($4 >= 50) { print $1, $2, $3, $4 }}' ${f} \\\n",
    "    > ${f}-Meth\n",
    "done"
   ]
  },
  {
   "cell_type": "code",
   "execution_count": 83,
   "metadata": {
    "collapsed": false,
    "scrolled": true
   },
   "outputs": [
    {
     "name": "stdout",
     "output_type": "stream",
     "text": [
      "==> Pact_union_5x-averages-MBDBS.bedgraph-Meth <==\r\n",
      "scaffold3_cov83 475 477 61.45454566666666\r\n",
      "scaffold3_cov83 504 506 51.6666665\r\n",
      "scaffold7_cov100 5986 5988 77.14912266666668\r\n",
      "scaffold7_cov100 6144 6146 96.29377666666666\r\n",
      "scaffold7_cov100 6188 6190 95.25813700000002\r\n",
      "scaffold7_cov100 6198 6200 95.69715500000001\r\n",
      "scaffold7_cov100 6231 6233 78.51851866666668\r\n",
      "scaffold7_cov100 6233 6235 95.98157266666665\r\n",
      "scaffold7_cov100 7201 7203 80.0\r\n",
      "scaffold7_cov100 7438 7440 80.0\r\n",
      "\r\n",
      "==> Pact_union_5x-averages-RRBS.bedgraph-Meth <==\r\n",
      "scaffold7_cov100 1535 1537 60.0\r\n",
      "scaffold7_cov100 17000 17002 100.0\r\n",
      "scaffold7_cov100 17090 17092 100.0\r\n",
      "scaffold7_cov100 24454 24456 100.0\r\n",
      "scaffold7_cov100 24494 24496 87.5\r\n",
      "scaffold7_cov100 24509 24511 100.0\r\n",
      "scaffold7_cov100 24557 24559 100.0\r\n",
      "scaffold7_cov100 33140 33142 80.0\r\n",
      "scaffold7_cov100 33157 33159 80.0\r\n",
      "scaffold7_cov100 40896 40898 50.0\r\n",
      "\r\n",
      "==> Pact_union_5x-averages-WGBS.bedgraph-Meth <==\r\n",
      "scaffold7_cov100 5500 5502 77.77777766666667\r\n",
      "scaffold7_cov100 5986 5988 75.55555566666668\r\n",
      "scaffold7_cov100 6144 6146 100.0\r\n",
      "scaffold7_cov100 6188 6190 98.03921566666666\r\n",
      "scaffold7_cov100 6198 6200 96.29629633333333\r\n",
      "scaffold7_cov100 6231 6233 90.47619033333332\r\n",
      "scaffold7_cov100 6233 6235 100.0\r\n",
      "scaffold7_cov100 7438 7440 96.07843133333334\r\n",
      "scaffold7_cov100 7696 7698 98.611111\r\n",
      "scaffold7_cov100 7796 7798 80.60606066666666\r\n"
     ]
    }
   ],
   "source": [
    "!head *Meth"
   ]
  },
  {
   "cell_type": "code",
   "execution_count": 84,
   "metadata": {
    "collapsed": false
   },
   "outputs": [
    {
     "name": "stdout",
     "output_type": "stream",
     "text": [
      "  725453 Pact_union_5x-averages-MBDBS.bedgraph-Meth\r\n",
      "   66798 Pact_union_5x-averages-RRBS.bedgraph-Meth\r\n",
      "  154042 Pact_union_5x-averages-WGBS.bedgraph-Meth\r\n",
      "  946293 total\r\n"
     ]
    }
   ],
   "source": [
    "!wc -l *Meth"
   ]
  },
  {
   "cell_type": "code",
   "execution_count": 85,
   "metadata": {
    "collapsed": true
   },
   "outputs": [],
   "source": [
    "!wc -l *-Meth > Pact_union_5x-Meth-counts.txt"
   ]
  },
  {
   "cell_type": "markdown",
   "metadata": {},
   "source": [
    "##### Sparsely methylated loci"
   ]
  },
  {
   "cell_type": "code",
   "execution_count": 86,
   "metadata": {
    "collapsed": true
   },
   "outputs": [],
   "source": [
    "%%bash\n",
    "for f in *averages-*bedgraph\n",
    "do\n",
    "    awk '{if ($4 < 50) { print $1, $2, $3, $4}}' ${f} \\\n",
    "    | awk '{if ($4 > 10) { print $1, $2, $3, $4 }}' \\\n",
    "    > ${f}-sparseMeth\n",
    "done"
   ]
  },
  {
   "cell_type": "code",
   "execution_count": 87,
   "metadata": {
    "collapsed": false,
    "scrolled": true
   },
   "outputs": [
    {
     "name": "stdout",
     "output_type": "stream",
     "text": [
      "==> Pact_union_5x-averages-MBDBS.bedgraph-sparseMeth <==\r\n",
      "scaffold3_cov83 118 120 37.142857\r\n",
      "scaffold3_cov83 130 132 26.25\r\n",
      "scaffold3_cov83 137 139 37.5\r\n",
      "scaffold3_cov83 189 191 41.452991\r\n",
      "scaffold3_cov83 208 210 42.12885166666667\r\n",
      "scaffold3_cov83 261 263 47.75132266666666\r\n",
      "scaffold3_cov83 484 486 47.386809\r\n",
      "scaffold6_cov64 4146 4148 16.25\r\n",
      "scaffold6_cov64 5904 5906 14.285714000000002\r\n",
      "scaffold6_cov64 6880 6882 10.714285500000003\r\n",
      "\r\n",
      "==> Pact_union_5x-averages-RRBS.bedgraph-sparseMeth <==\r\n",
      "scaffold6_cov64 2676 2678 48.888889\r\n",
      "scaffold6_cov64 4553 4555 17.142857\r\n",
      "scaffold6_cov64 5904 5906 10.800086\r\n",
      "scaffold6_cov64 6374 6376 24.382284333333335\r\n",
      "scaffold6_cov64 7373 7375 16.666667\r\n",
      "scaffold7_cov100 2301 2303 25.0\r\n",
      "scaffold7_cov100 4351 4353 20.935810000000004\r\n",
      "scaffold7_cov100 15408 15410 20.0\r\n",
      "scaffold7_cov100 17074 17076 33.333333\r\n",
      "scaffold7_cov100 17098 17100 20.0\r\n",
      "\r\n",
      "==> Pact_union_5x-averages-WGBS.bedgraph-sparseMeth <==\r\n",
      "scaffold1_cov55 252 254 20.0\r\n",
      "scaffold2_cov51 686 688 11.609686333333334\r\n",
      "scaffold3_cov83 475 477 12.281745999999998\r\n",
      "scaffold3_cov83 504 506 10.047846999999999\r\n",
      "scaffold7_cov100 4305 4307 16.6666665\r\n",
      "scaffold7_cov100 4351 4353 24.761904666666666\r\n",
      "scaffold7_cov100 4630 4632 11.416666666666666\r\n",
      "scaffold7_cov100 5578 5580 37.56613766666666\r\n",
      "scaffold7_cov100 7121 7123 18.75\r\n",
      "scaffold7_cov100 7201 7203 29.761905\r\n"
     ]
    }
   ],
   "source": [
    "!head *sparseMeth"
   ]
  },
  {
   "cell_type": "code",
   "execution_count": 88,
   "metadata": {
    "collapsed": false,
    "scrolled": false
   },
   "outputs": [
    {
     "name": "stdout",
     "output_type": "stream",
     "text": [
      "  713277 Pact_union_5x-averages-MBDBS.bedgraph-sparseMeth\n",
      "  210985 Pact_union_5x-averages-RRBS.bedgraph-sparseMeth\n",
      "  311665 Pact_union_5x-averages-WGBS.bedgraph-sparseMeth\n",
      " 1235927 total\n"
     ]
    }
   ],
   "source": [
    "!wc -l *sparseMeth"
   ]
  },
  {
   "cell_type": "code",
   "execution_count": 89,
   "metadata": {
    "collapsed": true
   },
   "outputs": [],
   "source": [
    "!wc -l *-sparseMeth > Pact_union_5x-sparseMeth-counts.txt"
   ]
  },
  {
   "cell_type": "markdown",
   "metadata": {},
   "source": [
    "##### Unmethylated loci"
   ]
  },
  {
   "cell_type": "code",
   "execution_count": 90,
   "metadata": {
    "collapsed": true
   },
   "outputs": [],
   "source": [
    "%%bash\n",
    "for f in *averages-*bedgraph\n",
    "do\n",
    "    awk '{if ($4 <= 10) { print $1, $2, $3, $4 }}' ${f} \\\n",
    "    > ${f}-unMeth\n",
    "done"
   ]
  },
  {
   "cell_type": "code",
   "execution_count": 91,
   "metadata": {
    "collapsed": false,
    "scrolled": true
   },
   "outputs": [
    {
     "name": "stdout",
     "output_type": "stream",
     "text": [
      "==> Pact_union_5x-averages-MBDBS.bedgraph-unMeth <==\r\n",
      "scaffold2_cov51 649 651 0.0\r\n",
      "scaffold2_cov51 686 688 0.0\r\n",
      "scaffold2_cov51 778 780 0.0\r\n",
      "scaffold3_cov83 243 245 0.0\r\n",
      "scaffold6_cov64 290 292 0.0\r\n",
      "scaffold6_cov64 298 300 0.0\r\n",
      "scaffold6_cov64 489 491 0.0\r\n",
      "scaffold6_cov64 826 828 7.142857000000001\r\n",
      "scaffold6_cov64 2097 2099 0.0\r\n",
      "scaffold6_cov64 2179 2181 0.0\r\n",
      "\r\n",
      "==> Pact_union_5x-averages-RRBS.bedgraph-unMeth <==\r\n",
      "scaffold6_cov64 2536 2538 0.0\r\n",
      "scaffold6_cov64 2584 2586 0.0\r\n",
      "scaffold6_cov64 2682 2684 0.0\r\n",
      "scaffold6_cov64 4588 4590 7.407407333333333\r\n",
      "scaffold6_cov64 5101 5103 0.0\r\n",
      "scaffold6_cov64 5309 5311 0.0\r\n",
      "scaffold6_cov64 5456 5458 0.0\r\n",
      "scaffold6_cov64 5486 5488 0.0\r\n",
      "scaffold6_cov64 5545 5547 4.761904666666667\r\n",
      "scaffold6_cov64 5559 5561 3.952991666666667\r\n",
      "\r\n",
      "==> Pact_union_5x-averages-WGBS.bedgraph-unMeth <==\r\n",
      "scaffold1_cov55 49 51 0.0\r\n",
      "scaffold1_cov55 84 86 0.0\r\n",
      "scaffold1_cov55 92 94 0.0\r\n",
      "scaffold1_cov55 102 104 8.3333335\r\n",
      "scaffold1_cov55 105 107 6.25\r\n",
      "scaffold1_cov55 116 118 0.0\r\n",
      "scaffold1_cov55 119 121 6.666666666666667\r\n",
      "scaffold1_cov55 146 148 0.0\r\n",
      "scaffold1_cov55 169 171 0.0\r\n",
      "scaffold1_cov55 186 188 10.0\r\n"
     ]
    }
   ],
   "source": [
    "!head *unMeth"
   ]
  },
  {
   "cell_type": "code",
   "execution_count": 92,
   "metadata": {
    "collapsed": false,
    "scrolled": true
   },
   "outputs": [
    {
     "name": "stdout",
     "output_type": "stream",
     "text": [
      " 4467799 Pact_union_5x-averages-MBDBS.bedgraph-unMeth\n",
      " 3230795 Pact_union_5x-averages-RRBS.bedgraph-unMeth\n",
      " 7199436 Pact_union_5x-averages-WGBS.bedgraph-unMeth\n",
      " 14898030 total\n"
     ]
    }
   ],
   "source": [
    "!wc -l *unMeth"
   ]
  },
  {
   "cell_type": "code",
   "execution_count": 93,
   "metadata": {
    "collapsed": true
   },
   "outputs": [],
   "source": [
    "!wc -l *-unMeth > Pact_union_5x-unMeth-counts.txt"
   ]
  },
  {
   "cell_type": "markdown",
   "metadata": {},
   "source": [
    "### 3. Characterize genomic locations of CpGs"
   ]
  },
  {
   "cell_type": "markdown",
   "metadata": {},
   "source": [
    "#### 3a. Create BEDfiles"
   ]
  },
  {
   "cell_type": "code",
   "execution_count": 94,
   "metadata": {
    "collapsed": false,
    "scrolled": true
   },
   "outputs": [
    {
     "name": "stdout",
     "output_type": "stream",
     "text": [
      " 5906529 Pact_union_5x-averages-MBDBS.bedgraph.bed\n",
      "  725453 Pact_union_5x-averages-MBDBS.bedgraph-Meth.bed\n",
      "  713277 Pact_union_5x-averages-MBDBS.bedgraph-sparseMeth.bed\n",
      " 4467799 Pact_union_5x-averages-MBDBS.bedgraph-unMeth.bed\n",
      " 3508578 Pact_union_5x-averages-RRBS.bedgraph.bed\n",
      "   66798 Pact_union_5x-averages-RRBS.bedgraph-Meth.bed\n",
      "  210985 Pact_union_5x-averages-RRBS.bedgraph-sparseMeth.bed\n",
      " 3230795 Pact_union_5x-averages-RRBS.bedgraph-unMeth.bed\n",
      " 7665143 Pact_union_5x-averages-WGBS.bedgraph.bed\n",
      "  154042 Pact_union_5x-averages-WGBS.bedgraph-Meth.bed\n",
      "  311665 Pact_union_5x-averages-WGBS.bedgraph-sparseMeth.bed\n",
      " 7199436 Pact_union_5x-averages-WGBS.bedgraph-unMeth.bed\n"
     ]
    }
   ],
   "source": [
    "%%bash\n",
    "\n",
    "for f in *averages-*bedgraph*\n",
    "do\n",
    "    awk '{print $1\"\\t\"$2\"\\t\"$3}' ${f} > ${f}.bed\n",
    "    wc -l ${f}.bed\n",
    "done"
   ]
  },
  {
   "cell_type": "code",
   "execution_count": 40,
   "metadata": {
    "collapsed": false,
    "scrolled": false
   },
   "outputs": [
    {
     "name": "stdout",
     "output_type": "stream",
     "text": [
      "scaffold2_cov51\t649\t651\r\n",
      "scaffold2_cov51\t686\t688\r\n",
      "scaffold2_cov51\t778\t780\r\n",
      "scaffold3_cov83\t118\t120\r\n",
      "scaffold3_cov83\t130\t132\r\n",
      "scaffold3_cov83\t137\t139\r\n",
      "scaffold3_cov83\t189\t191\r\n",
      "scaffold3_cov83\t208\t210\r\n",
      "scaffold3_cov83\t243\t245\r\n",
      "scaffold3_cov83\t261\t263\r\n"
     ]
    }
   ],
   "source": [
    "#Confirm file creation\n",
    "!head Pact_union_5x-averages-MBDBS.bedgraph.bed"
   ]
  },
  {
   "cell_type": "markdown",
   "metadata": {},
   "source": [
    "#### 3b. Genes"
   ]
  },
  {
   "cell_type": "code",
   "execution_count": 41,
   "metadata": {
    "collapsed": true,
    "scrolled": true
   },
   "outputs": [],
   "source": [
    "%%bash\n",
    "\n",
    "for f in *bed\n",
    "do\n",
    "  /usr/local/bin/intersectBed \\\n",
    "  -u \\\n",
    "  -a ${f} \\\n",
    "  -b ../../../genome-feature-files/Pact.GFFannotation.Genes.gff \\\n",
    "  > ${f}-paGenes\n",
    "done"
   ]
  },
  {
   "cell_type": "code",
   "execution_count": 42,
   "metadata": {
    "collapsed": false
   },
   "outputs": [
    {
     "name": "stdout",
     "output_type": "stream",
     "text": [
      "==> Pact_union_5x-averages-MBDBS.bedgraph-Meth.bed-paGenes <==\r\n",
      "scaffold7_cov100\t5986\t5988\r\n",
      "scaffold7_cov100\t6144\t6146\r\n",
      "scaffold7_cov100\t6188\t6190\r\n",
      "scaffold7_cov100\t6198\t6200\r\n",
      "scaffold7_cov100\t7201\t7203\r\n",
      "scaffold7_cov100\t7438\t7440\r\n",
      "scaffold7_cov100\t7696\t7698\r\n",
      "scaffold7_cov100\t7796\t7798\r\n",
      "scaffold7_cov100\t7891\t7893\r\n",
      "scaffold7_cov100\t8323\t8325\r\n",
      "\r\n",
      "==> Pact_union_5x-averages-MBDBS.bedgraph-sparseMeth.bed-paGenes <==\r\n",
      "scaffold6_cov64\t4146\t4148\r\n",
      "scaffold6_cov64\t5904\t5906\r\n",
      "scaffold7_cov100\t1390\t1392\r\n",
      "scaffold7_cov100\t1422\t1424\r\n",
      "scaffold7_cov100\t3956\t3958\r\n",
      "scaffold7_cov100\t4630\t4632\r\n",
      "scaffold7_cov100\t4678\t4680\r\n",
      "scaffold7_cov100\t5500\t5502\r\n",
      "scaffold7_cov100\t5578\t5580\r\n",
      "scaffold7_cov100\t11439\t11441\r\n",
      "\r\n",
      "==> Pact_union_5x-averages-MBDBS.bedgraph-unMeth.bed-paGenes <==\r\n",
      "scaffold6_cov64\t290\t292\r\n",
      "scaffold6_cov64\t298\t300\r\n",
      "scaffold6_cov64\t489\t491\r\n",
      "scaffold6_cov64\t826\t828\r\n",
      "scaffold6_cov64\t2097\t2099\r\n",
      "scaffold6_cov64\t2179\t2181\r\n",
      "scaffold6_cov64\t2805\t2807\r\n",
      "scaffold6_cov64\t2872\t2874\r\n",
      "scaffold6_cov64\t2876\t2878\r\n",
      "scaffold6_cov64\t3198\t3200\r\n",
      "\r\n",
      "==> Pact_union_5x-averages-MBDBS.bedgraph.bed-paGenes <==\r\n",
      "scaffold6_cov64\t290\t292\r\n",
      "scaffold6_cov64\t298\t300\r\n",
      "scaffold6_cov64\t489\t491\r\n",
      "scaffold6_cov64\t826\t828\r\n",
      "scaffold6_cov64\t2097\t2099\r\n",
      "scaffold6_cov64\t2179\t2181\r\n",
      "scaffold6_cov64\t2805\t2807\r\n",
      "scaffold6_cov64\t2872\t2874\r\n",
      "scaffold6_cov64\t2876\t2878\r\n",
      "scaffold6_cov64\t3198\t3200\r\n",
      "\r\n",
      "==> Pact_union_5x-averages-RRBS.bedgraph-Meth.bed-paGenes <==\r\n",
      "scaffold7_cov100\t1535\t1537\r\n",
      "scaffold7_cov100\t17000\t17002\r\n",
      "scaffold7_cov100\t17090\t17092\r\n",
      "scaffold7_cov100\t33140\t33142\r\n",
      "scaffold7_cov100\t33157\t33159\r\n",
      "scaffold7_cov100\t69126\t69128\r\n",
      "scaffold7_cov100\t96791\t96793\r\n",
      "scaffold7_cov100\t106242\t106244\r\n",
      "scaffold7_cov100\t106251\t106253\r\n",
      "scaffold7_cov100\t106254\t106256\r\n",
      "\r\n",
      "==> Pact_union_5x-averages-RRBS.bedgraph-sparseMeth.bed-paGenes <==\r\n",
      "scaffold6_cov64\t2676\t2678\r\n",
      "scaffold6_cov64\t4553\t4555\r\n",
      "scaffold6_cov64\t5904\t5906\r\n",
      "scaffold6_cov64\t6374\t6376\r\n",
      "scaffold7_cov100\t2301\t2303\r\n",
      "scaffold7_cov100\t4351\t4353\r\n",
      "scaffold7_cov100\t15408\t15410\r\n",
      "scaffold7_cov100\t17074\t17076\r\n",
      "scaffold7_cov100\t17098\t17100\r\n",
      "scaffold7_cov100\t36600\t36602\r\n",
      "\r\n",
      "==> Pact_union_5x-averages-RRBS.bedgraph-unMeth.bed-paGenes <==\r\n",
      "scaffold6_cov64\t2536\t2538\r\n",
      "scaffold6_cov64\t2584\t2586\r\n",
      "scaffold6_cov64\t2682\t2684\r\n",
      "scaffold6_cov64\t4588\t4590\r\n",
      "scaffold6_cov64\t5101\t5103\r\n",
      "scaffold6_cov64\t5309\t5311\r\n",
      "scaffold6_cov64\t5456\t5458\r\n",
      "scaffold6_cov64\t5486\t5488\r\n",
      "scaffold6_cov64\t5545\t5547\r\n",
      "scaffold6_cov64\t5559\t5561\r\n",
      "\r\n",
      "==> Pact_union_5x-averages-RRBS.bedgraph.bed-paGenes <==\r\n",
      "scaffold6_cov64\t2536\t2538\r\n",
      "scaffold6_cov64\t2584\t2586\r\n",
      "scaffold6_cov64\t2676\t2678\r\n",
      "scaffold6_cov64\t2682\t2684\r\n",
      "scaffold6_cov64\t4553\t4555\r\n",
      "scaffold6_cov64\t4588\t4590\r\n",
      "scaffold6_cov64\t5101\t5103\r\n",
      "scaffold6_cov64\t5309\t5311\r\n",
      "scaffold6_cov64\t5456\t5458\r\n",
      "scaffold6_cov64\t5486\t5488\r\n",
      "\r\n",
      "==> Pact_union_5x-averages-WGBS.bedgraph-Meth.bed-paGenes <==\r\n",
      "scaffold7_cov100\t5500\t5502\r\n",
      "scaffold7_cov100\t5986\t5988\r\n",
      "scaffold7_cov100\t6144\t6146\r\n",
      "scaffold7_cov100\t6188\t6190\r\n",
      "scaffold7_cov100\t6198\t6200\r\n",
      "scaffold7_cov100\t7438\t7440\r\n",
      "scaffold7_cov100\t7696\t7698\r\n",
      "scaffold7_cov100\t7796\t7798\r\n",
      "scaffold7_cov100\t7891\t7893\r\n",
      "scaffold7_cov100\t8323\t8325\r\n",
      "\r\n",
      "==> Pact_union_5x-averages-WGBS.bedgraph-sparseMeth.bed-paGenes <==\r\n",
      "scaffold7_cov100\t4305\t4307\r\n",
      "scaffold7_cov100\t4351\t4353\r\n",
      "scaffold7_cov100\t4630\t4632\r\n",
      "scaffold7_cov100\t5578\t5580\r\n",
      "scaffold7_cov100\t7121\t7123\r\n",
      "scaffold7_cov100\t7201\t7203\r\n",
      "scaffold7_cov100\t9715\t9717\r\n",
      "scaffold7_cov100\t10755\t10757\r\n",
      "scaffold7_cov100\t11439\t11441\r\n",
      "scaffold7_cov100\t14042\t14044\r\n",
      "\r\n",
      "==> Pact_union_5x-averages-WGBS.bedgraph-unMeth.bed-paGenes <==\r\n",
      "scaffold6_cov64\t167\t169\r\n",
      "scaffold6_cov64\t290\t292\r\n",
      "scaffold6_cov64\t298\t300\r\n",
      "scaffold6_cov64\t489\t491\r\n",
      "scaffold6_cov64\t826\t828\r\n",
      "scaffold6_cov64\t1539\t1541\r\n",
      "scaffold6_cov64\t1725\t1727\r\n",
      "scaffold6_cov64\t2097\t2099\r\n",
      "scaffold6_cov64\t2179\t2181\r\n",
      "scaffold6_cov64\t2253\t2255\r\n",
      "\r\n",
      "==> Pact_union_5x-averages-WGBS.bedgraph.bed-paGenes <==\r\n",
      "scaffold6_cov64\t167\t169\r\n",
      "scaffold6_cov64\t290\t292\r\n",
      "scaffold6_cov64\t298\t300\r\n",
      "scaffold6_cov64\t489\t491\r\n",
      "scaffold6_cov64\t826\t828\r\n",
      "scaffold6_cov64\t1539\t1541\r\n",
      "scaffold6_cov64\t1725\t1727\r\n",
      "scaffold6_cov64\t2097\t2099\r\n",
      "scaffold6_cov64\t2179\t2181\r\n",
      "scaffold6_cov64\t2253\t2255\r\n"
     ]
    }
   ],
   "source": [
    "#Check output\n",
    "!head *paGenes"
   ]
  },
  {
   "cell_type": "code",
   "execution_count": 43,
   "metadata": {
    "collapsed": false,
    "scrolled": true
   },
   "outputs": [
    {
     "name": "stdout",
     "output_type": "stream",
     "text": [
      "  328451 Pact_union_5x-averages-MBDBS.bedgraph-Meth.bed-paGenes\n",
      "  286670 Pact_union_5x-averages-MBDBS.bedgraph-sparseMeth.bed-paGenes\n",
      " 2134275 Pact_union_5x-averages-MBDBS.bedgraph-unMeth.bed-paGenes\n",
      " 2749396 Pact_union_5x-averages-MBDBS.bedgraph.bed-paGenes\n",
      "   28777 Pact_union_5x-averages-RRBS.bedgraph-Meth.bed-paGenes\n",
      "   85319 Pact_union_5x-averages-RRBS.bedgraph-sparseMeth.bed-paGenes\n",
      " 1357962 Pact_union_5x-averages-RRBS.bedgraph-unMeth.bed-paGenes\n",
      " 1472058 Pact_union_5x-averages-RRBS.bedgraph.bed-paGenes\n",
      "  100773 Pact_union_5x-averages-WGBS.bedgraph-Meth.bed-paGenes\n",
      "  119682 Pact_union_5x-averages-WGBS.bedgraph-sparseMeth.bed-paGenes\n",
      " 2978882 Pact_union_5x-averages-WGBS.bedgraph-unMeth.bed-paGenes\n",
      " 3199337 Pact_union_5x-averages-WGBS.bedgraph.bed-paGenes\n",
      " 14841582 total\n"
     ]
    }
   ],
   "source": [
    "#Count number of overlaps\n",
    "!wc -l *paGenes"
   ]
  },
  {
   "cell_type": "code",
   "execution_count": 44,
   "metadata": {
    "collapsed": true
   },
   "outputs": [],
   "source": [
    "!wc -l *paGenes > Pact_union_5x-paGenes-counts.txt"
   ]
  },
  {
   "cell_type": "markdown",
   "metadata": {},
   "source": [
    "#### 3c. Coding Sequences (CDS)"
   ]
  },
  {
   "cell_type": "code",
   "execution_count": 45,
   "metadata": {
    "collapsed": true,
    "scrolled": true
   },
   "outputs": [],
   "source": [
    "%%bash\n",
    "\n",
    "for f in *bed\n",
    "do\n",
    "  /usr/local/bin/intersectBed \\\n",
    "  -u \\\n",
    "  -a ${f} \\\n",
    "  -b ../../../genome-feature-files/Pact.GFFannotation.CDS.gff \\\n",
    "  > ${f}-paCDS\n",
    "done"
   ]
  },
  {
   "cell_type": "code",
   "execution_count": 46,
   "metadata": {
    "collapsed": false
   },
   "outputs": [
    {
     "name": "stdout",
     "output_type": "stream",
     "text": [
      "==> Pact_union_5x-averages-MBDBS.bedgraph-Meth.bed-paCDS <==\r\n",
      "scaffold7_cov100\t6144\t6146\r\n",
      "scaffold7_cov100\t6188\t6190\r\n",
      "scaffold7_cov100\t6198\t6200\r\n",
      "scaffold7_cov100\t7696\t7698\r\n",
      "scaffold7_cov100\t7891\t7893\r\n",
      "scaffold7_cov100\t8323\t8325\r\n",
      "scaffold7_cov100\t9715\t9717\r\n",
      "scaffold7_cov100\t9877\t9879\r\n",
      "scaffold7_cov100\t10216\t10218\r\n",
      "scaffold7_cov100\t10273\t10275\r\n",
      "\r\n",
      "==> Pact_union_5x-averages-MBDBS.bedgraph-sparseMeth.bed-paCDS <==\r\n",
      "scaffold7_cov100\t1390\t1392\r\n",
      "scaffold7_cov100\t1422\t1424\r\n",
      "scaffold7_cov100\t4630\t4632\r\n",
      "scaffold7_cov100\t4678\t4680\r\n",
      "scaffold7_cov100\t5500\t5502\r\n",
      "scaffold7_cov100\t14042\t14044\r\n",
      "scaffold7_cov100\t17164\t17166\r\n",
      "scaffold7_cov100\t28638\t28640\r\n",
      "scaffold7_cov100\t28791\t28793\r\n",
      "scaffold7_cov100\t33157\t33159\r\n",
      "\r\n",
      "==> Pact_union_5x-averages-MBDBS.bedgraph-unMeth.bed-paCDS <==\r\n",
      "scaffold6_cov64\t826\t828\r\n",
      "scaffold6_cov64\t2097\t2099\r\n",
      "scaffold6_cov64\t2179\t2181\r\n",
      "scaffold6_cov64\t4793\t4795\r\n",
      "scaffold6_cov64\t5581\t5583\r\n",
      "scaffold6_cov64\t5583\t5585\r\n",
      "scaffold6_cov64\t5592\t5594\r\n",
      "scaffold6_cov64\t5594\t5596\r\n",
      "scaffold6_cov64\t5604\t5606\r\n",
      "scaffold6_cov64\t5644\t5646\r\n",
      "\r\n",
      "==> Pact_union_5x-averages-MBDBS.bedgraph.bed-paCDS <==\r\n",
      "scaffold6_cov64\t826\t828\r\n",
      "scaffold6_cov64\t2097\t2099\r\n",
      "scaffold6_cov64\t2179\t2181\r\n",
      "scaffold6_cov64\t4793\t4795\r\n",
      "scaffold6_cov64\t5581\t5583\r\n",
      "scaffold6_cov64\t5583\t5585\r\n",
      "scaffold6_cov64\t5592\t5594\r\n",
      "scaffold6_cov64\t5594\t5596\r\n",
      "scaffold6_cov64\t5604\t5606\r\n",
      "scaffold6_cov64\t5644\t5646\r\n",
      "\r\n",
      "==> Pact_union_5x-averages-RRBS.bedgraph-Meth.bed-paCDS <==\r\n",
      "scaffold7_cov100\t1535\t1537\r\n",
      "scaffold7_cov100\t17000\t17002\r\n",
      "scaffold7_cov100\t17090\t17092\r\n",
      "scaffold7_cov100\t33140\t33142\r\n",
      "scaffold7_cov100\t33157\t33159\r\n",
      "scaffold7_cov100\t69126\t69128\r\n",
      "scaffold7_cov100\t96791\t96793\r\n",
      "scaffold7_cov100\t106242\t106244\r\n",
      "scaffold7_cov100\t106251\t106253\r\n",
      "scaffold7_cov100\t106254\t106256\r\n",
      "\r\n",
      "==> Pact_union_5x-averages-RRBS.bedgraph-sparseMeth.bed-paCDS <==\r\n",
      "scaffold7_cov100\t2301\t2303\r\n",
      "scaffold7_cov100\t15408\t15410\r\n",
      "scaffold7_cov100\t17074\t17076\r\n",
      "scaffold7_cov100\t17098\t17100\r\n",
      "scaffold7_cov100\t46343\t46345\r\n",
      "scaffold7_cov100\t46428\t46430\r\n",
      "scaffold7_cov100\t48729\t48731\r\n",
      "scaffold7_cov100\t61080\t61082\r\n",
      "scaffold7_cov100\t91941\t91943\r\n",
      "scaffold7_cov100\t94939\t94941\r\n",
      "\r\n",
      "==> Pact_union_5x-averages-RRBS.bedgraph-unMeth.bed-paCDS <==\r\n",
      "scaffold6_cov64\t5581\t5583\r\n",
      "scaffold6_cov64\t5583\t5585\r\n",
      "scaffold6_cov64\t5592\t5594\r\n",
      "scaffold6_cov64\t5594\t5596\r\n",
      "scaffold6_cov64\t5604\t5606\r\n",
      "scaffold6_cov64\t5644\t5646\r\n",
      "scaffold6_cov64\t5821\t5823\r\n",
      "scaffold6_cov64\t5965\t5967\r\n",
      "scaffold6_cov64\t5973\t5975\r\n",
      "scaffold6_cov64\t5992\t5994\r\n",
      "\r\n",
      "==> Pact_union_5x-averages-RRBS.bedgraph.bed-paCDS <==\r\n",
      "scaffold6_cov64\t5581\t5583\r\n",
      "scaffold6_cov64\t5583\t5585\r\n",
      "scaffold6_cov64\t5592\t5594\r\n",
      "scaffold6_cov64\t5594\t5596\r\n",
      "scaffold6_cov64\t5604\t5606\r\n",
      "scaffold6_cov64\t5644\t5646\r\n",
      "scaffold6_cov64\t5821\t5823\r\n",
      "scaffold6_cov64\t5965\t5967\r\n",
      "scaffold6_cov64\t5973\t5975\r\n",
      "scaffold6_cov64\t5992\t5994\r\n",
      "\r\n",
      "==> Pact_union_5x-averages-WGBS.bedgraph-Meth.bed-paCDS <==\r\n",
      "scaffold7_cov100\t5500\t5502\r\n",
      "scaffold7_cov100\t6144\t6146\r\n",
      "scaffold7_cov100\t6188\t6190\r\n",
      "scaffold7_cov100\t6198\t6200\r\n",
      "scaffold7_cov100\t7696\t7698\r\n",
      "scaffold7_cov100\t7891\t7893\r\n",
      "scaffold7_cov100\t8323\t8325\r\n",
      "scaffold7_cov100\t9877\t9879\r\n",
      "scaffold7_cov100\t10216\t10218\r\n",
      "scaffold7_cov100\t10273\t10275\r\n",
      "\r\n",
      "==> Pact_union_5x-averages-WGBS.bedgraph-sparseMeth.bed-paCDS <==\r\n",
      "scaffold7_cov100\t4630\t4632\r\n",
      "scaffold7_cov100\t9715\t9717\r\n",
      "scaffold7_cov100\t10755\t10757\r\n",
      "scaffold7_cov100\t14042\t14044\r\n",
      "scaffold7_cov100\t17074\t17076\r\n",
      "scaffold7_cov100\t17098\t17100\r\n",
      "scaffold7_cov100\t17164\t17166\r\n",
      "scaffold7_cov100\t17212\t17214\r\n",
      "scaffold7_cov100\t29019\t29021\r\n",
      "scaffold7_cov100\t47529\t47531\r\n",
      "\r\n",
      "==> Pact_union_5x-averages-WGBS.bedgraph-unMeth.bed-paCDS <==\r\n",
      "scaffold6_cov64\t826\t828\r\n",
      "scaffold6_cov64\t1539\t1541\r\n",
      "scaffold6_cov64\t2097\t2099\r\n",
      "scaffold6_cov64\t2179\t2181\r\n",
      "scaffold6_cov64\t2253\t2255\r\n",
      "scaffold6_cov64\t4793\t4795\r\n",
      "scaffold6_cov64\t5581\t5583\r\n",
      "scaffold6_cov64\t5583\t5585\r\n",
      "scaffold6_cov64\t5592\t5594\r\n",
      "scaffold6_cov64\t5594\t5596\r\n",
      "\r\n",
      "==> Pact_union_5x-averages-WGBS.bedgraph.bed-paCDS <==\r\n",
      "scaffold6_cov64\t826\t828\r\n",
      "scaffold6_cov64\t1539\t1541\r\n",
      "scaffold6_cov64\t2097\t2099\r\n",
      "scaffold6_cov64\t2179\t2181\r\n",
      "scaffold6_cov64\t2253\t2255\r\n",
      "scaffold6_cov64\t4793\t4795\r\n",
      "scaffold6_cov64\t5581\t5583\r\n",
      "scaffold6_cov64\t5583\t5585\r\n",
      "scaffold6_cov64\t5592\t5594\r\n",
      "scaffold6_cov64\t5594\t5596\r\n"
     ]
    }
   ],
   "source": [
    "#Check output\n",
    "!head *paCDS"
   ]
  },
  {
   "cell_type": "code",
   "execution_count": 47,
   "metadata": {
    "collapsed": false
   },
   "outputs": [
    {
     "name": "stdout",
     "output_type": "stream",
     "text": [
      "  200688 Pact_union_5x-averages-MBDBS.bedgraph-Meth.bed-paCDS\n",
      "  165073 Pact_union_5x-averages-MBDBS.bedgraph-sparseMeth.bed-paCDS\n",
      " 1209545 Pact_union_5x-averages-MBDBS.bedgraph-unMeth.bed-paCDS\n",
      " 1575306 Pact_union_5x-averages-MBDBS.bedgraph.bed-paCDS\n",
      "   15427 Pact_union_5x-averages-RRBS.bedgraph-Meth.bed-paCDS\n",
      "   43226 Pact_union_5x-averages-RRBS.bedgraph-sparseMeth.bed-paCDS\n",
      "  676526 Pact_union_5x-averages-RRBS.bedgraph-unMeth.bed-paCDS\n",
      "  735179 Pact_union_5x-averages-RRBS.bedgraph.bed-paCDS\n",
      "   57154 Pact_union_5x-averages-WGBS.bedgraph-Meth.bed-paCDS\n",
      "   50536 Pact_union_5x-averages-WGBS.bedgraph-sparseMeth.bed-paCDS\n",
      " 1300474 Pact_union_5x-averages-WGBS.bedgraph-unMeth.bed-paCDS\n",
      " 1408164 Pact_union_5x-averages-WGBS.bedgraph.bed-paCDS\n",
      " 7437298 total\n"
     ]
    }
   ],
   "source": [
    "#Count number of overlaps\n",
    "!wc -l *paCDS"
   ]
  },
  {
   "cell_type": "code",
   "execution_count": 48,
   "metadata": {
    "collapsed": true
   },
   "outputs": [],
   "source": [
    "!wc -l *paCDS > Pact_union_5x-paCDS-counts.txt"
   ]
  },
  {
   "cell_type": "markdown",
   "metadata": {},
   "source": [
    "#### 3d. Introns"
   ]
  },
  {
   "cell_type": "code",
   "execution_count": 49,
   "metadata": {
    "collapsed": true,
    "scrolled": true
   },
   "outputs": [],
   "source": [
    "%%bash\n",
    "\n",
    "for f in *bed\n",
    "do\n",
    "  /usr/local/bin/intersectBed \\\n",
    "  -u \\\n",
    "  -a ${f} \\\n",
    "  -b ../../../genome-feature-files/Pact.GFFannotation.Intron.gff \\\n",
    "  > ${f}-paIntron\n",
    "done"
   ]
  },
  {
   "cell_type": "code",
   "execution_count": 50,
   "metadata": {
    "collapsed": false
   },
   "outputs": [
    {
     "name": "stdout",
     "output_type": "stream",
     "text": [
      "==> Pact_union_5x-averages-MBDBS.bedgraph-Meth.bed-paIntron <==\r\n",
      "scaffold7_cov100\t5986\t5988\r\n",
      "scaffold7_cov100\t7201\t7203\r\n",
      "scaffold7_cov100\t7438\t7440\r\n",
      "scaffold7_cov100\t7796\t7798\r\n",
      "scaffold7_cov100\t7891\t7893\r\n",
      "scaffold7_cov100\t10414\t10416\r\n",
      "scaffold7_cov100\t13385\t13387\r\n",
      "scaffold7_cov100\t13450\t13452\r\n",
      "scaffold7_cov100\t18941\t18943\r\n",
      "scaffold7_cov100\t19095\t19097\r\n",
      "\r\n",
      "==> Pact_union_5x-averages-MBDBS.bedgraph-sparseMeth.bed-paIntron <==\r\n",
      "scaffold6_cov64\t4146\t4148\r\n",
      "scaffold6_cov64\t5904\t5906\r\n",
      "scaffold7_cov100\t3956\t3958\r\n",
      "scaffold7_cov100\t5578\t5580\r\n",
      "scaffold7_cov100\t11439\t11441\r\n",
      "scaffold7_cov100\t35655\t35657\r\n",
      "scaffold7_cov100\t35661\t35663\r\n",
      "scaffold7_cov100\t36634\t36636\r\n",
      "scaffold7_cov100\t43825\t43827\r\n",
      "scaffold7_cov100\t43840\t43842\r\n",
      "\r\n",
      "==> Pact_union_5x-averages-MBDBS.bedgraph-unMeth.bed-paIntron <==\r\n",
      "scaffold6_cov64\t290\t292\r\n",
      "scaffold6_cov64\t298\t300\r\n",
      "scaffold6_cov64\t489\t491\r\n",
      "scaffold6_cov64\t2805\t2807\r\n",
      "scaffold6_cov64\t2872\t2874\r\n",
      "scaffold6_cov64\t2876\t2878\r\n",
      "scaffold6_cov64\t3198\t3200\r\n",
      "scaffold6_cov64\t3343\t3345\r\n",
      "scaffold6_cov64\t3397\t3399\r\n",
      "scaffold6_cov64\t3412\t3414\r\n",
      "\r\n",
      "==> Pact_union_5x-averages-MBDBS.bedgraph.bed-paIntron <==\r\n",
      "scaffold6_cov64\t290\t292\r\n",
      "scaffold6_cov64\t298\t300\r\n",
      "scaffold6_cov64\t489\t491\r\n",
      "scaffold6_cov64\t2805\t2807\r\n",
      "scaffold6_cov64\t2872\t2874\r\n",
      "scaffold6_cov64\t2876\t2878\r\n",
      "scaffold6_cov64\t3198\t3200\r\n",
      "scaffold6_cov64\t3343\t3345\r\n",
      "scaffold6_cov64\t3397\t3399\r\n",
      "scaffold6_cov64\t3412\t3414\r\n",
      "\r\n",
      "==> Pact_union_5x-averages-RRBS.bedgraph-Meth.bed-paIntron <==\r\n",
      "scaffold7_cov100\t201089\t201091\r\n",
      "scaffold7_cov100\t201104\t201106\r\n",
      "scaffold7_cov100\t201111\t201113\r\n",
      "scaffold7_cov100\t201124\t201126\r\n",
      "scaffold7_cov100\t213138\t213140\r\n",
      "scaffold7_cov100\t393508\t393510\r\n",
      "scaffold7_cov100\t393563\t393565\r\n",
      "scaffold7_cov100\t394699\t394701\r\n",
      "scaffold7_cov100\t403487\t403489\r\n",
      "scaffold7_cov100\t496950\t496952\r\n",
      "\r\n",
      "==> Pact_union_5x-averages-RRBS.bedgraph-sparseMeth.bed-paIntron <==\r\n",
      "scaffold6_cov64\t2676\t2678\r\n",
      "scaffold6_cov64\t4553\t4555\r\n",
      "scaffold6_cov64\t5904\t5906\r\n",
      "scaffold6_cov64\t6374\t6376\r\n",
      "scaffold7_cov100\t4351\t4353\r\n",
      "scaffold7_cov100\t36600\t36602\r\n",
      "scaffold7_cov100\t46898\t46900\r\n",
      "scaffold7_cov100\t47010\t47012\r\n",
      "scaffold7_cov100\t55614\t55616\r\n",
      "scaffold7_cov100\t82523\t82525\r\n",
      "\r\n",
      "==> Pact_union_5x-averages-RRBS.bedgraph-unMeth.bed-paIntron <==\r\n",
      "scaffold6_cov64\t2536\t2538\r\n",
      "scaffold6_cov64\t2584\t2586\r\n",
      "scaffold6_cov64\t2682\t2684\r\n",
      "scaffold6_cov64\t4588\t4590\r\n",
      "scaffold6_cov64\t5101\t5103\r\n",
      "scaffold6_cov64\t5309\t5311\r\n",
      "scaffold6_cov64\t5456\t5458\r\n",
      "scaffold6_cov64\t5486\t5488\r\n",
      "scaffold6_cov64\t5545\t5547\r\n",
      "scaffold6_cov64\t5559\t5561\r\n",
      "\r\n",
      "==> Pact_union_5x-averages-RRBS.bedgraph.bed-paIntron <==\r\n",
      "scaffold6_cov64\t2536\t2538\r\n",
      "scaffold6_cov64\t2584\t2586\r\n",
      "scaffold6_cov64\t2676\t2678\r\n",
      "scaffold6_cov64\t2682\t2684\r\n",
      "scaffold6_cov64\t4553\t4555\r\n",
      "scaffold6_cov64\t4588\t4590\r\n",
      "scaffold6_cov64\t5101\t5103\r\n",
      "scaffold6_cov64\t5309\t5311\r\n",
      "scaffold6_cov64\t5456\t5458\r\n",
      "scaffold6_cov64\t5486\t5488\r\n",
      "\r\n",
      "==> Pact_union_5x-averages-WGBS.bedgraph-Meth.bed-paIntron <==\r\n",
      "scaffold7_cov100\t5986\t5988\r\n",
      "scaffold7_cov100\t7438\t7440\r\n",
      "scaffold7_cov100\t7796\t7798\r\n",
      "scaffold7_cov100\t7891\t7893\r\n",
      "scaffold7_cov100\t10414\t10416\r\n",
      "scaffold7_cov100\t13385\t13387\r\n",
      "scaffold7_cov100\t13450\t13452\r\n",
      "scaffold7_cov100\t18941\t18943\r\n",
      "scaffold7_cov100\t19095\t19097\r\n",
      "scaffold7_cov100\t20228\t20230\r\n",
      "\r\n",
      "==> Pact_union_5x-averages-WGBS.bedgraph-sparseMeth.bed-paIntron <==\r\n",
      "scaffold7_cov100\t4305\t4307\r\n",
      "scaffold7_cov100\t4351\t4353\r\n",
      "scaffold7_cov100\t5578\t5580\r\n",
      "scaffold7_cov100\t7121\t7123\r\n",
      "scaffold7_cov100\t7201\t7203\r\n",
      "scaffold7_cov100\t11439\t11441\r\n",
      "scaffold7_cov100\t22257\t22259\r\n",
      "scaffold7_cov100\t23298\t23300\r\n",
      "scaffold7_cov100\t36413\t36415\r\n",
      "scaffold7_cov100\t45100\t45102\r\n",
      "\r\n",
      "==> Pact_union_5x-averages-WGBS.bedgraph-unMeth.bed-paIntron <==\r\n",
      "scaffold6_cov64\t167\t169\r\n",
      "scaffold6_cov64\t290\t292\r\n",
      "scaffold6_cov64\t298\t300\r\n",
      "scaffold6_cov64\t489\t491\r\n",
      "scaffold6_cov64\t1725\t1727\r\n",
      "scaffold6_cov64\t2386\t2388\r\n",
      "scaffold6_cov64\t2440\t2442\r\n",
      "scaffold6_cov64\t2488\t2490\r\n",
      "scaffold6_cov64\t2536\t2538\r\n",
      "scaffold6_cov64\t2584\t2586\r\n",
      "\r\n",
      "==> Pact_union_5x-averages-WGBS.bedgraph.bed-paIntron <==\r\n",
      "scaffold6_cov64\t167\t169\r\n",
      "scaffold6_cov64\t290\t292\r\n",
      "scaffold6_cov64\t298\t300\r\n",
      "scaffold6_cov64\t489\t491\r\n",
      "scaffold6_cov64\t1725\t1727\r\n",
      "scaffold6_cov64\t2386\t2388\r\n",
      "scaffold6_cov64\t2440\t2442\r\n",
      "scaffold6_cov64\t2488\t2490\r\n",
      "scaffold6_cov64\t2536\t2538\r\n",
      "scaffold6_cov64\t2584\t2586\r\n"
     ]
    }
   ],
   "source": [
    "#Check output\n",
    "!head *paIntron"
   ]
  },
  {
   "cell_type": "code",
   "execution_count": 51,
   "metadata": {
    "collapsed": false,
    "scrolled": true
   },
   "outputs": [
    {
     "name": "stdout",
     "output_type": "stream",
     "text": [
      "  130904 Pact_union_5x-averages-MBDBS.bedgraph-Meth.bed-paIntron\n",
      "  123293 Pact_union_5x-averages-MBDBS.bedgraph-sparseMeth.bed-paIntron\n",
      "  935497 Pact_union_5x-averages-MBDBS.bedgraph-unMeth.bed-paIntron\n",
      " 1189694 Pact_union_5x-averages-MBDBS.bedgraph.bed-paIntron\n",
      "   13535 Pact_union_5x-averages-RRBS.bedgraph-Meth.bed-paIntron\n",
      "   42572 Pact_union_5x-averages-RRBS.bedgraph-sparseMeth.bed-paIntron\n",
      "  688533 Pact_union_5x-averages-RRBS.bedgraph-unMeth.bed-paIntron\n",
      "  744640 Pact_union_5x-averages-RRBS.bedgraph.bed-paIntron\n",
      "   44757 Pact_union_5x-averages-WGBS.bedgraph-Meth.bed-paIntron\n",
      "   69941 Pact_union_5x-averages-WGBS.bedgraph-sparseMeth.bed-paIntron\n",
      " 1694853 Pact_union_5x-averages-WGBS.bedgraph-unMeth.bed-paIntron\n",
      " 1809551 Pact_union_5x-averages-WGBS.bedgraph.bed-paIntron\n",
      " 7487770 total\n"
     ]
    }
   ],
   "source": [
    "#Count number of overlaps\n",
    "!wc -l *paIntron"
   ]
  },
  {
   "cell_type": "code",
   "execution_count": 52,
   "metadata": {
    "collapsed": true
   },
   "outputs": [],
   "source": [
    "!wc -l *paIntron > Pact_union_5x-paIntron-counts.txt"
   ]
  },
  {
   "cell_type": "markdown",
   "metadata": {},
   "source": [
    "#### 3e. Flanking regions"
   ]
  },
  {
   "cell_type": "code",
   "execution_count": 53,
   "metadata": {
    "collapsed": true,
    "scrolled": true
   },
   "outputs": [],
   "source": [
    "%%bash\n",
    "\n",
    "for f in *bed\n",
    "do\n",
    "  /usr/local/bin/intersectBed \\\n",
    "  -u \\\n",
    "  -a ${f} \\\n",
    "  -b ../../../genome-feature-files/Pact.GFFannotation.flanks.gff \\\n",
    "  > ${f}-paFlanks\n",
    "done"
   ]
  },
  {
   "cell_type": "code",
   "execution_count": 54,
   "metadata": {
    "collapsed": false
   },
   "outputs": [
    {
     "name": "stdout",
     "output_type": "stream",
     "text": [
      "==> Pact_union_5x-averages-MBDBS.bedgraph-Meth.bed-paFlanks <==\r\n",
      "scaffold7_cov100\t6231\t6233\r\n",
      "scaffold7_cov100\t6233\t6235\r\n",
      "scaffold7_cov100\t11815\t11817\r\n",
      "scaffold7_cov100\t12652\t12654\r\n",
      "scaffold7_cov100\t12662\t12664\r\n",
      "scaffold7_cov100\t12675\t12677\r\n",
      "scaffold7_cov100\t12683\t12685\r\n",
      "scaffold7_cov100\t12704\t12706\r\n",
      "scaffold7_cov100\t12726\t12728\r\n",
      "scaffold7_cov100\t12737\t12739\r\n",
      "\r\n",
      "==> Pact_union_5x-averages-MBDBS.bedgraph-sparseMeth.bed-paFlanks <==\r\n",
      "scaffold6_cov64\t6880\t6882\r\n",
      "scaffold7_cov100\t12131\t12133\r\n",
      "scaffold7_cov100\t12247\t12249\r\n",
      "scaffold7_cov100\t12861\t12863\r\n",
      "scaffold7_cov100\t15597\t15599\r\n",
      "scaffold7_cov100\t15614\t15616\r\n",
      "scaffold7_cov100\t15630\t15632\r\n",
      "scaffold7_cov100\t24443\t24445\r\n",
      "scaffold7_cov100\t24617\t24619\r\n",
      "scaffold7_cov100\t24969\t24971\r\n",
      "\r\n",
      "==> Pact_union_5x-averages-MBDBS.bedgraph-unMeth.bed-paFlanks <==\r\n",
      "scaffold6_cov64\t5797\t5799\r\n",
      "scaffold6_cov64\t5800\t5802\r\n",
      "scaffold6_cov64\t6751\t6753\r\n",
      "scaffold6_cov64\t6805\t6807\r\n",
      "scaffold6_cov64\t6813\t6815\r\n",
      "scaffold6_cov64\t6862\t6864\r\n",
      "scaffold6_cov64\t6885\t6887\r\n",
      "scaffold6_cov64\t6909\t6911\r\n",
      "scaffold6_cov64\t6943\t6945\r\n",
      "scaffold6_cov64\t6991\t6993\r\n",
      "\r\n",
      "==> Pact_union_5x-averages-MBDBS.bedgraph.bed-paFlanks <==\r\n",
      "scaffold6_cov64\t5797\t5799\r\n",
      "scaffold6_cov64\t5800\t5802\r\n",
      "scaffold6_cov64\t6751\t6753\r\n",
      "scaffold6_cov64\t6805\t6807\r\n",
      "scaffold6_cov64\t6813\t6815\r\n",
      "scaffold6_cov64\t6862\t6864\r\n",
      "scaffold6_cov64\t6880\t6882\r\n",
      "scaffold6_cov64\t6885\t6887\r\n",
      "scaffold6_cov64\t6909\t6911\r\n",
      "scaffold6_cov64\t6943\t6945\r\n",
      "\r\n",
      "==> Pact_union_5x-averages-RRBS.bedgraph-Meth.bed-paFlanks <==\r\n",
      "scaffold7_cov100\t24454\t24456\r\n",
      "scaffold7_cov100\t24494\t24496\r\n",
      "scaffold7_cov100\t24509\t24511\r\n",
      "scaffold7_cov100\t24557\t24559\r\n",
      "scaffold7_cov100\t40896\t40898\r\n",
      "scaffold7_cov100\t92029\t92031\r\n",
      "scaffold7_cov100\t151631\t151633\r\n",
      "scaffold7_cov100\t281501\t281503\r\n",
      "scaffold7_cov100\t342219\t342221\r\n",
      "scaffold7_cov100\t373659\t373661\r\n",
      "\r\n",
      "==> Pact_union_5x-averages-RRBS.bedgraph-sparseMeth.bed-paFlanks <==\r\n",
      "scaffold6_cov64\t7373\t7375\r\n",
      "scaffold7_cov100\t24443\t24445\r\n",
      "scaffold7_cov100\t28086\t28088\r\n",
      "scaffold7_cov100\t37936\t37938\r\n",
      "scaffold7_cov100\t40234\t40236\r\n",
      "scaffold7_cov100\t40236\t40238\r\n",
      "scaffold7_cov100\t40816\t40818\r\n",
      "scaffold7_cov100\t40898\t40900\r\n",
      "scaffold7_cov100\t40917\t40919\r\n",
      "scaffold7_cov100\t40936\t40938\r\n",
      "\r\n",
      "==> Pact_union_5x-averages-RRBS.bedgraph-unMeth.bed-paFlanks <==\r\n",
      "scaffold6_cov64\t5797\t5799\r\n",
      "scaffold6_cov64\t5800\t5802\r\n",
      "scaffold6_cov64\t6687\t6689\r\n",
      "scaffold6_cov64\t6690\t6692\r\n",
      "scaffold6_cov64\t6704\t6706\r\n",
      "scaffold6_cov64\t6732\t6734\r\n",
      "scaffold6_cov64\t6751\t6753\r\n",
      "scaffold6_cov64\t6805\t6807\r\n",
      "scaffold6_cov64\t6813\t6815\r\n",
      "scaffold6_cov64\t6862\t6864\r\n",
      "\r\n",
      "==> Pact_union_5x-averages-RRBS.bedgraph.bed-paFlanks <==\r\n",
      "scaffold6_cov64\t5797\t5799\r\n",
      "scaffold6_cov64\t5800\t5802\r\n",
      "scaffold6_cov64\t6687\t6689\r\n",
      "scaffold6_cov64\t6690\t6692\r\n",
      "scaffold6_cov64\t6704\t6706\r\n",
      "scaffold6_cov64\t6732\t6734\r\n",
      "scaffold6_cov64\t6751\t6753\r\n",
      "scaffold6_cov64\t6805\t6807\r\n",
      "scaffold6_cov64\t6813\t6815\r\n",
      "scaffold6_cov64\t6862\t6864\r\n",
      "\r\n",
      "==> Pact_union_5x-averages-WGBS.bedgraph-Meth.bed-paFlanks <==\r\n",
      "scaffold7_cov100\t6231\t6233\r\n",
      "scaffold7_cov100\t6233\t6235\r\n",
      "scaffold7_cov100\t11815\t11817\r\n",
      "scaffold7_cov100\t13275\t13277\r\n",
      "scaffold7_cov100\t19284\t19286\r\n",
      "scaffold7_cov100\t19296\t19298\r\n",
      "scaffold7_cov100\t24401\t24403\r\n",
      "scaffold7_cov100\t24454\t24456\r\n",
      "scaffold7_cov100\t24509\t24511\r\n",
      "scaffold7_cov100\t24895\t24897\r\n",
      "\r\n",
      "==> Pact_union_5x-averages-WGBS.bedgraph-sparseMeth.bed-paFlanks <==\r\n",
      "scaffold7_cov100\t12131\t12133\r\n",
      "scaffold7_cov100\t12247\t12249\r\n",
      "scaffold7_cov100\t15597\t15599\r\n",
      "scaffold7_cov100\t18520\t18522\r\n",
      "scaffold7_cov100\t24443\t24445\r\n",
      "scaffold7_cov100\t24494\t24496\r\n",
      "scaffold7_cov100\t24557\t24559\r\n",
      "scaffold7_cov100\t24614\t24616\r\n",
      "scaffold7_cov100\t24617\t24619\r\n",
      "scaffold7_cov100\t24769\t24771\r\n",
      "\r\n",
      "==> Pact_union_5x-averages-WGBS.bedgraph-unMeth.bed-paFlanks <==\r\n",
      "scaffold6_cov64\t5797\t5799\r\n",
      "scaffold6_cov64\t5800\t5802\r\n",
      "scaffold6_cov64\t6690\t6692\r\n",
      "scaffold6_cov64\t6704\t6706\r\n",
      "scaffold6_cov64\t6732\t6734\r\n",
      "scaffold6_cov64\t6751\t6753\r\n",
      "scaffold6_cov64\t6805\t6807\r\n",
      "scaffold6_cov64\t6813\t6815\r\n",
      "scaffold6_cov64\t6862\t6864\r\n",
      "scaffold6_cov64\t6880\t6882\r\n",
      "\r\n",
      "==> Pact_union_5x-averages-WGBS.bedgraph.bed-paFlanks <==\r\n",
      "scaffold6_cov64\t5797\t5799\r\n",
      "scaffold6_cov64\t5800\t5802\r\n",
      "scaffold6_cov64\t6690\t6692\r\n",
      "scaffold6_cov64\t6704\t6706\r\n",
      "scaffold6_cov64\t6732\t6734\r\n",
      "scaffold6_cov64\t6751\t6753\r\n",
      "scaffold6_cov64\t6805\t6807\r\n",
      "scaffold6_cov64\t6813\t6815\r\n",
      "scaffold6_cov64\t6862\t6864\r\n",
      "scaffold6_cov64\t6880\t6882\r\n"
     ]
    }
   ],
   "source": [
    "#Check output\n",
    "!head *paFlanks"
   ]
  },
  {
   "cell_type": "code",
   "execution_count": 55,
   "metadata": {
    "collapsed": false,
    "scrolled": true
   },
   "outputs": [
    {
     "name": "stdout",
     "output_type": "stream",
     "text": [
      "  116700 Pact_union_5x-averages-MBDBS.bedgraph-Meth.bed-paFlanks\n",
      "  121769 Pact_union_5x-averages-MBDBS.bedgraph-sparseMeth.bed-paFlanks\n",
      "  805964 Pact_union_5x-averages-MBDBS.bedgraph-unMeth.bed-paFlanks\n",
      " 1044433 Pact_union_5x-averages-MBDBS.bedgraph.bed-paFlanks\n",
      "   11990 Pact_union_5x-averages-RRBS.bedgraph-Meth.bed-paFlanks\n",
      "   40163 Pact_union_5x-averages-RRBS.bedgraph-sparseMeth.bed-paFlanks\n",
      "  646364 Pact_union_5x-averages-RRBS.bedgraph-unMeth.bed-paFlanks\n",
      "  698517 Pact_union_5x-averages-RRBS.bedgraph.bed-paFlanks\n",
      "   27106 Pact_union_5x-averages-WGBS.bedgraph-Meth.bed-paFlanks\n",
      "   57568 Pact_union_5x-averages-WGBS.bedgraph-sparseMeth.bed-paFlanks\n",
      " 1438851 Pact_union_5x-averages-WGBS.bedgraph-unMeth.bed-paFlanks\n",
      " 1523525 Pact_union_5x-averages-WGBS.bedgraph.bed-paFlanks\n",
      " 6532950 total\n"
     ]
    }
   ],
   "source": [
    "#Count number of overlaps\n",
    "!wc -l *paFlanks"
   ]
  },
  {
   "cell_type": "code",
   "execution_count": 56,
   "metadata": {
    "collapsed": true
   },
   "outputs": [],
   "source": [
    "!wc -l *paFlanks > Pact_union_5x-paFlanks-counts.txt"
   ]
  },
  {
   "cell_type": "markdown",
   "metadata": {},
   "source": [
    "#### 3f. Upstream flanking regions"
   ]
  },
  {
   "cell_type": "code",
   "execution_count": 57,
   "metadata": {
    "collapsed": true,
    "scrolled": true
   },
   "outputs": [],
   "source": [
    "%%bash\n",
    "\n",
    "for f in *bed\n",
    "do\n",
    "  /usr/local/bin/intersectBed \\\n",
    "  -u \\\n",
    "  -a ${f} \\\n",
    "  -b ../../../genome-feature-files/Pact.GFFannotation.flanks.Upstream.gff \\\n",
    "  > ${f}-paFlanksUpstream\n",
    "done"
   ]
  },
  {
   "cell_type": "code",
   "execution_count": 58,
   "metadata": {
    "collapsed": false
   },
   "outputs": [
    {
     "name": "stdout",
     "output_type": "stream",
     "text": [
      "==> Pact_union_5x-averages-MBDBS.bedgraph-Meth.bed-paFlanksUpstream <==\r\n",
      "scaffold7_cov100\t6231\t6233\r\n",
      "scaffold7_cov100\t6233\t6235\r\n",
      "scaffold7_cov100\t11815\t11817\r\n",
      "scaffold7_cov100\t12652\t12654\r\n",
      "scaffold7_cov100\t12662\t12664\r\n",
      "scaffold7_cov100\t18520\t18522\r\n",
      "scaffold7_cov100\t19284\t19286\r\n",
      "scaffold7_cov100\t19296\t19298\r\n",
      "scaffold7_cov100\t77986\t77988\r\n",
      "scaffold7_cov100\t77988\t77990\r\n",
      "\r\n",
      "==> Pact_union_5x-averages-MBDBS.bedgraph-sparseMeth.bed-paFlanksUpstream <==\r\n",
      "scaffold7_cov100\t12131\t12133\r\n",
      "scaffold7_cov100\t12247\t12249\r\n",
      "scaffold7_cov100\t15597\t15599\r\n",
      "scaffold7_cov100\t15614\t15616\r\n",
      "scaffold7_cov100\t15630\t15632\r\n",
      "scaffold7_cov100\t38477\t38479\r\n",
      "scaffold7_cov100\t41092\t41094\r\n",
      "scaffold7_cov100\t49521\t49523\r\n",
      "scaffold7_cov100\t73493\t73495\r\n",
      "scaffold7_cov100\t78244\t78246\r\n",
      "\r\n",
      "==> Pact_union_5x-averages-MBDBS.bedgraph-unMeth.bed-paFlanksUpstream <==\r\n",
      "scaffold6_cov64\t5797\t5799\r\n",
      "scaffold6_cov64\t5800\t5802\r\n",
      "scaffold7_cov100\t6764\t6766\r\n",
      "scaffold7_cov100\t6913\t6915\r\n",
      "scaffold7_cov100\t12587\t12589\r\n",
      "scaffold7_cov100\t15549\t15551\r\n",
      "scaffold7_cov100\t15569\t15571\r\n",
      "scaffold7_cov100\t15609\t15611\r\n",
      "scaffold7_cov100\t15622\t15624\r\n",
      "scaffold7_cov100\t15638\t15640\r\n",
      "\r\n",
      "==> Pact_union_5x-averages-MBDBS.bedgraph.bed-paFlanksUpstream <==\r\n",
      "scaffold6_cov64\t5797\t5799\r\n",
      "scaffold6_cov64\t5800\t5802\r\n",
      "scaffold7_cov100\t6231\t6233\r\n",
      "scaffold7_cov100\t6233\t6235\r\n",
      "scaffold7_cov100\t6764\t6766\r\n",
      "scaffold7_cov100\t6913\t6915\r\n",
      "scaffold7_cov100\t11815\t11817\r\n",
      "scaffold7_cov100\t12131\t12133\r\n",
      "scaffold7_cov100\t12247\t12249\r\n",
      "scaffold7_cov100\t12587\t12589\r\n",
      "\r\n",
      "==> Pact_union_5x-averages-RRBS.bedgraph-Meth.bed-paFlanksUpstream <==\r\n",
      "scaffold7_cov100\t40896\t40898\r\n",
      "scaffold7_cov100\t92029\t92031\r\n",
      "scaffold7_cov100\t151631\t151633\r\n",
      "scaffold7_cov100\t281501\t281503\r\n",
      "scaffold7_cov100\t342219\t342221\r\n",
      "scaffold19_cov103\t94546\t94548\r\n",
      "scaffold19_cov103\t148422\t148424\r\n",
      "scaffold20_cov103\t69200\t69202\r\n",
      "scaffold20_cov103\t86601\t86603\r\n",
      "scaffold21_cov102\t5653\t5655\r\n",
      "\r\n",
      "==> Pact_union_5x-averages-RRBS.bedgraph-sparseMeth.bed-paFlanksUpstream <==\r\n",
      "scaffold7_cov100\t37936\t37938\r\n",
      "scaffold7_cov100\t40234\t40236\r\n",
      "scaffold7_cov100\t40236\t40238\r\n",
      "scaffold7_cov100\t40816\t40818\r\n",
      "scaffold7_cov100\t40898\t40900\r\n",
      "scaffold7_cov100\t40917\t40919\r\n",
      "scaffold7_cov100\t40936\t40938\r\n",
      "scaffold7_cov100\t49302\t49304\r\n",
      "scaffold7_cov100\t49331\t49333\r\n",
      "scaffold7_cov100\t49341\t49343\r\n",
      "\r\n",
      "==> Pact_union_5x-averages-RRBS.bedgraph-unMeth.bed-paFlanksUpstream <==\r\n",
      "scaffold6_cov64\t5797\t5799\r\n",
      "scaffold6_cov64\t5800\t5802\r\n",
      "scaffold7_cov100\t6764\t6766\r\n",
      "scaffold7_cov100\t15668\t15670\r\n",
      "scaffold7_cov100\t15670\t15672\r\n",
      "scaffold7_cov100\t15715\t15717\r\n",
      "scaffold7_cov100\t15724\t15726\r\n",
      "scaffold7_cov100\t15732\t15734\r\n",
      "scaffold7_cov100\t15735\t15737\r\n",
      "scaffold7_cov100\t30584\t30586\r\n",
      "\r\n",
      "==> Pact_union_5x-averages-RRBS.bedgraph.bed-paFlanksUpstream <==\r\n",
      "scaffold6_cov64\t5797\t5799\r\n",
      "scaffold6_cov64\t5800\t5802\r\n",
      "scaffold7_cov100\t6764\t6766\r\n",
      "scaffold7_cov100\t15668\t15670\r\n",
      "scaffold7_cov100\t15670\t15672\r\n",
      "scaffold7_cov100\t15715\t15717\r\n",
      "scaffold7_cov100\t15724\t15726\r\n",
      "scaffold7_cov100\t15732\t15734\r\n",
      "scaffold7_cov100\t15735\t15737\r\n",
      "scaffold7_cov100\t30584\t30586\r\n",
      "\r\n",
      "==> Pact_union_5x-averages-WGBS.bedgraph-Meth.bed-paFlanksUpstream <==\r\n",
      "scaffold7_cov100\t6231\t6233\r\n",
      "scaffold7_cov100\t6233\t6235\r\n",
      "scaffold7_cov100\t11815\t11817\r\n",
      "scaffold7_cov100\t19284\t19286\r\n",
      "scaffold7_cov100\t19296\t19298\r\n",
      "scaffold7_cov100\t77986\t77988\r\n",
      "scaffold7_cov100\t77988\t77990\r\n",
      "scaffold7_cov100\t78473\t78475\r\n",
      "scaffold7_cov100\t99087\t99089\r\n",
      "scaffold7_cov100\t101651\t101653\r\n",
      "\r\n",
      "==> Pact_union_5x-averages-WGBS.bedgraph-sparseMeth.bed-paFlanksUpstream <==\r\n",
      "scaffold7_cov100\t12131\t12133\r\n",
      "scaffold7_cov100\t12247\t12249\r\n",
      "scaffold7_cov100\t15597\t15599\r\n",
      "scaffold7_cov100\t18520\t18522\r\n",
      "scaffold7_cov100\t38701\t38703\r\n",
      "scaffold7_cov100\t68081\t68083\r\n",
      "scaffold7_cov100\t79910\t79912\r\n",
      "scaffold7_cov100\t80016\t80018\r\n",
      "scaffold7_cov100\t92051\t92053\r\n",
      "scaffold7_cov100\t92060\t92062\r\n",
      "\r\n",
      "==> Pact_union_5x-averages-WGBS.bedgraph-unMeth.bed-paFlanksUpstream <==\r\n",
      "scaffold6_cov64\t5797\t5799\r\n",
      "scaffold6_cov64\t5800\t5802\r\n",
      "scaffold7_cov100\t6764\t6766\r\n",
      "scaffold7_cov100\t6913\t6915\r\n",
      "scaffold7_cov100\t12587\t12589\r\n",
      "scaffold7_cov100\t15549\t15551\r\n",
      "scaffold7_cov100\t15569\t15571\r\n",
      "scaffold7_cov100\t15609\t15611\r\n",
      "scaffold7_cov100\t15614\t15616\r\n",
      "scaffold7_cov100\t15622\t15624\r\n",
      "\r\n",
      "==> Pact_union_5x-averages-WGBS.bedgraph.bed-paFlanksUpstream <==\r\n",
      "scaffold6_cov64\t5797\t5799\r\n",
      "scaffold6_cov64\t5800\t5802\r\n",
      "scaffold7_cov100\t6231\t6233\r\n",
      "scaffold7_cov100\t6233\t6235\r\n",
      "scaffold7_cov100\t6764\t6766\r\n",
      "scaffold7_cov100\t6913\t6915\r\n",
      "scaffold7_cov100\t11815\t11817\r\n",
      "scaffold7_cov100\t12131\t12133\r\n",
      "scaffold7_cov100\t12247\t12249\r\n",
      "scaffold7_cov100\t12587\t12589\r\n"
     ]
    }
   ],
   "source": [
    "#Check output\n",
    "!head *paFlanksUpstream"
   ]
  },
  {
   "cell_type": "code",
   "execution_count": 59,
   "metadata": {
    "collapsed": false,
    "scrolled": true
   },
   "outputs": [
    {
     "name": "stdout",
     "output_type": "stream",
     "text": [
      "   70985 Pact_union_5x-averages-MBDBS.bedgraph-Meth.bed-paFlanksUpstream\n",
      "   76373 Pact_union_5x-averages-MBDBS.bedgraph-sparseMeth.bed-paFlanksUpstream\n",
      "  515522 Pact_union_5x-averages-MBDBS.bedgraph-unMeth.bed-paFlanksUpstream\n",
      "  662880 Pact_union_5x-averages-MBDBS.bedgraph.bed-paFlanksUpstream\n",
      "    7390 Pact_union_5x-averages-RRBS.bedgraph-Meth.bed-paFlanksUpstream\n",
      "   25148 Pact_union_5x-averages-RRBS.bedgraph-sparseMeth.bed-paFlanksUpstream\n",
      "  415601 Pact_union_5x-averages-RRBS.bedgraph-unMeth.bed-paFlanksUpstream\n",
      "  448139 Pact_union_5x-averages-RRBS.bedgraph.bed-paFlanksUpstream\n",
      "   15908 Pact_union_5x-averages-WGBS.bedgraph-Meth.bed-paFlanksUpstream\n",
      "   33921 Pact_union_5x-averages-WGBS.bedgraph-sparseMeth.bed-paFlanksUpstream\n",
      "  881679 Pact_union_5x-averages-WGBS.bedgraph-unMeth.bed-paFlanksUpstream\n",
      "  931508 Pact_union_5x-averages-WGBS.bedgraph.bed-paFlanksUpstream\n",
      " 4085054 total\n"
     ]
    }
   ],
   "source": [
    "#Count number of overlaps\n",
    "!wc -l *paFlanksUpstream"
   ]
  },
  {
   "cell_type": "code",
   "execution_count": 60,
   "metadata": {
    "collapsed": true
   },
   "outputs": [],
   "source": [
    "!wc -l *paFlanksUpstream > Pact_union_5x-paFlanksUpstream-counts.txt"
   ]
  },
  {
   "cell_type": "markdown",
   "metadata": {},
   "source": [
    "#### 3g. Downstream flanking regions"
   ]
  },
  {
   "cell_type": "code",
   "execution_count": 61,
   "metadata": {
    "collapsed": true,
    "scrolled": true
   },
   "outputs": [],
   "source": [
    "%%bash\n",
    "\n",
    "for f in *bed\n",
    "do\n",
    "  /usr/local/bin/intersectBed \\\n",
    "  -u \\\n",
    "  -a ${f} \\\n",
    "  -b ../../../genome-feature-files/Pact.GFFannotation.flanks.Downstream.gff \\\n",
    "  > ${f}-paFlanksDownstream\n",
    "done"
   ]
  },
  {
   "cell_type": "code",
   "execution_count": 62,
   "metadata": {
    "collapsed": false
   },
   "outputs": [
    {
     "name": "stdout",
     "output_type": "stream",
     "text": [
      "==> Pact_union_5x-averages-MBDBS.bedgraph-Meth.bed-paFlanksDownstream <==\r\n",
      "scaffold7_cov100\t6231\t6233\r\n",
      "scaffold7_cov100\t6233\t6235\r\n",
      "scaffold7_cov100\t12652\t12654\r\n",
      "scaffold7_cov100\t12662\t12664\r\n",
      "scaffold7_cov100\t12675\t12677\r\n",
      "scaffold7_cov100\t12683\t12685\r\n",
      "scaffold7_cov100\t12704\t12706\r\n",
      "scaffold7_cov100\t12726\t12728\r\n",
      "scaffold7_cov100\t12737\t12739\r\n",
      "scaffold7_cov100\t12806\t12808\r\n",
      "\r\n",
      "==> Pact_union_5x-averages-MBDBS.bedgraph-sparseMeth.bed-paFlanksDownstream <==\r\n",
      "scaffold6_cov64\t6880\t6882\r\n",
      "scaffold7_cov100\t12861\t12863\r\n",
      "scaffold7_cov100\t24443\t24445\r\n",
      "scaffold7_cov100\t24617\t24619\r\n",
      "scaffold7_cov100\t24969\t24971\r\n",
      "scaffold7_cov100\t74997\t74999\r\n",
      "scaffold7_cov100\t78244\t78246\r\n",
      "scaffold7_cov100\t91999\t92001\r\n",
      "scaffold7_cov100\t92019\t92021\r\n",
      "scaffold7_cov100\t92029\t92031\r\n",
      "\r\n",
      "==> Pact_union_5x-averages-MBDBS.bedgraph-unMeth.bed-paFlanksDownstream <==\r\n",
      "scaffold6_cov64\t6751\t6753\r\n",
      "scaffold6_cov64\t6805\t6807\r\n",
      "scaffold6_cov64\t6813\t6815\r\n",
      "scaffold6_cov64\t6862\t6864\r\n",
      "scaffold6_cov64\t6885\t6887\r\n",
      "scaffold6_cov64\t6909\t6911\r\n",
      "scaffold6_cov64\t6943\t6945\r\n",
      "scaffold6_cov64\t6991\t6993\r\n",
      "scaffold6_cov64\t7011\t7013\r\n",
      "scaffold6_cov64\t7072\t7074\r\n",
      "\r\n",
      "==> Pact_union_5x-averages-MBDBS.bedgraph.bed-paFlanksDownstream <==\r\n",
      "scaffold6_cov64\t6751\t6753\r\n",
      "scaffold6_cov64\t6805\t6807\r\n",
      "scaffold6_cov64\t6813\t6815\r\n",
      "scaffold6_cov64\t6862\t6864\r\n",
      "scaffold6_cov64\t6880\t6882\r\n",
      "scaffold6_cov64\t6885\t6887\r\n",
      "scaffold6_cov64\t6909\t6911\r\n",
      "scaffold6_cov64\t6943\t6945\r\n",
      "scaffold6_cov64\t6991\t6993\r\n",
      "scaffold6_cov64\t7011\t7013\r\n",
      "\r\n",
      "==> Pact_union_5x-averages-RRBS.bedgraph-Meth.bed-paFlanksDownstream <==\r\n",
      "scaffold7_cov100\t24454\t24456\r\n",
      "scaffold7_cov100\t24494\t24496\r\n",
      "scaffold7_cov100\t24509\t24511\r\n",
      "scaffold7_cov100\t24557\t24559\r\n",
      "scaffold7_cov100\t92029\t92031\r\n",
      "scaffold7_cov100\t281501\t281503\r\n",
      "scaffold7_cov100\t373659\t373661\r\n",
      "scaffold7_cov100\t443190\t443192\r\n",
      "scaffold7_cov100\t443210\t443212\r\n",
      "scaffold7_cov100\t450123\t450125\r\n",
      "\r\n",
      "==> Pact_union_5x-averages-RRBS.bedgraph-sparseMeth.bed-paFlanksDownstream <==\r\n",
      "scaffold6_cov64\t7373\t7375\r\n",
      "scaffold7_cov100\t24443\t24445\r\n",
      "scaffold7_cov100\t28086\t28088\r\n",
      "scaffold7_cov100\t64192\t64194\r\n",
      "scaffold7_cov100\t64288\t64290\r\n",
      "scaffold7_cov100\t64290\t64292\r\n",
      "scaffold7_cov100\t116515\t116517\r\n",
      "scaffold7_cov100\t131309\t131311\r\n",
      "scaffold7_cov100\t131326\t131328\r\n",
      "scaffold7_cov100\t169073\t169075\r\n",
      "\r\n",
      "==> Pact_union_5x-averages-RRBS.bedgraph-unMeth.bed-paFlanksDownstream <==\r\n",
      "scaffold6_cov64\t6687\t6689\r\n",
      "scaffold6_cov64\t6690\t6692\r\n",
      "scaffold6_cov64\t6704\t6706\r\n",
      "scaffold6_cov64\t6732\t6734\r\n",
      "scaffold6_cov64\t6751\t6753\r\n",
      "scaffold6_cov64\t6805\t6807\r\n",
      "scaffold6_cov64\t6813\t6815\r\n",
      "scaffold6_cov64\t6862\t6864\r\n",
      "scaffold6_cov64\t6880\t6882\r\n",
      "scaffold6_cov64\t6885\t6887\r\n",
      "\r\n",
      "==> Pact_union_5x-averages-RRBS.bedgraph.bed-paFlanksDownstream <==\r\n",
      "scaffold6_cov64\t6687\t6689\r\n",
      "scaffold6_cov64\t6690\t6692\r\n",
      "scaffold6_cov64\t6704\t6706\r\n",
      "scaffold6_cov64\t6732\t6734\r\n",
      "scaffold6_cov64\t6751\t6753\r\n",
      "scaffold6_cov64\t6805\t6807\r\n",
      "scaffold6_cov64\t6813\t6815\r\n",
      "scaffold6_cov64\t6862\t6864\r\n",
      "scaffold6_cov64\t6880\t6882\r\n",
      "scaffold6_cov64\t6885\t6887\r\n",
      "\r\n",
      "==> Pact_union_5x-averages-WGBS.bedgraph-Meth.bed-paFlanksDownstream <==\r\n",
      "scaffold7_cov100\t6231\t6233\r\n",
      "scaffold7_cov100\t6233\t6235\r\n",
      "scaffold7_cov100\t13275\t13277\r\n",
      "scaffold7_cov100\t19284\t19286\r\n",
      "scaffold7_cov100\t19296\t19298\r\n",
      "scaffold7_cov100\t24401\t24403\r\n",
      "scaffold7_cov100\t24454\t24456\r\n",
      "scaffold7_cov100\t24509\t24511\r\n",
      "scaffold7_cov100\t24895\t24897\r\n",
      "scaffold7_cov100\t24941\t24943\r\n",
      "\r\n",
      "==> Pact_union_5x-averages-WGBS.bedgraph-sparseMeth.bed-paFlanksDownstream <==\r\n",
      "scaffold7_cov100\t18520\t18522\r\n",
      "scaffold7_cov100\t24443\t24445\r\n",
      "scaffold7_cov100\t24494\t24496\r\n",
      "scaffold7_cov100\t24557\t24559\r\n",
      "scaffold7_cov100\t24614\t24616\r\n",
      "scaffold7_cov100\t24617\t24619\r\n",
      "scaffold7_cov100\t24769\t24771\r\n",
      "scaffold7_cov100\t24830\t24832\r\n",
      "scaffold7_cov100\t24969\t24971\r\n",
      "scaffold7_cov100\t25157\t25159\r\n",
      "\r\n",
      "==> Pact_union_5x-averages-WGBS.bedgraph-unMeth.bed-paFlanksDownstream <==\r\n",
      "scaffold6_cov64\t6690\t6692\r\n",
      "scaffold6_cov64\t6704\t6706\r\n",
      "scaffold6_cov64\t6732\t6734\r\n",
      "scaffold6_cov64\t6751\t6753\r\n",
      "scaffold6_cov64\t6805\t6807\r\n",
      "scaffold6_cov64\t6813\t6815\r\n",
      "scaffold6_cov64\t6862\t6864\r\n",
      "scaffold6_cov64\t6880\t6882\r\n",
      "scaffold6_cov64\t6885\t6887\r\n",
      "scaffold6_cov64\t6909\t6911\r\n",
      "\r\n",
      "==> Pact_union_5x-averages-WGBS.bedgraph.bed-paFlanksDownstream <==\r\n",
      "scaffold6_cov64\t6690\t6692\r\n",
      "scaffold6_cov64\t6704\t6706\r\n",
      "scaffold6_cov64\t6732\t6734\r\n",
      "scaffold6_cov64\t6751\t6753\r\n",
      "scaffold6_cov64\t6805\t6807\r\n",
      "scaffold6_cov64\t6813\t6815\r\n",
      "scaffold6_cov64\t6862\t6864\r\n",
      "scaffold6_cov64\t6880\t6882\r\n",
      "scaffold6_cov64\t6885\t6887\r\n",
      "scaffold6_cov64\t6909\t6911\r\n"
     ]
    }
   ],
   "source": [
    "#Check output\n",
    "!head *paFlanksDownstream"
   ]
  },
  {
   "cell_type": "code",
   "execution_count": 63,
   "metadata": {
    "collapsed": false,
    "scrolled": true
   },
   "outputs": [
    {
     "name": "stdout",
     "output_type": "stream",
     "text": [
      "   78103 Pact_union_5x-averages-MBDBS.bedgraph-Meth.bed-paFlanksDownstream\n",
      "   71684 Pact_union_5x-averages-MBDBS.bedgraph-sparseMeth.bed-paFlanksDownstream\n",
      "  416647 Pact_union_5x-averages-MBDBS.bedgraph-unMeth.bed-paFlanksDownstream\n",
      "  566434 Pact_union_5x-averages-MBDBS.bedgraph.bed-paFlanksDownstream\n",
      "    6897 Pact_union_5x-averages-RRBS.bedgraph-Meth.bed-paFlanksDownstream\n",
      "   21410 Pact_union_5x-averages-RRBS.bedgraph-sparseMeth.bed-paFlanksDownstream\n",
      "  329980 Pact_union_5x-averages-RRBS.bedgraph-unMeth.bed-paFlanksDownstream\n",
      "  358287 Pact_union_5x-averages-RRBS.bedgraph.bed-paFlanksDownstream\n",
      "   18803 Pact_union_5x-averages-WGBS.bedgraph-Meth.bed-paFlanksDownstream\n",
      "   35085 Pact_union_5x-averages-WGBS.bedgraph-sparseMeth.bed-paFlanksDownstream\n",
      "  767316 Pact_union_5x-averages-WGBS.bedgraph-unMeth.bed-paFlanksDownstream\n",
      "  821204 Pact_union_5x-averages-WGBS.bedgraph.bed-paFlanksDownstream\n",
      " 3491850 total\n"
     ]
    }
   ],
   "source": [
    "#Count number of overlaps\n",
    "!wc -l *paFlanksDownstream"
   ]
  },
  {
   "cell_type": "code",
   "execution_count": 64,
   "metadata": {
    "collapsed": true
   },
   "outputs": [],
   "source": [
    "!wc -l *paFlanksDownstream > Pact_union_5x-paFlanksDownstream-counts.txt"
   ]
  },
  {
   "cell_type": "markdown",
   "metadata": {},
   "source": [
    "#### 3h. Intergenic"
   ]
  },
  {
   "cell_type": "code",
   "execution_count": 65,
   "metadata": {
    "collapsed": true
   },
   "outputs": [],
   "source": [
    "%%bash \n",
    "\n",
    "for f in *bed\n",
    "do\n",
    "  /usr/local/bin/intersectBed \\\n",
    "  -u \\\n",
    "  -a ${f} \\\n",
    "  -b ../../../genome-feature-files/Pact.GFFannotation.intergenic.bed \\\n",
    "  > ${f}-paIntergenic\n",
    "done"
   ]
  },
  {
   "cell_type": "code",
   "execution_count": 66,
   "metadata": {
    "collapsed": false
   },
   "outputs": [
    {
     "name": "stdout",
     "output_type": "stream",
     "text": [
      "==> Pact_union_5x-averages-MBDBS.bedgraph-Meth.bed-paIntergenic <==\r\n",
      "scaffold3_cov83\t475\t477\r\n",
      "scaffold3_cov83\t504\t506\r\n",
      "scaffold7_cov100\t216293\t216295\r\n",
      "scaffold7_cov100\t230584\t230586\r\n",
      "scaffold7_cov100\t267363\t267365\r\n",
      "scaffold7_cov100\t273435\t273437\r\n",
      "scaffold7_cov100\t304579\t304581\r\n",
      "scaffold7_cov100\t304583\t304585\r\n",
      "scaffold7_cov100\t304590\t304592\r\n",
      "scaffold7_cov100\t304601\t304603\r\n",
      "\r\n",
      "==> Pact_union_5x-averages-MBDBS.bedgraph-sparseMeth.bed-paIntergenic <==\r\n",
      "scaffold3_cov83\t118\t120\r\n",
      "scaffold3_cov83\t130\t132\r\n",
      "scaffold3_cov83\t137\t139\r\n",
      "scaffold3_cov83\t189\t191\r\n",
      "scaffold3_cov83\t208\t210\r\n",
      "scaffold3_cov83\t261\t263\r\n",
      "scaffold3_cov83\t484\t486\r\n",
      "scaffold7_cov100\t84244\t84246\r\n",
      "scaffold7_cov100\t84631\t84633\r\n",
      "scaffold7_cov100\t84874\t84876\r\n",
      "\r\n",
      "==> Pact_union_5x-averages-MBDBS.bedgraph-unMeth.bed-paIntergenic <==\r\n",
      "scaffold2_cov51\t649\t651\r\n",
      "scaffold2_cov51\t686\t688\r\n",
      "scaffold2_cov51\t778\t780\r\n",
      "scaffold3_cov83\t243\t245\r\n",
      "scaffold6_cov64\t7687\t7689\r\n",
      "scaffold6_cov64\t7693\t7695\r\n",
      "scaffold6_cov64\t7698\t7700\r\n",
      "scaffold6_cov64\t7701\t7703\r\n",
      "scaffold6_cov64\t7703\t7705\r\n",
      "scaffold6_cov64\t7789\t7791\r\n",
      "\r\n",
      "==> Pact_union_5x-averages-MBDBS.bedgraph.bed-paIntergenic <==\r\n",
      "scaffold2_cov51\t649\t651\r\n",
      "scaffold2_cov51\t686\t688\r\n",
      "scaffold2_cov51\t778\t780\r\n",
      "scaffold3_cov83\t118\t120\r\n",
      "scaffold3_cov83\t130\t132\r\n",
      "scaffold3_cov83\t137\t139\r\n",
      "scaffold3_cov83\t189\t191\r\n",
      "scaffold3_cov83\t208\t210\r\n",
      "scaffold3_cov83\t243\t245\r\n",
      "scaffold3_cov83\t261\t263\r\n",
      "\r\n",
      "==> Pact_union_5x-averages-RRBS.bedgraph-Meth.bed-paIntergenic <==\r\n",
      "scaffold7_cov100\t84631\t84633\r\n",
      "scaffold7_cov100\t165090\t165092\r\n",
      "scaffold7_cov100\t165239\t165241\r\n",
      "scaffold7_cov100\t223257\t223259\r\n",
      "scaffold7_cov100\t223265\t223267\r\n",
      "scaffold7_cov100\t223270\t223272\r\n",
      "scaffold7_cov100\t223753\t223755\r\n",
      "scaffold7_cov100\t228104\t228106\r\n",
      "scaffold7_cov100\t233612\t233614\r\n",
      "scaffold7_cov100\t255876\t255878\r\n",
      "\r\n",
      "==> Pact_union_5x-averages-RRBS.bedgraph-sparseMeth.bed-paIntergenic <==\r\n",
      "scaffold7_cov100\t39104\t39106\r\n",
      "scaffold7_cov100\t39113\t39115\r\n",
      "scaffold7_cov100\t39169\t39171\r\n",
      "scaffold7_cov100\t39178\t39180\r\n",
      "scaffold7_cov100\t39192\t39194\r\n",
      "scaffold7_cov100\t39365\t39367\r\n",
      "scaffold7_cov100\t39367\t39369\r\n",
      "scaffold7_cov100\t40132\t40134\r\n",
      "scaffold7_cov100\t86732\t86734\r\n",
      "scaffold7_cov100\t86745\t86747\r\n",
      "\r\n",
      "==> Pact_union_5x-averages-RRBS.bedgraph-unMeth.bed-paIntergenic <==\r\n",
      "scaffold6_cov64\t7952\t7954\r\n",
      "scaffold6_cov64\t7983\t7985\r\n",
      "scaffold6_cov64\t8041\t8043\r\n",
      "scaffold6_cov64\t8056\t8058\r\n",
      "scaffold6_cov64\t8070\t8072\r\n",
      "scaffold6_cov64\t8079\t8081\r\n",
      "scaffold7_cov100\t26273\t26275\r\n",
      "scaffold7_cov100\t27357\t27359\r\n",
      "scaffold7_cov100\t27380\t27382\r\n",
      "scaffold7_cov100\t27385\t27387\r\n",
      "\r\n",
      "==> Pact_union_5x-averages-RRBS.bedgraph.bed-paIntergenic <==\r\n",
      "scaffold6_cov64\t7952\t7954\r\n",
      "scaffold6_cov64\t7983\t7985\r\n",
      "scaffold6_cov64\t8041\t8043\r\n",
      "scaffold6_cov64\t8056\t8058\r\n",
      "scaffold6_cov64\t8070\t8072\r\n",
      "scaffold6_cov64\t8079\t8081\r\n",
      "scaffold7_cov100\t26273\t26275\r\n",
      "scaffold7_cov100\t27357\t27359\r\n",
      "scaffold7_cov100\t27380\t27382\r\n",
      "scaffold7_cov100\t27385\t27387\r\n",
      "\r\n",
      "==> Pact_union_5x-averages-WGBS.bedgraph-Meth.bed-paIntergenic <==\r\n",
      "scaffold7_cov100\t230214\t230216\r\n",
      "scaffold7_cov100\t230584\t230586\r\n",
      "scaffold7_cov100\t273435\t273437\r\n",
      "scaffold7_cov100\t326521\t326523\r\n",
      "scaffold7_cov100\t371129\t371131\r\n",
      "scaffold7_cov100\t372118\t372120\r\n",
      "scaffold7_cov100\t508171\t508173\r\n",
      "scaffold19_cov103\t23991\t23993\r\n",
      "scaffold19_cov103\t24166\t24168\r\n",
      "scaffold19_cov103\t90735\t90737\r\n",
      "\r\n",
      "==> Pact_union_5x-averages-WGBS.bedgraph-sparseMeth.bed-paIntergenic <==\r\n",
      "scaffold1_cov55\t252\t254\r\n",
      "scaffold2_cov51\t686\t688\r\n",
      "scaffold3_cov83\t475\t477\r\n",
      "scaffold3_cov83\t504\t506\r\n",
      "scaffold7_cov100\t26915\t26917\r\n",
      "scaffold7_cov100\t39381\t39383\r\n",
      "scaffold7_cov100\t84872\t84874\r\n",
      "scaffold7_cov100\t86493\t86495\r\n",
      "scaffold7_cov100\t164534\t164536\r\n",
      "scaffold7_cov100\t167730\t167732\r\n",
      "\r\n",
      "==> Pact_union_5x-averages-WGBS.bedgraph-unMeth.bed-paIntergenic <==\r\n",
      "scaffold1_cov55\t49\t51\r\n",
      "scaffold1_cov55\t84\t86\r\n",
      "scaffold1_cov55\t92\t94\r\n",
      "scaffold1_cov55\t102\t104\r\n",
      "scaffold1_cov55\t105\t107\r\n",
      "scaffold1_cov55\t116\t118\r\n",
      "scaffold1_cov55\t119\t121\r\n",
      "scaffold1_cov55\t146\t148\r\n",
      "scaffold1_cov55\t169\t171\r\n",
      "scaffold1_cov55\t186\t188\r\n",
      "\r\n",
      "==> Pact_union_5x-averages-WGBS.bedgraph.bed-paIntergenic <==\r\n",
      "scaffold1_cov55\t49\t51\r\n",
      "scaffold1_cov55\t84\t86\r\n",
      "scaffold1_cov55\t92\t94\r\n",
      "scaffold1_cov55\t102\t104\r\n",
      "scaffold1_cov55\t105\t107\r\n",
      "scaffold1_cov55\t116\t118\r\n",
      "scaffold1_cov55\t119\t121\r\n",
      "scaffold1_cov55\t146\t148\r\n",
      "scaffold1_cov55\t169\t171\r\n",
      "scaffold1_cov55\t186\t188\r\n"
     ]
    }
   ],
   "source": [
    "#Check output\n",
    "!head *paIntergenic"
   ]
  },
  {
   "cell_type": "code",
   "execution_count": 67,
   "metadata": {
    "collapsed": false,
    "scrolled": false
   },
   "outputs": [
    {
     "name": "stdout",
     "output_type": "stream",
     "text": [
      "  280338 Pact_union_5x-averages-MBDBS.bedgraph-Meth.bed-paIntergenic\n",
      "  304903 Pact_union_5x-averages-MBDBS.bedgraph-sparseMeth.bed-paIntergenic\n",
      " 1528019 Pact_union_5x-averages-MBDBS.bedgraph-unMeth.bed-paIntergenic\n",
      " 2113260 Pact_union_5x-averages-MBDBS.bedgraph.bed-paIntergenic\n",
      "   26043 Pact_union_5x-averages-RRBS.bedgraph-Meth.bed-paIntergenic\n",
      "   85523 Pact_union_5x-averages-RRBS.bedgraph-sparseMeth.bed-paIntergenic\n",
      " 1226877 Pact_union_5x-averages-RRBS.bedgraph-unMeth.bed-paIntergenic\n",
      " 1338443 Pact_union_5x-averages-RRBS.bedgraph.bed-paIntergenic\n",
      "   26172 Pact_union_5x-averages-WGBS.bedgraph-Meth.bed-paIntergenic\n",
      "  134445 Pact_union_5x-averages-WGBS.bedgraph-sparseMeth.bed-paIntergenic\n",
      " 2782628 Pact_union_5x-averages-WGBS.bedgraph-unMeth.bed-paIntergenic\n",
      " 2943245 Pact_union_5x-averages-WGBS.bedgraph.bed-paIntergenic\n",
      " 12789896 total\n"
     ]
    }
   ],
   "source": [
    "#Count number of overlaps\n",
    "!wc -l *paIntergenic"
   ]
  },
  {
   "cell_type": "code",
   "execution_count": 68,
   "metadata": {
    "collapsed": true
   },
   "outputs": [],
   "source": [
    "!wc -l *paIntergenic > Pact_union_5x-paIntergenic-counts.txt"
   ]
  },
  {
   "cell_type": "code",
   "execution_count": null,
   "metadata": {
    "collapsed": true
   },
   "outputs": [],
   "source": []
  },
  {
   "cell_type": "code",
   "execution_count": null,
   "metadata": {
    "collapsed": true
   },
   "outputs": [],
   "source": []
  }
 ],
 "metadata": {
  "anaconda-cloud": {},
  "kernelspec": {
   "display_name": "Python [default]",
   "language": "python",
   "name": "python3"
  },
  "language_info": {
   "codemirror_mode": {
    "name": "ipython",
    "version": 3
   },
   "file_extension": ".py",
   "mimetype": "text/x-python",
   "name": "python",
   "nbconvert_exporter": "python",
   "pygments_lexer": "ipython3",
   "version": "3.5.2"
  }
 },
 "nbformat": 4,
 "nbformat_minor": 2
}
