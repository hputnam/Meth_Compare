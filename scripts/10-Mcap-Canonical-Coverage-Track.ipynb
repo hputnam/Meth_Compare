{
 "cells": [
  {
   "cell_type": "markdown",
   "metadata": {},
   "source": [
    "Here we want to take all 9 5x bedgraphs for a genome and develop a bed file that represent total coverage. "
   ]
  },
  {
   "cell_type": "code",
   "execution_count": 1,
   "metadata": {
    "ExecuteTime": {
     "end_time": "2020-04-01T21:10:23.102823Z",
     "start_time": "2020-04-01T21:10:23.028262Z"
    }
   },
   "outputs": [
    {
     "name": "stdout",
     "output_type": "stream",
     "text": [
      "/Users/sr320/Documents/GitHub/Meth_Compare/data\n"
     ]
    }
   ],
   "source": [
    "cd ../data/\n"
   ]
  },
  {
   "cell_type": "code",
   "execution_count": 3,
   "metadata": {
    "ExecuteTime": {
     "end_time": "2020-04-01T21:10:54.173901Z",
     "start_time": "2020-04-01T21:10:53.904631Z"
    }
   },
   "outputs": [],
   "source": [
    "!rm Meth*"
   ]
  },
  {
   "cell_type": "code",
   "execution_count": 4,
   "metadata": {
    "ExecuteTime": {
     "end_time": "2020-04-01T21:12:01.582626Z",
     "start_time": "2020-04-01T21:12:01.440737Z"
    }
   },
   "outputs": [],
   "source": [
    "ls"
   ]
  },
  {
   "cell_type": "code",
   "execution_count": null,
   "metadata": {
    "ExecuteTime": {
     "start_time": "2020-04-01T21:12:05.335Z"
    },
    "scrolled": false
   },
   "outputs": [
    {
     "name": "stdout",
     "output_type": "stream",
     "text": [
      "--2020-04-01 14:12:05--  https://gannet.fish.washington.edu/seashell/bu-mox/scrubbed/031520-TG-bs/Mcap_tg/dedup/\n",
      "Resolving gannet.fish.washington.edu (gannet.fish.washington.edu)... 128.95.149.52\n",
      "Connecting to gannet.fish.washington.edu (gannet.fish.washington.edu)|128.95.149.52|:443... connected.\n",
      "HTTP request sent, awaiting response... 200 OK\n",
      "Length: unspecified [text/html]\n",
      "Saving to: ‘./index.html.tmp’\n",
      "\n",
      "index.html.tmp          [ <=>                ]  42.27K  --.-KB/s    in 0.06s   \n",
      "\n",
      "2020-04-01 14:12:07 (729 KB/s) - ‘./index.html.tmp’ saved [43285]\n",
      "\n",
      "Loading robots.txt; please ignore errors.\n",
      "--2020-04-01 14:12:07--  https://gannet.fish.washington.edu/robots.txt\n",
      "Reusing existing connection to gannet.fish.washington.edu:443.\n",
      "HTTP request sent, awaiting response... 404 Not Found\n",
      "2020-04-01 14:12:07 ERROR 404: Not Found.\n",
      "\n",
      "Removing ./index.html.tmp since it should be rejected.\n",
      "\n",
      "--2020-04-01 14:12:07--  https://gannet.fish.washington.edu/seashell/bu-mox/scrubbed/031520-TG-bs/Mcap_tg/dedup/?C=N;O=D\n",
      "Reusing existing connection to gannet.fish.washington.edu:443.\n",
      "HTTP request sent, awaiting response... 200 OK\n",
      "Length: unspecified [text/html]\n",
      "Saving to: ‘./index.html?C=N;O=D.tmp’\n",
      "\n",
      "index.html?C=N;O=D.     [ <=>                ]  42.27K  --.-KB/s    in 0.04s   \n",
      "\n",
      "2020-04-01 14:12:08 (1.02 MB/s) - ‘./index.html?C=N;O=D.tmp’ saved [43285]\n",
      "\n",
      "Removing ./index.html?C=N;O=D.tmp since it should be rejected.\n",
      "\n",
      "--2020-04-01 14:12:08--  https://gannet.fish.washington.edu/seashell/bu-mox/scrubbed/031520-TG-bs/Mcap_tg/dedup/?C=M;O=A\n",
      "Reusing existing connection to gannet.fish.washington.edu:443.\n",
      "HTTP request sent, awaiting response... 200 OK\n",
      "Length: unspecified [text/html]\n",
      "Saving to: ‘./index.html?C=M;O=A.tmp’\n",
      "\n",
      "index.html?C=M;O=A.     [ <=>                ]  42.27K  --.-KB/s    in 0.04s   \n",
      "\n",
      "2020-04-01 14:12:09 (968 KB/s) - ‘./index.html?C=M;O=A.tmp’ saved [43285]\n",
      "\n",
      "Removing ./index.html?C=M;O=A.tmp since it should be rejected.\n",
      "\n",
      "--2020-04-01 14:12:09--  https://gannet.fish.washington.edu/seashell/bu-mox/scrubbed/031520-TG-bs/Mcap_tg/dedup/?C=S;O=A\n",
      "Reusing existing connection to gannet.fish.washington.edu:443.\n",
      "HTTP request sent, awaiting response... 200 OK\n",
      "Length: unspecified [text/html]\n",
      "Saving to: ‘./index.html?C=S;O=A.tmp’\n",
      "\n",
      "index.html?C=S;O=A.     [ <=>                ]  42.27K  --.-KB/s    in 0.04s   \n",
      "\n",
      "2020-04-01 14:12:10 (1.04 MB/s) - ‘./index.html?C=S;O=A.tmp’ saved [43285]\n",
      "\n",
      "Removing ./index.html?C=S;O=A.tmp since it should be rejected.\n",
      "\n",
      "--2020-04-01 14:12:10--  https://gannet.fish.washington.edu/seashell/bu-mox/scrubbed/031520-TG-bs/Mcap_tg/dedup/?C=D;O=A\n",
      "Reusing existing connection to gannet.fish.washington.edu:443.\n",
      "HTTP request sent, awaiting response... 200 OK\n",
      "Length: unspecified [text/html]\n",
      "Saving to: ‘./index.html?C=D;O=A.tmp’\n",
      "\n",
      "index.html?C=D;O=A.     [ <=>                ]  42.27K  --.-KB/s    in 0.04s   \n",
      "\n",
      "2020-04-01 14:12:11 (947 KB/s) - ‘./index.html?C=D;O=A.tmp’ saved [43285]\n",
      "\n",
      "Removing ./index.html?C=D;O=A.tmp since it should be rejected.\n",
      "\n",
      "--2020-04-01 14:12:11--  https://gannet.fish.washington.edu/seashell/bu-mox/scrubbed/031520-TG-bs/Mcap_tg/dedup/Meth10_R1_001_val_1_bismark_bt2_pe._5x.bedgraph\n",
      "Reusing existing connection to gannet.fish.washington.edu:443.\n",
      "HTTP request sent, awaiting response... 200 OK\n",
      "Length: 123101388 (117M)\n",
      "Saving to: ‘./Meth10_R1_001_val_1_bismark_bt2_pe._5x.bedgraph’\n",
      "\n",
      "Meth10_R1_001_val_1 100%[===================>] 117.40M  6.75MB/s    in 15s     \n",
      "\n",
      "2020-04-01 14:12:26 (7.95 MB/s) - ‘./Meth10_R1_001_val_1_bismark_bt2_pe._5x.bedgraph’ saved [123101388/123101388]\n",
      "\n",
      "--2020-04-01 14:12:26--  https://gannet.fish.washington.edu/seashell/bu-mox/scrubbed/031520-TG-bs/Mcap_tg/dedup/Meth11_R1_001_val_1_bismark_bt2_pe._5x.bedgraph\n",
      "Reusing existing connection to gannet.fish.washington.edu:443.\n",
      "HTTP request sent, awaiting response... 200 OK\n",
      "Length: 125607408 (120M)\n",
      "Saving to: ‘./Meth11_R1_001_val_1_bismark_bt2_pe._5x.bedgraph’\n",
      "\n",
      "1_R1_001_val_1_bism  13%[=>                  ]  16.09M  5.24MB/s    eta 20s    "
     ]
    }
   ],
   "source": [
    "!wget -r \\\n",
    "--no-directories --no-parent --reject \"index.html*\" \\\n",
    "-P . \\\n",
    "-A 5x.bedgraph https://gannet.fish.washington.edu/seashell/bu-mox/scrubbed/031520-TG-bs/Mcap_tg/dedup/\n"
   ]
  },
  {
   "cell_type": "code",
   "execution_count": 10,
   "metadata": {
    "ExecuteTime": {
     "end_time": "2020-03-28T11:46:43.277182Z",
     "start_time": "2020-03-28T11:44:57.695828Z"
    }
   },
   "outputs": [
    {
     "name": "stdout",
     "output_type": "stream",
     "text": [
      "--2020-03-28 04:44:57--  https://gannet.fish.washington.edu/seashell/bu-mox/scrubbed/031520-TG-bs/Mcap_tg/nodedup/\n",
      "Resolving gannet.fish.washington.edu (gannet.fish.washington.edu)... 128.95.149.52\n",
      "Connecting to gannet.fish.washington.edu (gannet.fish.washington.edu)|128.95.149.52|:443... connected.\n",
      "HTTP request sent, awaiting response... 200 OK\n",
      "Length: unspecified [text/html]\n",
      "Saving to: ‘./index.html.tmp’\n",
      "\n",
      "index.html.tmp          [ <=>                ]  19.31K  --.-KB/s    in 0.03s   \n",
      "\n",
      "2020-03-28 04:44:58 (700 KB/s) - ‘./index.html.tmp’ saved [19778]\n",
      "\n",
      "Loading robots.txt; please ignore errors.\n",
      "--2020-03-28 04:44:58--  https://gannet.fish.washington.edu/robots.txt\n",
      "Reusing existing connection to gannet.fish.washington.edu:443.\n",
      "HTTP request sent, awaiting response... 404 Not Found\n",
      "2020-03-28 04:44:58 ERROR 404: Not Found.\n",
      "\n",
      "Removing ./index.html.tmp since it should be rejected.\n",
      "\n",
      "--2020-03-28 04:44:58--  https://gannet.fish.washington.edu/seashell/bu-mox/scrubbed/031520-TG-bs/Mcap_tg/nodedup/?C=N;O=D\n",
      "Reusing existing connection to gannet.fish.washington.edu:443.\n",
      "HTTP request sent, awaiting response... 200 OK\n",
      "Length: unspecified [text/html]\n",
      "Saving to: ‘./index.html?C=N;O=D.tmp’\n",
      "\n",
      "index.html?C=N;O=D.     [ <=>                ]  19.31K  --.-KB/s    in 0.02s   \n",
      "\n",
      "2020-03-28 04:44:59 (839 KB/s) - ‘./index.html?C=N;O=D.tmp’ saved [19778]\n",
      "\n",
      "Removing ./index.html?C=N;O=D.tmp since it should be rejected.\n",
      "\n",
      "--2020-03-28 04:44:59--  https://gannet.fish.washington.edu/seashell/bu-mox/scrubbed/031520-TG-bs/Mcap_tg/nodedup/?C=M;O=A\n",
      "Reusing existing connection to gannet.fish.washington.edu:443.\n",
      "HTTP request sent, awaiting response... 200 OK\n",
      "Length: unspecified [text/html]\n",
      "Saving to: ‘./index.html?C=M;O=A.tmp’\n",
      "\n",
      "index.html?C=M;O=A.     [ <=>                ]  19.31K  --.-KB/s    in 0.04s   \n",
      "\n",
      "2020-03-28 04:44:59 (498 KB/s) - ‘./index.html?C=M;O=A.tmp’ saved [19778]\n",
      "\n",
      "Removing ./index.html?C=M;O=A.tmp since it should be rejected.\n",
      "\n",
      "--2020-03-28 04:44:59--  https://gannet.fish.washington.edu/seashell/bu-mox/scrubbed/031520-TG-bs/Mcap_tg/nodedup/?C=S;O=A\n",
      "Reusing existing connection to gannet.fish.washington.edu:443.\n",
      "HTTP request sent, awaiting response... 200 OK\n",
      "Length: unspecified [text/html]\n",
      "Saving to: ‘./index.html?C=S;O=A.tmp’\n",
      "\n",
      "index.html?C=S;O=A.     [ <=>                ]  19.31K  --.-KB/s    in 0.003s  \n",
      "\n",
      "2020-03-28 04:44:59 (6.09 MB/s) - ‘./index.html?C=S;O=A.tmp’ saved [19778]\n",
      "\n",
      "Removing ./index.html?C=S;O=A.tmp since it should be rejected.\n",
      "\n",
      "--2020-03-28 04:44:59--  https://gannet.fish.washington.edu/seashell/bu-mox/scrubbed/031520-TG-bs/Mcap_tg/nodedup/?C=D;O=A\n",
      "Reusing existing connection to gannet.fish.washington.edu:443.\n",
      "HTTP request sent, awaiting response... 200 OK\n",
      "Length: unspecified [text/html]\n",
      "Saving to: ‘./index.html?C=D;O=A.tmp’\n",
      "\n",
      "index.html?C=D;O=A.     [ <=>                ]  19.31K  --.-KB/s    in 0.02s   \n",
      "\n",
      "2020-03-28 04:45:00 (921 KB/s) - ‘./index.html?C=D;O=A.tmp’ saved [19778]\n",
      "\n",
      "Removing ./index.html?C=D;O=A.tmp since it should be rejected.\n",
      "\n",
      "--2020-03-28 04:45:00--  https://gannet.fish.washington.edu/seashell/bu-mox/scrubbed/031520-TG-bs/Mcap_tg/nodedup/Meth13_R1_001_val_1_bismark_bt2_pe._5x.bedgraph\n",
      "Reusing existing connection to gannet.fish.washington.edu:443.\n",
      "HTTP request sent, awaiting response... 200 OK\n",
      "Length: 84952729 (81M)\n",
      "Saving to: ‘./Meth13_R1_001_val_1_bismark_bt2_pe._5x.bedgraph’\n",
      "\n",
      "Meth13_R1_001_val_1 100%[===================>]  81.02M  2.28MB/s    in 35s     \n",
      "\n",
      "2020-03-28 04:45:35 (2.30 MB/s) - ‘./Meth13_R1_001_val_1_bismark_bt2_pe._5x.bedgraph’ saved [84952729/84952729]\n",
      "\n",
      "--2020-03-28 04:45:35--  https://gannet.fish.washington.edu/seashell/bu-mox/scrubbed/031520-TG-bs/Mcap_tg/nodedup/Meth14_R1_001_val_1_bismark_bt2_pe._5x.bedgraph\n",
      "Reusing existing connection to gannet.fish.washington.edu:443.\n",
      "HTTP request sent, awaiting response... 200 OK\n",
      "Length: 70900427 (68M)\n",
      "Saving to: ‘./Meth14_R1_001_val_1_bismark_bt2_pe._5x.bedgraph’\n",
      "\n",
      "Meth14_R1_001_val_1 100%[===================>]  67.62M  2.35MB/s    in 29s     \n",
      "\n",
      "2020-03-28 04:46:05 (2.30 MB/s) - ‘./Meth14_R1_001_val_1_bismark_bt2_pe._5x.bedgraph’ saved [70900427/70900427]\n",
      "\n",
      "--2020-03-28 04:46:05--  https://gannet.fish.washington.edu/seashell/bu-mox/scrubbed/031520-TG-bs/Mcap_tg/nodedup/Meth15_R1_001_val_1_bismark_bt2_pe._5x.bedgraph\n",
      "Reusing existing connection to gannet.fish.washington.edu:443.\n",
      "HTTP request sent, awaiting response... 200 OK\n",
      "Length: 85048595 (81M)\n",
      "Saving to: ‘./Meth15_R1_001_val_1_bismark_bt2_pe._5x.bedgraph’\n",
      "\n",
      "Meth15_R1_001_val_1 100%[===================>]  81.11M  2.13MB/s    in 36s     \n",
      "\n",
      "2020-03-28 04:46:41 (2.27 MB/s) - ‘./Meth15_R1_001_val_1_bismark_bt2_pe._5x.bedgraph’ saved [85048595/85048595]\n",
      "\n",
      "--2020-03-28 04:46:41--  https://gannet.fish.washington.edu/seashell/bu-mox/scrubbed/031520-TG-bs/Mcap_tg/nodedup/?C=N;O=A\n",
      "Reusing existing connection to gannet.fish.washington.edu:443.\n",
      "HTTP request sent, awaiting response... 200 OK\n",
      "Length: unspecified [text/html]\n",
      "Saving to: ‘./index.html?C=N;O=A.tmp’\n",
      "\n",
      "index.html?C=N;O=A.     [ <=>                ]  19.31K  --.-KB/s    in 0.02s   \n",
      "\n",
      "2020-03-28 04:46:41 (1.16 MB/s) - ‘./index.html?C=N;O=A.tmp’ saved [19778]\n",
      "\n",
      "Removing ./index.html?C=N;O=A.tmp since it should be rejected.\n",
      "\n",
      "--2020-03-28 04:46:41--  https://gannet.fish.washington.edu/seashell/bu-mox/scrubbed/031520-TG-bs/Mcap_tg/nodedup/?C=M;O=D\n",
      "Reusing existing connection to gannet.fish.washington.edu:443.\n",
      "HTTP request sent, awaiting response... 200 OK\n",
      "Length: unspecified [text/html]\n",
      "Saving to: ‘./index.html?C=M;O=D.tmp’\n",
      "\n",
      "index.html?C=M;O=D.     [ <=>                ]  19.31K  --.-KB/s    in 0.03s   \n",
      "\n",
      "2020-03-28 04:46:42 (771 KB/s) - ‘./index.html?C=M;O=D.tmp’ saved [19778]\n",
      "\n",
      "Removing ./index.html?C=M;O=D.tmp since it should be rejected.\n",
      "\n",
      "--2020-03-28 04:46:42--  https://gannet.fish.washington.edu/seashell/bu-mox/scrubbed/031520-TG-bs/Mcap_tg/nodedup/?C=S;O=D\n",
      "Reusing existing connection to gannet.fish.washington.edu:443.\n",
      "HTTP request sent, awaiting response... 200 OK\n",
      "Length: unspecified [text/html]\n",
      "Saving to: ‘./index.html?C=S;O=D.tmp’\n",
      "\n",
      "index.html?C=S;O=D.     [ <=>                ]  19.31K  --.-KB/s    in 0.03s   \n",
      "\n",
      "2020-03-28 04:46:42 (635 KB/s) - ‘./index.html?C=S;O=D.tmp’ saved [19778]\n",
      "\n",
      "Removing ./index.html?C=S;O=D.tmp since it should be rejected.\n",
      "\n",
      "--2020-03-28 04:46:42--  https://gannet.fish.washington.edu/seashell/bu-mox/scrubbed/031520-TG-bs/Mcap_tg/nodedup/?C=D;O=D\n",
      "Reusing existing connection to gannet.fish.washington.edu:443.\n",
      "HTTP request sent, awaiting response... 200 OK\n",
      "Length: unspecified [text/html]\n",
      "Saving to: ‘./index.html?C=D;O=D.tmp’\n",
      "\n",
      "index.html?C=D;O=D.     [ <=>                ]  19.31K  --.-KB/s    in 0.03s   \n",
      "\n",
      "2020-03-28 04:46:43 (602 KB/s) - ‘./index.html?C=D;O=D.tmp’ saved [19778]\n",
      "\n",
      "Removing ./index.html?C=D;O=D.tmp since it should be rejected.\n",
      "\n",
      "FINISHED --2020-03-28 04:46:43--\n",
      "Total wall clock time: 1m 45s\n",
      "Downloaded: 12 files, 230M in 1m 41s (2.29 MB/s)\n"
     ]
    }
   ],
   "source": [
    "!wget -r \\\n",
    "--no-directories --no-parent \\\n",
    "-P . \\\n",
    "-A 5x.bedgraph https://gannet.fish.washington.edu/seashell/bu-mox/scrubbed/031520-TG-bs/Mcap_tg/nodedup/"
   ]
  },
  {
   "cell_type": "code",
   "execution_count": 12,
   "metadata": {
    "ExecuteTime": {
     "end_time": "2020-03-28T11:47:00.820041Z",
     "start_time": "2020-03-28T11:47:00.688255Z"
    }
   },
   "outputs": [
    {
     "name": "stdout",
     "output_type": "stream",
     "text": [
      "total 1631240\r\n",
      "-rw-r--r--  1 sr320  staff   117M Mar 25 22:43 Meth10_R1_001_val_1_bismark_bt2_pe._5x.bedgraph\r\n",
      "-rw-r--r--  1 sr320  staff   120M Mar 25 22:43 Meth11_R1_001_val_1_bismark_bt2_pe._5x.bedgraph\r\n",
      "-rw-r--r--  1 sr320  staff   226M Mar 25 22:43 Meth12_R1_001_val_1_bismark_bt2_pe._5x.bedgraph\r\n",
      "-rw-r--r--  1 sr320  staff    81M Mar 26 09:24 Meth13_R1_001_val_1_bismark_bt2_pe._5x.bedgraph\r\n",
      "-rw-r--r--  1 sr320  staff    68M Mar 26 09:24 Meth14_R1_001_val_1_bismark_bt2_pe._5x.bedgraph\r\n",
      "-rw-r--r--  1 sr320  staff    81M Mar 26 09:24 Meth15_R1_001_val_1_bismark_bt2_pe._5x.bedgraph\r\n",
      "-rw-r--r--  1 sr320  staff    15M Mar 25 22:44 Meth16_R1_001_val_1_bismark_bt2_pe._5x.bedgraph\r\n",
      "-rw-r--r--  1 sr320  staff   6.2M Mar 25 22:44 Meth17_R1_001_val_1_bismark_bt2_pe._5x.bedgraph\r\n",
      "-rw-r--r--  1 sr320  staff   4.0M Mar 25 22:44 Meth18_R1_001_val_1_bismark_bt2_pe._5x.bedgraph\r\n"
     ]
    }
   ],
   "source": [
    "!ls -lh\n"
   ]
  },
  {
   "cell_type": "code",
   "execution_count": 13,
   "metadata": {
    "ExecuteTime": {
     "end_time": "2020-03-28T11:47:21.624550Z",
     "start_time": "2020-03-28T11:47:19.843371Z"
    }
   },
   "outputs": [
    {
     "name": "stdout",
     "output_type": "stream",
     "text": [
      "MD5 (Meth10_R1_001_val_1_bismark_bt2_pe._5x.bedgraph) = 83035e7e47b8ad486de22dacc17ae8ed\n",
      "MD5 (Meth11_R1_001_val_1_bismark_bt2_pe._5x.bedgraph) = 6493359aad0b4228f65b5e563d337ceb\n",
      "MD5 (Meth12_R1_001_val_1_bismark_bt2_pe._5x.bedgraph) = b2f097299df0cb7d518d22338fdcf39f\n",
      "MD5 (Meth13_R1_001_val_1_bismark_bt2_pe._5x.bedgraph) = 2bb476cb98072f0e76bfb5c318246c38\n",
      "MD5 (Meth14_R1_001_val_1_bismark_bt2_pe._5x.bedgraph) = fc0f66cf04ffebe76d61c1db75cfed6e\n",
      "MD5 (Meth15_R1_001_val_1_bismark_bt2_pe._5x.bedgraph) = 1d7c24b238dc72cd92346213b3523611\n",
      "MD5 (Meth16_R1_001_val_1_bismark_bt2_pe._5x.bedgraph) = 04fb72d5df60656e6cec15637164fbec\n",
      "MD5 (Meth17_R1_001_val_1_bismark_bt2_pe._5x.bedgraph) = 073d1c40116a3f93f7a7022cfb4cd3d2\n",
      "MD5 (Meth18_R1_001_val_1_bismark_bt2_pe._5x.bedgraph) = a255210553db073e5458ccb523a34798\n"
     ]
    }
   ],
   "source": [
    "!md5 *"
   ]
  },
  {
   "cell_type": "markdown",
   "metadata": {},
   "source": [
    "Will use unionbed\n",
    "![pic](http://gannet.fish.washington.edu/seashell/snaps/unionbedg__bedtools_2.29.2_documentation_2020-03-28_04-39-52.png)"
   ]
  },
  {
   "cell_type": "code",
   "execution_count": 21,
   "metadata": {
    "ExecuteTime": {
     "end_time": "2020-03-28T12:00:27.004665Z",
     "start_time": "2020-03-28T11:57:50.000858Z"
    }
   },
   "outputs": [],
   "source": [
    "!/Applications/bioinfo/bedtools2/bin/bedtools \\\n",
    "unionbedg \\\n",
    "-header \\\n",
    "-filler N/A \\\n",
    "-names 10 11 12 13 14 15 16 17 18 \\\n",
    "-i \\\n",
    "Meth10_R1_001_val_1_bismark_bt2_pe._5x.bedgraph \\\n",
    "Meth11_R1_001_val_1_bismark_bt2_pe._5x.bedgraph \\\n",
    "Meth12_R1_001_val_1_bismark_bt2_pe._5x.bedgraph \\\n",
    "Meth13_R1_001_val_1_bismark_bt2_pe._5x.bedgraph \\\n",
    "Meth14_R1_001_val_1_bismark_bt2_pe._5x.bedgraph \\\n",
    "Meth15_R1_001_val_1_bismark_bt2_pe._5x.bedgraph \\\n",
    "Meth16_R1_001_val_1_bismark_bt2_pe._5x.bedgraph \\\n",
    "Meth17_R1_001_val_1_bismark_bt2_pe._5x.bedgraph \\\n",
    "Meth18_R1_001_val_1_bismark_bt2_pe._5x.bedgraph \\\n",
    "> ../analyses/10-unionbedg/Mcap_union_5x.bedgraph\n"
   ]
  },
  {
   "cell_type": "code",
   "execution_count": 22,
   "metadata": {
    "ExecuteTime": {
     "end_time": "2020-03-28T12:07:17.447564Z",
     "start_time": "2020-03-28T12:07:17.316669Z"
    }
   },
   "outputs": [
    {
     "name": "stdout",
     "output_type": "stream",
     "text": [
      "chrom\tstart\tend\t10\t11\t12\t13\t14\t15\t16\t17\t18\r\n",
      "1\t3493\t3495\tN/A\tN/A\tN/A\t0.000000\tN/A\t0.000000\tN/A\tN/A\tN/A\r\n",
      "1\t3518\t3520\tN/A\tN/A\tN/A\t0.000000\tN/A\t0.000000\tN/A\tN/A\tN/A\r\n",
      "1\t3727\t3729\tN/A\tN/A\tN/A\t0.000000\t0.000000\t8.695652\tN/A\tN/A\tN/A\r\n",
      "1\t3752\t3754\tN/A\tN/A\tN/A\t0.000000\t0.000000\t0.000000\tN/A\tN/A\tN/A\r\n",
      "1\t3757\t3759\tN/A\tN/A\tN/A\t0.000000\t0.000000\t0.000000\tN/A\tN/A\tN/A\r\n",
      "1\t3770\t3772\tN/A\tN/A\tN/A\t0.000000\t0.000000\t0.000000\tN/A\tN/A\tN/A\r\n",
      "1\t4062\t4064\tN/A\tN/A\t0.000000\tN/A\tN/A\tN/A\tN/A\tN/A\tN/A\r\n",
      "1\t4069\t4071\tN/A\tN/A\t0.000000\tN/A\tN/A\tN/A\tN/A\tN/A\tN/A\r\n",
      "1\t4077\t4079\tN/A\tN/A\t0.000000\tN/A\tN/A\tN/A\tN/A\tN/A\tN/A\r\n"
     ]
    }
   ],
   "source": [
    "!head ../analyses/10-unionbedg/Mcap_union_5x.bedgraph"
   ]
  },
  {
   "cell_type": "markdown",
   "metadata": {},
   "source": [
    "availabe @ https://gannet.fish.washington.edu/seashell/bu-github/Meth_Compare/analyses/10-unionbedg/"
   ]
  },
  {
   "cell_type": "markdown",
   "metadata": {},
   "source": [
    "```\n",
    "rsync -avz --exclude=\".*\" --progress Meth_Compare sr320@gannet.fish.washington.edu:/volume2/web/seashell/bu-github/\n",
    "```"
   ]
  },
  {
   "cell_type": "code",
   "execution_count": null,
   "metadata": {},
   "outputs": [],
   "source": []
  }
 ],
 "metadata": {
  "kernelspec": {
   "display_name": "Python 3",
   "language": "python",
   "name": "python3"
  },
  "language_info": {
   "codemirror_mode": {
    "name": "ipython",
    "version": 3
   },
   "file_extension": ".py",
   "mimetype": "text/x-python",
   "name": "python",
   "nbconvert_exporter": "python",
   "pygments_lexer": "ipython3",
   "version": "3.6.8"
  }
 },
 "nbformat": 4,
 "nbformat_minor": 2
}
