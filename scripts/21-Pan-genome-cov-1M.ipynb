{
 "cells": [
  {
   "cell_type": "code",
   "execution_count": 1,
   "metadata": {
    "ExecuteTime": {
     "end_time": "2020-04-21T14:38:08.084463Z",
     "start_time": "2020-04-21T14:38:07.930131Z"
    }
   },
   "outputs": [],
   "source": [
    "!mkdir ../analyses/pan-genome-cov-1M/"
   ]
  },
  {
   "cell_type": "code",
   "execution_count": null,
   "metadata": {},
   "outputs": [],
   "source": [
    "!cd ../analyses/pan-genome-cov-1M/"
   ]
  },
  {
   "cell_type": "code",
   "execution_count": null,
   "metadata": {},
   "outputs": [],
   "source": [
    "wget -r \\\n",
    "--no-directories --no-parent \\\n",
    "-P . \\\n",
    "-A merged_CpG_evidence.cov https://gannet.fish.washington.edu/metacarcinus/Salmo_Calig/analyses/20190806_TrimGalore/"
   ]
  },
  {
   "cell_type": "code",
   "execution_count": 7,
   "metadata": {
    "ExecuteTime": {
     "end_time": "2020-04-18T19:39:35.197402Z",
     "start_time": "2020-04-18T19:39:35.053952Z"
    }
   },
   "outputs": [
    {
     "name": "stdout",
     "output_type": "stream",
     "text": [
      "SymbC1.scaffold2\t7332719\t7332721\t0.000000\t0\t1\r\n",
      "SymbC1.scaffold2\t7332757\t7332759\t0.000000\t0\t1\r\n",
      "SymbC1.scaffold2\t7332786\t7332788\t0.000000\t0\t1\r\n",
      "SymbC1.scaffold2\t7332792\t7332794\t0.000000\t0\t1\r\n",
      "SymbC1.scaffold2\t7332794\t7332796\t0.000000\t0\t1\r\n",
      "SymbC1.scaffold4\t3637778\t3637780\t0.000000\t0\t1\r\n",
      "SymbC1.scaffold4\t3637787\t3637789\t0.000000\t0\t1\r\n",
      "SymbC1.scaffold4\t3637791\t3637793\t0.000000\t0\t1\r\n",
      "SymbC1.scaffold4\t3637798\t3637800\t0.000000\t0\t1\r\n",
      "SymbC1.scaffold4\t3637811\t3637813\t0.000000\t0\t1\r\n"
     ]
    }
   ],
   "source": [
    "!head ../analyses/pan-genome-cov/Meth1_R1_001_val_1_bismark_bt2_pe..CpG_report.merged_CpG_evidence.cov"
   ]
  },
  {
   "cell_type": "code",
   "execution_count": 8,
   "metadata": {
    "ExecuteTime": {
     "end_time": "2020-04-18T19:39:48.817636Z",
     "start_time": "2020-04-18T19:39:48.672129Z"
    }
   },
   "outputs": [
    {
     "name": "stdout",
     "output_type": "stream",
     "text": [
      "scaffold168327_cov2743\t185\t187\t0.000000\t0\t1\r\n",
      "scaffold168327_cov2743\t187\t189\t0.000000\t0\t1\r\n",
      "scaffold168327_cov2743\t194\t196\t0.000000\t0\t1\r\n",
      "scaffold168327_cov2743\t238\t240\t0.000000\t0\t1\r\n",
      "scaffold168327_cov2743\t247\t249\t100.000000\t1\t0\r\n",
      "scaffold168327_cov2743\t250\t252\t0.000000\t0\t1\r\n",
      "scaffold168452_cov697\t236\t238\t0.000000\t0\t1\r\n",
      "scaffold168461_cov203\t69\t71\t0.000000\t0\t1\r\n",
      "scaffold168461_cov203\t142\t144\t0.000000\t0\t1\r\n",
      "scaffold168461_cov203\t148\t150\t0.000000\t0\t1\r\n"
     ]
    }
   ],
   "source": [
    "!tail ../analyses/pan-genome-cov/Meth1_R1_001_val_1_bismark_bt2_pe..CpG_report.merged_CpG_evidence.cov"
   ]
  },
  {
   "cell_type": "code",
   "execution_count": 10,
   "metadata": {
    "ExecuteTime": {
     "end_time": "2020-04-18T19:43:00.468107Z",
     "start_time": "2020-04-18T19:43:00.320155Z"
    }
   },
   "outputs": [
    {
     "name": "stdout",
     "output_type": "stream",
     "text": [
      "  152579 ../analyses/pan-genome-cov/Meth1_R1_001_val_1_bismark_bt2_pe..CpG_report.merged_CpG_evidence.cov\r\n"
     ]
    }
   ],
   "source": [
    "!wc -l ../analyses/pan-genome-cov/Meth1_R1_001_val_1_bismark_bt2_pe..CpG_report.merged_CpG_evidence.cov"
   ]
  },
  {
   "cell_type": "code",
   "execution_count": 11,
   "metadata": {
    "ExecuteTime": {
     "end_time": "2020-04-18T19:43:16.645074Z",
     "start_time": "2020-04-18T19:43:16.439931Z"
    }
   },
   "outputs": [
    {
     "name": "stdout",
     "output_type": "stream",
     "text": [
      "  149357\r\n"
     ]
    }
   ],
   "source": [
    "!grep -v \"Sym\" ../analyses/pan-genome-cov/Meth1_R1_001_val_1_bismark_bt2_pe..CpG_report.merged_CpG_evidence.cov | wc -l"
   ]
  },
  {
   "cell_type": "code",
   "execution_count": 12,
   "metadata": {
    "ExecuteTime": {
     "end_time": "2020-04-18T19:43:38.067600Z",
     "start_time": "2020-04-18T19:43:37.873608Z"
    }
   },
   "outputs": [
    {
     "name": "stdout",
     "output_type": "stream",
     "text": [
      "    3222\r\n"
     ]
    }
   ],
   "source": [
    "!grep \"Sym\" ../analyses/pan-genome-cov/Meth1_R1_001_val_1_bismark_bt2_pe..CpG_report.merged_CpG_evidence.cov | wc -l"
   ]
  },
  {
   "cell_type": "code",
   "execution_count": 13,
   "metadata": {
    "ExecuteTime": {
     "end_time": "2020-04-18T19:44:08.048360Z",
     "start_time": "2020-04-18T19:44:07.812699Z"
    }
   },
   "outputs": [
    {
     "name": "stdout",
     "output_type": "stream",
     "text": [
      "scaffold6_cov64\t3054\t3056\t0.000000\t0\t1\r\n",
      "scaffold6_cov64\t3058\t3060\t0.000000\t0\t1\r\n",
      "scaffold6_cov64\t3089\t3091\t0.000000\t0\t1\r\n",
      "scaffold6_cov64\t3108\t3110\t0.000000\t0\t1\r\n",
      "scaffold6_cov64\t3124\t3126\t0.000000\t0\t1\r\n",
      "scaffold6_cov64\t3343\t3345\t0.000000\t0\t1\r\n",
      "scaffold6_cov64\t3569\t3571\t0.000000\t0\t1\r\n",
      "scaffold6_cov64\t3596\t3598\t0.000000\t0\t1\r\n",
      "scaffold6_cov64\t3628\t3630\t0.000000\t0\t1\r\n",
      "scaffold6_cov64\t3885\t3887\t0.000000\t0\t1\r\n"
     ]
    }
   ],
   "source": [
    "!grep -v \"Sym\" ../analyses/pan-genome-cov/Meth1_R1_001_val_1_bismark_bt2_pe..CpG_report.merged_CpG_evidence.cov | head"
   ]
  },
  {
   "cell_type": "code",
   "execution_count": 21,
   "metadata": {
    "ExecuteTime": {
     "end_time": "2020-04-18T19:49:17.590077Z",
     "start_time": "2020-04-18T19:49:17.569770Z"
    }
   },
   "outputs": [
    {
     "name": "stdout",
     "output_type": "stream",
     "text": [
      "/Users/sr320/Documents/GitHub/Meth_Compare/analyses/pan-genome-cov\n"
     ]
    }
   ],
   "source": [
    "cd ../analyses/pan-genome-cov/"
   ]
  },
  {
   "cell_type": "code",
   "execution_count": 27,
   "metadata": {
    "ExecuteTime": {
     "end_time": "2020-04-18T19:52:45.507956Z",
     "start_time": "2020-04-18T19:52:44.516869Z"
    }
   },
   "outputs": [],
   "source": [
    "%%bash\n",
    "for f in *merged_CpG_evidence.cov\n",
    "do\n",
    "  STEM=$(basename \"${f}\" _val_1_bismark_bt2_pe..CpG_report.merged_CpG_evidence.cov)\n",
    "  cat \"${f}\" | grep -v \"Sym\" > \"${STEM}\"_Pact-viaPan-merged.cov\n",
    "done"
   ]
  },
  {
   "cell_type": "code",
   "execution_count": 31,
   "metadata": {
    "ExecuteTime": {
     "end_time": "2020-04-18T19:53:27.474806Z",
     "start_time": "2020-04-18T19:53:27.346005Z"
    }
   },
   "outputs": [
    {
     "name": "stdout",
     "output_type": "stream",
     "text": [
      "==> Meth4_R1_001_Pact-viaPan-merged.cov <==\r\n",
      "scaffold6_cov64\t5644\t5646\t0.000000\t0\t3\r\n",
      "scaffold6_cov64\t5797\t5799\t0.000000\t0\t3\r\n",
      "scaffold6_cov64\t5800\t5802\t0.000000\t0\t3\r\n",
      "scaffold6_cov64\t5821\t5823\t0.000000\t0\t3\r\n",
      "scaffold6_cov64\t5848\t5850\t0.000000\t0\t2\r\n",
      "scaffold6_cov64\t5904\t5906\t100.000000\t1\t0\r\n",
      "scaffold7_cov100\t45963\t45965\t0.000000\t0\t2\r\n",
      "scaffold7_cov100\t46020\t46022\t0.000000\t0\t2\r\n",
      "scaffold7_cov100\t46036\t46038\t0.000000\t0\t2\r\n",
      "scaffold7_cov100\t46039\t46041\t0.000000\t0\t2\r\n",
      "\r\n",
      "==> Meth4_R1_001_val_1_bismark_bt2_pe..CpG_report.merged_CpG_evidence.cov <==\r\n",
      "SymbC1.scaffold1\t5152685\t5152687\t0.000000\t0\t1\r\n",
      "SymbC1.scaffold1\t6180737\t6180739\t0.000000\t0\t1\r\n",
      "SymbC1.scaffold1\t6180743\t6180745\t0.000000\t0\t1\r\n",
      "SymbC1.scaffold1\t6180747\t6180749\t0.000000\t0\t1\r\n",
      "SymbC1.scaffold1\t6180749\t6180751\t0.000000\t0\t1\r\n",
      "SymbC1.scaffold2\t1155000\t1155002\t0.000000\t0\t1\r\n",
      "SymbC1.scaffold2\t1155013\t1155015\t0.000000\t0\t1\r\n",
      "SymbC1.scaffold2\t1155024\t1155026\t0.000000\t0\t1\r\n",
      "SymbC1.scaffold2\t5220776\t5220778\t0.000000\t0\t1\r\n",
      "SymbC1.scaffold2\t5220780\t5220782\t0.000000\t0\t1\r\n"
     ]
    }
   ],
   "source": [
    "!head Meth4*"
   ]
  },
  {
   "cell_type": "code",
   "execution_count": null,
   "metadata": {},
   "outputs": [],
   "source": []
  }
 ],
 "metadata": {
  "kernelspec": {
   "display_name": "Python 3",
   "language": "python",
   "name": "python3"
  },
  "language_info": {
   "codemirror_mode": {
    "name": "ipython",
    "version": 3
   },
   "file_extension": ".py",
   "mimetype": "text/x-python",
   "name": "python",
   "nbconvert_exporter": "python",
   "pygments_lexer": "ipython3",
   "version": "3.6.8"
  }
 },
 "nbformat": 4,
 "nbformat_minor": 2
}
