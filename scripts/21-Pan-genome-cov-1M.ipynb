{
 "cells": [
  {
   "cell_type": "code",
   "execution_count": 1,
   "metadata": {
    "ExecuteTime": {
     "end_time": "2020-04-21T14:38:08.084463Z",
     "start_time": "2020-04-21T14:38:07.930131Z"
    }
   },
   "outputs": [],
   "source": [
    "!mkdir ../analyses/pan-genome-cov-1M/"
   ]
  },
  {
   "cell_type": "code",
   "execution_count": 27,
   "metadata": {
    "ExecuteTime": {
     "end_time": "2020-04-21T17:27:33.829056Z",
     "start_time": "2020-04-21T17:27:33.808384Z"
    }
   },
   "outputs": [
    {
     "name": "stdout",
     "output_type": "stream",
     "text": [
      "/Users/sr320/Documents/GitHub/Meth_Compare/analyses/pan-genome-cov-1M\n"
     ]
    }
   ],
   "source": [
    "cd ../analyses/pan-genome-cov-1M/"
   ]
  },
  {
   "cell_type": "code",
   "execution_count": 29,
   "metadata": {
    "ExecuteTime": {
     "end_time": "2020-04-21T17:28:12.120424Z",
     "start_time": "2020-04-21T17:28:12.088958Z"
    }
   },
   "outputs": [
    {
     "data": {
      "text/plain": [
       "'/Users/sr320/Documents/GitHub/Meth_Compare/analyses/pan-genome-cov-1M'"
      ]
     },
     "execution_count": 29,
     "metadata": {},
     "output_type": "execute_result"
    }
   ],
   "source": [
    "pwd"
   ]
  },
  {
   "cell_type": "code",
   "execution_count": 30,
   "metadata": {
    "ExecuteTime": {
     "end_time": "2020-04-21T17:30:39.654248Z",
     "start_time": "2020-04-21T17:28:12.133994Z"
    },
    "scrolled": true
   },
   "outputs": [
    {
     "name": "stdout",
     "output_type": "stream",
     "text": [
      "--2020-04-21 10:28:12--  https://gannet.fish.washington.edu/seashell/bu-mox/scrubbed/042020-pan-u/Pact_tg/dedup/\n",
      "Resolving gannet.fish.washington.edu (gannet.fish.washington.edu)... 128.95.149.52\n",
      "Connecting to gannet.fish.washington.edu (gannet.fish.washington.edu)|128.95.149.52|:443... connected.\n",
      "HTTP request sent, awaiting response... 200 OK\n",
      "Length: unspecified [text/html]\n",
      "Saving to: ‘./index.html.tmp’\n",
      "\n",
      "index.html.tmp          [ <=>                ]  29.80K  --.-KB/s    in 0.05s   \n",
      "\n",
      "2020-04-21 10:28:13 (638 KB/s) - ‘./index.html.tmp’ saved [30511]\n",
      "\n",
      "Loading robots.txt; please ignore errors.\n",
      "--2020-04-21 10:28:13--  https://gannet.fish.washington.edu/robots.txt\n",
      "Reusing existing connection to gannet.fish.washington.edu:443.\n",
      "HTTP request sent, awaiting response... 404 Not Found\n",
      "2020-04-21 10:28:13 ERROR 404: Not Found.\n",
      "\n",
      "Removing ./index.html.tmp since it should be rejected.\n",
      "\n",
      "--2020-04-21 10:28:13--  https://gannet.fish.washington.edu/seashell/bu-mox/scrubbed/042020-pan-u/Pact_tg/dedup/?C=N;O=D\n",
      "Reusing existing connection to gannet.fish.washington.edu:443.\n",
      "HTTP request sent, awaiting response... 200 OK\n",
      "Length: unspecified [text/html]\n",
      "Saving to: ‘./index.html?C=N;O=D.tmp’\n",
      "\n",
      "index.html?C=N;O=D.     [ <=>                ]  29.80K  --.-KB/s    in 0.03s   \n",
      "\n",
      "2020-04-21 10:28:14 (1.10 MB/s) - ‘./index.html?C=N;O=D.tmp’ saved [30511]\n",
      "\n",
      "Removing ./index.html?C=N;O=D.tmp since it should be rejected.\n",
      "\n",
      "--2020-04-21 10:28:14--  https://gannet.fish.washington.edu/seashell/bu-mox/scrubbed/042020-pan-u/Pact_tg/dedup/?C=M;O=A\n",
      "Reusing existing connection to gannet.fish.washington.edu:443.\n",
      "HTTP request sent, awaiting response... 200 OK\n",
      "Length: unspecified [text/html]\n",
      "Saving to: ‘./index.html?C=M;O=A.tmp’\n",
      "\n",
      "index.html?C=M;O=A.     [ <=>                ]  29.80K  --.-KB/s    in 0.05s   \n",
      "\n",
      "2020-04-21 10:28:15 (639 KB/s) - ‘./index.html?C=M;O=A.tmp’ saved [30511]\n",
      "\n",
      "Removing ./index.html?C=M;O=A.tmp since it should be rejected.\n",
      "\n",
      "--2020-04-21 10:28:15--  https://gannet.fish.washington.edu/seashell/bu-mox/scrubbed/042020-pan-u/Pact_tg/dedup/?C=S;O=A\n",
      "Reusing existing connection to gannet.fish.washington.edu:443.\n",
      "HTTP request sent, awaiting response... 200 OK\n",
      "Length: unspecified [text/html]\n",
      "Saving to: ‘./index.html?C=S;O=A.tmp’\n",
      "\n",
      "index.html?C=S;O=A.     [ <=>                ]  29.80K  --.-KB/s    in 0.03s   \n",
      "\n",
      "2020-04-21 10:28:16 (953 KB/s) - ‘./index.html?C=S;O=A.tmp’ saved [30511]\n",
      "\n",
      "Removing ./index.html?C=S;O=A.tmp since it should be rejected.\n",
      "\n",
      "--2020-04-21 10:28:16--  https://gannet.fish.washington.edu/seashell/bu-mox/scrubbed/042020-pan-u/Pact_tg/dedup/?C=D;O=A\n",
      "Reusing existing connection to gannet.fish.washington.edu:443.\n",
      "HTTP request sent, awaiting response... 200 OK\n",
      "Length: unspecified [text/html]\n",
      "Saving to: ‘./index.html?C=D;O=A.tmp’\n",
      "\n",
      "index.html?C=D;O=A.     [ <=>                ]  29.80K  --.-KB/s    in 0.03s   \n",
      "\n",
      "2020-04-21 10:28:17 (1.01 MB/s) - ‘./index.html?C=D;O=A.tmp’ saved [30511]\n",
      "\n",
      "Removing ./index.html?C=D;O=A.tmp since it should be rejected.\n",
      "\n",
      "--2020-04-21 10:28:17--  https://gannet.fish.washington.edu/seashell/bu-mox/scrubbed/042020-pan-u/Pact_tg/dedup/Meth1_R1_001_val_1_bismark_bt2_pe.CpG_report.merged_CpG_evidence.cov\n",
      "Reusing existing connection to gannet.fish.washington.edu:443.\n",
      "HTTP request sent, awaiting response... 200 OK\n",
      "Length: 55332441 (53M)\n",
      "Saving to: ‘./Meth1_R1_001_val_1_bismark_bt2_pe.CpG_report.merged_CpG_evidence.cov’\n",
      "\n",
      "Meth1_R1_001_val_1_ 100%[===================>]  52.77M  2.36MB/s    in 27s     \n",
      "\n",
      "2020-04-21 10:28:43 (1.99 MB/s) - ‘./Meth1_R1_001_val_1_bismark_bt2_pe.CpG_report.merged_CpG_evidence.cov’ saved [55332441/55332441]\n",
      "\n",
      "--2020-04-21 10:28:44--  https://gannet.fish.washington.edu/seashell/bu-mox/scrubbed/042020-pan-u/Pact_tg/dedup/Meth2_R1_001_val_1_bismark_bt2_pe.CpG_report.merged_CpG_evidence.cov\n",
      "Reusing existing connection to gannet.fish.washington.edu:443.\n",
      "HTTP request sent, awaiting response... 200 OK\n",
      "Length: 57913102 (55M)\n",
      "Saving to: ‘./Meth2_R1_001_val_1_bismark_bt2_pe.CpG_report.merged_CpG_evidence.cov’\n",
      "\n",
      "Meth2_R1_001_val_1_ 100%[===================>]  55.23M  2.19MB/s    in 24s     \n",
      "\n",
      "2020-04-21 10:29:07 (2.32 MB/s) - ‘./Meth2_R1_001_val_1_bismark_bt2_pe.CpG_report.merged_CpG_evidence.cov’ saved [57913102/57913102]\n",
      "\n",
      "--2020-04-21 10:29:08--  https://gannet.fish.washington.edu/seashell/bu-mox/scrubbed/042020-pan-u/Pact_tg/dedup/Meth3_R1_001_val_1_bismark_bt2_pe.CpG_report.merged_CpG_evidence.cov\n",
      "Reusing existing connection to gannet.fish.washington.edu:443.\n",
      "HTTP request sent, awaiting response... 200 OK\n",
      "Length: 55847522 (53M)\n",
      "Saving to: ‘./Meth3_R1_001_val_1_bismark_bt2_pe.CpG_report.merged_CpG_evidence.cov’\n",
      "\n",
      "Meth3_R1_001_val_1_ 100%[===================>]  53.26M  2.38MB/s    in 23s     \n",
      "\n",
      "2020-04-21 10:29:30 (2.33 MB/s) - ‘./Meth3_R1_001_val_1_bismark_bt2_pe.CpG_report.merged_CpG_evidence.cov’ saved [55847522/55847522]\n",
      "\n",
      "--2020-04-21 10:29:31--  https://gannet.fish.washington.edu/seashell/bu-mox/scrubbed/042020-pan-u/Pact_tg/dedup/Meth7_R1_001_val_1_bismark_bt2_pe.CpG_report.merged_CpG_evidence.cov\n",
      "Reusing existing connection to gannet.fish.washington.edu:443.\n",
      "HTTP request sent, awaiting response... 200 OK\n",
      "Length: 49650906 (47M)\n",
      "Saving to: ‘./Meth7_R1_001_val_1_bismark_bt2_pe.CpG_report.merged_CpG_evidence.cov’\n",
      "\n",
      "Meth7_R1_001_val_1_ 100%[===================>]  47.35M  2.33MB/s    in 20s     \n",
      "\n",
      "2020-04-21 10:29:51 (2.35 MB/s) - ‘./Meth7_R1_001_val_1_bismark_bt2_pe.CpG_report.merged_CpG_evidence.cov’ saved [49650906/49650906]\n",
      "\n",
      "--2020-04-21 10:29:51--  https://gannet.fish.washington.edu/seashell/bu-mox/scrubbed/042020-pan-u/Pact_tg/dedup/Meth8_R1_001_val_1_bismark_bt2_pe.CpG_report.merged_CpG_evidence.cov\n",
      "Reusing existing connection to gannet.fish.washington.edu:443.\n",
      "HTTP request sent, awaiting response... 200 OK\n",
      "Length: 58601611 (56M)\n",
      "Saving to: ‘./Meth8_R1_001_val_1_bismark_bt2_pe.CpG_report.merged_CpG_evidence.cov’\n",
      "\n",
      "Meth8_R1_001_val_1_ 100%[===================>]  55.89M  2.40MB/s    in 24s     \n",
      "\n",
      "2020-04-21 10:30:15 (2.38 MB/s) - ‘./Meth8_R1_001_val_1_bismark_bt2_pe.CpG_report.merged_CpG_evidence.cov’ saved [58601611/58601611]\n",
      "\n",
      "--2020-04-21 10:30:15--  https://gannet.fish.washington.edu/seashell/bu-mox/scrubbed/042020-pan-u/Pact_tg/dedup/Meth9_R1_001_val_1_bismark_bt2_pe.CpG_report.merged_CpG_evidence.cov\n",
      "Reusing existing connection to gannet.fish.washington.edu:443.\n",
      "HTTP request sent, awaiting response... 200 OK\n",
      "Length: 49169294 (47M)\n",
      "Saving to: ‘./Meth9_R1_001_val_1_bismark_bt2_pe.CpG_report.merged_CpG_evidence.cov’\n",
      "\n",
      "Meth9_R1_001_val_1_ 100%[===================>]  46.89M  2.41MB/s    in 20s     \n",
      "\n",
      "2020-04-21 10:30:35 (2.35 MB/s) - ‘./Meth9_R1_001_val_1_bismark_bt2_pe.CpG_report.merged_CpG_evidence.cov’ saved [49169294/49169294]\n",
      "\n",
      "--2020-04-21 10:30:35--  https://gannet.fish.washington.edu/seashell/bu-mox/scrubbed/042020-pan-u/Pact_tg/dedup/?C=N;O=A\n",
      "Reusing existing connection to gannet.fish.washington.edu:443.\n",
      "HTTP request sent, awaiting response... 200 OK\n",
      "Length: unspecified [text/html]\n",
      "Saving to: ‘./index.html?C=N;O=A.tmp’\n",
      "\n",
      "index.html?C=N;O=A.     [ <=>                ]  29.80K  --.-KB/s    in 0.03s   \n",
      "\n",
      "2020-04-21 10:30:36 (959 KB/s) - ‘./index.html?C=N;O=A.tmp’ saved [30511]\n",
      "\n",
      "Removing ./index.html?C=N;O=A.tmp since it should be rejected.\n",
      "\n",
      "--2020-04-21 10:30:36--  https://gannet.fish.washington.edu/seashell/bu-mox/scrubbed/042020-pan-u/Pact_tg/dedup/?C=M;O=D\n",
      "Reusing existing connection to gannet.fish.washington.edu:443.\n",
      "HTTP request sent, awaiting response... 200 OK\n",
      "Length: unspecified [text/html]\n",
      "Saving to: ‘./index.html?C=M;O=D.tmp’\n",
      "\n",
      "index.html?C=M;O=D.     [ <=>                ]  29.80K  --.-KB/s    in 0.03s   \n",
      "\n",
      "2020-04-21 10:30:37 (1.05 MB/s) - ‘./index.html?C=M;O=D.tmp’ saved [30511]\n",
      "\n",
      "Removing ./index.html?C=M;O=D.tmp since it should be rejected.\n",
      "\n",
      "--2020-04-21 10:30:37--  https://gannet.fish.washington.edu/seashell/bu-mox/scrubbed/042020-pan-u/Pact_tg/dedup/?C=S;O=D\n",
      "Reusing existing connection to gannet.fish.washington.edu:443.\n",
      "HTTP request sent, awaiting response... 200 OK\n",
      "Length: unspecified [text/html]\n",
      "Saving to: ‘./index.html?C=S;O=D.tmp’\n",
      "\n",
      "index.html?C=S;O=D.     [ <=>                ]  29.80K  --.-KB/s    in 0.02s   \n",
      "\n",
      "2020-04-21 10:30:38 (1.24 MB/s) - ‘./index.html?C=S;O=D.tmp’ saved [30511]\n",
      "\n",
      "Removing ./index.html?C=S;O=D.tmp since it should be rejected.\n",
      "\n",
      "--2020-04-21 10:30:38--  https://gannet.fish.washington.edu/seashell/bu-mox/scrubbed/042020-pan-u/Pact_tg/dedup/?C=D;O=D\n",
      "Reusing existing connection to gannet.fish.washington.edu:443.\n"
     ]
    },
    {
     "name": "stdout",
     "output_type": "stream",
     "text": [
      "HTTP request sent, awaiting response... 200 OK\n",
      "Length: unspecified [text/html]\n",
      "Saving to: ‘./index.html?C=D;O=D.tmp’\n",
      "\n",
      "index.html?C=D;O=D.     [ <=>                ]  29.80K  --.-KB/s    in 0.03s   \n",
      "\n",
      "2020-04-21 10:30:39 (1.12 MB/s) - ‘./index.html?C=D;O=D.tmp’ saved [30511]\n",
      "\n",
      "Removing ./index.html?C=D;O=D.tmp since it should be rejected.\n",
      "\n",
      "FINISHED --2020-04-21 10:30:39--\n",
      "Total wall clock time: 2m 27s\n",
      "Downloaded: 15 files, 312M in 2m 17s (2.27 MB/s)\n"
     ]
    }
   ],
   "source": [
    "!wget -r \\\n",
    "--no-directories --no-parent \\\n",
    "-P . \\\n",
    "-A merged_CpG_evidence.cov https://gannet.fish.washington.edu/seashell/bu-mox/scrubbed/042020-pan-u/Pact_tg/dedup/"
   ]
  },
  {
   "cell_type": "code",
   "execution_count": 31,
   "metadata": {
    "ExecuteTime": {
     "end_time": "2020-04-21T17:31:18.753360Z",
     "start_time": "2020-04-21T17:30:39.662890Z"
    }
   },
   "outputs": [
    {
     "name": "stdout",
     "output_type": "stream",
     "text": [
      "--2020-04-21 10:30:39--  https://gannet.fish.washington.edu/seashell/bu-mox/scrubbed/042020-pan-u/Pact_tg/nodedup/\n",
      "Resolving gannet.fish.washington.edu (gannet.fish.washington.edu)... 128.95.149.52\n",
      "Connecting to gannet.fish.washington.edu (gannet.fish.washington.edu)|128.95.149.52|:443... connected.\n",
      "HTTP request sent, awaiting response... 200 OK\n",
      "Length: unspecified [text/html]\n",
      "Saving to: ‘./index.html.tmp’\n",
      "\n",
      "index.html.tmp          [ <=>                ]  13.39K  --.-KB/s    in 0.03s   \n",
      "\n",
      "2020-04-21 10:30:40 (473 KB/s) - ‘./index.html.tmp’ saved [13709]\n",
      "\n",
      "Loading robots.txt; please ignore errors.\n",
      "--2020-04-21 10:30:40--  https://gannet.fish.washington.edu/robots.txt\n",
      "Reusing existing connection to gannet.fish.washington.edu:443.\n",
      "HTTP request sent, awaiting response... 404 Not Found\n",
      "2020-04-21 10:30:40 ERROR 404: Not Found.\n",
      "\n",
      "Removing ./index.html.tmp since it should be rejected.\n",
      "\n",
      "--2020-04-21 10:30:40--  https://gannet.fish.washington.edu/seashell/bu-mox/scrubbed/042020-pan-u/Pact_tg/nodedup/?C=N;O=D\n",
      "Reusing existing connection to gannet.fish.washington.edu:443.\n",
      "HTTP request sent, awaiting response... 200 OK\n",
      "Length: unspecified [text/html]\n",
      "Saving to: ‘./index.html?C=N;O=D.tmp’\n",
      "\n",
      "index.html?C=N;O=D.     [ <=>                ]  13.39K  --.-KB/s    in 0.03s   \n",
      "\n",
      "2020-04-21 10:30:40 (507 KB/s) - ‘./index.html?C=N;O=D.tmp’ saved [13709]\n",
      "\n",
      "Removing ./index.html?C=N;O=D.tmp since it should be rejected.\n",
      "\n",
      "--2020-04-21 10:30:40--  https://gannet.fish.washington.edu/seashell/bu-mox/scrubbed/042020-pan-u/Pact_tg/nodedup/?C=M;O=A\n",
      "Reusing existing connection to gannet.fish.washington.edu:443.\n",
      "HTTP request sent, awaiting response... 200 OK\n",
      "Length: unspecified [text/html]\n",
      "Saving to: ‘./index.html?C=M;O=A.tmp’\n",
      "\n",
      "index.html?C=M;O=A.     [ <=>                ]  13.39K  --.-KB/s    in 0.03s   \n",
      "\n",
      "2020-04-21 10:30:40 (471 KB/s) - ‘./index.html?C=M;O=A.tmp’ saved [13709]\n",
      "\n",
      "Removing ./index.html?C=M;O=A.tmp since it should be rejected.\n",
      "\n",
      "--2020-04-21 10:30:40--  https://gannet.fish.washington.edu/seashell/bu-mox/scrubbed/042020-pan-u/Pact_tg/nodedup/?C=S;O=A\n",
      "Reusing existing connection to gannet.fish.washington.edu:443.\n",
      "HTTP request sent, awaiting response... 200 OK\n",
      "Length: unspecified [text/html]\n",
      "Saving to: ‘./index.html?C=S;O=A.tmp’\n",
      "\n",
      "index.html?C=S;O=A.     [ <=>                ]  13.39K  --.-KB/s    in 0.03s   \n",
      "\n",
      "2020-04-21 10:30:41 (471 KB/s) - ‘./index.html?C=S;O=A.tmp’ saved [13709]\n",
      "\n",
      "Removing ./index.html?C=S;O=A.tmp since it should be rejected.\n",
      "\n",
      "--2020-04-21 10:30:41--  https://gannet.fish.washington.edu/seashell/bu-mox/scrubbed/042020-pan-u/Pact_tg/nodedup/?C=D;O=A\n",
      "Reusing existing connection to gannet.fish.washington.edu:443.\n",
      "HTTP request sent, awaiting response... 200 OK\n",
      "Length: unspecified [text/html]\n",
      "Saving to: ‘./index.html?C=D;O=A.tmp’\n",
      "\n",
      "index.html?C=D;O=A.     [ <=>                ]  13.39K  --.-KB/s    in 0.03s   \n",
      "\n",
      "2020-04-21 10:30:41 (467 KB/s) - ‘./index.html?C=D;O=A.tmp’ saved [13709]\n",
      "\n",
      "Removing ./index.html?C=D;O=A.tmp since it should be rejected.\n",
      "\n",
      "--2020-04-21 10:30:41--  https://gannet.fish.washington.edu/seashell/bu-mox/scrubbed/042020-pan-u/Pact_tg/nodedup/Meth4_R1_001_val_1_bismark_bt2_pe.CpG_report.merged_CpG_evidence.cov\n",
      "Reusing existing connection to gannet.fish.washington.edu:443.\n",
      "HTTP request sent, awaiting response... 200 OK\n",
      "Length: 27211809 (26M)\n",
      "Saving to: ‘./Meth4_R1_001_val_1_bismark_bt2_pe.CpG_report.merged_CpG_evidence.cov’\n",
      "\n",
      "Meth4_R1_001_val_1_ 100%[===================>]  25.95M  2.40MB/s    in 12s     \n",
      "\n",
      "2020-04-21 10:30:53 (2.26 MB/s) - ‘./Meth4_R1_001_val_1_bismark_bt2_pe.CpG_report.merged_CpG_evidence.cov’ saved [27211809/27211809]\n",
      "\n",
      "--2020-04-21 10:30:53--  https://gannet.fish.washington.edu/seashell/bu-mox/scrubbed/042020-pan-u/Pact_tg/nodedup/Meth5_R1_001_val_1_bismark_bt2_pe.CpG_report.merged_CpG_evidence.cov\n",
      "Reusing existing connection to gannet.fish.washington.edu:443.\n",
      "HTTP request sent, awaiting response... 200 OK\n",
      "Length: 29044780 (28M)\n",
      "Saving to: ‘./Meth5_R1_001_val_1_bismark_bt2_pe.CpG_report.merged_CpG_evidence.cov’\n",
      "\n",
      "Meth5_R1_001_val_1_ 100%[===================>]  27.70M  2.31MB/s    in 12s     \n",
      "\n",
      "2020-04-21 10:31:05 (2.32 MB/s) - ‘./Meth5_R1_001_val_1_bismark_bt2_pe.CpG_report.merged_CpG_evidence.cov’ saved [29044780/29044780]\n",
      "\n",
      "--2020-04-21 10:31:05--  https://gannet.fish.washington.edu/seashell/bu-mox/scrubbed/042020-pan-u/Pact_tg/nodedup/Meth6_R1_001_val_1_bismark_bt2_pe.CpG_report.merged_CpG_evidence.cov\n",
      "Reusing existing connection to gannet.fish.washington.edu:443.\n",
      "HTTP request sent, awaiting response... 200 OK\n",
      "Length: 29443001 (28M)\n",
      "Saving to: ‘./Meth6_R1_001_val_1_bismark_bt2_pe.CpG_report.merged_CpG_evidence.cov’\n",
      "\n",
      "Meth6_R1_001_val_1_ 100%[===================>]  28.08M  2.34MB/s    in 12s     \n",
      "\n",
      "2020-04-21 10:31:17 (2.37 MB/s) - ‘./Meth6_R1_001_val_1_bismark_bt2_pe.CpG_report.merged_CpG_evidence.cov’ saved [29443001/29443001]\n",
      "\n",
      "--2020-04-21 10:31:17--  https://gannet.fish.washington.edu/seashell/bu-mox/scrubbed/042020-pan-u/Pact_tg/nodedup/?C=N;O=A\n",
      "Reusing existing connection to gannet.fish.washington.edu:443.\n",
      "HTTP request sent, awaiting response... 200 OK\n",
      "Length: unspecified [text/html]\n",
      "Saving to: ‘./index.html?C=N;O=A.tmp’\n",
      "\n",
      "index.html?C=N;O=A.     [ <=>                ]  13.39K  --.-KB/s    in 0.003s  \n",
      "\n",
      "2020-04-21 10:31:17 (4.03 MB/s) - ‘./index.html?C=N;O=A.tmp’ saved [13709]\n",
      "\n",
      "Removing ./index.html?C=N;O=A.tmp since it should be rejected.\n",
      "\n",
      "--2020-04-21 10:31:17--  https://gannet.fish.washington.edu/seashell/bu-mox/scrubbed/042020-pan-u/Pact_tg/nodedup/?C=M;O=D\n",
      "Reusing existing connection to gannet.fish.washington.edu:443.\n",
      "HTTP request sent, awaiting response... 200 OK\n",
      "Length: unspecified [text/html]\n",
      "Saving to: ‘./index.html?C=M;O=D.tmp’\n",
      "\n",
      "index.html?C=M;O=D.     [ <=>                ]  13.39K  --.-KB/s    in 0.008s  \n",
      "\n",
      "2020-04-21 10:31:17 (1.72 MB/s) - ‘./index.html?C=M;O=D.tmp’ saved [13709]\n",
      "\n",
      "Removing ./index.html?C=M;O=D.tmp since it should be rejected.\n",
      "\n",
      "--2020-04-21 10:31:17--  https://gannet.fish.washington.edu/seashell/bu-mox/scrubbed/042020-pan-u/Pact_tg/nodedup/?C=S;O=D\n",
      "Reusing existing connection to gannet.fish.washington.edu:443.\n",
      "HTTP request sent, awaiting response... 200 OK\n",
      "Length: unspecified [text/html]\n",
      "Saving to: ‘./index.html?C=S;O=D.tmp’\n",
      "\n",
      "index.html?C=S;O=D.     [ <=>                ]  13.39K  --.-KB/s    in 0.004s  \n",
      "\n",
      "2020-04-21 10:31:18 (3.29 MB/s) - ‘./index.html?C=S;O=D.tmp’ saved [13709]\n",
      "\n",
      "Removing ./index.html?C=S;O=D.tmp since it should be rejected.\n",
      "\n",
      "--2020-04-21 10:31:18--  https://gannet.fish.washington.edu/seashell/bu-mox/scrubbed/042020-pan-u/Pact_tg/nodedup/?C=D;O=D\n",
      "Reusing existing connection to gannet.fish.washington.edu:443.\n",
      "HTTP request sent, awaiting response... 200 OK\n",
      "Length: unspecified [text/html]\n",
      "Saving to: ‘./index.html?C=D;O=D.tmp’\n",
      "\n",
      "index.html?C=D;O=D.     [ <=>                ]  13.39K  --.-KB/s    in 0.02s   \n",
      "\n",
      "2020-04-21 10:31:18 (577 KB/s) - ‘./index.html?C=D;O=D.tmp’ saved [13709]\n",
      "\n",
      "Removing ./index.html?C=D;O=D.tmp since it should be rejected.\n",
      "\n",
      "FINISHED --2020-04-21 10:31:18--\n",
      "Total wall clock time: 39s\n",
      "Downloaded: 12 files, 82M in 35s (2.31 MB/s)\n"
     ]
    }
   ],
   "source": [
    "!wget -r \\\n",
    "--no-directories --no-parent \\\n",
    "-P . \\\n",
    "-A merged_CpG_evidence.cov https://gannet.fish.washington.edu/seashell/bu-mox/scrubbed/042020-pan-u/Pact_tg/nodedup/"
   ]
  },
  {
   "cell_type": "code",
   "execution_count": 32,
   "metadata": {
    "ExecuteTime": {
     "end_time": "2020-04-21T17:31:18.902508Z",
     "start_time": "2020-04-21T17:31:18.756905Z"
    }
   },
   "outputs": [
    {
     "name": "stdout",
     "output_type": "stream",
     "text": [
      "SymbC1.scaffold2\t2521648\t2521650\t0.000000\t0\t1\r\n",
      "SymbC1.scaffold2\t2521667\t2521669\t0.000000\t0\t1\r\n",
      "SymbC1.scaffold2\t7332719\t7332721\t0.000000\t0\t1\r\n",
      "SymbC1.scaffold2\t7332757\t7332759\t0.000000\t0\t1\r\n",
      "SymbC1.scaffold2\t7332786\t7332788\t0.000000\t0\t1\r\n",
      "SymbC1.scaffold2\t7332792\t7332794\t0.000000\t0\t1\r\n",
      "SymbC1.scaffold2\t7332794\t7332796\t0.000000\t0\t1\r\n",
      "SymbC1.scaffold4\t764811\t764813\t0.000000\t0\t1\r\n",
      "SymbC1.scaffold4\t764833\t764835\t0.000000\t0\t1\r\n",
      "SymbC1.scaffold4\t764842\t764844\t0.000000\t0\t1\r\n"
     ]
    }
   ],
   "source": [
    "!head Meth1_R1_001_val_1_bismark_bt2_pe.CpG_report.merged_CpG_evidence.cov"
   ]
  },
  {
   "cell_type": "code",
   "execution_count": 33,
   "metadata": {
    "ExecuteTime": {
     "end_time": "2020-04-21T17:31:19.043759Z",
     "start_time": "2020-04-21T17:31:18.907859Z"
    }
   },
   "outputs": [
    {
     "name": "stdout",
     "output_type": "stream",
     "text": [
      "scaffold168437_cov1390\t35\t37\t0.000000\t0\t1\r\n",
      "scaffold168437_cov1390\t43\t45\t0.000000\t0\t1\r\n",
      "scaffold168437_cov1390\t51\t53\t0.000000\t0\t2\r\n",
      "scaffold168437_cov1390\t56\t58\t0.000000\t0\t2\r\n",
      "scaffold168437_cov1390\t100\t102\t0.000000\t0\t2\r\n",
      "scaffold168437_cov1390\t118\t120\t0.000000\t0\t2\r\n",
      "scaffold168452_cov697\t236\t238\t0.000000\t0\t2\r\n",
      "scaffold168461_cov203\t69\t71\t0.000000\t0\t1\r\n",
      "scaffold168461_cov203\t142\t144\t0.000000\t0\t1\r\n",
      "scaffold168461_cov203\t148\t150\t0.000000\t0\t1\r\n"
     ]
    }
   ],
   "source": [
    "!tail Meth1_R1_001_val_1_bismark_bt2_pe.CpG_report.merged_CpG_evidence.cov"
   ]
  },
  {
   "cell_type": "code",
   "execution_count": 34,
   "metadata": {
    "ExecuteTime": {
     "end_time": "2020-04-21T17:31:19.239206Z",
     "start_time": "2020-04-21T17:31:19.049310Z"
    }
   },
   "outputs": [
    {
     "name": "stdout",
     "output_type": "stream",
     "text": [
      " 1238564 Meth1_R1_001_val_1_bismark_bt2_pe.CpG_report.merged_CpG_evidence.cov\r\n"
     ]
    }
   ],
   "source": [
    "!wc -l Meth1_R1_001_val_1_bismark_bt2_pe.CpG_report.merged_CpG_evidence.cov"
   ]
  },
  {
   "cell_type": "code",
   "execution_count": 35,
   "metadata": {
    "ExecuteTime": {
     "end_time": "2020-04-21T17:31:20.069941Z",
     "start_time": "2020-04-21T17:31:19.243136Z"
    }
   },
   "outputs": [
    {
     "name": "stdout",
     "output_type": "stream",
     "text": [
      " 1209024\r\n"
     ]
    }
   ],
   "source": [
    "!grep -v \"Sym\" Meth1_R1_001_val_1_bismark_bt2_pe.CpG_report.merged_CpG_evidence.cov | wc -l"
   ]
  },
  {
   "cell_type": "code",
   "execution_count": 36,
   "metadata": {
    "ExecuteTime": {
     "end_time": "2020-04-21T17:31:20.702778Z",
     "start_time": "2020-04-21T17:31:20.073383Z"
    }
   },
   "outputs": [
    {
     "name": "stdout",
     "output_type": "stream",
     "text": [
      "   29540\r\n"
     ]
    }
   ],
   "source": [
    "!grep \"Sym\" Meth1_R1_001_val_1_bismark_bt2_pe.CpG_report.merged_CpG_evidence.cov | wc -l"
   ]
  },
  {
   "cell_type": "code",
   "execution_count": 37,
   "metadata": {
    "ExecuteTime": {
     "end_time": "2020-04-21T17:31:21.506739Z",
     "start_time": "2020-04-21T17:31:20.706020Z"
    }
   },
   "outputs": [
    {
     "name": "stdout",
     "output_type": "stream",
     "text": [
      "scaffold3_cov83\t243\t245\t0.000000\t0\t1\r\n",
      "scaffold3_cov83\t261\t263\t0.000000\t0\t1\r\n",
      "scaffold3_cov83\t475\t477\t0.000000\t0\t1\r\n",
      "scaffold3_cov83\t484\t486\t0.000000\t0\t1\r\n",
      "scaffold6_cov64\t2253\t2255\t0.000000\t0\t1\r\n",
      "scaffold6_cov64\t3054\t3056\t0.000000\t0\t1\r\n",
      "scaffold6_cov64\t3058\t3060\t0.000000\t0\t1\r\n",
      "scaffold6_cov64\t3089\t3091\t0.000000\t0\t1\r\n",
      "scaffold6_cov64\t3108\t3110\t0.000000\t0\t1\r\n",
      "scaffold6_cov64\t3124\t3126\t0.000000\t0\t1\r\n"
     ]
    }
   ],
   "source": [
    "!grep -v \"Sym\" Meth1_R1_001_val_1_bismark_bt2_pe.CpG_report.merged_CpG_evidence.cov | head"
   ]
  },
  {
   "cell_type": "code",
   "execution_count": 38,
   "metadata": {
    "ExecuteTime": {
     "end_time": "2020-04-21T17:31:31.410054Z",
     "start_time": "2020-04-21T17:31:21.510457Z"
    }
   },
   "outputs": [],
   "source": [
    "%%bash\n",
    "for f in *merged_CpG_evidence.cov\n",
    "do\n",
    "  STEM=$(basename \"${f}\" _val_1_bismark_bt2_pe.CpG_report.merged_CpG_evidence.cov)\n",
    "  cat \"${f}\" | grep -v \"Sym\" > \"${STEM}\"_Pact-viaPan-merged.cov\n",
    "done"
   ]
  },
  {
   "cell_type": "code",
   "execution_count": 39,
   "metadata": {
    "ExecuteTime": {
     "end_time": "2020-04-21T17:31:31.547256Z",
     "start_time": "2020-04-21T17:31:31.415099Z"
    }
   },
   "outputs": [
    {
     "name": "stdout",
     "output_type": "stream",
     "text": [
      "==> Meth4_R1_001_Pact-viaPan-merged.cov <==\r\n",
      "scaffold6_cov64\t5644\t5646\t0.000000\t0\t18\r\n",
      "scaffold6_cov64\t5797\t5799\t0.000000\t0\t18\r\n",
      "scaffold6_cov64\t5800\t5802\t0.000000\t0\t18\r\n",
      "scaffold6_cov64\t5821\t5823\t0.000000\t0\t18\r\n",
      "scaffold6_cov64\t5848\t5850\t0.000000\t0\t17\r\n",
      "scaffold6_cov64\t5904\t5906\t100.000000\t1\t0\r\n",
      "scaffold6_cov64\t5973\t5975\t0.000000\t0\t2\r\n",
      "scaffold6_cov64\t6322\t6324\t0.000000\t0\t4\r\n",
      "scaffold6_cov64\t6329\t6331\t0.000000\t0\t11\r\n",
      "scaffold6_cov64\t6338\t6340\t0.000000\t0\t11\r\n",
      "\r\n",
      "==> Meth4_R1_001_val_1_bismark_bt2_pe.CpG_report.merged_CpG_evidence.cov <==\r\n",
      "SymbC1.scaffold1\t1663951\t1663953\t0.000000\t0\t1\r\n",
      "SymbC1.scaffold1\t1663954\t1663956\t0.000000\t0\t1\r\n",
      "SymbC1.scaffold1\t1663964\t1663966\t0.000000\t0\t1\r\n",
      "SymbC1.scaffold1\t1663967\t1663969\t0.000000\t0\t1\r\n",
      "SymbC1.scaffold1\t1663969\t1663971\t0.000000\t0\t1\r\n",
      "SymbC1.scaffold1\t1663972\t1663974\t0.000000\t0\t1\r\n",
      "SymbC1.scaffold1\t5152685\t5152687\t0.000000\t0\t2\r\n",
      "SymbC1.scaffold1\t5433171\t5433173\t0.000000\t0\t2\r\n",
      "SymbC1.scaffold1\t5433174\t5433176\t0.000000\t0\t2\r\n",
      "SymbC1.scaffold1\t5433192\t5433194\t0.000000\t0\t2\r\n"
     ]
    }
   ],
   "source": [
    "!head Meth4*"
   ]
  },
  {
   "cell_type": "code",
   "execution_count": 40,
   "metadata": {
    "ExecuteTime": {
     "end_time": "2020-04-21T17:31:31.690185Z",
     "start_time": "2020-04-21T17:31:31.551732Z"
    }
   },
   "outputs": [
    {
     "name": "stdout",
     "output_type": "stream",
     "text": [
      "Meth1_R1_001_Pact-viaPan-merged.cov\r\n",
      "Meth1_R1_001_val_1_bismark_bt2_pe.CpG_report.merged_CpG_evidence.cov\r\n",
      "Meth2_R1_001_Pact-viaPan-merged.cov\r\n",
      "Meth2_R1_001_val_1_bismark_bt2_pe.CpG_report.merged_CpG_evidence.cov\r\n",
      "Meth3_R1_001_Pact-viaPan-merged.cov\r\n",
      "Meth3_R1_001_val_1_bismark_bt2_pe.CpG_report.merged_CpG_evidence.cov\r\n",
      "Meth4_R1_001_Pact-viaPan-merged.cov\r\n",
      "Meth4_R1_001_val_1_bismark_bt2_pe.CpG_report.merged_CpG_evidence.cov\r\n",
      "Meth5_R1_001_Pact-viaPan-merged.cov\r\n",
      "Meth5_R1_001_val_1_bismark_bt2_pe.CpG_report.merged_CpG_evidence.cov\r\n",
      "Meth6_R1_001_Pact-viaPan-merged.cov\r\n",
      "Meth6_R1_001_val_1_bismark_bt2_pe.CpG_report.merged_CpG_evidence.cov\r\n",
      "Meth7_R1_001_Pact-viaPan-merged.cov\r\n",
      "Meth7_R1_001_val_1_bismark_bt2_pe.CpG_report.merged_CpG_evidence.cov\r\n",
      "Meth8_R1_001_Pact-viaPan-merged.cov\r\n",
      "Meth8_R1_001_val_1_bismark_bt2_pe.CpG_report.merged_CpG_evidence.cov\r\n",
      "Meth9_R1_001_Pact-viaPan-merged.cov\r\n",
      "Meth9_R1_001_val_1_bismark_bt2_pe.CpG_report.merged_CpG_evidence.cov\r\n"
     ]
    }
   ],
   "source": [
    "!ls"
   ]
  },
  {
   "cell_type": "code",
   "execution_count": 41,
   "metadata": {
    "ExecuteTime": {
     "end_time": "2020-04-21T18:17:42.498372Z",
     "start_time": "2020-04-21T18:17:42.307549Z"
    }
   },
   "outputs": [],
   "source": [
    "!rm *report.merged_CpG_evidence.cov"
   ]
  },
  {
   "cell_type": "code",
   "execution_count": null,
   "metadata": {},
   "outputs": [],
   "source": []
  }
 ],
 "metadata": {
  "kernelspec": {
   "display_name": "Python 3",
   "language": "python",
   "name": "python3"
  },
  "language_info": {
   "codemirror_mode": {
    "name": "ipython",
    "version": 3
   },
   "file_extension": ".py",
   "mimetype": "text/x-python",
   "name": "python",
   "nbconvert_exporter": "python",
   "pygments_lexer": "ipython3",
   "version": "3.6.8"
  }
 },
 "nbformat": 4,
 "nbformat_minor": 2
}
