{
 "cells": [
  {
   "cell_type": "markdown",
   "metadata": {},
   "source": [
    "Here we want to take all 9 5x bedgraphs for a genome and develop a bed file that represent total coverage. "
   ]
  },
  {
   "cell_type": "code",
   "execution_count": 6,
   "metadata": {
    "ExecuteTime": {
     "end_time": "2020-04-01T21:18:17.193906Z",
     "start_time": "2020-04-01T21:18:17.166612Z"
    }
   },
   "outputs": [
    {
     "name": "stdout",
     "output_type": "stream",
     "text": [
      "/Users/sr320/Documents/GitHub/Meth_Compare/data\n"
     ]
    }
   ],
   "source": [
    "cd ../data/\n"
   ]
  },
  {
   "cell_type": "code",
   "execution_count": 7,
   "metadata": {
    "ExecuteTime": {
     "end_time": "2020-04-01T21:18:35.954813Z",
     "start_time": "2020-04-01T21:18:35.818834Z"
    }
   },
   "outputs": [
    {
     "name": "stdout",
     "output_type": "stream",
     "text": [
      "Meth10_R1_001_val_1_bismark_bt2_pe._5x.bedgraph\r\n",
      "Meth11_R1_001_val_1_bismark_bt2_pe._5x.bedgraph\r\n",
      "Meth12_R1_001_val_1_bismark_bt2_pe._5x.bedgraph\r\n",
      "Meth13_R1_001_val_1_bismark_bt2_pe._5x.bedgraph\r\n",
      "Meth14_R1_001_val_1_bismark_bt2_pe._5x.bedgraph\r\n",
      "Meth15_R1_001_val_1_bismark_bt2_pe._5x.bedgraph\r\n",
      "Meth16_R1_001_val_1_bismark_bt2_pe._5x.bedgraph\r\n",
      "Meth17_R1_001_val_1_bismark_bt2_pe._5x.bedgraph\r\n",
      "Meth18_R1_001_val_1_bismark_bt2_pe._5x.bedgraph\r\n"
     ]
    }
   ],
   "source": [
    "ls"
   ]
  },
  {
   "cell_type": "code",
   "execution_count": 8,
   "metadata": {
    "ExecuteTime": {
     "end_time": "2020-04-01T21:20:44.927818Z",
     "start_time": "2020-04-01T21:18:39.018355Z"
    },
    "scrolled": true
   },
   "outputs": [
    {
     "name": "stdout",
     "output_type": "stream",
     "text": [
      "--2020-04-01 14:18:39--  https://gannet.fish.washington.edu/seashell/bu-mox/scrubbed/031520-TG-bs/Pact_tg/dedup/\n",
      "Resolving gannet.fish.washington.edu (gannet.fish.washington.edu)... 128.95.149.52\n",
      "Connecting to gannet.fish.washington.edu (gannet.fish.washington.edu)|128.95.149.52|:443... connected.\n",
      "HTTP request sent, awaiting response... 200 OK\n",
      "Length: unspecified [text/html]\n",
      "Saving to: ‘./index.html.tmp’\n",
      "\n",
      "index.html.tmp          [ <=>                ]  42.11K  --.-KB/s    in 0.09s   \n",
      "\n",
      "2020-04-01 14:18:40 (446 KB/s) - ‘./index.html.tmp’ saved [43123]\n",
      "\n",
      "Loading robots.txt; please ignore errors.\n",
      "--2020-04-01 14:18:40--  https://gannet.fish.washington.edu/robots.txt\n",
      "Reusing existing connection to gannet.fish.washington.edu:443.\n",
      "HTTP request sent, awaiting response... 404 Not Found\n",
      "2020-04-01 14:18:40 ERROR 404: Not Found.\n",
      "\n",
      "Removing ./index.html.tmp since it should be rejected.\n",
      "\n",
      "--2020-04-01 14:18:40--  https://gannet.fish.washington.edu/seashell/bu-mox/scrubbed/031520-TG-bs/Pact_tg/dedup/?C=N;O=D\n",
      "Reusing existing connection to gannet.fish.washington.edu:443.\n",
      "HTTP request sent, awaiting response... 200 OK\n",
      "Length: unspecified [text/html]\n",
      "Saving to: ‘./index.html?C=N;O=D.tmp’\n",
      "\n",
      "index.html?C=N;O=D.     [ <=>                ]  42.11K  --.-KB/s    in 0.05s   \n",
      "\n",
      "2020-04-01 14:18:41 (933 KB/s) - ‘./index.html?C=N;O=D.tmp’ saved [43123]\n",
      "\n",
      "Removing ./index.html?C=N;O=D.tmp since it should be rejected.\n",
      "\n",
      "--2020-04-01 14:18:41--  https://gannet.fish.washington.edu/seashell/bu-mox/scrubbed/031520-TG-bs/Pact_tg/dedup/?C=M;O=A\n",
      "Reusing existing connection to gannet.fish.washington.edu:443.\n",
      "HTTP request sent, awaiting response... 200 OK\n",
      "Length: unspecified [text/html]\n",
      "Saving to: ‘./index.html?C=M;O=A.tmp’\n",
      "\n",
      "index.html?C=M;O=A.     [ <=>                ]  42.11K  --.-KB/s    in 0.05s   \n",
      "\n",
      "2020-04-01 14:18:42 (909 KB/s) - ‘./index.html?C=M;O=A.tmp’ saved [43123]\n",
      "\n",
      "Removing ./index.html?C=M;O=A.tmp since it should be rejected.\n",
      "\n",
      "--2020-04-01 14:18:42--  https://gannet.fish.washington.edu/seashell/bu-mox/scrubbed/031520-TG-bs/Pact_tg/dedup/?C=S;O=A\n",
      "Reusing existing connection to gannet.fish.washington.edu:443.\n",
      "HTTP request sent, awaiting response... 200 OK\n",
      "Length: unspecified [text/html]\n",
      "Saving to: ‘./index.html?C=S;O=A.tmp’\n",
      "\n",
      "index.html?C=S;O=A.     [ <=>                ]  42.11K  --.-KB/s    in 0.04s   \n",
      "\n",
      "2020-04-01 14:18:43 (951 KB/s) - ‘./index.html?C=S;O=A.tmp’ saved [43123]\n",
      "\n",
      "Removing ./index.html?C=S;O=A.tmp since it should be rejected.\n",
      "\n",
      "--2020-04-01 14:18:43--  https://gannet.fish.washington.edu/seashell/bu-mox/scrubbed/031520-TG-bs/Pact_tg/dedup/?C=D;O=A\n",
      "Reusing existing connection to gannet.fish.washington.edu:443.\n",
      "HTTP request sent, awaiting response... 200 OK\n",
      "Length: unspecified [text/html]\n",
      "Saving to: ‘./index.html?C=D;O=A.tmp’\n",
      "\n",
      "index.html?C=D;O=A.     [ <=>                ]  42.11K  --.-KB/s    in 0.05s   \n",
      "\n",
      "2020-04-01 14:18:44 (862 KB/s) - ‘./index.html?C=D;O=A.tmp’ saved [43123]\n",
      "\n",
      "Removing ./index.html?C=D;O=A.tmp since it should be rejected.\n",
      "\n",
      "--2020-04-01 14:18:44--  https://gannet.fish.washington.edu/seashell/bu-mox/scrubbed/031520-TG-bs/Pact_tg/dedup/Meth1_R1_001_val_1_bismark_bt2_pe._5x.bedgraph\n",
      "Reusing existing connection to gannet.fish.washington.edu:443.\n",
      "HTTP request sent, awaiting response... 200 OK\n",
      "Length: 226808063 (216M)\n",
      "Saving to: ‘./Meth1_R1_001_val_1_bismark_bt2_pe._5x.bedgraph’\n",
      "\n",
      "Meth1_R1_001_val_1_ 100%[===================>] 216.30M  8.46MB/s    in 29s     \n",
      "\n",
      "2020-04-01 14:19:13 (7.39 MB/s) - ‘./Meth1_R1_001_val_1_bismark_bt2_pe._5x.bedgraph’ saved [226808063/226808063]\n",
      "\n",
      "--2020-04-01 14:19:14--  https://gannet.fish.washington.edu/seashell/bu-mox/scrubbed/031520-TG-bs/Pact_tg/dedup/Meth2_R1_001_val_1_bismark_bt2_pe._5x.bedgraph\n",
      "Reusing existing connection to gannet.fish.washington.edu:443.\n",
      "HTTP request sent, awaiting response... 200 OK\n",
      "Length: 259720833 (248M)\n",
      "Saving to: ‘./Meth2_R1_001_val_1_bismark_bt2_pe._5x.bedgraph’\n",
      "\n",
      "Meth2_R1_001_val_1_ 100%[===================>] 247.69M  8.05MB/s    in 32s     \n",
      "\n",
      "2020-04-01 14:19:47 (7.67 MB/s) - ‘./Meth2_R1_001_val_1_bismark_bt2_pe._5x.bedgraph’ saved [259720833/259720833]\n",
      "\n",
      "--2020-04-01 14:19:48--  https://gannet.fish.washington.edu/seashell/bu-mox/scrubbed/031520-TG-bs/Pact_tg/dedup/Meth3_R1_001_val_1_bismark_bt2_pe._5x.bedgraph\n",
      "Reusing existing connection to gannet.fish.washington.edu:443.\n",
      "HTTP request sent, awaiting response... 200 OK\n",
      "Length: 239858422 (229M)\n",
      "Saving to: ‘./Meth3_R1_001_val_1_bismark_bt2_pe._5x.bedgraph’\n",
      "\n",
      "Meth3_R1_001_val_1_ 100%[===================>] 228.75M  9.22MB/s    in 26s     \n",
      "\n",
      "2020-04-01 14:20:14 (8.83 MB/s) - ‘./Meth3_R1_001_val_1_bismark_bt2_pe._5x.bedgraph’ saved [239858422/239858422]\n",
      "\n",
      "--2020-04-01 14:20:14--  https://gannet.fish.washington.edu/seashell/bu-mox/scrubbed/031520-TG-bs/Pact_tg/dedup/Meth7_R1_001_val_1_bismark_bt2_pe._5x.bedgraph\n",
      "Reusing existing connection to gannet.fish.washington.edu:443.\n",
      "HTTP request sent, awaiting response... 200 OK\n",
      "Length: 107859832 (103M)\n",
      "Saving to: ‘./Meth7_R1_001_val_1_bismark_bt2_pe._5x.bedgraph’\n",
      "\n",
      "Meth7_R1_001_val_1_ 100%[===================>] 102.86M  9.27MB/s    in 11s     \n",
      "\n",
      "2020-04-01 14:20:25 (9.10 MB/s) - ‘./Meth7_R1_001_val_1_bismark_bt2_pe._5x.bedgraph’ saved [107859832/107859832]\n",
      "\n",
      "--2020-04-01 14:20:25--  https://gannet.fish.washington.edu/seashell/bu-mox/scrubbed/031520-TG-bs/Pact_tg/dedup/Meth8_R1_001_val_1_bismark_bt2_pe._5x.bedgraph\n",
      "Reusing existing connection to gannet.fish.washington.edu:443.\n",
      "HTTP request sent, awaiting response... 200 OK\n",
      "Length: 21772891 (21M)\n",
      "Saving to: ‘./Meth8_R1_001_val_1_bismark_bt2_pe._5x.bedgraph’\n",
      "\n",
      "Meth8_R1_001_val_1_ 100%[===================>]  20.76M  8.97MB/s    in 2.3s    \n",
      "\n",
      "2020-04-01 14:20:28 (8.97 MB/s) - ‘./Meth8_R1_001_val_1_bismark_bt2_pe._5x.bedgraph’ saved [21772891/21772891]\n",
      "\n",
      "--2020-04-01 14:20:28--  https://gannet.fish.washington.edu/seashell/bu-mox/scrubbed/031520-TG-bs/Pact_tg/dedup/Meth9_R1_001_val_1_bismark_bt2_pe._5x.bedgraph\n",
      "Reusing existing connection to gannet.fish.washington.edu:443.\n",
      "HTTP request sent, awaiting response... 200 OK\n",
      "Length: 111717514 (107M)\n",
      "Saving to: ‘./Meth9_R1_001_val_1_bismark_bt2_pe._5x.bedgraph’\n",
      "\n",
      "Meth9_R1_001_val_1_ 100%[===================>] 106.54M  8.89MB/s    in 12s     \n",
      "\n",
      "2020-04-01 14:20:40 (9.00 MB/s) - ‘./Meth9_R1_001_val_1_bismark_bt2_pe._5x.bedgraph’ saved [111717514/111717514]\n",
      "\n",
      "--2020-04-01 14:20:40--  https://gannet.fish.washington.edu/seashell/bu-mox/scrubbed/031520-TG-bs/Pact_tg/dedup/?C=N;O=A\n",
      "Reusing existing connection to gannet.fish.washington.edu:443.\n",
      "HTTP request sent, awaiting response... 200 OK\n",
      "Length: unspecified [text/html]\n",
      "Saving to: ‘./index.html?C=N;O=A.tmp’\n",
      "\n",
      "index.html?C=N;O=A.     [ <=>                ]  42.11K  --.-KB/s    in 0.08s   \n",
      "\n",
      "2020-04-01 14:20:41 (517 KB/s) - ‘./index.html?C=N;O=A.tmp’ saved [43123]\n",
      "\n",
      "Removing ./index.html?C=N;O=A.tmp since it should be rejected.\n",
      "\n",
      "--2020-04-01 14:20:41--  https://gannet.fish.washington.edu/seashell/bu-mox/scrubbed/031520-TG-bs/Pact_tg/dedup/?C=M;O=D\n",
      "Reusing existing connection to gannet.fish.washington.edu:443.\n",
      "HTTP request sent, awaiting response... 200 OK\n",
      "Length: unspecified [text/html]\n",
      "Saving to: ‘./index.html?C=M;O=D.tmp’\n",
      "\n",
      "index.html?C=M;O=D.     [ <=>                ]  42.11K  --.-KB/s    in 0.04s   \n",
      "\n",
      "2020-04-01 14:20:42 (983 KB/s) - ‘./index.html?C=M;O=D.tmp’ saved [43123]\n",
      "\n",
      "Removing ./index.html?C=M;O=D.tmp since it should be rejected.\n",
      "\n",
      "--2020-04-01 14:20:42--  https://gannet.fish.washington.edu/seashell/bu-mox/scrubbed/031520-TG-bs/Pact_tg/dedup/?C=S;O=D\n",
      "Reusing existing connection to gannet.fish.washington.edu:443.\n",
      "HTTP request sent, awaiting response... 200 OK\n",
      "Length: unspecified [text/html]\n",
      "Saving to: ‘./index.html?C=S;O=D.tmp’\n",
      "\n",
      "index.html?C=S;O=D.     [ <=>                ]  42.11K  --.-KB/s    in 0.04s   \n",
      "\n",
      "2020-04-01 14:20:43 (936 KB/s) - ‘./index.html?C=S;O=D.tmp’ saved [43123]\n",
      "\n",
      "Removing ./index.html?C=S;O=D.tmp since it should be rejected.\n",
      "\n",
      "--2020-04-01 14:20:43--  https://gannet.fish.washington.edu/seashell/bu-mox/scrubbed/031520-TG-bs/Pact_tg/dedup/?C=D;O=D\n",
      "Reusing existing connection to gannet.fish.washington.edu:443.\n",
      "HTTP request sent, awaiting response... 200 OK\n",
      "Length: unspecified [text/html]\n",
      "Saving to: ‘./index.html?C=D;O=D.tmp’\n",
      "\n"
     ]
    },
    {
     "name": "stdout",
     "output_type": "stream",
     "text": [
      "index.html?C=D;O=D.     [<=>                 ]       0  --.-KB/s               \r",
      "index.html?C=D;O=D.     [ <=>                ]  42.11K  --.-KB/s    in 0.04s   \r\n",
      "\r\n",
      "2020-04-01 14:20:44 (938 KB/s) - ‘./index.html?C=D;O=D.tmp’ saved [43123]\r\n",
      "\r\n",
      "Removing ./index.html?C=D;O=D.tmp since it should be rejected.\r\n",
      "\r\n",
      "FINISHED --2020-04-01 14:20:44--\r\n",
      "Total wall clock time: 2m 6s\r\n",
      "Downloaded: 15 files, 923M in 1m 53s (8.14 MB/s)\r\n"
     ]
    }
   ],
   "source": [
    "!wget -r \\\n",
    "--no-directories --no-parent --reject \"index.html*\" \\\n",
    "-P . \\\n",
    "-A 5x.bedgraph https://gannet.fish.washington.edu/seashell/bu-mox/scrubbed/031520-TG-bs/Pact_tg/dedup/\n"
   ]
  },
  {
   "cell_type": "code",
   "execution_count": 9,
   "metadata": {
    "ExecuteTime": {
     "end_time": "2020-04-01T21:21:10.354279Z",
     "start_time": "2020-04-01T21:20:44.934048Z"
    }
   },
   "outputs": [
    {
     "name": "stdout",
     "output_type": "stream",
     "text": [
      "--2020-04-01 14:20:44--  https://gannet.fish.washington.edu/seashell/bu-mox/scrubbed/031520-TG-bs/Pact_tg/nodedup/\n",
      "Resolving gannet.fish.washington.edu (gannet.fish.washington.edu)... 128.95.149.52\n",
      "Connecting to gannet.fish.washington.edu (gannet.fish.washington.edu)|128.95.149.52|:443... connected.\n",
      "HTTP request sent, awaiting response... 200 OK\n",
      "Length: unspecified [text/html]\n",
      "Saving to: ‘./index.html.tmp’\n",
      "\n",
      "index.html.tmp          [ <=>                ]  19.51K  --.-KB/s    in 0.03s   \n",
      "\n",
      "2020-04-01 14:20:45 (734 KB/s) - ‘./index.html.tmp’ saved [19983]\n",
      "\n",
      "Loading robots.txt; please ignore errors.\n",
      "--2020-04-01 14:20:45--  https://gannet.fish.washington.edu/robots.txt\n",
      "Reusing existing connection to gannet.fish.washington.edu:443.\n",
      "HTTP request sent, awaiting response... 404 Not Found\n",
      "2020-04-01 14:20:45 ERROR 404: Not Found.\n",
      "\n",
      "Removing ./index.html.tmp since it should be rejected.\n",
      "\n",
      "--2020-04-01 14:20:45--  https://gannet.fish.washington.edu/seashell/bu-mox/scrubbed/031520-TG-bs/Pact_tg/nodedup/?C=N;O=D\n",
      "Reusing existing connection to gannet.fish.washington.edu:443.\n",
      "HTTP request sent, awaiting response... 200 OK\n",
      "Length: unspecified [text/html]\n",
      "Saving to: ‘./index.html?C=N;O=D.tmp’\n",
      "\n",
      "index.html?C=N;O=D.     [ <=>                ]  19.51K  --.-KB/s    in 0.02s   \n",
      "\n",
      "2020-04-01 14:20:45 (1.11 MB/s) - ‘./index.html?C=N;O=D.tmp’ saved [19983]\n",
      "\n",
      "Removing ./index.html?C=N;O=D.tmp since it should be rejected.\n",
      "\n",
      "--2020-04-01 14:20:45--  https://gannet.fish.washington.edu/seashell/bu-mox/scrubbed/031520-TG-bs/Pact_tg/nodedup/?C=M;O=A\n",
      "Reusing existing connection to gannet.fish.washington.edu:443.\n",
      "HTTP request sent, awaiting response... 200 OK\n",
      "Length: unspecified [text/html]\n",
      "Saving to: ‘./index.html?C=M;O=A.tmp’\n",
      "\n",
      "index.html?C=M;O=A.     [ <=>                ]  19.51K  --.-KB/s    in 0.03s   \n",
      "\n",
      "2020-04-01 14:20:46 (622 KB/s) - ‘./index.html?C=M;O=A.tmp’ saved [19983]\n",
      "\n",
      "Removing ./index.html?C=M;O=A.tmp since it should be rejected.\n",
      "\n",
      "--2020-04-01 14:20:46--  https://gannet.fish.washington.edu/seashell/bu-mox/scrubbed/031520-TG-bs/Pact_tg/nodedup/?C=S;O=A\n",
      "Reusing existing connection to gannet.fish.washington.edu:443.\n",
      "HTTP request sent, awaiting response... 200 OK\n",
      "Length: unspecified [text/html]\n",
      "Saving to: ‘./index.html?C=S;O=A.tmp’\n",
      "\n",
      "index.html?C=S;O=A.     [ <=>                ]  19.51K  --.-KB/s    in 0.03s   \n",
      "\n",
      "2020-04-01 14:20:46 (766 KB/s) - ‘./index.html?C=S;O=A.tmp’ saved [19983]\n",
      "\n",
      "Removing ./index.html?C=S;O=A.tmp since it should be rejected.\n",
      "\n",
      "--2020-04-01 14:20:46--  https://gannet.fish.washington.edu/seashell/bu-mox/scrubbed/031520-TG-bs/Pact_tg/nodedup/?C=D;O=A\n",
      "Reusing existing connection to gannet.fish.washington.edu:443.\n",
      "HTTP request sent, awaiting response... 200 OK\n",
      "Length: unspecified [text/html]\n",
      "Saving to: ‘./index.html?C=D;O=A.tmp’\n",
      "\n",
      "index.html?C=D;O=A.     [ <=>                ]  19.51K  --.-KB/s    in 0.02s   \n",
      "\n",
      "2020-04-01 14:20:47 (794 KB/s) - ‘./index.html?C=D;O=A.tmp’ saved [19983]\n",
      "\n",
      "Removing ./index.html?C=D;O=A.tmp since it should be rejected.\n",
      "\n",
      "--2020-04-01 14:20:47--  https://gannet.fish.washington.edu/seashell/bu-mox/scrubbed/031520-TG-bs/Pact_tg/nodedup/Meth4_R1_001_val_1_bismark_bt2_pe._5x.bedgraph\n",
      "Reusing existing connection to gannet.fish.washington.edu:443.\n",
      "HTTP request sent, awaiting response... 200 OK\n",
      "Length: 74748447 (71M)\n",
      "Saving to: ‘./Meth4_R1_001_val_1_bismark_bt2_pe._5x.bedgraph’\n",
      "\n",
      "Meth4_R1_001_val_1_ 100%[===================>]  71.29M  8.92MB/s    in 8.5s    \n",
      "\n",
      "2020-04-01 14:20:55 (8.42 MB/s) - ‘./Meth4_R1_001_val_1_bismark_bt2_pe._5x.bedgraph’ saved [74748447/74748447]\n",
      "\n",
      "--2020-04-01 14:20:55--  https://gannet.fish.washington.edu/seashell/bu-mox/scrubbed/031520-TG-bs/Pact_tg/nodedup/Meth5_R1_001_val_1_bismark_bt2_pe._5x.bedgraph\n",
      "Reusing existing connection to gannet.fish.washington.edu:443.\n",
      "HTTP request sent, awaiting response... 200 OK\n",
      "Length: 58979704 (56M)\n",
      "Saving to: ‘./Meth5_R1_001_val_1_bismark_bt2_pe._5x.bedgraph’\n",
      "\n",
      "Meth5_R1_001_val_1_ 100%[===================>]  56.25M  9.27MB/s    in 6.1s    \n",
      "\n",
      "2020-04-01 14:21:01 (9.18 MB/s) - ‘./Meth5_R1_001_val_1_bismark_bt2_pe._5x.bedgraph’ saved [58979704/58979704]\n",
      "\n",
      "--2020-04-01 14:21:02--  https://gannet.fish.washington.edu/seashell/bu-mox/scrubbed/031520-TG-bs/Pact_tg/nodedup/Meth6_R1_001_val_1_bismark_bt2_pe._5x.bedgraph\n",
      "Reusing existing connection to gannet.fish.washington.edu:443.\n",
      "HTTP request sent, awaiting response... 200 OK\n",
      "Length: 61726619 (59M)\n",
      "Saving to: ‘./Meth6_R1_001_val_1_bismark_bt2_pe._5x.bedgraph’\n",
      "\n",
      "Meth6_R1_001_val_1_ 100%[===================>]  58.87M  9.00MB/s    in 6.6s    \n",
      "\n",
      "2020-04-01 14:21:08 (8.97 MB/s) - ‘./Meth6_R1_001_val_1_bismark_bt2_pe._5x.bedgraph’ saved [61726619/61726619]\n",
      "\n",
      "--2020-04-01 14:21:08--  https://gannet.fish.washington.edu/seashell/bu-mox/scrubbed/031520-TG-bs/Pact_tg/nodedup/?C=N;O=A\n",
      "Reusing existing connection to gannet.fish.washington.edu:443.\n",
      "HTTP request sent, awaiting response... 200 OK\n",
      "Length: unspecified [text/html]\n",
      "Saving to: ‘./index.html?C=N;O=A.tmp’\n",
      "\n",
      "index.html?C=N;O=A.     [ <=>                ]  19.51K  --.-KB/s    in 0s      \n",
      "\n",
      "2020-04-01 14:21:09 (54.6 MB/s) - ‘./index.html?C=N;O=A.tmp’ saved [19983]\n",
      "\n",
      "Removing ./index.html?C=N;O=A.tmp since it should be rejected.\n",
      "\n",
      "--2020-04-01 14:21:09--  https://gannet.fish.washington.edu/seashell/bu-mox/scrubbed/031520-TG-bs/Pact_tg/nodedup/?C=M;O=D\n",
      "Reusing existing connection to gannet.fish.washington.edu:443.\n",
      "HTTP request sent, awaiting response... 200 OK\n",
      "Length: unspecified [text/html]\n",
      "Saving to: ‘./index.html?C=M;O=D.tmp’\n",
      "\n",
      "index.html?C=M;O=D.     [ <=>                ]  19.51K  --.-KB/s    in 0s      \n",
      "\n",
      "2020-04-01 14:21:09 (49.5 MB/s) - ‘./index.html?C=M;O=D.tmp’ saved [19983]\n",
      "\n",
      "Removing ./index.html?C=M;O=D.tmp since it should be rejected.\n",
      "\n",
      "--2020-04-01 14:21:09--  https://gannet.fish.washington.edu/seashell/bu-mox/scrubbed/031520-TG-bs/Pact_tg/nodedup/?C=S;O=D\n",
      "Reusing existing connection to gannet.fish.washington.edu:443.\n",
      "HTTP request sent, awaiting response... 200 OK\n",
      "Length: unspecified [text/html]\n",
      "Saving to: ‘./index.html?C=S;O=D.tmp’\n",
      "\n",
      "index.html?C=S;O=D.     [ <=>                ]  19.51K  --.-KB/s    in 0s      \n",
      "\n",
      "2020-04-01 14:21:09 (52.2 MB/s) - ‘./index.html?C=S;O=D.tmp’ saved [19983]\n",
      "\n",
      "Removing ./index.html?C=S;O=D.tmp since it should be rejected.\n",
      "\n",
      "--2020-04-01 14:21:09--  https://gannet.fish.washington.edu/seashell/bu-mox/scrubbed/031520-TG-bs/Pact_tg/nodedup/?C=D;O=D\n",
      "Reusing existing connection to gannet.fish.washington.edu:443.\n",
      "HTTP request sent, awaiting response... 200 OK\n",
      "Length: unspecified [text/html]\n",
      "Saving to: ‘./index.html?C=D;O=D.tmp’\n",
      "\n",
      "index.html?C=D;O=D.     [ <=>                ]  19.51K  --.-KB/s    in 0s      \n",
      "\n",
      "2020-04-01 14:21:10 (52.9 MB/s) - ‘./index.html?C=D;O=D.tmp’ saved [19983]\n",
      "\n",
      "Removing ./index.html?C=D;O=D.tmp since it should be rejected.\n",
      "\n",
      "FINISHED --2020-04-01 14:21:10--\n",
      "Total wall clock time: 25s\n",
      "Downloaded: 12 files, 187M in 21s (8.77 MB/s)\n"
     ]
    }
   ],
   "source": [
    "!wget -r \\\n",
    "--no-directories --no-parent --reject \"index.html*\" \\\n",
    "-P . \\\n",
    "-A 5x.bedgraph https://gannet.fish.washington.edu/seashell/bu-mox/scrubbed/031520-TG-bs/Pact_tg/nodedup/"
   ]
  },
  {
   "cell_type": "code",
   "execution_count": 10,
   "metadata": {
    "ExecuteTime": {
     "end_time": "2020-04-01T21:21:10.498790Z",
     "start_time": "2020-04-01T21:21:10.358087Z"
    }
   },
   "outputs": [
    {
     "name": "stdout",
     "output_type": "stream",
     "text": [
      "total 4017624\r\n",
      "-rw-r--r--  1 sr320  staff   117M Mar 25 22:43 Meth10_R1_001_val_1_bismark_bt2_pe._5x.bedgraph\r\n",
      "-rw-r--r--  1 sr320  staff   120M Mar 25 22:43 Meth11_R1_001_val_1_bismark_bt2_pe._5x.bedgraph\r\n",
      "-rw-r--r--  1 sr320  staff   226M Mar 25 22:43 Meth12_R1_001_val_1_bismark_bt2_pe._5x.bedgraph\r\n",
      "-rw-r--r--  1 sr320  staff    81M Mar 26 09:24 Meth13_R1_001_val_1_bismark_bt2_pe._5x.bedgraph\r\n",
      "-rw-r--r--  1 sr320  staff    68M Mar 26 09:24 Meth14_R1_001_val_1_bismark_bt2_pe._5x.bedgraph\r\n",
      "-rw-r--r--  1 sr320  staff    81M Mar 26 09:24 Meth15_R1_001_val_1_bismark_bt2_pe._5x.bedgraph\r\n",
      "-rw-r--r--  1 sr320  staff    15M Mar 25 22:44 Meth16_R1_001_val_1_bismark_bt2_pe._5x.bedgraph\r\n",
      "-rw-r--r--  1 sr320  staff   6.2M Mar 25 22:44 Meth17_R1_001_val_1_bismark_bt2_pe._5x.bedgraph\r\n",
      "-rw-r--r--  1 sr320  staff   4.0M Mar 25 22:44 Meth18_R1_001_val_1_bismark_bt2_pe._5x.bedgraph\r\n",
      "-rw-r--r--  1 sr320  staff   216M Mar 26 15:41 Meth1_R1_001_val_1_bismark_bt2_pe._5x.bedgraph\r\n",
      "-rw-r--r--  1 sr320  staff   248M Mar 26 15:41 Meth2_R1_001_val_1_bismark_bt2_pe._5x.bedgraph\r\n",
      "-rw-r--r--  1 sr320  staff   229M Mar 26 15:41 Meth3_R1_001_val_1_bismark_bt2_pe._5x.bedgraph\r\n",
      "-rw-r--r--  1 sr320  staff    71M Mar 27 17:42 Meth4_R1_001_val_1_bismark_bt2_pe._5x.bedgraph\r\n",
      "-rw-r--r--  1 sr320  staff    56M Mar 27 17:42 Meth5_R1_001_val_1_bismark_bt2_pe._5x.bedgraph\r\n",
      "-rw-r--r--  1 sr320  staff    59M Mar 27 17:42 Meth6_R1_001_val_1_bismark_bt2_pe._5x.bedgraph\r\n",
      "-rw-r--r--  1 sr320  staff   103M Mar 26 15:41 Meth7_R1_001_val_1_bismark_bt2_pe._5x.bedgraph\r\n",
      "-rw-r--r--  1 sr320  staff    21M Mar 26 15:41 Meth8_R1_001_val_1_bismark_bt2_pe._5x.bedgraph\r\n",
      "-rw-r--r--  1 sr320  staff   107M Mar 26 15:42 Meth9_R1_001_val_1_bismark_bt2_pe._5x.bedgraph\r\n"
     ]
    }
   ],
   "source": [
    "!ls -lh\n"
   ]
  },
  {
   "cell_type": "code",
   "execution_count": 11,
   "metadata": {
    "ExecuteTime": {
     "end_time": "2020-04-01T21:21:15.251105Z",
     "start_time": "2020-04-01T21:21:10.501379Z"
    }
   },
   "outputs": [
    {
     "name": "stdout",
     "output_type": "stream",
     "text": [
      "MD5 (Meth10_R1_001_val_1_bismark_bt2_pe._5x.bedgraph) = 83035e7e47b8ad486de22dacc17ae8ed\n",
      "MD5 (Meth11_R1_001_val_1_bismark_bt2_pe._5x.bedgraph) = 6493359aad0b4228f65b5e563d337ceb\n",
      "MD5 (Meth12_R1_001_val_1_bismark_bt2_pe._5x.bedgraph) = b2f097299df0cb7d518d22338fdcf39f\n",
      "MD5 (Meth13_R1_001_val_1_bismark_bt2_pe._5x.bedgraph) = 2bb476cb98072f0e76bfb5c318246c38\n",
      "MD5 (Meth14_R1_001_val_1_bismark_bt2_pe._5x.bedgraph) = fc0f66cf04ffebe76d61c1db75cfed6e\n",
      "MD5 (Meth15_R1_001_val_1_bismark_bt2_pe._5x.bedgraph) = 1d7c24b238dc72cd92346213b3523611\n",
      "MD5 (Meth16_R1_001_val_1_bismark_bt2_pe._5x.bedgraph) = 04fb72d5df60656e6cec15637164fbec\n",
      "MD5 (Meth17_R1_001_val_1_bismark_bt2_pe._5x.bedgraph) = 073d1c40116a3f93f7a7022cfb4cd3d2\n",
      "MD5 (Meth18_R1_001_val_1_bismark_bt2_pe._5x.bedgraph) = a255210553db073e5458ccb523a34798\n",
      "MD5 (Meth1_R1_001_val_1_bismark_bt2_pe._5x.bedgraph) = d634ffc3f062d248e36b8dddc9a315e0\n",
      "MD5 (Meth2_R1_001_val_1_bismark_bt2_pe._5x.bedgraph) = 1ec934f5b4ce012b64b77dd69d70ee5f\n",
      "MD5 (Meth3_R1_001_val_1_bismark_bt2_pe._5x.bedgraph) = c456156b7f6a11543d8dc697e8e74b4e\n",
      "MD5 (Meth4_R1_001_val_1_bismark_bt2_pe._5x.bedgraph) = 736fd3802ce1b45b6eb32abf6e1bcb3f\n",
      "MD5 (Meth5_R1_001_val_1_bismark_bt2_pe._5x.bedgraph) = ed4428a6c8cb6a4964687d91c0d8ccb3\n",
      "MD5 (Meth6_R1_001_val_1_bismark_bt2_pe._5x.bedgraph) = 5994ba73d412d8992f2465b148f5ae80\n",
      "MD5 (Meth7_R1_001_val_1_bismark_bt2_pe._5x.bedgraph) = a2b842c439c3df3fb699690cd5b55d5a\n",
      "MD5 (Meth8_R1_001_val_1_bismark_bt2_pe._5x.bedgraph) = c838562956c7abe3656a2b7438a40dc1\n",
      "MD5 (Meth9_R1_001_val_1_bismark_bt2_pe._5x.bedgraph) = c9a4b002113e2501d81e4762cf952b79\n"
     ]
    }
   ],
   "source": [
    "!md5 *"
   ]
  },
  {
   "cell_type": "markdown",
   "metadata": {},
   "source": [
    "Will use unionbed\n",
    "![pic](http://gannet.fish.washington.edu/seashell/snaps/unionbedg__bedtools_2.29.2_documentation_2020-03-28_04-39-52.png)"
   ]
  },
  {
   "cell_type": "code",
   "execution_count": 12,
   "metadata": {
    "ExecuteTime": {
     "end_time": "2020-04-01T21:25:02.765907Z",
     "start_time": "2020-04-01T21:21:15.254437Z"
    }
   },
   "outputs": [],
   "source": [
    "!/Applications/bioinfo/bedtools2/bin/bedtools \\\n",
    "unionbedg \\\n",
    "-header \\\n",
    "-filler N/A \\\n",
    "-names 1 2 3 4 5 6 7 8 9 \\\n",
    "-i \\\n",
    "Meth1_R1_001_val_1_bismark_bt2_pe._5x.bedgraph \\\n",
    "Meth2_R1_001_val_1_bismark_bt2_pe._5x.bedgraph \\\n",
    "Meth3_R1_001_val_1_bismark_bt2_pe._5x.bedgraph \\\n",
    "Meth4_R1_001_val_1_bismark_bt2_pe._5x.bedgraph \\\n",
    "Meth5_R1_001_val_1_bismark_bt2_pe._5x.bedgraph \\\n",
    "Meth6_R1_001_val_1_bismark_bt2_pe._5x.bedgraph \\\n",
    "Meth7_R1_001_val_1_bismark_bt2_pe._5x.bedgraph \\\n",
    "Meth8_R1_001_val_1_bismark_bt2_pe._5x.bedgraph \\\n",
    "Meth9_R1_001_val_1_bismark_bt2_pe._5x.bedgraph \\\n",
    "> ../analyses/10-unionbedg/Pact_union_5x.bedgraph\n"
   ]
  },
  {
   "cell_type": "code",
   "execution_count": 13,
   "metadata": {
    "ExecuteTime": {
     "end_time": "2020-04-01T21:25:02.971003Z",
     "start_time": "2020-04-01T21:25:02.777452Z"
    }
   },
   "outputs": [
    {
     "name": "stdout",
     "output_type": "stream",
     "text": [
      "chrom\tstart\tend\t1\t2\t3\t4\t5\t6\t7\t8\t9\r\n",
      "scaffold1_cov55\t49\t51\tN/A\t0.000000\tN/A\tN/A\tN/A\tN/A\tN/A\tN/A\tN/A\r\n",
      "scaffold1_cov55\t84\t86\tN/A\t0.000000\tN/A\tN/A\tN/A\tN/A\tN/A\tN/A\tN/A\r\n",
      "scaffold1_cov55\t92\t94\tN/A\t0.000000\tN/A\tN/A\tN/A\tN/A\tN/A\tN/A\tN/A\r\n",
      "scaffold1_cov55\t102\t104\t16.666667\t0.000000\tN/A\tN/A\tN/A\tN/A\tN/A\tN/A\tN/A\r\n",
      "scaffold1_cov55\t105\t107\t0.000000\t12.500000\tN/A\tN/A\tN/A\tN/A\tN/A\tN/A\tN/A\r\n",
      "scaffold1_cov55\t116\t118\t0.000000\t0.000000\tN/A\tN/A\tN/A\tN/A\tN/A\tN/A\tN/A\r\n",
      "scaffold1_cov55\t119\t121\t0.000000\t0.000000\t20.000000\tN/A\tN/A\tN/A\tN/A\tN/A\tN/A\r\n",
      "scaffold1_cov55\t146\t148\t0.000000\t0.000000\tN/A\tN/A\tN/A\tN/A\tN/A\tN/A\tN/A\r\n",
      "scaffold1_cov55\t169\t171\tN/A\t0.000000\tN/A\tN/A\tN/A\tN/A\tN/A\tN/A\tN/A\r\n"
     ]
    }
   ],
   "source": [
    "!head ../analyses/10-unionbedg/Pact_union_5x.bedgraph"
   ]
  },
  {
   "cell_type": "markdown",
   "metadata": {},
   "source": [
    "availabe @ https://gannet.fish.washington.edu/seashell/bu-github/Meth_Compare/analyses/10-unionbedg/"
   ]
  },
  {
   "cell_type": "markdown",
   "metadata": {},
   "source": [
    "```\n",
    "rsync -avz --exclude=\".*\" --progress Meth_Compare sr320@gannet.fish.washington.edu:/volume2/web/seashell/bu-github/\n",
    "```"
   ]
  },
  {
   "cell_type": "code",
   "execution_count": null,
   "metadata": {},
   "outputs": [],
   "source": []
  }
 ],
 "metadata": {
  "kernelspec": {
   "display_name": "Python 3",
   "language": "python",
   "name": "python3"
  },
  "language_info": {
   "codemirror_mode": {
    "name": "ipython",
    "version": 3
   },
   "file_extension": ".py",
   "mimetype": "text/x-python",
   "name": "python",
   "nbconvert_exporter": "python",
   "pygments_lexer": "ipython3",
   "version": "3.6.8"
  }
 },
 "nbformat": 4,
 "nbformat_minor": 2
}
