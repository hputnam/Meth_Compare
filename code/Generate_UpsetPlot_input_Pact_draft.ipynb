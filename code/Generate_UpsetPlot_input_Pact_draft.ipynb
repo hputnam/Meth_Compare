{
 "cells": [
  {
   "cell_type": "markdown",
   "metadata": {},
   "source": [
    "## 2020-05-01 \n",
    "#### below is preliminary code to generate Upset plot input data\n",
    "output from code is here:  \n",
    "[https://gannet.fish.washington.edu/metacarcinus/FROGER_meth_compare/20200501/data/](https://gannet.fish.washington.edu/metacarcinus/FROGER_meth_compare/20200501/data/)"
   ]
  },
  {
   "cell_type": "code",
   "execution_count": null,
   "metadata": {
    "collapsed": true
   },
   "outputs": [],
   "source": [
    "#get data"
   ]
  },
  {
   "cell_type": "code",
   "execution_count": 1,
   "metadata": {},
   "outputs": [
    {
     "name": "stdout",
     "output_type": "stream",
     "text": [
      "/Users/strigg/Documents/GitHub/Meth_Compare/data\n"
     ]
    }
   ],
   "source": [
    "cd ../data"
   ]
  },
  {
   "cell_type": "code",
   "execution_count": 2,
   "metadata": {},
   "outputs": [
    {
     "name": "stdout",
     "output_type": "stream",
     "text": [
      "--2020-05-01 11:27:45--  https://gannet.fish.washington.edu/seashell/bu-mox/scrubbed/031520-TG-bs/Pact_tg/dedup/\n",
      "Resolving gannet.fish.washington.edu... 128.95.149.52\n",
      "Connecting to gannet.fish.washington.edu|128.95.149.52|:443... connected.\n",
      "HTTP request sent, awaiting response... 200 OK\n",
      "Length: unspecified [text/html]\n",
      "Saving to: ‘./index.html’\n",
      "\n",
      "index.html              [ <=>                ]  42.11K  --.-KB/s    in 0.001s  \n",
      "\n",
      "2020-05-01 11:27:46 (42.1 MB/s) - ‘./index.html’ saved [43123]\n",
      "\n",
      "Loading robots.txt; please ignore errors.\n",
      "--2020-05-01 11:27:46--  https://gannet.fish.washington.edu/robots.txt\n",
      "Reusing existing connection to gannet.fish.washington.edu:443.\n",
      "HTTP request sent, awaiting response... 404 Not Found\n",
      "2020-05-01 11:27:46 ERROR 404: Not Found.\n",
      "\n",
      "Removing ./index.html since it should be rejected.\n",
      "\n",
      "--2020-05-01 11:27:46--  https://gannet.fish.washington.edu/seashell/bu-mox/scrubbed/031520-TG-bs/Pact_tg/dedup/?C=N;O=D\n",
      "Reusing existing connection to gannet.fish.washington.edu:443.\n",
      "HTTP request sent, awaiting response... 200 OK\n",
      "Length: unspecified [text/html]\n",
      "Saving to: ‘./index.html?C=N;O=D’\n",
      "\n",
      "index.html?C=N;O=D      [ <=>                ]  42.11K  --.-KB/s    in 0.001s  \n",
      "\n",
      "2020-05-01 11:27:47 (49.1 MB/s) - ‘./index.html?C=N;O=D’ saved [43123]\n",
      "\n",
      "Removing ./index.html?C=N;O=D since it should be rejected.\n",
      "\n",
      "--2020-05-01 11:27:47--  https://gannet.fish.washington.edu/seashell/bu-mox/scrubbed/031520-TG-bs/Pact_tg/dedup/?C=M;O=A\n",
      "Reusing existing connection to gannet.fish.washington.edu:443.\n",
      "HTTP request sent, awaiting response... 200 OK\n",
      "Length: unspecified [text/html]\n",
      "Saving to: ‘./index.html?C=M;O=A’\n",
      "\n",
      "index.html?C=M;O=A      [ <=>                ]  42.11K  --.-KB/s    in 0.001s  \n",
      "\n",
      "2020-05-01 11:27:48 (49.1 MB/s) - ‘./index.html?C=M;O=A’ saved [43123]\n",
      "\n",
      "Removing ./index.html?C=M;O=A since it should be rejected.\n",
      "\n",
      "--2020-05-01 11:27:48--  https://gannet.fish.washington.edu/seashell/bu-mox/scrubbed/031520-TG-bs/Pact_tg/dedup/?C=S;O=A\n",
      "Reusing existing connection to gannet.fish.washington.edu:443.\n",
      "HTTP request sent, awaiting response... 200 OK\n",
      "Length: unspecified [text/html]\n",
      "Saving to: ‘./index.html?C=S;O=A’\n",
      "\n",
      "index.html?C=S;O=A      [ <=>                ]  42.11K  --.-KB/s    in 0.001s  \n",
      "\n",
      "2020-05-01 11:27:49 (50.5 MB/s) - ‘./index.html?C=S;O=A’ saved [43123]\n",
      "\n",
      "Removing ./index.html?C=S;O=A since it should be rejected.\n",
      "\n",
      "--2020-05-01 11:27:49--  https://gannet.fish.washington.edu/seashell/bu-mox/scrubbed/031520-TG-bs/Pact_tg/dedup/?C=D;O=A\n",
      "Reusing existing connection to gannet.fish.washington.edu:443.\n",
      "HTTP request sent, awaiting response... 200 OK\n",
      "Length: unspecified [text/html]\n",
      "Saving to: ‘./index.html?C=D;O=A’\n",
      "\n",
      "index.html?C=D;O=A      [ <=>                ]  42.11K  --.-KB/s    in 0.001s  \n",
      "\n",
      "2020-05-01 11:27:50 (50.0 MB/s) - ‘./index.html?C=D;O=A’ saved [43123]\n",
      "\n",
      "Removing ./index.html?C=D;O=A since it should be rejected.\n",
      "\n",
      "--2020-05-01 11:27:50--  https://gannet.fish.washington.edu/seashell/bu-mox/scrubbed/031520-TG-bs/Pact_tg/dedup/Meth1_R1_001_val_1_bismark_bt2_pe._5x.tab\n",
      "Reusing existing connection to gannet.fish.washington.edu:443.\n",
      "HTTP request sent, awaiting response... 200 OK\n",
      "Length: 251446400 (240M)\n",
      "Saving to: ‘./Meth1_R1_001_val_1_bismark_bt2_pe._5x.tab’\n",
      "\n",
      "Meth1_R1_001_val_1_ 100%[===================>] 239.80M  67.4MB/s    in 3.6s    \n",
      "\n",
      "2020-05-01 11:27:53 (67.1 MB/s) - ‘./Meth1_R1_001_val_1_bismark_bt2_pe._5x.tab’ saved [251446400/251446400]\n",
      "\n",
      "--2020-05-01 11:27:54--  https://gannet.fish.washington.edu/seashell/bu-mox/scrubbed/031520-TG-bs/Pact_tg/dedup/Meth2_R1_001_val_1_bismark_bt2_pe._5x.tab\n",
      "Reusing existing connection to gannet.fish.washington.edu:443.\n",
      "HTTP request sent, awaiting response... 200 OK\n",
      "Length: 289019583 (276M)\n",
      "Saving to: ‘./Meth2_R1_001_val_1_bismark_bt2_pe._5x.tab’\n",
      "\n",
      "Meth2_R1_001_val_1_ 100%[===================>] 275.63M  70.0MB/s    in 4.0s    \n",
      "\n",
      "2020-05-01 11:27:57 (69.6 MB/s) - ‘./Meth2_R1_001_val_1_bismark_bt2_pe._5x.tab’ saved [289019583/289019583]\n",
      "\n",
      "--2020-05-01 11:27:58--  https://gannet.fish.washington.edu/seashell/bu-mox/scrubbed/031520-TG-bs/Pact_tg/dedup/Meth3_R1_001_val_1_bismark_bt2_pe._5x.tab\n",
      "Reusing existing connection to gannet.fish.washington.edu:443.\n",
      "HTTP request sent, awaiting response... 200 OK\n",
      "Length: 266285364 (254M)\n",
      "Saving to: ‘./Meth3_R1_001_val_1_bismark_bt2_pe._5x.tab’\n",
      "\n",
      "Meth3_R1_001_val_1_ 100%[===================>] 253.95M  69.6MB/s    in 3.7s    \n",
      "\n",
      "2020-05-01 11:28:01 (69.5 MB/s) - ‘./Meth3_R1_001_val_1_bismark_bt2_pe._5x.tab’ saved [266285364/266285364]\n",
      "\n",
      "--2020-05-01 11:28:02--  https://gannet.fish.washington.edu/seashell/bu-mox/scrubbed/031520-TG-bs/Pact_tg/dedup/Meth7_R1_001_val_1_bismark_bt2_pe._5x.tab\n",
      "Reusing existing connection to gannet.fish.washington.edu:443.\n",
      "HTTP request sent, awaiting response... 200 OK\n",
      "Length: 119267483 (114M)\n",
      "Saving to: ‘./Meth7_R1_001_val_1_bismark_bt2_pe._5x.tab’\n",
      "\n",
      "Meth7_R1_001_val_1_ 100%[===================>] 113.74M  68.4MB/s    in 1.7s    \n",
      "\n",
      "2020-05-01 11:28:03 (68.4 MB/s) - ‘./Meth7_R1_001_val_1_bismark_bt2_pe._5x.tab’ saved [119267483/119267483]\n",
      "\n",
      "--2020-05-01 11:28:03--  https://gannet.fish.washington.edu/seashell/bu-mox/scrubbed/031520-TG-bs/Pact_tg/dedup/Meth8_R1_001_val_1_bismark_bt2_pe._5x.tab\n",
      "Reusing existing connection to gannet.fish.washington.edu:443.\n",
      "HTTP request sent, awaiting response... 200 OK\n",
      "Length: 24249961 (23M)\n",
      "Saving to: ‘./Meth8_R1_001_val_1_bismark_bt2_pe._5x.tab’\n",
      "\n",
      "Meth8_R1_001_val_1_ 100%[===================>]  23.13M  65.8MB/s    in 0.4s    \n",
      "\n",
      "2020-05-01 11:28:04 (65.8 MB/s) - ‘./Meth8_R1_001_val_1_bismark_bt2_pe._5x.tab’ saved [24249961/24249961]\n",
      "\n",
      "--2020-05-01 11:28:04--  https://gannet.fish.washington.edu/seashell/bu-mox/scrubbed/031520-TG-bs/Pact_tg/dedup/Meth9_R1_001_val_1_bismark_bt2_pe._5x.tab\n",
      "Reusing existing connection to gannet.fish.washington.edu:443.\n",
      "HTTP request sent, awaiting response... 200 OK\n",
      "Length: 123420028 (118M)\n",
      "Saving to: ‘./Meth9_R1_001_val_1_bismark_bt2_pe._5x.tab’\n",
      "\n",
      "Meth9_R1_001_val_1_ 100%[===================>] 117.70M  69.1MB/s    in 1.7s    \n",
      "\n",
      "2020-05-01 11:28:06 (69.1 MB/s) - ‘./Meth9_R1_001_val_1_bismark_bt2_pe._5x.tab’ saved [123420028/123420028]\n",
      "\n",
      "--2020-05-01 11:28:06--  https://gannet.fish.washington.edu/seashell/bu-mox/scrubbed/031520-TG-bs/Pact_tg/dedup/?C=N;O=A\n",
      "Reusing existing connection to gannet.fish.washington.edu:443.\n",
      "HTTP request sent, awaiting response... 200 OK\n",
      "Length: unspecified [text/html]\n",
      "Saving to: ‘./index.html?C=N;O=A’\n",
      "\n",
      "index.html?C=N;O=A      [ <=>                ]  42.11K  --.-KB/s    in 0.001s  \n",
      "\n",
      "2020-05-01 11:28:07 (48.8 MB/s) - ‘./index.html?C=N;O=A’ saved [43123]\n",
      "\n",
      "Removing ./index.html?C=N;O=A since it should be rejected.\n",
      "\n",
      "--2020-05-01 11:28:07--  https://gannet.fish.washington.edu/seashell/bu-mox/scrubbed/031520-TG-bs/Pact_tg/dedup/?C=M;O=D\n",
      "Reusing existing connection to gannet.fish.washington.edu:443.\n",
      "HTTP request sent, awaiting response... 200 OK\n",
      "Length: unspecified [text/html]\n",
      "Saving to: ‘./index.html?C=M;O=D’\n",
      "\n",
      "index.html?C=M;O=D      [ <=>                ]  42.11K  --.-KB/s    in 0.001s  \n",
      "\n",
      "2020-05-01 11:28:08 (50.6 MB/s) - ‘./index.html?C=M;O=D’ saved [43123]\n",
      "\n",
      "Removing ./index.html?C=M;O=D since it should be rejected.\n",
      "\n",
      "--2020-05-01 11:28:08--  https://gannet.fish.washington.edu/seashell/bu-mox/scrubbed/031520-TG-bs/Pact_tg/dedup/?C=S;O=D\n",
      "Reusing existing connection to gannet.fish.washington.edu:443.\n",
      "HTTP request sent, awaiting response... 200 OK\n",
      "Length: unspecified [text/html]\n",
      "Saving to: ‘./index.html?C=S;O=D’\n",
      "\n",
      "index.html?C=S;O=D      [ <=>                ]  42.11K  --.-KB/s    in 0.001s  \n",
      "\n",
      "2020-05-01 11:28:09 (51.6 MB/s) - ‘./index.html?C=S;O=D’ saved [43123]\n",
      "\n",
      "Removing ./index.html?C=S;O=D since it should be rejected.\n",
      "\n",
      "--2020-05-01 11:28:09--  https://gannet.fish.washington.edu/seashell/bu-mox/scrubbed/031520-TG-bs/Pact_tg/dedup/?C=D;O=D\n",
      "Reusing existing connection to gannet.fish.washington.edu:443.\n",
      "HTTP request sent, awaiting response... 200 OK\n",
      "Length: unspecified [text/html]\n",
      "Saving to: ‘./index.html?C=D;O=D’\n",
      "\n",
      "index.html?C=D;O=D      [ <=>                ]  42.11K  --.-KB/s    in 0.001s  \n",
      "\n",
      "2020-05-01 11:28:10 (47.3 MB/s) - ‘./index.html?C=D;O=D’ saved [43123]\n",
      "\n",
      "Removing ./index.html?C=D;O=D since it should be rejected.\n",
      "\n",
      "FINISHED --2020-05-01 11:28:10--\n",
      "Total wall clock time: 25s\n",
      "Downloaded: 15 files, 1.0G in 15s (68.7 MB/s)\n"
     ]
    }
   ],
   "source": [
    "!wget -r \\\n",
    "--no-directories --no-parent --reject \"index.html*\" \\\n",
    "-P . \\\n",
    "-A 5x.tab https://gannet.fish.washington.edu/seashell/bu-mox/scrubbed/031520-TG-bs/Pact_tg/dedup/"
   ]
  },
  {
   "cell_type": "code",
   "execution_count": 3,
   "metadata": {},
   "outputs": [
    {
     "name": "stdout",
     "output_type": "stream",
     "text": [
      "--2020-05-01 11:28:27--  https://gannet.fish.washington.edu/seashell/bu-mox/scrubbed/031520-TG-bs/Pact_tg/nodedup/\n",
      "Resolving gannet.fish.washington.edu... 128.95.149.52\n",
      "Connecting to gannet.fish.washington.edu|128.95.149.52|:443... connected.\n",
      "HTTP request sent, awaiting response... 200 OK\n",
      "Length: unspecified [text/html]\n",
      "Saving to: ‘./index.html’\n",
      "\n",
      "index.html              [ <=>                ]  19.51K  --.-KB/s    in 0s      \n",
      "\n",
      "2020-05-01 11:28:28 (50.7 MB/s) - ‘./index.html’ saved [19983]\n",
      "\n",
      "Loading robots.txt; please ignore errors.\n",
      "--2020-05-01 11:28:28--  https://gannet.fish.washington.edu/robots.txt\n",
      "Reusing existing connection to gannet.fish.washington.edu:443.\n",
      "HTTP request sent, awaiting response... 404 Not Found\n",
      "2020-05-01 11:28:28 ERROR 404: Not Found.\n",
      "\n",
      "Removing ./index.html since it should be rejected.\n",
      "\n",
      "--2020-05-01 11:28:28--  https://gannet.fish.washington.edu/seashell/bu-mox/scrubbed/031520-TG-bs/Pact_tg/nodedup/?C=N;O=D\n",
      "Reusing existing connection to gannet.fish.washington.edu:443.\n",
      "HTTP request sent, awaiting response... 200 OK\n",
      "Length: unspecified [text/html]\n",
      "Saving to: ‘./index.html?C=N;O=D’\n",
      "\n",
      "index.html?C=N;O=D      [ <=>                ]  19.51K  --.-KB/s    in 0s      \n",
      "\n",
      "2020-05-01 11:28:28 (52.5 MB/s) - ‘./index.html?C=N;O=D’ saved [19983]\n",
      "\n",
      "Removing ./index.html?C=N;O=D since it should be rejected.\n",
      "\n",
      "--2020-05-01 11:28:28--  https://gannet.fish.washington.edu/seashell/bu-mox/scrubbed/031520-TG-bs/Pact_tg/nodedup/?C=M;O=A\n",
      "Reusing existing connection to gannet.fish.washington.edu:443.\n",
      "HTTP request sent, awaiting response... 200 OK\n",
      "Length: unspecified [text/html]\n",
      "Saving to: ‘./index.html?C=M;O=A’\n",
      "\n",
      "index.html?C=M;O=A      [ <=>                ]  19.51K  --.-KB/s    in 0s      \n",
      "\n",
      "2020-05-01 11:28:28 (59.6 MB/s) - ‘./index.html?C=M;O=A’ saved [19983]\n",
      "\n",
      "Removing ./index.html?C=M;O=A since it should be rejected.\n",
      "\n",
      "--2020-05-01 11:28:28--  https://gannet.fish.washington.edu/seashell/bu-mox/scrubbed/031520-TG-bs/Pact_tg/nodedup/?C=S;O=A\n",
      "Reusing existing connection to gannet.fish.washington.edu:443.\n",
      "HTTP request sent, awaiting response... 200 OK\n",
      "Length: unspecified [text/html]\n",
      "Saving to: ‘./index.html?C=S;O=A’\n",
      "\n",
      "index.html?C=S;O=A      [ <=>                ]  19.51K  --.-KB/s    in 0s      \n",
      "\n",
      "2020-05-01 11:28:28 (52.1 MB/s) - ‘./index.html?C=S;O=A’ saved [19983]\n",
      "\n",
      "Removing ./index.html?C=S;O=A since it should be rejected.\n",
      "\n",
      "--2020-05-01 11:28:28--  https://gannet.fish.washington.edu/seashell/bu-mox/scrubbed/031520-TG-bs/Pact_tg/nodedup/?C=D;O=A\n",
      "Reusing existing connection to gannet.fish.washington.edu:443.\n",
      "HTTP request sent, awaiting response... 200 OK\n",
      "Length: unspecified [text/html]\n",
      "Saving to: ‘./index.html?C=D;O=A’\n",
      "\n",
      "index.html?C=D;O=A      [ <=>                ]  19.51K  --.-KB/s    in 0s      \n",
      "\n",
      "2020-05-01 11:28:29 (52.6 MB/s) - ‘./index.html?C=D;O=A’ saved [19983]\n",
      "\n",
      "Removing ./index.html?C=D;O=A since it should be rejected.\n",
      "\n",
      "--2020-05-01 11:28:29--  https://gannet.fish.washington.edu/seashell/bu-mox/scrubbed/031520-TG-bs/Pact_tg/nodedup/Meth4_R1_001_val_1_bismark_bt2_pe._5x.tab\n",
      "Reusing existing connection to gannet.fish.washington.edu:443.\n",
      "HTTP request sent, awaiting response... 200 OK\n",
      "Length: 84113105 (80M)\n",
      "Saving to: ‘./Meth4_R1_001_val_1_bismark_bt2_pe._5x.tab’\n",
      "\n",
      "Meth4_R1_001_val_1_ 100%[===================>]  80.22M  69.5MB/s    in 1.2s    \n",
      "\n",
      "2020-05-01 11:28:30 (69.5 MB/s) - ‘./Meth4_R1_001_val_1_bismark_bt2_pe._5x.tab’ saved [84113105/84113105]\n",
      "\n",
      "--2020-05-01 11:28:30--  https://gannet.fish.washington.edu/seashell/bu-mox/scrubbed/031520-TG-bs/Pact_tg/nodedup/Meth5_R1_001_val_1_bismark_bt2_pe._5x.tab\n",
      "Reusing existing connection to gannet.fish.washington.edu:443.\n",
      "HTTP request sent, awaiting response... 200 OK\n",
      "Length: 67057699 (64M)\n",
      "Saving to: ‘./Meth5_R1_001_val_1_bismark_bt2_pe._5x.tab’\n",
      "\n",
      "Meth5_R1_001_val_1_ 100%[===================>]  63.95M  70.4MB/s    in 0.9s    \n",
      "\n",
      "2020-05-01 11:28:31 (70.4 MB/s) - ‘./Meth5_R1_001_val_1_bismark_bt2_pe._5x.tab’ saved [67057699/67057699]\n",
      "\n",
      "--2020-05-01 11:28:31--  https://gannet.fish.washington.edu/seashell/bu-mox/scrubbed/031520-TG-bs/Pact_tg/nodedup/Meth6_R1_001_val_1_bismark_bt2_pe._5x.tab\n",
      "Reusing existing connection to gannet.fish.washington.edu:443.\n",
      "HTTP request sent, awaiting response... 200 OK\n",
      "Length: 69680695 (66M)\n",
      "Saving to: ‘./Meth6_R1_001_val_1_bismark_bt2_pe._5x.tab’\n",
      "\n",
      "Meth6_R1_001_val_1_ 100%[===================>]  66.45M  66.8MB/s    in 1.0s    \n",
      "\n",
      "2020-05-01 11:28:32 (66.8 MB/s) - ‘./Meth6_R1_001_val_1_bismark_bt2_pe._5x.tab’ saved [69680695/69680695]\n",
      "\n",
      "--2020-05-01 11:28:32--  https://gannet.fish.washington.edu/seashell/bu-mox/scrubbed/031520-TG-bs/Pact_tg/nodedup/?C=N;O=A\n",
      "Reusing existing connection to gannet.fish.washington.edu:443.\n",
      "HTTP request sent, awaiting response... 200 OK\n",
      "Length: unspecified [text/html]\n",
      "Saving to: ‘./index.html?C=N;O=A’\n",
      "\n",
      "index.html?C=N;O=A      [ <=>                ]  19.51K  --.-KB/s    in 0s      \n",
      "\n",
      "2020-05-01 11:28:32 (63.1 MB/s) - ‘./index.html?C=N;O=A’ saved [19983]\n",
      "\n",
      "Removing ./index.html?C=N;O=A since it should be rejected.\n",
      "\n",
      "--2020-05-01 11:28:32--  https://gannet.fish.washington.edu/seashell/bu-mox/scrubbed/031520-TG-bs/Pact_tg/nodedup/?C=M;O=D\n",
      "Reusing existing connection to gannet.fish.washington.edu:443.\n",
      "HTTP request sent, awaiting response... 200 OK\n",
      "Length: unspecified [text/html]\n",
      "Saving to: ‘./index.html?C=M;O=D’\n",
      "\n",
      "index.html?C=M;O=D      [ <=>                ]  19.51K  --.-KB/s    in 0s      \n",
      "\n",
      "2020-05-01 11:28:33 (65.5 MB/s) - ‘./index.html?C=M;O=D’ saved [19983]\n",
      "\n",
      "Removing ./index.html?C=M;O=D since it should be rejected.\n",
      "\n",
      "--2020-05-01 11:28:33--  https://gannet.fish.washington.edu/seashell/bu-mox/scrubbed/031520-TG-bs/Pact_tg/nodedup/?C=S;O=D\n",
      "Reusing existing connection to gannet.fish.washington.edu:443.\n",
      "HTTP request sent, awaiting response... 200 OK\n",
      "Length: unspecified [text/html]\n",
      "Saving to: ‘./index.html?C=S;O=D’\n",
      "\n",
      "index.html?C=S;O=D      [ <=>                ]  19.51K  --.-KB/s    in 0s      \n",
      "\n",
      "2020-05-01 11:28:33 (58.8 MB/s) - ‘./index.html?C=S;O=D’ saved [19983]\n",
      "\n",
      "Removing ./index.html?C=S;O=D since it should be rejected.\n",
      "\n",
      "--2020-05-01 11:28:33--  https://gannet.fish.washington.edu/seashell/bu-mox/scrubbed/031520-TG-bs/Pact_tg/nodedup/?C=D;O=D\n",
      "Reusing existing connection to gannet.fish.washington.edu:443.\n",
      "HTTP request sent, awaiting response... 200 OK\n",
      "Length: unspecified [text/html]\n",
      "Saving to: ‘./index.html?C=D;O=D’\n",
      "\n",
      "index.html?C=D;O=D      [ <=>                ]  19.51K  --.-KB/s    in 0s      \n",
      "\n",
      "2020-05-01 11:28:33 (61.7 MB/s) - ‘./index.html?C=D;O=D’ saved [19983]\n",
      "\n",
      "Removing ./index.html?C=D;O=D since it should be rejected.\n",
      "\n",
      "FINISHED --2020-05-01 11:28:33--\n",
      "Total wall clock time: 6.4s\n",
      "Downloaded: 12 files, 211M in 3.1s (68.9 MB/s)\n"
     ]
    }
   ],
   "source": [
    "!wget -r \\\n",
    "--no-directories --no-parent --reject \"index.html*\" \\\n",
    "-P . \\\n",
    "-A 5x.tab https://gannet.fish.washington.edu/seashell/bu-mox/scrubbed/031520-TG-bs/Pact_tg/nodedup/"
   ]
  },
  {
   "cell_type": "code",
   "execution_count": 4,
   "metadata": {},
   "outputs": [
    {
     "name": "stdout",
     "output_type": "stream",
     "text": [
      "Meth1_R1_001_val_1_bismark_bt2_pe._5x.tab\r\n",
      "Meth2_R1_001_val_1_bismark_bt2_pe._5x.tab\r\n",
      "Meth3_R1_001_val_1_bismark_bt2_pe._5x.tab\r\n",
      "Meth4_R1_001_val_1_bismark_bt2_pe._5x.tab\r\n",
      "Meth5_R1_001_val_1_bismark_bt2_pe._5x.tab\r\n",
      "Meth6_R1_001_val_1_bismark_bt2_pe._5x.tab\r\n",
      "Meth7_R1_001_val_1_bismark_bt2_pe._5x.tab\r\n",
      "Meth8_R1_001_val_1_bismark_bt2_pe._5x.tab\r\n",
      "Meth9_R1_001_val_1_bismark_bt2_pe._5x.tab\r\n",
      "\u001b[34mgannet.fish.washington.edu\u001b[m\u001b[m\r\n"
     ]
    }
   ],
   "source": [
    "!ls"
   ]
  },
  {
   "cell_type": "code",
   "execution_count": 5,
   "metadata": {},
   "outputs": [
    {
     "name": "stdout",
     "output_type": "stream",
     "text": [
      "MD5 (Meth1_R1_001_val_1_bismark_bt2_pe._5x.tab) = b2fe2251349d1a1fd2064555711e5f3c\n",
      "MD5 (Meth2_R1_001_val_1_bismark_bt2_pe._5x.tab) = a54138a247461dfa388ecb7c80a3f757\n",
      "MD5 (Meth3_R1_001_val_1_bismark_bt2_pe._5x.tab) = 269ee6acbf8bda68699073ed1a8eea11\n",
      "MD5 (Meth4_R1_001_val_1_bismark_bt2_pe._5x.tab) = c9c7710fe93f163d0563719721334d7d\n",
      "MD5 (Meth5_R1_001_val_1_bismark_bt2_pe._5x.tab) = b83df95995f0006e49760299d6dce230\n",
      "MD5 (Meth6_R1_001_val_1_bismark_bt2_pe._5x.tab) = a98b640f20d4d5e216777274ed6760c9\n",
      "MD5 (Meth7_R1_001_val_1_bismark_bt2_pe._5x.tab) = 18975dcf8f19e868e70fa295179a124d\n",
      "MD5 (Meth8_R1_001_val_1_bismark_bt2_pe._5x.tab) = b2c9124297fc036d62f744ac2f1b793b\n",
      "MD5 (Meth9_R1_001_val_1_bismark_bt2_pe._5x.tab) = 81a70ca77975e17ff050c41bbbf46c3f\n"
     ]
    }
   ],
   "source": [
    "!md5 *.tab"
   ]
  },
  {
   "cell_type": "code",
   "execution_count": null,
   "metadata": {
    "collapsed": true
   },
   "outputs": [],
   "source": [
    "# create bed files with total CpG counts"
   ]
  },
  {
   "cell_type": "code",
   "execution_count": 6,
   "metadata": {
    "collapsed": true
   },
   "outputs": [],
   "source": [
    "%%bash \n",
    "\n",
    "for f in *_5x.tab\n",
    "do\n",
    "awk -F\"\\t\" '{print $1\"\\t\"$2\"\\t\"$3\"\\t\"$5+$6}' \\\n",
    "${f} \\\n",
    "> $(basename ${f%_5x.tab})_5x.tC.bedgraph\n",
    "done"
   ]
  },
  {
   "cell_type": "code",
   "execution_count": 7,
   "metadata": {},
   "outputs": [
    {
     "name": "stdout",
     "output_type": "stream",
     "text": [
      "Meth1_R1_001_val_1_bismark_bt2_pe._5x.tC.bedgraph\r\n",
      "Meth1_R1_001_val_1_bismark_bt2_pe._5x.tab\r\n",
      "Meth2_R1_001_val_1_bismark_bt2_pe._5x.tC.bedgraph\r\n",
      "Meth2_R1_001_val_1_bismark_bt2_pe._5x.tab\r\n",
      "Meth3_R1_001_val_1_bismark_bt2_pe._5x.tC.bedgraph\r\n",
      "Meth3_R1_001_val_1_bismark_bt2_pe._5x.tab\r\n",
      "Meth4_R1_001_val_1_bismark_bt2_pe._5x.tC.bedgraph\r\n",
      "Meth4_R1_001_val_1_bismark_bt2_pe._5x.tab\r\n",
      "Meth5_R1_001_val_1_bismark_bt2_pe._5x.tC.bedgraph\r\n",
      "Meth5_R1_001_val_1_bismark_bt2_pe._5x.tab\r\n",
      "Meth6_R1_001_val_1_bismark_bt2_pe._5x.tC.bedgraph\r\n",
      "Meth6_R1_001_val_1_bismark_bt2_pe._5x.tab\r\n",
      "Meth7_R1_001_val_1_bismark_bt2_pe._5x.tC.bedgraph\r\n",
      "Meth7_R1_001_val_1_bismark_bt2_pe._5x.tab\r\n",
      "Meth8_R1_001_val_1_bismark_bt2_pe._5x.tC.bedgraph\r\n",
      "Meth8_R1_001_val_1_bismark_bt2_pe._5x.tab\r\n",
      "Meth9_R1_001_val_1_bismark_bt2_pe._5x.tC.bedgraph\r\n",
      "Meth9_R1_001_val_1_bismark_bt2_pe._5x.tab\r\n",
      "\u001b[34mgannet.fish.washington.edu\u001b[m\u001b[m\r\n"
     ]
    }
   ],
   "source": [
    "!ls"
   ]
  },
  {
   "cell_type": "code",
   "execution_count": 8,
   "metadata": {},
   "outputs": [
    {
     "name": "stdout",
     "output_type": "stream",
     "text": [
      "scaffold1_cov55\t102\t104\t6\r\n",
      "scaffold1_cov55\t105\t107\t6\r\n",
      "scaffold1_cov55\t116\t118\t5\r\n",
      "scaffold1_cov55\t119\t121\t5\r\n",
      "scaffold1_cov55\t146\t148\t5\r\n"
     ]
    }
   ],
   "source": [
    "!head -5 Meth1_R1_001_val_1_bismark_bt2_pe._5x.tC.bedgraph"
   ]
  },
  {
   "cell_type": "code",
   "execution_count": null,
   "metadata": {
    "collapsed": true
   },
   "outputs": [],
   "source": [
    "#merge bed files for RRBS samples"
   ]
  },
  {
   "cell_type": "code",
   "execution_count": 9,
   "metadata": {
    "collapsed": true
   },
   "outputs": [],
   "source": [
    "!cat \\\n",
    "Meth4_R1_001_val_1_bismark_bt2_pe._5x.tC.bedgraph \\\n",
    "Meth5_R1_001_val_1_bismark_bt2_pe._5x.tC.bedgraph \\\n",
    "Meth5_R1_001_val_1_bismark_bt2_pe._5x.tC.bedgraph |\\\n",
    "/Users/Shared/bioinformatics/bedtools2/bin/sortBed \\\n",
    "-i stdin |\\\n",
    "/Users/Shared/bioinformatics/bedtools2/bin/mergeBed \\\n",
    "-d -1 \\\n",
    "-i stdin \\\n",
    "> RRBS_5x.tc.bed\n"
   ]
  },
  {
   "cell_type": "code",
   "execution_count": 10,
   "metadata": {},
   "outputs": [
    {
     "name": "stdout",
     "output_type": "stream",
     "text": [
      "scaffold100000_cov51\t109\t111\r\n",
      "scaffold100000_cov51\t112\t114\r\n",
      "scaffold100000_cov51\t205\t207\r\n",
      "scaffold100000_cov51\t213\t215\r\n",
      "scaffold100000_cov51\t236\t238\r\n",
      "scaffold100004_cov43\t100\t102\r\n",
      "scaffold100004_cov43\t107\t109\r\n",
      "scaffold100009_cov142\t180\t182\r\n",
      "scaffold100009_cov142\t212\t214\r\n",
      "scaffold100017_cov107\t1052\t1054\r\n"
     ]
    }
   ],
   "source": [
    "!head RRBS_5x.tc.bed"
   ]
  },
  {
   "cell_type": "code",
   "execution_count": 11,
   "metadata": {},
   "outputs": [
    {
     "name": "stdout",
     "output_type": "stream",
     "text": [
      " 2102829 RRBS_5x.tc.bed\r\n"
     ]
    }
   ],
   "source": [
    "!wc -l RRBS_5x.tc.bed"
   ]
  },
  {
   "cell_type": "code",
   "execution_count": 12,
   "metadata": {},
   "outputs": [
    {
     "name": "stdout",
     "output_type": "stream",
     "text": [
      " 1835561 Meth4_R1_001_val_1_bismark_bt2_pe._5x.tC.bedgraph\n",
      " 1451229 Meth5_R1_001_val_1_bismark_bt2_pe._5x.tC.bedgraph\n",
      " 1451229 Meth5_R1_001_val_1_bismark_bt2_pe._5x.tC.bedgraph\n"
     ]
    }
   ],
   "source": [
    "!wc -l Meth4_R1_001_val_1_bismark_bt2_pe._5x.tC.bedgraph \n",
    "!wc -l Meth5_R1_001_val_1_bismark_bt2_pe._5x.tC.bedgraph \n",
    "!wc -l Meth5_R1_001_val_1_bismark_bt2_pe._5x.tC.bedgraph \n"
   ]
  },
  {
   "cell_type": "code",
   "execution_count": 13,
   "metadata": {},
   "outputs": [
    {
     "name": "stdout",
     "output_type": "stream",
     "text": [
      "scaffold6_cov64\t2536\t2538\t5\n",
      "scaffold6_cov64\t2584\t2586\t5\n",
      "scaffold6_cov64\t2676\t2678\t5\n",
      "scaffold6_cov64\t4588\t4590\t8\n",
      "scaffold6_cov64\t5101\t5103\t5\n",
      "scaffold6_cov64\t2584\t2586\t5\n",
      "scaffold6_cov64\t2676\t2678\t9\n",
      "scaffold6_cov64\t2682\t2684\t5\n",
      "scaffold6_cov64\t4553\t4555\t5\n",
      "scaffold6_cov64\t4588\t4590\t11\n",
      "scaffold6_cov64\t2584\t2586\t5\n",
      "scaffold6_cov64\t2676\t2678\t9\n",
      "scaffold6_cov64\t2682\t2684\t5\n",
      "scaffold6_cov64\t4553\t4555\t5\n",
      "scaffold6_cov64\t4588\t4590\t11\n"
     ]
    }
   ],
   "source": [
    "!head -5 Meth4_R1_001_val_1_bismark_bt2_pe._5x.tC.bedgraph \n",
    "!head -5 Meth5_R1_001_val_1_bismark_bt2_pe._5x.tC.bedgraph \n",
    "!head -5 Meth5_R1_001_val_1_bismark_bt2_pe._5x.tC.bedgraph "
   ]
  },
  {
   "cell_type": "code",
   "execution_count": null,
   "metadata": {
    "collapsed": true
   },
   "outputs": [],
   "source": [
    "#merge WGBS samples"
   ]
  },
  {
   "cell_type": "code",
   "execution_count": 14,
   "metadata": {
    "collapsed": true
   },
   "outputs": [],
   "source": [
    "!cat \\\n",
    "Meth1_R1_001_val_1_bismark_bt2_pe._5x.tC.bedgraph \\\n",
    "Meth2_R1_001_val_1_bismark_bt2_pe._5x.tC.bedgraph \\\n",
    "Meth3_R1_001_val_1_bismark_bt2_pe._5x.tC.bedgraph |\\\n",
    "/Users/Shared/bioinformatics/bedtools2/bin/sortBed \\\n",
    "-i stdin |\\\n",
    "/Users/Shared/bioinformatics/bedtools2/bin/mergeBed \\\n",
    "-d -1 \\\n",
    "-i stdin \\\n",
    "> WGBS_5x.tc.bed"
   ]
  },
  {
   "cell_type": "code",
   "execution_count": null,
   "metadata": {
    "collapsed": true
   },
   "outputs": [],
   "source": [
    "#merge MBD samples"
   ]
  },
  {
   "cell_type": "code",
   "execution_count": 15,
   "metadata": {
    "collapsed": true
   },
   "outputs": [],
   "source": [
    "!cat \\\n",
    "Meth7_R1_001_val_1_bismark_bt2_pe._5x.tC.bedgraph \\\n",
    "Meth8_R1_001_val_1_bismark_bt2_pe._5x.tC.bedgraph \\\n",
    "Meth9_R1_001_val_1_bismark_bt2_pe._5x.tC.bedgraph |\\\n",
    "/Users/Shared/bioinformatics/bedtools2/bin/sortBed \\\n",
    "-i stdin |\\\n",
    "/Users/Shared/bioinformatics/bedtools2/bin/mergeBed \\\n",
    "-d -1 \\\n",
    "-i stdin \\\n",
    "> MBD_5x.tc.bed"
   ]
  },
  {
   "cell_type": "code",
   "execution_count": null,
   "metadata": {
    "collapsed": true
   },
   "outputs": [],
   "source": [
    "#get genome CpG data"
   ]
  },
  {
   "cell_type": "code",
   "execution_count": 16,
   "metadata": {},
   "outputs": [
    {
     "name": "stdout",
     "output_type": "stream",
     "text": [
      "--2020-05-01 11:48:37--  https://gannet.fish.washington.edu/seashell/bu-github/Meth_Compare/genome-feature-files/Pact_CpG.gff\n",
      "Resolving gannet.fish.washington.edu... 128.95.149.52\n",
      "Connecting to gannet.fish.washington.edu|128.95.149.52|:443... connected.\n",
      "HTTP request sent, awaiting response... 200 OK\n",
      "Length: 1111983287 (1.0G)\n",
      "Saving to: ‘Pact_CpG.gff’\n",
      "\n",
      "Pact_CpG.gff        100%[===================>]   1.04G  67.2MB/s    in 15s     \n",
      "\n",
      "2020-05-01 11:48:53 (69.3 MB/s) - ‘Pact_CpG.gff’ saved [1111983287/1111983287]\n",
      "\n"
     ]
    }
   ],
   "source": [
    "!wget \\\n",
    "https://gannet.fish.washington.edu/seashell/bu-github/Meth_Compare/genome-feature-files/Pact_CpG.gff"
   ]
  },
  {
   "cell_type": "code",
   "execution_count": null,
   "metadata": {
    "collapsed": true
   },
   "outputs": [],
   "source": [
    "#create bedgraph file from CpG.gff"
   ]
  },
  {
   "cell_type": "code",
   "execution_count": 38,
   "metadata": {
    "collapsed": true
   },
   "outputs": [],
   "source": [
    "!awk -F\"\\t\" '{print $1\"\\t\"$4\"\\t\"$5}' Pact_CpG.gff |\\\n",
    "/Users/Shared/bioinformatics/bedtools2/bin/sortBed \\\n",
    "-i stdin |\\\n",
    "awk -F\"\\t\" '{print $0\"\\t\"1}' \\\n",
    "> Pact_CpG.bedgraph"
   ]
  },
  {
   "cell_type": "code",
   "execution_count": 40,
   "metadata": {},
   "outputs": [
    {
     "name": "stdout",
     "output_type": "stream",
     "text": [
      "scaffold100000_cov51\t5\t6\t1\r\n",
      "scaffold100000_cov51\t23\t24\t1\r\n",
      "scaffold100000_cov51\t61\t62\t1\r\n",
      "scaffold100000_cov51\t69\t70\t1\r\n",
      "scaffold100000_cov51\t79\t80\t1\r\n",
      "scaffold100000_cov51\t110\t111\t1\r\n",
      "scaffold100000_cov51\t113\t114\t1\r\n",
      "scaffold100000_cov51\t206\t207\t1\r\n",
      "scaffold100000_cov51\t214\t215\t1\r\n",
      "scaffold100000_cov51\t237\t238\t1\r\n"
     ]
    }
   ],
   "source": [
    "!head Pact_CpG.bedgraph"
   ]
  },
  {
   "cell_type": "code",
   "execution_count": null,
   "metadata": {
    "collapsed": true
   },
   "outputs": [],
   "source": [
    "#merging bed files removed last column so I need to create a 4th column"
   ]
  },
  {
   "cell_type": "code",
   "execution_count": 26,
   "metadata": {},
   "outputs": [
    {
     "name": "stdout",
     "output_type": "stream",
     "text": [
      "MBD_5x.tc.bed\r\n",
      "Meth1_R1_001_val_1_bismark_bt2_pe._5x.tC.bedgraph\r\n",
      "Meth1_R1_001_val_1_bismark_bt2_pe._5x.tab\r\n",
      "Meth2_R1_001_val_1_bismark_bt2_pe._5x.tC.bedgraph\r\n",
      "Meth2_R1_001_val_1_bismark_bt2_pe._5x.tab\r\n",
      "Meth3_R1_001_val_1_bismark_bt2_pe._5x.tC.bedgraph\r\n",
      "Meth3_R1_001_val_1_bismark_bt2_pe._5x.tab\r\n",
      "Meth4_R1_001_val_1_bismark_bt2_pe._5x.tC.bedgraph\r\n",
      "Meth4_R1_001_val_1_bismark_bt2_pe._5x.tab\r\n",
      "Meth5_R1_001_val_1_bismark_bt2_pe._5x.tC.bedgraph\r\n",
      "Meth5_R1_001_val_1_bismark_bt2_pe._5x.tab\r\n",
      "Meth6_R1_001_val_1_bismark_bt2_pe._5x.tC.bedgraph\r\n",
      "Meth6_R1_001_val_1_bismark_bt2_pe._5x.tab\r\n",
      "Meth7_R1_001_val_1_bismark_bt2_pe._5x.tC.bedgraph\r\n",
      "Meth7_R1_001_val_1_bismark_bt2_pe._5x.tab\r\n",
      "Meth8_R1_001_val_1_bismark_bt2_pe._5x.tC.bedgraph\r\n",
      "Meth8_R1_001_val_1_bismark_bt2_pe._5x.tab\r\n",
      "Meth9_R1_001_val_1_bismark_bt2_pe._5x.tC.bedgraph\r\n",
      "Meth9_R1_001_val_1_bismark_bt2_pe._5x.tab\r\n",
      "Pact_CpG.bed\r\n",
      "Pact_CpG.gff\r\n",
      "Pact_method_union_5x.bedgraph\r\n",
      "RRBS_5x.tc.bed\r\n",
      "WGBS_5x.tc.bed\r\n",
      "\u001b[34mgannet.fish.washington.edu\u001b[m\u001b[m\r\n"
     ]
    }
   ],
   "source": [
    "!ls"
   ]
  },
  {
   "cell_type": "code",
   "execution_count": 27,
   "metadata": {
    "collapsed": true
   },
   "outputs": [],
   "source": [
    "%%bash \n",
    "\n",
    "for f in *.bed\n",
    "do\n",
    "awk -F\"\\t\" '{print $0\"\\t\"1}' \\\n",
    "${f} \\\n",
    "> $(basename ${f%.bed}).bedgraph\n",
    "done"
   ]
  },
  {
   "cell_type": "code",
   "execution_count": 29,
   "metadata": {},
   "outputs": [
    {
     "name": "stdout",
     "output_type": "stream",
     "text": [
      "scaffold100003_cov99\t76\t78\t1\r\n",
      "scaffold100003_cov99\t97\t99\t1\r\n",
      "scaffold100003_cov99\t111\t113\t1\r\n",
      "scaffold100003_cov99\t145\t147\t1\r\n",
      "scaffold100003_cov99\t176\t178\t1\r\n",
      "scaffold100003_cov99\t230\t232\t1\r\n",
      "scaffold100003_cov99\t256\t258\t1\r\n",
      "scaffold100003_cov99\t285\t287\t1\r\n",
      "scaffold100003_cov99\t901\t903\t1\r\n",
      "scaffold100003_cov99\t913\t915\t1\r\n"
     ]
    }
   ],
   "source": [
    "!head MBD_5x.tc.bedgraph"
   ]
  },
  {
   "cell_type": "code",
   "execution_count": 31,
   "metadata": {},
   "outputs": [
    {
     "name": "stdout",
     "output_type": "stream",
     "text": [
      "chrom\tstart\tend\tALL\tWGBS\tRRBS\tMBD\r\n",
      "scaffold100000_cov51\t5\t6\t1\tN/A\tN/A\tN/A\r\n",
      "scaffold100000_cov51\t22\t23\tN/A\t1\tN/A\tN/A\r\n",
      "scaffold100000_cov51\t23\t24\t1\t1\tN/A\tN/A\r\n",
      "scaffold100000_cov51\t60\t61\tN/A\t1\tN/A\tN/A\r\n",
      "scaffold100000_cov51\t61\t62\t1\t1\tN/A\tN/A\r\n",
      "scaffold100000_cov51\t68\t69\tN/A\t1\tN/A\tN/A\r\n",
      "scaffold100000_cov51\t69\t70\t1\t1\tN/A\tN/A\r\n",
      "scaffold100000_cov51\t78\t79\tN/A\t1\tN/A\tN/A\r\n",
      "scaffold100000_cov51\t79\t80\t1\t1\tN/A\tN/A\r\n"
     ]
    }
   ],
   "source": [
    "!/Users/Shared/bioinformatics/bedtools2/bin/unionBedGraphs \\\n",
    "-header \\\n",
    "-filler N/A \\\n",
    "-names ALL WGBS RRBS MBD \\\n",
    "-i \\\n",
    "Pact_CpG.bedgraph \\\n",
    "WGBS_5x.tc.bedgraph \\\n",
    "RRBS_5x.tc.bedgraph \\\n",
    "MBD_5x.tc.bedgraph |\\\n",
    "head\n",
    "\n"
   ]
  },
  {
   "cell_type": "code",
   "execution_count": null,
   "metadata": {
    "collapsed": true
   },
   "outputs": [],
   "source": [
    "#oddly WGBS has loci that aren't in the genome CpG file;\n",
    "#This seems like it could be the case because the merged intervals from Bismark \n",
    "#are actually 3 bp instead of 2"
   ]
  },
  {
   "cell_type": "code",
   "execution_count": 32,
   "metadata": {},
   "outputs": [
    {
     "name": "stdout",
     "output_type": "stream",
     "text": [
      "scaffold100000_cov51\t22\t24\t1\r\n",
      "scaffold100000_cov51\t60\t62\t1\r\n",
      "scaffold100000_cov51\t68\t70\t1\r\n",
      "scaffold100000_cov51\t78\t80\t1\r\n",
      "scaffold100000_cov51\t109\t111\t1\r\n",
      "scaffold100000_cov51\t112\t114\t1\r\n",
      "scaffold100000_cov51\t205\t207\t1\r\n",
      "scaffold100000_cov51\t213\t215\t1\r\n",
      "scaffold100000_cov51\t236\t238\t1\r\n",
      "scaffold100000_cov51\t245\t247\t1\r\n"
     ]
    }
   ],
   "source": [
    "!awk '{if($1==\"scaffold100000_cov51\")print $0}' WGBS_5x.tc.bedgraph | head"
   ]
  },
  {
   "cell_type": "code",
   "execution_count": null,
   "metadata": {
    "collapsed": true
   },
   "outputs": [],
   "source": [
    "# i need to adjust the starting coordinate for all data because it shouldn't count twice"
   ]
  },
  {
   "cell_type": "code",
   "execution_count": 36,
   "metadata": {
    "collapsed": true
   },
   "outputs": [],
   "source": [
    "%%bash \n",
    "\n",
    "for f in *5x.tc.bed\n",
    "do\n",
    "awk -F\"\\t\" '{print $1\"\\t\"$2+1\"\\t\"$3\"\\t\"1}' \\\n",
    "${f} \\\n",
    "> $(basename ${f%.bed}).bedgraph\n",
    "done"
   ]
  },
  {
   "cell_type": "code",
   "execution_count": 39,
   "metadata": {},
   "outputs": [
    {
     "name": "stdout",
     "output_type": "stream",
     "text": [
      "scaffold100000_cov51\t23\t24\t1\r\n",
      "scaffold100000_cov51\t61\t62\t1\r\n",
      "scaffold100000_cov51\t69\t70\t1\r\n",
      "scaffold100000_cov51\t79\t80\t1\r\n",
      "scaffold100000_cov51\t110\t111\t1\r\n",
      "scaffold100000_cov51\t113\t114\t1\r\n",
      "scaffold100000_cov51\t206\t207\t1\r\n",
      "scaffold100000_cov51\t214\t215\t1\r\n",
      "scaffold100000_cov51\t237\t238\t1\r\n",
      "scaffold100000_cov51\t246\t247\t1\r\n"
     ]
    }
   ],
   "source": [
    "!awk '{if($1==\"scaffold100000_cov51\")print $0}' WGBS_5x.tc.bedgraph | head"
   ]
  },
  {
   "cell_type": "code",
   "execution_count": null,
   "metadata": {
    "collapsed": true
   },
   "outputs": [],
   "source": [
    "#create union table"
   ]
  },
  {
   "cell_type": "code",
   "execution_count": 41,
   "metadata": {},
   "outputs": [
    {
     "name": "stdout",
     "output_type": "stream",
     "text": [
      "chrom\tstart\tend\tALL\tWGBS\tRRBS\tMBD\r\n",
      "scaffold100000_cov51\t5\t6\t1\tN/A\tN/A\tN/A\r\n",
      "scaffold100000_cov51\t23\t24\t1\t1\tN/A\tN/A\r\n",
      "scaffold100000_cov51\t61\t62\t1\t1\tN/A\tN/A\r\n",
      "scaffold100000_cov51\t69\t70\t1\t1\tN/A\tN/A\r\n",
      "scaffold100000_cov51\t79\t80\t1\t1\tN/A\tN/A\r\n",
      "scaffold100000_cov51\t110\t111\t1\t1\t1\tN/A\r\n",
      "scaffold100000_cov51\t113\t114\t1\t1\t1\tN/A\r\n",
      "scaffold100000_cov51\t206\t207\t1\t1\t1\tN/A\r\n",
      "scaffold100000_cov51\t214\t215\t1\t1\t1\tN/A\r\n"
     ]
    }
   ],
   "source": [
    "!/Users/Shared/bioinformatics/bedtools2/bin/unionBedGraphs \\\n",
    "-header \\\n",
    "-filler N/A \\\n",
    "-names ALL WGBS RRBS MBD \\\n",
    "-i \\\n",
    "Pact_CpG.bedgraph \\\n",
    "WGBS_5x.tc.bedgraph \\\n",
    "RRBS_5x.tc.bedgraph \\\n",
    "MBD_5x.tc.bedgraph |\\\n",
    "head"
   ]
  },
  {
   "cell_type": "code",
   "execution_count": 42,
   "metadata": {
    "collapsed": true
   },
   "outputs": [],
   "source": [
    "!/Users/Shared/bioinformatics/bedtools2/bin/unionBedGraphs \\\n",
    "-header \\\n",
    "-filler N/A \\\n",
    "-names ALL WGBS RRBS MBD \\\n",
    "-i \\\n",
    "Pact_CpG.bedgraph \\\n",
    "WGBS_5x.tc.bedgraph \\\n",
    "RRBS_5x.tc.bedgraph \\\n",
    "MBD_5x.tc.bedgraph \\\n",
    "> Pact_method_union_5x.bedgraph"
   ]
  },
  {
   "cell_type": "code",
   "execution_count": 43,
   "metadata": {},
   "outputs": [
    {
     "name": "stdout",
     "output_type": "stream",
     "text": [
      "scaffold9_cov118\t2310\t2311\t1\tN/A\tN/A\tN/A\r\n",
      "scaffold9_cov118\t2402\t2403\t1\tN/A\tN/A\tN/A\r\n",
      "scaffold9_cov118\t2405\t2406\t1\tN/A\tN/A\tN/A\r\n",
      "scaffold9_cov118\t2452\t2453\t1\tN/A\tN/A\tN/A\r\n",
      "scaffold9_cov118\t2461\t2462\t1\tN/A\tN/A\tN/A\r\n",
      "scaffold9_cov118\t2509\t2510\t1\tN/A\tN/A\tN/A\r\n",
      "scaffold9_cov118\t2514\t2515\t1\t1\tN/A\tN/A\r\n",
      "scaffold9_cov118\t2517\t2518\t1\tN/A\tN/A\tN/A\r\n",
      "scaffold9_cov118\t2596\t2597\t1\tN/A\tN/A\tN/A\r\n",
      "scaffold9_cov118\t2614\t2615\t1\tN/A\tN/A\tN/A\r\n"
     ]
    }
   ],
   "source": [
    "!tail Pact_method_union_5x.bedgraph"
   ]
  },
  {
   "cell_type": "code",
   "execution_count": 44,
   "metadata": {},
   "outputs": [
    {
     "name": "stdout",
     "output_type": "stream",
     "text": [
      "chrom\tstart\tend\tALL\tWGBS\tRRBS\tMBD\r\n",
      "scaffold100000_cov51\t5\t6\t1\t0\t0\t0\r\n",
      "scaffold100000_cov51\t23\t24\t1\t1\t0\t0\r\n",
      "scaffold100000_cov51\t61\t62\t1\t1\t0\t0\r\n",
      "scaffold100000_cov51\t69\t70\t1\t1\t0\t0\r\n",
      "scaffold100000_cov51\t79\t80\t1\t1\t0\t0\r\n",
      "scaffold100000_cov51\t110\t111\t1\t1\t1\t0\r\n",
      "scaffold100000_cov51\t113\t114\t1\t1\t1\t0\r\n",
      "scaffold100000_cov51\t206\t207\t1\t1\t1\t0\r\n",
      "scaffold100000_cov51\t214\t215\t1\t1\t1\t0\r\n"
     ]
    }
   ],
   "source": [
    "#substitute NA for 0\n",
    "!head Pact_method_union_5x.bedgraph |\\\n",
    "sed 's/N\\/A/0/g' "
   ]
  },
  {
   "cell_type": "code",
   "execution_count": 47,
   "metadata": {
    "collapsed": true
   },
   "outputs": [],
   "source": [
    "#combine fields 1-3 into 1 string\n",
    "!cat Pact_method_union_5x.bedgraph |\\\n",
    "sed 's/N\\/A/0/g' |\\\n",
    "awk -F\"\\t\" '{print$1\"_\"$2\"_\"$3\"\\t\"$4\"\\t\"$5\"\\t\"$6\"\\t\"$7}' \\\n",
    "> Pact_method_union_5x_matrix.tsv"
   ]
  },
  {
   "cell_type": "code",
   "execution_count": 48,
   "metadata": {},
   "outputs": [
    {
     "name": "stdout",
     "output_type": "stream",
     "text": [
      "chrom_start_end\tALL\tWGBS\tRRBS\tMBD\r\n",
      "scaffold100000_cov51_5_6\t1\t0\t0\t0\r\n",
      "scaffold100000_cov51_23_24\t1\t1\t0\t0\r\n",
      "scaffold100000_cov51_61_62\t1\t1\t0\t0\r\n",
      "scaffold100000_cov51_69_70\t1\t1\t0\t0\r\n",
      "scaffold100000_cov51_79_80\t1\t1\t0\t0\r\n",
      "scaffold100000_cov51_110_111\t1\t1\t1\t0\r\n",
      "scaffold100000_cov51_113_114\t1\t1\t1\t0\r\n",
      "scaffold100000_cov51_206_207\t1\t1\t1\t0\r\n",
      "scaffold100000_cov51_214_215\t1\t1\t1\t0\r\n"
     ]
    }
   ],
   "source": [
    "!head Pact_method_union_5x_matrix.tsv"
   ]
  },
  {
   "cell_type": "code",
   "execution_count": 49,
   "metadata": {
    "collapsed": true
   },
   "outputs": [],
   "source": [
    "mkdir /Volumes/web/metacarcinus/FROGER_meth_compare/20200501"
   ]
  },
  {
   "cell_type": "code",
   "execution_count": 50,
   "metadata": {},
   "outputs": [
    {
     "name": "stdout",
     "output_type": "stream",
     "text": [
      "building file list ... \n",
      "30 files to consider\n",
      "data/\n",
      "data/MBD_5x.tc.bed\n",
      "   117436711 100%   44.40MB/s    0:00:02 (xfer#1, to-check=28/30)\n",
      "data/MBD_5x.tc.bedgraph\n",
      "   124846389 100%   36.42MB/s    0:00:03 (xfer#2, to-check=27/30)\n",
      "data/Meth1_R1_001_val_1_bismark_bt2_pe._5x.tC.bedgraph\n",
      "   189961287 100%   38.73MB/s    0:00:04 (xfer#3, to-check=26/30)\n",
      "data/Meth1_R1_001_val_1_bismark_bt2_pe._5x.tab\n",
      "   251446400 100%   33.25MB/s    0:00:07 (xfer#4, to-check=25/30)\n",
      "data/Meth2_R1_001_val_1_bismark_bt2_pe._5x.tC.bedgraph\n",
      "   218602336 100%   36.93MB/s    0:00:05 (xfer#5, to-check=24/30)\n",
      "data/Meth2_R1_001_val_1_bismark_bt2_pe._5x.tab\n",
      "   289019583 100%   39.66MB/s    0:00:06 (xfer#6, to-check=23/30)\n",
      "data/Meth3_R1_001_val_1_bismark_bt2_pe._5x.tC.bedgraph\n",
      "   201238522 100%   31.92MB/s    0:00:06 (xfer#7, to-check=22/30)\n",
      "data/Meth3_R1_001_val_1_bismark_bt2_pe._5x.tab\n",
      "   266285364 100%   43.11MB/s    0:00:05 (xfer#8, to-check=21/30)\n",
      "data/Meth4_R1_001_val_1_bismark_bt2_pe._5x.tC.bedgraph\n",
      "    63596292 100%   26.04MB/s    0:00:02 (xfer#9, to-check=20/30)\n",
      "data/Meth4_R1_001_val_1_bismark_bt2_pe._5x.tab\n",
      "    84113105 100%   35.67MB/s    0:00:02 (xfer#10, to-check=19/30)\n",
      "data/Meth5_R1_001_val_1_bismark_bt2_pe._5x.tC.bedgraph\n",
      "    50747673 100%   34.45MB/s    0:00:01 (xfer#11, to-check=18/30)\n",
      "data/Meth5_R1_001_val_1_bismark_bt2_pe._5x.tab\n",
      "    67057699 100%   34.29MB/s    0:00:01 (xfer#12, to-check=17/30)\n",
      "data/Meth6_R1_001_val_1_bismark_bt2_pe._5x.tC.bedgraph\n",
      "    52729352 100%   24.92MB/s    0:00:02 (xfer#13, to-check=16/30)\n",
      "data/Meth6_R1_001_val_1_bismark_bt2_pe._5x.tab\n",
      "    69680695 100%   41.74MB/s    0:00:01 (xfer#14, to-check=15/30)\n",
      "data/Meth7_R1_001_val_1_bismark_bt2_pe._5x.tC.bedgraph\n",
      "    89573139 100%   33.21MB/s    0:00:02 (xfer#15, to-check=14/30)\n",
      "data/Meth7_R1_001_val_1_bismark_bt2_pe._5x.tab\n",
      "   119267483 100%   33.02MB/s    0:00:03 (xfer#16, to-check=13/30)\n",
      "data/Meth8_R1_001_val_1_bismark_bt2_pe._5x.tC.bedgraph\n",
      "    17958787 100%   19.78MB/s    0:00:00 (xfer#17, to-check=12/30)\n",
      "data/Meth8_R1_001_val_1_bismark_bt2_pe._5x.tab\n",
      "    24249961 100%   16.46MB/s    0:00:01 (xfer#18, to-check=11/30)\n",
      "data/Meth9_R1_001_val_1_bismark_bt2_pe._5x.tC.bedgraph\n",
      "    92699819 100%   36.55MB/s    0:00:02 (xfer#19, to-check=10/30)\n",
      "data/Meth9_R1_001_val_1_bismark_bt2_pe._5x.tab\n",
      "   123420028 100%   37.15MB/s    0:00:03 (xfer#20, to-check=9/30)\n",
      "data/Pact_CpG.bed\n",
      "   286026917 100%   41.36MB/s    0:00:06 (xfer#21, to-check=8/30)\n",
      "data/Pact_CpG.bedgraph\n",
      "   304338157 100%   40.56MB/s    0:00:07 (xfer#22, to-check=7/30)\n",
      "data/Pact_CpG.gff\n",
      "  1111983287 100%   43.98MB/s    0:00:24 (xfer#23, to-check=6/30)\n",
      "data/Pact_method_union_5x.bedgraph\n",
      "   388398013 100%   43.01MB/s    0:00:08 (xfer#24, to-check=5/30)\n",
      "data/Pact_method_union_5x_matrix.tsv\n",
      "   359271911 100%   39.52MB/s    0:00:08 (xfer#25, to-check=4/30)\n",
      "data/RRBS_5x.tc.bed\n",
      "    66435627 100%   28.15MB/s    0:00:02 (xfer#26, to-check=3/30)\n",
      "data/RRBS_5x.tc.bedgraph\n",
      "    70642181 100%   33.89MB/s    0:00:01 (xfer#27, to-check=2/30)\n",
      "data/WGBS_5x.tc.bed\n",
      "   224947887 100%   35.19MB/s    0:00:06 (xfer#28, to-check=1/30)\n",
      "data/WGBS_5x.tc.bedgraph\n",
      "   239144643 100%   36.90MB/s    0:00:06 (xfer#29, to-check=0/30)\n",
      "\n",
      "sent 5565800805 bytes  received 664 bytes  43313630.11 bytes/sec\n",
      "total size is 5565119248  speedup is 1.00\n"
     ]
    }
   ],
   "source": [
    "!rsync \\\n",
    "--progress \\\n",
    "--verbose \\\n",
    "--archive \\\n",
    "--exclude \"gannet.fish.washington.edu\" \\\n",
    "/Users/strigg/Documents/GitHub/Meth_Compare/data \\\n",
    "/Volumes/web/metacarcinus/FROGER_meth_compare/20200501\n"
   ]
  },
  {
   "cell_type": "code",
   "execution_count": 51,
   "metadata": {},
   "outputs": [
    {
     "name": "stdout",
     "output_type": "stream",
     "text": [
      " 9155621 Pact_method_union_5x_matrix.tsv\r\n"
     ]
    }
   ],
   "source": [
    "!wc -l Pact_method_union_5x_matrix.tsv"
   ]
  },
  {
   "cell_type": "code",
   "execution_count": 52,
   "metadata": {},
   "outputs": [
    {
     "name": "stdout",
     "output_type": "stream",
     "text": [
      "chrom_start_end\tALL\tWGBS\tRRBS\tMBD\r\n",
      "scaffold100000_cov51_5_6\t1\t0\t0\t0\r\n",
      "scaffold100000_cov51_23_24\t1\t1\t0\t0\r\n",
      "scaffold100000_cov51_61_62\t1\t1\t0\t0\r\n",
      "scaffold100000_cov51_69_70\t1\t1\t0\t0\r\n",
      "scaffold100000_cov51_79_80\t1\t1\t0\t0\r\n",
      "scaffold100000_cov51_110_111\t1\t1\t1\t0\r\n",
      "scaffold100000_cov51_113_114\t1\t1\t1\t0\r\n",
      "scaffold100000_cov51_206_207\t1\t1\t1\t0\r\n",
      "scaffold100000_cov51_214_215\t1\t1\t1\t0\r\n"
     ]
    }
   ],
   "source": [
    "!head Pact_method_union_5x_matrix.tsv"
   ]
  }
 ],
 "metadata": {
  "kernelspec": {
   "display_name": "Python 3",
   "language": "python",
   "name": "python3"
  },
  "language_info": {
   "codemirror_mode": {
    "name": "ipython",
    "version": 3
   },
   "file_extension": ".py",
   "mimetype": "text/x-python",
   "name": "python",
   "nbconvert_exporter": "python",
   "pygments_lexer": "ipython3",
   "version": "3.6.8"
  }
 },
 "nbformat": 4,
 "nbformat_minor": 4
}
