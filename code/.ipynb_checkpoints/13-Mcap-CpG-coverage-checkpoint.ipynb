{
 "cells": [
  {
   "cell_type": "markdown",
   "metadata": {},
   "source": [
    "# Here we see how many of all the CpGs are captured ..."
   ]
  },
  {
   "cell_type": "code",
   "execution_count": 6,
   "metadata": {
    "ExecuteTime": {
     "end_time": "2020-04-03T04:46:17.072356Z",
     "start_time": "2020-04-03T04:46:16.927056Z"
    }
   },
   "outputs": [
    {
     "name": "stdout",
     "output_type": "stream",
     "text": [
      "-rw-r--r--@ 1 sr320  staff   3.6G Mar 29 11:49 ../genome-feature-files/C1_CpG.gff\r\n",
      "-rw-r--r--@ 1 sr320  staff   2.5G Mar 29 11:12 ../genome-feature-files/Mcap_CpG.gff\r\n",
      "-rw-r--r--@ 1 sr320  staff   1.0G Mar 29 09:30 ../genome-feature-files/Pact_CpG.gff\r\n"
     ]
    }
   ],
   "source": [
    "!ls -lh ../genome-feature-files/*CpG.gff"
   ]
  },
  {
   "cell_type": "code",
   "execution_count": 7,
   "metadata": {
    "ExecuteTime": {
     "end_time": "2020-04-03T04:47:46.424195Z",
     "start_time": "2020-04-03T04:47:46.254440Z"
    }
   },
   "outputs": [
    {
     "name": "stdout",
     "output_type": "stream",
     "text": [
      "chrom\tstart\tend\t10\t11\t12\t13\t14\t15\t16\t17\t18\r\n",
      "1\t3493\t3495\tN/A\tN/A\tN/A\t0.000000\tN/A\t0.000000\tN/A\tN/A\tN/A\r\n",
      "1\t3518\t3520\tN/A\tN/A\tN/A\t0.000000\tN/A\t0.000000\tN/A\tN/A\tN/A\r\n",
      "1\t3727\t3729\tN/A\tN/A\tN/A\t0.000000\t0.000000\t8.695652\tN/A\tN/A\tN/A\r\n",
      "1\t3752\t3754\tN/A\tN/A\tN/A\t0.000000\t0.000000\t0.000000\tN/A\tN/A\tN/A\r\n",
      "1\t3757\t3759\tN/A\tN/A\tN/A\t0.000000\t0.000000\t0.000000\tN/A\tN/A\tN/A\r\n",
      "1\t3770\t3772\tN/A\tN/A\tN/A\t0.000000\t0.000000\t0.000000\tN/A\tN/A\tN/A\r\n",
      "1\t4062\t4064\tN/A\tN/A\t0.000000\tN/A\tN/A\tN/A\tN/A\tN/A\tN/A\r\n",
      "1\t4069\t4071\tN/A\tN/A\t0.000000\tN/A\tN/A\tN/A\tN/A\tN/A\tN/A\r\n",
      "1\t4077\t4079\tN/A\tN/A\t0.000000\tN/A\tN/A\tN/A\tN/A\tN/A\tN/A\r\n"
     ]
    }
   ],
   "source": [
    "!head ../analyses/10-unionbedg/Mcap_union_5x.bedgraph"
   ]
  },
  {
   "cell_type": "code",
   "execution_count": 8,
   "metadata": {
    "ExecuteTime": {
     "end_time": "2020-04-03T04:48:02.683099Z",
     "start_time": "2020-04-03T04:48:02.559900Z"
    }
   },
   "outputs": [
    {
     "name": "stdout",
     "output_type": "stream",
     "text": [
      "##gff-version 2.0\r\n",
      "##date 2020-03-29\r\n",
      "##Type DNA 1\r\n",
      "1\tfuzznuc\tmisc_feature\t37\t38\t2.000\t+\t.\tSequence \"1.1\" ; note \"*pat pattern1\"\r\n",
      "1\tfuzznuc\tmisc_feature\t90\t91\t2.000\t+\t.\tSequence \"1.2\" ; note \"*pat pattern1\"\r\n",
      "1\tfuzznuc\tmisc_feature\t121\t122\t2.000\t+\t.\tSequence \"1.3\" ; note \"*pat pattern1\"\r\n",
      "1\tfuzznuc\tmisc_feature\t132\t133\t2.000\t+\t.\tSequence \"1.4\" ; note \"*pat pattern1\"\r\n",
      "1\tfuzznuc\tmisc_feature\t153\t154\t2.000\t+\t.\tSequence \"1.5\" ; note \"*pat pattern1\"\r\n",
      "1\tfuzznuc\tmisc_feature\t170\t171\t2.000\t+\t.\tSequence \"1.6\" ; note \"*pat pattern1\"\r\n",
      "1\tfuzznuc\tmisc_feature\t220\t221\t2.000\t+\t.\tSequence \"1.7\" ; note \"*pat pattern1\"\r\n"
     ]
    }
   ],
   "source": [
    "!head ../genome-feature-files/Mcap_CpG.gff"
   ]
  },
  {
   "cell_type": "markdown",
   "metadata": {},
   "source": [
    "# a little intersectbed"
   ]
  },
  {
   "cell_type": "code",
   "execution_count": null,
   "metadata": {},
   "outputs": [],
   "source": []
  }
 ],
 "metadata": {
  "kernelspec": {
   "display_name": "Python 3",
   "language": "python",
   "name": "python3"
  },
  "language_info": {
   "codemirror_mode": {
    "name": "ipython",
    "version": 3
   },
   "file_extension": ".py",
   "mimetype": "text/x-python",
   "name": "python",
   "nbconvert_exporter": "python",
   "pygments_lexer": "ipython3",
   "version": "3.6.8"
  }
 },
 "nbformat": 4,
 "nbformat_minor": 2
}
