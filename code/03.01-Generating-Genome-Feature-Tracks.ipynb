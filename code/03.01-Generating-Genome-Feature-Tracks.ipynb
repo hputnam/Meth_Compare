{
 "cells": [
  {
   "cell_type": "markdown",
   "metadata": {},
   "source": [
    "# Generating Genome Feature Tracks"
   ]
  },
  {
   "cell_type": "markdown",
   "metadata": {},
   "source": [
    "## 0. Set working directory"
   ]
  },
  {
   "cell_type": "code",
   "execution_count": 1,
   "metadata": {},
   "outputs": [
    {
     "name": "stdout",
     "output_type": "stream",
     "text": [
      "/Users/yaamini/Documents/Meth_Compare/scripts\r\n"
     ]
    }
   ],
   "source": [
    "!pwd"
   ]
  },
  {
   "cell_type": "code",
   "execution_count": 2,
   "metadata": {},
   "outputs": [
    {
     "name": "stdout",
     "output_type": "stream",
     "text": [
      "/Users/yaamini/Documents/Meth_Compare\n"
     ]
    }
   ],
   "source": [
    "cd .."
   ]
  },
  {
   "cell_type": "code",
   "execution_count": 3,
   "metadata": {
    "collapsed": true
   },
   "outputs": [],
   "source": [
    "#!mkdir genome-feature-files/"
   ]
  },
  {
   "cell_type": "code",
   "execution_count": 4,
   "metadata": {},
   "outputs": [
    {
     "name": "stdout",
     "output_type": "stream",
     "text": [
      "/Users/yaamini/Documents/Meth_Compare/genome-feature-files\n"
     ]
    }
   ],
   "source": [
    "cd genome-feature-files/"
   ]
  },
  {
   "cell_type": "code",
   "execution_count": 5,
   "metadata": {
    "collapsed": true
   },
   "outputs": [],
   "source": [
    "bedtoolsDirectory = \"/usr/local/bin/\""
   ]
  },
  {
   "cell_type": "markdown",
   "metadata": {},
   "source": [
    "## 1. *M. capitata*"
   ]
  },
  {
   "cell_type": "code",
   "execution_count": 6,
   "metadata": {},
   "outputs": [
    {
     "name": "stdout",
     "output_type": "stream",
     "text": [
      "--2020-05-05 10:13:56--  http://cyanophora.rutgers.edu/montipora/Mcap.genome_assembly.fa.gz\n",
      "Resolving cyanophora.rutgers.edu (cyanophora.rutgers.edu)... 165.230.208.110\n",
      "Connecting to cyanophora.rutgers.edu (cyanophora.rutgers.edu)|165.230.208.110|:80... connected.\n",
      "HTTP request sent, awaiting response... 200 OK\n",
      "Length: 271241728 (259M) [application/x-gzip]\n",
      "Saving to: ‘Mcap.genome_assembly.fa.gz’\n",
      "\n",
      "Mcap.genome_assembl 100%[===================>] 258.68M  15.3MB/s    in 17s     \n",
      "\n",
      "2020-05-05 10:14:13 (14.9 MB/s) - ‘Mcap.genome_assembly.fa.gz’ saved [271241728/271241728]\n",
      "\n"
     ]
    }
   ],
   "source": [
    "#Obtain the full genome\n",
    "!wget http://cyanophora.rutgers.edu/montipora/Mcap.genome_assembly.fa.gz"
   ]
  },
  {
   "cell_type": "code",
   "execution_count": 7,
   "metadata": {},
   "outputs": [],
   "source": [
    "!gunzip *gz"
   ]
  },
  {
   "cell_type": "code",
   "execution_count": 6,
   "metadata": {},
   "outputs": [
    {
     "name": "stdout",
     "output_type": "stream",
     "text": [
      ">1\r\n",
      "AAATACACTTTCTTAACTATCTGAAATTAAAATTAACGATGTTCCCTTGTAAATTTGTTT\r\n",
      "TCCAATTAAACTTCCAATGGCCTTTGTCTCGGATGTCCTTTGCAAAGCTCATTAGCATCA\r\n",
      "CGAAATATTTGCGTTTAATGATTAAAACTTGACGGAAGAAAAATAATATCGCAAAGCTTT\r\n",
      "GAAATGAAGTACTTAGCTTGCATCCTGCCTTTAGAATGTCGTTCGCTAATGACGAAAAGA\r\n",
      "TTTAAAATCAATAAAAGAATTCAAATCATGTCGGAAATGTGTTTCTTATGTGTATCACAG\r\n",
      "AAGCTACTATCGGAGTGTCCTTTTCTAAAAACACCAAGCAAATAAAAGAAATTTAAAACT\r\n",
      "TTGTCATTCTTAGGAAGCGGAAACATGAGTTTTAAAAGAAAACAGCCTACGTAGAACGAG\r\n",
      "AAATTTATAATGCTACTAAAAGTAAAAACATCTCATCGTTTCGTCTCTCTTTTATCAGGA\r\n",
      "AAAAAGCATTTTTCGGGGATTAATTTATTCTATATAATTACAGATGGATGTGTTAAGTGT\r\n"
     ]
    }
   ],
   "source": [
    "!head Mcap.genome_assembly.fa"
   ]
  },
  {
   "cell_type": "code",
   "execution_count": 9,
   "metadata": {},
   "outputs": [],
   "source": [
    "#Obtain sequence lengths for each chromosome\n",
    "!awk '$0 ~ \">\" {print c; c=0;printf substr($0,2,100) \"\\t\"; } $0 !~ \">\" {c+=length($0);} END { print c; }' \\\n",
    "Mcap.genome_assembly.fa \\\n",
    "> Mcap.genome_assembly-sequence-lengths.txt"
   ]
  },
  {
   "cell_type": "code",
   "execution_count": 12,
   "metadata": {},
   "outputs": [
    {
     "name": "stdout",
     "output_type": "stream",
     "text": [
      "3034\t20616\r\n",
      "3035\t20535\r\n",
      "3036\t20509\r\n",
      "3037\t20511\r\n",
      "3038\t20399\r\n",
      "3039\t20437\r\n",
      "3040\t20260\r\n",
      "3041\t20304\r\n",
      "3042\t20219\r\n",
      "3043\t20160\r\n"
     ]
    }
   ],
   "source": [
    "#Check sequence lengths: chromosome ID, length of each chromosome\n",
    "!tail Mcap.genome_assembly-sequence-lengths.txt"
   ]
  },
  {
   "cell_type": "code",
   "execution_count": 9,
   "metadata": {},
   "outputs": [
    {
     "name": "stdout",
     "output_type": "stream",
     "text": [
      "--2020-06-21 22:31:49--  http://cyanophora.rutgers.edu/montipora/Mcap.GFFannotation.gff\n",
      "Resolving cyanophora.rutgers.edu (cyanophora.rutgers.edu)... 165.230.208.110\n",
      "Connecting to cyanophora.rutgers.edu (cyanophora.rutgers.edu)|165.230.208.110|:80... connected.\n",
      "HTTP request sent, awaiting response... 200 OK\n",
      "Length: 50416559 (48M)\n",
      "Saving to: ‘Mcap.GFFannotation.gff.1’\n",
      "\n",
      "Mcap.GFFannotation. 100%[===================>]  48.08M  14.6MB/s    in 3.6s    \n",
      "\n",
      "2020-06-21 22:31:53 (13.3 MB/s) - ‘Mcap.GFFannotation.gff.1’ saved [50416559/50416559]\n",
      "\n"
     ]
    }
   ],
   "source": [
    "#Obtain genome feature file\n",
    "!wget http://cyanophora.rutgers.edu/montipora/Mcap.GFFannotation.gff"
   ]
  },
  {
   "cell_type": "code",
   "execution_count": 12,
   "metadata": {
    "scrolled": true
   },
   "outputs": [
    {
     "name": "stdout",
     "output_type": "stream",
     "text": [
      "1\tAUGUSTUS\tgene\t18387\t18755\t0.97\t-\t.\tg21532\r\n",
      "1\tAUGUSTUS\tCDS\t18387\t18755\t0.97\t-\t0\ttranscript_id \"g21532.t1\"; gene_id \"g21532\";\r\n",
      "1\tAUGUSTUS\tgene\t22321\t27293\t0.23\t-\t.\tg21533\r\n",
      "1\tAUGUSTUS\tCDS\t22321\t22608\t0.55\t-\t0\ttranscript_id \"g21533.t1\"; gene_id \"g21533\";\r\n",
      "1\tAUGUSTUS\tintron\t22609\t26300\t0.25\t-\t.\ttranscript_id \"g21533.t1\"; gene_id \"g21533\";\r\n",
      "1\tAUGUSTUS\tCDS\t26301\t27293\t0.29\t-\t0\ttranscript_id \"g21533.t1\"; gene_id \"g21533\";\r\n",
      "1\tAUGUSTUS\tgene\t37447\t52266\t1\t+\t.\tg21534\r\n",
      "1\tAUGUSTUS\tCDS\t37447\t37810\t1\t+\t0\ttranscript_id \"g21534.t1\"; gene_id \"g21534\";\r\n",
      "1\tAUGUSTUS\tintron\t37811\t45037\t1\t+\t.\ttranscript_id \"g21534.t1\"; gene_id \"g21534\";\r\n",
      "1\tAUGUSTUS\tCDS\t45038\t45208\t1\t+\t2\ttranscript_id \"g21534.t1\"; gene_id \"g21534\";\r\n"
     ]
    }
   ],
   "source": [
    "#Columns: chr, ?, feature type, start, end, ?, ?, ID\n",
    "!head Mcap.GFFannotation.gff"
   ]
  },
  {
   "cell_type": "markdown",
   "metadata": {},
   "source": [
    "### 1a. Gene"
   ]
  },
  {
   "cell_type": "code",
   "execution_count": 22,
   "metadata": {
    "collapsed": true
   },
   "outputs": [],
   "source": [
    "#Match both AUGUSTUS and GeMoMa gene annotations\n",
    "!grep -e \"AUGUSTUS\tgene\" -e \"GeMoMa\tgene\" Mcap.GFFannotation.gff > Mcap.GFFannotation.gene.gff"
   ]
  },
  {
   "cell_type": "code",
   "execution_count": 23,
   "metadata": {
    "scrolled": true
   },
   "outputs": [
    {
     "name": "stdout",
     "output_type": "stream",
     "text": [
      "1\tAUGUSTUS\tgene\t18387\t18755\t0.97\t-\t.\tg21532\n",
      "1\tAUGUSTUS\tgene\t22321\t27293\t0.23\t-\t.\tg21533\n",
      "1\tAUGUSTUS\tgene\t37447\t52266\t1\t+\t.\tg21534\n",
      "1\tAUGUSTUS\tgene\t58322\t62557\t1\t-\t.\tg21535\n",
      "1\tAUGUSTUS\tgene\t64466\t84798\t1\t+\t.\tg21536\n",
      "1\tAUGUSTUS\tgene\t88347\t97184\t1\t+\t.\tg21537\n",
      "1\tAUGUSTUS\tgene\t100215\t109729\t0.99\t-\t.\tg21538\n",
      "1\tAUGUSTUS\tgene\t109867\t128510\t0.89\t+\t.\tg21539\n",
      "1\tAUGUSTUS\tgene\t132854\t139285\t1\t-\t.\tg21540\n",
      "1\tAUGUSTUS\tgene\t148344\t149588\t0.44\t+\t.\tg21541\n",
      "   63227 Mcap.GFFannotation.gene.gff\n"
     ]
    }
   ],
   "source": [
    "!head Mcap.GFFannotation.gene.gff\n",
    "!wc -l Mcap.GFFannotation.gene.gff"
   ]
  },
  {
   "cell_type": "markdown",
   "metadata": {},
   "source": [
    "### 1b. CDS"
   ]
  },
  {
   "cell_type": "code",
   "execution_count": 26,
   "metadata": {},
   "outputs": [],
   "source": [
    "!grep -e \"AUGUSTUS\tCDS\" -e \"GeMoMa\tCDS\" Mcap.GFFannotation.gff > Mcap.GFFannotation.CDS.gff"
   ]
  },
  {
   "cell_type": "code",
   "execution_count": 27,
   "metadata": {},
   "outputs": [
    {
     "name": "stdout",
     "output_type": "stream",
     "text": [
      "1\tAUGUSTUS\tCDS\t18387\t18755\t0.97\t-\t0\ttranscript_id \"g21532.t1\"; gene_id \"g21532\";\n",
      "1\tAUGUSTUS\tCDS\t22321\t22608\t0.55\t-\t0\ttranscript_id \"g21533.t1\"; gene_id \"g21533\";\n",
      "1\tAUGUSTUS\tCDS\t26301\t27293\t0.29\t-\t0\ttranscript_id \"g21533.t1\"; gene_id \"g21533\";\n",
      "1\tAUGUSTUS\tCDS\t37447\t37810\t1\t+\t0\ttranscript_id \"g21534.t1\"; gene_id \"g21534\";\n",
      "1\tAUGUSTUS\tCDS\t45038\t45208\t1\t+\t2\ttranscript_id \"g21534.t1\"; gene_id \"g21534\";\n",
      "1\tAUGUSTUS\tCDS\t46625\t47272\t1\t+\t2\ttranscript_id \"g21534.t1\"; gene_id \"g21534\";\n",
      "1\tAUGUSTUS\tCDS\t49943\t50132\t1\t+\t2\ttranscript_id \"g21534.t1\"; gene_id \"g21534\";\n",
      "1\tAUGUSTUS\tCDS\t51903\t52266\t1\t+\t1\ttranscript_id \"g21534.t1\"; gene_id \"g21534\";\n",
      "1\tAUGUSTUS\tCDS\t58322\t59506\t1\t-\t0\ttranscript_id \"g21535.t1\"; gene_id \"g21535\";\n",
      "1\tAUGUSTUS\tCDS\t62261\t62557\t1\t-\t0\ttranscript_id \"g21535.t1\"; gene_id \"g21535\";\n",
      "  283926 Mcap.GFFannotation.CDS.gff\n"
     ]
    }
   ],
   "source": [
    "!head Mcap.GFFannotation.CDS.gff\n",
    "!wc -l Mcap.GFFannotation.CDS.gff"
   ]
  },
  {
   "cell_type": "markdown",
   "metadata": {},
   "source": [
    "### 1c. Intron"
   ]
  },
  {
   "cell_type": "code",
   "execution_count": 28,
   "metadata": {
    "collapsed": true
   },
   "outputs": [],
   "source": [
    "!grep -e \"AUGUSTUS\tintron\" -e \"GeMoMa\tintron\" Mcap.GFFannotation.gff > Mcap.GFFannotation.intron.gff"
   ]
  },
  {
   "cell_type": "code",
   "execution_count": 29,
   "metadata": {
    "scrolled": false
   },
   "outputs": [
    {
     "name": "stdout",
     "output_type": "stream",
     "text": [
      "1\tAUGUSTUS\tintron\t22609\t26300\t0.25\t-\t.\ttranscript_id \"g21533.t1\"; gene_id \"g21533\";\n",
      "1\tAUGUSTUS\tintron\t37811\t45037\t1\t+\t.\ttranscript_id \"g21534.t1\"; gene_id \"g21534\";\n",
      "1\tAUGUSTUS\tintron\t45209\t46624\t1\t+\t.\ttranscript_id \"g21534.t1\"; gene_id \"g21534\";\n",
      "1\tAUGUSTUS\tintron\t47273\t49942\t1\t+\t.\ttranscript_id \"g21534.t1\"; gene_id \"g21534\";\n",
      "1\tAUGUSTUS\tintron\t50133\t51902\t1\t+\t.\ttranscript_id \"g21534.t1\"; gene_id \"g21534\";\n",
      "1\tAUGUSTUS\tintron\t59507\t62260\t1\t-\t.\ttranscript_id \"g21535.t1\"; gene_id \"g21535\";\n",
      "1\tAUGUSTUS\tintron\t64578\t64654\t1\t+\t.\ttranscript_id \"g21536.t1\"; gene_id \"g21536\";\n",
      "1\tAUGUSTUS\tintron\t64735\t67263\t1\t+\t.\ttranscript_id \"g21536.t1\"; gene_id \"g21536\";\n",
      "1\tAUGUSTUS\tintron\t67319\t71345\t1\t+\t.\ttranscript_id \"g21536.t1\"; gene_id \"g21536\";\n",
      "1\tAUGUSTUS\tintron\t71456\t72865\t1\t+\t.\ttranscript_id \"g21536.t1\"; gene_id \"g21536\";\n",
      "  221428 Mcap.GFFannotation.intron.gff\n"
     ]
    }
   ],
   "source": [
    "!head Mcap.GFFannotation.intron.gff\n",
    "!wc -l Mcap.GFFannotation.intron.gff"
   ]
  },
  {
   "cell_type": "markdown",
   "metadata": {},
   "source": [
    "### 1d. Flanking regions (1 kb)"
   ]
  },
  {
   "cell_type": "markdown",
   "metadata": {},
   "source": [
    "#### All flanks"
   ]
  },
  {
   "cell_type": "code",
   "execution_count": 30,
   "metadata": {},
   "outputs": [],
   "source": [
    "#Create 1kb flanking regions\n",
    "#Subtract existing genes so flanks do not have any overlap\n",
    "!{bedtoolsDirectory}flankBed \\\n",
    "-i Mcap.GFFannotation.gene.gff \\\n",
    "-g Mcap.genome_assembly-sequence-lengths.txt \\\n",
    "-b 1000 \\\n",
    "| {bedtoolsDirectory}subtractBed \\\n",
    "-a - \\\n",
    "-b Mcap.GFFannotation.gene.gff \\\n",
    "> Mcap.GFFannotation.flanks.gff"
   ]
  },
  {
   "cell_type": "code",
   "execution_count": 31,
   "metadata": {
    "scrolled": false
   },
   "outputs": [
    {
     "name": "stdout",
     "output_type": "stream",
     "text": [
      "1\tAUGUSTUS\tgene\t17387\t18386\t0.97\t-\t.\tg21532\n",
      "1\tAUGUSTUS\tgene\t18756\t19755\t0.97\t-\t.\tg21532\n",
      "1\tAUGUSTUS\tgene\t21321\t22320\t0.23\t-\t.\tg21533\n",
      "1\tAUGUSTUS\tgene\t27294\t28293\t0.23\t-\t.\tg21533\n",
      "1\tAUGUSTUS\tgene\t36447\t37446\t1\t+\t.\tg21534\n",
      "1\tAUGUSTUS\tgene\t52267\t53266\t1\t+\t.\tg21534\n",
      "1\tAUGUSTUS\tgene\t57322\t58321\t1\t-\t.\tg21535\n",
      "1\tAUGUSTUS\tgene\t62558\t63557\t1\t-\t.\tg21535\n",
      "1\tAUGUSTUS\tgene\t63466\t64465\t1\t+\t.\tg21536\n",
      "1\tAUGUSTUS\tgene\t84799\t85798\t1\t+\t.\tg21536\n",
      "  133644 Mcap.GFFannotation.flanks.gff\n"
     ]
    }
   ],
   "source": [
    "!head Mcap.GFFannotation.flanks.gff\n",
    "!wc -l Mcap.GFFannotation.flanks.gff"
   ]
  },
  {
   "cell_type": "markdown",
   "metadata": {},
   "source": [
    "#### Upstream flanks"
   ]
  },
  {
   "cell_type": "code",
   "execution_count": 32,
   "metadata": {},
   "outputs": [],
   "source": [
    "#Create flanking regions\n",
    "#Create upstream flanks (-l) based on strand (-s)\n",
    "#Subtract existing genes so flanks do not have any overlap\n",
    "!{bedtoolsDirectory}flankBed \\\n",
    "-i Mcap.GFFannotation.gene.gff \\\n",
    "-g Mcap.genome_assembly-sequence-lengths.txt \\\n",
    "-l 1000 \\\n",
    "-r 0 \\\n",
    "-s \\\n",
    "| {bedtoolsDirectory}subtractBed \\\n",
    "-a - \\\n",
    "-b Mcap.GFFannotation.gene.gff \\\n",
    "> Mcap.GFFannotation.flanks.Upstream.gff"
   ]
  },
  {
   "cell_type": "code",
   "execution_count": 33,
   "metadata": {},
   "outputs": [
    {
     "name": "stdout",
     "output_type": "stream",
     "text": [
      "1\tAUGUSTUS\tgene\t18756\t19755\t0.97\t-\t.\tg21532\n",
      "1\tAUGUSTUS\tgene\t27294\t28293\t0.23\t-\t.\tg21533\n",
      "1\tAUGUSTUS\tgene\t36447\t37446\t1\t+\t.\tg21534\n",
      "1\tAUGUSTUS\tgene\t62558\t63557\t1\t-\t.\tg21535\n",
      "1\tAUGUSTUS\tgene\t63466\t64465\t1\t+\t.\tg21536\n",
      "1\tAUGUSTUS\tgene\t87347\t88346\t1\t+\t.\tg21537\n",
      "1\tAUGUSTUS\tgene\t109730\t109866\t0.99\t-\t.\tg21538\n",
      "1\tAUGUSTUS\tgene\t109730\t109866\t0.89\t+\t.\tg21539\n",
      "1\tAUGUSTUS\tgene\t139286\t140285\t1\t-\t.\tg21540\n",
      "1\tAUGUSTUS\tgene\t147344\t148343\t0.44\t+\t.\tg21541\n",
      "   66969 Mcap.GFFannotation.flanks.Upstream.gff\n"
     ]
    }
   ],
   "source": [
    "!head Mcap.GFFannotation.flanks.Upstream.gff\n",
    "!wc -l Mcap.GFFannotation.flanks.Upstream.gff"
   ]
  },
  {
   "cell_type": "markdown",
   "metadata": {},
   "source": [
    "#### Downstream flanks"
   ]
  },
  {
   "cell_type": "code",
   "execution_count": 34,
   "metadata": {},
   "outputs": [],
   "source": [
    "#Create flanking regions\n",
    "#Create downstream flanks (-r) based on strand (-s)\n",
    "#Subtract existing genes so flanks do not have any overlap\n",
    "!{bedtoolsDirectory}flankBed \\\n",
    "-i Mcap.GFFannotation.gene.gff \\\n",
    "-g Mcap.genome_assembly-sequence-lengths.txt \\\n",
    "-l 0 \\\n",
    "-r 1000 \\\n",
    "-s \\\n",
    "| {bedtoolsDirectory}subtractBed \\\n",
    "-a - \\\n",
    "-b Mcap.GFFannotation.gene.gff \\\n",
    "> Mcap.GFFannotation.flanks.Downstream.gff"
   ]
  },
  {
   "cell_type": "code",
   "execution_count": 35,
   "metadata": {
    "scrolled": false
   },
   "outputs": [
    {
     "name": "stdout",
     "output_type": "stream",
     "text": [
      "1\tAUGUSTUS\tgene\t17387\t18386\t0.97\t-\t.\tg21532\n",
      "1\tAUGUSTUS\tgene\t21321\t22320\t0.23\t-\t.\tg21533\n",
      "1\tAUGUSTUS\tgene\t52267\t53266\t1\t+\t.\tg21534\n",
      "1\tAUGUSTUS\tgene\t57322\t58321\t1\t-\t.\tg21535\n",
      "1\tAUGUSTUS\tgene\t84799\t85798\t1\t+\t.\tg21536\n",
      "1\tAUGUSTUS\tgene\t97185\t98184\t1\t+\t.\tg21537\n",
      "1\tAUGUSTUS\tgene\t99215\t100214\t0.99\t-\t.\tg21538\n",
      "1\tAUGUSTUS\tgene\t128511\t129510\t0.89\t+\t.\tg21539\n",
      "1\tAUGUSTUS\tgene\t131854\t132853\t1\t-\t.\tg21540\n",
      "1\tAUGUSTUS\tgene\t149589\t150588\t0.44\t+\t.\tg21541\n",
      "   67015 Mcap.GFFannotation.flanks.Downstream.gff\n"
     ]
    }
   ],
   "source": [
    "!head Mcap.GFFannotation.flanks.Downstream.gff\n",
    "!wc -l Mcap.GFFannotation.flanks.Downstream.gff"
   ]
  },
  {
   "cell_type": "markdown",
   "metadata": {},
   "source": [
    "### 1e. Intergenic regions"
   ]
  },
  {
   "cell_type": "markdown",
   "metadata": {},
   "source": [
    "By definition, these are regions that are not in genes and do not include flanking regions."
   ]
  },
  {
   "cell_type": "code",
   "execution_count": 36,
   "metadata": {},
   "outputs": [],
   "source": [
    "#Find intergenic regions\n",
    "#Subtract defined flanks from intergenic regions\n",
    "!/usr/local/bin/complementBed \\\n",
    "-i Mcap.GFFannotation.gene.gff \\\n",
    "-g Mcap.genome_assembly-sequence-lengths.txt \\\n",
    "| /usr/local/bin/subtractBed \\\n",
    "-a - \\\n",
    "-b Mcap.GFFannotation.flanks.gff \\\n",
    "| awk '{print $1\"\\t\"$2\"\\t\"$3}' \\\n",
    "> Mcap.GFFannotation.intergenic.bed"
   ]
  },
  {
   "cell_type": "code",
   "execution_count": 37,
   "metadata": {
    "scrolled": true
   },
   "outputs": [
    {
     "name": "stdout",
     "output_type": "stream",
     "text": [
      "1\t0\t17386\n",
      "1\t19755\t21320\n",
      "1\t28293\t36446\n",
      "1\t53266\t57321\n",
      "1\t85798\t87346\n",
      "1\t98184\t99214\n",
      "1\t129510\t131853\n",
      "1\t140285\t147343\n",
      "1\t150588\t155443\n",
      "1\t158268\t171840\n",
      "   43853 Mcap.GFFannotation.intergenic.bed\n"
     ]
    }
   ],
   "source": [
    "!head Mcap.GFFannotation.intergenic.bed\n",
    "!wc -l Mcap.GFFannotation.intergenic.bed"
   ]
  },
  {
   "cell_type": "markdown",
   "metadata": {},
   "source": [
    "## 2. *P. acuta*"
   ]
  },
  {
   "cell_type": "code",
   "execution_count": 23,
   "metadata": {},
   "outputs": [
    {
     "name": "stdout",
     "output_type": "stream",
     "text": [
      ">scaffold168464_cov461\r\n",
      "TTGTGTTATGTTTAAAAACAGCAGTGTGATTAAAAGGAGTTTTTAAGGAAAAATATTGGTAAGATACAGTCAAATCTCTA\r\n",
      "TACATTAATGACTGTTTTTTCTTATTGTTTATCATCAAATCTATTATTATTATTATTAAATTTTACCTGTGCCTTTGATG\r\n",
      "TTTTAGAAACCATTGGCGGGACACTTTTTAAGCCTAATAGCTGGAAATGGGCAAGAGTATAGAGCAATCCAAGAACATGA\r\n",
      "TGGCAAAGACCTTGTCCAGCAGCACAACTACACATATACTTGTTGATGCTAGCCTCAATAGAGGAGCTCTCGAACACAAC\r\n",
      "AGACAACTTGTGAGGATCTTCGTTCTTTTTCATACTTCTGAAGCATTTAGCCCGAGCCACTACTCCTGAATCCTCTT\r\n",
      ">scaffold168465_cov225\r\n",
      "TCATCTTACACAAGTAGTTCCAGAGTCTTTAATTTGTACATGACCCGTCGAGGACTCTTCGTTTTTCACCTATTATGCTT\r\n",
      "TTGTTTTTTGAAATCTATTTTCTGTTGAAGGAGACCAGAATTGAGATGACTGATGCCCTGATAATTTTTCTTATAAAGTT\r\n",
      "TTGAAT\r\n"
     ]
    }
   ],
   "source": [
    "#FASTA file for genome\n",
    "!tail Pocillopora_acuta_genome_v1.fasta"
   ]
  },
  {
   "cell_type": "code",
   "execution_count": 21,
   "metadata": {},
   "outputs": [],
   "source": [
    "#Obtain sequence lengths for each chromosome\n",
    "!awk '$0 ~ \">\" {print c; c=0;printf substr($0,2,100) \"\\t\"; } $0 !~ \">\" {c+=length($0);} END { print c; }' \\\n",
    "Pocillopora_acuta_genome_v1.fasta \\\n",
    "> Pact.genome_assembly-sequence-lengths.txt"
   ]
  },
  {
   "cell_type": "code",
   "execution_count": 22,
   "metadata": {},
   "outputs": [
    {
     "name": "stdout",
     "output_type": "stream",
     "text": [
      "scaffold168456_cov697\t100\r\n",
      "scaffold168457_cov332\t132\r\n",
      "scaffold168458_cov291\t178\r\n",
      "scaffold168459_cov199\t125\r\n",
      "scaffold168460_cov188\t371\r\n",
      "scaffold168461_cov203\t233\r\n",
      "scaffold168462_cov214\t158\r\n",
      "scaffold168463_cov229\t227\r\n",
      "scaffold168464_cov461\t397\r\n",
      "scaffold168465_cov225\t166\r\n"
     ]
    }
   ],
   "source": [
    "#Check sequence lengths: chromosome ID, length of each chromosome\n",
    "!tail Pact.genome_assembly-sequence-lengths.txt"
   ]
  },
  {
   "cell_type": "code",
   "execution_count": 6,
   "metadata": {
    "scrolled": true
   },
   "outputs": [
    {
     "name": "stdout",
     "output_type": "stream",
     "text": [
      "# This output was generated with AUGUSTUS (version 3.0.2).\r\n",
      "# AUGUSTUS is a gene prediction tool for eukaryotes written by Mario Stanke (mario.stanke@uni-greifswald.de),\r\n",
      "# Oliver Keller, Stefanie König and Lizzy Gerischer.\r\n",
      "# Please cite: Mario Stanke, Mark Diekhans, Robert Baertsch, David Haussler (2008),\r\n",
      "# Using native and syntenically mapped cDNA alignments to improve de novo gene finding\r\n",
      "# Bioinformatics 24: 637-644, doi 10.1093/bioinformatics/btn013\r\n",
      "# Sources of extrinsic information: M E \r\n",
      "# Setting 1group1gene for E.\r\n",
      "# reading in the file /data/www/augpred/webdata/predQiWN9BDi/est.hints ...\r\n",
      "# Have extrinsic information about 4524 sequences (in the specified range). \r\n",
      "# Initialising the parameters using config directory /usr/local/augustus/trunks/config/ ...\r\n",
      "# predQiWN9BDi version. Using default transition matrix.\r\n",
      "# admissible start codons and their probabilities: ATG(1), CTG(0), TTG(0)\r\n",
      "# Looks like /data/www/augpred/webdata/predQiWN9BDi/genome.fa is in fasta format.\r\n",
      "# We have hints for 4524 sequences and for 4524 of the sequences in the input set.\r\n",
      "#\r\n",
      "# ----- prediction on sequence number 1 (length = 8236, name = scaffold6cov64) -----\r\n",
      "#\r\n",
      "# Delete group HintGroup TCONS00062488, 504-8225, mult= 1, priority= 4 4 features\r\n",
      "# Delete group HintGroup TCONS00053424, 6137-6673, mult= 1, priority= 4 4 features\r\n",
      "# Deleted 2 groups because some hint was not satisfiable.\r\n",
      "# Constraints/Hints:\r\n",
      "scaffold6cov64\tb2h\tep\t11\t24\t0\t.\t.\tgrp=TCONS00046181;pri=4;src=E \"1000;0.995;0:0\"\r\n",
      "scaffold6cov64\tb2h\tep\t560\t622\t0\t.\t.\tgrp=TCONS00022569;pri=4;src=E \"3162.28;0.995;2:0\"\r\n",
      "scaffold6cov64\tb2h\tep\t602\t632\t0\t.\t.\tgrp=TCONS00016781;pri=4;src=E \"3162.28;0.995;2:0\"\r\n",
      "scaffold6cov64\tb2h\tep\t508\t831\t0\t.\t.\tgrp=TCONS00000815;pri=4;src=E \"1873.82;0.995;1:0\"\r\n",
      "scaffold6cov64\tb2h\tep\t749\t831\t0\t.\t.\tgrp=TCONS00055261;pri=4;src=E \"10000;0.995;5:0\"\r\n",
      "scaffold6cov64\tb2h\tep\t727\t834\t0\t.\t.\tgrp=TCONS00017538;pri=4;src=E \"1000;0.995;0:0\"\r\n",
      "scaffold6cov64\tb2h\tep\t759\t834\t0\t.\t.\tgrp=TCONS00016781;pri=4;src=E \"3162.28;0.995;2:0\"\r\n",
      "scaffold6cov64\tb2h\tep\t759\t834\t0\t.\t.\tgrp=TCONS00017153;pri=4;src=E \"3162.28;0.995;2:0\"\r\n",
      "scaffold6cov64\tb2h\tep\t1440\t1549\t0\t.\t.\tgrp=TCONS00017538;pri=4;src=E \"1000;0.995;0:0\"\r\n",
      "scaffold6cov64\tb2h\tep\t1472\t1549\t0\t.\t.\tgrp=TCONS00017153;pri=4;src=E \"3162.28;0.995;2:0\"\r\n",
      "scaffold6cov64\tb2h\tep\t1462\t1550\t0\t.\t.\tgrp=TCONS00016781;pri=4;src=E \"1000;0.995;0:0\"\r\n",
      "scaffold6cov64\tb2h\tep\t2015\t2029\t0\t.\t.\tgrp=TCONS00030081;pri=4;src=E \"1873.82;0.995;1:0\"\r\n",
      "scaffold6cov64\tb2h\tep\t2015\t2048\t0\t.\t.\tgrp=TCONS00030080;pri=4;src=E \"1000;0.995;0:0\"\r\n",
      "scaffold6cov64\tb2h\tep\t2033\t2059\t0\t.\t.\tgrp=TCONS00016781;pri=4;src=E \"1000;0.995;0:0\"\r\n",
      "scaffold6cov64\tb2h\tep\t2154\t2235\t0\t.\t.\tgrp=TCONS00017538;pri=4;src=E \"1000;0.995;0:0\"\r\n",
      "scaffold6cov64\tb2h\tep\t2182\t2261\t0\t.\t.\tgrp=TCONS00016781;pri=4;src=E \"1000;0.995;0:0\"\r\n",
      "scaffold6cov64\tb2h\tep\t2192\t2261\t0\t.\t.\tgrp=TCONS00017153;pri=4;src=E \"1873.82;0.995;1:0\"\r\n",
      "scaffold6cov64\tb2h\tep\t5633\t5689\t0\t.\t.\tgrp=TCONS00022087;pri=4;src=E \"17190.7;0.995;7:0\"\r\n",
      "scaffold6cov64\tb2h\tep\t5635\t5691\t0\t.\t.\tgrp=TCONS00000024;pri=4;src=E \"43287.6;0.995;12:0\"\r\n",
      "scaffold6cov64\tb2h\tep\t5631\t5710\t0\t.\t.\tgrp=TCONS00008603;pri=4;src=E \"3162.28;0.995;2:0\"\r\n",
      "scaffold6cov64\tb2h\tep\t5635\t5728\t0\t.\t.\tgrp=TCONS00002095;pri=4;src=E \"21544.3;0.995;8:0\"\r\n",
      "scaffold6cov64\tb2h\tep\t5635\t5786\t0\t.\t.\tgrp=TCONS00002886;pri=4;src=E \"10000;0.995;5:0\"\r\n",
      "scaffold6cov64\tb2h\tep\t5632\t5819\t0\t.\t.\tgrp=TCONS00051396;pri=4;src=E \"3162.28;0.995;2:0\"\r\n",
      "scaffold6cov64\tb2h\tep\t5635\t5829\t0\t.\t.\tgrp=TCONS00027358;pri=4;src=E \"1873.82;0.995;1:0\"\r\n",
      "scaffold6cov64\tb2h\tep\t5633\t5857\t0\t.\t.\tgrp=TCONS00033066;pri=4;src=E \"1000;0.995;0:0\"\r\n",
      "scaffold6cov64\tb2h\tep\t5992\t6006\t0\t.\t.\tgrp=TCONS00021398;pri=4;src=E \"1873.82;0.995;1:0\"\r\n",
      "scaffold6cov64\tb2h\tep\t5992\t6051\t0\t.\t.\tgrp=TCONS00033299;pri=4;src=E \"1000;0.995;0:0\"\r\n",
      "scaffold6cov64\tb2h\tep\t6099\t6124\t0\t.\t.\tgrp=TCONS00046524;pri=4;src=E \"1000;0.995;0:0\"\r\n",
      "scaffold6cov64\tb2h\tep\t6605\t6673\t0\t.\t.\tgrp=TCONS00034862;pri=4;src=E \"4923.88;0.995;3:0\"\r\n",
      "scaffold6cov64\tb2h\tep\t6604\t6674\t0\t.\t.\tgrp=TCONS00059277;pri=4;src=E \"1873.82;0.995;1:0\"\r\n",
      "scaffold6cov64\tb2h\tep\t7086\t7107\t0\t.\t.\tgrp=TCONS00003539;pri=4;src=E \"3162.28;0.995;2:0\"\r\n",
      "# Predicted genes for sequence number 1 on both strands\r\n",
      "# start gene g1\r\n",
      "scaffold6cov64\tAUGUSTUS\tgene\t1\t5652\t0.46\t-\t.\tg1\r\n",
      "scaffold6cov64\tAUGUSTUS\ttranscript\t1\t5652\t0.19\t-\t.\tg1.t1\r\n",
      "scaffold6cov64\tAUGUSTUS\tinternal\t495\t842\t0.84\t-\t2\ttranscript_id \"g1.t1\"; gene_id \"g1\";\r\n",
      "scaffold6cov64\tAUGUSTUS\tinternal\t1208\t1555\t0.92\t-\t2\ttranscript_id \"g1.t1\"; gene_id \"g1\";\r\n",
      "scaffold6cov64\tAUGUSTUS\tinternal\t1922\t2269\t1\t-\t2\ttranscript_id \"g1.t1\"; gene_id \"g1\";\r\n",
      "scaffold6cov64\tAUGUSTUS\tinitial\t5583\t5652\t0.26\t-\t0\ttranscript_id \"g1.t1\"; gene_id \"g1\";\r\n",
      "scaffold6cov64\tAUGUSTUS\tintron\t1\t494\t0.82\t-\t.\ttranscript_id \"g1.t1\"; gene_id \"g1\";\r\n",
      "scaffold6cov64\tAUGUSTUS\tintron\t843\t1207\t0.92\t-\t.\ttranscript_id \"g1.t1\"; gene_id \"g1\";\r\n",
      "scaffold6cov64\tAUGUSTUS\tintron\t1556\t1921\t1\t-\t.\ttranscript_id \"g1.t1\"; gene_id \"g1\";\r\n",
      "scaffold6cov64\tAUGUSTUS\tintron\t2270\t5582\t0.23\t-\t.\ttranscript_id \"g1.t1\"; gene_id \"g1\";\r\n",
      "scaffold6cov64\tAUGUSTUS\tCDS\t495\t842\t0.84\t-\t2\ttranscript_id \"g1.t1\"; gene_id \"g1\";\r\n",
      "scaffold6cov64\tAUGUSTUS\tCDS\t1208\t1555\t0.92\t-\t2\ttranscript_id \"g1.t1\"; gene_id \"g1\";\r\n",
      "scaffold6cov64\tAUGUSTUS\tCDS\t1922\t2269\t1\t-\t2\ttranscript_id \"g1.t1\"; gene_id \"g1\";\r\n",
      "scaffold6cov64\tAUGUSTUS\tCDS\t5583\t5652\t0.26\t-\t0\ttranscript_id \"g1.t1\"; gene_id \"g1\";\r\n",
      "scaffold6cov64\tAUGUSTUS\tstart_codon\t5650\t5652\t.\t-\t0\ttranscript_id \"g1.t1\"; gene_id \"g1\";\r\n"
     ]
    }
   ],
   "source": [
    "#This file is the results of the structural annotation performed on the genes predicted from AUGUSTUS. \n",
    "#It give the position of genes, transcripts, exon (initial, internal and terminal) \n",
    "#CDS, intron, start codon and stop codon on the genome sequence. \n",
    "#It is in gff format.\n",
    "!head -n70 Structural_annotation_abintio.gff"
   ]
  },
  {
   "cell_type": "markdown",
   "metadata": {},
   "source": [
    "According to [this tutorial](https://vcru.wisc.edu/simonlab/bioinformatics/programs/augustus/docs/tutorial2015/prediction.html), predicted genes will be tagged with \"AUGUSTUS\". The other indicators are indicative of the genes used to train the AUGUSTUS algorithm. I'll parse out tracks based on the \"AUGUSTUS\" indicator."
   ]
  },
  {
   "cell_type": "markdown",
   "metadata": {},
   "source": [
    "### 2a. Genes"
   ]
  },
  {
   "cell_type": "code",
   "execution_count": 13,
   "metadata": {
    "collapsed": true
   },
   "outputs": [],
   "source": [
    "#Extract AUGUSTUS predicted genes\n",
    "#Add _ before cov information so scaffold names match genome fasta\n",
    "!grep \"AUGUSTUS\tgene\" Structural_annotation_abintio.gff \\\n",
    "| sed 's/cov/_cov/' \\\n",
    "> Pact.GFFannotation.Genes.gff"
   ]
  },
  {
   "cell_type": "code",
   "execution_count": 14,
   "metadata": {},
   "outputs": [
    {
     "name": "stdout",
     "output_type": "stream",
     "text": [
      "scaffold6_cov64\tAUGUSTUS\tgene\t1\t5652\t0.46\t-\t.\tg1\r\n",
      "scaffold6_cov64\tAUGUSTUS\tgene\t5805\t6678\t0.57\t+\t.\tg2\r\n",
      "scaffold7_cov100\tAUGUSTUS\tgene\t1\t2566\t0.96\t+\t.\tg3\r\n",
      "scaffold7_cov100\tAUGUSTUS\tgene\t3467\t6217\t0.78\t-\t.\tg4\r\n",
      "scaffold7_cov100\tAUGUSTUS\tgene\t7069\t9073\t1\t-\t.\tg5\r\n",
      "scaffold7_cov100\tAUGUSTUS\tgene\t9590\t11670\t0.8\t-\t.\tg6\r\n",
      "scaffold7_cov100\tAUGUSTUS\tgene\t13339\t15463\t0.92\t-\t.\tg7\r\n",
      "scaffold7_cov100\tAUGUSTUS\tgene\t15738\t18320\t0.96\t+\t.\tg8\r\n",
      "scaffold7_cov100\tAUGUSTUS\tgene\t18586\t19270\t0.99\t-\t.\tg9\r\n",
      "scaffold7_cov100\tAUGUSTUS\tgene\t19312\t20050\t0.74\t+\t.\tg10\r\n"
     ]
    }
   ],
   "source": [
    "!head Pact.GFFannotation.Genes.gff"
   ]
  },
  {
   "cell_type": "code",
   "execution_count": 15,
   "metadata": {},
   "outputs": [
    {
     "name": "stdout",
     "output_type": "stream",
     "text": [
      "   64558 Pact.GFFannotation.Genes.gff\r\n"
     ]
    }
   ],
   "source": [
    "#Count is in agreement with paper: https://www.biorxiv.org/content/10.1101/698688v2.full.pdf\n",
    "!wc -l Pact.GFFannotation.Genes.gff"
   ]
  },
  {
   "cell_type": "markdown",
   "metadata": {},
   "source": [
    "### 2b. CDS"
   ]
  },
  {
   "cell_type": "code",
   "execution_count": 28,
   "metadata": {
    "collapsed": true
   },
   "outputs": [],
   "source": [
    "!grep \"AUGUSTUS\tCDS\" ../genome-feature-files/Structural_annotation_abintio.gff \\\n",
    "| sed 's/cov/_cov/' \\\n",
    "> ../genome-feature-files/Pact.GFFannotation.CDS.gff"
   ]
  },
  {
   "cell_type": "code",
   "execution_count": 29,
   "metadata": {
    "scrolled": true
   },
   "outputs": [
    {
     "name": "stdout",
     "output_type": "stream",
     "text": [
      "scaffold6_cov64\tAUGUSTUS\tCDS\t495\t842\t0.84\t-\t2\ttranscript_id \"g1.t1\"; gene_id \"g1\";\r\n",
      "scaffold6_cov64\tAUGUSTUS\tCDS\t1208\t1555\t0.92\t-\t2\ttranscript_id \"g1.t1\"; gene_id \"g1\";\r\n",
      "scaffold6_cov64\tAUGUSTUS\tCDS\t1922\t2269\t1\t-\t2\ttranscript_id \"g1.t1\"; gene_id \"g1\";\r\n",
      "scaffold6_cov64\tAUGUSTUS\tCDS\t5583\t5652\t0.26\t-\t0\ttranscript_id \"g1.t1\"; gene_id \"g1\";\r\n",
      "scaffold6_cov64\tAUGUSTUS\tCDS\t495\t842\t0.84\t-\t2\ttranscript_id \"g1.t2\"; gene_id \"g1\";\r\n",
      "scaffold6_cov64\tAUGUSTUS\tCDS\t1208\t1555\t0.92\t-\t2\ttranscript_id \"g1.t2\"; gene_id \"g1\";\r\n",
      "scaffold6_cov64\tAUGUSTUS\tCDS\t1922\t2269\t1\t-\t2\ttranscript_id \"g1.t2\"; gene_id \"g1\";\r\n",
      "scaffold6_cov64\tAUGUSTUS\tCDS\t4754\t4851\t0.4\t-\t1\ttranscript_id \"g1.t2\"; gene_id \"g1\";\r\n",
      "scaffold6_cov64\tAUGUSTUS\tCDS\t5594\t5652\t0.54\t-\t0\ttranscript_id \"g1.t2\"; gene_id \"g1\";\r\n",
      "scaffold6_cov64\tAUGUSTUS\tCDS\t5805\t5838\t0.98\t+\t0\ttranscript_id \"g2.t1\"; gene_id \"g2\";\r\n"
     ]
    }
   ],
   "source": [
    "!head ../genome-feature-files/Pact.GFFannotation.CDS.gff"
   ]
  },
  {
   "cell_type": "code",
   "execution_count": 30,
   "metadata": {},
   "outputs": [
    {
     "name": "stdout",
     "output_type": "stream",
     "text": [
      "  318484 ../genome-feature-files/Pact.GFFannotation.CDS.gff\r\n"
     ]
    }
   ],
   "source": [
    "!wc -l ../genome-feature-files/Pact.GFFannotation.CDS.gff"
   ]
  },
  {
   "cell_type": "markdown",
   "metadata": {},
   "source": [
    "### 2c. Intron"
   ]
  },
  {
   "cell_type": "code",
   "execution_count": 31,
   "metadata": {
    "collapsed": true
   },
   "outputs": [],
   "source": [
    "!grep \"AUGUSTUS\tintron\" ../genome-feature-files/Structural_annotation_abintio.gff \\\n",
    "| sed 's/cov/_cov/' \\\n",
    "> ../genome-feature-files/Pact.GFFannotation.Intron.gff"
   ]
  },
  {
   "cell_type": "code",
   "execution_count": 32,
   "metadata": {
    "scrolled": true
   },
   "outputs": [
    {
     "name": "stdout",
     "output_type": "stream",
     "text": [
      "scaffold6_cov64\tAUGUSTUS\tintron\t1\t494\t0.82\t-\t.\ttranscript_id \"g1.t1\"; gene_id \"g1\";\r\n",
      "scaffold6_cov64\tAUGUSTUS\tintron\t843\t1207\t0.92\t-\t.\ttranscript_id \"g1.t1\"; gene_id \"g1\";\r\n",
      "scaffold6_cov64\tAUGUSTUS\tintron\t1556\t1921\t1\t-\t.\ttranscript_id \"g1.t1\"; gene_id \"g1\";\r\n",
      "scaffold6_cov64\tAUGUSTUS\tintron\t2270\t5582\t0.23\t-\t.\ttranscript_id \"g1.t1\"; gene_id \"g1\";\r\n",
      "scaffold6_cov64\tAUGUSTUS\tintron\t1\t494\t0.82\t-\t.\ttranscript_id \"g1.t2\"; gene_id \"g1\";\r\n",
      "scaffold6_cov64\tAUGUSTUS\tintron\t843\t1207\t0.92\t-\t.\ttranscript_id \"g1.t2\"; gene_id \"g1\";\r\n",
      "scaffold6_cov64\tAUGUSTUS\tintron\t1556\t1921\t1\t-\t.\ttranscript_id \"g1.t2\"; gene_id \"g1\";\r\n",
      "scaffold6_cov64\tAUGUSTUS\tintron\t2270\t4753\t0.4\t-\t.\ttranscript_id \"g1.t2\"; gene_id \"g1\";\r\n",
      "scaffold6_cov64\tAUGUSTUS\tintron\t4852\t5593\t0.48\t-\t.\ttranscript_id \"g1.t2\"; gene_id \"g1\";\r\n",
      "scaffold6_cov64\tAUGUSTUS\tintron\t5839\t5945\t0.54\t+\t.\ttranscript_id \"g2.t1\"; gene_id \"g2\";\r\n"
     ]
    }
   ],
   "source": [
    "!head ../genome-feature-files/Pact.GFFannotation.Intron.gff"
   ]
  },
  {
   "cell_type": "markdown",
   "metadata": {},
   "source": [
    "### 2d. Flanking regions (1 kb)"
   ]
  },
  {
   "cell_type": "code",
   "execution_count": 24,
   "metadata": {},
   "outputs": [],
   "source": [
    "#Create 1kb flanking regions\n",
    "#Subtract existing genes so flanks do not have any overlap\n",
    "!{bedtoolsDirectory}flankBed \\\n",
    "-i Pact.GFFannotation.Genes.gff \\\n",
    "-g Pact.genome_assembly-sequence-lengths.txt \\\n",
    "-b 1000 \\\n",
    "| {bedtoolsDirectory}subtractBed \\\n",
    "-a - \\\n",
    "-b Pact.GFFannotation.Genes.gff \\\n",
    "> Pact.GFFannotation.flanks.gff"
   ]
  },
  {
   "cell_type": "code",
   "execution_count": 25,
   "metadata": {
    "scrolled": false
   },
   "outputs": [
    {
     "name": "stdout",
     "output_type": "stream",
     "text": [
      "scaffold6_cov64\tAUGUSTUS\tgene\t5653\t5804\t0.46\t-\t.\tg1\n",
      "scaffold6_cov64\tAUGUSTUS\tgene\t5653\t5804\t0.57\t+\t.\tg2\n",
      "scaffold6_cov64\tAUGUSTUS\tgene\t6679\t7678\t0.57\t+\t.\tg2\n",
      "scaffold7_cov100\tAUGUSTUS\tgene\t2567\t3466\t0.96\t+\t.\tg3\n",
      "scaffold7_cov100\tAUGUSTUS\tgene\t2567\t3466\t0.78\t-\t.\tg4\n",
      "scaffold7_cov100\tAUGUSTUS\tgene\t6218\t7068\t0.78\t-\t.\tg4\n",
      "scaffold7_cov100\tAUGUSTUS\tgene\t6218\t7068\t1\t-\t.\tg5\n",
      "scaffold7_cov100\tAUGUSTUS\tgene\t9074\t9589\t1\t-\t.\tg5\n",
      "scaffold7_cov100\tAUGUSTUS\tgene\t9074\t9589\t0.8\t-\t.\tg6\n",
      "scaffold7_cov100\tAUGUSTUS\tgene\t11671\t12670\t0.8\t-\t.\tg6\n",
      "  143874 Pact.GFFannotation.flanks.gff\n"
     ]
    }
   ],
   "source": [
    "!head Pact.GFFannotation.flanks.gff\n",
    "!wc -l Pact.GFFannotation.flanks.gff"
   ]
  },
  {
   "cell_type": "markdown",
   "metadata": {},
   "source": [
    "#### Upstream flanks"
   ]
  },
  {
   "cell_type": "code",
   "execution_count": 49,
   "metadata": {},
   "outputs": [],
   "source": [
    "#Create flanking regions\n",
    "#Create upstream flanks (-l) based on strand (-s)\n",
    "#Subtract existing genes so flanks do not have any overlap\n",
    "!{bedtoolsDirectory}flankBed \\\n",
    "-i Pact.GFFannotation.Genes.gff \\\n",
    "-g Pact.genome_assembly-sequence-lengths.txt \\\n",
    "-l 1000 \\\n",
    "-r 0 \\\n",
    "-s \\\n",
    "| {bedtoolsDirectory}subtractBed \\\n",
    "-a - \\\n",
    "-b Pact.GFFannotation.Genes.gff \\\n",
    "> Pact.GFFannotation.flanks.Upstream.gff"
   ]
  },
  {
   "cell_type": "code",
   "execution_count": 50,
   "metadata": {},
   "outputs": [
    {
     "name": "stdout",
     "output_type": "stream",
     "text": [
      "scaffold6_cov64\tAUGUSTUS\tgene\t5653\t5804\t0.46\t-\t.\tg1\n",
      "scaffold6_cov64\tAUGUSTUS\tgene\t5653\t5804\t0.57\t+\t.\tg2\n",
      "scaffold7_cov100\tAUGUSTUS\tgene\t6218\t7068\t0.78\t-\t.\tg4\n",
      "scaffold7_cov100\tAUGUSTUS\tgene\t9074\t9589\t1\t-\t.\tg5\n",
      "scaffold7_cov100\tAUGUSTUS\tgene\t11671\t12670\t0.8\t-\t.\tg6\n",
      "scaffold7_cov100\tAUGUSTUS\tgene\t15464\t15737\t0.92\t-\t.\tg7\n",
      "scaffold7_cov100\tAUGUSTUS\tgene\t15464\t15737\t0.96\t+\t.\tg8\n",
      "scaffold7_cov100\tAUGUSTUS\tgene\t19271\t19311\t0.99\t-\t.\tg9\n",
      "scaffold7_cov100\tAUGUSTUS\tgene\t20051\t20077\t0.99\t-\t.\tg9\n",
      "scaffold7_cov100\tAUGUSTUS\tgene\t18321\t18585\t0.74\t+\t.\tg10\n",
      "   70639 Pact.GFFannotation.flanks.Upstream.gff\n"
     ]
    }
   ],
   "source": [
    "!head Pact.GFFannotation.flanks.Upstream.gff\n",
    "!wc -l Pact.GFFannotation.flanks.Upstream.gff"
   ]
  },
  {
   "cell_type": "markdown",
   "metadata": {},
   "source": [
    "#### Downstream flanks"
   ]
  },
  {
   "cell_type": "code",
   "execution_count": 51,
   "metadata": {},
   "outputs": [],
   "source": [
    "#Create flanking regions\n",
    "#Create downstream flanks (-r) based on strand (-s)\n",
    "#Subtract existing genes so flanks do not have any overlap\n",
    "!{bedtoolsDirectory}flankBed \\\n",
    "-i Pact.GFFannotation.Genes.gff \\\n",
    "-g Pact.genome_assembly-sequence-lengths.txt \\\n",
    "-l 0 \\\n",
    "-r 1000 \\\n",
    "-s \\\n",
    "| {bedtoolsDirectory}subtractBed \\\n",
    "-a - \\\n",
    "-b Pact.GFFannotation.Genes.gff \\\n",
    "> Pact.GFFannotation.flanks.Downstream.gff"
   ]
  },
  {
   "cell_type": "code",
   "execution_count": 52,
   "metadata": {
    "scrolled": true
   },
   "outputs": [
    {
     "name": "stdout",
     "output_type": "stream",
     "text": [
      "scaffold6_cov64\tAUGUSTUS\tgene\t1\t0\t0.46\t-\t.\tg1\n",
      "scaffold6_cov64\tAUGUSTUS\tgene\t6679\t7678\t0.57\t+\t.\tg2\n",
      "scaffold7_cov100\tAUGUSTUS\tgene\t2567\t3466\t0.96\t+\t.\tg3\n",
      "scaffold7_cov100\tAUGUSTUS\tgene\t2567\t3466\t0.78\t-\t.\tg4\n",
      "scaffold7_cov100\tAUGUSTUS\tgene\t6218\t7068\t1\t-\t.\tg5\n",
      "scaffold7_cov100\tAUGUSTUS\tgene\t9074\t9589\t0.8\t-\t.\tg6\n",
      "scaffold7_cov100\tAUGUSTUS\tgene\t12339\t13338\t0.92\t-\t.\tg7\n",
      "scaffold7_cov100\tAUGUSTUS\tgene\t18321\t18585\t0.96\t+\t.\tg8\n",
      "scaffold7_cov100\tAUGUSTUS\tgene\t19271\t19311\t0.96\t+\t.\tg8\n",
      "scaffold7_cov100\tAUGUSTUS\tgene\t18321\t18585\t0.99\t-\t.\tg9\n",
      "   73996 Pact.GFFannotation.flanks.Downstream.gff\n"
     ]
    }
   ],
   "source": [
    "!head Pact.GFFannotation.flanks.Downstream.gff\n",
    "!wc -l Pact.GFFannotation.flanks.Downstream.gff"
   ]
  },
  {
   "cell_type": "markdown",
   "metadata": {},
   "source": [
    "### 2e. Intergenic regions"
   ]
  },
  {
   "cell_type": "markdown",
   "metadata": {},
   "source": [
    "By definition, these are regions that are not in genes and do not include flanking regions."
   ]
  },
  {
   "cell_type": "code",
   "execution_count": 34,
   "metadata": {},
   "outputs": [],
   "source": [
    "#Find intergenic regions\n",
    "#Subtract defined flanks from intergenic regions\n",
    "!/usr/local/bin/complementBed \\\n",
    "-i Pact.GFFannotation.Genes.gff \\\n",
    "-g Pact.genome_assembly-sequence-lengths.txt \\\n",
    "| /usr/local/bin/subtractBed \\\n",
    "-a - \\\n",
    "-b Pact.GFFannotation.flanks.gff \\\n",
    "| awk '{print $1\"\\t\"$2\"\\t\"$3}' \\\n",
    "> Pact.GFFannotation.intergenic.bed"
   ]
  },
  {
   "cell_type": "code",
   "execution_count": 35,
   "metadata": {
    "scrolled": true
   },
   "outputs": [
    {
     "name": "stdout",
     "output_type": "stream",
     "text": [
      "scaffold1_cov55\t0\t421\n",
      "scaffold2_cov51\t0\t1151\n",
      "scaffold3_cov83\t0\t598\n",
      "scaffold4_cov57\t0\t192\n",
      "scaffold5_cov26\t0\t102\n",
      "scaffold6_cov64\t7678\t8236\n",
      "scaffold7_cov100\t25295\t27516\n",
      "scaffold7_cov100\t30779\t30897\n",
      "scaffold7_cov100\t38761\t40187\n",
      "scaffold7_cov100\t83819\t86977\n",
      "  185643 Pact.GFFannotation.intergenic.bed\n"
     ]
    }
   ],
   "source": [
    "!head Pact.GFFannotation.intergenic.bed\n",
    "!wc -l Pact.GFFannotation.intergenic.bed"
   ]
  },
  {
   "cell_type": "code",
   "execution_count": null,
   "metadata": {
    "collapsed": true
   },
   "outputs": [],
   "source": []
  }
 ],
 "metadata": {
  "anaconda-cloud": {},
  "kernelspec": {
   "display_name": "Python 3",
   "language": "python",
   "name": "python3"
  },
  "language_info": {
   "codemirror_mode": {
    "name": "ipython",
    "version": 3
   },
   "file_extension": ".py",
   "mimetype": "text/x-python",
   "name": "python",
   "nbconvert_exporter": "python",
   "pygments_lexer": "ipython3",
   "version": "3.7.4"
  }
 },
 "nbformat": 4,
 "nbformat_minor": 2
}
