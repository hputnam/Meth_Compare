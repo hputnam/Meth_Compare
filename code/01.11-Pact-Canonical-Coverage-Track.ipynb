{
 "cells": [
  {
   "cell_type": "markdown",
   "metadata": {},
   "source": [
    "Here we want to take all 9 5x bedgraphs for a genome and develop a bed file that represent total coverage. "
   ]
  },
  {
   "cell_type": "code",
   "execution_count": 1,
   "metadata": {
    "ExecuteTime": {
     "end_time": "2020-04-01T21:18:17.193906Z",
     "start_time": "2020-04-01T21:18:17.166612Z"
    }
   },
   "outputs": [
    {
     "name": "stdout",
     "output_type": "stream",
     "text": [
      "/Users/strigg/Documents/GitHub/Meth_Compare/data\n"
     ]
    }
   ],
   "source": [
    "cd ../data/\n"
   ]
  },
  {
   "cell_type": "code",
   "execution_count": 2,
   "metadata": {
    "ExecuteTime": {
     "end_time": "2020-04-01T21:18:35.954813Z",
     "start_time": "2020-04-01T21:18:35.818834Z"
    }
   },
   "outputs": [
    {
     "name": "stdout",
     "output_type": "stream",
     "text": [
      "Meth10_R1_001_val_1_bismark_bt2_pe._5x.bedgraph\r\n",
      "Meth10_R1_001_val_1_bismark_bt2_pe._5x.sort.bedgraph\r\n",
      "Meth11_R1_001_val_1_bismark_bt2_pe._5x.bedgraph\r\n",
      "Meth11_R1_001_val_1_bismark_bt2_pe._5x.sort.bedgraph\r\n",
      "Meth12_R1_001_val_1_bismark_bt2_pe._5x.bedgraph\r\n",
      "Meth12_R1_001_val_1_bismark_bt2_pe._5x.sort.bedgraph\r\n",
      "Meth13_R1_001_val_1_bismark_bt2_pe._5x.bedgraph\r\n",
      "Meth13_R1_001_val_1_bismark_bt2_pe._5x.sort.bedgraph\r\n",
      "Meth14_R1_001_val_1_bismark_bt2_pe._5x.bedgraph\r\n",
      "Meth14_R1_001_val_1_bismark_bt2_pe._5x.sort.bedgraph\r\n",
      "Meth15_R1_001_val_1_bismark_bt2_pe._5x.bedgraph\r\n",
      "Meth15_R1_001_val_1_bismark_bt2_pe._5x.sort.bedgraph\r\n",
      "Meth16_R1_001_val_1_bismark_bt2_pe._5x.bedgraph\r\n",
      "Meth16_R1_001_val_1_bismark_bt2_pe._5x.sort.bedgraph\r\n",
      "Meth17_R1_001_val_1_bismark_bt2_pe._5x.bedgraph\r\n",
      "Meth17_R1_001_val_1_bismark_bt2_pe._5x.sort.bedgraph\r\n",
      "Meth18_R1_001_val_1_bismark_bt2_pe._5x.bedgraph\r\n",
      "Meth18_R1_001_val_1_bismark_bt2_pe._5x.sort.bedgraph\r\n",
      "\u001b[34mgannet.fish.washington.edu\u001b[m\u001b[m/\r\n"
     ]
    }
   ],
   "source": [
    "ls"
   ]
  },
  {
   "cell_type": "code",
   "execution_count": 3,
   "metadata": {
    "ExecuteTime": {
     "end_time": "2020-04-01T21:20:44.927818Z",
     "start_time": "2020-04-01T21:18:39.018355Z"
    },
    "scrolled": true
   },
   "outputs": [
    {
     "name": "stdout",
     "output_type": "stream",
     "text": [
      "--2020-04-24 12:37:54--  https://gannet.fish.washington.edu/seashell/bu-mox/scrubbed/031520-TG-bs/Pact_tg/dedup/\n",
      "Resolving gannet.fish.washington.edu... 128.95.149.52\n",
      "Connecting to gannet.fish.washington.edu|128.95.149.52|:443... connected.\n",
      "HTTP request sent, awaiting response... 200 OK\n",
      "Length: unspecified [text/html]\n",
      "Saving to: ‘./index.html’\n",
      "\n",
      "index.html              [ <=>                ]  42.11K  --.-KB/s    in 0.001s  \n",
      "\n",
      "2020-04-24 12:37:56 (49.7 MB/s) - ‘./index.html’ saved [43123]\n",
      "\n",
      "Loading robots.txt; please ignore errors.\n",
      "--2020-04-24 12:37:56--  https://gannet.fish.washington.edu/robots.txt\n",
      "Reusing existing connection to gannet.fish.washington.edu:443.\n",
      "HTTP request sent, awaiting response... 404 Not Found\n",
      "2020-04-24 12:37:56 ERROR 404: Not Found.\n",
      "\n",
      "Removing ./index.html since it should be rejected.\n",
      "\n",
      "--2020-04-24 12:37:56--  https://gannet.fish.washington.edu/seashell/bu-mox/scrubbed/031520-TG-bs/Pact_tg/dedup/?C=N;O=D\n",
      "Reusing existing connection to gannet.fish.washington.edu:443.\n",
      "HTTP request sent, awaiting response... 200 OK\n",
      "Length: unspecified [text/html]\n",
      "Saving to: ‘./index.html?C=N;O=D’\n",
      "\n",
      "index.html?C=N;O=D      [ <=>                ]  42.11K  --.-KB/s    in 0.001s  \n",
      "\n",
      "2020-04-24 12:37:57 (51.4 MB/s) - ‘./index.html?C=N;O=D’ saved [43123]\n",
      "\n",
      "Removing ./index.html?C=N;O=D since it should be rejected.\n",
      "\n",
      "--2020-04-24 12:37:57--  https://gannet.fish.washington.edu/seashell/bu-mox/scrubbed/031520-TG-bs/Pact_tg/dedup/?C=M;O=A\n",
      "Reusing existing connection to gannet.fish.washington.edu:443.\n",
      "HTTP request sent, awaiting response... 200 OK\n",
      "Length: unspecified [text/html]\n",
      "Saving to: ‘./index.html?C=M;O=A’\n",
      "\n",
      "index.html?C=M;O=A      [ <=>                ]  42.11K  --.-KB/s    in 0.001s  \n",
      "\n",
      "2020-04-24 12:37:58 (51.1 MB/s) - ‘./index.html?C=M;O=A’ saved [43123]\n",
      "\n",
      "Removing ./index.html?C=M;O=A since it should be rejected.\n",
      "\n",
      "--2020-04-24 12:37:58--  https://gannet.fish.washington.edu/seashell/bu-mox/scrubbed/031520-TG-bs/Pact_tg/dedup/?C=S;O=A\n",
      "Reusing existing connection to gannet.fish.washington.edu:443.\n",
      "HTTP request sent, awaiting response... 200 OK\n",
      "Length: unspecified [text/html]\n",
      "Saving to: ‘./index.html?C=S;O=A’\n",
      "\n",
      "index.html?C=S;O=A      [ <=>                ]  42.11K  --.-KB/s    in 0.001s  \n",
      "\n",
      "2020-04-24 12:37:59 (50.4 MB/s) - ‘./index.html?C=S;O=A’ saved [43123]\n",
      "\n",
      "Removing ./index.html?C=S;O=A since it should be rejected.\n",
      "\n",
      "--2020-04-24 12:37:59--  https://gannet.fish.washington.edu/seashell/bu-mox/scrubbed/031520-TG-bs/Pact_tg/dedup/?C=D;O=A\n",
      "Reusing existing connection to gannet.fish.washington.edu:443.\n",
      "HTTP request sent, awaiting response... 200 OK\n",
      "Length: unspecified [text/html]\n",
      "Saving to: ‘./index.html?C=D;O=A’\n",
      "\n",
      "index.html?C=D;O=A      [ <=>                ]  42.11K  --.-KB/s    in 0.001s  \n",
      "\n",
      "2020-04-24 12:38:00 (52.8 MB/s) - ‘./index.html?C=D;O=A’ saved [43123]\n",
      "\n",
      "Removing ./index.html?C=D;O=A since it should be rejected.\n",
      "\n",
      "--2020-04-24 12:38:00--  https://gannet.fish.washington.edu/seashell/bu-mox/scrubbed/031520-TG-bs/Pact_tg/dedup/Meth1_R1_001_val_1_bismark_bt2_pe._5x.bedgraph\n",
      "Reusing existing connection to gannet.fish.washington.edu:443.\n",
      "HTTP request sent, awaiting response... 200 OK\n",
      "Length: 226808063 (216M)\n",
      "Saving to: ‘./Meth1_R1_001_val_1_bismark_bt2_pe._5x.bedgraph’\n",
      "\n",
      "Meth1_R1_001_val_1_ 100%[===================>] 216.30M  69.4MB/s    in 3.1s    \n",
      "\n",
      "2020-04-24 12:38:03 (69.4 MB/s) - ‘./Meth1_R1_001_val_1_bismark_bt2_pe._5x.bedgraph’ saved [226808063/226808063]\n",
      "\n",
      "--2020-04-24 12:38:03--  https://gannet.fish.washington.edu/seashell/bu-mox/scrubbed/031520-TG-bs/Pact_tg/dedup/Meth2_R1_001_val_1_bismark_bt2_pe._5x.bedgraph\n",
      "Reusing existing connection to gannet.fish.washington.edu:443.\n",
      "HTTP request sent, awaiting response... 200 OK\n",
      "Length: 259720833 (248M)\n",
      "Saving to: ‘./Meth2_R1_001_val_1_bismark_bt2_pe._5x.bedgraph’\n",
      "\n",
      "Meth2_R1_001_val_1_ 100%[===================>] 247.69M  71.1MB/s    in 3.5s    \n",
      "\n",
      "2020-04-24 12:38:07 (70.5 MB/s) - ‘./Meth2_R1_001_val_1_bismark_bt2_pe._5x.bedgraph’ saved [259720833/259720833]\n",
      "\n",
      "--2020-04-24 12:38:07--  https://gannet.fish.washington.edu/seashell/bu-mox/scrubbed/031520-TG-bs/Pact_tg/dedup/Meth3_R1_001_val_1_bismark_bt2_pe._5x.bedgraph\n",
      "Reusing existing connection to gannet.fish.washington.edu:443.\n",
      "HTTP request sent, awaiting response... 200 OK\n",
      "Length: 239858422 (229M)\n",
      "Saving to: ‘./Meth3_R1_001_val_1_bismark_bt2_pe._5x.bedgraph’\n",
      "\n",
      "Meth3_R1_001_val_1_ 100%[===================>] 228.75M  70.5MB/s    in 3.3s    \n",
      "\n",
      "2020-04-24 12:38:10 (69.9 MB/s) - ‘./Meth3_R1_001_val_1_bismark_bt2_pe._5x.bedgraph’ saved [239858422/239858422]\n",
      "\n",
      "--2020-04-24 12:38:11--  https://gannet.fish.washington.edu/seashell/bu-mox/scrubbed/031520-TG-bs/Pact_tg/dedup/Meth7_R1_001_val_1_bismark_bt2_pe._5x.bedgraph\n",
      "Reusing existing connection to gannet.fish.washington.edu:443.\n",
      "HTTP request sent, awaiting response... 200 OK\n",
      "Length: 107859832 (103M)\n",
      "Saving to: ‘./Meth7_R1_001_val_1_bismark_bt2_pe._5x.bedgraph’\n",
      "\n",
      "Meth7_R1_001_val_1_ 100%[===================>] 102.86M  68.9MB/s    in 1.5s    \n",
      "\n",
      "2020-04-24 12:38:12 (68.9 MB/s) - ‘./Meth7_R1_001_val_1_bismark_bt2_pe._5x.bedgraph’ saved [107859832/107859832]\n",
      "\n",
      "--2020-04-24 12:38:12--  https://gannet.fish.washington.edu/seashell/bu-mox/scrubbed/031520-TG-bs/Pact_tg/dedup/Meth8_R1_001_val_1_bismark_bt2_pe._5x.bedgraph\n",
      "Reusing existing connection to gannet.fish.washington.edu:443.\n",
      "HTTP request sent, awaiting response... 200 OK\n",
      "Length: 21772891 (21M)\n",
      "Saving to: ‘./Meth8_R1_001_val_1_bismark_bt2_pe._5x.bedgraph’\n",
      "\n",
      "Meth8_R1_001_val_1_ 100%[===================>]  20.76M  66.9MB/s    in 0.3s    \n",
      "\n",
      "2020-04-24 12:38:13 (66.9 MB/s) - ‘./Meth8_R1_001_val_1_bismark_bt2_pe._5x.bedgraph’ saved [21772891/21772891]\n",
      "\n",
      "--2020-04-24 12:38:13--  https://gannet.fish.washington.edu/seashell/bu-mox/scrubbed/031520-TG-bs/Pact_tg/dedup/Meth9_R1_001_val_1_bismark_bt2_pe._5x.bedgraph\n",
      "Reusing existing connection to gannet.fish.washington.edu:443.\n",
      "HTTP request sent, awaiting response... 200 OK\n",
      "Length: 111717514 (107M)\n",
      "Saving to: ‘./Meth9_R1_001_val_1_bismark_bt2_pe._5x.bedgraph’\n",
      "\n",
      "Meth9_R1_001_val_1_ 100%[===================>] 106.54M  69.6MB/s    in 1.5s    \n",
      "\n",
      "2020-04-24 12:38:14 (69.6 MB/s) - ‘./Meth9_R1_001_val_1_bismark_bt2_pe._5x.bedgraph’ saved [111717514/111717514]\n",
      "\n",
      "--2020-04-24 12:38:14--  https://gannet.fish.washington.edu/seashell/bu-mox/scrubbed/031520-TG-bs/Pact_tg/dedup/?C=N;O=A\n",
      "Reusing existing connection to gannet.fish.washington.edu:443.\n",
      "HTTP request sent, awaiting response... 200 OK\n",
      "Length: unspecified [text/html]\n",
      "Saving to: ‘./index.html?C=N;O=A’\n",
      "\n",
      "index.html?C=N;O=A      [ <=>                ]  42.11K  --.-KB/s    in 0.001s  \n",
      "\n",
      "2020-04-24 12:38:15 (51.9 MB/s) - ‘./index.html?C=N;O=A’ saved [43123]\n",
      "\n",
      "Removing ./index.html?C=N;O=A since it should be rejected.\n",
      "\n",
      "--2020-04-24 12:38:15--  https://gannet.fish.washington.edu/seashell/bu-mox/scrubbed/031520-TG-bs/Pact_tg/dedup/?C=M;O=D\n",
      "Reusing existing connection to gannet.fish.washington.edu:443.\n",
      "HTTP request sent, awaiting response... 200 OK\n",
      "Length: unspecified [text/html]\n",
      "Saving to: ‘./index.html?C=M;O=D’\n",
      "\n",
      "index.html?C=M;O=D      [ <=>                ]  42.11K  --.-KB/s    in 0.001s  \n",
      "\n",
      "2020-04-24 12:38:16 (52.5 MB/s) - ‘./index.html?C=M;O=D’ saved [43123]\n",
      "\n",
      "Removing ./index.html?C=M;O=D since it should be rejected.\n",
      "\n",
      "--2020-04-24 12:38:16--  https://gannet.fish.washington.edu/seashell/bu-mox/scrubbed/031520-TG-bs/Pact_tg/dedup/?C=S;O=D\n",
      "Reusing existing connection to gannet.fish.washington.edu:443.\n",
      "HTTP request sent, awaiting response... 200 OK\n",
      "Length: unspecified [text/html]\n",
      "Saving to: ‘./index.html?C=S;O=D’\n",
      "\n",
      "index.html?C=S;O=D      [ <=>                ]  42.11K  --.-KB/s    in 0.001s  \n",
      "\n",
      "2020-04-24 12:38:17 (50.5 MB/s) - ‘./index.html?C=S;O=D’ saved [43123]\n",
      "\n",
      "Removing ./index.html?C=S;O=D since it should be rejected.\n",
      "\n",
      "--2020-04-24 12:38:17--  https://gannet.fish.washington.edu/seashell/bu-mox/scrubbed/031520-TG-bs/Pact_tg/dedup/?C=D;O=D\n",
      "Reusing existing connection to gannet.fish.washington.edu:443.\n",
      "HTTP request sent, awaiting response... 200 OK\n",
      "Length: unspecified [text/html]\n",
      "Saving to: ‘./index.html?C=D;O=D’\n",
      "\n",
      "index.html?C=D;O=D      [ <=>                ]  42.11K  --.-KB/s    in 0.001s  \n",
      "\n",
      "2020-04-24 12:38:18 (51.5 MB/s) - ‘./index.html?C=D;O=D’ saved [43123]\n",
      "\n",
      "Removing ./index.html?C=D;O=D since it should be rejected.\n",
      "\n",
      "FINISHED --2020-04-24 12:38:18--\n",
      "Total wall clock time: 24s\n",
      "Downloaded: 15 files, 923M in 13s (69.7 MB/s)\n"
     ]
    }
   ],
   "source": [
    "!wget -r \\\n",
    "--no-directories --no-parent --reject \"index.html*\" \\\n",
    "-P . \\\n",
    "-A 5x.bedgraph https://gannet.fish.washington.edu/seashell/bu-mox/scrubbed/031520-TG-bs/Pact_tg/dedup/\n"
   ]
  },
  {
   "cell_type": "code",
   "execution_count": 4,
   "metadata": {
    "ExecuteTime": {
     "end_time": "2020-04-01T21:21:10.354279Z",
     "start_time": "2020-04-01T21:20:44.934048Z"
    }
   },
   "outputs": [
    {
     "name": "stdout",
     "output_type": "stream",
     "text": [
      "--2020-04-24 12:38:25--  https://gannet.fish.washington.edu/seashell/bu-mox/scrubbed/031520-TG-bs/Pact_tg/nodedup/\n",
      "Resolving gannet.fish.washington.edu... 128.95.149.52\n",
      "Connecting to gannet.fish.washington.edu|128.95.149.52|:443... connected.\n",
      "HTTP request sent, awaiting response... 200 OK\n",
      "Length: unspecified [text/html]\n",
      "Saving to: ‘./index.html’\n",
      "\n",
      "index.html              [ <=>                ]  19.51K  --.-KB/s    in 0s      \n",
      "\n",
      "2020-04-24 12:38:26 (52.9 MB/s) - ‘./index.html’ saved [19983]\n",
      "\n",
      "Loading robots.txt; please ignore errors.\n",
      "--2020-04-24 12:38:26--  https://gannet.fish.washington.edu/robots.txt\n",
      "Reusing existing connection to gannet.fish.washington.edu:443.\n",
      "HTTP request sent, awaiting response... 404 Not Found\n",
      "2020-04-24 12:38:26 ERROR 404: Not Found.\n",
      "\n",
      "Removing ./index.html since it should be rejected.\n",
      "\n",
      "--2020-04-24 12:38:26--  https://gannet.fish.washington.edu/seashell/bu-mox/scrubbed/031520-TG-bs/Pact_tg/nodedup/?C=N;O=D\n",
      "Reusing existing connection to gannet.fish.washington.edu:443.\n",
      "HTTP request sent, awaiting response... 200 OK\n",
      "Length: unspecified [text/html]\n",
      "Saving to: ‘./index.html?C=N;O=D’\n",
      "\n",
      "index.html?C=N;O=D      [ <=>                ]  19.51K  --.-KB/s    in 0s      \n",
      "\n",
      "2020-04-24 12:38:26 (49.1 MB/s) - ‘./index.html?C=N;O=D’ saved [19983]\n",
      "\n",
      "Removing ./index.html?C=N;O=D since it should be rejected.\n",
      "\n",
      "--2020-04-24 12:38:26--  https://gannet.fish.washington.edu/seashell/bu-mox/scrubbed/031520-TG-bs/Pact_tg/nodedup/?C=M;O=A\n",
      "Reusing existing connection to gannet.fish.washington.edu:443.\n",
      "HTTP request sent, awaiting response... 200 OK\n",
      "Length: unspecified [text/html]\n",
      "Saving to: ‘./index.html?C=M;O=A’\n",
      "\n",
      "index.html?C=M;O=A      [ <=>                ]  19.51K  --.-KB/s    in 0s      \n",
      "\n",
      "2020-04-24 12:38:27 (55.1 MB/s) - ‘./index.html?C=M;O=A’ saved [19983]\n",
      "\n",
      "Removing ./index.html?C=M;O=A since it should be rejected.\n",
      "\n",
      "--2020-04-24 12:38:27--  https://gannet.fish.washington.edu/seashell/bu-mox/scrubbed/031520-TG-bs/Pact_tg/nodedup/?C=S;O=A\n",
      "Reusing existing connection to gannet.fish.washington.edu:443.\n",
      "HTTP request sent, awaiting response... 200 OK\n",
      "Length: unspecified [text/html]\n",
      "Saving to: ‘./index.html?C=S;O=A’\n",
      "\n",
      "index.html?C=S;O=A      [ <=>                ]  19.51K  --.-KB/s    in 0s      \n",
      "\n",
      "2020-04-24 12:38:27 (50.4 MB/s) - ‘./index.html?C=S;O=A’ saved [19983]\n",
      "\n",
      "Removing ./index.html?C=S;O=A since it should be rejected.\n",
      "\n",
      "--2020-04-24 12:38:27--  https://gannet.fish.washington.edu/seashell/bu-mox/scrubbed/031520-TG-bs/Pact_tg/nodedup/?C=D;O=A\n",
      "Reusing existing connection to gannet.fish.washington.edu:443.\n",
      "HTTP request sent, awaiting response... 200 OK\n",
      "Length: unspecified [text/html]\n",
      "Saving to: ‘./index.html?C=D;O=A’\n",
      "\n",
      "index.html?C=D;O=A      [ <=>                ]  19.51K  --.-KB/s    in 0s      \n",
      "\n",
      "2020-04-24 12:38:27 (55.1 MB/s) - ‘./index.html?C=D;O=A’ saved [19983]\n",
      "\n",
      "Removing ./index.html?C=D;O=A since it should be rejected.\n",
      "\n",
      "--2020-04-24 12:38:27--  https://gannet.fish.washington.edu/seashell/bu-mox/scrubbed/031520-TG-bs/Pact_tg/nodedup/Meth4_R1_001_val_1_bismark_bt2_pe._5x.bedgraph\n",
      "Reusing existing connection to gannet.fish.washington.edu:443.\n",
      "HTTP request sent, awaiting response... 200 OK\n",
      "Length: 74748447 (71M)\n",
      "Saving to: ‘./Meth4_R1_001_val_1_bismark_bt2_pe._5x.bedgraph’\n",
      "\n",
      "Meth4_R1_001_val_1_ 100%[===================>]  71.29M  68.6MB/s    in 1.0s    \n",
      "\n",
      "2020-04-24 12:38:28 (68.6 MB/s) - ‘./Meth4_R1_001_val_1_bismark_bt2_pe._5x.bedgraph’ saved [74748447/74748447]\n",
      "\n",
      "--2020-04-24 12:38:29--  https://gannet.fish.washington.edu/seashell/bu-mox/scrubbed/031520-TG-bs/Pact_tg/nodedup/Meth5_R1_001_val_1_bismark_bt2_pe._5x.bedgraph\n",
      "Reusing existing connection to gannet.fish.washington.edu:443.\n",
      "HTTP request sent, awaiting response... 200 OK\n",
      "Length: 58979704 (56M)\n",
      "Saving to: ‘./Meth5_R1_001_val_1_bismark_bt2_pe._5x.bedgraph’\n",
      "\n",
      "Meth5_R1_001_val_1_ 100%[===================>]  56.25M  66.4MB/s    in 0.8s    \n",
      "\n",
      "2020-04-24 12:38:29 (66.4 MB/s) - ‘./Meth5_R1_001_val_1_bismark_bt2_pe._5x.bedgraph’ saved [58979704/58979704]\n",
      "\n",
      "--2020-04-24 12:38:29--  https://gannet.fish.washington.edu/seashell/bu-mox/scrubbed/031520-TG-bs/Pact_tg/nodedup/Meth6_R1_001_val_1_bismark_bt2_pe._5x.bedgraph\n",
      "Reusing existing connection to gannet.fish.washington.edu:443.\n",
      "HTTP request sent, awaiting response... 200 OK\n",
      "Length: 61726619 (59M)\n",
      "Saving to: ‘./Meth6_R1_001_val_1_bismark_bt2_pe._5x.bedgraph’\n",
      "\n",
      "Meth6_R1_001_val_1_ 100%[===================>]  58.87M  68.5MB/s    in 0.9s    \n",
      "\n",
      "2020-04-24 12:38:30 (68.5 MB/s) - ‘./Meth6_R1_001_val_1_bismark_bt2_pe._5x.bedgraph’ saved [61726619/61726619]\n",
      "\n",
      "--2020-04-24 12:38:30--  https://gannet.fish.washington.edu/seashell/bu-mox/scrubbed/031520-TG-bs/Pact_tg/nodedup/?C=N;O=A\n",
      "Reusing existing connection to gannet.fish.washington.edu:443.\n",
      "HTTP request sent, awaiting response... 200 OK\n",
      "Length: unspecified [text/html]\n",
      "Saving to: ‘./index.html?C=N;O=A’\n",
      "\n",
      "index.html?C=N;O=A      [ <=>                ]  19.51K  --.-KB/s    in 0s      \n",
      "\n",
      "2020-04-24 12:38:31 (66.4 MB/s) - ‘./index.html?C=N;O=A’ saved [19983]\n",
      "\n",
      "Removing ./index.html?C=N;O=A since it should be rejected.\n",
      "\n",
      "--2020-04-24 12:38:31--  https://gannet.fish.washington.edu/seashell/bu-mox/scrubbed/031520-TG-bs/Pact_tg/nodedup/?C=M;O=D\n",
      "Reusing existing connection to gannet.fish.washington.edu:443.\n",
      "HTTP request sent, awaiting response... 200 OK\n",
      "Length: unspecified [text/html]\n",
      "Saving to: ‘./index.html?C=M;O=D’\n",
      "\n",
      "index.html?C=M;O=D      [ <=>                ]  19.51K  --.-KB/s    in 0s      \n",
      "\n",
      "2020-04-24 12:38:31 (66.9 MB/s) - ‘./index.html?C=M;O=D’ saved [19983]\n",
      "\n",
      "Removing ./index.html?C=M;O=D since it should be rejected.\n",
      "\n",
      "--2020-04-24 12:38:31--  https://gannet.fish.washington.edu/seashell/bu-mox/scrubbed/031520-TG-bs/Pact_tg/nodedup/?C=S;O=D\n",
      "Reusing existing connection to gannet.fish.washington.edu:443.\n",
      "HTTP request sent, awaiting response... 200 OK\n",
      "Length: unspecified [text/html]\n",
      "Saving to: ‘./index.html?C=S;O=D’\n",
      "\n",
      "index.html?C=S;O=D      [ <=>                ]  19.51K  --.-KB/s    in 0s      \n",
      "\n",
      "2020-04-24 12:38:31 (63.7 MB/s) - ‘./index.html?C=S;O=D’ saved [19983]\n",
      "\n",
      "Removing ./index.html?C=S;O=D since it should be rejected.\n",
      "\n",
      "--2020-04-24 12:38:31--  https://gannet.fish.washington.edu/seashell/bu-mox/scrubbed/031520-TG-bs/Pact_tg/nodedup/?C=D;O=D\n",
      "Reusing existing connection to gannet.fish.washington.edu:443.\n",
      "HTTP request sent, awaiting response... 200 OK\n",
      "Length: unspecified [text/html]\n",
      "Saving to: ‘./index.html?C=D;O=D’\n",
      "\n",
      "index.html?C=D;O=D      [ <=>                ]  19.51K  --.-KB/s    in 0s      \n",
      "\n",
      "2020-04-24 12:38:32 (66.2 MB/s) - ‘./index.html?C=D;O=D’ saved [19983]\n",
      "\n",
      "Removing ./index.html?C=D;O=D since it should be rejected.\n",
      "\n",
      "FINISHED --2020-04-24 12:38:32--\n",
      "Total wall clock time: 6.5s\n",
      "Downloaded: 12 files, 187M in 2.7s (67.9 MB/s)\n"
     ]
    }
   ],
   "source": [
    "!wget -r \\\n",
    "--no-directories --no-parent --reject \"index.html*\" \\\n",
    "-P . \\\n",
    "-A 5x.bedgraph https://gannet.fish.washington.edu/seashell/bu-mox/scrubbed/031520-TG-bs/Pact_tg/nodedup/"
   ]
  },
  {
   "cell_type": "code",
   "execution_count": 5,
   "metadata": {
    "ExecuteTime": {
     "end_time": "2020-04-01T21:21:10.498790Z",
     "start_time": "2020-04-01T21:21:10.358087Z"
    }
   },
   "outputs": [
    {
     "name": "stdout",
     "output_type": "stream",
     "text": [
      "total 5213544\r\n",
      "-rw-r--r--  1 strigg  staff   117M Mar 25 22:43 Meth10_R1_001_val_1_bismark_bt2_pe._5x.bedgraph\r\n",
      "-rw-r--r--  1 strigg  staff   117M Apr 24 12:17 Meth10_R1_001_val_1_bismark_bt2_pe._5x.sort.bedgraph\r\n",
      "-rw-r--r--  1 strigg  staff   120M Mar 25 22:43 Meth11_R1_001_val_1_bismark_bt2_pe._5x.bedgraph\r\n",
      "-rw-r--r--  1 strigg  staff   120M Apr 24 12:17 Meth11_R1_001_val_1_bismark_bt2_pe._5x.sort.bedgraph\r\n",
      "-rw-r--r--  1 strigg  staff   226M Mar 25 22:43 Meth12_R1_001_val_1_bismark_bt2_pe._5x.bedgraph\r\n",
      "-rw-r--r--  1 strigg  staff   226M Apr 24 12:18 Meth12_R1_001_val_1_bismark_bt2_pe._5x.sort.bedgraph\r\n",
      "-rw-r--r--  1 strigg  staff    81M Mar 26 09:24 Meth13_R1_001_val_1_bismark_bt2_pe._5x.bedgraph\r\n",
      "-rw-r--r--  1 strigg  staff    81M Apr 24 12:18 Meth13_R1_001_val_1_bismark_bt2_pe._5x.sort.bedgraph\r\n",
      "-rw-r--r--  1 strigg  staff    68M Mar 26 09:24 Meth14_R1_001_val_1_bismark_bt2_pe._5x.bedgraph\r\n",
      "-rw-r--r--  1 strigg  staff    68M Apr 24 12:18 Meth14_R1_001_val_1_bismark_bt2_pe._5x.sort.bedgraph\r\n",
      "-rw-r--r--  1 strigg  staff    81M Mar 26 09:24 Meth15_R1_001_val_1_bismark_bt2_pe._5x.bedgraph\r\n",
      "-rw-r--r--  1 strigg  staff    81M Apr 24 12:18 Meth15_R1_001_val_1_bismark_bt2_pe._5x.sort.bedgraph\r\n",
      "-rw-r--r--  1 strigg  staff    15M Mar 25 22:44 Meth16_R1_001_val_1_bismark_bt2_pe._5x.bedgraph\r\n",
      "-rw-r--r--  1 strigg  staff    15M Apr 24 12:18 Meth16_R1_001_val_1_bismark_bt2_pe._5x.sort.bedgraph\r\n",
      "-rw-r--r--  1 strigg  staff   6.2M Mar 25 22:44 Meth17_R1_001_val_1_bismark_bt2_pe._5x.bedgraph\r\n",
      "-rw-r--r--  1 strigg  staff   6.2M Apr 24 12:18 Meth17_R1_001_val_1_bismark_bt2_pe._5x.sort.bedgraph\r\n",
      "-rw-r--r--  1 strigg  staff   4.0M Mar 25 22:44 Meth18_R1_001_val_1_bismark_bt2_pe._5x.bedgraph\r\n",
      "-rw-r--r--  1 strigg  staff   4.0M Apr 24 12:18 Meth18_R1_001_val_1_bismark_bt2_pe._5x.sort.bedgraph\r\n",
      "-rw-r--r--  1 strigg  staff   216M Mar 26 15:41 Meth1_R1_001_val_1_bismark_bt2_pe._5x.bedgraph\r\n",
      "-rw-r--r--  1 strigg  staff   248M Mar 26 15:41 Meth2_R1_001_val_1_bismark_bt2_pe._5x.bedgraph\r\n",
      "-rw-r--r--  1 strigg  staff   229M Mar 26 15:41 Meth3_R1_001_val_1_bismark_bt2_pe._5x.bedgraph\r\n",
      "-rw-r--r--  1 strigg  staff    71M Mar 27 17:42 Meth4_R1_001_val_1_bismark_bt2_pe._5x.bedgraph\r\n",
      "-rw-r--r--  1 strigg  staff    56M Mar 27 17:42 Meth5_R1_001_val_1_bismark_bt2_pe._5x.bedgraph\r\n",
      "-rw-r--r--  1 strigg  staff    59M Mar 27 17:42 Meth6_R1_001_val_1_bismark_bt2_pe._5x.bedgraph\r\n",
      "-rw-r--r--  1 strigg  staff   103M Mar 26 15:41 Meth7_R1_001_val_1_bismark_bt2_pe._5x.bedgraph\r\n",
      "-rw-r--r--  1 strigg  staff    21M Mar 26 15:41 Meth8_R1_001_val_1_bismark_bt2_pe._5x.bedgraph\r\n",
      "-rw-r--r--  1 strigg  staff   107M Mar 26 15:42 Meth9_R1_001_val_1_bismark_bt2_pe._5x.bedgraph\r\n",
      "drwxr-xr-x  3 strigg  staff   102B Apr 24 11:05 \u001b[34mgannet.fish.washington.edu\u001b[m\u001b[m\r\n"
     ]
    }
   ],
   "source": [
    "!ls -lh\n"
   ]
  },
  {
   "cell_type": "code",
   "execution_count": 6,
   "metadata": {
    "ExecuteTime": {
     "end_time": "2020-04-01T21:21:15.251105Z",
     "start_time": "2020-04-01T21:21:10.501379Z"
    }
   },
   "outputs": [
    {
     "name": "stdout",
     "output_type": "stream",
     "text": [
      "MD5 (Meth10_R1_001_val_1_bismark_bt2_pe._5x.bedgraph) = 83035e7e47b8ad486de22dacc17ae8ed\n",
      "MD5 (Meth10_R1_001_val_1_bismark_bt2_pe._5x.sort.bedgraph) = 22ca22d01233d9057e4d113acba2585c\n",
      "MD5 (Meth11_R1_001_val_1_bismark_bt2_pe._5x.bedgraph) = 6493359aad0b4228f65b5e563d337ceb\n",
      "MD5 (Meth11_R1_001_val_1_bismark_bt2_pe._5x.sort.bedgraph) = d4259c05a827ee600ce557f46b858acc\n",
      "MD5 (Meth12_R1_001_val_1_bismark_bt2_pe._5x.bedgraph) = b2f097299df0cb7d518d22338fdcf39f\n",
      "MD5 (Meth12_R1_001_val_1_bismark_bt2_pe._5x.sort.bedgraph) = 52517db499531449b2db92eab8c6f2cd\n",
      "MD5 (Meth13_R1_001_val_1_bismark_bt2_pe._5x.bedgraph) = 2bb476cb98072f0e76bfb5c318246c38\n",
      "MD5 (Meth13_R1_001_val_1_bismark_bt2_pe._5x.sort.bedgraph) = 4894c5e7fbac942546a012197ae846dc\n",
      "MD5 (Meth14_R1_001_val_1_bismark_bt2_pe._5x.bedgraph) = fc0f66cf04ffebe76d61c1db75cfed6e\n",
      "MD5 (Meth14_R1_001_val_1_bismark_bt2_pe._5x.sort.bedgraph) = 02a5aa0e8802d976cc326b63f5aee53f\n",
      "MD5 (Meth15_R1_001_val_1_bismark_bt2_pe._5x.bedgraph) = 1d7c24b238dc72cd92346213b3523611\n",
      "MD5 (Meth15_R1_001_val_1_bismark_bt2_pe._5x.sort.bedgraph) = 3ac88df64d559ee910ace7c28a44df4e\n",
      "MD5 (Meth16_R1_001_val_1_bismark_bt2_pe._5x.bedgraph) = 04fb72d5df60656e6cec15637164fbec\n",
      "MD5 (Meth16_R1_001_val_1_bismark_bt2_pe._5x.sort.bedgraph) = 2db3661f8536624e68c1076477b623a3\n",
      "MD5 (Meth17_R1_001_val_1_bismark_bt2_pe._5x.bedgraph) = 073d1c40116a3f93f7a7022cfb4cd3d2\n",
      "MD5 (Meth17_R1_001_val_1_bismark_bt2_pe._5x.sort.bedgraph) = 76d6e1ece54828257c065c1bb1e0787e\n",
      "MD5 (Meth18_R1_001_val_1_bismark_bt2_pe._5x.bedgraph) = a255210553db073e5458ccb523a34798\n",
      "MD5 (Meth18_R1_001_val_1_bismark_bt2_pe._5x.sort.bedgraph) = 42db47f06c45586cf5311d1aeeec93a7\n",
      "MD5 (Meth1_R1_001_val_1_bismark_bt2_pe._5x.bedgraph) = d634ffc3f062d248e36b8dddc9a315e0\n",
      "MD5 (Meth2_R1_001_val_1_bismark_bt2_pe._5x.bedgraph) = 1ec934f5b4ce012b64b77dd69d70ee5f\n",
      "MD5 (Meth3_R1_001_val_1_bismark_bt2_pe._5x.bedgraph) = c456156b7f6a11543d8dc697e8e74b4e\n",
      "MD5 (Meth4_R1_001_val_1_bismark_bt2_pe._5x.bedgraph) = 736fd3802ce1b45b6eb32abf6e1bcb3f\n",
      "MD5 (Meth5_R1_001_val_1_bismark_bt2_pe._5x.bedgraph) = ed4428a6c8cb6a4964687d91c0d8ccb3\n",
      "MD5 (Meth6_R1_001_val_1_bismark_bt2_pe._5x.bedgraph) = 5994ba73d412d8992f2465b148f5ae80\n",
      "MD5 (Meth7_R1_001_val_1_bismark_bt2_pe._5x.bedgraph) = a2b842c439c3df3fb699690cd5b55d5a\n",
      "MD5 (Meth8_R1_001_val_1_bismark_bt2_pe._5x.bedgraph) = c838562956c7abe3656a2b7438a40dc1\n",
      "MD5 (Meth9_R1_001_val_1_bismark_bt2_pe._5x.bedgraph) = c9a4b002113e2501d81e4762cf952b79\n",
      "md5: gannet.fish.washington.edu: Is a directory\n"
     ]
    }
   ],
   "source": [
    "!md5 *"
   ]
  },
  {
   "cell_type": "markdown",
   "metadata": {},
   "source": [
    "Will use unionbed\n",
    "![pic](http://gannet.fish.washington.edu/seashell/snaps/unionbedg__bedtools_2.29.2_documentation_2020-03-28_04-39-52.png)"
   ]
  },
  {
   "cell_type": "markdown",
   "metadata": {},
   "source": [
    "### Try sorting bedgraphs BEFORE running unionBedGraphs"
   ]
  },
  {
   "cell_type": "code",
   "execution_count": 7,
   "metadata": {},
   "outputs": [],
   "source": [
    "%%bash \n",
    "\n",
    "for f in *_5x.bedgraph\n",
    "do\n",
    "/Users/Shared/bioinformatics/bedtools2/bin/sortBed \\\n",
    "-i ${f} \\\n",
    "> $(basename ${f%_5x.bedgraph})_5x.sort.bedgraph\n",
    "done"
   ]
  },
  {
   "cell_type": "markdown",
   "metadata": {},
   "source": [
    "**run unionBedGraphs on sorted bedgraphs**"
   ]
  },
  {
   "cell_type": "code",
   "execution_count": 9,
   "metadata": {
    "ExecuteTime": {
     "end_time": "2020-04-01T21:25:02.765907Z",
     "start_time": "2020-04-01T21:21:15.254437Z"
    }
   },
   "outputs": [],
   "source": [
    "!/Users/Shared/bioinformatics/bedtools2/bin/unionBedGraphs \\\n",
    "-header \\\n",
    "-filler N/A \\\n",
    "-names 1 2 3 4 5 6 7 8 9 \\\n",
    "-i \\\n",
    "Meth1_R1_001_val_1_bismark_bt2_pe._5x.sort.bedgraph \\\n",
    "Meth2_R1_001_val_1_bismark_bt2_pe._5x.sort.bedgraph \\\n",
    "Meth3_R1_001_val_1_bismark_bt2_pe._5x.sort.bedgraph \\\n",
    "Meth4_R1_001_val_1_bismark_bt2_pe._5x.sort.bedgraph \\\n",
    "Meth5_R1_001_val_1_bismark_bt2_pe._5x.sort.bedgraph \\\n",
    "Meth6_R1_001_val_1_bismark_bt2_pe._5x.sort.bedgraph \\\n",
    "Meth7_R1_001_val_1_bismark_bt2_pe._5x.sort.bedgraph \\\n",
    "Meth8_R1_001_val_1_bismark_bt2_pe._5x.sort.bedgraph \\\n",
    "Meth9_R1_001_val_1_bismark_bt2_pe._5x.sort.bedgraph \\\n",
    "> ../analyses/10-unionbedg/Pact_union_5x.bedgraph\n"
   ]
  },
  {
   "cell_type": "code",
   "execution_count": 13,
   "metadata": {
    "ExecuteTime": {
     "end_time": "2020-04-01T21:25:02.971003Z",
     "start_time": "2020-04-01T21:25:02.777452Z"
    }
   },
   "outputs": [
    {
     "name": "stdout",
     "output_type": "stream",
     "text": [
      "chrom\tstart\tend\t1\t2\t3\t4\t5\t6\t7\t8\t9\r\n",
      "scaffold1_cov55\t49\t51\tN/A\t0.000000\tN/A\tN/A\tN/A\tN/A\tN/A\tN/A\tN/A\r\n",
      "scaffold1_cov55\t84\t86\tN/A\t0.000000\tN/A\tN/A\tN/A\tN/A\tN/A\tN/A\tN/A\r\n",
      "scaffold1_cov55\t92\t94\tN/A\t0.000000\tN/A\tN/A\tN/A\tN/A\tN/A\tN/A\tN/A\r\n",
      "scaffold1_cov55\t102\t104\t16.666667\t0.000000\tN/A\tN/A\tN/A\tN/A\tN/A\tN/A\tN/A\r\n",
      "scaffold1_cov55\t105\t107\t0.000000\t12.500000\tN/A\tN/A\tN/A\tN/A\tN/A\tN/A\tN/A\r\n",
      "scaffold1_cov55\t116\t118\t0.000000\t0.000000\tN/A\tN/A\tN/A\tN/A\tN/A\tN/A\tN/A\r\n",
      "scaffold1_cov55\t119\t121\t0.000000\t0.000000\t20.000000\tN/A\tN/A\tN/A\tN/A\tN/A\tN/A\r\n",
      "scaffold1_cov55\t146\t148\t0.000000\t0.000000\tN/A\tN/A\tN/A\tN/A\tN/A\tN/A\tN/A\r\n",
      "scaffold1_cov55\t169\t171\tN/A\t0.000000\tN/A\tN/A\tN/A\tN/A\tN/A\tN/A\tN/A\r\n"
     ]
    }
   ],
   "source": [
    "!head ../analyses/10-unionbedg/Pact_union_5x.bedgraph"
   ]
  },
  {
   "cell_type": "markdown",
   "metadata": {},
   "source": [
    "**count number of lines in Pact unionBedGraph output**"
   ]
  },
  {
   "cell_type": "code",
   "execution_count": 10,
   "metadata": {},
   "outputs": [
    {
     "name": "stdout",
     "output_type": "stream",
     "text": [
      " 7326298 ../analyses/10-unionbedg/Pact_union_5x.bedgraph\r\n"
     ]
    }
   ],
   "source": [
    "!wc -l ../analyses/10-unionbedg/Pact_union_5x.bedgraph"
   ]
  },
  {
   "cell_type": "markdown",
   "metadata": {},
   "source": [
    "**count number of lines in Pact CpG.gff**"
   ]
  },
  {
   "cell_type": "code",
   "execution_count": 11,
   "metadata": {},
   "outputs": [
    {
     "name": "stdout",
     "output_type": "stream",
     "text": [
      " 9639415 /Volumes/web/seashell/bu-github/Meth_Compare/genome-feature-files/Pact_CpG.gff\r\n"
     ]
    }
   ],
   "source": [
    "!wc -l /Volumes/web/seashell/bu-github/Meth_Compare/genome-feature-files/Pact_CpG.gff"
   ]
  },
  {
   "cell_type": "markdown",
   "metadata": {},
   "source": [
    "**see if any sites are listed more than once in the unionBedGraph output**\n",
    "\n",
    "code explaination:  \n",
    "\n",
    "#print the first 3 fields of the bedgraph (the CpG chromosome, start, and end position)\n",
    "\n",
    "```\n",
    "awk '{print $1,$2,$3}'\n",
    "```\n",
    "\n",
    "#unix sort command by default sorts the input by comparing entire lines when no fields (-k) are specified (see sort manual or https://www.gnu.org/software/coreutils/manual/html_node/sort-invocation.html)\n",
    "\n",
    "```\n",
    "sort\n",
    "```\n",
    "\n",
    "#uniq -c collapses identical lines of a sorted file and creates a new field 1 where the frequency at which the line occured is printed\n",
    "\n",
    "```\n",
    "uniq -c\n",
    "```\n",
    "\n",
    "#if the first field is greater than 1 print the line\n",
    "##This would indicate the CpG site listed more than one time \n",
    "```\n",
    "awk '{if($1>1)print $0}' \n",
    "```\n"
   ]
  },
  {
   "cell_type": "code",
   "execution_count": 12,
   "metadata": {},
   "outputs": [],
   "source": [
    "!cat ../analyses/10-unionbedg/Pact_union_5x.bedgraph |\\\n",
    "awk '{print $1,$2,$3}' |\\\n",
    "sort | \\\n",
    "uniq -c |\\\n",
    "awk '{if($1>1)print $0}' |\\\n",
    "head"
   ]
  },
  {
   "cell_type": "code",
   "execution_count": 13,
   "metadata": {},
   "outputs": [
    {
     "name": "stdout",
     "output_type": "stream",
     "text": [
      "building file list ... \r\n",
      " 0 files...\r",
      "4 files to consider\r\n",
      "10-unionbedg/\r\n",
      "\r\n",
      "sent 194 bytes  received 44 bytes  476.00 bytes/sec\r\n",
      "total size is 1504183393  speedup is 6320098.29\r\n"
     ]
    }
   ],
   "source": [
    "!rsync --archive --progress --verbose ../analyses/10-unionbedg \\\n",
    "/Volumes/web/metacarcinus/FROGER_meth_compare/20200424/"
   ]
  },
  {
   "cell_type": "code",
   "execution_count": 14,
   "metadata": {},
   "outputs": [
    {
     "name": "stdout",
     "output_type": "stream",
     "text": [
      "building file list ... \r\n",
      " 0 files...\r",
      "36 files to consider\r\n",
      "\r\n",
      "sent 1667 bytes  received 236 bytes  3806.00 bytes/sec\r\n",
      "total size is 3832470738  speedup is 2013910.00\r\n"
     ]
    }
   ],
   "source": [
    "!rsync --archive --progress --verbose ../data/*.bedgraph \\\n",
    "/Volumes/web/metacarcinus/FROGER_meth_compare/20200424/"
   ]
  },
  {
   "cell_type": "markdown",
   "metadata": {},
   "source": [
    "bedgraphs (unsorted and sorted ) available @ https://gannet.fish.washington.edu/metacarcinus/FROGER_meth_compare/20200424/  \n",
    "\n",
    "\n",
    "union output available @ https://gannet.fish.washington.edu/metacarcinus/FROGER_meth_compare/20200424/10-unionbedg/\n"
   ]
  }
 ],
 "metadata": {
  "kernelspec": {
   "display_name": "Python 3",
   "language": "python",
   "name": "python3"
  },
  "language_info": {
   "codemirror_mode": {
    "name": "ipython",
    "version": 3
   },
   "file_extension": ".py",
   "mimetype": "text/x-python",
   "name": "python",
   "nbconvert_exporter": "python",
   "pygments_lexer": "ipython3",
   "version": "3.6.8"
  }
 },
 "nbformat": 4,
 "nbformat_minor": 2
}
