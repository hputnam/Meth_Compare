{
 "cells": [
  {
   "cell_type": "code",
   "execution_count": 3,
   "metadata": {
    "ExecuteTime": {
     "end_time": "2020-04-26T21:14:55.966587Z",
     "start_time": "2020-04-26T21:14:55.838040Z"
    }
   },
   "outputs": [],
   "source": [
    "mkdir ../analyses/pan-genome-cov-full/"
   ]
  },
  {
   "cell_type": "code",
   "execution_count": 5,
   "metadata": {
    "ExecuteTime": {
     "end_time": "2020-04-26T21:15:18.860037Z",
     "start_time": "2020-04-26T21:15:18.852522Z"
    }
   },
   "outputs": [
    {
     "name": "stdout",
     "output_type": "stream",
     "text": [
      "[Errno 2] No such file or directory: '../analyses/pan-genome-cov-full/'\n",
      "/Users/sr320/Documents/GitHub/Meth_Compare/analyses/pan-genome-cov-full\n"
     ]
    }
   ],
   "source": [
    "cd ../analyses/pan-genome-cov-full/"
   ]
  },
  {
   "cell_type": "code",
   "execution_count": 6,
   "metadata": {
    "ExecuteTime": {
     "end_time": "2020-04-26T21:46:31.665544Z",
     "start_time": "2020-04-26T21:15:18.866609Z"
    },
    "scrolled": true
   },
   "outputs": [
    {
     "name": "stdout",
     "output_type": "stream",
     "text": [
      "--2020-04-26 14:15:18--  https://gannet.fish.washington.edu/seashell/bu-mox/scrubbed/041720-pan/Pact_tg/dedup/\n",
      "Resolving gannet.fish.washington.edu (gannet.fish.washington.edu)... 128.95.149.52\n",
      "Connecting to gannet.fish.washington.edu (gannet.fish.washington.edu)|128.95.149.52|:443... connected.\n",
      "HTTP request sent, awaiting response... 200 OK\n",
      "Length: unspecified [text/html]\n",
      "Saving to: ‘./index.html.tmp’\n",
      "\n",
      "index.html.tmp          [ <=>                ]  24.61K  --.-KB/s    in 0.06s   \n",
      "\n",
      "2020-04-26 14:15:20 (386 KB/s) - ‘./index.html.tmp’ saved [25205]\n",
      "\n",
      "Loading robots.txt; please ignore errors.\n",
      "--2020-04-26 14:15:20--  https://gannet.fish.washington.edu/robots.txt\n",
      "Reusing existing connection to gannet.fish.washington.edu:443.\n",
      "HTTP request sent, awaiting response... 404 Not Found\n",
      "2020-04-26 14:15:20 ERROR 404: Not Found.\n",
      "\n",
      "Removing ./index.html.tmp since it should be rejected.\n",
      "\n",
      "--2020-04-26 14:15:20--  https://gannet.fish.washington.edu/seashell/bu-mox/scrubbed/041720-pan/Pact_tg/dedup/?C=N;O=D\n",
      "Reusing existing connection to gannet.fish.washington.edu:443.\n",
      "HTTP request sent, awaiting response... 200 OK\n",
      "Length: unspecified [text/html]\n",
      "Saving to: ‘./index.html?C=N;O=D.tmp’\n",
      "\n",
      "index.html?C=N;O=D.     [ <=>                ]  24.61K  --.-KB/s    in 0.05s   \n",
      "\n",
      "2020-04-26 14:15:21 (468 KB/s) - ‘./index.html?C=N;O=D.tmp’ saved [25205]\n",
      "\n",
      "Removing ./index.html?C=N;O=D.tmp since it should be rejected.\n",
      "\n",
      "--2020-04-26 14:15:21--  https://gannet.fish.washington.edu/seashell/bu-mox/scrubbed/041720-pan/Pact_tg/dedup/?C=M;O=A\n",
      "Reusing existing connection to gannet.fish.washington.edu:443.\n",
      "HTTP request sent, awaiting response... 200 OK\n",
      "Length: unspecified [text/html]\n",
      "Saving to: ‘./index.html?C=M;O=A.tmp’\n",
      "\n",
      "index.html?C=M;O=A.     [ <=>                ]  24.61K  --.-KB/s    in 0.05s   \n",
      "\n",
      "2020-04-26 14:15:22 (483 KB/s) - ‘./index.html?C=M;O=A.tmp’ saved [25205]\n",
      "\n",
      "Removing ./index.html?C=M;O=A.tmp since it should be rejected.\n",
      "\n",
      "--2020-04-26 14:15:22--  https://gannet.fish.washington.edu/seashell/bu-mox/scrubbed/041720-pan/Pact_tg/dedup/?C=S;O=A\n",
      "Reusing existing connection to gannet.fish.washington.edu:443.\n",
      "HTTP request sent, awaiting response... 200 OK\n",
      "Length: unspecified [text/html]\n",
      "Saving to: ‘./index.html?C=S;O=A.tmp’\n",
      "\n",
      "index.html?C=S;O=A.     [ <=>                ]  24.61K  --.-KB/s    in 0.03s   \n",
      "\n",
      "2020-04-26 14:15:23 (834 KB/s) - ‘./index.html?C=S;O=A.tmp’ saved [25205]\n",
      "\n",
      "Removing ./index.html?C=S;O=A.tmp since it should be rejected.\n",
      "\n",
      "--2020-04-26 14:15:23--  https://gannet.fish.washington.edu/seashell/bu-mox/scrubbed/041720-pan/Pact_tg/dedup/?C=D;O=A\n",
      "Reusing existing connection to gannet.fish.washington.edu:443.\n",
      "HTTP request sent, awaiting response... 200 OK\n",
      "Length: unspecified [text/html]\n",
      "Saving to: ‘./index.html?C=D;O=A.tmp’\n",
      "\n",
      "index.html?C=D;O=A.     [ <=>                ]  24.61K  --.-KB/s    in 0.03s   \n",
      "\n",
      "2020-04-26 14:15:25 (718 KB/s) - ‘./index.html?C=D;O=A.tmp’ saved [25205]\n",
      "\n",
      "Removing ./index.html?C=D;O=A.tmp since it should be rejected.\n",
      "\n",
      "--2020-04-26 14:15:25--  https://gannet.fish.washington.edu/seashell/bu-mox/scrubbed/041720-pan/Pact_tg/dedup/Meth1_R1_001_val_1_bismark_bt2_pe..CpG_report.merged_CpG_evidence.cov\n",
      "Reusing existing connection to gannet.fish.washington.edu:443.\n",
      "HTTP request sent, awaiting response... 200 OK\n",
      "Length: 413560497 (394M)\n",
      "Saving to: ‘./Meth1_R1_001_val_1_bismark_bt2_pe..CpG_report.merged_CpG_evidence.cov’\n",
      "\n",
      "Meth1_R1_001_val_1_ 100%[===================>] 394.40M  2.11MB/s    in 3m 1s   \n",
      "\n",
      "2020-04-26 14:18:25 (2.18 MB/s) - ‘./Meth1_R1_001_val_1_bismark_bt2_pe..CpG_report.merged_CpG_evidence.cov’ saved [413560497/413560497]\n",
      "\n",
      "--2020-04-26 14:18:27--  https://gannet.fish.washington.edu/seashell/bu-mox/scrubbed/041720-pan/Pact_tg/dedup/Meth2_R1_001_val_1_bismark_bt2_pe..CpG_report.merged_CpG_evidence.cov\n",
      "Reusing existing connection to gannet.fish.washington.edu:443.\n",
      "HTTP request sent, awaiting response... 200 OK\n",
      "Length: 458685956 (437M)\n",
      "Saving to: ‘./Meth2_R1_001_val_1_bismark_bt2_pe..CpG_report.merged_CpG_evidence.cov’\n",
      "\n",
      "Meth2_R1_001_val_1_ 100%[===================>] 437.44M  2.37MB/s    in 3m 29s  \n",
      "\n",
      "2020-04-26 14:21:55 (2.09 MB/s) - ‘./Meth2_R1_001_val_1_bismark_bt2_pe..CpG_report.merged_CpG_evidence.cov’ saved [458685956/458685956]\n",
      "\n",
      "--2020-04-26 14:21:58--  https://gannet.fish.washington.edu/seashell/bu-mox/scrubbed/041720-pan/Pact_tg/dedup/Meth3_R1_001_val_1_bismark_bt2_pe..CpG_report.merged_CpG_evidence.cov\n",
      "Reusing existing connection to gannet.fish.washington.edu:443.\n",
      "HTTP request sent, awaiting response... 200 OK\n",
      "Length: 450021902 (429M)\n",
      "Saving to: ‘./Meth3_R1_001_val_1_bismark_bt2_pe..CpG_report.merged_CpG_evidence.cov’\n",
      "\n",
      "Meth3_R1_001_val_1_ 100%[===================>] 429.17M  2.27MB/s    in 3m 20s  \n",
      "\n",
      "2020-04-26 14:25:18 (2.14 MB/s) - ‘./Meth3_R1_001_val_1_bismark_bt2_pe..CpG_report.merged_CpG_evidence.cov’ saved [450021902/450021902]\n",
      "\n",
      "--2020-04-26 14:25:20--  https://gannet.fish.washington.edu/seashell/bu-mox/scrubbed/041720-pan/Pact_tg/dedup/Meth7_R1_001_val_1_bismark_bt2_pe..CpG_report.merged_CpG_evidence.cov\n",
      "Reusing existing connection to gannet.fish.washington.edu:443.\n",
      "HTTP request sent, awaiting response... 200 OK\n",
      "Length: 953319367 (909M)\n",
      "Saving to: ‘./Meth7_R1_001_val_1_bismark_bt2_pe..CpG_report.merged_CpG_evidence.cov’\n",
      "\n",
      "Meth7_R1_001_val_1_ 100%[===================>] 909.16M  2.22MB/s    in 6m 59s  \n",
      "\n",
      "2020-04-26 14:32:19 (2.17 MB/s) - ‘./Meth7_R1_001_val_1_bismark_bt2_pe..CpG_report.merged_CpG_evidence.cov’ saved [953319367/953319367]\n",
      "\n",
      "--2020-04-26 14:32:24--  https://gannet.fish.washington.edu/seashell/bu-mox/scrubbed/041720-pan/Pact_tg/dedup/Meth8_R1_001_val_1_bismark_bt2_pe..CpG_report.merged_CpG_evidence.cov\n",
      "Reusing existing connection to gannet.fish.washington.edu:443.\n",
      "HTTP request sent, awaiting response... 200 OK\n",
      "Length: 1019835890 (973M)\n",
      "Saving to: ‘./Meth8_R1_001_val_1_bismark_bt2_pe..CpG_report.merged_CpG_evidence.cov’\n",
      "\n",
      "Meth8_R1_001_val_1_ 100%[===================>] 972.59M  2.21MB/s    in 7m 32s  \n",
      "\n",
      "2020-04-26 14:39:57 (2.15 MB/s) - ‘./Meth8_R1_001_val_1_bismark_bt2_pe..CpG_report.merged_CpG_evidence.cov’ saved [1019835890/1019835890]\n",
      "\n",
      "--2020-04-26 14:40:02--  https://gannet.fish.washington.edu/seashell/bu-mox/scrubbed/041720-pan/Pact_tg/dedup/Meth9_R1_001_val_1_bismark_bt2_pe..CpG_report.merged_CpG_evidence.cov\n",
      "Reusing existing connection to gannet.fish.washington.edu:443.\n",
      "HTTP request sent, awaiting response... 200 OK\n",
      "Length: 881580932 (841M)\n",
      "Saving to: ‘./Meth9_R1_001_val_1_bismark_bt2_pe..CpG_report.merged_CpG_evidence.cov’\n",
      "\n",
      "Meth9_R1_001_val_1_ 100%[===================>] 840.74M  2.09MB/s    in 6m 20s  \n",
      "\n",
      "2020-04-26 14:46:22 (2.21 MB/s) - ‘./Meth9_R1_001_val_1_bismark_bt2_pe..CpG_report.merged_CpG_evidence.cov’ saved [881580932/881580932]\n",
      "\n",
      "--2020-04-26 14:46:27--  https://gannet.fish.washington.edu/seashell/bu-mox/scrubbed/041720-pan/Pact_tg/dedup/?C=N;O=A\n",
      "Reusing existing connection to gannet.fish.washington.edu:443.\n",
      "HTTP request sent, awaiting response... 200 OK\n",
      "Length: unspecified [text/html]\n",
      "Saving to: ‘./index.html?C=N;O=A.tmp’\n",
      "\n",
      "index.html?C=N;O=A.     [ <=>                ]  24.61K  --.-KB/s    in 0.08s   \n",
      "\n",
      "2020-04-26 14:46:28 (292 KB/s) - ‘./index.html?C=N;O=A.tmp’ saved [25205]\n",
      "\n",
      "Removing ./index.html?C=N;O=A.tmp since it should be rejected.\n",
      "\n",
      "--2020-04-26 14:46:28--  https://gannet.fish.washington.edu/seashell/bu-mox/scrubbed/041720-pan/Pact_tg/dedup/?C=M;O=D\n",
      "Reusing existing connection to gannet.fish.washington.edu:443.\n",
      "HTTP request sent, awaiting response... 200 OK\n",
      "Length: unspecified [text/html]\n",
      "Saving to: ‘./index.html?C=M;O=D.tmp’\n",
      "\n",
      "index.html?C=M;O=D.     [ <=>                ]  24.61K  --.-KB/s    in 0.06s   \n",
      "\n",
      "2020-04-26 14:46:29 (415 KB/s) - ‘./index.html?C=M;O=D.tmp’ saved [25205]\n",
      "\n",
      "Removing ./index.html?C=M;O=D.tmp since it should be rejected.\n",
      "\n",
      "--2020-04-26 14:46:29--  https://gannet.fish.washington.edu/seashell/bu-mox/scrubbed/041720-pan/Pact_tg/dedup/?C=S;O=D\n",
      "Reusing existing connection to gannet.fish.washington.edu:443.\n",
      "HTTP request sent, awaiting response... 200 OK\n",
      "Length: unspecified [text/html]\n",
      "Saving to: ‘./index.html?C=S;O=D.tmp’\n",
      "\n",
      "index.html?C=S;O=D.     [ <=>                ]  24.61K  --.-KB/s    in 0.03s   \n",
      "\n",
      "2020-04-26 14:46:30 (791 KB/s) - ‘./index.html?C=S;O=D.tmp’ saved [25205]\n",
      "\n",
      "Removing ./index.html?C=S;O=D.tmp since it should be rejected.\n",
      "\n",
      "--2020-04-26 14:46:30--  https://gannet.fish.washington.edu/seashell/bu-mox/scrubbed/041720-pan/Pact_tg/dedup/?C=D;O=D\n",
      "Reusing existing connection to gannet.fish.washington.edu:443.\n"
     ]
    },
    {
     "name": "stdout",
     "output_type": "stream",
     "text": [
      "HTTP request sent, awaiting response... 200 OK\n",
      "Length: unspecified [text/html]\n",
      "Saving to: ‘./index.html?C=D;O=D.tmp’\n",
      "\n",
      "index.html?C=D;O=D.     [ <=>                ]  24.61K  --.-KB/s    in 0.03s   \n",
      "\n",
      "2020-04-26 14:46:31 (807 KB/s) - ‘./index.html?C=D;O=D.tmp’ saved [25205]\n",
      "\n",
      "Removing ./index.html?C=D;O=D.tmp since it should be rejected.\n",
      "\n",
      "FINISHED --2020-04-26 14:46:31--\n",
      "Total wall clock time: 31m 13s\n",
      "Downloaded: 15 files, 3.9G in 30m 42s (2.16 MB/s)\n"
     ]
    }
   ],
   "source": [
    "!wget -r \\\n",
    "--no-directories --no-parent \\\n",
    "-P . \\\n",
    "-A CpG_evidence.cov https://gannet.fish.washington.edu/seashell/bu-mox/scrubbed/041720-pan/Pact_tg/dedup/\n",
    "\n",
    "\n"
   ]
  },
  {
   "cell_type": "code",
   "execution_count": 7,
   "metadata": {
    "ExecuteTime": {
     "end_time": "2020-04-26T21:52:14.494514Z",
     "start_time": "2020-04-26T21:46:31.672754Z"
    }
   },
   "outputs": [
    {
     "name": "stdout",
     "output_type": "stream",
     "text": [
      "--2020-04-26 14:46:31--  https://gannet.fish.washington.edu/seashell/bu-mox/scrubbed/041720-pan/Pact_tg/nodedup/\n",
      "Resolving gannet.fish.washington.edu (gannet.fish.washington.edu)... 128.95.149.52\n",
      "Connecting to gannet.fish.washington.edu (gannet.fish.washington.edu)|128.95.149.52|:443... connected.\n",
      "HTTP request sent, awaiting response... 200 OK\n",
      "Length: unspecified [text/html]\n",
      "Saving to: ‘./index.html.tmp’\n",
      "\n",
      "index.html.tmp          [ <=>                ]  11.41K  --.-KB/s    in 0.03s   \n",
      "\n",
      "2020-04-26 14:46:32 (425 KB/s) - ‘./index.html.tmp’ saved [11685]\n",
      "\n",
      "Loading robots.txt; please ignore errors.\n",
      "--2020-04-26 14:46:32--  https://gannet.fish.washington.edu/robots.txt\n",
      "Reusing existing connection to gannet.fish.washington.edu:443.\n",
      "HTTP request sent, awaiting response... 404 Not Found\n",
      "2020-04-26 14:46:32 ERROR 404: Not Found.\n",
      "\n",
      "Removing ./index.html.tmp since it should be rejected.\n",
      "\n",
      "--2020-04-26 14:46:32--  https://gannet.fish.washington.edu/seashell/bu-mox/scrubbed/041720-pan/Pact_tg/nodedup/?C=N;O=D\n",
      "Reusing existing connection to gannet.fish.washington.edu:443.\n",
      "HTTP request sent, awaiting response... 200 OK\n",
      "Length: unspecified [text/html]\n",
      "Saving to: ‘./index.html?C=N;O=D.tmp’\n",
      "\n",
      "index.html?C=N;O=D.     [ <=>                ]  11.41K  --.-KB/s    in 0.001s  \n",
      "\n",
      "2020-04-26 14:46:33 (13.0 MB/s) - ‘./index.html?C=N;O=D.tmp’ saved [11685]\n",
      "\n",
      "Removing ./index.html?C=N;O=D.tmp since it should be rejected.\n",
      "\n",
      "--2020-04-26 14:46:33--  https://gannet.fish.washington.edu/seashell/bu-mox/scrubbed/041720-pan/Pact_tg/nodedup/?C=M;O=A\n",
      "Reusing existing connection to gannet.fish.washington.edu:443.\n",
      "HTTP request sent, awaiting response... 200 OK\n",
      "Length: unspecified [text/html]\n",
      "Saving to: ‘./index.html?C=M;O=A.tmp’\n",
      "\n",
      "index.html?C=M;O=A.     [ <=>                ]  11.41K  --.-KB/s    in 0.003s  \n",
      "\n",
      "2020-04-26 14:46:33 (4.34 MB/s) - ‘./index.html?C=M;O=A.tmp’ saved [11685]\n",
      "\n",
      "Removing ./index.html?C=M;O=A.tmp since it should be rejected.\n",
      "\n",
      "--2020-04-26 14:46:33--  https://gannet.fish.washington.edu/seashell/bu-mox/scrubbed/041720-pan/Pact_tg/nodedup/?C=S;O=A\n",
      "Reusing existing connection to gannet.fish.washington.edu:443.\n",
      "HTTP request sent, awaiting response... 200 OK\n",
      "Length: unspecified [text/html]\n",
      "Saving to: ‘./index.html?C=S;O=A.tmp’\n",
      "\n",
      "index.html?C=S;O=A.     [ <=>                ]  11.41K  --.-KB/s    in 0s      \n",
      "\n",
      "2020-04-26 14:46:34 (30.0 MB/s) - ‘./index.html?C=S;O=A.tmp’ saved [11685]\n",
      "\n",
      "Removing ./index.html?C=S;O=A.tmp since it should be rejected.\n",
      "\n",
      "--2020-04-26 14:46:34--  https://gannet.fish.washington.edu/seashell/bu-mox/scrubbed/041720-pan/Pact_tg/nodedup/?C=D;O=A\n",
      "Reusing existing connection to gannet.fish.washington.edu:443.\n",
      "HTTP request sent, awaiting response... 200 OK\n",
      "Length: unspecified [text/html]\n",
      "Saving to: ‘./index.html?C=D;O=A.tmp’\n",
      "\n",
      "index.html?C=D;O=A.     [ <=>                ]  11.41K  --.-KB/s    in 0.001s  \n",
      "\n",
      "2020-04-26 14:46:34 (21.3 MB/s) - ‘./index.html?C=D;O=A.tmp’ saved [11685]\n",
      "\n",
      "Removing ./index.html?C=D;O=A.tmp since it should be rejected.\n",
      "\n",
      "--2020-04-26 14:46:34--  https://gannet.fish.washington.edu/seashell/bu-mox/scrubbed/041720-pan/Pact_tg/nodedup/Meth4_R1_001_val_1_bismark_bt2_pe..CpG_report.merged_CpG_evidence.cov\n",
      "Reusing existing connection to gannet.fish.washington.edu:443.\n",
      "HTTP request sent, awaiting response... 200 OK\n",
      "Length: 239811798 (229M)\n",
      "Saving to: ‘./Meth4_R1_001_val_1_bismark_bt2_pe..CpG_report.merged_CpG_evidence.cov’\n",
      "\n",
      "Meth4_R1_001_val_1_ 100%[===================>] 228.70M  2.31MB/s    in 1m 45s  \n",
      "\n",
      "2020-04-26 14:48:19 (2.17 MB/s) - ‘./Meth4_R1_001_val_1_bismark_bt2_pe..CpG_report.merged_CpG_evidence.cov’ saved [239811798/239811798]\n",
      "\n",
      "--2020-04-26 14:48:20--  https://gannet.fish.washington.edu/seashell/bu-mox/scrubbed/041720-pan/Pact_tg/nodedup/Meth5_R1_001_val_1_bismark_bt2_pe..CpG_report.merged_CpG_evidence.cov\n",
      "Reusing existing connection to gannet.fish.washington.edu:443.\n",
      "HTTP request sent, awaiting response... 200 OK\n",
      "Length: 260615354 (249M)\n",
      "Saving to: ‘./Meth5_R1_001_val_1_bismark_bt2_pe..CpG_report.merged_CpG_evidence.cov’\n",
      "\n",
      "Meth5_R1_001_val_1_ 100%[===================>] 248.54M  2.27MB/s    in 1m 59s  \n",
      "\n",
      "2020-04-26 14:50:20 (2.09 MB/s) - ‘./Meth5_R1_001_val_1_bismark_bt2_pe..CpG_report.merged_CpG_evidence.cov’ saved [260615354/260615354]\n",
      "\n",
      "--2020-04-26 14:50:20--  https://gannet.fish.washington.edu/seashell/bu-mox/scrubbed/041720-pan/Pact_tg/nodedup/Meth6_R1_001_val_1_bismark_bt2_pe..CpG_report.merged_CpG_evidence.cov\n",
      "Reusing existing connection to gannet.fish.washington.edu:443.\n",
      "HTTP request sent, awaiting response... 200 OK\n",
      "Length: 243129286 (232M)\n",
      "Saving to: ‘./Meth6_R1_001_val_1_bismark_bt2_pe..CpG_report.merged_CpG_evidence.cov’\n",
      "\n",
      "Meth6_R1_001_val_1_ 100%[===================>] 231.87M  1.95MB/s    in 1m 51s  \n",
      "\n",
      "2020-04-26 14:52:11 (2.09 MB/s) - ‘./Meth6_R1_001_val_1_bismark_bt2_pe..CpG_report.merged_CpG_evidence.cov’ saved [243129286/243129286]\n",
      "\n",
      "--2020-04-26 14:52:12--  https://gannet.fish.washington.edu/seashell/bu-mox/scrubbed/041720-pan/Pact_tg/nodedup/?C=N;O=A\n",
      "Reusing existing connection to gannet.fish.washington.edu:443.\n",
      "HTTP request sent, awaiting response... 200 OK\n",
      "Length: unspecified [text/html]\n",
      "Saving to: ‘./index.html?C=N;O=A.tmp’\n",
      "\n",
      "index.html?C=N;O=A.     [ <=>                ]  11.41K  --.-KB/s    in 0.02s   \n",
      "\n",
      "2020-04-26 14:52:13 (508 KB/s) - ‘./index.html?C=N;O=A.tmp’ saved [11685]\n",
      "\n",
      "Removing ./index.html?C=N;O=A.tmp since it should be rejected.\n",
      "\n",
      "--2020-04-26 14:52:13--  https://gannet.fish.washington.edu/seashell/bu-mox/scrubbed/041720-pan/Pact_tg/nodedup/?C=M;O=D\n",
      "Reusing existing connection to gannet.fish.washington.edu:443.\n",
      "HTTP request sent, awaiting response... 200 OK\n",
      "Length: unspecified [text/html]\n",
      "Saving to: ‘./index.html?C=M;O=D.tmp’\n",
      "\n",
      "index.html?C=M;O=D.     [ <=>                ]  11.41K  --.-KB/s    in 0.02s   \n",
      "\n",
      "2020-04-26 14:52:13 (495 KB/s) - ‘./index.html?C=M;O=D.tmp’ saved [11685]\n",
      "\n",
      "Removing ./index.html?C=M;O=D.tmp since it should be rejected.\n",
      "\n",
      "--2020-04-26 14:52:13--  https://gannet.fish.washington.edu/seashell/bu-mox/scrubbed/041720-pan/Pact_tg/nodedup/?C=S;O=D\n",
      "Reusing existing connection to gannet.fish.washington.edu:443.\n",
      "HTTP request sent, awaiting response... 200 OK\n",
      "Length: unspecified [text/html]\n",
      "Saving to: ‘./index.html?C=S;O=D.tmp’\n",
      "\n",
      "index.html?C=S;O=D.     [ <=>                ]  11.41K  --.-KB/s    in 0.03s   \n",
      "\n",
      "2020-04-26 14:52:13 (425 KB/s) - ‘./index.html?C=S;O=D.tmp’ saved [11685]\n",
      "\n",
      "Removing ./index.html?C=S;O=D.tmp since it should be rejected.\n",
      "\n",
      "--2020-04-26 14:52:13--  https://gannet.fish.washington.edu/seashell/bu-mox/scrubbed/041720-pan/Pact_tg/nodedup/?C=D;O=D\n",
      "Reusing existing connection to gannet.fish.washington.edu:443.\n",
      "HTTP request sent, awaiting response... 200 OK\n",
      "Length: unspecified [text/html]\n",
      "Saving to: ‘./index.html?C=D;O=D.tmp’\n",
      "\n",
      "index.html?C=D;O=D.     [ <=>                ]  11.41K  --.-KB/s    in 0.02s   \n",
      "\n",
      "2020-04-26 14:52:14 (507 KB/s) - ‘./index.html?C=D;O=D.tmp’ saved [11685]\n",
      "\n",
      "Removing ./index.html?C=D;O=D.tmp since it should be rejected.\n",
      "\n",
      "FINISHED --2020-04-26 14:52:14--\n",
      "Total wall clock time: 5m 43s\n",
      "Downloaded: 12 files, 709M in 5m 36s (2.11 MB/s)\n"
     ]
    }
   ],
   "source": [
    "!wget -r \\\n",
    "--no-directories --no-parent \\\n",
    "-P . \\\n",
    "-A CpG_evidence.cov https://gannet.fish.washington.edu/seashell/bu-mox/scrubbed/041720-pan/Pact_tg/nodedup/"
   ]
  },
  {
   "cell_type": "code",
   "execution_count": 8,
   "metadata": {
    "ExecuteTime": {
     "end_time": "2020-04-26T21:52:14.654854Z",
     "start_time": "2020-04-26T21:52:14.502530Z"
    }
   },
   "outputs": [
    {
     "name": "stdout",
     "output_type": "stream",
     "text": [
      "scaffold168462_cov214\t56\t58\t0.000000\t0\t3\r\n",
      "scaffold168462_cov214\t98\t100\t0.000000\t0\t2\r\n",
      "scaffold168462_cov214\t103\t105\t0.000000\t0\t2\r\n",
      "scaffold168463_cov229\t95\t97\t0.000000\t0\t9\r\n",
      "scaffold168463_cov229\t106\t108\t0.000000\t0\t10\r\n",
      "scaffold168463_cov229\t176\t178\t0.000000\t0\t3\r\n",
      "scaffold168463_cov229\t187\t189\t0.000000\t0\t3\r\n",
      "scaffold168465_cov225\t45\t47\t0.000000\t0\t2\r\n",
      "scaffold168465_cov225\t48\t50\t0.000000\t0\t2\r\n",
      "scaffold168465_cov225\t59\t61\t0.000000\t0\t3\r\n"
     ]
    }
   ],
   "source": [
    "!tail Meth1_R1_001_val_1_bismark_bt2_pe..CpG_report.merged_CpG_evidence.cov"
   ]
  },
  {
   "cell_type": "code",
   "execution_count": 9,
   "metadata": {
    "ExecuteTime": {
     "end_time": "2020-04-26T21:52:15.127328Z",
     "start_time": "2020-04-26T21:52:14.661714Z"
    }
   },
   "outputs": [
    {
     "name": "stdout",
     "output_type": "stream",
     "text": [
      " 9163380 Meth1_R1_001_val_1_bismark_bt2_pe..CpG_report.merged_CpG_evidence.cov\r\n"
     ]
    }
   ],
   "source": [
    "!wc -l Meth1_R1_001_val_1_bismark_bt2_pe..CpG_report.merged_CpG_evidence.cov"
   ]
  },
  {
   "cell_type": "code",
   "execution_count": 10,
   "metadata": {
    "ExecuteTime": {
     "end_time": "2020-04-26T21:52:19.175560Z",
     "start_time": "2020-04-26T21:52:15.133391Z"
    }
   },
   "outputs": [
    {
     "name": "stdout",
     "output_type": "stream",
     "text": [
      " 7993652\r\n"
     ]
    }
   ],
   "source": [
    "!grep -v \"Sym\" Meth1_R1_001_val_1_bismark_bt2_pe..CpG_report.merged_CpG_evidence.cov | wc -l"
   ]
  },
  {
   "cell_type": "code",
   "execution_count": 11,
   "metadata": {
    "ExecuteTime": {
     "end_time": "2020-04-26T21:52:22.554397Z",
     "start_time": "2020-04-26T21:52:19.179779Z"
    }
   },
   "outputs": [
    {
     "name": "stdout",
     "output_type": "stream",
     "text": [
      " 1169728\r\n"
     ]
    }
   ],
   "source": [
    "!grep \"Sym\" Meth1_R1_001_val_1_bismark_bt2_pe..CpG_report.merged_CpG_evidence.cov | wc -l"
   ]
  },
  {
   "cell_type": "code",
   "execution_count": 12,
   "metadata": {
    "ExecuteTime": {
     "end_time": "2020-04-26T21:52:26.573118Z",
     "start_time": "2020-04-26T21:52:22.561904Z"
    }
   },
   "outputs": [
    {
     "name": "stdout",
     "output_type": "stream",
     "text": [
      "scaffold1_cov55\t49\t51\t0.000000\t0\t2\r\n",
      "scaffold1_cov55\t84\t86\t0.000000\t0\t4\r\n",
      "scaffold1_cov55\t92\t94\t0.000000\t0\t4\r\n",
      "scaffold1_cov55\t102\t104\t16.666667\t1\t5\r\n",
      "scaffold1_cov55\t105\t107\t0.000000\t0\t6\r\n",
      "scaffold1_cov55\t116\t118\t0.000000\t0\t5\r\n",
      "scaffold1_cov55\t119\t121\t0.000000\t0\t5\r\n",
      "scaffold1_cov55\t146\t148\t0.000000\t0\t5\r\n",
      "scaffold1_cov55\t169\t171\t0.000000\t0\t4\r\n",
      "scaffold1_cov55\t186\t188\t20.000000\t1\t4\r\n"
     ]
    }
   ],
   "source": [
    "!grep -v \"Sym\" Meth1_R1_001_val_1_bismark_bt2_pe..CpG_report.merged_CpG_evidence.cov | head"
   ]
  },
  {
   "cell_type": "code",
   "execution_count": 13,
   "metadata": {
    "ExecuteTime": {
     "end_time": "2020-04-26T21:53:18.348885Z",
     "start_time": "2020-04-26T21:52:26.581273Z"
    }
   },
   "outputs": [],
   "source": [
    "%%bash\n",
    "for f in *merged_CpG_evidence.cov\n",
    "do\n",
    "  STEM=$(basename \"${f}\" _val_1_bismark_bt2_pe..CpG_report.merged_CpG_evidence.cov)\n",
    "  cat \"${f}\" | grep -v \"Sym\" > \"${STEM}\"_Pact-viaPan-merged.cov\n",
    "done"
   ]
  },
  {
   "cell_type": "code",
   "execution_count": 14,
   "metadata": {
    "ExecuteTime": {
     "end_time": "2020-04-26T21:53:18.488031Z",
     "start_time": "2020-04-26T21:53:18.352209Z"
    }
   },
   "outputs": [
    {
     "name": "stdout",
     "output_type": "stream",
     "text": [
      "==> Meth4_R1_001_Pact-viaPan-merged.cov <==\r\n",
      "scaffold6_cov64\t489\t491\t0.000000\t0\t1\r\n",
      "scaffold6_cov64\t2536\t2538\t0.000000\t0\t5\r\n",
      "scaffold6_cov64\t2584\t2586\t0.000000\t0\t5\r\n",
      "scaffold6_cov64\t2676\t2678\t20.000000\t1\t4\r\n",
      "scaffold6_cov64\t2682\t2684\t0.000000\t0\t3\r\n",
      "scaffold6_cov64\t3154\t3156\t0.000000\t0\t1\r\n",
      "scaffold6_cov64\t3198\t3200\t0.000000\t0\t4\r\n",
      "scaffold6_cov64\t3343\t3345\t0.000000\t0\t1\r\n",
      "scaffold6_cov64\t3420\t3422\t0.000000\t0\t1\r\n",
      "scaffold6_cov64\t3435\t3437\t0.000000\t0\t1\r\n",
      "\r\n",
      "==> Meth4_R1_001_val_1_bismark_bt2_pe..CpG_report.merged_CpG_evidence.cov <==\r\n",
      "SymbC1.scaffold1\t6158\t6160\t0.000000\t0\t2\r\n",
      "SymbC1.scaffold1\t6164\t6166\t0.000000\t0\t2\r\n",
      "SymbC1.scaffold1\t6167\t6169\t0.000000\t0\t2\r\n",
      "SymbC1.scaffold1\t6179\t6181\t0.000000\t0\t2\r\n",
      "SymbC1.scaffold1\t161346\t161348\t0.000000\t0\t1\r\n",
      "SymbC1.scaffold1\t161351\t161353\t0.000000\t0\t1\r\n",
      "SymbC1.scaffold1\t161363\t161365\t0.000000\t0\t1\r\n",
      "SymbC1.scaffold1\t235258\t235260\t0.000000\t0\t1\r\n",
      "SymbC1.scaffold1\t235264\t235266\t0.000000\t0\t1\r\n",
      "SymbC1.scaffold1\t235268\t235270\t0.000000\t0\t1\r\n"
     ]
    }
   ],
   "source": [
    "!head Meth4*"
   ]
  },
  {
   "cell_type": "code",
   "execution_count": 15,
   "metadata": {
    "ExecuteTime": {
     "end_time": "2020-04-26T21:53:18.634207Z",
     "start_time": "2020-04-26T21:53:18.497078Z"
    }
   },
   "outputs": [
    {
     "name": "stdout",
     "output_type": "stream",
     "text": [
      "Meth1_R1_001_Pact-viaPan-merged.cov\r\n",
      "Meth1_R1_001_val_1_bismark_bt2_pe..CpG_report.merged_CpG_evidence.cov\r\n",
      "Meth2_R1_001_Pact-viaPan-merged.cov\r\n",
      "Meth2_R1_001_val_1_bismark_bt2_pe..CpG_report.merged_CpG_evidence.cov\r\n",
      "Meth3_R1_001_Pact-viaPan-merged.cov\r\n",
      "Meth3_R1_001_val_1_bismark_bt2_pe..CpG_report.merged_CpG_evidence.cov\r\n",
      "Meth4_R1_001_Pact-viaPan-merged.cov\r\n",
      "Meth4_R1_001_val_1_bismark_bt2_pe..CpG_report.merged_CpG_evidence.cov\r\n",
      "Meth5_R1_001_Pact-viaPan-merged.cov\r\n",
      "Meth5_R1_001_val_1_bismark_bt2_pe..CpG_report.merged_CpG_evidence.cov\r\n",
      "Meth6_R1_001_Pact-viaPan-merged.cov\r\n",
      "Meth6_R1_001_val_1_bismark_bt2_pe..CpG_report.merged_CpG_evidence.cov\r\n",
      "Meth7_R1_001_Pact-viaPan-merged.cov\r\n",
      "Meth7_R1_001_val_1_bismark_bt2_pe..CpG_report.merged_CpG_evidence.cov\r\n",
      "Meth8_R1_001_Pact-viaPan-merged.cov\r\n",
      "Meth8_R1_001_val_1_bismark_bt2_pe..CpG_report.merged_CpG_evidence.cov\r\n",
      "Meth9_R1_001_Pact-viaPan-merged.cov\r\n",
      "Meth9_R1_001_val_1_bismark_bt2_pe..CpG_report.merged_CpG_evidence.cov\r\n"
     ]
    }
   ],
   "source": [
    "!ls"
   ]
  },
  {
   "cell_type": "code",
   "execution_count": 16,
   "metadata": {
    "ExecuteTime": {
     "end_time": "2020-04-26T21:53:19.863608Z",
     "start_time": "2020-04-26T21:53:18.641395Z"
    }
   },
   "outputs": [],
   "source": [
    "!rm *..CpG_report.merged_CpG_evidence.cov"
   ]
  },
  {
   "cell_type": "code",
   "execution_count": 17,
   "metadata": {
    "ExecuteTime": {
     "end_time": "2020-04-26T21:53:20.007444Z",
     "start_time": "2020-04-26T21:53:19.867864Z"
    }
   },
   "outputs": [
    {
     "name": "stdout",
     "output_type": "stream",
     "text": [
      "Meth1_R1_001_Pact-viaPan-merged.cov Meth6_R1_001_Pact-viaPan-merged.cov\r\n",
      "Meth2_R1_001_Pact-viaPan-merged.cov Meth7_R1_001_Pact-viaPan-merged.cov\r\n",
      "Meth3_R1_001_Pact-viaPan-merged.cov Meth8_R1_001_Pact-viaPan-merged.cov\r\n",
      "Meth4_R1_001_Pact-viaPan-merged.cov Meth9_R1_001_Pact-viaPan-merged.cov\r\n",
      "Meth5_R1_001_Pact-viaPan-merged.cov\r\n"
     ]
    }
   ],
   "source": [
    "!ls"
   ]
  },
  {
   "cell_type": "code",
   "execution_count": null,
   "metadata": {},
   "outputs": [],
   "source": []
  }
 ],
 "metadata": {
  "kernelspec": {
   "display_name": "Python 3",
   "language": "python",
   "name": "python3"
  },
  "language_info": {
   "codemirror_mode": {
    "name": "ipython",
    "version": 3
   },
   "file_extension": ".py",
   "mimetype": "text/x-python",
   "name": "python",
   "nbconvert_exporter": "python",
   "pygments_lexer": "ipython3",
   "version": "3.6.8"
  }
 },
 "nbformat": 4,
 "nbformat_minor": 2
}
