{
 "cells": [
  {
   "cell_type": "code",
   "execution_count": null,
   "metadata": {},
   "outputs": [],
   "source": [
    "#count the number of CpGs covered at different depths"
   ]
  },
  {
   "cell_type": "code",
   "execution_count": 1,
   "metadata": {},
   "outputs": [
    {
     "name": "stdout",
     "output_type": "stream",
     "text": [
      "1\t917\t919\t0.000000\t0\t1\r\n",
      "1\t2870\t2872\t0.000000\t0\t1\r\n",
      "1\t2957\t2959\t50.000000\t1\t1\r\n",
      "1\t3122\t3124\t0.000000\t0\t3\r\n",
      "1\t3149\t3151\t0.000000\t0\t2\r\n",
      "1\t4872\t4874\t0.000000\t0\t1\r\n",
      "1\t4891\t4893\t0.000000\t0\t1\r\n",
      "1\t4910\t4912\t0.000000\t0\t1\r\n",
      "1\t4929\t4931\t0.000000\t0\t2\r\n",
      "1\t4948\t4950\t0.000000\t0\t2\r\n"
     ]
    }
   ],
   "source": [
    "!head /Volumes/web/seashell/bu-mox/scrubbed/031520-TG-bs/Mcap_tg/dedup/Meth10_R1_001_val_1_bismark_bt2_pe..CpG_report.merged_CpG_evidence.cov "
   ]
  },
  {
   "cell_type": "code",
   "execution_count": null,
   "metadata": {},
   "outputs": [],
   "source": [
    "#1x coverage just count all the lines in the cov file\n"
   ]
  },
  {
   "cell_type": "code",
   "execution_count": 2,
   "metadata": {},
   "outputs": [
    {
     "name": "stdout",
     "output_type": "stream",
     "text": [
      "/Volumes/web/seashell/bu-mox/scrubbed/031520-TG-bs/Mcap_tg/dedup/Meth10_R1_001_val_1_bismark_bt2_pe..CpG_report.merged_CpG_evidence.cov\n",
      "/Volumes/web/seashell/bu-mox/scrubbed/031520-TG-bs/Mcap_tg/dedup/Meth11_R1_001_val_1_bismark_bt2_pe..CpG_report.merged_CpG_evidence.cov\n",
      "/Volumes/web/seashell/bu-mox/scrubbed/031520-TG-bs/Mcap_tg/dedup/Meth12_R1_001_val_1_bismark_bt2_pe..CpG_report.merged_CpG_evidence.cov\n",
      "/Volumes/web/seashell/bu-mox/scrubbed/031520-TG-bs/Mcap_tg/dedup/Meth16_R1_001_val_1_bismark_bt2_pe..CpG_report.merged_CpG_evidence.cov\n",
      "/Volumes/web/seashell/bu-mox/scrubbed/031520-TG-bs/Mcap_tg/dedup/Meth17_R1_001_val_1_bismark_bt2_pe..CpG_report.merged_CpG_evidence.cov\n",
      "/Volumes/web/seashell/bu-mox/scrubbed/031520-TG-bs/Mcap_tg/dedup/Meth18_R1_001_val_1_bismark_bt2_pe..CpG_report.merged_CpG_evidence.cov\n"
     ]
    }
   ],
   "source": [
    "%%bash \n",
    "\n",
    "WGBS_dir=\"/Volumes/web/seashell/bu-mox/scrubbed/031520-TG-bs/Mcap_tg/dedup/\"\n",
    "\n",
    "for f in ${WGBS_dir}*.merged_CpG_evidence.cov \n",
    "do\n",
    "echo ${f} \n",
    "done\n"
   ]
  },
  {
   "cell_type": "code",
   "execution_count": 3,
   "metadata": {},
   "outputs": [
    {
     "name": "stdout",
     "output_type": "stream",
     "text": [
      " 18504088 /Volumes/web/seashell/bu-mox/scrubbed/031520-TG-bs/Mcap_tg/dedup/Meth10_R1_001_val_1_bismark_bt2_pe..CpG_report.merged_CpG_evidence.cov\n",
      " 18330392 /Volumes/web/seashell/bu-mox/scrubbed/031520-TG-bs/Mcap_tg/dedup/Meth11_R1_001_val_1_bismark_bt2_pe..CpG_report.merged_CpG_evidence.cov\n",
      " 20397446 /Volumes/web/seashell/bu-mox/scrubbed/031520-TG-bs/Mcap_tg/dedup/Meth12_R1_001_val_1_bismark_bt2_pe..CpG_report.merged_CpG_evidence.cov\n",
      " 12438627 /Volumes/web/seashell/bu-mox/scrubbed/031520-TG-bs/Mcap_tg/dedup/Meth16_R1_001_val_1_bismark_bt2_pe..CpG_report.merged_CpG_evidence.cov\n",
      " 9603343 /Volumes/web/seashell/bu-mox/scrubbed/031520-TG-bs/Mcap_tg/dedup/Meth17_R1_001_val_1_bismark_bt2_pe..CpG_report.merged_CpG_evidence.cov\n",
      " 8373545 /Volumes/web/seashell/bu-mox/scrubbed/031520-TG-bs/Mcap_tg/dedup/Meth18_R1_001_val_1_bismark_bt2_pe..CpG_report.merged_CpG_evidence.cov\n"
     ]
    }
   ],
   "source": [
    "%%bash \n",
    "\n",
    "WGBS_dir=\"/Volumes/web/seashell/bu-mox/scrubbed/031520-TG-bs/Mcap_tg/dedup/\"\n",
    "\n",
    "for f in ${WGBS_dir}*.merged_CpG_evidence.cov \n",
    "do\n",
    "wc -l ${f}\n",
    "done\n"
   ]
  },
  {
   "cell_type": "code",
   "execution_count": 4,
   "metadata": {},
   "outputs": [
    {
     "name": "stdout",
     "output_type": "stream",
     "text": [
      " 4801892 /Volumes/web/seashell/bu-mox/scrubbed/031520-TG-bs/Mcap_tg/nodedup/Meth13_R1_001_val_1_bismark_bt2_pe..CpG_report.merged_CpG_evidence.cov\n",
      " 3866532 /Volumes/web/seashell/bu-mox/scrubbed/031520-TG-bs/Mcap_tg/nodedup/Meth14_R1_001_val_1_bismark_bt2_pe..CpG_report.merged_CpG_evidence.cov\n",
      " 5138036 /Volumes/web/seashell/bu-mox/scrubbed/031520-TG-bs/Mcap_tg/nodedup/Meth15_R1_001_val_1_bismark_bt2_pe..CpG_report.merged_CpG_evidence.cov\n"
     ]
    }
   ],
   "source": [
    "%%bash \n",
    "\n",
    "RRBS_dir=\"/Volumes/web/seashell/bu-mox/scrubbed/031520-TG-bs/Mcap_tg/nodedup/\"\n",
    "\n",
    "for f in ${RRBS_dir}*.merged_CpG_evidence.cov \n",
    "do\n",
    "wc -l ${f}\n",
    "done"
   ]
  },
  {
   "cell_type": "code",
   "execution_count": null,
   "metadata": {},
   "outputs": [],
   "source": []
  },
  {
   "cell_type": "code",
   "execution_count": null,
   "metadata": {},
   "outputs": [],
   "source": []
  },
  {
   "cell_type": "code",
   "execution_count": null,
   "metadata": {},
   "outputs": [],
   "source": [
    "\n",
    "#awk -F\"\\t\" '{if($5+$6>=5)print $0}' |\\\n",
    "#wc -l"
   ]
  },
  {
   "cell_type": "code",
   "execution_count": 6,
   "metadata": {
    "scrolled": true
   },
   "outputs": [
    {
     "name": "stdout",
     "output_type": "stream",
     "text": [
      " 4571288\n",
      " 4661716\n",
      " 8791700\n",
      "  583599\n",
      "  242390\n",
      "  153392\n"
     ]
    }
   ],
   "source": [
    "%%bash \n",
    "\n",
    "WGBS_dir=\"/Volumes/web/seashell/bu-mox/scrubbed/031520-TG-bs/Mcap_tg/dedup/\"\n",
    "\n",
    "for f in ${WGBS_dir}*.merged_CpG_evidence.cov \n",
    "do\n",
    "cat ${f} |\\\n",
    "awk -F\"\\t\" '{if($5+$6>=5)print $0}' |\\\n",
    "wc -l\n",
    "done"
   ]
  },
  {
   "cell_type": "code",
   "execution_count": 7,
   "metadata": {
    "scrolled": true
   },
   "outputs": [
    {
     "name": "stdout",
     "output_type": "stream",
     "text": [
      " 3173254\n",
      " 2648697\n",
      " 3176517\n"
     ]
    }
   ],
   "source": [
    "%%bash \n",
    "\n",
    "RRBS_dir=\"/Volumes/web/seashell/bu-mox/scrubbed/031520-TG-bs/Mcap_tg/nodedup/\"\n",
    "\n",
    "for f in ${RRBS_dir}*.merged_CpG_evidence.cov \n",
    "do\n",
    "cat ${f} |\\\n",
    "awk -F\"\\t\" '{if($5+$6>=5)print $0}' |\\\n",
    "wc -l\n",
    "done"
   ]
  },
  {
   "cell_type": "code",
   "execution_count": 8,
   "metadata": {},
   "outputs": [],
   "source": [
    "#awk -F\"\\t\" '{if($5>=10)print $0}' |\\\n",
    "#wc -l"
   ]
  },
  {
   "cell_type": "code",
   "execution_count": 9,
   "metadata": {},
   "outputs": [
    {
     "name": "stdout",
     "output_type": "stream",
     "text": [
      "  470893\n",
      "  479520\n",
      " 1756997\n",
      "   44091\n",
      "   21797\n",
      "   14818\n"
     ]
    }
   ],
   "source": [
    "%%bash \n",
    "\n",
    "WGBS_dir=\"/Volumes/web/seashell/bu-mox/scrubbed/031520-TG-bs/Mcap_tg/dedup/\"\n",
    "\n",
    "for f in ${WGBS_dir}*.merged_CpG_evidence.cov \n",
    "do\n",
    "cat ${f} |\\\n",
    "awk -F\"\\t\" '{if($5+$6>=10)print $0}' |\\\n",
    "wc -l\n",
    "done"
   ]
  },
  {
   "cell_type": "code",
   "execution_count": 10,
   "metadata": {},
   "outputs": [
    {
     "name": "stdout",
     "output_type": "stream",
     "text": [
      " 2945967\n",
      " 2310457\n",
      " 2874355\n"
     ]
    }
   ],
   "source": [
    "%%bash \n",
    "\n",
    "RRBS_dir=\"/Volumes/web/seashell/bu-mox/scrubbed/031520-TG-bs/Mcap_tg/nodedup/\"\n",
    "\n",
    "for f in ${RRBS_dir}*.merged_CpG_evidence.cov \n",
    "do\n",
    "cat ${f} |\\\n",
    "awk -F\"\\t\" '{if($5+$6>=10)print $0}' |\\\n",
    "wc -l\n",
    "done"
   ]
  },
  {
   "cell_type": "code",
   "execution_count": 11,
   "metadata": {},
   "outputs": [],
   "source": [
    "#awk -F\"\\t\" '{if($5>=15)print $0}' |\\\n",
    "#wc -l"
   ]
  },
  {
   "cell_type": "code",
   "execution_count": 12,
   "metadata": {},
   "outputs": [
    {
     "name": "stdout",
     "output_type": "stream",
     "text": [
      "   79376\n",
      "   75303\n",
      "  296590\n",
      "   19986\n",
      "   11001\n",
      "    7282\n"
     ]
    }
   ],
   "source": [
    "%%bash \n",
    "\n",
    "WGBS_dir=\"/Volumes/web/seashell/bu-mox/scrubbed/031520-TG-bs/Mcap_tg/dedup/\"\n",
    "\n",
    "for f in ${WGBS_dir}*.merged_CpG_evidence.cov \n",
    "do\n",
    "cat ${f} |\\\n",
    "awk -F\"\\t\" '{if($5+$6>=15)print $0}' |\\\n",
    "wc -l\n",
    "done"
   ]
  },
  {
   "cell_type": "code",
   "execution_count": 13,
   "metadata": {},
   "outputs": [
    {
     "name": "stdout",
     "output_type": "stream",
     "text": [
      " 2811084\n",
      " 2099968\n",
      " 2694750\n"
     ]
    }
   ],
   "source": [
    "%%bash \n",
    "\n",
    "RRBS_dir=\"/Volumes/web/seashell/bu-mox/scrubbed/031520-TG-bs/Mcap_tg/nodedup/\"\n",
    "\n",
    "for f in ${RRBS_dir}*.merged_CpG_evidence.cov \n",
    "do\n",
    "cat ${f} |\\\n",
    "awk -F\"\\t\" '{if($5+$6>=15)print $0}' |\\\n",
    "wc -l\n",
    "done"
   ]
  },
  {
   "cell_type": "code",
   "execution_count": 14,
   "metadata": {},
   "outputs": [],
   "source": [
    "#awk -F\"\\t\" '{if($5>=20)print $0}' |\\\n",
    "#wc -l"
   ]
  },
  {
   "cell_type": "code",
   "execution_count": 15,
   "metadata": {},
   "outputs": [
    {
     "name": "stdout",
     "output_type": "stream",
     "text": [
      "   32274\n",
      "   30276\n",
      "   87303\n",
      "   13029\n",
      "    7288\n",
      "    4733\n"
     ]
    }
   ],
   "source": [
    "%%bash \n",
    "\n",
    "WGBS_dir=\"/Volumes/web/seashell/bu-mox/scrubbed/031520-TG-bs/Mcap_tg/dedup/\"\n",
    "\n",
    "for f in ${WGBS_dir}*.merged_CpG_evidence.cov \n",
    "do\n",
    "cat ${f} |\\\n",
    "awk -F\"\\t\" '{if($5+$6>=20)print $0}' |\\\n",
    "wc -l\n",
    "done"
   ]
  },
  {
   "cell_type": "code",
   "execution_count": 16,
   "metadata": {},
   "outputs": [
    {
     "name": "stdout",
     "output_type": "stream",
     "text": [
      " 2686482\n",
      " 1942229\n",
      " 2535808\n"
     ]
    }
   ],
   "source": [
    "%%bash \n",
    "\n",
    "RRBS_dir=\"/Volumes/web/seashell/bu-mox/scrubbed/031520-TG-bs/Mcap_tg/nodedup/\"\n",
    "\n",
    "for f in ${RRBS_dir}*.merged_CpG_evidence.cov \n",
    "do\n",
    "cat ${f} |\\\n",
    "awk -F\"\\t\" '{if($5+$6>=20)print $0}' |\\\n",
    "wc -l\n",
    "done"
   ]
  },
  {
   "cell_type": "code",
   "execution_count": 17,
   "metadata": {},
   "outputs": [],
   "source": [
    "#awk -F\"\\t\" '{if($5>=25)print $0}' |\\\n",
    "#wc -l"
   ]
  },
  {
   "cell_type": "code",
   "execution_count": 18,
   "metadata": {},
   "outputs": [
    {
     "name": "stdout",
     "output_type": "stream",
     "text": [
      "   19789\n",
      "   19240\n",
      "   41752\n",
      "    9564\n",
      "    5366\n",
      "    3522\n"
     ]
    }
   ],
   "source": [
    "%%bash \n",
    "\n",
    "WGBS_dir=\"/Volumes/web/seashell/bu-mox/scrubbed/031520-TG-bs/Mcap_tg/dedup/\"\n",
    "\n",
    "for f in ${WGBS_dir}*.merged_CpG_evidence.cov \n",
    "do\n",
    "cat ${f} |\\\n",
    "awk -F\"\\t\" '{if($5+$6>=25)print $0}' |\\\n",
    "wc -l\n",
    "done"
   ]
  },
  {
   "cell_type": "code",
   "execution_count": 19,
   "metadata": {},
   "outputs": [
    {
     "name": "stdout",
     "output_type": "stream",
     "text": [
      " 2564890\n",
      " 1812099\n",
      " 2391647\n"
     ]
    }
   ],
   "source": [
    "%%bash \n",
    "\n",
    "RRBS_dir=\"/Volumes/web/seashell/bu-mox/scrubbed/031520-TG-bs/Mcap_tg/nodedup/\"\n",
    "\n",
    "for f in ${RRBS_dir}*.merged_CpG_evidence.cov \n",
    "do\n",
    "cat ${f} |\\\n",
    "awk -F\"\\t\" '{if($5+$6>=25)print $0}' |\\\n",
    "wc -l\n",
    "done"
   ]
  },
  {
   "cell_type": "code",
   "execution_count": 20,
   "metadata": {},
   "outputs": [],
   "source": [
    "#awk -F\"\\t\" '{if($5>=30)print $0}' |\\\n",
    "#wc -l"
   ]
  },
  {
   "cell_type": "code",
   "execution_count": 21,
   "metadata": {},
   "outputs": [
    {
     "name": "stdout",
     "output_type": "stream",
     "text": [
      "   14424\n",
      "   14584\n",
      "   25202\n",
      "    7666\n",
      "    4270\n",
      "    2745\n"
     ]
    }
   ],
   "source": [
    "%%bash \n",
    "\n",
    "WGBS_dir=\"/Volumes/web/seashell/bu-mox/scrubbed/031520-TG-bs/Mcap_tg/dedup/\"\n",
    "\n",
    "for f in ${WGBS_dir}*.merged_CpG_evidence.cov \n",
    "do\n",
    "cat ${f} |\\\n",
    "awk -F\"\\t\" '{if($5+$6>=30)print $0}' |\\\n",
    "wc -l\n",
    "done"
   ]
  },
  {
   "cell_type": "code",
   "execution_count": 22,
   "metadata": {},
   "outputs": [
    {
     "name": "stdout",
     "output_type": "stream",
     "text": [
      " 2447631\n",
      " 1697394\n",
      " 2263303\n"
     ]
    }
   ],
   "source": [
    "%%bash \n",
    "\n",
    "RRBS_dir=\"/Volumes/web/seashell/bu-mox/scrubbed/031520-TG-bs/Mcap_tg/nodedup/\"\n",
    "\n",
    "for f in ${RRBS_dir}*.merged_CpG_evidence.cov \n",
    "do\n",
    "cat ${f} |\\\n",
    "awk -F\"\\t\" '{if($5+$6>=30)print $0}' |\\\n",
    "wc -l\n",
    "done"
   ]
  },
  {
   "cell_type": "code",
   "execution_count": 23,
   "metadata": {},
   "outputs": [],
   "source": [
    "#awk -F\"\\t\" '{if($5>=40)print $0}' |\\\n",
    "#wc -l"
   ]
  },
  {
   "cell_type": "code",
   "execution_count": 24,
   "metadata": {},
   "outputs": [
    {
     "name": "stdout",
     "output_type": "stream",
     "text": [
      "    9982\n",
      "   10211\n",
      "   13894\n",
      "    5513\n",
      "    2924\n",
      "    1796\n"
     ]
    }
   ],
   "source": [
    "%%bash \n",
    "\n",
    "WGBS_dir=\"/Volumes/web/seashell/bu-mox/scrubbed/031520-TG-bs/Mcap_tg/dedup/\"\n",
    "\n",
    "for f in ${WGBS_dir}*.merged_CpG_evidence.cov \n",
    "do\n",
    "cat ${f} |\\\n",
    "awk -F\"\\t\" '{if($5+$6>=40)print $0}' |\\\n",
    "wc -l\n",
    "done"
   ]
  },
  {
   "cell_type": "code",
   "execution_count": 25,
   "metadata": {},
   "outputs": [
    {
     "name": "stdout",
     "output_type": "stream",
     "text": [
      " 2231012\n",
      " 1506938\n",
      " 2043748\n"
     ]
    }
   ],
   "source": [
    "%%bash \n",
    "\n",
    "RRBS_dir=\"/Volumes/web/seashell/bu-mox/scrubbed/031520-TG-bs/Mcap_tg/nodedup/\"\n",
    "\n",
    "for f in ${RRBS_dir}*.merged_CpG_evidence.cov \n",
    "do\n",
    "cat ${f} |\\\n",
    "awk -F\"\\t\" '{if($5+$6>=40)print $0}' |\\\n",
    "wc -l\n",
    "done"
   ]
  },
  {
   "cell_type": "code",
   "execution_count": 26,
   "metadata": {},
   "outputs": [],
   "source": [
    "#awk -F\"\\t\" '{if($5>=50)print $0}' |\\\n",
    "#wc -l"
   ]
  },
  {
   "cell_type": "code",
   "execution_count": 27,
   "metadata": {},
   "outputs": [
    {
     "name": "stdout",
     "output_type": "stream",
     "text": [
      "    7859\n",
      "    7953\n",
      "   10040\n",
      "    4513\n",
      "    2161\n",
      "    1320\n"
     ]
    }
   ],
   "source": [
    "%%bash \n",
    "\n",
    "WGBS_dir=\"/Volumes/web/seashell/bu-mox/scrubbed/031520-TG-bs/Mcap_tg/dedup/\"\n",
    "\n",
    "for f in ${WGBS_dir}*.merged_CpG_evidence.cov \n",
    "do\n",
    "cat ${f} |\\\n",
    "awk -F\"\\t\" '{if($5+$6>=50)print $0}' |\\\n",
    "wc -l\n",
    "done"
   ]
  },
  {
   "cell_type": "code",
   "execution_count": 28,
   "metadata": {},
   "outputs": [
    {
     "name": "stdout",
     "output_type": "stream",
     "text": [
      " 2033879\n",
      " 1344355\n",
      " 1859888\n"
     ]
    }
   ],
   "source": [
    "%%bash \n",
    "\n",
    "RRBS_dir=\"/Volumes/web/seashell/bu-mox/scrubbed/031520-TG-bs/Mcap_tg/nodedup/\"\n",
    "\n",
    "for f in ${RRBS_dir}*.merged_CpG_evidence.cov \n",
    "do\n",
    "cat ${f} |\\\n",
    "awk -F\"\\t\" '{if($5+$6>=50)print $0}' |\\\n",
    "wc -l\n",
    "done"
   ]
  },
  {
   "cell_type": "code",
   "execution_count": 29,
   "metadata": {},
   "outputs": [],
   "source": [
    "#awk -F\"\\t\" '{if($5>=60)print $0}' |\\\n",
    "#wc -l"
   ]
  },
  {
   "cell_type": "code",
   "execution_count": 30,
   "metadata": {},
   "outputs": [
    {
     "name": "stdout",
     "output_type": "stream",
     "text": [
      "    6500\n",
      "    6409\n",
      "    8117\n",
      "    3855\n",
      "    1688\n",
      "    1012\n"
     ]
    }
   ],
   "source": [
    "%%bash \n",
    "\n",
    "WGBS_dir=\"/Volumes/web/seashell/bu-mox/scrubbed/031520-TG-bs/Mcap_tg/dedup/\"\n",
    "\n",
    "for f in ${WGBS_dir}*.merged_CpG_evidence.cov \n",
    "do\n",
    "cat ${f} |\\\n",
    "awk -F\"\\t\" '{if($5+$6>=60)print $0}' |\\\n",
    "wc -l\n",
    "done"
   ]
  },
  {
   "cell_type": "code",
   "execution_count": 31,
   "metadata": {},
   "outputs": [
    {
     "name": "stdout",
     "output_type": "stream",
     "text": [
      " 1857931\n",
      " 1206597\n",
      " 1698840\n"
     ]
    }
   ],
   "source": [
    "%%bash \n",
    "\n",
    "RRBS_dir=\"/Volumes/web/seashell/bu-mox/scrubbed/031520-TG-bs/Mcap_tg/nodedup/\"\n",
    "\n",
    "for f in ${RRBS_dir}*.merged_CpG_evidence.cov \n",
    "do\n",
    "cat ${f} |\\\n",
    "awk -F\"\\t\" '{if($5+$6>=60)print $0}' |\\\n",
    "wc -l\n",
    "done"
   ]
  },
  {
   "cell_type": "code",
   "execution_count": 32,
   "metadata": {},
   "outputs": [],
   "source": [
    "#awk -F\"\\t\" '{if($5>=70)print $0}' |\\\n",
    "#wc -l"
   ]
  },
  {
   "cell_type": "code",
   "execution_count": 33,
   "metadata": {},
   "outputs": [
    {
     "name": "stdout",
     "output_type": "stream",
     "text": [
      "    5485\n",
      "    5374\n",
      "    6780\n",
      "    3333\n",
      "    1318\n",
      "     777\n"
     ]
    }
   ],
   "source": [
    "%%bash \n",
    "\n",
    "WGBS_dir=\"/Volumes/web/seashell/bu-mox/scrubbed/031520-TG-bs/Mcap_tg/dedup/\"\n",
    "\n",
    "for f in ${WGBS_dir}*.merged_CpG_evidence.cov \n",
    "do\n",
    "cat ${f} |\\\n",
    "awk -F\"\\t\" '{if($5+$6>=70)print $0}' |\\\n",
    "wc -l\n",
    "done"
   ]
  },
  {
   "cell_type": "code",
   "execution_count": 34,
   "metadata": {},
   "outputs": [
    {
     "name": "stdout",
     "output_type": "stream",
     "text": [
      " 1699788\n",
      " 1086454\n",
      " 1558973\n"
     ]
    }
   ],
   "source": [
    "%%bash \n",
    "\n",
    "RRBS_dir=\"/Volumes/web/seashell/bu-mox/scrubbed/031520-TG-bs/Mcap_tg/nodedup/\"\n",
    "\n",
    "for f in ${RRBS_dir}*.merged_CpG_evidence.cov \n",
    "do\n",
    "cat ${f} |\\\n",
    "awk -F\"\\t\" '{if($5+$6>=70)print $0}' |\\\n",
    "wc -l\n",
    "done"
   ]
  },
  {
   "cell_type": "code",
   "execution_count": 35,
   "metadata": {},
   "outputs": [],
   "source": [
    "#awk -F\"\\t\" '{if($5>=80)print $0}' |\\\n",
    "#wc -l"
   ]
  },
  {
   "cell_type": "code",
   "execution_count": 36,
   "metadata": {},
   "outputs": [
    {
     "name": "stdout",
     "output_type": "stream",
     "text": [
      "    4747\n",
      "    4600\n",
      "    5904\n",
      "    2951\n",
      "    1043\n",
      "     615\n"
     ]
    }
   ],
   "source": [
    "%%bash \n",
    "\n",
    "WGBS_dir=\"/Volumes/web/seashell/bu-mox/scrubbed/031520-TG-bs/Mcap_tg/dedup/\"\n",
    "\n",
    "for f in ${WGBS_dir}*.merged_CpG_evidence.cov \n",
    "do\n",
    "cat ${f} |\\\n",
    "awk -F\"\\t\" '{if($5+$6>=80)print $0}' |\\\n",
    "wc -l\n",
    "done"
   ]
  },
  {
   "cell_type": "code",
   "execution_count": 37,
   "metadata": {},
   "outputs": [
    {
     "name": "stdout",
     "output_type": "stream",
     "text": [
      " 1558107\n",
      "  979205\n",
      " 1433608\n"
     ]
    }
   ],
   "source": [
    "%%bash \n",
    "\n",
    "RRBS_dir=\"/Volumes/web/seashell/bu-mox/scrubbed/031520-TG-bs/Mcap_tg/nodedup/\"\n",
    "\n",
    "for f in ${RRBS_dir}*.merged_CpG_evidence.cov \n",
    "do\n",
    "cat ${f} |\\\n",
    "awk -F\"\\t\" '{if($5+$6>=80)print $0}' |\\\n",
    "wc -l\n",
    "done"
   ]
  },
  {
   "cell_type": "code",
   "execution_count": 38,
   "metadata": {},
   "outputs": [],
   "source": [
    "#awk -F\"\\t\" '{if($5>=90)print $0}' |\\\n",
    "#wc -l"
   ]
  },
  {
   "cell_type": "code",
   "execution_count": 39,
   "metadata": {},
   "outputs": [
    {
     "name": "stdout",
     "output_type": "stream",
     "text": [
      "    4225\n",
      "    4007\n",
      "    5225\n",
      "    2595\n",
      "     856\n",
      "     491\n"
     ]
    }
   ],
   "source": [
    "%%bash \n",
    "\n",
    "WGBS_dir=\"/Volumes/web/seashell/bu-mox/scrubbed/031520-TG-bs/Mcap_tg/dedup/\"\n",
    "\n",
    "for f in ${WGBS_dir}*.merged_CpG_evidence.cov \n",
    "do\n",
    "cat ${f} |\\\n",
    "awk -F\"\\t\" '{if($5+$6>=90)print $0}' |\\\n",
    "wc -l\n",
    "done"
   ]
  },
  {
   "cell_type": "code",
   "execution_count": 40,
   "metadata": {},
   "outputs": [
    {
     "name": "stdout",
     "output_type": "stream",
     "text": [
      " 1429604\n",
      "  883391\n",
      " 1321009\n"
     ]
    }
   ],
   "source": [
    "%%bash \n",
    "\n",
    "RRBS_dir=\"/Volumes/web/seashell/bu-mox/scrubbed/031520-TG-bs/Mcap_tg/nodedup/\"\n",
    "\n",
    "for f in ${RRBS_dir}*.merged_CpG_evidence.cov \n",
    "do\n",
    "cat ${f} |\\\n",
    "awk -F\"\\t\" '{if($5+$6>=90)print $0}' |\\\n",
    "wc -l\n",
    "done"
   ]
  },
  {
   "cell_type": "code",
   "execution_count": 41,
   "metadata": {},
   "outputs": [],
   "source": [
    "#awk -F\"\\t\" '{if($5>=100)print $0}' |\\\n",
    "#wc -l"
   ]
  },
  {
   "cell_type": "code",
   "execution_count": 42,
   "metadata": {},
   "outputs": [
    {
     "name": "stdout",
     "output_type": "stream",
     "text": [
      "    3713\n",
      "    3529\n",
      "    4651\n",
      "    2296\n",
      "     721\n",
      "     387\n"
     ]
    }
   ],
   "source": [
    "%%bash \n",
    "\n",
    "WGBS_dir=\"/Volumes/web/seashell/bu-mox/scrubbed/031520-TG-bs/Mcap_tg/dedup/\"\n",
    "\n",
    "for f in ${WGBS_dir}*.merged_CpG_evidence.cov \n",
    "do\n",
    "cat ${f} |\\\n",
    "awk -F\"\\t\" '{if($5+$6>=100)print $0}' |\\\n",
    "wc -l\n",
    "done"
   ]
  },
  {
   "cell_type": "code",
   "execution_count": 43,
   "metadata": {},
   "outputs": [
    {
     "name": "stdout",
     "output_type": "stream",
     "text": [
      " 1313011\n",
      "  795353\n",
      " 1219871\n"
     ]
    }
   ],
   "source": [
    "%%bash \n",
    "\n",
    "RRBS_dir=\"/Volumes/web/seashell/bu-mox/scrubbed/031520-TG-bs/Mcap_tg/nodedup/\"\n",
    "\n",
    "for f in ${RRBS_dir}*.merged_CpG_evidence.cov \n",
    "do\n",
    "cat ${f} |\\\n",
    "awk -F\"\\t\" '{if($5+$6>=100)print $0}' |\\\n",
    "wc -l\n",
    "done"
   ]
  },
  {
   "cell_type": "code",
   "execution_count": 44,
   "metadata": {},
   "outputs": [],
   "source": [
    "#count the number of CpGs covered at different depths"
   ]
  },
  {
   "cell_type": "code",
   "execution_count": 46,
   "metadata": {},
   "outputs": [],
   "source": [
    "#Now do the same thing for the pooled data"
   ]
  },
  {
   "cell_type": "code",
   "execution_count": 47,
   "metadata": {},
   "outputs": [],
   "source": [
    "# dir for WGBS, RRBS, and MBD /Volumes/web/metacarcinus/FROGER_meth_compare/20200725"
   ]
  },
  {
   "cell_type": "code",
   "execution_count": 1,
   "metadata": {
    "scrolled": true
   },
   "outputs": [
    {
     "name": "stdout",
     "output_type": "stream",
     "text": [
      " 16562834 /Volumes/web/metacarcinus/FROGER_meth_compare/20200725/Mcap_MBD_100M_R1_001_val_1_bismark_bt2_pe.CpG_report.merged_CpG_evidence.cov\n",
      " 17510872 /Volumes/web/metacarcinus/FROGER_meth_compare/20200725/Mcap_MBD_150M_R1_001_val_1_bismark_bt2_pe.CpG_report.merged_CpG_evidence.cov\n",
      " 18065510 /Volumes/web/metacarcinus/FROGER_meth_compare/20200725/Mcap_MBD_200M_R1_001_val_1_bismark_bt2_pe.CpG_report.merged_CpG_evidence.cov\n",
      " 14392767 /Volumes/web/metacarcinus/FROGER_meth_compare/20200725/Mcap_MBD_50M_R1_001_val_1_bismark_bt2_pe.CpG_report.merged_CpG_evidence.cov\n",
      " 5702605 /Volumes/web/metacarcinus/FROGER_meth_compare/20200725/Mcap_RRBS_100M_R1_001_val_1_bismark_bt2_pe.CpG_report.merged_CpG_evidence.cov\n",
      " 6270698 /Volumes/web/metacarcinus/FROGER_meth_compare/20200725/Mcap_RRBS_150M_R1_001_val_1_bismark_bt2_pe.CpG_report.merged_CpG_evidence.cov\n",
      " 6695303 /Volumes/web/metacarcinus/FROGER_meth_compare/20200725/Mcap_RRBS_200M_R1_001_val_1_bismark_bt2_pe.CpG_report.merged_CpG_evidence.cov\n",
      " 4893274 /Volumes/web/metacarcinus/FROGER_meth_compare/20200725/Mcap_RRBS_50M_R1_001_val_1_bismark_bt2_pe.CpG_report.merged_CpG_evidence.cov\n",
      " 22790297 /Volumes/web/metacarcinus/FROGER_meth_compare/20200725/Mcap_WGBS_100M_R1_001_val_1_bismark_bt2_pe.CpG_report.merged_CpG_evidence.cov\n",
      " 23592456 /Volumes/web/metacarcinus/FROGER_meth_compare/20200725/Mcap_WGBS_150M_R1_001_val_1_bismark_bt2_pe.CpG_report.merged_CpG_evidence.cov\n",
      " 24041242 /Volumes/web/metacarcinus/FROGER_meth_compare/20200725/Mcap_WGBS_200M_R1_001_val_1_bismark_bt2_pe.CpG_report.merged_CpG_evidence.cov\n",
      " 20754816 /Volumes/web/metacarcinus/FROGER_meth_compare/20200725/Mcap_WGBS_50M_R1_001_val_1_bismark_bt2_pe.CpG_report.merged_CpG_evidence.cov\n"
     ]
    }
   ],
   "source": [
    "%%bash \n",
    "\n",
    "WGBS_dir=\"/Volumes/web/metacarcinus/FROGER_meth_compare/20200725/\"\n",
    "\n",
    "for f in ${WGBS_dir}*.merged_CpG_evidence.cov \n",
    "do\n",
    "wc -l ${f}\n",
    "done\n"
   ]
  },
  {
   "cell_type": "code",
   "execution_count": 18,
   "metadata": {},
   "outputs": [],
   "source": [
    "#filter for CpGs with 5x coverage\n",
    "\n",
    "#awk -F\"\\t\" '{if($5+$6>=5)print $0}' |\\\n",
    "#wc -l"
   ]
  },
  {
   "cell_type": "code",
   "execution_count": 19,
   "metadata": {},
   "outputs": [
    {
     "name": "stdout",
     "output_type": "stream",
     "text": [
      " 1912201\n",
      " 2607543\n",
      " 3097108\n",
      "  882882\n",
      " 3611545\n",
      " 3792029\n",
      " 3941810\n",
      " 3273240\n",
      " 12095327\n",
      " 14552524\n",
      " 15936475\n",
      " 6784950\n"
     ]
    }
   ],
   "source": [
    "%%bash \n",
    "\n",
    "WGBS_dir=\"/Volumes/web/metacarcinus/FROGER_meth_compare/20200725/\"\n",
    "\n",
    "for f in ${WGBS_dir}*.merged_CpG_evidence.cov \n",
    "do\n",
    "cat ${f} |\\\n",
    "awk -F\"\\t\" '{if($5+$6>=5)print $0}' |\\\n",
    "wc -l\n",
    "done"
   ]
  },
  {
   "cell_type": "code",
   "execution_count": 20,
   "metadata": {},
   "outputs": [],
   "source": [
    "#awk -F\"\\t\" '{if($5>=10)print $0}' |\\\n",
    "#wc -l"
   ]
  },
  {
   "cell_type": "code",
   "execution_count": 21,
   "metadata": {},
   "outputs": [
    {
     "name": "stdout",
     "output_type": "stream",
     "text": [
      "  135505\n",
      "  214624\n",
      "  283967\n",
      "   55212\n",
      " 3260182\n",
      " 3464432\n",
      " 3587506\n",
      " 2784717\n",
      " 4167119\n",
      " 6806583\n",
      " 8620643\n",
      "  974608\n"
     ]
    }
   ],
   "source": [
    "%%bash \n",
    "\n",
    "WGBS_dir=\"/Volumes/web/metacarcinus/FROGER_meth_compare/20200725/\"\n",
    "\n",
    "for f in ${WGBS_dir}*.merged_CpG_evidence.cov \n",
    "do\n",
    "cat ${f} |\\\n",
    "awk -F\"\\t\" '{if($5+$6>=10)print $0}' |\\\n",
    "wc -l\n",
    "done"
   ]
  },
  {
   "cell_type": "code",
   "execution_count": 22,
   "metadata": {},
   "outputs": [],
   "source": [
    "#awk -F\"\\t\" '{if($5>=15)print $0}' |\\\n",
    "#wc -l"
   ]
  },
  {
   "cell_type": "code",
   "execution_count": 23,
   "metadata": {},
   "outputs": [
    {
     "name": "stdout",
     "output_type": "stream",
     "text": [
      "   39728\n",
      "   55241\n",
      "   69316\n",
      "   21941\n",
      " 3000584\n",
      " 3257912\n",
      " 3405001\n",
      " 2411118\n",
      " 1065603\n",
      " 2481858\n",
      " 3816808\n",
      "  141688\n"
     ]
    }
   ],
   "source": [
    "%%bash \n",
    "\n",
    "WGBS_dir=\"/Volumes/web/metacarcinus/FROGER_meth_compare/20200725/\"\n",
    "\n",
    "for f in ${WGBS_dir}*.merged_CpG_evidence.cov \n",
    "do\n",
    "cat ${f} |\\\n",
    "awk -F\"\\t\" '{if($5+$6>=15)print $0}' |\\\n",
    "wc -l\n",
    "done"
   ]
  },
  {
   "cell_type": "code",
   "execution_count": 24,
   "metadata": {},
   "outputs": [],
   "source": [
    "#awk -F\"\\t\" '{if($5>=20)print $0}' |\\\n",
    "#wc -l"
   ]
  },
  {
   "cell_type": "code",
   "execution_count": 25,
   "metadata": {},
   "outputs": [
    {
     "name": "stdout",
     "output_type": "stream",
     "text": [
      "   23214\n",
      "   30319\n",
      "   36500\n",
      "   14173\n",
      " 2773250\n",
      " 3078509\n",
      " 3255162\n",
      " 2116923\n",
      "  273868\n",
      "  782084\n",
      " 1429606\n",
      "   44252\n"
     ]
    }
   ],
   "source": [
    "%%bash \n",
    "\n",
    "WGBS_dir=\"/Volumes/web/metacarcinus/FROGER_meth_compare/20200725/\"\n",
    "\n",
    "for f in ${WGBS_dir}*.merged_CpG_evidence.cov \n",
    "do\n",
    "cat ${f} |\\\n",
    "awk -F\"\\t\" '{if($5+$6>=20)print $0}' |\\\n",
    "wc -l\n",
    "done"
   ]
  },
  {
   "cell_type": "code",
   "execution_count": 26,
   "metadata": {},
   "outputs": [],
   "source": [
    "#awk -F\"\\t\" '{if($5>=25)print $0}' |\\\n",
    "#wc -l"
   ]
  },
  {
   "cell_type": "code",
   "execution_count": 27,
   "metadata": {},
   "outputs": [
    {
     "name": "stdout",
     "output_type": "stream",
     "text": [
      "   16765\n",
      "   21289\n",
      "   24969\n",
      "   10417\n",
      " 2573681\n",
      " 2917994\n",
      " 3120392\n",
      " 1881661\n",
      "   99938\n",
      "  266146\n",
      "  518064\n",
      "   24397\n"
     ]
    }
   ],
   "source": [
    "%%bash \n",
    "\n",
    "WGBS_dir=\"/Volumes/web/metacarcinus/FROGER_meth_compare/20200725/\"\n",
    "\n",
    "for f in ${WGBS_dir}*.merged_CpG_evidence.cov \n",
    "do\n",
    "cat ${f} |\\\n",
    "awk -F\"\\t\" '{if($5+$6>=25)print $0}' |\\\n",
    "wc -l\n",
    "done"
   ]
  },
  {
   "cell_type": "code",
   "execution_count": 28,
   "metadata": {},
   "outputs": [],
   "source": [
    "#awk -F\"\\t\" '{if($5>=30)print $0}' |\\\n",
    "#wc -l"
   ]
  },
  {
   "cell_type": "code",
   "execution_count": 29,
   "metadata": {},
   "outputs": [
    {
     "name": "stdout",
     "output_type": "stream",
     "text": [
      "   12960\n",
      "   16535\n",
      "   19285\n",
      "    8266\n",
      " 2398016\n",
      " 2771225\n",
      " 2994931\n",
      " 1688634\n",
      "   51800\n",
      "  117480\n",
      "  216003\n",
      "   17270\n"
     ]
    }
   ],
   "source": [
    "%%bash \n",
    "\n",
    "WGBS_dir=\"/Volumes/web/metacarcinus/FROGER_meth_compare/20200725/\"\n",
    "\n",
    "for f in ${WGBS_dir}*.merged_CpG_evidence.cov \n",
    "do\n",
    "cat ${f} |\\\n",
    "awk -F\"\\t\" '{if($5+$6>=30)print $0}' |\\\n",
    "wc -l\n",
    "done"
   ]
  },
  {
   "cell_type": "code",
   "execution_count": 30,
   "metadata": {},
   "outputs": [],
   "source": [
    "#awk -F\"\\t\" '{if($5>=40)print $0}' |\\\n",
    "#wc -l"
   ]
  },
  {
   "cell_type": "code",
   "execution_count": 31,
   "metadata": {},
   "outputs": [
    {
     "name": "stdout",
     "output_type": "stream",
     "text": [
      "    8915\n",
      "   11203\n",
      "   12920\n",
      "    5749\n",
      " 2106067\n",
      " 2509505\n",
      " 2768226\n",
      " 1384388\n",
      "   24637\n",
      "   44291\n",
      "   69222\n",
      "   11936\n"
     ]
    }
   ],
   "source": [
    "%%bash \n",
    "\n",
    "WGBS_dir=\"/Volumes/web/metacarcinus/FROGER_meth_compare/20200725/\"\n",
    "\n",
    "for f in ${WGBS_dir}*.merged_CpG_evidence.cov \n",
    "do\n",
    "cat ${f} |\\\n",
    "awk -F\"\\t\" '{if($5+$6>=40)print $0}' |\\\n",
    "wc -l\n",
    "done"
   ]
  },
  {
   "cell_type": "code",
   "execution_count": 32,
   "metadata": {},
   "outputs": [],
   "source": [
    "#awk -F\"\\t\" '{if($5>=50)print $0}' |\\\n",
    "#wc -l"
   ]
  },
  {
   "cell_type": "code",
   "execution_count": 33,
   "metadata": {},
   "outputs": [
    {
     "name": "stdout",
     "output_type": "stream",
     "text": [
      "    6802\n",
      "    8490\n",
      "    9764\n",
      "    4170\n",
      " 1871857\n",
      " 2290177\n",
      " 2568601\n",
      " 1152360\n",
      "   16911\n",
      "   25836\n",
      "   36702\n",
      "    9305\n"
     ]
    }
   ],
   "source": [
    "%%bash \n",
    "\n",
    "WGBS_dir=\"/Volumes/web/metacarcinus/FROGER_meth_compare/20200725/\"\n",
    "\n",
    "for f in ${WGBS_dir}*.merged_CpG_evidence.cov \n",
    "do\n",
    "cat ${f} |\\\n",
    "awk -F\"\\t\" '{if($5+$6>=50)print $0}' |\\\n",
    "wc -l\n",
    "done"
   ]
  },
  {
   "cell_type": "code",
   "execution_count": 34,
   "metadata": {},
   "outputs": [],
   "source": [
    "#I did not do estimates for CpGs covered above 50x because the coverage is so low and doesn't help in the visualization"
   ]
  }
 ],
 "metadata": {
  "kernelspec": {
   "display_name": "Python 3",
   "language": "python",
   "name": "python3"
  },
  "language_info": {
   "codemirror_mode": {
    "name": "ipython",
    "version": 3
   },
   "file_extension": ".py",
   "mimetype": "text/x-python",
   "name": "python",
   "nbconvert_exporter": "python",
   "pygments_lexer": "ipython3",
   "version": "3.6.8"
  }
 },
 "nbformat": 4,
 "nbformat_minor": 4
}
