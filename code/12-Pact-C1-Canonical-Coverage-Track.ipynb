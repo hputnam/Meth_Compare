{
 "cells": [
  {
   "cell_type": "markdown",
   "metadata": {},
   "source": [
    "Here we want to take all 9 5x bedgraphs for a genome and develop a bed file that represent total coverage. "
   ]
  },
  {
   "cell_type": "code",
   "execution_count": 2,
   "metadata": {
    "ExecuteTime": {
     "end_time": "2020-04-01T21:09:21.351622Z",
     "start_time": "2020-04-01T21:09:21.333517Z"
    }
   },
   "outputs": [
    {
     "name": "stdout",
     "output_type": "stream",
     "text": [
      "/Users/sr320/Documents/GitHub/Meth_Compare/data\n"
     ]
    }
   ],
   "source": [
    "cd ../data/\n"
   ]
  },
  {
   "cell_type": "code",
   "execution_count": 8,
   "metadata": {
    "ExecuteTime": {
     "end_time": "2020-04-01T21:20:38.747647Z",
     "start_time": "2020-04-01T21:20:38.592992Z"
    }
   },
   "outputs": [
    {
     "name": "stdout",
     "output_type": "stream",
     "text": [
      "Meth10_R1_001_val_1_bismark_bt2_pe._5x.bedgraph\r\n",
      "Meth11_R1_001_val_1_bismark_bt2_pe._5x.bedgraph\r\n",
      "Meth12_R1_001_val_1_bismark_bt2_pe._5x.bedgraph\r\n",
      "Meth13_R1_001_val_1_bismark_bt2_pe._5x.bedgraph\r\n",
      "Meth14_R1_001_val_1_bismark_bt2_pe._5x.bedgraph\r\n",
      "Meth15_R1_001_val_1_bismark_bt2_pe._5x.bedgraph\r\n",
      "Meth16_R1_001_val_1_bismark_bt2_pe._5x.bedgraph\r\n",
      "Meth17_R1_001_val_1_bismark_bt2_pe._5x.bedgraph\r\n",
      "Meth18_R1_001_val_1_bismark_bt2_pe._5x.bedgraph\r\n",
      "Meth1_R1_001_val_1_bismark_bt2_pe._5x.bedgraph\r\n",
      "Meth2_R1_001_val_1_bismark_bt2_pe._5x.bedgraph\r\n",
      "Meth3_R1_001_val_1_bismark_bt2_pe._5x.bedgraph\r\n",
      "Meth7_R1_001_val_1_bismark_bt2_pe._5x.bedgraph\r\n",
      "Meth8_R1_001_val_1_bismark_bt2_pe._5x.bedgraph\r\n",
      "Meth9_R1_001_val_1_bismark_bt2_pe._5x.bedgraph\r\n"
     ]
    }
   ],
   "source": [
    "ls"
   ]
  },
  {
   "cell_type": "code",
   "execution_count": 9,
   "metadata": {
    "ExecuteTime": {
     "end_time": "2020-04-01T21:21:13.063932Z",
     "start_time": "2020-04-01T21:21:12.918966Z"
    }
   },
   "outputs": [],
   "source": [
    "mkdir Pact_C1"
   ]
  },
  {
   "cell_type": "code",
   "execution_count": 10,
   "metadata": {
    "ExecuteTime": {
     "end_time": "2020-04-01T21:21:19.310372Z",
     "start_time": "2020-04-01T21:21:19.281620Z"
    }
   },
   "outputs": [
    {
     "name": "stdout",
     "output_type": "stream",
     "text": [
      "/Users/sr320/Documents/GitHub/Meth_Compare/data/Pact_C1\n"
     ]
    }
   ],
   "source": [
    "cd Pact_C1/"
   ]
  },
  {
   "cell_type": "code",
   "execution_count": 20,
   "metadata": {
    "ExecuteTime": {
     "end_time": "2020-04-01T21:32:43.308581Z",
     "start_time": "2020-04-01T21:32:43.125577Z"
    }
   },
   "outputs": [],
   "source": [
    "rm Meth*"
   ]
  },
  {
   "cell_type": "code",
   "execution_count": 25,
   "metadata": {
    "ExecuteTime": {
     "end_time": "2020-04-01T22:55:59.675693Z",
     "start_time": "2020-04-01T22:51:13.798330Z"
    },
    "scrolled": true
   },
   "outputs": [
    {
     "name": "stdout",
     "output_type": "stream",
     "text": [
      "--2020-04-01 15:51:13--  https://gannet.fish.washington.edu/seashell/bu-mox/scrubbed/032320-Pact-C1/Pact_C1/dedup/\n",
      "Resolving gannet.fish.washington.edu (gannet.fish.washington.edu)... 128.95.149.52\n",
      "Connecting to gannet.fish.washington.edu (gannet.fish.washington.edu)|128.95.149.52|:443... connected.\n",
      "HTTP request sent, awaiting response... 200 OK\n",
      "Length: unspecified [text/html]\n",
      "Saving to: ‘./index.html.tmp’\n",
      "\n",
      "index.html.tmp          [    <=>             ]  60.11K  62.1KB/s    in 1.0s    \n",
      "\n",
      "2020-04-01 15:51:18 (62.1 KB/s) - ‘./index.html.tmp’ saved [61554]\n",
      "\n",
      "Loading robots.txt; please ignore errors.\n",
      "--2020-04-01 15:51:18--  https://gannet.fish.washington.edu/robots.txt\n",
      "Reusing existing connection to gannet.fish.washington.edu:443.\n",
      "HTTP request sent, awaiting response... 404 Not Found\n",
      "2020-04-01 15:51:19 ERROR 404: Not Found.\n",
      "\n",
      "Removing ./index.html.tmp since it should be rejected.\n",
      "\n",
      "--2020-04-01 15:51:19--  https://gannet.fish.washington.edu/seashell/bu-mox/scrubbed/032320-Pact-C1/Pact_C1/dedup/?C=N;O=D\n",
      "Reusing existing connection to gannet.fish.washington.edu:443.\n",
      "HTTP request sent, awaiting response... 200 OK\n",
      "Length: unspecified [text/html]\n",
      "Saving to: ‘./index.html?C=N;O=D.tmp’\n",
      "\n",
      "index.html?C=N;O=D.     [   <=>              ]  60.11K  93.7KB/s    in 0.6s    \n",
      "\n",
      "2020-04-01 15:51:21 (93.7 KB/s) - ‘./index.html?C=N;O=D.tmp’ saved [61554]\n",
      "\n",
      "Removing ./index.html?C=N;O=D.tmp since it should be rejected.\n",
      "\n",
      "--2020-04-01 15:51:21--  https://gannet.fish.washington.edu/seashell/bu-mox/scrubbed/032320-Pact-C1/Pact_C1/dedup/?C=M;O=A\n",
      "Reusing existing connection to gannet.fish.washington.edu:443.\n",
      "HTTP request sent, awaiting response... 200 OK\n",
      "Length: unspecified [text/html]\n",
      "Saving to: ‘./index.html?C=M;O=A.tmp’\n",
      "\n",
      "index.html?C=M;O=A.     [   <=>              ]  60.11K   102KB/s    in 0.6s    \n",
      "\n",
      "2020-04-01 15:51:24 (102 KB/s) - ‘./index.html?C=M;O=A.tmp’ saved [61554]\n",
      "\n",
      "Removing ./index.html?C=M;O=A.tmp since it should be rejected.\n",
      "\n",
      "--2020-04-01 15:51:24--  https://gannet.fish.washington.edu/seashell/bu-mox/scrubbed/032320-Pact-C1/Pact_C1/dedup/?C=S;O=A\n",
      "Reusing existing connection to gannet.fish.washington.edu:443.\n",
      "HTTP request sent, awaiting response... 200 OK\n",
      "Length: unspecified [text/html]\n",
      "Saving to: ‘./index.html?C=S;O=A.tmp’\n",
      "\n",
      "index.html?C=S;O=A.     [   <=>              ]  60.11K   108KB/s    in 0.6s    \n",
      "\n",
      "2020-04-01 15:51:26 (108 KB/s) - ‘./index.html?C=S;O=A.tmp’ saved [61554]\n",
      "\n",
      "Removing ./index.html?C=S;O=A.tmp since it should be rejected.\n",
      "\n",
      "--2020-04-01 15:51:26--  https://gannet.fish.washington.edu/seashell/bu-mox/scrubbed/032320-Pact-C1/Pact_C1/dedup/?C=D;O=A\n",
      "Reusing existing connection to gannet.fish.washington.edu:443.\n",
      "HTTP request sent, awaiting response... 200 OK\n",
      "Length: unspecified [text/html]\n",
      "Saving to: ‘./index.html?C=D;O=A.tmp’\n",
      "\n",
      "index.html?C=D;O=A.     [   <=>              ]  60.11K  92.3KB/s    in 0.7s    \n",
      "\n",
      "2020-04-01 15:51:29 (92.3 KB/s) - ‘./index.html?C=D;O=A.tmp’ saved [61554]\n",
      "\n",
      "Removing ./index.html?C=D;O=A.tmp since it should be rejected.\n",
      "\n",
      "--2020-04-01 15:51:29--  https://gannet.fish.washington.edu/seashell/bu-mox/scrubbed/032320-Pact-C1/Pact_C1/dedup/Meth1_R1_001_val_1_bismark_bt2_pe._5x.bedgraph\n",
      "Reusing existing connection to gannet.fish.washington.edu:443.\n",
      "HTTP request sent, awaiting response... 200 OK\n",
      "Length: 6809520 (6.5M)\n",
      "Saving to: ‘./Meth1_R1_001_val_1_bismark_bt2_pe._5x.bedgraph’\n",
      "\n",
      "Meth1_R1_001_val_1_ 100%[===================>]   6.49M   948KB/s    in 9.1s    \n",
      "\n",
      "2020-04-01 15:51:38 (732 KB/s) - ‘./Meth1_R1_001_val_1_bismark_bt2_pe._5x.bedgraph’ saved [6809520/6809520]\n",
      "\n",
      "--2020-04-01 15:51:38--  https://gannet.fish.washington.edu/seashell/bu-mox/scrubbed/032320-Pact-C1/Pact_C1/dedup/Meth2_R1_001_val_1_bismark_bt2_pe._5x.bedgraph\n",
      "Reusing existing connection to gannet.fish.washington.edu:443.\n",
      "HTTP request sent, awaiting response... 200 OK\n",
      "Length: 836860 (817K)\n",
      "Saving to: ‘./Meth2_R1_001_val_1_bismark_bt2_pe._5x.bedgraph’\n",
      "\n",
      "Meth2_R1_001_val_1_ 100%[===================>] 817.25K   697KB/s    in 1.2s    \n",
      "\n",
      "2020-04-01 15:51:40 (697 KB/s) - ‘./Meth2_R1_001_val_1_bismark_bt2_pe._5x.bedgraph’ saved [836860/836860]\n",
      "\n",
      "--2020-04-01 15:51:40--  https://gannet.fish.washington.edu/seashell/bu-mox/scrubbed/032320-Pact-C1/Pact_C1/dedup/Meth3_R1_001_val_1_bismark_bt2_pe._5x.bedgraph\n",
      "Reusing existing connection to gannet.fish.washington.edu:443.\n",
      "HTTP request sent, awaiting response... 200 OK\n",
      "Length: 817401 (798K)\n",
      "Saving to: ‘./Meth3_R1_001_val_1_bismark_bt2_pe._5x.bedgraph’\n",
      "\n",
      "Meth3_R1_001_val_1_ 100%[===================>] 798.24K   620KB/s    in 1.3s    \n",
      "\n",
      "2020-04-01 15:51:41 (620 KB/s) - ‘./Meth3_R1_001_val_1_bismark_bt2_pe._5x.bedgraph’ saved [817401/817401]\n",
      "\n",
      "--2020-04-01 15:51:41--  https://gannet.fish.washington.edu/seashell/bu-mox/scrubbed/032320-Pact-C1/Pact_C1/dedup/Meth7_R1_001_val_1_bismark_bt2_pe._5x.bedgraph\n",
      "Reusing existing connection to gannet.fish.washington.edu:443.\n",
      "HTTP request sent, awaiting response... 200 OK\n",
      "Length: 39853919 (38M)\n",
      "Saving to: ‘./Meth7_R1_001_val_1_bismark_bt2_pe._5x.bedgraph’\n",
      "\n",
      "Meth7_R1_001_val_1_ 100%[===================>]  38.01M   969KB/s    in 47s     \n",
      "\n",
      "2020-04-01 15:52:28 (828 KB/s) - ‘./Meth7_R1_001_val_1_bismark_bt2_pe._5x.bedgraph’ saved [39853919/39853919]\n",
      "\n",
      "--2020-04-01 15:52:29--  https://gannet.fish.washington.edu/seashell/bu-mox/scrubbed/032320-Pact-C1/Pact_C1/dedup/Meth8_R1_001_val_1_bismark_bt2_pe._5x.bedgraph\n",
      "Reusing existing connection to gannet.fish.washington.edu:443.\n",
      "HTTP request sent, awaiting response... 200 OK\n",
      "Length: 150977125 (144M)\n",
      "Saving to: ‘./Meth8_R1_001_val_1_bismark_bt2_pe._5x.bedgraph’\n",
      "\n",
      "Meth8_R1_001_val_1_ 100%[===================>] 143.98M   939KB/s    in 2m 49s  \n",
      "\n",
      "2020-04-01 15:55:18 (872 KB/s) - ‘./Meth8_R1_001_val_1_bismark_bt2_pe._5x.bedgraph’ saved [150977125/150977125]\n",
      "\n",
      "--2020-04-01 15:55:19--  https://gannet.fish.washington.edu/seashell/bu-mox/scrubbed/032320-Pact-C1/Pact_C1/dedup/Meth9_R1_001_val_1_bismark_bt2_pe._5x.bedgraph\n",
      "Reusing existing connection to gannet.fish.washington.edu:443.\n",
      "HTTP request sent, awaiting response... 200 OK\n",
      "Length: 22820182 (22M)\n",
      "Saving to: ‘./Meth9_R1_001_val_1_bismark_bt2_pe._5x.bedgraph’\n",
      "\n",
      "Meth9_R1_001_val_1_ 100%[===================>]  21.76M   757KB/s    in 30s     \n",
      "\n",
      "2020-04-01 15:55:49 (755 KB/s) - ‘./Meth9_R1_001_val_1_bismark_bt2_pe._5x.bedgraph’ saved [22820182/22820182]\n",
      "\n",
      "--2020-04-01 15:55:49--  https://gannet.fish.washington.edu/seashell/bu-mox/scrubbed/032320-Pact-C1/Pact_C1/dedup/?C=N;O=A\n",
      "Reusing existing connection to gannet.fish.washington.edu:443.\n",
      "HTTP request sent, awaiting response... 200 OK\n",
      "Length: unspecified [text/html]\n",
      "Saving to: ‘./index.html?C=N;O=A.tmp’\n",
      "\n",
      "index.html?C=N;O=A.     [  <=>               ]  60.11K   178KB/s    in 0.3s    \n",
      "\n",
      "2020-04-01 15:55:51 (178 KB/s) - ‘./index.html?C=N;O=A.tmp’ saved [61554]\n",
      "\n",
      "Removing ./index.html?C=N;O=A.tmp since it should be rejected.\n",
      "\n",
      "--2020-04-01 15:55:51--  https://gannet.fish.washington.edu/seashell/bu-mox/scrubbed/032320-Pact-C1/Pact_C1/dedup/?C=M;O=D\n",
      "Reusing existing connection to gannet.fish.washington.edu:443.\n",
      "HTTP request sent, awaiting response... 200 OK\n",
      "Length: unspecified [text/html]\n",
      "Saving to: ‘./index.html?C=M;O=D.tmp’\n",
      "\n",
      "index.html?C=M;O=D.     [   <=>              ]  60.11K  68.5KB/s    in 0.9s    \n",
      "\n",
      "2020-04-01 15:55:54 (68.5 KB/s) - ‘./index.html?C=M;O=D.tmp’ saved [61554]\n",
      "\n",
      "Removing ./index.html?C=M;O=D.tmp since it should be rejected.\n",
      "\n",
      "--2020-04-01 15:55:54--  https://gannet.fish.washington.edu/seashell/bu-mox/scrubbed/032320-Pact-C1/Pact_C1/dedup/?C=S;O=D\n",
      "Reusing existing connection to gannet.fish.washington.edu:443.\n",
      "HTTP request sent, awaiting response... 200 OK\n",
      "Length: unspecified [text/html]\n",
      "Saving to: ‘./index.html?C=S;O=D.tmp’\n",
      "\n",
      "index.html?C=S;O=D.     [   <=>              ]  60.11K   112KB/s    in 0.5s    \n",
      "\n",
      "2020-04-01 15:55:56 (112 KB/s) - ‘./index.html?C=S;O=D.tmp’ saved [61554]\n",
      "\n",
      "Removing ./index.html?C=S;O=D.tmp since it should be rejected.\n",
      "\n",
      "--2020-04-01 15:55:56--  https://gannet.fish.washington.edu/seashell/bu-mox/scrubbed/032320-Pact-C1/Pact_C1/dedup/?C=D;O=D\n",
      "Reusing existing connection to gannet.fish.washington.edu:443.\n",
      "HTTP request sent, awaiting response... 200 OK\n",
      "Length: unspecified [text/html]\n",
      "Saving to: ‘./index.html?C=D;O=D.tmp’\n",
      "\n"
     ]
    },
    {
     "name": "stdout",
     "output_type": "stream",
     "text": [
      "index.html?C=D;O=D.     [    <=>             ]  60.11K  56.1KB/s    in 1.1s    \n",
      "\n",
      "2020-04-01 15:55:59 (56.1 KB/s) - ‘./index.html?C=D;O=D.tmp’ saved [61554]\n",
      "\n",
      "Removing ./index.html?C=D;O=D.tmp since it should be rejected.\n",
      "\n",
      "FINISHED --2020-04-01 15:55:59--\n",
      "Total wall clock time: 4m 46s\n",
      "Downloaded: 15 files, 212M in 4m 23s (826 KB/s)\n"
     ]
    }
   ],
   "source": [
    "!wget -r \\\n",
    "--no-directories --no-parent \\\n",
    "-P . \\\n",
    "-A 5x.bedgraph https://gannet.fish.washington.edu/seashell/bu-mox/scrubbed/032320-Pact-C1/Pact_C1/dedup/\n"
   ]
  },
  {
   "cell_type": "code",
   "execution_count": 26,
   "metadata": {
    "ExecuteTime": {
     "end_time": "2020-04-01T22:55:59.832922Z",
     "start_time": "2020-04-01T22:55:59.683389Z"
    }
   },
   "outputs": [
    {
     "name": "stdout",
     "output_type": "stream",
     "text": [
      "Meth1_R1_001_val_1_bismark_bt2_pe._5x.bedgraph\r\n",
      "Meth2_R1_001_val_1_bismark_bt2_pe._5x.bedgraph\r\n",
      "Meth3_R1_001_val_1_bismark_bt2_pe._5x.bedgraph\r\n",
      "Meth7_R1_001_val_1_bismark_bt2_pe._5x.bedgraph\r\n",
      "Meth8_R1_001_val_1_bismark_bt2_pe._5x.bedgraph\r\n",
      "Meth9_R1_001_val_1_bismark_bt2_pe._5x.bedgraph\r\n"
     ]
    }
   ],
   "source": [
    "ls"
   ]
  },
  {
   "cell_type": "code",
   "execution_count": 27,
   "metadata": {
    "ExecuteTime": {
     "end_time": "2020-04-01T22:57:38.572527Z",
     "start_time": "2020-04-01T22:55:59.837487Z"
    }
   },
   "outputs": [
    {
     "name": "stdout",
     "output_type": "stream",
     "text": [
      "--2020-04-01 15:55:59--  https://gannet.fish.washington.edu/seashell/bu-mox/scrubbed/032320-Pact-C1/Pact_C1/nodedup/\n",
      "Resolving gannet.fish.washington.edu (gannet.fish.washington.edu)... 128.95.149.52\n",
      "Connecting to gannet.fish.washington.edu (gannet.fish.washington.edu)|128.95.149.52|:443... connected.\n",
      "HTTP request sent, awaiting response... 200 OK\n",
      "Length: unspecified [text/html]\n",
      "Saving to: ‘./index.html.tmp’\n",
      "\n",
      "index.html.tmp          [  <=>               ]  19.25K  79.3KB/s    in 0.2s    \n",
      "\n",
      "2020-04-01 15:56:02 (79.3 KB/s) - ‘./index.html.tmp’ saved [19709]\n",
      "\n",
      "Loading robots.txt; please ignore errors.\n",
      "--2020-04-01 15:56:02--  https://gannet.fish.washington.edu/robots.txt\n",
      "Reusing existing connection to gannet.fish.washington.edu:443.\n",
      "HTTP request sent, awaiting response... 404 Not Found\n",
      "2020-04-01 15:56:03 ERROR 404: Not Found.\n",
      "\n",
      "Removing ./index.html.tmp since it should be rejected.\n",
      "\n",
      "--2020-04-01 15:56:03--  https://gannet.fish.washington.edu/seashell/bu-mox/scrubbed/032320-Pact-C1/Pact_C1/nodedup/?C=N;O=D\n",
      "Reusing existing connection to gannet.fish.washington.edu:443.\n",
      "HTTP request sent, awaiting response... 200 OK\n",
      "Length: unspecified [text/html]\n",
      "Saving to: ‘./index.html?C=N;O=D.tmp’\n",
      "\n",
      "index.html?C=N;O=D.     [  <=>               ]  19.25K  60.2KB/s    in 0.3s    \n",
      "\n",
      "2020-04-01 15:56:04 (60.2 KB/s) - ‘./index.html?C=N;O=D.tmp’ saved [19709]\n",
      "\n",
      "Removing ./index.html?C=N;O=D.tmp since it should be rejected.\n",
      "\n",
      "--2020-04-01 15:56:04--  https://gannet.fish.washington.edu/seashell/bu-mox/scrubbed/032320-Pact-C1/Pact_C1/nodedup/?C=M;O=A\n",
      "Reusing existing connection to gannet.fish.washington.edu:443.\n",
      "HTTP request sent, awaiting response... 200 OK\n",
      "Length: unspecified [text/html]\n",
      "Saving to: ‘./index.html?C=M;O=A.tmp’\n",
      "\n",
      "index.html?C=M;O=A.     [ <=>                ]  19.25K  --.-KB/s    in 0.002s  \n",
      "\n",
      "2020-04-01 15:56:05 (9.17 MB/s) - ‘./index.html?C=M;O=A.tmp’ saved [19709]\n",
      "\n",
      "Removing ./index.html?C=M;O=A.tmp since it should be rejected.\n",
      "\n",
      "--2020-04-01 15:56:05--  https://gannet.fish.washington.edu/seashell/bu-mox/scrubbed/032320-Pact-C1/Pact_C1/nodedup/?C=S;O=A\n",
      "Reusing existing connection to gannet.fish.washington.edu:443.\n",
      "HTTP request sent, awaiting response... 200 OK\n",
      "Length: unspecified [text/html]\n",
      "Saving to: ‘./index.html?C=S;O=A.tmp’\n",
      "\n",
      "index.html?C=S;O=A.     [ <=>                ]  19.25K  --.-KB/s    in 0.004s  \n",
      "\n",
      "2020-04-01 15:56:05 (4.80 MB/s) - ‘./index.html?C=S;O=A.tmp’ saved [19709]\n",
      "\n",
      "Removing ./index.html?C=S;O=A.tmp since it should be rejected.\n",
      "\n",
      "--2020-04-01 15:56:05--  https://gannet.fish.washington.edu/seashell/bu-mox/scrubbed/032320-Pact-C1/Pact_C1/nodedup/?C=D;O=A\n",
      "Reusing existing connection to gannet.fish.washington.edu:443.\n",
      "HTTP request sent, awaiting response... 200 OK\n",
      "Length: unspecified [text/html]\n",
      "Saving to: ‘./index.html?C=D;O=A.tmp’\n",
      "\n",
      "index.html?C=D;O=A.     [ <=>                ]  19.25K  --.-KB/s    in 0.003s  \n",
      "\n",
      "2020-04-01 15:56:06 (7.11 MB/s) - ‘./index.html?C=D;O=A.tmp’ saved [19709]\n",
      "\n",
      "Removing ./index.html?C=D;O=A.tmp since it should be rejected.\n",
      "\n",
      "--2020-04-01 15:56:06--  https://gannet.fish.washington.edu/seashell/bu-mox/scrubbed/032320-Pact-C1/Pact_C1/nodedup/Meth4_R1_001_val_1_bismark_bt2_pe._5x.bedgraph\n",
      "Reusing existing connection to gannet.fish.washington.edu:443.\n",
      "HTTP request sent, awaiting response... 200 OK\n",
      "Length: 12087971 (12M)\n",
      "Saving to: ‘./Meth4_R1_001_val_1_bismark_bt2_pe._5x.bedgraph’\n",
      "\n",
      "Meth4_R1_001_val_1_ 100%[===================>]  11.53M   950KB/s    in 17s     \n",
      "\n",
      "2020-04-01 15:56:24 (677 KB/s) - ‘./Meth4_R1_001_val_1_bismark_bt2_pe._5x.bedgraph’ saved [12087971/12087971]\n",
      "\n",
      "--2020-04-01 15:56:24--  https://gannet.fish.washington.edu/seashell/bu-mox/scrubbed/032320-Pact-C1/Pact_C1/nodedup/Meth5_R1_001_val_1_bismark_bt2_pe._5x.bedgraph\n",
      "Reusing existing connection to gannet.fish.washington.edu:443.\n",
      "HTTP request sent, awaiting response... 200 OK\n",
      "Length: 40243067 (38M)\n",
      "Saving to: ‘./Meth5_R1_001_val_1_bismark_bt2_pe._5x.bedgraph’\n",
      "\n",
      "Meth5_R1_001_val_1_ 100%[===================>]  38.38M  1016KB/s    in 48s     \n",
      "\n",
      "2020-04-01 15:57:12 (821 KB/s) - ‘./Meth5_R1_001_val_1_bismark_bt2_pe._5x.bedgraph’ saved [40243067/40243067]\n",
      "\n",
      "--2020-04-01 15:57:12--  https://gannet.fish.washington.edu/seashell/bu-mox/scrubbed/032320-Pact-C1/Pact_C1/nodedup/Meth6_R1_001_val_1_bismark_bt2_pe._5x.bedgraph\n",
      "Reusing existing connection to gannet.fish.washington.edu:443.\n",
      "HTTP request sent, awaiting response... 200 OK\n",
      "Length: 21018690 (20M)\n",
      "Saving to: ‘./Meth6_R1_001_val_1_bismark_bt2_pe._5x.bedgraph’\n",
      "\n",
      "Meth6_R1_001_val_1_ 100%[===================>]  20.04M   876KB/s    in 23s     \n",
      "\n",
      "2020-04-01 15:57:35 (897 KB/s) - ‘./Meth6_R1_001_val_1_bismark_bt2_pe._5x.bedgraph’ saved [21018690/21018690]\n",
      "\n",
      "--2020-04-01 15:57:35--  https://gannet.fish.washington.edu/seashell/bu-mox/scrubbed/032320-Pact-C1/Pact_C1/nodedup/?C=N;O=A\n",
      "Reusing existing connection to gannet.fish.washington.edu:443.\n",
      "HTTP request sent, awaiting response... 200 OK\n",
      "Length: unspecified [text/html]\n",
      "Saving to: ‘./index.html?C=N;O=A.tmp’\n",
      "\n",
      "index.html?C=N;O=A.     [ <=>                ]  19.25K  --.-KB/s    in 0.005s  \n",
      "\n",
      "2020-04-01 15:57:36 (3.77 MB/s) - ‘./index.html?C=N;O=A.tmp’ saved [19709]\n",
      "\n",
      "Removing ./index.html?C=N;O=A.tmp since it should be rejected.\n",
      "\n",
      "--2020-04-01 15:57:36--  https://gannet.fish.washington.edu/seashell/bu-mox/scrubbed/032320-Pact-C1/Pact_C1/nodedup/?C=M;O=D\n",
      "Reusing existing connection to gannet.fish.washington.edu:443.\n",
      "HTTP request sent, awaiting response... 200 OK\n",
      "Length: unspecified [text/html]\n",
      "Saving to: ‘./index.html?C=M;O=D.tmp’\n",
      "\n",
      "index.html?C=M;O=D.     [ <=>                ]  19.25K  --.-KB/s    in 0.001s  \n",
      "\n",
      "2020-04-01 15:57:37 (37.1 MB/s) - ‘./index.html?C=M;O=D.tmp’ saved [19709]\n",
      "\n",
      "Removing ./index.html?C=M;O=D.tmp since it should be rejected.\n",
      "\n",
      "--2020-04-01 15:57:37--  https://gannet.fish.washington.edu/seashell/bu-mox/scrubbed/032320-Pact-C1/Pact_C1/nodedup/?C=S;O=D\n",
      "Reusing existing connection to gannet.fish.washington.edu:443.\n",
      "HTTP request sent, awaiting response... 200 OK\n",
      "Length: unspecified [text/html]\n",
      "Saving to: ‘./index.html?C=S;O=D.tmp’\n",
      "\n",
      "index.html?C=S;O=D.     [ <=>                ]  19.25K  --.-KB/s    in 0.004s  \n",
      "\n",
      "2020-04-01 15:57:37 (4.38 MB/s) - ‘./index.html?C=S;O=D.tmp’ saved [19709]\n",
      "\n",
      "Removing ./index.html?C=S;O=D.tmp since it should be rejected.\n",
      "\n",
      "--2020-04-01 15:57:37--  https://gannet.fish.washington.edu/seashell/bu-mox/scrubbed/032320-Pact-C1/Pact_C1/nodedup/?C=D;O=D\n",
      "Reusing existing connection to gannet.fish.washington.edu:443.\n",
      "HTTP request sent, awaiting response... 200 OK\n",
      "Length: unspecified [text/html]\n",
      "Saving to: ‘./index.html?C=D;O=D.tmp’\n",
      "\n",
      "index.html?C=D;O=D.     [  <=>               ]  19.25K  78.5KB/s    in 0.2s    \n",
      "\n",
      "2020-04-01 15:57:38 (78.5 KB/s) - ‘./index.html?C=D;O=D.tmp’ saved [19709]\n",
      "\n",
      "Removing ./index.html?C=D;O=D.tmp since it should be rejected.\n",
      "\n",
      "FINISHED --2020-04-01 15:57:38--\n",
      "Total wall clock time: 1m 39s\n",
      "Downloaded: 12 files, 70M in 1m 29s (807 KB/s)\n"
     ]
    }
   ],
   "source": [
    "!wget -r \\\n",
    "--no-directories --no-parent \\\n",
    "-P . \\\n",
    "-A 5x.bedgraph https://gannet.fish.washington.edu/seashell/bu-mox/scrubbed/032320-Pact-C1/Pact_C1/nodedup/"
   ]
  },
  {
   "cell_type": "code",
   "execution_count": 28,
   "metadata": {
    "ExecuteTime": {
     "end_time": "2020-04-01T22:57:38.741324Z",
     "start_time": "2020-04-01T22:57:38.581340Z"
    }
   },
   "outputs": [
    {
     "name": "stdout",
     "output_type": "stream",
     "text": [
      "total 585392\r\n",
      "-rw-r--r--  1 sr320  staff   6.5M Mar 25 16:51 Meth1_R1_001_val_1_bismark_bt2_pe._5x.bedgraph\r\n",
      "-rw-r--r--  1 sr320  staff   817K Mar 25 16:51 Meth2_R1_001_val_1_bismark_bt2_pe._5x.bedgraph\r\n",
      "-rw-r--r--  1 sr320  staff   798K Mar 25 16:51 Meth3_R1_001_val_1_bismark_bt2_pe._5x.bedgraph\r\n",
      "-rw-r--r--  1 sr320  staff    12M Mar 25 18:52 Meth4_R1_001_val_1_bismark_bt2_pe._5x.bedgraph\r\n",
      "-rw-r--r--  1 sr320  staff    38M Mar 25 18:52 Meth5_R1_001_val_1_bismark_bt2_pe._5x.bedgraph\r\n",
      "-rw-r--r--  1 sr320  staff    20M Mar 25 18:52 Meth6_R1_001_val_1_bismark_bt2_pe._5x.bedgraph\r\n",
      "-rw-r--r--  1 sr320  staff    38M Mar 25 16:52 Meth7_R1_001_val_1_bismark_bt2_pe._5x.bedgraph\r\n",
      "-rw-r--r--  1 sr320  staff   144M Mar 25 16:52 Meth8_R1_001_val_1_bismark_bt2_pe._5x.bedgraph\r\n",
      "-rw-r--r--  1 sr320  staff    22M Mar 25 16:53 Meth9_R1_001_val_1_bismark_bt2_pe._5x.bedgraph\r\n"
     ]
    }
   ],
   "source": [
    "!ls -lh\n"
   ]
  },
  {
   "cell_type": "code",
   "execution_count": 29,
   "metadata": {
    "ExecuteTime": {
     "end_time": "2020-04-01T22:57:39.674761Z",
     "start_time": "2020-04-01T22:57:38.749574Z"
    }
   },
   "outputs": [
    {
     "name": "stdout",
     "output_type": "stream",
     "text": [
      "MD5 (Meth1_R1_001_val_1_bismark_bt2_pe._5x.bedgraph) = 75df9883072cc6c18e44575565ce94c3\n",
      "MD5 (Meth2_R1_001_val_1_bismark_bt2_pe._5x.bedgraph) = c3aac6f1bf10fbb911e416da03f1028d\n",
      "MD5 (Meth3_R1_001_val_1_bismark_bt2_pe._5x.bedgraph) = c24ca50b20bf4df069d2e2c5447418e5\n",
      "MD5 (Meth4_R1_001_val_1_bismark_bt2_pe._5x.bedgraph) = 2d3e94db93a11868bc5a33214574e7e8\n",
      "MD5 (Meth5_R1_001_val_1_bismark_bt2_pe._5x.bedgraph) = b9fdf179acb46e172218d47704e3ea98\n",
      "MD5 (Meth6_R1_001_val_1_bismark_bt2_pe._5x.bedgraph) = 9c8e752c29560a7c1d949aba9a803fb2\n",
      "MD5 (Meth7_R1_001_val_1_bismark_bt2_pe._5x.bedgraph) = 0d9ee5f8930cf0d555e356491590adaa\n",
      "MD5 (Meth8_R1_001_val_1_bismark_bt2_pe._5x.bedgraph) = ef22decefdf872c1da097cc81a3129f6\n",
      "MD5 (Meth9_R1_001_val_1_bismark_bt2_pe._5x.bedgraph) = b4a01f70626c1d47494d12b3c63c01f1\n"
     ]
    }
   ],
   "source": [
    "!md5 *"
   ]
  },
  {
   "cell_type": "markdown",
   "metadata": {},
   "source": [
    "Will use unionbed\n",
    "![pic](http://gannet.fish.washington.edu/seashell/snaps/unionbedg__bedtools_2.29.2_documentation_2020-03-28_04-39-52.png)"
   ]
  },
  {
   "cell_type": "code",
   "execution_count": 30,
   "metadata": {
    "ExecuteTime": {
     "end_time": "2020-04-01T22:58:37.230874Z",
     "start_time": "2020-04-01T22:57:39.681959Z"
    }
   },
   "outputs": [],
   "source": [
    "!/Applications/bioinfo/bedtools2/bin/bedtools \\\n",
    "unionbedg \\\n",
    "-header \\\n",
    "-filler N/A \\\n",
    "-names 1 2 3 4 5 6 7 8 9 \\\n",
    "-i \\\n",
    "Meth1_R1_001_val_1_bismark_bt2_pe._5x.bedgraph \\\n",
    "Meth2_R1_001_val_1_bismark_bt2_pe._5x.bedgraph \\\n",
    "Meth3_R1_001_val_1_bismark_bt2_pe._5x.bedgraph \\\n",
    "Meth4_R1_001_val_1_bismark_bt2_pe._5x.bedgraph \\\n",
    "Meth5_R1_001_val_1_bismark_bt2_pe._5x.bedgraph \\\n",
    "Meth6_R1_001_val_1_bismark_bt2_pe._5x.bedgraph \\\n",
    "Meth7_R1_001_val_1_bismark_bt2_pe._5x.bedgraph \\\n",
    "Meth8_R1_001_val_1_bismark_bt2_pe._5x.bedgraph \\\n",
    "Meth9_R1_001_val_1_bismark_bt2_pe._5x.bedgraph \\\n",
    "> ../../analyses/10-unionbedg/Pact-C1_union_5x.bedgraph\n"
   ]
  },
  {
   "cell_type": "code",
   "execution_count": 31,
   "metadata": {
    "ExecuteTime": {
     "end_time": "2020-04-01T22:58:37.465287Z",
     "start_time": "2020-04-01T22:58:37.236323Z"
    }
   },
   "outputs": [
    {
     "name": "stdout",
     "output_type": "stream",
     "text": [
      "chrom\tstart\tend\t1\t2\t3\t4\t5\t6\t7\t8\t9\r\n",
      "SymbC1.scaffold1\t174351\t174353\tN/A\tN/A\tN/A\tN/A\t0.000000\tN/A\tN/A\tN/A\tN/A\r\n",
      "SymbC1.scaffold1\t174357\t174359\tN/A\tN/A\tN/A\tN/A\t0.000000\tN/A\tN/A\tN/A\tN/A\r\n",
      "SymbC1.scaffold1\t174373\t174375\tN/A\tN/A\tN/A\tN/A\t0.000000\tN/A\tN/A\tN/A\tN/A\r\n",
      "SymbC1.scaffold1\t242705\t242707\t0.000000\tN/A\tN/A\tN/A\tN/A\tN/A\tN/A\tN/A\tN/A\r\n",
      "SymbC1.scaffold1\t242718\t242720\t0.000000\tN/A\tN/A\tN/A\tN/A\tN/A\tN/A\tN/A\tN/A\r\n",
      "SymbC1.scaffold1\t242724\t242726\t100.000000\tN/A\tN/A\tN/A\tN/A\tN/A\tN/A\tN/A\tN/A\r\n",
      "SymbC1.scaffold1\t244092\t244094\tN/A\tN/A\tN/A\tN/A\t0.000000\tN/A\tN/A\tN/A\tN/A\r\n",
      "SymbC1.scaffold1\t244103\t244105\tN/A\tN/A\tN/A\tN/A\t0.000000\tN/A\tN/A\tN/A\tN/A\r\n",
      "SymbC1.scaffold1\t244108\t244110\tN/A\tN/A\tN/A\tN/A\t0.000000\tN/A\tN/A\tN/A\tN/A\r\n"
     ]
    }
   ],
   "source": [
    "!head ../../analyses/10-unionbedg/Pact-C1_union_5x.bedgraph"
   ]
  },
  {
   "cell_type": "markdown",
   "metadata": {},
   "source": [
    "availabe @ https://gannet.fish.washington.edu/seashell/bu-github/Meth_Compare/analyses/10-unionbedg/"
   ]
  },
  {
   "cell_type": "markdown",
   "metadata": {},
   "source": [
    "```\n",
    "rsync -avz --exclude=\".*\" --progress Meth_Compare sr320@gannet.fish.washington.edu:/volume2/web/seashell/bu-github/\n",
    "```"
   ]
  },
  {
   "cell_type": "code",
   "execution_count": null,
   "metadata": {},
   "outputs": [],
   "source": []
  }
 ],
 "metadata": {
  "kernelspec": {
   "display_name": "Python 3",
   "language": "python",
   "name": "python3"
  },
  "language_info": {
   "codemirror_mode": {
    "name": "ipython",
    "version": 3
   },
   "file_extension": ".py",
   "mimetype": "text/x-python",
   "name": "python",
   "nbconvert_exporter": "python",
   "pygments_lexer": "ipython3",
   "version": "3.6.8"
  }
 },
 "nbformat": 4,
 "nbformat_minor": 2
}
