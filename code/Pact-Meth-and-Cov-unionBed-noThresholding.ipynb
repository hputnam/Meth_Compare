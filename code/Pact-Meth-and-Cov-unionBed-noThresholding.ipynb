{
 "cells": [
  {
   "cell_type": "markdown",
   "metadata": {},
   "source": [
    "Here we want to take all 9 5x bedgraphs for a genome and develop a bed file that represent total coverage. "
   ]
  },
  {
   "cell_type": "code",
   "execution_count": 1,
   "metadata": {
    "ExecuteTime": {
     "end_time": "2020-04-01T21:18:17.193906Z",
     "start_time": "2020-04-01T21:18:17.166612Z"
    }
   },
   "outputs": [
    {
     "name": "stdout",
     "output_type": "stream",
     "text": [
      "/Users/strigg/Documents/GitHub/Meth_Compare/data\n"
     ]
    }
   ],
   "source": [
    "cd ../data/\n"
   ]
  },
  {
   "cell_type": "code",
   "execution_count": 2,
   "metadata": {
    "ExecuteTime": {
     "end_time": "2020-04-01T21:18:35.954813Z",
     "start_time": "2020-04-01T21:18:35.818834Z"
    }
   },
   "outputs": [
    {
     "name": "stdout",
     "output_type": "stream",
     "text": [
      "\u001b[34mMcap\u001b[m\u001b[m/                       \u001b[34mgannet.fish.washington.edu\u001b[m\u001b[m/\r\n",
      "\u001b[34mPact\u001b[m\u001b[m/\r\n"
     ]
    }
   ],
   "source": [
    "ls"
   ]
  },
  {
   "cell_type": "code",
   "execution_count": 5,
   "metadata": {},
   "outputs": [
    {
     "name": "stdout",
     "output_type": "stream",
     "text": [
      "/Users/strigg/Documents/GitHub/Meth_Compare/data/Pact\n"
     ]
    }
   ],
   "source": [
    "cd Pact/"
   ]
  },
  {
   "cell_type": "code",
   "execution_count": 6,
   "metadata": {},
   "outputs": [],
   "source": []
  },
  {
   "cell_type": "code",
   "execution_count": 32,
   "metadata": {
    "ExecuteTime": {
     "end_time": "2020-04-01T21:20:44.927818Z",
     "start_time": "2020-04-01T21:18:39.018355Z"
    },
    "scrolled": true
   },
   "outputs": [
    {
     "name": "stdout",
     "output_type": "stream",
     "text": [
      "--2020-09-03 13:49:50--  https://gannet.fish.washington.edu/seashell/bu-mox/scrubbed/031520-TG-bs/Pact_tg/dedup/\n",
      "Resolving gannet.fish.washington.edu... 128.95.149.52\n",
      "Connecting to gannet.fish.washington.edu|128.95.149.52|:443... connected.\n",
      "WARNING: cannot verify gannet.fish.washington.edu's certificate, issued by ‘CN=InCommon RSA Server CA,OU=InCommon,O=Internet2,L=Ann Arbor,ST=MI,C=US’:\n",
      "  Issued certificate has expired.\n",
      "HTTP request sent, awaiting response... 200 OK\n",
      "Length: unspecified [text/html]\n",
      "Saving to: ‘./index.html’\n",
      "\n",
      "index.html              [ <=>                ]  42.11K  --.-KB/s    in 0.001s  \n",
      "\n",
      "2020-09-03 13:49:52 (51.5 MB/s) - ‘./index.html’ saved [43123]\n",
      "\n",
      "Loading robots.txt; please ignore errors.\n",
      "--2020-09-03 13:49:52--  https://gannet.fish.washington.edu/robots.txt\n",
      "Reusing existing connection to gannet.fish.washington.edu:443.\n",
      "HTTP request sent, awaiting response... 404 Not Found\n",
      "2020-09-03 13:49:52 ERROR 404: Not Found.\n",
      "\n",
      "Removing ./index.html since it should be rejected.\n",
      "\n",
      "--2020-09-03 13:49:52--  https://gannet.fish.washington.edu/seashell/bu-mox/scrubbed/031520-TG-bs/Pact_tg/dedup/?C=N;O=D\n",
      "Reusing existing connection to gannet.fish.washington.edu:443.\n",
      "HTTP request sent, awaiting response... 200 OK\n",
      "Length: unspecified [text/html]\n",
      "Saving to: ‘./index.html?C=N;O=D’\n",
      "\n",
      "index.html?C=N;O=D      [ <=>                ]  42.11K  --.-KB/s    in 0.001s  \n",
      "\n",
      "2020-09-03 13:49:53 (50.8 MB/s) - ‘./index.html?C=N;O=D’ saved [43123]\n",
      "\n",
      "Removing ./index.html?C=N;O=D since it should be rejected.\n",
      "\n",
      "--2020-09-03 13:49:53--  https://gannet.fish.washington.edu/seashell/bu-mox/scrubbed/031520-TG-bs/Pact_tg/dedup/?C=M;O=A\n",
      "Reusing existing connection to gannet.fish.washington.edu:443.\n",
      "HTTP request sent, awaiting response... 200 OK\n",
      "Length: unspecified [text/html]\n",
      "Saving to: ‘./index.html?C=M;O=A’\n",
      "\n",
      "index.html?C=M;O=A      [ <=>                ]  42.11K  --.-KB/s    in 0.001s  \n",
      "\n",
      "2020-09-03 13:49:54 (52.5 MB/s) - ‘./index.html?C=M;O=A’ saved [43123]\n",
      "\n",
      "Removing ./index.html?C=M;O=A since it should be rejected.\n",
      "\n",
      "--2020-09-03 13:49:54--  https://gannet.fish.washington.edu/seashell/bu-mox/scrubbed/031520-TG-bs/Pact_tg/dedup/?C=S;O=A\n",
      "Reusing existing connection to gannet.fish.washington.edu:443.\n",
      "HTTP request sent, awaiting response... 200 OK\n",
      "Length: unspecified [text/html]\n",
      "Saving to: ‘./index.html?C=S;O=A’\n",
      "\n",
      "index.html?C=S;O=A      [ <=>                ]  42.11K  --.-KB/s    in 0.001s  \n",
      "\n",
      "2020-09-03 13:49:55 (48.4 MB/s) - ‘./index.html?C=S;O=A’ saved [43123]\n",
      "\n",
      "Removing ./index.html?C=S;O=A since it should be rejected.\n",
      "\n",
      "--2020-09-03 13:49:55--  https://gannet.fish.washington.edu/seashell/bu-mox/scrubbed/031520-TG-bs/Pact_tg/dedup/?C=D;O=A\n",
      "Reusing existing connection to gannet.fish.washington.edu:443.\n",
      "HTTP request sent, awaiting response... 200 OK\n",
      "Length: unspecified [text/html]\n",
      "Saving to: ‘./index.html?C=D;O=A’\n",
      "\n",
      "index.html?C=D;O=A      [ <=>                ]  42.11K  --.-KB/s    in 0.001s  \n",
      "\n",
      "2020-09-03 13:49:56 (50.3 MB/s) - ‘./index.html?C=D;O=A’ saved [43123]\n",
      "\n",
      "Removing ./index.html?C=D;O=A since it should be rejected.\n",
      "\n",
      "--2020-09-03 13:49:56--  https://gannet.fish.washington.edu/seashell/bu-mox/scrubbed/031520-TG-bs/Pact_tg/dedup/Meth1_R1_001_val_1_bismark_bt2_pe..CpG_report.merged_CpG_evidence.cov\n",
      "Reusing existing connection to gannet.fish.washington.edu:443.\n",
      "HTTP request sent, awaiting response... 200 OK\n",
      "Length: 359026582 (342M)\n",
      "Saving to: ‘./Meth1_R1_001_val_1_bismark_bt2_pe..CpG_report.merged_CpG_evidence.cov’\n",
      "\n",
      "Meth1_R1_001_val_1_ 100%[===================>] 342.39M  69.0MB/s    in 5.0s    \n",
      "\n",
      "2020-09-03 13:50:01 (69.1 MB/s) - ‘./Meth1_R1_001_val_1_bismark_bt2_pe..CpG_report.merged_CpG_evidence.cov’ saved [359026582/359026582]\n",
      "\n",
      "--2020-09-03 13:50:01--  https://gannet.fish.washington.edu/seashell/bu-mox/scrubbed/031520-TG-bs/Pact_tg/dedup/Meth2_R1_001_val_1_bismark_bt2_pe..CpG_report.merged_CpG_evidence.cov\n",
      "Reusing existing connection to gannet.fish.washington.edu:443.\n",
      "HTTP request sent, awaiting response... 200 OK\n",
      "Length: 366434825 (349M)\n",
      "Saving to: ‘./Meth2_R1_001_val_1_bismark_bt2_pe..CpG_report.merged_CpG_evidence.cov’\n",
      "\n",
      "Meth2_R1_001_val_1_ 100%[===================>] 349.46M  71.3MB/s    in 4.9s    \n",
      "\n",
      "2020-09-03 13:50:06 (70.9 MB/s) - ‘./Meth2_R1_001_val_1_bismark_bt2_pe..CpG_report.merged_CpG_evidence.cov’ saved [366434825/366434825]\n",
      "\n",
      "--2020-09-03 13:50:06--  https://gannet.fish.washington.edu/seashell/bu-mox/scrubbed/031520-TG-bs/Pact_tg/dedup/Meth3_R1_001_val_1_bismark_bt2_pe..CpG_report.merged_CpG_evidence.cov\n",
      "Reusing existing connection to gannet.fish.washington.edu:443.\n",
      "HTTP request sent, awaiting response... 200 OK\n",
      "Length: 362231682 (345M)\n",
      "Saving to: ‘./Meth3_R1_001_val_1_bismark_bt2_pe..CpG_report.merged_CpG_evidence.cov’\n",
      "\n",
      "Meth3_R1_001_val_1_ 100%[===================>] 345.45M  70.6MB/s    in 5.0s    \n",
      "\n",
      "2020-09-03 13:50:11 (69.4 MB/s) - ‘./Meth3_R1_001_val_1_bismark_bt2_pe..CpG_report.merged_CpG_evidence.cov’ saved [362231682/362231682]\n",
      "\n",
      "--2020-09-03 13:50:11--  https://gannet.fish.washington.edu/seashell/bu-mox/scrubbed/031520-TG-bs/Pact_tg/dedup/Meth7_R1_001_val_1_bismark_bt2_pe..CpG_report.merged_CpG_evidence.cov\n",
      "Reusing existing connection to gannet.fish.washington.edu:443.\n",
      "HTTP request sent, awaiting response... 200 OK\n",
      "Length: 322328019 (307M)\n",
      "Saving to: ‘./Meth7_R1_001_val_1_bismark_bt2_pe..CpG_report.merged_CpG_evidence.cov’\n",
      "\n",
      "Meth7_R1_001_val_1_ 100%[===================>] 307.40M  70.8MB/s    in 4.4s    \n",
      "\n",
      "2020-09-03 13:50:16 (70.4 MB/s) - ‘./Meth7_R1_001_val_1_bismark_bt2_pe..CpG_report.merged_CpG_evidence.cov’ saved [322328019/322328019]\n",
      "\n",
      "--2020-09-03 13:50:16--  https://gannet.fish.washington.edu/seashell/bu-mox/scrubbed/031520-TG-bs/Pact_tg/dedup/Meth8_R1_001_val_1_bismark_bt2_pe..CpG_report.merged_CpG_evidence.cov\n",
      "Reusing existing connection to gannet.fish.washington.edu:443.\n",
      "HTTP request sent, awaiting response... 200 OK\n",
      "Length: 212732635 (203M)\n",
      "Saving to: ‘./Meth8_R1_001_val_1_bismark_bt2_pe..CpG_report.merged_CpG_evidence.cov’\n",
      "\n",
      "Meth8_R1_001_val_1_ 100%[===================>] 202.88M  69.8MB/s    in 2.9s    \n",
      "\n",
      "2020-09-03 13:50:19 (69.8 MB/s) - ‘./Meth8_R1_001_val_1_bismark_bt2_pe..CpG_report.merged_CpG_evidence.cov’ saved [212732635/212732635]\n",
      "\n",
      "--2020-09-03 13:50:19--  https://gannet.fish.washington.edu/seashell/bu-mox/scrubbed/031520-TG-bs/Pact_tg/dedup/Meth9_R1_001_val_1_bismark_bt2_pe..CpG_report.merged_CpG_evidence.cov\n",
      "Reusing existing connection to gannet.fish.washington.edu:443.\n",
      "HTTP request sent, awaiting response... 200 OK\n",
      "Length: 326390205 (311M)\n",
      "Saving to: ‘./Meth9_R1_001_val_1_bismark_bt2_pe..CpG_report.merged_CpG_evidence.cov’\n",
      "\n",
      "Meth9_R1_001_val_1_ 100%[===================>] 311.27M  70.8MB/s    in 4.4s    \n",
      "\n",
      "2020-09-03 13:50:24 (70.8 MB/s) - ‘./Meth9_R1_001_val_1_bismark_bt2_pe..CpG_report.merged_CpG_evidence.cov’ saved [326390205/326390205]\n",
      "\n",
      "--2020-09-03 13:50:24--  https://gannet.fish.washington.edu/seashell/bu-mox/scrubbed/031520-TG-bs/Pact_tg/dedup/?C=N;O=A\n",
      "Reusing existing connection to gannet.fish.washington.edu:443.\n",
      "HTTP request sent, awaiting response... 200 OK\n",
      "Length: unspecified [text/html]\n",
      "Saving to: ‘./index.html?C=N;O=A’\n",
      "\n",
      "index.html?C=N;O=A      [ <=>                ]  42.11K  --.-KB/s    in 0.001s  \n",
      "\n",
      "2020-09-03 13:50:25 (51.4 MB/s) - ‘./index.html?C=N;O=A’ saved [43123]\n",
      "\n",
      "Removing ./index.html?C=N;O=A since it should be rejected.\n",
      "\n",
      "--2020-09-03 13:50:25--  https://gannet.fish.washington.edu/seashell/bu-mox/scrubbed/031520-TG-bs/Pact_tg/dedup/?C=M;O=D\n",
      "Reusing existing connection to gannet.fish.washington.edu:443.\n",
      "HTTP request sent, awaiting response... 200 OK\n",
      "Length: unspecified [text/html]\n",
      "Saving to: ‘./index.html?C=M;O=D’\n",
      "\n",
      "index.html?C=M;O=D      [ <=>                ]  42.11K  --.-KB/s    in 0.001s  \n",
      "\n",
      "2020-09-03 13:50:26 (52.7 MB/s) - ‘./index.html?C=M;O=D’ saved [43123]\n",
      "\n",
      "Removing ./index.html?C=M;O=D since it should be rejected.\n",
      "\n",
      "--2020-09-03 13:50:26--  https://gannet.fish.washington.edu/seashell/bu-mox/scrubbed/031520-TG-bs/Pact_tg/dedup/?C=S;O=D\n",
      "Reusing existing connection to gannet.fish.washington.edu:443.\n",
      "HTTP request sent, awaiting response... 200 OK\n",
      "Length: unspecified [text/html]\n",
      "Saving to: ‘./index.html?C=S;O=D’\n",
      "\n",
      "index.html?C=S;O=D      [ <=>                ]  42.11K  --.-KB/s    in 0.001s  \n",
      "\n",
      "2020-09-03 13:50:27 (52.7 MB/s) - ‘./index.html?C=S;O=D’ saved [43123]\n",
      "\n"
     ]
    },
    {
     "name": "stdout",
     "output_type": "stream",
     "text": [
      "Removing ./index.html?C=S;O=D since it should be rejected.\n",
      "\n",
      "--2020-09-03 13:50:27--  https://gannet.fish.washington.edu/seashell/bu-mox/scrubbed/031520-TG-bs/Pact_tg/dedup/?C=D;O=D\n",
      "Reusing existing connection to gannet.fish.washington.edu:443.\n",
      "HTTP request sent, awaiting response... 200 OK\n",
      "Length: unspecified [text/html]\n",
      "Saving to: ‘./index.html?C=D;O=D’\n",
      "\n",
      "index.html?C=D;O=D      [ <=>                ]  42.11K  --.-KB/s    in 0.001s  \n",
      "\n",
      "2020-09-03 13:50:28 (53.2 MB/s) - ‘./index.html?C=D;O=D’ saved [43123]\n",
      "\n",
      "Removing ./index.html?C=D;O=D since it should be rejected.\n",
      "\n",
      "FINISHED --2020-09-03 13:50:28--\n",
      "Total wall clock time: 38s\n",
      "Downloaded: 15 files, 1.8G in 27s (70.1 MB/s)\n"
     ]
    }
   ],
   "source": [
    "!wget -r \\\n",
    "--no-directories --no-parent --reject \"index.html*\" --no-check-certificate \\\n",
    "-P . \\\n",
    "-A .CpG_report.merged_CpG_evidence.cov https://gannet.fish.washington.edu/seashell/bu-mox/scrubbed/031520-TG-bs/Pact_tg/dedup/\n"
   ]
  },
  {
   "cell_type": "code",
   "execution_count": 33,
   "metadata": {
    "ExecuteTime": {
     "end_time": "2020-04-01T21:21:10.354279Z",
     "start_time": "2020-04-01T21:20:44.934048Z"
    }
   },
   "outputs": [
    {
     "name": "stdout",
     "output_type": "stream",
     "text": [
      "--2020-09-03 13:50:28--  https://gannet.fish.washington.edu/seashell/bu-mox/scrubbed/031520-TG-bs/Pact_tg/nodedup/\n",
      "Resolving gannet.fish.washington.edu... 128.95.149.52\n",
      "Connecting to gannet.fish.washington.edu|128.95.149.52|:443... connected.\n",
      "WARNING: cannot verify gannet.fish.washington.edu's certificate, issued by ‘CN=InCommon RSA Server CA,OU=InCommon,O=Internet2,L=Ann Arbor,ST=MI,C=US’:\n",
      "  Issued certificate has expired.\n",
      "HTTP request sent, awaiting response... 200 OK\n",
      "Length: unspecified [text/html]\n",
      "Saving to: ‘./index.html’\n",
      "\n",
      "index.html              [ <=>                ]  19.51K  --.-KB/s    in 0s      \n",
      "\n",
      "2020-09-03 13:50:28 (52.2 MB/s) - ‘./index.html’ saved [19983]\n",
      "\n",
      "Loading robots.txt; please ignore errors.\n",
      "--2020-09-03 13:50:28--  https://gannet.fish.washington.edu/robots.txt\n",
      "Reusing existing connection to gannet.fish.washington.edu:443.\n",
      "HTTP request sent, awaiting response... 404 Not Found\n",
      "2020-09-03 13:50:28 ERROR 404: Not Found.\n",
      "\n",
      "Removing ./index.html since it should be rejected.\n",
      "\n",
      "--2020-09-03 13:50:28--  https://gannet.fish.washington.edu/seashell/bu-mox/scrubbed/031520-TG-bs/Pact_tg/nodedup/?C=N;O=D\n",
      "Reusing existing connection to gannet.fish.washington.edu:443.\n",
      "HTTP request sent, awaiting response... 200 OK\n",
      "Length: unspecified [text/html]\n",
      "Saving to: ‘./index.html?C=N;O=D’\n",
      "\n",
      "index.html?C=N;O=D      [ <=>                ]  19.51K  --.-KB/s    in 0s      \n",
      "\n",
      "2020-09-03 13:50:29 (53.5 MB/s) - ‘./index.html?C=N;O=D’ saved [19983]\n",
      "\n",
      "Removing ./index.html?C=N;O=D since it should be rejected.\n",
      "\n",
      "--2020-09-03 13:50:29--  https://gannet.fish.washington.edu/seashell/bu-mox/scrubbed/031520-TG-bs/Pact_tg/nodedup/?C=M;O=A\n",
      "Reusing existing connection to gannet.fish.washington.edu:443.\n",
      "HTTP request sent, awaiting response... 200 OK\n",
      "Length: unspecified [text/html]\n",
      "Saving to: ‘./index.html?C=M;O=A’\n",
      "\n",
      "index.html?C=M;O=A      [ <=>                ]  19.51K  --.-KB/s    in 0s      \n",
      "\n",
      "2020-09-03 13:50:29 (53.1 MB/s) - ‘./index.html?C=M;O=A’ saved [19983]\n",
      "\n",
      "Removing ./index.html?C=M;O=A since it should be rejected.\n",
      "\n",
      "--2020-09-03 13:50:29--  https://gannet.fish.washington.edu/seashell/bu-mox/scrubbed/031520-TG-bs/Pact_tg/nodedup/?C=S;O=A\n",
      "Reusing existing connection to gannet.fish.washington.edu:443.\n",
      "HTTP request sent, awaiting response... 200 OK\n",
      "Length: unspecified [text/html]\n",
      "Saving to: ‘./index.html?C=S;O=A’\n",
      "\n",
      "index.html?C=S;O=A      [ <=>                ]  19.51K  --.-KB/s    in 0s      \n",
      "\n",
      "2020-09-03 13:50:29 (52.8 MB/s) - ‘./index.html?C=S;O=A’ saved [19983]\n",
      "\n",
      "Removing ./index.html?C=S;O=A since it should be rejected.\n",
      "\n",
      "--2020-09-03 13:50:29--  https://gannet.fish.washington.edu/seashell/bu-mox/scrubbed/031520-TG-bs/Pact_tg/nodedup/?C=D;O=A\n",
      "Reusing existing connection to gannet.fish.washington.edu:443.\n",
      "HTTP request sent, awaiting response... 200 OK\n",
      "Length: unspecified [text/html]\n",
      "Saving to: ‘./index.html?C=D;O=A’\n",
      "\n",
      "index.html?C=D;O=A      [ <=>                ]  19.51K  --.-KB/s    in 0s      \n",
      "\n",
      "2020-09-03 13:50:30 (54.4 MB/s) - ‘./index.html?C=D;O=A’ saved [19983]\n",
      "\n",
      "Removing ./index.html?C=D;O=A since it should be rejected.\n",
      "\n",
      "--2020-09-03 13:50:30--  https://gannet.fish.washington.edu/seashell/bu-mox/scrubbed/031520-TG-bs/Pact_tg/nodedup/Meth4_R1_001_val_1_bismark_bt2_pe..CpG_report.merged_CpG_evidence.cov\n",
      "Reusing existing connection to gannet.fish.washington.edu:443.\n",
      "HTTP request sent, awaiting response... 200 OK\n",
      "Length: 173826898 (166M)\n",
      "Saving to: ‘./Meth4_R1_001_val_1_bismark_bt2_pe..CpG_report.merged_CpG_evidence.cov’\n",
      "\n",
      "Meth4_R1_001_val_1_ 100%[===================>] 165.77M  69.3MB/s    in 2.4s    \n",
      "\n",
      "2020-09-03 13:50:32 (69.3 MB/s) - ‘./Meth4_R1_001_val_1_bismark_bt2_pe..CpG_report.merged_CpG_evidence.cov’ saved [173826898/173826898]\n",
      "\n",
      "--2020-09-03 13:50:32--  https://gannet.fish.washington.edu/seashell/bu-mox/scrubbed/031520-TG-bs/Pact_tg/nodedup/Meth5_R1_001_val_1_bismark_bt2_pe..CpG_report.merged_CpG_evidence.cov\n",
      "Reusing existing connection to gannet.fish.washington.edu:443.\n",
      "HTTP request sent, awaiting response... 200 OK\n",
      "Length: 153228378 (146M)\n",
      "Saving to: ‘./Meth5_R1_001_val_1_bismark_bt2_pe..CpG_report.merged_CpG_evidence.cov’\n",
      "\n",
      "Meth5_R1_001_val_1_ 100%[===================>] 146.13M  70.2MB/s    in 2.1s    \n",
      "\n",
      "2020-09-03 13:50:34 (70.2 MB/s) - ‘./Meth5_R1_001_val_1_bismark_bt2_pe..CpG_report.merged_CpG_evidence.cov’ saved [153228378/153228378]\n",
      "\n",
      "--2020-09-03 13:50:35--  https://gannet.fish.washington.edu/seashell/bu-mox/scrubbed/031520-TG-bs/Pact_tg/nodedup/Meth6_R1_001_val_1_bismark_bt2_pe..CpG_report.merged_CpG_evidence.cov\n",
      "Reusing existing connection to gannet.fish.washington.edu:443.\n",
      "HTTP request sent, awaiting response... 200 OK\n",
      "Length: 156899240 (150M)\n",
      "Saving to: ‘./Meth6_R1_001_val_1_bismark_bt2_pe..CpG_report.merged_CpG_evidence.cov’\n",
      "\n",
      "Meth6_R1_001_val_1_ 100%[===================>] 149.63M  69.7MB/s    in 2.1s    \n",
      "\n",
      "2020-09-03 13:50:37 (69.7 MB/s) - ‘./Meth6_R1_001_val_1_bismark_bt2_pe..CpG_report.merged_CpG_evidence.cov’ saved [156899240/156899240]\n",
      "\n",
      "--2020-09-03 13:50:37--  https://gannet.fish.washington.edu/seashell/bu-mox/scrubbed/031520-TG-bs/Pact_tg/nodedup/?C=N;O=A\n",
      "Reusing existing connection to gannet.fish.washington.edu:443.\n",
      "HTTP request sent, awaiting response... 200 OK\n",
      "Length: unspecified [text/html]\n",
      "Saving to: ‘./index.html?C=N;O=A’\n",
      "\n",
      "index.html?C=N;O=A      [ <=>                ]  19.51K  --.-KB/s    in 0s      \n",
      "\n",
      "2020-09-03 13:50:37 (57.1 MB/s) - ‘./index.html?C=N;O=A’ saved [19983]\n",
      "\n",
      "Removing ./index.html?C=N;O=A since it should be rejected.\n",
      "\n",
      "--2020-09-03 13:50:37--  https://gannet.fish.washington.edu/seashell/bu-mox/scrubbed/031520-TG-bs/Pact_tg/nodedup/?C=M;O=D\n",
      "Reusing existing connection to gannet.fish.washington.edu:443.\n",
      "HTTP request sent, awaiting response... 200 OK\n",
      "Length: unspecified [text/html]\n",
      "Saving to: ‘./index.html?C=M;O=D’\n",
      "\n",
      "index.html?C=M;O=D      [ <=>                ]  19.51K  --.-KB/s    in 0s      \n",
      "\n",
      "2020-09-03 13:50:38 (53.2 MB/s) - ‘./index.html?C=M;O=D’ saved [19983]\n",
      "\n",
      "Removing ./index.html?C=M;O=D since it should be rejected.\n",
      "\n",
      "--2020-09-03 13:50:38--  https://gannet.fish.washington.edu/seashell/bu-mox/scrubbed/031520-TG-bs/Pact_tg/nodedup/?C=S;O=D\n",
      "Reusing existing connection to gannet.fish.washington.edu:443.\n",
      "HTTP request sent, awaiting response... 200 OK\n",
      "Length: unspecified [text/html]\n",
      "Saving to: ‘./index.html?C=S;O=D’\n",
      "\n",
      "index.html?C=S;O=D      [ <=>                ]  19.51K  --.-KB/s    in 0s      \n",
      "\n",
      "2020-09-03 13:50:38 (56.4 MB/s) - ‘./index.html?C=S;O=D’ saved [19983]\n",
      "\n",
      "Removing ./index.html?C=S;O=D since it should be rejected.\n",
      "\n",
      "--2020-09-03 13:50:38--  https://gannet.fish.washington.edu/seashell/bu-mox/scrubbed/031520-TG-bs/Pact_tg/nodedup/?C=D;O=D\n",
      "Reusing existing connection to gannet.fish.washington.edu:443.\n",
      "HTTP request sent, awaiting response... 200 OK\n",
      "Length: unspecified [text/html]\n",
      "Saving to: ‘./index.html?C=D;O=D’\n",
      "\n",
      "index.html?C=D;O=D      [ <=>                ]  19.51K  --.-KB/s    in 0s      \n",
      "\n",
      "2020-09-03 13:50:38 (51.8 MB/s) - ‘./index.html?C=D;O=D’ saved [19983]\n",
      "\n",
      "Removing ./index.html?C=D;O=D since it should be rejected.\n",
      "\n",
      "FINISHED --2020-09-03 13:50:38--\n",
      "Total wall clock time: 10s\n",
      "Downloaded: 12 files, 462M in 6.6s (69.7 MB/s)\n"
     ]
    }
   ],
   "source": [
    "!wget -r \\\n",
    "--no-directories --no-parent --reject \"index.html*\" --no-check-certificate \\\n",
    "-P . \\\n",
    "-A .CpG_report.merged_CpG_evidence.cov https://gannet.fish.washington.edu/seashell/bu-mox/scrubbed/031520-TG-bs/Pact_tg/nodedup/"
   ]
  },
  {
   "cell_type": "code",
   "execution_count": 34,
   "metadata": {
    "ExecuteTime": {
     "end_time": "2020-04-01T21:21:10.498790Z",
     "start_time": "2020-04-01T21:21:10.358087Z"
    }
   },
   "outputs": [
    {
     "name": "stdout",
     "output_type": "stream",
     "text": [
      "total 11987552\r\n",
      "-rw-r--r--  1 strigg  staff   342M Mar 26 15:08 Meth1_R1_001_val_1_bismark_bt2_pe..CpG_report.merged_CpG_evidence.cov\r\n",
      "-rw-r--r--  1 strigg  staff   240M Mar 26 15:43 Meth1_R1_001_val_1_bismark_bt2_pe._5x.tab\r\n",
      "-rw-r--r--  1 strigg  staff   181M Sep  3 11:50 Meth1_R1_001_val_1_bismark_bt2_pe_CpG_Cov_5x.bedgraph\r\n",
      "-rw-r--r--  1 strigg  staff   181M Sep  3 11:54 Meth1_R1_001_val_1_bismark_bt2_pe_CpG_Cov_5x.sort.bedgraph\r\n",
      "-rw-r--r--  1 strigg  staff   349M Mar 26 15:14 Meth2_R1_001_val_1_bismark_bt2_pe..CpG_report.merged_CpG_evidence.cov\r\n",
      "-rw-r--r--  1 strigg  staff   276M Mar 26 15:43 Meth2_R1_001_val_1_bismark_bt2_pe._5x.tab\r\n",
      "-rw-r--r--  1 strigg  staff   208M Sep  3 11:50 Meth2_R1_001_val_1_bismark_bt2_pe_CpG_Cov_5x.bedgraph\r\n",
      "-rw-r--r--  1 strigg  staff   208M Sep  3 11:55 Meth2_R1_001_val_1_bismark_bt2_pe_CpG_Cov_5x.sort.bedgraph\r\n",
      "-rw-r--r--  1 strigg  staff   345M Mar 26 15:21 Meth3_R1_001_val_1_bismark_bt2_pe..CpG_report.merged_CpG_evidence.cov\r\n",
      "-rw-r--r--  1 strigg  staff   254M Mar 26 15:43 Meth3_R1_001_val_1_bismark_bt2_pe._5x.tab\r\n",
      "-rw-r--r--  1 strigg  staff   192M Sep  3 11:51 Meth3_R1_001_val_1_bismark_bt2_pe_CpG_Cov_5x.bedgraph\r\n",
      "-rw-r--r--  1 strigg  staff   192M Sep  3 11:55 Meth3_R1_001_val_1_bismark_bt2_pe_CpG_Cov_5x.sort.bedgraph\r\n",
      "-rw-r--r--  1 strigg  staff   166M Mar 27 17:30 Meth4_R1_001_val_1_bismark_bt2_pe..CpG_report.merged_CpG_evidence.cov\r\n",
      "-rw-r--r--  1 strigg  staff    80M Mar 27 17:43 Meth4_R1_001_val_1_bismark_bt2_pe._5x.tab\r\n",
      "-rw-r--r--  1 strigg  staff    61M Sep  3 11:51 Meth4_R1_001_val_1_bismark_bt2_pe_CpG_Cov_5x.bedgraph\r\n",
      "-rw-r--r--  1 strigg  staff    61M Sep  3 11:55 Meth4_R1_001_val_1_bismark_bt2_pe_CpG_Cov_5x.sort.bedgraph\r\n",
      "-rw-r--r--  1 strigg  staff   146M Mar 27 17:36 Meth5_R1_001_val_1_bismark_bt2_pe..CpG_report.merged_CpG_evidence.cov\r\n",
      "-rw-r--r--  1 strigg  staff    64M Mar 27 17:43 Meth5_R1_001_val_1_bismark_bt2_pe._5x.tab\r\n",
      "-rw-r--r--  1 strigg  staff    48M Sep  3 11:51 Meth5_R1_001_val_1_bismark_bt2_pe_CpG_Cov_5x.bedgraph\r\n",
      "-rw-r--r--  1 strigg  staff    48M Sep  3 11:55 Meth5_R1_001_val_1_bismark_bt2_pe_CpG_Cov_5x.sort.bedgraph\r\n",
      "-rw-r--r--  1 strigg  staff   150M Mar 27 17:42 Meth6_R1_001_val_1_bismark_bt2_pe..CpG_report.merged_CpG_evidence.cov\r\n",
      "-rw-r--r--  1 strigg  staff    66M Mar 27 17:43 Meth6_R1_001_val_1_bismark_bt2_pe._5x.tab\r\n",
      "-rw-r--r--  1 strigg  staff    50M Sep  3 11:51 Meth6_R1_001_val_1_bismark_bt2_pe_CpG_Cov_5x.bedgraph\r\n",
      "-rw-r--r--  1 strigg  staff    50M Sep  3 11:55 Meth6_R1_001_val_1_bismark_bt2_pe_CpG_Cov_5x.sort.bedgraph\r\n",
      "-rw-r--r--  1 strigg  staff   307M Mar 26 15:27 Meth7_R1_001_val_1_bismark_bt2_pe..CpG_report.merged_CpG_evidence.cov\r\n",
      "-rw-r--r--  1 strigg  staff   114M Mar 26 15:44 Meth7_R1_001_val_1_bismark_bt2_pe._5x.tab\r\n",
      "-rw-r--r--  1 strigg  staff    85M Sep  3 11:51 Meth7_R1_001_val_1_bismark_bt2_pe_CpG_Cov_5x.bedgraph\r\n",
      "-rw-r--r--  1 strigg  staff    85M Sep  3 11:55 Meth7_R1_001_val_1_bismark_bt2_pe_CpG_Cov_5x.sort.bedgraph\r\n",
      "-rw-r--r--  1 strigg  staff   203M Mar 26 15:33 Meth8_R1_001_val_1_bismark_bt2_pe..CpG_report.merged_CpG_evidence.cov\r\n",
      "-rw-r--r--  1 strigg  staff    23M Mar 26 15:44 Meth8_R1_001_val_1_bismark_bt2_pe._5x.tab\r\n",
      "-rw-r--r--  1 strigg  staff    17M Sep  3 11:52 Meth8_R1_001_val_1_bismark_bt2_pe_CpG_Cov_5x.bedgraph\r\n",
      "-rw-r--r--  1 strigg  staff    17M Sep  3 11:55 Meth8_R1_001_val_1_bismark_bt2_pe_CpG_Cov_5x.sort.bedgraph\r\n",
      "-rw-r--r--  1 strigg  staff   311M Mar 26 15:39 Meth9_R1_001_val_1_bismark_bt2_pe..CpG_report.merged_CpG_evidence.cov\r\n",
      "-rw-r--r--  1 strigg  staff   118M Mar 26 15:44 Meth9_R1_001_val_1_bismark_bt2_pe._5x.tab\r\n",
      "-rw-r--r--  1 strigg  staff    88M Sep  3 11:52 Meth9_R1_001_val_1_bismark_bt2_pe_CpG_Cov_5x.bedgraph\r\n",
      "-rw-r--r--  1 strigg  staff    88M Sep  3 11:56 Meth9_R1_001_val_1_bismark_bt2_pe_CpG_Cov_5x.sort.bedgraph\r\n",
      "-rw-r--r--  1 strigg  staff   435M Sep  3 12:03 Pact_union_CpG_cov_5x.bedgraph\r\n"
     ]
    }
   ],
   "source": [
    "!ls -lh\n"
   ]
  },
  {
   "cell_type": "code",
   "execution_count": 35,
   "metadata": {
    "ExecuteTime": {
     "end_time": "2020-04-01T21:21:15.251105Z",
     "start_time": "2020-04-01T21:21:10.501379Z"
    }
   },
   "outputs": [
    {
     "name": "stdout",
     "output_type": "stream",
     "text": [
      "MD5 (Meth1_R1_001_val_1_bismark_bt2_pe..CpG_report.merged_CpG_evidence.cov) = ea8d9c36d17461b47d89181ae413145b\n",
      "MD5 (Meth1_R1_001_val_1_bismark_bt2_pe._5x.tab) = b2fe2251349d1a1fd2064555711e5f3c\n",
      "MD5 (Meth1_R1_001_val_1_bismark_bt2_pe_CpG_Cov_5x.bedgraph) = c58c570ba12c67d3601d96324c2cc57c\n",
      "MD5 (Meth1_R1_001_val_1_bismark_bt2_pe_CpG_Cov_5x.sort.bedgraph) = 10dfdc974ec2c642d4251aa911b6950a\n",
      "MD5 (Meth2_R1_001_val_1_bismark_bt2_pe..CpG_report.merged_CpG_evidence.cov) = 86c6308f1c17127230113dc965bf92b7\n",
      "MD5 (Meth2_R1_001_val_1_bismark_bt2_pe._5x.tab) = a54138a247461dfa388ecb7c80a3f757\n",
      "MD5 (Meth2_R1_001_val_1_bismark_bt2_pe_CpG_Cov_5x.bedgraph) = 2ae51440609c156c42032354e2df7318\n",
      "MD5 (Meth2_R1_001_val_1_bismark_bt2_pe_CpG_Cov_5x.sort.bedgraph) = f09a4f083fa43af26e01bdfe0b296c06\n",
      "MD5 (Meth3_R1_001_val_1_bismark_bt2_pe..CpG_report.merged_CpG_evidence.cov) = 5a02c21b063c3b9bc2b533135b458e25\n",
      "MD5 (Meth3_R1_001_val_1_bismark_bt2_pe._5x.tab) = 269ee6acbf8bda68699073ed1a8eea11\n",
      "MD5 (Meth3_R1_001_val_1_bismark_bt2_pe_CpG_Cov_5x.bedgraph) = 8ef60f268a1ae1d51bbf1a3a7db9d2a5\n",
      "MD5 (Meth3_R1_001_val_1_bismark_bt2_pe_CpG_Cov_5x.sort.bedgraph) = 6bfb1c99e88307d64b7205bdcdaa1f73\n",
      "MD5 (Meth4_R1_001_val_1_bismark_bt2_pe..CpG_report.merged_CpG_evidence.cov) = 16f49a865f3f6b680d5ea3490263f3d0\n",
      "MD5 (Meth4_R1_001_val_1_bismark_bt2_pe._5x.tab) = c9c7710fe93f163d0563719721334d7d\n",
      "MD5 (Meth4_R1_001_val_1_bismark_bt2_pe_CpG_Cov_5x.bedgraph) = b166f0a0d1457eaa0739c791ff41fcda\n",
      "MD5 (Meth4_R1_001_val_1_bismark_bt2_pe_CpG_Cov_5x.sort.bedgraph) = 9f53a599299e5fdecb5ed8839d7270d1\n",
      "MD5 (Meth5_R1_001_val_1_bismark_bt2_pe..CpG_report.merged_CpG_evidence.cov) = 5929f960e2331b68a48da12f9668a69c\n",
      "MD5 (Meth5_R1_001_val_1_bismark_bt2_pe._5x.tab) = b83df95995f0006e49760299d6dce230\n",
      "MD5 (Meth5_R1_001_val_1_bismark_bt2_pe_CpG_Cov_5x.bedgraph) = e129138d96d3875bc4dec080dbb627f5\n",
      "MD5 (Meth5_R1_001_val_1_bismark_bt2_pe_CpG_Cov_5x.sort.bedgraph) = 698af5dadff3124a7d177afbd6a49054\n",
      "MD5 (Meth6_R1_001_val_1_bismark_bt2_pe..CpG_report.merged_CpG_evidence.cov) = ab1e3e8d086e3bdb86b2dfb1d32ea421\n",
      "MD5 (Meth6_R1_001_val_1_bismark_bt2_pe._5x.tab) = a98b640f20d4d5e216777274ed6760c9\n",
      "MD5 (Meth6_R1_001_val_1_bismark_bt2_pe_CpG_Cov_5x.bedgraph) = 5b121007ba74d31da4a2498e7d42c076\n",
      "MD5 (Meth6_R1_001_val_1_bismark_bt2_pe_CpG_Cov_5x.sort.bedgraph) = 948e699c2fd4bb46426f8197c8889627\n",
      "MD5 (Meth7_R1_001_val_1_bismark_bt2_pe..CpG_report.merged_CpG_evidence.cov) = 625daacd2158308b97c71523ce53568b\n",
      "MD5 (Meth7_R1_001_val_1_bismark_bt2_pe._5x.tab) = 18975dcf8f19e868e70fa295179a124d\n",
      "MD5 (Meth7_R1_001_val_1_bismark_bt2_pe_CpG_Cov_5x.bedgraph) = a6aa321eb36fe0fad59948f666d489b6\n",
      "MD5 (Meth7_R1_001_val_1_bismark_bt2_pe_CpG_Cov_5x.sort.bedgraph) = efc2e24455c434dcf97d86aca9fb80ba\n",
      "MD5 (Meth8_R1_001_val_1_bismark_bt2_pe..CpG_report.merged_CpG_evidence.cov) = 7184568b537c4fd33cf00321027534be\n",
      "MD5 (Meth8_R1_001_val_1_bismark_bt2_pe._5x.tab) = b2c9124297fc036d62f744ac2f1b793b\n",
      "MD5 (Meth8_R1_001_val_1_bismark_bt2_pe_CpG_Cov_5x.bedgraph) = cc6ea9578169b5700232e32956a11476\n",
      "MD5 (Meth8_R1_001_val_1_bismark_bt2_pe_CpG_Cov_5x.sort.bedgraph) = 8e094f89903d2126375f2cd0e686b7c4\n",
      "MD5 (Meth9_R1_001_val_1_bismark_bt2_pe..CpG_report.merged_CpG_evidence.cov) = 47a6085a19a97c44b147c7dcde892eff\n",
      "MD5 (Meth9_R1_001_val_1_bismark_bt2_pe._5x.tab) = 81a70ca77975e17ff050c41bbbf46c3f\n",
      "MD5 (Meth9_R1_001_val_1_bismark_bt2_pe_CpG_Cov_5x.bedgraph) = 958fb7c160365ae68e97d6c1b5abb552\n",
      "MD5 (Meth9_R1_001_val_1_bismark_bt2_pe_CpG_Cov_5x.sort.bedgraph) = 7b7eebff0c0b7b6dcb8cbef6ce7aeb7f\n",
      "MD5 (Pact_union_CpG_cov_5x.bedgraph) = cd8de21dfff1eee346227ac1b61eca2a\n"
     ]
    }
   ],
   "source": [
    "!md5 *"
   ]
  },
  {
   "cell_type": "markdown",
   "metadata": {},
   "source": [
    "### Format tab files to bedgraphs\n",
    "\n",
    "The methylated and unmethylated loci in fields 5 and 6 need to be summed and printed with the genomic coordinates in fields 1:3"
   ]
  },
  {
   "cell_type": "code",
   "execution_count": 49,
   "metadata": {},
   "outputs": [
    {
     "name": "stdout",
     "output_type": "stream",
     "text": [
      "scaffold1_cov55\t169\t171\t0.000000\t0\t1\r\n",
      "scaffold1_cov55\t186\t188\t0.000000\t0\t1\r\n",
      "scaffold1_cov55\t194\t196\t0.000000\t0\t1\r\n",
      "scaffold1_cov55\t250\t252\t0.000000\t0\t1\r\n",
      "scaffold1_cov55\t252\t254\t0.000000\t0\t1\r\n",
      "scaffold1_cov55\t291\t293\t0.000000\t0\t1\r\n",
      "scaffold1_cov55\t305\t307\t0.000000\t0\t1\r\n",
      "scaffold2_cov51\t649\t651\t0.000000\t0\t2\r\n",
      "scaffold2_cov51\t686\t688\t33.333333\t1\t2\r\n",
      "scaffold2_cov51\t778\t780\t0.000000\t0\t2\r\n"
     ]
    }
   ],
   "source": [
    "!head Meth9_R1_001_val_1_bismark_bt2_pe..CpG_report.merged_CpG_evidence.cov"
   ]
  },
  {
   "cell_type": "code",
   "execution_count": 15,
   "metadata": {},
   "outputs": [
    {
     "name": "stdout",
     "output_type": "stream",
     "text": [
      "scaffold3_cov83\t118\t120\t7\r\n",
      "scaffold3_cov83\t130\t132\t8\r\n",
      "scaffold3_cov83\t137\t139\t8\r\n",
      "scaffold3_cov83\t189\t191\t13\r\n",
      "scaffold3_cov83\t208\t210\t17\r\n",
      "scaffold3_cov83\t243\t245\t19\r\n",
      "scaffold3_cov83\t261\t263\t21\r\n",
      "scaffold3_cov83\t475\t477\t25\r\n",
      "scaffold3_cov83\t484\t486\t25\r\n",
      "scaffold6_cov64\t290\t292\t8\r\n"
     ]
    }
   ],
   "source": [
    "!head Meth9_R1_001_val_1_bismark_bt2_pe._5x.tab |\\\n",
    "awk -F \"\\t\" '{OFS=FS=\"\\t\"}{print $1,$2,$3,$5+$6}'"
   ]
  },
  {
   "cell_type": "code",
   "execution_count": 36,
   "metadata": {},
   "outputs": [],
   "source": [
    "%%bash\n",
    "\n",
    "for f in *.CpG_report.merged_CpG_evidence.cov\n",
    "do\n",
    "awk -F \"\\t\" '{OFS=FS=\"\\t\"}{print $1,$2,$3,$5+$6}' ${f}\\\n",
    "> $(basename ${f%..CpG_report.merged_CpG_evidence.cov})_CpG_Cov.bedgraph\n",
    "done"
   ]
  },
  {
   "cell_type": "code",
   "execution_count": 50,
   "metadata": {},
   "outputs": [
    {
     "name": "stdout",
     "output_type": "stream",
     "text": [
      "scaffold1_cov55\t169\t171\t0\r\n",
      "scaffold1_cov55\t186\t188\t0\r\n",
      "scaffold1_cov55\t194\t196\t0\r\n",
      "scaffold1_cov55\t250\t252\t0\r\n",
      "scaffold1_cov55\t252\t254\t0\r\n",
      "scaffold1_cov55\t291\t293\t0\r\n",
      "scaffold1_cov55\t305\t307\t0\r\n",
      "scaffold2_cov51\t649\t651\t0\r\n",
      "scaffold2_cov51\t686\t688\t33.3333\r\n",
      "scaffold2_cov51\t778\t780\t0\r\n"
     ]
    }
   ],
   "source": [
    "!head Meth9_R1_001_val_1_bismark_bt2_pe..CpG_report.merged_CpG_evidence.cov |\\\n",
    "awk -F \"\\t\" '{OFS=FS=\"\\t\"}{print $1,$2,$3,$5/($5+$6)*100}'"
   ]
  },
  {
   "cell_type": "code",
   "execution_count": null,
   "metadata": {},
   "outputs": [],
   "source": [
    "#create union bed file for coverage"
   ]
  },
  {
   "cell_type": "code",
   "execution_count": null,
   "metadata": {},
   "outputs": [],
   "source": [
    "%%bash\n",
    "\n",
    "for f in *.CpG_report.merged_CpG_evidence.cov\n",
    "do\n",
    "awk -F \"\\t\" '{OFS=FS=\"\\t\"}{print $1,$2,$3,$5/$5+$6}' ${f}\\\n",
    "> $(basename ${f%..CpG_report.merged_CpG_evidence.cov})_CpG_Meth.bedgraph\n",
    "done"
   ]
  },
  {
   "cell_type": "code",
   "execution_count": 51,
   "metadata": {},
   "outputs": [],
   "source": [
    "%%bash\n",
    "\n",
    "for f in *.CpG_report.merged_CpG_evidence.cov\n",
    "do\n",
    "awk -F \"\\t\" '{OFS=FS=\"\\t\"}{print $1,$2,$3,$5/($5+$6)*100}' ${f}\\\n",
    "> $(basename ${f%..CpG_report.merged_CpG_evidence.cov})_CpG_Meth.bedgraph\n",
    "done"
   ]
  },
  {
   "cell_type": "code",
   "execution_count": 37,
   "metadata": {
    "collapsed": true
   },
   "outputs": [
    {
     "name": "stdout",
     "output_type": "stream",
     "text": [
      "==> Meth1_R1_001_val_1_bismark_bt2_pe_CpG_Cov.bedgraph <==\r\n",
      "scaffold1_cov55\t49\t51\t2\r\n",
      "scaffold1_cov55\t84\t86\t4\r\n",
      "scaffold1_cov55\t92\t94\t4\r\n",
      "scaffold1_cov55\t102\t104\t6\r\n",
      "scaffold1_cov55\t105\t107\t6\r\n",
      "scaffold1_cov55\t116\t118\t5\r\n",
      "scaffold1_cov55\t119\t121\t5\r\n",
      "scaffold1_cov55\t146\t148\t5\r\n",
      "scaffold1_cov55\t169\t171\t4\r\n",
      "scaffold1_cov55\t186\t188\t5\r\n",
      "\r\n",
      "==> Meth2_R1_001_val_1_bismark_bt2_pe_CpG_Cov.bedgraph <==\r\n",
      "scaffold1_cov55\t22\t24\t2\r\n",
      "scaffold1_cov55\t34\t36\t1\r\n",
      "scaffold1_cov55\t49\t51\t7\r\n",
      "scaffold1_cov55\t84\t86\t7\r\n",
      "scaffold1_cov55\t92\t94\t7\r\n",
      "scaffold1_cov55\t102\t104\t7\r\n",
      "scaffold1_cov55\t105\t107\t8\r\n",
      "scaffold1_cov55\t116\t118\t8\r\n",
      "scaffold1_cov55\t119\t121\t8\r\n",
      "scaffold1_cov55\t146\t148\t8\r\n",
      "\r\n",
      "==> Meth3_R1_001_val_1_bismark_bt2_pe_CpG_Cov.bedgraph <==\r\n",
      "scaffold1_cov55\t22\t24\t2\r\n",
      "scaffold1_cov55\t34\t36\t2\r\n",
      "scaffold1_cov55\t49\t51\t2\r\n",
      "scaffold1_cov55\t84\t86\t3\r\n",
      "scaffold1_cov55\t92\t94\t3\r\n",
      "scaffold1_cov55\t102\t104\t3\r\n",
      "scaffold1_cov55\t105\t107\t3\r\n",
      "scaffold1_cov55\t116\t118\t4\r\n",
      "scaffold1_cov55\t119\t121\t5\r\n",
      "scaffold1_cov55\t146\t148\t4\r\n",
      "\r\n",
      "==> Meth4_R1_001_val_1_bismark_bt2_pe_CpG_Cov.bedgraph <==\r\n",
      "scaffold6_cov64\t489\t491\t1\r\n",
      "scaffold6_cov64\t2536\t2538\t5\r\n",
      "scaffold6_cov64\t2584\t2586\t5\r\n",
      "scaffold6_cov64\t2676\t2678\t5\r\n",
      "scaffold6_cov64\t2682\t2684\t3\r\n",
      "scaffold6_cov64\t3154\t3156\t1\r\n",
      "scaffold6_cov64\t3198\t3200\t4\r\n",
      "scaffold6_cov64\t3343\t3345\t1\r\n",
      "scaffold6_cov64\t3420\t3422\t1\r\n",
      "scaffold6_cov64\t3435\t3437\t1\r\n",
      "\r\n",
      "==> Meth5_R1_001_val_1_bismark_bt2_pe_CpG_Cov.bedgraph <==\r\n",
      "scaffold6_cov64\t110\t112\t3\r\n",
      "scaffold6_cov64\t167\t169\t3\r\n",
      "scaffold6_cov64\t290\t292\t3\r\n",
      "scaffold6_cov64\t298\t300\t3\r\n",
      "scaffold6_cov64\t489\t491\t2\r\n",
      "scaffold6_cov64\t2097\t2099\t1\r\n",
      "scaffold6_cov64\t2179\t2181\t1\r\n",
      "scaffold6_cov64\t2253\t2255\t1\r\n",
      "scaffold6_cov64\t2440\t2442\t3\r\n",
      "scaffold6_cov64\t2488\t2490\t4\r\n",
      "\r\n",
      "==> Meth6_R1_001_val_1_bismark_bt2_pe_CpG_Cov.bedgraph <==\r\n",
      "scaffold3_cov83\t118\t120\t1\r\n",
      "scaffold3_cov83\t130\t132\t1\r\n",
      "scaffold3_cov83\t137\t139\t1\r\n",
      "scaffold3_cov83\t189\t191\t1\r\n",
      "scaffold3_cov83\t208\t210\t1\r\n",
      "scaffold3_cov83\t243\t245\t1\r\n",
      "scaffold3_cov83\t261\t263\t2\r\n",
      "scaffold6_cov64\t290\t292\t2\r\n",
      "scaffold6_cov64\t298\t300\t2\r\n",
      "scaffold6_cov64\t826\t828\t3\r\n",
      "\r\n",
      "==> Meth7_R1_001_val_1_bismark_bt2_pe_CpG_Cov.bedgraph <==\r\n",
      "scaffold1_cov55\t22\t24\t1\r\n",
      "scaffold1_cov55\t34\t36\t1\r\n",
      "scaffold1_cov55\t49\t51\t1\r\n",
      "scaffold1_cov55\t116\t118\t1\r\n",
      "scaffold1_cov55\t119\t121\t1\r\n",
      "scaffold1_cov55\t146\t148\t1\r\n",
      "scaffold1_cov55\t169\t171\t1\r\n",
      "scaffold1_cov55\t186\t188\t1\r\n",
      "scaffold1_cov55\t194\t196\t1\r\n",
      "scaffold1_cov55\t250\t252\t2\r\n",
      "\r\n",
      "==> Meth8_R1_001_val_1_bismark_bt2_pe_CpG_Cov.bedgraph <==\r\n",
      "scaffold3_cov83\t189\t191\t2\r\n",
      "scaffold3_cov83\t208\t210\t5\r\n",
      "scaffold3_cov83\t243\t245\t6\r\n",
      "scaffold3_cov83\t261\t263\t8\r\n",
      "scaffold3_cov83\t475\t477\t11\r\n",
      "scaffold3_cov83\t484\t486\t11\r\n",
      "scaffold3_cov83\t504\t506\t5\r\n",
      "scaffold6_cov64\t110\t112\t3\r\n",
      "scaffold6_cov64\t167\t169\t4\r\n",
      "scaffold6_cov64\t290\t292\t6\r\n",
      "\r\n",
      "==> Meth9_R1_001_val_1_bismark_bt2_pe_CpG_Cov.bedgraph <==\r\n",
      "scaffold1_cov55\t169\t171\t1\r\n",
      "scaffold1_cov55\t186\t188\t1\r\n",
      "scaffold1_cov55\t194\t196\t1\r\n",
      "scaffold1_cov55\t250\t252\t1\r\n",
      "scaffold1_cov55\t252\t254\t1\r\n",
      "scaffold1_cov55\t291\t293\t1\r\n",
      "scaffold1_cov55\t305\t307\t1\r\n",
      "scaffold2_cov51\t649\t651\t2\r\n",
      "scaffold2_cov51\t686\t688\t3\r\n",
      "scaffold2_cov51\t778\t780\t2\r\n"
     ]
    }
   ],
   "source": [
    "!head *_CpG_Cov.bedgraph"
   ]
  },
  {
   "cell_type": "code",
   "execution_count": 52,
   "metadata": {
    "collapsed": true
   },
   "outputs": [
    {
     "name": "stdout",
     "output_type": "stream",
     "text": [
      "==> Meth1_R1_001_val_1_bismark_bt2_pe_CpG_Meth.bedgraph <==\r\n",
      "scaffold1_cov55\t49\t51\t0\r\n",
      "scaffold1_cov55\t84\t86\t0\r\n",
      "scaffold1_cov55\t92\t94\t0\r\n",
      "scaffold1_cov55\t102\t104\t16.6667\r\n",
      "scaffold1_cov55\t105\t107\t0\r\n",
      "scaffold1_cov55\t116\t118\t0\r\n",
      "scaffold1_cov55\t119\t121\t0\r\n",
      "scaffold1_cov55\t146\t148\t0\r\n",
      "scaffold1_cov55\t169\t171\t0\r\n",
      "scaffold1_cov55\t186\t188\t20\r\n",
      "\r\n",
      "==> Meth2_R1_001_val_1_bismark_bt2_pe_CpG_Meth.bedgraph <==\r\n",
      "scaffold1_cov55\t22\t24\t50\r\n",
      "scaffold1_cov55\t34\t36\t0\r\n",
      "scaffold1_cov55\t49\t51\t0\r\n",
      "scaffold1_cov55\t84\t86\t0\r\n",
      "scaffold1_cov55\t92\t94\t0\r\n",
      "scaffold1_cov55\t102\t104\t0\r\n",
      "scaffold1_cov55\t105\t107\t12.5\r\n",
      "scaffold1_cov55\t116\t118\t0\r\n",
      "scaffold1_cov55\t119\t121\t0\r\n",
      "scaffold1_cov55\t146\t148\t0\r\n",
      "\r\n",
      "==> Meth3_R1_001_val_1_bismark_bt2_pe_CpG_Meth.bedgraph <==\r\n",
      "scaffold1_cov55\t22\t24\t0\r\n",
      "scaffold1_cov55\t34\t36\t0\r\n",
      "scaffold1_cov55\t49\t51\t0\r\n",
      "scaffold1_cov55\t84\t86\t0\r\n",
      "scaffold1_cov55\t92\t94\t0\r\n",
      "scaffold1_cov55\t102\t104\t0\r\n",
      "scaffold1_cov55\t105\t107\t0\r\n",
      "scaffold1_cov55\t116\t118\t0\r\n",
      "scaffold1_cov55\t119\t121\t20\r\n",
      "scaffold1_cov55\t146\t148\t0\r\n",
      "\r\n",
      "==> Meth4_R1_001_val_1_bismark_bt2_pe_CpG_Meth.bedgraph <==\r\n",
      "scaffold6_cov64\t489\t491\t0\r\n",
      "scaffold6_cov64\t2536\t2538\t0\r\n",
      "scaffold6_cov64\t2584\t2586\t0\r\n",
      "scaffold6_cov64\t2676\t2678\t20\r\n",
      "scaffold6_cov64\t2682\t2684\t0\r\n",
      "scaffold6_cov64\t3154\t3156\t0\r\n",
      "scaffold6_cov64\t3198\t3200\t0\r\n",
      "scaffold6_cov64\t3343\t3345\t0\r\n",
      "scaffold6_cov64\t3420\t3422\t0\r\n",
      "scaffold6_cov64\t3435\t3437\t0\r\n",
      "\r\n",
      "==> Meth5_R1_001_val_1_bismark_bt2_pe_CpG_Meth.bedgraph <==\r\n",
      "scaffold6_cov64\t110\t112\t0\r\n",
      "scaffold6_cov64\t167\t169\t0\r\n",
      "scaffold6_cov64\t290\t292\t0\r\n",
      "scaffold6_cov64\t298\t300\t0\r\n",
      "scaffold6_cov64\t489\t491\t0\r\n",
      "scaffold6_cov64\t2097\t2099\t0\r\n",
      "scaffold6_cov64\t2179\t2181\t0\r\n",
      "scaffold6_cov64\t2253\t2255\t0\r\n",
      "scaffold6_cov64\t2440\t2442\t0\r\n",
      "scaffold6_cov64\t2488\t2490\t0\r\n",
      "\r\n",
      "==> Meth6_R1_001_val_1_bismark_bt2_pe_CpG_Meth.bedgraph <==\r\n",
      "scaffold3_cov83\t118\t120\t0\r\n",
      "scaffold3_cov83\t130\t132\t0\r\n",
      "scaffold3_cov83\t137\t139\t0\r\n",
      "scaffold3_cov83\t189\t191\t0\r\n",
      "scaffold3_cov83\t208\t210\t0\r\n",
      "scaffold3_cov83\t243\t245\t0\r\n",
      "scaffold3_cov83\t261\t263\t0\r\n",
      "scaffold6_cov64\t290\t292\t0\r\n",
      "scaffold6_cov64\t298\t300\t0\r\n",
      "scaffold6_cov64\t826\t828\t0\r\n",
      "\r\n",
      "==> Meth7_R1_001_val_1_bismark_bt2_pe_CpG_Meth.bedgraph <==\r\n",
      "scaffold1_cov55\t22\t24\t0\r\n",
      "scaffold1_cov55\t34\t36\t0\r\n",
      "scaffold1_cov55\t49\t51\t0\r\n",
      "scaffold1_cov55\t116\t118\t0\r\n",
      "scaffold1_cov55\t119\t121\t0\r\n",
      "scaffold1_cov55\t146\t148\t0\r\n",
      "scaffold1_cov55\t169\t171\t0\r\n",
      "scaffold1_cov55\t186\t188\t0\r\n",
      "scaffold1_cov55\t194\t196\t0\r\n",
      "scaffold1_cov55\t250\t252\t0\r\n",
      "\r\n",
      "==> Meth8_R1_001_val_1_bismark_bt2_pe_CpG_Meth.bedgraph <==\r\n",
      "scaffold3_cov83\t189\t191\t100\r\n",
      "scaffold3_cov83\t208\t210\t60\r\n",
      "scaffold3_cov83\t243\t245\t0\r\n",
      "scaffold3_cov83\t261\t263\t50\r\n",
      "scaffold3_cov83\t475\t477\t63.6364\r\n",
      "scaffold3_cov83\t484\t486\t45.4545\r\n",
      "scaffold3_cov83\t504\t506\t20\r\n",
      "scaffold6_cov64\t110\t112\t0\r\n",
      "scaffold6_cov64\t167\t169\t0\r\n",
      "scaffold6_cov64\t290\t292\t0\r\n",
      "\r\n",
      "==> Meth9_R1_001_val_1_bismark_bt2_pe_CpG_Meth.bedgraph <==\r\n",
      "scaffold1_cov55\t169\t171\t0\r\n",
      "scaffold1_cov55\t186\t188\t0\r\n",
      "scaffold1_cov55\t194\t196\t0\r\n",
      "scaffold1_cov55\t250\t252\t0\r\n",
      "scaffold1_cov55\t252\t254\t0\r\n",
      "scaffold1_cov55\t291\t293\t0\r\n",
      "scaffold1_cov55\t305\t307\t0\r\n",
      "scaffold2_cov51\t649\t651\t0\r\n",
      "scaffold2_cov51\t686\t688\t33.3333\r\n",
      "scaffold2_cov51\t778\t780\t0\r\n"
     ]
    }
   ],
   "source": [
    "!head *_CpG_Meth.bedgraph"
   ]
  },
  {
   "cell_type": "code",
   "execution_count": 55,
   "metadata": {},
   "outputs": [
    {
     "name": "stdout",
     "output_type": "stream",
     "text": [
      "total 27343992\r\n",
      "-rw-r--r--  1 strigg  staff   342M Mar 26 15:08 Meth1_R1_001_val_1_bismark_bt2_pe..CpG_report.merged_CpG_evidence.cov\r\n",
      "-rw-r--r--  1 strigg  staff   240M Mar 26 15:43 Meth1_R1_001_val_1_bismark_bt2_pe._5x.tab\r\n",
      "-rw-r--r--  1 strigg  staff   258M Sep  3 13:52 Meth1_R1_001_val_1_bismark_bt2_pe_CpG_Cov.bedgraph\r\n",
      "-rw-r--r--  1 strigg  staff   258M Sep  3 13:57 Meth1_R1_001_val_1_bismark_bt2_pe_CpG_Cov.sort.bedgraph\r\n",
      "-rw-r--r--  1 strigg  staff   181M Sep  3 11:50 Meth1_R1_001_val_1_bismark_bt2_pe_CpG_Cov_5x.bedgraph\r\n",
      "-rw-r--r--  1 strigg  staff   181M Sep  3 11:54 Meth1_R1_001_val_1_bismark_bt2_pe_CpG_Cov_5x.sort.bedgraph\r\n",
      "-rw-r--r--  1 strigg  staff   260M Sep  3 17:53 Meth1_R1_001_val_1_bismark_bt2_pe_CpG_Meth.bedgraph\r\n",
      "-rw-r--r--  1 strigg  staff   260M Sep  3 18:01 Meth1_R1_001_val_1_bismark_bt2_pe_CpG_Meth.bedgraph_CpG_Meth.sort.bedgraph\r\n",
      "-rw-r--r--  1 strigg  staff   349M Mar 26 15:14 Meth2_R1_001_val_1_bismark_bt2_pe..CpG_report.merged_CpG_evidence.cov\r\n",
      "-rw-r--r--  1 strigg  staff   276M Mar 26 15:43 Meth2_R1_001_val_1_bismark_bt2_pe._5x.tab\r\n",
      "-rw-r--r--  1 strigg  staff   264M Sep  3 13:53 Meth2_R1_001_val_1_bismark_bt2_pe_CpG_Cov.bedgraph\r\n",
      "-rw-r--r--  1 strigg  staff   264M Sep  3 13:58 Meth2_R1_001_val_1_bismark_bt2_pe_CpG_Cov.sort.bedgraph\r\n",
      "-rw-r--r--  1 strigg  staff   208M Sep  3 11:50 Meth2_R1_001_val_1_bismark_bt2_pe_CpG_Cov_5x.bedgraph\r\n",
      "-rw-r--r--  1 strigg  staff   208M Sep  3 11:55 Meth2_R1_001_val_1_bismark_bt2_pe_CpG_Cov_5x.sort.bedgraph\r\n",
      "-rw-r--r--  1 strigg  staff   265M Sep  3 17:54 Meth2_R1_001_val_1_bismark_bt2_pe_CpG_Meth.bedgraph\r\n",
      "-rw-r--r--  1 strigg  staff   265M Sep  3 18:02 Meth2_R1_001_val_1_bismark_bt2_pe_CpG_Meth.bedgraph_CpG_Meth.sort.bedgraph\r\n",
      "-rw-r--r--  1 strigg  staff   345M Mar 26 15:21 Meth3_R1_001_val_1_bismark_bt2_pe..CpG_report.merged_CpG_evidence.cov\r\n",
      "-rw-r--r--  1 strigg  staff   254M Mar 26 15:43 Meth3_R1_001_val_1_bismark_bt2_pe._5x.tab\r\n",
      "-rw-r--r--  1 strigg  staff   260M Sep  3 13:54 Meth3_R1_001_val_1_bismark_bt2_pe_CpG_Cov.bedgraph\r\n",
      "-rw-r--r--  1 strigg  staff   260M Sep  3 13:58 Meth3_R1_001_val_1_bismark_bt2_pe_CpG_Cov.sort.bedgraph\r\n",
      "-rw-r--r--  1 strigg  staff   192M Sep  3 11:51 Meth3_R1_001_val_1_bismark_bt2_pe_CpG_Cov_5x.bedgraph\r\n",
      "-rw-r--r--  1 strigg  staff   192M Sep  3 11:55 Meth3_R1_001_val_1_bismark_bt2_pe_CpG_Cov_5x.sort.bedgraph\r\n",
      "-rw-r--r--  1 strigg  staff   262M Sep  3 17:55 Meth3_R1_001_val_1_bismark_bt2_pe_CpG_Meth.bedgraph\r\n",
      "-rw-r--r--  1 strigg  staff   262M Sep  3 18:02 Meth3_R1_001_val_1_bismark_bt2_pe_CpG_Meth.bedgraph_CpG_Meth.sort.bedgraph\r\n",
      "-rw-r--r--  1 strigg  staff   166M Mar 27 17:30 Meth4_R1_001_val_1_bismark_bt2_pe..CpG_report.merged_CpG_evidence.cov\r\n",
      "-rw-r--r--  1 strigg  staff    80M Mar 27 17:43 Meth4_R1_001_val_1_bismark_bt2_pe._5x.tab\r\n",
      "-rw-r--r--  1 strigg  staff   125M Sep  3 13:54 Meth4_R1_001_val_1_bismark_bt2_pe_CpG_Cov.bedgraph\r\n",
      "-rw-r--r--  1 strigg  staff   125M Sep  3 13:59 Meth4_R1_001_val_1_bismark_bt2_pe_CpG_Cov.sort.bedgraph\r\n",
      "-rw-r--r--  1 strigg  staff    61M Sep  3 11:51 Meth4_R1_001_val_1_bismark_bt2_pe_CpG_Cov_5x.bedgraph\r\n",
      "-rw-r--r--  1 strigg  staff    61M Sep  3 11:55 Meth4_R1_001_val_1_bismark_bt2_pe_CpG_Cov_5x.sort.bedgraph\r\n",
      "-rw-r--r--  1 strigg  staff   128M Sep  3 17:55 Meth4_R1_001_val_1_bismark_bt2_pe_CpG_Meth.bedgraph\r\n",
      "-rw-r--r--  1 strigg  staff   128M Sep  3 18:02 Meth4_R1_001_val_1_bismark_bt2_pe_CpG_Meth.bedgraph_CpG_Meth.sort.bedgraph\r\n",
      "-rw-r--r--  1 strigg  staff   146M Mar 27 17:36 Meth5_R1_001_val_1_bismark_bt2_pe..CpG_report.merged_CpG_evidence.cov\r\n",
      "-rw-r--r--  1 strigg  staff    64M Mar 27 17:43 Meth5_R1_001_val_1_bismark_bt2_pe._5x.tab\r\n",
      "-rw-r--r--  1 strigg  staff   110M Sep  3 13:54 Meth5_R1_001_val_1_bismark_bt2_pe_CpG_Cov.bedgraph\r\n",
      "-rw-r--r--  1 strigg  staff   110M Sep  3 13:59 Meth5_R1_001_val_1_bismark_bt2_pe_CpG_Cov.sort.bedgraph\r\n",
      "-rw-r--r--  1 strigg  staff    48M Sep  3 11:51 Meth5_R1_001_val_1_bismark_bt2_pe_CpG_Cov_5x.bedgraph\r\n",
      "-rw-r--r--  1 strigg  staff    48M Sep  3 11:55 Meth5_R1_001_val_1_bismark_bt2_pe_CpG_Cov_5x.sort.bedgraph\r\n",
      "-rw-r--r--  1 strigg  staff   113M Sep  3 17:55 Meth5_R1_001_val_1_bismark_bt2_pe_CpG_Meth.bedgraph\r\n",
      "-rw-r--r--  1 strigg  staff   113M Sep  3 18:02 Meth5_R1_001_val_1_bismark_bt2_pe_CpG_Meth.bedgraph_CpG_Meth.sort.bedgraph\r\n",
      "-rw-r--r--  1 strigg  staff   150M Mar 27 17:42 Meth6_R1_001_val_1_bismark_bt2_pe..CpG_report.merged_CpG_evidence.cov\r\n",
      "-rw-r--r--  1 strigg  staff    66M Mar 27 17:43 Meth6_R1_001_val_1_bismark_bt2_pe._5x.tab\r\n",
      "-rw-r--r--  1 strigg  staff   113M Sep  3 13:55 Meth6_R1_001_val_1_bismark_bt2_pe_CpG_Cov.bedgraph\r\n",
      "-rw-r--r--  1 strigg  staff   113M Sep  3 13:59 Meth6_R1_001_val_1_bismark_bt2_pe_CpG_Cov.sort.bedgraph\r\n",
      "-rw-r--r--  1 strigg  staff    50M Sep  3 11:51 Meth6_R1_001_val_1_bismark_bt2_pe_CpG_Cov_5x.bedgraph\r\n",
      "-rw-r--r--  1 strigg  staff    50M Sep  3 11:55 Meth6_R1_001_val_1_bismark_bt2_pe_CpG_Cov_5x.sort.bedgraph\r\n",
      "-rw-r--r--  1 strigg  staff   115M Sep  3 17:56 Meth6_R1_001_val_1_bismark_bt2_pe_CpG_Meth.bedgraph\r\n",
      "-rw-r--r--  1 strigg  staff   115M Sep  3 18:03 Meth6_R1_001_val_1_bismark_bt2_pe_CpG_Meth.bedgraph_CpG_Meth.sort.bedgraph\r\n",
      "-rw-r--r--  1 strigg  staff   307M Mar 26 15:27 Meth7_R1_001_val_1_bismark_bt2_pe..CpG_report.merged_CpG_evidence.cov\r\n",
      "-rw-r--r--  1 strigg  staff   114M Mar 26 15:44 Meth7_R1_001_val_1_bismark_bt2_pe._5x.tab\r\n",
      "-rw-r--r--  1 strigg  staff   231M Sep  3 13:55 Meth7_R1_001_val_1_bismark_bt2_pe_CpG_Cov.bedgraph\r\n",
      "-rw-r--r--  1 strigg  staff   231M Sep  3 13:59 Meth7_R1_001_val_1_bismark_bt2_pe_CpG_Cov.sort.bedgraph\r\n",
      "-rw-r--r--  1 strigg  staff    85M Sep  3 11:51 Meth7_R1_001_val_1_bismark_bt2_pe_CpG_Cov_5x.bedgraph\r\n",
      "-rw-r--r--  1 strigg  staff    85M Sep  3 11:55 Meth7_R1_001_val_1_bismark_bt2_pe_CpG_Cov_5x.sort.bedgraph\r\n",
      "-rw-r--r--  1 strigg  staff   234M Sep  3 17:56 Meth7_R1_001_val_1_bismark_bt2_pe_CpG_Meth.bedgraph\r\n",
      "-rw-r--r--  1 strigg  staff   234M Sep  3 18:03 Meth7_R1_001_val_1_bismark_bt2_pe_CpG_Meth.bedgraph_CpG_Meth.sort.bedgraph\r\n",
      "-rw-r--r--  1 strigg  staff   203M Mar 26 15:33 Meth8_R1_001_val_1_bismark_bt2_pe..CpG_report.merged_CpG_evidence.cov\r\n",
      "-rw-r--r--  1 strigg  staff    23M Mar 26 15:44 Meth8_R1_001_val_1_bismark_bt2_pe._5x.tab\r\n",
      "-rw-r--r--  1 strigg  staff   152M Sep  3 13:56 Meth8_R1_001_val_1_bismark_bt2_pe_CpG_Cov.bedgraph\r\n",
      "-rw-r--r--  1 strigg  staff   152M Sep  3 14:00 Meth8_R1_001_val_1_bismark_bt2_pe_CpG_Cov.sort.bedgraph\r\n",
      "-rw-r--r--  1 strigg  staff    17M Sep  3 11:52 Meth8_R1_001_val_1_bismark_bt2_pe_CpG_Cov_5x.bedgraph\r\n",
      "-rw-r--r--  1 strigg  staff    17M Sep  3 11:55 Meth8_R1_001_val_1_bismark_bt2_pe_CpG_Cov_5x.sort.bedgraph\r\n",
      "-rw-r--r--  1 strigg  staff   154M Sep  3 17:57 Meth8_R1_001_val_1_bismark_bt2_pe_CpG_Meth.bedgraph\r\n",
      "-rw-r--r--  1 strigg  staff   154M Sep  3 18:03 Meth8_R1_001_val_1_bismark_bt2_pe_CpG_Meth.bedgraph_CpG_Meth.sort.bedgraph\r\n",
      "-rw-r--r--  1 strigg  staff   311M Mar 26 15:39 Meth9_R1_001_val_1_bismark_bt2_pe..CpG_report.merged_CpG_evidence.cov\r\n",
      "-rw-r--r--  1 strigg  staff   118M Mar 26 15:44 Meth9_R1_001_val_1_bismark_bt2_pe._5x.tab\r\n",
      "-rw-r--r--  1 strigg  staff   234M Sep  3 13:56 Meth9_R1_001_val_1_bismark_bt2_pe_CpG_Cov.bedgraph\r\n",
      "-rw-r--r--  1 strigg  staff   234M Sep  3 14:00 Meth9_R1_001_val_1_bismark_bt2_pe_CpG_Cov.sort.bedgraph\r\n",
      "-rw-r--r--  1 strigg  staff    88M Sep  3 11:52 Meth9_R1_001_val_1_bismark_bt2_pe_CpG_Cov_5x.bedgraph\r\n",
      "-rw-r--r--  1 strigg  staff    88M Sep  3 11:56 Meth9_R1_001_val_1_bismark_bt2_pe_CpG_Cov_5x.sort.bedgraph\r\n",
      "-rw-r--r--  1 strigg  staff   237M Sep  3 17:58 Meth9_R1_001_val_1_bismark_bt2_pe_CpG_Meth.bedgraph\r\n",
      "-rw-r--r--  1 strigg  staff   237M Sep  3 18:04 Meth9_R1_001_val_1_bismark_bt2_pe_CpG_Meth.bedgraph_CpG_Meth.sort.bedgraph\r\n",
      "-rw-r--r--  1 strigg  staff   471M Sep  3 16:44 Pact_union_CpG_cov.bedgraph\r\n",
      "-rw-r--r--  1 strigg  staff   435M Sep  3 12:03 Pact_union_CpG_cov_5x.bedgraph\r\n",
      "-rw-r--r--  1 strigg  staff    34B Sep  3 18:05 Pact_union_Meth.bedgraph\r\n"
     ]
    }
   ],
   "source": [
    "!ls -lh"
   ]
  },
  {
   "cell_type": "markdown",
   "metadata": {},
   "source": [
    "Will use unionbed\n",
    "![pic](http://gannet.fish.washington.edu/seashell/snaps/unionbedg__bedtools_2.29.2_documentation_2020-03-28_04-39-52.png)"
   ]
  },
  {
   "cell_type": "markdown",
   "metadata": {},
   "source": [
    "### Try sorting bedgraphs BEFORE running unionBedGraphs"
   ]
  },
  {
   "cell_type": "code",
   "execution_count": 39,
   "metadata": {},
   "outputs": [],
   "source": [
    "%%bash \n",
    "\n",
    "for f in *_CpG_Cov.bedgraph\n",
    "do\n",
    "/Users/Shared/bioinformatics/bedtools2/bin/sortBed \\\n",
    "-i ${f} \\\n",
    "> $(basename ${f%_CpG_Cov.bedgraph})_CpG_Cov.sort.bedgraph\n",
    "done"
   ]
  },
  {
   "cell_type": "code",
   "execution_count": 58,
   "metadata": {},
   "outputs": [],
   "source": [
    "%%bash \n",
    "\n",
    "for f in *_CpG_Meth.bedgraph\n",
    "do\n",
    "/Users/Shared/bioinformatics/bedtools2/bin/sortBed \\\n",
    "-i ${f} \\\n",
    "> $(basename ${f%_CpG_Meth.bedgraph})_CpG_Meth.sort.bedgraph\n",
    "done"
   ]
  },
  {
   "cell_type": "code",
   "execution_count": 59,
   "metadata": {},
   "outputs": [
    {
     "name": "stdout",
     "output_type": "stream",
     "text": [
      "total 27828808\r\n",
      "-rw-r--r--  1 strigg  staff   342M Mar 26 15:08 Meth1_R1_001_val_1_bismark_bt2_pe..CpG_report.merged_CpG_evidence.cov\r\n",
      "-rw-r--r--  1 strigg  staff   240M Mar 26 15:43 Meth1_R1_001_val_1_bismark_bt2_pe._5x.tab\r\n",
      "-rw-r--r--  1 strigg  staff   258M Sep  3 13:52 Meth1_R1_001_val_1_bismark_bt2_pe_CpG_Cov.bedgraph\r\n",
      "-rw-r--r--  1 strigg  staff   258M Sep  3 13:57 Meth1_R1_001_val_1_bismark_bt2_pe_CpG_Cov.sort.bedgraph\r\n",
      "-rw-r--r--  1 strigg  staff   181M Sep  3 11:50 Meth1_R1_001_val_1_bismark_bt2_pe_CpG_Cov_5x.bedgraph\r\n",
      "-rw-r--r--  1 strigg  staff   181M Sep  3 11:54 Meth1_R1_001_val_1_bismark_bt2_pe_CpG_Cov_5x.sort.bedgraph\r\n",
      "-rw-r--r--  1 strigg  staff   260M Sep  3 17:53 Meth1_R1_001_val_1_bismark_bt2_pe_CpG_Meth.bedgraph\r\n",
      "-rw-r--r--  1 strigg  staff   260M Sep  3 18:14 Meth1_R1_001_val_1_bismark_bt2_pe_CpG_Meth.sort.bedgraph\r\n",
      "-rw-r--r--  1 strigg  staff   349M Mar 26 15:14 Meth2_R1_001_val_1_bismark_bt2_pe..CpG_report.merged_CpG_evidence.cov\r\n",
      "-rw-r--r--  1 strigg  staff   276M Mar 26 15:43 Meth2_R1_001_val_1_bismark_bt2_pe._5x.tab\r\n",
      "-rw-r--r--  1 strigg  staff   264M Sep  3 13:53 Meth2_R1_001_val_1_bismark_bt2_pe_CpG_Cov.bedgraph\r\n",
      "-rw-r--r--  1 strigg  staff   264M Sep  3 13:58 Meth2_R1_001_val_1_bismark_bt2_pe_CpG_Cov.sort.bedgraph\r\n",
      "-rw-r--r--  1 strigg  staff   208M Sep  3 11:50 Meth2_R1_001_val_1_bismark_bt2_pe_CpG_Cov_5x.bedgraph\r\n",
      "-rw-r--r--  1 strigg  staff   208M Sep  3 11:55 Meth2_R1_001_val_1_bismark_bt2_pe_CpG_Cov_5x.sort.bedgraph\r\n",
      "-rw-r--r--  1 strigg  staff   265M Sep  3 17:54 Meth2_R1_001_val_1_bismark_bt2_pe_CpG_Meth.bedgraph\r\n",
      "-rw-r--r--  1 strigg  staff   265M Sep  3 18:14 Meth2_R1_001_val_1_bismark_bt2_pe_CpG_Meth.sort.bedgraph\r\n",
      "-rw-r--r--  1 strigg  staff   345M Mar 26 15:21 Meth3_R1_001_val_1_bismark_bt2_pe..CpG_report.merged_CpG_evidence.cov\r\n",
      "-rw-r--r--  1 strigg  staff   254M Mar 26 15:43 Meth3_R1_001_val_1_bismark_bt2_pe._5x.tab\r\n",
      "-rw-r--r--  1 strigg  staff   260M Sep  3 13:54 Meth3_R1_001_val_1_bismark_bt2_pe_CpG_Cov.bedgraph\r\n",
      "-rw-r--r--  1 strigg  staff   260M Sep  3 13:58 Meth3_R1_001_val_1_bismark_bt2_pe_CpG_Cov.sort.bedgraph\r\n",
      "-rw-r--r--  1 strigg  staff   192M Sep  3 11:51 Meth3_R1_001_val_1_bismark_bt2_pe_CpG_Cov_5x.bedgraph\r\n",
      "-rw-r--r--  1 strigg  staff   192M Sep  3 11:55 Meth3_R1_001_val_1_bismark_bt2_pe_CpG_Cov_5x.sort.bedgraph\r\n",
      "-rw-r--r--  1 strigg  staff   262M Sep  3 17:55 Meth3_R1_001_val_1_bismark_bt2_pe_CpG_Meth.bedgraph\r\n",
      "-rw-r--r--  1 strigg  staff   262M Sep  3 18:15 Meth3_R1_001_val_1_bismark_bt2_pe_CpG_Meth.sort.bedgraph\r\n",
      "-rw-r--r--  1 strigg  staff   166M Mar 27 17:30 Meth4_R1_001_val_1_bismark_bt2_pe..CpG_report.merged_CpG_evidence.cov\r\n",
      "-rw-r--r--  1 strigg  staff    80M Mar 27 17:43 Meth4_R1_001_val_1_bismark_bt2_pe._5x.tab\r\n",
      "-rw-r--r--  1 strigg  staff   125M Sep  3 13:54 Meth4_R1_001_val_1_bismark_bt2_pe_CpG_Cov.bedgraph\r\n",
      "-rw-r--r--  1 strigg  staff   125M Sep  3 13:59 Meth4_R1_001_val_1_bismark_bt2_pe_CpG_Cov.sort.bedgraph\r\n",
      "-rw-r--r--  1 strigg  staff    61M Sep  3 11:51 Meth4_R1_001_val_1_bismark_bt2_pe_CpG_Cov_5x.bedgraph\r\n",
      "-rw-r--r--  1 strigg  staff    61M Sep  3 11:55 Meth4_R1_001_val_1_bismark_bt2_pe_CpG_Cov_5x.sort.bedgraph\r\n",
      "-rw-r--r--  1 strigg  staff   128M Sep  3 17:55 Meth4_R1_001_val_1_bismark_bt2_pe_CpG_Meth.bedgraph\r\n",
      "-rw-r--r--  1 strigg  staff   128M Sep  3 18:15 Meth4_R1_001_val_1_bismark_bt2_pe_CpG_Meth.sort.bedgraph\r\n",
      "-rw-r--r--  1 strigg  staff   146M Mar 27 17:36 Meth5_R1_001_val_1_bismark_bt2_pe..CpG_report.merged_CpG_evidence.cov\r\n",
      "-rw-r--r--  1 strigg  staff    64M Mar 27 17:43 Meth5_R1_001_val_1_bismark_bt2_pe._5x.tab\r\n",
      "-rw-r--r--  1 strigg  staff   110M Sep  3 13:54 Meth5_R1_001_val_1_bismark_bt2_pe_CpG_Cov.bedgraph\r\n",
      "-rw-r--r--  1 strigg  staff   110M Sep  3 13:59 Meth5_R1_001_val_1_bismark_bt2_pe_CpG_Cov.sort.bedgraph\r\n",
      "-rw-r--r--  1 strigg  staff    48M Sep  3 11:51 Meth5_R1_001_val_1_bismark_bt2_pe_CpG_Cov_5x.bedgraph\r\n",
      "-rw-r--r--  1 strigg  staff    48M Sep  3 11:55 Meth5_R1_001_val_1_bismark_bt2_pe_CpG_Cov_5x.sort.bedgraph\r\n",
      "-rw-r--r--  1 strigg  staff   113M Sep  3 17:55 Meth5_R1_001_val_1_bismark_bt2_pe_CpG_Meth.bedgraph\r\n",
      "-rw-r--r--  1 strigg  staff   113M Sep  3 18:15 Meth5_R1_001_val_1_bismark_bt2_pe_CpG_Meth.sort.bedgraph\r\n",
      "-rw-r--r--  1 strigg  staff   150M Mar 27 17:42 Meth6_R1_001_val_1_bismark_bt2_pe..CpG_report.merged_CpG_evidence.cov\r\n",
      "-rw-r--r--  1 strigg  staff    66M Mar 27 17:43 Meth6_R1_001_val_1_bismark_bt2_pe._5x.tab\r\n",
      "-rw-r--r--  1 strigg  staff   113M Sep  3 13:55 Meth6_R1_001_val_1_bismark_bt2_pe_CpG_Cov.bedgraph\r\n",
      "-rw-r--r--  1 strigg  staff   113M Sep  3 13:59 Meth6_R1_001_val_1_bismark_bt2_pe_CpG_Cov.sort.bedgraph\r\n",
      "-rw-r--r--  1 strigg  staff    50M Sep  3 11:51 Meth6_R1_001_val_1_bismark_bt2_pe_CpG_Cov_5x.bedgraph\r\n",
      "-rw-r--r--  1 strigg  staff    50M Sep  3 11:55 Meth6_R1_001_val_1_bismark_bt2_pe_CpG_Cov_5x.sort.bedgraph\r\n",
      "-rw-r--r--  1 strigg  staff   115M Sep  3 17:56 Meth6_R1_001_val_1_bismark_bt2_pe_CpG_Meth.bedgraph\r\n",
      "-rw-r--r--  1 strigg  staff   115M Sep  3 18:15 Meth6_R1_001_val_1_bismark_bt2_pe_CpG_Meth.sort.bedgraph\r\n",
      "-rw-r--r--  1 strigg  staff   307M Mar 26 15:27 Meth7_R1_001_val_1_bismark_bt2_pe..CpG_report.merged_CpG_evidence.cov\r\n",
      "-rw-r--r--  1 strigg  staff   114M Mar 26 15:44 Meth7_R1_001_val_1_bismark_bt2_pe._5x.tab\r\n",
      "-rw-r--r--  1 strigg  staff   231M Sep  3 13:55 Meth7_R1_001_val_1_bismark_bt2_pe_CpG_Cov.bedgraph\r\n",
      "-rw-r--r--  1 strigg  staff   231M Sep  3 13:59 Meth7_R1_001_val_1_bismark_bt2_pe_CpG_Cov.sort.bedgraph\r\n",
      "-rw-r--r--  1 strigg  staff    85M Sep  3 11:51 Meth7_R1_001_val_1_bismark_bt2_pe_CpG_Cov_5x.bedgraph\r\n",
      "-rw-r--r--  1 strigg  staff    85M Sep  3 11:55 Meth7_R1_001_val_1_bismark_bt2_pe_CpG_Cov_5x.sort.bedgraph\r\n",
      "-rw-r--r--  1 strigg  staff   234M Sep  3 17:56 Meth7_R1_001_val_1_bismark_bt2_pe_CpG_Meth.bedgraph\r\n",
      "-rw-r--r--  1 strigg  staff   234M Sep  3 18:16 Meth7_R1_001_val_1_bismark_bt2_pe_CpG_Meth.sort.bedgraph\r\n",
      "-rw-r--r--  1 strigg  staff   203M Mar 26 15:33 Meth8_R1_001_val_1_bismark_bt2_pe..CpG_report.merged_CpG_evidence.cov\r\n",
      "-rw-r--r--  1 strigg  staff    23M Mar 26 15:44 Meth8_R1_001_val_1_bismark_bt2_pe._5x.tab\r\n",
      "-rw-r--r--  1 strigg  staff   152M Sep  3 13:56 Meth8_R1_001_val_1_bismark_bt2_pe_CpG_Cov.bedgraph\r\n",
      "-rw-r--r--  1 strigg  staff   152M Sep  3 14:00 Meth8_R1_001_val_1_bismark_bt2_pe_CpG_Cov.sort.bedgraph\r\n",
      "-rw-r--r--  1 strigg  staff    17M Sep  3 11:52 Meth8_R1_001_val_1_bismark_bt2_pe_CpG_Cov_5x.bedgraph\r\n",
      "-rw-r--r--  1 strigg  staff    17M Sep  3 11:55 Meth8_R1_001_val_1_bismark_bt2_pe_CpG_Cov_5x.sort.bedgraph\r\n",
      "-rw-r--r--  1 strigg  staff   154M Sep  3 17:57 Meth8_R1_001_val_1_bismark_bt2_pe_CpG_Meth.bedgraph\r\n",
      "-rw-r--r--  1 strigg  staff   154M Sep  3 18:16 Meth8_R1_001_val_1_bismark_bt2_pe_CpG_Meth.sort.bedgraph\r\n",
      "-rw-r--r--  1 strigg  staff   311M Mar 26 15:39 Meth9_R1_001_val_1_bismark_bt2_pe..CpG_report.merged_CpG_evidence.cov\r\n",
      "-rw-r--r--  1 strigg  staff   118M Mar 26 15:44 Meth9_R1_001_val_1_bismark_bt2_pe._5x.tab\r\n",
      "-rw-r--r--  1 strigg  staff   234M Sep  3 13:56 Meth9_R1_001_val_1_bismark_bt2_pe_CpG_Cov.bedgraph\r\n",
      "-rw-r--r--  1 strigg  staff   234M Sep  3 14:00 Meth9_R1_001_val_1_bismark_bt2_pe_CpG_Cov.sort.bedgraph\r\n",
      "-rw-r--r--  1 strigg  staff    88M Sep  3 11:52 Meth9_R1_001_val_1_bismark_bt2_pe_CpG_Cov_5x.bedgraph\r\n",
      "-rw-r--r--  1 strigg  staff    88M Sep  3 11:56 Meth9_R1_001_val_1_bismark_bt2_pe_CpG_Cov_5x.sort.bedgraph\r\n",
      "-rw-r--r--  1 strigg  staff   237M Sep  3 17:58 Meth9_R1_001_val_1_bismark_bt2_pe_CpG_Meth.bedgraph\r\n",
      "-rw-r--r--  1 strigg  staff   237M Sep  3 18:17 Meth9_R1_001_val_1_bismark_bt2_pe_CpG_Meth.sort.bedgraph\r\n",
      "-rw-r--r--  1 strigg  staff   471M Sep  3 16:44 Pact_union_CpG_cov.bedgraph\r\n",
      "-rw-r--r--  1 strigg  staff   435M Sep  3 12:03 Pact_union_CpG_cov_5x.bedgraph\r\n",
      "-rw-r--r--  1 strigg  staff    34B Sep  3 18:05 Pact_union_Meth.bedgraph\r\n",
      "-rw-r--r--  1 strigg  staff   237M Sep  3 18:12 _CpG_Meth.sort.bedgraph\r\n"
     ]
    }
   ],
   "source": [
    "!ls -lh"
   ]
  },
  {
   "cell_type": "markdown",
   "metadata": {},
   "source": [
    "**run unionBedGraphs on sorted bedgraphs**"
   ]
  },
  {
   "cell_type": "code",
   "execution_count": 41,
   "metadata": {
    "ExecuteTime": {
     "end_time": "2020-04-01T21:25:02.765907Z",
     "start_time": "2020-04-01T21:21:15.254437Z"
    }
   },
   "outputs": [],
   "source": [
    "!/Users/Shared/bioinformatics/bedtools2/bin/unionBedGraphs \\\n",
    "-header \\\n",
    "-filler N/A \\\n",
    "-names 1 2 3 4 5 6 7 8 9 \\\n",
    "-i \\\n",
    "Meth1_R1_001_val_1_bismark_bt2_pe_CpG_Cov.sort.bedgraph \\\n",
    "Meth2_R1_001_val_1_bismark_bt2_pe_CpG_Cov.sort.bedgraph \\\n",
    "Meth3_R1_001_val_1_bismark_bt2_pe_CpG_Cov.sort.bedgraph \\\n",
    "Meth4_R1_001_val_1_bismark_bt2_pe_CpG_Cov.sort.bedgraph \\\n",
    "Meth5_R1_001_val_1_bismark_bt2_pe_CpG_Cov.sort.bedgraph \\\n",
    "Meth6_R1_001_val_1_bismark_bt2_pe_CpG_Cov.sort.bedgraph \\\n",
    "Meth7_R1_001_val_1_bismark_bt2_pe_CpG_Cov.sort.bedgraph \\\n",
    "Meth8_R1_001_val_1_bismark_bt2_pe_CpG_Cov.sort.bedgraph \\\n",
    "Meth9_R1_001_val_1_bismark_bt2_pe_CpG_Cov.sort.bedgraph \\\n",
    "> Pact_union_Cov.bedgraph\n"
   ]
  },
  {
   "cell_type": "code",
   "execution_count": 60,
   "metadata": {},
   "outputs": [],
   "source": [
    "!/Users/Shared/bioinformatics/bedtools2/bin/unionBedGraphs \\\n",
    "-header \\\n",
    "-filler N/A \\\n",
    "-names 1 2 3 4 5 6 7 8 9 \\\n",
    "-i \\\n",
    "Meth1_R1_001_val_1_bismark_bt2_pe_CpG_Meth.sort.bedgraph \\\n",
    "Meth2_R1_001_val_1_bismark_bt2_pe_CpG_Meth.sort.bedgraph \\\n",
    "Meth3_R1_001_val_1_bismark_bt2_pe_CpG_Meth.sort.bedgraph \\\n",
    "Meth4_R1_001_val_1_bismark_bt2_pe_CpG_Meth.sort.bedgraph \\\n",
    "Meth5_R1_001_val_1_bismark_bt2_pe_CpG_Meth.sort.bedgraph \\\n",
    "Meth6_R1_001_val_1_bismark_bt2_pe_CpG_Meth.sort.bedgraph \\\n",
    "Meth7_R1_001_val_1_bismark_bt2_pe_CpG_Meth.sort.bedgraph \\\n",
    "Meth8_R1_001_val_1_bismark_bt2_pe_CpG_Meth.sort.bedgraph \\\n",
    "Meth9_R1_001_val_1_bismark_bt2_pe_CpG_Meth.sort.bedgraph \\\n",
    "> Pact_union_Meth.bedgraph"
   ]
  },
  {
   "cell_type": "code",
   "execution_count": 42,
   "metadata": {
    "ExecuteTime": {
     "end_time": "2020-04-01T21:25:02.971003Z",
     "start_time": "2020-04-01T21:25:02.777452Z"
    }
   },
   "outputs": [
    {
     "name": "stdout",
     "output_type": "stream",
     "text": [
      "chrom\tstart\tend\t1\t2\t3\t4\t5\t6\t7\t8\t9\r\n",
      "scaffold100000_cov51\t22\t24\t5\t3\t6\t2\t2\tN/A\tN/A\tN/A\tN/A\r\n",
      "scaffold100000_cov51\t60\t62\t8\t6\t11\t2\t2\t1\t3\tN/A\t2\r\n",
      "scaffold100000_cov51\t68\t70\t8\t7\t13\t2\t2\t1\t3\tN/A\t2\r\n",
      "scaffold100000_cov51\t78\t80\t7\t7\t13\t2\t2\t1\t4\tN/A\t2\r\n",
      "scaffold100000_cov51\t109\t111\t11\t9\t12\t411\t1068\t317\t4\tN/A\t2\r\n",
      "scaffold100000_cov51\t112\t114\t11\t8\t12\t411\t1068\t317\t4\tN/A\t2\r\n",
      "scaffold100000_cov51\t205\t207\t9\t8\t5\t679\t1095\t547\t4\t1\t1\r\n",
      "scaffold100000_cov51\t213\t215\t10\t7\t5\t679\t1094\t547\t4\t1\t1\r\n",
      "scaffold100000_cov51\t236\t238\t6\t7\t4\t407\t1061\t310\t3\tN/A\t1\r\n"
     ]
    }
   ],
   "source": [
    "!head Pact_union_CpG_cov.bedgraph"
   ]
  },
  {
   "cell_type": "code",
   "execution_count": 61,
   "metadata": {},
   "outputs": [
    {
     "name": "stdout",
     "output_type": "stream",
     "text": [
      "head: Pact_union_CpG_Meth.bedgraph: No such file or directory\r\n"
     ]
    }
   ],
   "source": [
    "!head Pact_union_CpG_Meth.bedgraph"
   ]
  },
  {
   "cell_type": "markdown",
   "metadata": {},
   "source": [
    "**count number of lines in Pact unionBedGraph output**"
   ]
  },
  {
   "cell_type": "code",
   "execution_count": 43,
   "metadata": {},
   "outputs": [
    {
     "name": "stdout",
     "output_type": "stream",
     "text": [
      " 8683133 Pact_union_CpG_cov.bedgraph\r\n"
     ]
    }
   ],
   "source": [
    "!wc -l Pact_union_CpG_cov.bedgraph"
   ]
  },
  {
   "cell_type": "code",
   "execution_count": 62,
   "metadata": {},
   "outputs": [
    {
     "name": "stdout",
     "output_type": "stream",
     "text": [
      " 8683133 Pact_union_Meth.bedgraph\r\n"
     ]
    }
   ],
   "source": [
    "!wc -l Pact_union_Meth.bedgraph"
   ]
  },
  {
   "cell_type": "markdown",
   "metadata": {},
   "source": [
    "**count number of lines in Pact CpG.gff**"
   ]
  },
  {
   "cell_type": "code",
   "execution_count": 11,
   "metadata": {},
   "outputs": [
    {
     "name": "stdout",
     "output_type": "stream",
     "text": [
      " 9639415 /Volumes/web/seashell/bu-github/Meth_Compare/genome-feature-files/Pact_CpG.gff\r\n"
     ]
    }
   ],
   "source": [
    "!wc -l /Volumes/web/seashell/bu-github/Meth_Compare/genome-feature-files/Pact_CpG.gff"
   ]
  },
  {
   "cell_type": "markdown",
   "metadata": {},
   "source": [
    "**see if any sites are listed more than once in the unionBedGraph output**\n",
    "\n",
    "code explaination:  \n",
    "\n",
    "#print the first 3 fields of the bedgraph (the CpG chromosome, start, and end position)\n",
    "\n",
    "```\n",
    "awk '{print $1,$2,$3}'\n",
    "```\n",
    "\n",
    "#unix sort command by default sorts the input by comparing entire lines when no fields (-k) are specified (see sort manual or https://www.gnu.org/software/coreutils/manual/html_node/sort-invocation.html)\n",
    "\n",
    "```\n",
    "sort\n",
    "```\n",
    "\n",
    "#uniq -c collapses identical lines of a sorted file and creates a new field 1 where the frequency at which the line occured is printed\n",
    "\n",
    "```\n",
    "uniq -c\n",
    "```\n",
    "\n",
    "#if the first field is greater than 1 print the line\n",
    "##This would indicate the CpG site listed more than one time \n",
    "```\n",
    "awk '{if($1>1)print $0}' \n",
    "```\n"
   ]
  },
  {
   "cell_type": "code",
   "execution_count": 44,
   "metadata": {},
   "outputs": [],
   "source": [
    "!cat Pact_union_CpG_cov_5x.bedgraph |\\\n",
    "awk '{print $1,$2,$3}' |\\\n",
    "sort | \\\n",
    "uniq -c |\\\n",
    "awk '{if($1>1)print $0}' |\\\n",
    "head"
   ]
  },
  {
   "cell_type": "code",
   "execution_count": 45,
   "metadata": {},
   "outputs": [
    {
     "name": "stdout",
     "output_type": "stream",
     "text": [
      "Meth1_R1_001_val_1_bismark_bt2_pe..CpG_report.merged_CpG_evidence.cov\r\n",
      "Meth1_R1_001_val_1_bismark_bt2_pe._5x.tab\r\n",
      "Meth1_R1_001_val_1_bismark_bt2_pe_CpG_Cov.bedgraph\r\n",
      "Meth1_R1_001_val_1_bismark_bt2_pe_CpG_Cov.sort.bedgraph\r\n",
      "Meth1_R1_001_val_1_bismark_bt2_pe_CpG_Cov_5x.bedgraph\r\n",
      "Meth1_R1_001_val_1_bismark_bt2_pe_CpG_Cov_5x.sort.bedgraph\r\n",
      "Meth2_R1_001_val_1_bismark_bt2_pe..CpG_report.merged_CpG_evidence.cov\r\n",
      "Meth2_R1_001_val_1_bismark_bt2_pe._5x.tab\r\n",
      "Meth2_R1_001_val_1_bismark_bt2_pe_CpG_Cov.bedgraph\r\n",
      "Meth2_R1_001_val_1_bismark_bt2_pe_CpG_Cov.sort.bedgraph\r\n",
      "Meth2_R1_001_val_1_bismark_bt2_pe_CpG_Cov_5x.bedgraph\r\n",
      "Meth2_R1_001_val_1_bismark_bt2_pe_CpG_Cov_5x.sort.bedgraph\r\n",
      "Meth3_R1_001_val_1_bismark_bt2_pe..CpG_report.merged_CpG_evidence.cov\r\n",
      "Meth3_R1_001_val_1_bismark_bt2_pe._5x.tab\r\n",
      "Meth3_R1_001_val_1_bismark_bt2_pe_CpG_Cov.bedgraph\r\n",
      "Meth3_R1_001_val_1_bismark_bt2_pe_CpG_Cov.sort.bedgraph\r\n",
      "Meth3_R1_001_val_1_bismark_bt2_pe_CpG_Cov_5x.bedgraph\r\n",
      "Meth3_R1_001_val_1_bismark_bt2_pe_CpG_Cov_5x.sort.bedgraph\r\n",
      "Meth4_R1_001_val_1_bismark_bt2_pe..CpG_report.merged_CpG_evidence.cov\r\n",
      "Meth4_R1_001_val_1_bismark_bt2_pe._5x.tab\r\n",
      "Meth4_R1_001_val_1_bismark_bt2_pe_CpG_Cov.bedgraph\r\n",
      "Meth4_R1_001_val_1_bismark_bt2_pe_CpG_Cov.sort.bedgraph\r\n",
      "Meth4_R1_001_val_1_bismark_bt2_pe_CpG_Cov_5x.bedgraph\r\n",
      "Meth4_R1_001_val_1_bismark_bt2_pe_CpG_Cov_5x.sort.bedgraph\r\n",
      "Meth5_R1_001_val_1_bismark_bt2_pe..CpG_report.merged_CpG_evidence.cov\r\n",
      "Meth5_R1_001_val_1_bismark_bt2_pe._5x.tab\r\n",
      "Meth5_R1_001_val_1_bismark_bt2_pe_CpG_Cov.bedgraph\r\n",
      "Meth5_R1_001_val_1_bismark_bt2_pe_CpG_Cov.sort.bedgraph\r\n",
      "Meth5_R1_001_val_1_bismark_bt2_pe_CpG_Cov_5x.bedgraph\r\n",
      "Meth5_R1_001_val_1_bismark_bt2_pe_CpG_Cov_5x.sort.bedgraph\r\n",
      "Meth6_R1_001_val_1_bismark_bt2_pe..CpG_report.merged_CpG_evidence.cov\r\n",
      "Meth6_R1_001_val_1_bismark_bt2_pe._5x.tab\r\n",
      "Meth6_R1_001_val_1_bismark_bt2_pe_CpG_Cov.bedgraph\r\n",
      "Meth6_R1_001_val_1_bismark_bt2_pe_CpG_Cov.sort.bedgraph\r\n",
      "Meth6_R1_001_val_1_bismark_bt2_pe_CpG_Cov_5x.bedgraph\r\n",
      "Meth6_R1_001_val_1_bismark_bt2_pe_CpG_Cov_5x.sort.bedgraph\r\n",
      "Meth7_R1_001_val_1_bismark_bt2_pe..CpG_report.merged_CpG_evidence.cov\r\n",
      "Meth7_R1_001_val_1_bismark_bt2_pe._5x.tab\r\n",
      "Meth7_R1_001_val_1_bismark_bt2_pe_CpG_Cov.bedgraph\r\n",
      "Meth7_R1_001_val_1_bismark_bt2_pe_CpG_Cov.sort.bedgraph\r\n",
      "Meth7_R1_001_val_1_bismark_bt2_pe_CpG_Cov_5x.bedgraph\r\n",
      "Meth7_R1_001_val_1_bismark_bt2_pe_CpG_Cov_5x.sort.bedgraph\r\n",
      "Meth8_R1_001_val_1_bismark_bt2_pe..CpG_report.merged_CpG_evidence.cov\r\n",
      "Meth8_R1_001_val_1_bismark_bt2_pe._5x.tab\r\n",
      "Meth8_R1_001_val_1_bismark_bt2_pe_CpG_Cov.bedgraph\r\n",
      "Meth8_R1_001_val_1_bismark_bt2_pe_CpG_Cov.sort.bedgraph\r\n",
      "Meth8_R1_001_val_1_bismark_bt2_pe_CpG_Cov_5x.bedgraph\r\n",
      "Meth8_R1_001_val_1_bismark_bt2_pe_CpG_Cov_5x.sort.bedgraph\r\n",
      "Meth9_R1_001_val_1_bismark_bt2_pe..CpG_report.merged_CpG_evidence.cov\r\n",
      "Meth9_R1_001_val_1_bismark_bt2_pe._5x.tab\r\n",
      "Meth9_R1_001_val_1_bismark_bt2_pe_CpG_Cov.bedgraph\r\n",
      "Meth9_R1_001_val_1_bismark_bt2_pe_CpG_Cov.sort.bedgraph\r\n",
      "Meth9_R1_001_val_1_bismark_bt2_pe_CpG_Cov_5x.bedgraph\r\n",
      "Meth9_R1_001_val_1_bismark_bt2_pe_CpG_Cov_5x.sort.bedgraph\r\n",
      "Pact_union_CpG_cov.bedgraph\r\n",
      "Pact_union_CpG_cov_5x.bedgraph\r\n"
     ]
    }
   ],
   "source": [
    "!ls"
   ]
  },
  {
   "cell_type": "code",
   "execution_count": 46,
   "metadata": {},
   "outputs": [
    {
     "name": "stdout",
     "output_type": "stream",
     "text": [
      "building file list ... \n",
      "38 files to consider\n",
      "Meth1_R1_001_val_1_bismark_bt2_pe_CpG_Cov.bedgraph\n",
      "   270401339 100%   43.72MB/s    0:00:05 (xfer#1, to-check=37/38)\n",
      "Meth1_R1_001_val_1_bismark_bt2_pe_CpG_Cov.sort.bedgraph\n",
      "   270401339 100%   35.86MB/s    0:00:07 (xfer#2, to-check=36/38)\n",
      "Meth2_R1_001_val_1_bismark_bt2_pe_CpG_Cov.bedgraph\n",
      "   276315286 100%   37.77MB/s    0:00:06 (xfer#3, to-check=33/38)\n",
      "Meth2_R1_001_val_1_bismark_bt2_pe_CpG_Cov.sort.bedgraph\n",
      "   276315286 100%   36.59MB/s    0:00:07 (xfer#4, to-check=32/38)\n",
      "Meth3_R1_001_val_1_bismark_bt2_pe_CpG_Cov.bedgraph\n",
      "   272898629 100%   42.76MB/s    0:00:06 (xfer#5, to-check=29/38)\n",
      "Meth3_R1_001_val_1_bismark_bt2_pe_CpG_Cov.sort.bedgraph\n",
      "   272898629 100%   41.59MB/s    0:00:06 (xfer#6, to-check=28/38)\n",
      "Meth4_R1_001_val_1_bismark_bt2_pe_CpG_Cov.bedgraph\n",
      "   130975319 100%   37.52MB/s    0:00:03 (xfer#7, to-check=25/38)\n",
      "Meth4_R1_001_val_1_bismark_bt2_pe_CpG_Cov.sort.bedgraph\n",
      "   130975319 100%   32.69MB/s    0:00:03 (xfer#8, to-check=24/38)\n",
      "Meth5_R1_001_val_1_bismark_bt2_pe_CpG_Cov.bedgraph\n",
      "   115540975 100%   31.27MB/s    0:00:03 (xfer#9, to-check=21/38)\n",
      "Meth5_R1_001_val_1_bismark_bt2_pe_CpG_Cov.sort.bedgraph\n",
      "   115540975 100%   33.75MB/s    0:00:03 (xfer#10, to-check=20/38)\n",
      "Meth6_R1_001_val_1_bismark_bt2_pe_CpG_Cov.bedgraph\n",
      "   118271592 100%   35.60MB/s    0:00:03 (xfer#11, to-check=17/38)\n",
      "Meth6_R1_001_val_1_bismark_bt2_pe_CpG_Cov.sort.bedgraph\n",
      "   118271592 100%   41.56MB/s    0:00:02 (xfer#12, to-check=16/38)\n",
      "Meth7_R1_001_val_1_bismark_bt2_pe_CpG_Cov.bedgraph\n",
      "   242226076 100%   38.18MB/s    0:00:06 (xfer#13, to-check=13/38)\n",
      "Meth7_R1_001_val_1_bismark_bt2_pe_CpG_Cov.sort.bedgraph\n",
      "   242226076 100%   37.72MB/s    0:00:06 (xfer#14, to-check=12/38)\n",
      "Meth8_R1_001_val_1_bismark_bt2_pe_CpG_Cov.bedgraph\n",
      "   159728769 100%   39.88MB/s    0:00:03 (xfer#15, to-check=9/38)\n",
      "Meth8_R1_001_val_1_bismark_bt2_pe_CpG_Cov.sort.bedgraph\n",
      "   159728769 100%   33.83MB/s    0:00:04 (xfer#16, to-check=8/38)\n",
      "Meth9_R1_001_val_1_bismark_bt2_pe_CpG_Cov.bedgraph\n",
      "   245247020 100%   38.51MB/s    0:00:06 (xfer#17, to-check=5/38)\n",
      "Meth9_R1_001_val_1_bismark_bt2_pe_CpG_Cov.sort.bedgraph\n",
      "   245247020 100%   41.24MB/s    0:00:05 (xfer#18, to-check=4/38)\n",
      "Pact_union_CpG_cov.bedgraph\n",
      "   493680379 100%   40.71MB/s    0:00:11 (xfer#19, to-check=1/38)\n",
      "\n",
      "sent 4157400058 bytes  received 552 bytes  43532990.68 bytes/sec\n",
      "total size is 6566800541  speedup is 1.58\n"
     ]
    }
   ],
   "source": [
    "!rsync --archive --progress --verbose *.bedgraph \\\n",
    "/Volumes/web/metacarcinus/FROGER_meth_compare/20200903/"
   ]
  },
  {
   "cell_type": "code",
   "execution_count": 63,
   "metadata": {},
   "outputs": [
    {
     "name": "stdout",
     "output_type": "stream",
     "text": [
      "building file list ... \n",
      "58 files to consider\n",
      "Meth1_R1_001_val_1_bismark_bt2_pe_CpG_Meth.bedgraph\n",
      "   272233221 100%   43.81MB/s    0:00:05 (xfer#1, to-check=53/58)\n",
      "Meth1_R1_001_val_1_bismark_bt2_pe_CpG_Meth.sort.bedgraph\n",
      "   272233221 100%   38.30MB/s    0:00:06 (xfer#2, to-check=52/58)\n",
      "Meth2_R1_001_val_1_bismark_bt2_pe_CpG_Meth.bedgraph\n",
      "   277988901 100%   38.73MB/s    0:00:06 (xfer#3, to-check=47/58)\n",
      "Meth2_R1_001_val_1_bismark_bt2_pe_CpG_Meth.sort.bedgraph\n",
      "   277988901 100%   38.75MB/s    0:00:06 (xfer#4, to-check=46/58)\n",
      "Meth3_R1_001_val_1_bismark_bt2_pe_CpG_Meth.bedgraph\n",
      "   274852965 100%   34.37MB/s    0:00:07 (xfer#5, to-check=41/58)\n",
      "Meth3_R1_001_val_1_bismark_bt2_pe_CpG_Meth.sort.bedgraph\n",
      "   274852965 100%   39.98MB/s    0:00:06 (xfer#6, to-check=40/58)\n",
      "Meth4_R1_001_val_1_bismark_bt2_pe_CpG_Meth.bedgraph\n",
      "   133730046 100%   36.69MB/s    0:00:03 (xfer#7, to-check=35/58)\n",
      "Meth4_R1_001_val_1_bismark_bt2_pe_CpG_Meth.sort.bedgraph\n",
      "   133730046 100%   36.46MB/s    0:00:03 (xfer#8, to-check=34/58)\n",
      "Meth5_R1_001_val_1_bismark_bt2_pe_CpG_Meth.bedgraph\n",
      "   118369689 100%   36.26MB/s    0:00:03 (xfer#9, to-check=29/58)\n",
      "Meth5_R1_001_val_1_bismark_bt2_pe_CpG_Meth.sort.bedgraph\n",
      "   118369689 100%   42.55MB/s    0:00:02 (xfer#10, to-check=28/58)\n",
      "Meth6_R1_001_val_1_bismark_bt2_pe_CpG_Meth.bedgraph\n",
      "   120870203 100%   34.55MB/s    0:00:03 (xfer#11, to-check=23/58)\n",
      "Meth6_R1_001_val_1_bismark_bt2_pe_CpG_Meth.sort.bedgraph\n",
      "   120870203 100%   37.29MB/s    0:00:03 (xfer#12, to-check=22/58)\n",
      "Meth7_R1_001_val_1_bismark_bt2_pe_CpG_Meth.bedgraph\n",
      "   244981363 100%   41.23MB/s    0:00:05 (xfer#13, to-check=17/58)\n",
      "Meth7_R1_001_val_1_bismark_bt2_pe_CpG_Meth.sort.bedgraph\n",
      "   244981363 100%   43.73MB/s    0:00:05 (xfer#14, to-check=16/58)\n",
      "Meth8_R1_001_val_1_bismark_bt2_pe_CpG_Meth.bedgraph\n",
      "   161520087 100%   39.36MB/s    0:00:03 (xfer#15, to-check=11/58)\n",
      "Meth8_R1_001_val_1_bismark_bt2_pe_CpG_Meth.sort.bedgraph\n",
      "   161520087 100%   33.56MB/s    0:00:04 (xfer#16, to-check=10/58)\n",
      "Meth9_R1_001_val_1_bismark_bt2_pe_CpG_Meth.bedgraph\n",
      "   248224715 100%   39.97MB/s    0:00:05 (xfer#17, to-check=5/58)\n",
      "Meth9_R1_001_val_1_bismark_bt2_pe_CpG_Meth.sort.bedgraph\n",
      "   248224715 100%   37.94MB/s    0:00:06 (xfer#18, to-check=4/58)\n",
      "Pact_union_Meth.bedgraph\n",
      "   514846564 100%   41.09MB/s    0:00:11 (xfer#19, to-check=1/58)\n",
      "_CpG_Meth.sort.bedgraph\n",
      "   248224715 100%   37.29MB/s    0:00:06 (xfer#20, to-check=0/58)\n",
      "\n",
      "sent 4469162021 bytes  received 688 bytes  44469280.69 bytes/sec\n",
      "total size is 11035414200  speedup is 2.47\n"
     ]
    }
   ],
   "source": [
    "!rsync --archive --progress --verbose *.bedgraph \\\n",
    "/Volumes/web/metacarcinus/FROGER_meth_compare/20200903/"
   ]
  },
  {
   "cell_type": "markdown",
   "metadata": {},
   "source": [
    "bedgraphs (unsorted and sorted ) available @ https://gannet.fish.washington.edu/metacarcinus/FROGER_meth_compare/20200424/  \n",
    "\n",
    "\n",
    "union output available @ https://gannet.fish.washington.edu/metacarcinus/FROGER_meth_compare/20200424/10-unionbedg/\n"
   ]
  }
 ],
 "metadata": {
  "kernelspec": {
   "display_name": "Python 3",
   "language": "python",
   "name": "python3"
  },
  "language_info": {
   "codemirror_mode": {
    "name": "ipython",
    "version": 3
   },
   "file_extension": ".py",
   "mimetype": "text/x-python",
   "name": "python",
   "nbconvert_exporter": "python",
   "pygments_lexer": "ipython3",
   "version": "3.6.8"
  }
 },
 "nbformat": 4,
 "nbformat_minor": 2
}
